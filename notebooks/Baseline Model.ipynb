{
 "cells": [
  {
   "cell_type": "code",
   "execution_count": 1,
   "id": "f1fc05b0-a636-4996-96ac-337e73750322",
   "metadata": {
    "tags": []
   },
   "outputs": [],
   "source": [
    "import pandas as pd\n",
    "import numpy as np\n",
    "import seaborn as sns\n",
    "import matplotlib.pyplot as plt"
   ]
  },
  {
   "cell_type": "code",
   "execution_count": 2,
   "id": "d192ec03-e40d-43b2-94a6-5a353ec5b3b2",
   "metadata": {
    "tags": []
   },
   "outputs": [],
   "source": [
    "bcn_original = pd.read_csv('../data/listings_bcn.csv')\n",
    "scraped_host_type = pd.read_csv('../data/airbnb2.csv')"
   ]
  },
  {
   "cell_type": "code",
   "execution_count": 3,
   "id": "fdccb77a-9703-407a-af96-69469b7f70cc",
   "metadata": {
    "tags": []
   },
   "outputs": [],
   "source": [
    "scraped_host_type.rename(columns = {'url':'listing_url'}, inplace = True)"
   ]
  },
  {
   "cell_type": "code",
   "execution_count": 4,
   "id": "aac3088b-3a5d-4eb8-ae39-985ee7c20064",
   "metadata": {
    "tags": []
   },
   "outputs": [],
   "source": [
    "bcn=bcn_original.merge(scraped_host_type, on='listing_url', how='outer')"
   ]
  },
  {
   "cell_type": "code",
   "execution_count": 5,
   "id": "93244153-94fc-4124-ad64-7bdcd30dd3d1",
   "metadata": {
    "tags": []
   },
   "outputs": [],
   "source": [
    "bcn = bcn.drop(['Unnamed: 0'], axis=1)"
   ]
  },
  {
   "cell_type": "code",
   "execution_count": 6,
   "id": "4ab6e78b-8a72-4873-b47b-66923faaf5a1",
   "metadata": {
    "tags": []
   },
   "outputs": [],
   "source": [
    "# removing all rows with NaN values in host_type column\n",
    "bcn = bcn.dropna(subset=['host_type'])"
   ]
  },
  {
   "cell_type": "code",
   "execution_count": 7,
   "id": "9dfe292c-7ed5-443c-bdc4-f2ba5a34a24d",
   "metadata": {
    "tags": []
   },
   "outputs": [],
   "source": [
    "# removing all rows with not_found values in host_type column\n",
    "bcn = bcn[bcn['host_type']!='not_found']"
   ]
  },
  {
   "cell_type": "code",
   "execution_count": 8,
   "id": "d741118e-d7a0-4fd9-ae50-5c248e380769",
   "metadata": {
    "tags": []
   },
   "outputs": [
    {
     "data": {
      "text/plain": [
       "count    11340.000000\n",
       "mean       160.578042\n",
       "std       1116.507782\n",
       "min          0.000000\n",
       "25%         50.000000\n",
       "50%        100.000000\n",
       "75%        165.000000\n",
       "max      90000.000000\n",
       "Name: price, dtype: float64"
      ]
     },
     "execution_count": 8,
     "metadata": {},
     "output_type": "execute_result"
    }
   ],
   "source": [
    "bcn['price'] = bcn['price'].str[1:]\n",
    "bcn['price'] = bcn['price'].str.replace(',','')\n",
    "bcn['price'] = pd.to_numeric(bcn['price'])\n",
    "bcn['price'].describe()"
   ]
  },
  {
   "cell_type": "code",
   "execution_count": 9,
   "id": "2fff2cd3-8cf8-49e0-a37d-d62b12b2a533",
   "metadata": {
    "tags": []
   },
   "outputs": [
    {
     "name": "stdout",
     "output_type": "stream",
     "text": [
      "<class 'pandas.core.frame.DataFrame'>\n",
      "Index: 11340 entries, 0 to 11453\n",
      "Data columns (total 76 columns):\n",
      " #   Column                                        Non-Null Count  Dtype  \n",
      "---  ------                                        --------------  -----  \n",
      " 0   id                                            11340 non-null  int64  \n",
      " 1   listing_url                                   11340 non-null  object \n",
      " 2   scrape_id                                     11340 non-null  int64  \n",
      " 3   last_scraped                                  11340 non-null  object \n",
      " 4   source                                        11340 non-null  object \n",
      " 5   name                                          11334 non-null  object \n",
      " 6   description                                   11285 non-null  object \n",
      " 7   neighborhood_overview                         6860 non-null   object \n",
      " 8   picture_url                                   11340 non-null  object \n",
      " 9   host_id                                       11340 non-null  int64  \n",
      " 10  host_url                                      11340 non-null  object \n",
      " 11  host_name                                     11338 non-null  object \n",
      " 12  host_since                                    11338 non-null  object \n",
      " 13  host_location                                 8838 non-null   object \n",
      " 14  host_about                                    7265 non-null   object \n",
      " 15  host_response_time                            9292 non-null   object \n",
      " 16  host_response_rate                            9292 non-null   object \n",
      " 17  host_acceptance_rate                          9655 non-null   object \n",
      " 18  host_is_superhost                             11339 non-null  object \n",
      " 19  host_thumbnail_url                            11338 non-null  object \n",
      " 20  host_picture_url                              11338 non-null  object \n",
      " 21  host_neighbourhood                            6690 non-null   object \n",
      " 22  host_listings_count                           11338 non-null  float64\n",
      " 23  host_total_listings_count                     11338 non-null  float64\n",
      " 24  host_verifications                            11338 non-null  object \n",
      " 25  host_has_profile_pic                          11338 non-null  object \n",
      " 26  host_identity_verified                        11338 non-null  object \n",
      " 27  neighbourhood                                 6860 non-null   object \n",
      " 28  neighbourhood_cleansed                        11340 non-null  object \n",
      " 29  neighbourhood_group_cleansed                  11340 non-null  object \n",
      " 30  latitude                                      11340 non-null  float64\n",
      " 31  longitude                                     11340 non-null  float64\n",
      " 32  property_type                                 11340 non-null  object \n",
      " 33  room_type                                     11340 non-null  object \n",
      " 34  accommodates                                  11340 non-null  int64  \n",
      " 35  bathrooms                                     0 non-null      float64\n",
      " 36  bathrooms_text                                11334 non-null  object \n",
      " 37  bedrooms                                      10946 non-null  float64\n",
      " 38  beds                                          11149 non-null  float64\n",
      " 39  amenities                                     11340 non-null  object \n",
      " 40  price                                         11340 non-null  float64\n",
      " 41  minimum_nights                                11340 non-null  int64  \n",
      " 42  maximum_nights                                11340 non-null  int64  \n",
      " 43  minimum_minimum_nights                        11339 non-null  float64\n",
      " 44  maximum_minimum_nights                        11339 non-null  float64\n",
      " 45  minimum_maximum_nights                        11339 non-null  float64\n",
      " 46  maximum_maximum_nights                        11339 non-null  float64\n",
      " 47  minimum_nights_avg_ntm                        11339 non-null  float64\n",
      " 48  maximum_nights_avg_ntm                        11339 non-null  float64\n",
      " 49  calendar_updated                              0 non-null      float64\n",
      " 50  has_availability                              11340 non-null  object \n",
      " 51  availability_30                               11340 non-null  int64  \n",
      " 52  availability_60                               11340 non-null  int64  \n",
      " 53  availability_90                               11340 non-null  int64  \n",
      " 54  availability_365                              11340 non-null  int64  \n",
      " 55  calendar_last_scraped                         11340 non-null  object \n",
      " 56  number_of_reviews                             11340 non-null  int64  \n",
      " 57  number_of_reviews_ltm                         11340 non-null  int64  \n",
      " 58  number_of_reviews_l30d                        11340 non-null  int64  \n",
      " 59  first_review                                  8929 non-null   object \n",
      " 60  last_review                                   8929 non-null   object \n",
      " 61  review_scores_rating                          8929 non-null   float64\n",
      " 62  review_scores_accuracy                        8870 non-null   float64\n",
      " 63  review_scores_cleanliness                     8870 non-null   float64\n",
      " 64  review_scores_checkin                         8866 non-null   float64\n",
      " 65  review_scores_communication                   8871 non-null   float64\n",
      " 66  review_scores_location                        8866 non-null   float64\n",
      " 67  review_scores_value                           8867 non-null   float64\n",
      " 68  license                                       7965 non-null   object \n",
      " 69  instant_bookable                              11340 non-null  object \n",
      " 70  calculated_host_listings_count                11340 non-null  int64  \n",
      " 71  calculated_host_listings_count_entire_homes   11340 non-null  int64  \n",
      " 72  calculated_host_listings_count_private_rooms  11340 non-null  int64  \n",
      " 73  calculated_host_listings_count_shared_rooms   11340 non-null  int64  \n",
      " 74  reviews_per_month                             8929 non-null   float64\n",
      " 75  host_type                                     11340 non-null  object \n",
      "dtypes: float64(23), int64(17), object(36)\n",
      "memory usage: 6.7+ MB\n"
     ]
    }
   ],
   "source": [
    "bcn.info()"
   ]
  },
  {
   "cell_type": "code",
   "execution_count": 10,
   "id": "cc9c805e-a2c7-4f57-b142-0d8553dba25c",
   "metadata": {
    "tags": []
   },
   "outputs": [],
   "source": [
    "def license_duplicates(array):\n",
    "    new_arr = []\n",
    "    for license in array:\n",
    "        if 'HUTB' in license:\n",
    "            new_arr.append(license)\n",
    "        elif 'HB' in license:\n",
    "            new_arr.append(license)\n",
    "        elif 'AJ' in license:\n",
    "            new_arr.append(license)\n",
    "    return new_arr"
   ]
  },
  {
   "cell_type": "code",
   "execution_count": 20,
   "id": "26ff3017-7e40-498a-9121-fa9aabfed7ed",
   "metadata": {
    "tags": []
   },
   "outputs": [],
   "source": [
    "duplicate_license = bcn[bcn.duplicated('license', keep=False)].copy()\n",
    "duplicate_license = duplicate_license['license'].dropna()\n",
    "duplicate_license_array = duplicate_license.unique()\n",
    "arr = duplicate_license_array[duplicate_license_array != 'Exempt']"
   ]
  },
  {
   "cell_type": "code",
   "execution_count": 21,
   "id": "34c88383-27cf-4a4e-bc53-00e193245f84",
   "metadata": {
    "tags": []
   },
   "outputs": [],
   "source": [
    "license_duplicates = license_duplicates(arr)"
   ]
  },
  {
   "cell_type": "code",
   "execution_count": 22,
   "id": "e1424fce-7d9d-487f-accb-91cf308a344e",
   "metadata": {
    "tags": []
   },
   "outputs": [],
   "source": [
    "bcn['license'] = bcn['license'].fillna('no license')"
   ]
  },
  {
   "cell_type": "code",
   "execution_count": 23,
   "id": "13313b04-b250-4a83-89ed-774e06bafe4e",
   "metadata": {
    "tags": []
   },
   "outputs": [],
   "source": [
    "def is_valid_license(license):\n",
    "    if license in license_duplicates:\n",
    "        return 'reuse'\n",
    "    if 'HUTB' in license:\n",
    "        return 'ok'\n",
    "    if 'HB' in license:\n",
    "        return 'ok'\n",
    "    if 'AJ' in license:\n",
    "        return 'ok'\n",
    "    elif 'exempt' in license.lower():\n",
    "        return 'claims exempt'\n",
    "    else:\n",
    "        return 'no license'"
   ]
  },
  {
   "cell_type": "code",
   "execution_count": 24,
   "id": "c6b2fdbb-787e-435c-94bd-d1b3ca2c2e75",
   "metadata": {
    "tags": []
   },
   "outputs": [],
   "source": [
    "bcn['status_license'] = bcn.apply(lambda row: is_valid_license(row['license']), axis=1)"
   ]
  },
  {
   "cell_type": "code",
   "execution_count": 25,
   "id": "9c71c82b-77fb-43de-8aea-543b0e6ad5f8",
   "metadata": {
    "tags": []
   },
   "outputs": [],
   "source": [
    "bcn['total_listings'] = bcn.groupby('host_id')['id'].transform('size')"
   ]
  },
  {
   "cell_type": "code",
   "execution_count": 26,
   "id": "c1c697be-4bd8-4f5f-a606-c9598f603ab1",
   "metadata": {
    "tags": []
   },
   "outputs": [],
   "source": [
    "def multi_listings(listings):\n",
    "    if listings == 1:\n",
    "        return 'single listing'\n",
    "    if listings > 1 and listings < 4:\n",
    "        return '2-3 listings'\n",
    "    if listings > 3 and listings < 6:\n",
    "        return '4-5 listings'\n",
    "    if listings > 5 and listings < 10:\n",
    "        return '6-9 listings'\n",
    "    if listings > 9 and listings < 20:\n",
    "        return '10-19 listings'\n",
    "    if listings > 19 and listings < 50:\n",
    "        return '20-49 listings'\n",
    "    if listings > 49:\n",
    "        return '50 or more listings'"
   ]
  },
  {
   "cell_type": "code",
   "execution_count": 27,
   "id": "dc392d20-a377-4547-907f-97ba3cb73115",
   "metadata": {
    "tags": []
   },
   "outputs": [],
   "source": [
    "bcn['multi_listings'] = bcn.apply(lambda row: multi_listings(row['total_listings']), axis=1)"
   ]
  },
  {
   "cell_type": "code",
   "execution_count": 29,
   "id": "9c648e04-b339-4df1-8500-8328c6aa2f17",
   "metadata": {
    "tags": []
   },
   "outputs": [
    {
     "data": {
      "text/plain": [
       "Index(['id', 'listing_url', 'scrape_id', 'last_scraped', 'source', 'name',\n",
       "       'description', 'neighborhood_overview', 'picture_url', 'host_id',\n",
       "       'host_url', 'host_name', 'host_since', 'host_location', 'host_about',\n",
       "       'host_response_time', 'host_response_rate', 'host_acceptance_rate',\n",
       "       'host_is_superhost', 'host_thumbnail_url', 'host_picture_url',\n",
       "       'host_neighbourhood', 'host_listings_count',\n",
       "       'host_total_listings_count', 'host_verifications',\n",
       "       'host_has_profile_pic', 'host_identity_verified', 'neighbourhood',\n",
       "       'neighbourhood_cleansed', 'neighbourhood_group_cleansed', 'latitude',\n",
       "       'longitude', 'property_type', 'room_type', 'accommodates', 'bathrooms',\n",
       "       'bathrooms_text', 'bedrooms', 'beds', 'amenities', 'price',\n",
       "       'minimum_nights', 'maximum_nights', 'minimum_minimum_nights',\n",
       "       'maximum_minimum_nights', 'minimum_maximum_nights',\n",
       "       'maximum_maximum_nights', 'minimum_nights_avg_ntm',\n",
       "       'maximum_nights_avg_ntm', 'calendar_updated', 'has_availability',\n",
       "       'availability_30', 'availability_60', 'availability_90',\n",
       "       'availability_365', 'calendar_last_scraped', 'number_of_reviews',\n",
       "       'number_of_reviews_ltm', 'number_of_reviews_l30d', 'first_review',\n",
       "       'last_review', 'review_scores_rating', 'review_scores_accuracy',\n",
       "       'review_scores_cleanliness', 'review_scores_checkin',\n",
       "       'review_scores_communication', 'review_scores_location',\n",
       "       'review_scores_value', 'license', 'instant_bookable',\n",
       "       'calculated_host_listings_count',\n",
       "       'calculated_host_listings_count_entire_homes',\n",
       "       'calculated_host_listings_count_private_rooms',\n",
       "       'calculated_host_listings_count_shared_rooms', 'reviews_per_month',\n",
       "       'host_type', 'status_license', 'total_listings', 'multi_listings'],\n",
       "      dtype='object')"
      ]
     },
     "execution_count": 29,
     "metadata": {},
     "output_type": "execute_result"
    }
   ],
   "source": [
    "bcn.columns"
   ]
  },
  {
   "cell_type": "code",
   "execution_count": 31,
   "id": "cf8fd6e3-4a17-43d8-9b96-054e2924e2fe",
   "metadata": {
    "tags": []
   },
   "outputs": [],
   "source": [
    "bcn_bl = bcn.drop(['id', 'listing_url', 'scrape_id', 'last_scraped', 'source', 'name', 'description', 'neighborhood_overview', 'picture_url', 'host_id', 'host_url', 'host_name', 'host_about', 'host_thumbnail_url', 'host_picture_url', 'neighbourhood', 'neighbourhood_cleansed', 'bathrooms', 'minimum_nights', 'maximum_nights', 'maximum_minimum_nights', 'minimum_maximum_nights', 'minimum_nights_avg_ntm',\n",
    "       'maximum_nights_avg_ntm', 'calendar_updated', 'has_availability', 'availability_30', 'availability_60', 'availability_90', 'calendar_last_scraped', 'calculated_host_listings_count','calculated_host_listings_count_entire_homes','calculated_host_listings_count_private_rooms','calculated_host_listings_count_shared_rooms', 'host_listings_count',\n",
    "       'host_total_listings_count'], axis=1)"
   ]
  },
  {
   "cell_type": "code",
   "execution_count": 33,
   "id": "a7a6e257-248d-4bfe-a1e0-5ddf1f9541df",
   "metadata": {
    "tags": []
   },
   "outputs": [
    {
     "data": {
      "text/plain": [
       "(11340, 43)"
      ]
     },
     "execution_count": 33,
     "metadata": {},
     "output_type": "execute_result"
    }
   ],
   "source": [
    "bcn_bl.shape"
   ]
  },
  {
   "cell_type": "markdown",
   "id": "904f8a77-d44d-4954-8da0-81d1c7c5d8cd",
   "metadata": {},
   "source": [
    "## Add categories:\n",
    "\n",
    "\n",
    "**OK:**\n",
    "- claim commercial, is commercial, everything ok, maybe reuse of license\n",
    "- claim private, is private, everything ok\n",
    "- no license or claim exempt, but don't offer short-term-stay (<32 days), therefore ok\n",
    "\n",
    "**NOT OK:**\n",
    "- no license or claim exempt, but offers short-term-stay(<32 days), therefore not ok\n",
    "- claim private, but seemingly commercial\n",
    "- multiple conditions which are not ok\n",
    "\n",
    "### alternatively:\n",
    "**suspicous** vs. **compliant**"
   ]
  },
  {
   "cell_type": "markdown",
   "id": "844fe024-2bfe-478b-bd24-4997ba8b8b52",
   "metadata": {},
   "source": [
    "#### To do:\n",
    "- define commercial vs. private, add column with classification according to our definition\n",
    "- define conditions per category and add new column with category\n",
    "- train test split\n",
    "- preprocessing\n",
    "- baseline model"
   ]
  },
  {
   "cell_type": "markdown",
   "id": "c7beb078-34a5-44dd-9949-3f55af797e25",
   "metadata": {},
   "source": [
    "## categories according to clustering:\n",
    "- Fifth, Second: commercial, many listings, licenses and short-term\n",
    "- Fourth: commercial, many listings, no licenses and long-stay (maybe for students)\n",
    "- Third: commercial, many listings, reuse of licence, rooms, long-term, cheap (hostel for the weekend)\n",
    "- First: private, no license but long term (ok)\n",
    "- Sixth: private, no license, short term (suspicious)"
   ]
  },
  {
   "cell_type": "code",
   "execution_count": null,
   "id": "a5f36b05-33d8-4ead-9a5f-681c8378e756",
   "metadata": {},
   "outputs": [],
   "source": []
  }
 ],
 "metadata": {
  "kernelspec": {
   "display_name": "Python 3 (ipykernel)",
   "language": "python",
   "name": "python3"
  },
  "language_info": {
   "codemirror_mode": {
    "name": "ipython",
    "version": 3
   },
   "file_extension": ".py",
   "mimetype": "text/x-python",
   "name": "python",
   "nbconvert_exporter": "python",
   "pygments_lexer": "ipython3",
   "version": "3.9.8"
  }
 },
 "nbformat": 4,
 "nbformat_minor": 5
}
