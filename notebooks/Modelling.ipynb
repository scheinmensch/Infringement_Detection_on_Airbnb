{
 "cells": [
  {
   "cell_type": "markdown",
   "id": "9b142c66-410a-42e6-9721-190a8e5a3fc9",
   "metadata": {},
   "source": [
    "by [scheinmensch](https://github.com/scheinmensch)\n",
    "\n",
    "In this notebook we are going to train our final model, hopefully with excellent results!"
   ]
  },
  {
   "cell_type": "code",
   "execution_count": 1,
   "id": "c9b4bb58-c00f-4239-b847-3820cd071df3",
   "metadata": {
    "tags": []
   },
   "outputs": [],
   "source": [
    "# import packages \n",
    "\n",
    "import pandas as pd\n",
    "import numpy as np\n",
    "import seaborn as sns\n",
    "import matplotlib.pyplot as plt\n",
    "from sklearn.pipeline import Pipeline\n",
    "from sklearn.compose import ColumnTransformer\n",
    "from sklearn.preprocessing import OneHotEncoder, StandardScaler\n",
    "from sklearn.preprocessing import LabelEncoder\n",
    "from sklearn.impute import SimpleImputer\n",
    "from sklearn.linear_model import LogisticRegression\n",
    "from sklearn.model_selection import train_test_split\n",
    "from sklearn.model_selection import GridSearchCV, RandomizedSearchCV\n",
    "from sklearn.model_selection import cross_val_predict, cross_val_score, cross_validate\n",
    "from sklearn.metrics import confusion_matrix, accuracy_score, recall_score, precision_score\n",
    "from sklearn.metrics import roc_auc_score, roc_curve\n",
    "from sklearn.ensemble import RandomForestClassifier\n",
    "from joblib import dump, load\n",
    "from xgboost import XGBClassifier\n",
    "from sklearn.neighbors import KNeighborsClassifier\n",
    "from sklearn.tree import DecisionTreeClassifier\n",
    "\n",
    "# define RSEED\n",
    "RSEED = 15\n",
    "\n",
    "# set color schemes\n",
    "c = ['#cbc0d3', '#efd3d7', '#feeafa', '#dee2ff', '#8e9aaf']\n",
    "cpal = ['#81B29A', '#89B499', '#91B698', '#99B898', '#A1B997', '#A9BB96', '#B1BD95', '#BABF95', '#C2C194', '#CAC393', '#D2C592', '#DAC691', '#E2C891', '#EACA90', '#F2CC8F']\n",
    "cpal2 = ['#F2CC8F', '#81B29A']\n",
    "\n",
    "# set configurations\n",
    "from sklearn import set_config\n",
    "set_config(display='diagram')\n",
    "\n",
    "# suppress warnings\n",
    "import warnings\n",
    "warnings.filterwarnings(\"ignore\")"
   ]
  },
  {
   "cell_type": "code",
   "execution_count": 2,
   "id": "edb91a6b-0b29-4b56-ab8e-6dfb667fce88",
   "metadata": {
    "tags": []
   },
   "outputs": [],
   "source": [
    "# load data\n",
    "bcn = pd.read_csv('../data/df_modelling.csv')"
   ]
  },
  {
   "cell_type": "code",
   "execution_count": 3,
   "id": "bb5df162-f885-42f3-b923-d36671dac8a0",
   "metadata": {
    "tags": []
   },
   "outputs": [
    {
     "data": {
      "text/html": [
       "<div>\n",
       "<style scoped>\n",
       "    .dataframe tbody tr th:only-of-type {\n",
       "        vertical-align: middle;\n",
       "    }\n",
       "\n",
       "    .dataframe tbody tr th {\n",
       "        vertical-align: top;\n",
       "    }\n",
       "\n",
       "    .dataframe thead th {\n",
       "        text-align: right;\n",
       "    }\n",
       "</style>\n",
       "<table border=\"1\" class=\"dataframe\">\n",
       "  <thead>\n",
       "    <tr style=\"text-align: right;\">\n",
       "      <th></th>\n",
       "      <th>Unnamed: 0</th>\n",
       "      <th>id</th>\n",
       "      <th>name</th>\n",
       "      <th>description</th>\n",
       "      <th>neighborhood_overview</th>\n",
       "      <th>picture_url</th>\n",
       "      <th>host_id</th>\n",
       "      <th>host_name</th>\n",
       "      <th>host_since</th>\n",
       "      <th>host_location</th>\n",
       "      <th>...</th>\n",
       "      <th>review_scores_accuracy</th>\n",
       "      <th>review_scores_cleanliness</th>\n",
       "      <th>review_scores_checkin</th>\n",
       "      <th>review_scores_communication</th>\n",
       "      <th>review_scores_location</th>\n",
       "      <th>review_scores_value</th>\n",
       "      <th>license</th>\n",
       "      <th>instant_bookable</th>\n",
       "      <th>host_type</th>\n",
       "      <th>suspicious_or_not</th>\n",
       "    </tr>\n",
       "  </thead>\n",
       "  <tbody>\n",
       "    <tr>\n",
       "      <th>0</th>\n",
       "      <td>0</td>\n",
       "      <td>13977576</td>\n",
       "      <td>Habitación individual es Barcelona</td>\n",
       "      <td>Mi alojamiento es bueno para aventureros y via...</td>\n",
       "      <td>NaN</td>\n",
       "      <td>https://a0.muscache.com/pictures/7a6e9767-bd4e...</td>\n",
       "      <td>64903899</td>\n",
       "      <td>Carolina</td>\n",
       "      <td>2016-03-29</td>\n",
       "      <td>Paris, France</td>\n",
       "      <td>...</td>\n",
       "      <td>NaN</td>\n",
       "      <td>NaN</td>\n",
       "      <td>NaN</td>\n",
       "      <td>NaN</td>\n",
       "      <td>NaN</td>\n",
       "      <td>NaN</td>\n",
       "      <td>NaN</td>\n",
       "      <td>f</td>\n",
       "      <td>private</td>\n",
       "      <td>1</td>\n",
       "    </tr>\n",
       "    <tr>\n",
       "      <th>1</th>\n",
       "      <td>1</td>\n",
       "      <td>42105584</td>\n",
       "      <td>Habitación M&amp;D</td>\n",
       "      <td>&lt;b&gt;License number&lt;/b&gt;&lt;br /&gt;Exempt</td>\n",
       "      <td>NaN</td>\n",
       "      <td>https://a0.muscache.com/pictures/7342e586-6ea5...</td>\n",
       "      <td>333969184</td>\n",
       "      <td>Midian</td>\n",
       "      <td>2020-02-06</td>\n",
       "      <td>Barcelona, Spain</td>\n",
       "      <td>...</td>\n",
       "      <td>NaN</td>\n",
       "      <td>NaN</td>\n",
       "      <td>NaN</td>\n",
       "      <td>NaN</td>\n",
       "      <td>NaN</td>\n",
       "      <td>NaN</td>\n",
       "      <td>Exempt</td>\n",
       "      <td>f</td>\n",
       "      <td>private</td>\n",
       "      <td>1</td>\n",
       "    </tr>\n",
       "    <tr>\n",
       "      <th>2</th>\n",
       "      <td>2</td>\n",
       "      <td>33727898</td>\n",
       "      <td>Spacious and bright apartment next to Plaza Es...</td>\n",
       "      <td>Hi friends! Welcome to this apartment located ...</td>\n",
       "      <td>The apartment is located in the Eixample quart...</td>\n",
       "      <td>https://a0.muscache.com/pictures/44066458-5997...</td>\n",
       "      <td>251710733</td>\n",
       "      <td>Magda</td>\n",
       "      <td>2019-03-28</td>\n",
       "      <td>NaN</td>\n",
       "      <td>...</td>\n",
       "      <td>4.97</td>\n",
       "      <td>4.97</td>\n",
       "      <td>5.00</td>\n",
       "      <td>5.00</td>\n",
       "      <td>4.83</td>\n",
       "      <td>4.73</td>\n",
       "      <td>HUTB-008684</td>\n",
       "      <td>f</td>\n",
       "      <td>private</td>\n",
       "      <td>1</td>\n",
       "    </tr>\n",
       "    <tr>\n",
       "      <th>3</th>\n",
       "      <td>3</td>\n",
       "      <td>44995311</td>\n",
       "      <td>Single Room, City Center, Private Bathroom</td>\n",
       "      <td>Goya Hostel is a hostel located in the center ...</td>\n",
       "      <td>The Eixample, which translates as \"widening\" b...</td>\n",
       "      <td>https://a0.muscache.com/pictures/af651bc2-8dff...</td>\n",
       "      <td>363074093</td>\n",
       "      <td>Hostal</td>\n",
       "      <td>2020-08-18</td>\n",
       "      <td>Barcelona, Spain</td>\n",
       "      <td>...</td>\n",
       "      <td>4.91</td>\n",
       "      <td>4.73</td>\n",
       "      <td>4.91</td>\n",
       "      <td>4.64</td>\n",
       "      <td>4.91</td>\n",
       "      <td>4.73</td>\n",
       "      <td>HUTB-265656</td>\n",
       "      <td>t</td>\n",
       "      <td>commercial</td>\n",
       "      <td>0</td>\n",
       "    </tr>\n",
       "    <tr>\n",
       "      <th>4</th>\n",
       "      <td>4</td>\n",
       "      <td>15763812</td>\n",
       "      <td>HABITACIÓN PLAZA ESPAÑA</td>\n",
       "      <td>Lugares de interés: Poble Espanyol, CaixaForum...</td>\n",
       "      <td>NaN</td>\n",
       "      <td>https://a0.muscache.com/pictures/1bccbbbc-4b78...</td>\n",
       "      <td>101927904</td>\n",
       "      <td>James</td>\n",
       "      <td>2016-10-31</td>\n",
       "      <td>Barcelona, Spain</td>\n",
       "      <td>...</td>\n",
       "      <td>4.90</td>\n",
       "      <td>4.94</td>\n",
       "      <td>4.96</td>\n",
       "      <td>4.67</td>\n",
       "      <td>4.88</td>\n",
       "      <td>4.60</td>\n",
       "      <td>Exempt</td>\n",
       "      <td>t</td>\n",
       "      <td>private</td>\n",
       "      <td>1</td>\n",
       "    </tr>\n",
       "  </tbody>\n",
       "</table>\n",
       "<p>5 rows × 53 columns</p>\n",
       "</div>"
      ],
      "text/plain": [
       "   Unnamed: 0        id                                               name  \\\n",
       "0           0  13977576                 Habitación individual es Barcelona   \n",
       "1           1  42105584                                     Habitación M&D   \n",
       "2           2  33727898  Spacious and bright apartment next to Plaza Es...   \n",
       "3           3  44995311         Single Room, City Center, Private Bathroom   \n",
       "4           4  15763812                            HABITACIÓN PLAZA ESPAÑA   \n",
       "\n",
       "                                         description  \\\n",
       "0  Mi alojamiento es bueno para aventureros y via...   \n",
       "1                  <b>License number</b><br />Exempt   \n",
       "2  Hi friends! Welcome to this apartment located ...   \n",
       "3  Goya Hostel is a hostel located in the center ...   \n",
       "4  Lugares de interés: Poble Espanyol, CaixaForum...   \n",
       "\n",
       "                               neighborhood_overview  \\\n",
       "0                                                NaN   \n",
       "1                                                NaN   \n",
       "2  The apartment is located in the Eixample quart...   \n",
       "3  The Eixample, which translates as \"widening\" b...   \n",
       "4                                                NaN   \n",
       "\n",
       "                                         picture_url    host_id host_name  \\\n",
       "0  https://a0.muscache.com/pictures/7a6e9767-bd4e...   64903899  Carolina   \n",
       "1  https://a0.muscache.com/pictures/7342e586-6ea5...  333969184    Midian   \n",
       "2  https://a0.muscache.com/pictures/44066458-5997...  251710733     Magda   \n",
       "3  https://a0.muscache.com/pictures/af651bc2-8dff...  363074093    Hostal   \n",
       "4  https://a0.muscache.com/pictures/1bccbbbc-4b78...  101927904     James   \n",
       "\n",
       "   host_since     host_location  ... review_scores_accuracy  \\\n",
       "0  2016-03-29     Paris, France  ...                    NaN   \n",
       "1  2020-02-06  Barcelona, Spain  ...                    NaN   \n",
       "2  2019-03-28               NaN  ...                   4.97   \n",
       "3  2020-08-18  Barcelona, Spain  ...                   4.91   \n",
       "4  2016-10-31  Barcelona, Spain  ...                   4.90   \n",
       "\n",
       "  review_scores_cleanliness review_scores_checkin review_scores_communication  \\\n",
       "0                       NaN                   NaN                         NaN   \n",
       "1                       NaN                   NaN                         NaN   \n",
       "2                      4.97                  5.00                        5.00   \n",
       "3                      4.73                  4.91                        4.64   \n",
       "4                      4.94                  4.96                        4.67   \n",
       "\n",
       "  review_scores_location review_scores_value      license instant_bookable  \\\n",
       "0                    NaN                 NaN          NaN                f   \n",
       "1                    NaN                 NaN       Exempt                f   \n",
       "2                   4.83                4.73  HUTB-008684                f   \n",
       "3                   4.91                4.73  HUTB-265656                t   \n",
       "4                   4.88                4.60       Exempt                t   \n",
       "\n",
       "    host_type  suspicious_or_not  \n",
       "0     private                  1  \n",
       "1     private                  1  \n",
       "2     private                  1  \n",
       "3  commercial                  0  \n",
       "4     private                  1  \n",
       "\n",
       "[5 rows x 53 columns]"
      ]
     },
     "execution_count": 3,
     "metadata": {},
     "output_type": "execute_result"
    }
   ],
   "source": [
    "# first look\n",
    "bcn.head()"
   ]
  },
  {
   "cell_type": "code",
   "execution_count": 4,
   "id": "c0e0df5b-f3d6-49dc-aa82-4c37e169beb0",
   "metadata": {
    "tags": []
   },
   "outputs": [
    {
     "data": {
      "text/html": [
       "<div>\n",
       "<style scoped>\n",
       "    .dataframe tbody tr th:only-of-type {\n",
       "        vertical-align: middle;\n",
       "    }\n",
       "\n",
       "    .dataframe tbody tr th {\n",
       "        vertical-align: top;\n",
       "    }\n",
       "\n",
       "    .dataframe thead th {\n",
       "        text-align: right;\n",
       "    }\n",
       "</style>\n",
       "<table border=\"1\" class=\"dataframe\">\n",
       "  <thead>\n",
       "    <tr style=\"text-align: right;\">\n",
       "      <th></th>\n",
       "      <th>Amount</th>\n",
       "      <th>Percentage</th>\n",
       "    </tr>\n",
       "  </thead>\n",
       "  <tbody>\n",
       "    <tr>\n",
       "      <th>name</th>\n",
       "      <td>6</td>\n",
       "      <td>0.05</td>\n",
       "    </tr>\n",
       "    <tr>\n",
       "      <th>description</th>\n",
       "      <td>55</td>\n",
       "      <td>0.49</td>\n",
       "    </tr>\n",
       "    <tr>\n",
       "      <th>neighborhood_overview</th>\n",
       "      <td>4480</td>\n",
       "      <td>39.51</td>\n",
       "    </tr>\n",
       "    <tr>\n",
       "      <th>host_name</th>\n",
       "      <td>2</td>\n",
       "      <td>0.02</td>\n",
       "    </tr>\n",
       "    <tr>\n",
       "      <th>host_since</th>\n",
       "      <td>2</td>\n",
       "      <td>0.02</td>\n",
       "    </tr>\n",
       "    <tr>\n",
       "      <th>host_location</th>\n",
       "      <td>2502</td>\n",
       "      <td>22.06</td>\n",
       "    </tr>\n",
       "    <tr>\n",
       "      <th>host_about</th>\n",
       "      <td>4075</td>\n",
       "      <td>35.93</td>\n",
       "    </tr>\n",
       "    <tr>\n",
       "      <th>host_response_time</th>\n",
       "      <td>2048</td>\n",
       "      <td>18.06</td>\n",
       "    </tr>\n",
       "    <tr>\n",
       "      <th>host_response_rate</th>\n",
       "      <td>2048</td>\n",
       "      <td>18.06</td>\n",
       "    </tr>\n",
       "    <tr>\n",
       "      <th>host_acceptance_rate</th>\n",
       "      <td>1685</td>\n",
       "      <td>14.86</td>\n",
       "    </tr>\n",
       "    <tr>\n",
       "      <th>host_is_superhost</th>\n",
       "      <td>1</td>\n",
       "      <td>0.01</td>\n",
       "    </tr>\n",
       "    <tr>\n",
       "      <th>host_thumbnail_url</th>\n",
       "      <td>2</td>\n",
       "      <td>0.02</td>\n",
       "    </tr>\n",
       "    <tr>\n",
       "      <th>host_picture_url</th>\n",
       "      <td>2</td>\n",
       "      <td>0.02</td>\n",
       "    </tr>\n",
       "    <tr>\n",
       "      <th>host_neighbourhood</th>\n",
       "      <td>4650</td>\n",
       "      <td>41.01</td>\n",
       "    </tr>\n",
       "    <tr>\n",
       "      <th>host_listings_count</th>\n",
       "      <td>2</td>\n",
       "      <td>0.02</td>\n",
       "    </tr>\n",
       "    <tr>\n",
       "      <th>host_total_listings_count</th>\n",
       "      <td>2</td>\n",
       "      <td>0.02</td>\n",
       "    </tr>\n",
       "    <tr>\n",
       "      <th>host_verifications</th>\n",
       "      <td>2</td>\n",
       "      <td>0.02</td>\n",
       "    </tr>\n",
       "    <tr>\n",
       "      <th>host_has_profile_pic</th>\n",
       "      <td>2</td>\n",
       "      <td>0.02</td>\n",
       "    </tr>\n",
       "    <tr>\n",
       "      <th>host_identity_verified</th>\n",
       "      <td>2</td>\n",
       "      <td>0.02</td>\n",
       "    </tr>\n",
       "    <tr>\n",
       "      <th>neighbourhood</th>\n",
       "      <td>4480</td>\n",
       "      <td>39.51</td>\n",
       "    </tr>\n",
       "    <tr>\n",
       "      <th>bathrooms</th>\n",
       "      <td>11340</td>\n",
       "      <td>100.00</td>\n",
       "    </tr>\n",
       "    <tr>\n",
       "      <th>bathrooms_text</th>\n",
       "      <td>6</td>\n",
       "      <td>0.05</td>\n",
       "    </tr>\n",
       "    <tr>\n",
       "      <th>bedrooms</th>\n",
       "      <td>394</td>\n",
       "      <td>3.47</td>\n",
       "    </tr>\n",
       "    <tr>\n",
       "      <th>beds</th>\n",
       "      <td>191</td>\n",
       "      <td>1.68</td>\n",
       "    </tr>\n",
       "    <tr>\n",
       "      <th>calendar_updated</th>\n",
       "      <td>11340</td>\n",
       "      <td>100.00</td>\n",
       "    </tr>\n",
       "    <tr>\n",
       "      <th>review_scores_rating</th>\n",
       "      <td>2411</td>\n",
       "      <td>21.26</td>\n",
       "    </tr>\n",
       "    <tr>\n",
       "      <th>review_scores_accuracy</th>\n",
       "      <td>2470</td>\n",
       "      <td>21.78</td>\n",
       "    </tr>\n",
       "    <tr>\n",
       "      <th>review_scores_cleanliness</th>\n",
       "      <td>2470</td>\n",
       "      <td>21.78</td>\n",
       "    </tr>\n",
       "    <tr>\n",
       "      <th>review_scores_checkin</th>\n",
       "      <td>2474</td>\n",
       "      <td>21.82</td>\n",
       "    </tr>\n",
       "    <tr>\n",
       "      <th>review_scores_communication</th>\n",
       "      <td>2469</td>\n",
       "      <td>21.77</td>\n",
       "    </tr>\n",
       "    <tr>\n",
       "      <th>review_scores_location</th>\n",
       "      <td>2474</td>\n",
       "      <td>21.82</td>\n",
       "    </tr>\n",
       "    <tr>\n",
       "      <th>review_scores_value</th>\n",
       "      <td>2473</td>\n",
       "      <td>21.81</td>\n",
       "    </tr>\n",
       "    <tr>\n",
       "      <th>license</th>\n",
       "      <td>3375</td>\n",
       "      <td>29.76</td>\n",
       "    </tr>\n",
       "  </tbody>\n",
       "</table>\n",
       "</div>"
      ],
      "text/plain": [
       "                             Amount  Percentage\n",
       "name                              6        0.05\n",
       "description                      55        0.49\n",
       "neighborhood_overview          4480       39.51\n",
       "host_name                         2        0.02\n",
       "host_since                        2        0.02\n",
       "host_location                  2502       22.06\n",
       "host_about                     4075       35.93\n",
       "host_response_time             2048       18.06\n",
       "host_response_rate             2048       18.06\n",
       "host_acceptance_rate           1685       14.86\n",
       "host_is_superhost                 1        0.01\n",
       "host_thumbnail_url                2        0.02\n",
       "host_picture_url                  2        0.02\n",
       "host_neighbourhood             4650       41.01\n",
       "host_listings_count               2        0.02\n",
       "host_total_listings_count         2        0.02\n",
       "host_verifications                2        0.02\n",
       "host_has_profile_pic              2        0.02\n",
       "host_identity_verified            2        0.02\n",
       "neighbourhood                  4480       39.51\n",
       "bathrooms                     11340      100.00\n",
       "bathrooms_text                    6        0.05\n",
       "bedrooms                        394        3.47\n",
       "beds                            191        1.68\n",
       "calendar_updated              11340      100.00\n",
       "review_scores_rating           2411       21.26\n",
       "review_scores_accuracy         2470       21.78\n",
       "review_scores_cleanliness      2470       21.78\n",
       "review_scores_checkin          2474       21.82\n",
       "review_scores_communication    2469       21.77\n",
       "review_scores_location         2474       21.82\n",
       "review_scores_value            2473       21.81\n",
       "license                        3375       29.76"
      ]
     },
     "execution_count": 4,
     "metadata": {},
     "output_type": "execute_result"
    }
   ],
   "source": [
    "# show how many values are missing per column\n",
    "\n",
    "missing = pd.DataFrame(bcn.isnull().sum(), columns=[\"Amount\"])\n",
    "missing['Percentage'] = round((missing['Amount']/bcn.shape[0])*100, 2)\n",
    "missing[missing['Amount'] != 0]"
   ]
  },
  {
   "cell_type": "code",
   "execution_count": 5,
   "id": "7ede66dd-131f-4c03-9b19-76f8cd8a8c19",
   "metadata": {
    "tags": []
   },
   "outputs": [],
   "source": [
    "#drop columns with all NaN values\n",
    "df_bl = bcn.drop(['bathrooms', 'calendar_updated'], axis=1)"
   ]
  },
  {
   "cell_type": "code",
   "execution_count": 6,
   "id": "bebb831e-aa50-420b-b02c-2312dafe18d7",
   "metadata": {
    "tags": []
   },
   "outputs": [],
   "source": [
    "#drop some columns which we won't use\n",
    "df_bl.drop(['Unnamed: 0', 'id', 'name', 'description', 'neighborhood_overview',\n",
    "       'picture_url', 'host_id', 'host_name', 'host_location',\n",
    "       'host_about', 'host_thumbnail_url',\n",
    "       'host_picture_url', 'host_neighbourhood', 'neighbourhood',\n",
    "       'neighbourhood_cleansed', 'latitude',\n",
    "       'longitude', 'property_type', 'bathrooms_text', 'beds', 'amenities', 'host_total_listings_count', 'review_scores_rating', 'review_scores_accuracy',\n",
    "       'review_scores_cleanliness', 'review_scores_checkin',\n",
    "       'review_scores_communication', 'review_scores_location',\n",
    "       'review_scores_value', 'host_verifications' ], axis=1, inplace=True)"
   ]
  },
  {
   "cell_type": "code",
   "execution_count": 7,
   "id": "28191f43-1066-4ae3-8ee8-7afad69b0411",
   "metadata": {
    "tags": []
   },
   "outputs": [
    {
     "data": {
      "text/html": [
       "<div>\n",
       "<style scoped>\n",
       "    .dataframe tbody tr th:only-of-type {\n",
       "        vertical-align: middle;\n",
       "    }\n",
       "\n",
       "    .dataframe tbody tr th {\n",
       "        vertical-align: top;\n",
       "    }\n",
       "\n",
       "    .dataframe thead th {\n",
       "        text-align: right;\n",
       "    }\n",
       "</style>\n",
       "<table border=\"1\" class=\"dataframe\">\n",
       "  <thead>\n",
       "    <tr style=\"text-align: right;\">\n",
       "      <th></th>\n",
       "      <th>host_since</th>\n",
       "      <th>host_response_time</th>\n",
       "      <th>host_response_rate</th>\n",
       "      <th>host_acceptance_rate</th>\n",
       "      <th>host_is_superhost</th>\n",
       "      <th>host_listings_count</th>\n",
       "      <th>host_has_profile_pic</th>\n",
       "      <th>host_identity_verified</th>\n",
       "      <th>neighbourhood_group_cleansed</th>\n",
       "      <th>room_type</th>\n",
       "      <th>...</th>\n",
       "      <th>bedrooms</th>\n",
       "      <th>price</th>\n",
       "      <th>minimum_nights</th>\n",
       "      <th>maximum_nights</th>\n",
       "      <th>has_availability</th>\n",
       "      <th>number_of_reviews</th>\n",
       "      <th>license</th>\n",
       "      <th>instant_bookable</th>\n",
       "      <th>host_type</th>\n",
       "      <th>suspicious_or_not</th>\n",
       "    </tr>\n",
       "  </thead>\n",
       "  <tbody>\n",
       "    <tr>\n",
       "      <th>3465</th>\n",
       "      <td>NaN</td>\n",
       "      <td>NaN</td>\n",
       "      <td>NaN</td>\n",
       "      <td>NaN</td>\n",
       "      <td>f</td>\n",
       "      <td>NaN</td>\n",
       "      <td>NaN</td>\n",
       "      <td>NaN</td>\n",
       "      <td>Eixample</td>\n",
       "      <td>Private room</td>\n",
       "      <td>...</td>\n",
       "      <td>1.0</td>\n",
       "      <td>$50.00</td>\n",
       "      <td>2</td>\n",
       "      <td>1125</td>\n",
       "      <td>t</td>\n",
       "      <td>1</td>\n",
       "      <td>NaN</td>\n",
       "      <td>f</td>\n",
       "      <td>private</td>\n",
       "      <td>1</td>\n",
       "    </tr>\n",
       "    <tr>\n",
       "      <th>11104</th>\n",
       "      <td>NaN</td>\n",
       "      <td>NaN</td>\n",
       "      <td>NaN</td>\n",
       "      <td>NaN</td>\n",
       "      <td>f</td>\n",
       "      <td>NaN</td>\n",
       "      <td>NaN</td>\n",
       "      <td>NaN</td>\n",
       "      <td>Les Corts</td>\n",
       "      <td>Private room</td>\n",
       "      <td>...</td>\n",
       "      <td>1.0</td>\n",
       "      <td>$50.00</td>\n",
       "      <td>1</td>\n",
       "      <td>1125</td>\n",
       "      <td>t</td>\n",
       "      <td>0</td>\n",
       "      <td>NaN</td>\n",
       "      <td>f</td>\n",
       "      <td>private</td>\n",
       "      <td>1</td>\n",
       "    </tr>\n",
       "  </tbody>\n",
       "</table>\n",
       "<p>2 rows × 21 columns</p>\n",
       "</div>"
      ],
      "text/plain": [
       "      host_since host_response_time host_response_rate host_acceptance_rate  \\\n",
       "3465         NaN                NaN                NaN                  NaN   \n",
       "11104        NaN                NaN                NaN                  NaN   \n",
       "\n",
       "      host_is_superhost  host_listings_count host_has_profile_pic  \\\n",
       "3465                  f                  NaN                  NaN   \n",
       "11104                 f                  NaN                  NaN   \n",
       "\n",
       "      host_identity_verified neighbourhood_group_cleansed     room_type  ...  \\\n",
       "3465                     NaN                     Eixample  Private room  ...   \n",
       "11104                    NaN                    Les Corts  Private room  ...   \n",
       "\n",
       "       bedrooms   price minimum_nights  maximum_nights  has_availability  \\\n",
       "3465        1.0  $50.00              2            1125                 t   \n",
       "11104       1.0  $50.00              1            1125                 t   \n",
       "\n",
       "      number_of_reviews  license instant_bookable host_type suspicious_or_not  \n",
       "3465                  1      NaN                f   private                 1  \n",
       "11104                 0      NaN                f   private                 1  \n",
       "\n",
       "[2 rows x 21 columns]"
      ]
     },
     "execution_count": 7,
     "metadata": {},
     "output_type": "execute_result"
    }
   ],
   "source": [
    "#check if those with NaN in many host related columns are always the same two\n",
    "host_nans = df_bl[df_bl['host_since'].isna()]\n",
    "host_nans"
   ]
  },
  {
   "cell_type": "code",
   "execution_count": 8,
   "id": "cc909531-2a45-436b-a6e7-8ab110412b9d",
   "metadata": {
    "tags": []
   },
   "outputs": [],
   "source": [
    "# since they are, we delete them\n",
    "df_bl=df_bl.dropna(subset=['host_since'])"
   ]
  },
  {
   "cell_type": "markdown",
   "id": "ee3eab71-9600-4f2d-971d-4ff35d530101",
   "metadata": {},
   "source": [
    "## change some dtypes"
   ]
  },
  {
   "cell_type": "code",
   "execution_count": 9,
   "id": "51539e5f-8d23-4cf0-8c0a-7c7e934e9a27",
   "metadata": {
    "tags": []
   },
   "outputs": [],
   "source": [
    "# hoste_since to datetime\n",
    "df_bl['host_since']= pd.to_datetime(df_bl['host_since'])"
   ]
  },
  {
   "cell_type": "code",
   "execution_count": 10,
   "id": "5122f2a7-04dd-41cc-932d-47ef45831c50",
   "metadata": {
    "tags": []
   },
   "outputs": [],
   "source": [
    "# price to float\n",
    "df_bl['price'] = df_bl['price'].str[1:]\n",
    "df_bl['price'] = df_bl['price'].str.replace(',','')\n",
    "df_bl['price'] = pd.to_numeric(df_bl['price'])"
   ]
  },
  {
   "cell_type": "code",
   "execution_count": 11,
   "id": "cab75737-fd26-4b08-8cca-3f93b5e13337",
   "metadata": {
    "tags": []
   },
   "outputs": [],
   "source": [
    "# host_response_rate and host_acceptance_rate to float\n",
    "df_bl['host_response_rate'] = df_bl['host_response_rate'].str.rstrip(\"%\").astype(float)/100\n",
    "df_bl['host_acceptance_rate'] = df_bl['host_acceptance_rate'].str.rstrip(\"%\").astype(float)/100"
   ]
  },
  {
   "cell_type": "code",
   "execution_count": 12,
   "id": "ed69312d-ca0d-4079-b9d6-f748384d3b31",
   "metadata": {
    "tags": []
   },
   "outputs": [],
   "source": [
    "# some boolean to 0/1\n",
    "le = LabelEncoder()\n",
    "df_bl['host_is_superhost'] = le.fit_transform(df_bl['host_is_superhost'])\n",
    "df_bl['host_has_profile_pic'] = le.fit_transform(df_bl['host_has_profile_pic'])\n",
    "df_bl['host_identity_verified'] = le.fit_transform(df_bl['host_identity_verified'])\n",
    "df_bl['has_availability'] = le.fit_transform(df_bl['has_availability'])\n",
    "df_bl['instant_bookable'] = le.fit_transform(df_bl['instant_bookable'])"
   ]
  },
  {
   "cell_type": "code",
   "execution_count": 13,
   "id": "5796c081-f860-47e8-97f7-b3a6847870c6",
   "metadata": {
    "tags": []
   },
   "outputs": [],
   "source": [
    "# host_listings_count as int\n",
    "df_bl['host_listings_count'] = df_bl['host_listings_count'].astype(int)"
   ]
  },
  {
   "cell_type": "markdown",
   "id": "d84e4d69-310e-461d-bf02-369f4db6c6f8",
   "metadata": {
    "tags": []
   },
   "source": [
    "## train test split"
   ]
  },
  {
   "cell_type": "code",
   "execution_count": 14,
   "id": "918612d8-3465-4882-a09c-8e36838dd8ee",
   "metadata": {
    "tags": []
   },
   "outputs": [],
   "source": [
    "# separate target variable\n",
    "X = df_bl.drop('suspicious_or_not', axis=1)\n",
    "y = df_bl['suspicious_or_not']"
   ]
  },
  {
   "cell_type": "code",
   "execution_count": 15,
   "id": "b130f172-a288-464a-90c0-3f7b76f9cc63",
   "metadata": {
    "tags": []
   },
   "outputs": [],
   "source": [
    "# train test split\n",
    "X_train, X_test, y_train, y_test = train_test_split(X, y, test_size=0.2, random_state=RSEED, stratify = y)"
   ]
  },
  {
   "cell_type": "code",
   "execution_count": 16,
   "id": "58cb88a4-decf-49cf-92e3-124fe2683946",
   "metadata": {
    "tags": []
   },
   "outputs": [
    {
     "name": "stdout",
     "output_type": "stream",
     "text": [
      "X_train shape: (9070, 20)\n",
      "X_test shape: (2268, 20)\n",
      "y_train shape: (9070,)\n",
      "y_test shape: (2268,)\n"
     ]
    }
   ],
   "source": [
    "# show sizes of dataframes\n",
    "print('X_train shape:', X_train.shape)\n",
    "print('X_test shape:', X_test.shape)\n",
    "print('y_train shape:', y_train.shape)\n",
    "print('y_test shape:', y_test.shape)"
   ]
  },
  {
   "cell_type": "markdown",
   "id": "afdc71e5-d4f9-4c4c-a307-e2e165e87429",
   "metadata": {},
   "source": [
    "## Preprocessing"
   ]
  },
  {
   "cell_type": "code",
   "execution_count": 17,
   "id": "f2daefe4-2642-4c77-afdf-3cacf6fc9514",
   "metadata": {
    "tags": []
   },
   "outputs": [
    {
     "data": {
      "text/plain": [
       "<AxesSubplot: >"
      ]
     },
     "execution_count": 17,
     "metadata": {},
     "output_type": "execute_result"
    },
    {
     "data": {
      "image/png": "[encoded data removed]",
      "text/plain": [
       "<Figure size 640x480 with 1 Axes>"
      ]
     },
     "metadata": {},
     "output_type": "display_data"
    }
   ],
   "source": [
    "# find outliers in price\n",
    "X_train.boxplot('price')"
   ]
  },
  {
   "cell_type": "code",
   "execution_count": 18,
   "id": "fdb48990-91a8-4bda-8418-25482cc924d9",
   "metadata": {
    "tags": []
   },
   "outputs": [
    {
     "data": {
      "text/plain": [
       "<AxesSubplot: >"
      ]
     },
     "execution_count": 18,
     "metadata": {},
     "output_type": "execute_result"
    },
    {
     "data": {
      "image/png": "[encoded data removed]",
      "text/plain": [
       "<Figure size 640x480 with 1 Axes>"
      ]
     },
     "metadata": {},
     "output_type": "display_data"
    }
   ],
   "source": [
    "%matplotlib inline\n",
    "\n",
    "# find outliers in minimum nights\n",
    "X_train.boxplot('minimum_nights')"
   ]
  },
  {
   "cell_type": "code",
   "execution_count": 19,
   "id": "d5a78b97-0367-4c8b-8ee1-7afd4709d4e6",
   "metadata": {
    "tags": []
   },
   "outputs": [],
   "source": [
    "# delete price outliers with IQR method\n",
    "\n",
    "# find IQR of train data\n",
    "for x in ['price']:\n",
    "    q75, q25 = np.percentile(X_train.loc[:,x],[75,25])\n",
    "    intr_qr = q75-q25\n",
    "    maxp = q75+(1.5*intr_qr)\n",
    "    minp = q25-(1.5*intr_qr)\n",
    "\n",
    "# apply on train data    \n",
    "    X_train.loc[X_train[x] < minp,x] = np.nan\n",
    "    X_train.loc[X_train[x] > maxp,x] = np.nan\n",
    "    \n",
    "# apply on test data    \n",
    "    X_test.loc[X_test[x] < minp,x] = np.nan\n",
    "    X_test.loc[X_test[x] > maxp,x] = np.nan"
   ]
  },
  {
   "cell_type": "code",
   "execution_count": 20,
   "id": "8ad2145b-8416-4eff-94bf-5805f3ebc098",
   "metadata": {
    "tags": []
   },
   "outputs": [],
   "source": [
    "# delete minimum_nights outliers with IQR method\n",
    "\n",
    "# find IQR of train data\n",
    "for x in ['minimum_nights']:\n",
    "    q75, q25 = np.percentile(X_train.loc[:,x],[75,25])\n",
    "    intr_qr = q75-q25\n",
    "    maxn = q75+(1.5*intr_qr)\n",
    "    minn = q25-(1.5*intr_qr)\n",
    "\n",
    "# apply on train data  \n",
    "    X_train.loc[X_train[x] < minn,x] = np.nan\n",
    "    X_train.loc[X_train[x] > maxn,x] = np.nan\n",
    "\n",
    "# apply on test data    \n",
    "    X_test.loc[X_test[x] < minn,x] = np.nan\n",
    "    X_test.loc[X_test[x] > maxn,x] = np.nan"
   ]
  },
  {
   "cell_type": "code",
   "execution_count": 21,
   "id": "e14c9b1c-57cd-4b50-8069-1b81bce68e1a",
   "metadata": {
    "tags": []
   },
   "outputs": [],
   "source": [
    "# columns to impute by mean\n",
    "num_col_mean = ['host_response_rate', 'host_acceptance_rate']\n",
    "\n",
    "# columns to impute by median\n",
    "num_col_median = ['bedrooms', 'price', 'minimum_nights', 'maximum_nights']\n",
    "\n",
    "# categorical columns to impute\n",
    "cat_col_missing = ['host_response_time']\n",
    "cat_col_no = ['license']"
   ]
  },
  {
   "cell_type": "code",
   "execution_count": 22,
   "id": "f3659721-ae07-48b5-9778-c1fe5becba22",
   "metadata": {
    "tags": []
   },
   "outputs": [],
   "source": [
    "# create values dict for imputation of missing values\n",
    "values_dict = {}\n",
    "\n",
    "# find median of train data and apply on train and test data\n",
    "for col in num_col_median:\n",
    "    values_dict[col] = X_train[col].median()\n",
    "    X_train[col] = X_train[col].fillna(values_dict[col])\n",
    "    X_test[col] = X_test[col].fillna(values_dict[col])"
   ]
  },
  {
   "cell_type": "code",
   "execution_count": 23,
   "id": "004f72e3-034e-417c-8002-87ed08be3e5f",
   "metadata": {
    "tags": []
   },
   "outputs": [],
   "source": [
    "# find mean of train data and apply on train and test data\n",
    "for col in num_col_mean:\n",
    "    values_dict[col] = X_train[col].mean()\n",
    "    X_train[col] = X_train[col].fillna(values_dict[col])\n",
    "    X_test[col] = X_test[col].fillna(values_dict[col])"
   ]
  },
  {
   "cell_type": "code",
   "execution_count": 24,
   "id": "28a369e9-194b-497b-8dd7-8f13e56486f3",
   "metadata": {
    "tags": []
   },
   "outputs": [],
   "source": [
    "# add new category 'missing' to train and test data\n",
    "for col in cat_col_missing:\n",
    "    values_dict[col] = 'missing'\n",
    "    X_train[col] = X_train[col].fillna(values_dict[col])\n",
    "    X_test[col] = X_test[col].fillna(values_dict[col])"
   ]
  },
  {
   "cell_type": "code",
   "execution_count": 25,
   "id": "64557f1d-13fb-4e96-848e-80b023cf63f4",
   "metadata": {
    "tags": []
   },
   "outputs": [],
   "source": [
    "# add new category 'no' to train and test data\n",
    "for col in cat_col_no:\n",
    "    values_dict[col] = 'no'\n",
    "    X_train[col] = X_train[col].fillna(values_dict[col])\n",
    "    X_test[col] = X_test[col].fillna(values_dict[col])"
   ]
  },
  {
   "cell_type": "markdown",
   "id": "0d6832e9-068f-44b9-bd0d-45eea0f8bb4c",
   "metadata": {},
   "source": [
    "## Handle license column"
   ]
  },
  {
   "cell_type": "code",
   "execution_count": 26,
   "id": "0def47b8-caac-4ecb-bfc9-b325066aaf8f",
   "metadata": {
    "tags": []
   },
   "outputs": [],
   "source": [
    "# function to categorize lincenses\n",
    "def license(license):\n",
    "    if 'HUTB' in license:\n",
    "        return 1\n",
    "    if 'HB' in license:\n",
    "        return 1\n",
    "    if 'AJ' in license:\n",
    "        return 1\n",
    "    elif 'exempt' in license.lower():\n",
    "        return 0\n",
    "    else:\n",
    "        return 0"
   ]
  },
  {
   "cell_type": "code",
   "execution_count": 27,
   "id": "7660c119-0e57-49b7-a118-21686a0f5879",
   "metadata": {
    "tags": []
   },
   "outputs": [],
   "source": [
    "# apply function on train and test set\n",
    "X_train['license'] = X_train.apply(lambda row: license(row['license']), axis=1)\n",
    "X_test['license'] = X_test.apply(lambda row: license(row['license']), axis=1)"
   ]
  },
  {
   "cell_type": "markdown",
   "id": "0d0d411d-ec85-4315-9cb6-d04f1934be4b",
   "metadata": {
    "tags": []
   },
   "source": [
    "### Building pipelines"
   ]
  },
  {
   "cell_type": "markdown",
   "id": "25ca12df-f4b3-411d-b057-33bb2aff8518",
   "metadata": {},
   "source": [
    "**for categorical features**"
   ]
  },
  {
   "cell_type": "code",
   "execution_count": 28,
   "id": "9f6a4443-df63-415e-be6c-ccd09c0c0f3d",
   "metadata": {
    "tags": []
   },
   "outputs": [
    {
     "data": {
      "text/plain": [
       "['host_response_time',\n",
       " 'neighbourhood_group_cleansed',\n",
       " 'room_type',\n",
       " 'host_type']"
      ]
     },
     "execution_count": 28,
     "metadata": {},
     "output_type": "execute_result"
    }
   ],
   "source": [
    "cat_features = list(X_train.columns[X_train.dtypes==object])\n",
    "cat_features"
   ]
  },
  {
   "cell_type": "code",
   "execution_count": 29,
   "id": "40dd184c-14e3-4ee6-b4f3-34ab95f5b412",
   "metadata": {},
   "outputs": [],
   "source": [
    "cat_pipeline = Pipeline([\n",
    "    ('1hot', OneHotEncoder(handle_unknown='ignore'))\n",
    "])"
   ]
  },
  {
   "cell_type": "markdown",
   "id": "2d20603b-68b2-4ac0-abac-26b5c12b2fdf",
   "metadata": {},
   "source": [
    "**for numerical features**"
   ]
  },
  {
   "cell_type": "code",
   "execution_count": 30,
   "id": "d887b3ef-58dd-40e5-ad04-e82cb54e87ea",
   "metadata": {
    "tags": []
   },
   "outputs": [
    {
     "data": {
      "text/plain": [
       "['host_response_rate',\n",
       " 'host_acceptance_rate',\n",
       " 'host_is_superhost',\n",
       " 'host_listings_count',\n",
       " 'host_has_profile_pic',\n",
       " 'host_identity_verified',\n",
       " 'accommodates',\n",
       " 'bedrooms',\n",
       " 'price',\n",
       " 'minimum_nights',\n",
       " 'maximum_nights',\n",
       " 'has_availability',\n",
       " 'number_of_reviews',\n",
       " 'license',\n",
       " 'instant_bookable']"
      ]
     },
     "execution_count": 30,
     "metadata": {},
     "output_type": "execute_result"
    }
   ],
   "source": [
    "num_features = list(X_train.columns[X_train.dtypes!=object])\n",
    "num_features.remove('host_since')\n",
    "num_features"
   ]
  },
  {
   "cell_type": "code",
   "execution_count": 31,
   "id": "c442df05-b30a-4b59-9ced-34899da04c71",
   "metadata": {
    "tags": []
   },
   "outputs": [],
   "source": [
    "num_pipeline = Pipeline([\n",
    "    ('std_scaler', StandardScaler())\n",
    "])"
   ]
  },
  {
   "cell_type": "markdown",
   "id": "78639c06-3b0c-4e02-9622-28f6a0790071",
   "metadata": {},
   "source": [
    "**preprocessor for features**"
   ]
  },
  {
   "cell_type": "code",
   "execution_count": 32,
   "id": "496e5b60-7644-46d6-b9c8-e4a641c2ebc0",
   "metadata": {},
   "outputs": [],
   "source": [
    "preprocessor = ColumnTransformer([\n",
    "    ('num', num_pipeline, num_features),\n",
    "    ('cat', cat_pipeline, cat_features)\n",
    "])"
   ]
  },
  {
   "cell_type": "markdown",
   "id": "08601558-35db-4fd1-8363-53673fa3df35",
   "metadata": {},
   "source": [
    "# Modelling"
   ]
  },
  {
   "cell_type": "markdown",
   "id": "7055004c-66fe-4702-a063-69f27e1b572b",
   "metadata": {},
   "source": [
    "Once again our baseline model:\n",
    "## Logistic Regression"
   ]
  },
  {
   "cell_type": "code",
   "execution_count": 33,
   "id": "d45f5f88-2ab1-47c5-91fe-e978fffc03ce",
   "metadata": {
    "tags": []
   },
   "outputs": [],
   "source": [
    "# build pipeline\n",
    "pipe_logreg_bl = Pipeline([\n",
    "    ('preprocessor', preprocessor),\n",
    "    ('logreg', LogisticRegression(max_iter=1000))\n",
    "])"
   ]
  },
  {
   "cell_type": "code",
   "execution_count": 34,
   "id": "b4c42a4e-c502-4718-8b59-983630ce2b84",
   "metadata": {},
   "outputs": [],
   "source": [
    "# cross validate\n",
    "y_train_predicted_bl = cross_val_predict(pipe_logreg_bl, X_train, y_train, cv=5)"
   ]
  },
  {
   "cell_type": "code",
   "execution_count": 35,
   "id": "66e1bc58-6d76-4974-b0f8-26b4c2a525fa",
   "metadata": {
    "tags": []
   },
   "outputs": [
    {
     "name": "stdout",
     "output_type": "stream",
     "text": [
      "Cross validation scores:\n",
      "-------------------------\n",
      "Accuracy: 0.87\n",
      "Recall: 0.84\n",
      "Precision: 0.87\n"
     ]
    }
   ],
   "source": [
    "# print scores\n",
    "print('Cross validation scores:')\n",
    "print('-------------------------')\n",
    "print(\"Accuracy: {:.2f}\".format(accuracy_score(y_train, y_train_predicted_bl)))\n",
    "print(\"Recall: {:.2f}\".format(recall_score(y_train, y_train_predicted_bl)))\n",
    "print(\"Precision: {:.2f}\".format(precision_score(y_train, y_train_predicted_bl)))"
   ]
  },
  {
   "cell_type": "markdown",
   "id": "c2e12c08-ae0a-415a-b1c5-d8b30d4b25dd",
   "metadata": {},
   "source": [
    "#### Hyperparameter tuning"
   ]
  },
  {
   "cell_type": "code",
   "execution_count": 36,
   "id": "720772e4-9669-482e-9344-69f265503ceb",
   "metadata": {
    "tags": []
   },
   "outputs": [],
   "source": [
    "# define parameters to test\n",
    "param_logreg_bl = {'logreg__penalty':('l1','l2'),\n",
    "                'logreg__C': [0.001, 0.01, 0.1, 1, 10],\n",
    "                'logreg__solver': ['liblinear', 'lbfgs', 'sag'],\n",
    "               }\n",
    "\n",
    "#define grid search\n",
    "grid_logreg_bl = GridSearchCV(pipe_logreg_bl, param_grid=param_logreg_bl, cv=5, scoring='accuracy', \n",
    "                           verbose=5, n_jobs=-1)"
   ]
  },
  {
   "cell_type": "code",
   "execution_count": 37,
   "id": "aed0cc8e-206c-4161-987b-06f00dadf9cd",
   "metadata": {
    "tags": []
   },
   "outputs": [
    {
     "name": "stdout",
     "output_type": "stream",
     "text": [
      "Fitting 5 folds for each of 30 candidates, totalling 150 fits\n"
     ]
    },
    {
     "data": {
      "text/html": [
       "<style>#sk-9104629a-80e9-470d-a345-89298540f421 {color: black;background-color: white;}#sk-9104629a-80e9-470d-a345-89298540f421 pre{padding: 0;}#sk-9104629a-80e9-470d-a345-89298540f421 div.sk-toggleable {background-color: white;}#sk-9104629a-80e9-470d-a345-89298540f421 label.sk-toggleable__label {cursor: pointer;display: block;width: 100%;margin-bottom: 0;padding: 0.3em;box-sizing: border-box;text-align: center;}#sk-9104629a-80e9-470d-a345-89298540f421 label.sk-toggleable__label-arrow:before {content: \"▸\";float: left;margin-right: 0.25em;color: #696969;}#sk-9104629a-80e9-470d-a345-89298540f421 label.sk-toggleable__label-arrow:hover:before {color: black;}#sk-9104629a-80e9-470d-a345-89298540f421 div.sk-estimator:hover label.sk-toggleable__label-arrow:before {color: black;}#sk-9104629a-80e9-470d-a345-89298540f421 div.sk-toggleable__content {max-height: 0;max-width: 0;overflow: hidden;text-align: left;background-color: #f0f8ff;}#sk-9104629a-80e9-470d-a345-89298540f421 div.sk-toggleable__content pre {margin: 0.2em;color: black;border-radius: 0.25em;background-color: #f0f8ff;}#sk-9104629a-80e9-470d-a345-89298540f421 input.sk-toggleable__control:checked~div.sk-toggleable__content {max-height: 200px;max-width: 100%;overflow: auto;}#sk-9104629a-80e9-470d-a345-89298540f421 input.sk-toggleable__control:checked~label.sk-toggleable__label-arrow:before {content: \"▾\";}#sk-9104629a-80e9-470d-a345-89298540f421 div.sk-estimator input.sk-toggleable__control:checked~label.sk-toggleable__label {background-color: #d4ebff;}#sk-9104629a-80e9-470d-a345-89298540f421 div.sk-label input.sk-toggleable__control:checked~label.sk-toggleable__label {background-color: #d4ebff;}#sk-9104629a-80e9-470d-a345-89298540f421 input.sk-hidden--visually {border: 0;clip: rect(1px 1px 1px 1px);clip: rect(1px, 1px, 1px, 1px);height: 1px;margin: -1px;overflow: hidden;padding: 0;position: absolute;width: 1px;}#sk-9104629a-80e9-470d-a345-89298540f421 div.sk-estimator {font-family: monospace;background-color: #f0f8ff;border: 1px dotted black;border-radius: 0.25em;box-sizing: border-box;margin-bottom: 0.5em;}#sk-9104629a-80e9-470d-a345-89298540f421 div.sk-estimator:hover {background-color: #d4ebff;}#sk-9104629a-80e9-470d-a345-89298540f421 div.sk-parallel-item::after {content: \"\";width: 100%;border-bottom: 1px solid gray;flex-grow: 1;}#sk-9104629a-80e9-470d-a345-89298540f421 div.sk-label:hover label.sk-toggleable__label {background-color: #d4ebff;}#sk-9104629a-80e9-470d-a345-89298540f421 div.sk-serial::before {content: \"\";position: absolute;border-left: 1px solid gray;box-sizing: border-box;top: 2em;bottom: 0;left: 50%;}#sk-9104629a-80e9-470d-a345-89298540f421 div.sk-serial {display: flex;flex-direction: column;align-items: center;background-color: white;padding-right: 0.2em;padding-left: 0.2em;}#sk-9104629a-80e9-470d-a345-89298540f421 div.sk-item {z-index: 1;}#sk-9104629a-80e9-470d-a345-89298540f421 div.sk-parallel {display: flex;align-items: stretch;justify-content: center;background-color: white;}#sk-9104629a-80e9-470d-a345-89298540f421 div.sk-parallel::before {content: \"\";position: absolute;border-left: 1px solid gray;box-sizing: border-box;top: 2em;bottom: 0;left: 50%;}#sk-9104629a-80e9-470d-a345-89298540f421 div.sk-parallel-item {display: flex;flex-direction: column;position: relative;background-color: white;}#sk-9104629a-80e9-470d-a345-89298540f421 div.sk-parallel-item:first-child::after {align-self: flex-end;width: 50%;}#sk-9104629a-80e9-470d-a345-89298540f421 div.sk-parallel-item:last-child::after {align-self: flex-start;width: 50%;}#sk-9104629a-80e9-470d-a345-89298540f421 div.sk-parallel-item:only-child::after {width: 0;}#sk-9104629a-80e9-470d-a345-89298540f421 div.sk-dashed-wrapped {border: 1px dashed gray;margin: 0 0.4em 0.5em 0.4em;box-sizing: border-box;padding-bottom: 0.4em;background-color: white;position: relative;}#sk-9104629a-80e9-470d-a345-89298540f421 div.sk-label label {font-family: monospace;font-weight: bold;background-color: white;display: inline-block;line-height: 1.2em;}#sk-9104629a-80e9-470d-a345-89298540f421 div.sk-label-container {position: relative;z-index: 2;text-align: center;}#sk-9104629a-80e9-470d-a345-89298540f421 div.sk-container {/* jupyter's `normalize.less` sets `[hidden] { display: none; }` but bootstrap.min.css set `[hidden] { display: none !important; }` so we also need the `!important` here to be able to override the default hidden behavior on the sphinx rendered scikit-learn.org. See: https://github.com/scikit-learn/scikit-learn/issues/21755 */display: inline-block !important;position: relative;}#sk-9104629a-80e9-470d-a345-89298540f421 div.sk-text-repr-fallback {display: none;}</style><div id=\"sk-9104629a-80e9-470d-a345-89298540f421\" class=\"sk-top-container\"><div class=\"sk-text-repr-fallback\"><pre>GridSearchCV(cv=5,\n",
       "             estimator=Pipeline(steps=[(&#x27;preprocessor&#x27;,\n",
       "                                        ColumnTransformer(transformers=[(&#x27;num&#x27;,\n",
       "                                                                         Pipeline(steps=[(&#x27;std_scaler&#x27;,\n",
       "                                                                                          StandardScaler())]),\n",
       "                                                                         [&#x27;host_response_rate&#x27;,\n",
       "                                                                          &#x27;host_acceptance_rate&#x27;,\n",
       "                                                                          &#x27;host_is_superhost&#x27;,\n",
       "                                                                          &#x27;host_listings_count&#x27;,\n",
       "                                                                          &#x27;host_has_profile_pic&#x27;,\n",
       "                                                                          &#x27;host_identity_verified&#x27;,\n",
       "                                                                          &#x27;accommodates&#x27;,\n",
       "                                                                          &#x27;bedrooms&#x27;,\n",
       "                                                                          &#x27;price&#x27;,\n",
       "                                                                          &#x27;minimum_nights&#x27;,\n",
       "                                                                          &#x27;maximum_nights...\n",
       "                                                                         Pipeline(steps=[(&#x27;1hot&#x27;,\n",
       "                                                                                          OneHotEncoder(handle_unknown=&#x27;ignore&#x27;))]),\n",
       "                                                                         [&#x27;host_response_time&#x27;,\n",
       "                                                                          &#x27;neighbourhood_group_cleansed&#x27;,\n",
       "                                                                          &#x27;room_type&#x27;,\n",
       "                                                                          &#x27;host_type&#x27;])])),\n",
       "                                       (&#x27;logreg&#x27;,\n",
       "                                        LogisticRegression(max_iter=1000))]),\n",
       "             n_jobs=-1,\n",
       "             param_grid={&#x27;logreg__C&#x27;: [0.001, 0.01, 0.1, 1, 10],\n",
       "                         &#x27;logreg__penalty&#x27;: (&#x27;l1&#x27;, &#x27;l2&#x27;),\n",
       "                         &#x27;logreg__solver&#x27;: [&#x27;liblinear&#x27;, &#x27;lbfgs&#x27;, &#x27;sag&#x27;]},\n",
       "             scoring=&#x27;accuracy&#x27;, verbose=5)</pre><b>Please rerun this cell to show the HTML repr or trust the notebook.</b></div><div class=\"sk-container\" hidden><div class=\"sk-item sk-dashed-wrapped\"><div class=\"sk-label-container\"><div class=\"sk-label sk-toggleable\"><input class=\"sk-toggleable__control sk-hidden--visually\" id=\"a8d87ff7-4b5d-4acb-8945-09b32db3972b\" type=\"checkbox\" ><label for=\"a8d87ff7-4b5d-4acb-8945-09b32db3972b\" class=\"sk-toggleable__label sk-toggleable__label-arrow\">GridSearchCV</label><div class=\"sk-toggleable__content\"><pre>GridSearchCV(cv=5,\n",
       "             estimator=Pipeline(steps=[(&#x27;preprocessor&#x27;,\n",
       "                                        ColumnTransformer(transformers=[(&#x27;num&#x27;,\n",
       "                                                                         Pipeline(steps=[(&#x27;std_scaler&#x27;,\n",
       "                                                                                          StandardScaler())]),\n",
       "                                                                         [&#x27;host_response_rate&#x27;,\n",
       "                                                                          &#x27;host_acceptance_rate&#x27;,\n",
       "                                                                          &#x27;host_is_superhost&#x27;,\n",
       "                                                                          &#x27;host_listings_count&#x27;,\n",
       "                                                                          &#x27;host_has_profile_pic&#x27;,\n",
       "                                                                          &#x27;host_identity_verified&#x27;,\n",
       "                                                                          &#x27;accommodates&#x27;,\n",
       "                                                                          &#x27;bedrooms&#x27;,\n",
       "                                                                          &#x27;price&#x27;,\n",
       "                                                                          &#x27;minimum_nights&#x27;,\n",
       "                                                                          &#x27;maximum_nights...\n",
       "                                                                         Pipeline(steps=[(&#x27;1hot&#x27;,\n",
       "                                                                                          OneHotEncoder(handle_unknown=&#x27;ignore&#x27;))]),\n",
       "                                                                         [&#x27;host_response_time&#x27;,\n",
       "                                                                          &#x27;neighbourhood_group_cleansed&#x27;,\n",
       "                                                                          &#x27;room_type&#x27;,\n",
       "                                                                          &#x27;host_type&#x27;])])),\n",
       "                                       (&#x27;logreg&#x27;,\n",
       "                                        LogisticRegression(max_iter=1000))]),\n",
       "             n_jobs=-1,\n",
       "             param_grid={&#x27;logreg__C&#x27;: [0.001, 0.01, 0.1, 1, 10],\n",
       "                         &#x27;logreg__penalty&#x27;: (&#x27;l1&#x27;, &#x27;l2&#x27;),\n",
       "                         &#x27;logreg__solver&#x27;: [&#x27;liblinear&#x27;, &#x27;lbfgs&#x27;, &#x27;sag&#x27;]},\n",
       "             scoring=&#x27;accuracy&#x27;, verbose=5)</pre></div></div></div><div class=\"sk-parallel\"><div class=\"sk-parallel-item\"><div class=\"sk-item\"><div class=\"sk-serial\"><div class=\"sk-item\"><div class=\"sk-serial\"><div class=\"sk-item sk-dashed-wrapped\"><div class=\"sk-label-container\"><div class=\"sk-label sk-toggleable\"><input class=\"sk-toggleable__control sk-hidden--visually\" id=\"fa13d820-a7f4-42ac-a253-5e4d22438560\" type=\"checkbox\" ><label for=\"fa13d820-a7f4-42ac-a253-5e4d22438560\" class=\"sk-toggleable__label sk-toggleable__label-arrow\">preprocessor: ColumnTransformer</label><div class=\"sk-toggleable__content\"><pre>ColumnTransformer(transformers=[(&#x27;num&#x27;,\n",
       "                                 Pipeline(steps=[(&#x27;std_scaler&#x27;,\n",
       "                                                  StandardScaler())]),\n",
       "                                 [&#x27;host_response_rate&#x27;, &#x27;host_acceptance_rate&#x27;,\n",
       "                                  &#x27;host_is_superhost&#x27;, &#x27;host_listings_count&#x27;,\n",
       "                                  &#x27;host_has_profile_pic&#x27;,\n",
       "                                  &#x27;host_identity_verified&#x27;, &#x27;accommodates&#x27;,\n",
       "                                  &#x27;bedrooms&#x27;, &#x27;price&#x27;, &#x27;minimum_nights&#x27;,\n",
       "                                  &#x27;maximum_nights&#x27;, &#x27;has_availability&#x27;,\n",
       "                                  &#x27;number_of_reviews&#x27;, &#x27;license&#x27;,\n",
       "                                  &#x27;instant_bookable&#x27;]),\n",
       "                                (&#x27;cat&#x27;,\n",
       "                                 Pipeline(steps=[(&#x27;1hot&#x27;,\n",
       "                                                  OneHotEncoder(handle_unknown=&#x27;ignore&#x27;))]),\n",
       "                                 [&#x27;host_response_time&#x27;,\n",
       "                                  &#x27;neighbourhood_group_cleansed&#x27;, &#x27;room_type&#x27;,\n",
       "                                  &#x27;host_type&#x27;])])</pre></div></div></div><div class=\"sk-parallel\"><div class=\"sk-parallel-item\"><div class=\"sk-item\"><div class=\"sk-label-container\"><div class=\"sk-label sk-toggleable\"><input class=\"sk-toggleable__control sk-hidden--visually\" id=\"edc8e429-2b65-460e-bd4a-549d0e7b029e\" type=\"checkbox\" ><label for=\"edc8e429-2b65-460e-bd4a-549d0e7b029e\" class=\"sk-toggleable__label sk-toggleable__label-arrow\">num</label><div class=\"sk-toggleable__content\"><pre>[&#x27;host_response_rate&#x27;, &#x27;host_acceptance_rate&#x27;, &#x27;host_is_superhost&#x27;, &#x27;host_listings_count&#x27;, &#x27;host_has_profile_pic&#x27;, &#x27;host_identity_verified&#x27;, &#x27;accommodates&#x27;, &#x27;bedrooms&#x27;, &#x27;price&#x27;, &#x27;minimum_nights&#x27;, &#x27;maximum_nights&#x27;, &#x27;has_availability&#x27;, &#x27;number_of_reviews&#x27;, &#x27;license&#x27;, &#x27;instant_bookable&#x27;]</pre></div></div></div><div class=\"sk-serial\"><div class=\"sk-item\"><div class=\"sk-serial\"><div class=\"sk-item\"><div class=\"sk-estimator sk-toggleable\"><input class=\"sk-toggleable__control sk-hidden--visually\" id=\"be8ee8ac-fdb3-464c-9cbe-c79208728ded\" type=\"checkbox\" ><label for=\"be8ee8ac-fdb3-464c-9cbe-c79208728ded\" class=\"sk-toggleable__label sk-toggleable__label-arrow\">StandardScaler</label><div class=\"sk-toggleable__content\"><pre>StandardScaler()</pre></div></div></div></div></div></div></div></div><div class=\"sk-parallel-item\"><div class=\"sk-item\"><div class=\"sk-label-container\"><div class=\"sk-label sk-toggleable\"><input class=\"sk-toggleable__control sk-hidden--visually\" id=\"9fca4911-1340-4453-bdff-19293929d448\" type=\"checkbox\" ><label for=\"9fca4911-1340-4453-bdff-19293929d448\" class=\"sk-toggleable__label sk-toggleable__label-arrow\">cat</label><div class=\"sk-toggleable__content\"><pre>[&#x27;host_response_time&#x27;, &#x27;neighbourhood_group_cleansed&#x27;, &#x27;room_type&#x27;, &#x27;host_type&#x27;]</pre></div></div></div><div class=\"sk-serial\"><div class=\"sk-item\"><div class=\"sk-serial\"><div class=\"sk-item\"><div class=\"sk-estimator sk-toggleable\"><input class=\"sk-toggleable__control sk-hidden--visually\" id=\"d47a5790-aae5-4527-b2d3-0c6aaf26bd76\" type=\"checkbox\" ><label for=\"d47a5790-aae5-4527-b2d3-0c6aaf26bd76\" class=\"sk-toggleable__label sk-toggleable__label-arrow\">OneHotEncoder</label><div class=\"sk-toggleable__content\"><pre>OneHotEncoder(handle_unknown=&#x27;ignore&#x27;)</pre></div></div></div></div></div></div></div></div></div></div><div class=\"sk-item\"><div class=\"sk-estimator sk-toggleable\"><input class=\"sk-toggleable__control sk-hidden--visually\" id=\"3db90662-7b2f-4e17-97a3-97b44b59b938\" type=\"checkbox\" ><label for=\"3db90662-7b2f-4e17-97a3-97b44b59b938\" class=\"sk-toggleable__label sk-toggleable__label-arrow\">LogisticRegression</label><div class=\"sk-toggleable__content\"><pre>LogisticRegression(max_iter=1000)</pre></div></div></div></div></div></div></div></div></div></div></div></div>"
      ],
      "text/plain": [
       "GridSearchCV(cv=5,\n",
       "             estimator=Pipeline(steps=[('preprocessor',\n",
       "                                        ColumnTransformer(transformers=[('num',\n",
       "                                                                         Pipeline(steps=[('std_scaler',\n",
       "                                                                                          StandardScaler())]),\n",
       "                                                                         ['host_response_rate',\n",
       "                                                                          'host_acceptance_rate',\n",
       "                                                                          'host_is_superhost',\n",
       "                                                                          'host_listings_count',\n",
       "                                                                          'host_has_profile_pic',\n",
       "                                                                          'host_identity_verified',\n",
       "                                                                          'accommodates',\n",
       "                                                                          'bedrooms',\n",
       "                                                                          'price',\n",
       "                                                                          'minimum_nights',\n",
       "                                                                          'maximum_nights...\n",
       "                                                                         Pipeline(steps=[('1hot',\n",
       "                                                                                          OneHotEncoder(handle_unknown='ignore'))]),\n",
       "                                                                         ['host_response_time',\n",
       "                                                                          'neighbourhood_group_cleansed',\n",
       "                                                                          'room_type',\n",
       "                                                                          'host_type'])])),\n",
       "                                       ('logreg',\n",
       "                                        LogisticRegression(max_iter=1000))]),\n",
       "             n_jobs=-1,\n",
       "             param_grid={'logreg__C': [0.001, 0.01, 0.1, 1, 10],\n",
       "                         'logreg__penalty': ('l1', 'l2'),\n",
       "                         'logreg__solver': ['liblinear', 'lbfgs', 'sag']},\n",
       "             scoring='accuracy', verbose=5)"
      ]
     },
     "execution_count": 37,
     "metadata": {},
     "output_type": "execute_result"
    }
   ],
   "source": [
    "# run grid search\n",
    "grid_logreg_bl.fit(X_train, y_train)"
   ]
  },
  {
   "cell_type": "code",
   "execution_count": 38,
   "id": "74cefbd0-b698-48de-bbf8-e4b201d17257",
   "metadata": {
    "tags": []
   },
   "outputs": [
    {
     "name": "stdout",
     "output_type": "stream",
     "text": [
      "Best score:\n",
      "0.80\n",
      "Best parameters:\n",
      "{'logreg__C': 0.001, 'logreg__penalty': 'l1', 'logreg__solver': 'liblinear'}\n"
     ]
    }
   ],
   "source": [
    "# print best score and parameters\n",
    "print('Best score:\\n{:.2f}'.format(grid_logreg_bl.best_score_))\n",
    "print(\"Best parameters:\\n{}\".format(grid_logreg_bl.best_params_))"
   ]
  },
  {
   "cell_type": "code",
   "execution_count": 39,
   "id": "d1a3ef61-4b17-4330-903e-ae4b8b777522",
   "metadata": {
    "tags": []
   },
   "outputs": [
    {
     "data": {
      "text/html": [
       "<style>#sk-a0200e91-2aab-476d-bc5e-5b02ffdd6f81 {color: black;background-color: white;}#sk-a0200e91-2aab-476d-bc5e-5b02ffdd6f81 pre{padding: 0;}#sk-a0200e91-2aab-476d-bc5e-5b02ffdd6f81 div.sk-toggleable {background-color: white;}#sk-a0200e91-2aab-476d-bc5e-5b02ffdd6f81 label.sk-toggleable__label {cursor: pointer;display: block;width: 100%;margin-bottom: 0;padding: 0.3em;box-sizing: border-box;text-align: center;}#sk-a0200e91-2aab-476d-bc5e-5b02ffdd6f81 label.sk-toggleable__label-arrow:before {content: \"▸\";float: left;margin-right: 0.25em;color: #696969;}#sk-a0200e91-2aab-476d-bc5e-5b02ffdd6f81 label.sk-toggleable__label-arrow:hover:before {color: black;}#sk-a0200e91-2aab-476d-bc5e-5b02ffdd6f81 div.sk-estimator:hover label.sk-toggleable__label-arrow:before {color: black;}#sk-a0200e91-2aab-476d-bc5e-5b02ffdd6f81 div.sk-toggleable__content {max-height: 0;max-width: 0;overflow: hidden;text-align: left;background-color: #f0f8ff;}#sk-a0200e91-2aab-476d-bc5e-5b02ffdd6f81 div.sk-toggleable__content pre {margin: 0.2em;color: black;border-radius: 0.25em;background-color: #f0f8ff;}#sk-a0200e91-2aab-476d-bc5e-5b02ffdd6f81 input.sk-toggleable__control:checked~div.sk-toggleable__content {max-height: 200px;max-width: 100%;overflow: auto;}#sk-a0200e91-2aab-476d-bc5e-5b02ffdd6f81 input.sk-toggleable__control:checked~label.sk-toggleable__label-arrow:before {content: \"▾\";}#sk-a0200e91-2aab-476d-bc5e-5b02ffdd6f81 div.sk-estimator input.sk-toggleable__control:checked~label.sk-toggleable__label {background-color: #d4ebff;}#sk-a0200e91-2aab-476d-bc5e-5b02ffdd6f81 div.sk-label input.sk-toggleable__control:checked~label.sk-toggleable__label {background-color: #d4ebff;}#sk-a0200e91-2aab-476d-bc5e-5b02ffdd6f81 input.sk-hidden--visually {border: 0;clip: rect(1px 1px 1px 1px);clip: rect(1px, 1px, 1px, 1px);height: 1px;margin: -1px;overflow: hidden;padding: 0;position: absolute;width: 1px;}#sk-a0200e91-2aab-476d-bc5e-5b02ffdd6f81 div.sk-estimator {font-family: monospace;background-color: #f0f8ff;border: 1px dotted black;border-radius: 0.25em;box-sizing: border-box;margin-bottom: 0.5em;}#sk-a0200e91-2aab-476d-bc5e-5b02ffdd6f81 div.sk-estimator:hover {background-color: #d4ebff;}#sk-a0200e91-2aab-476d-bc5e-5b02ffdd6f81 div.sk-parallel-item::after {content: \"\";width: 100%;border-bottom: 1px solid gray;flex-grow: 1;}#sk-a0200e91-2aab-476d-bc5e-5b02ffdd6f81 div.sk-label:hover label.sk-toggleable__label {background-color: #d4ebff;}#sk-a0200e91-2aab-476d-bc5e-5b02ffdd6f81 div.sk-serial::before {content: \"\";position: absolute;border-left: 1px solid gray;box-sizing: border-box;top: 2em;bottom: 0;left: 50%;}#sk-a0200e91-2aab-476d-bc5e-5b02ffdd6f81 div.sk-serial {display: flex;flex-direction: column;align-items: center;background-color: white;padding-right: 0.2em;padding-left: 0.2em;}#sk-a0200e91-2aab-476d-bc5e-5b02ffdd6f81 div.sk-item {z-index: 1;}#sk-a0200e91-2aab-476d-bc5e-5b02ffdd6f81 div.sk-parallel {display: flex;align-items: stretch;justify-content: center;background-color: white;}#sk-a0200e91-2aab-476d-bc5e-5b02ffdd6f81 div.sk-parallel::before {content: \"\";position: absolute;border-left: 1px solid gray;box-sizing: border-box;top: 2em;bottom: 0;left: 50%;}#sk-a0200e91-2aab-476d-bc5e-5b02ffdd6f81 div.sk-parallel-item {display: flex;flex-direction: column;position: relative;background-color: white;}#sk-a0200e91-2aab-476d-bc5e-5b02ffdd6f81 div.sk-parallel-item:first-child::after {align-self: flex-end;width: 50%;}#sk-a0200e91-2aab-476d-bc5e-5b02ffdd6f81 div.sk-parallel-item:last-child::after {align-self: flex-start;width: 50%;}#sk-a0200e91-2aab-476d-bc5e-5b02ffdd6f81 div.sk-parallel-item:only-child::after {width: 0;}#sk-a0200e91-2aab-476d-bc5e-5b02ffdd6f81 div.sk-dashed-wrapped {border: 1px dashed gray;margin: 0 0.4em 0.5em 0.4em;box-sizing: border-box;padding-bottom: 0.4em;background-color: white;position: relative;}#sk-a0200e91-2aab-476d-bc5e-5b02ffdd6f81 div.sk-label label {font-family: monospace;font-weight: bold;background-color: white;display: inline-block;line-height: 1.2em;}#sk-a0200e91-2aab-476d-bc5e-5b02ffdd6f81 div.sk-label-container {position: relative;z-index: 2;text-align: center;}#sk-a0200e91-2aab-476d-bc5e-5b02ffdd6f81 div.sk-container {/* jupyter's `normalize.less` sets `[hidden] { display: none; }` but bootstrap.min.css set `[hidden] { display: none !important; }` so we also need the `!important` here to be able to override the default hidden behavior on the sphinx rendered scikit-learn.org. See: https://github.com/scikit-learn/scikit-learn/issues/21755 */display: inline-block !important;position: relative;}#sk-a0200e91-2aab-476d-bc5e-5b02ffdd6f81 div.sk-text-repr-fallback {display: none;}</style><div id=\"sk-a0200e91-2aab-476d-bc5e-5b02ffdd6f81\" class=\"sk-top-container\"><div class=\"sk-text-repr-fallback\"><pre>Pipeline(steps=[(&#x27;preprocessor&#x27;,\n",
       "                 ColumnTransformer(transformers=[(&#x27;num&#x27;,\n",
       "                                                  Pipeline(steps=[(&#x27;std_scaler&#x27;,\n",
       "                                                                   StandardScaler())]),\n",
       "                                                  [&#x27;host_response_rate&#x27;,\n",
       "                                                   &#x27;host_acceptance_rate&#x27;,\n",
       "                                                   &#x27;host_is_superhost&#x27;,\n",
       "                                                   &#x27;host_listings_count&#x27;,\n",
       "                                                   &#x27;host_has_profile_pic&#x27;,\n",
       "                                                   &#x27;host_identity_verified&#x27;,\n",
       "                                                   &#x27;accommodates&#x27;, &#x27;bedrooms&#x27;,\n",
       "                                                   &#x27;price&#x27;, &#x27;minimum_nights&#x27;,\n",
       "                                                   &#x27;maximum_nights&#x27;,\n",
       "                                                   &#x27;has_availability&#x27;,\n",
       "                                                   &#x27;number_of_reviews&#x27;,\n",
       "                                                   &#x27;license&#x27;,\n",
       "                                                   &#x27;instant_bookable&#x27;]),\n",
       "                                                 (&#x27;cat&#x27;,\n",
       "                                                  Pipeline(steps=[(&#x27;1hot&#x27;,\n",
       "                                                                   OneHotEncoder(handle_unknown=&#x27;ignore&#x27;))]),\n",
       "                                                  [&#x27;host_response_time&#x27;,\n",
       "                                                   &#x27;neighbourhood_group_cleansed&#x27;,\n",
       "                                                   &#x27;room_type&#x27;,\n",
       "                                                   &#x27;host_type&#x27;])])),\n",
       "                (&#x27;logreg&#x27;,\n",
       "                 LogisticRegression(C=0.001, max_iter=1000, penalty=&#x27;l1&#x27;,\n",
       "                                    solver=&#x27;liblinear&#x27;))])</pre><b>Please rerun this cell to show the HTML repr or trust the notebook.</b></div><div class=\"sk-container\" hidden><div class=\"sk-item sk-dashed-wrapped\"><div class=\"sk-label-container\"><div class=\"sk-label sk-toggleable\"><input class=\"sk-toggleable__control sk-hidden--visually\" id=\"2486707f-d7c2-4ee2-8f95-6d704ac50bde\" type=\"checkbox\" ><label for=\"2486707f-d7c2-4ee2-8f95-6d704ac50bde\" class=\"sk-toggleable__label sk-toggleable__label-arrow\">Pipeline</label><div class=\"sk-toggleable__content\"><pre>Pipeline(steps=[(&#x27;preprocessor&#x27;,\n",
       "                 ColumnTransformer(transformers=[(&#x27;num&#x27;,\n",
       "                                                  Pipeline(steps=[(&#x27;std_scaler&#x27;,\n",
       "                                                                   StandardScaler())]),\n",
       "                                                  [&#x27;host_response_rate&#x27;,\n",
       "                                                   &#x27;host_acceptance_rate&#x27;,\n",
       "                                                   &#x27;host_is_superhost&#x27;,\n",
       "                                                   &#x27;host_listings_count&#x27;,\n",
       "                                                   &#x27;host_has_profile_pic&#x27;,\n",
       "                                                   &#x27;host_identity_verified&#x27;,\n",
       "                                                   &#x27;accommodates&#x27;, &#x27;bedrooms&#x27;,\n",
       "                                                   &#x27;price&#x27;, &#x27;minimum_nights&#x27;,\n",
       "                                                   &#x27;maximum_nights&#x27;,\n",
       "                                                   &#x27;has_availability&#x27;,\n",
       "                                                   &#x27;number_of_reviews&#x27;,\n",
       "                                                   &#x27;license&#x27;,\n",
       "                                                   &#x27;instant_bookable&#x27;]),\n",
       "                                                 (&#x27;cat&#x27;,\n",
       "                                                  Pipeline(steps=[(&#x27;1hot&#x27;,\n",
       "                                                                   OneHotEncoder(handle_unknown=&#x27;ignore&#x27;))]),\n",
       "                                                  [&#x27;host_response_time&#x27;,\n",
       "                                                   &#x27;neighbourhood_group_cleansed&#x27;,\n",
       "                                                   &#x27;room_type&#x27;,\n",
       "                                                   &#x27;host_type&#x27;])])),\n",
       "                (&#x27;logreg&#x27;,\n",
       "                 LogisticRegression(C=0.001, max_iter=1000, penalty=&#x27;l1&#x27;,\n",
       "                                    solver=&#x27;liblinear&#x27;))])</pre></div></div></div><div class=\"sk-serial\"><div class=\"sk-item sk-dashed-wrapped\"><div class=\"sk-label-container\"><div class=\"sk-label sk-toggleable\"><input class=\"sk-toggleable__control sk-hidden--visually\" id=\"9f410964-261c-4689-b543-8dbf0990dec9\" type=\"checkbox\" ><label for=\"9f410964-261c-4689-b543-8dbf0990dec9\" class=\"sk-toggleable__label sk-toggleable__label-arrow\">preprocessor: ColumnTransformer</label><div class=\"sk-toggleable__content\"><pre>ColumnTransformer(transformers=[(&#x27;num&#x27;,\n",
       "                                 Pipeline(steps=[(&#x27;std_scaler&#x27;,\n",
       "                                                  StandardScaler())]),\n",
       "                                 [&#x27;host_response_rate&#x27;, &#x27;host_acceptance_rate&#x27;,\n",
       "                                  &#x27;host_is_superhost&#x27;, &#x27;host_listings_count&#x27;,\n",
       "                                  &#x27;host_has_profile_pic&#x27;,\n",
       "                                  &#x27;host_identity_verified&#x27;, &#x27;accommodates&#x27;,\n",
       "                                  &#x27;bedrooms&#x27;, &#x27;price&#x27;, &#x27;minimum_nights&#x27;,\n",
       "                                  &#x27;maximum_nights&#x27;, &#x27;has_availability&#x27;,\n",
       "                                  &#x27;number_of_reviews&#x27;, &#x27;license&#x27;,\n",
       "                                  &#x27;instant_bookable&#x27;]),\n",
       "                                (&#x27;cat&#x27;,\n",
       "                                 Pipeline(steps=[(&#x27;1hot&#x27;,\n",
       "                                                  OneHotEncoder(handle_unknown=&#x27;ignore&#x27;))]),\n",
       "                                 [&#x27;host_response_time&#x27;,\n",
       "                                  &#x27;neighbourhood_group_cleansed&#x27;, &#x27;room_type&#x27;,\n",
       "                                  &#x27;host_type&#x27;])])</pre></div></div></div><div class=\"sk-parallel\"><div class=\"sk-parallel-item\"><div class=\"sk-item\"><div class=\"sk-label-container\"><div class=\"sk-label sk-toggleable\"><input class=\"sk-toggleable__control sk-hidden--visually\" id=\"85d5bb4d-0cba-4779-9b4c-fe4585aa67c7\" type=\"checkbox\" ><label for=\"85d5bb4d-0cba-4779-9b4c-fe4585aa67c7\" class=\"sk-toggleable__label sk-toggleable__label-arrow\">num</label><div class=\"sk-toggleable__content\"><pre>[&#x27;host_response_rate&#x27;, &#x27;host_acceptance_rate&#x27;, &#x27;host_is_superhost&#x27;, &#x27;host_listings_count&#x27;, &#x27;host_has_profile_pic&#x27;, &#x27;host_identity_verified&#x27;, &#x27;accommodates&#x27;, &#x27;bedrooms&#x27;, &#x27;price&#x27;, &#x27;minimum_nights&#x27;, &#x27;maximum_nights&#x27;, &#x27;has_availability&#x27;, &#x27;number_of_reviews&#x27;, &#x27;license&#x27;, &#x27;instant_bookable&#x27;]</pre></div></div></div><div class=\"sk-serial\"><div class=\"sk-item\"><div class=\"sk-serial\"><div class=\"sk-item\"><div class=\"sk-estimator sk-toggleable\"><input class=\"sk-toggleable__control sk-hidden--visually\" id=\"28c764a8-5599-4cb4-8684-c4b5875679b0\" type=\"checkbox\" ><label for=\"28c764a8-5599-4cb4-8684-c4b5875679b0\" class=\"sk-toggleable__label sk-toggleable__label-arrow\">StandardScaler</label><div class=\"sk-toggleable__content\"><pre>StandardScaler()</pre></div></div></div></div></div></div></div></div><div class=\"sk-parallel-item\"><div class=\"sk-item\"><div class=\"sk-label-container\"><div class=\"sk-label sk-toggleable\"><input class=\"sk-toggleable__control sk-hidden--visually\" id=\"042f959b-15c7-4f8a-bc9f-e298134a78ed\" type=\"checkbox\" ><label for=\"042f959b-15c7-4f8a-bc9f-e298134a78ed\" class=\"sk-toggleable__label sk-toggleable__label-arrow\">cat</label><div class=\"sk-toggleable__content\"><pre>[&#x27;host_response_time&#x27;, &#x27;neighbourhood_group_cleansed&#x27;, &#x27;room_type&#x27;, &#x27;host_type&#x27;]</pre></div></div></div><div class=\"sk-serial\"><div class=\"sk-item\"><div class=\"sk-serial\"><div class=\"sk-item\"><div class=\"sk-estimator sk-toggleable\"><input class=\"sk-toggleable__control sk-hidden--visually\" id=\"d7eddde9-7a9f-4c34-9cd3-772a0e8bf78c\" type=\"checkbox\" ><label for=\"d7eddde9-7a9f-4c34-9cd3-772a0e8bf78c\" class=\"sk-toggleable__label sk-toggleable__label-arrow\">OneHotEncoder</label><div class=\"sk-toggleable__content\"><pre>OneHotEncoder(handle_unknown=&#x27;ignore&#x27;)</pre></div></div></div></div></div></div></div></div></div></div><div class=\"sk-item\"><div class=\"sk-estimator sk-toggleable\"><input class=\"sk-toggleable__control sk-hidden--visually\" id=\"5ecbd7e5-28c8-4d4a-ac4b-d56a94112ba7\" type=\"checkbox\" ><label for=\"5ecbd7e5-28c8-4d4a-ac4b-d56a94112ba7\" class=\"sk-toggleable__label sk-toggleable__label-arrow\">LogisticRegression</label><div class=\"sk-toggleable__content\"><pre>LogisticRegression(C=0.001, max_iter=1000, penalty=&#x27;l1&#x27;, solver=&#x27;liblinear&#x27;)</pre></div></div></div></div></div></div></div>"
      ],
      "text/plain": [
       "Pipeline(steps=[('preprocessor',\n",
       "                 ColumnTransformer(transformers=[('num',\n",
       "                                                  Pipeline(steps=[('std_scaler',\n",
       "                                                                   StandardScaler())]),\n",
       "                                                  ['host_response_rate',\n",
       "                                                   'host_acceptance_rate',\n",
       "                                                   'host_is_superhost',\n",
       "                                                   'host_listings_count',\n",
       "                                                   'host_has_profile_pic',\n",
       "                                                   'host_identity_verified',\n",
       "                                                   'accommodates', 'bedrooms',\n",
       "                                                   'price', 'minimum_nights',\n",
       "                                                   'maximum_nights',\n",
       "                                                   'has_availability',\n",
       "                                                   'number_of_reviews',\n",
       "                                                   'license',\n",
       "                                                   'instant_bookable']),\n",
       "                                                 ('cat',\n",
       "                                                  Pipeline(steps=[('1hot',\n",
       "                                                                   OneHotEncoder(handle_unknown='ignore'))]),\n",
       "                                                  ['host_response_time',\n",
       "                                                   'neighbourhood_group_cleansed',\n",
       "                                                   'room_type',\n",
       "                                                   'host_type'])])),\n",
       "                ('logreg',\n",
       "                 LogisticRegression(C=0.001, max_iter=1000, penalty='l1',\n",
       "                                    solver='liblinear'))])"
      ]
     },
     "execution_count": 39,
     "metadata": {},
     "output_type": "execute_result"
    }
   ],
   "source": [
    "# save model with best parameters\n",
    "baselinemodel = grid_logreg_bl.best_estimator_\n",
    "baselinemodel"
   ]
  },
  {
   "cell_type": "code",
   "execution_count": 40,
   "id": "12ad4f36-18f7-4e2c-a63f-4eecb0312f7d",
   "metadata": {
    "tags": []
   },
   "outputs": [
    {
     "name": "stdout",
     "output_type": "stream",
     "text": [
      "Accuracy: 0.80\n",
      "Recall: 0.89\n",
      "Precision: 0.73\n"
     ]
    }
   ],
   "source": [
    "# apply model on test data\n",
    "y_test_predicted_bl = baselinemodel.predict(X_test)\n",
    "print(\"Accuracy: {:.2f}\".format(accuracy_score(y_test, y_test_predicted_bl)))\n",
    "print(\"Recall: {:.2f}\".format(recall_score(y_test, y_test_predicted_bl)))\n",
    "print(\"Precision: {:.2f}\".format(precision_score(y_test, y_test_predicted_bl)))"
   ]
  },
  {
   "cell_type": "code",
   "execution_count": 41,
   "id": "f9c5616c-0f8e-4c2f-bd87-9791454e02c6",
   "metadata": {
    "tags": []
   },
   "outputs": [
    {
     "data": {
      "image/png": "[encoded data removed]",
      "text/plain": [
       "<Figure size 640x480 with 2 Axes>"
      ]
     },
     "metadata": {},
     "output_type": "display_data"
    }
   ],
   "source": [
    "# plot confusion matrix\n",
    "%matplotlib inline\n",
    "cfm_bl = confusion_matrix(y_test, y_test_predicted_bl)\n",
    "group_names = ['True Neg','False Pos','False Neg','True Pos']\n",
    "group_counts = ['{0:0.0f}'.format(value) for value in\n",
    "                cfm_bl.flatten()]\n",
    "group_percentages = ['{0:.2%}'.format(value) for value in\n",
    "                     cfm_bl.flatten()/np.sum(cfm_bl)]\n",
    "labels = [f'{v1}\\n{v2}\\n{v3}' for v1, v2, v3 in\n",
    "          zip(group_names,group_counts,group_percentages)]\n",
    "labels = np.asarray(labels).reshape(2,2)\n",
    "sns.heatmap(cfm_bl, annot=labels, fmt='', cmap=cpal2);"
   ]
  },
  {
   "cell_type": "markdown",
   "id": "e25bd39c-3c2c-4ee1-9e5d-c8786970c60e",
   "metadata": {},
   "source": [
    "## Random Forest"
   ]
  },
  {
   "cell_type": "code",
   "execution_count": 41,
   "id": "27526319-75cf-48ce-8325-889b9f33c7c8",
   "metadata": {
    "tags": []
   },
   "outputs": [
    {
     "name": "stdout",
     "output_type": "stream",
     "text": [
      "Cross validation scores:\n",
      "-------------------------\n",
      "Accuracy: 0.98\n",
      "Recall: 0.99\n",
      "Precision: 0.97\n"
     ]
    }
   ],
   "source": [
    "# build pipeline\n",
    "pipe_rf = Pipeline([\n",
    "    ('preprocessor', preprocessor),\n",
    "    ('randfor', RandomForestClassifier(random_state=RSEED))\n",
    "])\n",
    "\n",
    "#cross validate\n",
    "y_train_predicted_rf = cross_val_predict(pipe_rf, X_train, y_train, cv=5)\n",
    "\n",
    "#print scores\n",
    "print('Cross validation scores:')\n",
    "print('-------------------------')\n",
    "print(\"Accuracy: {:.2f}\".format(accuracy_score(y_train, y_train_predicted_rf)))\n",
    "print(\"Recall: {:.2f}\".format(recall_score(y_train, y_train_predicted_rf)))\n",
    "print(\"Precision: {:.2f}\".format(precision_score(y_train, y_train_predicted_rf)))"
   ]
  },
  {
   "cell_type": "markdown",
   "id": "67bd8911-247b-4bf1-88da-8435740654b6",
   "metadata": {},
   "source": [
    "#### Hyperparameter tuning"
   ]
  },
  {
   "cell_type": "code",
   "execution_count": 43,
   "id": "304bcce6-71d7-4a7b-a5b9-76973899f940",
   "metadata": {
    "tags": []
   },
   "outputs": [],
   "source": [
    "# define parameters to test\n",
    "param_rf_all = {'randfor__n_estimators':[100, 500, 1000, 1500, 2000],\n",
    "                'randfor__min_samples_split': [2, 5, 10, 15, 20],\n",
    "                'randfor__max_depth': [10,20,50,80,100],\n",
    "                'randfor__max_features': ['auto', 'sqrt'],\n",
    "                'randfor__min_samples_leaf' : [1,2,4],\n",
    "                'randfor__bootstrap': [True, False],\n",
    "              }"
   ]
  },
  {
   "cell_type": "code",
   "execution_count": 44,
   "id": "e39056bc-90bc-4a21-8def-b4ab1a95ef36",
   "metadata": {
    "tags": []
   },
   "outputs": [],
   "source": [
    "# save best parameters found in grid search\n",
    "param_rf_best = {'randfor__n_estimators':[1500],\n",
    "                'randfor__min_samples_split': [2],\n",
    "                'randfor__max_depth': [50],\n",
    "                'randfor__max_features': ['auto'],\n",
    "                'randfor__min_samples_leaf' : [1],\n",
    "                'randfor__bootstrap': [False],\n",
    "             }"
   ]
  },
  {
   "cell_type": "code",
   "execution_count": 45,
   "id": "6f71a038-16d3-448e-b528-102ee60ff544",
   "metadata": {
    "tags": []
   },
   "outputs": [
    {
     "name": "stdout",
     "output_type": "stream",
     "text": [
      "Fitting 5 folds for each of 1 candidates, totalling 5 fits\n"
     ]
    },
    {
     "data": {
      "text/html": [
       "<style>#sk-b7941228-682e-421b-bf34-14d2aa8adc41 {color: black;background-color: white;}#sk-b7941228-682e-421b-bf34-14d2aa8adc41 pre{padding: 0;}#sk-b7941228-682e-421b-bf34-14d2aa8adc41 div.sk-toggleable {background-color: white;}#sk-b7941228-682e-421b-bf34-14d2aa8adc41 label.sk-toggleable__label {cursor: pointer;display: block;width: 100%;margin-bottom: 0;padding: 0.3em;box-sizing: border-box;text-align: center;}#sk-b7941228-682e-421b-bf34-14d2aa8adc41 label.sk-toggleable__label-arrow:before {content: \"▸\";float: left;margin-right: 0.25em;color: #696969;}#sk-b7941228-682e-421b-bf34-14d2aa8adc41 label.sk-toggleable__label-arrow:hover:before {color: black;}#sk-b7941228-682e-421b-bf34-14d2aa8adc41 div.sk-estimator:hover label.sk-toggleable__label-arrow:before {color: black;}#sk-b7941228-682e-421b-bf34-14d2aa8adc41 div.sk-toggleable__content {max-height: 0;max-width: 0;overflow: hidden;text-align: left;background-color: #f0f8ff;}#sk-b7941228-682e-421b-bf34-14d2aa8adc41 div.sk-toggleable__content pre {margin: 0.2em;color: black;border-radius: 0.25em;background-color: #f0f8ff;}#sk-b7941228-682e-421b-bf34-14d2aa8adc41 input.sk-toggleable__control:checked~div.sk-toggleable__content {max-height: 200px;max-width: 100%;overflow: auto;}#sk-b7941228-682e-421b-bf34-14d2aa8adc41 input.sk-toggleable__control:checked~label.sk-toggleable__label-arrow:before {content: \"▾\";}#sk-b7941228-682e-421b-bf34-14d2aa8adc41 div.sk-estimator input.sk-toggleable__control:checked~label.sk-toggleable__label {background-color: #d4ebff;}#sk-b7941228-682e-421b-bf34-14d2aa8adc41 div.sk-label input.sk-toggleable__control:checked~label.sk-toggleable__label {background-color: #d4ebff;}#sk-b7941228-682e-421b-bf34-14d2aa8adc41 input.sk-hidden--visually {border: 0;clip: rect(1px 1px 1px 1px);clip: rect(1px, 1px, 1px, 1px);height: 1px;margin: -1px;overflow: hidden;padding: 0;position: absolute;width: 1px;}#sk-b7941228-682e-421b-bf34-14d2aa8adc41 div.sk-estimator {font-family: monospace;background-color: #f0f8ff;border: 1px dotted black;border-radius: 0.25em;box-sizing: border-box;margin-bottom: 0.5em;}#sk-b7941228-682e-421b-bf34-14d2aa8adc41 div.sk-estimator:hover {background-color: #d4ebff;}#sk-b7941228-682e-421b-bf34-14d2aa8adc41 div.sk-parallel-item::after {content: \"\";width: 100%;border-bottom: 1px solid gray;flex-grow: 1;}#sk-b7941228-682e-421b-bf34-14d2aa8adc41 div.sk-label:hover label.sk-toggleable__label {background-color: #d4ebff;}#sk-b7941228-682e-421b-bf34-14d2aa8adc41 div.sk-serial::before {content: \"\";position: absolute;border-left: 1px solid gray;box-sizing: border-box;top: 2em;bottom: 0;left: 50%;}#sk-b7941228-682e-421b-bf34-14d2aa8adc41 div.sk-serial {display: flex;flex-direction: column;align-items: center;background-color: white;padding-right: 0.2em;padding-left: 0.2em;}#sk-b7941228-682e-421b-bf34-14d2aa8adc41 div.sk-item {z-index: 1;}#sk-b7941228-682e-421b-bf34-14d2aa8adc41 div.sk-parallel {display: flex;align-items: stretch;justify-content: center;background-color: white;}#sk-b7941228-682e-421b-bf34-14d2aa8adc41 div.sk-parallel::before {content: \"\";position: absolute;border-left: 1px solid gray;box-sizing: border-box;top: 2em;bottom: 0;left: 50%;}#sk-b7941228-682e-421b-bf34-14d2aa8adc41 div.sk-parallel-item {display: flex;flex-direction: column;position: relative;background-color: white;}#sk-b7941228-682e-421b-bf34-14d2aa8adc41 div.sk-parallel-item:first-child::after {align-self: flex-end;width: 50%;}#sk-b7941228-682e-421b-bf34-14d2aa8adc41 div.sk-parallel-item:last-child::after {align-self: flex-start;width: 50%;}#sk-b7941228-682e-421b-bf34-14d2aa8adc41 div.sk-parallel-item:only-child::after {width: 0;}#sk-b7941228-682e-421b-bf34-14d2aa8adc41 div.sk-dashed-wrapped {border: 1px dashed gray;margin: 0 0.4em 0.5em 0.4em;box-sizing: border-box;padding-bottom: 0.4em;background-color: white;position: relative;}#sk-b7941228-682e-421b-bf34-14d2aa8adc41 div.sk-label label {font-family: monospace;font-weight: bold;background-color: white;display: inline-block;line-height: 1.2em;}#sk-b7941228-682e-421b-bf34-14d2aa8adc41 div.sk-label-container {position: relative;z-index: 2;text-align: center;}#sk-b7941228-682e-421b-bf34-14d2aa8adc41 div.sk-container {/* jupyter's `normalize.less` sets `[hidden] { display: none; }` but bootstrap.min.css set `[hidden] { display: none !important; }` so we also need the `!important` here to be able to override the default hidden behavior on the sphinx rendered scikit-learn.org. See: https://github.com/scikit-learn/scikit-learn/issues/21755 */display: inline-block !important;position: relative;}#sk-b7941228-682e-421b-bf34-14d2aa8adc41 div.sk-text-repr-fallback {display: none;}</style><div id=\"sk-b7941228-682e-421b-bf34-14d2aa8adc41\" class=\"sk-top-container\"><div class=\"sk-text-repr-fallback\"><pre>GridSearchCV(cv=5,\n",
       "             estimator=Pipeline(steps=[(&#x27;preprocessor&#x27;,\n",
       "                                        ColumnTransformer(transformers=[(&#x27;num&#x27;,\n",
       "                                                                         Pipeline(steps=[(&#x27;std_scaler&#x27;,\n",
       "                                                                                          StandardScaler())]),\n",
       "                                                                         [&#x27;host_response_rate&#x27;,\n",
       "                                                                          &#x27;host_acceptance_rate&#x27;,\n",
       "                                                                          &#x27;host_is_superhost&#x27;,\n",
       "                                                                          &#x27;host_listings_count&#x27;,\n",
       "                                                                          &#x27;host_has_profile_pic&#x27;,\n",
       "                                                                          &#x27;host_identity_verified&#x27;,\n",
       "                                                                          &#x27;accommodates&#x27;,\n",
       "                                                                          &#x27;bedrooms&#x27;,\n",
       "                                                                          &#x27;price&#x27;,\n",
       "                                                                          &#x27;minimum_nights&#x27;,\n",
       "                                                                          &#x27;maximum_nights...\n",
       "                                                                          &#x27;neighbourhood_group_cleansed&#x27;,\n",
       "                                                                          &#x27;room_type&#x27;,\n",
       "                                                                          &#x27;host_type&#x27;])])),\n",
       "                                       (&#x27;randfor&#x27;,\n",
       "                                        RandomForestClassifier(random_state=15))]),\n",
       "             n_jobs=-1,\n",
       "             param_grid={&#x27;randfor__bootstrap&#x27;: [False],\n",
       "                         &#x27;randfor__max_depth&#x27;: [50],\n",
       "                         &#x27;randfor__max_features&#x27;: [&#x27;auto&#x27;],\n",
       "                         &#x27;randfor__min_samples_leaf&#x27;: [1],\n",
       "                         &#x27;randfor__min_samples_split&#x27;: [2],\n",
       "                         &#x27;randfor__n_estimators&#x27;: [1500]},\n",
       "             scoring=&#x27;accuracy&#x27;, verbose=5)</pre><b>Please rerun this cell to show the HTML repr or trust the notebook.</b></div><div class=\"sk-container\" hidden><div class=\"sk-item sk-dashed-wrapped\"><div class=\"sk-label-container\"><div class=\"sk-label sk-toggleable\"><input class=\"sk-toggleable__control sk-hidden--visually\" id=\"44a14af5-6ea4-454f-b29a-b9859629a74a\" type=\"checkbox\" ><label for=\"44a14af5-6ea4-454f-b29a-b9859629a74a\" class=\"sk-toggleable__label sk-toggleable__label-arrow\">GridSearchCV</label><div class=\"sk-toggleable__content\"><pre>GridSearchCV(cv=5,\n",
       "             estimator=Pipeline(steps=[(&#x27;preprocessor&#x27;,\n",
       "                                        ColumnTransformer(transformers=[(&#x27;num&#x27;,\n",
       "                                                                         Pipeline(steps=[(&#x27;std_scaler&#x27;,\n",
       "                                                                                          StandardScaler())]),\n",
       "                                                                         [&#x27;host_response_rate&#x27;,\n",
       "                                                                          &#x27;host_acceptance_rate&#x27;,\n",
       "                                                                          &#x27;host_is_superhost&#x27;,\n",
       "                                                                          &#x27;host_listings_count&#x27;,\n",
       "                                                                          &#x27;host_has_profile_pic&#x27;,\n",
       "                                                                          &#x27;host_identity_verified&#x27;,\n",
       "                                                                          &#x27;accommodates&#x27;,\n",
       "                                                                          &#x27;bedrooms&#x27;,\n",
       "                                                                          &#x27;price&#x27;,\n",
       "                                                                          &#x27;minimum_nights&#x27;,\n",
       "                                                                          &#x27;maximum_nights...\n",
       "                                                                          &#x27;neighbourhood_group_cleansed&#x27;,\n",
       "                                                                          &#x27;room_type&#x27;,\n",
       "                                                                          &#x27;host_type&#x27;])])),\n",
       "                                       (&#x27;randfor&#x27;,\n",
       "                                        RandomForestClassifier(random_state=15))]),\n",
       "             n_jobs=-1,\n",
       "             param_grid={&#x27;randfor__bootstrap&#x27;: [False],\n",
       "                         &#x27;randfor__max_depth&#x27;: [50],\n",
       "                         &#x27;randfor__max_features&#x27;: [&#x27;auto&#x27;],\n",
       "                         &#x27;randfor__min_samples_leaf&#x27;: [1],\n",
       "                         &#x27;randfor__min_samples_split&#x27;: [2],\n",
       "                         &#x27;randfor__n_estimators&#x27;: [1500]},\n",
       "             scoring=&#x27;accuracy&#x27;, verbose=5)</pre></div></div></div><div class=\"sk-parallel\"><div class=\"sk-parallel-item\"><div class=\"sk-item\"><div class=\"sk-serial\"><div class=\"sk-item\"><div class=\"sk-serial\"><div class=\"sk-item sk-dashed-wrapped\"><div class=\"sk-label-container\"><div class=\"sk-label sk-toggleable\"><input class=\"sk-toggleable__control sk-hidden--visually\" id=\"11992ced-b363-4628-a4dd-ae2a6924c1d8\" type=\"checkbox\" ><label for=\"11992ced-b363-4628-a4dd-ae2a6924c1d8\" class=\"sk-toggleable__label sk-toggleable__label-arrow\">preprocessor: ColumnTransformer</label><div class=\"sk-toggleable__content\"><pre>ColumnTransformer(transformers=[(&#x27;num&#x27;,\n",
       "                                 Pipeline(steps=[(&#x27;std_scaler&#x27;,\n",
       "                                                  StandardScaler())]),\n",
       "                                 [&#x27;host_response_rate&#x27;, &#x27;host_acceptance_rate&#x27;,\n",
       "                                  &#x27;host_is_superhost&#x27;, &#x27;host_listings_count&#x27;,\n",
       "                                  &#x27;host_has_profile_pic&#x27;,\n",
       "                                  &#x27;host_identity_verified&#x27;, &#x27;accommodates&#x27;,\n",
       "                                  &#x27;bedrooms&#x27;, &#x27;price&#x27;, &#x27;minimum_nights&#x27;,\n",
       "                                  &#x27;maximum_nights&#x27;, &#x27;has_availability&#x27;,\n",
       "                                  &#x27;number_of_reviews&#x27;, &#x27;license&#x27;,\n",
       "                                  &#x27;instant_bookable&#x27;]),\n",
       "                                (&#x27;cat&#x27;,\n",
       "                                 Pipeline(steps=[(&#x27;1hot&#x27;,\n",
       "                                                  OneHotEncoder(handle_unknown=&#x27;ignore&#x27;))]),\n",
       "                                 [&#x27;host_response_time&#x27;,\n",
       "                                  &#x27;neighbourhood_group_cleansed&#x27;, &#x27;room_type&#x27;,\n",
       "                                  &#x27;host_type&#x27;])])</pre></div></div></div><div class=\"sk-parallel\"><div class=\"sk-parallel-item\"><div class=\"sk-item\"><div class=\"sk-label-container\"><div class=\"sk-label sk-toggleable\"><input class=\"sk-toggleable__control sk-hidden--visually\" id=\"df2bf6aa-28bb-4f82-a5c1-fabf6e8820e5\" type=\"checkbox\" ><label for=\"df2bf6aa-28bb-4f82-a5c1-fabf6e8820e5\" class=\"sk-toggleable__label sk-toggleable__label-arrow\">num</label><div class=\"sk-toggleable__content\"><pre>[&#x27;host_response_rate&#x27;, &#x27;host_acceptance_rate&#x27;, &#x27;host_is_superhost&#x27;, &#x27;host_listings_count&#x27;, &#x27;host_has_profile_pic&#x27;, &#x27;host_identity_verified&#x27;, &#x27;accommodates&#x27;, &#x27;bedrooms&#x27;, &#x27;price&#x27;, &#x27;minimum_nights&#x27;, &#x27;maximum_nights&#x27;, &#x27;has_availability&#x27;, &#x27;number_of_reviews&#x27;, &#x27;license&#x27;, &#x27;instant_bookable&#x27;]</pre></div></div></div><div class=\"sk-serial\"><div class=\"sk-item\"><div class=\"sk-serial\"><div class=\"sk-item\"><div class=\"sk-estimator sk-toggleable\"><input class=\"sk-toggleable__control sk-hidden--visually\" id=\"ec3d1d87-3e0f-4bc5-84af-161076cb88f8\" type=\"checkbox\" ><label for=\"ec3d1d87-3e0f-4bc5-84af-161076cb88f8\" class=\"sk-toggleable__label sk-toggleable__label-arrow\">StandardScaler</label><div class=\"sk-toggleable__content\"><pre>StandardScaler()</pre></div></div></div></div></div></div></div></div><div class=\"sk-parallel-item\"><div class=\"sk-item\"><div class=\"sk-label-container\"><div class=\"sk-label sk-toggleable\"><input class=\"sk-toggleable__control sk-hidden--visually\" id=\"7a77198a-f664-4508-a062-47bd99aa0fc2\" type=\"checkbox\" ><label for=\"7a77198a-f664-4508-a062-47bd99aa0fc2\" class=\"sk-toggleable__label sk-toggleable__label-arrow\">cat</label><div class=\"sk-toggleable__content\"><pre>[&#x27;host_response_time&#x27;, &#x27;neighbourhood_group_cleansed&#x27;, &#x27;room_type&#x27;, &#x27;host_type&#x27;]</pre></div></div></div><div class=\"sk-serial\"><div class=\"sk-item\"><div class=\"sk-serial\"><div class=\"sk-item\"><div class=\"sk-estimator sk-toggleable\"><input class=\"sk-toggleable__control sk-hidden--visually\" id=\"5769a782-e55d-4d59-9dfb-90304df916d9\" type=\"checkbox\" ><label for=\"5769a782-e55d-4d59-9dfb-90304df916d9\" class=\"sk-toggleable__label sk-toggleable__label-arrow\">OneHotEncoder</label><div class=\"sk-toggleable__content\"><pre>OneHotEncoder(handle_unknown=&#x27;ignore&#x27;)</pre></div></div></div></div></div></div></div></div></div></div><div class=\"sk-item\"><div class=\"sk-estimator sk-toggleable\"><input class=\"sk-toggleable__control sk-hidden--visually\" id=\"0f7a9505-3442-4e6d-b596-9eadfc34df4f\" type=\"checkbox\" ><label for=\"0f7a9505-3442-4e6d-b596-9eadfc34df4f\" class=\"sk-toggleable__label sk-toggleable__label-arrow\">RandomForestClassifier</label><div class=\"sk-toggleable__content\"><pre>RandomForestClassifier(random_state=15)</pre></div></div></div></div></div></div></div></div></div></div></div></div>"
      ],
      "text/plain": [
       "GridSearchCV(cv=5,\n",
       "             estimator=Pipeline(steps=[('preprocessor',\n",
       "                                        ColumnTransformer(transformers=[('num',\n",
       "                                                                         Pipeline(steps=[('std_scaler',\n",
       "                                                                                          StandardScaler())]),\n",
       "                                                                         ['host_response_rate',\n",
       "                                                                          'host_acceptance_rate',\n",
       "                                                                          'host_is_superhost',\n",
       "                                                                          'host_listings_count',\n",
       "                                                                          'host_has_profile_pic',\n",
       "                                                                          'host_identity_verified',\n",
       "                                                                          'accommodates',\n",
       "                                                                          'bedrooms',\n",
       "                                                                          'price',\n",
       "                                                                          'minimum_nights',\n",
       "                                                                          'maximum_nights...\n",
       "                                                                          'neighbourhood_group_cleansed',\n",
       "                                                                          'room_type',\n",
       "                                                                          'host_type'])])),\n",
       "                                       ('randfor',\n",
       "                                        RandomForestClassifier(random_state=15))]),\n",
       "             n_jobs=-1,\n",
       "             param_grid={'randfor__bootstrap': [False],\n",
       "                         'randfor__max_depth': [50],\n",
       "                         'randfor__max_features': ['auto'],\n",
       "                         'randfor__min_samples_leaf': [1],\n",
       "                         'randfor__min_samples_split': [2],\n",
       "                         'randfor__n_estimators': [1500]},\n",
       "             scoring='accuracy', verbose=5)"
      ]
     },
     "execution_count": 45,
     "metadata": {},
     "output_type": "execute_result"
    }
   ],
   "source": [
    "# define grid search (now only with the best parameters)\n",
    "grid_rf = GridSearchCV(pipe_rf, param_grid=param_rf_best, cv=5, scoring='accuracy', \n",
    "                           verbose=5, n_jobs=-1)\n",
    "\n",
    "# run grid search\n",
    "grid_rf.fit(X_train, y_train)"
   ]
  },
  {
   "cell_type": "code",
   "execution_count": 46,
   "id": "7bd948cb-16d8-49c3-9095-90f3daf94280",
   "metadata": {
    "tags": []
   },
   "outputs": [
    {
     "name": "stdout",
     "output_type": "stream",
     "text": [
      "Best score:\n",
      "0.99\n",
      "Best parameters:\n",
      "{'randfor__bootstrap': False, 'randfor__max_depth': 50, 'randfor__max_features': 'auto', 'randfor__min_samples_leaf': 1, 'randfor__min_samples_split': 2, 'randfor__n_estimators': 1500}\n"
     ]
    }
   ],
   "source": [
    "# print best score and best parameters\n",
    "print('Best score:\\n{:.2f}'.format(grid_rf.best_score_))\n",
    "print(\"Best parameters:\\n{}\".format(grid_rf.best_params_))"
   ]
  },
  {
   "cell_type": "code",
   "execution_count": 47,
   "id": "07454632-e056-4886-942b-4d30f703a4d5",
   "metadata": {
    "tags": []
   },
   "outputs": [
    {
     "data": {
      "text/html": [
       "<style>#sk-7c2bf0e1-0c4e-4f82-b332-96072598c8df {color: black;background-color: white;}#sk-7c2bf0e1-0c4e-4f82-b332-96072598c8df pre{padding: 0;}#sk-7c2bf0e1-0c4e-4f82-b332-96072598c8df div.sk-toggleable {background-color: white;}#sk-7c2bf0e1-0c4e-4f82-b332-96072598c8df label.sk-toggleable__label {cursor: pointer;display: block;width: 100%;margin-bottom: 0;padding: 0.3em;box-sizing: border-box;text-align: center;}#sk-7c2bf0e1-0c4e-4f82-b332-96072598c8df label.sk-toggleable__label-arrow:before {content: \"▸\";float: left;margin-right: 0.25em;color: #696969;}#sk-7c2bf0e1-0c4e-4f82-b332-96072598c8df label.sk-toggleable__label-arrow:hover:before {color: black;}#sk-7c2bf0e1-0c4e-4f82-b332-96072598c8df div.sk-estimator:hover label.sk-toggleable__label-arrow:before {color: black;}#sk-7c2bf0e1-0c4e-4f82-b332-96072598c8df div.sk-toggleable__content {max-height: 0;max-width: 0;overflow: hidden;text-align: left;background-color: #f0f8ff;}#sk-7c2bf0e1-0c4e-4f82-b332-96072598c8df div.sk-toggleable__content pre {margin: 0.2em;color: black;border-radius: 0.25em;background-color: #f0f8ff;}#sk-7c2bf0e1-0c4e-4f82-b332-96072598c8df input.sk-toggleable__control:checked~div.sk-toggleable__content {max-height: 200px;max-width: 100%;overflow: auto;}#sk-7c2bf0e1-0c4e-4f82-b332-96072598c8df input.sk-toggleable__control:checked~label.sk-toggleable__label-arrow:before {content: \"▾\";}#sk-7c2bf0e1-0c4e-4f82-b332-96072598c8df div.sk-estimator input.sk-toggleable__control:checked~label.sk-toggleable__label {background-color: #d4ebff;}#sk-7c2bf0e1-0c4e-4f82-b332-96072598c8df div.sk-label input.sk-toggleable__control:checked~label.sk-toggleable__label {background-color: #d4ebff;}#sk-7c2bf0e1-0c4e-4f82-b332-96072598c8df input.sk-hidden--visually {border: 0;clip: rect(1px 1px 1px 1px);clip: rect(1px, 1px, 1px, 1px);height: 1px;margin: -1px;overflow: hidden;padding: 0;position: absolute;width: 1px;}#sk-7c2bf0e1-0c4e-4f82-b332-96072598c8df div.sk-estimator {font-family: monospace;background-color: #f0f8ff;border: 1px dotted black;border-radius: 0.25em;box-sizing: border-box;margin-bottom: 0.5em;}#sk-7c2bf0e1-0c4e-4f82-b332-96072598c8df div.sk-estimator:hover {background-color: #d4ebff;}#sk-7c2bf0e1-0c4e-4f82-b332-96072598c8df div.sk-parallel-item::after {content: \"\";width: 100%;border-bottom: 1px solid gray;flex-grow: 1;}#sk-7c2bf0e1-0c4e-4f82-b332-96072598c8df div.sk-label:hover label.sk-toggleable__label {background-color: #d4ebff;}#sk-7c2bf0e1-0c4e-4f82-b332-96072598c8df div.sk-serial::before {content: \"\";position: absolute;border-left: 1px solid gray;box-sizing: border-box;top: 2em;bottom: 0;left: 50%;}#sk-7c2bf0e1-0c4e-4f82-b332-96072598c8df div.sk-serial {display: flex;flex-direction: column;align-items: center;background-color: white;padding-right: 0.2em;padding-left: 0.2em;}#sk-7c2bf0e1-0c4e-4f82-b332-96072598c8df div.sk-item {z-index: 1;}#sk-7c2bf0e1-0c4e-4f82-b332-96072598c8df div.sk-parallel {display: flex;align-items: stretch;justify-content: center;background-color: white;}#sk-7c2bf0e1-0c4e-4f82-b332-96072598c8df div.sk-parallel::before {content: \"\";position: absolute;border-left: 1px solid gray;box-sizing: border-box;top: 2em;bottom: 0;left: 50%;}#sk-7c2bf0e1-0c4e-4f82-b332-96072598c8df div.sk-parallel-item {display: flex;flex-direction: column;position: relative;background-color: white;}#sk-7c2bf0e1-0c4e-4f82-b332-96072598c8df div.sk-parallel-item:first-child::after {align-self: flex-end;width: 50%;}#sk-7c2bf0e1-0c4e-4f82-b332-96072598c8df div.sk-parallel-item:last-child::after {align-self: flex-start;width: 50%;}#sk-7c2bf0e1-0c4e-4f82-b332-96072598c8df div.sk-parallel-item:only-child::after {width: 0;}#sk-7c2bf0e1-0c4e-4f82-b332-96072598c8df div.sk-dashed-wrapped {border: 1px dashed gray;margin: 0 0.4em 0.5em 0.4em;box-sizing: border-box;padding-bottom: 0.4em;background-color: white;position: relative;}#sk-7c2bf0e1-0c4e-4f82-b332-96072598c8df div.sk-label label {font-family: monospace;font-weight: bold;background-color: white;display: inline-block;line-height: 1.2em;}#sk-7c2bf0e1-0c4e-4f82-b332-96072598c8df div.sk-label-container {position: relative;z-index: 2;text-align: center;}#sk-7c2bf0e1-0c4e-4f82-b332-96072598c8df div.sk-container {/* jupyter's `normalize.less` sets `[hidden] { display: none; }` but bootstrap.min.css set `[hidden] { display: none !important; }` so we also need the `!important` here to be able to override the default hidden behavior on the sphinx rendered scikit-learn.org. See: https://github.com/scikit-learn/scikit-learn/issues/21755 */display: inline-block !important;position: relative;}#sk-7c2bf0e1-0c4e-4f82-b332-96072598c8df div.sk-text-repr-fallback {display: none;}</style><div id=\"sk-7c2bf0e1-0c4e-4f82-b332-96072598c8df\" class=\"sk-top-container\"><div class=\"sk-text-repr-fallback\"><pre>Pipeline(steps=[(&#x27;preprocessor&#x27;,\n",
       "                 ColumnTransformer(transformers=[(&#x27;num&#x27;,\n",
       "                                                  Pipeline(steps=[(&#x27;std_scaler&#x27;,\n",
       "                                                                   StandardScaler())]),\n",
       "                                                  [&#x27;host_response_rate&#x27;,\n",
       "                                                   &#x27;host_acceptance_rate&#x27;,\n",
       "                                                   &#x27;host_is_superhost&#x27;,\n",
       "                                                   &#x27;host_listings_count&#x27;,\n",
       "                                                   &#x27;host_has_profile_pic&#x27;,\n",
       "                                                   &#x27;host_identity_verified&#x27;,\n",
       "                                                   &#x27;accommodates&#x27;, &#x27;bedrooms&#x27;,\n",
       "                                                   &#x27;price&#x27;, &#x27;minimum_nights&#x27;,\n",
       "                                                   &#x27;maximum_nights&#x27;,\n",
       "                                                   &#x27;has_availability&#x27;,\n",
       "                                                   &#x27;number_of_reviews&#x27;,\n",
       "                                                   &#x27;license&#x27;,\n",
       "                                                   &#x27;instant_bookable&#x27;]),\n",
       "                                                 (&#x27;cat&#x27;,\n",
       "                                                  Pipeline(steps=[(&#x27;1hot&#x27;,\n",
       "                                                                   OneHotEncoder(handle_unknown=&#x27;ignore&#x27;))]),\n",
       "                                                  [&#x27;host_response_time&#x27;,\n",
       "                                                   &#x27;neighbourhood_group_cleansed&#x27;,\n",
       "                                                   &#x27;room_type&#x27;,\n",
       "                                                   &#x27;host_type&#x27;])])),\n",
       "                (&#x27;randfor&#x27;,\n",
       "                 RandomForestClassifier(bootstrap=False, max_depth=50,\n",
       "                                        n_estimators=1500, random_state=15))])</pre><b>Please rerun this cell to show the HTML repr or trust the notebook.</b></div><div class=\"sk-container\" hidden><div class=\"sk-item sk-dashed-wrapped\"><div class=\"sk-label-container\"><div class=\"sk-label sk-toggleable\"><input class=\"sk-toggleable__control sk-hidden--visually\" id=\"9951db29-0cd5-46a3-b1ef-18ae7e293856\" type=\"checkbox\" ><label for=\"9951db29-0cd5-46a3-b1ef-18ae7e293856\" class=\"sk-toggleable__label sk-toggleable__label-arrow\">Pipeline</label><div class=\"sk-toggleable__content\"><pre>Pipeline(steps=[(&#x27;preprocessor&#x27;,\n",
       "                 ColumnTransformer(transformers=[(&#x27;num&#x27;,\n",
       "                                                  Pipeline(steps=[(&#x27;std_scaler&#x27;,\n",
       "                                                                   StandardScaler())]),\n",
       "                                                  [&#x27;host_response_rate&#x27;,\n",
       "                                                   &#x27;host_acceptance_rate&#x27;,\n",
       "                                                   &#x27;host_is_superhost&#x27;,\n",
       "                                                   &#x27;host_listings_count&#x27;,\n",
       "                                                   &#x27;host_has_profile_pic&#x27;,\n",
       "                                                   &#x27;host_identity_verified&#x27;,\n",
       "                                                   &#x27;accommodates&#x27;, &#x27;bedrooms&#x27;,\n",
       "                                                   &#x27;price&#x27;, &#x27;minimum_nights&#x27;,\n",
       "                                                   &#x27;maximum_nights&#x27;,\n",
       "                                                   &#x27;has_availability&#x27;,\n",
       "                                                   &#x27;number_of_reviews&#x27;,\n",
       "                                                   &#x27;license&#x27;,\n",
       "                                                   &#x27;instant_bookable&#x27;]),\n",
       "                                                 (&#x27;cat&#x27;,\n",
       "                                                  Pipeline(steps=[(&#x27;1hot&#x27;,\n",
       "                                                                   OneHotEncoder(handle_unknown=&#x27;ignore&#x27;))]),\n",
       "                                                  [&#x27;host_response_time&#x27;,\n",
       "                                                   &#x27;neighbourhood_group_cleansed&#x27;,\n",
       "                                                   &#x27;room_type&#x27;,\n",
       "                                                   &#x27;host_type&#x27;])])),\n",
       "                (&#x27;randfor&#x27;,\n",
       "                 RandomForestClassifier(bootstrap=False, max_depth=50,\n",
       "                                        n_estimators=1500, random_state=15))])</pre></div></div></div><div class=\"sk-serial\"><div class=\"sk-item sk-dashed-wrapped\"><div class=\"sk-label-container\"><div class=\"sk-label sk-toggleable\"><input class=\"sk-toggleable__control sk-hidden--visually\" id=\"63db2c50-1990-4328-9efc-46f26daf3c25\" type=\"checkbox\" ><label for=\"63db2c50-1990-4328-9efc-46f26daf3c25\" class=\"sk-toggleable__label sk-toggleable__label-arrow\">preprocessor: ColumnTransformer</label><div class=\"sk-toggleable__content\"><pre>ColumnTransformer(transformers=[(&#x27;num&#x27;,\n",
       "                                 Pipeline(steps=[(&#x27;std_scaler&#x27;,\n",
       "                                                  StandardScaler())]),\n",
       "                                 [&#x27;host_response_rate&#x27;, &#x27;host_acceptance_rate&#x27;,\n",
       "                                  &#x27;host_is_superhost&#x27;, &#x27;host_listings_count&#x27;,\n",
       "                                  &#x27;host_has_profile_pic&#x27;,\n",
       "                                  &#x27;host_identity_verified&#x27;, &#x27;accommodates&#x27;,\n",
       "                                  &#x27;bedrooms&#x27;, &#x27;price&#x27;, &#x27;minimum_nights&#x27;,\n",
       "                                  &#x27;maximum_nights&#x27;, &#x27;has_availability&#x27;,\n",
       "                                  &#x27;number_of_reviews&#x27;, &#x27;license&#x27;,\n",
       "                                  &#x27;instant_bookable&#x27;]),\n",
       "                                (&#x27;cat&#x27;,\n",
       "                                 Pipeline(steps=[(&#x27;1hot&#x27;,\n",
       "                                                  OneHotEncoder(handle_unknown=&#x27;ignore&#x27;))]),\n",
       "                                 [&#x27;host_response_time&#x27;,\n",
       "                                  &#x27;neighbourhood_group_cleansed&#x27;, &#x27;room_type&#x27;,\n",
       "                                  &#x27;host_type&#x27;])])</pre></div></div></div><div class=\"sk-parallel\"><div class=\"sk-parallel-item\"><div class=\"sk-item\"><div class=\"sk-label-container\"><div class=\"sk-label sk-toggleable\"><input class=\"sk-toggleable__control sk-hidden--visually\" id=\"6dfbe5b7-ef12-4c22-b20e-460cc0b71946\" type=\"checkbox\" ><label for=\"6dfbe5b7-ef12-4c22-b20e-460cc0b71946\" class=\"sk-toggleable__label sk-toggleable__label-arrow\">num</label><div class=\"sk-toggleable__content\"><pre>[&#x27;host_response_rate&#x27;, &#x27;host_acceptance_rate&#x27;, &#x27;host_is_superhost&#x27;, &#x27;host_listings_count&#x27;, &#x27;host_has_profile_pic&#x27;, &#x27;host_identity_verified&#x27;, &#x27;accommodates&#x27;, &#x27;bedrooms&#x27;, &#x27;price&#x27;, &#x27;minimum_nights&#x27;, &#x27;maximum_nights&#x27;, &#x27;has_availability&#x27;, &#x27;number_of_reviews&#x27;, &#x27;license&#x27;, &#x27;instant_bookable&#x27;]</pre></div></div></div><div class=\"sk-serial\"><div class=\"sk-item\"><div class=\"sk-serial\"><div class=\"sk-item\"><div class=\"sk-estimator sk-toggleable\"><input class=\"sk-toggleable__control sk-hidden--visually\" id=\"ee24349e-d0c2-44f8-8eb6-ed9ca99314a8\" type=\"checkbox\" ><label for=\"ee24349e-d0c2-44f8-8eb6-ed9ca99314a8\" class=\"sk-toggleable__label sk-toggleable__label-arrow\">StandardScaler</label><div class=\"sk-toggleable__content\"><pre>StandardScaler()</pre></div></div></div></div></div></div></div></div><div class=\"sk-parallel-item\"><div class=\"sk-item\"><div class=\"sk-label-container\"><div class=\"sk-label sk-toggleable\"><input class=\"sk-toggleable__control sk-hidden--visually\" id=\"79b14e20-c231-434c-ad84-625941a5ab2e\" type=\"checkbox\" ><label for=\"79b14e20-c231-434c-ad84-625941a5ab2e\" class=\"sk-toggleable__label sk-toggleable__label-arrow\">cat</label><div class=\"sk-toggleable__content\"><pre>[&#x27;host_response_time&#x27;, &#x27;neighbourhood_group_cleansed&#x27;, &#x27;room_type&#x27;, &#x27;host_type&#x27;]</pre></div></div></div><div class=\"sk-serial\"><div class=\"sk-item\"><div class=\"sk-serial\"><div class=\"sk-item\"><div class=\"sk-estimator sk-toggleable\"><input class=\"sk-toggleable__control sk-hidden--visually\" id=\"99b4aabe-ba51-432e-a839-026b1c9d13b4\" type=\"checkbox\" ><label for=\"99b4aabe-ba51-432e-a839-026b1c9d13b4\" class=\"sk-toggleable__label sk-toggleable__label-arrow\">OneHotEncoder</label><div class=\"sk-toggleable__content\"><pre>OneHotEncoder(handle_unknown=&#x27;ignore&#x27;)</pre></div></div></div></div></div></div></div></div></div></div><div class=\"sk-item\"><div class=\"sk-estimator sk-toggleable\"><input class=\"sk-toggleable__control sk-hidden--visually\" id=\"be618ad6-91b2-4303-863f-fe7f005950f8\" type=\"checkbox\" ><label for=\"be618ad6-91b2-4303-863f-fe7f005950f8\" class=\"sk-toggleable__label sk-toggleable__label-arrow\">RandomForestClassifier</label><div class=\"sk-toggleable__content\"><pre>RandomForestClassifier(bootstrap=False, max_depth=50, n_estimators=1500,\n",
       "                       random_state=15)</pre></div></div></div></div></div></div></div>"
      ],
      "text/plain": [
       "Pipeline(steps=[('preprocessor',\n",
       "                 ColumnTransformer(transformers=[('num',\n",
       "                                                  Pipeline(steps=[('std_scaler',\n",
       "                                                                   StandardScaler())]),\n",
       "                                                  ['host_response_rate',\n",
       "                                                   'host_acceptance_rate',\n",
       "                                                   'host_is_superhost',\n",
       "                                                   'host_listings_count',\n",
       "                                                   'host_has_profile_pic',\n",
       "                                                   'host_identity_verified',\n",
       "                                                   'accommodates', 'bedrooms',\n",
       "                                                   'price', 'minimum_nights',\n",
       "                                                   'maximum_nights',\n",
       "                                                   'has_availability',\n",
       "                                                   'number_of_reviews',\n",
       "                                                   'license',\n",
       "                                                   'instant_bookable']),\n",
       "                                                 ('cat',\n",
       "                                                  Pipeline(steps=[('1hot',\n",
       "                                                                   OneHotEncoder(handle_unknown='ignore'))]),\n",
       "                                                  ['host_response_time',\n",
       "                                                   'neighbourhood_group_cleansed',\n",
       "                                                   'room_type',\n",
       "                                                   'host_type'])])),\n",
       "                ('randfor',\n",
       "                 RandomForestClassifier(bootstrap=False, max_depth=50,\n",
       "                                        n_estimators=1500, random_state=15))])"
      ]
     },
     "execution_count": 47,
     "metadata": {},
     "output_type": "execute_result"
    }
   ],
   "source": [
    "# save model with best parameters in a variable\n",
    "randomforest = grid_rf.best_estimator_\n",
    "randomforest"
   ]
  },
  {
   "cell_type": "code",
   "execution_count": 48,
   "id": "d9429db6-6b4d-44fe-9c0d-6417c306a33f",
   "metadata": {
    "tags": []
   },
   "outputs": [
    {
     "name": "stdout",
     "output_type": "stream",
     "text": [
      "Accuracy: 0.99\n",
      "Recall: 0.99\n",
      "Precision: 0.98\n"
     ]
    }
   ],
   "source": [
    "y_test_predicted_rf_final = randomforest.predict(X_test)\n",
    "print(\"Accuracy: {:.2f}\".format(accuracy_score(y_test, y_test_predicted_rf_final)))\n",
    "print(\"Recall: {:.2f}\".format(recall_score(y_test, y_test_predicted_rf_final)))\n",
    "print(\"Precision: {:.2f}\".format(precision_score(y_test, y_test_predicted_rf_final)))"
   ]
  },
  {
   "cell_type": "code",
   "execution_count": 83,
   "id": "9d0beba5-b3dd-4dd2-9718-695798625098",
   "metadata": {
    "tags": []
   },
   "outputs": [
    {
     "data": {
      "image/png": "[encoded data removed]",
      "text/plain": [
       "<Figure size 600x500 with 1 Axes>"
      ]
     },
     "metadata": {},
     "output_type": "display_data"
    }
   ],
   "source": [
    "%matplotlib inline\n",
    "cfm_rf_final = confusion_matrix(y_test, y_test_predicted_rf_final)\n",
    "fig = plt.figure()\n",
    "fig.set_size_inches(6,5)\n",
    "sns.set(rc={'axes.facecolor':'#242424','figure.facecolor':'#242424','text.color':'white'})\n",
    "group_names = ['True Neg','False Pos','False Neg','True Pos']\n",
    "group_counts = ['{0:0.0f}'.format(value) for value in\n",
    "                cfm_rf_final.flatten()]\n",
    "group_percentages = ['{0:.2%}'.format(value) for value in\n",
    "                     cfm_rf_final.flatten()/np.sum(cfm_rf_final)]\n",
    "labels = [f'{v1}\\n{v2}\\n{v3}' for v1, v2, v3 in\n",
    "          zip(group_names,group_counts,group_percentages)]\n",
    "labels = np.asarray(labels).reshape(2,2)\n",
    "ax = plt.axes()\n",
    "x_axis_labels = ['Compliant', 'Suspicious'] \n",
    "y_axis_labels = ['Compliant', 'Suspicious'] \n",
    "sns.heatmap(cfm_rf_final, annot=labels, fmt='', cmap=cpal2, xticklabels=x_axis_labels, yticklabels=y_axis_labels, linewidth=.5, cbar = False, linecolor='#242424')\n",
    "# ax.set_title('Confusion Matrix')\n",
    "xlabel = plt.xlabel('Predicted Value')\n",
    "ylabel = plt.ylabel('Actual Value')\n",
    "xlabel.set_color(\"white\")\n",
    "ylabel.set_color(\"white\")\n",
    "ax.tick_params(colors='white')\n",
    "plt.show();"
   ]
  },
  {
   "cell_type": "markdown",
   "id": "012566b1-b636-4e27-a74e-b230e094f2c2",
   "metadata": {},
   "source": [
    "#### feature importance"
   ]
  },
  {
   "cell_type": "code",
   "execution_count": 49,
   "id": "3d977606-91d7-4ef1-ae6b-81eef02c5bc6",
   "metadata": {
    "tags": []
   },
   "outputs": [],
   "source": [
    "# save pipeline with model in a variable\n",
    "pipe_rf_final = Pipeline([\n",
    "    ('preprocessor', preprocessor),\n",
    "    ('randfor', RandomForestClassifier(n_estimators = 1500, min_samples_split = 2, max_depth = 50, max_features = 'auto', min_samples_leaf = 1, bootstrap = False, random_state=RSEED))\n",
    "])"
   ]
  },
  {
   "cell_type": "code",
   "execution_count": 50,
   "id": "b9efb912-7c3f-45cc-84f8-e1a60cfe2477",
   "metadata": {
    "tags": []
   },
   "outputs": [
    {
     "data": {
      "text/html": [
       "<style>#sk-b7ed50c7-48ab-4e41-a78d-48da21b5feec {color: black;background-color: white;}#sk-b7ed50c7-48ab-4e41-a78d-48da21b5feec pre{padding: 0;}#sk-b7ed50c7-48ab-4e41-a78d-48da21b5feec div.sk-toggleable {background-color: white;}#sk-b7ed50c7-48ab-4e41-a78d-48da21b5feec label.sk-toggleable__label {cursor: pointer;display: block;width: 100%;margin-bottom: 0;padding: 0.3em;box-sizing: border-box;text-align: center;}#sk-b7ed50c7-48ab-4e41-a78d-48da21b5feec label.sk-toggleable__label-arrow:before {content: \"▸\";float: left;margin-right: 0.25em;color: #696969;}#sk-b7ed50c7-48ab-4e41-a78d-48da21b5feec label.sk-toggleable__label-arrow:hover:before {color: black;}#sk-b7ed50c7-48ab-4e41-a78d-48da21b5feec div.sk-estimator:hover label.sk-toggleable__label-arrow:before {color: black;}#sk-b7ed50c7-48ab-4e41-a78d-48da21b5feec div.sk-toggleable__content {max-height: 0;max-width: 0;overflow: hidden;text-align: left;background-color: #f0f8ff;}#sk-b7ed50c7-48ab-4e41-a78d-48da21b5feec div.sk-toggleable__content pre {margin: 0.2em;color: black;border-radius: 0.25em;background-color: #f0f8ff;}#sk-b7ed50c7-48ab-4e41-a78d-48da21b5feec input.sk-toggleable__control:checked~div.sk-toggleable__content {max-height: 200px;max-width: 100%;overflow: auto;}#sk-b7ed50c7-48ab-4e41-a78d-48da21b5feec input.sk-toggleable__control:checked~label.sk-toggleable__label-arrow:before {content: \"▾\";}#sk-b7ed50c7-48ab-4e41-a78d-48da21b5feec div.sk-estimator input.sk-toggleable__control:checked~label.sk-toggleable__label {background-color: #d4ebff;}#sk-b7ed50c7-48ab-4e41-a78d-48da21b5feec div.sk-label input.sk-toggleable__control:checked~label.sk-toggleable__label {background-color: #d4ebff;}#sk-b7ed50c7-48ab-4e41-a78d-48da21b5feec input.sk-hidden--visually {border: 0;clip: rect(1px 1px 1px 1px);clip: rect(1px, 1px, 1px, 1px);height: 1px;margin: -1px;overflow: hidden;padding: 0;position: absolute;width: 1px;}#sk-b7ed50c7-48ab-4e41-a78d-48da21b5feec div.sk-estimator {font-family: monospace;background-color: #f0f8ff;border: 1px dotted black;border-radius: 0.25em;box-sizing: border-box;margin-bottom: 0.5em;}#sk-b7ed50c7-48ab-4e41-a78d-48da21b5feec div.sk-estimator:hover {background-color: #d4ebff;}#sk-b7ed50c7-48ab-4e41-a78d-48da21b5feec div.sk-parallel-item::after {content: \"\";width: 100%;border-bottom: 1px solid gray;flex-grow: 1;}#sk-b7ed50c7-48ab-4e41-a78d-48da21b5feec div.sk-label:hover label.sk-toggleable__label {background-color: #d4ebff;}#sk-b7ed50c7-48ab-4e41-a78d-48da21b5feec div.sk-serial::before {content: \"\";position: absolute;border-left: 1px solid gray;box-sizing: border-box;top: 2em;bottom: 0;left: 50%;}#sk-b7ed50c7-48ab-4e41-a78d-48da21b5feec div.sk-serial {display: flex;flex-direction: column;align-items: center;background-color: white;padding-right: 0.2em;padding-left: 0.2em;}#sk-b7ed50c7-48ab-4e41-a78d-48da21b5feec div.sk-item {z-index: 1;}#sk-b7ed50c7-48ab-4e41-a78d-48da21b5feec div.sk-parallel {display: flex;align-items: stretch;justify-content: center;background-color: white;}#sk-b7ed50c7-48ab-4e41-a78d-48da21b5feec div.sk-parallel::before {content: \"\";position: absolute;border-left: 1px solid gray;box-sizing: border-box;top: 2em;bottom: 0;left: 50%;}#sk-b7ed50c7-48ab-4e41-a78d-48da21b5feec div.sk-parallel-item {display: flex;flex-direction: column;position: relative;background-color: white;}#sk-b7ed50c7-48ab-4e41-a78d-48da21b5feec div.sk-parallel-item:first-child::after {align-self: flex-end;width: 50%;}#sk-b7ed50c7-48ab-4e41-a78d-48da21b5feec div.sk-parallel-item:last-child::after {align-self: flex-start;width: 50%;}#sk-b7ed50c7-48ab-4e41-a78d-48da21b5feec div.sk-parallel-item:only-child::after {width: 0;}#sk-b7ed50c7-48ab-4e41-a78d-48da21b5feec div.sk-dashed-wrapped {border: 1px dashed gray;margin: 0 0.4em 0.5em 0.4em;box-sizing: border-box;padding-bottom: 0.4em;background-color: white;position: relative;}#sk-b7ed50c7-48ab-4e41-a78d-48da21b5feec div.sk-label label {font-family: monospace;font-weight: bold;background-color: white;display: inline-block;line-height: 1.2em;}#sk-b7ed50c7-48ab-4e41-a78d-48da21b5feec div.sk-label-container {position: relative;z-index: 2;text-align: center;}#sk-b7ed50c7-48ab-4e41-a78d-48da21b5feec div.sk-container {/* jupyter's `normalize.less` sets `[hidden] { display: none; }` but bootstrap.min.css set `[hidden] { display: none !important; }` so we also need the `!important` here to be able to override the default hidden behavior on the sphinx rendered scikit-learn.org. See: https://github.com/scikit-learn/scikit-learn/issues/21755 */display: inline-block !important;position: relative;}#sk-b7ed50c7-48ab-4e41-a78d-48da21b5feec div.sk-text-repr-fallback {display: none;}</style><div id=\"sk-b7ed50c7-48ab-4e41-a78d-48da21b5feec\" class=\"sk-top-container\"><div class=\"sk-text-repr-fallback\"><pre>Pipeline(steps=[(&#x27;preprocessor&#x27;,\n",
       "                 ColumnTransformer(transformers=[(&#x27;num&#x27;,\n",
       "                                                  Pipeline(steps=[(&#x27;std_scaler&#x27;,\n",
       "                                                                   StandardScaler())]),\n",
       "                                                  [&#x27;host_response_rate&#x27;,\n",
       "                                                   &#x27;host_acceptance_rate&#x27;,\n",
       "                                                   &#x27;host_is_superhost&#x27;,\n",
       "                                                   &#x27;host_listings_count&#x27;,\n",
       "                                                   &#x27;host_has_profile_pic&#x27;,\n",
       "                                                   &#x27;host_identity_verified&#x27;,\n",
       "                                                   &#x27;accommodates&#x27;, &#x27;bedrooms&#x27;,\n",
       "                                                   &#x27;price&#x27;, &#x27;minimum_nights&#x27;,\n",
       "                                                   &#x27;maximum_nights&#x27;,\n",
       "                                                   &#x27;has_availability&#x27;,\n",
       "                                                   &#x27;number_of_reviews&#x27;,\n",
       "                                                   &#x27;license&#x27;,\n",
       "                                                   &#x27;instant_bookable&#x27;]),\n",
       "                                                 (&#x27;cat&#x27;,\n",
       "                                                  Pipeline(steps=[(&#x27;1hot&#x27;,\n",
       "                                                                   OneHotEncoder(handle_unknown=&#x27;ignore&#x27;))]),\n",
       "                                                  [&#x27;host_response_time&#x27;,\n",
       "                                                   &#x27;neighbourhood_group_cleansed&#x27;,\n",
       "                                                   &#x27;room_type&#x27;,\n",
       "                                                   &#x27;host_type&#x27;])])),\n",
       "                (&#x27;randfor&#x27;,\n",
       "                 RandomForestClassifier(bootstrap=False, max_depth=50,\n",
       "                                        n_estimators=1500, random_state=15))])</pre><b>Please rerun this cell to show the HTML repr or trust the notebook.</b></div><div class=\"sk-container\" hidden><div class=\"sk-item sk-dashed-wrapped\"><div class=\"sk-label-container\"><div class=\"sk-label sk-toggleable\"><input class=\"sk-toggleable__control sk-hidden--visually\" id=\"0f17a78e-ceb7-41d8-b4b5-28f41c798992\" type=\"checkbox\" ><label for=\"0f17a78e-ceb7-41d8-b4b5-28f41c798992\" class=\"sk-toggleable__label sk-toggleable__label-arrow\">Pipeline</label><div class=\"sk-toggleable__content\"><pre>Pipeline(steps=[(&#x27;preprocessor&#x27;,\n",
       "                 ColumnTransformer(transformers=[(&#x27;num&#x27;,\n",
       "                                                  Pipeline(steps=[(&#x27;std_scaler&#x27;,\n",
       "                                                                   StandardScaler())]),\n",
       "                                                  [&#x27;host_response_rate&#x27;,\n",
       "                                                   &#x27;host_acceptance_rate&#x27;,\n",
       "                                                   &#x27;host_is_superhost&#x27;,\n",
       "                                                   &#x27;host_listings_count&#x27;,\n",
       "                                                   &#x27;host_has_profile_pic&#x27;,\n",
       "                                                   &#x27;host_identity_verified&#x27;,\n",
       "                                                   &#x27;accommodates&#x27;, &#x27;bedrooms&#x27;,\n",
       "                                                   &#x27;price&#x27;, &#x27;minimum_nights&#x27;,\n",
       "                                                   &#x27;maximum_nights&#x27;,\n",
       "                                                   &#x27;has_availability&#x27;,\n",
       "                                                   &#x27;number_of_reviews&#x27;,\n",
       "                                                   &#x27;license&#x27;,\n",
       "                                                   &#x27;instant_bookable&#x27;]),\n",
       "                                                 (&#x27;cat&#x27;,\n",
       "                                                  Pipeline(steps=[(&#x27;1hot&#x27;,\n",
       "                                                                   OneHotEncoder(handle_unknown=&#x27;ignore&#x27;))]),\n",
       "                                                  [&#x27;host_response_time&#x27;,\n",
       "                                                   &#x27;neighbourhood_group_cleansed&#x27;,\n",
       "                                                   &#x27;room_type&#x27;,\n",
       "                                                   &#x27;host_type&#x27;])])),\n",
       "                (&#x27;randfor&#x27;,\n",
       "                 RandomForestClassifier(bootstrap=False, max_depth=50,\n",
       "                                        n_estimators=1500, random_state=15))])</pre></div></div></div><div class=\"sk-serial\"><div class=\"sk-item sk-dashed-wrapped\"><div class=\"sk-label-container\"><div class=\"sk-label sk-toggleable\"><input class=\"sk-toggleable__control sk-hidden--visually\" id=\"98fb958e-42ed-437c-b286-a09b44842ad9\" type=\"checkbox\" ><label for=\"98fb958e-42ed-437c-b286-a09b44842ad9\" class=\"sk-toggleable__label sk-toggleable__label-arrow\">preprocessor: ColumnTransformer</label><div class=\"sk-toggleable__content\"><pre>ColumnTransformer(transformers=[(&#x27;num&#x27;,\n",
       "                                 Pipeline(steps=[(&#x27;std_scaler&#x27;,\n",
       "                                                  StandardScaler())]),\n",
       "                                 [&#x27;host_response_rate&#x27;, &#x27;host_acceptance_rate&#x27;,\n",
       "                                  &#x27;host_is_superhost&#x27;, &#x27;host_listings_count&#x27;,\n",
       "                                  &#x27;host_has_profile_pic&#x27;,\n",
       "                                  &#x27;host_identity_verified&#x27;, &#x27;accommodates&#x27;,\n",
       "                                  &#x27;bedrooms&#x27;, &#x27;price&#x27;, &#x27;minimum_nights&#x27;,\n",
       "                                  &#x27;maximum_nights&#x27;, &#x27;has_availability&#x27;,\n",
       "                                  &#x27;number_of_reviews&#x27;, &#x27;license&#x27;,\n",
       "                                  &#x27;instant_bookable&#x27;]),\n",
       "                                (&#x27;cat&#x27;,\n",
       "                                 Pipeline(steps=[(&#x27;1hot&#x27;,\n",
       "                                                  OneHotEncoder(handle_unknown=&#x27;ignore&#x27;))]),\n",
       "                                 [&#x27;host_response_time&#x27;,\n",
       "                                  &#x27;neighbourhood_group_cleansed&#x27;, &#x27;room_type&#x27;,\n",
       "                                  &#x27;host_type&#x27;])])</pre></div></div></div><div class=\"sk-parallel\"><div class=\"sk-parallel-item\"><div class=\"sk-item\"><div class=\"sk-label-container\"><div class=\"sk-label sk-toggleable\"><input class=\"sk-toggleable__control sk-hidden--visually\" id=\"198084c4-ba1d-4165-9050-cd42f1d76850\" type=\"checkbox\" ><label for=\"198084c4-ba1d-4165-9050-cd42f1d76850\" class=\"sk-toggleable__label sk-toggleable__label-arrow\">num</label><div class=\"sk-toggleable__content\"><pre>[&#x27;host_response_rate&#x27;, &#x27;host_acceptance_rate&#x27;, &#x27;host_is_superhost&#x27;, &#x27;host_listings_count&#x27;, &#x27;host_has_profile_pic&#x27;, &#x27;host_identity_verified&#x27;, &#x27;accommodates&#x27;, &#x27;bedrooms&#x27;, &#x27;price&#x27;, &#x27;minimum_nights&#x27;, &#x27;maximum_nights&#x27;, &#x27;has_availability&#x27;, &#x27;number_of_reviews&#x27;, &#x27;license&#x27;, &#x27;instant_bookable&#x27;]</pre></div></div></div><div class=\"sk-serial\"><div class=\"sk-item\"><div class=\"sk-serial\"><div class=\"sk-item\"><div class=\"sk-estimator sk-toggleable\"><input class=\"sk-toggleable__control sk-hidden--visually\" id=\"1b970bbb-6ead-458a-b5b2-24b3089ff91b\" type=\"checkbox\" ><label for=\"1b970bbb-6ead-458a-b5b2-24b3089ff91b\" class=\"sk-toggleable__label sk-toggleable__label-arrow\">StandardScaler</label><div class=\"sk-toggleable__content\"><pre>StandardScaler()</pre></div></div></div></div></div></div></div></div><div class=\"sk-parallel-item\"><div class=\"sk-item\"><div class=\"sk-label-container\"><div class=\"sk-label sk-toggleable\"><input class=\"sk-toggleable__control sk-hidden--visually\" id=\"f6c8c265-bee6-448f-b24b-a986b667521e\" type=\"checkbox\" ><label for=\"f6c8c265-bee6-448f-b24b-a986b667521e\" class=\"sk-toggleable__label sk-toggleable__label-arrow\">cat</label><div class=\"sk-toggleable__content\"><pre>[&#x27;host_response_time&#x27;, &#x27;neighbourhood_group_cleansed&#x27;, &#x27;room_type&#x27;, &#x27;host_type&#x27;]</pre></div></div></div><div class=\"sk-serial\"><div class=\"sk-item\"><div class=\"sk-serial\"><div class=\"sk-item\"><div class=\"sk-estimator sk-toggleable\"><input class=\"sk-toggleable__control sk-hidden--visually\" id=\"7e0c3c75-57d9-46b7-be63-94f10fea83bb\" type=\"checkbox\" ><label for=\"7e0c3c75-57d9-46b7-be63-94f10fea83bb\" class=\"sk-toggleable__label sk-toggleable__label-arrow\">OneHotEncoder</label><div class=\"sk-toggleable__content\"><pre>OneHotEncoder(handle_unknown=&#x27;ignore&#x27;)</pre></div></div></div></div></div></div></div></div></div></div><div class=\"sk-item\"><div class=\"sk-estimator sk-toggleable\"><input class=\"sk-toggleable__control sk-hidden--visually\" id=\"5880dd62-c095-4002-a109-a7e2d75f6573\" type=\"checkbox\" ><label for=\"5880dd62-c095-4002-a109-a7e2d75f6573\" class=\"sk-toggleable__label sk-toggleable__label-arrow\">RandomForestClassifier</label><div class=\"sk-toggleable__content\"><pre>RandomForestClassifier(bootstrap=False, max_depth=50, n_estimators=1500,\n",
       "                       random_state=15)</pre></div></div></div></div></div></div></div>"
      ],
      "text/plain": [
       "Pipeline(steps=[('preprocessor',\n",
       "                 ColumnTransformer(transformers=[('num',\n",
       "                                                  Pipeline(steps=[('std_scaler',\n",
       "                                                                   StandardScaler())]),\n",
       "                                                  ['host_response_rate',\n",
       "                                                   'host_acceptance_rate',\n",
       "                                                   'host_is_superhost',\n",
       "                                                   'host_listings_count',\n",
       "                                                   'host_has_profile_pic',\n",
       "                                                   'host_identity_verified',\n",
       "                                                   'accommodates', 'bedrooms',\n",
       "                                                   'price', 'minimum_nights',\n",
       "                                                   'maximum_nights',\n",
       "                                                   'has_availability',\n",
       "                                                   'number_of_reviews',\n",
       "                                                   'license',\n",
       "                                                   'instant_bookable']),\n",
       "                                                 ('cat',\n",
       "                                                  Pipeline(steps=[('1hot',\n",
       "                                                                   OneHotEncoder(handle_unknown='ignore'))]),\n",
       "                                                  ['host_response_time',\n",
       "                                                   'neighbourhood_group_cleansed',\n",
       "                                                   'room_type',\n",
       "                                                   'host_type'])])),\n",
       "                ('randfor',\n",
       "                 RandomForestClassifier(bootstrap=False, max_depth=50,\n",
       "                                        n_estimators=1500, random_state=15))])"
      ]
     },
     "execution_count": 50,
     "metadata": {},
     "output_type": "execute_result"
    }
   ],
   "source": [
    "# fit\n",
    "pipe_rf_final.fit(X_train, y_train)"
   ]
  },
  {
   "cell_type": "code",
   "execution_count": 51,
   "id": "38d2af42-2e59-4699-8d0e-221386335117",
   "metadata": {
    "tags": []
   },
   "outputs": [
    {
     "name": "stdout",
     "output_type": "stream",
     "text": [
      "Accuracy: 0.99\n",
      "Recall: 0.99\n",
      "Precision: 0.98\n"
     ]
    }
   ],
   "source": [
    "# print scores\n",
    "y_test_predicted_rf_final = pipe_rf_final.predict(X_test)\n",
    "print(\"Accuracy: {:.2f}\".format(accuracy_score(y_test, y_test_predicted_rf_final)))\n",
    "print(\"Recall: {:.2f}\".format(recall_score(y_test, y_test_predicted_rf_final)))\n",
    "print(\"Precision: {:.2f}\".format(precision_score(y_test, y_test_predicted_rf_final)))"
   ]
  },
  {
   "cell_type": "code",
   "execution_count": 52,
   "id": "80a6a8fd-0c70-48bf-a77c-b37f0fbad5ee",
   "metadata": {
    "tags": []
   },
   "outputs": [
    {
     "data": {
      "text/plain": [
       "[('preprocessor',\n",
       "  ColumnTransformer(transformers=[('num',\n",
       "                                   Pipeline(steps=[('std_scaler',\n",
       "                                                    StandardScaler())]),\n",
       "                                   ['host_response_rate', 'host_acceptance_rate',\n",
       "                                    'host_is_superhost', 'host_listings_count',\n",
       "                                    'host_has_profile_pic',\n",
       "                                    'host_identity_verified', 'accommodates',\n",
       "                                    'bedrooms', 'price', 'minimum_nights',\n",
       "                                    'maximum_nights', 'has_availability',\n",
       "                                    'number_of_reviews', 'license',\n",
       "                                    'instant_bookable']),\n",
       "                                  ('cat',\n",
       "                                   Pipeline(steps=[('1hot',\n",
       "                                                    OneHotEncoder(handle_unknown='ignore'))]),\n",
       "                                   ['host_response_time',\n",
       "                                    'neighbourhood_group_cleansed', 'room_type',\n",
       "                                    'host_type'])])),\n",
       " ('randfor',\n",
       "  RandomForestClassifier(bootstrap=False, max_depth=50, n_estimators=1500,\n",
       "                         random_state=15))]"
      ]
     },
     "execution_count": 52,
     "metadata": {},
     "output_type": "execute_result"
    }
   ],
   "source": [
    "pipe_rf_final.steps"
   ]
  },
  {
   "cell_type": "code",
   "execution_count": 53,
   "id": "8462cbc0-9354-4794-a76b-77212ad4815d",
   "metadata": {
    "tags": []
   },
   "outputs": [
    {
     "data": {
      "text/plain": [
       "array([0.01951348, 0.02408476, 0.00720364, 0.10766863, 0.00069156,\n",
       "       0.00277516, 0.02120939, 0.01028518, 0.05291788, 0.19684546,\n",
       "       0.01893237, 0.00040881, 0.03664728, 0.19752961, 0.00576861,\n",
       "       0.00046767, 0.01048957, 0.00319581, 0.00346809, 0.00625768,\n",
       "       0.00500874, 0.00343849, 0.00227532, 0.00107269, 0.00123268,\n",
       "       0.00075177, 0.00072106, 0.00216054, 0.00241418, 0.00167182,\n",
       "       0.02285869, 0.00048254, 0.03060983, 0.00057545, 0.09583038,\n",
       "       0.10253517])"
      ]
     },
     "execution_count": 53,
     "metadata": {},
     "output_type": "execute_result"
    }
   ],
   "source": [
    "pipe_rf_final.steps[1][1].feature_importances_"
   ]
  },
  {
   "cell_type": "code",
   "execution_count": 54,
   "id": "437f4de7-4db1-42a3-93a0-d3af6f695b98",
   "metadata": {
    "tags": []
   },
   "outputs": [
    {
     "data": {
      "text/plain": [
       "[('preprocessor',\n",
       "  ColumnTransformer(transformers=[('num',\n",
       "                                   Pipeline(steps=[('std_scaler',\n",
       "                                                    StandardScaler())]),\n",
       "                                   ['host_response_rate', 'host_acceptance_rate',\n",
       "                                    'host_is_superhost', 'host_listings_count',\n",
       "                                    'host_has_profile_pic',\n",
       "                                    'host_identity_verified', 'accommodates',\n",
       "                                    'bedrooms', 'price', 'minimum_nights',\n",
       "                                    'maximum_nights', 'has_availability',\n",
       "                                    'number_of_reviews', 'license',\n",
       "                                    'instant_bookable']),\n",
       "                                  ('cat',\n",
       "                                   Pipeline(steps=[('1hot',\n",
       "                                                    OneHotEncoder(handle_unknown='ignore'))]),\n",
       "                                   ['host_response_time',\n",
       "                                    'neighbourhood_group_cleansed', 'room_type',\n",
       "                                    'host_type'])])),\n",
       " ('randfor',\n",
       "  RandomForestClassifier(bootstrap=False, max_depth=50, n_estimators=1500,\n",
       "                         random_state=15))]"
      ]
     },
     "execution_count": 54,
     "metadata": {},
     "output_type": "execute_result"
    }
   ],
   "source": [
    "pipe_rf_final.steps"
   ]
  },
  {
   "cell_type": "code",
   "execution_count": 55,
   "id": "139ab831-5196-430f-a643-3c207b1db8d5",
   "metadata": {
    "tags": []
   },
   "outputs": [
    {
     "data": {
      "text/plain": [
       "{'num': slice(0, 15, None),\n",
       " 'cat': slice(15, 36, None),\n",
       " 'remainder': slice(0, 0, None)}"
      ]
     },
     "execution_count": 55,
     "metadata": {},
     "output_type": "execute_result"
    }
   ],
   "source": [
    "pipe_rf_final[0].output_indices_"
   ]
  },
  {
   "cell_type": "code",
   "execution_count": 56,
   "id": "00d68baa-b7f8-4419-bb82-9abfeeeb2f28",
   "metadata": {
    "tags": []
   },
   "outputs": [],
   "source": [
    "encoded_cat_features = pipe_rf_final['preprocessor'].transformers_[1][1]\\\n",
    "    ['1hot'].get_feature_names_out(cat_features)"
   ]
  },
  {
   "cell_type": "code",
   "execution_count": 57,
   "id": "879577a7-2c5f-4b53-a78a-d0b96749badc",
   "metadata": {
    "tags": []
   },
   "outputs": [],
   "source": [
    "feature_names = np.insert(encoded_cat_features,0, num_features)"
   ]
  },
  {
   "cell_type": "code",
   "execution_count": 58,
   "id": "837aeacc-db09-4fc9-9002-9e30708706cc",
   "metadata": {
    "tags": []
   },
   "outputs": [
    {
     "data": {
      "text/plain": [
       "<BarContainer object of 36 artists>"
      ]
     },
     "execution_count": 58,
     "metadata": {},
     "output_type": "execute_result"
    },
    {
     "data": {
      "image/png": "[encoded data removed]",
      "text/plain": [
       "<Figure size 640x480 with 1 Axes>"
      ]
     },
     "metadata": {},
     "output_type": "display_data"
    }
   ],
   "source": [
    "plt.barh(feature_names, pipe_rf_final.steps[1][1].feature_importances_)"
   ]
  },
  {
   "cell_type": "markdown",
   "id": "3e31e347-bda2-4a1a-b735-09a4baa47e82",
   "metadata": {},
   "source": [
    "#### Error Analysis"
   ]
  },
  {
   "cell_type": "code",
   "execution_count": 59,
   "id": "9f187f3c-e643-4bb2-8ca9-8d02519c49a2",
   "metadata": {
    "tags": []
   },
   "outputs": [],
   "source": [
    "index = X_test.index"
   ]
  },
  {
   "cell_type": "code",
   "execution_count": 60,
   "id": "b4748a39-4e59-4c3a-a494-e0693fdea4c0",
   "metadata": {
    "tags": []
   },
   "outputs": [],
   "source": [
    "yhats = pd.Series(y_test_predicted_rf_final, name = 'y_hats', index=index)"
   ]
  },
  {
   "cell_type": "code",
   "execution_count": 61,
   "id": "50edf058-0372-4134-9860-3e8aa829d520",
   "metadata": {
    "tags": []
   },
   "outputs": [],
   "source": [
    "X_test_err_an = pd.concat([X_test, yhats, y_test], axis=1)"
   ]
  },
  {
   "cell_type": "code",
   "execution_count": 62,
   "id": "1a135442-49f8-415b-8c5f-a0c4ae25ce8b",
   "metadata": {
    "tags": []
   },
   "outputs": [],
   "source": [
    "def error_analysis(row):\n",
    "    if row['suspicious_or_not'] == 0 and row['y_hats'] == 0:\n",
    "        return \"TN\"\n",
    "    if row['suspicious_or_not'] == 1 and row['y_hats'] == 1:\n",
    "        return \"TP\"\n",
    "    if row['suspicious_or_not'] == 0 and row['y_hats'] == 1:\n",
    "        return \"FP\"\n",
    "    if row['suspicious_or_not'] == 1 and row['y_hats'] == 0:\n",
    "        return \"FN\""
   ]
  },
  {
   "cell_type": "code",
   "execution_count": 63,
   "id": "a8192668-e1e4-42df-8905-1235770b481b",
   "metadata": {
    "tags": []
   },
   "outputs": [],
   "source": [
    "X_test_err_an['error_analysis'] = X_test_err_an.apply(lambda row: error_analysis(row), axis=1)"
   ]
  },
  {
   "cell_type": "code",
   "execution_count": 64,
   "id": "1abbcb8a-3382-4596-8447-ca7daa122b42",
   "metadata": {
    "tags": []
   },
   "outputs": [],
   "source": [
    "TP = X_test_err_an.loc[(X_test_err_an.error_analysis == \"TP\")]\n",
    "FN = X_test_err_an.loc[(X_test_err_an.error_analysis == \"FN\")]\n",
    "FP = X_test_err_an.loc[(X_test_err_an.error_analysis == \"FP\")]\n",
    "TN = X_test_err_an.loc[(X_test_err_an.error_analysis == \"TN\")]"
   ]
  },
  {
   "cell_type": "code",
   "execution_count": 65,
   "id": "0dd7c4c5-f033-443c-bddd-0e55c3545c25",
   "metadata": {
    "tags": []
   },
   "outputs": [
    {
     "data": {
      "text/html": [
       "<div>\n",
       "<style scoped>\n",
       "    .dataframe tbody tr th:only-of-type {\n",
       "        vertical-align: middle;\n",
       "    }\n",
       "\n",
       "    .dataframe tbody tr th {\n",
       "        vertical-align: top;\n",
       "    }\n",
       "\n",
       "    .dataframe thead th {\n",
       "        text-align: right;\n",
       "    }\n",
       "</style>\n",
       "<table border=\"1\" class=\"dataframe\">\n",
       "  <thead>\n",
       "    <tr style=\"text-align: right;\">\n",
       "      <th></th>\n",
       "      <th>host_type</th>\n",
       "      <th>host_listings_count</th>\n",
       "      <th>minimum_nights</th>\n",
       "      <th>license</th>\n",
       "      <th>suspicious_or_not</th>\n",
       "      <th>y_hats</th>\n",
       "      <th>error_analysis</th>\n",
       "    </tr>\n",
       "  </thead>\n",
       "  <tbody>\n",
       "    <tr>\n",
       "      <th>8924</th>\n",
       "      <td>private</td>\n",
       "      <td>1</td>\n",
       "      <td>3.0</td>\n",
       "      <td>0</td>\n",
       "      <td>0</td>\n",
       "      <td>1</td>\n",
       "      <td>FP</td>\n",
       "    </tr>\n",
       "    <tr>\n",
       "      <th>4208</th>\n",
       "      <td>private</td>\n",
       "      <td>6</td>\n",
       "      <td>3.0</td>\n",
       "      <td>1</td>\n",
       "      <td>0</td>\n",
       "      <td>1</td>\n",
       "      <td>FP</td>\n",
       "    </tr>\n",
       "    <tr>\n",
       "      <th>1505</th>\n",
       "      <td>private</td>\n",
       "      <td>2</td>\n",
       "      <td>3.0</td>\n",
       "      <td>0</td>\n",
       "      <td>0</td>\n",
       "      <td>1</td>\n",
       "      <td>FP</td>\n",
       "    </tr>\n",
       "    <tr>\n",
       "      <th>4103</th>\n",
       "      <td>private</td>\n",
       "      <td>1</td>\n",
       "      <td>3.0</td>\n",
       "      <td>0</td>\n",
       "      <td>0</td>\n",
       "      <td>1</td>\n",
       "      <td>FP</td>\n",
       "    </tr>\n",
       "    <tr>\n",
       "      <th>6898</th>\n",
       "      <td>private</td>\n",
       "      <td>6</td>\n",
       "      <td>2.0</td>\n",
       "      <td>1</td>\n",
       "      <td>0</td>\n",
       "      <td>1</td>\n",
       "      <td>FP</td>\n",
       "    </tr>\n",
       "    <tr>\n",
       "      <th>3822</th>\n",
       "      <td>commercial</td>\n",
       "      <td>45</td>\n",
       "      <td>3.0</td>\n",
       "      <td>0</td>\n",
       "      <td>0</td>\n",
       "      <td>1</td>\n",
       "      <td>FP</td>\n",
       "    </tr>\n",
       "    <tr>\n",
       "      <th>5118</th>\n",
       "      <td>commercial</td>\n",
       "      <td>1</td>\n",
       "      <td>3.0</td>\n",
       "      <td>0</td>\n",
       "      <td>0</td>\n",
       "      <td>1</td>\n",
       "      <td>FP</td>\n",
       "    </tr>\n",
       "    <tr>\n",
       "      <th>7018</th>\n",
       "      <td>private</td>\n",
       "      <td>8</td>\n",
       "      <td>1.0</td>\n",
       "      <td>1</td>\n",
       "      <td>0</td>\n",
       "      <td>1</td>\n",
       "      <td>FP</td>\n",
       "    </tr>\n",
       "    <tr>\n",
       "      <th>8619</th>\n",
       "      <td>private</td>\n",
       "      <td>1</td>\n",
       "      <td>3.0</td>\n",
       "      <td>0</td>\n",
       "      <td>0</td>\n",
       "      <td>1</td>\n",
       "      <td>FP</td>\n",
       "    </tr>\n",
       "    <tr>\n",
       "      <th>4968</th>\n",
       "      <td>private</td>\n",
       "      <td>1</td>\n",
       "      <td>3.0</td>\n",
       "      <td>0</td>\n",
       "      <td>0</td>\n",
       "      <td>1</td>\n",
       "      <td>FP</td>\n",
       "    </tr>\n",
       "    <tr>\n",
       "      <th>2177</th>\n",
       "      <td>commercial</td>\n",
       "      <td>2</td>\n",
       "      <td>3.0</td>\n",
       "      <td>0</td>\n",
       "      <td>0</td>\n",
       "      <td>1</td>\n",
       "      <td>FP</td>\n",
       "    </tr>\n",
       "    <tr>\n",
       "      <th>10438</th>\n",
       "      <td>private</td>\n",
       "      <td>1</td>\n",
       "      <td>3.0</td>\n",
       "      <td>0</td>\n",
       "      <td>0</td>\n",
       "      <td>1</td>\n",
       "      <td>FP</td>\n",
       "    </tr>\n",
       "    <tr>\n",
       "      <th>9362</th>\n",
       "      <td>private</td>\n",
       "      <td>2</td>\n",
       "      <td>3.0</td>\n",
       "      <td>0</td>\n",
       "      <td>0</td>\n",
       "      <td>1</td>\n",
       "      <td>FP</td>\n",
       "    </tr>\n",
       "    <tr>\n",
       "      <th>8067</th>\n",
       "      <td>private</td>\n",
       "      <td>1</td>\n",
       "      <td>3.0</td>\n",
       "      <td>0</td>\n",
       "      <td>0</td>\n",
       "      <td>1</td>\n",
       "      <td>FP</td>\n",
       "    </tr>\n",
       "    <tr>\n",
       "      <th>5001</th>\n",
       "      <td>private</td>\n",
       "      <td>7</td>\n",
       "      <td>3.0</td>\n",
       "      <td>1</td>\n",
       "      <td>0</td>\n",
       "      <td>1</td>\n",
       "      <td>FP</td>\n",
       "    </tr>\n",
       "    <tr>\n",
       "      <th>7493</th>\n",
       "      <td>private</td>\n",
       "      <td>1</td>\n",
       "      <td>3.0</td>\n",
       "      <td>0</td>\n",
       "      <td>0</td>\n",
       "      <td>1</td>\n",
       "      <td>FP</td>\n",
       "    </tr>\n",
       "    <tr>\n",
       "      <th>9118</th>\n",
       "      <td>private</td>\n",
       "      <td>1</td>\n",
       "      <td>3.0</td>\n",
       "      <td>0</td>\n",
       "      <td>0</td>\n",
       "      <td>1</td>\n",
       "      <td>FP</td>\n",
       "    </tr>\n",
       "    <tr>\n",
       "      <th>7416</th>\n",
       "      <td>private</td>\n",
       "      <td>1</td>\n",
       "      <td>3.0</td>\n",
       "      <td>0</td>\n",
       "      <td>0</td>\n",
       "      <td>1</td>\n",
       "      <td>FP</td>\n",
       "    </tr>\n",
       "    <tr>\n",
       "      <th>2469</th>\n",
       "      <td>private</td>\n",
       "      <td>656</td>\n",
       "      <td>1.0</td>\n",
       "      <td>1</td>\n",
       "      <td>0</td>\n",
       "      <td>1</td>\n",
       "      <td>FP</td>\n",
       "    </tr>\n",
       "    <tr>\n",
       "      <th>811</th>\n",
       "      <td>private</td>\n",
       "      <td>3</td>\n",
       "      <td>3.0</td>\n",
       "      <td>0</td>\n",
       "      <td>0</td>\n",
       "      <td>1</td>\n",
       "      <td>FP</td>\n",
       "    </tr>\n",
       "    <tr>\n",
       "      <th>4093</th>\n",
       "      <td>private</td>\n",
       "      <td>4</td>\n",
       "      <td>3.0</td>\n",
       "      <td>0</td>\n",
       "      <td>0</td>\n",
       "      <td>1</td>\n",
       "      <td>FP</td>\n",
       "    </tr>\n",
       "    <tr>\n",
       "      <th>2726</th>\n",
       "      <td>private</td>\n",
       "      <td>5</td>\n",
       "      <td>3.0</td>\n",
       "      <td>1</td>\n",
       "      <td>0</td>\n",
       "      <td>1</td>\n",
       "      <td>FP</td>\n",
       "    </tr>\n",
       "  </tbody>\n",
       "</table>\n",
       "</div>"
      ],
      "text/plain": [
       "        host_type  host_listings_count  minimum_nights  license  \\\n",
       "8924      private                    1             3.0        0   \n",
       "4208      private                    6             3.0        1   \n",
       "1505      private                    2             3.0        0   \n",
       "4103      private                    1             3.0        0   \n",
       "6898      private                    6             2.0        1   \n",
       "3822   commercial                   45             3.0        0   \n",
       "5118   commercial                    1             3.0        0   \n",
       "7018      private                    8             1.0        1   \n",
       "8619      private                    1             3.0        0   \n",
       "4968      private                    1             3.0        0   \n",
       "2177   commercial                    2             3.0        0   \n",
       "10438     private                    1             3.0        0   \n",
       "9362      private                    2             3.0        0   \n",
       "8067      private                    1             3.0        0   \n",
       "5001      private                    7             3.0        1   \n",
       "7493      private                    1             3.0        0   \n",
       "9118      private                    1             3.0        0   \n",
       "7416      private                    1             3.0        0   \n",
       "2469      private                  656             1.0        1   \n",
       "811       private                    3             3.0        0   \n",
       "4093      private                    4             3.0        0   \n",
       "2726      private                    5             3.0        1   \n",
       "\n",
       "       suspicious_or_not  y_hats error_analysis  \n",
       "8924                   0       1             FP  \n",
       "4208                   0       1             FP  \n",
       "1505                   0       1             FP  \n",
       "4103                   0       1             FP  \n",
       "6898                   0       1             FP  \n",
       "3822                   0       1             FP  \n",
       "5118                   0       1             FP  \n",
       "7018                   0       1             FP  \n",
       "8619                   0       1             FP  \n",
       "4968                   0       1             FP  \n",
       "2177                   0       1             FP  \n",
       "10438                  0       1             FP  \n",
       "9362                   0       1             FP  \n",
       "8067                   0       1             FP  \n",
       "5001                   0       1             FP  \n",
       "7493                   0       1             FP  \n",
       "9118                   0       1             FP  \n",
       "7416                   0       1             FP  \n",
       "2469                   0       1             FP  \n",
       "811                    0       1             FP  \n",
       "4093                   0       1             FP  \n",
       "2726                   0       1             FP  "
      ]
     },
     "execution_count": 65,
     "metadata": {},
     "output_type": "execute_result"
    }
   ],
   "source": [
    "FP[['host_type', 'host_listings_count','minimum_nights', 'license', 'suspicious_or_not', 'y_hats', 'error_analysis' ]].head(30)"
   ]
  },
  {
   "cell_type": "code",
   "execution_count": 66,
   "id": "8f54d991-5fed-4a3e-b05b-3fafc3b67fa5",
   "metadata": {
    "tags": []
   },
   "outputs": [
    {
     "data": {
      "text/html": [
       "<div>\n",
       "<style scoped>\n",
       "    .dataframe tbody tr th:only-of-type {\n",
       "        vertical-align: middle;\n",
       "    }\n",
       "\n",
       "    .dataframe tbody tr th {\n",
       "        vertical-align: top;\n",
       "    }\n",
       "\n",
       "    .dataframe thead th {\n",
       "        text-align: right;\n",
       "    }\n",
       "</style>\n",
       "<table border=\"1\" class=\"dataframe\">\n",
       "  <thead>\n",
       "    <tr style=\"text-align: right;\">\n",
       "      <th></th>\n",
       "      <th>host_type</th>\n",
       "      <th>host_listings_count</th>\n",
       "      <th>minimum_nights</th>\n",
       "      <th>license</th>\n",
       "      <th>suspicious_or_not</th>\n",
       "      <th>y_hats</th>\n",
       "      <th>error_analysis</th>\n",
       "    </tr>\n",
       "  </thead>\n",
       "  <tbody>\n",
       "    <tr>\n",
       "      <th>8556</th>\n",
       "      <td>private</td>\n",
       "      <td>4</td>\n",
       "      <td>2.0</td>\n",
       "      <td>1</td>\n",
       "      <td>1</td>\n",
       "      <td>0</td>\n",
       "      <td>FN</td>\n",
       "    </tr>\n",
       "    <tr>\n",
       "      <th>7611</th>\n",
       "      <td>private</td>\n",
       "      <td>4</td>\n",
       "      <td>3.0</td>\n",
       "      <td>1</td>\n",
       "      <td>1</td>\n",
       "      <td>0</td>\n",
       "      <td>FN</td>\n",
       "    </tr>\n",
       "    <tr>\n",
       "      <th>3972</th>\n",
       "      <td>private</td>\n",
       "      <td>5</td>\n",
       "      <td>2.0</td>\n",
       "      <td>1</td>\n",
       "      <td>1</td>\n",
       "      <td>0</td>\n",
       "      <td>FN</td>\n",
       "    </tr>\n",
       "    <tr>\n",
       "      <th>4445</th>\n",
       "      <td>private</td>\n",
       "      <td>5</td>\n",
       "      <td>2.0</td>\n",
       "      <td>1</td>\n",
       "      <td>1</td>\n",
       "      <td>0</td>\n",
       "      <td>FN</td>\n",
       "    </tr>\n",
       "    <tr>\n",
       "      <th>837</th>\n",
       "      <td>private</td>\n",
       "      <td>8</td>\n",
       "      <td>3.0</td>\n",
       "      <td>1</td>\n",
       "      <td>1</td>\n",
       "      <td>0</td>\n",
       "      <td>FN</td>\n",
       "    </tr>\n",
       "    <tr>\n",
       "      <th>4442</th>\n",
       "      <td>private</td>\n",
       "      <td>4</td>\n",
       "      <td>3.0</td>\n",
       "      <td>1</td>\n",
       "      <td>1</td>\n",
       "      <td>0</td>\n",
       "      <td>FN</td>\n",
       "    </tr>\n",
       "    <tr>\n",
       "      <th>10269</th>\n",
       "      <td>private</td>\n",
       "      <td>4</td>\n",
       "      <td>2.0</td>\n",
       "      <td>1</td>\n",
       "      <td>1</td>\n",
       "      <td>0</td>\n",
       "      <td>FN</td>\n",
       "    </tr>\n",
       "    <tr>\n",
       "      <th>2458</th>\n",
       "      <td>private</td>\n",
       "      <td>5</td>\n",
       "      <td>2.0</td>\n",
       "      <td>1</td>\n",
       "      <td>1</td>\n",
       "      <td>0</td>\n",
       "      <td>FN</td>\n",
       "    </tr>\n",
       "  </tbody>\n",
       "</table>\n",
       "</div>"
      ],
      "text/plain": [
       "      host_type  host_listings_count  minimum_nights  license  \\\n",
       "8556    private                    4             2.0        1   \n",
       "7611    private                    4             3.0        1   \n",
       "3972    private                    5             2.0        1   \n",
       "4445    private                    5             2.0        1   \n",
       "837     private                    8             3.0        1   \n",
       "4442    private                    4             3.0        1   \n",
       "10269   private                    4             2.0        1   \n",
       "2458    private                    5             2.0        1   \n",
       "\n",
       "       suspicious_or_not  y_hats error_analysis  \n",
       "8556                   1       0             FN  \n",
       "7611                   1       0             FN  \n",
       "3972                   1       0             FN  \n",
       "4445                   1       0             FN  \n",
       "837                    1       0             FN  \n",
       "4442                   1       0             FN  \n",
       "10269                  1       0             FN  \n",
       "2458                   1       0             FN  "
      ]
     },
     "execution_count": 66,
     "metadata": {},
     "output_type": "execute_result"
    }
   ],
   "source": [
    "FN[['host_type', 'host_listings_count','minimum_nights', 'license', 'suspicious_or_not', 'y_hats', 'error_analysis' ]].head(30)"
   ]
  },
  {
   "cell_type": "markdown",
   "id": "354ba845-e2ab-4b8e-9c06-1e31a9c3873a",
   "metadata": {},
   "source": [
    "Now we try tome more algorithms to see how they perform\n",
    "## XGB Classifier"
   ]
  },
  {
   "cell_type": "code",
   "execution_count": 67,
   "id": "d6d77881-8744-4613-9a83-70ebae09bd40",
   "metadata": {
    "tags": []
   },
   "outputs": [
    {
     "name": "stdout",
     "output_type": "stream",
     "text": [
      "Cross validation scores:\n",
      "-------------------------\n",
      "Accuracy: 0.98\n",
      "Recall: 0.99\n",
      "Precision: 0.97\n"
     ]
    }
   ],
   "source": [
    "pipe_xgb = Pipeline([\n",
    "    ('preprocessor', preprocessor),\n",
    "    ('xgb', XGBClassifier(random_state=RSEED))\n",
    "])\n",
    "\n",
    "y_train_predicted_xgb = cross_val_predict(pipe_xgb, X_train, y_train, cv=5)\n",
    "\n",
    "print('Cross validation scores:')\n",
    "print('-------------------------')\n",
    "print(\"Accuracy: {:.2f}\".format(accuracy_score(y_train, y_train_predicted_rf)))\n",
    "print(\"Recall: {:.2f}\".format(recall_score(y_train, y_train_predicted_rf)))\n",
    "print(\"Precision: {:.2f}\".format(precision_score(y_train, y_train_predicted_rf)))"
   ]
  },
  {
   "cell_type": "code",
   "execution_count": 68,
   "id": "df53ba47-bbed-4e2f-a296-652f377cba35",
   "metadata": {
    "tags": []
   },
   "outputs": [],
   "source": [
    "param_xgb_all = {\n",
    "    \"xgb__learning_rate\" : [0.05,0.15,0.30],\n",
    "    \"xgb__max_depth\" : [ 3, 6, 10, 15],\n",
    "    \"xgb__min_child_weight\" : [ 1, 3, 5, 7 ],\n",
    "    \"xgb__gamma\": [ 0.0, 0.1, 0.2 , 0.3, 0.4 ],\n",
    "    \"xgb__colsample_bytree\" : [ 0.3,  0.5 , 0.7 ],\n",
    "    \"xgb__subsample\" : [0.5, 1],\n",
    "    \"xgb__scale_pos_weight\" : [1, 2]\n",
    "    }"
   ]
  },
  {
   "cell_type": "code",
   "execution_count": 69,
   "id": "e8a1893d-d09c-4fae-9e17-a372f96c1d29",
   "metadata": {
    "tags": []
   },
   "outputs": [],
   "source": [
    "param_xgb_best = {\n",
    "    \"xgb__learning_rate\" : [0.05],\n",
    "    \"xgb__max_depth\" : [10],\n",
    "    \"xgb__min_child_weight\" : [5],\n",
    "    \"xgb__gamma\": [ 0.1],\n",
    "    \"xgb__colsample_bytree\" : [0.5],\n",
    "    \"xgb__subsample\" : [0.5],\n",
    "    \"xgb__scale_pos_weight\" : [1]\n",
    "    }"
   ]
  },
  {
   "cell_type": "code",
   "execution_count": 70,
   "id": "b83a4818-ba9e-40ab-8924-1158e350ec34",
   "metadata": {
    "tags": []
   },
   "outputs": [
    {
     "name": "stdout",
     "output_type": "stream",
     "text": [
      "Fitting 5 folds for each of 1 candidates, totalling 5 fits\n"
     ]
    },
    {
     "data": {
      "text/html": [
       "<style>#sk-344df058-095a-4ceb-8ac7-3525f1144346 {color: black;background-color: white;}#sk-344df058-095a-4ceb-8ac7-3525f1144346 pre{padding: 0;}#sk-344df058-095a-4ceb-8ac7-3525f1144346 div.sk-toggleable {background-color: white;}#sk-344df058-095a-4ceb-8ac7-3525f1144346 label.sk-toggleable__label {cursor: pointer;display: block;width: 100%;margin-bottom: 0;padding: 0.3em;box-sizing: border-box;text-align: center;}#sk-344df058-095a-4ceb-8ac7-3525f1144346 label.sk-toggleable__label-arrow:before {content: \"▸\";float: left;margin-right: 0.25em;color: #696969;}#sk-344df058-095a-4ceb-8ac7-3525f1144346 label.sk-toggleable__label-arrow:hover:before {color: black;}#sk-344df058-095a-4ceb-8ac7-3525f1144346 div.sk-estimator:hover label.sk-toggleable__label-arrow:before {color: black;}#sk-344df058-095a-4ceb-8ac7-3525f1144346 div.sk-toggleable__content {max-height: 0;max-width: 0;overflow: hidden;text-align: left;background-color: #f0f8ff;}#sk-344df058-095a-4ceb-8ac7-3525f1144346 div.sk-toggleable__content pre {margin: 0.2em;color: black;border-radius: 0.25em;background-color: #f0f8ff;}#sk-344df058-095a-4ceb-8ac7-3525f1144346 input.sk-toggleable__control:checked~div.sk-toggleable__content {max-height: 200px;max-width: 100%;overflow: auto;}#sk-344df058-095a-4ceb-8ac7-3525f1144346 input.sk-toggleable__control:checked~label.sk-toggleable__label-arrow:before {content: \"▾\";}#sk-344df058-095a-4ceb-8ac7-3525f1144346 div.sk-estimator input.sk-toggleable__control:checked~label.sk-toggleable__label {background-color: #d4ebff;}#sk-344df058-095a-4ceb-8ac7-3525f1144346 div.sk-label input.sk-toggleable__control:checked~label.sk-toggleable__label {background-color: #d4ebff;}#sk-344df058-095a-4ceb-8ac7-3525f1144346 input.sk-hidden--visually {border: 0;clip: rect(1px 1px 1px 1px);clip: rect(1px, 1px, 1px, 1px);height: 1px;margin: -1px;overflow: hidden;padding: 0;position: absolute;width: 1px;}#sk-344df058-095a-4ceb-8ac7-3525f1144346 div.sk-estimator {font-family: monospace;background-color: #f0f8ff;border: 1px dotted black;border-radius: 0.25em;box-sizing: border-box;margin-bottom: 0.5em;}#sk-344df058-095a-4ceb-8ac7-3525f1144346 div.sk-estimator:hover {background-color: #d4ebff;}#sk-344df058-095a-4ceb-8ac7-3525f1144346 div.sk-parallel-item::after {content: \"\";width: 100%;border-bottom: 1px solid gray;flex-grow: 1;}#sk-344df058-095a-4ceb-8ac7-3525f1144346 div.sk-label:hover label.sk-toggleable__label {background-color: #d4ebff;}#sk-344df058-095a-4ceb-8ac7-3525f1144346 div.sk-serial::before {content: \"\";position: absolute;border-left: 1px solid gray;box-sizing: border-box;top: 2em;bottom: 0;left: 50%;}#sk-344df058-095a-4ceb-8ac7-3525f1144346 div.sk-serial {display: flex;flex-direction: column;align-items: center;background-color: white;padding-right: 0.2em;padding-left: 0.2em;}#sk-344df058-095a-4ceb-8ac7-3525f1144346 div.sk-item {z-index: 1;}#sk-344df058-095a-4ceb-8ac7-3525f1144346 div.sk-parallel {display: flex;align-items: stretch;justify-content: center;background-color: white;}#sk-344df058-095a-4ceb-8ac7-3525f1144346 div.sk-parallel::before {content: \"\";position: absolute;border-left: 1px solid gray;box-sizing: border-box;top: 2em;bottom: 0;left: 50%;}#sk-344df058-095a-4ceb-8ac7-3525f1144346 div.sk-parallel-item {display: flex;flex-direction: column;position: relative;background-color: white;}#sk-344df058-095a-4ceb-8ac7-3525f1144346 div.sk-parallel-item:first-child::after {align-self: flex-end;width: 50%;}#sk-344df058-095a-4ceb-8ac7-3525f1144346 div.sk-parallel-item:last-child::after {align-self: flex-start;width: 50%;}#sk-344df058-095a-4ceb-8ac7-3525f1144346 div.sk-parallel-item:only-child::after {width: 0;}#sk-344df058-095a-4ceb-8ac7-3525f1144346 div.sk-dashed-wrapped {border: 1px dashed gray;margin: 0 0.4em 0.5em 0.4em;box-sizing: border-box;padding-bottom: 0.4em;background-color: white;position: relative;}#sk-344df058-095a-4ceb-8ac7-3525f1144346 div.sk-label label {font-family: monospace;font-weight: bold;background-color: white;display: inline-block;line-height: 1.2em;}#sk-344df058-095a-4ceb-8ac7-3525f1144346 div.sk-label-container {position: relative;z-index: 2;text-align: center;}#sk-344df058-095a-4ceb-8ac7-3525f1144346 div.sk-container {/* jupyter's `normalize.less` sets `[hidden] { display: none; }` but bootstrap.min.css set `[hidden] { display: none !important; }` so we also need the `!important` here to be able to override the default hidden behavior on the sphinx rendered scikit-learn.org. See: https://github.com/scikit-learn/scikit-learn/issues/21755 */display: inline-block !important;position: relative;}#sk-344df058-095a-4ceb-8ac7-3525f1144346 div.sk-text-repr-fallback {display: none;}</style><div id=\"sk-344df058-095a-4ceb-8ac7-3525f1144346\" class=\"sk-top-container\"><div class=\"sk-text-repr-fallback\"><pre>GridSearchCV(cv=5,\n",
       "             estimator=Pipeline(steps=[(&#x27;preprocessor&#x27;,\n",
       "                                        ColumnTransformer(transformers=[(&#x27;num&#x27;,\n",
       "                                                                         Pipeline(steps=[(&#x27;std_scaler&#x27;,\n",
       "                                                                                          StandardScaler())]),\n",
       "                                                                         [&#x27;host_response_rate&#x27;,\n",
       "                                                                          &#x27;host_acceptance_rate&#x27;,\n",
       "                                                                          &#x27;host_is_superhost&#x27;,\n",
       "                                                                          &#x27;host_listings_count&#x27;,\n",
       "                                                                          &#x27;host_has_profile_pic&#x27;,\n",
       "                                                                          &#x27;host_identity_verified&#x27;,\n",
       "                                                                          &#x27;accommodates&#x27;,\n",
       "                                                                          &#x27;bedrooms&#x27;,\n",
       "                                                                          &#x27;price&#x27;,\n",
       "                                                                          &#x27;minimum_nights&#x27;,\n",
       "                                                                          &#x27;maximum_nights...\n",
       "                                                      missing=nan,\n",
       "                                                      monotone_constraints=None,\n",
       "                                                      n_estimators=100,\n",
       "                                                      n_jobs=None,\n",
       "                                                      num_parallel_tree=None,\n",
       "                                                      predictor=None,\n",
       "                                                      random_state=15, ...))]),\n",
       "             n_jobs=-1,\n",
       "             param_grid={&#x27;xgb__colsample_bytree&#x27;: [0.5], &#x27;xgb__gamma&#x27;: [0.1],\n",
       "                         &#x27;xgb__learning_rate&#x27;: [0.05], &#x27;xgb__max_depth&#x27;: [10],\n",
       "                         &#x27;xgb__min_child_weight&#x27;: [5],\n",
       "                         &#x27;xgb__scale_pos_weight&#x27;: [1],\n",
       "                         &#x27;xgb__subsample&#x27;: [0.5]},\n",
       "             scoring=&#x27;accuracy&#x27;, verbose=5)</pre><b>Please rerun this cell to show the HTML repr or trust the notebook.</b></div><div class=\"sk-container\" hidden><div class=\"sk-item sk-dashed-wrapped\"><div class=\"sk-label-container\"><div class=\"sk-label sk-toggleable\"><input class=\"sk-toggleable__control sk-hidden--visually\" id=\"b7487ed1-e14e-41e6-b49d-25ec7b6fbd4d\" type=\"checkbox\" ><label for=\"b7487ed1-e14e-41e6-b49d-25ec7b6fbd4d\" class=\"sk-toggleable__label sk-toggleable__label-arrow\">GridSearchCV</label><div class=\"sk-toggleable__content\"><pre>GridSearchCV(cv=5,\n",
       "             estimator=Pipeline(steps=[(&#x27;preprocessor&#x27;,\n",
       "                                        ColumnTransformer(transformers=[(&#x27;num&#x27;,\n",
       "                                                                         Pipeline(steps=[(&#x27;std_scaler&#x27;,\n",
       "                                                                                          StandardScaler())]),\n",
       "                                                                         [&#x27;host_response_rate&#x27;,\n",
       "                                                                          &#x27;host_acceptance_rate&#x27;,\n",
       "                                                                          &#x27;host_is_superhost&#x27;,\n",
       "                                                                          &#x27;host_listings_count&#x27;,\n",
       "                                                                          &#x27;host_has_profile_pic&#x27;,\n",
       "                                                                          &#x27;host_identity_verified&#x27;,\n",
       "                                                                          &#x27;accommodates&#x27;,\n",
       "                                                                          &#x27;bedrooms&#x27;,\n",
       "                                                                          &#x27;price&#x27;,\n",
       "                                                                          &#x27;minimum_nights&#x27;,\n",
       "                                                                          &#x27;maximum_nights...\n",
       "                                                      missing=nan,\n",
       "                                                      monotone_constraints=None,\n",
       "                                                      n_estimators=100,\n",
       "                                                      n_jobs=None,\n",
       "                                                      num_parallel_tree=None,\n",
       "                                                      predictor=None,\n",
       "                                                      random_state=15, ...))]),\n",
       "             n_jobs=-1,\n",
       "             param_grid={&#x27;xgb__colsample_bytree&#x27;: [0.5], &#x27;xgb__gamma&#x27;: [0.1],\n",
       "                         &#x27;xgb__learning_rate&#x27;: [0.05], &#x27;xgb__max_depth&#x27;: [10],\n",
       "                         &#x27;xgb__min_child_weight&#x27;: [5],\n",
       "                         &#x27;xgb__scale_pos_weight&#x27;: [1],\n",
       "                         &#x27;xgb__subsample&#x27;: [0.5]},\n",
       "             scoring=&#x27;accuracy&#x27;, verbose=5)</pre></div></div></div><div class=\"sk-parallel\"><div class=\"sk-parallel-item\"><div class=\"sk-item\"><div class=\"sk-serial\"><div class=\"sk-item\"><div class=\"sk-serial\"><div class=\"sk-item sk-dashed-wrapped\"><div class=\"sk-label-container\"><div class=\"sk-label sk-toggleable\"><input class=\"sk-toggleable__control sk-hidden--visually\" id=\"4e7a91ca-9210-4dcb-9649-245d4793020a\" type=\"checkbox\" ><label for=\"4e7a91ca-9210-4dcb-9649-245d4793020a\" class=\"sk-toggleable__label sk-toggleable__label-arrow\">preprocessor: ColumnTransformer</label><div class=\"sk-toggleable__content\"><pre>ColumnTransformer(transformers=[(&#x27;num&#x27;,\n",
       "                                 Pipeline(steps=[(&#x27;std_scaler&#x27;,\n",
       "                                                  StandardScaler())]),\n",
       "                                 [&#x27;host_response_rate&#x27;, &#x27;host_acceptance_rate&#x27;,\n",
       "                                  &#x27;host_is_superhost&#x27;, &#x27;host_listings_count&#x27;,\n",
       "                                  &#x27;host_has_profile_pic&#x27;,\n",
       "                                  &#x27;host_identity_verified&#x27;, &#x27;accommodates&#x27;,\n",
       "                                  &#x27;bedrooms&#x27;, &#x27;price&#x27;, &#x27;minimum_nights&#x27;,\n",
       "                                  &#x27;maximum_nights&#x27;, &#x27;has_availability&#x27;,\n",
       "                                  &#x27;number_of_reviews&#x27;, &#x27;license&#x27;,\n",
       "                                  &#x27;instant_bookable&#x27;]),\n",
       "                                (&#x27;cat&#x27;,\n",
       "                                 Pipeline(steps=[(&#x27;1hot&#x27;,\n",
       "                                                  OneHotEncoder(handle_unknown=&#x27;ignore&#x27;))]),\n",
       "                                 [&#x27;host_response_time&#x27;,\n",
       "                                  &#x27;neighbourhood_group_cleansed&#x27;, &#x27;room_type&#x27;,\n",
       "                                  &#x27;host_type&#x27;])])</pre></div></div></div><div class=\"sk-parallel\"><div class=\"sk-parallel-item\"><div class=\"sk-item\"><div class=\"sk-label-container\"><div class=\"sk-label sk-toggleable\"><input class=\"sk-toggleable__control sk-hidden--visually\" id=\"2c2009da-bc5e-404e-9d77-db17aebc9340\" type=\"checkbox\" ><label for=\"2c2009da-bc5e-404e-9d77-db17aebc9340\" class=\"sk-toggleable__label sk-toggleable__label-arrow\">num</label><div class=\"sk-toggleable__content\"><pre>[&#x27;host_response_rate&#x27;, &#x27;host_acceptance_rate&#x27;, &#x27;host_is_superhost&#x27;, &#x27;host_listings_count&#x27;, &#x27;host_has_profile_pic&#x27;, &#x27;host_identity_verified&#x27;, &#x27;accommodates&#x27;, &#x27;bedrooms&#x27;, &#x27;price&#x27;, &#x27;minimum_nights&#x27;, &#x27;maximum_nights&#x27;, &#x27;has_availability&#x27;, &#x27;number_of_reviews&#x27;, &#x27;license&#x27;, &#x27;instant_bookable&#x27;]</pre></div></div></div><div class=\"sk-serial\"><div class=\"sk-item\"><div class=\"sk-serial\"><div class=\"sk-item\"><div class=\"sk-estimator sk-toggleable\"><input class=\"sk-toggleable__control sk-hidden--visually\" id=\"b9f0cae3-41c9-4436-a23e-b5716647bacd\" type=\"checkbox\" ><label for=\"b9f0cae3-41c9-4436-a23e-b5716647bacd\" class=\"sk-toggleable__label sk-toggleable__label-arrow\">StandardScaler</label><div class=\"sk-toggleable__content\"><pre>StandardScaler()</pre></div></div></div></div></div></div></div></div><div class=\"sk-parallel-item\"><div class=\"sk-item\"><div class=\"sk-label-container\"><div class=\"sk-label sk-toggleable\"><input class=\"sk-toggleable__control sk-hidden--visually\" id=\"48e6b037-8957-4ba3-93b8-f3a4a9e44d69\" type=\"checkbox\" ><label for=\"48e6b037-8957-4ba3-93b8-f3a4a9e44d69\" class=\"sk-toggleable__label sk-toggleable__label-arrow\">cat</label><div class=\"sk-toggleable__content\"><pre>[&#x27;host_response_time&#x27;, &#x27;neighbourhood_group_cleansed&#x27;, &#x27;room_type&#x27;, &#x27;host_type&#x27;]</pre></div></div></div><div class=\"sk-serial\"><div class=\"sk-item\"><div class=\"sk-serial\"><div class=\"sk-item\"><div class=\"sk-estimator sk-toggleable\"><input class=\"sk-toggleable__control sk-hidden--visually\" id=\"f247af1f-35e0-4f43-bd04-38a81b0905c8\" type=\"checkbox\" ><label for=\"f247af1f-35e0-4f43-bd04-38a81b0905c8\" class=\"sk-toggleable__label sk-toggleable__label-arrow\">OneHotEncoder</label><div class=\"sk-toggleable__content\"><pre>OneHotEncoder(handle_unknown=&#x27;ignore&#x27;)</pre></div></div></div></div></div></div></div></div></div></div><div class=\"sk-item\"><div class=\"sk-estimator sk-toggleable\"><input class=\"sk-toggleable__control sk-hidden--visually\" id=\"c820b184-16ee-4d99-9a92-5882ffc69856\" type=\"checkbox\" ><label for=\"c820b184-16ee-4d99-9a92-5882ffc69856\" class=\"sk-toggleable__label sk-toggleable__label-arrow\">XGBClassifier</label><div class=\"sk-toggleable__content\"><pre>XGBClassifier(base_score=None, booster=None, callbacks=None,\n",
       "              colsample_bylevel=None, colsample_bynode=None,\n",
       "              colsample_bytree=None, early_stopping_rounds=None,\n",
       "              enable_categorical=False, eval_metric=None, feature_types=None,\n",
       "              gamma=None, gpu_id=None, grow_policy=None, importance_type=None,\n",
       "              interaction_constraints=None, learning_rate=None, max_bin=None,\n",
       "              max_cat_threshold=None, max_cat_to_onehot=None,\n",
       "              max_delta_step=None, max_depth=None, max_leaves=None,\n",
       "              min_child_weight=None, missing=nan, monotone_constraints=None,\n",
       "              n_estimators=100, n_jobs=None, num_parallel_tree=None,\n",
       "              predictor=None, random_state=15, ...)</pre></div></div></div></div></div></div></div></div></div></div></div></div>"
      ],
      "text/plain": [
       "GridSearchCV(cv=5,\n",
       "             estimator=Pipeline(steps=[('preprocessor',\n",
       "                                        ColumnTransformer(transformers=[('num',\n",
       "                                                                         Pipeline(steps=[('std_scaler',\n",
       "                                                                                          StandardScaler())]),\n",
       "                                                                         ['host_response_rate',\n",
       "                                                                          'host_acceptance_rate',\n",
       "                                                                          'host_is_superhost',\n",
       "                                                                          'host_listings_count',\n",
       "                                                                          'host_has_profile_pic',\n",
       "                                                                          'host_identity_verified',\n",
       "                                                                          'accommodates',\n",
       "                                                                          'bedrooms',\n",
       "                                                                          'price',\n",
       "                                                                          'minimum_nights',\n",
       "                                                                          'maximum_nights...\n",
       "                                                      missing=nan,\n",
       "                                                      monotone_constraints=None,\n",
       "                                                      n_estimators=100,\n",
       "                                                      n_jobs=None,\n",
       "                                                      num_parallel_tree=None,\n",
       "                                                      predictor=None,\n",
       "                                                      random_state=15, ...))]),\n",
       "             n_jobs=-1,\n",
       "             param_grid={'xgb__colsample_bytree': [0.5], 'xgb__gamma': [0.1],\n",
       "                         'xgb__learning_rate': [0.05], 'xgb__max_depth': [10],\n",
       "                         'xgb__min_child_weight': [5],\n",
       "                         'xgb__scale_pos_weight': [1],\n",
       "                         'xgb__subsample': [0.5]},\n",
       "             scoring='accuracy', verbose=5)"
      ]
     },
     "execution_count": 70,
     "metadata": {},
     "output_type": "execute_result"
    }
   ],
   "source": [
    "grid_xgb = GridSearchCV(pipe_xgb, param_grid=param_xgb_best, cv=5, scoring='accuracy', \n",
    "                           verbose=5, n_jobs=-1)\n",
    "\n",
    "grid_xgb.fit(X_train, y_train)"
   ]
  },
  {
   "cell_type": "code",
   "execution_count": 71,
   "id": "e520eee2-ed67-4830-823d-4b6372e10769",
   "metadata": {},
   "outputs": [
    {
     "name": "stdout",
     "output_type": "stream",
     "text": [
      "Best score:\n",
      "0.98\n",
      "Best parameters:\n",
      "{'xgb__colsample_bytree': 0.5, 'xgb__gamma': 0.1, 'xgb__learning_rate': 0.05, 'xgb__max_depth': 10, 'xgb__min_child_weight': 5, 'xgb__scale_pos_weight': 1, 'xgb__subsample': 0.5}\n"
     ]
    }
   ],
   "source": [
    "print('Best score:\\n{:.2f}'.format(grid_xgb.best_score_))\n",
    "print(\"Best parameters:\\n{}\".format(grid_xgb.best_params_))"
   ]
  },
  {
   "cell_type": "code",
   "execution_count": 72,
   "id": "bfe15636-3705-499e-bffb-1567de6fcab8",
   "metadata": {
    "tags": []
   },
   "outputs": [
    {
     "data": {
      "text/html": [
       "<style>#sk-743dc181-33b3-4f5e-a499-9f572fb8e5b7 {color: black;background-color: white;}#sk-743dc181-33b3-4f5e-a499-9f572fb8e5b7 pre{padding: 0;}#sk-743dc181-33b3-4f5e-a499-9f572fb8e5b7 div.sk-toggleable {background-color: white;}#sk-743dc181-33b3-4f5e-a499-9f572fb8e5b7 label.sk-toggleable__label {cursor: pointer;display: block;width: 100%;margin-bottom: 0;padding: 0.3em;box-sizing: border-box;text-align: center;}#sk-743dc181-33b3-4f5e-a499-9f572fb8e5b7 label.sk-toggleable__label-arrow:before {content: \"▸\";float: left;margin-right: 0.25em;color: #696969;}#sk-743dc181-33b3-4f5e-a499-9f572fb8e5b7 label.sk-toggleable__label-arrow:hover:before {color: black;}#sk-743dc181-33b3-4f5e-a499-9f572fb8e5b7 div.sk-estimator:hover label.sk-toggleable__label-arrow:before {color: black;}#sk-743dc181-33b3-4f5e-a499-9f572fb8e5b7 div.sk-toggleable__content {max-height: 0;max-width: 0;overflow: hidden;text-align: left;background-color: #f0f8ff;}#sk-743dc181-33b3-4f5e-a499-9f572fb8e5b7 div.sk-toggleable__content pre {margin: 0.2em;color: black;border-radius: 0.25em;background-color: #f0f8ff;}#sk-743dc181-33b3-4f5e-a499-9f572fb8e5b7 input.sk-toggleable__control:checked~div.sk-toggleable__content {max-height: 200px;max-width: 100%;overflow: auto;}#sk-743dc181-33b3-4f5e-a499-9f572fb8e5b7 input.sk-toggleable__control:checked~label.sk-toggleable__label-arrow:before {content: \"▾\";}#sk-743dc181-33b3-4f5e-a499-9f572fb8e5b7 div.sk-estimator input.sk-toggleable__control:checked~label.sk-toggleable__label {background-color: #d4ebff;}#sk-743dc181-33b3-4f5e-a499-9f572fb8e5b7 div.sk-label input.sk-toggleable__control:checked~label.sk-toggleable__label {background-color: #d4ebff;}#sk-743dc181-33b3-4f5e-a499-9f572fb8e5b7 input.sk-hidden--visually {border: 0;clip: rect(1px 1px 1px 1px);clip: rect(1px, 1px, 1px, 1px);height: 1px;margin: -1px;overflow: hidden;padding: 0;position: absolute;width: 1px;}#sk-743dc181-33b3-4f5e-a499-9f572fb8e5b7 div.sk-estimator {font-family: monospace;background-color: #f0f8ff;border: 1px dotted black;border-radius: 0.25em;box-sizing: border-box;margin-bottom: 0.5em;}#sk-743dc181-33b3-4f5e-a499-9f572fb8e5b7 div.sk-estimator:hover {background-color: #d4ebff;}#sk-743dc181-33b3-4f5e-a499-9f572fb8e5b7 div.sk-parallel-item::after {content: \"\";width: 100%;border-bottom: 1px solid gray;flex-grow: 1;}#sk-743dc181-33b3-4f5e-a499-9f572fb8e5b7 div.sk-label:hover label.sk-toggleable__label {background-color: #d4ebff;}#sk-743dc181-33b3-4f5e-a499-9f572fb8e5b7 div.sk-serial::before {content: \"\";position: absolute;border-left: 1px solid gray;box-sizing: border-box;top: 2em;bottom: 0;left: 50%;}#sk-743dc181-33b3-4f5e-a499-9f572fb8e5b7 div.sk-serial {display: flex;flex-direction: column;align-items: center;background-color: white;padding-right: 0.2em;padding-left: 0.2em;}#sk-743dc181-33b3-4f5e-a499-9f572fb8e5b7 div.sk-item {z-index: 1;}#sk-743dc181-33b3-4f5e-a499-9f572fb8e5b7 div.sk-parallel {display: flex;align-items: stretch;justify-content: center;background-color: white;}#sk-743dc181-33b3-4f5e-a499-9f572fb8e5b7 div.sk-parallel::before {content: \"\";position: absolute;border-left: 1px solid gray;box-sizing: border-box;top: 2em;bottom: 0;left: 50%;}#sk-743dc181-33b3-4f5e-a499-9f572fb8e5b7 div.sk-parallel-item {display: flex;flex-direction: column;position: relative;background-color: white;}#sk-743dc181-33b3-4f5e-a499-9f572fb8e5b7 div.sk-parallel-item:first-child::after {align-self: flex-end;width: 50%;}#sk-743dc181-33b3-4f5e-a499-9f572fb8e5b7 div.sk-parallel-item:last-child::after {align-self: flex-start;width: 50%;}#sk-743dc181-33b3-4f5e-a499-9f572fb8e5b7 div.sk-parallel-item:only-child::after {width: 0;}#sk-743dc181-33b3-4f5e-a499-9f572fb8e5b7 div.sk-dashed-wrapped {border: 1px dashed gray;margin: 0 0.4em 0.5em 0.4em;box-sizing: border-box;padding-bottom: 0.4em;background-color: white;position: relative;}#sk-743dc181-33b3-4f5e-a499-9f572fb8e5b7 div.sk-label label {font-family: monospace;font-weight: bold;background-color: white;display: inline-block;line-height: 1.2em;}#sk-743dc181-33b3-4f5e-a499-9f572fb8e5b7 div.sk-label-container {position: relative;z-index: 2;text-align: center;}#sk-743dc181-33b3-4f5e-a499-9f572fb8e5b7 div.sk-container {/* jupyter's `normalize.less` sets `[hidden] { display: none; }` but bootstrap.min.css set `[hidden] { display: none !important; }` so we also need the `!important` here to be able to override the default hidden behavior on the sphinx rendered scikit-learn.org. See: https://github.com/scikit-learn/scikit-learn/issues/21755 */display: inline-block !important;position: relative;}#sk-743dc181-33b3-4f5e-a499-9f572fb8e5b7 div.sk-text-repr-fallback {display: none;}</style><div id=\"sk-743dc181-33b3-4f5e-a499-9f572fb8e5b7\" class=\"sk-top-container\"><div class=\"sk-text-repr-fallback\"><pre>Pipeline(steps=[(&#x27;preprocessor&#x27;,\n",
       "                 ColumnTransformer(transformers=[(&#x27;num&#x27;,\n",
       "                                                  Pipeline(steps=[(&#x27;std_scaler&#x27;,\n",
       "                                                                   StandardScaler())]),\n",
       "                                                  [&#x27;host_response_rate&#x27;,\n",
       "                                                   &#x27;host_acceptance_rate&#x27;,\n",
       "                                                   &#x27;host_is_superhost&#x27;,\n",
       "                                                   &#x27;host_listings_count&#x27;,\n",
       "                                                   &#x27;host_has_profile_pic&#x27;,\n",
       "                                                   &#x27;host_identity_verified&#x27;,\n",
       "                                                   &#x27;accommodates&#x27;, &#x27;bedrooms&#x27;,\n",
       "                                                   &#x27;price&#x27;, &#x27;minimum_nights&#x27;,\n",
       "                                                   &#x27;maximum_nights&#x27;,\n",
       "                                                   &#x27;has_availability&#x27;,\n",
       "                                                   &#x27;number...\n",
       "                               feature_types=None, gamma=0.1, gpu_id=None,\n",
       "                               grow_policy=None, importance_type=None,\n",
       "                               interaction_constraints=None, learning_rate=0.05,\n",
       "                               max_bin=None, max_cat_threshold=None,\n",
       "                               max_cat_to_onehot=None, max_delta_step=None,\n",
       "                               max_depth=10, max_leaves=None,\n",
       "                               min_child_weight=5, missing=nan,\n",
       "                               monotone_constraints=None, n_estimators=100,\n",
       "                               n_jobs=None, num_parallel_tree=None,\n",
       "                               predictor=None, random_state=15, ...))])</pre><b>Please rerun this cell to show the HTML repr or trust the notebook.</b></div><div class=\"sk-container\" hidden><div class=\"sk-item sk-dashed-wrapped\"><div class=\"sk-label-container\"><div class=\"sk-label sk-toggleable\"><input class=\"sk-toggleable__control sk-hidden--visually\" id=\"1135371a-1ed7-42ee-a2df-04bf93e05f0c\" type=\"checkbox\" ><label for=\"1135371a-1ed7-42ee-a2df-04bf93e05f0c\" class=\"sk-toggleable__label sk-toggleable__label-arrow\">Pipeline</label><div class=\"sk-toggleable__content\"><pre>Pipeline(steps=[(&#x27;preprocessor&#x27;,\n",
       "                 ColumnTransformer(transformers=[(&#x27;num&#x27;,\n",
       "                                                  Pipeline(steps=[(&#x27;std_scaler&#x27;,\n",
       "                                                                   StandardScaler())]),\n",
       "                                                  [&#x27;host_response_rate&#x27;,\n",
       "                                                   &#x27;host_acceptance_rate&#x27;,\n",
       "                                                   &#x27;host_is_superhost&#x27;,\n",
       "                                                   &#x27;host_listings_count&#x27;,\n",
       "                                                   &#x27;host_has_profile_pic&#x27;,\n",
       "                                                   &#x27;host_identity_verified&#x27;,\n",
       "                                                   &#x27;accommodates&#x27;, &#x27;bedrooms&#x27;,\n",
       "                                                   &#x27;price&#x27;, &#x27;minimum_nights&#x27;,\n",
       "                                                   &#x27;maximum_nights&#x27;,\n",
       "                                                   &#x27;has_availability&#x27;,\n",
       "                                                   &#x27;number...\n",
       "                               feature_types=None, gamma=0.1, gpu_id=None,\n",
       "                               grow_policy=None, importance_type=None,\n",
       "                               interaction_constraints=None, learning_rate=0.05,\n",
       "                               max_bin=None, max_cat_threshold=None,\n",
       "                               max_cat_to_onehot=None, max_delta_step=None,\n",
       "                               max_depth=10, max_leaves=None,\n",
       "                               min_child_weight=5, missing=nan,\n",
       "                               monotone_constraints=None, n_estimators=100,\n",
       "                               n_jobs=None, num_parallel_tree=None,\n",
       "                               predictor=None, random_state=15, ...))])</pre></div></div></div><div class=\"sk-serial\"><div class=\"sk-item sk-dashed-wrapped\"><div class=\"sk-label-container\"><div class=\"sk-label sk-toggleable\"><input class=\"sk-toggleable__control sk-hidden--visually\" id=\"1fa5d00a-f5ae-45c1-8d45-c7af025d1937\" type=\"checkbox\" ><label for=\"1fa5d00a-f5ae-45c1-8d45-c7af025d1937\" class=\"sk-toggleable__label sk-toggleable__label-arrow\">preprocessor: ColumnTransformer</label><div class=\"sk-toggleable__content\"><pre>ColumnTransformer(transformers=[(&#x27;num&#x27;,\n",
       "                                 Pipeline(steps=[(&#x27;std_scaler&#x27;,\n",
       "                                                  StandardScaler())]),\n",
       "                                 [&#x27;host_response_rate&#x27;, &#x27;host_acceptance_rate&#x27;,\n",
       "                                  &#x27;host_is_superhost&#x27;, &#x27;host_listings_count&#x27;,\n",
       "                                  &#x27;host_has_profile_pic&#x27;,\n",
       "                                  &#x27;host_identity_verified&#x27;, &#x27;accommodates&#x27;,\n",
       "                                  &#x27;bedrooms&#x27;, &#x27;price&#x27;, &#x27;minimum_nights&#x27;,\n",
       "                                  &#x27;maximum_nights&#x27;, &#x27;has_availability&#x27;,\n",
       "                                  &#x27;number_of_reviews&#x27;, &#x27;license&#x27;,\n",
       "                                  &#x27;instant_bookable&#x27;]),\n",
       "                                (&#x27;cat&#x27;,\n",
       "                                 Pipeline(steps=[(&#x27;1hot&#x27;,\n",
       "                                                  OneHotEncoder(handle_unknown=&#x27;ignore&#x27;))]),\n",
       "                                 [&#x27;host_response_time&#x27;,\n",
       "                                  &#x27;neighbourhood_group_cleansed&#x27;, &#x27;room_type&#x27;,\n",
       "                                  &#x27;host_type&#x27;])])</pre></div></div></div><div class=\"sk-parallel\"><div class=\"sk-parallel-item\"><div class=\"sk-item\"><div class=\"sk-label-container\"><div class=\"sk-label sk-toggleable\"><input class=\"sk-toggleable__control sk-hidden--visually\" id=\"dd0136e3-9503-4419-8480-ee5b0bf5e02f\" type=\"checkbox\" ><label for=\"dd0136e3-9503-4419-8480-ee5b0bf5e02f\" class=\"sk-toggleable__label sk-toggleable__label-arrow\">num</label><div class=\"sk-toggleable__content\"><pre>[&#x27;host_response_rate&#x27;, &#x27;host_acceptance_rate&#x27;, &#x27;host_is_superhost&#x27;, &#x27;host_listings_count&#x27;, &#x27;host_has_profile_pic&#x27;, &#x27;host_identity_verified&#x27;, &#x27;accommodates&#x27;, &#x27;bedrooms&#x27;, &#x27;price&#x27;, &#x27;minimum_nights&#x27;, &#x27;maximum_nights&#x27;, &#x27;has_availability&#x27;, &#x27;number_of_reviews&#x27;, &#x27;license&#x27;, &#x27;instant_bookable&#x27;]</pre></div></div></div><div class=\"sk-serial\"><div class=\"sk-item\"><div class=\"sk-serial\"><div class=\"sk-item\"><div class=\"sk-estimator sk-toggleable\"><input class=\"sk-toggleable__control sk-hidden--visually\" id=\"8a1ae4bd-6dca-45cb-8eed-703bc1ffe214\" type=\"checkbox\" ><label for=\"8a1ae4bd-6dca-45cb-8eed-703bc1ffe214\" class=\"sk-toggleable__label sk-toggleable__label-arrow\">StandardScaler</label><div class=\"sk-toggleable__content\"><pre>StandardScaler()</pre></div></div></div></div></div></div></div></div><div class=\"sk-parallel-item\"><div class=\"sk-item\"><div class=\"sk-label-container\"><div class=\"sk-label sk-toggleable\"><input class=\"sk-toggleable__control sk-hidden--visually\" id=\"5b4a77c0-8fdf-4720-af59-ec69904a6352\" type=\"checkbox\" ><label for=\"5b4a77c0-8fdf-4720-af59-ec69904a6352\" class=\"sk-toggleable__label sk-toggleable__label-arrow\">cat</label><div class=\"sk-toggleable__content\"><pre>[&#x27;host_response_time&#x27;, &#x27;neighbourhood_group_cleansed&#x27;, &#x27;room_type&#x27;, &#x27;host_type&#x27;]</pre></div></div></div><div class=\"sk-serial\"><div class=\"sk-item\"><div class=\"sk-serial\"><div class=\"sk-item\"><div class=\"sk-estimator sk-toggleable\"><input class=\"sk-toggleable__control sk-hidden--visually\" id=\"3794a44c-f138-4394-a04a-64fbc2c3ace8\" type=\"checkbox\" ><label for=\"3794a44c-f138-4394-a04a-64fbc2c3ace8\" class=\"sk-toggleable__label sk-toggleable__label-arrow\">OneHotEncoder</label><div class=\"sk-toggleable__content\"><pre>OneHotEncoder(handle_unknown=&#x27;ignore&#x27;)</pre></div></div></div></div></div></div></div></div></div></div><div class=\"sk-item\"><div class=\"sk-estimator sk-toggleable\"><input class=\"sk-toggleable__control sk-hidden--visually\" id=\"d4bbe34f-95e2-4d87-a975-efcd37440d52\" type=\"checkbox\" ><label for=\"d4bbe34f-95e2-4d87-a975-efcd37440d52\" class=\"sk-toggleable__label sk-toggleable__label-arrow\">XGBClassifier</label><div class=\"sk-toggleable__content\"><pre>XGBClassifier(base_score=None, booster=None, callbacks=None,\n",
       "              colsample_bylevel=None, colsample_bynode=None,\n",
       "              colsample_bytree=0.5, early_stopping_rounds=None,\n",
       "              enable_categorical=False, eval_metric=None, feature_types=None,\n",
       "              gamma=0.1, gpu_id=None, grow_policy=None, importance_type=None,\n",
       "              interaction_constraints=None, learning_rate=0.05, max_bin=None,\n",
       "              max_cat_threshold=None, max_cat_to_onehot=None,\n",
       "              max_delta_step=None, max_depth=10, max_leaves=None,\n",
       "              min_child_weight=5, missing=nan, monotone_constraints=None,\n",
       "              n_estimators=100, n_jobs=None, num_parallel_tree=None,\n",
       "              predictor=None, random_state=15, ...)</pre></div></div></div></div></div></div></div>"
      ],
      "text/plain": [
       "Pipeline(steps=[('preprocessor',\n",
       "                 ColumnTransformer(transformers=[('num',\n",
       "                                                  Pipeline(steps=[('std_scaler',\n",
       "                                                                   StandardScaler())]),\n",
       "                                                  ['host_response_rate',\n",
       "                                                   'host_acceptance_rate',\n",
       "                                                   'host_is_superhost',\n",
       "                                                   'host_listings_count',\n",
       "                                                   'host_has_profile_pic',\n",
       "                                                   'host_identity_verified',\n",
       "                                                   'accommodates', 'bedrooms',\n",
       "                                                   'price', 'minimum_nights',\n",
       "                                                   'maximum_nights',\n",
       "                                                   'has_availability',\n",
       "                                                   'number...\n",
       "                               feature_types=None, gamma=0.1, gpu_id=None,\n",
       "                               grow_policy=None, importance_type=None,\n",
       "                               interaction_constraints=None, learning_rate=0.05,\n",
       "                               max_bin=None, max_cat_threshold=None,\n",
       "                               max_cat_to_onehot=None, max_delta_step=None,\n",
       "                               max_depth=10, max_leaves=None,\n",
       "                               min_child_weight=5, missing=nan,\n",
       "                               monotone_constraints=None, n_estimators=100,\n",
       "                               n_jobs=None, num_parallel_tree=None,\n",
       "                               predictor=None, random_state=15, ...))])"
      ]
     },
     "execution_count": 72,
     "metadata": {},
     "output_type": "execute_result"
    }
   ],
   "source": [
    "XGBOOST = grid_xgb.best_estimator_\n",
    "XGBOOST"
   ]
  },
  {
   "cell_type": "code",
   "execution_count": 73,
   "id": "23ad72f5-7a05-4501-b941-399de24ea652",
   "metadata": {
    "tags": []
   },
   "outputs": [
    {
     "name": "stdout",
     "output_type": "stream",
     "text": [
      "Accuracy: 0.98\n",
      "Recall: 0.98\n",
      "Precision: 0.98\n"
     ]
    }
   ],
   "source": [
    "y_test_predicted_xgb = XGBOOST.predict(X_test)\n",
    "print(\"Accuracy: {:.2f}\".format(accuracy_score(y_test, y_test_predicted_xgb)))\n",
    "print(\"Recall: {:.2f}\".format(recall_score(y_test, y_test_predicted_xgb)))\n",
    "print(\"Precision: {:.2f}\".format(precision_score(y_test, y_test_predicted_xgb)))"
   ]
  },
  {
   "cell_type": "markdown",
   "id": "ff9bc4fc-2b83-4ce5-88fb-4a6fe9e823be",
   "metadata": {},
   "source": [
    "## KNN"
   ]
  },
  {
   "cell_type": "code",
   "execution_count": 74,
   "id": "efc79575-af84-4ab0-81dc-5d5b64a34e27",
   "metadata": {
    "tags": []
   },
   "outputs": [
    {
     "name": "stdout",
     "output_type": "stream",
     "text": [
      "Cross validation scores:\n",
      "-------------------------\n",
      "Accuracy: 0.87\n",
      "Recall: 0.88\n",
      "Precision: 0.85\n"
     ]
    }
   ],
   "source": [
    "pipe_knn = Pipeline([\n",
    "    ('preprocessor', preprocessor),\n",
    "    ('knn', KNeighborsClassifier(n_neighbors=5, metric='euclidean'))\n",
    "])\n",
    "\n",
    "y_train_predicted_knn = cross_val_predict(pipe_knn, X_train, y_train, cv=5)\n",
    "\n",
    "print('Cross validation scores:')\n",
    "print('-------------------------')\n",
    "print(\"Accuracy: {:.2f}\".format(accuracy_score(y_train, y_train_predicted_knn)))\n",
    "print(\"Recall: {:.2f}\".format(recall_score(y_train, y_train_predicted_knn)))\n",
    "print(\"Precision: {:.2f}\".format(precision_score(y_train, y_train_predicted_knn)))"
   ]
  },
  {
   "cell_type": "markdown",
   "id": "ea232cb1-3e30-4ce9-90f0-3866a2934baf",
   "metadata": {},
   "source": [
    "## Decision Tree"
   ]
  },
  {
   "cell_type": "code",
   "execution_count": 75,
   "id": "a37faa52-92ed-43e0-8d26-a6809cde1b35",
   "metadata": {
    "tags": []
   },
   "outputs": [
    {
     "name": "stdout",
     "output_type": "stream",
     "text": [
      "Cross validation scores:\n",
      "-------------------------\n",
      "Accuracy: 0.98\n",
      "Recall: 0.98\n",
      "Precision: 0.98\n"
     ]
    }
   ],
   "source": [
    "pipe_tree = Pipeline([\n",
    "    ('preprocessor', preprocessor),\n",
    "    ('tree', DecisionTreeClassifier(criterion='gini', max_depth=15, random_state=RSEED))\n",
    "])\n",
    "\n",
    "y_train_predicted_tree = cross_val_predict(pipe_tree, X_train, y_train, cv=5)\n",
    "\n",
    "print('Cross validation scores:')\n",
    "print('-------------------------')\n",
    "print(\"Accuracy: {:.2f}\".format(accuracy_score(y_train, y_train_predicted_tree)))\n",
    "print(\"Recall: {:.2f}\".format(recall_score(y_train, y_train_predicted_tree)))\n",
    "print(\"Precision: {:.2f}\".format(precision_score(y_train, y_train_predicted_tree)))"
   ]
  },
  {
   "cell_type": "code",
   "execution_count": 76,
   "id": "db1b1514-d053-4ffd-add9-64d651422a3b",
   "metadata": {
    "tags": []
   },
   "outputs": [],
   "source": [
    "param_tree_all = {'tree__criterion':['gini', 'entropy'],\n",
    "                'tree__max_depth':[2,4,6,8,10,12]\n",
    "              }"
   ]
  },
  {
   "cell_type": "code",
   "execution_count": 77,
   "id": "95a0df12-9847-4366-9046-431a436f868f",
   "metadata": {
    "tags": []
   },
   "outputs": [],
   "source": [
    "param_tree_best = {'tree__criterion':['entropy'],\n",
    "                'tree__max_depth':[6]\n",
    "              }"
   ]
  },
  {
   "cell_type": "code",
   "execution_count": 78,
   "id": "124a664d-7602-4690-8684-0cbddedd0770",
   "metadata": {
    "tags": []
   },
   "outputs": [
    {
     "name": "stdout",
     "output_type": "stream",
     "text": [
      "Fitting 5 folds for each of 12 candidates, totalling 60 fits\n"
     ]
    },
    {
     "data": {
      "text/html": [
       "<style>#sk-1d95ac41-ce00-4642-9f91-4cb47f6d734d {color: black;background-color: white;}#sk-1d95ac41-ce00-4642-9f91-4cb47f6d734d pre{padding: 0;}#sk-1d95ac41-ce00-4642-9f91-4cb47f6d734d div.sk-toggleable {background-color: white;}#sk-1d95ac41-ce00-4642-9f91-4cb47f6d734d label.sk-toggleable__label {cursor: pointer;display: block;width: 100%;margin-bottom: 0;padding: 0.3em;box-sizing: border-box;text-align: center;}#sk-1d95ac41-ce00-4642-9f91-4cb47f6d734d label.sk-toggleable__label-arrow:before {content: \"▸\";float: left;margin-right: 0.25em;color: #696969;}#sk-1d95ac41-ce00-4642-9f91-4cb47f6d734d label.sk-toggleable__label-arrow:hover:before {color: black;}#sk-1d95ac41-ce00-4642-9f91-4cb47f6d734d div.sk-estimator:hover label.sk-toggleable__label-arrow:before {color: black;}#sk-1d95ac41-ce00-4642-9f91-4cb47f6d734d div.sk-toggleable__content {max-height: 0;max-width: 0;overflow: hidden;text-align: left;background-color: #f0f8ff;}#sk-1d95ac41-ce00-4642-9f91-4cb47f6d734d div.sk-toggleable__content pre {margin: 0.2em;color: black;border-radius: 0.25em;background-color: #f0f8ff;}#sk-1d95ac41-ce00-4642-9f91-4cb47f6d734d input.sk-toggleable__control:checked~div.sk-toggleable__content {max-height: 200px;max-width: 100%;overflow: auto;}#sk-1d95ac41-ce00-4642-9f91-4cb47f6d734d input.sk-toggleable__control:checked~label.sk-toggleable__label-arrow:before {content: \"▾\";}#sk-1d95ac41-ce00-4642-9f91-4cb47f6d734d div.sk-estimator input.sk-toggleable__control:checked~label.sk-toggleable__label {background-color: #d4ebff;}#sk-1d95ac41-ce00-4642-9f91-4cb47f6d734d div.sk-label input.sk-toggleable__control:checked~label.sk-toggleable__label {background-color: #d4ebff;}#sk-1d95ac41-ce00-4642-9f91-4cb47f6d734d input.sk-hidden--visually {border: 0;clip: rect(1px 1px 1px 1px);clip: rect(1px, 1px, 1px, 1px);height: 1px;margin: -1px;overflow: hidden;padding: 0;position: absolute;width: 1px;}#sk-1d95ac41-ce00-4642-9f91-4cb47f6d734d div.sk-estimator {font-family: monospace;background-color: #f0f8ff;border: 1px dotted black;border-radius: 0.25em;box-sizing: border-box;margin-bottom: 0.5em;}#sk-1d95ac41-ce00-4642-9f91-4cb47f6d734d div.sk-estimator:hover {background-color: #d4ebff;}#sk-1d95ac41-ce00-4642-9f91-4cb47f6d734d div.sk-parallel-item::after {content: \"\";width: 100%;border-bottom: 1px solid gray;flex-grow: 1;}#sk-1d95ac41-ce00-4642-9f91-4cb47f6d734d div.sk-label:hover label.sk-toggleable__label {background-color: #d4ebff;}#sk-1d95ac41-ce00-4642-9f91-4cb47f6d734d div.sk-serial::before {content: \"\";position: absolute;border-left: 1px solid gray;box-sizing: border-box;top: 2em;bottom: 0;left: 50%;}#sk-1d95ac41-ce00-4642-9f91-4cb47f6d734d div.sk-serial {display: flex;flex-direction: column;align-items: center;background-color: white;padding-right: 0.2em;padding-left: 0.2em;}#sk-1d95ac41-ce00-4642-9f91-4cb47f6d734d div.sk-item {z-index: 1;}#sk-1d95ac41-ce00-4642-9f91-4cb47f6d734d div.sk-parallel {display: flex;align-items: stretch;justify-content: center;background-color: white;}#sk-1d95ac41-ce00-4642-9f91-4cb47f6d734d div.sk-parallel::before {content: \"\";position: absolute;border-left: 1px solid gray;box-sizing: border-box;top: 2em;bottom: 0;left: 50%;}#sk-1d95ac41-ce00-4642-9f91-4cb47f6d734d div.sk-parallel-item {display: flex;flex-direction: column;position: relative;background-color: white;}#sk-1d95ac41-ce00-4642-9f91-4cb47f6d734d div.sk-parallel-item:first-child::after {align-self: flex-end;width: 50%;}#sk-1d95ac41-ce00-4642-9f91-4cb47f6d734d div.sk-parallel-item:last-child::after {align-self: flex-start;width: 50%;}#sk-1d95ac41-ce00-4642-9f91-4cb47f6d734d div.sk-parallel-item:only-child::after {width: 0;}#sk-1d95ac41-ce00-4642-9f91-4cb47f6d734d div.sk-dashed-wrapped {border: 1px dashed gray;margin: 0 0.4em 0.5em 0.4em;box-sizing: border-box;padding-bottom: 0.4em;background-color: white;position: relative;}#sk-1d95ac41-ce00-4642-9f91-4cb47f6d734d div.sk-label label {font-family: monospace;font-weight: bold;background-color: white;display: inline-block;line-height: 1.2em;}#sk-1d95ac41-ce00-4642-9f91-4cb47f6d734d div.sk-label-container {position: relative;z-index: 2;text-align: center;}#sk-1d95ac41-ce00-4642-9f91-4cb47f6d734d div.sk-container {/* jupyter's `normalize.less` sets `[hidden] { display: none; }` but bootstrap.min.css set `[hidden] { display: none !important; }` so we also need the `!important` here to be able to override the default hidden behavior on the sphinx rendered scikit-learn.org. See: https://github.com/scikit-learn/scikit-learn/issues/21755 */display: inline-block !important;position: relative;}#sk-1d95ac41-ce00-4642-9f91-4cb47f6d734d div.sk-text-repr-fallback {display: none;}</style><div id=\"sk-1d95ac41-ce00-4642-9f91-4cb47f6d734d\" class=\"sk-top-container\"><div class=\"sk-text-repr-fallback\"><pre>GridSearchCV(cv=5,\n",
       "             estimator=Pipeline(steps=[(&#x27;preprocessor&#x27;,\n",
       "                                        ColumnTransformer(transformers=[(&#x27;num&#x27;,\n",
       "                                                                         Pipeline(steps=[(&#x27;std_scaler&#x27;,\n",
       "                                                                                          StandardScaler())]),\n",
       "                                                                         [&#x27;host_response_rate&#x27;,\n",
       "                                                                          &#x27;host_acceptance_rate&#x27;,\n",
       "                                                                          &#x27;host_is_superhost&#x27;,\n",
       "                                                                          &#x27;host_listings_count&#x27;,\n",
       "                                                                          &#x27;host_has_profile_pic&#x27;,\n",
       "                                                                          &#x27;host_identity_verified&#x27;,\n",
       "                                                                          &#x27;accommodates&#x27;,\n",
       "                                                                          &#x27;bedrooms&#x27;,\n",
       "                                                                          &#x27;price&#x27;,\n",
       "                                                                          &#x27;minimum_nights&#x27;,\n",
       "                                                                          &#x27;maximum_nights...\n",
       "                                                                          &#x27;instant_bookable&#x27;]),\n",
       "                                                                        (&#x27;cat&#x27;,\n",
       "                                                                         Pipeline(steps=[(&#x27;1hot&#x27;,\n",
       "                                                                                          OneHotEncoder(handle_unknown=&#x27;ignore&#x27;))]),\n",
       "                                                                         [&#x27;host_response_time&#x27;,\n",
       "                                                                          &#x27;neighbourhood_group_cleansed&#x27;,\n",
       "                                                                          &#x27;room_type&#x27;,\n",
       "                                                                          &#x27;host_type&#x27;])])),\n",
       "                                       (&#x27;tree&#x27;,\n",
       "                                        DecisionTreeClassifier(max_depth=15,\n",
       "                                                               random_state=15))]),\n",
       "             n_jobs=-1,\n",
       "             param_grid={&#x27;tree__criterion&#x27;: [&#x27;gini&#x27;, &#x27;entropy&#x27;],\n",
       "                         &#x27;tree__max_depth&#x27;: [2, 4, 6, 8, 10, 12]},\n",
       "             scoring=&#x27;accuracy&#x27;, verbose=5)</pre><b>Please rerun this cell to show the HTML repr or trust the notebook.</b></div><div class=\"sk-container\" hidden><div class=\"sk-item sk-dashed-wrapped\"><div class=\"sk-label-container\"><div class=\"sk-label sk-toggleable\"><input class=\"sk-toggleable__control sk-hidden--visually\" id=\"294c1069-981c-4126-9a3c-4a5ec9da5e03\" type=\"checkbox\" ><label for=\"294c1069-981c-4126-9a3c-4a5ec9da5e03\" class=\"sk-toggleable__label sk-toggleable__label-arrow\">GridSearchCV</label><div class=\"sk-toggleable__content\"><pre>GridSearchCV(cv=5,\n",
       "             estimator=Pipeline(steps=[(&#x27;preprocessor&#x27;,\n",
       "                                        ColumnTransformer(transformers=[(&#x27;num&#x27;,\n",
       "                                                                         Pipeline(steps=[(&#x27;std_scaler&#x27;,\n",
       "                                                                                          StandardScaler())]),\n",
       "                                                                         [&#x27;host_response_rate&#x27;,\n",
       "                                                                          &#x27;host_acceptance_rate&#x27;,\n",
       "                                                                          &#x27;host_is_superhost&#x27;,\n",
       "                                                                          &#x27;host_listings_count&#x27;,\n",
       "                                                                          &#x27;host_has_profile_pic&#x27;,\n",
       "                                                                          &#x27;host_identity_verified&#x27;,\n",
       "                                                                          &#x27;accommodates&#x27;,\n",
       "                                                                          &#x27;bedrooms&#x27;,\n",
       "                                                                          &#x27;price&#x27;,\n",
       "                                                                          &#x27;minimum_nights&#x27;,\n",
       "                                                                          &#x27;maximum_nights...\n",
       "                                                                          &#x27;instant_bookable&#x27;]),\n",
       "                                                                        (&#x27;cat&#x27;,\n",
       "                                                                         Pipeline(steps=[(&#x27;1hot&#x27;,\n",
       "                                                                                          OneHotEncoder(handle_unknown=&#x27;ignore&#x27;))]),\n",
       "                                                                         [&#x27;host_response_time&#x27;,\n",
       "                                                                          &#x27;neighbourhood_group_cleansed&#x27;,\n",
       "                                                                          &#x27;room_type&#x27;,\n",
       "                                                                          &#x27;host_type&#x27;])])),\n",
       "                                       (&#x27;tree&#x27;,\n",
       "                                        DecisionTreeClassifier(max_depth=15,\n",
       "                                                               random_state=15))]),\n",
       "             n_jobs=-1,\n",
       "             param_grid={&#x27;tree__criterion&#x27;: [&#x27;gini&#x27;, &#x27;entropy&#x27;],\n",
       "                         &#x27;tree__max_depth&#x27;: [2, 4, 6, 8, 10, 12]},\n",
       "             scoring=&#x27;accuracy&#x27;, verbose=5)</pre></div></div></div><div class=\"sk-parallel\"><div class=\"sk-parallel-item\"><div class=\"sk-item\"><div class=\"sk-serial\"><div class=\"sk-item\"><div class=\"sk-serial\"><div class=\"sk-item sk-dashed-wrapped\"><div class=\"sk-label-container\"><div class=\"sk-label sk-toggleable\"><input class=\"sk-toggleable__control sk-hidden--visually\" id=\"3699c469-1af4-405f-96b3-5ad907aff5fc\" type=\"checkbox\" ><label for=\"3699c469-1af4-405f-96b3-5ad907aff5fc\" class=\"sk-toggleable__label sk-toggleable__label-arrow\">preprocessor: ColumnTransformer</label><div class=\"sk-toggleable__content\"><pre>ColumnTransformer(transformers=[(&#x27;num&#x27;,\n",
       "                                 Pipeline(steps=[(&#x27;std_scaler&#x27;,\n",
       "                                                  StandardScaler())]),\n",
       "                                 [&#x27;host_response_rate&#x27;, &#x27;host_acceptance_rate&#x27;,\n",
       "                                  &#x27;host_is_superhost&#x27;, &#x27;host_listings_count&#x27;,\n",
       "                                  &#x27;host_has_profile_pic&#x27;,\n",
       "                                  &#x27;host_identity_verified&#x27;, &#x27;accommodates&#x27;,\n",
       "                                  &#x27;bedrooms&#x27;, &#x27;price&#x27;, &#x27;minimum_nights&#x27;,\n",
       "                                  &#x27;maximum_nights&#x27;, &#x27;has_availability&#x27;,\n",
       "                                  &#x27;number_of_reviews&#x27;, &#x27;license&#x27;,\n",
       "                                  &#x27;instant_bookable&#x27;]),\n",
       "                                (&#x27;cat&#x27;,\n",
       "                                 Pipeline(steps=[(&#x27;1hot&#x27;,\n",
       "                                                  OneHotEncoder(handle_unknown=&#x27;ignore&#x27;))]),\n",
       "                                 [&#x27;host_response_time&#x27;,\n",
       "                                  &#x27;neighbourhood_group_cleansed&#x27;, &#x27;room_type&#x27;,\n",
       "                                  &#x27;host_type&#x27;])])</pre></div></div></div><div class=\"sk-parallel\"><div class=\"sk-parallel-item\"><div class=\"sk-item\"><div class=\"sk-label-container\"><div class=\"sk-label sk-toggleable\"><input class=\"sk-toggleable__control sk-hidden--visually\" id=\"64b24bae-7baf-4ed4-a1ce-7b9fb52b87ba\" type=\"checkbox\" ><label for=\"64b24bae-7baf-4ed4-a1ce-7b9fb52b87ba\" class=\"sk-toggleable__label sk-toggleable__label-arrow\">num</label><div class=\"sk-toggleable__content\"><pre>[&#x27;host_response_rate&#x27;, &#x27;host_acceptance_rate&#x27;, &#x27;host_is_superhost&#x27;, &#x27;host_listings_count&#x27;, &#x27;host_has_profile_pic&#x27;, &#x27;host_identity_verified&#x27;, &#x27;accommodates&#x27;, &#x27;bedrooms&#x27;, &#x27;price&#x27;, &#x27;minimum_nights&#x27;, &#x27;maximum_nights&#x27;, &#x27;has_availability&#x27;, &#x27;number_of_reviews&#x27;, &#x27;license&#x27;, &#x27;instant_bookable&#x27;]</pre></div></div></div><div class=\"sk-serial\"><div class=\"sk-item\"><div class=\"sk-serial\"><div class=\"sk-item\"><div class=\"sk-estimator sk-toggleable\"><input class=\"sk-toggleable__control sk-hidden--visually\" id=\"c559f385-939b-447d-be12-374f0690f4c7\" type=\"checkbox\" ><label for=\"c559f385-939b-447d-be12-374f0690f4c7\" class=\"sk-toggleable__label sk-toggleable__label-arrow\">StandardScaler</label><div class=\"sk-toggleable__content\"><pre>StandardScaler()</pre></div></div></div></div></div></div></div></div><div class=\"sk-parallel-item\"><div class=\"sk-item\"><div class=\"sk-label-container\"><div class=\"sk-label sk-toggleable\"><input class=\"sk-toggleable__control sk-hidden--visually\" id=\"afc852f7-91d8-4e2d-bd36-f7225a20e0b3\" type=\"checkbox\" ><label for=\"afc852f7-91d8-4e2d-bd36-f7225a20e0b3\" class=\"sk-toggleable__label sk-toggleable__label-arrow\">cat</label><div class=\"sk-toggleable__content\"><pre>[&#x27;host_response_time&#x27;, &#x27;neighbourhood_group_cleansed&#x27;, &#x27;room_type&#x27;, &#x27;host_type&#x27;]</pre></div></div></div><div class=\"sk-serial\"><div class=\"sk-item\"><div class=\"sk-serial\"><div class=\"sk-item\"><div class=\"sk-estimator sk-toggleable\"><input class=\"sk-toggleable__control sk-hidden--visually\" id=\"8dead164-192e-4805-a711-185226b174f0\" type=\"checkbox\" ><label for=\"8dead164-192e-4805-a711-185226b174f0\" class=\"sk-toggleable__label sk-toggleable__label-arrow\">OneHotEncoder</label><div class=\"sk-toggleable__content\"><pre>OneHotEncoder(handle_unknown=&#x27;ignore&#x27;)</pre></div></div></div></div></div></div></div></div></div></div><div class=\"sk-item\"><div class=\"sk-estimator sk-toggleable\"><input class=\"sk-toggleable__control sk-hidden--visually\" id=\"c7967d61-cd49-44cf-9700-6bea2a90114c\" type=\"checkbox\" ><label for=\"c7967d61-cd49-44cf-9700-6bea2a90114c\" class=\"sk-toggleable__label sk-toggleable__label-arrow\">DecisionTreeClassifier</label><div class=\"sk-toggleable__content\"><pre>DecisionTreeClassifier(max_depth=15, random_state=15)</pre></div></div></div></div></div></div></div></div></div></div></div></div>"
      ],
      "text/plain": [
       "GridSearchCV(cv=5,\n",
       "             estimator=Pipeline(steps=[('preprocessor',\n",
       "                                        ColumnTransformer(transformers=[('num',\n",
       "                                                                         Pipeline(steps=[('std_scaler',\n",
       "                                                                                          StandardScaler())]),\n",
       "                                                                         ['host_response_rate',\n",
       "                                                                          'host_acceptance_rate',\n",
       "                                                                          'host_is_superhost',\n",
       "                                                                          'host_listings_count',\n",
       "                                                                          'host_has_profile_pic',\n",
       "                                                                          'host_identity_verified',\n",
       "                                                                          'accommodates',\n",
       "                                                                          'bedrooms',\n",
       "                                                                          'price',\n",
       "                                                                          'minimum_nights',\n",
       "                                                                          'maximum_nights...\n",
       "                                                                          'instant_bookable']),\n",
       "                                                                        ('cat',\n",
       "                                                                         Pipeline(steps=[('1hot',\n",
       "                                                                                          OneHotEncoder(handle_unknown='ignore'))]),\n",
       "                                                                         ['host_response_time',\n",
       "                                                                          'neighbourhood_group_cleansed',\n",
       "                                                                          'room_type',\n",
       "                                                                          'host_type'])])),\n",
       "                                       ('tree',\n",
       "                                        DecisionTreeClassifier(max_depth=15,\n",
       "                                                               random_state=15))]),\n",
       "             n_jobs=-1,\n",
       "             param_grid={'tree__criterion': ['gini', 'entropy'],\n",
       "                         'tree__max_depth': [2, 4, 6, 8, 10, 12]},\n",
       "             scoring='accuracy', verbose=5)"
      ]
     },
     "execution_count": 78,
     "metadata": {},
     "output_type": "execute_result"
    }
   ],
   "source": [
    "grid_tree = GridSearchCV(pipe_tree, param_grid=param_tree_all, cv=5, scoring='accuracy', \n",
    "                           verbose=5, n_jobs=-1)\n",
    "\n",
    "grid_tree.fit(X_train, y_train)"
   ]
  },
  {
   "cell_type": "code",
   "execution_count": 79,
   "id": "14db3cd2-76fd-4075-b0ef-ecd6ff131972",
   "metadata": {
    "tags": []
   },
   "outputs": [
    {
     "name": "stdout",
     "output_type": "stream",
     "text": [
      "Best score:\n",
      "0.98\n",
      "Best parameters:\n",
      "{'tree__criterion': 'gini', 'tree__max_depth': 12}\n"
     ]
    }
   ],
   "source": [
    "print('Best score:\\n{:.2f}'.format(grid_tree.best_score_))\n",
    "print(\"Best parameters:\\n{}\".format(grid_tree.best_params_))"
   ]
  },
  {
   "cell_type": "code",
   "execution_count": 80,
   "id": "ba9de9d3-a3a2-4cc5-a2fd-5fe87f6dbab7",
   "metadata": {
    "tags": []
   },
   "outputs": [
    {
     "data": {
      "text/html": [
       "<style>#sk-fbbc07fc-aa58-4240-b633-26678bb36e1e {color: black;background-color: white;}#sk-fbbc07fc-aa58-4240-b633-26678bb36e1e pre{padding: 0;}#sk-fbbc07fc-aa58-4240-b633-26678bb36e1e div.sk-toggleable {background-color: white;}#sk-fbbc07fc-aa58-4240-b633-26678bb36e1e label.sk-toggleable__label {cursor: pointer;display: block;width: 100%;margin-bottom: 0;padding: 0.3em;box-sizing: border-box;text-align: center;}#sk-fbbc07fc-aa58-4240-b633-26678bb36e1e label.sk-toggleable__label-arrow:before {content: \"▸\";float: left;margin-right: 0.25em;color: #696969;}#sk-fbbc07fc-aa58-4240-b633-26678bb36e1e label.sk-toggleable__label-arrow:hover:before {color: black;}#sk-fbbc07fc-aa58-4240-b633-26678bb36e1e div.sk-estimator:hover label.sk-toggleable__label-arrow:before {color: black;}#sk-fbbc07fc-aa58-4240-b633-26678bb36e1e div.sk-toggleable__content {max-height: 0;max-width: 0;overflow: hidden;text-align: left;background-color: #f0f8ff;}#sk-fbbc07fc-aa58-4240-b633-26678bb36e1e div.sk-toggleable__content pre {margin: 0.2em;color: black;border-radius: 0.25em;background-color: #f0f8ff;}#sk-fbbc07fc-aa58-4240-b633-26678bb36e1e input.sk-toggleable__control:checked~div.sk-toggleable__content {max-height: 200px;max-width: 100%;overflow: auto;}#sk-fbbc07fc-aa58-4240-b633-26678bb36e1e input.sk-toggleable__control:checked~label.sk-toggleable__label-arrow:before {content: \"▾\";}#sk-fbbc07fc-aa58-4240-b633-26678bb36e1e div.sk-estimator input.sk-toggleable__control:checked~label.sk-toggleable__label {background-color: #d4ebff;}#sk-fbbc07fc-aa58-4240-b633-26678bb36e1e div.sk-label input.sk-toggleable__control:checked~label.sk-toggleable__label {background-color: #d4ebff;}#sk-fbbc07fc-aa58-4240-b633-26678bb36e1e input.sk-hidden--visually {border: 0;clip: rect(1px 1px 1px 1px);clip: rect(1px, 1px, 1px, 1px);height: 1px;margin: -1px;overflow: hidden;padding: 0;position: absolute;width: 1px;}#sk-fbbc07fc-aa58-4240-b633-26678bb36e1e div.sk-estimator {font-family: monospace;background-color: #f0f8ff;border: 1px dotted black;border-radius: 0.25em;box-sizing: border-box;margin-bottom: 0.5em;}#sk-fbbc07fc-aa58-4240-b633-26678bb36e1e div.sk-estimator:hover {background-color: #d4ebff;}#sk-fbbc07fc-aa58-4240-b633-26678bb36e1e div.sk-parallel-item::after {content: \"\";width: 100%;border-bottom: 1px solid gray;flex-grow: 1;}#sk-fbbc07fc-aa58-4240-b633-26678bb36e1e div.sk-label:hover label.sk-toggleable__label {background-color: #d4ebff;}#sk-fbbc07fc-aa58-4240-b633-26678bb36e1e div.sk-serial::before {content: \"\";position: absolute;border-left: 1px solid gray;box-sizing: border-box;top: 2em;bottom: 0;left: 50%;}#sk-fbbc07fc-aa58-4240-b633-26678bb36e1e div.sk-serial {display: flex;flex-direction: column;align-items: center;background-color: white;padding-right: 0.2em;padding-left: 0.2em;}#sk-fbbc07fc-aa58-4240-b633-26678bb36e1e div.sk-item {z-index: 1;}#sk-fbbc07fc-aa58-4240-b633-26678bb36e1e div.sk-parallel {display: flex;align-items: stretch;justify-content: center;background-color: white;}#sk-fbbc07fc-aa58-4240-b633-26678bb36e1e div.sk-parallel::before {content: \"\";position: absolute;border-left: 1px solid gray;box-sizing: border-box;top: 2em;bottom: 0;left: 50%;}#sk-fbbc07fc-aa58-4240-b633-26678bb36e1e div.sk-parallel-item {display: flex;flex-direction: column;position: relative;background-color: white;}#sk-fbbc07fc-aa58-4240-b633-26678bb36e1e div.sk-parallel-item:first-child::after {align-self: flex-end;width: 50%;}#sk-fbbc07fc-aa58-4240-b633-26678bb36e1e div.sk-parallel-item:last-child::after {align-self: flex-start;width: 50%;}#sk-fbbc07fc-aa58-4240-b633-26678bb36e1e div.sk-parallel-item:only-child::after {width: 0;}#sk-fbbc07fc-aa58-4240-b633-26678bb36e1e div.sk-dashed-wrapped {border: 1px dashed gray;margin: 0 0.4em 0.5em 0.4em;box-sizing: border-box;padding-bottom: 0.4em;background-color: white;position: relative;}#sk-fbbc07fc-aa58-4240-b633-26678bb36e1e div.sk-label label {font-family: monospace;font-weight: bold;background-color: white;display: inline-block;line-height: 1.2em;}#sk-fbbc07fc-aa58-4240-b633-26678bb36e1e div.sk-label-container {position: relative;z-index: 2;text-align: center;}#sk-fbbc07fc-aa58-4240-b633-26678bb36e1e div.sk-container {/* jupyter's `normalize.less` sets `[hidden] { display: none; }` but bootstrap.min.css set `[hidden] { display: none !important; }` so we also need the `!important` here to be able to override the default hidden behavior on the sphinx rendered scikit-learn.org. See: https://github.com/scikit-learn/scikit-learn/issues/21755 */display: inline-block !important;position: relative;}#sk-fbbc07fc-aa58-4240-b633-26678bb36e1e div.sk-text-repr-fallback {display: none;}</style><div id=\"sk-fbbc07fc-aa58-4240-b633-26678bb36e1e\" class=\"sk-top-container\"><div class=\"sk-text-repr-fallback\"><pre>Pipeline(steps=[(&#x27;preprocessor&#x27;,\n",
       "                 ColumnTransformer(transformers=[(&#x27;num&#x27;,\n",
       "                                                  Pipeline(steps=[(&#x27;std_scaler&#x27;,\n",
       "                                                                   StandardScaler())]),\n",
       "                                                  [&#x27;host_response_rate&#x27;,\n",
       "                                                   &#x27;host_acceptance_rate&#x27;,\n",
       "                                                   &#x27;host_is_superhost&#x27;,\n",
       "                                                   &#x27;host_listings_count&#x27;,\n",
       "                                                   &#x27;host_has_profile_pic&#x27;,\n",
       "                                                   &#x27;host_identity_verified&#x27;,\n",
       "                                                   &#x27;accommodates&#x27;, &#x27;bedrooms&#x27;,\n",
       "                                                   &#x27;price&#x27;, &#x27;minimum_nights&#x27;,\n",
       "                                                   &#x27;maximum_nights&#x27;,\n",
       "                                                   &#x27;has_availability&#x27;,\n",
       "                                                   &#x27;number_of_reviews&#x27;,\n",
       "                                                   &#x27;license&#x27;,\n",
       "                                                   &#x27;instant_bookable&#x27;]),\n",
       "                                                 (&#x27;cat&#x27;,\n",
       "                                                  Pipeline(steps=[(&#x27;1hot&#x27;,\n",
       "                                                                   OneHotEncoder(handle_unknown=&#x27;ignore&#x27;))]),\n",
       "                                                  [&#x27;host_response_time&#x27;,\n",
       "                                                   &#x27;neighbourhood_group_cleansed&#x27;,\n",
       "                                                   &#x27;room_type&#x27;,\n",
       "                                                   &#x27;host_type&#x27;])])),\n",
       "                (&#x27;tree&#x27;,\n",
       "                 DecisionTreeClassifier(max_depth=12, random_state=15))])</pre><b>Please rerun this cell to show the HTML repr or trust the notebook.</b></div><div class=\"sk-container\" hidden><div class=\"sk-item sk-dashed-wrapped\"><div class=\"sk-label-container\"><div class=\"sk-label sk-toggleable\"><input class=\"sk-toggleable__control sk-hidden--visually\" id=\"3bdc149d-5131-408d-970e-a37f36d9a074\" type=\"checkbox\" ><label for=\"3bdc149d-5131-408d-970e-a37f36d9a074\" class=\"sk-toggleable__label sk-toggleable__label-arrow\">Pipeline</label><div class=\"sk-toggleable__content\"><pre>Pipeline(steps=[(&#x27;preprocessor&#x27;,\n",
       "                 ColumnTransformer(transformers=[(&#x27;num&#x27;,\n",
       "                                                  Pipeline(steps=[(&#x27;std_scaler&#x27;,\n",
       "                                                                   StandardScaler())]),\n",
       "                                                  [&#x27;host_response_rate&#x27;,\n",
       "                                                   &#x27;host_acceptance_rate&#x27;,\n",
       "                                                   &#x27;host_is_superhost&#x27;,\n",
       "                                                   &#x27;host_listings_count&#x27;,\n",
       "                                                   &#x27;host_has_profile_pic&#x27;,\n",
       "                                                   &#x27;host_identity_verified&#x27;,\n",
       "                                                   &#x27;accommodates&#x27;, &#x27;bedrooms&#x27;,\n",
       "                                                   &#x27;price&#x27;, &#x27;minimum_nights&#x27;,\n",
       "                                                   &#x27;maximum_nights&#x27;,\n",
       "                                                   &#x27;has_availability&#x27;,\n",
       "                                                   &#x27;number_of_reviews&#x27;,\n",
       "                                                   &#x27;license&#x27;,\n",
       "                                                   &#x27;instant_bookable&#x27;]),\n",
       "                                                 (&#x27;cat&#x27;,\n",
       "                                                  Pipeline(steps=[(&#x27;1hot&#x27;,\n",
       "                                                                   OneHotEncoder(handle_unknown=&#x27;ignore&#x27;))]),\n",
       "                                                  [&#x27;host_response_time&#x27;,\n",
       "                                                   &#x27;neighbourhood_group_cleansed&#x27;,\n",
       "                                                   &#x27;room_type&#x27;,\n",
       "                                                   &#x27;host_type&#x27;])])),\n",
       "                (&#x27;tree&#x27;,\n",
       "                 DecisionTreeClassifier(max_depth=12, random_state=15))])</pre></div></div></div><div class=\"sk-serial\"><div class=\"sk-item sk-dashed-wrapped\"><div class=\"sk-label-container\"><div class=\"sk-label sk-toggleable\"><input class=\"sk-toggleable__control sk-hidden--visually\" id=\"448d9c6d-359d-4fb2-aa1f-191b709b76f9\" type=\"checkbox\" ><label for=\"448d9c6d-359d-4fb2-aa1f-191b709b76f9\" class=\"sk-toggleable__label sk-toggleable__label-arrow\">preprocessor: ColumnTransformer</label><div class=\"sk-toggleable__content\"><pre>ColumnTransformer(transformers=[(&#x27;num&#x27;,\n",
       "                                 Pipeline(steps=[(&#x27;std_scaler&#x27;,\n",
       "                                                  StandardScaler())]),\n",
       "                                 [&#x27;host_response_rate&#x27;, &#x27;host_acceptance_rate&#x27;,\n",
       "                                  &#x27;host_is_superhost&#x27;, &#x27;host_listings_count&#x27;,\n",
       "                                  &#x27;host_has_profile_pic&#x27;,\n",
       "                                  &#x27;host_identity_verified&#x27;, &#x27;accommodates&#x27;,\n",
       "                                  &#x27;bedrooms&#x27;, &#x27;price&#x27;, &#x27;minimum_nights&#x27;,\n",
       "                                  &#x27;maximum_nights&#x27;, &#x27;has_availability&#x27;,\n",
       "                                  &#x27;number_of_reviews&#x27;, &#x27;license&#x27;,\n",
       "                                  &#x27;instant_bookable&#x27;]),\n",
       "                                (&#x27;cat&#x27;,\n",
       "                                 Pipeline(steps=[(&#x27;1hot&#x27;,\n",
       "                                                  OneHotEncoder(handle_unknown=&#x27;ignore&#x27;))]),\n",
       "                                 [&#x27;host_response_time&#x27;,\n",
       "                                  &#x27;neighbourhood_group_cleansed&#x27;, &#x27;room_type&#x27;,\n",
       "                                  &#x27;host_type&#x27;])])</pre></div></div></div><div class=\"sk-parallel\"><div class=\"sk-parallel-item\"><div class=\"sk-item\"><div class=\"sk-label-container\"><div class=\"sk-label sk-toggleable\"><input class=\"sk-toggleable__control sk-hidden--visually\" id=\"c79cfa48-7054-40a2-9e4e-8cc47843019d\" type=\"checkbox\" ><label for=\"c79cfa48-7054-40a2-9e4e-8cc47843019d\" class=\"sk-toggleable__label sk-toggleable__label-arrow\">num</label><div class=\"sk-toggleable__content\"><pre>[&#x27;host_response_rate&#x27;, &#x27;host_acceptance_rate&#x27;, &#x27;host_is_superhost&#x27;, &#x27;host_listings_count&#x27;, &#x27;host_has_profile_pic&#x27;, &#x27;host_identity_verified&#x27;, &#x27;accommodates&#x27;, &#x27;bedrooms&#x27;, &#x27;price&#x27;, &#x27;minimum_nights&#x27;, &#x27;maximum_nights&#x27;, &#x27;has_availability&#x27;, &#x27;number_of_reviews&#x27;, &#x27;license&#x27;, &#x27;instant_bookable&#x27;]</pre></div></div></div><div class=\"sk-serial\"><div class=\"sk-item\"><div class=\"sk-serial\"><div class=\"sk-item\"><div class=\"sk-estimator sk-toggleable\"><input class=\"sk-toggleable__control sk-hidden--visually\" id=\"992a96b5-ce62-4e4f-a69e-ed37d3ecea5c\" type=\"checkbox\" ><label for=\"992a96b5-ce62-4e4f-a69e-ed37d3ecea5c\" class=\"sk-toggleable__label sk-toggleable__label-arrow\">StandardScaler</label><div class=\"sk-toggleable__content\"><pre>StandardScaler()</pre></div></div></div></div></div></div></div></div><div class=\"sk-parallel-item\"><div class=\"sk-item\"><div class=\"sk-label-container\"><div class=\"sk-label sk-toggleable\"><input class=\"sk-toggleable__control sk-hidden--visually\" id=\"4c724aa3-fc21-4e67-9dc8-432c1420406d\" type=\"checkbox\" ><label for=\"4c724aa3-fc21-4e67-9dc8-432c1420406d\" class=\"sk-toggleable__label sk-toggleable__label-arrow\">cat</label><div class=\"sk-toggleable__content\"><pre>[&#x27;host_response_time&#x27;, &#x27;neighbourhood_group_cleansed&#x27;, &#x27;room_type&#x27;, &#x27;host_type&#x27;]</pre></div></div></div><div class=\"sk-serial\"><div class=\"sk-item\"><div class=\"sk-serial\"><div class=\"sk-item\"><div class=\"sk-estimator sk-toggleable\"><input class=\"sk-toggleable__control sk-hidden--visually\" id=\"3e310a86-b7b5-45c1-b3c0-1a80f1291862\" type=\"checkbox\" ><label for=\"3e310a86-b7b5-45c1-b3c0-1a80f1291862\" class=\"sk-toggleable__label sk-toggleable__label-arrow\">OneHotEncoder</label><div class=\"sk-toggleable__content\"><pre>OneHotEncoder(handle_unknown=&#x27;ignore&#x27;)</pre></div></div></div></div></div></div></div></div></div></div><div class=\"sk-item\"><div class=\"sk-estimator sk-toggleable\"><input class=\"sk-toggleable__control sk-hidden--visually\" id=\"b36d7ddc-af1c-48c9-a7da-12a9b780951c\" type=\"checkbox\" ><label for=\"b36d7ddc-af1c-48c9-a7da-12a9b780951c\" class=\"sk-toggleable__label sk-toggleable__label-arrow\">DecisionTreeClassifier</label><div class=\"sk-toggleable__content\"><pre>DecisionTreeClassifier(max_depth=12, random_state=15)</pre></div></div></div></div></div></div></div>"
      ],
      "text/plain": [
       "Pipeline(steps=[('preprocessor',\n",
       "                 ColumnTransformer(transformers=[('num',\n",
       "                                                  Pipeline(steps=[('std_scaler',\n",
       "                                                                   StandardScaler())]),\n",
       "                                                  ['host_response_rate',\n",
       "                                                   'host_acceptance_rate',\n",
       "                                                   'host_is_superhost',\n",
       "                                                   'host_listings_count',\n",
       "                                                   'host_has_profile_pic',\n",
       "                                                   'host_identity_verified',\n",
       "                                                   'accommodates', 'bedrooms',\n",
       "                                                   'price', 'minimum_nights',\n",
       "                                                   'maximum_nights',\n",
       "                                                   'has_availability',\n",
       "                                                   'number_of_reviews',\n",
       "                                                   'license',\n",
       "                                                   'instant_bookable']),\n",
       "                                                 ('cat',\n",
       "                                                  Pipeline(steps=[('1hot',\n",
       "                                                                   OneHotEncoder(handle_unknown='ignore'))]),\n",
       "                                                  ['host_response_time',\n",
       "                                                   'neighbourhood_group_cleansed',\n",
       "                                                   'room_type',\n",
       "                                                   'host_type'])])),\n",
       "                ('tree',\n",
       "                 DecisionTreeClassifier(max_depth=12, random_state=15))])"
      ]
     },
     "execution_count": 80,
     "metadata": {},
     "output_type": "execute_result"
    }
   ],
   "source": [
    "Tree = grid_tree.best_estimator_\n",
    "Tree"
   ]
  },
  {
   "cell_type": "code",
   "execution_count": 81,
   "id": "4e794af7-9465-447e-be36-f5afc6243d98",
   "metadata": {
    "tags": []
   },
   "outputs": [
    {
     "name": "stdout",
     "output_type": "stream",
     "text": [
      "Accuracy: 0.98\n",
      "Recall: 0.98\n",
      "Precision: 0.98\n"
     ]
    }
   ],
   "source": [
    "y_test_predicted_tree = Tree.predict(X_test)\n",
    "print(\"Accuracy: {:.2f}\".format(accuracy_score(y_test, y_test_predicted_tree)))\n",
    "print(\"Recall: {:.2f}\".format(recall_score(y_test, y_test_predicted_tree)))\n",
    "print(\"Precision: {:.2f}\".format(precision_score(y_test, y_test_predicted_tree)))"
   ]
  },
  {
   "cell_type": "markdown",
   "id": "ea9b9e04-888f-4ab0-8bc7-a7a83ba91131",
   "metadata": {},
   "source": [
    "## Conclusion\n",
    "\n",
    "The best model is the random forest with an accuracy of 99%.\n",
    "In the error analysis we found out that outliers and the way we handled them produce these errors. But since overall the new preprocessing incl. outlier handling improved our model a lot we accept these errors for now"
   ]
  }
 ],
 "metadata": {
  "kernelspec": {
   "display_name": "Python 3 (ipykernel)",
   "language": "python",
   "name": "python3"
  },
  "language_info": {
   "codemirror_mode": {
    "name": "ipython",
    "version": 3
   },
   "file_extension": ".py",
   "mimetype": "text/x-python",
   "name": "python",
   "nbconvert_exporter": "python",
   "pygments_lexer": "ipython3",
   "version": "3.9.8"
  }
 },
 "nbformat": 4,
 "nbformat_minor": 5
}
