{
 "cells": [
  {
   "cell_type": "code",
   "execution_count": 65,
   "id": "c9b4bb58-c00f-4239-b847-3820cd071df3",
   "metadata": {
    "tags": []
   },
   "outputs": [],
   "source": [
    "import pandas as pd\n",
    "import numpy as np\n",
    "import seaborn as sns\n",
    "import matplotlib.pyplot as plt\n",
    "from sklearn.pipeline import Pipeline\n",
    "from sklearn.compose import ColumnTransformer\n",
    "from sklearn.preprocessing import OneHotEncoder, StandardScaler\n",
    "from sklearn.preprocessing import LabelEncoder\n",
    "from sklearn.impute import SimpleImputer\n",
    "from sklearn.linear_model import LogisticRegression\n",
    "from sklearn.model_selection import train_test_split\n",
    "from sklearn.model_selection import GridSearchCV, RandomizedSearchCV\n",
    "from sklearn.model_selection import cross_val_predict, cross_val_score, cross_validate\n",
    "from sklearn.metrics import confusion_matrix, accuracy_score, recall_score, precision_score\n",
    "from sklearn.metrics import roc_auc_score, roc_curve\n",
    "from sklearn.ensemble import RandomForestClassifier\n",
    "from joblib import dump, load\n",
    "from xgboost import XGBClassifier\n",
    "from sklearn.neighbors import KNeighborsClassifier\n",
    "from sklearn.tree import DecisionTreeClassifier\n",
    "\n",
    "RSEED = 15\n",
    "c = ['#cbc0d3', '#efd3d7', '#feeafa', '#dee2ff', '#8e9aaf']\n",
    "c2 = ['#efd3d7', '#ecccd0', '#eac6cb', '#e9c2c7', '#e7bcc2', '#e5b7bd', '#e3b1b8', '#e1aeb5', '#dfa7af', '#dea3ab', '#dc9fa8', '#da9aa3', '#d8949e', '#d7929c']\n",
    "from sklearn import set_config\n",
    "set_config(display='diagram')"
   ]
  },
  {
   "cell_type": "code",
   "execution_count": 2,
   "id": "edb91a6b-0b29-4b56-ab8e-6dfb667fce88",
   "metadata": {
    "tags": []
   },
   "outputs": [],
   "source": [
    "bcn = pd.read_csv('../data/df_modelling.csv')"
   ]
  },
  {
   "cell_type": "code",
   "execution_count": 3,
   "id": "bb5df162-f885-42f3-b923-d36671dac8a0",
   "metadata": {
    "tags": []
   },
   "outputs": [
    {
     "data": {
      "text/html": [
       "<div>\n",
       "<style scoped>\n",
       "    .dataframe tbody tr th:only-of-type {\n",
       "        vertical-align: middle;\n",
       "    }\n",
       "\n",
       "    .dataframe tbody tr th {\n",
       "        vertical-align: top;\n",
       "    }\n",
       "\n",
       "    .dataframe thead th {\n",
       "        text-align: right;\n",
       "    }\n",
       "</style>\n",
       "<table border=\"1\" class=\"dataframe\">\n",
       "  <thead>\n",
       "    <tr style=\"text-align: right;\">\n",
       "      <th></th>\n",
       "      <th>Unnamed: 0</th>\n",
       "      <th>id</th>\n",
       "      <th>name</th>\n",
       "      <th>description</th>\n",
       "      <th>neighborhood_overview</th>\n",
       "      <th>picture_url</th>\n",
       "      <th>host_id</th>\n",
       "      <th>host_name</th>\n",
       "      <th>host_since</th>\n",
       "      <th>host_location</th>\n",
       "      <th>...</th>\n",
       "      <th>review_scores_accuracy</th>\n",
       "      <th>review_scores_cleanliness</th>\n",
       "      <th>review_scores_checkin</th>\n",
       "      <th>review_scores_communication</th>\n",
       "      <th>review_scores_location</th>\n",
       "      <th>review_scores_value</th>\n",
       "      <th>license</th>\n",
       "      <th>instant_bookable</th>\n",
       "      <th>host_type</th>\n",
       "      <th>suspicious_or_not</th>\n",
       "    </tr>\n",
       "  </thead>\n",
       "  <tbody>\n",
       "    <tr>\n",
       "      <th>0</th>\n",
       "      <td>0</td>\n",
       "      <td>13977576</td>\n",
       "      <td>Habitación individual es Barcelona</td>\n",
       "      <td>Mi alojamiento es bueno para aventureros y via...</td>\n",
       "      <td>NaN</td>\n",
       "      <td>https://a0.muscache.com/pictures/7a6e9767-bd4e...</td>\n",
       "      <td>64903899</td>\n",
       "      <td>Carolina</td>\n",
       "      <td>2016-03-29</td>\n",
       "      <td>Paris, France</td>\n",
       "      <td>...</td>\n",
       "      <td>NaN</td>\n",
       "      <td>NaN</td>\n",
       "      <td>NaN</td>\n",
       "      <td>NaN</td>\n",
       "      <td>NaN</td>\n",
       "      <td>NaN</td>\n",
       "      <td>NaN</td>\n",
       "      <td>f</td>\n",
       "      <td>private</td>\n",
       "      <td>1</td>\n",
       "    </tr>\n",
       "    <tr>\n",
       "      <th>1</th>\n",
       "      <td>1</td>\n",
       "      <td>42105584</td>\n",
       "      <td>Habitación M&amp;D</td>\n",
       "      <td>&lt;b&gt;License number&lt;/b&gt;&lt;br /&gt;Exempt</td>\n",
       "      <td>NaN</td>\n",
       "      <td>https://a0.muscache.com/pictures/7342e586-6ea5...</td>\n",
       "      <td>333969184</td>\n",
       "      <td>Midian</td>\n",
       "      <td>2020-02-06</td>\n",
       "      <td>Barcelona, Spain</td>\n",
       "      <td>...</td>\n",
       "      <td>NaN</td>\n",
       "      <td>NaN</td>\n",
       "      <td>NaN</td>\n",
       "      <td>NaN</td>\n",
       "      <td>NaN</td>\n",
       "      <td>NaN</td>\n",
       "      <td>Exempt</td>\n",
       "      <td>f</td>\n",
       "      <td>private</td>\n",
       "      <td>1</td>\n",
       "    </tr>\n",
       "    <tr>\n",
       "      <th>2</th>\n",
       "      <td>2</td>\n",
       "      <td>33727898</td>\n",
       "      <td>Spacious and bright apartment next to Plaza Es...</td>\n",
       "      <td>Hi friends! Welcome to this apartment located ...</td>\n",
       "      <td>The apartment is located in the Eixample quart...</td>\n",
       "      <td>https://a0.muscache.com/pictures/44066458-5997...</td>\n",
       "      <td>251710733</td>\n",
       "      <td>Magda</td>\n",
       "      <td>2019-03-28</td>\n",
       "      <td>NaN</td>\n",
       "      <td>...</td>\n",
       "      <td>4.97</td>\n",
       "      <td>4.97</td>\n",
       "      <td>5.00</td>\n",
       "      <td>5.00</td>\n",
       "      <td>4.83</td>\n",
       "      <td>4.73</td>\n",
       "      <td>HUTB-008684</td>\n",
       "      <td>f</td>\n",
       "      <td>private</td>\n",
       "      <td>1</td>\n",
       "    </tr>\n",
       "    <tr>\n",
       "      <th>3</th>\n",
       "      <td>3</td>\n",
       "      <td>44995311</td>\n",
       "      <td>Single Room, City Center, Private Bathroom</td>\n",
       "      <td>Goya Hostel is a hostel located in the center ...</td>\n",
       "      <td>The Eixample, which translates as \"widening\" b...</td>\n",
       "      <td>https://a0.muscache.com/pictures/af651bc2-8dff...</td>\n",
       "      <td>363074093</td>\n",
       "      <td>Hostal</td>\n",
       "      <td>2020-08-18</td>\n",
       "      <td>Barcelona, Spain</td>\n",
       "      <td>...</td>\n",
       "      <td>4.91</td>\n",
       "      <td>4.73</td>\n",
       "      <td>4.91</td>\n",
       "      <td>4.64</td>\n",
       "      <td>4.91</td>\n",
       "      <td>4.73</td>\n",
       "      <td>HUTB-265656</td>\n",
       "      <td>t</td>\n",
       "      <td>commercial</td>\n",
       "      <td>0</td>\n",
       "    </tr>\n",
       "    <tr>\n",
       "      <th>4</th>\n",
       "      <td>4</td>\n",
       "      <td>15763812</td>\n",
       "      <td>HABITACIÓN PLAZA ESPAÑA</td>\n",
       "      <td>Lugares de interés: Poble Espanyol, CaixaForum...</td>\n",
       "      <td>NaN</td>\n",
       "      <td>https://a0.muscache.com/pictures/1bccbbbc-4b78...</td>\n",
       "      <td>101927904</td>\n",
       "      <td>James</td>\n",
       "      <td>2016-10-31</td>\n",
       "      <td>Barcelona, Spain</td>\n",
       "      <td>...</td>\n",
       "      <td>4.90</td>\n",
       "      <td>4.94</td>\n",
       "      <td>4.96</td>\n",
       "      <td>4.67</td>\n",
       "      <td>4.88</td>\n",
       "      <td>4.60</td>\n",
       "      <td>Exempt</td>\n",
       "      <td>t</td>\n",
       "      <td>private</td>\n",
       "      <td>1</td>\n",
       "    </tr>\n",
       "  </tbody>\n",
       "</table>\n",
       "<p>5 rows × 53 columns</p>\n",
       "</div>"
      ],
      "text/plain": [
       "   Unnamed: 0        id                                               name   \n",
       "0           0  13977576                 Habitación individual es Barcelona  \\\n",
       "1           1  42105584                                     Habitación M&D   \n",
       "2           2  33727898  Spacious and bright apartment next to Plaza Es...   \n",
       "3           3  44995311         Single Room, City Center, Private Bathroom   \n",
       "4           4  15763812                            HABITACIÓN PLAZA ESPAÑA   \n",
       "\n",
       "                                         description   \n",
       "0  Mi alojamiento es bueno para aventureros y via...  \\\n",
       "1                  <b>License number</b><br />Exempt   \n",
       "2  Hi friends! Welcome to this apartment located ...   \n",
       "3  Goya Hostel is a hostel located in the center ...   \n",
       "4  Lugares de interés: Poble Espanyol, CaixaForum...   \n",
       "\n",
       "                               neighborhood_overview   \n",
       "0                                                NaN  \\\n",
       "1                                                NaN   \n",
       "2  The apartment is located in the Eixample quart...   \n",
       "3  The Eixample, which translates as \"widening\" b...   \n",
       "4                                                NaN   \n",
       "\n",
       "                                         picture_url    host_id host_name   \n",
       "0  https://a0.muscache.com/pictures/7a6e9767-bd4e...   64903899  Carolina  \\\n",
       "1  https://a0.muscache.com/pictures/7342e586-6ea5...  333969184    Midian   \n",
       "2  https://a0.muscache.com/pictures/44066458-5997...  251710733     Magda   \n",
       "3  https://a0.muscache.com/pictures/af651bc2-8dff...  363074093    Hostal   \n",
       "4  https://a0.muscache.com/pictures/1bccbbbc-4b78...  101927904     James   \n",
       "\n",
       "   host_since     host_location  ... review_scores_accuracy   \n",
       "0  2016-03-29     Paris, France  ...                    NaN  \\\n",
       "1  2020-02-06  Barcelona, Spain  ...                    NaN   \n",
       "2  2019-03-28               NaN  ...                   4.97   \n",
       "3  2020-08-18  Barcelona, Spain  ...                   4.91   \n",
       "4  2016-10-31  Barcelona, Spain  ...                   4.90   \n",
       "\n",
       "  review_scores_cleanliness review_scores_checkin review_scores_communication   \n",
       "0                       NaN                   NaN                         NaN  \\\n",
       "1                       NaN                   NaN                         NaN   \n",
       "2                      4.97                  5.00                        5.00   \n",
       "3                      4.73                  4.91                        4.64   \n",
       "4                      4.94                  4.96                        4.67   \n",
       "\n",
       "  review_scores_location review_scores_value      license instant_bookable   \n",
       "0                    NaN                 NaN          NaN                f  \\\n",
       "1                    NaN                 NaN       Exempt                f   \n",
       "2                   4.83                4.73  HUTB-008684                f   \n",
       "3                   4.91                4.73  HUTB-265656                t   \n",
       "4                   4.88                4.60       Exempt                t   \n",
       "\n",
       "    host_type  suspicious_or_not  \n",
       "0     private                  1  \n",
       "1     private                  1  \n",
       "2     private                  1  \n",
       "3  commercial                  0  \n",
       "4     private                  1  \n",
       "\n",
       "[5 rows x 53 columns]"
      ]
     },
     "execution_count": 3,
     "metadata": {},
     "output_type": "execute_result"
    }
   ],
   "source": [
    "bcn.head()"
   ]
  },
  {
   "cell_type": "code",
   "execution_count": 4,
   "id": "c0e0df5b-f3d6-49dc-aa82-4c37e169beb0",
   "metadata": {
    "tags": []
   },
   "outputs": [
    {
     "data": {
      "text/html": [
       "<div>\n",
       "<style scoped>\n",
       "    .dataframe tbody tr th:only-of-type {\n",
       "        vertical-align: middle;\n",
       "    }\n",
       "\n",
       "    .dataframe tbody tr th {\n",
       "        vertical-align: top;\n",
       "    }\n",
       "\n",
       "    .dataframe thead th {\n",
       "        text-align: right;\n",
       "    }\n",
       "</style>\n",
       "<table border=\"1\" class=\"dataframe\">\n",
       "  <thead>\n",
       "    <tr style=\"text-align: right;\">\n",
       "      <th></th>\n",
       "      <th>Amount</th>\n",
       "      <th>Percentage</th>\n",
       "    </tr>\n",
       "  </thead>\n",
       "  <tbody>\n",
       "    <tr>\n",
       "      <th>name</th>\n",
       "      <td>6</td>\n",
       "      <td>0.05</td>\n",
       "    </tr>\n",
       "    <tr>\n",
       "      <th>description</th>\n",
       "      <td>55</td>\n",
       "      <td>0.49</td>\n",
       "    </tr>\n",
       "    <tr>\n",
       "      <th>neighborhood_overview</th>\n",
       "      <td>4480</td>\n",
       "      <td>39.51</td>\n",
       "    </tr>\n",
       "    <tr>\n",
       "      <th>host_name</th>\n",
       "      <td>2</td>\n",
       "      <td>0.02</td>\n",
       "    </tr>\n",
       "    <tr>\n",
       "      <th>host_since</th>\n",
       "      <td>2</td>\n",
       "      <td>0.02</td>\n",
       "    </tr>\n",
       "    <tr>\n",
       "      <th>host_location</th>\n",
       "      <td>2502</td>\n",
       "      <td>22.06</td>\n",
       "    </tr>\n",
       "    <tr>\n",
       "      <th>host_about</th>\n",
       "      <td>4075</td>\n",
       "      <td>35.93</td>\n",
       "    </tr>\n",
       "    <tr>\n",
       "      <th>host_response_time</th>\n",
       "      <td>2048</td>\n",
       "      <td>18.06</td>\n",
       "    </tr>\n",
       "    <tr>\n",
       "      <th>host_response_rate</th>\n",
       "      <td>2048</td>\n",
       "      <td>18.06</td>\n",
       "    </tr>\n",
       "    <tr>\n",
       "      <th>host_acceptance_rate</th>\n",
       "      <td>1685</td>\n",
       "      <td>14.86</td>\n",
       "    </tr>\n",
       "    <tr>\n",
       "      <th>host_is_superhost</th>\n",
       "      <td>1</td>\n",
       "      <td>0.01</td>\n",
       "    </tr>\n",
       "    <tr>\n",
       "      <th>host_thumbnail_url</th>\n",
       "      <td>2</td>\n",
       "      <td>0.02</td>\n",
       "    </tr>\n",
       "    <tr>\n",
       "      <th>host_picture_url</th>\n",
       "      <td>2</td>\n",
       "      <td>0.02</td>\n",
       "    </tr>\n",
       "    <tr>\n",
       "      <th>host_neighbourhood</th>\n",
       "      <td>4650</td>\n",
       "      <td>41.01</td>\n",
       "    </tr>\n",
       "    <tr>\n",
       "      <th>host_listings_count</th>\n",
       "      <td>2</td>\n",
       "      <td>0.02</td>\n",
       "    </tr>\n",
       "    <tr>\n",
       "      <th>host_total_listings_count</th>\n",
       "      <td>2</td>\n",
       "      <td>0.02</td>\n",
       "    </tr>\n",
       "    <tr>\n",
       "      <th>host_verifications</th>\n",
       "      <td>2</td>\n",
       "      <td>0.02</td>\n",
       "    </tr>\n",
       "    <tr>\n",
       "      <th>host_has_profile_pic</th>\n",
       "      <td>2</td>\n",
       "      <td>0.02</td>\n",
       "    </tr>\n",
       "    <tr>\n",
       "      <th>host_identity_verified</th>\n",
       "      <td>2</td>\n",
       "      <td>0.02</td>\n",
       "    </tr>\n",
       "    <tr>\n",
       "      <th>neighbourhood</th>\n",
       "      <td>4480</td>\n",
       "      <td>39.51</td>\n",
       "    </tr>\n",
       "    <tr>\n",
       "      <th>bathrooms</th>\n",
       "      <td>11340</td>\n",
       "      <td>100.00</td>\n",
       "    </tr>\n",
       "    <tr>\n",
       "      <th>bathrooms_text</th>\n",
       "      <td>6</td>\n",
       "      <td>0.05</td>\n",
       "    </tr>\n",
       "    <tr>\n",
       "      <th>bedrooms</th>\n",
       "      <td>394</td>\n",
       "      <td>3.47</td>\n",
       "    </tr>\n",
       "    <tr>\n",
       "      <th>beds</th>\n",
       "      <td>191</td>\n",
       "      <td>1.68</td>\n",
       "    </tr>\n",
       "    <tr>\n",
       "      <th>calendar_updated</th>\n",
       "      <td>11340</td>\n",
       "      <td>100.00</td>\n",
       "    </tr>\n",
       "    <tr>\n",
       "      <th>review_scores_rating</th>\n",
       "      <td>2411</td>\n",
       "      <td>21.26</td>\n",
       "    </tr>\n",
       "    <tr>\n",
       "      <th>review_scores_accuracy</th>\n",
       "      <td>2470</td>\n",
       "      <td>21.78</td>\n",
       "    </tr>\n",
       "    <tr>\n",
       "      <th>review_scores_cleanliness</th>\n",
       "      <td>2470</td>\n",
       "      <td>21.78</td>\n",
       "    </tr>\n",
       "    <tr>\n",
       "      <th>review_scores_checkin</th>\n",
       "      <td>2474</td>\n",
       "      <td>21.82</td>\n",
       "    </tr>\n",
       "    <tr>\n",
       "      <th>review_scores_communication</th>\n",
       "      <td>2469</td>\n",
       "      <td>21.77</td>\n",
       "    </tr>\n",
       "    <tr>\n",
       "      <th>review_scores_location</th>\n",
       "      <td>2474</td>\n",
       "      <td>21.82</td>\n",
       "    </tr>\n",
       "    <tr>\n",
       "      <th>review_scores_value</th>\n",
       "      <td>2473</td>\n",
       "      <td>21.81</td>\n",
       "    </tr>\n",
       "    <tr>\n",
       "      <th>license</th>\n",
       "      <td>3375</td>\n",
       "      <td>29.76</td>\n",
       "    </tr>\n",
       "  </tbody>\n",
       "</table>\n",
       "</div>"
      ],
      "text/plain": [
       "                             Amount  Percentage\n",
       "name                              6        0.05\n",
       "description                      55        0.49\n",
       "neighborhood_overview          4480       39.51\n",
       "host_name                         2        0.02\n",
       "host_since                        2        0.02\n",
       "host_location                  2502       22.06\n",
       "host_about                     4075       35.93\n",
       "host_response_time             2048       18.06\n",
       "host_response_rate             2048       18.06\n",
       "host_acceptance_rate           1685       14.86\n",
       "host_is_superhost                 1        0.01\n",
       "host_thumbnail_url                2        0.02\n",
       "host_picture_url                  2        0.02\n",
       "host_neighbourhood             4650       41.01\n",
       "host_listings_count               2        0.02\n",
       "host_total_listings_count         2        0.02\n",
       "host_verifications                2        0.02\n",
       "host_has_profile_pic              2        0.02\n",
       "host_identity_verified            2        0.02\n",
       "neighbourhood                  4480       39.51\n",
       "bathrooms                     11340      100.00\n",
       "bathrooms_text                    6        0.05\n",
       "bedrooms                        394        3.47\n",
       "beds                            191        1.68\n",
       "calendar_updated              11340      100.00\n",
       "review_scores_rating           2411       21.26\n",
       "review_scores_accuracy         2470       21.78\n",
       "review_scores_cleanliness      2470       21.78\n",
       "review_scores_checkin          2474       21.82\n",
       "review_scores_communication    2469       21.77\n",
       "review_scores_location         2474       21.82\n",
       "review_scores_value            2473       21.81\n",
       "license                        3375       29.76"
      ]
     },
     "execution_count": 4,
     "metadata": {},
     "output_type": "execute_result"
    }
   ],
   "source": [
    "missing = pd.DataFrame(bcn.isnull().sum(), columns=[\"Amount\"])\n",
    "missing['Percentage'] = round((missing['Amount']/bcn.shape[0])*100, 2)\n",
    "missing[missing['Amount'] != 0]"
   ]
  },
  {
   "cell_type": "code",
   "execution_count": 5,
   "id": "7ede66dd-131f-4c03-9b19-76f8cd8a8c19",
   "metadata": {
    "tags": []
   },
   "outputs": [],
   "source": [
    "#drop columns with all NaN values\n",
    "df_bl = bcn.drop(['bathrooms', 'calendar_updated'], axis=1)"
   ]
  },
  {
   "cell_type": "code",
   "execution_count": null,
   "id": "f20666c5-0957-4341-8bdc-056c03f88981",
   "metadata": {},
   "outputs": [],
   "source": []
  },
  {
   "cell_type": "code",
   "execution_count": 6,
   "id": "bebb831e-aa50-420b-b02c-2312dafe18d7",
   "metadata": {
    "tags": []
   },
   "outputs": [],
   "source": [
    "#drop some columns which we won't use\n",
    "df_bl.drop(['Unnamed: 0', 'id', 'name', 'description', 'neighborhood_overview',\n",
    "       'picture_url', 'host_id', 'host_name', 'host_location',\n",
    "       'host_about', 'host_thumbnail_url',\n",
    "       'host_picture_url', 'host_neighbourhood', 'neighbourhood',\n",
    "       'neighbourhood_cleansed', 'latitude',\n",
    "       'longitude', 'property_type', 'bathrooms_text', 'beds', 'amenities', 'host_total_listings_count', 'review_scores_rating', 'review_scores_accuracy',\n",
    "       'review_scores_cleanliness', 'review_scores_checkin',\n",
    "       'review_scores_communication', 'review_scores_location',\n",
    "       'review_scores_value', 'host_verifications' ], axis=1, inplace=True)"
   ]
  },
  {
   "cell_type": "code",
   "execution_count": 7,
   "id": "28191f43-1066-4ae3-8ee8-7afad69b0411",
   "metadata": {
    "tags": []
   },
   "outputs": [
    {
     "data": {
      "text/html": [
       "<div>\n",
       "<style scoped>\n",
       "    .dataframe tbody tr th:only-of-type {\n",
       "        vertical-align: middle;\n",
       "    }\n",
       "\n",
       "    .dataframe tbody tr th {\n",
       "        vertical-align: top;\n",
       "    }\n",
       "\n",
       "    .dataframe thead th {\n",
       "        text-align: right;\n",
       "    }\n",
       "</style>\n",
       "<table border=\"1\" class=\"dataframe\">\n",
       "  <thead>\n",
       "    <tr style=\"text-align: right;\">\n",
       "      <th></th>\n",
       "      <th>host_since</th>\n",
       "      <th>host_response_time</th>\n",
       "      <th>host_response_rate</th>\n",
       "      <th>host_acceptance_rate</th>\n",
       "      <th>host_is_superhost</th>\n",
       "      <th>host_listings_count</th>\n",
       "      <th>host_has_profile_pic</th>\n",
       "      <th>host_identity_verified</th>\n",
       "      <th>neighbourhood_group_cleansed</th>\n",
       "      <th>room_type</th>\n",
       "      <th>...</th>\n",
       "      <th>bedrooms</th>\n",
       "      <th>price</th>\n",
       "      <th>minimum_nights</th>\n",
       "      <th>maximum_nights</th>\n",
       "      <th>has_availability</th>\n",
       "      <th>number_of_reviews</th>\n",
       "      <th>license</th>\n",
       "      <th>instant_bookable</th>\n",
       "      <th>host_type</th>\n",
       "      <th>suspicious_or_not</th>\n",
       "    </tr>\n",
       "  </thead>\n",
       "  <tbody>\n",
       "    <tr>\n",
       "      <th>3465</th>\n",
       "      <td>NaN</td>\n",
       "      <td>NaN</td>\n",
       "      <td>NaN</td>\n",
       "      <td>NaN</td>\n",
       "      <td>f</td>\n",
       "      <td>NaN</td>\n",
       "      <td>NaN</td>\n",
       "      <td>NaN</td>\n",
       "      <td>Eixample</td>\n",
       "      <td>Private room</td>\n",
       "      <td>...</td>\n",
       "      <td>1.0</td>\n",
       "      <td>$50.00</td>\n",
       "      <td>2</td>\n",
       "      <td>1125</td>\n",
       "      <td>t</td>\n",
       "      <td>1</td>\n",
       "      <td>NaN</td>\n",
       "      <td>f</td>\n",
       "      <td>private</td>\n",
       "      <td>1</td>\n",
       "    </tr>\n",
       "    <tr>\n",
       "      <th>11104</th>\n",
       "      <td>NaN</td>\n",
       "      <td>NaN</td>\n",
       "      <td>NaN</td>\n",
       "      <td>NaN</td>\n",
       "      <td>f</td>\n",
       "      <td>NaN</td>\n",
       "      <td>NaN</td>\n",
       "      <td>NaN</td>\n",
       "      <td>Les Corts</td>\n",
       "      <td>Private room</td>\n",
       "      <td>...</td>\n",
       "      <td>1.0</td>\n",
       "      <td>$50.00</td>\n",
       "      <td>1</td>\n",
       "      <td>1125</td>\n",
       "      <td>t</td>\n",
       "      <td>0</td>\n",
       "      <td>NaN</td>\n",
       "      <td>f</td>\n",
       "      <td>private</td>\n",
       "      <td>1</td>\n",
       "    </tr>\n",
       "  </tbody>\n",
       "</table>\n",
       "<p>2 rows × 21 columns</p>\n",
       "</div>"
      ],
      "text/plain": [
       "      host_since host_response_time host_response_rate host_acceptance_rate   \n",
       "3465         NaN                NaN                NaN                  NaN  \\\n",
       "11104        NaN                NaN                NaN                  NaN   \n",
       "\n",
       "      host_is_superhost  host_listings_count host_has_profile_pic   \n",
       "3465                  f                  NaN                  NaN  \\\n",
       "11104                 f                  NaN                  NaN   \n",
       "\n",
       "      host_identity_verified neighbourhood_group_cleansed     room_type  ...   \n",
       "3465                     NaN                     Eixample  Private room  ...  \\\n",
       "11104                    NaN                    Les Corts  Private room  ...   \n",
       "\n",
       "       bedrooms   price minimum_nights  maximum_nights  has_availability   \n",
       "3465        1.0  $50.00              2            1125                 t  \\\n",
       "11104       1.0  $50.00              1            1125                 t   \n",
       "\n",
       "      number_of_reviews  license instant_bookable host_type suspicious_or_not  \n",
       "3465                  1      NaN                f   private                 1  \n",
       "11104                 0      NaN                f   private                 1  \n",
       "\n",
       "[2 rows x 21 columns]"
      ]
     },
     "execution_count": 7,
     "metadata": {},
     "output_type": "execute_result"
    }
   ],
   "source": [
    "#check if those with NaN in many host related columns are always the same two\n",
    "host_nans = df_bl[df_bl['host_since'].isna()]\n",
    "host_nans"
   ]
  },
  {
   "cell_type": "code",
   "execution_count": 8,
   "id": "cc909531-2a45-436b-a6e7-8ab110412b9d",
   "metadata": {
    "tags": []
   },
   "outputs": [],
   "source": [
    "# since they are, we delete them\n",
    "df_bl=df_bl.dropna(subset=['host_since'])"
   ]
  },
  {
   "cell_type": "markdown",
   "id": "ee3eab71-9600-4f2d-971d-4ff35d530101",
   "metadata": {},
   "source": [
    "## change some dtypes"
   ]
  },
  {
   "cell_type": "code",
   "execution_count": 9,
   "id": "51539e5f-8d23-4cf0-8c0a-7c7e934e9a27",
   "metadata": {
    "tags": []
   },
   "outputs": [],
   "source": [
    "# hoste_since to datetime\n",
    "df_bl['host_since']= pd.to_datetime(df_bl['host_since'])"
   ]
  },
  {
   "cell_type": "code",
   "execution_count": 10,
   "id": "5122f2a7-04dd-41cc-932d-47ef45831c50",
   "metadata": {
    "tags": []
   },
   "outputs": [],
   "source": [
    "# price to float\n",
    "df_bl['price'] = df_bl['price'].str[1:]\n",
    "df_bl['price'] = df_bl['price'].str.replace(',','')\n",
    "df_bl['price'] = pd.to_numeric(df_bl['price'])"
   ]
  },
  {
   "cell_type": "code",
   "execution_count": 11,
   "id": "cab75737-fd26-4b08-8cca-3f93b5e13337",
   "metadata": {
    "tags": []
   },
   "outputs": [],
   "source": [
    "# host_response_rate and host_acceptance_rate to float\n",
    "df_bl['host_response_rate'] = df_bl['host_response_rate'].str.rstrip(\"%\").astype(float)/100\n",
    "df_bl['host_acceptance_rate'] = df_bl['host_acceptance_rate'].str.rstrip(\"%\").astype(float)/100"
   ]
  },
  {
   "cell_type": "code",
   "execution_count": 12,
   "id": "ed69312d-ca0d-4079-b9d6-f748384d3b31",
   "metadata": {
    "tags": []
   },
   "outputs": [],
   "source": [
    "# some boolean to 0/1\n",
    "le = LabelEncoder()\n",
    "df_bl['host_is_superhost'] = le.fit_transform(df_bl['host_is_superhost'])\n",
    "df_bl['host_has_profile_pic'] = le.fit_transform(df_bl['host_has_profile_pic'])\n",
    "df_bl['host_identity_verified'] = le.fit_transform(df_bl['host_identity_verified'])\n",
    "df_bl['has_availability'] = le.fit_transform(df_bl['has_availability'])\n",
    "df_bl['instant_bookable'] = le.fit_transform(df_bl['instant_bookable'])"
   ]
  },
  {
   "cell_type": "code",
   "execution_count": 13,
   "id": "5796c081-f860-47e8-97f7-b3a6847870c6",
   "metadata": {
    "tags": []
   },
   "outputs": [],
   "source": [
    "# host_listings_count as int\n",
    "df_bl['host_listings_count'] = df_bl['host_listings_count'].astype(int)"
   ]
  },
  {
   "cell_type": "markdown",
   "id": "d84e4d69-310e-461d-bf02-369f4db6c6f8",
   "metadata": {
    "tags": []
   },
   "source": [
    "## train test split"
   ]
  },
  {
   "cell_type": "code",
   "execution_count": 14,
   "id": "918612d8-3465-4882-a09c-8e36838dd8ee",
   "metadata": {
    "tags": []
   },
   "outputs": [],
   "source": [
    "# separate target variable\n",
    "X = df_bl.drop('suspicious_or_not', axis=1)\n",
    "y = df_bl['suspicious_or_not']"
   ]
  },
  {
   "cell_type": "code",
   "execution_count": 15,
   "id": "b130f172-a288-464a-90c0-3f7b76f9cc63",
   "metadata": {
    "tags": []
   },
   "outputs": [],
   "source": [
    "# train test split\n",
    "X_train, X_test, y_train, y_test = train_test_split(X, y, test_size=0.2, random_state=RSEED, stratify = y)"
   ]
  },
  {
   "cell_type": "code",
   "execution_count": 16,
   "id": "90dfdefb-0e65-4803-8362-de98133e6da9",
   "metadata": {
    "tags": []
   },
   "outputs": [
    {
     "data": {
      "text/html": [
       "<div>\n",
       "<style scoped>\n",
       "    .dataframe tbody tr th:only-of-type {\n",
       "        vertical-align: middle;\n",
       "    }\n",
       "\n",
       "    .dataframe tbody tr th {\n",
       "        vertical-align: top;\n",
       "    }\n",
       "\n",
       "    .dataframe thead th {\n",
       "        text-align: right;\n",
       "    }\n",
       "</style>\n",
       "<table border=\"1\" class=\"dataframe\">\n",
       "  <thead>\n",
       "    <tr style=\"text-align: right;\">\n",
       "      <th></th>\n",
       "      <th>host_since</th>\n",
       "      <th>host_response_time</th>\n",
       "      <th>host_response_rate</th>\n",
       "      <th>host_acceptance_rate</th>\n",
       "      <th>host_is_superhost</th>\n",
       "      <th>host_listings_count</th>\n",
       "      <th>host_has_profile_pic</th>\n",
       "      <th>host_identity_verified</th>\n",
       "      <th>neighbourhood_group_cleansed</th>\n",
       "      <th>room_type</th>\n",
       "      <th>accommodates</th>\n",
       "      <th>bedrooms</th>\n",
       "      <th>price</th>\n",
       "      <th>minimum_nights</th>\n",
       "      <th>maximum_nights</th>\n",
       "      <th>has_availability</th>\n",
       "      <th>number_of_reviews</th>\n",
       "      <th>license</th>\n",
       "      <th>instant_bookable</th>\n",
       "      <th>host_type</th>\n",
       "    </tr>\n",
       "  </thead>\n",
       "  <tbody>\n",
       "    <tr>\n",
       "      <th>9092</th>\n",
       "      <td>2017-07-04</td>\n",
       "      <td>NaN</td>\n",
       "      <td>NaN</td>\n",
       "      <td>NaN</td>\n",
       "      <td>0</td>\n",
       "      <td>1</td>\n",
       "      <td>1</td>\n",
       "      <td>0</td>\n",
       "      <td>Sant Andreu</td>\n",
       "      <td>Private room</td>\n",
       "      <td>2</td>\n",
       "      <td>1.0</td>\n",
       "      <td>39.0</td>\n",
       "      <td>3</td>\n",
       "      <td>7</td>\n",
       "      <td>1</td>\n",
       "      <td>10</td>\n",
       "      <td>NaN</td>\n",
       "      <td>1</td>\n",
       "      <td>private</td>\n",
       "    </tr>\n",
       "    <tr>\n",
       "      <th>8213</th>\n",
       "      <td>2023-01-11</td>\n",
       "      <td>within a few hours</td>\n",
       "      <td>1.00</td>\n",
       "      <td>NaN</td>\n",
       "      <td>0</td>\n",
       "      <td>2</td>\n",
       "      <td>1</td>\n",
       "      <td>1</td>\n",
       "      <td>Eixample</td>\n",
       "      <td>Entire home/apt</td>\n",
       "      <td>2</td>\n",
       "      <td>1.0</td>\n",
       "      <td>47.0</td>\n",
       "      <td>32</td>\n",
       "      <td>364</td>\n",
       "      <td>1</td>\n",
       "      <td>0</td>\n",
       "      <td>NaN</td>\n",
       "      <td>0</td>\n",
       "      <td>commercial</td>\n",
       "    </tr>\n",
       "    <tr>\n",
       "      <th>898</th>\n",
       "      <td>2019-10-01</td>\n",
       "      <td>within an hour</td>\n",
       "      <td>1.00</td>\n",
       "      <td>0.99</td>\n",
       "      <td>0</td>\n",
       "      <td>4</td>\n",
       "      <td>1</td>\n",
       "      <td>1</td>\n",
       "      <td>Ciutat Vella</td>\n",
       "      <td>Entire home/apt</td>\n",
       "      <td>10</td>\n",
       "      <td>4.0</td>\n",
       "      <td>291.0</td>\n",
       "      <td>2</td>\n",
       "      <td>1125</td>\n",
       "      <td>1</td>\n",
       "      <td>51</td>\n",
       "      <td>HUTB-052261</td>\n",
       "      <td>1</td>\n",
       "      <td>commercial</td>\n",
       "    </tr>\n",
       "    <tr>\n",
       "      <th>2444</th>\n",
       "      <td>2013-03-25</td>\n",
       "      <td>within an hour</td>\n",
       "      <td>0.91</td>\n",
       "      <td>0.89</td>\n",
       "      <td>0</td>\n",
       "      <td>39</td>\n",
       "      <td>1</td>\n",
       "      <td>1</td>\n",
       "      <td>Ciutat Vella</td>\n",
       "      <td>Entire home/apt</td>\n",
       "      <td>2</td>\n",
       "      <td>1.0</td>\n",
       "      <td>181.0</td>\n",
       "      <td>1</td>\n",
       "      <td>1125</td>\n",
       "      <td>1</td>\n",
       "      <td>17</td>\n",
       "      <td>HUTB-002676</td>\n",
       "      <td>0</td>\n",
       "      <td>commercial</td>\n",
       "    </tr>\n",
       "    <tr>\n",
       "      <th>9477</th>\n",
       "      <td>2010-11-26</td>\n",
       "      <td>within an hour</td>\n",
       "      <td>0.99</td>\n",
       "      <td>1.00</td>\n",
       "      <td>0</td>\n",
       "      <td>250</td>\n",
       "      <td>1</td>\n",
       "      <td>1</td>\n",
       "      <td>Eixample</td>\n",
       "      <td>Entire home/apt</td>\n",
       "      <td>6</td>\n",
       "      <td>3.0</td>\n",
       "      <td>178.0</td>\n",
       "      <td>3</td>\n",
       "      <td>1125</td>\n",
       "      <td>1</td>\n",
       "      <td>155</td>\n",
       "      <td>HUTB-013053</td>\n",
       "      <td>1</td>\n",
       "      <td>commercial</td>\n",
       "    </tr>\n",
       "    <tr>\n",
       "      <th>5429</th>\n",
       "      <td>2020-01-01</td>\n",
       "      <td>NaN</td>\n",
       "      <td>NaN</td>\n",
       "      <td>1.00</td>\n",
       "      <td>1</td>\n",
       "      <td>2</td>\n",
       "      <td>1</td>\n",
       "      <td>1</td>\n",
       "      <td>Sarrià-Sant Gervasi</td>\n",
       "      <td>Private room</td>\n",
       "      <td>2</td>\n",
       "      <td>1.0</td>\n",
       "      <td>61.0</td>\n",
       "      <td>1</td>\n",
       "      <td>1125</td>\n",
       "      <td>1</td>\n",
       "      <td>11</td>\n",
       "      <td>Exempt</td>\n",
       "      <td>0</td>\n",
       "      <td>private</td>\n",
       "    </tr>\n",
       "    <tr>\n",
       "      <th>7179</th>\n",
       "      <td>2016-06-17</td>\n",
       "      <td>within an hour</td>\n",
       "      <td>1.00</td>\n",
       "      <td>0.77</td>\n",
       "      <td>0</td>\n",
       "      <td>3</td>\n",
       "      <td>1</td>\n",
       "      <td>1</td>\n",
       "      <td>Horta-Guinardó</td>\n",
       "      <td>Private room</td>\n",
       "      <td>3</td>\n",
       "      <td>1.0</td>\n",
       "      <td>25.0</td>\n",
       "      <td>32</td>\n",
       "      <td>330</td>\n",
       "      <td>1</td>\n",
       "      <td>6</td>\n",
       "      <td>NaN</td>\n",
       "      <td>0</td>\n",
       "      <td>private</td>\n",
       "    </tr>\n",
       "    <tr>\n",
       "      <th>1700</th>\n",
       "      <td>2012-02-13</td>\n",
       "      <td>within an hour</td>\n",
       "      <td>1.00</td>\n",
       "      <td>0.97</td>\n",
       "      <td>0</td>\n",
       "      <td>30</td>\n",
       "      <td>1</td>\n",
       "      <td>1</td>\n",
       "      <td>Sants-Montjuïc</td>\n",
       "      <td>Entire home/apt</td>\n",
       "      <td>5</td>\n",
       "      <td>2.0</td>\n",
       "      <td>133.0</td>\n",
       "      <td>3</td>\n",
       "      <td>200</td>\n",
       "      <td>1</td>\n",
       "      <td>2</td>\n",
       "      <td>HUTB-004679</td>\n",
       "      <td>1</td>\n",
       "      <td>commercial</td>\n",
       "    </tr>\n",
       "    <tr>\n",
       "      <th>4664</th>\n",
       "      <td>2022-09-07</td>\n",
       "      <td>within an hour</td>\n",
       "      <td>0.98</td>\n",
       "      <td>1.00</td>\n",
       "      <td>0</td>\n",
       "      <td>18</td>\n",
       "      <td>1</td>\n",
       "      <td>1</td>\n",
       "      <td>Ciutat Vella</td>\n",
       "      <td>Private room</td>\n",
       "      <td>1</td>\n",
       "      <td>1.0</td>\n",
       "      <td>33.0</td>\n",
       "      <td>32</td>\n",
       "      <td>365</td>\n",
       "      <td>1</td>\n",
       "      <td>13</td>\n",
       "      <td>Exempt</td>\n",
       "      <td>1</td>\n",
       "      <td>private</td>\n",
       "    </tr>\n",
       "    <tr>\n",
       "      <th>728</th>\n",
       "      <td>2013-04-13</td>\n",
       "      <td>within a day</td>\n",
       "      <td>1.00</td>\n",
       "      <td>0.40</td>\n",
       "      <td>0</td>\n",
       "      <td>1</td>\n",
       "      <td>1</td>\n",
       "      <td>0</td>\n",
       "      <td>Ciutat Vella</td>\n",
       "      <td>Private room</td>\n",
       "      <td>2</td>\n",
       "      <td>1.0</td>\n",
       "      <td>39.0</td>\n",
       "      <td>1</td>\n",
       "      <td>356</td>\n",
       "      <td>1</td>\n",
       "      <td>4</td>\n",
       "      <td>NaN</td>\n",
       "      <td>0</td>\n",
       "      <td>private</td>\n",
       "    </tr>\n",
       "  </tbody>\n",
       "</table>\n",
       "</div>"
      ],
      "text/plain": [
       "     host_since  host_response_time  host_response_rate  host_acceptance_rate   \n",
       "9092 2017-07-04                 NaN                 NaN                   NaN  \\\n",
       "8213 2023-01-11  within a few hours                1.00                   NaN   \n",
       "898  2019-10-01      within an hour                1.00                  0.99   \n",
       "2444 2013-03-25      within an hour                0.91                  0.89   \n",
       "9477 2010-11-26      within an hour                0.99                  1.00   \n",
       "5429 2020-01-01                 NaN                 NaN                  1.00   \n",
       "7179 2016-06-17      within an hour                1.00                  0.77   \n",
       "1700 2012-02-13      within an hour                1.00                  0.97   \n",
       "4664 2022-09-07      within an hour                0.98                  1.00   \n",
       "728  2013-04-13        within a day                1.00                  0.40   \n",
       "\n",
       "      host_is_superhost  host_listings_count  host_has_profile_pic   \n",
       "9092                  0                    1                     1  \\\n",
       "8213                  0                    2                     1   \n",
       "898                   0                    4                     1   \n",
       "2444                  0                   39                     1   \n",
       "9477                  0                  250                     1   \n",
       "5429                  1                    2                     1   \n",
       "7179                  0                    3                     1   \n",
       "1700                  0                   30                     1   \n",
       "4664                  0                   18                     1   \n",
       "728                   0                    1                     1   \n",
       "\n",
       "      host_identity_verified neighbourhood_group_cleansed        room_type   \n",
       "9092                       0                  Sant Andreu     Private room  \\\n",
       "8213                       1                     Eixample  Entire home/apt   \n",
       "898                        1                 Ciutat Vella  Entire home/apt   \n",
       "2444                       1                 Ciutat Vella  Entire home/apt   \n",
       "9477                       1                     Eixample  Entire home/apt   \n",
       "5429                       1          Sarrià-Sant Gervasi     Private room   \n",
       "7179                       1               Horta-Guinardó     Private room   \n",
       "1700                       1               Sants-Montjuïc  Entire home/apt   \n",
       "4664                       1                 Ciutat Vella     Private room   \n",
       "728                        0                 Ciutat Vella     Private room   \n",
       "\n",
       "      accommodates  bedrooms  price  minimum_nights  maximum_nights   \n",
       "9092             2       1.0   39.0               3               7  \\\n",
       "8213             2       1.0   47.0              32             364   \n",
       "898             10       4.0  291.0               2            1125   \n",
       "2444             2       1.0  181.0               1            1125   \n",
       "9477             6       3.0  178.0               3            1125   \n",
       "5429             2       1.0   61.0               1            1125   \n",
       "7179             3       1.0   25.0              32             330   \n",
       "1700             5       2.0  133.0               3             200   \n",
       "4664             1       1.0   33.0              32             365   \n",
       "728              2       1.0   39.0               1             356   \n",
       "\n",
       "      has_availability  number_of_reviews      license  instant_bookable   \n",
       "9092                 1                 10          NaN                 1  \\\n",
       "8213                 1                  0          NaN                 0   \n",
       "898                  1                 51  HUTB-052261                 1   \n",
       "2444                 1                 17  HUTB-002676                 0   \n",
       "9477                 1                155  HUTB-013053                 1   \n",
       "5429                 1                 11       Exempt                 0   \n",
       "7179                 1                  6          NaN                 0   \n",
       "1700                 1                  2  HUTB-004679                 1   \n",
       "4664                 1                 13       Exempt                 1   \n",
       "728                  1                  4          NaN                 0   \n",
       "\n",
       "       host_type  \n",
       "9092     private  \n",
       "8213  commercial  \n",
       "898   commercial  \n",
       "2444  commercial  \n",
       "9477  commercial  \n",
       "5429     private  \n",
       "7179     private  \n",
       "1700  commercial  \n",
       "4664     private  \n",
       "728      private  "
      ]
     },
     "execution_count": 16,
     "metadata": {},
     "output_type": "execute_result"
    }
   ],
   "source": [
    "X_train.head(10)"
   ]
  },
  {
   "cell_type": "code",
   "execution_count": 17,
   "id": "58cb88a4-decf-49cf-92e3-124fe2683946",
   "metadata": {
    "tags": []
   },
   "outputs": [
    {
     "name": "stdout",
     "output_type": "stream",
     "text": [
      "X_train shape: (9070, 20)\n",
      "X_test shape: (2268, 20)\n",
      "y_train shape: (9070,)\n",
      "y_test shape: (2268,)\n"
     ]
    }
   ],
   "source": [
    "print('X_train shape:', X_train.shape)\n",
    "print('X_test shape:', X_test.shape)\n",
    "print('y_train shape:', y_train.shape)\n",
    "print('y_test shape:', y_test.shape)"
   ]
  },
  {
   "cell_type": "markdown",
   "id": "afdc71e5-d4f9-4c4c-a307-e2e165e87429",
   "metadata": {},
   "source": [
    "## Preprocessing"
   ]
  },
  {
   "cell_type": "code",
   "execution_count": 18,
   "id": "f2daefe4-2642-4c77-afdf-3cacf6fc9514",
   "metadata": {
    "tags": []
   },
   "outputs": [
    {
     "data": {
      "text/plain": [
       "<Axes: >"
      ]
     },
     "execution_count": 18,
     "metadata": {},
     "output_type": "execute_result"
    },
    {
     "data": {
      "image/png": "[encoded data removed]",
      "text/plain": [
       "<Figure size 640x480 with 1 Axes>"
      ]
     },
     "metadata": {},
     "output_type": "display_data"
    }
   ],
   "source": [
    "# find outliers\n",
    "X_train.boxplot('price')"
   ]
  },
  {
   "cell_type": "code",
   "execution_count": 19,
   "id": "fdb48990-91a8-4bda-8418-25482cc924d9",
   "metadata": {
    "tags": []
   },
   "outputs": [
    {
     "data": {
      "text/plain": [
       "<Axes: >"
      ]
     },
     "execution_count": 19,
     "metadata": {},
     "output_type": "execute_result"
    }
   ],
   "source": [
    "# find outliers\n",
    "X_train.boxplot('minimum_nights')"
   ]
  },
  {
   "cell_type": "code",
   "execution_count": 20,
   "id": "d5a78b97-0367-4c8b-8ee1-7afd4709d4e6",
   "metadata": {
    "tags": []
   },
   "outputs": [],
   "source": [
    "# delete price outliers with IQR method\n",
    "\n",
    "# find IQR of train data\n",
    "for x in ['price']:\n",
    "    q75, q25 = np.percentile(X_train.loc[:,x],[75,25])\n",
    "    intr_qr = q75-q25\n",
    "    maxp = q75+(1.5*intr_qr)\n",
    "    minp = q25-(1.5*intr_qr)\n",
    "\n",
    "# apply on train data    \n",
    "    X_train.loc[X_train[x] < minp,x] = np.nan\n",
    "    X_train.loc[X_train[x] > maxp,x] = np.nan\n",
    "    \n",
    "# apply on test data    \n",
    "    X_test.loc[X_test[x] < minp,x] = np.nan\n",
    "    X_test.loc[X_test[x] > maxp,x] = np.nan"
   ]
  },
  {
   "cell_type": "code",
   "execution_count": 21,
   "id": "8ad2145b-8416-4eff-94bf-5805f3ebc098",
   "metadata": {
    "tags": []
   },
   "outputs": [],
   "source": [
    "# delete minimum_nights outliers with IQR method\n",
    "\n",
    "# find IQR of train data\n",
    "for x in ['minimum_nights']:\n",
    "    q75, q25 = np.percentile(X_train.loc[:,x],[75,25])\n",
    "    intr_qr = q75-q25\n",
    "    maxn = q75+(1.5*intr_qr)\n",
    "    minn = q25-(1.5*intr_qr)\n",
    "\n",
    "# apply on train data  \n",
    "    X_train.loc[X_train[x] < minn,x] = np.nan\n",
    "    X_train.loc[X_train[x] > maxn,x] = np.nan\n",
    "\n",
    "# apply on test data    \n",
    "    X_test.loc[X_test[x] < minn,x] = np.nan\n",
    "    X_test.loc[X_test[x] > maxn,x] = np.nan"
   ]
  },
  {
   "cell_type": "code",
   "execution_count": 22,
   "id": "e14c9b1c-57cd-4b50-8069-1b81bce68e1a",
   "metadata": {
    "tags": []
   },
   "outputs": [],
   "source": [
    "# columns to impute by mean\n",
    "num_col_mean = ['host_response_rate', 'host_acceptance_rate']\n",
    "\n",
    "# columns to impute by median\n",
    "num_col_median = ['bedrooms', 'price', 'minimum_nights', 'maximum_nights']\n",
    "\n",
    "# categorical columns to impute\n",
    "cat_col_missing = ['host_response_time']\n",
    "cat_col_no = ['license']"
   ]
  },
  {
   "cell_type": "code",
   "execution_count": 23,
   "id": "f3659721-ae07-48b5-9778-c1fe5becba22",
   "metadata": {
    "tags": []
   },
   "outputs": [],
   "source": [
    "# create values dict for imputation of missing values\n",
    "values_dict = {}\n",
    "\n",
    "# find median of train data and apply on train and test data\n",
    "for col in num_col_median:\n",
    "    values_dict[col] = X_train[col].median()\n",
    "    X_train[col] = X_train[col].fillna(values_dict[col])\n",
    "    X_test[col] = X_test[col].fillna(values_dict[col])"
   ]
  },
  {
   "cell_type": "code",
   "execution_count": 24,
   "id": "004f72e3-034e-417c-8002-87ed08be3e5f",
   "metadata": {
    "tags": []
   },
   "outputs": [],
   "source": [
    "# find mean of train data and apply on train and test data\n",
    "for col in num_col_mean:\n",
    "    values_dict[col] = X_train[col].mean()\n",
    "    X_train[col] = X_train[col].fillna(values_dict[col])\n",
    "    X_test[col] = X_test[col].fillna(values_dict[col])"
   ]
  },
  {
   "cell_type": "code",
   "execution_count": 25,
   "id": "28a369e9-194b-497b-8dd7-8f13e56486f3",
   "metadata": {
    "tags": []
   },
   "outputs": [],
   "source": [
    "# add new category 'missing' to train and test data\n",
    "for col in cat_col_missing:\n",
    "    values_dict[col] = 'missing'\n",
    "    X_train[col] = X_train[col].fillna(values_dict[col])\n",
    "    X_test[col] = X_test[col].fillna(values_dict[col])"
   ]
  },
  {
   "cell_type": "code",
   "execution_count": 26,
   "id": "64557f1d-13fb-4e96-848e-80b023cf63f4",
   "metadata": {
    "tags": []
   },
   "outputs": [],
   "source": [
    "# add new category 'no' to train and test data\n",
    "for col in cat_col_no:\n",
    "    values_dict[col] = 'no'\n",
    "    X_train[col] = X_train[col].fillna(values_dict[col])\n",
    "    X_test[col] = X_test[col].fillna(values_dict[col])"
   ]
  },
  {
   "cell_type": "markdown",
   "id": "0d6832e9-068f-44b9-bd0d-45eea0f8bb4c",
   "metadata": {},
   "source": [
    "## Handle license column"
   ]
  },
  {
   "cell_type": "code",
   "execution_count": 27,
   "id": "0def47b8-caac-4ecb-bfc9-b325066aaf8f",
   "metadata": {
    "tags": []
   },
   "outputs": [],
   "source": [
    "def license(license):\n",
    "    if 'HUTB' in license:\n",
    "        return 1\n",
    "    if 'HB' in license:\n",
    "        return 1\n",
    "    if 'AJ' in license:\n",
    "        return 1\n",
    "    elif 'exempt' in license.lower():\n",
    "        return 0\n",
    "    else:\n",
    "        return 0"
   ]
  },
  {
   "cell_type": "code",
   "execution_count": 28,
   "id": "7660c119-0e57-49b7-a118-21686a0f5879",
   "metadata": {
    "tags": []
   },
   "outputs": [],
   "source": [
    "X_train['license'] = X_train.apply(lambda row: license(row['license']), axis=1)\n",
    "X_test['license'] = X_test.apply(lambda row: license(row['license']), axis=1)"
   ]
  },
  {
   "cell_type": "code",
   "execution_count": 29,
   "id": "af5940b8-5fc3-4744-9c25-fa7099274a43",
   "metadata": {
    "tags": []
   },
   "outputs": [
    {
     "data": {
      "text/html": [
       "<div>\n",
       "<style scoped>\n",
       "    .dataframe tbody tr th:only-of-type {\n",
       "        vertical-align: middle;\n",
       "    }\n",
       "\n",
       "    .dataframe tbody tr th {\n",
       "        vertical-align: top;\n",
       "    }\n",
       "\n",
       "    .dataframe thead th {\n",
       "        text-align: right;\n",
       "    }\n",
       "</style>\n",
       "<table border=\"1\" class=\"dataframe\">\n",
       "  <thead>\n",
       "    <tr style=\"text-align: right;\">\n",
       "      <th></th>\n",
       "      <th>host_since</th>\n",
       "      <th>host_response_time</th>\n",
       "      <th>host_response_rate</th>\n",
       "      <th>host_acceptance_rate</th>\n",
       "      <th>host_is_superhost</th>\n",
       "      <th>host_listings_count</th>\n",
       "      <th>host_has_profile_pic</th>\n",
       "      <th>host_identity_verified</th>\n",
       "      <th>neighbourhood_group_cleansed</th>\n",
       "      <th>room_type</th>\n",
       "      <th>accommodates</th>\n",
       "      <th>bedrooms</th>\n",
       "      <th>price</th>\n",
       "      <th>minimum_nights</th>\n",
       "      <th>maximum_nights</th>\n",
       "      <th>has_availability</th>\n",
       "      <th>number_of_reviews</th>\n",
       "      <th>license</th>\n",
       "      <th>instant_bookable</th>\n",
       "      <th>host_type</th>\n",
       "    </tr>\n",
       "  </thead>\n",
       "  <tbody>\n",
       "    <tr>\n",
       "      <th>9092</th>\n",
       "      <td>2017-07-04</td>\n",
       "      <td>missing</td>\n",
       "      <td>0.943556</td>\n",
       "      <td>0.897679</td>\n",
       "      <td>0</td>\n",
       "      <td>1</td>\n",
       "      <td>1</td>\n",
       "      <td>0</td>\n",
       "      <td>Sant Andreu</td>\n",
       "      <td>Private room</td>\n",
       "      <td>2</td>\n",
       "      <td>1.0</td>\n",
       "      <td>39.0</td>\n",
       "      <td>3.0</td>\n",
       "      <td>7</td>\n",
       "      <td>1</td>\n",
       "      <td>10</td>\n",
       "      <td>0</td>\n",
       "      <td>1</td>\n",
       "      <td>private</td>\n",
       "    </tr>\n",
       "    <tr>\n",
       "      <th>8213</th>\n",
       "      <td>2023-01-11</td>\n",
       "      <td>within a few hours</td>\n",
       "      <td>1.000000</td>\n",
       "      <td>0.897679</td>\n",
       "      <td>0</td>\n",
       "      <td>2</td>\n",
       "      <td>1</td>\n",
       "      <td>1</td>\n",
       "      <td>Eixample</td>\n",
       "      <td>Entire home/apt</td>\n",
       "      <td>2</td>\n",
       "      <td>1.0</td>\n",
       "      <td>47.0</td>\n",
       "      <td>32.0</td>\n",
       "      <td>364</td>\n",
       "      <td>1</td>\n",
       "      <td>0</td>\n",
       "      <td>0</td>\n",
       "      <td>0</td>\n",
       "      <td>commercial</td>\n",
       "    </tr>\n",
       "    <tr>\n",
       "      <th>898</th>\n",
       "      <td>2019-10-01</td>\n",
       "      <td>within an hour</td>\n",
       "      <td>1.000000</td>\n",
       "      <td>0.990000</td>\n",
       "      <td>0</td>\n",
       "      <td>4</td>\n",
       "      <td>1</td>\n",
       "      <td>1</td>\n",
       "      <td>Ciutat Vella</td>\n",
       "      <td>Entire home/apt</td>\n",
       "      <td>10</td>\n",
       "      <td>4.0</td>\n",
       "      <td>291.0</td>\n",
       "      <td>2.0</td>\n",
       "      <td>1125</td>\n",
       "      <td>1</td>\n",
       "      <td>51</td>\n",
       "      <td>1</td>\n",
       "      <td>1</td>\n",
       "      <td>commercial</td>\n",
       "    </tr>\n",
       "    <tr>\n",
       "      <th>2444</th>\n",
       "      <td>2013-03-25</td>\n",
       "      <td>within an hour</td>\n",
       "      <td>0.910000</td>\n",
       "      <td>0.890000</td>\n",
       "      <td>0</td>\n",
       "      <td>39</td>\n",
       "      <td>1</td>\n",
       "      <td>1</td>\n",
       "      <td>Ciutat Vella</td>\n",
       "      <td>Entire home/apt</td>\n",
       "      <td>2</td>\n",
       "      <td>1.0</td>\n",
       "      <td>181.0</td>\n",
       "      <td>1.0</td>\n",
       "      <td>1125</td>\n",
       "      <td>1</td>\n",
       "      <td>17</td>\n",
       "      <td>1</td>\n",
       "      <td>0</td>\n",
       "      <td>commercial</td>\n",
       "    </tr>\n",
       "    <tr>\n",
       "      <th>9477</th>\n",
       "      <td>2010-11-26</td>\n",
       "      <td>within an hour</td>\n",
       "      <td>0.990000</td>\n",
       "      <td>1.000000</td>\n",
       "      <td>0</td>\n",
       "      <td>250</td>\n",
       "      <td>1</td>\n",
       "      <td>1</td>\n",
       "      <td>Eixample</td>\n",
       "      <td>Entire home/apt</td>\n",
       "      <td>6</td>\n",
       "      <td>3.0</td>\n",
       "      <td>178.0</td>\n",
       "      <td>3.0</td>\n",
       "      <td>1125</td>\n",
       "      <td>1</td>\n",
       "      <td>155</td>\n",
       "      <td>1</td>\n",
       "      <td>1</td>\n",
       "      <td>commercial</td>\n",
       "    </tr>\n",
       "    <tr>\n",
       "      <th>5429</th>\n",
       "      <td>2020-01-01</td>\n",
       "      <td>missing</td>\n",
       "      <td>0.943556</td>\n",
       "      <td>1.000000</td>\n",
       "      <td>1</td>\n",
       "      <td>2</td>\n",
       "      <td>1</td>\n",
       "      <td>1</td>\n",
       "      <td>Sarrià-Sant Gervasi</td>\n",
       "      <td>Private room</td>\n",
       "      <td>2</td>\n",
       "      <td>1.0</td>\n",
       "      <td>61.0</td>\n",
       "      <td>1.0</td>\n",
       "      <td>1125</td>\n",
       "      <td>1</td>\n",
       "      <td>11</td>\n",
       "      <td>0</td>\n",
       "      <td>0</td>\n",
       "      <td>private</td>\n",
       "    </tr>\n",
       "    <tr>\n",
       "      <th>7179</th>\n",
       "      <td>2016-06-17</td>\n",
       "      <td>within an hour</td>\n",
       "      <td>1.000000</td>\n",
       "      <td>0.770000</td>\n",
       "      <td>0</td>\n",
       "      <td>3</td>\n",
       "      <td>1</td>\n",
       "      <td>1</td>\n",
       "      <td>Horta-Guinardó</td>\n",
       "      <td>Private room</td>\n",
       "      <td>3</td>\n",
       "      <td>1.0</td>\n",
       "      <td>25.0</td>\n",
       "      <td>32.0</td>\n",
       "      <td>330</td>\n",
       "      <td>1</td>\n",
       "      <td>6</td>\n",
       "      <td>0</td>\n",
       "      <td>0</td>\n",
       "      <td>private</td>\n",
       "    </tr>\n",
       "    <tr>\n",
       "      <th>1700</th>\n",
       "      <td>2012-02-13</td>\n",
       "      <td>within an hour</td>\n",
       "      <td>1.000000</td>\n",
       "      <td>0.970000</td>\n",
       "      <td>0</td>\n",
       "      <td>30</td>\n",
       "      <td>1</td>\n",
       "      <td>1</td>\n",
       "      <td>Sants-Montjuïc</td>\n",
       "      <td>Entire home/apt</td>\n",
       "      <td>5</td>\n",
       "      <td>2.0</td>\n",
       "      <td>133.0</td>\n",
       "      <td>3.0</td>\n",
       "      <td>200</td>\n",
       "      <td>1</td>\n",
       "      <td>2</td>\n",
       "      <td>1</td>\n",
       "      <td>1</td>\n",
       "      <td>commercial</td>\n",
       "    </tr>\n",
       "    <tr>\n",
       "      <th>4664</th>\n",
       "      <td>2022-09-07</td>\n",
       "      <td>within an hour</td>\n",
       "      <td>0.980000</td>\n",
       "      <td>1.000000</td>\n",
       "      <td>0</td>\n",
       "      <td>18</td>\n",
       "      <td>1</td>\n",
       "      <td>1</td>\n",
       "      <td>Ciutat Vella</td>\n",
       "      <td>Private room</td>\n",
       "      <td>1</td>\n",
       "      <td>1.0</td>\n",
       "      <td>33.0</td>\n",
       "      <td>32.0</td>\n",
       "      <td>365</td>\n",
       "      <td>1</td>\n",
       "      <td>13</td>\n",
       "      <td>0</td>\n",
       "      <td>1</td>\n",
       "      <td>private</td>\n",
       "    </tr>\n",
       "    <tr>\n",
       "      <th>728</th>\n",
       "      <td>2013-04-13</td>\n",
       "      <td>within a day</td>\n",
       "      <td>1.000000</td>\n",
       "      <td>0.400000</td>\n",
       "      <td>0</td>\n",
       "      <td>1</td>\n",
       "      <td>1</td>\n",
       "      <td>0</td>\n",
       "      <td>Ciutat Vella</td>\n",
       "      <td>Private room</td>\n",
       "      <td>2</td>\n",
       "      <td>1.0</td>\n",
       "      <td>39.0</td>\n",
       "      <td>1.0</td>\n",
       "      <td>356</td>\n",
       "      <td>1</td>\n",
       "      <td>4</td>\n",
       "      <td>0</td>\n",
       "      <td>0</td>\n",
       "      <td>private</td>\n",
       "    </tr>\n",
       "  </tbody>\n",
       "</table>\n",
       "</div>"
      ],
      "text/plain": [
       "     host_since  host_response_time  host_response_rate  host_acceptance_rate   \n",
       "9092 2017-07-04             missing            0.943556              0.897679  \\\n",
       "8213 2023-01-11  within a few hours            1.000000              0.897679   \n",
       "898  2019-10-01      within an hour            1.000000              0.990000   \n",
       "2444 2013-03-25      within an hour            0.910000              0.890000   \n",
       "9477 2010-11-26      within an hour            0.990000              1.000000   \n",
       "5429 2020-01-01             missing            0.943556              1.000000   \n",
       "7179 2016-06-17      within an hour            1.000000              0.770000   \n",
       "1700 2012-02-13      within an hour            1.000000              0.970000   \n",
       "4664 2022-09-07      within an hour            0.980000              1.000000   \n",
       "728  2013-04-13        within a day            1.000000              0.400000   \n",
       "\n",
       "      host_is_superhost  host_listings_count  host_has_profile_pic   \n",
       "9092                  0                    1                     1  \\\n",
       "8213                  0                    2                     1   \n",
       "898                   0                    4                     1   \n",
       "2444                  0                   39                     1   \n",
       "9477                  0                  250                     1   \n",
       "5429                  1                    2                     1   \n",
       "7179                  0                    3                     1   \n",
       "1700                  0                   30                     1   \n",
       "4664                  0                   18                     1   \n",
       "728                   0                    1                     1   \n",
       "\n",
       "      host_identity_verified neighbourhood_group_cleansed        room_type   \n",
       "9092                       0                  Sant Andreu     Private room  \\\n",
       "8213                       1                     Eixample  Entire home/apt   \n",
       "898                        1                 Ciutat Vella  Entire home/apt   \n",
       "2444                       1                 Ciutat Vella  Entire home/apt   \n",
       "9477                       1                     Eixample  Entire home/apt   \n",
       "5429                       1          Sarrià-Sant Gervasi     Private room   \n",
       "7179                       1               Horta-Guinardó     Private room   \n",
       "1700                       1               Sants-Montjuïc  Entire home/apt   \n",
       "4664                       1                 Ciutat Vella     Private room   \n",
       "728                        0                 Ciutat Vella     Private room   \n",
       "\n",
       "      accommodates  bedrooms  price  minimum_nights  maximum_nights   \n",
       "9092             2       1.0   39.0             3.0               7  \\\n",
       "8213             2       1.0   47.0            32.0             364   \n",
       "898             10       4.0  291.0             2.0            1125   \n",
       "2444             2       1.0  181.0             1.0            1125   \n",
       "9477             6       3.0  178.0             3.0            1125   \n",
       "5429             2       1.0   61.0             1.0            1125   \n",
       "7179             3       1.0   25.0            32.0             330   \n",
       "1700             5       2.0  133.0             3.0             200   \n",
       "4664             1       1.0   33.0            32.0             365   \n",
       "728              2       1.0   39.0             1.0             356   \n",
       "\n",
       "      has_availability  number_of_reviews  license  instant_bookable   \n",
       "9092                 1                 10        0                 1  \\\n",
       "8213                 1                  0        0                 0   \n",
       "898                  1                 51        1                 1   \n",
       "2444                 1                 17        1                 0   \n",
       "9477                 1                155        1                 1   \n",
       "5429                 1                 11        0                 0   \n",
       "7179                 1                  6        0                 0   \n",
       "1700                 1                  2        1                 1   \n",
       "4664                 1                 13        0                 1   \n",
       "728                  1                  4        0                 0   \n",
       "\n",
       "       host_type  \n",
       "9092     private  \n",
       "8213  commercial  \n",
       "898   commercial  \n",
       "2444  commercial  \n",
       "9477  commercial  \n",
       "5429     private  \n",
       "7179     private  \n",
       "1700  commercial  \n",
       "4664     private  \n",
       "728      private  "
      ]
     },
     "execution_count": 29,
     "metadata": {},
     "output_type": "execute_result"
    }
   ],
   "source": [
    "X_train.head(10)"
   ]
  },
  {
   "cell_type": "markdown",
   "id": "0d0d411d-ec85-4315-9cb6-d04f1934be4b",
   "metadata": {},
   "source": [
    "### Building pipelines"
   ]
  },
  {
   "cell_type": "code",
   "execution_count": 30,
   "id": "9f6a4443-df63-415e-be6c-ccd09c0c0f3d",
   "metadata": {
    "tags": []
   },
   "outputs": [
    {
     "data": {
      "text/plain": [
       "['host_response_time',\n",
       " 'neighbourhood_group_cleansed',\n",
       " 'room_type',\n",
       " 'host_type']"
      ]
     },
     "execution_count": 30,
     "metadata": {},
     "output_type": "execute_result"
    }
   ],
   "source": [
    "cat_features = list(X_train.columns[X_train.dtypes==object])\n",
    "cat_features"
   ]
  },
  {
   "cell_type": "code",
   "execution_count": 31,
   "id": "d887b3ef-58dd-40e5-ad04-e82cb54e87ea",
   "metadata": {
    "tags": []
   },
   "outputs": [
    {
     "data": {
      "text/plain": [
       "['host_response_rate',\n",
       " 'host_acceptance_rate',\n",
       " 'host_is_superhost',\n",
       " 'host_listings_count',\n",
       " 'host_has_profile_pic',\n",
       " 'host_identity_verified',\n",
       " 'accommodates',\n",
       " 'bedrooms',\n",
       " 'price',\n",
       " 'minimum_nights',\n",
       " 'maximum_nights',\n",
       " 'has_availability',\n",
       " 'number_of_reviews',\n",
       " 'license',\n",
       " 'instant_bookable']"
      ]
     },
     "execution_count": 31,
     "metadata": {},
     "output_type": "execute_result"
    }
   ],
   "source": [
    "num_features = list(X_train.columns[X_train.dtypes!=object])\n",
    "num_features.remove('host_since')\n",
    "num_features"
   ]
  },
  {
   "cell_type": "code",
   "execution_count": 32,
   "id": "c442df05-b30a-4b59-9ced-34899da04c71",
   "metadata": {
    "tags": []
   },
   "outputs": [],
   "source": [
    "num_pipeline = Pipeline([\n",
    "    ('std_scaler', StandardScaler())\n",
    "])"
   ]
  },
  {
   "cell_type": "code",
   "execution_count": 33,
   "id": "40dd184c-14e3-4ee6-b4f3-34ab95f5b412",
   "metadata": {},
   "outputs": [],
   "source": [
    "cat_pipeline = Pipeline([\n",
    "    ('1hot', OneHotEncoder(handle_unknown='ignore'))\n",
    "])"
   ]
  },
  {
   "cell_type": "code",
   "execution_count": 34,
   "id": "496e5b60-7644-46d6-b9c8-e4a641c2ebc0",
   "metadata": {},
   "outputs": [],
   "source": [
    "preprocessor = ColumnTransformer([\n",
    "    ('num', num_pipeline, num_features),\n",
    "    ('cat', cat_pipeline, cat_features)\n",
    "])"
   ]
  },
  {
   "cell_type": "markdown",
   "id": "7055004c-66fe-4702-a063-69f27e1b572b",
   "metadata": {},
   "source": [
    "## Logistic Regression"
   ]
  },
  {
   "cell_type": "code",
   "execution_count": 35,
   "id": "d45f5f88-2ab1-47c5-91fe-e978fffc03ce",
   "metadata": {
    "tags": []
   },
   "outputs": [],
   "source": [
    "pipe_logreg_bl = Pipeline([\n",
    "    ('preprocessor', preprocessor),\n",
    "    ('logreg', LogisticRegression(max_iter=1000))\n",
    "])"
   ]
  },
  {
   "cell_type": "code",
   "execution_count": 36,
   "id": "b4c42a4e-c502-4718-8b59-983630ce2b84",
   "metadata": {},
   "outputs": [],
   "source": [
    "y_train_predicted_bl = cross_val_predict(pipe_logreg_bl, X_train, y_train, cv=5)"
   ]
  },
  {
   "cell_type": "code",
   "execution_count": 37,
   "id": "66e1bc58-6d76-4974-b0f8-26b4c2a525fa",
   "metadata": {
    "tags": []
   },
   "outputs": [
    {
     "name": "stdout",
     "output_type": "stream",
     "text": [
      "Cross validation scores:\n",
      "-------------------------\n",
      "Accuracy: 0.87\n",
      "Recall: 0.84\n",
      "Precision: 0.87\n"
     ]
    }
   ],
   "source": [
    "print('Cross validation scores:')\n",
    "print('-------------------------')\n",
    "print(\"Accuracy: {:.2f}\".format(accuracy_score(y_train, y_train_predicted_bl)))\n",
    "print(\"Recall: {:.2f}\".format(recall_score(y_train, y_train_predicted_bl)))\n",
    "print(\"Precision: {:.2f}\".format(precision_score(y_train, y_train_predicted_bl)))"
   ]
  },
  {
   "cell_type": "code",
   "execution_count": 38,
   "id": "720772e4-9669-482e-9344-69f265503ceb",
   "metadata": {
    "tags": []
   },
   "outputs": [],
   "source": [
    "param_logreg_bl = {'logreg__penalty':('l1','l2'),\n",
    "                'logreg__C': [0.001, 0.01, 0.1, 1, 10],\n",
    "                'logreg__solver': ['liblinear', 'lbfgs', 'sag'],\n",
    "               }\n",
    "\n",
    "grid_logreg_bl = GridSearchCV(pipe_logreg_bl, param_grid=param_logreg_bl, cv=5, scoring='precision', \n",
    "                           verbose=5, n_jobs=-1)"
   ]
  },
  {
   "cell_type": "code",
   "execution_count": 39,
   "id": "aed0cc8e-206c-4161-987b-06f00dadf9cd",
   "metadata": {
    "tags": []
   },
   "outputs": [
    {
     "name": "stdout",
     "output_type": "stream",
     "text": [
      "Fitting 5 folds for each of 30 candidates, totalling 150 fits\n"
     ]
    },
    {
     "name": "stderr",
     "output_type": "stream",
     "text": [
      "/Users/johannakruger/neuefische/Modellbauer/.venv/lib/python3.9/site-packages/sklearn/model_selection/_validation.py:378: FitFailedWarning: \n",
      "50 fits failed out of a total of 150.\n",
      "The score on these train-test partitions for these parameters will be set to nan.\n",
      "If these failures are not expected, you can try to debug them by setting error_score='raise'.\n",
      "\n",
      "Below are more details about the failures:\n",
      "--------------------------------------------------------------------------------\n",
      "25 fits failed with the following error:\n",
      "Traceback (most recent call last):\n",
      "  File \"/Users/johannakruger/neuefische/Modellbauer/.venv/lib/python3.9/site-packages/sklearn/model_selection/_validation.py\", line 686, in _fit_and_score\n",
      "    estimator.fit(X_train, y_train, **fit_params)\n",
      "  File \"/Users/johannakruger/neuefische/Modellbauer/.venv/lib/python3.9/site-packages/sklearn/pipeline.py\", line 405, in fit\n",
      "    self._final_estimator.fit(Xt, y, **fit_params_last_step)\n",
      "  File \"/Users/johannakruger/neuefische/Modellbauer/.venv/lib/python3.9/site-packages/sklearn/linear_model/_logistic.py\", line 1162, in fit\n",
      "    solver = _check_solver(self.solver, self.penalty, self.dual)\n",
      "  File \"/Users/johannakruger/neuefische/Modellbauer/.venv/lib/python3.9/site-packages/sklearn/linear_model/_logistic.py\", line 54, in _check_solver\n",
      "    raise ValueError(\n",
      "ValueError: Solver lbfgs supports only 'l2' or 'none' penalties, got l1 penalty.\n",
      "\n",
      "--------------------------------------------------------------------------------\n",
      "25 fits failed with the following error:\n",
      "Traceback (most recent call last):\n",
      "  File \"/Users/johannakruger/neuefische/Modellbauer/.venv/lib/python3.9/site-packages/sklearn/model_selection/_validation.py\", line 686, in _fit_and_score\n",
      "    estimator.fit(X_train, y_train, **fit_params)\n",
      "  File \"/Users/johannakruger/neuefische/Modellbauer/.venv/lib/python3.9/site-packages/sklearn/pipeline.py\", line 405, in fit\n",
      "    self._final_estimator.fit(Xt, y, **fit_params_last_step)\n",
      "  File \"/Users/johannakruger/neuefische/Modellbauer/.venv/lib/python3.9/site-packages/sklearn/linear_model/_logistic.py\", line 1162, in fit\n",
      "    solver = _check_solver(self.solver, self.penalty, self.dual)\n",
      "  File \"/Users/johannakruger/neuefische/Modellbauer/.venv/lib/python3.9/site-packages/sklearn/linear_model/_logistic.py\", line 54, in _check_solver\n",
      "    raise ValueError(\n",
      "ValueError: Solver sag supports only 'l2' or 'none' penalties, got l1 penalty.\n",
      "\n",
      "  warnings.warn(some_fits_failed_message, FitFailedWarning)\n",
      "/Users/johannakruger/neuefische/Modellbauer/.venv/lib/python3.9/site-packages/sklearn/model_selection/_search.py:952: UserWarning: One or more of the test scores are non-finite: [0.72585905        nan        nan 0.81615178 0.81888898 0.81888898\n",
      " 0.8663343         nan        nan 0.86520069 0.86513404 0.86513404\n",
      " 0.86432887        nan        nan 0.86561528 0.86558318 0.86558318\n",
      " 0.86549186        nan        nan 0.86572187 0.86572187 0.86572187\n",
      " 0.86517094        nan        nan 0.86538491 0.86538491 0.86538491]\n",
      "  warnings.warn(\n"
     ]
    },
    {
     "data": {
      "text/html": [
       "<style>#sk-container-id-1 {color: black;background-color: white;}#sk-container-id-1 pre{padding: 0;}#sk-container-id-1 div.sk-toggleable {background-color: white;}#sk-container-id-1 label.sk-toggleable__label {cursor: pointer;display: block;width: 100%;margin-bottom: 0;padding: 0.3em;box-sizing: border-box;text-align: center;}#sk-container-id-1 label.sk-toggleable__label-arrow:before {content: \"▸\";float: left;margin-right: 0.25em;color: #696969;}#sk-container-id-1 label.sk-toggleable__label-arrow:hover:before {color: black;}#sk-container-id-1 div.sk-estimator:hover label.sk-toggleable__label-arrow:before {color: black;}#sk-container-id-1 div.sk-toggleable__content {max-height: 0;max-width: 0;overflow: hidden;text-align: left;background-color: #f0f8ff;}#sk-container-id-1 div.sk-toggleable__content pre {margin: 0.2em;color: black;border-radius: 0.25em;background-color: #f0f8ff;}#sk-container-id-1 input.sk-toggleable__control:checked~div.sk-toggleable__content {max-height: 200px;max-width: 100%;overflow: auto;}#sk-container-id-1 input.sk-toggleable__control:checked~label.sk-toggleable__label-arrow:before {content: \"▾\";}#sk-container-id-1 div.sk-estimator input.sk-toggleable__control:checked~label.sk-toggleable__label {background-color: #d4ebff;}#sk-container-id-1 div.sk-label input.sk-toggleable__control:checked~label.sk-toggleable__label {background-color: #d4ebff;}#sk-container-id-1 input.sk-hidden--visually {border: 0;clip: rect(1px 1px 1px 1px);clip: rect(1px, 1px, 1px, 1px);height: 1px;margin: -1px;overflow: hidden;padding: 0;position: absolute;width: 1px;}#sk-container-id-1 div.sk-estimator {font-family: monospace;background-color: #f0f8ff;border: 1px dotted black;border-radius: 0.25em;box-sizing: border-box;margin-bottom: 0.5em;}#sk-container-id-1 div.sk-estimator:hover {background-color: #d4ebff;}#sk-container-id-1 div.sk-parallel-item::after {content: \"\";width: 100%;border-bottom: 1px solid gray;flex-grow: 1;}#sk-container-id-1 div.sk-label:hover label.sk-toggleable__label {background-color: #d4ebff;}#sk-container-id-1 div.sk-serial::before {content: \"\";position: absolute;border-left: 1px solid gray;box-sizing: border-box;top: 0;bottom: 0;left: 50%;z-index: 0;}#sk-container-id-1 div.sk-serial {display: flex;flex-direction: column;align-items: center;background-color: white;padding-right: 0.2em;padding-left: 0.2em;position: relative;}#sk-container-id-1 div.sk-item {position: relative;z-index: 1;}#sk-container-id-1 div.sk-parallel {display: flex;align-items: stretch;justify-content: center;background-color: white;position: relative;}#sk-container-id-1 div.sk-item::before, #sk-container-id-1 div.sk-parallel-item::before {content: \"\";position: absolute;border-left: 1px solid gray;box-sizing: border-box;top: 0;bottom: 0;left: 50%;z-index: -1;}#sk-container-id-1 div.sk-parallel-item {display: flex;flex-direction: column;z-index: 1;position: relative;background-color: white;}#sk-container-id-1 div.sk-parallel-item:first-child::after {align-self: flex-end;width: 50%;}#sk-container-id-1 div.sk-parallel-item:last-child::after {align-self: flex-start;width: 50%;}#sk-container-id-1 div.sk-parallel-item:only-child::after {width: 0;}#sk-container-id-1 div.sk-dashed-wrapped {border: 1px dashed gray;margin: 0 0.4em 0.5em 0.4em;box-sizing: border-box;padding-bottom: 0.4em;background-color: white;}#sk-container-id-1 div.sk-label label {font-family: monospace;font-weight: bold;display: inline-block;line-height: 1.2em;}#sk-container-id-1 div.sk-label-container {text-align: center;}#sk-container-id-1 div.sk-container {/* jupyter's `normalize.less` sets `[hidden] { display: none; }` but bootstrap.min.css set `[hidden] { display: none !important; }` so we also need the `!important` here to be able to override the default hidden behavior on the sphinx rendered scikit-learn.org. See: https://github.com/scikit-learn/scikit-learn/issues/21755 */display: inline-block !important;position: relative;}#sk-container-id-1 div.sk-text-repr-fallback {display: none;}</style><div id=\"sk-container-id-1\" class=\"sk-top-container\"><div class=\"sk-text-repr-fallback\"><pre>GridSearchCV(cv=5,\n",
       "             estimator=Pipeline(steps=[(&#x27;preprocessor&#x27;,\n",
       "                                        ColumnTransformer(transformers=[(&#x27;num&#x27;,\n",
       "                                                                         Pipeline(steps=[(&#x27;std_scaler&#x27;,\n",
       "                                                                                          StandardScaler())]),\n",
       "                                                                         [&#x27;host_response_rate&#x27;,\n",
       "                                                                          &#x27;host_acceptance_rate&#x27;,\n",
       "                                                                          &#x27;host_is_superhost&#x27;,\n",
       "                                                                          &#x27;host_listings_count&#x27;,\n",
       "                                                                          &#x27;host_has_profile_pic&#x27;,\n",
       "                                                                          &#x27;host_identity_verified&#x27;,\n",
       "                                                                          &#x27;accommodates&#x27;,\n",
       "                                                                          &#x27;bedrooms&#x27;,\n",
       "                                                                          &#x27;price&#x27;,\n",
       "                                                                          &#x27;minimum_nights&#x27;,\n",
       "                                                                          &#x27;maximum_nights...\n",
       "                                                                         Pipeline(steps=[(&#x27;1hot&#x27;,\n",
       "                                                                                          OneHotEncoder(handle_unknown=&#x27;ignore&#x27;))]),\n",
       "                                                                         [&#x27;host_response_time&#x27;,\n",
       "                                                                          &#x27;neighbourhood_group_cleansed&#x27;,\n",
       "                                                                          &#x27;room_type&#x27;,\n",
       "                                                                          &#x27;host_type&#x27;])])),\n",
       "                                       (&#x27;logreg&#x27;,\n",
       "                                        LogisticRegression(max_iter=1000))]),\n",
       "             n_jobs=-1,\n",
       "             param_grid={&#x27;logreg__C&#x27;: [0.001, 0.01, 0.1, 1, 10],\n",
       "                         &#x27;logreg__penalty&#x27;: (&#x27;l1&#x27;, &#x27;l2&#x27;),\n",
       "                         &#x27;logreg__solver&#x27;: [&#x27;liblinear&#x27;, &#x27;lbfgs&#x27;, &#x27;sag&#x27;]},\n",
       "             scoring=&#x27;precision&#x27;, verbose=5)</pre><b>In a Jupyter environment, please rerun this cell to show the HTML representation or trust the notebook. <br />On GitHub, the HTML representation is unable to render, please try loading this page with nbviewer.org.</b></div><div class=\"sk-container\" hidden><div class=\"sk-item sk-dashed-wrapped\"><div class=\"sk-label-container\"><div class=\"sk-label sk-toggleable\"><input class=\"sk-toggleable__control sk-hidden--visually\" id=\"sk-estimator-id-1\" type=\"checkbox\" ><label for=\"sk-estimator-id-1\" class=\"sk-toggleable__label sk-toggleable__label-arrow\">GridSearchCV</label><div class=\"sk-toggleable__content\"><pre>GridSearchCV(cv=5,\n",
       "             estimator=Pipeline(steps=[(&#x27;preprocessor&#x27;,\n",
       "                                        ColumnTransformer(transformers=[(&#x27;num&#x27;,\n",
       "                                                                         Pipeline(steps=[(&#x27;std_scaler&#x27;,\n",
       "                                                                                          StandardScaler())]),\n",
       "                                                                         [&#x27;host_response_rate&#x27;,\n",
       "                                                                          &#x27;host_acceptance_rate&#x27;,\n",
       "                                                                          &#x27;host_is_superhost&#x27;,\n",
       "                                                                          &#x27;host_listings_count&#x27;,\n",
       "                                                                          &#x27;host_has_profile_pic&#x27;,\n",
       "                                                                          &#x27;host_identity_verified&#x27;,\n",
       "                                                                          &#x27;accommodates&#x27;,\n",
       "                                                                          &#x27;bedrooms&#x27;,\n",
       "                                                                          &#x27;price&#x27;,\n",
       "                                                                          &#x27;minimum_nights&#x27;,\n",
       "                                                                          &#x27;maximum_nights...\n",
       "                                                                         Pipeline(steps=[(&#x27;1hot&#x27;,\n",
       "                                                                                          OneHotEncoder(handle_unknown=&#x27;ignore&#x27;))]),\n",
       "                                                                         [&#x27;host_response_time&#x27;,\n",
       "                                                                          &#x27;neighbourhood_group_cleansed&#x27;,\n",
       "                                                                          &#x27;room_type&#x27;,\n",
       "                                                                          &#x27;host_type&#x27;])])),\n",
       "                                       (&#x27;logreg&#x27;,\n",
       "                                        LogisticRegression(max_iter=1000))]),\n",
       "             n_jobs=-1,\n",
       "             param_grid={&#x27;logreg__C&#x27;: [0.001, 0.01, 0.1, 1, 10],\n",
       "                         &#x27;logreg__penalty&#x27;: (&#x27;l1&#x27;, &#x27;l2&#x27;),\n",
       "                         &#x27;logreg__solver&#x27;: [&#x27;liblinear&#x27;, &#x27;lbfgs&#x27;, &#x27;sag&#x27;]},\n",
       "             scoring=&#x27;precision&#x27;, verbose=5)</pre></div></div></div><div class=\"sk-parallel\"><div class=\"sk-parallel-item\"><div class=\"sk-item\"><div class=\"sk-label-container\"><div class=\"sk-label sk-toggleable\"><input class=\"sk-toggleable__control sk-hidden--visually\" id=\"sk-estimator-id-2\" type=\"checkbox\" ><label for=\"sk-estimator-id-2\" class=\"sk-toggleable__label sk-toggleable__label-arrow\">estimator: Pipeline</label><div class=\"sk-toggleable__content\"><pre>Pipeline(steps=[(&#x27;preprocessor&#x27;,\n",
       "                 ColumnTransformer(transformers=[(&#x27;num&#x27;,\n",
       "                                                  Pipeline(steps=[(&#x27;std_scaler&#x27;,\n",
       "                                                                   StandardScaler())]),\n",
       "                                                  [&#x27;host_response_rate&#x27;,\n",
       "                                                   &#x27;host_acceptance_rate&#x27;,\n",
       "                                                   &#x27;host_is_superhost&#x27;,\n",
       "                                                   &#x27;host_listings_count&#x27;,\n",
       "                                                   &#x27;host_has_profile_pic&#x27;,\n",
       "                                                   &#x27;host_identity_verified&#x27;,\n",
       "                                                   &#x27;accommodates&#x27;, &#x27;bedrooms&#x27;,\n",
       "                                                   &#x27;price&#x27;, &#x27;minimum_nights&#x27;,\n",
       "                                                   &#x27;maximum_nights&#x27;,\n",
       "                                                   &#x27;has_availability&#x27;,\n",
       "                                                   &#x27;number_of_reviews&#x27;,\n",
       "                                                   &#x27;license&#x27;,\n",
       "                                                   &#x27;instant_bookable&#x27;]),\n",
       "                                                 (&#x27;cat&#x27;,\n",
       "                                                  Pipeline(steps=[(&#x27;1hot&#x27;,\n",
       "                                                                   OneHotEncoder(handle_unknown=&#x27;ignore&#x27;))]),\n",
       "                                                  [&#x27;host_response_time&#x27;,\n",
       "                                                   &#x27;neighbourhood_group_cleansed&#x27;,\n",
       "                                                   &#x27;room_type&#x27;,\n",
       "                                                   &#x27;host_type&#x27;])])),\n",
       "                (&#x27;logreg&#x27;, LogisticRegression(max_iter=1000))])</pre></div></div></div><div class=\"sk-serial\"><div class=\"sk-item\"><div class=\"sk-serial\"><div class=\"sk-item sk-dashed-wrapped\"><div class=\"sk-label-container\"><div class=\"sk-label sk-toggleable\"><input class=\"sk-toggleable__control sk-hidden--visually\" id=\"sk-estimator-id-3\" type=\"checkbox\" ><label for=\"sk-estimator-id-3\" class=\"sk-toggleable__label sk-toggleable__label-arrow\">preprocessor: ColumnTransformer</label><div class=\"sk-toggleable__content\"><pre>ColumnTransformer(transformers=[(&#x27;num&#x27;,\n",
       "                                 Pipeline(steps=[(&#x27;std_scaler&#x27;,\n",
       "                                                  StandardScaler())]),\n",
       "                                 [&#x27;host_response_rate&#x27;, &#x27;host_acceptance_rate&#x27;,\n",
       "                                  &#x27;host_is_superhost&#x27;, &#x27;host_listings_count&#x27;,\n",
       "                                  &#x27;host_has_profile_pic&#x27;,\n",
       "                                  &#x27;host_identity_verified&#x27;, &#x27;accommodates&#x27;,\n",
       "                                  &#x27;bedrooms&#x27;, &#x27;price&#x27;, &#x27;minimum_nights&#x27;,\n",
       "                                  &#x27;maximum_nights&#x27;, &#x27;has_availability&#x27;,\n",
       "                                  &#x27;number_of_reviews&#x27;, &#x27;license&#x27;,\n",
       "                                  &#x27;instant_bookable&#x27;]),\n",
       "                                (&#x27;cat&#x27;,\n",
       "                                 Pipeline(steps=[(&#x27;1hot&#x27;,\n",
       "                                                  OneHotEncoder(handle_unknown=&#x27;ignore&#x27;))]),\n",
       "                                 [&#x27;host_response_time&#x27;,\n",
       "                                  &#x27;neighbourhood_group_cleansed&#x27;, &#x27;room_type&#x27;,\n",
       "                                  &#x27;host_type&#x27;])])</pre></div></div></div><div class=\"sk-parallel\"><div class=\"sk-parallel-item\"><div class=\"sk-item\"><div class=\"sk-label-container\"><div class=\"sk-label sk-toggleable\"><input class=\"sk-toggleable__control sk-hidden--visually\" id=\"sk-estimator-id-4\" type=\"checkbox\" ><label for=\"sk-estimator-id-4\" class=\"sk-toggleable__label sk-toggleable__label-arrow\">num</label><div class=\"sk-toggleable__content\"><pre>[&#x27;host_response_rate&#x27;, &#x27;host_acceptance_rate&#x27;, &#x27;host_is_superhost&#x27;, &#x27;host_listings_count&#x27;, &#x27;host_has_profile_pic&#x27;, &#x27;host_identity_verified&#x27;, &#x27;accommodates&#x27;, &#x27;bedrooms&#x27;, &#x27;price&#x27;, &#x27;minimum_nights&#x27;, &#x27;maximum_nights&#x27;, &#x27;has_availability&#x27;, &#x27;number_of_reviews&#x27;, &#x27;license&#x27;, &#x27;instant_bookable&#x27;]</pre></div></div></div><div class=\"sk-serial\"><div class=\"sk-item\"><div class=\"sk-serial\"><div class=\"sk-item\"><div class=\"sk-estimator sk-toggleable\"><input class=\"sk-toggleable__control sk-hidden--visually\" id=\"sk-estimator-id-5\" type=\"checkbox\" ><label for=\"sk-estimator-id-5\" class=\"sk-toggleable__label sk-toggleable__label-arrow\">StandardScaler</label><div class=\"sk-toggleable__content\"><pre>StandardScaler()</pre></div></div></div></div></div></div></div></div><div class=\"sk-parallel-item\"><div class=\"sk-item\"><div class=\"sk-label-container\"><div class=\"sk-label sk-toggleable\"><input class=\"sk-toggleable__control sk-hidden--visually\" id=\"sk-estimator-id-6\" type=\"checkbox\" ><label for=\"sk-estimator-id-6\" class=\"sk-toggleable__label sk-toggleable__label-arrow\">cat</label><div class=\"sk-toggleable__content\"><pre>[&#x27;host_response_time&#x27;, &#x27;neighbourhood_group_cleansed&#x27;, &#x27;room_type&#x27;, &#x27;host_type&#x27;]</pre></div></div></div><div class=\"sk-serial\"><div class=\"sk-item\"><div class=\"sk-serial\"><div class=\"sk-item\"><div class=\"sk-estimator sk-toggleable\"><input class=\"sk-toggleable__control sk-hidden--visually\" id=\"sk-estimator-id-7\" type=\"checkbox\" ><label for=\"sk-estimator-id-7\" class=\"sk-toggleable__label sk-toggleable__label-arrow\">OneHotEncoder</label><div class=\"sk-toggleable__content\"><pre>OneHotEncoder(handle_unknown=&#x27;ignore&#x27;)</pre></div></div></div></div></div></div></div></div></div></div><div class=\"sk-item\"><div class=\"sk-estimator sk-toggleable\"><input class=\"sk-toggleable__control sk-hidden--visually\" id=\"sk-estimator-id-8\" type=\"checkbox\" ><label for=\"sk-estimator-id-8\" class=\"sk-toggleable__label sk-toggleable__label-arrow\">LogisticRegression</label><div class=\"sk-toggleable__content\"><pre>LogisticRegression(max_iter=1000)</pre></div></div></div></div></div></div></div></div></div></div></div></div>"
      ],
      "text/plain": [
       "GridSearchCV(cv=5,\n",
       "             estimator=Pipeline(steps=[('preprocessor',\n",
       "                                        ColumnTransformer(transformers=[('num',\n",
       "                                                                         Pipeline(steps=[('std_scaler',\n",
       "                                                                                          StandardScaler())]),\n",
       "                                                                         ['host_response_rate',\n",
       "                                                                          'host_acceptance_rate',\n",
       "                                                                          'host_is_superhost',\n",
       "                                                                          'host_listings_count',\n",
       "                                                                          'host_has_profile_pic',\n",
       "                                                                          'host_identity_verified',\n",
       "                                                                          'accommodates',\n",
       "                                                                          'bedrooms',\n",
       "                                                                          'price',\n",
       "                                                                          'minimum_nights',\n",
       "                                                                          'maximum_nights...\n",
       "                                                                         Pipeline(steps=[('1hot',\n",
       "                                                                                          OneHotEncoder(handle_unknown='ignore'))]),\n",
       "                                                                         ['host_response_time',\n",
       "                                                                          'neighbourhood_group_cleansed',\n",
       "                                                                          'room_type',\n",
       "                                                                          'host_type'])])),\n",
       "                                       ('logreg',\n",
       "                                        LogisticRegression(max_iter=1000))]),\n",
       "             n_jobs=-1,\n",
       "             param_grid={'logreg__C': [0.001, 0.01, 0.1, 1, 10],\n",
       "                         'logreg__penalty': ('l1', 'l2'),\n",
       "                         'logreg__solver': ['liblinear', 'lbfgs', 'sag']},\n",
       "             scoring='precision', verbose=5)"
      ]
     },
     "execution_count": 39,
     "metadata": {},
     "output_type": "execute_result"
    }
   ],
   "source": [
    "grid_logreg_bl.fit(X_train, y_train)"
   ]
  },
  {
   "cell_type": "code",
   "execution_count": 40,
   "id": "74cefbd0-b698-48de-bbf8-e4b201d17257",
   "metadata": {
    "tags": []
   },
   "outputs": [
    {
     "name": "stdout",
     "output_type": "stream",
     "text": [
      "Best score:\n",
      "0.87\n",
      "Best parameters:\n",
      "{'logreg__C': 0.01, 'logreg__penalty': 'l1', 'logreg__solver': 'liblinear'}\n"
     ]
    }
   ],
   "source": [
    "print('Best score:\\n{:.2f}'.format(grid_logreg_bl.best_score_))\n",
    "print(\"Best parameters:\\n{}\".format(grid_logreg_bl.best_params_))"
   ]
  },
  {
   "cell_type": "code",
   "execution_count": 41,
   "id": "d1a3ef61-4b17-4330-903e-ae4b8b777522",
   "metadata": {
    "tags": []
   },
   "outputs": [
    {
     "data": {
      "text/html": [
       "<style>#sk-container-id-2 {color: black;background-color: white;}#sk-container-id-2 pre{padding: 0;}#sk-container-id-2 div.sk-toggleable {background-color: white;}#sk-container-id-2 label.sk-toggleable__label {cursor: pointer;display: block;width: 100%;margin-bottom: 0;padding: 0.3em;box-sizing: border-box;text-align: center;}#sk-container-id-2 label.sk-toggleable__label-arrow:before {content: \"▸\";float: left;margin-right: 0.25em;color: #696969;}#sk-container-id-2 label.sk-toggleable__label-arrow:hover:before {color: black;}#sk-container-id-2 div.sk-estimator:hover label.sk-toggleable__label-arrow:before {color: black;}#sk-container-id-2 div.sk-toggleable__content {max-height: 0;max-width: 0;overflow: hidden;text-align: left;background-color: #f0f8ff;}#sk-container-id-2 div.sk-toggleable__content pre {margin: 0.2em;color: black;border-radius: 0.25em;background-color: #f0f8ff;}#sk-container-id-2 input.sk-toggleable__control:checked~div.sk-toggleable__content {max-height: 200px;max-width: 100%;overflow: auto;}#sk-container-id-2 input.sk-toggleable__control:checked~label.sk-toggleable__label-arrow:before {content: \"▾\";}#sk-container-id-2 div.sk-estimator input.sk-toggleable__control:checked~label.sk-toggleable__label {background-color: #d4ebff;}#sk-container-id-2 div.sk-label input.sk-toggleable__control:checked~label.sk-toggleable__label {background-color: #d4ebff;}#sk-container-id-2 input.sk-hidden--visually {border: 0;clip: rect(1px 1px 1px 1px);clip: rect(1px, 1px, 1px, 1px);height: 1px;margin: -1px;overflow: hidden;padding: 0;position: absolute;width: 1px;}#sk-container-id-2 div.sk-estimator {font-family: monospace;background-color: #f0f8ff;border: 1px dotted black;border-radius: 0.25em;box-sizing: border-box;margin-bottom: 0.5em;}#sk-container-id-2 div.sk-estimator:hover {background-color: #d4ebff;}#sk-container-id-2 div.sk-parallel-item::after {content: \"\";width: 100%;border-bottom: 1px solid gray;flex-grow: 1;}#sk-container-id-2 div.sk-label:hover label.sk-toggleable__label {background-color: #d4ebff;}#sk-container-id-2 div.sk-serial::before {content: \"\";position: absolute;border-left: 1px solid gray;box-sizing: border-box;top: 0;bottom: 0;left: 50%;z-index: 0;}#sk-container-id-2 div.sk-serial {display: flex;flex-direction: column;align-items: center;background-color: white;padding-right: 0.2em;padding-left: 0.2em;position: relative;}#sk-container-id-2 div.sk-item {position: relative;z-index: 1;}#sk-container-id-2 div.sk-parallel {display: flex;align-items: stretch;justify-content: center;background-color: white;position: relative;}#sk-container-id-2 div.sk-item::before, #sk-container-id-2 div.sk-parallel-item::before {content: \"\";position: absolute;border-left: 1px solid gray;box-sizing: border-box;top: 0;bottom: 0;left: 50%;z-index: -1;}#sk-container-id-2 div.sk-parallel-item {display: flex;flex-direction: column;z-index: 1;position: relative;background-color: white;}#sk-container-id-2 div.sk-parallel-item:first-child::after {align-self: flex-end;width: 50%;}#sk-container-id-2 div.sk-parallel-item:last-child::after {align-self: flex-start;width: 50%;}#sk-container-id-2 div.sk-parallel-item:only-child::after {width: 0;}#sk-container-id-2 div.sk-dashed-wrapped {border: 1px dashed gray;margin: 0 0.4em 0.5em 0.4em;box-sizing: border-box;padding-bottom: 0.4em;background-color: white;}#sk-container-id-2 div.sk-label label {font-family: monospace;font-weight: bold;display: inline-block;line-height: 1.2em;}#sk-container-id-2 div.sk-label-container {text-align: center;}#sk-container-id-2 div.sk-container {/* jupyter's `normalize.less` sets `[hidden] { display: none; }` but bootstrap.min.css set `[hidden] { display: none !important; }` so we also need the `!important` here to be able to override the default hidden behavior on the sphinx rendered scikit-learn.org. See: https://github.com/scikit-learn/scikit-learn/issues/21755 */display: inline-block !important;position: relative;}#sk-container-id-2 div.sk-text-repr-fallback {display: none;}</style><div id=\"sk-container-id-2\" class=\"sk-top-container\"><div class=\"sk-text-repr-fallback\"><pre>Pipeline(steps=[(&#x27;preprocessor&#x27;,\n",
       "                 ColumnTransformer(transformers=[(&#x27;num&#x27;,\n",
       "                                                  Pipeline(steps=[(&#x27;std_scaler&#x27;,\n",
       "                                                                   StandardScaler())]),\n",
       "                                                  [&#x27;host_response_rate&#x27;,\n",
       "                                                   &#x27;host_acceptance_rate&#x27;,\n",
       "                                                   &#x27;host_is_superhost&#x27;,\n",
       "                                                   &#x27;host_listings_count&#x27;,\n",
       "                                                   &#x27;host_has_profile_pic&#x27;,\n",
       "                                                   &#x27;host_identity_verified&#x27;,\n",
       "                                                   &#x27;accommodates&#x27;, &#x27;bedrooms&#x27;,\n",
       "                                                   &#x27;price&#x27;, &#x27;minimum_nights&#x27;,\n",
       "                                                   &#x27;maximum_nights&#x27;,\n",
       "                                                   &#x27;has_availability&#x27;,\n",
       "                                                   &#x27;number_of_reviews&#x27;,\n",
       "                                                   &#x27;license&#x27;,\n",
       "                                                   &#x27;instant_bookable&#x27;]),\n",
       "                                                 (&#x27;cat&#x27;,\n",
       "                                                  Pipeline(steps=[(&#x27;1hot&#x27;,\n",
       "                                                                   OneHotEncoder(handle_unknown=&#x27;ignore&#x27;))]),\n",
       "                                                  [&#x27;host_response_time&#x27;,\n",
       "                                                   &#x27;neighbourhood_group_cleansed&#x27;,\n",
       "                                                   &#x27;room_type&#x27;,\n",
       "                                                   &#x27;host_type&#x27;])])),\n",
       "                (&#x27;logreg&#x27;,\n",
       "                 LogisticRegression(C=0.01, max_iter=1000, penalty=&#x27;l1&#x27;,\n",
       "                                    solver=&#x27;liblinear&#x27;))])</pre><b>In a Jupyter environment, please rerun this cell to show the HTML representation or trust the notebook. <br />On GitHub, the HTML representation is unable to render, please try loading this page with nbviewer.org.</b></div><div class=\"sk-container\" hidden><div class=\"sk-item sk-dashed-wrapped\"><div class=\"sk-label-container\"><div class=\"sk-label sk-toggleable\"><input class=\"sk-toggleable__control sk-hidden--visually\" id=\"sk-estimator-id-9\" type=\"checkbox\" ><label for=\"sk-estimator-id-9\" class=\"sk-toggleable__label sk-toggleable__label-arrow\">Pipeline</label><div class=\"sk-toggleable__content\"><pre>Pipeline(steps=[(&#x27;preprocessor&#x27;,\n",
       "                 ColumnTransformer(transformers=[(&#x27;num&#x27;,\n",
       "                                                  Pipeline(steps=[(&#x27;std_scaler&#x27;,\n",
       "                                                                   StandardScaler())]),\n",
       "                                                  [&#x27;host_response_rate&#x27;,\n",
       "                                                   &#x27;host_acceptance_rate&#x27;,\n",
       "                                                   &#x27;host_is_superhost&#x27;,\n",
       "                                                   &#x27;host_listings_count&#x27;,\n",
       "                                                   &#x27;host_has_profile_pic&#x27;,\n",
       "                                                   &#x27;host_identity_verified&#x27;,\n",
       "                                                   &#x27;accommodates&#x27;, &#x27;bedrooms&#x27;,\n",
       "                                                   &#x27;price&#x27;, &#x27;minimum_nights&#x27;,\n",
       "                                                   &#x27;maximum_nights&#x27;,\n",
       "                                                   &#x27;has_availability&#x27;,\n",
       "                                                   &#x27;number_of_reviews&#x27;,\n",
       "                                                   &#x27;license&#x27;,\n",
       "                                                   &#x27;instant_bookable&#x27;]),\n",
       "                                                 (&#x27;cat&#x27;,\n",
       "                                                  Pipeline(steps=[(&#x27;1hot&#x27;,\n",
       "                                                                   OneHotEncoder(handle_unknown=&#x27;ignore&#x27;))]),\n",
       "                                                  [&#x27;host_response_time&#x27;,\n",
       "                                                   &#x27;neighbourhood_group_cleansed&#x27;,\n",
       "                                                   &#x27;room_type&#x27;,\n",
       "                                                   &#x27;host_type&#x27;])])),\n",
       "                (&#x27;logreg&#x27;,\n",
       "                 LogisticRegression(C=0.01, max_iter=1000, penalty=&#x27;l1&#x27;,\n",
       "                                    solver=&#x27;liblinear&#x27;))])</pre></div></div></div><div class=\"sk-serial\"><div class=\"sk-item sk-dashed-wrapped\"><div class=\"sk-label-container\"><div class=\"sk-label sk-toggleable\"><input class=\"sk-toggleable__control sk-hidden--visually\" id=\"sk-estimator-id-10\" type=\"checkbox\" ><label for=\"sk-estimator-id-10\" class=\"sk-toggleable__label sk-toggleable__label-arrow\">preprocessor: ColumnTransformer</label><div class=\"sk-toggleable__content\"><pre>ColumnTransformer(transformers=[(&#x27;num&#x27;,\n",
       "                                 Pipeline(steps=[(&#x27;std_scaler&#x27;,\n",
       "                                                  StandardScaler())]),\n",
       "                                 [&#x27;host_response_rate&#x27;, &#x27;host_acceptance_rate&#x27;,\n",
       "                                  &#x27;host_is_superhost&#x27;, &#x27;host_listings_count&#x27;,\n",
       "                                  &#x27;host_has_profile_pic&#x27;,\n",
       "                                  &#x27;host_identity_verified&#x27;, &#x27;accommodates&#x27;,\n",
       "                                  &#x27;bedrooms&#x27;, &#x27;price&#x27;, &#x27;minimum_nights&#x27;,\n",
       "                                  &#x27;maximum_nights&#x27;, &#x27;has_availability&#x27;,\n",
       "                                  &#x27;number_of_reviews&#x27;, &#x27;license&#x27;,\n",
       "                                  &#x27;instant_bookable&#x27;]),\n",
       "                                (&#x27;cat&#x27;,\n",
       "                                 Pipeline(steps=[(&#x27;1hot&#x27;,\n",
       "                                                  OneHotEncoder(handle_unknown=&#x27;ignore&#x27;))]),\n",
       "                                 [&#x27;host_response_time&#x27;,\n",
       "                                  &#x27;neighbourhood_group_cleansed&#x27;, &#x27;room_type&#x27;,\n",
       "                                  &#x27;host_type&#x27;])])</pre></div></div></div><div class=\"sk-parallel\"><div class=\"sk-parallel-item\"><div class=\"sk-item\"><div class=\"sk-label-container\"><div class=\"sk-label sk-toggleable\"><input class=\"sk-toggleable__control sk-hidden--visually\" id=\"sk-estimator-id-11\" type=\"checkbox\" ><label for=\"sk-estimator-id-11\" class=\"sk-toggleable__label sk-toggleable__label-arrow\">num</label><div class=\"sk-toggleable__content\"><pre>[&#x27;host_response_rate&#x27;, &#x27;host_acceptance_rate&#x27;, &#x27;host_is_superhost&#x27;, &#x27;host_listings_count&#x27;, &#x27;host_has_profile_pic&#x27;, &#x27;host_identity_verified&#x27;, &#x27;accommodates&#x27;, &#x27;bedrooms&#x27;, &#x27;price&#x27;, &#x27;minimum_nights&#x27;, &#x27;maximum_nights&#x27;, &#x27;has_availability&#x27;, &#x27;number_of_reviews&#x27;, &#x27;license&#x27;, &#x27;instant_bookable&#x27;]</pre></div></div></div><div class=\"sk-serial\"><div class=\"sk-item\"><div class=\"sk-serial\"><div class=\"sk-item\"><div class=\"sk-estimator sk-toggleable\"><input class=\"sk-toggleable__control sk-hidden--visually\" id=\"sk-estimator-id-12\" type=\"checkbox\" ><label for=\"sk-estimator-id-12\" class=\"sk-toggleable__label sk-toggleable__label-arrow\">StandardScaler</label><div class=\"sk-toggleable__content\"><pre>StandardScaler()</pre></div></div></div></div></div></div></div></div><div class=\"sk-parallel-item\"><div class=\"sk-item\"><div class=\"sk-label-container\"><div class=\"sk-label sk-toggleable\"><input class=\"sk-toggleable__control sk-hidden--visually\" id=\"sk-estimator-id-13\" type=\"checkbox\" ><label for=\"sk-estimator-id-13\" class=\"sk-toggleable__label sk-toggleable__label-arrow\">cat</label><div class=\"sk-toggleable__content\"><pre>[&#x27;host_response_time&#x27;, &#x27;neighbourhood_group_cleansed&#x27;, &#x27;room_type&#x27;, &#x27;host_type&#x27;]</pre></div></div></div><div class=\"sk-serial\"><div class=\"sk-item\"><div class=\"sk-serial\"><div class=\"sk-item\"><div class=\"sk-estimator sk-toggleable\"><input class=\"sk-toggleable__control sk-hidden--visually\" id=\"sk-estimator-id-14\" type=\"checkbox\" ><label for=\"sk-estimator-id-14\" class=\"sk-toggleable__label sk-toggleable__label-arrow\">OneHotEncoder</label><div class=\"sk-toggleable__content\"><pre>OneHotEncoder(handle_unknown=&#x27;ignore&#x27;)</pre></div></div></div></div></div></div></div></div></div></div><div class=\"sk-item\"><div class=\"sk-estimator sk-toggleable\"><input class=\"sk-toggleable__control sk-hidden--visually\" id=\"sk-estimator-id-15\" type=\"checkbox\" ><label for=\"sk-estimator-id-15\" class=\"sk-toggleable__label sk-toggleable__label-arrow\">LogisticRegression</label><div class=\"sk-toggleable__content\"><pre>LogisticRegression(C=0.01, max_iter=1000, penalty=&#x27;l1&#x27;, solver=&#x27;liblinear&#x27;)</pre></div></div></div></div></div></div></div>"
      ],
      "text/plain": [
       "Pipeline(steps=[('preprocessor',\n",
       "                 ColumnTransformer(transformers=[('num',\n",
       "                                                  Pipeline(steps=[('std_scaler',\n",
       "                                                                   StandardScaler())]),\n",
       "                                                  ['host_response_rate',\n",
       "                                                   'host_acceptance_rate',\n",
       "                                                   'host_is_superhost',\n",
       "                                                   'host_listings_count',\n",
       "                                                   'host_has_profile_pic',\n",
       "                                                   'host_identity_verified',\n",
       "                                                   'accommodates', 'bedrooms',\n",
       "                                                   'price', 'minimum_nights',\n",
       "                                                   'maximum_nights',\n",
       "                                                   'has_availability',\n",
       "                                                   'number_of_reviews',\n",
       "                                                   'license',\n",
       "                                                   'instant_bookable']),\n",
       "                                                 ('cat',\n",
       "                                                  Pipeline(steps=[('1hot',\n",
       "                                                                   OneHotEncoder(handle_unknown='ignore'))]),\n",
       "                                                  ['host_response_time',\n",
       "                                                   'neighbourhood_group_cleansed',\n",
       "                                                   'room_type',\n",
       "                                                   'host_type'])])),\n",
       "                ('logreg',\n",
       "                 LogisticRegression(C=0.01, max_iter=1000, penalty='l1',\n",
       "                                    solver='liblinear'))])"
      ]
     },
     "execution_count": 41,
     "metadata": {},
     "output_type": "execute_result"
    }
   ],
   "source": [
    "baselinemodel = grid_logreg_bl.best_estimator_\n",
    "baselinemodel"
   ]
  },
  {
   "cell_type": "code",
   "execution_count": 42,
   "id": "12ad4f36-18f7-4e2c-a63f-4eecb0312f7d",
   "metadata": {
    "tags": []
   },
   "outputs": [
    {
     "name": "stdout",
     "output_type": "stream",
     "text": [
      "Accuracy: 0.86\n",
      "Recall: 0.81\n",
      "Precision: 0.87\n"
     ]
    }
   ],
   "source": [
    "y_test_predicted_bl = baselinemodel.predict(X_test)\n",
    "print(\"Accuracy: {:.2f}\".format(accuracy_score(y_test, y_test_predicted_bl)))\n",
    "print(\"Recall: {:.2f}\".format(recall_score(y_test, y_test_predicted_bl)))\n",
    "print(\"Precision: {:.2f}\".format(precision_score(y_test, y_test_predicted_bl)))"
   ]
  },
  {
   "cell_type": "code",
   "execution_count": 43,
   "id": "f9c5616c-0f8e-4c2f-bd87-9791454e02c6",
   "metadata": {
    "tags": []
   },
   "outputs": [],
   "source": [
    "%matplotlib inline\n",
    "cfm_bl = confusion_matrix(y_test, y_test_predicted_bl)\n",
    "group_names = ['True Neg','False Pos','False Neg','True Pos']\n",
    "group_counts = ['{0:0.0f}'.format(value) for value in\n",
    "                cfm_bl.flatten()]\n",
    "group_percentages = ['{0:.2%}'.format(value) for value in\n",
    "                     cfm_bl.flatten()/np.sum(cfm_bl)]\n",
    "labels = [f'{v1}\\n{v2}\\n{v3}' for v1, v2, v3 in\n",
    "          zip(group_names,group_counts,group_percentages)]\n",
    "labels = np.asarray(labels).reshape(2,2)\n",
    "sns.heatmap(cfm_bl, annot=labels, fmt='', cmap=c2);"
   ]
  },
  {
   "cell_type": "code",
   "execution_count": 44,
   "id": "3621558e-a44e-450b-8909-2681ae5f5090",
   "metadata": {
    "tags": []
   },
   "outputs": [],
   "source": [
    "y_test_proba_bl = baselinemodel.predict_proba(X_test)"
   ]
  },
  {
   "cell_type": "code",
   "execution_count": 45,
   "id": "93d2c1ea-01b1-438f-accd-992772cd86fc",
   "metadata": {
    "tags": []
   },
   "outputs": [],
   "source": [
    "y_test_proba_bl = y_test_proba_bl[:,1]"
   ]
  },
  {
   "cell_type": "code",
   "execution_count": 46,
   "id": "0b091ee0-de10-4fb5-bda9-76fa61b82947",
   "metadata": {
    "tags": []
   },
   "outputs": [
    {
     "data": {
      "text/plain": [
       "0.9410523115880258"
      ]
     },
     "execution_count": 46,
     "metadata": {},
     "output_type": "execute_result"
    }
   ],
   "source": [
    "bl_auc = roc_auc_score(y_test, y_test_proba_bl)\n",
    "bl_auc"
   ]
  },
  {
   "cell_type": "code",
   "execution_count": 47,
   "id": "31c84f31-efb1-4aa2-845d-e64ce2a434fc",
   "metadata": {
    "tags": []
   },
   "outputs": [],
   "source": [
    "fprbl, tprbl, thresholdsbl = roc_curve(y_test, y_test_proba_bl)"
   ]
  },
  {
   "cell_type": "code",
   "execution_count": 48,
   "id": "9ce741b8-4729-4718-bae0-3996d79363b6",
   "metadata": {
    "tags": []
   },
   "outputs": [
    {
     "data": {
      "image/png": "[encoded data removed]",
      "text/plain": [
       "<Figure size 640x480 with 2 Axes>"
      ]
     },
     "metadata": {},
     "output_type": "display_data"
    }
   ],
   "source": [
    "%matplotlib inline\n",
    "\n",
    "from matplotlib import pyplot\n",
    "pyplot.plot(fprbl, tprbl, label='Logistic Regression', color='#8e9aaf')\n",
    "pyplot.xlabel('False Positive Rate')\n",
    "pyplot.ylabel('True Positive Rate')\n",
    "pyplot.legend()\n",
    "pyplot.show()"
   ]
  },
  {
   "cell_type": "markdown",
   "id": "08601558-35db-4fd1-8363-53673fa3df35",
   "metadata": {},
   "source": [
    "# Modelling"
   ]
  },
  {
   "cell_type": "markdown",
   "id": "e25bd39c-3c2c-4ee1-9e5d-c8786970c60e",
   "metadata": {},
   "source": [
    "## Random Forest"
   ]
  },
  {
   "cell_type": "code",
   "execution_count": 49,
   "id": "27526319-75cf-48ce-8325-889b9f33c7c8",
   "metadata": {
    "tags": []
   },
   "outputs": [
    {
     "name": "stdout",
     "output_type": "stream",
     "text": [
      "Cross validation scores:\n",
      "-------------------------\n",
      "Accuracy: 0.98\n",
      "Recall: 0.99\n",
      "Precision: 0.97\n"
     ]
    }
   ],
   "source": [
    "pipe_rf = Pipeline([\n",
    "    ('preprocessor', preprocessor),\n",
    "    ('randfor', RandomForestClassifier(random_state=RSEED))\n",
    "])\n",
    "\n",
    "y_train_predicted_rf = cross_val_predict(pipe_rf, X_train, y_train, cv=5)\n",
    "\n",
    "print('Cross validation scores:')\n",
    "print('-------------------------')\n",
    "print(\"Accuracy: {:.2f}\".format(accuracy_score(y_train, y_train_predicted_rf)))\n",
    "print(\"Recall: {:.2f}\".format(recall_score(y_train, y_train_predicted_rf)))\n",
    "print(\"Precision: {:.2f}\".format(precision_score(y_train, y_train_predicted_rf)))"
   ]
  },
  {
   "cell_type": "code",
   "execution_count": 50,
   "id": "304bcce6-71d7-4a7b-a5b9-76973899f940",
   "metadata": {
    "tags": []
   },
   "outputs": [],
   "source": [
    "param_rf_all = {'randfor__n_estimators':[100, 500, 1000, 1500, 2000],\n",
    "                'randfor__min_samples_split': [2, 5, 10, 15, 20],\n",
    "                'randfor__max_depth': [10,20,50,80,100],\n",
    "                'randfor__max_features': ['auto', 'sqrt'],\n",
    "                'randfor__min_samples_leaf' : [1,2,4],\n",
    "                'randfor__bootstrap': [True, False],\n",
    "              }"
   ]
  },
  {
   "cell_type": "markdown",
   "id": "4dc1bf55-6856-49d5-9098-88d7f577e1d3",
   "metadata": {},
   "source": [
    "Best parameters\n",
    "{'randfor__bootstrap': True, 'randfor__max_depth': 80, 'randfor__max_features': 'auto', 'randfor__min_samples_leaf': 2, 'randfor__min_samples_split': 5, 'randfor__n_estimators': 100}"
   ]
  },
  {
   "cell_type": "code",
   "execution_count": 51,
   "id": "e39056bc-90bc-4a21-8def-b4ab1a95ef36",
   "metadata": {
    "tags": []
   },
   "outputs": [],
   "source": [
    "param_rf_best = {'randfor__n_estimators':[1500],\n",
    "                'randfor__min_samples_split': [2],\n",
    "                'randfor__max_depth': [50],\n",
    "                'randfor__max_features': ['auto'],\n",
    "                'randfor__min_samples_leaf' : [1],\n",
    "                'randfor__bootstrap': [False],\n",
    "             }"
   ]
  },
  {
   "cell_type": "code",
   "execution_count": 52,
   "id": "6f71a038-16d3-448e-b528-102ee60ff544",
   "metadata": {
    "tags": []
   },
   "outputs": [
    {
     "name": "stdout",
     "output_type": "stream",
     "text": [
      "Fitting 5 folds for each of 1 candidates, totalling 5 fits\n"
     ]
    },
    {
     "name": "stderr",
     "output_type": "stream",
     "text": [
      "/Users/johannakruger/neuefische/Modellbauer/.venv/lib/python3.9/site-packages/sklearn/ensemble/_forest.py:424: FutureWarning: `max_features='auto'` has been deprecated in 1.1 and will be removed in 1.3. To keep the past behaviour, explicitly set `max_features='sqrt'` or remove this parameter as it is also the default value for RandomForestClassifiers and ExtraTreesClassifiers.\n",
      "  warn(\n",
      "/Users/johannakruger/neuefische/Modellbauer/.venv/lib/python3.9/site-packages/sklearn/ensemble/_forest.py:424: FutureWarning: `max_features='auto'` has been deprecated in 1.1 and will be removed in 1.3. To keep the past behaviour, explicitly set `max_features='sqrt'` or remove this parameter as it is also the default value for RandomForestClassifiers and ExtraTreesClassifiers.\n",
      "  warn(\n",
      "/Users/johannakruger/neuefische/Modellbauer/.venv/lib/python3.9/site-packages/sklearn/ensemble/_forest.py:424: FutureWarning: `max_features='auto'` has been deprecated in 1.1 and will be removed in 1.3. To keep the past behaviour, explicitly set `max_features='sqrt'` or remove this parameter as it is also the default value for RandomForestClassifiers and ExtraTreesClassifiers.\n",
      "  warn(\n",
      "/Users/johannakruger/neuefische/Modellbauer/.venv/lib/python3.9/site-packages/sklearn/ensemble/_forest.py:424: FutureWarning: `max_features='auto'` has been deprecated in 1.1 and will be removed in 1.3. To keep the past behaviour, explicitly set `max_features='sqrt'` or remove this parameter as it is also the default value for RandomForestClassifiers and ExtraTreesClassifiers.\n",
      "  warn(\n",
      "/Users/johannakruger/neuefische/Modellbauer/.venv/lib/python3.9/site-packages/sklearn/ensemble/_forest.py:424: FutureWarning: `max_features='auto'` has been deprecated in 1.1 and will be removed in 1.3. To keep the past behaviour, explicitly set `max_features='sqrt'` or remove this parameter as it is also the default value for RandomForestClassifiers and ExtraTreesClassifiers.\n",
      "  warn(\n",
      "/Users/johannakruger/neuefische/Modellbauer/.venv/lib/python3.9/site-packages/sklearn/ensemble/_forest.py:424: FutureWarning: `max_features='auto'` has been deprecated in 1.1 and will be removed in 1.3. To keep the past behaviour, explicitly set `max_features='sqrt'` or remove this parameter as it is also the default value for RandomForestClassifiers and ExtraTreesClassifiers.\n",
      "  warn(\n"
     ]
    },
    {
     "data": {
      "text/html": [
       "<style>#sk-container-id-3 {color: black;background-color: white;}#sk-container-id-3 pre{padding: 0;}#sk-container-id-3 div.sk-toggleable {background-color: white;}#sk-container-id-3 label.sk-toggleable__label {cursor: pointer;display: block;width: 100%;margin-bottom: 0;padding: 0.3em;box-sizing: border-box;text-align: center;}#sk-container-id-3 label.sk-toggleable__label-arrow:before {content: \"▸\";float: left;margin-right: 0.25em;color: #696969;}#sk-container-id-3 label.sk-toggleable__label-arrow:hover:before {color: black;}#sk-container-id-3 div.sk-estimator:hover label.sk-toggleable__label-arrow:before {color: black;}#sk-container-id-3 div.sk-toggleable__content {max-height: 0;max-width: 0;overflow: hidden;text-align: left;background-color: #f0f8ff;}#sk-container-id-3 div.sk-toggleable__content pre {margin: 0.2em;color: black;border-radius: 0.25em;background-color: #f0f8ff;}#sk-container-id-3 input.sk-toggleable__control:checked~div.sk-toggleable__content {max-height: 200px;max-width: 100%;overflow: auto;}#sk-container-id-3 input.sk-toggleable__control:checked~label.sk-toggleable__label-arrow:before {content: \"▾\";}#sk-container-id-3 div.sk-estimator input.sk-toggleable__control:checked~label.sk-toggleable__label {background-color: #d4ebff;}#sk-container-id-3 div.sk-label input.sk-toggleable__control:checked~label.sk-toggleable__label {background-color: #d4ebff;}#sk-container-id-3 input.sk-hidden--visually {border: 0;clip: rect(1px 1px 1px 1px);clip: rect(1px, 1px, 1px, 1px);height: 1px;margin: -1px;overflow: hidden;padding: 0;position: absolute;width: 1px;}#sk-container-id-3 div.sk-estimator {font-family: monospace;background-color: #f0f8ff;border: 1px dotted black;border-radius: 0.25em;box-sizing: border-box;margin-bottom: 0.5em;}#sk-container-id-3 div.sk-estimator:hover {background-color: #d4ebff;}#sk-container-id-3 div.sk-parallel-item::after {content: \"\";width: 100%;border-bottom: 1px solid gray;flex-grow: 1;}#sk-container-id-3 div.sk-label:hover label.sk-toggleable__label {background-color: #d4ebff;}#sk-container-id-3 div.sk-serial::before {content: \"\";position: absolute;border-left: 1px solid gray;box-sizing: border-box;top: 0;bottom: 0;left: 50%;z-index: 0;}#sk-container-id-3 div.sk-serial {display: flex;flex-direction: column;align-items: center;background-color: white;padding-right: 0.2em;padding-left: 0.2em;position: relative;}#sk-container-id-3 div.sk-item {position: relative;z-index: 1;}#sk-container-id-3 div.sk-parallel {display: flex;align-items: stretch;justify-content: center;background-color: white;position: relative;}#sk-container-id-3 div.sk-item::before, #sk-container-id-3 div.sk-parallel-item::before {content: \"\";position: absolute;border-left: 1px solid gray;box-sizing: border-box;top: 0;bottom: 0;left: 50%;z-index: -1;}#sk-container-id-3 div.sk-parallel-item {display: flex;flex-direction: column;z-index: 1;position: relative;background-color: white;}#sk-container-id-3 div.sk-parallel-item:first-child::after {align-self: flex-end;width: 50%;}#sk-container-id-3 div.sk-parallel-item:last-child::after {align-self: flex-start;width: 50%;}#sk-container-id-3 div.sk-parallel-item:only-child::after {width: 0;}#sk-container-id-3 div.sk-dashed-wrapped {border: 1px dashed gray;margin: 0 0.4em 0.5em 0.4em;box-sizing: border-box;padding-bottom: 0.4em;background-color: white;}#sk-container-id-3 div.sk-label label {font-family: monospace;font-weight: bold;display: inline-block;line-height: 1.2em;}#sk-container-id-3 div.sk-label-container {text-align: center;}#sk-container-id-3 div.sk-container {/* jupyter's `normalize.less` sets `[hidden] { display: none; }` but bootstrap.min.css set `[hidden] { display: none !important; }` so we also need the `!important` here to be able to override the default hidden behavior on the sphinx rendered scikit-learn.org. See: https://github.com/scikit-learn/scikit-learn/issues/21755 */display: inline-block !important;position: relative;}#sk-container-id-3 div.sk-text-repr-fallback {display: none;}</style><div id=\"sk-container-id-3\" class=\"sk-top-container\"><div class=\"sk-text-repr-fallback\"><pre>GridSearchCV(cv=5,\n",
       "             estimator=Pipeline(steps=[(&#x27;preprocessor&#x27;,\n",
       "                                        ColumnTransformer(transformers=[(&#x27;num&#x27;,\n",
       "                                                                         Pipeline(steps=[(&#x27;std_scaler&#x27;,\n",
       "                                                                                          StandardScaler())]),\n",
       "                                                                         [&#x27;host_response_rate&#x27;,\n",
       "                                                                          &#x27;host_acceptance_rate&#x27;,\n",
       "                                                                          &#x27;host_is_superhost&#x27;,\n",
       "                                                                          &#x27;host_listings_count&#x27;,\n",
       "                                                                          &#x27;host_has_profile_pic&#x27;,\n",
       "                                                                          &#x27;host_identity_verified&#x27;,\n",
       "                                                                          &#x27;accommodates&#x27;,\n",
       "                                                                          &#x27;bedrooms&#x27;,\n",
       "                                                                          &#x27;price&#x27;,\n",
       "                                                                          &#x27;minimum_nights&#x27;,\n",
       "                                                                          &#x27;maximum_nights...\n",
       "                                                                          &#x27;neighbourhood_group_cleansed&#x27;,\n",
       "                                                                          &#x27;room_type&#x27;,\n",
       "                                                                          &#x27;host_type&#x27;])])),\n",
       "                                       (&#x27;randfor&#x27;,\n",
       "                                        RandomForestClassifier(random_state=15))]),\n",
       "             n_jobs=-1,\n",
       "             param_grid={&#x27;randfor__bootstrap&#x27;: [False],\n",
       "                         &#x27;randfor__max_depth&#x27;: [50],\n",
       "                         &#x27;randfor__max_features&#x27;: [&#x27;auto&#x27;],\n",
       "                         &#x27;randfor__min_samples_leaf&#x27;: [1],\n",
       "                         &#x27;randfor__min_samples_split&#x27;: [2],\n",
       "                         &#x27;randfor__n_estimators&#x27;: [1500]},\n",
       "             scoring=&#x27;precision&#x27;, verbose=5)</pre><b>In a Jupyter environment, please rerun this cell to show the HTML representation or trust the notebook. <br />On GitHub, the HTML representation is unable to render, please try loading this page with nbviewer.org.</b></div><div class=\"sk-container\" hidden><div class=\"sk-item sk-dashed-wrapped\"><div class=\"sk-label-container\"><div class=\"sk-label sk-toggleable\"><input class=\"sk-toggleable__control sk-hidden--visually\" id=\"sk-estimator-id-16\" type=\"checkbox\" ><label for=\"sk-estimator-id-16\" class=\"sk-toggleable__label sk-toggleable__label-arrow\">GridSearchCV</label><div class=\"sk-toggleable__content\"><pre>GridSearchCV(cv=5,\n",
       "             estimator=Pipeline(steps=[(&#x27;preprocessor&#x27;,\n",
       "                                        ColumnTransformer(transformers=[(&#x27;num&#x27;,\n",
       "                                                                         Pipeline(steps=[(&#x27;std_scaler&#x27;,\n",
       "                                                                                          StandardScaler())]),\n",
       "                                                                         [&#x27;host_response_rate&#x27;,\n",
       "                                                                          &#x27;host_acceptance_rate&#x27;,\n",
       "                                                                          &#x27;host_is_superhost&#x27;,\n",
       "                                                                          &#x27;host_listings_count&#x27;,\n",
       "                                                                          &#x27;host_has_profile_pic&#x27;,\n",
       "                                                                          &#x27;host_identity_verified&#x27;,\n",
       "                                                                          &#x27;accommodates&#x27;,\n",
       "                                                                          &#x27;bedrooms&#x27;,\n",
       "                                                                          &#x27;price&#x27;,\n",
       "                                                                          &#x27;minimum_nights&#x27;,\n",
       "                                                                          &#x27;maximum_nights...\n",
       "                                                                          &#x27;neighbourhood_group_cleansed&#x27;,\n",
       "                                                                          &#x27;room_type&#x27;,\n",
       "                                                                          &#x27;host_type&#x27;])])),\n",
       "                                       (&#x27;randfor&#x27;,\n",
       "                                        RandomForestClassifier(random_state=15))]),\n",
       "             n_jobs=-1,\n",
       "             param_grid={&#x27;randfor__bootstrap&#x27;: [False],\n",
       "                         &#x27;randfor__max_depth&#x27;: [50],\n",
       "                         &#x27;randfor__max_features&#x27;: [&#x27;auto&#x27;],\n",
       "                         &#x27;randfor__min_samples_leaf&#x27;: [1],\n",
       "                         &#x27;randfor__min_samples_split&#x27;: [2],\n",
       "                         &#x27;randfor__n_estimators&#x27;: [1500]},\n",
       "             scoring=&#x27;precision&#x27;, verbose=5)</pre></div></div></div><div class=\"sk-parallel\"><div class=\"sk-parallel-item\"><div class=\"sk-item\"><div class=\"sk-label-container\"><div class=\"sk-label sk-toggleable\"><input class=\"sk-toggleable__control sk-hidden--visually\" id=\"sk-estimator-id-17\" type=\"checkbox\" ><label for=\"sk-estimator-id-17\" class=\"sk-toggleable__label sk-toggleable__label-arrow\">estimator: Pipeline</label><div class=\"sk-toggleable__content\"><pre>Pipeline(steps=[(&#x27;preprocessor&#x27;,\n",
       "                 ColumnTransformer(transformers=[(&#x27;num&#x27;,\n",
       "                                                  Pipeline(steps=[(&#x27;std_scaler&#x27;,\n",
       "                                                                   StandardScaler())]),\n",
       "                                                  [&#x27;host_response_rate&#x27;,\n",
       "                                                   &#x27;host_acceptance_rate&#x27;,\n",
       "                                                   &#x27;host_is_superhost&#x27;,\n",
       "                                                   &#x27;host_listings_count&#x27;,\n",
       "                                                   &#x27;host_has_profile_pic&#x27;,\n",
       "                                                   &#x27;host_identity_verified&#x27;,\n",
       "                                                   &#x27;accommodates&#x27;, &#x27;bedrooms&#x27;,\n",
       "                                                   &#x27;price&#x27;, &#x27;minimum_nights&#x27;,\n",
       "                                                   &#x27;maximum_nights&#x27;,\n",
       "                                                   &#x27;has_availability&#x27;,\n",
       "                                                   &#x27;number_of_reviews&#x27;,\n",
       "                                                   &#x27;license&#x27;,\n",
       "                                                   &#x27;instant_bookable&#x27;]),\n",
       "                                                 (&#x27;cat&#x27;,\n",
       "                                                  Pipeline(steps=[(&#x27;1hot&#x27;,\n",
       "                                                                   OneHotEncoder(handle_unknown=&#x27;ignore&#x27;))]),\n",
       "                                                  [&#x27;host_response_time&#x27;,\n",
       "                                                   &#x27;neighbourhood_group_cleansed&#x27;,\n",
       "                                                   &#x27;room_type&#x27;,\n",
       "                                                   &#x27;host_type&#x27;])])),\n",
       "                (&#x27;randfor&#x27;, RandomForestClassifier(random_state=15))])</pre></div></div></div><div class=\"sk-serial\"><div class=\"sk-item\"><div class=\"sk-serial\"><div class=\"sk-item sk-dashed-wrapped\"><div class=\"sk-label-container\"><div class=\"sk-label sk-toggleable\"><input class=\"sk-toggleable__control sk-hidden--visually\" id=\"sk-estimator-id-18\" type=\"checkbox\" ><label for=\"sk-estimator-id-18\" class=\"sk-toggleable__label sk-toggleable__label-arrow\">preprocessor: ColumnTransformer</label><div class=\"sk-toggleable__content\"><pre>ColumnTransformer(transformers=[(&#x27;num&#x27;,\n",
       "                                 Pipeline(steps=[(&#x27;std_scaler&#x27;,\n",
       "                                                  StandardScaler())]),\n",
       "                                 [&#x27;host_response_rate&#x27;, &#x27;host_acceptance_rate&#x27;,\n",
       "                                  &#x27;host_is_superhost&#x27;, &#x27;host_listings_count&#x27;,\n",
       "                                  &#x27;host_has_profile_pic&#x27;,\n",
       "                                  &#x27;host_identity_verified&#x27;, &#x27;accommodates&#x27;,\n",
       "                                  &#x27;bedrooms&#x27;, &#x27;price&#x27;, &#x27;minimum_nights&#x27;,\n",
       "                                  &#x27;maximum_nights&#x27;, &#x27;has_availability&#x27;,\n",
       "                                  &#x27;number_of_reviews&#x27;, &#x27;license&#x27;,\n",
       "                                  &#x27;instant_bookable&#x27;]),\n",
       "                                (&#x27;cat&#x27;,\n",
       "                                 Pipeline(steps=[(&#x27;1hot&#x27;,\n",
       "                                                  OneHotEncoder(handle_unknown=&#x27;ignore&#x27;))]),\n",
       "                                 [&#x27;host_response_time&#x27;,\n",
       "                                  &#x27;neighbourhood_group_cleansed&#x27;, &#x27;room_type&#x27;,\n",
       "                                  &#x27;host_type&#x27;])])</pre></div></div></div><div class=\"sk-parallel\"><div class=\"sk-parallel-item\"><div class=\"sk-item\"><div class=\"sk-label-container\"><div class=\"sk-label sk-toggleable\"><input class=\"sk-toggleable__control sk-hidden--visually\" id=\"sk-estimator-id-19\" type=\"checkbox\" ><label for=\"sk-estimator-id-19\" class=\"sk-toggleable__label sk-toggleable__label-arrow\">num</label><div class=\"sk-toggleable__content\"><pre>[&#x27;host_response_rate&#x27;, &#x27;host_acceptance_rate&#x27;, &#x27;host_is_superhost&#x27;, &#x27;host_listings_count&#x27;, &#x27;host_has_profile_pic&#x27;, &#x27;host_identity_verified&#x27;, &#x27;accommodates&#x27;, &#x27;bedrooms&#x27;, &#x27;price&#x27;, &#x27;minimum_nights&#x27;, &#x27;maximum_nights&#x27;, &#x27;has_availability&#x27;, &#x27;number_of_reviews&#x27;, &#x27;license&#x27;, &#x27;instant_bookable&#x27;]</pre></div></div></div><div class=\"sk-serial\"><div class=\"sk-item\"><div class=\"sk-serial\"><div class=\"sk-item\"><div class=\"sk-estimator sk-toggleable\"><input class=\"sk-toggleable__control sk-hidden--visually\" id=\"sk-estimator-id-20\" type=\"checkbox\" ><label for=\"sk-estimator-id-20\" class=\"sk-toggleable__label sk-toggleable__label-arrow\">StandardScaler</label><div class=\"sk-toggleable__content\"><pre>StandardScaler()</pre></div></div></div></div></div></div></div></div><div class=\"sk-parallel-item\"><div class=\"sk-item\"><div class=\"sk-label-container\"><div class=\"sk-label sk-toggleable\"><input class=\"sk-toggleable__control sk-hidden--visually\" id=\"sk-estimator-id-21\" type=\"checkbox\" ><label for=\"sk-estimator-id-21\" class=\"sk-toggleable__label sk-toggleable__label-arrow\">cat</label><div class=\"sk-toggleable__content\"><pre>[&#x27;host_response_time&#x27;, &#x27;neighbourhood_group_cleansed&#x27;, &#x27;room_type&#x27;, &#x27;host_type&#x27;]</pre></div></div></div><div class=\"sk-serial\"><div class=\"sk-item\"><div class=\"sk-serial\"><div class=\"sk-item\"><div class=\"sk-estimator sk-toggleable\"><input class=\"sk-toggleable__control sk-hidden--visually\" id=\"sk-estimator-id-22\" type=\"checkbox\" ><label for=\"sk-estimator-id-22\" class=\"sk-toggleable__label sk-toggleable__label-arrow\">OneHotEncoder</label><div class=\"sk-toggleable__content\"><pre>OneHotEncoder(handle_unknown=&#x27;ignore&#x27;)</pre></div></div></div></div></div></div></div></div></div></div><div class=\"sk-item\"><div class=\"sk-estimator sk-toggleable\"><input class=\"sk-toggleable__control sk-hidden--visually\" id=\"sk-estimator-id-23\" type=\"checkbox\" ><label for=\"sk-estimator-id-23\" class=\"sk-toggleable__label sk-toggleable__label-arrow\">RandomForestClassifier</label><div class=\"sk-toggleable__content\"><pre>RandomForestClassifier(random_state=15)</pre></div></div></div></div></div></div></div></div></div></div></div></div>"
      ],
      "text/plain": [
       "GridSearchCV(cv=5,\n",
       "             estimator=Pipeline(steps=[('preprocessor',\n",
       "                                        ColumnTransformer(transformers=[('num',\n",
       "                                                                         Pipeline(steps=[('std_scaler',\n",
       "                                                                                          StandardScaler())]),\n",
       "                                                                         ['host_response_rate',\n",
       "                                                                          'host_acceptance_rate',\n",
       "                                                                          'host_is_superhost',\n",
       "                                                                          'host_listings_count',\n",
       "                                                                          'host_has_profile_pic',\n",
       "                                                                          'host_identity_verified',\n",
       "                                                                          'accommodates',\n",
       "                                                                          'bedrooms',\n",
       "                                                                          'price',\n",
       "                                                                          'minimum_nights',\n",
       "                                                                          'maximum_nights...\n",
       "                                                                          'neighbourhood_group_cleansed',\n",
       "                                                                          'room_type',\n",
       "                                                                          'host_type'])])),\n",
       "                                       ('randfor',\n",
       "                                        RandomForestClassifier(random_state=15))]),\n",
       "             n_jobs=-1,\n",
       "             param_grid={'randfor__bootstrap': [False],\n",
       "                         'randfor__max_depth': [50],\n",
       "                         'randfor__max_features': ['auto'],\n",
       "                         'randfor__min_samples_leaf': [1],\n",
       "                         'randfor__min_samples_split': [2],\n",
       "                         'randfor__n_estimators': [1500]},\n",
       "             scoring='precision', verbose=5)"
      ]
     },
     "execution_count": 52,
     "metadata": {},
     "output_type": "execute_result"
    }
   ],
   "source": [
    "grid_rf = GridSearchCV(pipe_rf, param_grid=param_rf_best, cv=5, scoring='precision', \n",
    "                           verbose=5, n_jobs=-1)\n",
    "\n",
    "grid_rf.fit(X_train, y_train)"
   ]
  },
  {
   "cell_type": "code",
   "execution_count": 53,
   "id": "7bd948cb-16d8-49c3-9095-90f3daf94280",
   "metadata": {
    "tags": []
   },
   "outputs": [
    {
     "name": "stdout",
     "output_type": "stream",
     "text": [
      "Best score:\n",
      "0.98\n",
      "Best parameters:\n",
      "{'randfor__bootstrap': False, 'randfor__max_depth': 50, 'randfor__max_features': 'auto', 'randfor__min_samples_leaf': 1, 'randfor__min_samples_split': 2, 'randfor__n_estimators': 1500}\n"
     ]
    }
   ],
   "source": [
    "print('Best score:\\n{:.2f}'.format(grid_rf.best_score_))\n",
    "print(\"Best parameters:\\n{}\".format(grid_rf.best_params_))"
   ]
  },
  {
   "cell_type": "code",
   "execution_count": 54,
   "id": "07454632-e056-4886-942b-4d30f703a4d5",
   "metadata": {
    "tags": []
   },
   "outputs": [
    {
     "data": {
      "text/html": [
       "<style>#sk-container-id-4 {color: black;background-color: white;}#sk-container-id-4 pre{padding: 0;}#sk-container-id-4 div.sk-toggleable {background-color: white;}#sk-container-id-4 label.sk-toggleable__label {cursor: pointer;display: block;width: 100%;margin-bottom: 0;padding: 0.3em;box-sizing: border-box;text-align: center;}#sk-container-id-4 label.sk-toggleable__label-arrow:before {content: \"▸\";float: left;margin-right: 0.25em;color: #696969;}#sk-container-id-4 label.sk-toggleable__label-arrow:hover:before {color: black;}#sk-container-id-4 div.sk-estimator:hover label.sk-toggleable__label-arrow:before {color: black;}#sk-container-id-4 div.sk-toggleable__content {max-height: 0;max-width: 0;overflow: hidden;text-align: left;background-color: #f0f8ff;}#sk-container-id-4 div.sk-toggleable__content pre {margin: 0.2em;color: black;border-radius: 0.25em;background-color: #f0f8ff;}#sk-container-id-4 input.sk-toggleable__control:checked~div.sk-toggleable__content {max-height: 200px;max-width: 100%;overflow: auto;}#sk-container-id-4 input.sk-toggleable__control:checked~label.sk-toggleable__label-arrow:before {content: \"▾\";}#sk-container-id-4 div.sk-estimator input.sk-toggleable__control:checked~label.sk-toggleable__label {background-color: #d4ebff;}#sk-container-id-4 div.sk-label input.sk-toggleable__control:checked~label.sk-toggleable__label {background-color: #d4ebff;}#sk-container-id-4 input.sk-hidden--visually {border: 0;clip: rect(1px 1px 1px 1px);clip: rect(1px, 1px, 1px, 1px);height: 1px;margin: -1px;overflow: hidden;padding: 0;position: absolute;width: 1px;}#sk-container-id-4 div.sk-estimator {font-family: monospace;background-color: #f0f8ff;border: 1px dotted black;border-radius: 0.25em;box-sizing: border-box;margin-bottom: 0.5em;}#sk-container-id-4 div.sk-estimator:hover {background-color: #d4ebff;}#sk-container-id-4 div.sk-parallel-item::after {content: \"\";width: 100%;border-bottom: 1px solid gray;flex-grow: 1;}#sk-container-id-4 div.sk-label:hover label.sk-toggleable__label {background-color: #d4ebff;}#sk-container-id-4 div.sk-serial::before {content: \"\";position: absolute;border-left: 1px solid gray;box-sizing: border-box;top: 0;bottom: 0;left: 50%;z-index: 0;}#sk-container-id-4 div.sk-serial {display: flex;flex-direction: column;align-items: center;background-color: white;padding-right: 0.2em;padding-left: 0.2em;position: relative;}#sk-container-id-4 div.sk-item {position: relative;z-index: 1;}#sk-container-id-4 div.sk-parallel {display: flex;align-items: stretch;justify-content: center;background-color: white;position: relative;}#sk-container-id-4 div.sk-item::before, #sk-container-id-4 div.sk-parallel-item::before {content: \"\";position: absolute;border-left: 1px solid gray;box-sizing: border-box;top: 0;bottom: 0;left: 50%;z-index: -1;}#sk-container-id-4 div.sk-parallel-item {display: flex;flex-direction: column;z-index: 1;position: relative;background-color: white;}#sk-container-id-4 div.sk-parallel-item:first-child::after {align-self: flex-end;width: 50%;}#sk-container-id-4 div.sk-parallel-item:last-child::after {align-self: flex-start;width: 50%;}#sk-container-id-4 div.sk-parallel-item:only-child::after {width: 0;}#sk-container-id-4 div.sk-dashed-wrapped {border: 1px dashed gray;margin: 0 0.4em 0.5em 0.4em;box-sizing: border-box;padding-bottom: 0.4em;background-color: white;}#sk-container-id-4 div.sk-label label {font-family: monospace;font-weight: bold;display: inline-block;line-height: 1.2em;}#sk-container-id-4 div.sk-label-container {text-align: center;}#sk-container-id-4 div.sk-container {/* jupyter's `normalize.less` sets `[hidden] { display: none; }` but bootstrap.min.css set `[hidden] { display: none !important; }` so we also need the `!important` here to be able to override the default hidden behavior on the sphinx rendered scikit-learn.org. See: https://github.com/scikit-learn/scikit-learn/issues/21755 */display: inline-block !important;position: relative;}#sk-container-id-4 div.sk-text-repr-fallback {display: none;}</style><div id=\"sk-container-id-4\" class=\"sk-top-container\"><div class=\"sk-text-repr-fallback\"><pre>Pipeline(steps=[(&#x27;preprocessor&#x27;,\n",
       "                 ColumnTransformer(transformers=[(&#x27;num&#x27;,\n",
       "                                                  Pipeline(steps=[(&#x27;std_scaler&#x27;,\n",
       "                                                                   StandardScaler())]),\n",
       "                                                  [&#x27;host_response_rate&#x27;,\n",
       "                                                   &#x27;host_acceptance_rate&#x27;,\n",
       "                                                   &#x27;host_is_superhost&#x27;,\n",
       "                                                   &#x27;host_listings_count&#x27;,\n",
       "                                                   &#x27;host_has_profile_pic&#x27;,\n",
       "                                                   &#x27;host_identity_verified&#x27;,\n",
       "                                                   &#x27;accommodates&#x27;, &#x27;bedrooms&#x27;,\n",
       "                                                   &#x27;price&#x27;, &#x27;minimum_nights&#x27;,\n",
       "                                                   &#x27;maximum_nights&#x27;,\n",
       "                                                   &#x27;has_availability&#x27;,\n",
       "                                                   &#x27;number_of_reviews&#x27;,\n",
       "                                                   &#x27;license&#x27;,\n",
       "                                                   &#x27;instant_bookable&#x27;]),\n",
       "                                                 (&#x27;cat&#x27;,\n",
       "                                                  Pipeline(steps=[(&#x27;1hot&#x27;,\n",
       "                                                                   OneHotEncoder(handle_unknown=&#x27;ignore&#x27;))]),\n",
       "                                                  [&#x27;host_response_time&#x27;,\n",
       "                                                   &#x27;neighbourhood_group_cleansed&#x27;,\n",
       "                                                   &#x27;room_type&#x27;,\n",
       "                                                   &#x27;host_type&#x27;])])),\n",
       "                (&#x27;randfor&#x27;,\n",
       "                 RandomForestClassifier(bootstrap=False, max_depth=50,\n",
       "                                        max_features=&#x27;auto&#x27;, n_estimators=1500,\n",
       "                                        random_state=15))])</pre><b>In a Jupyter environment, please rerun this cell to show the HTML representation or trust the notebook. <br />On GitHub, the HTML representation is unable to render, please try loading this page with nbviewer.org.</b></div><div class=\"sk-container\" hidden><div class=\"sk-item sk-dashed-wrapped\"><div class=\"sk-label-container\"><div class=\"sk-label sk-toggleable\"><input class=\"sk-toggleable__control sk-hidden--visually\" id=\"sk-estimator-id-24\" type=\"checkbox\" ><label for=\"sk-estimator-id-24\" class=\"sk-toggleable__label sk-toggleable__label-arrow\">Pipeline</label><div class=\"sk-toggleable__content\"><pre>Pipeline(steps=[(&#x27;preprocessor&#x27;,\n",
       "                 ColumnTransformer(transformers=[(&#x27;num&#x27;,\n",
       "                                                  Pipeline(steps=[(&#x27;std_scaler&#x27;,\n",
       "                                                                   StandardScaler())]),\n",
       "                                                  [&#x27;host_response_rate&#x27;,\n",
       "                                                   &#x27;host_acceptance_rate&#x27;,\n",
       "                                                   &#x27;host_is_superhost&#x27;,\n",
       "                                                   &#x27;host_listings_count&#x27;,\n",
       "                                                   &#x27;host_has_profile_pic&#x27;,\n",
       "                                                   &#x27;host_identity_verified&#x27;,\n",
       "                                                   &#x27;accommodates&#x27;, &#x27;bedrooms&#x27;,\n",
       "                                                   &#x27;price&#x27;, &#x27;minimum_nights&#x27;,\n",
       "                                                   &#x27;maximum_nights&#x27;,\n",
       "                                                   &#x27;has_availability&#x27;,\n",
       "                                                   &#x27;number_of_reviews&#x27;,\n",
       "                                                   &#x27;license&#x27;,\n",
       "                                                   &#x27;instant_bookable&#x27;]),\n",
       "                                                 (&#x27;cat&#x27;,\n",
       "                                                  Pipeline(steps=[(&#x27;1hot&#x27;,\n",
       "                                                                   OneHotEncoder(handle_unknown=&#x27;ignore&#x27;))]),\n",
       "                                                  [&#x27;host_response_time&#x27;,\n",
       "                                                   &#x27;neighbourhood_group_cleansed&#x27;,\n",
       "                                                   &#x27;room_type&#x27;,\n",
       "                                                   &#x27;host_type&#x27;])])),\n",
       "                (&#x27;randfor&#x27;,\n",
       "                 RandomForestClassifier(bootstrap=False, max_depth=50,\n",
       "                                        max_features=&#x27;auto&#x27;, n_estimators=1500,\n",
       "                                        random_state=15))])</pre></div></div></div><div class=\"sk-serial\"><div class=\"sk-item sk-dashed-wrapped\"><div class=\"sk-label-container\"><div class=\"sk-label sk-toggleable\"><input class=\"sk-toggleable__control sk-hidden--visually\" id=\"sk-estimator-id-25\" type=\"checkbox\" ><label for=\"sk-estimator-id-25\" class=\"sk-toggleable__label sk-toggleable__label-arrow\">preprocessor: ColumnTransformer</label><div class=\"sk-toggleable__content\"><pre>ColumnTransformer(transformers=[(&#x27;num&#x27;,\n",
       "                                 Pipeline(steps=[(&#x27;std_scaler&#x27;,\n",
       "                                                  StandardScaler())]),\n",
       "                                 [&#x27;host_response_rate&#x27;, &#x27;host_acceptance_rate&#x27;,\n",
       "                                  &#x27;host_is_superhost&#x27;, &#x27;host_listings_count&#x27;,\n",
       "                                  &#x27;host_has_profile_pic&#x27;,\n",
       "                                  &#x27;host_identity_verified&#x27;, &#x27;accommodates&#x27;,\n",
       "                                  &#x27;bedrooms&#x27;, &#x27;price&#x27;, &#x27;minimum_nights&#x27;,\n",
       "                                  &#x27;maximum_nights&#x27;, &#x27;has_availability&#x27;,\n",
       "                                  &#x27;number_of_reviews&#x27;, &#x27;license&#x27;,\n",
       "                                  &#x27;instant_bookable&#x27;]),\n",
       "                                (&#x27;cat&#x27;,\n",
       "                                 Pipeline(steps=[(&#x27;1hot&#x27;,\n",
       "                                                  OneHotEncoder(handle_unknown=&#x27;ignore&#x27;))]),\n",
       "                                 [&#x27;host_response_time&#x27;,\n",
       "                                  &#x27;neighbourhood_group_cleansed&#x27;, &#x27;room_type&#x27;,\n",
       "                                  &#x27;host_type&#x27;])])</pre></div></div></div><div class=\"sk-parallel\"><div class=\"sk-parallel-item\"><div class=\"sk-item\"><div class=\"sk-label-container\"><div class=\"sk-label sk-toggleable\"><input class=\"sk-toggleable__control sk-hidden--visually\" id=\"sk-estimator-id-26\" type=\"checkbox\" ><label for=\"sk-estimator-id-26\" class=\"sk-toggleable__label sk-toggleable__label-arrow\">num</label><div class=\"sk-toggleable__content\"><pre>[&#x27;host_response_rate&#x27;, &#x27;host_acceptance_rate&#x27;, &#x27;host_is_superhost&#x27;, &#x27;host_listings_count&#x27;, &#x27;host_has_profile_pic&#x27;, &#x27;host_identity_verified&#x27;, &#x27;accommodates&#x27;, &#x27;bedrooms&#x27;, &#x27;price&#x27;, &#x27;minimum_nights&#x27;, &#x27;maximum_nights&#x27;, &#x27;has_availability&#x27;, &#x27;number_of_reviews&#x27;, &#x27;license&#x27;, &#x27;instant_bookable&#x27;]</pre></div></div></div><div class=\"sk-serial\"><div class=\"sk-item\"><div class=\"sk-serial\"><div class=\"sk-item\"><div class=\"sk-estimator sk-toggleable\"><input class=\"sk-toggleable__control sk-hidden--visually\" id=\"sk-estimator-id-27\" type=\"checkbox\" ><label for=\"sk-estimator-id-27\" class=\"sk-toggleable__label sk-toggleable__label-arrow\">StandardScaler</label><div class=\"sk-toggleable__content\"><pre>StandardScaler()</pre></div></div></div></div></div></div></div></div><div class=\"sk-parallel-item\"><div class=\"sk-item\"><div class=\"sk-label-container\"><div class=\"sk-label sk-toggleable\"><input class=\"sk-toggleable__control sk-hidden--visually\" id=\"sk-estimator-id-28\" type=\"checkbox\" ><label for=\"sk-estimator-id-28\" class=\"sk-toggleable__label sk-toggleable__label-arrow\">cat</label><div class=\"sk-toggleable__content\"><pre>[&#x27;host_response_time&#x27;, &#x27;neighbourhood_group_cleansed&#x27;, &#x27;room_type&#x27;, &#x27;host_type&#x27;]</pre></div></div></div><div class=\"sk-serial\"><div class=\"sk-item\"><div class=\"sk-serial\"><div class=\"sk-item\"><div class=\"sk-estimator sk-toggleable\"><input class=\"sk-toggleable__control sk-hidden--visually\" id=\"sk-estimator-id-29\" type=\"checkbox\" ><label for=\"sk-estimator-id-29\" class=\"sk-toggleable__label sk-toggleable__label-arrow\">OneHotEncoder</label><div class=\"sk-toggleable__content\"><pre>OneHotEncoder(handle_unknown=&#x27;ignore&#x27;)</pre></div></div></div></div></div></div></div></div></div></div><div class=\"sk-item\"><div class=\"sk-estimator sk-toggleable\"><input class=\"sk-toggleable__control sk-hidden--visually\" id=\"sk-estimator-id-30\" type=\"checkbox\" ><label for=\"sk-estimator-id-30\" class=\"sk-toggleable__label sk-toggleable__label-arrow\">RandomForestClassifier</label><div class=\"sk-toggleable__content\"><pre>RandomForestClassifier(bootstrap=False, max_depth=50, max_features=&#x27;auto&#x27;,\n",
       "                       n_estimators=1500, random_state=15)</pre></div></div></div></div></div></div></div>"
      ],
      "text/plain": [
       "Pipeline(steps=[('preprocessor',\n",
       "                 ColumnTransformer(transformers=[('num',\n",
       "                                                  Pipeline(steps=[('std_scaler',\n",
       "                                                                   StandardScaler())]),\n",
       "                                                  ['host_response_rate',\n",
       "                                                   'host_acceptance_rate',\n",
       "                                                   'host_is_superhost',\n",
       "                                                   'host_listings_count',\n",
       "                                                   'host_has_profile_pic',\n",
       "                                                   'host_identity_verified',\n",
       "                                                   'accommodates', 'bedrooms',\n",
       "                                                   'price', 'minimum_nights',\n",
       "                                                   'maximum_nights',\n",
       "                                                   'has_availability',\n",
       "                                                   'number_of_reviews',\n",
       "                                                   'license',\n",
       "                                                   'instant_bookable']),\n",
       "                                                 ('cat',\n",
       "                                                  Pipeline(steps=[('1hot',\n",
       "                                                                   OneHotEncoder(handle_unknown='ignore'))]),\n",
       "                                                  ['host_response_time',\n",
       "                                                   'neighbourhood_group_cleansed',\n",
       "                                                   'room_type',\n",
       "                                                   'host_type'])])),\n",
       "                ('randfor',\n",
       "                 RandomForestClassifier(bootstrap=False, max_depth=50,\n",
       "                                        max_features='auto', n_estimators=1500,\n",
       "                                        random_state=15))])"
      ]
     },
     "execution_count": 54,
     "metadata": {},
     "output_type": "execute_result"
    }
   ],
   "source": [
    "randomforest = grid_rf.best_estimator_\n",
    "randomforest"
   ]
  },
  {
   "cell_type": "code",
   "execution_count": 55,
   "id": "3d977606-91d7-4ef1-ae6b-81eef02c5bc6",
   "metadata": {
    "tags": []
   },
   "outputs": [],
   "source": [
    "pipe_rf_final = Pipeline([\n",
    "    ('preprocessor', preprocessor),\n",
    "    ('randfor', RandomForestClassifier(n_estimators = 1500, min_samples_split = 2, max_depth = 50, max_features = 'auto', min_samples_leaf = 1, bootstrap = False, random_state=RSEED))\n",
    "])"
   ]
  },
  {
   "cell_type": "code",
   "execution_count": 56,
   "id": "b9efb912-7c3f-45cc-84f8-e1a60cfe2477",
   "metadata": {
    "tags": []
   },
   "outputs": [
    {
     "name": "stderr",
     "output_type": "stream",
     "text": [
      "/Users/johannakruger/neuefische/Modellbauer/.venv/lib/python3.9/site-packages/sklearn/ensemble/_forest.py:424: FutureWarning: `max_features='auto'` has been deprecated in 1.1 and will be removed in 1.3. To keep the past behaviour, explicitly set `max_features='sqrt'` or remove this parameter as it is also the default value for RandomForestClassifiers and ExtraTreesClassifiers.\n",
      "  warn(\n"
     ]
    },
    {
     "data": {
      "text/html": [
       "<style>#sk-container-id-5 {color: black;background-color: white;}#sk-container-id-5 pre{padding: 0;}#sk-container-id-5 div.sk-toggleable {background-color: white;}#sk-container-id-5 label.sk-toggleable__label {cursor: pointer;display: block;width: 100%;margin-bottom: 0;padding: 0.3em;box-sizing: border-box;text-align: center;}#sk-container-id-5 label.sk-toggleable__label-arrow:before {content: \"▸\";float: left;margin-right: 0.25em;color: #696969;}#sk-container-id-5 label.sk-toggleable__label-arrow:hover:before {color: black;}#sk-container-id-5 div.sk-estimator:hover label.sk-toggleable__label-arrow:before {color: black;}#sk-container-id-5 div.sk-toggleable__content {max-height: 0;max-width: 0;overflow: hidden;text-align: left;background-color: #f0f8ff;}#sk-container-id-5 div.sk-toggleable__content pre {margin: 0.2em;color: black;border-radius: 0.25em;background-color: #f0f8ff;}#sk-container-id-5 input.sk-toggleable__control:checked~div.sk-toggleable__content {max-height: 200px;max-width: 100%;overflow: auto;}#sk-container-id-5 input.sk-toggleable__control:checked~label.sk-toggleable__label-arrow:before {content: \"▾\";}#sk-container-id-5 div.sk-estimator input.sk-toggleable__control:checked~label.sk-toggleable__label {background-color: #d4ebff;}#sk-container-id-5 div.sk-label input.sk-toggleable__control:checked~label.sk-toggleable__label {background-color: #d4ebff;}#sk-container-id-5 input.sk-hidden--visually {border: 0;clip: rect(1px 1px 1px 1px);clip: rect(1px, 1px, 1px, 1px);height: 1px;margin: -1px;overflow: hidden;padding: 0;position: absolute;width: 1px;}#sk-container-id-5 div.sk-estimator {font-family: monospace;background-color: #f0f8ff;border: 1px dotted black;border-radius: 0.25em;box-sizing: border-box;margin-bottom: 0.5em;}#sk-container-id-5 div.sk-estimator:hover {background-color: #d4ebff;}#sk-container-id-5 div.sk-parallel-item::after {content: \"\";width: 100%;border-bottom: 1px solid gray;flex-grow: 1;}#sk-container-id-5 div.sk-label:hover label.sk-toggleable__label {background-color: #d4ebff;}#sk-container-id-5 div.sk-serial::before {content: \"\";position: absolute;border-left: 1px solid gray;box-sizing: border-box;top: 0;bottom: 0;left: 50%;z-index: 0;}#sk-container-id-5 div.sk-serial {display: flex;flex-direction: column;align-items: center;background-color: white;padding-right: 0.2em;padding-left: 0.2em;position: relative;}#sk-container-id-5 div.sk-item {position: relative;z-index: 1;}#sk-container-id-5 div.sk-parallel {display: flex;align-items: stretch;justify-content: center;background-color: white;position: relative;}#sk-container-id-5 div.sk-item::before, #sk-container-id-5 div.sk-parallel-item::before {content: \"\";position: absolute;border-left: 1px solid gray;box-sizing: border-box;top: 0;bottom: 0;left: 50%;z-index: -1;}#sk-container-id-5 div.sk-parallel-item {display: flex;flex-direction: column;z-index: 1;position: relative;background-color: white;}#sk-container-id-5 div.sk-parallel-item:first-child::after {align-self: flex-end;width: 50%;}#sk-container-id-5 div.sk-parallel-item:last-child::after {align-self: flex-start;width: 50%;}#sk-container-id-5 div.sk-parallel-item:only-child::after {width: 0;}#sk-container-id-5 div.sk-dashed-wrapped {border: 1px dashed gray;margin: 0 0.4em 0.5em 0.4em;box-sizing: border-box;padding-bottom: 0.4em;background-color: white;}#sk-container-id-5 div.sk-label label {font-family: monospace;font-weight: bold;display: inline-block;line-height: 1.2em;}#sk-container-id-5 div.sk-label-container {text-align: center;}#sk-container-id-5 div.sk-container {/* jupyter's `normalize.less` sets `[hidden] { display: none; }` but bootstrap.min.css set `[hidden] { display: none !important; }` so we also need the `!important` here to be able to override the default hidden behavior on the sphinx rendered scikit-learn.org. See: https://github.com/scikit-learn/scikit-learn/issues/21755 */display: inline-block !important;position: relative;}#sk-container-id-5 div.sk-text-repr-fallback {display: none;}</style><div id=\"sk-container-id-5\" class=\"sk-top-container\"><div class=\"sk-text-repr-fallback\"><pre>Pipeline(steps=[(&#x27;preprocessor&#x27;,\n",
       "                 ColumnTransformer(transformers=[(&#x27;num&#x27;,\n",
       "                                                  Pipeline(steps=[(&#x27;std_scaler&#x27;,\n",
       "                                                                   StandardScaler())]),\n",
       "                                                  [&#x27;host_response_rate&#x27;,\n",
       "                                                   &#x27;host_acceptance_rate&#x27;,\n",
       "                                                   &#x27;host_is_superhost&#x27;,\n",
       "                                                   &#x27;host_listings_count&#x27;,\n",
       "                                                   &#x27;host_has_profile_pic&#x27;,\n",
       "                                                   &#x27;host_identity_verified&#x27;,\n",
       "                                                   &#x27;accommodates&#x27;, &#x27;bedrooms&#x27;,\n",
       "                                                   &#x27;price&#x27;, &#x27;minimum_nights&#x27;,\n",
       "                                                   &#x27;maximum_nights&#x27;,\n",
       "                                                   &#x27;has_availability&#x27;,\n",
       "                                                   &#x27;number_of_reviews&#x27;,\n",
       "                                                   &#x27;license&#x27;,\n",
       "                                                   &#x27;instant_bookable&#x27;]),\n",
       "                                                 (&#x27;cat&#x27;,\n",
       "                                                  Pipeline(steps=[(&#x27;1hot&#x27;,\n",
       "                                                                   OneHotEncoder(handle_unknown=&#x27;ignore&#x27;))]),\n",
       "                                                  [&#x27;host_response_time&#x27;,\n",
       "                                                   &#x27;neighbourhood_group_cleansed&#x27;,\n",
       "                                                   &#x27;room_type&#x27;,\n",
       "                                                   &#x27;host_type&#x27;])])),\n",
       "                (&#x27;randfor&#x27;,\n",
       "                 RandomForestClassifier(bootstrap=False, max_depth=50,\n",
       "                                        max_features=&#x27;auto&#x27;, n_estimators=1500,\n",
       "                                        random_state=15))])</pre><b>In a Jupyter environment, please rerun this cell to show the HTML representation or trust the notebook. <br />On GitHub, the HTML representation is unable to render, please try loading this page with nbviewer.org.</b></div><div class=\"sk-container\" hidden><div class=\"sk-item sk-dashed-wrapped\"><div class=\"sk-label-container\"><div class=\"sk-label sk-toggleable\"><input class=\"sk-toggleable__control sk-hidden--visually\" id=\"sk-estimator-id-31\" type=\"checkbox\" ><label for=\"sk-estimator-id-31\" class=\"sk-toggleable__label sk-toggleable__label-arrow\">Pipeline</label><div class=\"sk-toggleable__content\"><pre>Pipeline(steps=[(&#x27;preprocessor&#x27;,\n",
       "                 ColumnTransformer(transformers=[(&#x27;num&#x27;,\n",
       "                                                  Pipeline(steps=[(&#x27;std_scaler&#x27;,\n",
       "                                                                   StandardScaler())]),\n",
       "                                                  [&#x27;host_response_rate&#x27;,\n",
       "                                                   &#x27;host_acceptance_rate&#x27;,\n",
       "                                                   &#x27;host_is_superhost&#x27;,\n",
       "                                                   &#x27;host_listings_count&#x27;,\n",
       "                                                   &#x27;host_has_profile_pic&#x27;,\n",
       "                                                   &#x27;host_identity_verified&#x27;,\n",
       "                                                   &#x27;accommodates&#x27;, &#x27;bedrooms&#x27;,\n",
       "                                                   &#x27;price&#x27;, &#x27;minimum_nights&#x27;,\n",
       "                                                   &#x27;maximum_nights&#x27;,\n",
       "                                                   &#x27;has_availability&#x27;,\n",
       "                                                   &#x27;number_of_reviews&#x27;,\n",
       "                                                   &#x27;license&#x27;,\n",
       "                                                   &#x27;instant_bookable&#x27;]),\n",
       "                                                 (&#x27;cat&#x27;,\n",
       "                                                  Pipeline(steps=[(&#x27;1hot&#x27;,\n",
       "                                                                   OneHotEncoder(handle_unknown=&#x27;ignore&#x27;))]),\n",
       "                                                  [&#x27;host_response_time&#x27;,\n",
       "                                                   &#x27;neighbourhood_group_cleansed&#x27;,\n",
       "                                                   &#x27;room_type&#x27;,\n",
       "                                                   &#x27;host_type&#x27;])])),\n",
       "                (&#x27;randfor&#x27;,\n",
       "                 RandomForestClassifier(bootstrap=False, max_depth=50,\n",
       "                                        max_features=&#x27;auto&#x27;, n_estimators=1500,\n",
       "                                        random_state=15))])</pre></div></div></div><div class=\"sk-serial\"><div class=\"sk-item sk-dashed-wrapped\"><div class=\"sk-label-container\"><div class=\"sk-label sk-toggleable\"><input class=\"sk-toggleable__control sk-hidden--visually\" id=\"sk-estimator-id-32\" type=\"checkbox\" ><label for=\"sk-estimator-id-32\" class=\"sk-toggleable__label sk-toggleable__label-arrow\">preprocessor: ColumnTransformer</label><div class=\"sk-toggleable__content\"><pre>ColumnTransformer(transformers=[(&#x27;num&#x27;,\n",
       "                                 Pipeline(steps=[(&#x27;std_scaler&#x27;,\n",
       "                                                  StandardScaler())]),\n",
       "                                 [&#x27;host_response_rate&#x27;, &#x27;host_acceptance_rate&#x27;,\n",
       "                                  &#x27;host_is_superhost&#x27;, &#x27;host_listings_count&#x27;,\n",
       "                                  &#x27;host_has_profile_pic&#x27;,\n",
       "                                  &#x27;host_identity_verified&#x27;, &#x27;accommodates&#x27;,\n",
       "                                  &#x27;bedrooms&#x27;, &#x27;price&#x27;, &#x27;minimum_nights&#x27;,\n",
       "                                  &#x27;maximum_nights&#x27;, &#x27;has_availability&#x27;,\n",
       "                                  &#x27;number_of_reviews&#x27;, &#x27;license&#x27;,\n",
       "                                  &#x27;instant_bookable&#x27;]),\n",
       "                                (&#x27;cat&#x27;,\n",
       "                                 Pipeline(steps=[(&#x27;1hot&#x27;,\n",
       "                                                  OneHotEncoder(handle_unknown=&#x27;ignore&#x27;))]),\n",
       "                                 [&#x27;host_response_time&#x27;,\n",
       "                                  &#x27;neighbourhood_group_cleansed&#x27;, &#x27;room_type&#x27;,\n",
       "                                  &#x27;host_type&#x27;])])</pre></div></div></div><div class=\"sk-parallel\"><div class=\"sk-parallel-item\"><div class=\"sk-item\"><div class=\"sk-label-container\"><div class=\"sk-label sk-toggleable\"><input class=\"sk-toggleable__control sk-hidden--visually\" id=\"sk-estimator-id-33\" type=\"checkbox\" ><label for=\"sk-estimator-id-33\" class=\"sk-toggleable__label sk-toggleable__label-arrow\">num</label><div class=\"sk-toggleable__content\"><pre>[&#x27;host_response_rate&#x27;, &#x27;host_acceptance_rate&#x27;, &#x27;host_is_superhost&#x27;, &#x27;host_listings_count&#x27;, &#x27;host_has_profile_pic&#x27;, &#x27;host_identity_verified&#x27;, &#x27;accommodates&#x27;, &#x27;bedrooms&#x27;, &#x27;price&#x27;, &#x27;minimum_nights&#x27;, &#x27;maximum_nights&#x27;, &#x27;has_availability&#x27;, &#x27;number_of_reviews&#x27;, &#x27;license&#x27;, &#x27;instant_bookable&#x27;]</pre></div></div></div><div class=\"sk-serial\"><div class=\"sk-item\"><div class=\"sk-serial\"><div class=\"sk-item\"><div class=\"sk-estimator sk-toggleable\"><input class=\"sk-toggleable__control sk-hidden--visually\" id=\"sk-estimator-id-34\" type=\"checkbox\" ><label for=\"sk-estimator-id-34\" class=\"sk-toggleable__label sk-toggleable__label-arrow\">StandardScaler</label><div class=\"sk-toggleable__content\"><pre>StandardScaler()</pre></div></div></div></div></div></div></div></div><div class=\"sk-parallel-item\"><div class=\"sk-item\"><div class=\"sk-label-container\"><div class=\"sk-label sk-toggleable\"><input class=\"sk-toggleable__control sk-hidden--visually\" id=\"sk-estimator-id-35\" type=\"checkbox\" ><label for=\"sk-estimator-id-35\" class=\"sk-toggleable__label sk-toggleable__label-arrow\">cat</label><div class=\"sk-toggleable__content\"><pre>[&#x27;host_response_time&#x27;, &#x27;neighbourhood_group_cleansed&#x27;, &#x27;room_type&#x27;, &#x27;host_type&#x27;]</pre></div></div></div><div class=\"sk-serial\"><div class=\"sk-item\"><div class=\"sk-serial\"><div class=\"sk-item\"><div class=\"sk-estimator sk-toggleable\"><input class=\"sk-toggleable__control sk-hidden--visually\" id=\"sk-estimator-id-36\" type=\"checkbox\" ><label for=\"sk-estimator-id-36\" class=\"sk-toggleable__label sk-toggleable__label-arrow\">OneHotEncoder</label><div class=\"sk-toggleable__content\"><pre>OneHotEncoder(handle_unknown=&#x27;ignore&#x27;)</pre></div></div></div></div></div></div></div></div></div></div><div class=\"sk-item\"><div class=\"sk-estimator sk-toggleable\"><input class=\"sk-toggleable__control sk-hidden--visually\" id=\"sk-estimator-id-37\" type=\"checkbox\" ><label for=\"sk-estimator-id-37\" class=\"sk-toggleable__label sk-toggleable__label-arrow\">RandomForestClassifier</label><div class=\"sk-toggleable__content\"><pre>RandomForestClassifier(bootstrap=False, max_depth=50, max_features=&#x27;auto&#x27;,\n",
       "                       n_estimators=1500, random_state=15)</pre></div></div></div></div></div></div></div>"
      ],
      "text/plain": [
       "Pipeline(steps=[('preprocessor',\n",
       "                 ColumnTransformer(transformers=[('num',\n",
       "                                                  Pipeline(steps=[('std_scaler',\n",
       "                                                                   StandardScaler())]),\n",
       "                                                  ['host_response_rate',\n",
       "                                                   'host_acceptance_rate',\n",
       "                                                   'host_is_superhost',\n",
       "                                                   'host_listings_count',\n",
       "                                                   'host_has_profile_pic',\n",
       "                                                   'host_identity_verified',\n",
       "                                                   'accommodates', 'bedrooms',\n",
       "                                                   'price', 'minimum_nights',\n",
       "                                                   'maximum_nights',\n",
       "                                                   'has_availability',\n",
       "                                                   'number_of_reviews',\n",
       "                                                   'license',\n",
       "                                                   'instant_bookable']),\n",
       "                                                 ('cat',\n",
       "                                                  Pipeline(steps=[('1hot',\n",
       "                                                                   OneHotEncoder(handle_unknown='ignore'))]),\n",
       "                                                  ['host_response_time',\n",
       "                                                   'neighbourhood_group_cleansed',\n",
       "                                                   'room_type',\n",
       "                                                   'host_type'])])),\n",
       "                ('randfor',\n",
       "                 RandomForestClassifier(bootstrap=False, max_depth=50,\n",
       "                                        max_features='auto', n_estimators=1500,\n",
       "                                        random_state=15))])"
      ]
     },
     "execution_count": 56,
     "metadata": {},
     "output_type": "execute_result"
    }
   ],
   "source": [
    "pipe_rf_final.fit(X_train, y_train)"
   ]
  },
  {
   "cell_type": "code",
   "execution_count": 57,
   "id": "38d2af42-2e59-4699-8d0e-221386335117",
   "metadata": {
    "tags": []
   },
   "outputs": [
    {
     "name": "stdout",
     "output_type": "stream",
     "text": [
      "Accuracy: 0.99\n",
      "Recall: 0.99\n",
      "Precision: 0.98\n"
     ]
    }
   ],
   "source": [
    "y_test_predicted_rf_final = pipe_rf_final.predict(X_test)\n",
    "print(\"Accuracy: {:.2f}\".format(accuracy_score(y_test, y_test_predicted_rf_final)))\n",
    "print(\"Recall: {:.2f}\".format(recall_score(y_test, y_test_predicted_rf_final)))\n",
    "print(\"Precision: {:.2f}\".format(precision_score(y_test, y_test_predicted_rf_final)))"
   ]
  },
  {
   "cell_type": "code",
   "execution_count": 58,
   "id": "80a6a8fd-0c70-48bf-a77c-b37f0fbad5ee",
   "metadata": {
    "tags": []
   },
   "outputs": [
    {
     "data": {
      "text/plain": [
       "[('preprocessor',\n",
       "  ColumnTransformer(transformers=[('num',\n",
       "                                   Pipeline(steps=[('std_scaler',\n",
       "                                                    StandardScaler())]),\n",
       "                                   ['host_response_rate', 'host_acceptance_rate',\n",
       "                                    'host_is_superhost', 'host_listings_count',\n",
       "                                    'host_has_profile_pic',\n",
       "                                    'host_identity_verified', 'accommodates',\n",
       "                                    'bedrooms', 'price', 'minimum_nights',\n",
       "                                    'maximum_nights', 'has_availability',\n",
       "                                    'number_of_reviews', 'license',\n",
       "                                    'instant_bookable']),\n",
       "                                  ('cat',\n",
       "                                   Pipeline(steps=[('1hot',\n",
       "                                                    OneHotEncoder(handle_unknown='ignore'))]),\n",
       "                                   ['host_response_time',\n",
       "                                    'neighbourhood_group_cleansed', 'room_type',\n",
       "                                    'host_type'])])),\n",
       " ('randfor',\n",
       "  RandomForestClassifier(bootstrap=False, max_depth=50, max_features='auto',\n",
       "                         n_estimators=1500, random_state=15))]"
      ]
     },
     "execution_count": 58,
     "metadata": {},
     "output_type": "execute_result"
    }
   ],
   "source": [
    "pipe_rf_final.steps"
   ]
  },
  {
   "cell_type": "code",
   "execution_count": 59,
   "id": "8462cbc0-9354-4794-a76b-77212ad4815d",
   "metadata": {
    "tags": []
   },
   "outputs": [
    {
     "data": {
      "text/plain": [
       "array([0.01951348, 0.02408476, 0.00720364, 0.10766863, 0.00069156,\n",
       "       0.00277516, 0.02120939, 0.01028518, 0.05291788, 0.19684546,\n",
       "       0.01893237, 0.00040881, 0.03664728, 0.19752961, 0.00576861,\n",
       "       0.00046767, 0.01048957, 0.00319581, 0.00346809, 0.00625768,\n",
       "       0.00500874, 0.00343849, 0.00227532, 0.00107269, 0.00123268,\n",
       "       0.00075177, 0.00072106, 0.00216054, 0.00241418, 0.00167182,\n",
       "       0.02285869, 0.00048254, 0.03060983, 0.00057545, 0.09583038,\n",
       "       0.10253517])"
      ]
     },
     "execution_count": 59,
     "metadata": {},
     "output_type": "execute_result"
    }
   ],
   "source": [
    "pipe_rf_final.steps[1][1].feature_importances_"
   ]
  },
  {
   "cell_type": "code",
   "execution_count": 60,
   "id": "437f4de7-4db1-42a3-93a0-d3af6f695b98",
   "metadata": {
    "tags": []
   },
   "outputs": [
    {
     "data": {
      "text/plain": [
       "[('preprocessor',\n",
       "  ColumnTransformer(transformers=[('num',\n",
       "                                   Pipeline(steps=[('std_scaler',\n",
       "                                                    StandardScaler())]),\n",
       "                                   ['host_response_rate', 'host_acceptance_rate',\n",
       "                                    'host_is_superhost', 'host_listings_count',\n",
       "                                    'host_has_profile_pic',\n",
       "                                    'host_identity_verified', 'accommodates',\n",
       "                                    'bedrooms', 'price', 'minimum_nights',\n",
       "                                    'maximum_nights', 'has_availability',\n",
       "                                    'number_of_reviews', 'license',\n",
       "                                    'instant_bookable']),\n",
       "                                  ('cat',\n",
       "                                   Pipeline(steps=[('1hot',\n",
       "                                                    OneHotEncoder(handle_unknown='ignore'))]),\n",
       "                                   ['host_response_time',\n",
       "                                    'neighbourhood_group_cleansed', 'room_type',\n",
       "                                    'host_type'])])),\n",
       " ('randfor',\n",
       "  RandomForestClassifier(bootstrap=False, max_depth=50, max_features='auto',\n",
       "                         n_estimators=1500, random_state=15))]"
      ]
     },
     "execution_count": 60,
     "metadata": {},
     "output_type": "execute_result"
    }
   ],
   "source": [
    "pipe_rf_final.steps"
   ]
  },
  {
   "cell_type": "code",
   "execution_count": 61,
   "id": "139ab831-5196-430f-a643-3c207b1db8d5",
   "metadata": {
    "tags": []
   },
   "outputs": [
    {
     "data": {
      "text/plain": [
       "{'num': slice(0, 15, None),\n",
       " 'cat': slice(15, 36, None),\n",
       " 'remainder': slice(0, 0, None)}"
      ]
     },
     "execution_count": 61,
     "metadata": {},
     "output_type": "execute_result"
    }
   ],
   "source": [
    "pipe_rf_final[0].output_indices_"
   ]
  },
  {
   "cell_type": "code",
   "execution_count": 62,
   "id": "00d68baa-b7f8-4419-bb82-9abfeeeb2f28",
   "metadata": {
    "tags": []
   },
   "outputs": [],
   "source": [
    "encoded_cat_features = pipe_rf_final['preprocessor'].transformers_[1][1]\\\n",
    "    ['1hot'].get_feature_names_out(cat_features)"
   ]
  },
  {
   "cell_type": "code",
   "execution_count": 63,
   "id": "879577a7-2c5f-4b53-a78a-d0b96749badc",
   "metadata": {
    "tags": []
   },
   "outputs": [],
   "source": [
    "feature_names = np.insert(encoded_cat_features,0, num_features)"
   ]
  },
  {
   "cell_type": "code",
   "execution_count": 64,
   "id": "837aeacc-db09-4fc9-9002-9e30708706cc",
   "metadata": {
    "tags": []
   },
   "outputs": [
    {
     "data": {
      "text/plain": [
       "<BarContainer object of 36 artists>"
      ]
     },
     "execution_count": 64,
     "metadata": {},
     "output_type": "execute_result"
    },
    {
     "data": {
      "image/png": "[encoded data removed]",
      "text/plain": [
       "<Figure size 640x480 with 1 Axes>"
      ]
     },
     "metadata": {},
     "output_type": "display_data"
    }
   ],
   "source": [
    "plt.barh(feature_names, pipe_rf_final.steps[1][1].feature_importances_)"
   ]
  },
  {
   "cell_type": "code",
   "execution_count": 65,
   "id": "d9429db6-6b4d-44fe-9c0d-6417c306a33f",
   "metadata": {
    "tags": []
   },
   "outputs": [
    {
     "name": "stdout",
     "output_type": "stream",
     "text": [
      "Accuracy: 0.99\n",
      "Recall: 0.99\n",
      "Precision: 0.98\n"
     ]
    }
   ],
   "source": [
    "y_test_predicted_rf_final = randomforest.predict(X_test)\n",
    "print(\"Accuracy: {:.2f}\".format(accuracy_score(y_test, y_test_predicted_rf_final)))\n",
    "print(\"Recall: {:.2f}\".format(recall_score(y_test, y_test_predicted_rf_final)))\n",
    "print(\"Precision: {:.2f}\".format(precision_score(y_test, y_test_predicted_rf_final)))"
   ]
  },
  {
   "cell_type": "code",
   "execution_count": 67,
   "id": "9d0beba5-b3dd-4dd2-9718-695798625098",
   "metadata": {
    "tags": []
   },
   "outputs": [
    {
     "data": {
      "image/png": "[encoded data removed]",
      "text/plain": [
       "<Figure size 600x500 with 1 Axes>"
      ]
     },
     "metadata": {},
     "output_type": "display_data"
    }
   ],
   "source": [
    "%matplotlib inline\n",
    "cfm_rf_final = confusion_matrix(y_test, y_test_predicted_rf_final)\n",
    "fig = plt.figure()\n",
    "fig.set_size_inches(6,5)\n",
    "sns.set(rc={'axes.facecolor':'#242424','figure.facecolor':'#242424', 'text.color':'white'})\n",
    "group_names = ['True Neg','False Pos','False Neg','True Pos']\n",
    "group_counts = ['{0:0.0f}'.format(value) for value in\n",
    "                cfm_rf_final.flatten()]\n",
    "group_percentages = ['{0:.2%}'.format(value) for value in\n",
    "                     cfm_rf_final.flatten()/np.sum(cfm_rf_final)]\n",
    "labels = [f'{v1}\\n{v2}\\n{v3}' for v1, v2, v3 in\n",
    "          zip(group_names,group_counts,group_percentages)]\n",
    "labels = np.asarray(labels).reshape(2,2)\n",
    "ax = plt.axes()\n",
    "x_axis_labels = ['Compliant', 'Suspicious'] \n",
    "y_axis_labels = ['Compliant', 'Suspicious'] \n",
    "sns.heatmap(cfm_rf_final, annot=labels, fmt='', cmap=c2, xticklabels=x_axis_labels, yticklabels=y_axis_labels, linewidth=.5, cbar = False, linecolor='#242424')\n",
    "# ax.set_title('Confusion Matrix')\n",
    "xlabel = plt.xlabel('Predicted Value')\n",
    "ylabel = plt.ylabel('Actual Value')\n",
    "xlabel.set_color(\"white\")\n",
    "ylabel.set_color(\"white\")\n",
    "ax.tick_params(colors='white')\n",
    "plt.show();"
   ]
  },
  {
   "cell_type": "code",
   "execution_count": 57,
   "id": "bbd2358c-8469-45c5-b4e3-5283018d99f5",
   "metadata": {
    "tags": []
   },
   "outputs": [],
   "source": [
    "y_test_proba_rf = randomforest.predict_proba(X_test)\n",
    "y_test_proba_rf = y_test_proba_rf[:,1]\n",
    "rf_auc = roc_auc_score(y_test, y_test_proba_rf)\n",
    "fprrf, tprrf, thresholdsrf = roc_curve(y_test, y_test_proba_rf)"
   ]
  },
  {
   "cell_type": "code",
   "execution_count": 58,
   "id": "f9c68b7f-bc32-47c0-af96-dfb8d993cb3d",
   "metadata": {
    "tags": []
   },
   "outputs": [
    {
     "data": {
      "text/plain": [
       "0.9983860251717395"
      ]
     },
     "execution_count": 58,
     "metadata": {},
     "output_type": "execute_result"
    }
   ],
   "source": [
    "rf_auc"
   ]
  },
  {
   "cell_type": "code",
   "execution_count": 59,
   "id": "c6899e42-4eb6-48cb-b721-f369e92b6322",
   "metadata": {
    "tags": []
   },
   "outputs": [
    {
     "data": {
      "image/png": "[encoded data removed]",
      "text/plain": [
       "<Figure size 640x480 with 1 Axes>"
      ]
     },
     "metadata": {},
     "output_type": "display_data"
    }
   ],
   "source": [
    "from matplotlib import pyplot\n",
    "pyplot.plot(fprbl, tprbl, linestyle='--', label='Logistic Regression', color='#8e9aaf')\n",
    "pyplot.plot(fprrf, tprrf, label='Random Forest', color = '#cbc0d3')\n",
    "pyplot.xlabel('False Positive Rate')\n",
    "pyplot.ylabel('True Positive Rate')\n",
    "pyplot.text(0.3,0.3,'Roc-Auc-Score improved from 0.84 to 0.86', bbox={\n",
    "        'facecolor': '#D9E8E8', 'alpha': 0.4, 'pad': 5})\n",
    "pyplot.legend()\n",
    "pyplot.show()"
   ]
  },
  {
   "cell_type": "markdown",
   "id": "354ba845-e2ab-4b8e-9c06-1e31a9c3873a",
   "metadata": {},
   "source": [
    "## XGB Classifier"
   ]
  },
  {
   "cell_type": "code",
   "execution_count": 60,
   "id": "d6d77881-8744-4613-9a83-70ebae09bd40",
   "metadata": {
    "tags": []
   },
   "outputs": [
    {
     "name": "stdout",
     "output_type": "stream",
     "text": [
      "Cross validation scores:\n",
      "-------------------------\n",
      "Accuracy: 0.98\n",
      "Recall: 0.99\n",
      "Precision: 0.97\n"
     ]
    }
   ],
   "source": [
    "pipe_xgb = Pipeline([\n",
    "    ('preprocessor', preprocessor),\n",
    "    ('xgb', XGBClassifier(random_state=RSEED))\n",
    "])\n",
    "\n",
    "y_train_predicted_xgb = cross_val_predict(pipe_xgb, X_train, y_train, cv=5)\n",
    "\n",
    "print('Cross validation scores:')\n",
    "print('-------------------------')\n",
    "print(\"Accuracy: {:.2f}\".format(accuracy_score(y_train, y_train_predicted_rf)))\n",
    "print(\"Recall: {:.2f}\".format(recall_score(y_train, y_train_predicted_rf)))\n",
    "print(\"Precision: {:.2f}\".format(precision_score(y_train, y_train_predicted_rf)))"
   ]
  },
  {
   "cell_type": "code",
   "execution_count": 61,
   "id": "df53ba47-bbed-4e2f-a296-652f377cba35",
   "metadata": {
    "tags": []
   },
   "outputs": [],
   "source": [
    "param_xgb_all = {\n",
    "    \"xgb__learning_rate\" : [0.05,0.15,0.30],\n",
    "    \"xgb__max_depth\" : [ 3, 6, 10, 15],\n",
    "    \"xgb__min_child_weight\" : [ 1, 3, 5, 7 ],\n",
    "    \"xgb__gamma\": [ 0.0, 0.1, 0.2 , 0.3, 0.4 ],\n",
    "    \"xgb__colsample_bytree\" : [ 0.3,  0.5 , 0.7 ],\n",
    "    \"xgb__subsample\" : [0.5, 1],\n",
    "    \"xgb__scale_pos_weight\" : [1, 2]\n",
    "    }"
   ]
  },
  {
   "cell_type": "code",
   "execution_count": 62,
   "id": "e8a1893d-d09c-4fae-9e17-a372f96c1d29",
   "metadata": {
    "tags": []
   },
   "outputs": [],
   "source": [
    "param_xgb_best = {\n",
    "    \"xgb__learning_rate\" : [0.05],\n",
    "    \"xgb__max_depth\" : [10],\n",
    "    \"xgb__min_child_weight\" : [5],\n",
    "    \"xgb__gamma\": [ 0.1],\n",
    "    \"xgb__colsample_bytree\" : [0.5],\n",
    "    \"xgb__subsample\" : [0.5],\n",
    "    \"xgb__scale_pos_weight\" : [1]\n",
    "    }"
   ]
  },
  {
   "cell_type": "code",
   "execution_count": 75,
   "id": "b83a4818-ba9e-40ab-8924-1158e350ec34",
   "metadata": {
    "tags": []
   },
   "outputs": [
    {
     "name": "stdout",
     "output_type": "stream",
     "text": [
      "Fitting 5 folds for each of 1 candidates, totalling 5 fits\n",
      "[CV 5/5] END xgb__colsample_bytree=0.7, xgb__gamma=0.4, xgb__learning_rate=0.05, xgb__max_depth=3, xgb__min_child_weight=1, xgb__scale_pos_weight=1, xgb__subsample=1;, score=0.968 total time=   1.0s\n",
      "[CV 3/5] END xgb__colsample_bytree=0.7, xgb__gamma=0.4, xgb__learning_rate=0.05, xgb__max_depth=3, xgb__min_child_weight=1, xgb__scale_pos_weight=2, xgb__subsample=1;, score=0.945 total time=   0.9s\n",
      "[CV 1/5] END xgb__colsample_bytree=0.7, xgb__gamma=0.4, xgb__learning_rate=0.05, xgb__max_depth=3, xgb__min_child_weight=3, xgb__scale_pos_weight=1, xgb__subsample=1;, score=0.962 total time=   0.9s\n",
      "[CV 4/5] END xgb__colsample_bytree=0.7, xgb__gamma=0.4, xgb__learning_rate=0.05, xgb__max_depth=3, xgb__min_child_weight=3, xgb__scale_pos_weight=2, xgb__subsample=0.5;, score=0.955 total time=   1.1s\n",
      "[CV 2/5] END xgb__colsample_bytree=0.7, xgb__gamma=0.4, xgb__learning_rate=0.05, xgb__max_depth=3, xgb__min_child_weight=5, xgb__scale_pos_weight=1, xgb__subsample=0.5;, score=0.966 total time=   1.2s\n",
      "[CV 5/5] END xgb__colsample_bytree=0.7, xgb__gamma=0.4, xgb__learning_rate=0.05, xgb__max_depth=3, xgb__min_child_weight=5, xgb__scale_pos_weight=1, xgb__subsample=1;, score=0.969 total time=   1.0s\n",
      "[CV 3/5] END xgb__colsample_bytree=0.7, xgb__gamma=0.4, xgb__learning_rate=0.05, xgb__max_depth=3, xgb__min_child_weight=5, xgb__scale_pos_weight=2, xgb__subsample=1;, score=0.947 total time=   1.0s\n",
      "[CV 1/5] END xgb__colsample_bytree=0.7, xgb__gamma=0.4, xgb__learning_rate=0.05, xgb__max_depth=3, xgb__min_child_weight=7, xgb__scale_pos_weight=1, xgb__subsample=1;, score=0.962 total time=   1.0s\n",
      "[CV 4/5] END xgb__colsample_bytree=0.7, xgb__gamma=0.4, xgb__learning_rate=0.05, xgb__max_depth=3, xgb__min_child_weight=7, xgb__scale_pos_weight=2, xgb__subsample=0.5;, score=0.955 total time=   1.2s\n",
      "[CV 2/5] END xgb__colsample_bytree=0.7, xgb__gamma=0.4, xgb__learning_rate=0.05, xgb__max_depth=6, xgb__min_child_weight=1, xgb__scale_pos_weight=1, xgb__subsample=0.5;, score=0.970 total time=   2.0s\n",
      "[CV 5/5] END xgb__colsample_bytree=0.7, xgb__gamma=0.4, xgb__learning_rate=0.05, xgb__max_depth=6, xgb__min_child_weight=1, xgb__scale_pos_weight=1, xgb__subsample=1;, score=0.986 total time=   1.7s\n",
      "[CV 2/5] END xgb__colsample_bytree=0.7, xgb__gamma=0.4, xgb__learning_rate=0.05, xgb__max_depth=6, xgb__min_child_weight=1, xgb__scale_pos_weight=2, xgb__subsample=1;, score=0.964 total time=   1.8s\n",
      "[CV 5/5] END xgb__colsample_bytree=0.7, xgb__gamma=0.4, xgb__learning_rate=0.05, xgb__max_depth=6, xgb__min_child_weight=3, xgb__scale_pos_weight=1, xgb__subsample=0.5;, score=0.982 total time=   1.9s\n",
      "[CV 3/5] END xgb__colsample_bytree=0.7, xgb__gamma=0.4, xgb__learning_rate=0.05, xgb__max_depth=6, xgb__min_child_weight=3, xgb__scale_pos_weight=2, xgb__subsample=0.5;, score=0.955 total time=   1.8s\n",
      "[CV 1/5] END xgb__colsample_bytree=0.7, xgb__gamma=0.4, xgb__learning_rate=0.05, xgb__max_depth=6, xgb__min_child_weight=5, xgb__scale_pos_weight=1, xgb__subsample=0.5;, score=0.970 total time=   1.8s\n",
      "[CV 4/5] END xgb__colsample_bytree=0.7, xgb__gamma=0.4, xgb__learning_rate=0.05, xgb__max_depth=6, xgb__min_child_weight=5, xgb__scale_pos_weight=1, xgb__subsample=1;, score=0.971 total time=   1.9s\n",
      "[CV 2/5] END xgb__colsample_bytree=0.7, xgb__gamma=0.4, xgb__learning_rate=0.05, xgb__max_depth=6, xgb__min_child_weight=5, xgb__scale_pos_weight=2, xgb__subsample=1;, score=0.960 total time=   2.0s\n",
      "[CV 5/5] END xgb__colsample_bytree=0.7, xgb__gamma=0.4, xgb__learning_rate=0.05, xgb__max_depth=6, xgb__min_child_weight=7, xgb__scale_pos_weight=1, xgb__subsample=0.5;, score=0.981 total time=   1.9s\n",
      "[CV 3/5] END xgb__colsample_bytree=0.7, xgb__gamma=0.4, xgb__learning_rate=0.05, xgb__max_depth=6, xgb__min_child_weight=7, xgb__scale_pos_weight=2, xgb__subsample=0.5;, score=0.952 total time=   2.1s\n",
      "[CV 1/5] END xgb__colsample_bytree=0.7, xgb__gamma=0.4, xgb__learning_rate=0.05, xgb__max_depth=10, xgb__min_child_weight=1, xgb__scale_pos_weight=1, xgb__subsample=0.5;, score=0.973 total time=   2.9s\n",
      "[CV 4/5] END xgb__colsample_bytree=0.7, xgb__gamma=0.4, xgb__learning_rate=0.05, xgb__max_depth=10, xgb__min_child_weight=1, xgb__scale_pos_weight=1, xgb__subsample=1;, score=0.974 total time=   3.7s\n",
      "[CV 2/5] END xgb__colsample_bytree=0.7, xgb__gamma=0.4, xgb__learning_rate=0.05, xgb__max_depth=10, xgb__min_child_weight=1, xgb__scale_pos_weight=2, xgb__subsample=1;, score=0.974 total time=   3.6s\n",
      "[CV 5/5] END xgb__colsample_bytree=0.7, xgb__gamma=0.4, xgb__learning_rate=0.05, xgb__max_depth=10, xgb__min_child_weight=3, xgb__scale_pos_weight=1, xgb__subsample=1;, score=0.984 total time=   3.5s\n",
      "[CV 2/5] END xgb__colsample_bytree=0.7, xgb__gamma=0.4, xgb__learning_rate=0.05, xgb__max_depth=10, xgb__min_child_weight=3, xgb__scale_pos_weight=2, xgb__subsample=1;, score=0.967 total time=   3.6s\n",
      "[CV 1/5] END xgb__colsample_bytree=0.7, xgb__gamma=0.4, xgb__learning_rate=0.05, xgb__max_depth=10, xgb__min_child_weight=5, xgb__scale_pos_weight=1, xgb__subsample=1;, score=0.973 total time=   3.3s\n",
      "[CV 4/5] END xgb__colsample_bytree=0.7, xgb__gamma=0.4, xgb__learning_rate=0.05, xgb__max_depth=10, xgb__min_child_weight=5, xgb__scale_pos_weight=2, xgb__subsample=0.5;, score=0.956 total time=   2.9s\n",
      "[CV 2/5] END xgb__colsample_bytree=0.7, xgb__gamma=0.4, xgb__learning_rate=0.05, xgb__max_depth=10, xgb__min_child_weight=7, xgb__scale_pos_weight=1, xgb__subsample=0.5;, score=0.970 total time=   2.5s\n",
      "[CV 3/5] END xgb__colsample_bytree=0.7, xgb__gamma=0.4, xgb__learning_rate=0.05, xgb__max_depth=10, xgb__min_child_weight=7, xgb__scale_pos_weight=1, xgb__subsample=1;, score=0.972 total time=   2.9s\n",
      "[CV 1/5] END xgb__colsample_bytree=0.7, xgb__gamma=0.4, xgb__learning_rate=0.05, xgb__max_depth=10, xgb__min_child_weight=7, xgb__scale_pos_weight=2, xgb__subsample=1;, score=0.967 total time=   3.1s\n",
      "[CV 5/5] END xgb__colsample_bytree=0.7, xgb__gamma=0.4, xgb__learning_rate=0.05, xgb__max_depth=15, xgb__min_child_weight=1, xgb__scale_pos_weight=1, xgb__subsample=0.5;, score=0.984 total time=   3.6s\n",
      "[CV 3/5] END xgb__colsample_bytree=0.7, xgb__gamma=0.4, xgb__learning_rate=0.05, xgb__max_depth=15, xgb__min_child_weight=1, xgb__scale_pos_weight=2, xgb__subsample=0.5;, score=0.965 total time=   3.5s\n",
      "[CV 1/5] END xgb__colsample_bytree=0.7, xgb__gamma=0.4, xgb__learning_rate=0.05, xgb__max_depth=15, xgb__min_child_weight=3, xgb__scale_pos_weight=1, xgb__subsample=0.5;, score=0.972 total time=   3.1s\n",
      "[CV 5/5] END xgb__colsample_bytree=0.7, xgb__gamma=0.4, xgb__learning_rate=0.05, xgb__max_depth=15, xgb__min_child_weight=3, xgb__scale_pos_weight=1, xgb__subsample=0.5;, score=0.983 total time=   2.9s\n",
      "[CV 3/5] END xgb__colsample_bytree=0.7, xgb__gamma=0.4, xgb__learning_rate=0.05, xgb__max_depth=15, xgb__min_child_weight=3, xgb__scale_pos_weight=2, xgb__subsample=0.5;, score=0.959 total time=   3.1s\n",
      "[CV 1/5] END xgb__colsample_bytree=0.7, xgb__gamma=0.4, xgb__learning_rate=0.05, xgb__max_depth=15, xgb__min_child_weight=5, xgb__scale_pos_weight=1, xgb__subsample=0.5;, score=0.968 total time=   2.8s\n",
      "[CV 3/5] END xgb__colsample_bytree=0.7, xgb__gamma=0.4, xgb__learning_rate=0.05, xgb__max_depth=15, xgb__min_child_weight=5, xgb__scale_pos_weight=1, xgb__subsample=1;, score=0.974 total time=   3.7s\n",
      "[CV 1/5] END xgb__colsample_bytree=0.7, xgb__gamma=0.4, xgb__learning_rate=0.05, xgb__max_depth=15, xgb__min_child_weight=5, xgb__scale_pos_weight=2, xgb__subsample=1;, score=0.965 total time=   4.6s\n",
      "[CV 4/5] END xgb__colsample_bytree=0.7, xgb__gamma=0.4, xgb__learning_rate=0.05, xgb__max_depth=15, xgb__min_child_weight=7, xgb__scale_pos_weight=1, xgb__subsample=0.5;, score=0.968 total time=   2.8s\n",
      "[CV 2/5] END xgb__colsample_bytree=0.7, xgb__gamma=0.4, xgb__learning_rate=0.05, xgb__max_depth=15, xgb__min_child_weight=7, xgb__scale_pos_weight=2, xgb__subsample=0.5;, score=0.959 total time=   2.9s\n",
      "[CV 5/5] END xgb__colsample_bytree=0.7, xgb__gamma=0.4, xgb__learning_rate=0.05, xgb__max_depth=15, xgb__min_child_weight=7, xgb__scale_pos_weight=2, xgb__subsample=1;, score=0.979 total time=   3.5s\n",
      "[CV 2/5] END xgb__colsample_bytree=0.7, xgb__gamma=0.4, xgb__learning_rate=0.15, xgb__max_depth=3, xgb__min_child_weight=1, xgb__scale_pos_weight=2, xgb__subsample=0.5;, score=0.957 total time=   1.4s\n",
      "[CV 5/5] END xgb__colsample_bytree=0.7, xgb__gamma=0.4, xgb__learning_rate=0.15, xgb__max_depth=3, xgb__min_child_weight=1, xgb__scale_pos_weight=2, xgb__subsample=1;, score=0.971 total time=   1.1s\n",
      "[CV 3/5] END xgb__colsample_bytree=0.7, xgb__gamma=0.4, xgb__learning_rate=0.15, xgb__max_depth=3, xgb__min_child_weight=3, xgb__scale_pos_weight=1, xgb__subsample=1;, score=0.962 total time=   1.4s\n",
      "[CV 1/5] END xgb__colsample_bytree=0.7, xgb__gamma=0.4, xgb__learning_rate=0.15, xgb__max_depth=3, xgb__min_child_weight=3, xgb__scale_pos_weight=2, xgb__subsample=1;, score=0.960 total time=   1.4s\n",
      "[CV 5/5] END xgb__colsample_bytree=0.7, xgb__gamma=0.4, xgb__learning_rate=0.15, xgb__max_depth=3, xgb__min_child_weight=5, xgb__scale_pos_weight=1, xgb__subsample=0.5;, score=0.983 total time=   1.3s\n",
      "[CV 3/5] END xgb__colsample_bytree=0.7, xgb__gamma=0.4, xgb__learning_rate=0.15, xgb__max_depth=3, xgb__min_child_weight=5, xgb__scale_pos_weight=2, xgb__subsample=0.5;, score=0.958 total time=   1.5s\n",
      "[CV 5/5] END xgb__colsample_bytree=0.7, xgb__gamma=0.4, xgb__learning_rate=0.15, xgb__max_depth=3, xgb__min_child_weight=5, xgb__scale_pos_weight=2, xgb__subsample=1;, score=0.970 total time=   1.4s\n",
      "[CV 1/5] END xgb__colsample_bytree=0.7, xgb__gamma=0.4, xgb__learning_rate=0.15, xgb__max_depth=3, xgb__min_child_weight=7, xgb__scale_pos_weight=1, xgb__subsample=1;, score=0.969 total time=   1.3s\n",
      "[CV 1/5] END xgb__colsample_bytree=0.7, xgb__gamma=0.4, xgb__learning_rate=0.15, xgb__max_depth=3, xgb__min_child_weight=7, xgb__scale_pos_weight=2, xgb__subsample=0.5;, score=0.963 total time=   1.6s\n",
      "[CV 4/5] END xgb__colsample_bytree=0.7, xgb__gamma=0.4, xgb__learning_rate=0.15, xgb__max_depth=3, xgb__min_child_weight=7, xgb__scale_pos_weight=2, xgb__subsample=1;, score=0.955 total time=   1.1s\n",
      "[CV 1/5] END xgb__colsample_bytree=0.7, xgb__gamma=0.4, xgb__learning_rate=0.15, xgb__max_depth=6, xgb__min_child_weight=1, xgb__scale_pos_weight=1, xgb__subsample=1;, score=0.976 total time=   2.1s\n",
      "[CV 2/5] END xgb__colsample_bytree=0.7, xgb__gamma=0.4, xgb__learning_rate=0.15, xgb__max_depth=6, xgb__min_child_weight=1, xgb__scale_pos_weight=2, xgb__subsample=0.5;, score=0.974 total time=   2.5s\n",
      "[CV 5/5] END xgb__colsample_bytree=0.7, xgb__gamma=0.4, xgb__learning_rate=0.15, xgb__max_depth=6, xgb__min_child_weight=1, xgb__scale_pos_weight=2, xgb__subsample=1;, score=0.987 total time=   2.3s\n",
      "[CV 3/5] END xgb__colsample_bytree=0.7, xgb__gamma=0.4, xgb__learning_rate=0.15, xgb__max_depth=6, xgb__min_child_weight=3, xgb__scale_pos_weight=1, xgb__subsample=1;, score=0.973 total time=   2.1s\n",
      "[CV 1/5] END xgb__colsample_bytree=0.7, xgb__gamma=0.4, xgb__learning_rate=0.15, xgb__max_depth=6, xgb__min_child_weight=3, xgb__scale_pos_weight=2, xgb__subsample=1;, score=0.970 total time=   2.2s\n",
      "[CV 4/5] END xgb__colsample_bytree=0.7, xgb__gamma=0.4, xgb__learning_rate=0.15, xgb__max_depth=6, xgb__min_child_weight=5, xgb__scale_pos_weight=1, xgb__subsample=0.5;, score=0.970 total time=   1.9s\n",
      "[CV 2/5] END xgb__colsample_bytree=0.7, xgb__gamma=0.4, xgb__learning_rate=0.15, xgb__max_depth=6, xgb__min_child_weight=5, xgb__scale_pos_weight=2, xgb__subsample=0.5;, score=0.965 total time=   2.1s\n",
      "[CV 5/5] END xgb__colsample_bytree=0.7, xgb__gamma=0.4, xgb__learning_rate=0.15, xgb__max_depth=6, xgb__min_child_weight=5, xgb__scale_pos_weight=2, xgb__subsample=1;, score=0.983 total time=   2.0s\n",
      "[CV 4/5] END xgb__colsample_bytree=0.7, xgb__gamma=0.4, xgb__learning_rate=0.15, xgb__max_depth=6, xgb__min_child_weight=7, xgb__scale_pos_weight=1, xgb__subsample=1;, score=0.972 total time=   1.9s\n",
      "[CV 3/5] END xgb__colsample_bytree=0.7, xgb__gamma=0.4, xgb__learning_rate=0.15, xgb__max_depth=6, xgb__min_child_weight=7, xgb__scale_pos_weight=2, xgb__subsample=1;, score=0.967 total time=   1.8s\n",
      "[CV 5/5] END xgb__colsample_bytree=0.7, xgb__gamma=0.4, xgb__learning_rate=0.15, xgb__max_depth=10, xgb__min_child_weight=1, xgb__scale_pos_weight=1, xgb__subsample=0.5;, score=0.988 total time=   2.5s\n",
      "[CV 3/5] END xgb__colsample_bytree=0.7, xgb__gamma=0.4, xgb__learning_rate=0.15, xgb__max_depth=10, xgb__min_child_weight=1, xgb__scale_pos_weight=2, xgb__subsample=0.5;, score=0.972 total time=   2.4s\n",
      "[CV 1/5] END xgb__colsample_bytree=0.7, xgb__gamma=0.4, xgb__learning_rate=0.15, xgb__max_depth=10, xgb__min_child_weight=3, xgb__scale_pos_weight=1, xgb__subsample=0.5;, score=0.974 total time=   2.1s\n",
      "[CV 5/5] END xgb__colsample_bytree=0.7, xgb__gamma=0.4, xgb__learning_rate=0.15, xgb__max_depth=10, xgb__min_child_weight=3, xgb__scale_pos_weight=1, xgb__subsample=0.5;, score=0.988 total time=   2.1s\n",
      "[CV 3/5] END xgb__colsample_bytree=0.7, xgb__gamma=0.4, xgb__learning_rate=0.15, xgb__max_depth=10, xgb__min_child_weight=3, xgb__scale_pos_weight=2, xgb__subsample=0.5;, score=0.965 total time=   2.1s\n",
      "[CV 1/5] END xgb__colsample_bytree=0.7, xgb__gamma=0.4, xgb__learning_rate=0.15, xgb__max_depth=10, xgb__min_child_weight=5, xgb__scale_pos_weight=1, xgb__subsample=0.5;, score=0.971 total time=   1.8s\n",
      "[CV 3/5] END xgb__colsample_bytree=0.7, xgb__gamma=0.4, xgb__learning_rate=0.15, xgb__max_depth=10, xgb__min_child_weight=5, xgb__scale_pos_weight=1, xgb__subsample=1;, score=0.974 total time=   2.3s\n",
      "[CV 1/5] END xgb__colsample_bytree=0.7, xgb__gamma=0.4, xgb__learning_rate=0.15, xgb__max_depth=10, xgb__min_child_weight=5, xgb__scale_pos_weight=2, xgb__subsample=1;, score=0.972 total time=   2.3s\n",
      "[CV 4/5] END xgb__colsample_bytree=0.7, xgb__gamma=0.4, xgb__learning_rate=0.15, xgb__max_depth=10, xgb__min_child_weight=7, xgb__scale_pos_weight=1, xgb__subsample=0.5;, score=0.970 total time=   1.7s\n",
      "[CV 2/5] END xgb__colsample_bytree=0.7, xgb__gamma=0.4, xgb__learning_rate=0.15, xgb__max_depth=10, xgb__min_child_weight=7, xgb__scale_pos_weight=2, xgb__subsample=0.5;, score=0.966 total time=   1.8s\n",
      "[CV 5/5] END xgb__colsample_bytree=0.7, xgb__gamma=0.4, xgb__learning_rate=0.15, xgb__max_depth=10, xgb__min_child_weight=7, xgb__scale_pos_weight=2, xgb__subsample=1;, score=0.984 total time=   2.2s\n",
      "[CV 3/5] END xgb__colsample_bytree=0.7, xgb__gamma=0.4, xgb__learning_rate=0.15, xgb__max_depth=15, xgb__min_child_weight=1, xgb__scale_pos_weight=1, xgb__subsample=1;, score=0.979 total time=   2.8s\n",
      "[CV 1/5] END xgb__colsample_bytree=0.7, xgb__gamma=0.4, xgb__learning_rate=0.15, xgb__max_depth=15, xgb__min_child_weight=1, xgb__scale_pos_weight=2, xgb__subsample=1;, score=0.979 total time=   3.0s\n",
      "[CV 4/5] END xgb__colsample_bytree=0.7, xgb__gamma=0.4, xgb__learning_rate=0.15, xgb__max_depth=15, xgb__min_child_weight=3, xgb__scale_pos_weight=1, xgb__subsample=0.5;, score=0.973 total time=   2.0s\n",
      "[CV 2/5] END xgb__colsample_bytree=0.7, xgb__gamma=0.4, xgb__learning_rate=0.15, xgb__max_depth=15, xgb__min_child_weight=3, xgb__scale_pos_weight=2, xgb__subsample=0.5;, score=0.969 total time=   2.2s\n",
      "[CV 5/5] END xgb__colsample_bytree=0.7, xgb__gamma=0.4, xgb__learning_rate=0.15, xgb__max_depth=15, xgb__min_child_weight=3, xgb__scale_pos_weight=2, xgb__subsample=1;, score=0.984 total time=   2.5s\n",
      "[CV 4/5] END xgb__colsample_bytree=0.7, xgb__gamma=0.4, xgb__learning_rate=0.15, xgb__max_depth=15, xgb__min_child_weight=5, xgb__scale_pos_weight=1, xgb__subsample=1;, score=0.973 total time=   2.2s\n",
      "[CV 3/5] END xgb__colsample_bytree=0.7, xgb__gamma=0.4, xgb__learning_rate=0.15, xgb__max_depth=15, xgb__min_child_weight=5, xgb__scale_pos_weight=2, xgb__subsample=1;, score=0.972 total time=   2.3s\n",
      "[CV 2/5] END xgb__colsample_bytree=0.7, xgb__gamma=0.4, xgb__learning_rate=0.15, xgb__max_depth=15, xgb__min_child_weight=7, xgb__scale_pos_weight=1, xgb__subsample=1;, score=0.973 total time=   2.0s\n",
      "[CV 1/5] END xgb__colsample_bytree=0.7, xgb__gamma=0.4, xgb__learning_rate=0.15, xgb__max_depth=15, xgb__min_child_weight=7, xgb__scale_pos_weight=2, xgb__subsample=1;, score=0.971 total time=   2.1s\n"
     ]
    },
    {
     "data": {
      "text/html": [
       "<style>#sk-container-id-9 {color: black;background-color: white;}#sk-container-id-9 pre{padding: 0;}#sk-container-id-9 div.sk-toggleable {background-color: white;}#sk-container-id-9 label.sk-toggleable__label {cursor: pointer;display: block;width: 100%;margin-bottom: 0;padding: 0.3em;box-sizing: border-box;text-align: center;}#sk-container-id-9 label.sk-toggleable__label-arrow:before {content: \"▸\";float: left;margin-right: 0.25em;color: #696969;}#sk-container-id-9 label.sk-toggleable__label-arrow:hover:before {color: black;}#sk-container-id-9 div.sk-estimator:hover label.sk-toggleable__label-arrow:before {color: black;}#sk-container-id-9 div.sk-toggleable__content {max-height: 0;max-width: 0;overflow: hidden;text-align: left;background-color: #f0f8ff;}#sk-container-id-9 div.sk-toggleable__content pre {margin: 0.2em;color: black;border-radius: 0.25em;background-color: #f0f8ff;}#sk-container-id-9 input.sk-toggleable__control:checked~div.sk-toggleable__content {max-height: 200px;max-width: 100%;overflow: auto;}#sk-container-id-9 input.sk-toggleable__control:checked~label.sk-toggleable__label-arrow:before {content: \"▾\";}#sk-container-id-9 div.sk-estimator input.sk-toggleable__control:checked~label.sk-toggleable__label {background-color: #d4ebff;}#sk-container-id-9 div.sk-label input.sk-toggleable__control:checked~label.sk-toggleable__label {background-color: #d4ebff;}#sk-container-id-9 input.sk-hidden--visually {border: 0;clip: rect(1px 1px 1px 1px);clip: rect(1px, 1px, 1px, 1px);height: 1px;margin: -1px;overflow: hidden;padding: 0;position: absolute;width: 1px;}#sk-container-id-9 div.sk-estimator {font-family: monospace;background-color: #f0f8ff;border: 1px dotted black;border-radius: 0.25em;box-sizing: border-box;margin-bottom: 0.5em;}#sk-container-id-9 div.sk-estimator:hover {background-color: #d4ebff;}#sk-container-id-9 div.sk-parallel-item::after {content: \"\";width: 100%;border-bottom: 1px solid gray;flex-grow: 1;}#sk-container-id-9 div.sk-label:hover label.sk-toggleable__label {background-color: #d4ebff;}#sk-container-id-9 div.sk-serial::before {content: \"\";position: absolute;border-left: 1px solid gray;box-sizing: border-box;top: 0;bottom: 0;left: 50%;z-index: 0;}#sk-container-id-9 div.sk-serial {display: flex;flex-direction: column;align-items: center;background-color: white;padding-right: 0.2em;padding-left: 0.2em;position: relative;}#sk-container-id-9 div.sk-item {position: relative;z-index: 1;}#sk-container-id-9 div.sk-parallel {display: flex;align-items: stretch;justify-content: center;background-color: white;position: relative;}#sk-container-id-9 div.sk-item::before, #sk-container-id-9 div.sk-parallel-item::before {content: \"\";position: absolute;border-left: 1px solid gray;box-sizing: border-box;top: 0;bottom: 0;left: 50%;z-index: -1;}#sk-container-id-9 div.sk-parallel-item {display: flex;flex-direction: column;z-index: 1;position: relative;background-color: white;}#sk-container-id-9 div.sk-parallel-item:first-child::after {align-self: flex-end;width: 50%;}#sk-container-id-9 div.sk-parallel-item:last-child::after {align-self: flex-start;width: 50%;}#sk-container-id-9 div.sk-parallel-item:only-child::after {width: 0;}#sk-container-id-9 div.sk-dashed-wrapped {border: 1px dashed gray;margin: 0 0.4em 0.5em 0.4em;box-sizing: border-box;padding-bottom: 0.4em;background-color: white;}#sk-container-id-9 div.sk-label label {font-family: monospace;font-weight: bold;display: inline-block;line-height: 1.2em;}#sk-container-id-9 div.sk-label-container {text-align: center;}#sk-container-id-9 div.sk-container {/* jupyter's `normalize.less` sets `[hidden] { display: none; }` but bootstrap.min.css set `[hidden] { display: none !important; }` so we also need the `!important` here to be able to override the default hidden behavior on the sphinx rendered scikit-learn.org. See: https://github.com/scikit-learn/scikit-learn/issues/21755 */display: inline-block !important;position: relative;}#sk-container-id-9 div.sk-text-repr-fallback {display: none;}</style><div id=\"sk-container-id-9\" class=\"sk-top-container\"><div class=\"sk-text-repr-fallback\"><pre>GridSearchCV(cv=5,\n",
       "             estimator=Pipeline(steps=[(&#x27;preprocessor&#x27;,\n",
       "                                        ColumnTransformer(transformers=[(&#x27;num&#x27;,\n",
       "                                                                         Pipeline(steps=[(&#x27;std_scaler&#x27;,\n",
       "                                                                                          StandardScaler())]),\n",
       "                                                                         [&#x27;host_response_rate&#x27;,\n",
       "                                                                          &#x27;host_acceptance_rate&#x27;,\n",
       "                                                                          &#x27;host_is_superhost&#x27;,\n",
       "                                                                          &#x27;host_listings_count&#x27;,\n",
       "                                                                          &#x27;host_has_profile_pic&#x27;,\n",
       "                                                                          &#x27;host_identity_verified&#x27;,\n",
       "                                                                          &#x27;accommodates&#x27;,\n",
       "                                                                          &#x27;bedrooms&#x27;,\n",
       "                                                                          &#x27;price&#x27;,\n",
       "                                                                          &#x27;minimum_nights&#x27;,\n",
       "                                                                          &#x27;maximum_nights...\n",
       "                                                      missing=nan,\n",
       "                                                      monotone_constraints=None,\n",
       "                                                      n_estimators=100,\n",
       "                                                      n_jobs=None,\n",
       "                                                      num_parallel_tree=None,\n",
       "                                                      predictor=None,\n",
       "                                                      random_state=15, ...))]),\n",
       "             n_jobs=-1,\n",
       "             param_grid={&#x27;xgb__colsample_bytree&#x27;: [0.5], &#x27;xgb__gamma&#x27;: [0.1],\n",
       "                         &#x27;xgb__learning_rate&#x27;: [0.05], &#x27;xgb__max_depth&#x27;: [10],\n",
       "                         &#x27;xgb__min_child_weight&#x27;: [5],\n",
       "                         &#x27;xgb__scale_pos_weight&#x27;: [1],\n",
       "                         &#x27;xgb__subsample&#x27;: [0.5]},\n",
       "             scoring=&#x27;precision&#x27;, verbose=5)</pre><b>In a Jupyter environment, please rerun this cell to show the HTML representation or trust the notebook. <br />On GitHub, the HTML representation is unable to render, please try loading this page with nbviewer.org.</b></div><div class=\"sk-container\" hidden><div class=\"sk-item sk-dashed-wrapped\"><div class=\"sk-label-container\"><div class=\"sk-label sk-toggleable\"><input class=\"sk-toggleable__control sk-hidden--visually\" id=\"sk-estimator-id-61\" type=\"checkbox\" ><label for=\"sk-estimator-id-61\" class=\"sk-toggleable__label sk-toggleable__label-arrow\">GridSearchCV</label><div class=\"sk-toggleable__content\"><pre>GridSearchCV(cv=5,\n",
       "             estimator=Pipeline(steps=[(&#x27;preprocessor&#x27;,\n",
       "                                        ColumnTransformer(transformers=[(&#x27;num&#x27;,\n",
       "                                                                         Pipeline(steps=[(&#x27;std_scaler&#x27;,\n",
       "                                                                                          StandardScaler())]),\n",
       "                                                                         [&#x27;host_response_rate&#x27;,\n",
       "                                                                          &#x27;host_acceptance_rate&#x27;,\n",
       "                                                                          &#x27;host_is_superhost&#x27;,\n",
       "                                                                          &#x27;host_listings_count&#x27;,\n",
       "                                                                          &#x27;host_has_profile_pic&#x27;,\n",
       "                                                                          &#x27;host_identity_verified&#x27;,\n",
       "                                                                          &#x27;accommodates&#x27;,\n",
       "                                                                          &#x27;bedrooms&#x27;,\n",
       "                                                                          &#x27;price&#x27;,\n",
       "                                                                          &#x27;minimum_nights&#x27;,\n",
       "                                                                          &#x27;maximum_nights...\n",
       "                                                      missing=nan,\n",
       "                                                      monotone_constraints=None,\n",
       "                                                      n_estimators=100,\n",
       "                                                      n_jobs=None,\n",
       "                                                      num_parallel_tree=None,\n",
       "                                                      predictor=None,\n",
       "                                                      random_state=15, ...))]),\n",
       "             n_jobs=-1,\n",
       "             param_grid={&#x27;xgb__colsample_bytree&#x27;: [0.5], &#x27;xgb__gamma&#x27;: [0.1],\n",
       "                         &#x27;xgb__learning_rate&#x27;: [0.05], &#x27;xgb__max_depth&#x27;: [10],\n",
       "                         &#x27;xgb__min_child_weight&#x27;: [5],\n",
       "                         &#x27;xgb__scale_pos_weight&#x27;: [1],\n",
       "                         &#x27;xgb__subsample&#x27;: [0.5]},\n",
       "             scoring=&#x27;precision&#x27;, verbose=5)</pre></div></div></div><div class=\"sk-parallel\"><div class=\"sk-parallel-item\"><div class=\"sk-item\"><div class=\"sk-label-container\"><div class=\"sk-label sk-toggleable\"><input class=\"sk-toggleable__control sk-hidden--visually\" id=\"sk-estimator-id-62\" type=\"checkbox\" ><label for=\"sk-estimator-id-62\" class=\"sk-toggleable__label sk-toggleable__label-arrow\">estimator: Pipeline</label><div class=\"sk-toggleable__content\"><pre>Pipeline(steps=[(&#x27;preprocessor&#x27;,\n",
       "                 ColumnTransformer(transformers=[(&#x27;num&#x27;,\n",
       "                                                  Pipeline(steps=[(&#x27;std_scaler&#x27;,\n",
       "                                                                   StandardScaler())]),\n",
       "                                                  [&#x27;host_response_rate&#x27;,\n",
       "                                                   &#x27;host_acceptance_rate&#x27;,\n",
       "                                                   &#x27;host_is_superhost&#x27;,\n",
       "                                                   &#x27;host_listings_count&#x27;,\n",
       "                                                   &#x27;host_has_profile_pic&#x27;,\n",
       "                                                   &#x27;host_identity_verified&#x27;,\n",
       "                                                   &#x27;accommodates&#x27;, &#x27;bedrooms&#x27;,\n",
       "                                                   &#x27;price&#x27;, &#x27;minimum_nights&#x27;,\n",
       "                                                   &#x27;maximum_nights&#x27;,\n",
       "                                                   &#x27;has_availability&#x27;,\n",
       "                                                   &#x27;number...\n",
       "                               feature_types=None, gamma=None, gpu_id=None,\n",
       "                               grow_policy=None, importance_type=None,\n",
       "                               interaction_constraints=None, learning_rate=None,\n",
       "                               max_bin=None, max_cat_threshold=None,\n",
       "                               max_cat_to_onehot=None, max_delta_step=None,\n",
       "                               max_depth=None, max_leaves=None,\n",
       "                               min_child_weight=None, missing=nan,\n",
       "                               monotone_constraints=None, n_estimators=100,\n",
       "                               n_jobs=None, num_parallel_tree=None,\n",
       "                               predictor=None, random_state=15, ...))])</pre></div></div></div><div class=\"sk-serial\"><div class=\"sk-item\"><div class=\"sk-serial\"><div class=\"sk-item sk-dashed-wrapped\"><div class=\"sk-label-container\"><div class=\"sk-label sk-toggleable\"><input class=\"sk-toggleable__control sk-hidden--visually\" id=\"sk-estimator-id-63\" type=\"checkbox\" ><label for=\"sk-estimator-id-63\" class=\"sk-toggleable__label sk-toggleable__label-arrow\">preprocessor: ColumnTransformer</label><div class=\"sk-toggleable__content\"><pre>ColumnTransformer(transformers=[(&#x27;num&#x27;,\n",
       "                                 Pipeline(steps=[(&#x27;std_scaler&#x27;,\n",
       "                                                  StandardScaler())]),\n",
       "                                 [&#x27;host_response_rate&#x27;, &#x27;host_acceptance_rate&#x27;,\n",
       "                                  &#x27;host_is_superhost&#x27;, &#x27;host_listings_count&#x27;,\n",
       "                                  &#x27;host_has_profile_pic&#x27;,\n",
       "                                  &#x27;host_identity_verified&#x27;, &#x27;accommodates&#x27;,\n",
       "                                  &#x27;bedrooms&#x27;, &#x27;price&#x27;, &#x27;minimum_nights&#x27;,\n",
       "                                  &#x27;maximum_nights&#x27;, &#x27;has_availability&#x27;,\n",
       "                                  &#x27;number_of_reviews&#x27;, &#x27;license&#x27;,\n",
       "                                  &#x27;instant_bookable&#x27;]),\n",
       "                                (&#x27;cat&#x27;,\n",
       "                                 Pipeline(steps=[(&#x27;1hot&#x27;,\n",
       "                                                  OneHotEncoder(handle_unknown=&#x27;ignore&#x27;))]),\n",
       "                                 [&#x27;host_response_time&#x27;,\n",
       "                                  &#x27;neighbourhood_group_cleansed&#x27;, &#x27;room_type&#x27;,\n",
       "                                  &#x27;host_type&#x27;])])</pre></div></div></div><div class=\"sk-parallel\"><div class=\"sk-parallel-item\"><div class=\"sk-item\"><div class=\"sk-label-container\"><div class=\"sk-label sk-toggleable\"><input class=\"sk-toggleable__control sk-hidden--visually\" id=\"sk-estimator-id-64\" type=\"checkbox\" ><label for=\"sk-estimator-id-64\" class=\"sk-toggleable__label sk-toggleable__label-arrow\">num</label><div class=\"sk-toggleable__content\"><pre>[&#x27;host_response_rate&#x27;, &#x27;host_acceptance_rate&#x27;, &#x27;host_is_superhost&#x27;, &#x27;host_listings_count&#x27;, &#x27;host_has_profile_pic&#x27;, &#x27;host_identity_verified&#x27;, &#x27;accommodates&#x27;, &#x27;bedrooms&#x27;, &#x27;price&#x27;, &#x27;minimum_nights&#x27;, &#x27;maximum_nights&#x27;, &#x27;has_availability&#x27;, &#x27;number_of_reviews&#x27;, &#x27;license&#x27;, &#x27;instant_bookable&#x27;]</pre></div></div></div><div class=\"sk-serial\"><div class=\"sk-item\"><div class=\"sk-serial\"><div class=\"sk-item\"><div class=\"sk-estimator sk-toggleable\"><input class=\"sk-toggleable__control sk-hidden--visually\" id=\"sk-estimator-id-65\" type=\"checkbox\" ><label for=\"sk-estimator-id-65\" class=\"sk-toggleable__label sk-toggleable__label-arrow\">StandardScaler</label><div class=\"sk-toggleable__content\"><pre>StandardScaler()</pre></div></div></div></div></div></div></div></div><div class=\"sk-parallel-item\"><div class=\"sk-item\"><div class=\"sk-label-container\"><div class=\"sk-label sk-toggleable\"><input class=\"sk-toggleable__control sk-hidden--visually\" id=\"sk-estimator-id-66\" type=\"checkbox\" ><label for=\"sk-estimator-id-66\" class=\"sk-toggleable__label sk-toggleable__label-arrow\">cat</label><div class=\"sk-toggleable__content\"><pre>[&#x27;host_response_time&#x27;, &#x27;neighbourhood_group_cleansed&#x27;, &#x27;room_type&#x27;, &#x27;host_type&#x27;]</pre></div></div></div><div class=\"sk-serial\"><div class=\"sk-item\"><div class=\"sk-serial\"><div class=\"sk-item\"><div class=\"sk-estimator sk-toggleable\"><input class=\"sk-toggleable__control sk-hidden--visually\" id=\"sk-estimator-id-67\" type=\"checkbox\" ><label for=\"sk-estimator-id-67\" class=\"sk-toggleable__label sk-toggleable__label-arrow\">OneHotEncoder</label><div class=\"sk-toggleable__content\"><pre>OneHotEncoder(handle_unknown=&#x27;ignore&#x27;)</pre></div></div></div></div></div></div></div></div></div></div><div class=\"sk-item\"><div class=\"sk-estimator sk-toggleable\"><input class=\"sk-toggleable__control sk-hidden--visually\" id=\"sk-estimator-id-68\" type=\"checkbox\" ><label for=\"sk-estimator-id-68\" class=\"sk-toggleable__label sk-toggleable__label-arrow\">XGBClassifier</label><div class=\"sk-toggleable__content\"><pre>XGBClassifier(base_score=None, booster=None, callbacks=None,\n",
       "              colsample_bylevel=None, colsample_bynode=None,\n",
       "              colsample_bytree=None, early_stopping_rounds=None,\n",
       "              enable_categorical=False, eval_metric=None, feature_types=None,\n",
       "              gamma=None, gpu_id=None, grow_policy=None, importance_type=None,\n",
       "              interaction_constraints=None, learning_rate=None, max_bin=None,\n",
       "              max_cat_threshold=None, max_cat_to_onehot=None,\n",
       "              max_delta_step=None, max_depth=None, max_leaves=None,\n",
       "              min_child_weight=None, missing=nan, monotone_constraints=None,\n",
       "              n_estimators=100, n_jobs=None, num_parallel_tree=None,\n",
       "              predictor=None, random_state=15, ...)</pre></div></div></div></div></div></div></div></div></div></div></div></div>"
      ],
      "text/plain": [
       "GridSearchCV(cv=5,\n",
       "             estimator=Pipeline(steps=[('preprocessor',\n",
       "                                        ColumnTransformer(transformers=[('num',\n",
       "                                                                         Pipeline(steps=[('std_scaler',\n",
       "                                                                                          StandardScaler())]),\n",
       "                                                                         ['host_response_rate',\n",
       "                                                                          'host_acceptance_rate',\n",
       "                                                                          'host_is_superhost',\n",
       "                                                                          'host_listings_count',\n",
       "                                                                          'host_has_profile_pic',\n",
       "                                                                          'host_identity_verified',\n",
       "                                                                          'accommodates',\n",
       "                                                                          'bedrooms',\n",
       "                                                                          'price',\n",
       "                                                                          'minimum_nights',\n",
       "                                                                          'maximum_nights...\n",
       "                                                      missing=nan,\n",
       "                                                      monotone_constraints=None,\n",
       "                                                      n_estimators=100,\n",
       "                                                      n_jobs=None,\n",
       "                                                      num_parallel_tree=None,\n",
       "                                                      predictor=None,\n",
       "                                                      random_state=15, ...))]),\n",
       "             n_jobs=-1,\n",
       "             param_grid={'xgb__colsample_bytree': [0.5], 'xgb__gamma': [0.1],\n",
       "                         'xgb__learning_rate': [0.05], 'xgb__max_depth': [10],\n",
       "                         'xgb__min_child_weight': [5],\n",
       "                         'xgb__scale_pos_weight': [1],\n",
       "                         'xgb__subsample': [0.5]},\n",
       "             scoring='precision', verbose=5)"
      ]
     },
     "execution_count": 75,
     "metadata": {},
     "output_type": "execute_result"
    }
   ],
   "source": [
    "grid_xgb = GridSearchCV(pipe_xgb, param_grid=param_xgb_best, cv=5, scoring='precision', \n",
    "                           verbose=5, n_jobs=-1)\n",
    "\n",
    "grid_xgb.fit(X_train, y_train)"
   ]
  },
  {
   "cell_type": "code",
   "execution_count": 64,
   "id": "e520eee2-ed67-4830-823d-4b6372e10769",
   "metadata": {},
   "outputs": [
    {
     "name": "stdout",
     "output_type": "stream",
     "text": [
      "Best score:\n",
      "0.98\n",
      "Best parameters:\n",
      "{'xgb__colsample_bytree': 0.3, 'xgb__gamma': 0.3, 'xgb__learning_rate': 0.3, 'xgb__max_depth': 15, 'xgb__min_child_weight': 1, 'xgb__scale_pos_weight': 1, 'xgb__subsample': 1}\n"
     ]
    }
   ],
   "source": [
    "print('Best score:\\n{:.2f}'.format(grid_xgb.best_score_))\n",
    "print(\"Best parameters:\\n{}\".format(grid_xgb.best_params_))"
   ]
  },
  {
   "cell_type": "code",
   "execution_count": 65,
   "id": "bfe15636-3705-499e-bffb-1567de6fcab8",
   "metadata": {
    "tags": []
   },
   "outputs": [
    {
     "data": {
      "text/html": [
       "<style>#sk-container-id-6 {color: black;background-color: white;}#sk-container-id-6 pre{padding: 0;}#sk-container-id-6 div.sk-toggleable {background-color: white;}#sk-container-id-6 label.sk-toggleable__label {cursor: pointer;display: block;width: 100%;margin-bottom: 0;padding: 0.3em;box-sizing: border-box;text-align: center;}#sk-container-id-6 label.sk-toggleable__label-arrow:before {content: \"▸\";float: left;margin-right: 0.25em;color: #696969;}#sk-container-id-6 label.sk-toggleable__label-arrow:hover:before {color: black;}#sk-container-id-6 div.sk-estimator:hover label.sk-toggleable__label-arrow:before {color: black;}#sk-container-id-6 div.sk-toggleable__content {max-height: 0;max-width: 0;overflow: hidden;text-align: left;background-color: #f0f8ff;}#sk-container-id-6 div.sk-toggleable__content pre {margin: 0.2em;color: black;border-radius: 0.25em;background-color: #f0f8ff;}#sk-container-id-6 input.sk-toggleable__control:checked~div.sk-toggleable__content {max-height: 200px;max-width: 100%;overflow: auto;}#sk-container-id-6 input.sk-toggleable__control:checked~label.sk-toggleable__label-arrow:before {content: \"▾\";}#sk-container-id-6 div.sk-estimator input.sk-toggleable__control:checked~label.sk-toggleable__label {background-color: #d4ebff;}#sk-container-id-6 div.sk-label input.sk-toggleable__control:checked~label.sk-toggleable__label {background-color: #d4ebff;}#sk-container-id-6 input.sk-hidden--visually {border: 0;clip: rect(1px 1px 1px 1px);clip: rect(1px, 1px, 1px, 1px);height: 1px;margin: -1px;overflow: hidden;padding: 0;position: absolute;width: 1px;}#sk-container-id-6 div.sk-estimator {font-family: monospace;background-color: #f0f8ff;border: 1px dotted black;border-radius: 0.25em;box-sizing: border-box;margin-bottom: 0.5em;}#sk-container-id-6 div.sk-estimator:hover {background-color: #d4ebff;}#sk-container-id-6 div.sk-parallel-item::after {content: \"\";width: 100%;border-bottom: 1px solid gray;flex-grow: 1;}#sk-container-id-6 div.sk-label:hover label.sk-toggleable__label {background-color: #d4ebff;}#sk-container-id-6 div.sk-serial::before {content: \"\";position: absolute;border-left: 1px solid gray;box-sizing: border-box;top: 0;bottom: 0;left: 50%;z-index: 0;}#sk-container-id-6 div.sk-serial {display: flex;flex-direction: column;align-items: center;background-color: white;padding-right: 0.2em;padding-left: 0.2em;position: relative;}#sk-container-id-6 div.sk-item {position: relative;z-index: 1;}#sk-container-id-6 div.sk-parallel {display: flex;align-items: stretch;justify-content: center;background-color: white;position: relative;}#sk-container-id-6 div.sk-item::before, #sk-container-id-6 div.sk-parallel-item::before {content: \"\";position: absolute;border-left: 1px solid gray;box-sizing: border-box;top: 0;bottom: 0;left: 50%;z-index: -1;}#sk-container-id-6 div.sk-parallel-item {display: flex;flex-direction: column;z-index: 1;position: relative;background-color: white;}#sk-container-id-6 div.sk-parallel-item:first-child::after {align-self: flex-end;width: 50%;}#sk-container-id-6 div.sk-parallel-item:last-child::after {align-self: flex-start;width: 50%;}#sk-container-id-6 div.sk-parallel-item:only-child::after {width: 0;}#sk-container-id-6 div.sk-dashed-wrapped {border: 1px dashed gray;margin: 0 0.4em 0.5em 0.4em;box-sizing: border-box;padding-bottom: 0.4em;background-color: white;}#sk-container-id-6 div.sk-label label {font-family: monospace;font-weight: bold;display: inline-block;line-height: 1.2em;}#sk-container-id-6 div.sk-label-container {text-align: center;}#sk-container-id-6 div.sk-container {/* jupyter's `normalize.less` sets `[hidden] { display: none; }` but bootstrap.min.css set `[hidden] { display: none !important; }` so we also need the `!important` here to be able to override the default hidden behavior on the sphinx rendered scikit-learn.org. See: https://github.com/scikit-learn/scikit-learn/issues/21755 */display: inline-block !important;position: relative;}#sk-container-id-6 div.sk-text-repr-fallback {display: none;}</style><div id=\"sk-container-id-6\" class=\"sk-top-container\"><div class=\"sk-text-repr-fallback\"><pre>Pipeline(steps=[(&#x27;preprocessor&#x27;,\n",
       "                 ColumnTransformer(transformers=[(&#x27;num&#x27;,\n",
       "                                                  Pipeline(steps=[(&#x27;std_scaler&#x27;,\n",
       "                                                                   StandardScaler())]),\n",
       "                                                  [&#x27;host_response_rate&#x27;,\n",
       "                                                   &#x27;host_acceptance_rate&#x27;,\n",
       "                                                   &#x27;host_is_superhost&#x27;,\n",
       "                                                   &#x27;host_listings_count&#x27;,\n",
       "                                                   &#x27;host_has_profile_pic&#x27;,\n",
       "                                                   &#x27;host_identity_verified&#x27;,\n",
       "                                                   &#x27;accommodates&#x27;, &#x27;bedrooms&#x27;,\n",
       "                                                   &#x27;price&#x27;, &#x27;minimum_nights&#x27;,\n",
       "                                                   &#x27;maximum_nights&#x27;,\n",
       "                                                   &#x27;has_availability&#x27;,\n",
       "                                                   &#x27;number...\n",
       "                               feature_types=None, gamma=0.3, gpu_id=None,\n",
       "                               grow_policy=None, importance_type=None,\n",
       "                               interaction_constraints=None, learning_rate=0.3,\n",
       "                               max_bin=None, max_cat_threshold=None,\n",
       "                               max_cat_to_onehot=None, max_delta_step=None,\n",
       "                               max_depth=15, max_leaves=None,\n",
       "                               min_child_weight=1, missing=nan,\n",
       "                               monotone_constraints=None, n_estimators=100,\n",
       "                               n_jobs=None, num_parallel_tree=None,\n",
       "                               predictor=None, random_state=15, ...))])</pre><b>In a Jupyter environment, please rerun this cell to show the HTML representation or trust the notebook. <br />On GitHub, the HTML representation is unable to render, please try loading this page with nbviewer.org.</b></div><div class=\"sk-container\" hidden><div class=\"sk-item sk-dashed-wrapped\"><div class=\"sk-label-container\"><div class=\"sk-label sk-toggleable\"><input class=\"sk-toggleable__control sk-hidden--visually\" id=\"sk-estimator-id-39\" type=\"checkbox\" ><label for=\"sk-estimator-id-39\" class=\"sk-toggleable__label sk-toggleable__label-arrow\">Pipeline</label><div class=\"sk-toggleable__content\"><pre>Pipeline(steps=[(&#x27;preprocessor&#x27;,\n",
       "                 ColumnTransformer(transformers=[(&#x27;num&#x27;,\n",
       "                                                  Pipeline(steps=[(&#x27;std_scaler&#x27;,\n",
       "                                                                   StandardScaler())]),\n",
       "                                                  [&#x27;host_response_rate&#x27;,\n",
       "                                                   &#x27;host_acceptance_rate&#x27;,\n",
       "                                                   &#x27;host_is_superhost&#x27;,\n",
       "                                                   &#x27;host_listings_count&#x27;,\n",
       "                                                   &#x27;host_has_profile_pic&#x27;,\n",
       "                                                   &#x27;host_identity_verified&#x27;,\n",
       "                                                   &#x27;accommodates&#x27;, &#x27;bedrooms&#x27;,\n",
       "                                                   &#x27;price&#x27;, &#x27;minimum_nights&#x27;,\n",
       "                                                   &#x27;maximum_nights&#x27;,\n",
       "                                                   &#x27;has_availability&#x27;,\n",
       "                                                   &#x27;number...\n",
       "                               feature_types=None, gamma=0.3, gpu_id=None,\n",
       "                               grow_policy=None, importance_type=None,\n",
       "                               interaction_constraints=None, learning_rate=0.3,\n",
       "                               max_bin=None, max_cat_threshold=None,\n",
       "                               max_cat_to_onehot=None, max_delta_step=None,\n",
       "                               max_depth=15, max_leaves=None,\n",
       "                               min_child_weight=1, missing=nan,\n",
       "                               monotone_constraints=None, n_estimators=100,\n",
       "                               n_jobs=None, num_parallel_tree=None,\n",
       "                               predictor=None, random_state=15, ...))])</pre></div></div></div><div class=\"sk-serial\"><div class=\"sk-item sk-dashed-wrapped\"><div class=\"sk-label-container\"><div class=\"sk-label sk-toggleable\"><input class=\"sk-toggleable__control sk-hidden--visually\" id=\"sk-estimator-id-40\" type=\"checkbox\" ><label for=\"sk-estimator-id-40\" class=\"sk-toggleable__label sk-toggleable__label-arrow\">preprocessor: ColumnTransformer</label><div class=\"sk-toggleable__content\"><pre>ColumnTransformer(transformers=[(&#x27;num&#x27;,\n",
       "                                 Pipeline(steps=[(&#x27;std_scaler&#x27;,\n",
       "                                                  StandardScaler())]),\n",
       "                                 [&#x27;host_response_rate&#x27;, &#x27;host_acceptance_rate&#x27;,\n",
       "                                  &#x27;host_is_superhost&#x27;, &#x27;host_listings_count&#x27;,\n",
       "                                  &#x27;host_has_profile_pic&#x27;,\n",
       "                                  &#x27;host_identity_verified&#x27;, &#x27;accommodates&#x27;,\n",
       "                                  &#x27;bedrooms&#x27;, &#x27;price&#x27;, &#x27;minimum_nights&#x27;,\n",
       "                                  &#x27;maximum_nights&#x27;, &#x27;has_availability&#x27;,\n",
       "                                  &#x27;number_of_reviews&#x27;, &#x27;license&#x27;,\n",
       "                                  &#x27;instant_bookable&#x27;]),\n",
       "                                (&#x27;cat&#x27;,\n",
       "                                 Pipeline(steps=[(&#x27;1hot&#x27;,\n",
       "                                                  OneHotEncoder(handle_unknown=&#x27;ignore&#x27;))]),\n",
       "                                 [&#x27;host_response_time&#x27;,\n",
       "                                  &#x27;neighbourhood_group_cleansed&#x27;, &#x27;room_type&#x27;,\n",
       "                                  &#x27;host_type&#x27;])])</pre></div></div></div><div class=\"sk-parallel\"><div class=\"sk-parallel-item\"><div class=\"sk-item\"><div class=\"sk-label-container\"><div class=\"sk-label sk-toggleable\"><input class=\"sk-toggleable__control sk-hidden--visually\" id=\"sk-estimator-id-41\" type=\"checkbox\" ><label for=\"sk-estimator-id-41\" class=\"sk-toggleable__label sk-toggleable__label-arrow\">num</label><div class=\"sk-toggleable__content\"><pre>[&#x27;host_response_rate&#x27;, &#x27;host_acceptance_rate&#x27;, &#x27;host_is_superhost&#x27;, &#x27;host_listings_count&#x27;, &#x27;host_has_profile_pic&#x27;, &#x27;host_identity_verified&#x27;, &#x27;accommodates&#x27;, &#x27;bedrooms&#x27;, &#x27;price&#x27;, &#x27;minimum_nights&#x27;, &#x27;maximum_nights&#x27;, &#x27;has_availability&#x27;, &#x27;number_of_reviews&#x27;, &#x27;license&#x27;, &#x27;instant_bookable&#x27;]</pre></div></div></div><div class=\"sk-serial\"><div class=\"sk-item\"><div class=\"sk-serial\"><div class=\"sk-item\"><div class=\"sk-estimator sk-toggleable\"><input class=\"sk-toggleable__control sk-hidden--visually\" id=\"sk-estimator-id-42\" type=\"checkbox\" ><label for=\"sk-estimator-id-42\" class=\"sk-toggleable__label sk-toggleable__label-arrow\">StandardScaler</label><div class=\"sk-toggleable__content\"><pre>StandardScaler()</pre></div></div></div></div></div></div></div></div><div class=\"sk-parallel-item\"><div class=\"sk-item\"><div class=\"sk-label-container\"><div class=\"sk-label sk-toggleable\"><input class=\"sk-toggleable__control sk-hidden--visually\" id=\"sk-estimator-id-43\" type=\"checkbox\" ><label for=\"sk-estimator-id-43\" class=\"sk-toggleable__label sk-toggleable__label-arrow\">cat</label><div class=\"sk-toggleable__content\"><pre>[&#x27;host_response_time&#x27;, &#x27;neighbourhood_group_cleansed&#x27;, &#x27;room_type&#x27;, &#x27;host_type&#x27;]</pre></div></div></div><div class=\"sk-serial\"><div class=\"sk-item\"><div class=\"sk-serial\"><div class=\"sk-item\"><div class=\"sk-estimator sk-toggleable\"><input class=\"sk-toggleable__control sk-hidden--visually\" id=\"sk-estimator-id-44\" type=\"checkbox\" ><label for=\"sk-estimator-id-44\" class=\"sk-toggleable__label sk-toggleable__label-arrow\">OneHotEncoder</label><div class=\"sk-toggleable__content\"><pre>OneHotEncoder(handle_unknown=&#x27;ignore&#x27;)</pre></div></div></div></div></div></div></div></div></div></div><div class=\"sk-item\"><div class=\"sk-estimator sk-toggleable\"><input class=\"sk-toggleable__control sk-hidden--visually\" id=\"sk-estimator-id-45\" type=\"checkbox\" ><label for=\"sk-estimator-id-45\" class=\"sk-toggleable__label sk-toggleable__label-arrow\">XGBClassifier</label><div class=\"sk-toggleable__content\"><pre>XGBClassifier(base_score=None, booster=None, callbacks=None,\n",
       "              colsample_bylevel=None, colsample_bynode=None,\n",
       "              colsample_bytree=0.3, early_stopping_rounds=None,\n",
       "              enable_categorical=False, eval_metric=None, feature_types=None,\n",
       "              gamma=0.3, gpu_id=None, grow_policy=None, importance_type=None,\n",
       "              interaction_constraints=None, learning_rate=0.3, max_bin=None,\n",
       "              max_cat_threshold=None, max_cat_to_onehot=None,\n",
       "              max_delta_step=None, max_depth=15, max_leaves=None,\n",
       "              min_child_weight=1, missing=nan, monotone_constraints=None,\n",
       "              n_estimators=100, n_jobs=None, num_parallel_tree=None,\n",
       "              predictor=None, random_state=15, ...)</pre></div></div></div></div></div></div></div>"
      ],
      "text/plain": [
       "Pipeline(steps=[('preprocessor',\n",
       "                 ColumnTransformer(transformers=[('num',\n",
       "                                                  Pipeline(steps=[('std_scaler',\n",
       "                                                                   StandardScaler())]),\n",
       "                                                  ['host_response_rate',\n",
       "                                                   'host_acceptance_rate',\n",
       "                                                   'host_is_superhost',\n",
       "                                                   'host_listings_count',\n",
       "                                                   'host_has_profile_pic',\n",
       "                                                   'host_identity_verified',\n",
       "                                                   'accommodates', 'bedrooms',\n",
       "                                                   'price', 'minimum_nights',\n",
       "                                                   'maximum_nights',\n",
       "                                                   'has_availability',\n",
       "                                                   'number...\n",
       "                               feature_types=None, gamma=0.3, gpu_id=None,\n",
       "                               grow_policy=None, importance_type=None,\n",
       "                               interaction_constraints=None, learning_rate=0.3,\n",
       "                               max_bin=None, max_cat_threshold=None,\n",
       "                               max_cat_to_onehot=None, max_delta_step=None,\n",
       "                               max_depth=15, max_leaves=None,\n",
       "                               min_child_weight=1, missing=nan,\n",
       "                               monotone_constraints=None, n_estimators=100,\n",
       "                               n_jobs=None, num_parallel_tree=None,\n",
       "                               predictor=None, random_state=15, ...))])"
      ]
     },
     "execution_count": 65,
     "metadata": {},
     "output_type": "execute_result"
    }
   ],
   "source": [
    "XGBOOST = grid_xgb.best_estimator_\n",
    "XGBOOST"
   ]
  },
  {
   "cell_type": "code",
   "execution_count": 66,
   "id": "23ad72f5-7a05-4501-b941-399de24ea652",
   "metadata": {
    "tags": []
   },
   "outputs": [
    {
     "name": "stdout",
     "output_type": "stream",
     "text": [
      "Accuracy: 0.98\n",
      "Recall: 0.98\n",
      "Precision: 0.98\n"
     ]
    }
   ],
   "source": [
    "y_test_predicted_xgb = XGBOOST.predict(X_test)\n",
    "print(\"Accuracy: {:.2f}\".format(accuracy_score(y_test, y_test_predicted_xgb)))\n",
    "print(\"Recall: {:.2f}\".format(recall_score(y_test, y_test_predicted_xgb)))\n",
    "print(\"Precision: {:.2f}\".format(precision_score(y_test, y_test_predicted_xgb)))"
   ]
  },
  {
   "cell_type": "markdown",
   "id": "ff9bc4fc-2b83-4ce5-88fb-4a6fe9e823be",
   "metadata": {},
   "source": [
    "## KNN"
   ]
  },
  {
   "cell_type": "code",
   "execution_count": 70,
   "id": "efc79575-af84-4ab0-81dc-5d5b64a34e27",
   "metadata": {
    "tags": []
   },
   "outputs": [
    {
     "name": "stderr",
     "output_type": "stream",
     "text": [
      "/Users/johannakruger/.pyenv/versions/3.9.8/lib/python3.9/site-packages/sklearn/neighbors/_classification.py:228: FutureWarning: Unlike other reduction functions (e.g. `skew`, `kurtosis`), the default behavior of `mode` typically preserves the axis it acts along. In SciPy 1.11.0, this behavior will change: the default value of `keepdims` will become False, the `axis` over which the statistic is taken will be eliminated, and the value None will no longer be accepted. Set `keepdims` to True or False to avoid this warning.\n",
      "  mode, _ = stats.mode(_y[neigh_ind, k], axis=1)\n",
      "/Users/johannakruger/.pyenv/versions/3.9.8/lib/python3.9/site-packages/sklearn/neighbors/_classification.py:228: FutureWarning: Unlike other reduction functions (e.g. `skew`, `kurtosis`), the default behavior of `mode` typically preserves the axis it acts along. In SciPy 1.11.0, this behavior will change: the default value of `keepdims` will become False, the `axis` over which the statistic is taken will be eliminated, and the value None will no longer be accepted. Set `keepdims` to True or False to avoid this warning.\n",
      "  mode, _ = stats.mode(_y[neigh_ind, k], axis=1)\n",
      "/Users/johannakruger/.pyenv/versions/3.9.8/lib/python3.9/site-packages/sklearn/neighbors/_classification.py:228: FutureWarning: Unlike other reduction functions (e.g. `skew`, `kurtosis`), the default behavior of `mode` typically preserves the axis it acts along. In SciPy 1.11.0, this behavior will change: the default value of `keepdims` will become False, the `axis` over which the statistic is taken will be eliminated, and the value None will no longer be accepted. Set `keepdims` to True or False to avoid this warning.\n",
      "  mode, _ = stats.mode(_y[neigh_ind, k], axis=1)\n",
      "/Users/johannakruger/.pyenv/versions/3.9.8/lib/python3.9/site-packages/sklearn/neighbors/_classification.py:228: FutureWarning: Unlike other reduction functions (e.g. `skew`, `kurtosis`), the default behavior of `mode` typically preserves the axis it acts along. In SciPy 1.11.0, this behavior will change: the default value of `keepdims` will become False, the `axis` over which the statistic is taken will be eliminated, and the value None will no longer be accepted. Set `keepdims` to True or False to avoid this warning.\n",
      "  mode, _ = stats.mode(_y[neigh_ind, k], axis=1)\n"
     ]
    },
    {
     "name": "stdout",
     "output_type": "stream",
     "text": [
      "Cross validation scores:\n",
      "-------------------------\n",
      "Accuracy: 0.87\n",
      "Recall: 0.88\n",
      "Precision: 0.85\n"
     ]
    },
    {
     "name": "stderr",
     "output_type": "stream",
     "text": [
      "/Users/johannakruger/.pyenv/versions/3.9.8/lib/python3.9/site-packages/sklearn/neighbors/_classification.py:228: FutureWarning: Unlike other reduction functions (e.g. `skew`, `kurtosis`), the default behavior of `mode` typically preserves the axis it acts along. In SciPy 1.11.0, this behavior will change: the default value of `keepdims` will become False, the `axis` over which the statistic is taken will be eliminated, and the value None will no longer be accepted. Set `keepdims` to True or False to avoid this warning.\n",
      "  mode, _ = stats.mode(_y[neigh_ind, k], axis=1)\n"
     ]
    }
   ],
   "source": [
    "pipe_knn = Pipeline([\n",
    "    ('preprocessor', preprocessor),\n",
    "    ('knn', KNeighborsClassifier(n_neighbors=5, metric='euclidean'))\n",
    "])\n",
    "\n",
    "y_train_predicted_knn = cross_val_predict(pipe_knn, X_train, y_train, cv=5)\n",
    "\n",
    "print('Cross validation scores:')\n",
    "print('-------------------------')\n",
    "print(\"Accuracy: {:.2f}\".format(accuracy_score(y_train, y_train_predicted_knn)))\n",
    "print(\"Recall: {:.2f}\".format(recall_score(y_train, y_train_predicted_knn)))\n",
    "print(\"Precision: {:.2f}\".format(precision_score(y_train, y_train_predicted_knn)))"
   ]
  },
  {
   "cell_type": "markdown",
   "id": "ea232cb1-3e30-4ce9-90f0-3866a2934baf",
   "metadata": {},
   "source": [
    "## Decision Tree"
   ]
  },
  {
   "cell_type": "code",
   "execution_count": 71,
   "id": "a37faa52-92ed-43e0-8d26-a6809cde1b35",
   "metadata": {
    "tags": []
   },
   "outputs": [
    {
     "name": "stdout",
     "output_type": "stream",
     "text": [
      "Cross validation scores:\n",
      "-------------------------\n",
      "Accuracy: 0.98\n",
      "Recall: 0.98\n",
      "Precision: 0.98\n"
     ]
    }
   ],
   "source": [
    "pipe_tree = Pipeline([\n",
    "    ('preprocessor', preprocessor),\n",
    "    ('tree', DecisionTreeClassifier(criterion='gini', max_depth=15, random_state=RSEED))\n",
    "])\n",
    "\n",
    "y_train_predicted_tree = cross_val_predict(pipe_tree, X_train, y_train, cv=5)\n",
    "\n",
    "print('Cross validation scores:')\n",
    "print('-------------------------')\n",
    "print(\"Accuracy: {:.2f}\".format(accuracy_score(y_train, y_train_predicted_tree)))\n",
    "print(\"Recall: {:.2f}\".format(recall_score(y_train, y_train_predicted_tree)))\n",
    "print(\"Precision: {:.2f}\".format(precision_score(y_train, y_train_predicted_tree)))"
   ]
  },
  {
   "cell_type": "code",
   "execution_count": 72,
   "id": "db1b1514-d053-4ffd-add9-64d651422a3b",
   "metadata": {
    "tags": []
   },
   "outputs": [],
   "source": [
    "param_tree_all = {'tree__criterion':['gini', 'entropy'],\n",
    "                'tree__max_depth':[2,4,6,8,10,12]\n",
    "              }"
   ]
  },
  {
   "cell_type": "code",
   "execution_count": 73,
   "id": "95a0df12-9847-4366-9046-431a436f868f",
   "metadata": {
    "tags": []
   },
   "outputs": [],
   "source": [
    "param_tree_best = {'tree__criterion':['entropy'],\n",
    "                'tree__max_depth':[6]\n",
    "              }"
   ]
  },
  {
   "cell_type": "code",
   "execution_count": 74,
   "id": "124a664d-7602-4690-8684-0cbddedd0770",
   "metadata": {
    "tags": []
   },
   "outputs": [
    {
     "name": "stdout",
     "output_type": "stream",
     "text": [
      "Fitting 5 folds for each of 12 candidates, totalling 60 fits\n"
     ]
    },
    {
     "data": {
      "text/html": [
       "<style>#sk-ce4ba42a-d8e3-40d7-add6-1630c05af372 {color: black;background-color: white;}#sk-ce4ba42a-d8e3-40d7-add6-1630c05af372 pre{padding: 0;}#sk-ce4ba42a-d8e3-40d7-add6-1630c05af372 div.sk-toggleable {background-color: white;}#sk-ce4ba42a-d8e3-40d7-add6-1630c05af372 label.sk-toggleable__label {cursor: pointer;display: block;width: 100%;margin-bottom: 0;padding: 0.3em;box-sizing: border-box;text-align: center;}#sk-ce4ba42a-d8e3-40d7-add6-1630c05af372 label.sk-toggleable__label-arrow:before {content: \"▸\";float: left;margin-right: 0.25em;color: #696969;}#sk-ce4ba42a-d8e3-40d7-add6-1630c05af372 label.sk-toggleable__label-arrow:hover:before {color: black;}#sk-ce4ba42a-d8e3-40d7-add6-1630c05af372 div.sk-estimator:hover label.sk-toggleable__label-arrow:before {color: black;}#sk-ce4ba42a-d8e3-40d7-add6-1630c05af372 div.sk-toggleable__content {max-height: 0;max-width: 0;overflow: hidden;text-align: left;background-color: #f0f8ff;}#sk-ce4ba42a-d8e3-40d7-add6-1630c05af372 div.sk-toggleable__content pre {margin: 0.2em;color: black;border-radius: 0.25em;background-color: #f0f8ff;}#sk-ce4ba42a-d8e3-40d7-add6-1630c05af372 input.sk-toggleable__control:checked~div.sk-toggleable__content {max-height: 200px;max-width: 100%;overflow: auto;}#sk-ce4ba42a-d8e3-40d7-add6-1630c05af372 input.sk-toggleable__control:checked~label.sk-toggleable__label-arrow:before {content: \"▾\";}#sk-ce4ba42a-d8e3-40d7-add6-1630c05af372 div.sk-estimator input.sk-toggleable__control:checked~label.sk-toggleable__label {background-color: #d4ebff;}#sk-ce4ba42a-d8e3-40d7-add6-1630c05af372 div.sk-label input.sk-toggleable__control:checked~label.sk-toggleable__label {background-color: #d4ebff;}#sk-ce4ba42a-d8e3-40d7-add6-1630c05af372 input.sk-hidden--visually {border: 0;clip: rect(1px 1px 1px 1px);clip: rect(1px, 1px, 1px, 1px);height: 1px;margin: -1px;overflow: hidden;padding: 0;position: absolute;width: 1px;}#sk-ce4ba42a-d8e3-40d7-add6-1630c05af372 div.sk-estimator {font-family: monospace;background-color: #f0f8ff;border: 1px dotted black;border-radius: 0.25em;box-sizing: border-box;margin-bottom: 0.5em;}#sk-ce4ba42a-d8e3-40d7-add6-1630c05af372 div.sk-estimator:hover {background-color: #d4ebff;}#sk-ce4ba42a-d8e3-40d7-add6-1630c05af372 div.sk-parallel-item::after {content: \"\";width: 100%;border-bottom: 1px solid gray;flex-grow: 1;}#sk-ce4ba42a-d8e3-40d7-add6-1630c05af372 div.sk-label:hover label.sk-toggleable__label {background-color: #d4ebff;}#sk-ce4ba42a-d8e3-40d7-add6-1630c05af372 div.sk-serial::before {content: \"\";position: absolute;border-left: 1px solid gray;box-sizing: border-box;top: 2em;bottom: 0;left: 50%;}#sk-ce4ba42a-d8e3-40d7-add6-1630c05af372 div.sk-serial {display: flex;flex-direction: column;align-items: center;background-color: white;padding-right: 0.2em;padding-left: 0.2em;}#sk-ce4ba42a-d8e3-40d7-add6-1630c05af372 div.sk-item {z-index: 1;}#sk-ce4ba42a-d8e3-40d7-add6-1630c05af372 div.sk-parallel {display: flex;align-items: stretch;justify-content: center;background-color: white;}#sk-ce4ba42a-d8e3-40d7-add6-1630c05af372 div.sk-parallel::before {content: \"\";position: absolute;border-left: 1px solid gray;box-sizing: border-box;top: 2em;bottom: 0;left: 50%;}#sk-ce4ba42a-d8e3-40d7-add6-1630c05af372 div.sk-parallel-item {display: flex;flex-direction: column;position: relative;background-color: white;}#sk-ce4ba42a-d8e3-40d7-add6-1630c05af372 div.sk-parallel-item:first-child::after {align-self: flex-end;width: 50%;}#sk-ce4ba42a-d8e3-40d7-add6-1630c05af372 div.sk-parallel-item:last-child::after {align-self: flex-start;width: 50%;}#sk-ce4ba42a-d8e3-40d7-add6-1630c05af372 div.sk-parallel-item:only-child::after {width: 0;}#sk-ce4ba42a-d8e3-40d7-add6-1630c05af372 div.sk-dashed-wrapped {border: 1px dashed gray;margin: 0 0.4em 0.5em 0.4em;box-sizing: border-box;padding-bottom: 0.4em;background-color: white;position: relative;}#sk-ce4ba42a-d8e3-40d7-add6-1630c05af372 div.sk-label label {font-family: monospace;font-weight: bold;background-color: white;display: inline-block;line-height: 1.2em;}#sk-ce4ba42a-d8e3-40d7-add6-1630c05af372 div.sk-label-container {position: relative;z-index: 2;text-align: center;}#sk-ce4ba42a-d8e3-40d7-add6-1630c05af372 div.sk-container {/* jupyter's `normalize.less` sets `[hidden] { display: none; }` but bootstrap.min.css set `[hidden] { display: none !important; }` so we also need the `!important` here to be able to override the default hidden behavior on the sphinx rendered scikit-learn.org. See: https://github.com/scikit-learn/scikit-learn/issues/21755 */display: inline-block !important;position: relative;}#sk-ce4ba42a-d8e3-40d7-add6-1630c05af372 div.sk-text-repr-fallback {display: none;}</style><div id=\"sk-ce4ba42a-d8e3-40d7-add6-1630c05af372\" class=\"sk-top-container\"><div class=\"sk-text-repr-fallback\"><pre>GridSearchCV(cv=5,\n",
       "             estimator=Pipeline(steps=[(&#x27;preprocessor&#x27;,\n",
       "                                        ColumnTransformer(transformers=[(&#x27;num&#x27;,\n",
       "                                                                         Pipeline(steps=[(&#x27;std_scaler&#x27;,\n",
       "                                                                                          StandardScaler())]),\n",
       "                                                                         [&#x27;host_response_rate&#x27;,\n",
       "                                                                          &#x27;host_acceptance_rate&#x27;,\n",
       "                                                                          &#x27;host_is_superhost&#x27;,\n",
       "                                                                          &#x27;host_listings_count&#x27;,\n",
       "                                                                          &#x27;host_has_profile_pic&#x27;,\n",
       "                                                                          &#x27;host_identity_verified&#x27;,\n",
       "                                                                          &#x27;accommodates&#x27;,\n",
       "                                                                          &#x27;bedrooms&#x27;,\n",
       "                                                                          &#x27;price&#x27;,\n",
       "                                                                          &#x27;minimum_nights&#x27;,\n",
       "                                                                          &#x27;maximum_nights...\n",
       "                                                                          &#x27;instant_bookable&#x27;]),\n",
       "                                                                        (&#x27;cat&#x27;,\n",
       "                                                                         Pipeline(steps=[(&#x27;1hot&#x27;,\n",
       "                                                                                          OneHotEncoder(handle_unknown=&#x27;ignore&#x27;))]),\n",
       "                                                                         [&#x27;host_response_time&#x27;,\n",
       "                                                                          &#x27;neighbourhood_group_cleansed&#x27;,\n",
       "                                                                          &#x27;room_type&#x27;,\n",
       "                                                                          &#x27;host_type&#x27;])])),\n",
       "                                       (&#x27;tree&#x27;,\n",
       "                                        DecisionTreeClassifier(max_depth=15,\n",
       "                                                               random_state=15))]),\n",
       "             n_jobs=-1,\n",
       "             param_grid={&#x27;tree__criterion&#x27;: [&#x27;gini&#x27;, &#x27;entropy&#x27;],\n",
       "                         &#x27;tree__max_depth&#x27;: [2, 4, 6, 8, 10, 12]},\n",
       "             scoring=&#x27;precision&#x27;, verbose=5)</pre><b>Please rerun this cell to show the HTML repr or trust the notebook.</b></div><div class=\"sk-container\" hidden><div class=\"sk-item sk-dashed-wrapped\"><div class=\"sk-label-container\"><div class=\"sk-label sk-toggleable\"><input class=\"sk-toggleable__control sk-hidden--visually\" id=\"01a58e04-809e-4173-88eb-d7c9dd256696\" type=\"checkbox\" ><label for=\"01a58e04-809e-4173-88eb-d7c9dd256696\" class=\"sk-toggleable__label sk-toggleable__label-arrow\">GridSearchCV</label><div class=\"sk-toggleable__content\"><pre>GridSearchCV(cv=5,\n",
       "             estimator=Pipeline(steps=[(&#x27;preprocessor&#x27;,\n",
       "                                        ColumnTransformer(transformers=[(&#x27;num&#x27;,\n",
       "                                                                         Pipeline(steps=[(&#x27;std_scaler&#x27;,\n",
       "                                                                                          StandardScaler())]),\n",
       "                                                                         [&#x27;host_response_rate&#x27;,\n",
       "                                                                          &#x27;host_acceptance_rate&#x27;,\n",
       "                                                                          &#x27;host_is_superhost&#x27;,\n",
       "                                                                          &#x27;host_listings_count&#x27;,\n",
       "                                                                          &#x27;host_has_profile_pic&#x27;,\n",
       "                                                                          &#x27;host_identity_verified&#x27;,\n",
       "                                                                          &#x27;accommodates&#x27;,\n",
       "                                                                          &#x27;bedrooms&#x27;,\n",
       "                                                                          &#x27;price&#x27;,\n",
       "                                                                          &#x27;minimum_nights&#x27;,\n",
       "                                                                          &#x27;maximum_nights...\n",
       "                                                                          &#x27;instant_bookable&#x27;]),\n",
       "                                                                        (&#x27;cat&#x27;,\n",
       "                                                                         Pipeline(steps=[(&#x27;1hot&#x27;,\n",
       "                                                                                          OneHotEncoder(handle_unknown=&#x27;ignore&#x27;))]),\n",
       "                                                                         [&#x27;host_response_time&#x27;,\n",
       "                                                                          &#x27;neighbourhood_group_cleansed&#x27;,\n",
       "                                                                          &#x27;room_type&#x27;,\n",
       "                                                                          &#x27;host_type&#x27;])])),\n",
       "                                       (&#x27;tree&#x27;,\n",
       "                                        DecisionTreeClassifier(max_depth=15,\n",
       "                                                               random_state=15))]),\n",
       "             n_jobs=-1,\n",
       "             param_grid={&#x27;tree__criterion&#x27;: [&#x27;gini&#x27;, &#x27;entropy&#x27;],\n",
       "                         &#x27;tree__max_depth&#x27;: [2, 4, 6, 8, 10, 12]},\n",
       "             scoring=&#x27;precision&#x27;, verbose=5)</pre></div></div></div><div class=\"sk-parallel\"><div class=\"sk-parallel-item\"><div class=\"sk-item\"><div class=\"sk-serial\"><div class=\"sk-item\"><div class=\"sk-serial\"><div class=\"sk-item sk-dashed-wrapped\"><div class=\"sk-label-container\"><div class=\"sk-label sk-toggleable\"><input class=\"sk-toggleable__control sk-hidden--visually\" id=\"c07fee6c-f01f-466b-95f5-1beb7e3c6ce1\" type=\"checkbox\" ><label for=\"c07fee6c-f01f-466b-95f5-1beb7e3c6ce1\" class=\"sk-toggleable__label sk-toggleable__label-arrow\">preprocessor: ColumnTransformer</label><div class=\"sk-toggleable__content\"><pre>ColumnTransformer(transformers=[(&#x27;num&#x27;,\n",
       "                                 Pipeline(steps=[(&#x27;std_scaler&#x27;,\n",
       "                                                  StandardScaler())]),\n",
       "                                 [&#x27;host_response_rate&#x27;, &#x27;host_acceptance_rate&#x27;,\n",
       "                                  &#x27;host_is_superhost&#x27;, &#x27;host_listings_count&#x27;,\n",
       "                                  &#x27;host_has_profile_pic&#x27;,\n",
       "                                  &#x27;host_identity_verified&#x27;, &#x27;accommodates&#x27;,\n",
       "                                  &#x27;bedrooms&#x27;, &#x27;price&#x27;, &#x27;minimum_nights&#x27;,\n",
       "                                  &#x27;maximum_nights&#x27;, &#x27;has_availability&#x27;,\n",
       "                                  &#x27;number_of_reviews&#x27;, &#x27;license&#x27;,\n",
       "                                  &#x27;instant_bookable&#x27;]),\n",
       "                                (&#x27;cat&#x27;,\n",
       "                                 Pipeline(steps=[(&#x27;1hot&#x27;,\n",
       "                                                  OneHotEncoder(handle_unknown=&#x27;ignore&#x27;))]),\n",
       "                                 [&#x27;host_response_time&#x27;,\n",
       "                                  &#x27;neighbourhood_group_cleansed&#x27;, &#x27;room_type&#x27;,\n",
       "                                  &#x27;host_type&#x27;])])</pre></div></div></div><div class=\"sk-parallel\"><div class=\"sk-parallel-item\"><div class=\"sk-item\"><div class=\"sk-label-container\"><div class=\"sk-label sk-toggleable\"><input class=\"sk-toggleable__control sk-hidden--visually\" id=\"021dfd3c-1d69-4700-aab5-39b34664d59e\" type=\"checkbox\" ><label for=\"021dfd3c-1d69-4700-aab5-39b34664d59e\" class=\"sk-toggleable__label sk-toggleable__label-arrow\">num</label><div class=\"sk-toggleable__content\"><pre>[&#x27;host_response_rate&#x27;, &#x27;host_acceptance_rate&#x27;, &#x27;host_is_superhost&#x27;, &#x27;host_listings_count&#x27;, &#x27;host_has_profile_pic&#x27;, &#x27;host_identity_verified&#x27;, &#x27;accommodates&#x27;, &#x27;bedrooms&#x27;, &#x27;price&#x27;, &#x27;minimum_nights&#x27;, &#x27;maximum_nights&#x27;, &#x27;has_availability&#x27;, &#x27;number_of_reviews&#x27;, &#x27;license&#x27;, &#x27;instant_bookable&#x27;]</pre></div></div></div><div class=\"sk-serial\"><div class=\"sk-item\"><div class=\"sk-serial\"><div class=\"sk-item\"><div class=\"sk-estimator sk-toggleable\"><input class=\"sk-toggleable__control sk-hidden--visually\" id=\"b0b8842e-afec-47ef-86d7-a6c72d53c9ba\" type=\"checkbox\" ><label for=\"b0b8842e-afec-47ef-86d7-a6c72d53c9ba\" class=\"sk-toggleable__label sk-toggleable__label-arrow\">StandardScaler</label><div class=\"sk-toggleable__content\"><pre>StandardScaler()</pre></div></div></div></div></div></div></div></div><div class=\"sk-parallel-item\"><div class=\"sk-item\"><div class=\"sk-label-container\"><div class=\"sk-label sk-toggleable\"><input class=\"sk-toggleable__control sk-hidden--visually\" id=\"456aceb8-5a56-4b51-b054-527da54be9e7\" type=\"checkbox\" ><label for=\"456aceb8-5a56-4b51-b054-527da54be9e7\" class=\"sk-toggleable__label sk-toggleable__label-arrow\">cat</label><div class=\"sk-toggleable__content\"><pre>[&#x27;host_response_time&#x27;, &#x27;neighbourhood_group_cleansed&#x27;, &#x27;room_type&#x27;, &#x27;host_type&#x27;]</pre></div></div></div><div class=\"sk-serial\"><div class=\"sk-item\"><div class=\"sk-serial\"><div class=\"sk-item\"><div class=\"sk-estimator sk-toggleable\"><input class=\"sk-toggleable__control sk-hidden--visually\" id=\"d887df9d-597e-440f-b959-d81c2357c5bb\" type=\"checkbox\" ><label for=\"d887df9d-597e-440f-b959-d81c2357c5bb\" class=\"sk-toggleable__label sk-toggleable__label-arrow\">OneHotEncoder</label><div class=\"sk-toggleable__content\"><pre>OneHotEncoder(handle_unknown=&#x27;ignore&#x27;)</pre></div></div></div></div></div></div></div></div></div></div><div class=\"sk-item\"><div class=\"sk-estimator sk-toggleable\"><input class=\"sk-toggleable__control sk-hidden--visually\" id=\"ac8d26c3-88a6-4abf-9260-f136dab7a5e9\" type=\"checkbox\" ><label for=\"ac8d26c3-88a6-4abf-9260-f136dab7a5e9\" class=\"sk-toggleable__label sk-toggleable__label-arrow\">DecisionTreeClassifier</label><div class=\"sk-toggleable__content\"><pre>DecisionTreeClassifier(max_depth=15, random_state=15)</pre></div></div></div></div></div></div></div></div></div></div></div></div>"
      ],
      "text/plain": [
       "GridSearchCV(cv=5,\n",
       "             estimator=Pipeline(steps=[('preprocessor',\n",
       "                                        ColumnTransformer(transformers=[('num',\n",
       "                                                                         Pipeline(steps=[('std_scaler',\n",
       "                                                                                          StandardScaler())]),\n",
       "                                                                         ['host_response_rate',\n",
       "                                                                          'host_acceptance_rate',\n",
       "                                                                          'host_is_superhost',\n",
       "                                                                          'host_listings_count',\n",
       "                                                                          'host_has_profile_pic',\n",
       "                                                                          'host_identity_verified',\n",
       "                                                                          'accommodates',\n",
       "                                                                          'bedrooms',\n",
       "                                                                          'price',\n",
       "                                                                          'minimum_nights',\n",
       "                                                                          'maximum_nights...\n",
       "                                                                          'instant_bookable']),\n",
       "                                                                        ('cat',\n",
       "                                                                         Pipeline(steps=[('1hot',\n",
       "                                                                                          OneHotEncoder(handle_unknown='ignore'))]),\n",
       "                                                                         ['host_response_time',\n",
       "                                                                          'neighbourhood_group_cleansed',\n",
       "                                                                          'room_type',\n",
       "                                                                          'host_type'])])),\n",
       "                                       ('tree',\n",
       "                                        DecisionTreeClassifier(max_depth=15,\n",
       "                                                               random_state=15))]),\n",
       "             n_jobs=-1,\n",
       "             param_grid={'tree__criterion': ['gini', 'entropy'],\n",
       "                         'tree__max_depth': [2, 4, 6, 8, 10, 12]},\n",
       "             scoring='precision', verbose=5)"
      ]
     },
     "execution_count": 74,
     "metadata": {},
     "output_type": "execute_result"
    }
   ],
   "source": [
    "grid_tree = GridSearchCV(pipe_tree, param_grid=param_tree_all, cv=5, scoring='precision', \n",
    "                           verbose=5, n_jobs=-1)\n",
    "\n",
    "grid_tree.fit(X_train, y_train)"
   ]
  },
  {
   "cell_type": "code",
   "execution_count": 75,
   "id": "14db3cd2-76fd-4075-b0ef-ecd6ff131972",
   "metadata": {
    "tags": []
   },
   "outputs": [
    {
     "name": "stdout",
     "output_type": "stream",
     "text": [
      "Best score:\n",
      "0.98\n",
      "Best parameters:\n",
      "{'tree__criterion': 'gini', 'tree__max_depth': 12}\n"
     ]
    }
   ],
   "source": [
    "print('Best score:\\n{:.2f}'.format(grid_tree.best_score_))\n",
    "print(\"Best parameters:\\n{}\".format(grid_tree.best_params_))"
   ]
  },
  {
   "cell_type": "code",
   "execution_count": 76,
   "id": "ba9de9d3-a3a2-4cc5-a2fd-5fe87f6dbab7",
   "metadata": {
    "tags": []
   },
   "outputs": [
    {
     "data": {
      "text/html": [
       "<style>#sk-2d2cbcff-e6e0-4ab7-b102-932c77f22a17 {color: black;background-color: white;}#sk-2d2cbcff-e6e0-4ab7-b102-932c77f22a17 pre{padding: 0;}#sk-2d2cbcff-e6e0-4ab7-b102-932c77f22a17 div.sk-toggleable {background-color: white;}#sk-2d2cbcff-e6e0-4ab7-b102-932c77f22a17 label.sk-toggleable__label {cursor: pointer;display: block;width: 100%;margin-bottom: 0;padding: 0.3em;box-sizing: border-box;text-align: center;}#sk-2d2cbcff-e6e0-4ab7-b102-932c77f22a17 label.sk-toggleable__label-arrow:before {content: \"▸\";float: left;margin-right: 0.25em;color: #696969;}#sk-2d2cbcff-e6e0-4ab7-b102-932c77f22a17 label.sk-toggleable__label-arrow:hover:before {color: black;}#sk-2d2cbcff-e6e0-4ab7-b102-932c77f22a17 div.sk-estimator:hover label.sk-toggleable__label-arrow:before {color: black;}#sk-2d2cbcff-e6e0-4ab7-b102-932c77f22a17 div.sk-toggleable__content {max-height: 0;max-width: 0;overflow: hidden;text-align: left;background-color: #f0f8ff;}#sk-2d2cbcff-e6e0-4ab7-b102-932c77f22a17 div.sk-toggleable__content pre {margin: 0.2em;color: black;border-radius: 0.25em;background-color: #f0f8ff;}#sk-2d2cbcff-e6e0-4ab7-b102-932c77f22a17 input.sk-toggleable__control:checked~div.sk-toggleable__content {max-height: 200px;max-width: 100%;overflow: auto;}#sk-2d2cbcff-e6e0-4ab7-b102-932c77f22a17 input.sk-toggleable__control:checked~label.sk-toggleable__label-arrow:before {content: \"▾\";}#sk-2d2cbcff-e6e0-4ab7-b102-932c77f22a17 div.sk-estimator input.sk-toggleable__control:checked~label.sk-toggleable__label {background-color: #d4ebff;}#sk-2d2cbcff-e6e0-4ab7-b102-932c77f22a17 div.sk-label input.sk-toggleable__control:checked~label.sk-toggleable__label {background-color: #d4ebff;}#sk-2d2cbcff-e6e0-4ab7-b102-932c77f22a17 input.sk-hidden--visually {border: 0;clip: rect(1px 1px 1px 1px);clip: rect(1px, 1px, 1px, 1px);height: 1px;margin: -1px;overflow: hidden;padding: 0;position: absolute;width: 1px;}#sk-2d2cbcff-e6e0-4ab7-b102-932c77f22a17 div.sk-estimator {font-family: monospace;background-color: #f0f8ff;border: 1px dotted black;border-radius: 0.25em;box-sizing: border-box;margin-bottom: 0.5em;}#sk-2d2cbcff-e6e0-4ab7-b102-932c77f22a17 div.sk-estimator:hover {background-color: #d4ebff;}#sk-2d2cbcff-e6e0-4ab7-b102-932c77f22a17 div.sk-parallel-item::after {content: \"\";width: 100%;border-bottom: 1px solid gray;flex-grow: 1;}#sk-2d2cbcff-e6e0-4ab7-b102-932c77f22a17 div.sk-label:hover label.sk-toggleable__label {background-color: #d4ebff;}#sk-2d2cbcff-e6e0-4ab7-b102-932c77f22a17 div.sk-serial::before {content: \"\";position: absolute;border-left: 1px solid gray;box-sizing: border-box;top: 2em;bottom: 0;left: 50%;}#sk-2d2cbcff-e6e0-4ab7-b102-932c77f22a17 div.sk-serial {display: flex;flex-direction: column;align-items: center;background-color: white;padding-right: 0.2em;padding-left: 0.2em;}#sk-2d2cbcff-e6e0-4ab7-b102-932c77f22a17 div.sk-item {z-index: 1;}#sk-2d2cbcff-e6e0-4ab7-b102-932c77f22a17 div.sk-parallel {display: flex;align-items: stretch;justify-content: center;background-color: white;}#sk-2d2cbcff-e6e0-4ab7-b102-932c77f22a17 div.sk-parallel::before {content: \"\";position: absolute;border-left: 1px solid gray;box-sizing: border-box;top: 2em;bottom: 0;left: 50%;}#sk-2d2cbcff-e6e0-4ab7-b102-932c77f22a17 div.sk-parallel-item {display: flex;flex-direction: column;position: relative;background-color: white;}#sk-2d2cbcff-e6e0-4ab7-b102-932c77f22a17 div.sk-parallel-item:first-child::after {align-self: flex-end;width: 50%;}#sk-2d2cbcff-e6e0-4ab7-b102-932c77f22a17 div.sk-parallel-item:last-child::after {align-self: flex-start;width: 50%;}#sk-2d2cbcff-e6e0-4ab7-b102-932c77f22a17 div.sk-parallel-item:only-child::after {width: 0;}#sk-2d2cbcff-e6e0-4ab7-b102-932c77f22a17 div.sk-dashed-wrapped {border: 1px dashed gray;margin: 0 0.4em 0.5em 0.4em;box-sizing: border-box;padding-bottom: 0.4em;background-color: white;position: relative;}#sk-2d2cbcff-e6e0-4ab7-b102-932c77f22a17 div.sk-label label {font-family: monospace;font-weight: bold;background-color: white;display: inline-block;line-height: 1.2em;}#sk-2d2cbcff-e6e0-4ab7-b102-932c77f22a17 div.sk-label-container {position: relative;z-index: 2;text-align: center;}#sk-2d2cbcff-e6e0-4ab7-b102-932c77f22a17 div.sk-container {/* jupyter's `normalize.less` sets `[hidden] { display: none; }` but bootstrap.min.css set `[hidden] { display: none !important; }` so we also need the `!important` here to be able to override the default hidden behavior on the sphinx rendered scikit-learn.org. See: https://github.com/scikit-learn/scikit-learn/issues/21755 */display: inline-block !important;position: relative;}#sk-2d2cbcff-e6e0-4ab7-b102-932c77f22a17 div.sk-text-repr-fallback {display: none;}</style><div id=\"sk-2d2cbcff-e6e0-4ab7-b102-932c77f22a17\" class=\"sk-top-container\"><div class=\"sk-text-repr-fallback\"><pre>Pipeline(steps=[(&#x27;preprocessor&#x27;,\n",
       "                 ColumnTransformer(transformers=[(&#x27;num&#x27;,\n",
       "                                                  Pipeline(steps=[(&#x27;std_scaler&#x27;,\n",
       "                                                                   StandardScaler())]),\n",
       "                                                  [&#x27;host_response_rate&#x27;,\n",
       "                                                   &#x27;host_acceptance_rate&#x27;,\n",
       "                                                   &#x27;host_is_superhost&#x27;,\n",
       "                                                   &#x27;host_listings_count&#x27;,\n",
       "                                                   &#x27;host_has_profile_pic&#x27;,\n",
       "                                                   &#x27;host_identity_verified&#x27;,\n",
       "                                                   &#x27;accommodates&#x27;, &#x27;bedrooms&#x27;,\n",
       "                                                   &#x27;price&#x27;, &#x27;minimum_nights&#x27;,\n",
       "                                                   &#x27;maximum_nights&#x27;,\n",
       "                                                   &#x27;has_availability&#x27;,\n",
       "                                                   &#x27;number_of_reviews&#x27;,\n",
       "                                                   &#x27;license&#x27;,\n",
       "                                                   &#x27;instant_bookable&#x27;]),\n",
       "                                                 (&#x27;cat&#x27;,\n",
       "                                                  Pipeline(steps=[(&#x27;1hot&#x27;,\n",
       "                                                                   OneHotEncoder(handle_unknown=&#x27;ignore&#x27;))]),\n",
       "                                                  [&#x27;host_response_time&#x27;,\n",
       "                                                   &#x27;neighbourhood_group_cleansed&#x27;,\n",
       "                                                   &#x27;room_type&#x27;,\n",
       "                                                   &#x27;host_type&#x27;])])),\n",
       "                (&#x27;tree&#x27;,\n",
       "                 DecisionTreeClassifier(max_depth=12, random_state=15))])</pre><b>Please rerun this cell to show the HTML repr or trust the notebook.</b></div><div class=\"sk-container\" hidden><div class=\"sk-item sk-dashed-wrapped\"><div class=\"sk-label-container\"><div class=\"sk-label sk-toggleable\"><input class=\"sk-toggleable__control sk-hidden--visually\" id=\"76262061-d2c9-42c1-bbbe-4d98caef3786\" type=\"checkbox\" ><label for=\"76262061-d2c9-42c1-bbbe-4d98caef3786\" class=\"sk-toggleable__label sk-toggleable__label-arrow\">Pipeline</label><div class=\"sk-toggleable__content\"><pre>Pipeline(steps=[(&#x27;preprocessor&#x27;,\n",
       "                 ColumnTransformer(transformers=[(&#x27;num&#x27;,\n",
       "                                                  Pipeline(steps=[(&#x27;std_scaler&#x27;,\n",
       "                                                                   StandardScaler())]),\n",
       "                                                  [&#x27;host_response_rate&#x27;,\n",
       "                                                   &#x27;host_acceptance_rate&#x27;,\n",
       "                                                   &#x27;host_is_superhost&#x27;,\n",
       "                                                   &#x27;host_listings_count&#x27;,\n",
       "                                                   &#x27;host_has_profile_pic&#x27;,\n",
       "                                                   &#x27;host_identity_verified&#x27;,\n",
       "                                                   &#x27;accommodates&#x27;, &#x27;bedrooms&#x27;,\n",
       "                                                   &#x27;price&#x27;, &#x27;minimum_nights&#x27;,\n",
       "                                                   &#x27;maximum_nights&#x27;,\n",
       "                                                   &#x27;has_availability&#x27;,\n",
       "                                                   &#x27;number_of_reviews&#x27;,\n",
       "                                                   &#x27;license&#x27;,\n",
       "                                                   &#x27;instant_bookable&#x27;]),\n",
       "                                                 (&#x27;cat&#x27;,\n",
       "                                                  Pipeline(steps=[(&#x27;1hot&#x27;,\n",
       "                                                                   OneHotEncoder(handle_unknown=&#x27;ignore&#x27;))]),\n",
       "                                                  [&#x27;host_response_time&#x27;,\n",
       "                                                   &#x27;neighbourhood_group_cleansed&#x27;,\n",
       "                                                   &#x27;room_type&#x27;,\n",
       "                                                   &#x27;host_type&#x27;])])),\n",
       "                (&#x27;tree&#x27;,\n",
       "                 DecisionTreeClassifier(max_depth=12, random_state=15))])</pre></div></div></div><div class=\"sk-serial\"><div class=\"sk-item sk-dashed-wrapped\"><div class=\"sk-label-container\"><div class=\"sk-label sk-toggleable\"><input class=\"sk-toggleable__control sk-hidden--visually\" id=\"5c335d5d-8bd4-47a3-a11f-08e3eeadc525\" type=\"checkbox\" ><label for=\"5c335d5d-8bd4-47a3-a11f-08e3eeadc525\" class=\"sk-toggleable__label sk-toggleable__label-arrow\">preprocessor: ColumnTransformer</label><div class=\"sk-toggleable__content\"><pre>ColumnTransformer(transformers=[(&#x27;num&#x27;,\n",
       "                                 Pipeline(steps=[(&#x27;std_scaler&#x27;,\n",
       "                                                  StandardScaler())]),\n",
       "                                 [&#x27;host_response_rate&#x27;, &#x27;host_acceptance_rate&#x27;,\n",
       "                                  &#x27;host_is_superhost&#x27;, &#x27;host_listings_count&#x27;,\n",
       "                                  &#x27;host_has_profile_pic&#x27;,\n",
       "                                  &#x27;host_identity_verified&#x27;, &#x27;accommodates&#x27;,\n",
       "                                  &#x27;bedrooms&#x27;, &#x27;price&#x27;, &#x27;minimum_nights&#x27;,\n",
       "                                  &#x27;maximum_nights&#x27;, &#x27;has_availability&#x27;,\n",
       "                                  &#x27;number_of_reviews&#x27;, &#x27;license&#x27;,\n",
       "                                  &#x27;instant_bookable&#x27;]),\n",
       "                                (&#x27;cat&#x27;,\n",
       "                                 Pipeline(steps=[(&#x27;1hot&#x27;,\n",
       "                                                  OneHotEncoder(handle_unknown=&#x27;ignore&#x27;))]),\n",
       "                                 [&#x27;host_response_time&#x27;,\n",
       "                                  &#x27;neighbourhood_group_cleansed&#x27;, &#x27;room_type&#x27;,\n",
       "                                  &#x27;host_type&#x27;])])</pre></div></div></div><div class=\"sk-parallel\"><div class=\"sk-parallel-item\"><div class=\"sk-item\"><div class=\"sk-label-container\"><div class=\"sk-label sk-toggleable\"><input class=\"sk-toggleable__control sk-hidden--visually\" id=\"a1314625-049d-449f-821d-a0b6552533d5\" type=\"checkbox\" ><label for=\"a1314625-049d-449f-821d-a0b6552533d5\" class=\"sk-toggleable__label sk-toggleable__label-arrow\">num</label><div class=\"sk-toggleable__content\"><pre>[&#x27;host_response_rate&#x27;, &#x27;host_acceptance_rate&#x27;, &#x27;host_is_superhost&#x27;, &#x27;host_listings_count&#x27;, &#x27;host_has_profile_pic&#x27;, &#x27;host_identity_verified&#x27;, &#x27;accommodates&#x27;, &#x27;bedrooms&#x27;, &#x27;price&#x27;, &#x27;minimum_nights&#x27;, &#x27;maximum_nights&#x27;, &#x27;has_availability&#x27;, &#x27;number_of_reviews&#x27;, &#x27;license&#x27;, &#x27;instant_bookable&#x27;]</pre></div></div></div><div class=\"sk-serial\"><div class=\"sk-item\"><div class=\"sk-serial\"><div class=\"sk-item\"><div class=\"sk-estimator sk-toggleable\"><input class=\"sk-toggleable__control sk-hidden--visually\" id=\"5d90a736-158f-40a9-a4a3-cc2bdc3c0439\" type=\"checkbox\" ><label for=\"5d90a736-158f-40a9-a4a3-cc2bdc3c0439\" class=\"sk-toggleable__label sk-toggleable__label-arrow\">StandardScaler</label><div class=\"sk-toggleable__content\"><pre>StandardScaler()</pre></div></div></div></div></div></div></div></div><div class=\"sk-parallel-item\"><div class=\"sk-item\"><div class=\"sk-label-container\"><div class=\"sk-label sk-toggleable\"><input class=\"sk-toggleable__control sk-hidden--visually\" id=\"30d0778d-2556-4ba4-8b04-78562dc0a78a\" type=\"checkbox\" ><label for=\"30d0778d-2556-4ba4-8b04-78562dc0a78a\" class=\"sk-toggleable__label sk-toggleable__label-arrow\">cat</label><div class=\"sk-toggleable__content\"><pre>[&#x27;host_response_time&#x27;, &#x27;neighbourhood_group_cleansed&#x27;, &#x27;room_type&#x27;, &#x27;host_type&#x27;]</pre></div></div></div><div class=\"sk-serial\"><div class=\"sk-item\"><div class=\"sk-serial\"><div class=\"sk-item\"><div class=\"sk-estimator sk-toggleable\"><input class=\"sk-toggleable__control sk-hidden--visually\" id=\"a601380d-24b4-4479-a683-93803e3cfde3\" type=\"checkbox\" ><label for=\"a601380d-24b4-4479-a683-93803e3cfde3\" class=\"sk-toggleable__label sk-toggleable__label-arrow\">OneHotEncoder</label><div class=\"sk-toggleable__content\"><pre>OneHotEncoder(handle_unknown=&#x27;ignore&#x27;)</pre></div></div></div></div></div></div></div></div></div></div><div class=\"sk-item\"><div class=\"sk-estimator sk-toggleable\"><input class=\"sk-toggleable__control sk-hidden--visually\" id=\"9ca7a7ee-1062-4d0a-81fd-07aab50b774c\" type=\"checkbox\" ><label for=\"9ca7a7ee-1062-4d0a-81fd-07aab50b774c\" class=\"sk-toggleable__label sk-toggleable__label-arrow\">DecisionTreeClassifier</label><div class=\"sk-toggleable__content\"><pre>DecisionTreeClassifier(max_depth=12, random_state=15)</pre></div></div></div></div></div></div></div>"
      ],
      "text/plain": [
       "Pipeline(steps=[('preprocessor',\n",
       "                 ColumnTransformer(transformers=[('num',\n",
       "                                                  Pipeline(steps=[('std_scaler',\n",
       "                                                                   StandardScaler())]),\n",
       "                                                  ['host_response_rate',\n",
       "                                                   'host_acceptance_rate',\n",
       "                                                   'host_is_superhost',\n",
       "                                                   'host_listings_count',\n",
       "                                                   'host_has_profile_pic',\n",
       "                                                   'host_identity_verified',\n",
       "                                                   'accommodates', 'bedrooms',\n",
       "                                                   'price', 'minimum_nights',\n",
       "                                                   'maximum_nights',\n",
       "                                                   'has_availability',\n",
       "                                                   'number_of_reviews',\n",
       "                                                   'license',\n",
       "                                                   'instant_bookable']),\n",
       "                                                 ('cat',\n",
       "                                                  Pipeline(steps=[('1hot',\n",
       "                                                                   OneHotEncoder(handle_unknown='ignore'))]),\n",
       "                                                  ['host_response_time',\n",
       "                                                   'neighbourhood_group_cleansed',\n",
       "                                                   'room_type',\n",
       "                                                   'host_type'])])),\n",
       "                ('tree',\n",
       "                 DecisionTreeClassifier(max_depth=12, random_state=15))])"
      ]
     },
     "execution_count": 76,
     "metadata": {},
     "output_type": "execute_result"
    }
   ],
   "source": [
    "Tree = grid_tree.best_estimator_\n",
    "Tree"
   ]
  },
  {
   "cell_type": "code",
   "execution_count": 77,
   "id": "4e794af7-9465-447e-be36-f5afc6243d98",
   "metadata": {
    "tags": []
   },
   "outputs": [
    {
     "name": "stdout",
     "output_type": "stream",
     "text": [
      "Accuracy: 0.98\n",
      "Recall: 0.98\n",
      "Precision: 0.98\n"
     ]
    }
   ],
   "source": [
    "y_test_predicted_tree = Tree.predict(X_test)\n",
    "print(\"Accuracy: {:.2f}\".format(accuracy_score(y_test, y_test_predicted_tree)))\n",
    "print(\"Recall: {:.2f}\".format(recall_score(y_test, y_test_predicted_tree)))\n",
    "print(\"Precision: {:.2f}\".format(precision_score(y_test, y_test_predicted_tree)))"
   ]
  },
  {
   "cell_type": "code",
   "execution_count": 78,
   "id": "b4c8661c-9c8f-4ced-b61a-7d61a271ec67",
   "metadata": {
    "tags": []
   },
   "outputs": [
    {
     "data": {
      "image/png": "[encoded data removed]",
      "text/plain": [
       "<Figure size 640x480 with 2 Axes>"
      ]
     },
     "metadata": {},
     "output_type": "display_data"
    }
   ],
   "source": [
    "cfm_tree = confusion_matrix(y_test, y_test_predicted_tree)\n",
    "group_names = ['True Neg','False Pos','False Neg','True Pos']\n",
    "group_counts = ['{0:0.0f}'.format(value) for value in\n",
    "                cfm_tree.flatten()]\n",
    "group_percentages = ['{0:.2%}'.format(value) for value in\n",
    "                     cfm_tree.flatten()/np.sum(cfm_bl)]\n",
    "labels = [f'{v1}\\n{v2}\\n{v3}' for v1, v2, v3 in\n",
    "          zip(group_names,group_counts,group_percentages)]\n",
    "labels = np.asarray(labels).reshape(2,2)\n",
    "sns.heatmap(cfm_tree, annot=labels, fmt='', cmap=c2);"
   ]
  },
  {
   "cell_type": "code",
   "execution_count": null,
   "id": "e2375343-9c2d-484b-b1b2-eb8311c19185",
   "metadata": {},
   "outputs": [],
   "source": []
  }
 ],
 "metadata": {
  "kernelspec": {
   "display_name": "Python 3 (ipykernel)",
   "language": "python",
   "name": "python3"
  },
  "language_info": {
   "codemirror_mode": {
    "name": "ipython",
    "version": 3
   },
   "file_extension": ".py",
   "mimetype": "text/x-python",
   "name": "python",
   "nbconvert_exporter": "python",
   "pygments_lexer": "ipython3",
   "version": "3.9.8"
  }
 },
 "nbformat": 4,
 "nbformat_minor": 5
}
