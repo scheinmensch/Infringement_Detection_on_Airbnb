{
 "cells": [
  {
   "cell_type": "markdown",
   "id": "86866ec0-1fa3-4b14-a0b7-bab10164f0e5",
   "metadata": {},
   "source": [
    "In this notebook we will train some simple models without advanced preprocessing or feature engineering in order to get a benchmark accuracy score."
   ]
  },
  {
   "cell_type": "code",
   "execution_count": 1,
   "id": "c9b4bb58-c00f-4239-b847-3820cd071df3",
   "metadata": {
    "tags": []
   },
   "outputs": [],
   "source": [
    "# import packages \n",
    "import pandas as pd\n",
    "import numpy as np\n",
    "import seaborn as sns\n",
    "import matplotlib.pyplot as plt\n",
    "from sklearn.pipeline import Pipeline\n",
    "from sklearn.compose import ColumnTransformer\n",
    "from sklearn.preprocessing import OneHotEncoder, StandardScaler\n",
    "from sklearn.preprocessing import LabelEncoder\n",
    "from sklearn.impute import SimpleImputer\n",
    "from sklearn.linear_model import LogisticRegression\n",
    "from sklearn.model_selection import train_test_split\n",
    "from sklearn.model_selection import GridSearchCV, RandomizedSearchCV\n",
    "from sklearn.model_selection import cross_val_predict, cross_val_score, cross_validate\n",
    "from sklearn.metrics import confusion_matrix, accuracy_score, recall_score, precision_score\n",
    "from sklearn.metrics import roc_auc_score, roc_curve\n",
    "from sklearn.ensemble import RandomForestClassifier\n",
    "from joblib import dump, load\n",
    "from xgboost import XGBClassifier\n",
    "from sklearn.neighbors import KNeighborsClassifier\n",
    "from sklearn.tree import DecisionTreeClassifier\n",
    "\n",
    "# define RSEED\n",
    "RSEED = 15\n",
    "\n",
    "# set color schemes\n",
    "c = ['#8e9aaf', '#cbc0d3', '#efd3d7', '#dee2ff', '#feeafa']\n",
    "c2 = ['#ced3dc',\n",
    " '#c6ccd7',\n",
    " '#c0c7d3',\n",
    " '#bdc4d0',\n",
    " '#b9c0cd',\n",
    " '#b3bbca',\n",
    " '#afb7c6',\n",
    " '#abb4c4',\n",
    " '#a7b1c1',\n",
    " '#a3adbe',\n",
    " '#a0aabb',\n",
    " '#9da8ba',\n",
    " '#9aa5b8',\n",
    " '#97a2b5',\n",
    " '#949fb3',\n",
    " '#919db1',\n",
    " '#8e9aaf']\n",
    "cpal2 = ['#F2CC8F', '#81B29A']\n",
    "\n",
    "# set configurations\n",
    "from sklearn import set_config\n",
    "set_config(display='diagram')\n",
    "\n",
    "# suppress warnings\n",
    "import warnings\n",
    "warnings.filterwarnings(\"ignore\")"
   ]
  },
  {
   "cell_type": "code",
   "execution_count": 2,
   "id": "edb91a6b-0b29-4b56-ab8e-6dfb667fce88",
   "metadata": {
    "tags": []
   },
   "outputs": [],
   "source": [
    "# load data\n",
    "bcn = pd.read_csv('../data/df_modelling.csv')"
   ]
  },
  {
   "cell_type": "code",
   "execution_count": 3,
   "id": "bb5df162-f885-42f3-b923-d36671dac8a0",
   "metadata": {
    "tags": []
   },
   "outputs": [
    {
     "data": {
      "text/html": [
       "<div>\n",
       "<style scoped>\n",
       "    .dataframe tbody tr th:only-of-type {\n",
       "        vertical-align: middle;\n",
       "    }\n",
       "\n",
       "    .dataframe tbody tr th {\n",
       "        vertical-align: top;\n",
       "    }\n",
       "\n",
       "    .dataframe thead th {\n",
       "        text-align: right;\n",
       "    }\n",
       "</style>\n",
       "<table border=\"1\" class=\"dataframe\">\n",
       "  <thead>\n",
       "    <tr style=\"text-align: right;\">\n",
       "      <th></th>\n",
       "      <th>Unnamed: 0</th>\n",
       "      <th>id</th>\n",
       "      <th>name</th>\n",
       "      <th>description</th>\n",
       "      <th>neighborhood_overview</th>\n",
       "      <th>picture_url</th>\n",
       "      <th>host_id</th>\n",
       "      <th>host_name</th>\n",
       "      <th>host_since</th>\n",
       "      <th>host_location</th>\n",
       "      <th>...</th>\n",
       "      <th>review_scores_accuracy</th>\n",
       "      <th>review_scores_cleanliness</th>\n",
       "      <th>review_scores_checkin</th>\n",
       "      <th>review_scores_communication</th>\n",
       "      <th>review_scores_location</th>\n",
       "      <th>review_scores_value</th>\n",
       "      <th>license</th>\n",
       "      <th>instant_bookable</th>\n",
       "      <th>host_type</th>\n",
       "      <th>suspicious_or_not</th>\n",
       "    </tr>\n",
       "  </thead>\n",
       "  <tbody>\n",
       "    <tr>\n",
       "      <th>0</th>\n",
       "      <td>0</td>\n",
       "      <td>13977576</td>\n",
       "      <td>Habitación individual es Barcelona</td>\n",
       "      <td>Mi alojamiento es bueno para aventureros y via...</td>\n",
       "      <td>NaN</td>\n",
       "      <td>https://a0.muscache.com/pictures/7a6e9767-bd4e...</td>\n",
       "      <td>64903899</td>\n",
       "      <td>Carolina</td>\n",
       "      <td>2016-03-29</td>\n",
       "      <td>Paris, France</td>\n",
       "      <td>...</td>\n",
       "      <td>NaN</td>\n",
       "      <td>NaN</td>\n",
       "      <td>NaN</td>\n",
       "      <td>NaN</td>\n",
       "      <td>NaN</td>\n",
       "      <td>NaN</td>\n",
       "      <td>NaN</td>\n",
       "      <td>f</td>\n",
       "      <td>private</td>\n",
       "      <td>1</td>\n",
       "    </tr>\n",
       "    <tr>\n",
       "      <th>1</th>\n",
       "      <td>1</td>\n",
       "      <td>42105584</td>\n",
       "      <td>Habitación M&amp;D</td>\n",
       "      <td>&lt;b&gt;License number&lt;/b&gt;&lt;br /&gt;Exempt</td>\n",
       "      <td>NaN</td>\n",
       "      <td>https://a0.muscache.com/pictures/7342e586-6ea5...</td>\n",
       "      <td>333969184</td>\n",
       "      <td>Midian</td>\n",
       "      <td>2020-02-06</td>\n",
       "      <td>Barcelona, Spain</td>\n",
       "      <td>...</td>\n",
       "      <td>NaN</td>\n",
       "      <td>NaN</td>\n",
       "      <td>NaN</td>\n",
       "      <td>NaN</td>\n",
       "      <td>NaN</td>\n",
       "      <td>NaN</td>\n",
       "      <td>Exempt</td>\n",
       "      <td>f</td>\n",
       "      <td>private</td>\n",
       "      <td>1</td>\n",
       "    </tr>\n",
       "    <tr>\n",
       "      <th>2</th>\n",
       "      <td>2</td>\n",
       "      <td>33727898</td>\n",
       "      <td>Spacious and bright apartment next to Plaza Es...</td>\n",
       "      <td>Hi friends! Welcome to this apartment located ...</td>\n",
       "      <td>The apartment is located in the Eixample quart...</td>\n",
       "      <td>https://a0.muscache.com/pictures/44066458-5997...</td>\n",
       "      <td>251710733</td>\n",
       "      <td>Magda</td>\n",
       "      <td>2019-03-28</td>\n",
       "      <td>NaN</td>\n",
       "      <td>...</td>\n",
       "      <td>4.97</td>\n",
       "      <td>4.97</td>\n",
       "      <td>5.00</td>\n",
       "      <td>5.00</td>\n",
       "      <td>4.83</td>\n",
       "      <td>4.73</td>\n",
       "      <td>HUTB-008684</td>\n",
       "      <td>f</td>\n",
       "      <td>private</td>\n",
       "      <td>1</td>\n",
       "    </tr>\n",
       "    <tr>\n",
       "      <th>3</th>\n",
       "      <td>3</td>\n",
       "      <td>44995311</td>\n",
       "      <td>Single Room, City Center, Private Bathroom</td>\n",
       "      <td>Goya Hostel is a hostel located in the center ...</td>\n",
       "      <td>The Eixample, which translates as \"widening\" b...</td>\n",
       "      <td>https://a0.muscache.com/pictures/af651bc2-8dff...</td>\n",
       "      <td>363074093</td>\n",
       "      <td>Hostal</td>\n",
       "      <td>2020-08-18</td>\n",
       "      <td>Barcelona, Spain</td>\n",
       "      <td>...</td>\n",
       "      <td>4.91</td>\n",
       "      <td>4.73</td>\n",
       "      <td>4.91</td>\n",
       "      <td>4.64</td>\n",
       "      <td>4.91</td>\n",
       "      <td>4.73</td>\n",
       "      <td>HUTB-265656</td>\n",
       "      <td>t</td>\n",
       "      <td>commercial</td>\n",
       "      <td>0</td>\n",
       "    </tr>\n",
       "    <tr>\n",
       "      <th>4</th>\n",
       "      <td>4</td>\n",
       "      <td>15763812</td>\n",
       "      <td>HABITACIÓN PLAZA ESPAÑA</td>\n",
       "      <td>Lugares de interés: Poble Espanyol, CaixaForum...</td>\n",
       "      <td>NaN</td>\n",
       "      <td>https://a0.muscache.com/pictures/1bccbbbc-4b78...</td>\n",
       "      <td>101927904</td>\n",
       "      <td>James</td>\n",
       "      <td>2016-10-31</td>\n",
       "      <td>Barcelona, Spain</td>\n",
       "      <td>...</td>\n",
       "      <td>4.90</td>\n",
       "      <td>4.94</td>\n",
       "      <td>4.96</td>\n",
       "      <td>4.67</td>\n",
       "      <td>4.88</td>\n",
       "      <td>4.60</td>\n",
       "      <td>Exempt</td>\n",
       "      <td>t</td>\n",
       "      <td>private</td>\n",
       "      <td>1</td>\n",
       "    </tr>\n",
       "  </tbody>\n",
       "</table>\n",
       "<p>5 rows × 53 columns</p>\n",
       "</div>"
      ],
      "text/plain": [
       "   Unnamed: 0        id                                               name  \\\n",
       "0           0  13977576                 Habitación individual es Barcelona   \n",
       "1           1  42105584                                     Habitación M&D   \n",
       "2           2  33727898  Spacious and bright apartment next to Plaza Es...   \n",
       "3           3  44995311         Single Room, City Center, Private Bathroom   \n",
       "4           4  15763812                            HABITACIÓN PLAZA ESPAÑA   \n",
       "\n",
       "                                         description  \\\n",
       "0  Mi alojamiento es bueno para aventureros y via...   \n",
       "1                  <b>License number</b><br />Exempt   \n",
       "2  Hi friends! Welcome to this apartment located ...   \n",
       "3  Goya Hostel is a hostel located in the center ...   \n",
       "4  Lugares de interés: Poble Espanyol, CaixaForum...   \n",
       "\n",
       "                               neighborhood_overview  \\\n",
       "0                                                NaN   \n",
       "1                                                NaN   \n",
       "2  The apartment is located in the Eixample quart...   \n",
       "3  The Eixample, which translates as \"widening\" b...   \n",
       "4                                                NaN   \n",
       "\n",
       "                                         picture_url    host_id host_name  \\\n",
       "0  https://a0.muscache.com/pictures/7a6e9767-bd4e...   64903899  Carolina   \n",
       "1  https://a0.muscache.com/pictures/7342e586-6ea5...  333969184    Midian   \n",
       "2  https://a0.muscache.com/pictures/44066458-5997...  251710733     Magda   \n",
       "3  https://a0.muscache.com/pictures/af651bc2-8dff...  363074093    Hostal   \n",
       "4  https://a0.muscache.com/pictures/1bccbbbc-4b78...  101927904     James   \n",
       "\n",
       "   host_since     host_location  ... review_scores_accuracy  \\\n",
       "0  2016-03-29     Paris, France  ...                    NaN   \n",
       "1  2020-02-06  Barcelona, Spain  ...                    NaN   \n",
       "2  2019-03-28               NaN  ...                   4.97   \n",
       "3  2020-08-18  Barcelona, Spain  ...                   4.91   \n",
       "4  2016-10-31  Barcelona, Spain  ...                   4.90   \n",
       "\n",
       "  review_scores_cleanliness review_scores_checkin review_scores_communication  \\\n",
       "0                       NaN                   NaN                         NaN   \n",
       "1                       NaN                   NaN                         NaN   \n",
       "2                      4.97                  5.00                        5.00   \n",
       "3                      4.73                  4.91                        4.64   \n",
       "4                      4.94                  4.96                        4.67   \n",
       "\n",
       "  review_scores_location review_scores_value      license instant_bookable  \\\n",
       "0                    NaN                 NaN          NaN                f   \n",
       "1                    NaN                 NaN       Exempt                f   \n",
       "2                   4.83                4.73  HUTB-008684                f   \n",
       "3                   4.91                4.73  HUTB-265656                t   \n",
       "4                   4.88                4.60       Exempt                t   \n",
       "\n",
       "    host_type  suspicious_or_not  \n",
       "0     private                  1  \n",
       "1     private                  1  \n",
       "2     private                  1  \n",
       "3  commercial                  0  \n",
       "4     private                  1  \n",
       "\n",
       "[5 rows x 53 columns]"
      ]
     },
     "execution_count": 3,
     "metadata": {},
     "output_type": "execute_result"
    }
   ],
   "source": [
    "# first look\n",
    "bcn.head()"
   ]
  },
  {
   "cell_type": "code",
   "execution_count": 4,
   "id": "c0e0df5b-f3d6-49dc-aa82-4c37e169beb0",
   "metadata": {
    "tags": []
   },
   "outputs": [
    {
     "data": {
      "text/html": [
       "<div>\n",
       "<style scoped>\n",
       "    .dataframe tbody tr th:only-of-type {\n",
       "        vertical-align: middle;\n",
       "    }\n",
       "\n",
       "    .dataframe tbody tr th {\n",
       "        vertical-align: top;\n",
       "    }\n",
       "\n",
       "    .dataframe thead th {\n",
       "        text-align: right;\n",
       "    }\n",
       "</style>\n",
       "<table border=\"1\" class=\"dataframe\">\n",
       "  <thead>\n",
       "    <tr style=\"text-align: right;\">\n",
       "      <th></th>\n",
       "      <th>Amount</th>\n",
       "      <th>Percentage</th>\n",
       "    </tr>\n",
       "  </thead>\n",
       "  <tbody>\n",
       "    <tr>\n",
       "      <th>name</th>\n",
       "      <td>6</td>\n",
       "      <td>0.05</td>\n",
       "    </tr>\n",
       "    <tr>\n",
       "      <th>description</th>\n",
       "      <td>55</td>\n",
       "      <td>0.49</td>\n",
       "    </tr>\n",
       "    <tr>\n",
       "      <th>neighborhood_overview</th>\n",
       "      <td>4480</td>\n",
       "      <td>39.51</td>\n",
       "    </tr>\n",
       "    <tr>\n",
       "      <th>host_name</th>\n",
       "      <td>2</td>\n",
       "      <td>0.02</td>\n",
       "    </tr>\n",
       "    <tr>\n",
       "      <th>host_since</th>\n",
       "      <td>2</td>\n",
       "      <td>0.02</td>\n",
       "    </tr>\n",
       "    <tr>\n",
       "      <th>host_location</th>\n",
       "      <td>2502</td>\n",
       "      <td>22.06</td>\n",
       "    </tr>\n",
       "    <tr>\n",
       "      <th>host_about</th>\n",
       "      <td>4075</td>\n",
       "      <td>35.93</td>\n",
       "    </tr>\n",
       "    <tr>\n",
       "      <th>host_response_time</th>\n",
       "      <td>2048</td>\n",
       "      <td>18.06</td>\n",
       "    </tr>\n",
       "    <tr>\n",
       "      <th>host_response_rate</th>\n",
       "      <td>2048</td>\n",
       "      <td>18.06</td>\n",
       "    </tr>\n",
       "    <tr>\n",
       "      <th>host_acceptance_rate</th>\n",
       "      <td>1685</td>\n",
       "      <td>14.86</td>\n",
       "    </tr>\n",
       "    <tr>\n",
       "      <th>host_is_superhost</th>\n",
       "      <td>1</td>\n",
       "      <td>0.01</td>\n",
       "    </tr>\n",
       "    <tr>\n",
       "      <th>host_thumbnail_url</th>\n",
       "      <td>2</td>\n",
       "      <td>0.02</td>\n",
       "    </tr>\n",
       "    <tr>\n",
       "      <th>host_picture_url</th>\n",
       "      <td>2</td>\n",
       "      <td>0.02</td>\n",
       "    </tr>\n",
       "    <tr>\n",
       "      <th>host_neighbourhood</th>\n",
       "      <td>4650</td>\n",
       "      <td>41.01</td>\n",
       "    </tr>\n",
       "    <tr>\n",
       "      <th>host_listings_count</th>\n",
       "      <td>2</td>\n",
       "      <td>0.02</td>\n",
       "    </tr>\n",
       "    <tr>\n",
       "      <th>host_total_listings_count</th>\n",
       "      <td>2</td>\n",
       "      <td>0.02</td>\n",
       "    </tr>\n",
       "    <tr>\n",
       "      <th>host_verifications</th>\n",
       "      <td>2</td>\n",
       "      <td>0.02</td>\n",
       "    </tr>\n",
       "    <tr>\n",
       "      <th>host_has_profile_pic</th>\n",
       "      <td>2</td>\n",
       "      <td>0.02</td>\n",
       "    </tr>\n",
       "    <tr>\n",
       "      <th>host_identity_verified</th>\n",
       "      <td>2</td>\n",
       "      <td>0.02</td>\n",
       "    </tr>\n",
       "    <tr>\n",
       "      <th>neighbourhood</th>\n",
       "      <td>4480</td>\n",
       "      <td>39.51</td>\n",
       "    </tr>\n",
       "    <tr>\n",
       "      <th>bathrooms</th>\n",
       "      <td>11340</td>\n",
       "      <td>100.00</td>\n",
       "    </tr>\n",
       "    <tr>\n",
       "      <th>bathrooms_text</th>\n",
       "      <td>6</td>\n",
       "      <td>0.05</td>\n",
       "    </tr>\n",
       "    <tr>\n",
       "      <th>bedrooms</th>\n",
       "      <td>394</td>\n",
       "      <td>3.47</td>\n",
       "    </tr>\n",
       "    <tr>\n",
       "      <th>beds</th>\n",
       "      <td>191</td>\n",
       "      <td>1.68</td>\n",
       "    </tr>\n",
       "    <tr>\n",
       "      <th>calendar_updated</th>\n",
       "      <td>11340</td>\n",
       "      <td>100.00</td>\n",
       "    </tr>\n",
       "    <tr>\n",
       "      <th>review_scores_rating</th>\n",
       "      <td>2411</td>\n",
       "      <td>21.26</td>\n",
       "    </tr>\n",
       "    <tr>\n",
       "      <th>review_scores_accuracy</th>\n",
       "      <td>2470</td>\n",
       "      <td>21.78</td>\n",
       "    </tr>\n",
       "    <tr>\n",
       "      <th>review_scores_cleanliness</th>\n",
       "      <td>2470</td>\n",
       "      <td>21.78</td>\n",
       "    </tr>\n",
       "    <tr>\n",
       "      <th>review_scores_checkin</th>\n",
       "      <td>2474</td>\n",
       "      <td>21.82</td>\n",
       "    </tr>\n",
       "    <tr>\n",
       "      <th>review_scores_communication</th>\n",
       "      <td>2469</td>\n",
       "      <td>21.77</td>\n",
       "    </tr>\n",
       "    <tr>\n",
       "      <th>review_scores_location</th>\n",
       "      <td>2474</td>\n",
       "      <td>21.82</td>\n",
       "    </tr>\n",
       "    <tr>\n",
       "      <th>review_scores_value</th>\n",
       "      <td>2473</td>\n",
       "      <td>21.81</td>\n",
       "    </tr>\n",
       "    <tr>\n",
       "      <th>license</th>\n",
       "      <td>3375</td>\n",
       "      <td>29.76</td>\n",
       "    </tr>\n",
       "  </tbody>\n",
       "</table>\n",
       "</div>"
      ],
      "text/plain": [
       "                             Amount  Percentage\n",
       "name                              6        0.05\n",
       "description                      55        0.49\n",
       "neighborhood_overview          4480       39.51\n",
       "host_name                         2        0.02\n",
       "host_since                        2        0.02\n",
       "host_location                  2502       22.06\n",
       "host_about                     4075       35.93\n",
       "host_response_time             2048       18.06\n",
       "host_response_rate             2048       18.06\n",
       "host_acceptance_rate           1685       14.86\n",
       "host_is_superhost                 1        0.01\n",
       "host_thumbnail_url                2        0.02\n",
       "host_picture_url                  2        0.02\n",
       "host_neighbourhood             4650       41.01\n",
       "host_listings_count               2        0.02\n",
       "host_total_listings_count         2        0.02\n",
       "host_verifications                2        0.02\n",
       "host_has_profile_pic              2        0.02\n",
       "host_identity_verified            2        0.02\n",
       "neighbourhood                  4480       39.51\n",
       "bathrooms                     11340      100.00\n",
       "bathrooms_text                    6        0.05\n",
       "bedrooms                        394        3.47\n",
       "beds                            191        1.68\n",
       "calendar_updated              11340      100.00\n",
       "review_scores_rating           2411       21.26\n",
       "review_scores_accuracy         2470       21.78\n",
       "review_scores_cleanliness      2470       21.78\n",
       "review_scores_checkin          2474       21.82\n",
       "review_scores_communication    2469       21.77\n",
       "review_scores_location         2474       21.82\n",
       "review_scores_value            2473       21.81\n",
       "license                        3375       29.76"
      ]
     },
     "execution_count": 4,
     "metadata": {},
     "output_type": "execute_result"
    }
   ],
   "source": [
    "# show how many values are missing per column\n",
    "missing = pd.DataFrame(bcn.isnull().sum(), columns=[\"Amount\"])\n",
    "missing['Percentage'] = round((missing['Amount']/bcn.shape[0])*100, 2)\n",
    "missing[missing['Amount'] != 0]"
   ]
  },
  {
   "cell_type": "code",
   "execution_count": 5,
   "id": "7ede66dd-131f-4c03-9b19-76f8cd8a8c19",
   "metadata": {
    "tags": []
   },
   "outputs": [],
   "source": [
    "#drop columns with all NaN values\n",
    "df_bl = bcn.drop(['bathrooms', 'calendar_updated'], axis=1)"
   ]
  },
  {
   "cell_type": "code",
   "execution_count": 6,
   "id": "bebb831e-aa50-420b-b02c-2312dafe18d7",
   "metadata": {
    "tags": []
   },
   "outputs": [],
   "source": [
    "#drop some columns which we won't use\n",
    "df_bl.drop(['Unnamed: 0', 'id', 'name', 'description', 'neighborhood_overview',\n",
    "       'picture_url', 'host_id', 'host_name', 'host_location',\n",
    "       'host_about', 'host_thumbnail_url',\n",
    "       'host_picture_url', 'host_neighbourhood', 'neighbourhood',\n",
    "       'neighbourhood_cleansed', 'latitude',\n",
    "       'longitude', 'property_type', 'bathrooms_text', 'beds', 'amenities', 'host_total_listings_count', 'review_scores_rating', 'review_scores_accuracy',\n",
    "       'review_scores_cleanliness', 'review_scores_checkin',\n",
    "       'review_scores_communication', 'review_scores_location',\n",
    "       'review_scores_value', 'host_verifications' ], axis=1, inplace=True)"
   ]
  },
  {
   "cell_type": "code",
   "execution_count": 7,
   "id": "28191f43-1066-4ae3-8ee8-7afad69b0411",
   "metadata": {
    "tags": []
   },
   "outputs": [
    {
     "data": {
      "text/html": [
       "<div>\n",
       "<style scoped>\n",
       "    .dataframe tbody tr th:only-of-type {\n",
       "        vertical-align: middle;\n",
       "    }\n",
       "\n",
       "    .dataframe tbody tr th {\n",
       "        vertical-align: top;\n",
       "    }\n",
       "\n",
       "    .dataframe thead th {\n",
       "        text-align: right;\n",
       "    }\n",
       "</style>\n",
       "<table border=\"1\" class=\"dataframe\">\n",
       "  <thead>\n",
       "    <tr style=\"text-align: right;\">\n",
       "      <th></th>\n",
       "      <th>host_since</th>\n",
       "      <th>host_response_time</th>\n",
       "      <th>host_response_rate</th>\n",
       "      <th>host_acceptance_rate</th>\n",
       "      <th>host_is_superhost</th>\n",
       "      <th>host_listings_count</th>\n",
       "      <th>host_has_profile_pic</th>\n",
       "      <th>host_identity_verified</th>\n",
       "      <th>neighbourhood_group_cleansed</th>\n",
       "      <th>room_type</th>\n",
       "      <th>...</th>\n",
       "      <th>bedrooms</th>\n",
       "      <th>price</th>\n",
       "      <th>minimum_nights</th>\n",
       "      <th>maximum_nights</th>\n",
       "      <th>has_availability</th>\n",
       "      <th>number_of_reviews</th>\n",
       "      <th>license</th>\n",
       "      <th>instant_bookable</th>\n",
       "      <th>host_type</th>\n",
       "      <th>suspicious_or_not</th>\n",
       "    </tr>\n",
       "  </thead>\n",
       "  <tbody>\n",
       "    <tr>\n",
       "      <th>3465</th>\n",
       "      <td>NaN</td>\n",
       "      <td>NaN</td>\n",
       "      <td>NaN</td>\n",
       "      <td>NaN</td>\n",
       "      <td>f</td>\n",
       "      <td>NaN</td>\n",
       "      <td>NaN</td>\n",
       "      <td>NaN</td>\n",
       "      <td>Eixample</td>\n",
       "      <td>Private room</td>\n",
       "      <td>...</td>\n",
       "      <td>1.0</td>\n",
       "      <td>$50.00</td>\n",
       "      <td>2</td>\n",
       "      <td>1125</td>\n",
       "      <td>t</td>\n",
       "      <td>1</td>\n",
       "      <td>NaN</td>\n",
       "      <td>f</td>\n",
       "      <td>private</td>\n",
       "      <td>1</td>\n",
       "    </tr>\n",
       "    <tr>\n",
       "      <th>11104</th>\n",
       "      <td>NaN</td>\n",
       "      <td>NaN</td>\n",
       "      <td>NaN</td>\n",
       "      <td>NaN</td>\n",
       "      <td>f</td>\n",
       "      <td>NaN</td>\n",
       "      <td>NaN</td>\n",
       "      <td>NaN</td>\n",
       "      <td>Les Corts</td>\n",
       "      <td>Private room</td>\n",
       "      <td>...</td>\n",
       "      <td>1.0</td>\n",
       "      <td>$50.00</td>\n",
       "      <td>1</td>\n",
       "      <td>1125</td>\n",
       "      <td>t</td>\n",
       "      <td>0</td>\n",
       "      <td>NaN</td>\n",
       "      <td>f</td>\n",
       "      <td>private</td>\n",
       "      <td>1</td>\n",
       "    </tr>\n",
       "  </tbody>\n",
       "</table>\n",
       "<p>2 rows × 21 columns</p>\n",
       "</div>"
      ],
      "text/plain": [
       "      host_since host_response_time host_response_rate host_acceptance_rate  \\\n",
       "3465         NaN                NaN                NaN                  NaN   \n",
       "11104        NaN                NaN                NaN                  NaN   \n",
       "\n",
       "      host_is_superhost  host_listings_count host_has_profile_pic  \\\n",
       "3465                  f                  NaN                  NaN   \n",
       "11104                 f                  NaN                  NaN   \n",
       "\n",
       "      host_identity_verified neighbourhood_group_cleansed     room_type  ...  \\\n",
       "3465                     NaN                     Eixample  Private room  ...   \n",
       "11104                    NaN                    Les Corts  Private room  ...   \n",
       "\n",
       "       bedrooms   price minimum_nights  maximum_nights  has_availability  \\\n",
       "3465        1.0  $50.00              2            1125                 t   \n",
       "11104       1.0  $50.00              1            1125                 t   \n",
       "\n",
       "      number_of_reviews  license instant_bookable host_type suspicious_or_not  \n",
       "3465                  1      NaN                f   private                 1  \n",
       "11104                 0      NaN                f   private                 1  \n",
       "\n",
       "[2 rows x 21 columns]"
      ]
     },
     "execution_count": 7,
     "metadata": {},
     "output_type": "execute_result"
    }
   ],
   "source": [
    "#check if those with NaN in many host related columns are always the same two\n",
    "host_nans = df_bl[df_bl['host_since'].isna()]\n",
    "host_nans"
   ]
  },
  {
   "cell_type": "code",
   "execution_count": 8,
   "id": "cc909531-2a45-436b-a6e7-8ab110412b9d",
   "metadata": {
    "tags": []
   },
   "outputs": [],
   "source": [
    "# since they are, we delete them\n",
    "df_bl=df_bl.dropna(subset=['host_since'])"
   ]
  },
  {
   "cell_type": "markdown",
   "id": "ee3eab71-9600-4f2d-971d-4ff35d530101",
   "metadata": {},
   "source": [
    "## change some dtypes"
   ]
  },
  {
   "cell_type": "code",
   "execution_count": 9,
   "id": "51539e5f-8d23-4cf0-8c0a-7c7e934e9a27",
   "metadata": {
    "tags": []
   },
   "outputs": [],
   "source": [
    "# hoste_since to datetime\n",
    "df_bl['host_since']= pd.to_datetime(df_bl['host_since'])"
   ]
  },
  {
   "cell_type": "code",
   "execution_count": 10,
   "id": "5122f2a7-04dd-41cc-932d-47ef45831c50",
   "metadata": {
    "tags": []
   },
   "outputs": [],
   "source": [
    "# price to float\n",
    "df_bl['price'] = df_bl['price'].str[1:]\n",
    "df_bl['price'] = df_bl['price'].str.replace(',','')\n",
    "df_bl['price'] = pd.to_numeric(df_bl['price'])"
   ]
  },
  {
   "cell_type": "code",
   "execution_count": 11,
   "id": "cab75737-fd26-4b08-8cca-3f93b5e13337",
   "metadata": {
    "tags": []
   },
   "outputs": [],
   "source": [
    "# host_response_rate and host_acceptance_rate to float\n",
    "df_bl['host_response_rate'] = df_bl['host_response_rate'].str.rstrip(\"%\").astype(float)/100\n",
    "df_bl['host_acceptance_rate'] = df_bl['host_acceptance_rate'].str.rstrip(\"%\").astype(float)/100"
   ]
  },
  {
   "cell_type": "code",
   "execution_count": 12,
   "id": "ed69312d-ca0d-4079-b9d6-f748384d3b31",
   "metadata": {
    "tags": []
   },
   "outputs": [],
   "source": [
    "# some boolean to 0/1\n",
    "le = LabelEncoder()\n",
    "df_bl['host_is_superhost'] = le.fit_transform(df_bl['host_is_superhost'])\n",
    "df_bl['host_has_profile_pic'] = le.fit_transform(df_bl['host_has_profile_pic'])\n",
    "df_bl['host_identity_verified'] = le.fit_transform(df_bl['host_identity_verified'])\n",
    "df_bl['has_availability'] = le.fit_transform(df_bl['has_availability'])\n",
    "df_bl['instant_bookable'] = le.fit_transform(df_bl['instant_bookable'])"
   ]
  },
  {
   "cell_type": "code",
   "execution_count": 13,
   "id": "5796c081-f860-47e8-97f7-b3a6847870c6",
   "metadata": {
    "tags": []
   },
   "outputs": [],
   "source": [
    "# host_listings_count as int\n",
    "df_bl['host_listings_count'] = df_bl['host_listings_count'].astype(int)"
   ]
  },
  {
   "cell_type": "markdown",
   "id": "d84e4d69-310e-461d-bf02-369f4db6c6f8",
   "metadata": {
    "tags": []
   },
   "source": [
    "## train test split"
   ]
  },
  {
   "cell_type": "code",
   "execution_count": 14,
   "id": "918612d8-3465-4882-a09c-8e36838dd8ee",
   "metadata": {
    "tags": []
   },
   "outputs": [],
   "source": [
    "# separate features and target variable\n",
    "X = df_bl.drop('suspicious_or_not', axis=1)\n",
    "y = df_bl['suspicious_or_not']"
   ]
  },
  {
   "cell_type": "code",
   "execution_count": 15,
   "id": "b130f172-a288-464a-90c0-3f7b76f9cc63",
   "metadata": {
    "tags": []
   },
   "outputs": [],
   "source": [
    "# perform the split\n",
    "X_train, X_test, y_train, y_test = train_test_split(X, y, test_size=0.2, random_state=RSEED)"
   ]
  },
  {
   "cell_type": "code",
   "execution_count": 16,
   "id": "58cb88a4-decf-49cf-92e3-124fe2683946",
   "metadata": {
    "tags": []
   },
   "outputs": [
    {
     "name": "stdout",
     "output_type": "stream",
     "text": [
      "X_train shape: (9070, 20)\n",
      "X_test shape: (2268, 20)\n",
      "y_train shape: (9070,)\n",
      "y_test shape: (2268,)\n"
     ]
    }
   ],
   "source": [
    "# show sizes of dataframes\n",
    "print('X_train shape:', X_train.shape)\n",
    "print('X_test shape:', X_test.shape)\n",
    "print('y_train shape:', y_train.shape)\n",
    "print('y_test shape:', y_test.shape)"
   ]
  },
  {
   "cell_type": "code",
   "execution_count": 17,
   "id": "c5c8a802-cd57-4d30-a91d-03f66b71fd74",
   "metadata": {
    "tags": []
   },
   "outputs": [
    {
     "name": "stdout",
     "output_type": "stream",
     "text": [
      "<class 'pandas.core.frame.DataFrame'>\n",
      "Int64Index: 9070 entries, 9627 to 7625\n",
      "Data columns (total 20 columns):\n",
      " #   Column                        Non-Null Count  Dtype         \n",
      "---  ------                        --------------  -----         \n",
      " 0   host_since                    9070 non-null   datetime64[ns]\n",
      " 1   host_response_time            7420 non-null   object        \n",
      " 2   host_response_rate            7420 non-null   float64       \n",
      " 3   host_acceptance_rate          7719 non-null   float64       \n",
      " 4   host_is_superhost             9070 non-null   int64         \n",
      " 5   host_listings_count           9070 non-null   int64         \n",
      " 6   host_has_profile_pic          9070 non-null   int64         \n",
      " 7   host_identity_verified        9070 non-null   int64         \n",
      " 8   neighbourhood_group_cleansed  9070 non-null   object        \n",
      " 9   room_type                     9070 non-null   object        \n",
      " 10  accommodates                  9070 non-null   int64         \n",
      " 11  bedrooms                      8756 non-null   float64       \n",
      " 12  price                         9070 non-null   float64       \n",
      " 13  minimum_nights                9070 non-null   int64         \n",
      " 14  maximum_nights                9070 non-null   int64         \n",
      " 15  has_availability              9070 non-null   int64         \n",
      " 16  number_of_reviews             9070 non-null   int64         \n",
      " 17  license                       6369 non-null   object        \n",
      " 18  instant_bookable              9070 non-null   int64         \n",
      " 19  host_type                     9070 non-null   object        \n",
      "dtypes: datetime64[ns](1), float64(4), int64(10), object(5)\n",
      "memory usage: 1.5+ MB\n"
     ]
    }
   ],
   "source": [
    "# get info on trainings data\n",
    "X_train.info()"
   ]
  },
  {
   "cell_type": "markdown",
   "id": "afdc71e5-d4f9-4c4c-a307-e2e165e87429",
   "metadata": {},
   "source": [
    "## Preprocessing"
   ]
  },
  {
   "cell_type": "markdown",
   "id": "58a87bc0-8aa1-4e33-8097-8f4ab525344b",
   "metadata": {},
   "source": [
    "### handling numerical"
   ]
  },
  {
   "cell_type": "code",
   "execution_count": 18,
   "id": "cee78b90-05e8-4a21-8d22-86f9f53acf23",
   "metadata": {
    "tags": []
   },
   "outputs": [],
   "source": [
    "# define mode of train data for imputation\n",
    "hrt_mode = X_train['host_response_time'].mode()\n",
    "# define mean of train data for imputation\n",
    "hrr_mean = X_train['host_response_rate'].mean()\n",
    "# define mean of train data for imputation\n",
    "har_mean = X_train['host_acceptance_rate'].mean()\n",
    "# define mode of train data for imputation\n",
    "br_mode = X_train['bedrooms'].mode()"
   ]
  },
  {
   "cell_type": "code",
   "execution_count": 19,
   "id": "b3f144fd-b47b-4334-8c9f-a486a57871e1",
   "metadata": {
    "tags": []
   },
   "outputs": [],
   "source": [
    "# apply both on train and test data\n",
    "X_train = X_train.fillna(value = {'host_response_time':'within an hour', 'host_response_rate': 0.94,'host_acceptance_rate': 0.89,'bedrooms':1.0})\n",
    "X_test = X_test.fillna(value = {'host_response_time':'within an hour', 'host_response_rate': 0.94,'host_acceptance_rate': 0.89,'bedrooms':1.0})"
   ]
  },
  {
   "cell_type": "code",
   "execution_count": 20,
   "id": "0def47b8-caac-4ecb-bfc9-b325066aaf8f",
   "metadata": {
    "tags": []
   },
   "outputs": [],
   "source": [
    "# handle licenses\n",
    "# write function\n",
    "def license(license):\n",
    "    if 'HUTB' in license:\n",
    "        return 1\n",
    "    if 'HB' in license:\n",
    "        return 1\n",
    "    if 'AJ' in license:\n",
    "        return 1\n",
    "    elif 'exempt' in license.lower():\n",
    "        return 0\n",
    "    else:\n",
    "        return 0"
   ]
  },
  {
   "cell_type": "code",
   "execution_count": 21,
   "id": "5c7a1dd2-c30d-4a3c-bb68-89cac487b564",
   "metadata": {
    "tags": []
   },
   "outputs": [],
   "source": [
    "# fill missing licenses with \"no\"\n",
    "X_train['license'] = X_train['license'].fillna('no')\n",
    "X_test['license'] = X_test['license'].fillna('no')"
   ]
  },
  {
   "cell_type": "code",
   "execution_count": 22,
   "id": "7660c119-0e57-49b7-a118-21686a0f5879",
   "metadata": {
    "tags": []
   },
   "outputs": [],
   "source": [
    "# apply license function on train and test data\n",
    "X_train['license'] = X_train.apply(lambda row: license(row['license']), axis=1)\n",
    "X_test['license'] = X_test.apply(lambda row: license(row['license']), axis=1)"
   ]
  },
  {
   "cell_type": "markdown",
   "id": "0d0d411d-ec85-4315-9cb6-d04f1934be4b",
   "metadata": {},
   "source": [
    "### handling categorical\n",
    "*(this is the first time that I try out pipelines, I keep it simple here)*"
   ]
  },
  {
   "cell_type": "code",
   "execution_count": 23,
   "id": "9f6a4443-df63-415e-be6c-ccd09c0c0f3d",
   "metadata": {
    "tags": []
   },
   "outputs": [],
   "source": [
    "# define a list of categorical features\n",
    "cat_features = list(X_train.columns[X_train.dtypes==object])"
   ]
  },
  {
   "cell_type": "code",
   "execution_count": 24,
   "id": "94be2959-77d2-4e7e-8554-0be4f5e2245d",
   "metadata": {
    "tags": []
   },
   "outputs": [
    {
     "data": {
      "text/plain": [
       "['host_response_time',\n",
       " 'neighbourhood_group_cleansed',\n",
       " 'room_type',\n",
       " 'host_type']"
      ]
     },
     "execution_count": 24,
     "metadata": {},
     "output_type": "execute_result"
    }
   ],
   "source": [
    "# show them\n",
    "cat_features"
   ]
  },
  {
   "cell_type": "code",
   "execution_count": 25,
   "id": "40dd184c-14e3-4ee6-b4f3-34ab95f5b412",
   "metadata": {},
   "outputs": [],
   "source": [
    "# define a pipeline for categorical features (all categorical features will be onehotencoded)\n",
    "cat_pipeline = Pipeline([\n",
    "    ('1hot', OneHotEncoder(handle_unknown='ignore'))\n",
    "])"
   ]
  },
  {
   "cell_type": "code",
   "execution_count": 26,
   "id": "496e5b60-7644-46d6-b9c8-e4a641c2ebc0",
   "metadata": {},
   "outputs": [],
   "source": [
    "# define a preprocessor that applies the pipeline on the categorical features\n",
    "preprocessor = ColumnTransformer([\n",
    "    ('cat', cat_pipeline, cat_features)\n",
    "])"
   ]
  },
  {
   "cell_type": "markdown",
   "id": "7055004c-66fe-4702-a063-69f27e1b572b",
   "metadata": {},
   "source": [
    "## Baseline Model Log Reg"
   ]
  },
  {
   "cell_type": "code",
   "execution_count": 27,
   "id": "d45f5f88-2ab1-47c5-91fe-e978fffc03ce",
   "metadata": {
    "tags": []
   },
   "outputs": [],
   "source": [
    "# define a pipeline for the logistic regression \n",
    "pipe_logreg_bl = Pipeline([\n",
    "    ('preprocessor', preprocessor),\n",
    "    ('logreg', LogisticRegression(max_iter=1000))\n",
    "])"
   ]
  },
  {
   "cell_type": "code",
   "execution_count": 28,
   "id": "b4c42a4e-c502-4718-8b59-983630ce2b84",
   "metadata": {},
   "outputs": [],
   "source": [
    "# get scores how logistic regression performs on trainings data\n",
    "y_train_predicted_bl = cross_val_predict(pipe_logreg_bl, X_train, y_train, cv=5)"
   ]
  },
  {
   "cell_type": "code",
   "execution_count": 29,
   "id": "66e1bc58-6d76-4974-b0f8-26b4c2a525fa",
   "metadata": {
    "tags": []
   },
   "outputs": [
    {
     "name": "stdout",
     "output_type": "stream",
     "text": [
      "Cross validation scores:\n",
      "-------------------------\n",
      "Accuracy: 0.78\n",
      "Recall: 0.80\n",
      "Precision: 0.74\n"
     ]
    }
   ],
   "source": [
    "print('Cross validation scores:')\n",
    "print('-------------------------')\n",
    "print(\"Accuracy: {:.2f}\".format(accuracy_score(y_train, y_train_predicted_bl)))\n",
    "print(\"Recall: {:.2f}\".format(recall_score(y_train, y_train_predicted_bl)))\n",
    "print(\"Precision: {:.2f}\".format(precision_score(y_train, y_train_predicted_bl)))"
   ]
  },
  {
   "cell_type": "code",
   "execution_count": 30,
   "id": "720772e4-9669-482e-9344-69f265503ceb",
   "metadata": {
    "tags": []
   },
   "outputs": [],
   "source": [
    "# try a hyperparameter optimization with gridsearchcv\n",
    "\n",
    "# define parameters to test\n",
    "param_logreg_bl = {'logreg__penalty':('l1','l2'),\n",
    "                'logreg__C': [0.001, 0.01, 0.1, 1, 10],\n",
    "                'logreg__solver': ['liblinear', 'lbfgs', 'sag'],\n",
    "               }\n",
    "\n",
    "# define grid search\n",
    "grid_logreg_bl = GridSearchCV(pipe_logreg_bl, param_grid=param_logreg_bl, cv=5, scoring='accuracy', \n",
    "                           verbose=5, n_jobs=-1)"
   ]
  },
  {
   "cell_type": "code",
   "execution_count": 31,
   "id": "aed0cc8e-206c-4161-987b-06f00dadf9cd",
   "metadata": {
    "tags": []
   },
   "outputs": [
    {
     "name": "stdout",
     "output_type": "stream",
     "text": [
      "Fitting 5 folds for each of 30 candidates, totalling 150 fits\n"
     ]
    },
    {
     "data": {
      "text/html": [
       "<style>#sk-14217a6d-5c86-44ce-a837-69ff846d48dd {color: black;background-color: white;}#sk-14217a6d-5c86-44ce-a837-69ff846d48dd pre{padding: 0;}#sk-14217a6d-5c86-44ce-a837-69ff846d48dd div.sk-toggleable {background-color: white;}#sk-14217a6d-5c86-44ce-a837-69ff846d48dd label.sk-toggleable__label {cursor: pointer;display: block;width: 100%;margin-bottom: 0;padding: 0.3em;box-sizing: border-box;text-align: center;}#sk-14217a6d-5c86-44ce-a837-69ff846d48dd label.sk-toggleable__label-arrow:before {content: \"▸\";float: left;margin-right: 0.25em;color: #696969;}#sk-14217a6d-5c86-44ce-a837-69ff846d48dd label.sk-toggleable__label-arrow:hover:before {color: black;}#sk-14217a6d-5c86-44ce-a837-69ff846d48dd div.sk-estimator:hover label.sk-toggleable__label-arrow:before {color: black;}#sk-14217a6d-5c86-44ce-a837-69ff846d48dd div.sk-toggleable__content {max-height: 0;max-width: 0;overflow: hidden;text-align: left;background-color: #f0f8ff;}#sk-14217a6d-5c86-44ce-a837-69ff846d48dd div.sk-toggleable__content pre {margin: 0.2em;color: black;border-radius: 0.25em;background-color: #f0f8ff;}#sk-14217a6d-5c86-44ce-a837-69ff846d48dd input.sk-toggleable__control:checked~div.sk-toggleable__content {max-height: 200px;max-width: 100%;overflow: auto;}#sk-14217a6d-5c86-44ce-a837-69ff846d48dd input.sk-toggleable__control:checked~label.sk-toggleable__label-arrow:before {content: \"▾\";}#sk-14217a6d-5c86-44ce-a837-69ff846d48dd div.sk-estimator input.sk-toggleable__control:checked~label.sk-toggleable__label {background-color: #d4ebff;}#sk-14217a6d-5c86-44ce-a837-69ff846d48dd div.sk-label input.sk-toggleable__control:checked~label.sk-toggleable__label {background-color: #d4ebff;}#sk-14217a6d-5c86-44ce-a837-69ff846d48dd input.sk-hidden--visually {border: 0;clip: rect(1px 1px 1px 1px);clip: rect(1px, 1px, 1px, 1px);height: 1px;margin: -1px;overflow: hidden;padding: 0;position: absolute;width: 1px;}#sk-14217a6d-5c86-44ce-a837-69ff846d48dd div.sk-estimator {font-family: monospace;background-color: #f0f8ff;border: 1px dotted black;border-radius: 0.25em;box-sizing: border-box;margin-bottom: 0.5em;}#sk-14217a6d-5c86-44ce-a837-69ff846d48dd div.sk-estimator:hover {background-color: #d4ebff;}#sk-14217a6d-5c86-44ce-a837-69ff846d48dd div.sk-parallel-item::after {content: \"\";width: 100%;border-bottom: 1px solid gray;flex-grow: 1;}#sk-14217a6d-5c86-44ce-a837-69ff846d48dd div.sk-label:hover label.sk-toggleable__label {background-color: #d4ebff;}#sk-14217a6d-5c86-44ce-a837-69ff846d48dd div.sk-serial::before {content: \"\";position: absolute;border-left: 1px solid gray;box-sizing: border-box;top: 2em;bottom: 0;left: 50%;}#sk-14217a6d-5c86-44ce-a837-69ff846d48dd div.sk-serial {display: flex;flex-direction: column;align-items: center;background-color: white;padding-right: 0.2em;padding-left: 0.2em;}#sk-14217a6d-5c86-44ce-a837-69ff846d48dd div.sk-item {z-index: 1;}#sk-14217a6d-5c86-44ce-a837-69ff846d48dd div.sk-parallel {display: flex;align-items: stretch;justify-content: center;background-color: white;}#sk-14217a6d-5c86-44ce-a837-69ff846d48dd div.sk-parallel::before {content: \"\";position: absolute;border-left: 1px solid gray;box-sizing: border-box;top: 2em;bottom: 0;left: 50%;}#sk-14217a6d-5c86-44ce-a837-69ff846d48dd div.sk-parallel-item {display: flex;flex-direction: column;position: relative;background-color: white;}#sk-14217a6d-5c86-44ce-a837-69ff846d48dd div.sk-parallel-item:first-child::after {align-self: flex-end;width: 50%;}#sk-14217a6d-5c86-44ce-a837-69ff846d48dd div.sk-parallel-item:last-child::after {align-self: flex-start;width: 50%;}#sk-14217a6d-5c86-44ce-a837-69ff846d48dd div.sk-parallel-item:only-child::after {width: 0;}#sk-14217a6d-5c86-44ce-a837-69ff846d48dd div.sk-dashed-wrapped {border: 1px dashed gray;margin: 0 0.4em 0.5em 0.4em;box-sizing: border-box;padding-bottom: 0.4em;background-color: white;position: relative;}#sk-14217a6d-5c86-44ce-a837-69ff846d48dd div.sk-label label {font-family: monospace;font-weight: bold;background-color: white;display: inline-block;line-height: 1.2em;}#sk-14217a6d-5c86-44ce-a837-69ff846d48dd div.sk-label-container {position: relative;z-index: 2;text-align: center;}#sk-14217a6d-5c86-44ce-a837-69ff846d48dd div.sk-container {/* jupyter's `normalize.less` sets `[hidden] { display: none; }` but bootstrap.min.css set `[hidden] { display: none !important; }` so we also need the `!important` here to be able to override the default hidden behavior on the sphinx rendered scikit-learn.org. See: https://github.com/scikit-learn/scikit-learn/issues/21755 */display: inline-block !important;position: relative;}#sk-14217a6d-5c86-44ce-a837-69ff846d48dd div.sk-text-repr-fallback {display: none;}</style><div id=\"sk-14217a6d-5c86-44ce-a837-69ff846d48dd\" class=\"sk-top-container\"><div class=\"sk-text-repr-fallback\"><pre>GridSearchCV(cv=5,\n",
       "             estimator=Pipeline(steps=[(&#x27;preprocessor&#x27;,\n",
       "                                        ColumnTransformer(transformers=[(&#x27;cat&#x27;,\n",
       "                                                                         Pipeline(steps=[(&#x27;1hot&#x27;,\n",
       "                                                                                          OneHotEncoder(handle_unknown=&#x27;ignore&#x27;))]),\n",
       "                                                                         [&#x27;host_response_time&#x27;,\n",
       "                                                                          &#x27;neighbourhood_group_cleansed&#x27;,\n",
       "                                                                          &#x27;room_type&#x27;,\n",
       "                                                                          &#x27;host_type&#x27;])])),\n",
       "                                       (&#x27;logreg&#x27;,\n",
       "                                        LogisticRegression(max_iter=1000))]),\n",
       "             n_jobs=-1,\n",
       "             param_grid={&#x27;logreg__C&#x27;: [0.001, 0.01, 0.1, 1, 10],\n",
       "                         &#x27;logreg__penalty&#x27;: (&#x27;l1&#x27;, &#x27;l2&#x27;),\n",
       "                         &#x27;logreg__solver&#x27;: [&#x27;liblinear&#x27;, &#x27;lbfgs&#x27;, &#x27;sag&#x27;]},\n",
       "             scoring=&#x27;accuracy&#x27;, verbose=5)</pre><b>Please rerun this cell to show the HTML repr or trust the notebook.</b></div><div class=\"sk-container\" hidden><div class=\"sk-item sk-dashed-wrapped\"><div class=\"sk-label-container\"><div class=\"sk-label sk-toggleable\"><input class=\"sk-toggleable__control sk-hidden--visually\" id=\"a7f28828-564a-4d1a-91ee-a5a118858213\" type=\"checkbox\" ><label for=\"a7f28828-564a-4d1a-91ee-a5a118858213\" class=\"sk-toggleable__label sk-toggleable__label-arrow\">GridSearchCV</label><div class=\"sk-toggleable__content\"><pre>GridSearchCV(cv=5,\n",
       "             estimator=Pipeline(steps=[(&#x27;preprocessor&#x27;,\n",
       "                                        ColumnTransformer(transformers=[(&#x27;cat&#x27;,\n",
       "                                                                         Pipeline(steps=[(&#x27;1hot&#x27;,\n",
       "                                                                                          OneHotEncoder(handle_unknown=&#x27;ignore&#x27;))]),\n",
       "                                                                         [&#x27;host_response_time&#x27;,\n",
       "                                                                          &#x27;neighbourhood_group_cleansed&#x27;,\n",
       "                                                                          &#x27;room_type&#x27;,\n",
       "                                                                          &#x27;host_type&#x27;])])),\n",
       "                                       (&#x27;logreg&#x27;,\n",
       "                                        LogisticRegression(max_iter=1000))]),\n",
       "             n_jobs=-1,\n",
       "             param_grid={&#x27;logreg__C&#x27;: [0.001, 0.01, 0.1, 1, 10],\n",
       "                         &#x27;logreg__penalty&#x27;: (&#x27;l1&#x27;, &#x27;l2&#x27;),\n",
       "                         &#x27;logreg__solver&#x27;: [&#x27;liblinear&#x27;, &#x27;lbfgs&#x27;, &#x27;sag&#x27;]},\n",
       "             scoring=&#x27;accuracy&#x27;, verbose=5)</pre></div></div></div><div class=\"sk-parallel\"><div class=\"sk-parallel-item\"><div class=\"sk-item\"><div class=\"sk-serial\"><div class=\"sk-item\"><div class=\"sk-serial\"><div class=\"sk-item sk-dashed-wrapped\"><div class=\"sk-label-container\"><div class=\"sk-label sk-toggleable\"><input class=\"sk-toggleable__control sk-hidden--visually\" id=\"dab1f011-2d01-4223-beb7-1b0d0bf3b136\" type=\"checkbox\" ><label for=\"dab1f011-2d01-4223-beb7-1b0d0bf3b136\" class=\"sk-toggleable__label sk-toggleable__label-arrow\">preprocessor: ColumnTransformer</label><div class=\"sk-toggleable__content\"><pre>ColumnTransformer(transformers=[(&#x27;cat&#x27;,\n",
       "                                 Pipeline(steps=[(&#x27;1hot&#x27;,\n",
       "                                                  OneHotEncoder(handle_unknown=&#x27;ignore&#x27;))]),\n",
       "                                 [&#x27;host_response_time&#x27;,\n",
       "                                  &#x27;neighbourhood_group_cleansed&#x27;, &#x27;room_type&#x27;,\n",
       "                                  &#x27;host_type&#x27;])])</pre></div></div></div><div class=\"sk-parallel\"><div class=\"sk-parallel-item\"><div class=\"sk-item\"><div class=\"sk-label-container\"><div class=\"sk-label sk-toggleable\"><input class=\"sk-toggleable__control sk-hidden--visually\" id=\"6f80dc56-7f93-42d2-99ed-eeaa91cbdebc\" type=\"checkbox\" ><label for=\"6f80dc56-7f93-42d2-99ed-eeaa91cbdebc\" class=\"sk-toggleable__label sk-toggleable__label-arrow\">cat</label><div class=\"sk-toggleable__content\"><pre>[&#x27;host_response_time&#x27;, &#x27;neighbourhood_group_cleansed&#x27;, &#x27;room_type&#x27;, &#x27;host_type&#x27;]</pre></div></div></div><div class=\"sk-serial\"><div class=\"sk-item\"><div class=\"sk-serial\"><div class=\"sk-item\"><div class=\"sk-estimator sk-toggleable\"><input class=\"sk-toggleable__control sk-hidden--visually\" id=\"a69b4763-5f9e-4fe1-b4f5-68776fe941f6\" type=\"checkbox\" ><label for=\"a69b4763-5f9e-4fe1-b4f5-68776fe941f6\" class=\"sk-toggleable__label sk-toggleable__label-arrow\">OneHotEncoder</label><div class=\"sk-toggleable__content\"><pre>OneHotEncoder(handle_unknown=&#x27;ignore&#x27;)</pre></div></div></div></div></div></div></div></div></div></div><div class=\"sk-item\"><div class=\"sk-estimator sk-toggleable\"><input class=\"sk-toggleable__control sk-hidden--visually\" id=\"74a3ebfc-c537-43d3-8b23-26a29320b225\" type=\"checkbox\" ><label for=\"74a3ebfc-c537-43d3-8b23-26a29320b225\" class=\"sk-toggleable__label sk-toggleable__label-arrow\">LogisticRegression</label><div class=\"sk-toggleable__content\"><pre>LogisticRegression(max_iter=1000)</pre></div></div></div></div></div></div></div></div></div></div></div></div>"
      ],
      "text/plain": [
       "GridSearchCV(cv=5,\n",
       "             estimator=Pipeline(steps=[('preprocessor',\n",
       "                                        ColumnTransformer(transformers=[('cat',\n",
       "                                                                         Pipeline(steps=[('1hot',\n",
       "                                                                                          OneHotEncoder(handle_unknown='ignore'))]),\n",
       "                                                                         ['host_response_time',\n",
       "                                                                          'neighbourhood_group_cleansed',\n",
       "                                                                          'room_type',\n",
       "                                                                          'host_type'])])),\n",
       "                                       ('logreg',\n",
       "                                        LogisticRegression(max_iter=1000))]),\n",
       "             n_jobs=-1,\n",
       "             param_grid={'logreg__C': [0.001, 0.01, 0.1, 1, 10],\n",
       "                         'logreg__penalty': ('l1', 'l2'),\n",
       "                         'logreg__solver': ['liblinear', 'lbfgs', 'sag']},\n",
       "             scoring='accuracy', verbose=5)"
      ]
     },
     "execution_count": 31,
     "metadata": {},
     "output_type": "execute_result"
    }
   ],
   "source": [
    "# run grid search\n",
    "grid_logreg_bl.fit(X_train, y_train)"
   ]
  },
  {
   "cell_type": "code",
   "execution_count": 32,
   "id": "74cefbd0-b698-48de-bbf8-e4b201d17257",
   "metadata": {
    "tags": []
   },
   "outputs": [
    {
     "name": "stdout",
     "output_type": "stream",
     "text": [
      "Best score:\n",
      "0.55\n",
      "Best parameters:\n",
      "{'logreg__C': 0.001, 'logreg__penalty': 'l1', 'logreg__solver': 'liblinear'}\n"
     ]
    }
   ],
   "source": [
    "# print best score and best parameters\n",
    "print('Best score:\\n{:.2f}'.format(grid_logreg_bl.best_score_))\n",
    "print(\"Best parameters:\\n{}\".format(grid_logreg_bl.best_params_))"
   ]
  },
  {
   "cell_type": "code",
   "execution_count": 33,
   "id": "d1a3ef61-4b17-4330-903e-ae4b8b777522",
   "metadata": {
    "tags": []
   },
   "outputs": [
    {
     "data": {
      "text/html": [
       "<style>#sk-a6bc7faa-4114-46f4-aa82-f23ee434ae10 {color: black;background-color: white;}#sk-a6bc7faa-4114-46f4-aa82-f23ee434ae10 pre{padding: 0;}#sk-a6bc7faa-4114-46f4-aa82-f23ee434ae10 div.sk-toggleable {background-color: white;}#sk-a6bc7faa-4114-46f4-aa82-f23ee434ae10 label.sk-toggleable__label {cursor: pointer;display: block;width: 100%;margin-bottom: 0;padding: 0.3em;box-sizing: border-box;text-align: center;}#sk-a6bc7faa-4114-46f4-aa82-f23ee434ae10 label.sk-toggleable__label-arrow:before {content: \"▸\";float: left;margin-right: 0.25em;color: #696969;}#sk-a6bc7faa-4114-46f4-aa82-f23ee434ae10 label.sk-toggleable__label-arrow:hover:before {color: black;}#sk-a6bc7faa-4114-46f4-aa82-f23ee434ae10 div.sk-estimator:hover label.sk-toggleable__label-arrow:before {color: black;}#sk-a6bc7faa-4114-46f4-aa82-f23ee434ae10 div.sk-toggleable__content {max-height: 0;max-width: 0;overflow: hidden;text-align: left;background-color: #f0f8ff;}#sk-a6bc7faa-4114-46f4-aa82-f23ee434ae10 div.sk-toggleable__content pre {margin: 0.2em;color: black;border-radius: 0.25em;background-color: #f0f8ff;}#sk-a6bc7faa-4114-46f4-aa82-f23ee434ae10 input.sk-toggleable__control:checked~div.sk-toggleable__content {max-height: 200px;max-width: 100%;overflow: auto;}#sk-a6bc7faa-4114-46f4-aa82-f23ee434ae10 input.sk-toggleable__control:checked~label.sk-toggleable__label-arrow:before {content: \"▾\";}#sk-a6bc7faa-4114-46f4-aa82-f23ee434ae10 div.sk-estimator input.sk-toggleable__control:checked~label.sk-toggleable__label {background-color: #d4ebff;}#sk-a6bc7faa-4114-46f4-aa82-f23ee434ae10 div.sk-label input.sk-toggleable__control:checked~label.sk-toggleable__label {background-color: #d4ebff;}#sk-a6bc7faa-4114-46f4-aa82-f23ee434ae10 input.sk-hidden--visually {border: 0;clip: rect(1px 1px 1px 1px);clip: rect(1px, 1px, 1px, 1px);height: 1px;margin: -1px;overflow: hidden;padding: 0;position: absolute;width: 1px;}#sk-a6bc7faa-4114-46f4-aa82-f23ee434ae10 div.sk-estimator {font-family: monospace;background-color: #f0f8ff;border: 1px dotted black;border-radius: 0.25em;box-sizing: border-box;margin-bottom: 0.5em;}#sk-a6bc7faa-4114-46f4-aa82-f23ee434ae10 div.sk-estimator:hover {background-color: #d4ebff;}#sk-a6bc7faa-4114-46f4-aa82-f23ee434ae10 div.sk-parallel-item::after {content: \"\";width: 100%;border-bottom: 1px solid gray;flex-grow: 1;}#sk-a6bc7faa-4114-46f4-aa82-f23ee434ae10 div.sk-label:hover label.sk-toggleable__label {background-color: #d4ebff;}#sk-a6bc7faa-4114-46f4-aa82-f23ee434ae10 div.sk-serial::before {content: \"\";position: absolute;border-left: 1px solid gray;box-sizing: border-box;top: 2em;bottom: 0;left: 50%;}#sk-a6bc7faa-4114-46f4-aa82-f23ee434ae10 div.sk-serial {display: flex;flex-direction: column;align-items: center;background-color: white;padding-right: 0.2em;padding-left: 0.2em;}#sk-a6bc7faa-4114-46f4-aa82-f23ee434ae10 div.sk-item {z-index: 1;}#sk-a6bc7faa-4114-46f4-aa82-f23ee434ae10 div.sk-parallel {display: flex;align-items: stretch;justify-content: center;background-color: white;}#sk-a6bc7faa-4114-46f4-aa82-f23ee434ae10 div.sk-parallel::before {content: \"\";position: absolute;border-left: 1px solid gray;box-sizing: border-box;top: 2em;bottom: 0;left: 50%;}#sk-a6bc7faa-4114-46f4-aa82-f23ee434ae10 div.sk-parallel-item {display: flex;flex-direction: column;position: relative;background-color: white;}#sk-a6bc7faa-4114-46f4-aa82-f23ee434ae10 div.sk-parallel-item:first-child::after {align-self: flex-end;width: 50%;}#sk-a6bc7faa-4114-46f4-aa82-f23ee434ae10 div.sk-parallel-item:last-child::after {align-self: flex-start;width: 50%;}#sk-a6bc7faa-4114-46f4-aa82-f23ee434ae10 div.sk-parallel-item:only-child::after {width: 0;}#sk-a6bc7faa-4114-46f4-aa82-f23ee434ae10 div.sk-dashed-wrapped {border: 1px dashed gray;margin: 0 0.4em 0.5em 0.4em;box-sizing: border-box;padding-bottom: 0.4em;background-color: white;position: relative;}#sk-a6bc7faa-4114-46f4-aa82-f23ee434ae10 div.sk-label label {font-family: monospace;font-weight: bold;background-color: white;display: inline-block;line-height: 1.2em;}#sk-a6bc7faa-4114-46f4-aa82-f23ee434ae10 div.sk-label-container {position: relative;z-index: 2;text-align: center;}#sk-a6bc7faa-4114-46f4-aa82-f23ee434ae10 div.sk-container {/* jupyter's `normalize.less` sets `[hidden] { display: none; }` but bootstrap.min.css set `[hidden] { display: none !important; }` so we also need the `!important` here to be able to override the default hidden behavior on the sphinx rendered scikit-learn.org. See: https://github.com/scikit-learn/scikit-learn/issues/21755 */display: inline-block !important;position: relative;}#sk-a6bc7faa-4114-46f4-aa82-f23ee434ae10 div.sk-text-repr-fallback {display: none;}</style><div id=\"sk-a6bc7faa-4114-46f4-aa82-f23ee434ae10\" class=\"sk-top-container\"><div class=\"sk-text-repr-fallback\"><pre>Pipeline(steps=[(&#x27;preprocessor&#x27;,\n",
       "                 ColumnTransformer(transformers=[(&#x27;cat&#x27;,\n",
       "                                                  Pipeline(steps=[(&#x27;1hot&#x27;,\n",
       "                                                                   OneHotEncoder(handle_unknown=&#x27;ignore&#x27;))]),\n",
       "                                                  [&#x27;host_response_time&#x27;,\n",
       "                                                   &#x27;neighbourhood_group_cleansed&#x27;,\n",
       "                                                   &#x27;room_type&#x27;,\n",
       "                                                   &#x27;host_type&#x27;])])),\n",
       "                (&#x27;logreg&#x27;,\n",
       "                 LogisticRegression(C=0.001, max_iter=1000, penalty=&#x27;l1&#x27;,\n",
       "                                    solver=&#x27;liblinear&#x27;))])</pre><b>Please rerun this cell to show the HTML repr or trust the notebook.</b></div><div class=\"sk-container\" hidden><div class=\"sk-item sk-dashed-wrapped\"><div class=\"sk-label-container\"><div class=\"sk-label sk-toggleable\"><input class=\"sk-toggleable__control sk-hidden--visually\" id=\"907c5899-7668-4c27-b54e-839ce9a9ff16\" type=\"checkbox\" ><label for=\"907c5899-7668-4c27-b54e-839ce9a9ff16\" class=\"sk-toggleable__label sk-toggleable__label-arrow\">Pipeline</label><div class=\"sk-toggleable__content\"><pre>Pipeline(steps=[(&#x27;preprocessor&#x27;,\n",
       "                 ColumnTransformer(transformers=[(&#x27;cat&#x27;,\n",
       "                                                  Pipeline(steps=[(&#x27;1hot&#x27;,\n",
       "                                                                   OneHotEncoder(handle_unknown=&#x27;ignore&#x27;))]),\n",
       "                                                  [&#x27;host_response_time&#x27;,\n",
       "                                                   &#x27;neighbourhood_group_cleansed&#x27;,\n",
       "                                                   &#x27;room_type&#x27;,\n",
       "                                                   &#x27;host_type&#x27;])])),\n",
       "                (&#x27;logreg&#x27;,\n",
       "                 LogisticRegression(C=0.001, max_iter=1000, penalty=&#x27;l1&#x27;,\n",
       "                                    solver=&#x27;liblinear&#x27;))])</pre></div></div></div><div class=\"sk-serial\"><div class=\"sk-item sk-dashed-wrapped\"><div class=\"sk-label-container\"><div class=\"sk-label sk-toggleable\"><input class=\"sk-toggleable__control sk-hidden--visually\" id=\"06cd9064-cb64-4448-bf15-a489f1e4b2af\" type=\"checkbox\" ><label for=\"06cd9064-cb64-4448-bf15-a489f1e4b2af\" class=\"sk-toggleable__label sk-toggleable__label-arrow\">preprocessor: ColumnTransformer</label><div class=\"sk-toggleable__content\"><pre>ColumnTransformer(transformers=[(&#x27;cat&#x27;,\n",
       "                                 Pipeline(steps=[(&#x27;1hot&#x27;,\n",
       "                                                  OneHotEncoder(handle_unknown=&#x27;ignore&#x27;))]),\n",
       "                                 [&#x27;host_response_time&#x27;,\n",
       "                                  &#x27;neighbourhood_group_cleansed&#x27;, &#x27;room_type&#x27;,\n",
       "                                  &#x27;host_type&#x27;])])</pre></div></div></div><div class=\"sk-parallel\"><div class=\"sk-parallel-item\"><div class=\"sk-item\"><div class=\"sk-label-container\"><div class=\"sk-label sk-toggleable\"><input class=\"sk-toggleable__control sk-hidden--visually\" id=\"6f8e1f2d-8fa0-4b79-9ce7-a97931b84ffd\" type=\"checkbox\" ><label for=\"6f8e1f2d-8fa0-4b79-9ce7-a97931b84ffd\" class=\"sk-toggleable__label sk-toggleable__label-arrow\">cat</label><div class=\"sk-toggleable__content\"><pre>[&#x27;host_response_time&#x27;, &#x27;neighbourhood_group_cleansed&#x27;, &#x27;room_type&#x27;, &#x27;host_type&#x27;]</pre></div></div></div><div class=\"sk-serial\"><div class=\"sk-item\"><div class=\"sk-serial\"><div class=\"sk-item\"><div class=\"sk-estimator sk-toggleable\"><input class=\"sk-toggleable__control sk-hidden--visually\" id=\"abea6df9-68fb-47a7-915d-38dbdceade64\" type=\"checkbox\" ><label for=\"abea6df9-68fb-47a7-915d-38dbdceade64\" class=\"sk-toggleable__label sk-toggleable__label-arrow\">OneHotEncoder</label><div class=\"sk-toggleable__content\"><pre>OneHotEncoder(handle_unknown=&#x27;ignore&#x27;)</pre></div></div></div></div></div></div></div></div></div></div><div class=\"sk-item\"><div class=\"sk-estimator sk-toggleable\"><input class=\"sk-toggleable__control sk-hidden--visually\" id=\"d74f43c1-7864-41fd-ae99-d50b63ddd84b\" type=\"checkbox\" ><label for=\"d74f43c1-7864-41fd-ae99-d50b63ddd84b\" class=\"sk-toggleable__label sk-toggleable__label-arrow\">LogisticRegression</label><div class=\"sk-toggleable__content\"><pre>LogisticRegression(C=0.001, max_iter=1000, penalty=&#x27;l1&#x27;, solver=&#x27;liblinear&#x27;)</pre></div></div></div></div></div></div></div>"
      ],
      "text/plain": [
       "Pipeline(steps=[('preprocessor',\n",
       "                 ColumnTransformer(transformers=[('cat',\n",
       "                                                  Pipeline(steps=[('1hot',\n",
       "                                                                   OneHotEncoder(handle_unknown='ignore'))]),\n",
       "                                                  ['host_response_time',\n",
       "                                                   'neighbourhood_group_cleansed',\n",
       "                                                   'room_type',\n",
       "                                                   'host_type'])])),\n",
       "                ('logreg',\n",
       "                 LogisticRegression(C=0.001, max_iter=1000, penalty='l1',\n",
       "                                    solver='liblinear'))])"
      ]
     },
     "execution_count": 33,
     "metadata": {},
     "output_type": "execute_result"
    }
   ],
   "source": [
    "# save model with best parameters in a variable\n",
    "baselinemodel = grid_logreg_bl.best_estimator_\n",
    "baselinemodel"
   ]
  },
  {
   "cell_type": "code",
   "execution_count": 34,
   "id": "12ad4f36-18f7-4e2c-a63f-4eecb0312f7d",
   "metadata": {
    "tags": []
   },
   "outputs": [
    {
     "name": "stdout",
     "output_type": "stream",
     "text": [
      "Accuracy: 0.79\n",
      "Recall: 0.82\n",
      "Precision: 0.74\n"
     ]
    }
   ],
   "source": [
    "# apply model on test data\n",
    "y_test_predicted_bl = baselinemodel.predict(X_test)\n",
    "print(\"Accuracy: {:.2f}\".format(accuracy_score(y_test, y_test_predicted_bl)))\n",
    "print(\"Recall: {:.2f}\".format(recall_score(y_test, y_test_predicted_bl)))\n",
    "print(\"Precision: {:.2f}\".format(precision_score(y_test, y_test_predicted_bl)))"
   ]
  },
  {
   "cell_type": "code",
   "execution_count": 35,
   "id": "f9c5616c-0f8e-4c2f-bd87-9791454e02c6",
   "metadata": {
    "tags": []
   },
   "outputs": [
    {
     "data": {
      "image/png": "[encoded data removed]",
      "text/plain": [
       "<Figure size 640x480 with 2 Axes>"
      ]
     },
     "metadata": {},
     "output_type": "display_data"
    }
   ],
   "source": [
    "cfm_bl = confusion_matrix(y_test, y_test_predicted_bl)\n",
    "group_names = ['True Neg','False Pos','False Neg','True Pos']\n",
    "group_counts = ['{0:0.0f}'.format(value) for value in\n",
    "                cfm_bl.flatten()]\n",
    "group_percentages = ['{0:.2%}'.format(value) for value in\n",
    "                     cfm_bl.flatten()/np.sum(cfm_bl)]\n",
    "labels = [f'{v1}\\n{v2}\\n{v3}' for v1, v2, v3 in\n",
    "          zip(group_names,group_counts,group_percentages)]\n",
    "labels = np.asarray(labels).reshape(2,2)\n",
    "sns.heatmap(cfm_bl, annot=labels, fmt='', cmap=cpal2);"
   ]
  },
  {
   "cell_type": "code",
   "execution_count": 36,
   "id": "3621558e-a44e-450b-8909-2681ae5f5090",
   "metadata": {
    "tags": []
   },
   "outputs": [],
   "source": [
    "# get probabilities\n",
    "y_test_proba_bl = baselinemodel.predict_proba(X_test)"
   ]
  },
  {
   "cell_type": "code",
   "execution_count": 37,
   "id": "93d2c1ea-01b1-438f-accd-992772cd86fc",
   "metadata": {
    "tags": []
   },
   "outputs": [],
   "source": [
    "y_test_proba_bl = y_test_proba_bl[:,1]"
   ]
  },
  {
   "cell_type": "code",
   "execution_count": 38,
   "id": "0b091ee0-de10-4fb5-bda9-76fa61b82947",
   "metadata": {
    "tags": []
   },
   "outputs": [
    {
     "data": {
      "text/plain": [
       "0.7881940508198554"
      ]
     },
     "execution_count": 38,
     "metadata": {},
     "output_type": "execute_result"
    }
   ],
   "source": [
    "# AUC Score \n",
    "bl_auc = roc_auc_score(y_test, y_test_proba_bl)\n",
    "bl_auc"
   ]
  },
  {
   "cell_type": "code",
   "execution_count": 39,
   "id": "9ce741b8-4729-4718-bae0-3996d79363b6",
   "metadata": {
    "tags": []
   },
   "outputs": [
    {
     "data": {
      "image/png": "[encoded data removed]",
      "text/plain": [
       "<Figure size 640x480 with 1 Axes>"
      ]
     },
     "metadata": {},
     "output_type": "display_data"
    }
   ],
   "source": [
    "# plot ROC-AUC-Curve \n",
    "fprbl, tprbl, thresholdsbl = roc_curve(y_test, y_test_proba_bl)\n",
    "\n",
    "from matplotlib import pyplot\n",
    "pyplot.plot(fprbl, tprbl, label='Baseline', color='#81B29A')\n",
    "pyplot.xlabel('False Positive Rate')\n",
    "pyplot.ylabel('True Positive Rate')\n",
    "pyplot.legend()\n",
    "pyplot.show()"
   ]
  },
  {
   "cell_type": "markdown",
   "id": "1d1cbf94-73af-4a15-89de-de7f5fac6e6c",
   "metadata": {},
   "source": [
    "Our Baselinemodel (Logistic Regression) shows already good results. But we know we can improve this a lot!"
   ]
  },
  {
   "cell_type": "markdown",
   "id": "08601558-35db-4fd1-8363-53673fa3df35",
   "metadata": {},
   "source": [
    "# Modelling\n",
    "\n",
    "We will repeat that for a random forest, just in comparision."
   ]
  },
  {
   "cell_type": "markdown",
   "id": "e25bd39c-3c2c-4ee1-9e5d-c8786970c60e",
   "metadata": {},
   "source": [
    "## Random Forest"
   ]
  },
  {
   "cell_type": "code",
   "execution_count": 40,
   "id": "27526319-75cf-48ce-8325-889b9f33c7c8",
   "metadata": {
    "tags": []
   },
   "outputs": [
    {
     "name": "stdout",
     "output_type": "stream",
     "text": [
      "Cross validation scores:\n",
      "-------------------------\n",
      "Accuracy: 0.78\n",
      "Recall: 0.72\n",
      "Precision: 0.79\n"
     ]
    }
   ],
   "source": [
    "pipe_rf = Pipeline([\n",
    "    ('preprocessor', preprocessor),\n",
    "    ('randfor', RandomForestClassifier(random_state=RSEED))\n",
    "])\n",
    "\n",
    "y_train_predicted_rf = cross_val_predict(pipe_rf, X_train, y_train, cv=5)\n",
    "\n",
    "print('Cross validation scores:')\n",
    "print('-------------------------')\n",
    "print(\"Accuracy: {:.2f}\".format(accuracy_score(y_train, y_train_predicted_rf)))\n",
    "print(\"Recall: {:.2f}\".format(recall_score(y_train, y_train_predicted_rf)))\n",
    "print(\"Precision: {:.2f}\".format(precision_score(y_train, y_train_predicted_rf)))"
   ]
  },
  {
   "cell_type": "code",
   "execution_count": 41,
   "id": "304bcce6-71d7-4a7b-a5b9-76973899f940",
   "metadata": {
    "tags": []
   },
   "outputs": [],
   "source": [
    "param_rf_all = {'randfor__n_estimators':[100, 500, 1000, 1500, 2000],\n",
    "                'randfor__min_samples_split': [2, 5, 10, 15, 20],\n",
    "                'randfor__max_depth': [10,20,50,80,100],\n",
    "                'randfor__max_features': ['auto', 'sqrt'],\n",
    "                'randfor__min_samples_leaf' : [1,2,4],\n",
    "                'randfor__bootstrap': [True, False],\n",
    "              }"
   ]
  },
  {
   "cell_type": "markdown",
   "id": "4dc1bf55-6856-49d5-9098-88d7f577e1d3",
   "metadata": {},
   "source": [
    "Best parameters\n",
    "{'randfor__bootstrap': True, 'randfor__max_depth': 80, 'randfor__max_features': 'auto', 'randfor__min_samples_leaf': 2, 'randfor__min_samples_split': 5, 'randfor__n_estimators': 100}"
   ]
  },
  {
   "cell_type": "code",
   "execution_count": 42,
   "id": "e39056bc-90bc-4a21-8def-b4ab1a95ef36",
   "metadata": {
    "tags": []
   },
   "outputs": [],
   "source": [
    "param_rf_best = {'randfor__n_estimators':[100],\n",
    "                'randfor__min_samples_split': [5],\n",
    "                'randfor__max_depth': [80],\n",
    "                'randfor__max_features': ['auto'],\n",
    "                'randfor__min_samples_leaf' : [2],\n",
    "                'randfor__bootstrap': [True],\n",
    "             }"
   ]
  },
  {
   "cell_type": "code",
   "execution_count": 43,
   "id": "6f71a038-16d3-448e-b528-102ee60ff544",
   "metadata": {
    "tags": []
   },
   "outputs": [
    {
     "name": "stdout",
     "output_type": "stream",
     "text": [
      "Fitting 5 folds for each of 1 candidates, totalling 5 fits\n"
     ]
    },
    {
     "data": {
      "text/html": [
       "<style>#sk-358a0af0-8969-4517-8f08-94483d231935 {color: black;background-color: white;}#sk-358a0af0-8969-4517-8f08-94483d231935 pre{padding: 0;}#sk-358a0af0-8969-4517-8f08-94483d231935 div.sk-toggleable {background-color: white;}#sk-358a0af0-8969-4517-8f08-94483d231935 label.sk-toggleable__label {cursor: pointer;display: block;width: 100%;margin-bottom: 0;padding: 0.3em;box-sizing: border-box;text-align: center;}#sk-358a0af0-8969-4517-8f08-94483d231935 label.sk-toggleable__label-arrow:before {content: \"▸\";float: left;margin-right: 0.25em;color: #696969;}#sk-358a0af0-8969-4517-8f08-94483d231935 label.sk-toggleable__label-arrow:hover:before {color: black;}#sk-358a0af0-8969-4517-8f08-94483d231935 div.sk-estimator:hover label.sk-toggleable__label-arrow:before {color: black;}#sk-358a0af0-8969-4517-8f08-94483d231935 div.sk-toggleable__content {max-height: 0;max-width: 0;overflow: hidden;text-align: left;background-color: #f0f8ff;}#sk-358a0af0-8969-4517-8f08-94483d231935 div.sk-toggleable__content pre {margin: 0.2em;color: black;border-radius: 0.25em;background-color: #f0f8ff;}#sk-358a0af0-8969-4517-8f08-94483d231935 input.sk-toggleable__control:checked~div.sk-toggleable__content {max-height: 200px;max-width: 100%;overflow: auto;}#sk-358a0af0-8969-4517-8f08-94483d231935 input.sk-toggleable__control:checked~label.sk-toggleable__label-arrow:before {content: \"▾\";}#sk-358a0af0-8969-4517-8f08-94483d231935 div.sk-estimator input.sk-toggleable__control:checked~label.sk-toggleable__label {background-color: #d4ebff;}#sk-358a0af0-8969-4517-8f08-94483d231935 div.sk-label input.sk-toggleable__control:checked~label.sk-toggleable__label {background-color: #d4ebff;}#sk-358a0af0-8969-4517-8f08-94483d231935 input.sk-hidden--visually {border: 0;clip: rect(1px 1px 1px 1px);clip: rect(1px, 1px, 1px, 1px);height: 1px;margin: -1px;overflow: hidden;padding: 0;position: absolute;width: 1px;}#sk-358a0af0-8969-4517-8f08-94483d231935 div.sk-estimator {font-family: monospace;background-color: #f0f8ff;border: 1px dotted black;border-radius: 0.25em;box-sizing: border-box;margin-bottom: 0.5em;}#sk-358a0af0-8969-4517-8f08-94483d231935 div.sk-estimator:hover {background-color: #d4ebff;}#sk-358a0af0-8969-4517-8f08-94483d231935 div.sk-parallel-item::after {content: \"\";width: 100%;border-bottom: 1px solid gray;flex-grow: 1;}#sk-358a0af0-8969-4517-8f08-94483d231935 div.sk-label:hover label.sk-toggleable__label {background-color: #d4ebff;}#sk-358a0af0-8969-4517-8f08-94483d231935 div.sk-serial::before {content: \"\";position: absolute;border-left: 1px solid gray;box-sizing: border-box;top: 2em;bottom: 0;left: 50%;}#sk-358a0af0-8969-4517-8f08-94483d231935 div.sk-serial {display: flex;flex-direction: column;align-items: center;background-color: white;padding-right: 0.2em;padding-left: 0.2em;}#sk-358a0af0-8969-4517-8f08-94483d231935 div.sk-item {z-index: 1;}#sk-358a0af0-8969-4517-8f08-94483d231935 div.sk-parallel {display: flex;align-items: stretch;justify-content: center;background-color: white;}#sk-358a0af0-8969-4517-8f08-94483d231935 div.sk-parallel::before {content: \"\";position: absolute;border-left: 1px solid gray;box-sizing: border-box;top: 2em;bottom: 0;left: 50%;}#sk-358a0af0-8969-4517-8f08-94483d231935 div.sk-parallel-item {display: flex;flex-direction: column;position: relative;background-color: white;}#sk-358a0af0-8969-4517-8f08-94483d231935 div.sk-parallel-item:first-child::after {align-self: flex-end;width: 50%;}#sk-358a0af0-8969-4517-8f08-94483d231935 div.sk-parallel-item:last-child::after {align-self: flex-start;width: 50%;}#sk-358a0af0-8969-4517-8f08-94483d231935 div.sk-parallel-item:only-child::after {width: 0;}#sk-358a0af0-8969-4517-8f08-94483d231935 div.sk-dashed-wrapped {border: 1px dashed gray;margin: 0 0.4em 0.5em 0.4em;box-sizing: border-box;padding-bottom: 0.4em;background-color: white;position: relative;}#sk-358a0af0-8969-4517-8f08-94483d231935 div.sk-label label {font-family: monospace;font-weight: bold;background-color: white;display: inline-block;line-height: 1.2em;}#sk-358a0af0-8969-4517-8f08-94483d231935 div.sk-label-container {position: relative;z-index: 2;text-align: center;}#sk-358a0af0-8969-4517-8f08-94483d231935 div.sk-container {/* jupyter's `normalize.less` sets `[hidden] { display: none; }` but bootstrap.min.css set `[hidden] { display: none !important; }` so we also need the `!important` here to be able to override the default hidden behavior on the sphinx rendered scikit-learn.org. See: https://github.com/scikit-learn/scikit-learn/issues/21755 */display: inline-block !important;position: relative;}#sk-358a0af0-8969-4517-8f08-94483d231935 div.sk-text-repr-fallback {display: none;}</style><div id=\"sk-358a0af0-8969-4517-8f08-94483d231935\" class=\"sk-top-container\"><div class=\"sk-text-repr-fallback\"><pre>GridSearchCV(cv=5,\n",
       "             estimator=Pipeline(steps=[(&#x27;preprocessor&#x27;,\n",
       "                                        ColumnTransformer(transformers=[(&#x27;cat&#x27;,\n",
       "                                                                         Pipeline(steps=[(&#x27;1hot&#x27;,\n",
       "                                                                                          OneHotEncoder(handle_unknown=&#x27;ignore&#x27;))]),\n",
       "                                                                         [&#x27;host_response_time&#x27;,\n",
       "                                                                          &#x27;neighbourhood_group_cleansed&#x27;,\n",
       "                                                                          &#x27;room_type&#x27;,\n",
       "                                                                          &#x27;host_type&#x27;])])),\n",
       "                                       (&#x27;randfor&#x27;,\n",
       "                                        RandomForestClassifier(random_state=15))]),\n",
       "             n_jobs=-1,\n",
       "             param_grid={&#x27;randfor__bootstrap&#x27;: [True],\n",
       "                         &#x27;randfor__max_depth&#x27;: [80],\n",
       "                         &#x27;randfor__max_features&#x27;: [&#x27;auto&#x27;],\n",
       "                         &#x27;randfor__min_samples_leaf&#x27;: [2],\n",
       "                         &#x27;randfor__min_samples_split&#x27;: [5],\n",
       "                         &#x27;randfor__n_estimators&#x27;: [100]},\n",
       "             scoring=&#x27;precision&#x27;, verbose=5)</pre><b>Please rerun this cell to show the HTML repr or trust the notebook.</b></div><div class=\"sk-container\" hidden><div class=\"sk-item sk-dashed-wrapped\"><div class=\"sk-label-container\"><div class=\"sk-label sk-toggleable\"><input class=\"sk-toggleable__control sk-hidden--visually\" id=\"5442a6ec-fd3f-44ea-9be1-56d3fb0eedca\" type=\"checkbox\" ><label for=\"5442a6ec-fd3f-44ea-9be1-56d3fb0eedca\" class=\"sk-toggleable__label sk-toggleable__label-arrow\">GridSearchCV</label><div class=\"sk-toggleable__content\"><pre>GridSearchCV(cv=5,\n",
       "             estimator=Pipeline(steps=[(&#x27;preprocessor&#x27;,\n",
       "                                        ColumnTransformer(transformers=[(&#x27;cat&#x27;,\n",
       "                                                                         Pipeline(steps=[(&#x27;1hot&#x27;,\n",
       "                                                                                          OneHotEncoder(handle_unknown=&#x27;ignore&#x27;))]),\n",
       "                                                                         [&#x27;host_response_time&#x27;,\n",
       "                                                                          &#x27;neighbourhood_group_cleansed&#x27;,\n",
       "                                                                          &#x27;room_type&#x27;,\n",
       "                                                                          &#x27;host_type&#x27;])])),\n",
       "                                       (&#x27;randfor&#x27;,\n",
       "                                        RandomForestClassifier(random_state=15))]),\n",
       "             n_jobs=-1,\n",
       "             param_grid={&#x27;randfor__bootstrap&#x27;: [True],\n",
       "                         &#x27;randfor__max_depth&#x27;: [80],\n",
       "                         &#x27;randfor__max_features&#x27;: [&#x27;auto&#x27;],\n",
       "                         &#x27;randfor__min_samples_leaf&#x27;: [2],\n",
       "                         &#x27;randfor__min_samples_split&#x27;: [5],\n",
       "                         &#x27;randfor__n_estimators&#x27;: [100]},\n",
       "             scoring=&#x27;precision&#x27;, verbose=5)</pre></div></div></div><div class=\"sk-parallel\"><div class=\"sk-parallel-item\"><div class=\"sk-item\"><div class=\"sk-serial\"><div class=\"sk-item\"><div class=\"sk-serial\"><div class=\"sk-item sk-dashed-wrapped\"><div class=\"sk-label-container\"><div class=\"sk-label sk-toggleable\"><input class=\"sk-toggleable__control sk-hidden--visually\" id=\"e5a7bc9e-326e-4994-9944-cd9f2b9032de\" type=\"checkbox\" ><label for=\"e5a7bc9e-326e-4994-9944-cd9f2b9032de\" class=\"sk-toggleable__label sk-toggleable__label-arrow\">preprocessor: ColumnTransformer</label><div class=\"sk-toggleable__content\"><pre>ColumnTransformer(transformers=[(&#x27;cat&#x27;,\n",
       "                                 Pipeline(steps=[(&#x27;1hot&#x27;,\n",
       "                                                  OneHotEncoder(handle_unknown=&#x27;ignore&#x27;))]),\n",
       "                                 [&#x27;host_response_time&#x27;,\n",
       "                                  &#x27;neighbourhood_group_cleansed&#x27;, &#x27;room_type&#x27;,\n",
       "                                  &#x27;host_type&#x27;])])</pre></div></div></div><div class=\"sk-parallel\"><div class=\"sk-parallel-item\"><div class=\"sk-item\"><div class=\"sk-label-container\"><div class=\"sk-label sk-toggleable\"><input class=\"sk-toggleable__control sk-hidden--visually\" id=\"734322ab-a11e-4e78-9643-3f88af6fc927\" type=\"checkbox\" ><label for=\"734322ab-a11e-4e78-9643-3f88af6fc927\" class=\"sk-toggleable__label sk-toggleable__label-arrow\">cat</label><div class=\"sk-toggleable__content\"><pre>[&#x27;host_response_time&#x27;, &#x27;neighbourhood_group_cleansed&#x27;, &#x27;room_type&#x27;, &#x27;host_type&#x27;]</pre></div></div></div><div class=\"sk-serial\"><div class=\"sk-item\"><div class=\"sk-serial\"><div class=\"sk-item\"><div class=\"sk-estimator sk-toggleable\"><input class=\"sk-toggleable__control sk-hidden--visually\" id=\"480cf254-5ae1-4668-a392-9f5e6c5e08e9\" type=\"checkbox\" ><label for=\"480cf254-5ae1-4668-a392-9f5e6c5e08e9\" class=\"sk-toggleable__label sk-toggleable__label-arrow\">OneHotEncoder</label><div class=\"sk-toggleable__content\"><pre>OneHotEncoder(handle_unknown=&#x27;ignore&#x27;)</pre></div></div></div></div></div></div></div></div></div></div><div class=\"sk-item\"><div class=\"sk-estimator sk-toggleable\"><input class=\"sk-toggleable__control sk-hidden--visually\" id=\"1cbf9595-0a25-497c-92ea-cfaaf63dc09c\" type=\"checkbox\" ><label for=\"1cbf9595-0a25-497c-92ea-cfaaf63dc09c\" class=\"sk-toggleable__label sk-toggleable__label-arrow\">RandomForestClassifier</label><div class=\"sk-toggleable__content\"><pre>RandomForestClassifier(random_state=15)</pre></div></div></div></div></div></div></div></div></div></div></div></div>"
      ],
      "text/plain": [
       "GridSearchCV(cv=5,\n",
       "             estimator=Pipeline(steps=[('preprocessor',\n",
       "                                        ColumnTransformer(transformers=[('cat',\n",
       "                                                                         Pipeline(steps=[('1hot',\n",
       "                                                                                          OneHotEncoder(handle_unknown='ignore'))]),\n",
       "                                                                         ['host_response_time',\n",
       "                                                                          'neighbourhood_group_cleansed',\n",
       "                                                                          'room_type',\n",
       "                                                                          'host_type'])])),\n",
       "                                       ('randfor',\n",
       "                                        RandomForestClassifier(random_state=15))]),\n",
       "             n_jobs=-1,\n",
       "             param_grid={'randfor__bootstrap': [True],\n",
       "                         'randfor__max_depth': [80],\n",
       "                         'randfor__max_features': ['auto'],\n",
       "                         'randfor__min_samples_leaf': [2],\n",
       "                         'randfor__min_samples_split': [5],\n",
       "                         'randfor__n_estimators': [100]},\n",
       "             scoring='precision', verbose=5)"
      ]
     },
     "execution_count": 43,
     "metadata": {},
     "output_type": "execute_result"
    }
   ],
   "source": [
    "grid_rf = GridSearchCV(pipe_rf, param_grid=param_rf_best, cv=5, scoring='precision', \n",
    "                           verbose=5, n_jobs=-1)\n",
    "\n",
    "grid_rf.fit(X_train, y_train)"
   ]
  },
  {
   "cell_type": "code",
   "execution_count": 44,
   "id": "7bd948cb-16d8-49c3-9095-90f3daf94280",
   "metadata": {
    "tags": []
   },
   "outputs": [
    {
     "name": "stdout",
     "output_type": "stream",
     "text": [
      "Best score:\n",
      "0.78\n",
      "Best parameters:\n",
      "{'randfor__bootstrap': True, 'randfor__max_depth': 80, 'randfor__max_features': 'auto', 'randfor__min_samples_leaf': 2, 'randfor__min_samples_split': 5, 'randfor__n_estimators': 100}\n"
     ]
    }
   ],
   "source": [
    "print('Best score:\\n{:.2f}'.format(grid_rf.best_score_))\n",
    "print(\"Best parameters:\\n{}\".format(grid_rf.best_params_))"
   ]
  },
  {
   "cell_type": "code",
   "execution_count": 45,
   "id": "07454632-e056-4886-942b-4d30f703a4d5",
   "metadata": {
    "tags": []
   },
   "outputs": [
    {
     "data": {
      "text/html": [
       "<style>#sk-1c4031ad-4a49-4df1-99e0-825c75e1be74 {color: black;background-color: white;}#sk-1c4031ad-4a49-4df1-99e0-825c75e1be74 pre{padding: 0;}#sk-1c4031ad-4a49-4df1-99e0-825c75e1be74 div.sk-toggleable {background-color: white;}#sk-1c4031ad-4a49-4df1-99e0-825c75e1be74 label.sk-toggleable__label {cursor: pointer;display: block;width: 100%;margin-bottom: 0;padding: 0.3em;box-sizing: border-box;text-align: center;}#sk-1c4031ad-4a49-4df1-99e0-825c75e1be74 label.sk-toggleable__label-arrow:before {content: \"▸\";float: left;margin-right: 0.25em;color: #696969;}#sk-1c4031ad-4a49-4df1-99e0-825c75e1be74 label.sk-toggleable__label-arrow:hover:before {color: black;}#sk-1c4031ad-4a49-4df1-99e0-825c75e1be74 div.sk-estimator:hover label.sk-toggleable__label-arrow:before {color: black;}#sk-1c4031ad-4a49-4df1-99e0-825c75e1be74 div.sk-toggleable__content {max-height: 0;max-width: 0;overflow: hidden;text-align: left;background-color: #f0f8ff;}#sk-1c4031ad-4a49-4df1-99e0-825c75e1be74 div.sk-toggleable__content pre {margin: 0.2em;color: black;border-radius: 0.25em;background-color: #f0f8ff;}#sk-1c4031ad-4a49-4df1-99e0-825c75e1be74 input.sk-toggleable__control:checked~div.sk-toggleable__content {max-height: 200px;max-width: 100%;overflow: auto;}#sk-1c4031ad-4a49-4df1-99e0-825c75e1be74 input.sk-toggleable__control:checked~label.sk-toggleable__label-arrow:before {content: \"▾\";}#sk-1c4031ad-4a49-4df1-99e0-825c75e1be74 div.sk-estimator input.sk-toggleable__control:checked~label.sk-toggleable__label {background-color: #d4ebff;}#sk-1c4031ad-4a49-4df1-99e0-825c75e1be74 div.sk-label input.sk-toggleable__control:checked~label.sk-toggleable__label {background-color: #d4ebff;}#sk-1c4031ad-4a49-4df1-99e0-825c75e1be74 input.sk-hidden--visually {border: 0;clip: rect(1px 1px 1px 1px);clip: rect(1px, 1px, 1px, 1px);height: 1px;margin: -1px;overflow: hidden;padding: 0;position: absolute;width: 1px;}#sk-1c4031ad-4a49-4df1-99e0-825c75e1be74 div.sk-estimator {font-family: monospace;background-color: #f0f8ff;border: 1px dotted black;border-radius: 0.25em;box-sizing: border-box;margin-bottom: 0.5em;}#sk-1c4031ad-4a49-4df1-99e0-825c75e1be74 div.sk-estimator:hover {background-color: #d4ebff;}#sk-1c4031ad-4a49-4df1-99e0-825c75e1be74 div.sk-parallel-item::after {content: \"\";width: 100%;border-bottom: 1px solid gray;flex-grow: 1;}#sk-1c4031ad-4a49-4df1-99e0-825c75e1be74 div.sk-label:hover label.sk-toggleable__label {background-color: #d4ebff;}#sk-1c4031ad-4a49-4df1-99e0-825c75e1be74 div.sk-serial::before {content: \"\";position: absolute;border-left: 1px solid gray;box-sizing: border-box;top: 2em;bottom: 0;left: 50%;}#sk-1c4031ad-4a49-4df1-99e0-825c75e1be74 div.sk-serial {display: flex;flex-direction: column;align-items: center;background-color: white;padding-right: 0.2em;padding-left: 0.2em;}#sk-1c4031ad-4a49-4df1-99e0-825c75e1be74 div.sk-item {z-index: 1;}#sk-1c4031ad-4a49-4df1-99e0-825c75e1be74 div.sk-parallel {display: flex;align-items: stretch;justify-content: center;background-color: white;}#sk-1c4031ad-4a49-4df1-99e0-825c75e1be74 div.sk-parallel::before {content: \"\";position: absolute;border-left: 1px solid gray;box-sizing: border-box;top: 2em;bottom: 0;left: 50%;}#sk-1c4031ad-4a49-4df1-99e0-825c75e1be74 div.sk-parallel-item {display: flex;flex-direction: column;position: relative;background-color: white;}#sk-1c4031ad-4a49-4df1-99e0-825c75e1be74 div.sk-parallel-item:first-child::after {align-self: flex-end;width: 50%;}#sk-1c4031ad-4a49-4df1-99e0-825c75e1be74 div.sk-parallel-item:last-child::after {align-self: flex-start;width: 50%;}#sk-1c4031ad-4a49-4df1-99e0-825c75e1be74 div.sk-parallel-item:only-child::after {width: 0;}#sk-1c4031ad-4a49-4df1-99e0-825c75e1be74 div.sk-dashed-wrapped {border: 1px dashed gray;margin: 0 0.4em 0.5em 0.4em;box-sizing: border-box;padding-bottom: 0.4em;background-color: white;position: relative;}#sk-1c4031ad-4a49-4df1-99e0-825c75e1be74 div.sk-label label {font-family: monospace;font-weight: bold;background-color: white;display: inline-block;line-height: 1.2em;}#sk-1c4031ad-4a49-4df1-99e0-825c75e1be74 div.sk-label-container {position: relative;z-index: 2;text-align: center;}#sk-1c4031ad-4a49-4df1-99e0-825c75e1be74 div.sk-container {/* jupyter's `normalize.less` sets `[hidden] { display: none; }` but bootstrap.min.css set `[hidden] { display: none !important; }` so we also need the `!important` here to be able to override the default hidden behavior on the sphinx rendered scikit-learn.org. See: https://github.com/scikit-learn/scikit-learn/issues/21755 */display: inline-block !important;position: relative;}#sk-1c4031ad-4a49-4df1-99e0-825c75e1be74 div.sk-text-repr-fallback {display: none;}</style><div id=\"sk-1c4031ad-4a49-4df1-99e0-825c75e1be74\" class=\"sk-top-container\"><div class=\"sk-text-repr-fallback\"><pre>Pipeline(steps=[(&#x27;preprocessor&#x27;,\n",
       "                 ColumnTransformer(transformers=[(&#x27;cat&#x27;,\n",
       "                                                  Pipeline(steps=[(&#x27;1hot&#x27;,\n",
       "                                                                   OneHotEncoder(handle_unknown=&#x27;ignore&#x27;))]),\n",
       "                                                  [&#x27;host_response_time&#x27;,\n",
       "                                                   &#x27;neighbourhood_group_cleansed&#x27;,\n",
       "                                                   &#x27;room_type&#x27;,\n",
       "                                                   &#x27;host_type&#x27;])])),\n",
       "                (&#x27;randfor&#x27;,\n",
       "                 RandomForestClassifier(max_depth=80, min_samples_leaf=2,\n",
       "                                        min_samples_split=5,\n",
       "                                        random_state=15))])</pre><b>Please rerun this cell to show the HTML repr or trust the notebook.</b></div><div class=\"sk-container\" hidden><div class=\"sk-item sk-dashed-wrapped\"><div class=\"sk-label-container\"><div class=\"sk-label sk-toggleable\"><input class=\"sk-toggleable__control sk-hidden--visually\" id=\"83bb6e8d-dc3d-45ab-8d33-a10b134a837d\" type=\"checkbox\" ><label for=\"83bb6e8d-dc3d-45ab-8d33-a10b134a837d\" class=\"sk-toggleable__label sk-toggleable__label-arrow\">Pipeline</label><div class=\"sk-toggleable__content\"><pre>Pipeline(steps=[(&#x27;preprocessor&#x27;,\n",
       "                 ColumnTransformer(transformers=[(&#x27;cat&#x27;,\n",
       "                                                  Pipeline(steps=[(&#x27;1hot&#x27;,\n",
       "                                                                   OneHotEncoder(handle_unknown=&#x27;ignore&#x27;))]),\n",
       "                                                  [&#x27;host_response_time&#x27;,\n",
       "                                                   &#x27;neighbourhood_group_cleansed&#x27;,\n",
       "                                                   &#x27;room_type&#x27;,\n",
       "                                                   &#x27;host_type&#x27;])])),\n",
       "                (&#x27;randfor&#x27;,\n",
       "                 RandomForestClassifier(max_depth=80, min_samples_leaf=2,\n",
       "                                        min_samples_split=5,\n",
       "                                        random_state=15))])</pre></div></div></div><div class=\"sk-serial\"><div class=\"sk-item sk-dashed-wrapped\"><div class=\"sk-label-container\"><div class=\"sk-label sk-toggleable\"><input class=\"sk-toggleable__control sk-hidden--visually\" id=\"6336cd41-4202-467a-a352-5d829df4a039\" type=\"checkbox\" ><label for=\"6336cd41-4202-467a-a352-5d829df4a039\" class=\"sk-toggleable__label sk-toggleable__label-arrow\">preprocessor: ColumnTransformer</label><div class=\"sk-toggleable__content\"><pre>ColumnTransformer(transformers=[(&#x27;cat&#x27;,\n",
       "                                 Pipeline(steps=[(&#x27;1hot&#x27;,\n",
       "                                                  OneHotEncoder(handle_unknown=&#x27;ignore&#x27;))]),\n",
       "                                 [&#x27;host_response_time&#x27;,\n",
       "                                  &#x27;neighbourhood_group_cleansed&#x27;, &#x27;room_type&#x27;,\n",
       "                                  &#x27;host_type&#x27;])])</pre></div></div></div><div class=\"sk-parallel\"><div class=\"sk-parallel-item\"><div class=\"sk-item\"><div class=\"sk-label-container\"><div class=\"sk-label sk-toggleable\"><input class=\"sk-toggleable__control sk-hidden--visually\" id=\"a213c165-b17f-4bf5-9866-96f452b975cb\" type=\"checkbox\" ><label for=\"a213c165-b17f-4bf5-9866-96f452b975cb\" class=\"sk-toggleable__label sk-toggleable__label-arrow\">cat</label><div class=\"sk-toggleable__content\"><pre>[&#x27;host_response_time&#x27;, &#x27;neighbourhood_group_cleansed&#x27;, &#x27;room_type&#x27;, &#x27;host_type&#x27;]</pre></div></div></div><div class=\"sk-serial\"><div class=\"sk-item\"><div class=\"sk-serial\"><div class=\"sk-item\"><div class=\"sk-estimator sk-toggleable\"><input class=\"sk-toggleable__control sk-hidden--visually\" id=\"2e744d60-b7e9-4358-8249-b8fd585cc939\" type=\"checkbox\" ><label for=\"2e744d60-b7e9-4358-8249-b8fd585cc939\" class=\"sk-toggleable__label sk-toggleable__label-arrow\">OneHotEncoder</label><div class=\"sk-toggleable__content\"><pre>OneHotEncoder(handle_unknown=&#x27;ignore&#x27;)</pre></div></div></div></div></div></div></div></div></div></div><div class=\"sk-item\"><div class=\"sk-estimator sk-toggleable\"><input class=\"sk-toggleable__control sk-hidden--visually\" id=\"d618f3a3-c9f9-4e7a-ae3c-ff18d13259af\" type=\"checkbox\" ><label for=\"d618f3a3-c9f9-4e7a-ae3c-ff18d13259af\" class=\"sk-toggleable__label sk-toggleable__label-arrow\">RandomForestClassifier</label><div class=\"sk-toggleable__content\"><pre>RandomForestClassifier(max_depth=80, min_samples_leaf=2, min_samples_split=5,\n",
       "                       random_state=15)</pre></div></div></div></div></div></div></div>"
      ],
      "text/plain": [
       "Pipeline(steps=[('preprocessor',\n",
       "                 ColumnTransformer(transformers=[('cat',\n",
       "                                                  Pipeline(steps=[('1hot',\n",
       "                                                                   OneHotEncoder(handle_unknown='ignore'))]),\n",
       "                                                  ['host_response_time',\n",
       "                                                   'neighbourhood_group_cleansed',\n",
       "                                                   'room_type',\n",
       "                                                   'host_type'])])),\n",
       "                ('randfor',\n",
       "                 RandomForestClassifier(max_depth=80, min_samples_leaf=2,\n",
       "                                        min_samples_split=5,\n",
       "                                        random_state=15))])"
      ]
     },
     "execution_count": 45,
     "metadata": {},
     "output_type": "execute_result"
    }
   ],
   "source": [
    "randomforest = grid_rf.best_estimator_\n",
    "randomforest"
   ]
  },
  {
   "cell_type": "code",
   "execution_count": 46,
   "id": "d9429db6-6b4d-44fe-9c0d-6417c306a33f",
   "metadata": {
    "tags": []
   },
   "outputs": [
    {
     "name": "stdout",
     "output_type": "stream",
     "text": [
      "Accuracy: 0.79\n",
      "Recall: 0.72\n",
      "Precision: 0.81\n"
     ]
    }
   ],
   "source": [
    "y_test_predicted_rf = randomforest.predict(X_test)\n",
    "print(\"Accuracy: {:.2f}\".format(accuracy_score(y_test, y_test_predicted_rf)))\n",
    "print(\"Recall: {:.2f}\".format(recall_score(y_test, y_test_predicted_rf)))\n",
    "print(\"Precision: {:.2f}\".format(precision_score(y_test, y_test_predicted_rf)))"
   ]
  },
  {
   "cell_type": "code",
   "execution_count": 47,
   "id": "9d0beba5-b3dd-4dd2-9718-695798625098",
   "metadata": {
    "tags": []
   },
   "outputs": [
    {
     "data": {
      "image/png": "[encoded data removed]",
      "text/plain": [
       "<Figure size 640x480 with 2 Axes>"
      ]
     },
     "metadata": {},
     "output_type": "display_data"
    }
   ],
   "source": [
    "cfm_rf = confusion_matrix(y_test, y_test_predicted_rf)\n",
    "group_names = ['True Neg','False Pos','False Neg','True Pos']\n",
    "group_counts = ['{0:0.0f}'.format(value) for value in\n",
    "                cfm_rf.flatten()]\n",
    "group_percentages = ['{0:.2%}'.format(value) for value in\n",
    "                     cfm_rf.flatten()/np.sum(cfm_bl)]\n",
    "labels = [f'{v1}\\n{v2}\\n{v3}' for v1, v2, v3 in\n",
    "          zip(group_names,group_counts,group_percentages)]\n",
    "labels = np.asarray(labels).reshape(2,2)\n",
    "sns.heatmap(cfm_rf, annot=labels, fmt='', cmap=cpal2);"
   ]
  },
  {
   "cell_type": "code",
   "execution_count": 48,
   "id": "bbd2358c-8469-45c5-b4e3-5283018d99f5",
   "metadata": {
    "tags": []
   },
   "outputs": [],
   "source": [
    "y_test_proba_rf = randomforest.predict_proba(X_test)\n",
    "y_test_proba_rf = y_test_proba_rf[:,1]\n",
    "rf_auc = roc_auc_score(y_test, y_test_proba_rf)\n",
    "fprrf, tprrf, thresholdsrf = roc_curve(y_test, y_test_proba_rf)"
   ]
  },
  {
   "cell_type": "code",
   "execution_count": 49,
   "id": "f9c68b7f-bc32-47c0-af96-dfb8d993cb3d",
   "metadata": {
    "tags": []
   },
   "outputs": [
    {
     "data": {
      "text/plain": [
       "0.8554590963569538"
      ]
     },
     "execution_count": 49,
     "metadata": {},
     "output_type": "execute_result"
    }
   ],
   "source": [
    "rf_auc"
   ]
  },
  {
   "cell_type": "code",
   "execution_count": 50,
   "id": "c6899e42-4eb6-48cb-b721-f369e92b6322",
   "metadata": {
    "tags": []
   },
   "outputs": [
    {
     "data": {
      "image/png": "[encoded data removed]",
      "text/plain": [
       "<Figure size 640x480 with 1 Axes>"
      ]
     },
     "metadata": {},
     "output_type": "display_data"
    }
   ],
   "source": [
    "from matplotlib import pyplot\n",
    "pyplot.plot(fprbl, tprbl, linestyle='--', label='Baseline', color='#81B29A')\n",
    "pyplot.plot(fprrf, tprrf, label='Random Forest', color = '#F2CC8F')\n",
    "pyplot.xlabel('False Positive Rate')\n",
    "pyplot.ylabel('True Positive Rate')\n",
    "pyplot.text(0.3,0.3,'Roc-Auc-Score improved from 0.85 to 0.86', bbox={\n",
    "        'facecolor': '#D9E8E8', 'alpha': 0.4, 'pad': 5})\n",
    "pyplot.legend()\n",
    "pyplot.show()"
   ]
  },
  {
   "cell_type": "markdown",
   "id": "ef05d7b8-1104-4cfb-a9b6-057077baab79",
   "metadata": {},
   "source": [
    "In the next notebook we are going to improve this and train our final model."
   ]
  }
 ],
 "metadata": {
  "kernelspec": {
   "display_name": "Python 3 (ipykernel)",
   "language": "python",
   "name": "python3"
  },
  "language_info": {
   "codemirror_mode": {
    "name": "ipython",
    "version": 3
   },
   "file_extension": ".py",
   "mimetype": "text/x-python",
   "name": "python",
   "nbconvert_exporter": "python",
   "pygments_lexer": "ipython3",
   "version": "3.9.8"
  }
 },
 "nbformat": 4,
 "nbformat_minor": 5
}
