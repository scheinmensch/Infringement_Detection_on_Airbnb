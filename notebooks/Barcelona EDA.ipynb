{
 "cells": [
  {
   "cell_type": "markdown",
   "id": "2afca338-cba4-4855-925e-bb9f3794ff62",
   "metadata": {},
   "source": [
    "## Infringement detection on Airbnb\n",
    "\n",
    "We analyze the Airbnb listings of three European metropolitan areas (Stockholm, Rome, Barcelona) and examine the extent to which applicable laws are complied with. Based on our findings, we create a model that classifies listings into different categories.\n",
    "\n",
    "Data used in this project is taken from [Inside Airbnb](http://insideairbnb.com/get-the-data/). \n",
    "\n",
    "Some additional data is collected by a webscraper."
   ]
  },
  {
   "cell_type": "markdown",
   "id": "5cebe59b-51c2-49ce-931a-e438afdb0341",
   "metadata": {},
   "source": [
    "### About Airbnb\n",
    "\n",
    "Airbnb is an American company operating an online marketplace for short-term homestays and experiences. \n",
    "\n",
    "It started as a more evolved version of couch surfing, in which youthful travellers used social media to find a free place to crash. Couch surfing was predicated on personal exchange: hosts got to know their guests, with the understanding that one day they might spend a free night at their guests’ home. Airbnb introduced the notion of hosts charging an affordable rate for that place to crash, so that a tourist on a budget could book a bed in the spare room of a local’s home.\n",
    "\n",
    "The conceit of friendly locals renting out spare rooms has been supplanted by a more mercenary model, in which centuries-old apartment buildings are hollowed out with ersatz hotel rooms. Many properties have been bought specifically as short-term-rental investments, managed by agencies that have dozens of such properties.\n",
    "\n",
    "The company acts as a broker and charges a commission from each booking. Both private and commercial landlords rent out accommodations under the mediation of the company, but without Airbnb assuming any legal obligations. \n",
    "\n",
    "From its founding in 2008 to March 2020, more than 900 million overnight stays were booked through Airbnb, according to the company."
   ]
  },
  {
   "cell_type": "markdown",
   "id": "d66c9d25-79a8-4f73-a979-1896f83b06b8",
   "metadata": {
    "tags": []
   },
   "source": [
    "### Criticism of Airbnb\n",
    "\n",
    "Airbnb has come under criticism for a number of reasons, including the fact that:\n",
    "- The mass subletting of housing at high prices for short stays is putting further pressure on the already tight housing market in some cities. Housing is becoming scarcer, rents are rising.\n",
    "- Fewer taxes are being collected through tourism.\n",
    "- Municipalities are losing control over the amount of tourism. \n",
    "- Residents are annoyed by the many strangers coming in and out of their homes. "
   ]
  },
  {
   "cell_type": "markdown",
   "id": "028f6173-e100-48a4-a5bf-a907ba6b5d06",
   "metadata": {},
   "source": [
    "### Hypotheses\n",
    "\n",
    "- commercial hosts tend to have several properties\n",
    "- commercial hosts tend to rent out for (almost) the entire year\n",
    "- "
   ]
  },
  {
   "cell_type": "code",
   "execution_count": 1,
   "id": "6e7173e2-1b4f-46f8-bfef-cada42529ed3",
   "metadata": {
    "tags": []
   },
   "outputs": [],
   "source": [
    "import pandas as pd\n",
    "import numpy as np\n",
    "import seaborn as sns\n",
    "import matplotlib.pyplot as plt\n",
    "c = ['#cbc0d3', '#efd3d7', '#feeafa', '#dee2ff', '#8e9aaf']\n",
    "c2 = ['#8e9aaf', '#919db1', '#949fb3', '#97a2b5', '#9aa5b8', '#9da8ba', '#a0aabb', '#a3adbe', '#a7b1c1', '#abb4c4', '#afb7c6', '#b3bbca', '#b9c0cd', '#bdc4d0', '#c0c7d3', '#c6ccd7', '#ced3dc']\n",
    "c3 = ['#efd3d7', '#ecccd0', '#eac6cb', '#e9c2c7', '#e7bcc2', '#e5b7bd', '#e3b1b8', '#e1aeb5', '#dfa7af', '#dea3ab', '#dc9fa8', '#da9aa3', '#d8949e', '#d7929c']\n",
    "plt.style.use('default')"
   ]
  },
  {
   "cell_type": "code",
   "execution_count": 2,
   "id": "f0548934-5bfa-4d76-b31d-1d5433d2b284",
   "metadata": {
    "tags": []
   },
   "outputs": [],
   "source": [
    "bcn_orginal = pd.read_csv('../data/listings_bcn.csv')\n",
    "scraped = pd.read_csv('../data/airbnb2.csv')"
   ]
  },
  {
   "cell_type": "code",
   "execution_count": 3,
   "id": "4520fdc7-752a-405e-804d-6efc7f480c9e",
   "metadata": {
    "tags": []
   },
   "outputs": [],
   "source": [
    "scraped.rename(columns = {'url':'listing_url'}, inplace = True)"
   ]
  },
  {
   "cell_type": "code",
   "execution_count": 4,
   "id": "71c80dcb-942a-4f08-aeba-31af43487246",
   "metadata": {
    "tags": []
   },
   "outputs": [],
   "source": [
    "bcn_new=bcn_orginal.merge(scraped, on='listing_url', how='outer')"
   ]
  },
  {
   "cell_type": "code",
   "execution_count": 5,
   "id": "931996f1-c95e-45f1-83f5-578ea76d6991",
   "metadata": {
    "tags": []
   },
   "outputs": [],
   "source": [
    "bcn_new = bcn_new.drop(['Unnamed: 0'], axis=1)"
   ]
  },
  {
   "cell_type": "code",
   "execution_count": 6,
   "id": "f9c18458-52f9-44cf-8516-49a4c956f1a5",
   "metadata": {
    "tags": []
   },
   "outputs": [
    {
     "data": {
      "text/plain": [
       "6227"
      ]
     },
     "execution_count": 6,
     "metadata": {},
     "output_type": "execute_result"
    }
   ],
   "source": [
    "bcn_new['host_id'].nunique()"
   ]
  },
  {
   "cell_type": "code",
   "execution_count": 7,
   "id": "a5a9a6e0-b33b-439c-808c-a9bc21647ed3",
   "metadata": {
    "tags": []
   },
   "outputs": [
    {
     "data": {
      "text/plain": [
       "3076"
      ]
     },
     "execution_count": 7,
     "metadata": {},
     "output_type": "execute_result"
    }
   ],
   "source": [
    "bcn_new['host_name'].nunique()"
   ]
  },
  {
   "cell_type": "code",
   "execution_count": 8,
   "id": "e2c09bf2-615e-4989-bf69-44c6863f13c0",
   "metadata": {
    "tags": []
   },
   "outputs": [
    {
     "name": "stdout",
     "output_type": "stream",
     "text": [
      "<class 'pandas.core.frame.DataFrame'>\n",
      "RangeIndex: 15655 entries, 0 to 15654\n",
      "Data columns (total 76 columns):\n",
      " #   Column                                        Non-Null Count  Dtype  \n",
      "---  ------                                        --------------  -----  \n",
      " 0   id                                            15655 non-null  int64  \n",
      " 1   listing_url                                   15655 non-null  object \n",
      " 2   scrape_id                                     15655 non-null  int64  \n",
      " 3   last_scraped                                  15655 non-null  object \n",
      " 4   source                                        15655 non-null  object \n",
      " 5   name                                          15646 non-null  object \n",
      " 6   description                                   15569 non-null  object \n",
      " 7   neighborhood_overview                         9204 non-null   object \n",
      " 8   picture_url                                   15655 non-null  object \n",
      " 9   host_id                                       15655 non-null  int64  \n",
      " 10  host_url                                      15655 non-null  object \n",
      " 11  host_name                                     15653 non-null  object \n",
      " 12  host_since                                    15653 non-null  object \n",
      " 13  host_location                                 12172 non-null  object \n",
      " 14  host_about                                    10031 non-null  object \n",
      " 15  host_response_time                            12660 non-null  object \n",
      " 16  host_response_rate                            12660 non-null  object \n",
      " 17  host_acceptance_rate                          13127 non-null  object \n",
      " 18  host_is_superhost                             15653 non-null  object \n",
      " 19  host_thumbnail_url                            15653 non-null  object \n",
      " 20  host_picture_url                              15653 non-null  object \n",
      " 21  host_neighbourhood                            9143 non-null   object \n",
      " 22  host_listings_count                           15653 non-null  float64\n",
      " 23  host_total_listings_count                     15653 non-null  float64\n",
      " 24  host_verifications                            15653 non-null  object \n",
      " 25  host_has_profile_pic                          15653 non-null  object \n",
      " 26  host_identity_verified                        15653 non-null  object \n",
      " 27  neighbourhood                                 9204 non-null   object \n",
      " 28  neighbourhood_cleansed                        15655 non-null  object \n",
      " 29  neighbourhood_group_cleansed                  15655 non-null  object \n",
      " 30  latitude                                      15655 non-null  float64\n",
      " 31  longitude                                     15655 non-null  float64\n",
      " 32  property_type                                 15655 non-null  object \n",
      " 33  room_type                                     15655 non-null  object \n",
      " 34  accommodates                                  15655 non-null  int64  \n",
      " 35  bathrooms                                     0 non-null      float64\n",
      " 36  bathrooms_text                                15647 non-null  object \n",
      " 37  bedrooms                                      15098 non-null  float64\n",
      " 38  beds                                          15378 non-null  float64\n",
      " 39  amenities                                     15655 non-null  object \n",
      " 40  price                                         15655 non-null  object \n",
      " 41  minimum_nights                                15655 non-null  int64  \n",
      " 42  maximum_nights                                15655 non-null  int64  \n",
      " 43  minimum_minimum_nights                        15654 non-null  float64\n",
      " 44  maximum_minimum_nights                        15654 non-null  float64\n",
      " 45  minimum_maximum_nights                        15654 non-null  float64\n",
      " 46  maximum_maximum_nights                        15654 non-null  float64\n",
      " 47  minimum_nights_avg_ntm                        15654 non-null  float64\n",
      " 48  maximum_nights_avg_ntm                        15654 non-null  float64\n",
      " 49  calendar_updated                              0 non-null      float64\n",
      " 50  has_availability                              15655 non-null  object \n",
      " 51  availability_30                               15655 non-null  int64  \n",
      " 52  availability_60                               15655 non-null  int64  \n",
      " 53  availability_90                               15655 non-null  int64  \n",
      " 54  availability_365                              15655 non-null  int64  \n",
      " 55  calendar_last_scraped                         15655 non-null  object \n",
      " 56  number_of_reviews                             15655 non-null  int64  \n",
      " 57  number_of_reviews_ltm                         15655 non-null  int64  \n",
      " 58  number_of_reviews_l30d                        15655 non-null  int64  \n",
      " 59  first_review                                  12176 non-null  object \n",
      " 60  last_review                                   12176 non-null  object \n",
      " 61  review_scores_rating                          12176 non-null  float64\n",
      " 62  review_scores_accuracy                        12088 non-null  float64\n",
      " 63  review_scores_cleanliness                     12089 non-null  float64\n",
      " 64  review_scores_checkin                         12084 non-null  float64\n",
      " 65  review_scores_communication                   12090 non-null  float64\n",
      " 66  review_scores_location                        12084 non-null  float64\n",
      " 67  review_scores_value                           12085 non-null  float64\n",
      " 68  license                                       10842 non-null  object \n",
      " 69  instant_bookable                              15655 non-null  object \n",
      " 70  calculated_host_listings_count                15655 non-null  int64  \n",
      " 71  calculated_host_listings_count_entire_homes   15655 non-null  int64  \n",
      " 72  calculated_host_listings_count_private_rooms  15655 non-null  int64  \n",
      " 73  calculated_host_listings_count_shared_rooms   15655 non-null  int64  \n",
      " 74  reviews_per_month                             12176 non-null  float64\n",
      " 75  host_type                                     11454 non-null  object \n",
      "dtypes: float64(22), int64(17), object(37)\n",
      "memory usage: 9.1+ MB\n"
     ]
    }
   ],
   "source": [
    "bcn_new.info()"
   ]
  },
  {
   "cell_type": "code",
   "execution_count": 9,
   "id": "1f6e25f9-436b-4be9-be4b-39eedda2cb88",
   "metadata": {
    "tags": []
   },
   "outputs": [
    {
     "data": {
      "text/html": [
       "<div>\n",
       "<style scoped>\n",
       "    .dataframe tbody tr th:only-of-type {\n",
       "        vertical-align: middle;\n",
       "    }\n",
       "\n",
       "    .dataframe tbody tr th {\n",
       "        vertical-align: top;\n",
       "    }\n",
       "\n",
       "    .dataframe thead th {\n",
       "        text-align: right;\n",
       "    }\n",
       "</style>\n",
       "<table border=\"1\" class=\"dataframe\">\n",
       "  <thead>\n",
       "    <tr style=\"text-align: right;\">\n",
       "      <th></th>\n",
       "      <th>id</th>\n",
       "      <th>scrape_id</th>\n",
       "      <th>host_id</th>\n",
       "      <th>host_listings_count</th>\n",
       "      <th>host_total_listings_count</th>\n",
       "      <th>latitude</th>\n",
       "      <th>longitude</th>\n",
       "      <th>accommodates</th>\n",
       "      <th>bathrooms</th>\n",
       "      <th>bedrooms</th>\n",
       "      <th>...</th>\n",
       "      <th>review_scores_cleanliness</th>\n",
       "      <th>review_scores_checkin</th>\n",
       "      <th>review_scores_communication</th>\n",
       "      <th>review_scores_location</th>\n",
       "      <th>review_scores_value</th>\n",
       "      <th>calculated_host_listings_count</th>\n",
       "      <th>calculated_host_listings_count_entire_homes</th>\n",
       "      <th>calculated_host_listings_count_private_rooms</th>\n",
       "      <th>calculated_host_listings_count_shared_rooms</th>\n",
       "      <th>reviews_per_month</th>\n",
       "    </tr>\n",
       "  </thead>\n",
       "  <tbody>\n",
       "    <tr>\n",
       "      <th>count</th>\n",
       "      <td>1.565500e+04</td>\n",
       "      <td>1.565500e+04</td>\n",
       "      <td>1.565500e+04</td>\n",
       "      <td>15653.000000</td>\n",
       "      <td>15653.000000</td>\n",
       "      <td>15655.000000</td>\n",
       "      <td>15655.000000</td>\n",
       "      <td>15655.000000</td>\n",
       "      <td>0.0</td>\n",
       "      <td>15098.000000</td>\n",
       "      <td>...</td>\n",
       "      <td>12089.000000</td>\n",
       "      <td>12084.000000</td>\n",
       "      <td>12090.000000</td>\n",
       "      <td>12084.000000</td>\n",
       "      <td>12085.000000</td>\n",
       "      <td>15655.000000</td>\n",
       "      <td>15655.000000</td>\n",
       "      <td>15655.000000</td>\n",
       "      <td>15655.000000</td>\n",
       "      <td>12176.000000</td>\n",
       "    </tr>\n",
       "    <tr>\n",
       "      <th>mean</th>\n",
       "      <td>1.823385e+17</td>\n",
       "      <td>2.023031e+13</td>\n",
       "      <td>1.450517e+08</td>\n",
       "      <td>33.219575</td>\n",
       "      <td>47.700569</td>\n",
       "      <td>41.391943</td>\n",
       "      <td>2.167214</td>\n",
       "      <td>3.484510</td>\n",
       "      <td>NaN</td>\n",
       "      <td>1.758511</td>\n",
       "      <td>...</td>\n",
       "      <td>4.581542</td>\n",
       "      <td>4.709420</td>\n",
       "      <td>4.709391</td>\n",
       "      <td>4.747661</td>\n",
       "      <td>4.467860</td>\n",
       "      <td>24.163462</td>\n",
       "      <td>21.142510</td>\n",
       "      <td>2.856404</td>\n",
       "      <td>0.084063</td>\n",
       "      <td>1.299759</td>\n",
       "    </tr>\n",
       "    <tr>\n",
       "      <th>std</th>\n",
       "      <td>3.126641e+17</td>\n",
       "      <td>0.000000e+00</td>\n",
       "      <td>1.555632e+08</td>\n",
       "      <td>75.886992</td>\n",
       "      <td>122.550600</td>\n",
       "      <td>0.013936</td>\n",
       "      <td>0.017259</td>\n",
       "      <td>2.172102</td>\n",
       "      <td>NaN</td>\n",
       "      <td>1.051358</td>\n",
       "      <td>...</td>\n",
       "      <td>0.518338</td>\n",
       "      <td>0.456223</td>\n",
       "      <td>0.467022</td>\n",
       "      <td>0.371416</td>\n",
       "      <td>0.537626</td>\n",
       "      <td>46.168220</td>\n",
       "      <td>45.881018</td>\n",
       "      <td>11.617766</td>\n",
       "      <td>0.789422</td>\n",
       "      <td>1.747771</td>\n",
       "    </tr>\n",
       "    <tr>\n",
       "      <th>min</th>\n",
       "      <td>1.867400e+04</td>\n",
       "      <td>2.023031e+13</td>\n",
       "      <td>3.073000e+03</td>\n",
       "      <td>1.000000</td>\n",
       "      <td>1.000000</td>\n",
       "      <td>41.352608</td>\n",
       "      <td>2.091590</td>\n",
       "      <td>0.000000</td>\n",
       "      <td>NaN</td>\n",
       "      <td>1.000000</td>\n",
       "      <td>...</td>\n",
       "      <td>0.000000</td>\n",
       "      <td>0.000000</td>\n",
       "      <td>0.000000</td>\n",
       "      <td>0.000000</td>\n",
       "      <td>0.000000</td>\n",
       "      <td>1.000000</td>\n",
       "      <td>0.000000</td>\n",
       "      <td>0.000000</td>\n",
       "      <td>0.000000</td>\n",
       "      <td>0.010000</td>\n",
       "    </tr>\n",
       "    <tr>\n",
       "      <th>25%</th>\n",
       "      <td>1.891816e+07</td>\n",
       "      <td>2.023031e+13</td>\n",
       "      <td>9.171437e+06</td>\n",
       "      <td>1.000000</td>\n",
       "      <td>2.000000</td>\n",
       "      <td>41.381040</td>\n",
       "      <td>2.157340</td>\n",
       "      <td>2.000000</td>\n",
       "      <td>NaN</td>\n",
       "      <td>1.000000</td>\n",
       "      <td>...</td>\n",
       "      <td>4.440000</td>\n",
       "      <td>4.640000</td>\n",
       "      <td>4.630000</td>\n",
       "      <td>4.670000</td>\n",
       "      <td>4.310000</td>\n",
       "      <td>1.000000</td>\n",
       "      <td>0.000000</td>\n",
       "      <td>0.000000</td>\n",
       "      <td>0.000000</td>\n",
       "      <td>0.210000</td>\n",
       "    </tr>\n",
       "    <tr>\n",
       "      <th>50%</th>\n",
       "      <td>3.864140e+07</td>\n",
       "      <td>2.023031e+13</td>\n",
       "      <td>7.067177e+07</td>\n",
       "      <td>6.000000</td>\n",
       "      <td>8.000000</td>\n",
       "      <td>41.389740</td>\n",
       "      <td>2.168246</td>\n",
       "      <td>3.000000</td>\n",
       "      <td>NaN</td>\n",
       "      <td>1.000000</td>\n",
       "      <td>...</td>\n",
       "      <td>4.720000</td>\n",
       "      <td>4.850000</td>\n",
       "      <td>4.850000</td>\n",
       "      <td>4.850000</td>\n",
       "      <td>4.580000</td>\n",
       "      <td>5.000000</td>\n",
       "      <td>2.000000</td>\n",
       "      <td>0.000000</td>\n",
       "      <td>0.000000</td>\n",
       "      <td>0.770000</td>\n",
       "    </tr>\n",
       "    <tr>\n",
       "      <th>75%</th>\n",
       "      <td>5.563748e+17</td>\n",
       "      <td>2.023031e+13</td>\n",
       "      <td>2.651478e+08</td>\n",
       "      <td>28.000000</td>\n",
       "      <td>39.000000</td>\n",
       "      <td>41.401295</td>\n",
       "      <td>2.177460</td>\n",
       "      <td>4.000000</td>\n",
       "      <td>NaN</td>\n",
       "      <td>2.000000</td>\n",
       "      <td>...</td>\n",
       "      <td>4.920000</td>\n",
       "      <td>5.000000</td>\n",
       "      <td>5.000000</td>\n",
       "      <td>5.000000</td>\n",
       "      <td>4.790000</td>\n",
       "      <td>23.000000</td>\n",
       "      <td>19.000000</td>\n",
       "      <td>1.000000</td>\n",
       "      <td>0.000000</td>\n",
       "      <td>1.900000</td>\n",
       "    </tr>\n",
       "    <tr>\n",
       "      <th>max</th>\n",
       "      <td>8.462300e+17</td>\n",
       "      <td>2.023031e+13</td>\n",
       "      <td>5.049885e+08</td>\n",
       "      <td>1817.000000</td>\n",
       "      <td>3639.000000</td>\n",
       "      <td>41.459560</td>\n",
       "      <td>2.227710</td>\n",
       "      <td>16.000000</td>\n",
       "      <td>NaN</td>\n",
       "      <td>20.000000</td>\n",
       "      <td>...</td>\n",
       "      <td>5.000000</td>\n",
       "      <td>5.000000</td>\n",
       "      <td>5.000000</td>\n",
       "      <td>5.000000</td>\n",
       "      <td>5.000000</td>\n",
       "      <td>241.000000</td>\n",
       "      <td>241.000000</td>\n",
       "      <td>120.000000</td>\n",
       "      <td>12.000000</td>\n",
       "      <td>47.160000</td>\n",
       "    </tr>\n",
       "  </tbody>\n",
       "</table>\n",
       "<p>8 rows × 39 columns</p>\n",
       "</div>"
      ],
      "text/plain": [
       "                 id     scrape_id       host_id  host_listings_count   \n",
       "count  1.565500e+04  1.565500e+04  1.565500e+04         15653.000000  \\\n",
       "mean   1.823385e+17  2.023031e+13  1.450517e+08            33.219575   \n",
       "std    3.126641e+17  0.000000e+00  1.555632e+08            75.886992   \n",
       "min    1.867400e+04  2.023031e+13  3.073000e+03             1.000000   \n",
       "25%    1.891816e+07  2.023031e+13  9.171437e+06             1.000000   \n",
       "50%    3.864140e+07  2.023031e+13  7.067177e+07             6.000000   \n",
       "75%    5.563748e+17  2.023031e+13  2.651478e+08            28.000000   \n",
       "max    8.462300e+17  2.023031e+13  5.049885e+08          1817.000000   \n",
       "\n",
       "       host_total_listings_count      latitude     longitude  accommodates   \n",
       "count               15653.000000  15655.000000  15655.000000  15655.000000  \\\n",
       "mean                   47.700569     41.391943      2.167214      3.484510   \n",
       "std                   122.550600      0.013936      0.017259      2.172102   \n",
       "min                     1.000000     41.352608      2.091590      0.000000   \n",
       "25%                     2.000000     41.381040      2.157340      2.000000   \n",
       "50%                     8.000000     41.389740      2.168246      3.000000   \n",
       "75%                    39.000000     41.401295      2.177460      4.000000   \n",
       "max                  3639.000000     41.459560      2.227710     16.000000   \n",
       "\n",
       "       bathrooms      bedrooms  ...  review_scores_cleanliness   \n",
       "count        0.0  15098.000000  ...               12089.000000  \\\n",
       "mean         NaN      1.758511  ...                   4.581542   \n",
       "std          NaN      1.051358  ...                   0.518338   \n",
       "min          NaN      1.000000  ...                   0.000000   \n",
       "25%          NaN      1.000000  ...                   4.440000   \n",
       "50%          NaN      1.000000  ...                   4.720000   \n",
       "75%          NaN      2.000000  ...                   4.920000   \n",
       "max          NaN     20.000000  ...                   5.000000   \n",
       "\n",
       "       review_scores_checkin  review_scores_communication   \n",
       "count           12084.000000                 12090.000000  \\\n",
       "mean                4.709420                     4.709391   \n",
       "std                 0.456223                     0.467022   \n",
       "min                 0.000000                     0.000000   \n",
       "25%                 4.640000                     4.630000   \n",
       "50%                 4.850000                     4.850000   \n",
       "75%                 5.000000                     5.000000   \n",
       "max                 5.000000                     5.000000   \n",
       "\n",
       "       review_scores_location  review_scores_value   \n",
       "count            12084.000000         12085.000000  \\\n",
       "mean                 4.747661             4.467860   \n",
       "std                  0.371416             0.537626   \n",
       "min                  0.000000             0.000000   \n",
       "25%                  4.670000             4.310000   \n",
       "50%                  4.850000             4.580000   \n",
       "75%                  5.000000             4.790000   \n",
       "max                  5.000000             5.000000   \n",
       "\n",
       "       calculated_host_listings_count   \n",
       "count                    15655.000000  \\\n",
       "mean                        24.163462   \n",
       "std                         46.168220   \n",
       "min                          1.000000   \n",
       "25%                          1.000000   \n",
       "50%                          5.000000   \n",
       "75%                         23.000000   \n",
       "max                        241.000000   \n",
       "\n",
       "       calculated_host_listings_count_entire_homes   \n",
       "count                                 15655.000000  \\\n",
       "mean                                     21.142510   \n",
       "std                                      45.881018   \n",
       "min                                       0.000000   \n",
       "25%                                       0.000000   \n",
       "50%                                       2.000000   \n",
       "75%                                      19.000000   \n",
       "max                                     241.000000   \n",
       "\n",
       "       calculated_host_listings_count_private_rooms   \n",
       "count                                  15655.000000  \\\n",
       "mean                                       2.856404   \n",
       "std                                       11.617766   \n",
       "min                                        0.000000   \n",
       "25%                                        0.000000   \n",
       "50%                                        0.000000   \n",
       "75%                                        1.000000   \n",
       "max                                      120.000000   \n",
       "\n",
       "       calculated_host_listings_count_shared_rooms  reviews_per_month  \n",
       "count                                 15655.000000       12176.000000  \n",
       "mean                                      0.084063           1.299759  \n",
       "std                                       0.789422           1.747771  \n",
       "min                                       0.000000           0.010000  \n",
       "25%                                       0.000000           0.210000  \n",
       "50%                                       0.000000           0.770000  \n",
       "75%                                       0.000000           1.900000  \n",
       "max                                      12.000000          47.160000  \n",
       "\n",
       "[8 rows x 39 columns]"
      ]
     },
     "execution_count": 9,
     "metadata": {},
     "output_type": "execute_result"
    }
   ],
   "source": [
    "bcn_new.describe()"
   ]
  },
  {
   "cell_type": "code",
   "execution_count": 10,
   "id": "1811dfb3-e004-4e4d-a78d-0aaff715535c",
   "metadata": {
    "tags": []
   },
   "outputs": [
    {
     "data": {
      "text/plain": [
       "id                                                 0\n",
       "listing_url                                        0\n",
       "scrape_id                                          0\n",
       "last_scraped                                       0\n",
       "source                                             0\n",
       "                                                ... \n",
       "calculated_host_listings_count_entire_homes        0\n",
       "calculated_host_listings_count_private_rooms       0\n",
       "calculated_host_listings_count_shared_rooms        0\n",
       "reviews_per_month                               3479\n",
       "host_type                                       4201\n",
       "Length: 76, dtype: int64"
      ]
     },
     "execution_count": 10,
     "metadata": {},
     "output_type": "execute_result"
    }
   ],
   "source": [
    "bcn_new.isnull().sum()"
   ]
  },
  {
   "cell_type": "code",
   "execution_count": 11,
   "id": "ef425e98-ecbf-4afd-8625-bde3149a92fc",
   "metadata": {
    "tags": []
   },
   "outputs": [
    {
     "data": {
      "image/png": "[encoded data removed]",
      "text/plain": [
       "<Figure size 2500x1000 with 2 Axes>"
      ]
     },
     "metadata": {},
     "output_type": "display_data"
    }
   ],
   "source": [
    "import missingno as msno\n",
    "msno.matrix(bcn_new);"
   ]
  },
  {
   "cell_type": "code",
   "execution_count": 12,
   "id": "921c67ad-2d59-4ad2-bb50-cb7f87369abb",
   "metadata": {},
   "outputs": [
    {
     "data": {
      "text/plain": [
       "4813"
      ]
     },
     "execution_count": 12,
     "metadata": {},
     "output_type": "execute_result"
    }
   ],
   "source": [
    "bcn_new['license'].isnull().sum()"
   ]
  },
  {
   "cell_type": "code",
   "execution_count": 13,
   "id": "8e16c6c7-740d-470b-a130-083b8d02d708",
   "metadata": {
    "tags": []
   },
   "outputs": [
    {
     "data": {
      "text/plain": [
       "0        False\n",
       "1        False\n",
       "2        False\n",
       "3        False\n",
       "4         True\n",
       "         ...  \n",
       "15650    False\n",
       "15651     True\n",
       "15652    False\n",
       "15653    False\n",
       "15654     True\n",
       "Name: license, Length: 15655, dtype: bool"
      ]
     },
     "execution_count": 13,
     "metadata": {},
     "output_type": "execute_result"
    }
   ],
   "source": [
    "bcn_new['license'].duplicated()"
   ]
  },
  {
   "cell_type": "code",
   "execution_count": 14,
   "id": "bd62a207-c98d-4d23-8564-8a6c4cd8bbe7",
   "metadata": {
    "tags": []
   },
   "outputs": [
    {
     "data": {
      "text/plain": [
       "Index(['id', 'listing_url', 'scrape_id', 'last_scraped', 'source', 'name',\n",
       "       'description', 'neighborhood_overview', 'picture_url', 'host_id',\n",
       "       'host_url', 'host_name', 'host_since', 'host_location', 'host_about',\n",
       "       'host_response_time', 'host_response_rate', 'host_acceptance_rate',\n",
       "       'host_is_superhost', 'host_thumbnail_url', 'host_picture_url',\n",
       "       'host_neighbourhood', 'host_listings_count',\n",
       "       'host_total_listings_count', 'host_verifications',\n",
       "       'host_has_profile_pic', 'host_identity_verified', 'neighbourhood',\n",
       "       'neighbourhood_cleansed', 'neighbourhood_group_cleansed', 'latitude',\n",
       "       'longitude', 'property_type', 'room_type', 'accommodates', 'bathrooms',\n",
       "       'bathrooms_text', 'bedrooms', 'beds', 'amenities', 'price',\n",
       "       'minimum_nights', 'maximum_nights', 'minimum_minimum_nights',\n",
       "       'maximum_minimum_nights', 'minimum_maximum_nights',\n",
       "       'maximum_maximum_nights', 'minimum_nights_avg_ntm',\n",
       "       'maximum_nights_avg_ntm', 'calendar_updated', 'has_availability',\n",
       "       'availability_30', 'availability_60', 'availability_90',\n",
       "       'availability_365', 'calendar_last_scraped', 'number_of_reviews',\n",
       "       'number_of_reviews_ltm', 'number_of_reviews_l30d', 'first_review',\n",
       "       'last_review', 'review_scores_rating', 'review_scores_accuracy',\n",
       "       'review_scores_cleanliness', 'review_scores_checkin',\n",
       "       'review_scores_communication', 'review_scores_location',\n",
       "       'review_scores_value', 'license', 'instant_bookable',\n",
       "       'calculated_host_listings_count',\n",
       "       'calculated_host_listings_count_entire_homes',\n",
       "       'calculated_host_listings_count_private_rooms',\n",
       "       'calculated_host_listings_count_shared_rooms', 'reviews_per_month',\n",
       "       'host_type'],\n",
       "      dtype='object')"
      ]
     },
     "execution_count": 14,
     "metadata": {},
     "output_type": "execute_result"
    }
   ],
   "source": [
    "bcn_new.columns"
   ]
  },
  {
   "cell_type": "code",
   "execution_count": 15,
   "id": "ad37f524-4bc8-4126-adb0-a8bfbfe705dd",
   "metadata": {
    "tags": []
   },
   "outputs": [
    {
     "data": {
      "text/html": [
       "<div>\n",
       "<style scoped>\n",
       "    .dataframe tbody tr th:only-of-type {\n",
       "        vertical-align: middle;\n",
       "    }\n",
       "\n",
       "    .dataframe tbody tr th {\n",
       "        vertical-align: top;\n",
       "    }\n",
       "\n",
       "    .dataframe thead th {\n",
       "        text-align: right;\n",
       "    }\n",
       "</style>\n",
       "<table border=\"1\" class=\"dataframe\">\n",
       "  <thead>\n",
       "    <tr style=\"text-align: right;\">\n",
       "      <th></th>\n",
       "      <th>listing_url</th>\n",
       "      <th>host_listings_count</th>\n",
       "      <th>host_total_listings_count</th>\n",
       "    </tr>\n",
       "  </thead>\n",
       "  <tbody>\n",
       "    <tr>\n",
       "      <th>0</th>\n",
       "      <td>https://www.airbnb.com/rooms/13977576</td>\n",
       "      <td>1.0</td>\n",
       "      <td>1.0</td>\n",
       "    </tr>\n",
       "    <tr>\n",
       "      <th>1</th>\n",
       "      <td>https://www.airbnb.com/rooms/42105584</td>\n",
       "      <td>1.0</td>\n",
       "      <td>2.0</td>\n",
       "    </tr>\n",
       "    <tr>\n",
       "      <th>2</th>\n",
       "      <td>https://www.airbnb.com/rooms/33727898</td>\n",
       "      <td>4.0</td>\n",
       "      <td>4.0</td>\n",
       "    </tr>\n",
       "    <tr>\n",
       "      <th>3</th>\n",
       "      <td>https://www.airbnb.com/rooms/44995311</td>\n",
       "      <td>7.0</td>\n",
       "      <td>8.0</td>\n",
       "    </tr>\n",
       "    <tr>\n",
       "      <th>4</th>\n",
       "      <td>https://www.airbnb.com/rooms/15763812</td>\n",
       "      <td>1.0</td>\n",
       "      <td>2.0</td>\n",
       "    </tr>\n",
       "    <tr>\n",
       "      <th>5</th>\n",
       "      <td>https://www.airbnb.com/rooms/803393140432518554</td>\n",
       "      <td>9.0</td>\n",
       "      <td>17.0</td>\n",
       "    </tr>\n",
       "    <tr>\n",
       "      <th>6</th>\n",
       "      <td>https://www.airbnb.com/rooms/780199485511285785</td>\n",
       "      <td>3.0</td>\n",
       "      <td>6.0</td>\n",
       "    </tr>\n",
       "    <tr>\n",
       "      <th>7</th>\n",
       "      <td>https://www.airbnb.com/rooms/838145051667285647</td>\n",
       "      <td>43.0</td>\n",
       "      <td>64.0</td>\n",
       "    </tr>\n",
       "    <tr>\n",
       "      <th>8</th>\n",
       "      <td>https://www.airbnb.com/rooms/38091474</td>\n",
       "      <td>119.0</td>\n",
       "      <td>163.0</td>\n",
       "    </tr>\n",
       "    <tr>\n",
       "      <th>9</th>\n",
       "      <td>https://www.airbnb.com/rooms/23035068</td>\n",
       "      <td>1.0</td>\n",
       "      <td>1.0</td>\n",
       "    </tr>\n",
       "    <tr>\n",
       "      <th>10</th>\n",
       "      <td>https://www.airbnb.com/rooms/563588511729472297</td>\n",
       "      <td>120.0</td>\n",
       "      <td>121.0</td>\n",
       "    </tr>\n",
       "    <tr>\n",
       "      <th>11</th>\n",
       "      <td>https://www.airbnb.com/rooms/731044538005221854</td>\n",
       "      <td>36.0</td>\n",
       "      <td>58.0</td>\n",
       "    </tr>\n",
       "    <tr>\n",
       "      <th>12</th>\n",
       "      <td>https://www.airbnb.com/rooms/42703123</td>\n",
       "      <td>1.0</td>\n",
       "      <td>2.0</td>\n",
       "    </tr>\n",
       "    <tr>\n",
       "      <th>13</th>\n",
       "      <td>https://www.airbnb.com/rooms/51444586</td>\n",
       "      <td>1.0</td>\n",
       "      <td>4.0</td>\n",
       "    </tr>\n",
       "    <tr>\n",
       "      <th>14</th>\n",
       "      <td>https://www.airbnb.com/rooms/832581313850426046</td>\n",
       "      <td>1.0</td>\n",
       "      <td>1.0</td>\n",
       "    </tr>\n",
       "    <tr>\n",
       "      <th>15</th>\n",
       "      <td>https://www.airbnb.com/rooms/46524035</td>\n",
       "      <td>125.0</td>\n",
       "      <td>134.0</td>\n",
       "    </tr>\n",
       "    <tr>\n",
       "      <th>16</th>\n",
       "      <td>https://www.airbnb.com/rooms/39183867</td>\n",
       "      <td>36.0</td>\n",
       "      <td>47.0</td>\n",
       "    </tr>\n",
       "    <tr>\n",
       "      <th>17</th>\n",
       "      <td>https://www.airbnb.com/rooms/4274290</td>\n",
       "      <td>7.0</td>\n",
       "      <td>11.0</td>\n",
       "    </tr>\n",
       "    <tr>\n",
       "      <th>18</th>\n",
       "      <td>https://www.airbnb.com/rooms/50303247</td>\n",
       "      <td>119.0</td>\n",
       "      <td>163.0</td>\n",
       "    </tr>\n",
       "    <tr>\n",
       "      <th>19</th>\n",
       "      <td>https://www.airbnb.com/rooms/19536692</td>\n",
       "      <td>32.0</td>\n",
       "      <td>54.0</td>\n",
       "    </tr>\n",
       "    <tr>\n",
       "      <th>20</th>\n",
       "      <td>https://www.airbnb.com/rooms/14941403</td>\n",
       "      <td>15.0</td>\n",
       "      <td>16.0</td>\n",
       "    </tr>\n",
       "    <tr>\n",
       "      <th>21</th>\n",
       "      <td>https://www.airbnb.com/rooms/39747175</td>\n",
       "      <td>100.0</td>\n",
       "      <td>154.0</td>\n",
       "    </tr>\n",
       "    <tr>\n",
       "      <th>22</th>\n",
       "      <td>https://www.airbnb.com/rooms/826058899941662636</td>\n",
       "      <td>121.0</td>\n",
       "      <td>412.0</td>\n",
       "    </tr>\n",
       "    <tr>\n",
       "      <th>23</th>\n",
       "      <td>https://www.airbnb.com/rooms/26813253</td>\n",
       "      <td>45.0</td>\n",
       "      <td>65.0</td>\n",
       "    </tr>\n",
       "    <tr>\n",
       "      <th>24</th>\n",
       "      <td>https://www.airbnb.com/rooms/597647849805927508</td>\n",
       "      <td>7.0</td>\n",
       "      <td>7.0</td>\n",
       "    </tr>\n",
       "    <tr>\n",
       "      <th>25</th>\n",
       "      <td>https://www.airbnb.com/rooms/49333438</td>\n",
       "      <td>11.0</td>\n",
       "      <td>31.0</td>\n",
       "    </tr>\n",
       "    <tr>\n",
       "      <th>26</th>\n",
       "      <td>https://www.airbnb.com/rooms/673959383128736800</td>\n",
       "      <td>2.0</td>\n",
       "      <td>4.0</td>\n",
       "    </tr>\n",
       "    <tr>\n",
       "      <th>27</th>\n",
       "      <td>https://www.airbnb.com/rooms/50862112</td>\n",
       "      <td>89.0</td>\n",
       "      <td>116.0</td>\n",
       "    </tr>\n",
       "    <tr>\n",
       "      <th>28</th>\n",
       "      <td>https://www.airbnb.com/rooms/839793344150209203</td>\n",
       "      <td>18.0</td>\n",
       "      <td>81.0</td>\n",
       "    </tr>\n",
       "    <tr>\n",
       "      <th>29</th>\n",
       "      <td>https://www.airbnb.com/rooms/563538751160608752</td>\n",
       "      <td>120.0</td>\n",
       "      <td>121.0</td>\n",
       "    </tr>\n",
       "  </tbody>\n",
       "</table>\n",
       "</div>"
      ],
      "text/plain": [
       "                                        listing_url  host_listings_count   \n",
       "0             https://www.airbnb.com/rooms/13977576                  1.0  \\\n",
       "1             https://www.airbnb.com/rooms/42105584                  1.0   \n",
       "2             https://www.airbnb.com/rooms/33727898                  4.0   \n",
       "3             https://www.airbnb.com/rooms/44995311                  7.0   \n",
       "4             https://www.airbnb.com/rooms/15763812                  1.0   \n",
       "5   https://www.airbnb.com/rooms/803393140432518554                  9.0   \n",
       "6   https://www.airbnb.com/rooms/780199485511285785                  3.0   \n",
       "7   https://www.airbnb.com/rooms/838145051667285647                 43.0   \n",
       "8             https://www.airbnb.com/rooms/38091474                119.0   \n",
       "9             https://www.airbnb.com/rooms/23035068                  1.0   \n",
       "10  https://www.airbnb.com/rooms/563588511729472297                120.0   \n",
       "11  https://www.airbnb.com/rooms/731044538005221854                 36.0   \n",
       "12            https://www.airbnb.com/rooms/42703123                  1.0   \n",
       "13            https://www.airbnb.com/rooms/51444586                  1.0   \n",
       "14  https://www.airbnb.com/rooms/832581313850426046                  1.0   \n",
       "15            https://www.airbnb.com/rooms/46524035                125.0   \n",
       "16            https://www.airbnb.com/rooms/39183867                 36.0   \n",
       "17             https://www.airbnb.com/rooms/4274290                  7.0   \n",
       "18            https://www.airbnb.com/rooms/50303247                119.0   \n",
       "19            https://www.airbnb.com/rooms/19536692                 32.0   \n",
       "20            https://www.airbnb.com/rooms/14941403                 15.0   \n",
       "21            https://www.airbnb.com/rooms/39747175                100.0   \n",
       "22  https://www.airbnb.com/rooms/826058899941662636                121.0   \n",
       "23            https://www.airbnb.com/rooms/26813253                 45.0   \n",
       "24  https://www.airbnb.com/rooms/597647849805927508                  7.0   \n",
       "25            https://www.airbnb.com/rooms/49333438                 11.0   \n",
       "26  https://www.airbnb.com/rooms/673959383128736800                  2.0   \n",
       "27            https://www.airbnb.com/rooms/50862112                 89.0   \n",
       "28  https://www.airbnb.com/rooms/839793344150209203                 18.0   \n",
       "29  https://www.airbnb.com/rooms/563538751160608752                120.0   \n",
       "\n",
       "    host_total_listings_count  \n",
       "0                         1.0  \n",
       "1                         2.0  \n",
       "2                         4.0  \n",
       "3                         8.0  \n",
       "4                         2.0  \n",
       "5                        17.0  \n",
       "6                         6.0  \n",
       "7                        64.0  \n",
       "8                       163.0  \n",
       "9                         1.0  \n",
       "10                      121.0  \n",
       "11                       58.0  \n",
       "12                        2.0  \n",
       "13                        4.0  \n",
       "14                        1.0  \n",
       "15                      134.0  \n",
       "16                       47.0  \n",
       "17                       11.0  \n",
       "18                      163.0  \n",
       "19                       54.0  \n",
       "20                       16.0  \n",
       "21                      154.0  \n",
       "22                      412.0  \n",
       "23                       65.0  \n",
       "24                        7.0  \n",
       "25                       31.0  \n",
       "26                        4.0  \n",
       "27                      116.0  \n",
       "28                       81.0  \n",
       "29                      121.0  "
      ]
     },
     "execution_count": 15,
     "metadata": {},
     "output_type": "execute_result"
    }
   ],
   "source": [
    "bcn_new[['listing_url', 'host_listings_count', 'host_total_listings_count']].head(30)"
   ]
  },
  {
   "cell_type": "code",
   "execution_count": 16,
   "id": "eef17f2d-b06f-4b97-9fc2-af362455f649",
   "metadata": {
    "tags": []
   },
   "outputs": [],
   "source": [
    "# drop some irrelevant or redundant colums\n",
    "bcn = bcn_new.drop(['scrape_id', 'last_scraped', 'source', 'description', 'neighborhood_overview', 'picture_url', 'host_listings_count', 'host_total_listings_count', 'host_about', 'host_thumbnail_url', 'host_picture_url', 'calendar_last_scraped', 'neighbourhood',\n",
    "       'neighbourhood_cleansed', ], axis=1)"
   ]
  },
  {
   "cell_type": "code",
   "execution_count": 17,
   "id": "7fac1367-fbf8-49f8-b144-b2159c5fcee1",
   "metadata": {
    "tags": []
   },
   "outputs": [],
   "source": [
    "# drop bathrooms column since it only contains NaN values\n",
    "bcn = bcn.drop(['bathrooms', 'calendar_updated'], axis=1)"
   ]
  },
  {
   "cell_type": "code",
   "execution_count": 18,
   "id": "480505c0-0d68-4e19-8721-cc3d4f47e8c4",
   "metadata": {
    "tags": []
   },
   "outputs": [
    {
     "data": {
      "text/plain": [
       "Index(['id', 'listing_url', 'name', 'host_id', 'host_url', 'host_name',\n",
       "       'host_since', 'host_location', 'host_response_time',\n",
       "       'host_response_rate', 'host_acceptance_rate', 'host_is_superhost',\n",
       "       'host_neighbourhood', 'host_verifications', 'host_has_profile_pic',\n",
       "       'host_identity_verified', 'neighbourhood_group_cleansed', 'latitude',\n",
       "       'longitude', 'property_type', 'room_type', 'accommodates',\n",
       "       'bathrooms_text', 'bedrooms', 'beds', 'amenities', 'price',\n",
       "       'minimum_nights', 'maximum_nights', 'minimum_minimum_nights',\n",
       "       'maximum_minimum_nights', 'minimum_maximum_nights',\n",
       "       'maximum_maximum_nights', 'minimum_nights_avg_ntm',\n",
       "       'maximum_nights_avg_ntm', 'has_availability', 'availability_30',\n",
       "       'availability_60', 'availability_90', 'availability_365',\n",
       "       'number_of_reviews', 'number_of_reviews_ltm', 'number_of_reviews_l30d',\n",
       "       'first_review', 'last_review', 'review_scores_rating',\n",
       "       'review_scores_accuracy', 'review_scores_cleanliness',\n",
       "       'review_scores_checkin', 'review_scores_communication',\n",
       "       'review_scores_location', 'review_scores_value', 'license',\n",
       "       'instant_bookable', 'calculated_host_listings_count',\n",
       "       'calculated_host_listings_count_entire_homes',\n",
       "       'calculated_host_listings_count_private_rooms',\n",
       "       'calculated_host_listings_count_shared_rooms', 'reviews_per_month',\n",
       "       'host_type'],\n",
       "      dtype='object')"
      ]
     },
     "execution_count": 18,
     "metadata": {},
     "output_type": "execute_result"
    }
   ],
   "source": [
    "bcn.columns"
   ]
  },
  {
   "cell_type": "code",
   "execution_count": 19,
   "id": "1a54a7d7-80b7-4a49-8657-737f57967fa1",
   "metadata": {
    "tags": []
   },
   "outputs": [
    {
     "data": {
      "text/plain": [
       "bathrooms_text\n",
       "1 bath               6336\n",
       "2 baths              2914\n",
       "1 shared bath        2543\n",
       "1 private bath       1285\n",
       "1.5 baths             713\n",
       "1.5 shared baths      577\n",
       "2 shared baths        447\n",
       "3 baths               231\n",
       "2.5 baths             127\n",
       "4 baths                86\n",
       "2.5 shared baths       65\n",
       "0 shared baths         64\n",
       "3 shared baths         47\n",
       "3.5 baths              28\n",
       "5 baths                28\n",
       "0 baths                26\n",
       "Half-bath              16\n",
       "11 shared baths        14\n",
       "3.5 shared baths       14\n",
       "6 baths                12\n",
       "5 shared baths         12\n",
       "4.5 baths              11\n",
       "Shared half-bath       11\n",
       "4 shared baths         10\n",
       "5.5 baths               7\n",
       "Private half-bath       4\n",
       "8 baths                 3\n",
       "7 shared baths          3\n",
       "7.5 baths               2\n",
       "5.5 shared baths        2\n",
       "6 shared baths          2\n",
       "10 shared baths         2\n",
       "8 shared baths          1\n",
       "7.5 shared baths        1\n",
       "13 shared baths         1\n",
       "12 shared baths         1\n",
       "10 baths                1\n",
       "Name: count, dtype: int64"
      ]
     },
     "execution_count": 19,
     "metadata": {},
     "output_type": "execute_result"
    }
   ],
   "source": [
    "bcn['bathrooms_text'].value_counts()"
   ]
  },
  {
   "cell_type": "code",
   "execution_count": 20,
   "id": "647fd2e6-892e-4818-87eb-9dbaa4685be6",
   "metadata": {
    "tags": []
   },
   "outputs": [
    {
     "data": {
      "text/plain": [
       "8"
      ]
     },
     "execution_count": 20,
     "metadata": {},
     "output_type": "execute_result"
    }
   ],
   "source": [
    "bcn['bathrooms_text'].isnull().sum()"
   ]
  },
  {
   "cell_type": "code",
   "execution_count": 21,
   "id": "d4bb2e49-2f5b-422e-a1d8-492eb87abd32",
   "metadata": {
    "tags": []
   },
   "outputs": [],
   "source": [
    "bcn['price'] = bcn['price'].str[1:]"
   ]
  },
  {
   "cell_type": "code",
   "execution_count": 22,
   "id": "c0e7870f-a26f-41c9-bf6f-75f24ed2637a",
   "metadata": {
    "tags": []
   },
   "outputs": [],
   "source": [
    "bcn['price'] = bcn['price'].str.replace(',','')"
   ]
  },
  {
   "cell_type": "code",
   "execution_count": 23,
   "id": "ddd53441-3c17-4030-8b0d-30e06de4e809",
   "metadata": {
    "tags": []
   },
   "outputs": [],
   "source": [
    "bcn['price'] = pd.to_numeric(bcn['price'])"
   ]
  },
  {
   "cell_type": "code",
   "execution_count": 24,
   "id": "14261191-29e1-4951-8f13-96a29d333730",
   "metadata": {
    "tags": []
   },
   "outputs": [
    {
     "data": {
      "text/plain": [
       "count    15655.000000\n",
       "mean       155.644011\n",
       "std        966.108173\n",
       "min          0.000000\n",
       "25%         50.000000\n",
       "50%         99.000000\n",
       "75%        164.000000\n",
       "max      90000.000000\n",
       "Name: price, dtype: float64"
      ]
     },
     "execution_count": 24,
     "metadata": {},
     "output_type": "execute_result"
    }
   ],
   "source": [
    "bcn['price'].describe()"
   ]
  },
  {
   "cell_type": "code",
   "execution_count": 25,
   "id": "d801670e-95d5-41cd-9aac-cb42d2ca21bd",
   "metadata": {
    "tags": []
   },
   "outputs": [
    {
     "data": {
      "text/plain": [
       "<Axes: >"
      ]
     },
     "execution_count": 25,
     "metadata": {},
     "output_type": "execute_result"
    },
    {
     "data": {
      "image/png": "[encoded data removed]",
      "text/plain": [
       "<Figure size 640x480 with 1 Axes>"
      ]
     },
     "metadata": {},
     "output_type": "display_data"
    }
   ],
   "source": [
    "# check for outliers\n",
    "bcn.boxplot(column='price')"
   ]
  },
  {
   "cell_type": "code",
   "execution_count": 26,
   "id": "64293529-7f76-49f8-a97c-711a8896d9d6",
   "metadata": {
    "tags": []
   },
   "outputs": [],
   "source": [
    "# remove outliers with IQR method\n",
    "\n",
    "for x in ['price']:\n",
    "    q75, q25 = np.percentile(bcn.loc[:,x],[75,25])\n",
    "    intr_qr = q75-q25\n",
    "    maxp = q75+(1.5*intr_qr)\n",
    "    minp = q25-(1.5*intr_qr)\n",
    "    \n",
    "    bcn.loc[bcn[x] < minp,x] = np.nan\n",
    "    bcn.loc[bcn[x] > maxp,x] = np.nan\n",
    "    \n",
    "bcn['price'].isnull().sum()\n",
    "bcn['price'] = bcn['price'].dropna(axis=0)"
   ]
  },
  {
   "cell_type": "code",
   "execution_count": 27,
   "id": "53318aba-6730-4eb3-b3a2-665b34d2604e",
   "metadata": {
    "tags": []
   },
   "outputs": [],
   "source": [
    "bcn = bcn[bcn.price.notnull()]"
   ]
  },
  {
   "cell_type": "code",
   "execution_count": 28,
   "id": "f4543e67-1bd4-4fe5-8582-de0d92a3f326",
   "metadata": {
    "tags": []
   },
   "outputs": [
    {
     "name": "stdout",
     "output_type": "stream",
     "text": [
      "<class 'pandas.core.frame.DataFrame'>\n",
      "Index: 14779 entries, 0 to 15654\n",
      "Data columns (total 60 columns):\n",
      " #   Column                                        Non-Null Count  Dtype  \n",
      "---  ------                                        --------------  -----  \n",
      " 0   id                                            14779 non-null  int64  \n",
      " 1   listing_url                                   14779 non-null  object \n",
      " 2   name                                          14770 non-null  object \n",
      " 3   host_id                                       14779 non-null  int64  \n",
      " 4   host_url                                      14779 non-null  object \n",
      " 5   host_name                                     14777 non-null  object \n",
      " 6   host_since                                    14777 non-null  object \n",
      " 7   host_location                                 11464 non-null  object \n",
      " 8   host_response_time                            11879 non-null  object \n",
      " 9   host_response_rate                            11879 non-null  object \n",
      " 10  host_acceptance_rate                          12325 non-null  object \n",
      " 11  host_is_superhost                             14778 non-null  object \n",
      " 12  host_neighbourhood                            8544 non-null   object \n",
      " 13  host_verifications                            14777 non-null  object \n",
      " 14  host_has_profile_pic                          14777 non-null  object \n",
      " 15  host_identity_verified                        14777 non-null  object \n",
      " 16  neighbourhood_group_cleansed                  14779 non-null  object \n",
      " 17  latitude                                      14779 non-null  float64\n",
      " 18  longitude                                     14779 non-null  float64\n",
      " 19  property_type                                 14779 non-null  object \n",
      " 20  room_type                                     14779 non-null  object \n",
      " 21  accommodates                                  14779 non-null  int64  \n",
      " 22  bathrooms_text                                14771 non-null  object \n",
      " 23  bedrooms                                      14250 non-null  float64\n",
      " 24  beds                                          14514 non-null  float64\n",
      " 25  amenities                                     14779 non-null  object \n",
      " 26  price                                         14779 non-null  float64\n",
      " 27  minimum_nights                                14779 non-null  int64  \n",
      " 28  maximum_nights                                14779 non-null  int64  \n",
      " 29  minimum_minimum_nights                        14778 non-null  float64\n",
      " 30  maximum_minimum_nights                        14778 non-null  float64\n",
      " 31  minimum_maximum_nights                        14778 non-null  float64\n",
      " 32  maximum_maximum_nights                        14778 non-null  float64\n",
      " 33  minimum_nights_avg_ntm                        14778 non-null  float64\n",
      " 34  maximum_nights_avg_ntm                        14778 non-null  float64\n",
      " 35  has_availability                              14779 non-null  object \n",
      " 36  availability_30                               14779 non-null  int64  \n",
      " 37  availability_60                               14779 non-null  int64  \n",
      " 38  availability_90                               14779 non-null  int64  \n",
      " 39  availability_365                              14779 non-null  int64  \n",
      " 40  number_of_reviews                             14779 non-null  int64  \n",
      " 41  number_of_reviews_ltm                         14779 non-null  int64  \n",
      " 42  number_of_reviews_l30d                        14779 non-null  int64  \n",
      " 43  first_review                                  11517 non-null  object \n",
      " 44  last_review                                   11517 non-null  object \n",
      " 45  review_scores_rating                          11517 non-null  float64\n",
      " 46  review_scores_accuracy                        11431 non-null  float64\n",
      " 47  review_scores_cleanliness                     11432 non-null  float64\n",
      " 48  review_scores_checkin                         11427 non-null  float64\n",
      " 49  review_scores_communication                   11433 non-null  float64\n",
      " 50  review_scores_location                        11427 non-null  float64\n",
      " 51  review_scores_value                           11428 non-null  float64\n",
      " 52  license                                       10072 non-null  object \n",
      " 53  instant_bookable                              14779 non-null  object \n",
      " 54  calculated_host_listings_count                14779 non-null  int64  \n",
      " 55  calculated_host_listings_count_entire_homes   14779 non-null  int64  \n",
      " 56  calculated_host_listings_count_private_rooms  14779 non-null  int64  \n",
      " 57  calculated_host_listings_count_shared_rooms   14779 non-null  int64  \n",
      " 58  reviews_per_month                             11517 non-null  float64\n",
      " 59  host_type                                     10824 non-null  object \n",
      "dtypes: float64(19), int64(16), object(25)\n",
      "memory usage: 6.9+ MB\n"
     ]
    }
   ],
   "source": [
    "bcn.info()"
   ]
  },
  {
   "cell_type": "code",
   "execution_count": 29,
   "id": "ad0c2251-b514-4b48-ba50-36bd447e8e42",
   "metadata": {
    "tags": []
   },
   "outputs": [
    {
     "data": {
      "text/plain": [
       "<seaborn.axisgrid.FacetGrid at 0x16e541400>"
      ]
     },
     "execution_count": 29,
     "metadata": {},
     "output_type": "execute_result"
    },
    {
     "data": {
      "image/png": "[encoded data removed]",
      "text/plain": [
       "<Figure size 696x500 with 1 Axes>"
      ]
     },
     "metadata": {},
     "output_type": "display_data"
    }
   ],
   "source": [
    "# plot distribution\n",
    "sns.set(style=\"darkgrid\", font_scale=1.2)\n",
    "sns.displot(data=bcn, x=\"price\", hue='room_type', kind='hist')"
   ]
  },
  {
   "cell_type": "code",
   "execution_count": 30,
   "id": "e09904d0-7570-49ec-97ee-cd9674baddff",
   "metadata": {
    "tags": []
   },
   "outputs": [
    {
     "data": {
      "text/plain": [
       "<Axes: ylabel='neighbourhood_group_cleansed'>"
      ]
     },
     "execution_count": 30,
     "metadata": {},
     "output_type": "execute_result"
    },
    {
     "data": {
      "image/png": "[encoded data removed]",
      "text/plain": [
       "<Figure size 640x480 with 1 Axes>"
      ]
     },
     "metadata": {},
     "output_type": "display_data"
    }
   ],
   "source": [
    "bcn['neighbourhood_group_cleansed'].value_counts(normalize=True).sort_values(ascending=False).plot(kind='barh')"
   ]
  },
  {
   "cell_type": "code",
   "execution_count": 31,
   "id": "00518582-ca10-452e-bcff-b1843e133bb2",
   "metadata": {
    "tags": []
   },
   "outputs": [
    {
     "data": {
      "text/plain": [
       "<Axes: ylabel='room_type'>"
      ]
     },
     "execution_count": 31,
     "metadata": {},
     "output_type": "execute_result"
    },
    {
     "data": {
      "image/png": "[encoded data removed]",
      "text/plain": [
       "<Figure size 640x480 with 1 Axes>"
      ]
     },
     "metadata": {},
     "output_type": "display_data"
    }
   ],
   "source": [
    "bcn['room_type'].value_counts(normalize=True).sort_values(ascending=False).plot(kind='barh')"
   ]
  },
  {
   "cell_type": "code",
   "execution_count": 32,
   "id": "7e1485f1-56b7-468d-beb9-4dffb1ae6c76",
   "metadata": {
    "tags": []
   },
   "outputs": [],
   "source": [
    "duplicate_license = bcn[bcn.duplicated('license', keep=False)].copy()\n",
    "duplicate_license = duplicate_license['license'].dropna()\n",
    "duplicate_license_array = duplicate_license.unique()\n",
    "arr = duplicate_license_array[duplicate_license_array != 'Exempt']"
   ]
  },
  {
   "cell_type": "code",
   "execution_count": 33,
   "id": "67467034-36df-4bca-8f53-8ca6c8a2e0a5",
   "metadata": {
    "tags": []
   },
   "outputs": [],
   "source": [
    "def license_duplicates(array):\n",
    "    new_arr = []\n",
    "    for license in array:\n",
    "        if 'HUTB' in license:\n",
    "            new_arr.append(license)\n",
    "        elif 'HB' in license:\n",
    "            new_arr.append(license)\n",
    "        elif 'AJ' in license:\n",
    "            new_arr.append(license)\n",
    "    return new_arr"
   ]
  },
  {
   "cell_type": "code",
   "execution_count": 34,
   "id": "d40e7a78-9fda-45fe-acab-48d1239cc9aa",
   "metadata": {
    "tags": []
   },
   "outputs": [],
   "source": [
    "license_duplicates = license_duplicates(arr)"
   ]
  },
  {
   "cell_type": "code",
   "execution_count": 35,
   "id": "b2e3503d-b171-42c3-acdd-96908b55fbda",
   "metadata": {
    "tags": []
   },
   "outputs": [],
   "source": [
    "bcn['license'] = bcn['license'].fillna('no license')"
   ]
  },
  {
   "cell_type": "code",
   "execution_count": 36,
   "id": "3136b1d9-4c35-479d-a573-49f2542c119c",
   "metadata": {
    "tags": []
   },
   "outputs": [],
   "source": [
    "def is_valid_license(license):\n",
    "    if license in license_duplicates:\n",
    "        return 'reuse'\n",
    "    if 'HUTB' in license:\n",
    "        return 'ok'\n",
    "    if 'HB' in license:\n",
    "        return 'ok'\n",
    "    if 'AJ' in license:\n",
    "        return 'ok'\n",
    "    elif 'exempt' in license.lower():\n",
    "        return 'claims exempt'\n",
    "    else:\n",
    "        return 'no license'"
   ]
  },
  {
   "cell_type": "code",
   "execution_count": 37,
   "id": "c8bb18ce-167f-4786-aa2b-8a854ee2145d",
   "metadata": {
    "tags": []
   },
   "outputs": [],
   "source": [
    "bcn['status_license'] = bcn.apply(lambda row: is_valid_license(row['license']), axis=1)"
   ]
  },
  {
   "cell_type": "code",
   "execution_count": 38,
   "id": "4c3fddc7-d4d6-4928-ad38-a7609ed4b687",
   "metadata": {
    "tags": []
   },
   "outputs": [],
   "source": [
    "def multi_listings(listings):\n",
    "    if listings == 1:\n",
    "        return 'single listing'\n",
    "    if listings > 1 and listings < 4:\n",
    "        return '2-3 listings'\n",
    "    if listings > 3 and listings < 6:\n",
    "        return '4-5 listings'\n",
    "    if listings > 5 and listings < 10:\n",
    "        return '6-9 listings'\n",
    "    if listings > 9 and listings < 20:\n",
    "        return '10-19 listings'\n",
    "    if listings > 19 and listings < 50:\n",
    "        return '20-49 listings'\n",
    "    if listings > 49:\n",
    "        return '50 or more listings'"
   ]
  },
  {
   "cell_type": "code",
   "execution_count": 39,
   "id": "b6c6c1d1-40b1-4bbc-a867-b58611b8e47a",
   "metadata": {
    "tags": []
   },
   "outputs": [],
   "source": [
    "bcn['total_listings'] = bcn.groupby('host_id')['id'].transform('size')"
   ]
  },
  {
   "cell_type": "code",
   "execution_count": 40,
   "id": "34e4afee-9f80-4df6-9ccb-781b84884a2d",
   "metadata": {
    "tags": []
   },
   "outputs": [],
   "source": [
    "bcn['multi_listings'] = bcn.apply(lambda row: multi_listings(row['total_listings']), axis=1)"
   ]
  },
  {
   "cell_type": "code",
   "execution_count": 41,
   "id": "58628fea-4e11-464d-b385-74cd3dbfc63c",
   "metadata": {
    "tags": []
   },
   "outputs": [
    {
     "data": {
      "text/html": [
       "<div>\n",
       "<style scoped>\n",
       "    .dataframe tbody tr th:only-of-type {\n",
       "        vertical-align: middle;\n",
       "    }\n",
       "\n",
       "    .dataframe tbody tr th {\n",
       "        vertical-align: top;\n",
       "    }\n",
       "\n",
       "    .dataframe thead th {\n",
       "        text-align: right;\n",
       "    }\n",
       "</style>\n",
       "<table border=\"1\" class=\"dataframe\">\n",
       "  <thead>\n",
       "    <tr style=\"text-align: right;\">\n",
       "      <th></th>\n",
       "      <th>id</th>\n",
       "      <th>listing_url</th>\n",
       "      <th>name</th>\n",
       "      <th>host_id</th>\n",
       "      <th>host_url</th>\n",
       "      <th>host_name</th>\n",
       "      <th>host_since</th>\n",
       "      <th>host_location</th>\n",
       "      <th>host_response_time</th>\n",
       "      <th>host_response_rate</th>\n",
       "      <th>...</th>\n",
       "      <th>instant_bookable</th>\n",
       "      <th>calculated_host_listings_count</th>\n",
       "      <th>calculated_host_listings_count_entire_homes</th>\n",
       "      <th>calculated_host_listings_count_private_rooms</th>\n",
       "      <th>calculated_host_listings_count_shared_rooms</th>\n",
       "      <th>reviews_per_month</th>\n",
       "      <th>host_type</th>\n",
       "      <th>status_license</th>\n",
       "      <th>total_listings</th>\n",
       "      <th>multi_listings</th>\n",
       "    </tr>\n",
       "  </thead>\n",
       "  <tbody>\n",
       "    <tr>\n",
       "      <th>13899</th>\n",
       "      <td>608550274459547175</td>\n",
       "      <td>https://www.airbnb.com/rooms/608550274459547175</td>\n",
       "      <td>CHALBY - 4 Bedroom Duplex apartment with terra...</td>\n",
       "      <td>346367515</td>\n",
       "      <td>https://www.airbnb.com/users/show/346367515</td>\n",
       "      <td>Ukio</td>\n",
       "      <td>2020-05-15</td>\n",
       "      <td>Barcelona, Spain</td>\n",
       "      <td>within an hour</td>\n",
       "      <td>100%</td>\n",
       "      <td>...</td>\n",
       "      <td>t</td>\n",
       "      <td>241</td>\n",
       "      <td>241</td>\n",
       "      <td>0</td>\n",
       "      <td>0</td>\n",
       "      <td>0.20</td>\n",
       "      <td>NaN</td>\n",
       "      <td>no license</td>\n",
       "      <td>241</td>\n",
       "      <td>50 or more listings</td>\n",
       "    </tr>\n",
       "    <tr>\n",
       "      <th>15180</th>\n",
       "      <td>714893664098887932</td>\n",
       "      <td>https://www.airbnb.com/rooms/714893664098887932</td>\n",
       "      <td>FESHI - 3 bedroom apartment in Eixample Dreta</td>\n",
       "      <td>346367515</td>\n",
       "      <td>https://www.airbnb.com/users/show/346367515</td>\n",
       "      <td>Ukio</td>\n",
       "      <td>2020-05-15</td>\n",
       "      <td>Barcelona, Spain</td>\n",
       "      <td>within an hour</td>\n",
       "      <td>100%</td>\n",
       "      <td>...</td>\n",
       "      <td>t</td>\n",
       "      <td>241</td>\n",
       "      <td>241</td>\n",
       "      <td>0</td>\n",
       "      <td>0</td>\n",
       "      <td>NaN</td>\n",
       "      <td>NaN</td>\n",
       "      <td>no license</td>\n",
       "      <td>241</td>\n",
       "      <td>50 or more listings</td>\n",
       "    </tr>\n",
       "    <tr>\n",
       "      <th>667</th>\n",
       "      <td>644771126156262079</td>\n",
       "      <td>https://www.airbnb.com/rooms/644771126156262079</td>\n",
       "      <td>YULU - 3 bedroom apartment in Eixample Dreta</td>\n",
       "      <td>346367515</td>\n",
       "      <td>https://www.airbnb.com/users/show/346367515</td>\n",
       "      <td>Ukio</td>\n",
       "      <td>2020-05-15</td>\n",
       "      <td>Barcelona, Spain</td>\n",
       "      <td>within an hour</td>\n",
       "      <td>100%</td>\n",
       "      <td>...</td>\n",
       "      <td>t</td>\n",
       "      <td>241</td>\n",
       "      <td>241</td>\n",
       "      <td>0</td>\n",
       "      <td>0</td>\n",
       "      <td>NaN</td>\n",
       "      <td>commercial</td>\n",
       "      <td>no license</td>\n",
       "      <td>241</td>\n",
       "      <td>50 or more listings</td>\n",
       "    </tr>\n",
       "    <tr>\n",
       "      <th>4263</th>\n",
       "      <td>51163555</td>\n",
       "      <td>https://www.airbnb.com/rooms/51163555</td>\n",
       "      <td>HEGRA - 2 bedroom apartment with balcony in Ei...</td>\n",
       "      <td>346367515</td>\n",
       "      <td>https://www.airbnb.com/users/show/346367515</td>\n",
       "      <td>Ukio</td>\n",
       "      <td>2020-05-15</td>\n",
       "      <td>Barcelona, Spain</td>\n",
       "      <td>within an hour</td>\n",
       "      <td>100%</td>\n",
       "      <td>...</td>\n",
       "      <td>f</td>\n",
       "      <td>241</td>\n",
       "      <td>241</td>\n",
       "      <td>0</td>\n",
       "      <td>0</td>\n",
       "      <td>NaN</td>\n",
       "      <td>commercial</td>\n",
       "      <td>no license</td>\n",
       "      <td>241</td>\n",
       "      <td>50 or more listings</td>\n",
       "    </tr>\n",
       "    <tr>\n",
       "      <th>226</th>\n",
       "      <td>49509615</td>\n",
       "      <td>https://www.airbnb.com/rooms/49509615</td>\n",
       "      <td>KUTA - 2 bedroom apartment in Sant Gervasi</td>\n",
       "      <td>346367515</td>\n",
       "      <td>https://www.airbnb.com/users/show/346367515</td>\n",
       "      <td>Ukio</td>\n",
       "      <td>2020-05-15</td>\n",
       "      <td>Barcelona, Spain</td>\n",
       "      <td>within an hour</td>\n",
       "      <td>100%</td>\n",
       "      <td>...</td>\n",
       "      <td>f</td>\n",
       "      <td>241</td>\n",
       "      <td>241</td>\n",
       "      <td>0</td>\n",
       "      <td>0</td>\n",
       "      <td>NaN</td>\n",
       "      <td>commercial</td>\n",
       "      <td>no license</td>\n",
       "      <td>241</td>\n",
       "      <td>50 or more listings</td>\n",
       "    </tr>\n",
       "    <tr>\n",
       "      <th>...</th>\n",
       "      <td>...</td>\n",
       "      <td>...</td>\n",
       "      <td>...</td>\n",
       "      <td>...</td>\n",
       "      <td>...</td>\n",
       "      <td>...</td>\n",
       "      <td>...</td>\n",
       "      <td>...</td>\n",
       "      <td>...</td>\n",
       "      <td>...</td>\n",
       "      <td>...</td>\n",
       "      <td>...</td>\n",
       "      <td>...</td>\n",
       "      <td>...</td>\n",
       "      <td>...</td>\n",
       "      <td>...</td>\n",
       "      <td>...</td>\n",
       "      <td>...</td>\n",
       "      <td>...</td>\n",
       "      <td>...</td>\n",
       "      <td>...</td>\n",
       "    </tr>\n",
       "    <tr>\n",
       "      <th>8286</th>\n",
       "      <td>10238081</td>\n",
       "      <td>https://www.airbnb.com/rooms/10238081</td>\n",
       "      <td>GRAN BORN</td>\n",
       "      <td>15032322</td>\n",
       "      <td>https://www.airbnb.com/users/show/15032322</td>\n",
       "      <td>Elisa</td>\n",
       "      <td>2014-05-03</td>\n",
       "      <td>Barcelona, Spain</td>\n",
       "      <td>NaN</td>\n",
       "      <td>NaN</td>\n",
       "      <td>...</td>\n",
       "      <td>t</td>\n",
       "      <td>1</td>\n",
       "      <td>1</td>\n",
       "      <td>0</td>\n",
       "      <td>0</td>\n",
       "      <td>0.14</td>\n",
       "      <td>private</td>\n",
       "      <td>no license</td>\n",
       "      <td>1</td>\n",
       "      <td>single listing</td>\n",
       "    </tr>\n",
       "    <tr>\n",
       "      <th>8283</th>\n",
       "      <td>3501634</td>\n",
       "      <td>https://www.airbnb.com/rooms/3501634</td>\n",
       "      <td>LOVELY LOFT- ATTIC &amp;TERRACE, GRACIA</td>\n",
       "      <td>17630005</td>\n",
       "      <td>https://www.airbnb.com/users/show/17630005</td>\n",
       "      <td>Xavi &amp; Luna</td>\n",
       "      <td>2014-07-04</td>\n",
       "      <td>Barcelona, Spain</td>\n",
       "      <td>within an hour</td>\n",
       "      <td>100%</td>\n",
       "      <td>...</td>\n",
       "      <td>f</td>\n",
       "      <td>1</td>\n",
       "      <td>1</td>\n",
       "      <td>0</td>\n",
       "      <td>0</td>\n",
       "      <td>2.92</td>\n",
       "      <td>private</td>\n",
       "      <td>ok</td>\n",
       "      <td>1</td>\n",
       "      <td>single listing</td>\n",
       "    </tr>\n",
       "    <tr>\n",
       "      <th>8276</th>\n",
       "      <td>684418</td>\n",
       "      <td>https://www.airbnb.com/rooms/684418</td>\n",
       "      <td>Precioso apartamento en Barcelona</td>\n",
       "      <td>3489813</td>\n",
       "      <td>https://www.airbnb.com/users/show/3489813</td>\n",
       "      <td>Sonia</td>\n",
       "      <td>2012-09-06</td>\n",
       "      <td>Madrid, Spain</td>\n",
       "      <td>within an hour</td>\n",
       "      <td>95%</td>\n",
       "      <td>...</td>\n",
       "      <td>t</td>\n",
       "      <td>1</td>\n",
       "      <td>1</td>\n",
       "      <td>0</td>\n",
       "      <td>0</td>\n",
       "      <td>NaN</td>\n",
       "      <td>commercial</td>\n",
       "      <td>no license</td>\n",
       "      <td>1</td>\n",
       "      <td>single listing</td>\n",
       "    </tr>\n",
       "    <tr>\n",
       "      <th>8275</th>\n",
       "      <td>758614113263844483</td>\n",
       "      <td>https://www.airbnb.com/rooms/758614113263844483</td>\n",
       "      <td>Private Room in new apartment in Barcelona center</td>\n",
       "      <td>259945768</td>\n",
       "      <td>https://www.airbnb.com/users/show/259945768</td>\n",
       "      <td>Can</td>\n",
       "      <td>2019-05-05</td>\n",
       "      <td>NaN</td>\n",
       "      <td>within an hour</td>\n",
       "      <td>100%</td>\n",
       "      <td>...</td>\n",
       "      <td>f</td>\n",
       "      <td>1</td>\n",
       "      <td>0</td>\n",
       "      <td>1</td>\n",
       "      <td>0</td>\n",
       "      <td>2.83</td>\n",
       "      <td>private</td>\n",
       "      <td>claims exempt</td>\n",
       "      <td>1</td>\n",
       "      <td>single listing</td>\n",
       "    </tr>\n",
       "    <tr>\n",
       "      <th>15654</th>\n",
       "      <td>52874282</td>\n",
       "      <td>https://www.airbnb.com/rooms/52874282</td>\n",
       "      <td>Luxury design and art in the gothic center</td>\n",
       "      <td>107095087</td>\n",
       "      <td>https://www.airbnb.com/users/show/107095087</td>\n",
       "      <td>Pamen</td>\n",
       "      <td>2016-12-13</td>\n",
       "      <td>Barcelona, Spain</td>\n",
       "      <td>within a day</td>\n",
       "      <td>100%</td>\n",
       "      <td>...</td>\n",
       "      <td>f</td>\n",
       "      <td>1</td>\n",
       "      <td>1</td>\n",
       "      <td>0</td>\n",
       "      <td>0</td>\n",
       "      <td>0.53</td>\n",
       "      <td>NaN</td>\n",
       "      <td>claims exempt</td>\n",
       "      <td>1</td>\n",
       "      <td>single listing</td>\n",
       "    </tr>\n",
       "  </tbody>\n",
       "</table>\n",
       "<p>14779 rows × 63 columns</p>\n",
       "</div>"
      ],
      "text/plain": [
       "                       id                                      listing_url   \n",
       "13899  608550274459547175  https://www.airbnb.com/rooms/608550274459547175  \\\n",
       "15180  714893664098887932  https://www.airbnb.com/rooms/714893664098887932   \n",
       "667    644771126156262079  https://www.airbnb.com/rooms/644771126156262079   \n",
       "4263             51163555            https://www.airbnb.com/rooms/51163555   \n",
       "226              49509615            https://www.airbnb.com/rooms/49509615   \n",
       "...                   ...                                              ...   \n",
       "8286             10238081            https://www.airbnb.com/rooms/10238081   \n",
       "8283              3501634             https://www.airbnb.com/rooms/3501634   \n",
       "8276               684418              https://www.airbnb.com/rooms/684418   \n",
       "8275   758614113263844483  https://www.airbnb.com/rooms/758614113263844483   \n",
       "15654            52874282            https://www.airbnb.com/rooms/52874282   \n",
       "\n",
       "                                                    name    host_id   \n",
       "13899  CHALBY - 4 Bedroom Duplex apartment with terra...  346367515  \\\n",
       "15180      FESHI - 3 bedroom apartment in Eixample Dreta  346367515   \n",
       "667         YULU - 3 bedroom apartment in Eixample Dreta  346367515   \n",
       "4263   HEGRA - 2 bedroom apartment with balcony in Ei...  346367515   \n",
       "226           KUTA - 2 bedroom apartment in Sant Gervasi  346367515   \n",
       "...                                                  ...        ...   \n",
       "8286                                           GRAN BORN   15032322   \n",
       "8283                 LOVELY LOFT- ATTIC &TERRACE, GRACIA   17630005   \n",
       "8276                   Precioso apartamento en Barcelona    3489813   \n",
       "8275   Private Room in new apartment in Barcelona center  259945768   \n",
       "15654         Luxury design and art in the gothic center  107095087   \n",
       "\n",
       "                                          host_url    host_name  host_since   \n",
       "13899  https://www.airbnb.com/users/show/346367515         Ukio  2020-05-15  \\\n",
       "15180  https://www.airbnb.com/users/show/346367515         Ukio  2020-05-15   \n",
       "667    https://www.airbnb.com/users/show/346367515         Ukio  2020-05-15   \n",
       "4263   https://www.airbnb.com/users/show/346367515         Ukio  2020-05-15   \n",
       "226    https://www.airbnb.com/users/show/346367515         Ukio  2020-05-15   \n",
       "...                                            ...          ...         ...   \n",
       "8286    https://www.airbnb.com/users/show/15032322        Elisa  2014-05-03   \n",
       "8283    https://www.airbnb.com/users/show/17630005  Xavi & Luna  2014-07-04   \n",
       "8276     https://www.airbnb.com/users/show/3489813        Sonia  2012-09-06   \n",
       "8275   https://www.airbnb.com/users/show/259945768          Can  2019-05-05   \n",
       "15654  https://www.airbnb.com/users/show/107095087        Pamen  2016-12-13   \n",
       "\n",
       "          host_location host_response_time host_response_rate  ...   \n",
       "13899  Barcelona, Spain     within an hour               100%  ...  \\\n",
       "15180  Barcelona, Spain     within an hour               100%  ...   \n",
       "667    Barcelona, Spain     within an hour               100%  ...   \n",
       "4263   Barcelona, Spain     within an hour               100%  ...   \n",
       "226    Barcelona, Spain     within an hour               100%  ...   \n",
       "...                 ...                ...                ...  ...   \n",
       "8286   Barcelona, Spain                NaN                NaN  ...   \n",
       "8283   Barcelona, Spain     within an hour               100%  ...   \n",
       "8276      Madrid, Spain     within an hour                95%  ...   \n",
       "8275                NaN     within an hour               100%  ...   \n",
       "15654  Barcelona, Spain       within a day               100%  ...   \n",
       "\n",
       "      instant_bookable calculated_host_listings_count   \n",
       "13899                t                            241  \\\n",
       "15180                t                            241   \n",
       "667                  t                            241   \n",
       "4263                 f                            241   \n",
       "226                  f                            241   \n",
       "...                ...                            ...   \n",
       "8286                 t                              1   \n",
       "8283                 f                              1   \n",
       "8276                 t                              1   \n",
       "8275                 f                              1   \n",
       "15654                f                              1   \n",
       "\n",
       "      calculated_host_listings_count_entire_homes   \n",
       "13899                                         241  \\\n",
       "15180                                         241   \n",
       "667                                           241   \n",
       "4263                                          241   \n",
       "226                                           241   \n",
       "...                                           ...   \n",
       "8286                                            1   \n",
       "8283                                            1   \n",
       "8276                                            1   \n",
       "8275                                            0   \n",
       "15654                                           1   \n",
       "\n",
       "      calculated_host_listings_count_private_rooms   \n",
       "13899                                            0  \\\n",
       "15180                                            0   \n",
       "667                                              0   \n",
       "4263                                             0   \n",
       "226                                              0   \n",
       "...                                            ...   \n",
       "8286                                             0   \n",
       "8283                                             0   \n",
       "8276                                             0   \n",
       "8275                                             1   \n",
       "15654                                            0   \n",
       "\n",
       "      calculated_host_listings_count_shared_rooms reviews_per_month   \n",
       "13899                                           0              0.20  \\\n",
       "15180                                           0               NaN   \n",
       "667                                             0               NaN   \n",
       "4263                                            0               NaN   \n",
       "226                                             0               NaN   \n",
       "...                                           ...               ...   \n",
       "8286                                            0              0.14   \n",
       "8283                                            0              2.92   \n",
       "8276                                            0               NaN   \n",
       "8275                                            0              2.83   \n",
       "15654                                           0              0.53   \n",
       "\n",
       "        host_type  status_license  total_listings       multi_listings  \n",
       "13899         NaN      no license             241  50 or more listings  \n",
       "15180         NaN      no license             241  50 or more listings  \n",
       "667    commercial      no license             241  50 or more listings  \n",
       "4263   commercial      no license             241  50 or more listings  \n",
       "226    commercial      no license             241  50 or more listings  \n",
       "...           ...             ...             ...                  ...  \n",
       "8286      private      no license               1       single listing  \n",
       "8283      private              ok               1       single listing  \n",
       "8276   commercial      no license               1       single listing  \n",
       "8275      private   claims exempt               1       single listing  \n",
       "15654         NaN   claims exempt               1       single listing  \n",
       "\n",
       "[14779 rows x 63 columns]"
      ]
     },
     "execution_count": 41,
     "metadata": {},
     "output_type": "execute_result"
    }
   ],
   "source": [
    "bcn.sort_values(by='total_listings', ascending=False)"
   ]
  },
  {
   "cell_type": "markdown",
   "id": "b28577e9-a478-41f1-992c-4c153efa462e",
   "metadata": {},
   "source": [
    "EDA ON HOSTS"
   ]
  },
  {
   "cell_type": "code",
   "execution_count": 42,
   "id": "cb374036-b964-44d5-b805-eb67aa9a0ba2",
   "metadata": {
    "tags": []
   },
   "outputs": [
    {
     "data": {
      "text/plain": [
       "Index(['id', 'listing_url', 'name', 'host_id', 'host_url', 'host_name',\n",
       "       'host_since', 'host_location', 'host_response_time',\n",
       "       'host_response_rate', 'host_acceptance_rate', 'host_is_superhost',\n",
       "       'host_neighbourhood', 'host_verifications', 'host_has_profile_pic',\n",
       "       'host_identity_verified', 'neighbourhood_group_cleansed', 'latitude',\n",
       "       'longitude', 'property_type', 'room_type', 'accommodates',\n",
       "       'bathrooms_text', 'bedrooms', 'beds', 'amenities', 'price',\n",
       "       'minimum_nights', 'maximum_nights', 'minimum_minimum_nights',\n",
       "       'maximum_minimum_nights', 'minimum_maximum_nights',\n",
       "       'maximum_maximum_nights', 'minimum_nights_avg_ntm',\n",
       "       'maximum_nights_avg_ntm', 'has_availability', 'availability_30',\n",
       "       'availability_60', 'availability_90', 'availability_365',\n",
       "       'number_of_reviews', 'number_of_reviews_ltm', 'number_of_reviews_l30d',\n",
       "       'first_review', 'last_review', 'review_scores_rating',\n",
       "       'review_scores_accuracy', 'review_scores_cleanliness',\n",
       "       'review_scores_checkin', 'review_scores_communication',\n",
       "       'review_scores_location', 'review_scores_value', 'license',\n",
       "       'instant_bookable', 'calculated_host_listings_count',\n",
       "       'calculated_host_listings_count_entire_homes',\n",
       "       'calculated_host_listings_count_private_rooms',\n",
       "       'calculated_host_listings_count_shared_rooms', 'reviews_per_month',\n",
       "       'host_type', 'status_license', 'total_listings', 'multi_listings'],\n",
       "      dtype='object')"
      ]
     },
     "execution_count": 42,
     "metadata": {},
     "output_type": "execute_result"
    }
   ],
   "source": [
    "bcn.columns"
   ]
  },
  {
   "cell_type": "code",
   "execution_count": 43,
   "id": "90eab17d-804f-4c31-bfbb-979d355edccf",
   "metadata": {
    "tags": []
   },
   "outputs": [],
   "source": [
    "hosts = bcn.groupby(['host_id', 'host_name']).agg(listings = ('id', 'count'))"
   ]
  },
  {
   "cell_type": "code",
   "execution_count": 44,
   "id": "4b5689fa-5be6-4702-813c-aca3c9f33875",
   "metadata": {
    "tags": []
   },
   "outputs": [
    {
     "data": {
      "text/html": [
       "<div>\n",
       "<style scoped>\n",
       "    .dataframe tbody tr th:only-of-type {\n",
       "        vertical-align: middle;\n",
       "    }\n",
       "\n",
       "    .dataframe tbody tr th {\n",
       "        vertical-align: top;\n",
       "    }\n",
       "\n",
       "    .dataframe thead th {\n",
       "        text-align: right;\n",
       "    }\n",
       "</style>\n",
       "<table border=\"1\" class=\"dataframe\">\n",
       "  <thead>\n",
       "    <tr style=\"text-align: right;\">\n",
       "      <th></th>\n",
       "      <th></th>\n",
       "      <th>listings</th>\n",
       "    </tr>\n",
       "    <tr>\n",
       "      <th>host_id</th>\n",
       "      <th>host_name</th>\n",
       "      <th></th>\n",
       "    </tr>\n",
       "  </thead>\n",
       "  <tbody>\n",
       "    <tr>\n",
       "      <th>346367515</th>\n",
       "      <th>Ukio</th>\n",
       "      <td>241</td>\n",
       "    </tr>\n",
       "    <tr>\n",
       "      <th>32037490</th>\n",
       "      <th>SweetInn</th>\n",
       "      <td>178</td>\n",
       "    </tr>\n",
       "    <tr>\n",
       "      <th>299462</th>\n",
       "      <th>Stay U-Nique</th>\n",
       "      <td>127</td>\n",
       "    </tr>\n",
       "    <tr>\n",
       "      <th>158023606</th>\n",
       "      <th>Habitat Apartments</th>\n",
       "      <td>122</td>\n",
       "    </tr>\n",
       "    <tr>\n",
       "      <th>1391607</th>\n",
       "      <th>Aline I Andrea</th>\n",
       "      <td>121</td>\n",
       "    </tr>\n",
       "    <tr>\n",
       "      <th>...</th>\n",
       "      <th>...</th>\n",
       "      <td>...</td>\n",
       "    </tr>\n",
       "    <tr>\n",
       "      <th>35365408</th>\n",
       "      <th>Emanuel</th>\n",
       "      <td>1</td>\n",
       "    </tr>\n",
       "    <tr>\n",
       "      <th>35358773</th>\n",
       "      <th>Joanna</th>\n",
       "      <td>1</td>\n",
       "    </tr>\n",
       "    <tr>\n",
       "      <th>35327702</th>\n",
       "      <th>Bahram</th>\n",
       "      <td>1</td>\n",
       "    </tr>\n",
       "    <tr>\n",
       "      <th>35279876</th>\n",
       "      <th>Stella</th>\n",
       "      <td>1</td>\n",
       "    </tr>\n",
       "    <tr>\n",
       "      <th>66030241</th>\n",
       "      <th>Marta</th>\n",
       "      <td>1</td>\n",
       "    </tr>\n",
       "  </tbody>\n",
       "</table>\n",
       "<p>6065 rows × 1 columns</p>\n",
       "</div>"
      ],
      "text/plain": [
       "                              listings\n",
       "host_id   host_name                   \n",
       "346367515 Ukio                     241\n",
       "32037490  SweetInn                 178\n",
       "299462    Stay U-Nique             127\n",
       "158023606 Habitat Apartments       122\n",
       "1391607   Aline I Andrea           121\n",
       "...                                ...\n",
       "35365408  Emanuel                    1\n",
       "35358773  Joanna                     1\n",
       "35327702  Bahram                     1\n",
       "35279876  Stella                     1\n",
       "66030241  Marta                      1\n",
       "\n",
       "[6065 rows x 1 columns]"
      ]
     },
     "execution_count": 44,
     "metadata": {},
     "output_type": "execute_result"
    }
   ],
   "source": [
    "hosts.sort_values(by='listings', ascending=False)"
   ]
  },
  {
   "cell_type": "code",
   "execution_count": 45,
   "id": "d5a12a03-25a5-47c1-8710-f92b83d061ca",
   "metadata": {
    "tags": []
   },
   "outputs": [],
   "source": [
    "def short_term(row):\n",
    "    if row['minimum_nights'] > 31:\n",
    "        return 'Long term stays only'\n",
    "    else:\n",
    "        return 'Short term stays'"
   ]
  },
  {
   "cell_type": "code",
   "execution_count": 46,
   "id": "124fbafe-8296-4612-b96d-9bf2e0295870",
   "metadata": {
    "tags": []
   },
   "outputs": [],
   "source": [
    "bcn['short_term'] = bcn.apply(lambda row: short_term(row), axis=1)"
   ]
  },
  {
   "cell_type": "code",
   "execution_count": 47,
   "id": "1e85eb58-6df7-4629-9466-c05459e35d25",
   "metadata": {},
   "outputs": [
    {
     "data": {
      "text/plain": [
       "<Axes: ylabel='status_license'>"
      ]
     },
     "execution_count": 47,
     "metadata": {},
     "output_type": "execute_result"
    },
    {
     "data": {
      "image/png": "[encoded data removed]",
      "text/plain": [
       "<Figure size 640x480 with 1 Axes>"
      ]
     },
     "metadata": {},
     "output_type": "display_data"
    }
   ],
   "source": [
    "bcn['status_license'].value_counts(normalize=True).sort_values(ascending=False).plot(kind='barh', color=c)"
   ]
  },
  {
   "cell_type": "code",
   "execution_count": 48,
   "id": "01ae62ff-bc69-405c-b6f9-470ab2eb3d00",
   "metadata": {
    "tags": []
   },
   "outputs": [
    {
     "data": {
      "text/plain": [
       "<Axes: ylabel='multi_listings'>"
      ]
     },
     "execution_count": 48,
     "metadata": {},
     "output_type": "execute_result"
    },
    {
     "data": {
      "image/png": "[encoded data removed]",
      "text/plain": [
       "<Figure size 640x480 with 1 Axes>"
      ]
     },
     "metadata": {},
     "output_type": "display_data"
    }
   ],
   "source": [
    "bcn['multi_listings'].value_counts(normalize=True).sort_values(ascending=False).plot(kind='barh')"
   ]
  },
  {
   "cell_type": "code",
   "execution_count": 49,
   "id": "f2e564ab-b133-40f6-94e4-a81b5a23eccd",
   "metadata": {
    "tags": []
   },
   "outputs": [],
   "source": [
    "commercial = bcn.loc[bcn['host_type'] == 'commercial']\n",
    "private = bcn.loc[bcn['host_type'] == 'private']"
   ]
  },
  {
   "cell_type": "code",
   "execution_count": 50,
   "id": "28a48e2d-cbec-4119-b9c1-3a67e82246b8",
   "metadata": {
    "tags": []
   },
   "outputs": [
    {
     "data": {
      "text/html": [
       "<div>\n",
       "<style scoped>\n",
       "    .dataframe tbody tr th:only-of-type {\n",
       "        vertical-align: middle;\n",
       "    }\n",
       "\n",
       "    .dataframe tbody tr th {\n",
       "        vertical-align: top;\n",
       "    }\n",
       "\n",
       "    .dataframe thead th {\n",
       "        text-align: right;\n",
       "    }\n",
       "</style>\n",
       "<table border=\"1\" class=\"dataframe\">\n",
       "  <thead>\n",
       "    <tr style=\"text-align: right;\">\n",
       "      <th></th>\n",
       "      <th>id</th>\n",
       "      <th>listing_url</th>\n",
       "      <th>name</th>\n",
       "      <th>host_id</th>\n",
       "      <th>host_url</th>\n",
       "      <th>host_name</th>\n",
       "      <th>host_since</th>\n",
       "      <th>host_location</th>\n",
       "      <th>host_response_time</th>\n",
       "      <th>host_response_rate</th>\n",
       "      <th>...</th>\n",
       "      <th>calculated_host_listings_count</th>\n",
       "      <th>calculated_host_listings_count_entire_homes</th>\n",
       "      <th>calculated_host_listings_count_private_rooms</th>\n",
       "      <th>calculated_host_listings_count_shared_rooms</th>\n",
       "      <th>reviews_per_month</th>\n",
       "      <th>host_type</th>\n",
       "      <th>status_license</th>\n",
       "      <th>total_listings</th>\n",
       "      <th>multi_listings</th>\n",
       "      <th>short_term</th>\n",
       "    </tr>\n",
       "  </thead>\n",
       "  <tbody>\n",
       "    <tr>\n",
       "      <th>5</th>\n",
       "      <td>803393140432518554</td>\n",
       "      <td>https://www.airbnb.com/rooms/803393140432518554</td>\n",
       "      <td>New Amazing 2 bedroom apartment in Rambla del</td>\n",
       "      <td>127482361</td>\n",
       "      <td>https://www.airbnb.com/users/show/127482361</td>\n",
       "      <td>Apkeys</td>\n",
       "      <td>2017-04-25</td>\n",
       "      <td>Barcelona, Spain</td>\n",
       "      <td>within an hour</td>\n",
       "      <td>100%</td>\n",
       "      <td>...</td>\n",
       "      <td>8</td>\n",
       "      <td>8</td>\n",
       "      <td>0</td>\n",
       "      <td>0</td>\n",
       "      <td>1.00</td>\n",
       "      <td>private</td>\n",
       "      <td>reuse</td>\n",
       "      <td>8</td>\n",
       "      <td>6-9 listings</td>\n",
       "      <td>Short term stays</td>\n",
       "    </tr>\n",
       "    <tr>\n",
       "      <th>11</th>\n",
       "      <td>731044538005221854</td>\n",
       "      <td>https://www.airbnb.com/rooms/731044538005221854</td>\n",
       "      <td>3 Bedroom apartment Sant Pau</td>\n",
       "      <td>10704</td>\n",
       "      <td>https://www.airbnb.com/users/show/10704</td>\n",
       "      <td>Weflating</td>\n",
       "      <td>2009-03-19</td>\n",
       "      <td>Barcelona, Spain</td>\n",
       "      <td>within an hour</td>\n",
       "      <td>84%</td>\n",
       "      <td>...</td>\n",
       "      <td>27</td>\n",
       "      <td>22</td>\n",
       "      <td>3</td>\n",
       "      <td>0</td>\n",
       "      <td>0.42</td>\n",
       "      <td>commercial</td>\n",
       "      <td>reuse</td>\n",
       "      <td>26</td>\n",
       "      <td>20-49 listings</td>\n",
       "      <td>Short term stays</td>\n",
       "    </tr>\n",
       "    <tr>\n",
       "      <th>22</th>\n",
       "      <td>826058899941662636</td>\n",
       "      <td>https://www.airbnb.com/rooms/826058899941662636</td>\n",
       "      <td>Cathedral Penthouse. (Temporal). m</td>\n",
       "      <td>21726991</td>\n",
       "      <td>https://www.airbnb.com/users/show/21726991</td>\n",
       "      <td>Silvia</td>\n",
       "      <td>2014-09-24</td>\n",
       "      <td>NaN</td>\n",
       "      <td>within a day</td>\n",
       "      <td>91%</td>\n",
       "      <td>...</td>\n",
       "      <td>48</td>\n",
       "      <td>48</td>\n",
       "      <td>0</td>\n",
       "      <td>0</td>\n",
       "      <td>NaN</td>\n",
       "      <td>private</td>\n",
       "      <td>reuse</td>\n",
       "      <td>36</td>\n",
       "      <td>20-49 listings</td>\n",
       "      <td>Short term stays</td>\n",
       "    </tr>\n",
       "    <tr>\n",
       "      <th>36</th>\n",
       "      <td>37229476</td>\n",
       "      <td>https://www.airbnb.com/rooms/37229476</td>\n",
       "      <td>Art Gallery Apartment</td>\n",
       "      <td>4396136</td>\n",
       "      <td>https://www.airbnb.com/users/show/4396136</td>\n",
       "      <td>Homesearch</td>\n",
       "      <td>2012-12-13</td>\n",
       "      <td>Barcelona, Spain</td>\n",
       "      <td>within an hour</td>\n",
       "      <td>92%</td>\n",
       "      <td>...</td>\n",
       "      <td>28</td>\n",
       "      <td>28</td>\n",
       "      <td>0</td>\n",
       "      <td>0</td>\n",
       "      <td>0.21</td>\n",
       "      <td>commercial</td>\n",
       "      <td>reuse</td>\n",
       "      <td>28</td>\n",
       "      <td>20-49 listings</td>\n",
       "      <td>Short term stays</td>\n",
       "    </tr>\n",
       "    <tr>\n",
       "      <th>86</th>\n",
       "      <td>44095658</td>\n",
       "      <td>https://www.airbnb.com/rooms/44095658</td>\n",
       "      <td>Ola Living Santa Anna Attic</td>\n",
       "      <td>33278356</td>\n",
       "      <td>https://www.airbnb.com/users/show/33278356</td>\n",
       "      <td>Ola</td>\n",
       "      <td>2015-05-13</td>\n",
       "      <td>Barcelona, Spain</td>\n",
       "      <td>within an hour</td>\n",
       "      <td>99%</td>\n",
       "      <td>...</td>\n",
       "      <td>62</td>\n",
       "      <td>46</td>\n",
       "      <td>16</td>\n",
       "      <td>0</td>\n",
       "      <td>1.20</td>\n",
       "      <td>commercial</td>\n",
       "      <td>reuse</td>\n",
       "      <td>60</td>\n",
       "      <td>50 or more listings</td>\n",
       "      <td>Short term stays</td>\n",
       "    </tr>\n",
       "    <tr>\n",
       "      <th>93</th>\n",
       "      <td>5454335</td>\n",
       "      <td>https://www.airbnb.com/rooms/5454335</td>\n",
       "      <td>PISO CON PISCINA EN VILLA OLIMPICA</td>\n",
       "      <td>8210620</td>\n",
       "      <td>https://www.airbnb.com/users/show/8210620</td>\n",
       "      <td>Beatriz</td>\n",
       "      <td>2013-08-17</td>\n",
       "      <td>Barcelona, Spain</td>\n",
       "      <td>within an hour</td>\n",
       "      <td>100%</td>\n",
       "      <td>...</td>\n",
       "      <td>3</td>\n",
       "      <td>3</td>\n",
       "      <td>0</td>\n",
       "      <td>0</td>\n",
       "      <td>0.46</td>\n",
       "      <td>private</td>\n",
       "      <td>reuse</td>\n",
       "      <td>2</td>\n",
       "      <td>2-3 listings</td>\n",
       "      <td>Short term stays</td>\n",
       "    </tr>\n",
       "    <tr>\n",
       "      <th>96</th>\n",
       "      <td>24239102</td>\n",
       "      <td>https://www.airbnb.com/rooms/24239102</td>\n",
       "      <td>Apart with balcony, Plaza España/Sants (1822)</td>\n",
       "      <td>146682595</td>\n",
       "      <td>https://www.airbnb.com/users/show/146682595</td>\n",
       "      <td>Ana &amp; Rafa</td>\n",
       "      <td>2017-08-18</td>\n",
       "      <td>Barcelona, Spain</td>\n",
       "      <td>within an hour</td>\n",
       "      <td>100%</td>\n",
       "      <td>...</td>\n",
       "      <td>8</td>\n",
       "      <td>8</td>\n",
       "      <td>0</td>\n",
       "      <td>0</td>\n",
       "      <td>2.70</td>\n",
       "      <td>commercial</td>\n",
       "      <td>reuse</td>\n",
       "      <td>8</td>\n",
       "      <td>6-9 listings</td>\n",
       "      <td>Short term stays</td>\n",
       "    </tr>\n",
       "    <tr>\n",
       "      <th>120</th>\n",
       "      <td>26978043</td>\n",
       "      <td>https://www.airbnb.com/rooms/26978043</td>\n",
       "      <td>Art Gallery Apartment</td>\n",
       "      <td>9784103</td>\n",
       "      <td>https://www.airbnb.com/users/show/9784103</td>\n",
       "      <td>Apartime</td>\n",
       "      <td>2013-11-03</td>\n",
       "      <td>Barcelona, Spain</td>\n",
       "      <td>within an hour</td>\n",
       "      <td>83%</td>\n",
       "      <td>...</td>\n",
       "      <td>18</td>\n",
       "      <td>18</td>\n",
       "      <td>0</td>\n",
       "      <td>0</td>\n",
       "      <td>0.28</td>\n",
       "      <td>commercial</td>\n",
       "      <td>reuse</td>\n",
       "      <td>18</td>\n",
       "      <td>10-19 listings</td>\n",
       "      <td>Short term stays</td>\n",
       "    </tr>\n",
       "    <tr>\n",
       "      <th>131</th>\n",
       "      <td>51720636</td>\n",
       "      <td>https://www.airbnb.com/rooms/51720636</td>\n",
       "      <td>Sant Domenec 2 1</td>\n",
       "      <td>21873399</td>\n",
       "      <td>https://www.airbnb.com/users/show/21873399</td>\n",
       "      <td>Sol</td>\n",
       "      <td>2014-09-28</td>\n",
       "      <td>Barcelona, Spain</td>\n",
       "      <td>within a day</td>\n",
       "      <td>73%</td>\n",
       "      <td>...</td>\n",
       "      <td>35</td>\n",
       "      <td>34</td>\n",
       "      <td>1</td>\n",
       "      <td>0</td>\n",
       "      <td>NaN</td>\n",
       "      <td>private</td>\n",
       "      <td>reuse</td>\n",
       "      <td>35</td>\n",
       "      <td>20-49 listings</td>\n",
       "      <td>Short term stays</td>\n",
       "    </tr>\n",
       "    <tr>\n",
       "      <th>175</th>\n",
       "      <td>21722033</td>\n",
       "      <td>https://www.airbnb.com/rooms/21722033</td>\n",
       "      <td>Paseo de Gracia bright flat up to 5</td>\n",
       "      <td>158023606</td>\n",
       "      <td>https://www.airbnb.com/users/show/158023606</td>\n",
       "      <td>Habitat Apartments</td>\n",
       "      <td>2017-11-09</td>\n",
       "      <td>Barcelona, Spain</td>\n",
       "      <td>within an hour</td>\n",
       "      <td>99%</td>\n",
       "      <td>...</td>\n",
       "      <td>136</td>\n",
       "      <td>136</td>\n",
       "      <td>0</td>\n",
       "      <td>0</td>\n",
       "      <td>0.97</td>\n",
       "      <td>commercial</td>\n",
       "      <td>reuse</td>\n",
       "      <td>122</td>\n",
       "      <td>50 or more listings</td>\n",
       "      <td>Short term stays</td>\n",
       "    </tr>\n",
       "    <tr>\n",
       "      <th>184</th>\n",
       "      <td>45746921</td>\n",
       "      <td>https://www.airbnb.com/rooms/45746921</td>\n",
       "      <td>Wonderful &amp; renovated 2BR apartment</td>\n",
       "      <td>362312215</td>\n",
       "      <td>https://www.airbnb.com/users/show/362312215</td>\n",
       "      <td>Xavier</td>\n",
       "      <td>2020-08-14</td>\n",
       "      <td>NaN</td>\n",
       "      <td>within an hour</td>\n",
       "      <td>100%</td>\n",
       "      <td>...</td>\n",
       "      <td>13</td>\n",
       "      <td>13</td>\n",
       "      <td>0</td>\n",
       "      <td>0</td>\n",
       "      <td>5.66</td>\n",
       "      <td>private</td>\n",
       "      <td>reuse</td>\n",
       "      <td>8</td>\n",
       "      <td>6-9 listings</td>\n",
       "      <td>Short term stays</td>\n",
       "    </tr>\n",
       "    <tr>\n",
       "      <th>185</th>\n",
       "      <td>39576026</td>\n",
       "      <td>https://www.airbnb.com/rooms/39576026</td>\n",
       "      <td>a31r 3 bedr &amp; 1 bath \"Acomodis\" apartment El B...</td>\n",
       "      <td>1447144</td>\n",
       "      <td>https://www.airbnb.com/users/show/1447144</td>\n",
       "      <td>Acomodis Apartments</td>\n",
       "      <td>2011-11-27</td>\n",
       "      <td>Barcelona, Spain</td>\n",
       "      <td>within a day</td>\n",
       "      <td>50%</td>\n",
       "      <td>...</td>\n",
       "      <td>123</td>\n",
       "      <td>123</td>\n",
       "      <td>0</td>\n",
       "      <td>0</td>\n",
       "      <td>NaN</td>\n",
       "      <td>commercial</td>\n",
       "      <td>reuse</td>\n",
       "      <td>96</td>\n",
       "      <td>50 or more listings</td>\n",
       "      <td>Short term stays</td>\n",
       "    </tr>\n",
       "    <tr>\n",
       "      <th>200</th>\n",
       "      <td>23533196</td>\n",
       "      <td>https://www.airbnb.com/rooms/23533196</td>\n",
       "      <td>Sagrada Familia 53</td>\n",
       "      <td>174751009</td>\n",
       "      <td>https://www.airbnb.com/users/show/174751009</td>\n",
       "      <td>Albert</td>\n",
       "      <td>2018-02-22</td>\n",
       "      <td>Barcelona, Spain</td>\n",
       "      <td>within an hour</td>\n",
       "      <td>97%</td>\n",
       "      <td>...</td>\n",
       "      <td>20</td>\n",
       "      <td>20</td>\n",
       "      <td>0</td>\n",
       "      <td>0</td>\n",
       "      <td>1.40</td>\n",
       "      <td>commercial</td>\n",
       "      <td>reuse</td>\n",
       "      <td>20</td>\n",
       "      <td>20-49 listings</td>\n",
       "      <td>Short term stays</td>\n",
       "    </tr>\n",
       "    <tr>\n",
       "      <th>210</th>\n",
       "      <td>597474774814823984</td>\n",
       "      <td>https://www.airbnb.com/rooms/597474774814823984</td>\n",
       "      <td>CENTRAL BOUTIQUE APARTMENT - 5 plazas</td>\n",
       "      <td>267600211</td>\n",
       "      <td>https://www.airbnb.com/users/show/267600211</td>\n",
       "      <td>BBarcelona</td>\n",
       "      <td>2019-06-10</td>\n",
       "      <td>Barcelona, Spain</td>\n",
       "      <td>a few days or more</td>\n",
       "      <td>38%</td>\n",
       "      <td>...</td>\n",
       "      <td>19</td>\n",
       "      <td>19</td>\n",
       "      <td>0</td>\n",
       "      <td>0</td>\n",
       "      <td>NaN</td>\n",
       "      <td>commercial</td>\n",
       "      <td>reuse</td>\n",
       "      <td>18</td>\n",
       "      <td>10-19 listings</td>\n",
       "      <td>Short term stays</td>\n",
       "    </tr>\n",
       "    <tr>\n",
       "      <th>219</th>\n",
       "      <td>28925776</td>\n",
       "      <td>https://www.airbnb.com/rooms/28925776</td>\n",
       "      <td>One-bedroom apartment en Gracia</td>\n",
       "      <td>157746231</td>\n",
       "      <td>https://www.airbnb.com/users/show/157746231</td>\n",
       "      <td>Natalia</td>\n",
       "      <td>2017-11-07</td>\n",
       "      <td>Catalonia, Spain</td>\n",
       "      <td>within a day</td>\n",
       "      <td>86%</td>\n",
       "      <td>...</td>\n",
       "      <td>37</td>\n",
       "      <td>37</td>\n",
       "      <td>0</td>\n",
       "      <td>0</td>\n",
       "      <td>0.77</td>\n",
       "      <td>private</td>\n",
       "      <td>reuse</td>\n",
       "      <td>37</td>\n",
       "      <td>20-49 listings</td>\n",
       "      <td>Short term stays</td>\n",
       "    </tr>\n",
       "    <tr>\n",
       "      <th>221</th>\n",
       "      <td>686645011576468750</td>\n",
       "      <td>https://www.airbnb.com/rooms/686645011576468750</td>\n",
       "      <td>1-3 · Increíble apartamento recién reformado</td>\n",
       "      <td>327616183</td>\n",
       "      <td>https://www.airbnb.com/users/show/327616183</td>\n",
       "      <td>Alvaro &amp; Pol</td>\n",
       "      <td>2020-01-15</td>\n",
       "      <td>Barcelona, Spain</td>\n",
       "      <td>within an hour</td>\n",
       "      <td>100%</td>\n",
       "      <td>...</td>\n",
       "      <td>20</td>\n",
       "      <td>20</td>\n",
       "      <td>0</td>\n",
       "      <td>0</td>\n",
       "      <td>1.83</td>\n",
       "      <td>commercial</td>\n",
       "      <td>reuse</td>\n",
       "      <td>20</td>\n",
       "      <td>20-49 listings</td>\n",
       "      <td>Short term stays</td>\n",
       "    </tr>\n",
       "    <tr>\n",
       "      <th>236</th>\n",
       "      <td>694753506156420707</td>\n",
       "      <td>https://www.airbnb.com/rooms/694753506156420707</td>\n",
       "      <td>Pl. Espanya 3-bedroom Apartment</td>\n",
       "      <td>375861603</td>\n",
       "      <td>https://www.airbnb.com/users/show/375861603</td>\n",
       "      <td>Maite</td>\n",
       "      <td>2020-11-16</td>\n",
       "      <td>Alicante, Spain</td>\n",
       "      <td>a few days or more</td>\n",
       "      <td>0%</td>\n",
       "      <td>...</td>\n",
       "      <td>1</td>\n",
       "      <td>1</td>\n",
       "      <td>0</td>\n",
       "      <td>0</td>\n",
       "      <td>NaN</td>\n",
       "      <td>commercial</td>\n",
       "      <td>reuse</td>\n",
       "      <td>1</td>\n",
       "      <td>single listing</td>\n",
       "      <td>Short term stays</td>\n",
       "    </tr>\n",
       "    <tr>\n",
       "      <th>244</th>\n",
       "      <td>22219831</td>\n",
       "      <td>https://www.airbnb.com/rooms/22219831</td>\n",
       "      <td>Amazing classic apartment by Sagrada Familia</td>\n",
       "      <td>161380107</td>\n",
       "      <td>https://www.airbnb.com/users/show/161380107</td>\n",
       "      <td>Francesc</td>\n",
       "      <td>2017-12-05</td>\n",
       "      <td>NaN</td>\n",
       "      <td>within an hour</td>\n",
       "      <td>100%</td>\n",
       "      <td>...</td>\n",
       "      <td>15</td>\n",
       "      <td>15</td>\n",
       "      <td>0</td>\n",
       "      <td>0</td>\n",
       "      <td>0.53</td>\n",
       "      <td>commercial</td>\n",
       "      <td>reuse</td>\n",
       "      <td>15</td>\n",
       "      <td>10-19 listings</td>\n",
       "      <td>Short term stays</td>\n",
       "    </tr>\n",
       "    <tr>\n",
       "      <th>248</th>\n",
       "      <td>36882921</td>\n",
       "      <td>https://www.airbnb.com/rooms/36882921</td>\n",
       "      <td>Modern Villa in Eixample with Sea Near</td>\n",
       "      <td>270230553</td>\n",
       "      <td>https://www.airbnb.com/users/show/270230553</td>\n",
       "      <td>Linda - BELVILLA</td>\n",
       "      <td>2019-06-21</td>\n",
       "      <td>Zürich, Switzerland</td>\n",
       "      <td>within an hour</td>\n",
       "      <td>100%</td>\n",
       "      <td>...</td>\n",
       "      <td>14</td>\n",
       "      <td>14</td>\n",
       "      <td>0</td>\n",
       "      <td>0</td>\n",
       "      <td>NaN</td>\n",
       "      <td>commercial</td>\n",
       "      <td>reuse</td>\n",
       "      <td>9</td>\n",
       "      <td>6-9 listings</td>\n",
       "      <td>Short term stays</td>\n",
       "    </tr>\n",
       "    <tr>\n",
       "      <th>250</th>\n",
       "      <td>24647482</td>\n",
       "      <td>https://www.airbnb.com/rooms/24647482</td>\n",
       "      <td>Central Apartment Tetuan</td>\n",
       "      <td>1391607</td>\n",
       "      <td>https://www.airbnb.com/users/show/1391607</td>\n",
       "      <td>Aline I Andrea</td>\n",
       "      <td>2011-11-10</td>\n",
       "      <td>Barcelona, Spain</td>\n",
       "      <td>within a few hours</td>\n",
       "      <td>98%</td>\n",
       "      <td>...</td>\n",
       "      <td>121</td>\n",
       "      <td>121</td>\n",
       "      <td>0</td>\n",
       "      <td>0</td>\n",
       "      <td>1.59</td>\n",
       "      <td>commercial</td>\n",
       "      <td>reuse</td>\n",
       "      <td>121</td>\n",
       "      <td>50 or more listings</td>\n",
       "      <td>Short term stays</td>\n",
       "    </tr>\n",
       "  </tbody>\n",
       "</table>\n",
       "<p>20 rows × 64 columns</p>\n",
       "</div>"
      ],
      "text/plain": [
       "                     id                                      listing_url   \n",
       "5    803393140432518554  https://www.airbnb.com/rooms/803393140432518554  \\\n",
       "11   731044538005221854  https://www.airbnb.com/rooms/731044538005221854   \n",
       "22   826058899941662636  https://www.airbnb.com/rooms/826058899941662636   \n",
       "36             37229476            https://www.airbnb.com/rooms/37229476   \n",
       "86             44095658            https://www.airbnb.com/rooms/44095658   \n",
       "93              5454335             https://www.airbnb.com/rooms/5454335   \n",
       "96             24239102            https://www.airbnb.com/rooms/24239102   \n",
       "120            26978043            https://www.airbnb.com/rooms/26978043   \n",
       "131            51720636            https://www.airbnb.com/rooms/51720636   \n",
       "175            21722033            https://www.airbnb.com/rooms/21722033   \n",
       "184            45746921            https://www.airbnb.com/rooms/45746921   \n",
       "185            39576026            https://www.airbnb.com/rooms/39576026   \n",
       "200            23533196            https://www.airbnb.com/rooms/23533196   \n",
       "210  597474774814823984  https://www.airbnb.com/rooms/597474774814823984   \n",
       "219            28925776            https://www.airbnb.com/rooms/28925776   \n",
       "221  686645011576468750  https://www.airbnb.com/rooms/686645011576468750   \n",
       "236  694753506156420707  https://www.airbnb.com/rooms/694753506156420707   \n",
       "244            22219831            https://www.airbnb.com/rooms/22219831   \n",
       "248            36882921            https://www.airbnb.com/rooms/36882921   \n",
       "250            24647482            https://www.airbnb.com/rooms/24647482   \n",
       "\n",
       "                                                  name    host_id   \n",
       "5        New Amazing 2 bedroom apartment in Rambla del  127482361  \\\n",
       "11                        3 Bedroom apartment Sant Pau      10704   \n",
       "22                  Cathedral Penthouse. (Temporal). m   21726991   \n",
       "36                               Art Gallery Apartment    4396136   \n",
       "86                         Ola Living Santa Anna Attic   33278356   \n",
       "93                  PISO CON PISCINA EN VILLA OLIMPICA    8210620   \n",
       "96       Apart with balcony, Plaza España/Sants (1822)  146682595   \n",
       "120                              Art Gallery Apartment    9784103   \n",
       "131                                   Sant Domenec 2 1   21873399   \n",
       "175                Paseo de Gracia bright flat up to 5  158023606   \n",
       "184                Wonderful & renovated 2BR apartment  362312215   \n",
       "185  a31r 3 bedr & 1 bath \"Acomodis\" apartment El B...    1447144   \n",
       "200                                 Sagrada Familia 53  174751009   \n",
       "210              CENTRAL BOUTIQUE APARTMENT - 5 plazas  267600211   \n",
       "219                    One-bedroom apartment en Gracia  157746231   \n",
       "221       1-3 · Increíble apartamento recién reformado  327616183   \n",
       "236                    Pl. Espanya 3-bedroom Apartment  375861603   \n",
       "244       Amazing classic apartment by Sagrada Familia  161380107   \n",
       "248             Modern Villa in Eixample with Sea Near  270230553   \n",
       "250                           Central Apartment Tetuan    1391607   \n",
       "\n",
       "                                        host_url            host_name   \n",
       "5    https://www.airbnb.com/users/show/127482361               Apkeys  \\\n",
       "11       https://www.airbnb.com/users/show/10704            Weflating   \n",
       "22    https://www.airbnb.com/users/show/21726991               Silvia   \n",
       "36     https://www.airbnb.com/users/show/4396136           Homesearch   \n",
       "86    https://www.airbnb.com/users/show/33278356                  Ola   \n",
       "93     https://www.airbnb.com/users/show/8210620              Beatriz   \n",
       "96   https://www.airbnb.com/users/show/146682595           Ana & Rafa   \n",
       "120    https://www.airbnb.com/users/show/9784103             Apartime   \n",
       "131   https://www.airbnb.com/users/show/21873399                  Sol   \n",
       "175  https://www.airbnb.com/users/show/158023606   Habitat Apartments   \n",
       "184  https://www.airbnb.com/users/show/362312215               Xavier   \n",
       "185    https://www.airbnb.com/users/show/1447144  Acomodis Apartments   \n",
       "200  https://www.airbnb.com/users/show/174751009               Albert   \n",
       "210  https://www.airbnb.com/users/show/267600211           BBarcelona   \n",
       "219  https://www.airbnb.com/users/show/157746231              Natalia   \n",
       "221  https://www.airbnb.com/users/show/327616183         Alvaro & Pol   \n",
       "236  https://www.airbnb.com/users/show/375861603                Maite   \n",
       "244  https://www.airbnb.com/users/show/161380107             Francesc   \n",
       "248  https://www.airbnb.com/users/show/270230553     Linda - BELVILLA   \n",
       "250    https://www.airbnb.com/users/show/1391607       Aline I Andrea   \n",
       "\n",
       "     host_since        host_location  host_response_time host_response_rate   \n",
       "5    2017-04-25     Barcelona, Spain      within an hour               100%  \\\n",
       "11   2009-03-19     Barcelona, Spain      within an hour                84%   \n",
       "22   2014-09-24                  NaN        within a day                91%   \n",
       "36   2012-12-13     Barcelona, Spain      within an hour                92%   \n",
       "86   2015-05-13     Barcelona, Spain      within an hour                99%   \n",
       "93   2013-08-17     Barcelona, Spain      within an hour               100%   \n",
       "96   2017-08-18     Barcelona, Spain      within an hour               100%   \n",
       "120  2013-11-03     Barcelona, Spain      within an hour                83%   \n",
       "131  2014-09-28     Barcelona, Spain        within a day                73%   \n",
       "175  2017-11-09     Barcelona, Spain      within an hour                99%   \n",
       "184  2020-08-14                  NaN      within an hour               100%   \n",
       "185  2011-11-27     Barcelona, Spain        within a day                50%   \n",
       "200  2018-02-22     Barcelona, Spain      within an hour                97%   \n",
       "210  2019-06-10     Barcelona, Spain  a few days or more                38%   \n",
       "219  2017-11-07     Catalonia, Spain        within a day                86%   \n",
       "221  2020-01-15     Barcelona, Spain      within an hour               100%   \n",
       "236  2020-11-16      Alicante, Spain  a few days or more                 0%   \n",
       "244  2017-12-05                  NaN      within an hour               100%   \n",
       "248  2019-06-21  Zürich, Switzerland      within an hour               100%   \n",
       "250  2011-11-10     Barcelona, Spain  within a few hours                98%   \n",
       "\n",
       "     ... calculated_host_listings_count   \n",
       "5    ...                              8  \\\n",
       "11   ...                             27   \n",
       "22   ...                             48   \n",
       "36   ...                             28   \n",
       "86   ...                             62   \n",
       "93   ...                              3   \n",
       "96   ...                              8   \n",
       "120  ...                             18   \n",
       "131  ...                             35   \n",
       "175  ...                            136   \n",
       "184  ...                             13   \n",
       "185  ...                            123   \n",
       "200  ...                             20   \n",
       "210  ...                             19   \n",
       "219  ...                             37   \n",
       "221  ...                             20   \n",
       "236  ...                              1   \n",
       "244  ...                             15   \n",
       "248  ...                             14   \n",
       "250  ...                            121   \n",
       "\n",
       "    calculated_host_listings_count_entire_homes   \n",
       "5                                             8  \\\n",
       "11                                           22   \n",
       "22                                           48   \n",
       "36                                           28   \n",
       "86                                           46   \n",
       "93                                            3   \n",
       "96                                            8   \n",
       "120                                          18   \n",
       "131                                          34   \n",
       "175                                         136   \n",
       "184                                          13   \n",
       "185                                         123   \n",
       "200                                          20   \n",
       "210                                          19   \n",
       "219                                          37   \n",
       "221                                          20   \n",
       "236                                           1   \n",
       "244                                          15   \n",
       "248                                          14   \n",
       "250                                         121   \n",
       "\n",
       "    calculated_host_listings_count_private_rooms   \n",
       "5                                              0  \\\n",
       "11                                             3   \n",
       "22                                             0   \n",
       "36                                             0   \n",
       "86                                            16   \n",
       "93                                             0   \n",
       "96                                             0   \n",
       "120                                            0   \n",
       "131                                            1   \n",
       "175                                            0   \n",
       "184                                            0   \n",
       "185                                            0   \n",
       "200                                            0   \n",
       "210                                            0   \n",
       "219                                            0   \n",
       "221                                            0   \n",
       "236                                            0   \n",
       "244                                            0   \n",
       "248                                            0   \n",
       "250                                            0   \n",
       "\n",
       "    calculated_host_listings_count_shared_rooms reviews_per_month   host_type   \n",
       "5                                             0              1.00     private  \\\n",
       "11                                            0              0.42  commercial   \n",
       "22                                            0               NaN     private   \n",
       "36                                            0              0.21  commercial   \n",
       "86                                            0              1.20  commercial   \n",
       "93                                            0              0.46     private   \n",
       "96                                            0              2.70  commercial   \n",
       "120                                           0              0.28  commercial   \n",
       "131                                           0               NaN     private   \n",
       "175                                           0              0.97  commercial   \n",
       "184                                           0              5.66     private   \n",
       "185                                           0               NaN  commercial   \n",
       "200                                           0              1.40  commercial   \n",
       "210                                           0               NaN  commercial   \n",
       "219                                           0              0.77     private   \n",
       "221                                           0              1.83  commercial   \n",
       "236                                           0               NaN  commercial   \n",
       "244                                           0              0.53  commercial   \n",
       "248                                           0               NaN  commercial   \n",
       "250                                           0              1.59  commercial   \n",
       "\n",
       "    status_license  total_listings       multi_listings        short_term  \n",
       "5            reuse               8         6-9 listings  Short term stays  \n",
       "11           reuse              26       20-49 listings  Short term stays  \n",
       "22           reuse              36       20-49 listings  Short term stays  \n",
       "36           reuse              28       20-49 listings  Short term stays  \n",
       "86           reuse              60  50 or more listings  Short term stays  \n",
       "93           reuse               2         2-3 listings  Short term stays  \n",
       "96           reuse               8         6-9 listings  Short term stays  \n",
       "120          reuse              18       10-19 listings  Short term stays  \n",
       "131          reuse              35       20-49 listings  Short term stays  \n",
       "175          reuse             122  50 or more listings  Short term stays  \n",
       "184          reuse               8         6-9 listings  Short term stays  \n",
       "185          reuse              96  50 or more listings  Short term stays  \n",
       "200          reuse              20       20-49 listings  Short term stays  \n",
       "210          reuse              18       10-19 listings  Short term stays  \n",
       "219          reuse              37       20-49 listings  Short term stays  \n",
       "221          reuse              20       20-49 listings  Short term stays  \n",
       "236          reuse               1       single listing  Short term stays  \n",
       "244          reuse              15       10-19 listings  Short term stays  \n",
       "248          reuse               9         6-9 listings  Short term stays  \n",
       "250          reuse             121  50 or more listings  Short term stays  \n",
       "\n",
       "[20 rows x 64 columns]"
      ]
     },
     "execution_count": 50,
     "metadata": {},
     "output_type": "execute_result"
    }
   ],
   "source": [
    "reuse = bcn[(bcn['status_license'] == 'reuse') & (bcn['room_type'] == 'Entire home/apt')]\n",
    "reuse.head(20)"
   ]
  },
  {
   "cell_type": "code",
   "execution_count": 51,
   "id": "9eb64923-263a-4ea0-a504-e90b07fb119c",
   "metadata": {
    "tags": []
   },
   "outputs": [
    {
     "data": {
      "text/plain": [
       "<Axes: ylabel='status_license'>"
      ]
     },
     "execution_count": 51,
     "metadata": {},
     "output_type": "execute_result"
    },
    {
     "data": {
      "image/png": "[encoded data removed]",
      "text/plain": [
       "<Figure size 640x480 with 1 Axes>"
      ]
     },
     "metadata": {},
     "output_type": "display_data"
    }
   ],
   "source": [
    "commercial['status_license'].value_counts(normalize=True).sort_values(ascending=False).plot(kind='barh')"
   ]
  },
  {
   "cell_type": "code",
   "execution_count": 52,
   "id": "4c735b62-21a2-4b1a-aa79-b897e750edd5",
   "metadata": {
    "tags": []
   },
   "outputs": [
    {
     "data": {
      "text/plain": [
       "<Axes: ylabel='status_license'>"
      ]
     },
     "execution_count": 52,
     "metadata": {},
     "output_type": "execute_result"
    },
    {
     "data": {
      "image/png": "[encoded data removed]",
      "text/plain": [
       "<Figure size 640x480 with 1 Axes>"
      ]
     },
     "metadata": {},
     "output_type": "display_data"
    }
   ],
   "source": [
    "private['status_license'].value_counts(normalize=True).sort_values(ascending=False).plot(kind='barh')"
   ]
  },
  {
   "cell_type": "code",
   "execution_count": 53,
   "id": "df8f48ff-e1cf-47a0-800c-df8ed39e1891",
   "metadata": {
    "tags": []
   },
   "outputs": [
    {
     "data": {
      "text/plain": [
       "status_license\n",
       "no license       0.331822\n",
       "ok               0.275932\n",
       "claims exempt    0.259016\n",
       "reuse            0.133230\n",
       "Name: proportion, dtype: float64"
      ]
     },
     "execution_count": 53,
     "metadata": {},
     "output_type": "execute_result"
    }
   ],
   "source": [
    "bcn['status_license'].value_counts(normalize=True)"
   ]
  },
  {
   "cell_type": "code",
   "execution_count": 55,
   "id": "b3551e6e-2639-4168-abe8-e8a49a1ad9f6",
   "metadata": {
    "tags": []
   },
   "outputs": [
    {
     "data": {
      "image/png": "[encoded data removed]",
      "text/plain": [
       "<Figure size 800x500 with 1 Axes>"
      ]
     },
     "metadata": {},
     "output_type": "display_data"
    }
   ],
   "source": [
    "names =['No license: 33%', 'Ok: 28%', 'Claims exempt: 26%', 'Reuse: 13%']\n",
    "sizes = [33, 28, 26, 13]\n",
    "fig = plt.figure()\n",
    "fig.set_size_inches(8,5)\n",
    "fig.patch.set_facecolor('#242424')\n",
    "plt.rcParams['text.color'] = 'white'\n",
    "plt.rcParams\n",
    "my_circle=plt.Circle( (0,0), 0.55, color='#242424')\n",
    "plt.pie(x=sizes, labels=names, colors=c, startangle=90, wedgeprops={\"edgecolor\":'#242424'})\n",
    "p=plt.gcf()\n",
    "p.gca().add_artist(my_circle)\n",
    "plt.title(\n",
    "    label=\"Licenses\", \n",
    "    fontdict={\"fontsize\":15})\n",
    "plt.show()"
   ]
  },
  {
   "cell_type": "code",
   "execution_count": 55,
   "id": "2e32f0f1-3a59-48ec-be7b-115fb49aff90",
   "metadata": {
    "tags": []
   },
   "outputs": [
    {
     "data": {
      "text/plain": [
       "short_term\n",
       "Short term stays        0.807429\n",
       "Long term stays only    0.192571\n",
       "Name: proportion, dtype: float64"
      ]
     },
     "execution_count": 55,
     "metadata": {},
     "output_type": "execute_result"
    }
   ],
   "source": [
    "bcn['short_term'].value_counts(normalize=True)"
   ]
  },
  {
   "cell_type": "code",
   "execution_count": 94,
   "id": "d2baf3fa-db4b-4ce3-b12f-9c05b15562d5",
   "metadata": {
    "tags": []
   },
   "outputs": [
    {
     "data": {
      "image/png": "[encoded data removed]",
      "text/plain": [
       "<Figure size 800x500 with 1 Axes>"
      ]
     },
     "metadata": {},
     "output_type": "display_data"
    }
   ],
   "source": [
    "names =['Short term stays allowed: 81%', 'Long term stays only: 19%']\n",
    "sizes = [81,19]\n",
    "fig = plt.figure()\n",
    "fig.set_size_inches(8,5)\n",
    "fig.patch.set_facecolor('#242424')\n",
    "plt.rcParams['text.color'] = 'white'\n",
    "plt.rcParams\n",
    "my_circle=plt.Circle( (0,0), 0.55, color='#242424')\n",
    "plt.pie(x=sizes, labels=names, colors=['#8e9aaf', '#cbc0d3'], startangle=90, wedgeprops={\"edgecolor\":'#242424'})\n",
    "p=plt.gcf()\n",
    "p.gca().add_artist(my_circle)\n",
    "plt.title(\n",
    "    label=\"Short vs long term stays\", \n",
    "    fontdict={\"fontsize\":15})\n",
    "plt.show()"
   ]
  },
  {
   "cell_type": "code",
   "execution_count": 57,
   "id": "438947f0-05db-42bb-a77d-a83cab298ffd",
   "metadata": {
    "tags": []
   },
   "outputs": [
    {
     "data": {
      "text/plain": [
       "<Axes: ylabel='host_response_time'>"
      ]
     },
     "execution_count": 57,
     "metadata": {},
     "output_type": "execute_result"
    },
    {
     "data": {
      "image/png": "[encoded data removed]",
      "text/plain": [
       "<Figure size 640x480 with 1 Axes>"
      ]
     },
     "metadata": {},
     "output_type": "display_data"
    }
   ],
   "source": [
    "bcn['host_response_time'].value_counts(normalize=True).sort_values(ascending=False).plot(kind='barh')"
   ]
  },
  {
   "cell_type": "code",
   "execution_count": 58,
   "id": "74a504ff-f373-4484-b322-98b2916b5a01",
   "metadata": {
    "tags": []
   },
   "outputs": [
    {
     "data": {
      "text/html": [
       "<div>\n",
       "<style scoped>\n",
       "    .dataframe tbody tr th:only-of-type {\n",
       "        vertical-align: middle;\n",
       "    }\n",
       "\n",
       "    .dataframe tbody tr th {\n",
       "        vertical-align: top;\n",
       "    }\n",
       "\n",
       "    .dataframe thead th {\n",
       "        text-align: right;\n",
       "    }\n",
       "</style>\n",
       "<table border=\"1\" class=\"dataframe\">\n",
       "  <thead>\n",
       "    <tr style=\"text-align: right;\">\n",
       "      <th>host_type</th>\n",
       "      <th>commercial</th>\n",
       "      <th>not_found</th>\n",
       "      <th>private</th>\n",
       "    </tr>\n",
       "    <tr>\n",
       "      <th>room_type</th>\n",
       "      <th></th>\n",
       "      <th></th>\n",
       "      <th></th>\n",
       "    </tr>\n",
       "  </thead>\n",
       "  <tbody>\n",
       "    <tr>\n",
       "      <th>Entire home/apt</th>\n",
       "      <td>61.48</td>\n",
       "      <td>0.76</td>\n",
       "      <td>37.76</td>\n",
       "    </tr>\n",
       "    <tr>\n",
       "      <th>Hotel room</th>\n",
       "      <td>97.12</td>\n",
       "      <td>0.00</td>\n",
       "      <td>2.88</td>\n",
       "    </tr>\n",
       "    <tr>\n",
       "      <th>Private room</th>\n",
       "      <td>22.85</td>\n",
       "      <td>1.40</td>\n",
       "      <td>75.75</td>\n",
       "    </tr>\n",
       "    <tr>\n",
       "      <th>Shared room</th>\n",
       "      <td>69.57</td>\n",
       "      <td>2.61</td>\n",
       "      <td>27.83</td>\n",
       "    </tr>\n",
       "  </tbody>\n",
       "</table>\n",
       "</div>"
      ],
      "text/plain": [
       "host_type        commercial  not_found  private\n",
       "room_type                                      \n",
       "Entire home/apt       61.48       0.76    37.76\n",
       "Hotel room            97.12       0.00     2.88\n",
       "Private room          22.85       1.40    75.75\n",
       "Shared room           69.57       2.61    27.83"
      ]
     },
     "execution_count": 58,
     "metadata": {},
     "output_type": "execute_result"
    }
   ],
   "source": [
    "df_license = pd.crosstab(bcn['room_type'], bcn['host_type'], normalize='index').mul(100).round(2)\n",
    "df_license.head()"
   ]
  },
  {
   "cell_type": "code",
   "execution_count": 59,
   "id": "9d3313df-ef49-417d-b6a7-0c41010e0d47",
   "metadata": {
    "tags": []
   },
   "outputs": [
    {
     "data": {
      "text/html": [
       "<div>\n",
       "<style scoped>\n",
       "    .dataframe tbody tr th:only-of-type {\n",
       "        vertical-align: middle;\n",
       "    }\n",
       "\n",
       "    .dataframe tbody tr th {\n",
       "        vertical-align: top;\n",
       "    }\n",
       "\n",
       "    .dataframe thead th {\n",
       "        text-align: right;\n",
       "    }\n",
       "</style>\n",
       "<table border=\"1\" class=\"dataframe\">\n",
       "  <thead>\n",
       "    <tr style=\"text-align: right;\">\n",
       "      <th>room_type</th>\n",
       "      <th>Entire home/apt</th>\n",
       "      <th>Hotel room</th>\n",
       "      <th>Private room</th>\n",
       "      <th>Shared room</th>\n",
       "    </tr>\n",
       "    <tr>\n",
       "      <th>host_type</th>\n",
       "      <th></th>\n",
       "      <th></th>\n",
       "      <th></th>\n",
       "      <th></th>\n",
       "    </tr>\n",
       "  </thead>\n",
       "  <tbody>\n",
       "    <tr>\n",
       "      <th>commercial</th>\n",
       "      <td>77.93</td>\n",
       "      <td>1.98</td>\n",
       "      <td>18.52</td>\n",
       "      <td>1.57</td>\n",
       "    </tr>\n",
       "    <tr>\n",
       "      <th>not_found</th>\n",
       "      <td>44.55</td>\n",
       "      <td>0.00</td>\n",
       "      <td>52.73</td>\n",
       "      <td>2.73</td>\n",
       "    </tr>\n",
       "    <tr>\n",
       "      <th>private</th>\n",
       "      <td>43.54</td>\n",
       "      <td>0.05</td>\n",
       "      <td>55.84</td>\n",
       "      <td>0.57</td>\n",
       "    </tr>\n",
       "  </tbody>\n",
       "</table>\n",
       "</div>"
      ],
      "text/plain": [
       "room_type   Entire home/apt  Hotel room  Private room  Shared room\n",
       "host_type                                                         \n",
       "commercial            77.93        1.98         18.52         1.57\n",
       "not_found             44.55        0.00         52.73         2.73\n",
       "private               43.54        0.05         55.84         0.57"
      ]
     },
     "execution_count": 59,
     "metadata": {},
     "output_type": "execute_result"
    }
   ],
   "source": [
    "df_license = pd.crosstab(bcn['host_type'], bcn['room_type'], normalize='index').mul(100).round(2)\n",
    "df_license.head()"
   ]
  },
  {
   "cell_type": "code",
   "execution_count": 60,
   "id": "a9178e7a-be54-4a63-aa56-4c91ddc236ef",
   "metadata": {
    "tags": []
   },
   "outputs": [
    {
     "data": {
      "text/html": [
       "<div>\n",
       "<style scoped>\n",
       "    .dataframe tbody tr th:only-of-type {\n",
       "        vertical-align: middle;\n",
       "    }\n",
       "\n",
       "    .dataframe tbody tr th {\n",
       "        vertical-align: top;\n",
       "    }\n",
       "\n",
       "    .dataframe thead th {\n",
       "        text-align: right;\n",
       "    }\n",
       "</style>\n",
       "<table border=\"1\" class=\"dataframe\">\n",
       "  <thead>\n",
       "    <tr style=\"text-align: right;\">\n",
       "      <th>multi_listings</th>\n",
       "      <th>10-19 listings</th>\n",
       "      <th>2-3 listings</th>\n",
       "      <th>20-49 listings</th>\n",
       "      <th>4-5 listings</th>\n",
       "      <th>50 or more listings</th>\n",
       "      <th>6-9 listings</th>\n",
       "      <th>single listing</th>\n",
       "    </tr>\n",
       "    <tr>\n",
       "      <th>host_type</th>\n",
       "      <th></th>\n",
       "      <th></th>\n",
       "      <th></th>\n",
       "      <th></th>\n",
       "      <th></th>\n",
       "      <th></th>\n",
       "      <th></th>\n",
       "    </tr>\n",
       "  </thead>\n",
       "  <tbody>\n",
       "    <tr>\n",
       "      <th>commercial</th>\n",
       "      <td>16.48</td>\n",
       "      <td>8.99</td>\n",
       "      <td>27.16</td>\n",
       "      <td>8.62</td>\n",
       "      <td>19.91</td>\n",
       "      <td>12.42</td>\n",
       "      <td>6.41</td>\n",
       "    </tr>\n",
       "    <tr>\n",
       "      <th>not_found</th>\n",
       "      <td>8.18</td>\n",
       "      <td>24.55</td>\n",
       "      <td>17.27</td>\n",
       "      <td>5.45</td>\n",
       "      <td>9.09</td>\n",
       "      <td>8.18</td>\n",
       "      <td>27.27</td>\n",
       "    </tr>\n",
       "    <tr>\n",
       "      <th>private</th>\n",
       "      <td>4.69</td>\n",
       "      <td>24.77</td>\n",
       "      <td>7.66</td>\n",
       "      <td>7.18</td>\n",
       "      <td>1.43</td>\n",
       "      <td>5.86</td>\n",
       "      <td>48.40</td>\n",
       "    </tr>\n",
       "  </tbody>\n",
       "</table>\n",
       "</div>"
      ],
      "text/plain": [
       "multi_listings  10-19 listings  2-3 listings  20-49 listings  4-5 listings   \n",
       "host_type                                                                    \n",
       "commercial               16.48          8.99           27.16          8.62  \\\n",
       "not_found                 8.18         24.55           17.27          5.45   \n",
       "private                   4.69         24.77            7.66          7.18   \n",
       "\n",
       "multi_listings  50 or more listings  6-9 listings  single listing  \n",
       "host_type                                                          \n",
       "commercial                    19.91         12.42            6.41  \n",
       "not_found                      9.09          8.18           27.27  \n",
       "private                        1.43          5.86           48.40  "
      ]
     },
     "execution_count": 60,
     "metadata": {},
     "output_type": "execute_result"
    }
   ],
   "source": [
    "df_license = pd.crosstab(bcn['host_type'], bcn['multi_listings'], normalize='index').mul(100).round(2)\n",
    "df_license.head()"
   ]
  },
  {
   "cell_type": "code",
   "execution_count": 61,
   "id": "5235e013-2a0d-4b4b-a461-a192f0d87ba3",
   "metadata": {
    "tags": []
   },
   "outputs": [
    {
     "data": {
      "text/plain": [
       "Index(['id', 'listing_url', 'name', 'host_id', 'host_url', 'host_name',\n",
       "       'host_since', 'host_location', 'host_response_time',\n",
       "       'host_response_rate', 'host_acceptance_rate', 'host_is_superhost',\n",
       "       'host_neighbourhood', 'host_verifications', 'host_has_profile_pic',\n",
       "       'host_identity_verified', 'neighbourhood_group_cleansed', 'latitude',\n",
       "       'longitude', 'property_type', 'room_type', 'accommodates',\n",
       "       'bathrooms_text', 'bedrooms', 'beds', 'amenities', 'price',\n",
       "       'minimum_nights', 'maximum_nights', 'minimum_minimum_nights',\n",
       "       'maximum_minimum_nights', 'minimum_maximum_nights',\n",
       "       'maximum_maximum_nights', 'minimum_nights_avg_ntm',\n",
       "       'maximum_nights_avg_ntm', 'has_availability', 'availability_30',\n",
       "       'availability_60', 'availability_90', 'availability_365',\n",
       "       'number_of_reviews', 'number_of_reviews_ltm', 'number_of_reviews_l30d',\n",
       "       'first_review', 'last_review', 'review_scores_rating',\n",
       "       'review_scores_accuracy', 'review_scores_cleanliness',\n",
       "       'review_scores_checkin', 'review_scores_communication',\n",
       "       'review_scores_location', 'review_scores_value', 'license',\n",
       "       'instant_bookable', 'calculated_host_listings_count',\n",
       "       'calculated_host_listings_count_entire_homes',\n",
       "       'calculated_host_listings_count_private_rooms',\n",
       "       'calculated_host_listings_count_shared_rooms', 'reviews_per_month',\n",
       "       'host_type', 'status_license', 'total_listings', 'multi_listings',\n",
       "       'short_term'],\n",
       "      dtype='object')"
      ]
     },
     "execution_count": 61,
     "metadata": {},
     "output_type": "execute_result"
    }
   ],
   "source": [
    "bcn.columns"
   ]
  },
  {
   "cell_type": "code",
   "execution_count": 62,
   "id": "e82901f4-b79b-4e3c-b0ee-e972b66ed063",
   "metadata": {
    "tags": []
   },
   "outputs": [
    {
     "data": {
      "text/plain": [
       "(1505, 64)"
      ]
     },
     "execution_count": 62,
     "metadata": {},
     "output_type": "execute_result"
    }
   ],
   "source": [
    "private_with_many_listings = bcn[(bcn['total_listings'] > 3) & (bcn['host_type'] == 'private')]\n",
    "private_with_many_listings.shape"
   ]
  },
  {
   "cell_type": "code",
   "execution_count": 63,
   "id": "e595b16b-16e9-4bcd-b771-03e0b797bcf9",
   "metadata": {
    "tags": []
   },
   "outputs": [
    {
     "data": {
      "text/html": [
       "<div>\n",
       "<style scoped>\n",
       "    .dataframe tbody tr th:only-of-type {\n",
       "        vertical-align: middle;\n",
       "    }\n",
       "\n",
       "    .dataframe tbody tr th {\n",
       "        vertical-align: top;\n",
       "    }\n",
       "\n",
       "    .dataframe thead th {\n",
       "        text-align: right;\n",
       "    }\n",
       "</style>\n",
       "<table border=\"1\" class=\"dataframe\">\n",
       "  <thead>\n",
       "    <tr style=\"text-align: right;\">\n",
       "      <th>status_license</th>\n",
       "      <th>claims exempt</th>\n",
       "      <th>no license</th>\n",
       "      <th>ok</th>\n",
       "      <th>reuse</th>\n",
       "    </tr>\n",
       "    <tr>\n",
       "      <th>host_type</th>\n",
       "      <th></th>\n",
       "      <th></th>\n",
       "      <th></th>\n",
       "      <th></th>\n",
       "    </tr>\n",
       "  </thead>\n",
       "  <tbody>\n",
       "    <tr>\n",
       "      <th>commercial</th>\n",
       "      <td>13.27</td>\n",
       "      <td>25.28</td>\n",
       "      <td>39.43</td>\n",
       "      <td>22.03</td>\n",
       "    </tr>\n",
       "    <tr>\n",
       "      <th>not_found</th>\n",
       "      <td>47.27</td>\n",
       "      <td>32.73</td>\n",
       "      <td>15.45</td>\n",
       "      <td>4.55</td>\n",
       "    </tr>\n",
       "    <tr>\n",
       "      <th>private</th>\n",
       "      <td>36.98</td>\n",
       "      <td>38.71</td>\n",
       "      <td>18.41</td>\n",
       "      <td>5.90</td>\n",
       "    </tr>\n",
       "  </tbody>\n",
       "</table>\n",
       "</div>"
      ],
      "text/plain": [
       "status_license  claims exempt  no license     ok  reuse\n",
       "host_type                                              \n",
       "commercial              13.27       25.28  39.43  22.03\n",
       "not_found               47.27       32.73  15.45   4.55\n",
       "private                 36.98       38.71  18.41   5.90"
      ]
     },
     "execution_count": 63,
     "metadata": {},
     "output_type": "execute_result"
    }
   ],
   "source": [
    "df_license = pd.crosstab(bcn['host_type'], bcn['status_license'], normalize='index').mul(100).round(2)\n",
    "df_license.head()"
   ]
  },
  {
   "cell_type": "code",
   "execution_count": 64,
   "id": "e4d930fb-9f21-4c43-a886-df89d8b52e62",
   "metadata": {
    "tags": []
   },
   "outputs": [],
   "source": [
    "host_types = bcn.groupby(['host_type']).agg(listings = ('id', 'count'), listings_avg = ('total_listings', 'mean'), calculated_host_listings_count = ('calculated_host_listings_count', 'mean'),calculated_host_listings_count_entire_homes = ('calculated_host_listings_count_entire_homes', 'mean'), price = ('price', 'mean'), minimum_nights = ('minimum_nights', 'mean'), number_of_reviews = ('number_of_reviews', 'mean'), rating = ('review_scores_rating', 'mean'), reviews_month =('reviews_per_month', 'mean'))"
   ]
  },
  {
   "cell_type": "code",
   "execution_count": 65,
   "id": "2e2074b6-d6d4-49bd-8f02-d6b00dacbf41",
   "metadata": {
    "tags": []
   },
   "outputs": [
    {
     "data": {
      "text/html": [
       "<div>\n",
       "<style scoped>\n",
       "    .dataframe tbody tr th:only-of-type {\n",
       "        vertical-align: middle;\n",
       "    }\n",
       "\n",
       "    .dataframe tbody tr th {\n",
       "        vertical-align: top;\n",
       "    }\n",
       "\n",
       "    .dataframe thead th {\n",
       "        text-align: right;\n",
       "    }\n",
       "</style>\n",
       "<table border=\"1\" class=\"dataframe\">\n",
       "  <thead>\n",
       "    <tr style=\"text-align: right;\">\n",
       "      <th></th>\n",
       "      <th>listings</th>\n",
       "      <th>listings_avg</th>\n",
       "      <th>calculated_host_listings_count</th>\n",
       "      <th>calculated_host_listings_count_entire_homes</th>\n",
       "      <th>price</th>\n",
       "      <th>minimum_nights</th>\n",
       "      <th>number_of_reviews</th>\n",
       "      <th>rating</th>\n",
       "      <th>reviews_month</th>\n",
       "    </tr>\n",
       "    <tr>\n",
       "      <th>host_type</th>\n",
       "      <th></th>\n",
       "      <th></th>\n",
       "      <th></th>\n",
       "      <th></th>\n",
       "      <th></th>\n",
       "      <th></th>\n",
       "      <th></th>\n",
       "      <th></th>\n",
       "      <th></th>\n",
       "    </tr>\n",
       "  </thead>\n",
       "  <tbody>\n",
       "    <tr>\n",
       "      <th>commercial</th>\n",
       "      <td>5103</td>\n",
       "      <td>38.215951</td>\n",
       "      <td>40.521654</td>\n",
       "      <td>35.981188</td>\n",
       "      <td>139.243582</td>\n",
       "      <td>12.345483</td>\n",
       "      <td>42.029199</td>\n",
       "      <td>4.493831</td>\n",
       "      <td>1.368383</td>\n",
       "    </tr>\n",
       "    <tr>\n",
       "      <th>not_found</th>\n",
       "      <td>110</td>\n",
       "      <td>15.463636</td>\n",
       "      <td>16.745455</td>\n",
       "      <td>13.809091</td>\n",
       "      <td>88.618182</td>\n",
       "      <td>15.054545</td>\n",
       "      <td>37.527273</td>\n",
       "      <td>4.498060</td>\n",
       "      <td>2.036716</td>\n",
       "    </tr>\n",
       "    <tr>\n",
       "      <th>private</th>\n",
       "      <td>5611</td>\n",
       "      <td>6.062734</td>\n",
       "      <td>6.191944</td>\n",
       "      <td>4.106755</td>\n",
       "      <td>79.684726</td>\n",
       "      <td>17.503654</td>\n",
       "      <td>47.540902</td>\n",
       "      <td>4.568772</td>\n",
       "      <td>1.270780</td>\n",
       "    </tr>\n",
       "  </tbody>\n",
       "</table>\n",
       "</div>"
      ],
      "text/plain": [
       "            listings  listings_avg  calculated_host_listings_count   \n",
       "host_type                                                            \n",
       "commercial      5103     38.215951                       40.521654  \\\n",
       "not_found        110     15.463636                       16.745455   \n",
       "private         5611      6.062734                        6.191944   \n",
       "\n",
       "            calculated_host_listings_count_entire_homes       price   \n",
       "host_type                                                             \n",
       "commercial                                    35.981188  139.243582  \\\n",
       "not_found                                     13.809091   88.618182   \n",
       "private                                        4.106755   79.684726   \n",
       "\n",
       "            minimum_nights  number_of_reviews    rating  reviews_month  \n",
       "host_type                                                               \n",
       "commercial       12.345483          42.029199  4.493831       1.368383  \n",
       "not_found        15.054545          37.527273  4.498060       2.036716  \n",
       "private          17.503654          47.540902  4.568772       1.270780  "
      ]
     },
     "execution_count": 65,
     "metadata": {},
     "output_type": "execute_result"
    }
   ],
   "source": [
    "host_types"
   ]
  },
  {
   "cell_type": "code",
   "execution_count": 66,
   "id": "6f7ae909-70bf-40b2-933f-dcb63f3fde9d",
   "metadata": {},
   "outputs": [
    {
     "data": {
      "text/html": [
       "<div>\n",
       "<style scoped>\n",
       "    .dataframe tbody tr th:only-of-type {\n",
       "        vertical-align: middle;\n",
       "    }\n",
       "\n",
       "    .dataframe tbody tr th {\n",
       "        vertical-align: top;\n",
       "    }\n",
       "\n",
       "    .dataframe thead th {\n",
       "        text-align: right;\n",
       "    }\n",
       "</style>\n",
       "<table border=\"1\" class=\"dataframe\">\n",
       "  <thead>\n",
       "    <tr style=\"text-align: right;\">\n",
       "      <th>host_is_superhost</th>\n",
       "      <th>f</th>\n",
       "      <th>t</th>\n",
       "    </tr>\n",
       "    <tr>\n",
       "      <th>host_type</th>\n",
       "      <th></th>\n",
       "      <th></th>\n",
       "    </tr>\n",
       "  </thead>\n",
       "  <tbody>\n",
       "    <tr>\n",
       "      <th>commercial</th>\n",
       "      <td>84.85</td>\n",
       "      <td>15.15</td>\n",
       "    </tr>\n",
       "    <tr>\n",
       "      <th>not_found</th>\n",
       "      <td>90.91</td>\n",
       "      <td>9.09</td>\n",
       "    </tr>\n",
       "    <tr>\n",
       "      <th>private</th>\n",
       "      <td>77.85</td>\n",
       "      <td>22.15</td>\n",
       "    </tr>\n",
       "  </tbody>\n",
       "</table>\n",
       "</div>"
      ],
      "text/plain": [
       "host_is_superhost      f      t\n",
       "host_type                      \n",
       "commercial         84.85  15.15\n",
       "not_found          90.91   9.09\n",
       "private            77.85  22.15"
      ]
     },
     "execution_count": 66,
     "metadata": {},
     "output_type": "execute_result"
    }
   ],
   "source": [
    "df_license = pd.crosstab(bcn['host_type'], bcn['host_is_superhost'], normalize='index').mul(100).round(2)\n",
    "df_license.head()"
   ]
  },
  {
   "cell_type": "code",
   "execution_count": 67,
   "id": "5b1c4504-e1e3-4f2e-93d8-53abb2ca2bb5",
   "metadata": {
    "tags": []
   },
   "outputs": [
    {
     "data": {
      "text/html": [
       "<div>\n",
       "<style scoped>\n",
       "    .dataframe tbody tr th:only-of-type {\n",
       "        vertical-align: middle;\n",
       "    }\n",
       "\n",
       "    .dataframe tbody tr th {\n",
       "        vertical-align: top;\n",
       "    }\n",
       "\n",
       "    .dataframe thead th {\n",
       "        text-align: right;\n",
       "    }\n",
       "</style>\n",
       "<table border=\"1\" class=\"dataframe\">\n",
       "  <thead>\n",
       "    <tr style=\"text-align: right;\">\n",
       "      <th>host_identity_verified</th>\n",
       "      <th>f</th>\n",
       "      <th>t</th>\n",
       "    </tr>\n",
       "    <tr>\n",
       "      <th>host_type</th>\n",
       "      <th></th>\n",
       "      <th></th>\n",
       "    </tr>\n",
       "  </thead>\n",
       "  <tbody>\n",
       "    <tr>\n",
       "      <th>commercial</th>\n",
       "      <td>6.23</td>\n",
       "      <td>93.77</td>\n",
       "    </tr>\n",
       "    <tr>\n",
       "      <th>not_found</th>\n",
       "      <td>12.73</td>\n",
       "      <td>87.27</td>\n",
       "    </tr>\n",
       "    <tr>\n",
       "      <th>private</th>\n",
       "      <td>16.01</td>\n",
       "      <td>83.99</td>\n",
       "    </tr>\n",
       "  </tbody>\n",
       "</table>\n",
       "</div>"
      ],
      "text/plain": [
       "host_identity_verified      f      t\n",
       "host_type                           \n",
       "commercial               6.23  93.77\n",
       "not_found               12.73  87.27\n",
       "private                 16.01  83.99"
      ]
     },
     "execution_count": 67,
     "metadata": {},
     "output_type": "execute_result"
    }
   ],
   "source": [
    "df_license = pd.crosstab(bcn['host_type'], bcn['host_identity_verified'], normalize='index').mul(100).round(2)\n",
    "df_license.head()\n"
   ]
  },
  {
   "cell_type": "code",
   "execution_count": 68,
   "id": "34538a75-0c53-45df-b02e-0df619f1fa2f",
   "metadata": {
    "tags": []
   },
   "outputs": [
    {
     "data": {
      "text/plain": [
       "Index(['id', 'listing_url', 'name', 'host_id', 'host_url', 'host_name',\n",
       "       'host_since', 'host_location', 'host_response_time',\n",
       "       'host_response_rate', 'host_acceptance_rate', 'host_is_superhost',\n",
       "       'host_neighbourhood', 'host_verifications', 'host_has_profile_pic',\n",
       "       'host_identity_verified', 'neighbourhood_group_cleansed', 'latitude',\n",
       "       'longitude', 'property_type', 'room_type', 'accommodates',\n",
       "       'bathrooms_text', 'bedrooms', 'beds', 'amenities', 'price',\n",
       "       'minimum_nights', 'maximum_nights', 'minimum_minimum_nights',\n",
       "       'maximum_minimum_nights', 'minimum_maximum_nights',\n",
       "       'maximum_maximum_nights', 'minimum_nights_avg_ntm',\n",
       "       'maximum_nights_avg_ntm', 'has_availability', 'availability_30',\n",
       "       'availability_60', 'availability_90', 'availability_365',\n",
       "       'number_of_reviews', 'number_of_reviews_ltm', 'number_of_reviews_l30d',\n",
       "       'first_review', 'last_review', 'review_scores_rating',\n",
       "       'review_scores_accuracy', 'review_scores_cleanliness',\n",
       "       'review_scores_checkin', 'review_scores_communication',\n",
       "       'review_scores_location', 'review_scores_value', 'license',\n",
       "       'instant_bookable', 'calculated_host_listings_count',\n",
       "       'calculated_host_listings_count_entire_homes',\n",
       "       'calculated_host_listings_count_private_rooms',\n",
       "       'calculated_host_listings_count_shared_rooms', 'reviews_per_month',\n",
       "       'host_type', 'status_license', 'total_listings', 'multi_listings',\n",
       "       'short_term'],\n",
       "      dtype='object')"
      ]
     },
     "execution_count": 68,
     "metadata": {},
     "output_type": "execute_result"
    }
   ],
   "source": [
    "bcn.columns"
   ]
  },
  {
   "cell_type": "code",
   "execution_count": 69,
   "id": "49273abc-2259-49da-9a20-89ceea616603",
   "metadata": {
    "tags": []
   },
   "outputs": [],
   "source": [
    "bcn_cluster = bcn.drop(['id', 'listing_url', 'name', 'host_id', 'host_url', 'host_name',\n",
    "       'host_since', 'host_location',\n",
    "       'host_response_rate',\n",
    "       'host_neighbourhood', 'host_verifications', 'host_has_profile_pic',\n",
    "       'host_identity_verified', 'neighbourhood_group_cleansed', 'latitude',\n",
    "       'longitude', 'property_type', 'accommodates',\n",
    "       'bathrooms_text', 'bedrooms', 'beds', 'amenities',\n",
    "       'minimum_minimum_nights', 'maximum_nights',\n",
    "       'maximum_minimum_nights', 'minimum_maximum_nights',\n",
    "       'maximum_maximum_nights', 'minimum_nights_avg_ntm',\n",
    "       'maximum_nights_avg_ntm', 'has_availability', 'availability_30',\n",
    "       'availability_60', 'availability_90', 'availability_365',\n",
    "       'number_of_reviews', 'number_of_reviews_ltm', 'number_of_reviews_l30d',\n",
    "       'first_review', 'last_review', 'review_scores_rating',\n",
    "       'review_scores_accuracy', 'review_scores_cleanliness',\n",
    "       'review_scores_checkin', 'review_scores_communication',\n",
    "       'review_scores_location', 'review_scores_value', 'license','reviews_per_month', 'total_listings', 'multi_listings'], axis=1)"
   ]
  },
  {
   "cell_type": "code",
   "execution_count": 70,
   "id": "0057ad03-4a53-44ec-aba1-bb452892d4ea",
   "metadata": {
    "tags": []
   },
   "outputs": [
    {
     "data": {
      "text/plain": [
       "Index(['host_response_time', 'host_acceptance_rate', 'host_is_superhost',\n",
       "       'room_type', 'price', 'minimum_nights', 'instant_bookable',\n",
       "       'calculated_host_listings_count',\n",
       "       'calculated_host_listings_count_entire_homes',\n",
       "       'calculated_host_listings_count_private_rooms',\n",
       "       'calculated_host_listings_count_shared_rooms', 'host_type',\n",
       "       'status_license', 'short_term'],\n",
       "      dtype='object')"
      ]
     },
     "execution_count": 70,
     "metadata": {},
     "output_type": "execute_result"
    }
   ],
   "source": [
    "bcn_cluster.columns"
   ]
  },
  {
   "cell_type": "code",
   "execution_count": 71,
   "id": "e2426083-123e-4810-b900-25858625d41e",
   "metadata": {
    "tags": []
   },
   "outputs": [
    {
     "name": "stdout",
     "output_type": "stream",
     "text": [
      "<class 'pandas.core.frame.DataFrame'>\n",
      "Index: 14779 entries, 0 to 15654\n",
      "Data columns (total 14 columns):\n",
      " #   Column                                        Non-Null Count  Dtype  \n",
      "---  ------                                        --------------  -----  \n",
      " 0   host_response_time                            11879 non-null  object \n",
      " 1   host_acceptance_rate                          12325 non-null  object \n",
      " 2   host_is_superhost                             14778 non-null  object \n",
      " 3   room_type                                     14779 non-null  object \n",
      " 4   price                                         14779 non-null  float64\n",
      " 5   minimum_nights                                14779 non-null  int64  \n",
      " 6   instant_bookable                              14779 non-null  object \n",
      " 7   calculated_host_listings_count                14779 non-null  int64  \n",
      " 8   calculated_host_listings_count_entire_homes   14779 non-null  int64  \n",
      " 9   calculated_host_listings_count_private_rooms  14779 non-null  int64  \n",
      " 10  calculated_host_listings_count_shared_rooms   14779 non-null  int64  \n",
      " 11  host_type                                     10824 non-null  object \n",
      " 12  status_license                                14779 non-null  object \n",
      " 13  short_term                                    14779 non-null  object \n",
      "dtypes: float64(1), int64(5), object(8)\n",
      "memory usage: 2.2+ MB\n"
     ]
    }
   ],
   "source": [
    "bcn_cluster.info()"
   ]
  },
  {
   "cell_type": "code",
   "execution_count": 72,
   "id": "5304dab9-7959-484f-b240-8fe5fff82759",
   "metadata": {
    "tags": []
   },
   "outputs": [],
   "source": [
    "bcn_cluster['host_acceptance_rate'] = bcn_cluster['host_acceptance_rate'].str.rstrip(\"%\").astype(float)/100"
   ]
  },
  {
   "cell_type": "code",
   "execution_count": 73,
   "id": "d8c010be-8ace-4696-83aa-64aa86d7e3e9",
   "metadata": {
    "tags": []
   },
   "outputs": [],
   "source": [
    "bcn_cluster['host_response_time'] = bcn_cluster['host_response_time'].fillna('within an hour')"
   ]
  },
  {
   "cell_type": "code",
   "execution_count": 74,
   "id": "a24acbf2-d918-4f64-8a14-19aa5d96ca71",
   "metadata": {
    "tags": []
   },
   "outputs": [
    {
     "data": {
      "text/plain": [
       "0    1\n",
       "Name: minimum_nights, dtype: int64"
      ]
     },
     "execution_count": 74,
     "metadata": {},
     "output_type": "execute_result"
    }
   ],
   "source": [
    "mean_ar = bcn_cluster['host_acceptance_rate'].mean()\n",
    "mode_mmn = bcn_cluster['minimum_nights'].mode()\n",
    "mode_mmn"
   ]
  },
  {
   "cell_type": "code",
   "execution_count": 75,
   "id": "b61c3ba1-3da2-4967-8fec-3ae5279166c1",
   "metadata": {
    "tags": []
   },
   "outputs": [],
   "source": [
    "bcn_cluster['host_acceptance_rate'] = bcn_cluster['host_acceptance_rate'].fillna((mean_ar))"
   ]
  },
  {
   "cell_type": "code",
   "execution_count": 76,
   "id": "a848ee0b-5cb1-452f-aa7d-7fc2d3634831",
   "metadata": {
    "tags": []
   },
   "outputs": [],
   "source": [
    "bcn_cluster['minimum_nights'] = bcn_cluster['minimum_nights'].fillna(1)"
   ]
  },
  {
   "cell_type": "code",
   "execution_count": 77,
   "id": "bf841d8b-f5e7-47fb-bc19-d538366b264c",
   "metadata": {
    "tags": []
   },
   "outputs": [],
   "source": [
    "bcn_cluster['host_is_superhost'] = bcn_cluster['host_is_superhost'].fillna('f')"
   ]
  },
  {
   "cell_type": "code",
   "execution_count": 78,
   "id": "8fafb6e0-c13a-4628-b921-8cab68b9a388",
   "metadata": {
    "tags": []
   },
   "outputs": [
    {
     "name": "stdout",
     "output_type": "stream",
     "text": [
      "<class 'pandas.core.series.Series'>\n",
      "Index: 14779 entries, 0 to 15654\n",
      "Series name: host_type\n",
      "Non-Null Count  Dtype \n",
      "--------------  ----- \n",
      "10824 non-null  object\n",
      "dtypes: object(1)\n",
      "memory usage: 747.0+ KB\n"
     ]
    }
   ],
   "source": [
    "bcn_cluster['host_type'].info()"
   ]
  },
  {
   "cell_type": "code",
   "execution_count": 79,
   "id": "88935160-946a-4299-a4ff-50583d1c30d3",
   "metadata": {
    "tags": []
   },
   "outputs": [],
   "source": [
    "bcn_cluster = bcn_cluster[bcn_cluster.host_type.notnull()]"
   ]
  },
  {
   "cell_type": "code",
   "execution_count": 80,
   "id": "f4379c70-8687-4f8e-b035-5ffed6a085b1",
   "metadata": {
    "tags": []
   },
   "outputs": [],
   "source": [
    "bcn_cluster = bcn_cluster[bcn_cluster['host_type']!='not_found']"
   ]
  },
  {
   "cell_type": "code",
   "execution_count": 81,
   "id": "d9b59abf-3a8e-43ae-9065-051243ea0467",
   "metadata": {
    "tags": []
   },
   "outputs": [
    {
     "data": {
      "text/plain": [
       "(10714, 14)"
      ]
     },
     "execution_count": 81,
     "metadata": {},
     "output_type": "execute_result"
    }
   ],
   "source": [
    "bcn_cluster.shape"
   ]
  },
  {
   "cell_type": "code",
   "execution_count": 82,
   "id": "d188f545-d70c-43fd-add7-f184f710f843",
   "metadata": {
    "tags": []
   },
   "outputs": [],
   "source": [
    "from sklearn.preprocessing import LabelEncoder\n",
    "le = LabelEncoder()\n",
    "bcn_cluster['host_is_superhost'] = le.fit_transform(bcn_cluster['host_is_superhost'])"
   ]
  },
  {
   "cell_type": "code",
   "execution_count": 83,
   "id": "f8dff3bd-a437-4a20-bdbf-616d0c157bbe",
   "metadata": {
    "tags": []
   },
   "outputs": [],
   "source": [
    "bcn_cluster['instant_bookable'] = le.fit_transform(bcn_cluster['instant_bookable'])"
   ]
  },
  {
   "cell_type": "code",
   "execution_count": 84,
   "id": "783459d0-1981-4045-ab1d-a1db56f0c311",
   "metadata": {
    "tags": []
   },
   "outputs": [],
   "source": [
    "bcn_cluster_scaled = bcn_cluster.copy()"
   ]
  },
  {
   "cell_type": "code",
   "execution_count": 85,
   "id": "414cc458-7f84-4d6c-8f33-c3cbc12e0a44",
   "metadata": {
    "tags": []
   },
   "outputs": [],
   "source": [
    "from sklearn import preprocessing\n",
    "scaler = preprocessing.StandardScaler()\n",
    "bcn_cluster_scaled[['price', 'minimum_nights', 'calculated_host_listings_count',\n",
    "       'calculated_host_listings_count_entire_homes',\n",
    "       'calculated_host_listings_count_private_rooms',\n",
    "       'calculated_host_listings_count_shared_rooms', 'host_acceptance_rate']] = scaler.fit_transform(bcn_cluster_scaled[['price', 'minimum_nights', 'calculated_host_listings_count',\n",
    "       'calculated_host_listings_count_entire_homes',\n",
    "       'calculated_host_listings_count_private_rooms',\n",
    "       'calculated_host_listings_count_shared_rooms', 'host_acceptance_rate']])"
   ]
  },
  {
   "cell_type": "code",
   "execution_count": 86,
   "id": "f0e92a51-b509-40d4-a5a2-3746a95bf20d",
   "metadata": {
    "tags": []
   },
   "outputs": [],
   "source": [
    "from kmodes.kprototypes import KPrototypes"
   ]
  },
  {
   "cell_type": "code",
   "execution_count": 87,
   "id": "f521244b-7429-477a-a939-a9cfa995c712",
   "metadata": {
    "tags": []
   },
   "outputs": [],
   "source": [
    "# cost = []\n",
    "# K = range(1,9)\n",
    "# for num_clusters in list(K):\n",
    "#     kproto = KPrototypes (n_clusters=num_clusters, init = \"Cao\", n_init = 5, verbose=1)\n",
    "#     kproto.fit_predict(bcn_cluster, categorical=[0,3,11])\n",
    "#     cost.append(kproto.cost_)"
   ]
  },
  {
   "cell_type": "code",
   "execution_count": 88,
   "id": "859aedaa-5bbb-4cd2-b08d-2875d39b6707",
   "metadata": {
    "tags": []
   },
   "outputs": [],
   "source": [
    "# cost 6 clusters\n",
    "K = range(1,9)\n",
    "cost = [117606.19126621971,\n",
    " 93747.7062223681,\n",
    " 81580.14544822637,\n",
    " 68150.72072175452,\n",
    " 58679.64240554935,\n",
    " 46962.24783412709,\n",
    " 44508.94029991599,\n",
    " 35295.44332495198]"
   ]
  },
  {
   "cell_type": "code",
   "execution_count": 89,
   "id": "9cee6fcf-7327-4b9e-b663-271dc503cb06",
   "metadata": {
    "tags": []
   },
   "outputs": [
    {
     "data": {
      "image/png": "[encoded data removed]",
      "text/plain": [
       "<Figure size 640x480 with 1 Axes>"
      ]
     },
     "metadata": {},
     "output_type": "display_data"
    }
   ],
   "source": [
    "plt.plot(K, cost, 'bx-')\n",
    "plt.xlabel('No. of clusters')\n",
    "plt.ylabel('Cost')\n",
    "plt.title('Elbow Method For Optimal k')\n",
    "plt.show()"
   ]
  },
  {
   "cell_type": "code",
   "execution_count": 90,
   "id": "e909f5a8-7251-49a8-b5e6-9aac20f1855a",
   "metadata": {
    "tags": []
   },
   "outputs": [
    {
     "ename": "ValueError",
     "evalue": "could not convert string to float: 'Short term stays'",
     "output_type": "error",
     "traceback": [
      "\u001b[0;31m---------------------------------------------------------------------------\u001b[0m",
      "\u001b[0;31mValueError\u001b[0m                                Traceback (most recent call last)",
      "Cell \u001b[0;32mIn[90], line 2\u001b[0m\n\u001b[1;32m      1\u001b[0m kproto \u001b[38;5;241m=\u001b[39m KPrototypes(n_clusters\u001b[38;5;241m=\u001b[39m\u001b[38;5;241m6\u001b[39m, init\u001b[38;5;241m=\u001b[39m\u001b[38;5;124m'\u001b[39m\u001b[38;5;124mCao\u001b[39m\u001b[38;5;124m'\u001b[39m)\n\u001b[0;32m----> 2\u001b[0m clusters \u001b[38;5;241m=\u001b[39m \u001b[43mkproto\u001b[49m\u001b[38;5;241;43m.\u001b[39;49m\u001b[43mfit_predict\u001b[49m\u001b[43m(\u001b[49m\u001b[43mbcn_cluster_scaled\u001b[49m\u001b[43m,\u001b[49m\u001b[43m \u001b[49m\u001b[43mcategorical\u001b[49m\u001b[38;5;241;43m=\u001b[39;49m\u001b[43m[\u001b[49m\u001b[38;5;241;43m0\u001b[39;49m\u001b[43m,\u001b[49m\u001b[38;5;241;43m3\u001b[39;49m\u001b[43m,\u001b[49m\u001b[38;5;241;43m11\u001b[39;49m\u001b[43m,\u001b[49m\u001b[38;5;241;43m12\u001b[39;49m\u001b[43m]\u001b[49m\u001b[43m)\u001b[49m\n",
      "File \u001b[0;32m~/neuefische/Modellbauer/.venv/lib/python3.9/site-packages/kmodes/kmodes.py:154\u001b[0m, in \u001b[0;36mKModes.fit_predict\u001b[0;34m(self, X, y, **kwargs)\u001b[0m\n\u001b[1;32m    148\u001b[0m \u001b[38;5;28;01mdef\u001b[39;00m \u001b[38;5;21mfit_predict\u001b[39m(\u001b[38;5;28mself\u001b[39m, X, y\u001b[38;5;241m=\u001b[39m\u001b[38;5;28;01mNone\u001b[39;00m, \u001b[38;5;241m*\u001b[39m\u001b[38;5;241m*\u001b[39mkwargs):\n\u001b[1;32m    149\u001b[0m \u001b[38;5;250m    \u001b[39m\u001b[38;5;124;03m\"\"\"Compute cluster centroids and predict cluster index for each sample.\u001b[39;00m\n\u001b[1;32m    150\u001b[0m \n\u001b[1;32m    151\u001b[0m \u001b[38;5;124;03m    Convenience method; equivalent to calling fit(X) followed by\u001b[39;00m\n\u001b[1;32m    152\u001b[0m \u001b[38;5;124;03m    predict(X).\u001b[39;00m\n\u001b[1;32m    153\u001b[0m \u001b[38;5;124;03m    \"\"\"\u001b[39;00m\n\u001b[0;32m--> 154\u001b[0m     \u001b[38;5;28;01mreturn\u001b[39;00m \u001b[38;5;28;43mself\u001b[39;49m\u001b[38;5;241;43m.\u001b[39;49m\u001b[43mfit\u001b[49m\u001b[43m(\u001b[49m\u001b[43mX\u001b[49m\u001b[43m,\u001b[49m\u001b[43m \u001b[49m\u001b[38;5;241;43m*\u001b[39;49m\u001b[38;5;241;43m*\u001b[39;49m\u001b[43mkwargs\u001b[49m\u001b[43m)\u001b[49m\u001b[38;5;241m.\u001b[39mpredict(X, \u001b[38;5;241m*\u001b[39m\u001b[38;5;241m*\u001b[39mkwargs)\n",
      "File \u001b[0;32m~/neuefische/Modellbauer/.venv/lib/python3.9/site-packages/kmodes/kprototypes.py:161\u001b[0m, in \u001b[0;36mKPrototypes.fit\u001b[0;34m(self, X, y, categorical, sample_weight)\u001b[0m\n\u001b[1;32m    155\u001b[0m kmodes\u001b[38;5;241m.\u001b[39m_validate_sample_weight(sample_weight, n_samples\u001b[38;5;241m=\u001b[39mX\u001b[38;5;241m.\u001b[39mshape[\u001b[38;5;241m0\u001b[39m],\n\u001b[1;32m    156\u001b[0m                                n_clusters\u001b[38;5;241m=\u001b[39m\u001b[38;5;28mself\u001b[39m\u001b[38;5;241m.\u001b[39mn_clusters)\n\u001b[1;32m    158\u001b[0m \u001b[38;5;66;03m# If self.gamma is None, gamma will be automatically determined from\u001b[39;00m\n\u001b[1;32m    159\u001b[0m \u001b[38;5;66;03m# the data. The function below returns its value.\u001b[39;00m\n\u001b[1;32m    160\u001b[0m \u001b[38;5;28mself\u001b[39m\u001b[38;5;241m.\u001b[39m_enc_cluster_centroids, \u001b[38;5;28mself\u001b[39m\u001b[38;5;241m.\u001b[39m_enc_map, \u001b[38;5;28mself\u001b[39m\u001b[38;5;241m.\u001b[39mlabels_, \u001b[38;5;28mself\u001b[39m\u001b[38;5;241m.\u001b[39mcost_, \\\n\u001b[0;32m--> 161\u001b[0m \u001b[38;5;28mself\u001b[39m\u001b[38;5;241m.\u001b[39mn_iter_, \u001b[38;5;28mself\u001b[39m\u001b[38;5;241m.\u001b[39mepoch_costs_, \u001b[38;5;28mself\u001b[39m\u001b[38;5;241m.\u001b[39mgamma \u001b[38;5;241m=\u001b[39m \u001b[43mk_prototypes\u001b[49m\u001b[43m(\u001b[49m\n\u001b[1;32m    162\u001b[0m \u001b[43m    \u001b[49m\u001b[43mX\u001b[49m\u001b[43m,\u001b[49m\n\u001b[1;32m    163\u001b[0m \u001b[43m    \u001b[49m\u001b[43mcategorical\u001b[49m\u001b[43m,\u001b[49m\n\u001b[1;32m    164\u001b[0m \u001b[43m    \u001b[49m\u001b[38;5;28;43mself\u001b[39;49m\u001b[38;5;241;43m.\u001b[39;49m\u001b[43mn_clusters\u001b[49m\u001b[43m,\u001b[49m\n\u001b[1;32m    165\u001b[0m \u001b[43m    \u001b[49m\u001b[38;5;28;43mself\u001b[39;49m\u001b[38;5;241;43m.\u001b[39;49m\u001b[43mmax_iter\u001b[49m\u001b[43m,\u001b[49m\n\u001b[1;32m    166\u001b[0m \u001b[43m    \u001b[49m\u001b[38;5;28;43mself\u001b[39;49m\u001b[38;5;241;43m.\u001b[39;49m\u001b[43mnum_dissim\u001b[49m\u001b[43m,\u001b[49m\n\u001b[1;32m    167\u001b[0m \u001b[43m    \u001b[49m\u001b[38;5;28;43mself\u001b[39;49m\u001b[38;5;241;43m.\u001b[39;49m\u001b[43mcat_dissim\u001b[49m\u001b[43m,\u001b[49m\n\u001b[1;32m    168\u001b[0m \u001b[43m    \u001b[49m\u001b[38;5;28;43mself\u001b[39;49m\u001b[38;5;241;43m.\u001b[39;49m\u001b[43mgamma\u001b[49m\u001b[43m,\u001b[49m\n\u001b[1;32m    169\u001b[0m \u001b[43m    \u001b[49m\u001b[38;5;28;43mself\u001b[39;49m\u001b[38;5;241;43m.\u001b[39;49m\u001b[43minit\u001b[49m\u001b[43m,\u001b[49m\n\u001b[1;32m    170\u001b[0m \u001b[43m    \u001b[49m\u001b[38;5;28;43mself\u001b[39;49m\u001b[38;5;241;43m.\u001b[39;49m\u001b[43mn_init\u001b[49m\u001b[43m,\u001b[49m\n\u001b[1;32m    171\u001b[0m \u001b[43m    \u001b[49m\u001b[38;5;28;43mself\u001b[39;49m\u001b[38;5;241;43m.\u001b[39;49m\u001b[43mverbose\u001b[49m\u001b[43m,\u001b[49m\n\u001b[1;32m    172\u001b[0m \u001b[43m    \u001b[49m\u001b[43mrandom_state\u001b[49m\u001b[43m,\u001b[49m\n\u001b[1;32m    173\u001b[0m \u001b[43m    \u001b[49m\u001b[38;5;28;43mself\u001b[39;49m\u001b[38;5;241;43m.\u001b[39;49m\u001b[43mn_jobs\u001b[49m\u001b[43m,\u001b[49m\n\u001b[1;32m    174\u001b[0m \u001b[43m    \u001b[49m\u001b[43msample_weight\u001b[49m\u001b[43m,\u001b[49m\n\u001b[1;32m    175\u001b[0m \u001b[43m\u001b[49m\u001b[43m)\u001b[49m\n\u001b[1;32m    177\u001b[0m \u001b[38;5;28;01mreturn\u001b[39;00m \u001b[38;5;28mself\u001b[39m\n",
      "File \u001b[0;32m~/neuefische/Modellbauer/.venv/lib/python3.9/site-packages/kmodes/kprototypes.py:272\u001b[0m, in \u001b[0;36mk_prototypes\u001b[0;34m(X, categorical, n_clusters, max_iter, num_dissim, cat_dissim, gamma, init, n_init, verbose, random_state, n_jobs, sample_weight)\u001b[0m\n\u001b[1;32m    268\u001b[0m n_points \u001b[38;5;241m=\u001b[39m X\u001b[38;5;241m.\u001b[39mshape[\u001b[38;5;241m0\u001b[39m]\n\u001b[1;32m    269\u001b[0m \u001b[38;5;28;01massert\u001b[39;00m n_clusters \u001b[38;5;241m<\u001b[39m\u001b[38;5;241m=\u001b[39m n_points, \u001b[38;5;124mf\u001b[39m\u001b[38;5;124m\"\u001b[39m\u001b[38;5;124mCannot have more clusters (\u001b[39m\u001b[38;5;132;01m{\u001b[39;00mn_clusters\u001b[38;5;132;01m}\u001b[39;00m\u001b[38;5;124m) \u001b[39m\u001b[38;5;124m\"\u001b[39m \\\n\u001b[1;32m    270\u001b[0m                                \u001b[38;5;124mf\u001b[39m\u001b[38;5;124m\"\u001b[39m\u001b[38;5;124mthan data points (\u001b[39m\u001b[38;5;132;01m{\u001b[39;00mn_points\u001b[38;5;132;01m}\u001b[39;00m\u001b[38;5;124m).\u001b[39m\u001b[38;5;124m\"\u001b[39m\n\u001b[0;32m--> 272\u001b[0m Xnum, Xcat \u001b[38;5;241m=\u001b[39m \u001b[43m_split_num_cat\u001b[49m\u001b[43m(\u001b[49m\u001b[43mX\u001b[49m\u001b[43m,\u001b[49m\u001b[43m \u001b[49m\u001b[43mcategorical\u001b[49m\u001b[43m)\u001b[49m\n\u001b[1;32m    273\u001b[0m Xnum, Xcat \u001b[38;5;241m=\u001b[39m check_array(Xnum), check_array(Xcat, dtype\u001b[38;5;241m=\u001b[39m\u001b[38;5;28;01mNone\u001b[39;00m)\n\u001b[1;32m    275\u001b[0m \u001b[38;5;66;03m# Convert the categorical values in Xcat to integers for speed.\u001b[39;00m\n\u001b[1;32m    276\u001b[0m \u001b[38;5;66;03m# Based on the unique values in Xcat, we can make a mapping to achieve this.\u001b[39;00m\n",
      "File \u001b[0;32m~/neuefische/Modellbauer/.venv/lib/python3.9/site-packages/kmodes/kprototypes.py:529\u001b[0m, in \u001b[0;36m_split_num_cat\u001b[0;34m(X, categorical)\u001b[0m\n\u001b[1;32m    522\u001b[0m \u001b[38;5;28;01mdef\u001b[39;00m \u001b[38;5;21m_split_num_cat\u001b[39m(X, categorical):\n\u001b[1;32m    523\u001b[0m \u001b[38;5;250m    \u001b[39m\u001b[38;5;124;03m\"\"\"Extract numerical and categorical columns.\u001b[39;00m\n\u001b[1;32m    524\u001b[0m \u001b[38;5;124;03m    Convert to numpy arrays, if needed.\u001b[39;00m\n\u001b[1;32m    525\u001b[0m \n\u001b[1;32m    526\u001b[0m \u001b[38;5;124;03m    :param X: Feature matrix\u001b[39;00m\n\u001b[1;32m    527\u001b[0m \u001b[38;5;124;03m    :param categorical: Indices of categorical columns\u001b[39;00m\n\u001b[1;32m    528\u001b[0m \u001b[38;5;124;03m    \"\"\"\u001b[39;00m\n\u001b[0;32m--> 529\u001b[0m     Xnum \u001b[38;5;241m=\u001b[39m \u001b[43mnp\u001b[49m\u001b[38;5;241;43m.\u001b[39;49m\u001b[43masanyarray\u001b[49m\u001b[43m(\u001b[49m\u001b[43mX\u001b[49m\u001b[43m[\u001b[49m\u001b[43m:\u001b[49m\u001b[43m,\u001b[49m\u001b[43m \u001b[49m\u001b[43m[\u001b[49m\u001b[43mii\u001b[49m\u001b[43m \u001b[49m\u001b[38;5;28;43;01mfor\u001b[39;49;00m\u001b[43m \u001b[49m\u001b[43mii\u001b[49m\u001b[43m \u001b[49m\u001b[38;5;129;43;01min\u001b[39;49;00m\u001b[43m \u001b[49m\u001b[38;5;28;43mrange\u001b[39;49m\u001b[43m(\u001b[49m\u001b[43mX\u001b[49m\u001b[38;5;241;43m.\u001b[39;49m\u001b[43mshape\u001b[49m\u001b[43m[\u001b[49m\u001b[38;5;241;43m1\u001b[39;49m\u001b[43m]\u001b[49m\u001b[43m)\u001b[49m\n\u001b[1;32m    530\u001b[0m \u001b[43m                               \u001b[49m\u001b[38;5;28;43;01mif\u001b[39;49;00m\u001b[43m \u001b[49m\u001b[43mii\u001b[49m\u001b[43m \u001b[49m\u001b[38;5;129;43;01mnot\u001b[39;49;00m\u001b[43m \u001b[49m\u001b[38;5;129;43;01min\u001b[39;49;00m\u001b[43m \u001b[49m\u001b[43mcategorical\u001b[49m\u001b[43m]\u001b[49m\u001b[43m]\u001b[49m\u001b[43m)\u001b[49m\u001b[38;5;241;43m.\u001b[39;49m\u001b[43mastype\u001b[49m\u001b[43m(\u001b[49m\u001b[43mnp\u001b[49m\u001b[38;5;241;43m.\u001b[39;49m\u001b[43mfloat64\u001b[49m\u001b[43m)\u001b[49m\n\u001b[1;32m    531\u001b[0m     Xcat \u001b[38;5;241m=\u001b[39m np\u001b[38;5;241m.\u001b[39masanyarray(X[:, categorical])\n\u001b[1;32m    532\u001b[0m     \u001b[38;5;28;01mreturn\u001b[39;00m Xnum, Xcat\n",
      "\u001b[0;31mValueError\u001b[0m: could not convert string to float: 'Short term stays'"
     ]
    }
   ],
   "source": [
    "kproto = KPrototypes(n_clusters=6, init='Cao')\n",
    "clusters = kproto.fit_predict(bcn_cluster_scaled, categorical=[0,3,11,12])"
   ]
  },
  {
   "cell_type": "code",
   "execution_count": null,
   "id": "5db78784-ce81-40f6-8f9a-df58818f5e3e",
   "metadata": {
    "tags": []
   },
   "outputs": [],
   "source": [
    "clusters.shape"
   ]
  },
  {
   "cell_type": "code",
   "execution_count": null,
   "id": "4a98b6d3-0f4f-47a1-afb2-306794ff7f47",
   "metadata": {
    "tags": []
   },
   "outputs": [],
   "source": [
    "bcn_cluster.reset_index(drop=True, inplace=True)"
   ]
  },
  {
   "cell_type": "code",
   "execution_count": null,
   "id": "9f8fa283-4278-4073-9067-a1a2155217f5",
   "metadata": {
    "tags": []
   },
   "outputs": [],
   "source": [
    "df_cluster = pd.Series(clusters, name='Cluster')\n",
    "bcn_clustered = pd.concat([bcn_cluster, df_cluster], axis=1)"
   ]
  },
  {
   "cell_type": "code",
   "execution_count": null,
   "id": "4b1ed916-fa94-4cac-9f9b-754c683a55a0",
   "metadata": {
    "tags": []
   },
   "outputs": [],
   "source": [
    "bcn_clustered.head()"
   ]
  },
  {
   "cell_type": "code",
   "execution_count": null,
   "id": "4753cc24-9c2d-47d2-a37b-02895cb93ce1",
   "metadata": {
    "tags": []
   },
   "outputs": [],
   "source": [
    "bcn_clustered['Segment'] = bcn_clustered['Cluster'].map({0:'First', 1:'Second', 2:'Third', 3: 'Fourth', 4: 'Fifth', 5:'Sixth'})\n",
    "bcn_clustered['Segment'] = bcn_clustered['Segment'].astype('category')\n",
    "\n",
    "bcn_clustered.groupby('Segment').agg(\n",
    "    {'Cluster':'count',\n",
    "    'host_response_time': lambda x: x.value_counts().index[0],\n",
    "    'host_acceptance_rate': 'mean',\n",
    "    'host_is_superhost': lambda x: x.value_counts().index[0],\n",
    "    'room_type': lambda x: x.value_counts().index[0],\n",
    "    'price': 'mean',\n",
    "    'minimum_nights': 'median',\n",
    "    'instant_bookable': lambda x: x.value_counts().index[0],\n",
    "    'calculated_host_listings_count': 'median',\n",
    "    'calculated_host_listings_count_entire_homes': 'median',\n",
    "    'calculated_host_listings_count_private_rooms': 'median',\n",
    "    'calculated_host_listings_count_shared_rooms': 'median',\n",
    "    'status_license': lambda x: x.value_counts().index[0],\n",
    "    'host_type': lambda x: x.value_counts().index[0]\n",
    "    }\n",
    ").reset_index()"
   ]
  },
  {
   "cell_type": "code",
   "execution_count": null,
   "id": "77eea332-5697-48dd-a565-1d3d756c9ecd",
   "metadata": {
    "tags": []
   },
   "outputs": [],
   "source": [
    "first = bcn_clustered.loc[bcn_clustered['Segment'] == 'First']"
   ]
  },
  {
   "cell_type": "code",
   "execution_count": null,
   "id": "911b1965-e8f8-4823-a5a8-b7345ba19002",
   "metadata": {
    "tags": []
   },
   "outputs": [],
   "source": [
    "first.head(20)"
   ]
  },
  {
   "cell_type": "markdown",
   "id": "914e07f6-0211-4b4f-8a49-3c91179486af",
   "metadata": {},
   "source": [
    "#### First own idea of categories (before clustering):\n",
    "\n",
    "\n",
    "**OK:**\n",
    "- claim commercial, is commercial, everything ok\n",
    "- claim private, is private, everything ok\n",
    "- no license or claim exempt, but don't offer short-term-stay (<32 days), therefore ok\n",
    "\n",
    "**NOT OK:**\n",
    "- no license or claim exempt, but offers short-term-stay(<32 days), therefore not ok\n",
    "- claim private, but seemingly commercial\n",
    "- multiple conditions which are not ok\n",
    "- reuse of license"
   ]
  },
  {
   "cell_type": "markdown",
   "id": "c301101e-984c-4581-b2ab-9a97d9b0edeb",
   "metadata": {},
   "source": [
    "#### Categories according to clustering:\n",
    "\n",
    "**OK:**\n",
    "\n",
    "- Fifth, Second: commercial, many listings, licenses and short-term\n",
    "- Fourth: commercial, many listings, no licenses and long-stay (maybe for students)\n",
    "- Third: commercial, many listings, reuse of licence, rooms, long-term, cheap (hostel for the weekend)\n",
    "- First: private, no license but long term\n",
    "\n",
    "**NOT OK:**\n",
    "- Sixth: private, no license, short term\n",
    "\n",
    "Learnings from clustering: reuse of license is not necessarily suspicous, but seems to be used by hostels (one license for multiple shared rooms in one property)"
   ]
  },
  {
   "cell_type": "code",
   "execution_count": null,
   "id": "a45bb9f3-3f6c-4217-8b42-39565c5e5dc1",
   "metadata": {},
   "outputs": [],
   "source": []
  }
 ],
 "metadata": {
  "kernelspec": {
   "display_name": "Python 3 (ipykernel)",
   "language": "python",
   "name": "python3"
  },
  "language_info": {
   "codemirror_mode": {
    "name": "ipython",
    "version": 3
   },
   "file_extension": ".py",
   "mimetype": "text/x-python",
   "name": "python",
   "nbconvert_exporter": "python",
   "pygments_lexer": "ipython3",
   "version": "3.9.8"
  }
 },
 "nbformat": 4,
 "nbformat_minor": 5
}
