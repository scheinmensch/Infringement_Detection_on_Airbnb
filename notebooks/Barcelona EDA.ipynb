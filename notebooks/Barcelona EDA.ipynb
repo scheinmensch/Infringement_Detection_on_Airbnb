{
 "cells": [
  {
   "cell_type": "markdown",
   "id": "2afca338-cba4-4855-925e-bb9f3794ff62",
   "metadata": {},
   "source": [
    "by [scheinmensch](https://github.com/scheinmensch) and [Krisztina-1984](https://github.com/krisztina-1984)\n",
    "\n",
    "# Airbnb in Barcelona\n",
    "\n",
    "Barcelona suffers from over-tourism and in particular has declared war on the mass supply of short-term stay accommodation. Short-term stays are overnight visits of less than or equal to 31 days.\n",
    "\n",
    "**Strict regulations apply in Barcelona:**\n",
    "- Any provider offering short-term stay accommodation requires a license.\n",
    "- The license number must be stated in each offer.\n",
    "- A license is valid for exactly one accommodation.\n",
    "\n",
    "**Commercial hosts:**\n",
    "- Hosts who offer accommodation on a permanent basis and for profit or it's their main source of income\n",
    "\n",
    "\n",
    "## Focus of this EDA\n",
    "- get some general insights:\n",
    "    - types of accommodations\n",
    "    - host types\n",
    "    - minimum stay\n",
    "    - prices\n",
    "- get insights on licenses:\n",
    "    - do all short-term offers have a license as required?\n",
    "    - are licenses reused for multiple listings?\n",
    "- get insights on hosts:\n",
    "    - what's the difference between these hose types?\n",
    "    - are there many private hosts who seem to operate commercially?\n"
   ]
  },
  {
   "cell_type": "markdown",
   "id": "6c89507a-158b-412e-871f-9c599c22537d",
   "metadata": {},
   "source": [
    "# EDA"
   ]
  },
  {
   "cell_type": "code",
   "execution_count": 1,
   "id": "6e7173e2-1b4f-46f8-bfef-cada42529ed3",
   "metadata": {
    "tags": []
   },
   "outputs": [],
   "source": [
    "# import basic packages \n",
    "import pandas as pd\n",
    "import numpy as np\n",
    "import seaborn as sns\n",
    "import matplotlib.pyplot as plt\n",
    "\n",
    "# set color schemes for plots\n",
    "c =['#F2CC8F','#E07A5F', '#81B29A', '#F4F1DE', '#3D405B']\n",
    "c2 = ['#8e9aaf', '#919db1', '#949fb3', '#97a2b5', '#9aa5b8', '#9da8ba', '#a0aabb', '#a3adbe', '#a7b1c1', '#abb4c4', '#afb7c6', '#b3bbca', '#b9c0cd', '#bdc4d0', '#c0c7d3', '#c6ccd7', '#ced3dc']\n",
    "c3 = ['#efd3d7', '#ecccd0', '#eac6cb', '#e9c2c7', '#e7bcc2', '#e5b7bd', '#e3b1b8', '#e1aeb5', '#dfa7af', '#dea3ab', '#dc9fa8', '#da9aa3', '#d8949e', '#d7929c']\n",
    "plt.style.use('default')"
   ]
  },
  {
   "cell_type": "code",
   "execution_count": 2,
   "id": "f0548934-5bfa-4d76-b31d-1d5433d2b284",
   "metadata": {
    "tags": []
   },
   "outputs": [],
   "source": [
    "# load data (data from Inside Airbnb and selfscraped data)\n",
    "\n",
    "bcn_orginal = pd.read_csv('../data/listings_bcn.csv')\n",
    "scraped = pd.read_csv('../data/airbnb2.csv')"
   ]
  },
  {
   "cell_type": "code",
   "execution_count": 3,
   "id": "4520fdc7-752a-405e-804d-6efc7f480c9e",
   "metadata": {
    "tags": []
   },
   "outputs": [],
   "source": [
    "# rename column in scraped dataset\n",
    "scraped.rename(columns = {'url':'listing_url'}, inplace = True)"
   ]
  },
  {
   "cell_type": "code",
   "execution_count": 4,
   "id": "71c80dcb-942a-4f08-aeba-31af43487246",
   "metadata": {
    "tags": []
   },
   "outputs": [],
   "source": [
    "# merge both datasets based on listing URL\n",
    "bcn_new=bcn_orginal.merge(scraped, on='listing_url', how='outer')"
   ]
  },
  {
   "cell_type": "code",
   "execution_count": 5,
   "id": "931996f1-c95e-45f1-83f5-578ea76d6991",
   "metadata": {
    "tags": []
   },
   "outputs": [],
   "source": [
    "# drop unnecessary column\n",
    "bcn_new = bcn_new.drop(['Unnamed: 0'], axis=1)"
   ]
  },
  {
   "cell_type": "markdown",
   "id": "80158be5-2be0-4b5d-ba93-baf1e683c264",
   "metadata": {},
   "source": [
    "## BASICS"
   ]
  },
  {
   "cell_type": "code",
   "execution_count": 6,
   "id": "e2c09bf2-615e-4989-bf69-44c6863f13c0",
   "metadata": {
    "tags": []
   },
   "outputs": [
    {
     "name": "stdout",
     "output_type": "stream",
     "text": [
      "<class 'pandas.core.frame.DataFrame'>\n",
      "RangeIndex: 15655 entries, 0 to 15654\n",
      "Data columns (total 76 columns):\n",
      " #   Column                                        Non-Null Count  Dtype  \n",
      "---  ------                                        --------------  -----  \n",
      " 0   id                                            15655 non-null  int64  \n",
      " 1   listing_url                                   15655 non-null  object \n",
      " 2   scrape_id                                     15655 non-null  int64  \n",
      " 3   last_scraped                                  15655 non-null  object \n",
      " 4   source                                        15655 non-null  object \n",
      " 5   name                                          15646 non-null  object \n",
      " 6   description                                   15569 non-null  object \n",
      " 7   neighborhood_overview                         9204 non-null   object \n",
      " 8   picture_url                                   15655 non-null  object \n",
      " 9   host_id                                       15655 non-null  int64  \n",
      " 10  host_url                                      15655 non-null  object \n",
      " 11  host_name                                     15653 non-null  object \n",
      " 12  host_since                                    15653 non-null  object \n",
      " 13  host_location                                 12172 non-null  object \n",
      " 14  host_about                                    10031 non-null  object \n",
      " 15  host_response_time                            12660 non-null  object \n",
      " 16  host_response_rate                            12660 non-null  object \n",
      " 17  host_acceptance_rate                          13127 non-null  object \n",
      " 18  host_is_superhost                             15653 non-null  object \n",
      " 19  host_thumbnail_url                            15653 non-null  object \n",
      " 20  host_picture_url                              15653 non-null  object \n",
      " 21  host_neighbourhood                            9143 non-null   object \n",
      " 22  host_listings_count                           15653 non-null  float64\n",
      " 23  host_total_listings_count                     15653 non-null  float64\n",
      " 24  host_verifications                            15653 non-null  object \n",
      " 25  host_has_profile_pic                          15653 non-null  object \n",
      " 26  host_identity_verified                        15653 non-null  object \n",
      " 27  neighbourhood                                 9204 non-null   object \n",
      " 28  neighbourhood_cleansed                        15655 non-null  object \n",
      " 29  neighbourhood_group_cleansed                  15655 non-null  object \n",
      " 30  latitude                                      15655 non-null  float64\n",
      " 31  longitude                                     15655 non-null  float64\n",
      " 32  property_type                                 15655 non-null  object \n",
      " 33  room_type                                     15655 non-null  object \n",
      " 34  accommodates                                  15655 non-null  int64  \n",
      " 35  bathrooms                                     0 non-null      float64\n",
      " 36  bathrooms_text                                15647 non-null  object \n",
      " 37  bedrooms                                      15098 non-null  float64\n",
      " 38  beds                                          15378 non-null  float64\n",
      " 39  amenities                                     15655 non-null  object \n",
      " 40  price                                         15655 non-null  object \n",
      " 41  minimum_nights                                15655 non-null  int64  \n",
      " 42  maximum_nights                                15655 non-null  int64  \n",
      " 43  minimum_minimum_nights                        15654 non-null  float64\n",
      " 44  maximum_minimum_nights                        15654 non-null  float64\n",
      " 45  minimum_maximum_nights                        15654 non-null  float64\n",
      " 46  maximum_maximum_nights                        15654 non-null  float64\n",
      " 47  minimum_nights_avg_ntm                        15654 non-null  float64\n",
      " 48  maximum_nights_avg_ntm                        15654 non-null  float64\n",
      " 49  calendar_updated                              0 non-null      float64\n",
      " 50  has_availability                              15655 non-null  object \n",
      " 51  availability_30                               15655 non-null  int64  \n",
      " 52  availability_60                               15655 non-null  int64  \n",
      " 53  availability_90                               15655 non-null  int64  \n",
      " 54  availability_365                              15655 non-null  int64  \n",
      " 55  calendar_last_scraped                         15655 non-null  object \n",
      " 56  number_of_reviews                             15655 non-null  int64  \n",
      " 57  number_of_reviews_ltm                         15655 non-null  int64  \n",
      " 58  number_of_reviews_l30d                        15655 non-null  int64  \n",
      " 59  first_review                                  12176 non-null  object \n",
      " 60  last_review                                   12176 non-null  object \n",
      " 61  review_scores_rating                          12176 non-null  float64\n",
      " 62  review_scores_accuracy                        12088 non-null  float64\n",
      " 63  review_scores_cleanliness                     12089 non-null  float64\n",
      " 64  review_scores_checkin                         12084 non-null  float64\n",
      " 65  review_scores_communication                   12090 non-null  float64\n",
      " 66  review_scores_location                        12084 non-null  float64\n",
      " 67  review_scores_value                           12085 non-null  float64\n",
      " 68  license                                       10842 non-null  object \n",
      " 69  instant_bookable                              15655 non-null  object \n",
      " 70  calculated_host_listings_count                15655 non-null  int64  \n",
      " 71  calculated_host_listings_count_entire_homes   15655 non-null  int64  \n",
      " 72  calculated_host_listings_count_private_rooms  15655 non-null  int64  \n",
      " 73  calculated_host_listings_count_shared_rooms   15655 non-null  int64  \n",
      " 74  reviews_per_month                             12176 non-null  float64\n",
      " 75  host_type                                     11454 non-null  object \n",
      "dtypes: float64(22), int64(17), object(37)\n",
      "memory usage: 9.1+ MB\n"
     ]
    }
   ],
   "source": [
    "# get basic info about missing values and data types\n",
    "bcn_new.info()"
   ]
  },
  {
   "cell_type": "code",
   "execution_count": 7,
   "id": "1811dfb3-e004-4e4d-a78d-0aaff715535c",
   "metadata": {
    "tags": []
   },
   "outputs": [
    {
     "data": {
      "text/plain": [
       "id                                                 0\n",
       "listing_url                                        0\n",
       "scrape_id                                          0\n",
       "last_scraped                                       0\n",
       "source                                             0\n",
       "                                                ... \n",
       "calculated_host_listings_count_entire_homes        0\n",
       "calculated_host_listings_count_private_rooms       0\n",
       "calculated_host_listings_count_shared_rooms        0\n",
       "reviews_per_month                               3479\n",
       "host_type                                       4201\n",
       "Length: 76, dtype: int64"
      ]
     },
     "execution_count": 7,
     "metadata": {},
     "output_type": "execute_result"
    }
   ],
   "source": [
    "# check for missing values\n",
    "bcn_new.isnull().sum()"
   ]
  },
  {
   "cell_type": "code",
   "execution_count": 8,
   "id": "ef425e98-ecbf-4afd-8625-bde3149a92fc",
   "metadata": {
    "tags": []
   },
   "outputs": [
    {
     "data": {
      "image/png": "[encoded data removed]",
      "text/plain": [
       "<Figure size 2500x1000 with 2 Axes>"
      ]
     },
     "metadata": {},
     "output_type": "display_data"
    }
   ],
   "source": [
    "# check for patterns of missing values\n",
    "import missingno as msno\n",
    "msno.matrix(bcn_new);"
   ]
  },
  {
   "cell_type": "code",
   "execution_count": 9,
   "id": "1f6e25f9-436b-4be9-be4b-39eedda2cb88",
   "metadata": {
    "tags": []
   },
   "outputs": [
    {
     "data": {
      "text/html": [
       "<div>\n",
       "<style scoped>\n",
       "    .dataframe tbody tr th:only-of-type {\n",
       "        vertical-align: middle;\n",
       "    }\n",
       "\n",
       "    .dataframe tbody tr th {\n",
       "        vertical-align: top;\n",
       "    }\n",
       "\n",
       "    .dataframe thead th {\n",
       "        text-align: right;\n",
       "    }\n",
       "</style>\n",
       "<table border=\"1\" class=\"dataframe\">\n",
       "  <thead>\n",
       "    <tr style=\"text-align: right;\">\n",
       "      <th></th>\n",
       "      <th>id</th>\n",
       "      <th>scrape_id</th>\n",
       "      <th>host_id</th>\n",
       "      <th>host_listings_count</th>\n",
       "      <th>host_total_listings_count</th>\n",
       "      <th>latitude</th>\n",
       "      <th>longitude</th>\n",
       "      <th>accommodates</th>\n",
       "      <th>bathrooms</th>\n",
       "      <th>bedrooms</th>\n",
       "      <th>...</th>\n",
       "      <th>review_scores_cleanliness</th>\n",
       "      <th>review_scores_checkin</th>\n",
       "      <th>review_scores_communication</th>\n",
       "      <th>review_scores_location</th>\n",
       "      <th>review_scores_value</th>\n",
       "      <th>calculated_host_listings_count</th>\n",
       "      <th>calculated_host_listings_count_entire_homes</th>\n",
       "      <th>calculated_host_listings_count_private_rooms</th>\n",
       "      <th>calculated_host_listings_count_shared_rooms</th>\n",
       "      <th>reviews_per_month</th>\n",
       "    </tr>\n",
       "  </thead>\n",
       "  <tbody>\n",
       "    <tr>\n",
       "      <th>count</th>\n",
       "      <td>1.565500e+04</td>\n",
       "      <td>1.565500e+04</td>\n",
       "      <td>1.565500e+04</td>\n",
       "      <td>15653.000000</td>\n",
       "      <td>15653.000000</td>\n",
       "      <td>15655.000000</td>\n",
       "      <td>15655.000000</td>\n",
       "      <td>15655.000000</td>\n",
       "      <td>0.0</td>\n",
       "      <td>15098.000000</td>\n",
       "      <td>...</td>\n",
       "      <td>12089.000000</td>\n",
       "      <td>12084.000000</td>\n",
       "      <td>12090.000000</td>\n",
       "      <td>12084.000000</td>\n",
       "      <td>12085.000000</td>\n",
       "      <td>15655.000000</td>\n",
       "      <td>15655.000000</td>\n",
       "      <td>15655.000000</td>\n",
       "      <td>15655.000000</td>\n",
       "      <td>12176.000000</td>\n",
       "    </tr>\n",
       "    <tr>\n",
       "      <th>mean</th>\n",
       "      <td>1.823385e+17</td>\n",
       "      <td>2.023031e+13</td>\n",
       "      <td>1.450517e+08</td>\n",
       "      <td>33.219575</td>\n",
       "      <td>47.700569</td>\n",
       "      <td>41.391943</td>\n",
       "      <td>2.167214</td>\n",
       "      <td>3.484510</td>\n",
       "      <td>NaN</td>\n",
       "      <td>1.758511</td>\n",
       "      <td>...</td>\n",
       "      <td>4.581542</td>\n",
       "      <td>4.709420</td>\n",
       "      <td>4.709391</td>\n",
       "      <td>4.747661</td>\n",
       "      <td>4.467860</td>\n",
       "      <td>24.163462</td>\n",
       "      <td>21.142510</td>\n",
       "      <td>2.856404</td>\n",
       "      <td>0.084063</td>\n",
       "      <td>1.299759</td>\n",
       "    </tr>\n",
       "    <tr>\n",
       "      <th>std</th>\n",
       "      <td>3.126641e+17</td>\n",
       "      <td>0.000000e+00</td>\n",
       "      <td>1.555632e+08</td>\n",
       "      <td>75.886992</td>\n",
       "      <td>122.550600</td>\n",
       "      <td>0.013936</td>\n",
       "      <td>0.017259</td>\n",
       "      <td>2.172102</td>\n",
       "      <td>NaN</td>\n",
       "      <td>1.051358</td>\n",
       "      <td>...</td>\n",
       "      <td>0.518338</td>\n",
       "      <td>0.456223</td>\n",
       "      <td>0.467022</td>\n",
       "      <td>0.371416</td>\n",
       "      <td>0.537626</td>\n",
       "      <td>46.168220</td>\n",
       "      <td>45.881018</td>\n",
       "      <td>11.617766</td>\n",
       "      <td>0.789422</td>\n",
       "      <td>1.747771</td>\n",
       "    </tr>\n",
       "    <tr>\n",
       "      <th>min</th>\n",
       "      <td>1.867400e+04</td>\n",
       "      <td>2.023031e+13</td>\n",
       "      <td>3.073000e+03</td>\n",
       "      <td>1.000000</td>\n",
       "      <td>1.000000</td>\n",
       "      <td>41.352608</td>\n",
       "      <td>2.091590</td>\n",
       "      <td>0.000000</td>\n",
       "      <td>NaN</td>\n",
       "      <td>1.000000</td>\n",
       "      <td>...</td>\n",
       "      <td>0.000000</td>\n",
       "      <td>0.000000</td>\n",
       "      <td>0.000000</td>\n",
       "      <td>0.000000</td>\n",
       "      <td>0.000000</td>\n",
       "      <td>1.000000</td>\n",
       "      <td>0.000000</td>\n",
       "      <td>0.000000</td>\n",
       "      <td>0.000000</td>\n",
       "      <td>0.010000</td>\n",
       "    </tr>\n",
       "    <tr>\n",
       "      <th>25%</th>\n",
       "      <td>1.891816e+07</td>\n",
       "      <td>2.023031e+13</td>\n",
       "      <td>9.171437e+06</td>\n",
       "      <td>1.000000</td>\n",
       "      <td>2.000000</td>\n",
       "      <td>41.381040</td>\n",
       "      <td>2.157340</td>\n",
       "      <td>2.000000</td>\n",
       "      <td>NaN</td>\n",
       "      <td>1.000000</td>\n",
       "      <td>...</td>\n",
       "      <td>4.440000</td>\n",
       "      <td>4.640000</td>\n",
       "      <td>4.630000</td>\n",
       "      <td>4.670000</td>\n",
       "      <td>4.310000</td>\n",
       "      <td>1.000000</td>\n",
       "      <td>0.000000</td>\n",
       "      <td>0.000000</td>\n",
       "      <td>0.000000</td>\n",
       "      <td>0.210000</td>\n",
       "    </tr>\n",
       "    <tr>\n",
       "      <th>50%</th>\n",
       "      <td>3.864140e+07</td>\n",
       "      <td>2.023031e+13</td>\n",
       "      <td>7.067177e+07</td>\n",
       "      <td>6.000000</td>\n",
       "      <td>8.000000</td>\n",
       "      <td>41.389740</td>\n",
       "      <td>2.168246</td>\n",
       "      <td>3.000000</td>\n",
       "      <td>NaN</td>\n",
       "      <td>1.000000</td>\n",
       "      <td>...</td>\n",
       "      <td>4.720000</td>\n",
       "      <td>4.850000</td>\n",
       "      <td>4.850000</td>\n",
       "      <td>4.850000</td>\n",
       "      <td>4.580000</td>\n",
       "      <td>5.000000</td>\n",
       "      <td>2.000000</td>\n",
       "      <td>0.000000</td>\n",
       "      <td>0.000000</td>\n",
       "      <td>0.770000</td>\n",
       "    </tr>\n",
       "    <tr>\n",
       "      <th>75%</th>\n",
       "      <td>5.563748e+17</td>\n",
       "      <td>2.023031e+13</td>\n",
       "      <td>2.651478e+08</td>\n",
       "      <td>28.000000</td>\n",
       "      <td>39.000000</td>\n",
       "      <td>41.401295</td>\n",
       "      <td>2.177460</td>\n",
       "      <td>4.000000</td>\n",
       "      <td>NaN</td>\n",
       "      <td>2.000000</td>\n",
       "      <td>...</td>\n",
       "      <td>4.920000</td>\n",
       "      <td>5.000000</td>\n",
       "      <td>5.000000</td>\n",
       "      <td>5.000000</td>\n",
       "      <td>4.790000</td>\n",
       "      <td>23.000000</td>\n",
       "      <td>19.000000</td>\n",
       "      <td>1.000000</td>\n",
       "      <td>0.000000</td>\n",
       "      <td>1.900000</td>\n",
       "    </tr>\n",
       "    <tr>\n",
       "      <th>max</th>\n",
       "      <td>8.462300e+17</td>\n",
       "      <td>2.023031e+13</td>\n",
       "      <td>5.049885e+08</td>\n",
       "      <td>1817.000000</td>\n",
       "      <td>3639.000000</td>\n",
       "      <td>41.459560</td>\n",
       "      <td>2.227710</td>\n",
       "      <td>16.000000</td>\n",
       "      <td>NaN</td>\n",
       "      <td>20.000000</td>\n",
       "      <td>...</td>\n",
       "      <td>5.000000</td>\n",
       "      <td>5.000000</td>\n",
       "      <td>5.000000</td>\n",
       "      <td>5.000000</td>\n",
       "      <td>5.000000</td>\n",
       "      <td>241.000000</td>\n",
       "      <td>241.000000</td>\n",
       "      <td>120.000000</td>\n",
       "      <td>12.000000</td>\n",
       "      <td>47.160000</td>\n",
       "    </tr>\n",
       "  </tbody>\n",
       "</table>\n",
       "<p>8 rows × 39 columns</p>\n",
       "</div>"
      ],
      "text/plain": [
       "                 id     scrape_id       host_id  host_listings_count   \n",
       "count  1.565500e+04  1.565500e+04  1.565500e+04         15653.000000  \\\n",
       "mean   1.823385e+17  2.023031e+13  1.450517e+08            33.219575   \n",
       "std    3.126641e+17  0.000000e+00  1.555632e+08            75.886992   \n",
       "min    1.867400e+04  2.023031e+13  3.073000e+03             1.000000   \n",
       "25%    1.891816e+07  2.023031e+13  9.171437e+06             1.000000   \n",
       "50%    3.864140e+07  2.023031e+13  7.067177e+07             6.000000   \n",
       "75%    5.563748e+17  2.023031e+13  2.651478e+08            28.000000   \n",
       "max    8.462300e+17  2.023031e+13  5.049885e+08          1817.000000   \n",
       "\n",
       "       host_total_listings_count      latitude     longitude  accommodates   \n",
       "count               15653.000000  15655.000000  15655.000000  15655.000000  \\\n",
       "mean                   47.700569     41.391943      2.167214      3.484510   \n",
       "std                   122.550600      0.013936      0.017259      2.172102   \n",
       "min                     1.000000     41.352608      2.091590      0.000000   \n",
       "25%                     2.000000     41.381040      2.157340      2.000000   \n",
       "50%                     8.000000     41.389740      2.168246      3.000000   \n",
       "75%                    39.000000     41.401295      2.177460      4.000000   \n",
       "max                  3639.000000     41.459560      2.227710     16.000000   \n",
       "\n",
       "       bathrooms      bedrooms  ...  review_scores_cleanliness   \n",
       "count        0.0  15098.000000  ...               12089.000000  \\\n",
       "mean         NaN      1.758511  ...                   4.581542   \n",
       "std          NaN      1.051358  ...                   0.518338   \n",
       "min          NaN      1.000000  ...                   0.000000   \n",
       "25%          NaN      1.000000  ...                   4.440000   \n",
       "50%          NaN      1.000000  ...                   4.720000   \n",
       "75%          NaN      2.000000  ...                   4.920000   \n",
       "max          NaN     20.000000  ...                   5.000000   \n",
       "\n",
       "       review_scores_checkin  review_scores_communication   \n",
       "count           12084.000000                 12090.000000  \\\n",
       "mean                4.709420                     4.709391   \n",
       "std                 0.456223                     0.467022   \n",
       "min                 0.000000                     0.000000   \n",
       "25%                 4.640000                     4.630000   \n",
       "50%                 4.850000                     4.850000   \n",
       "75%                 5.000000                     5.000000   \n",
       "max                 5.000000                     5.000000   \n",
       "\n",
       "       review_scores_location  review_scores_value   \n",
       "count            12084.000000         12085.000000  \\\n",
       "mean                 4.747661             4.467860   \n",
       "std                  0.371416             0.537626   \n",
       "min                  0.000000             0.000000   \n",
       "25%                  4.670000             4.310000   \n",
       "50%                  4.850000             4.580000   \n",
       "75%                  5.000000             4.790000   \n",
       "max                  5.000000             5.000000   \n",
       "\n",
       "       calculated_host_listings_count   \n",
       "count                    15655.000000  \\\n",
       "mean                        24.163462   \n",
       "std                         46.168220   \n",
       "min                          1.000000   \n",
       "25%                          1.000000   \n",
       "50%                          5.000000   \n",
       "75%                         23.000000   \n",
       "max                        241.000000   \n",
       "\n",
       "       calculated_host_listings_count_entire_homes   \n",
       "count                                 15655.000000  \\\n",
       "mean                                     21.142510   \n",
       "std                                      45.881018   \n",
       "min                                       0.000000   \n",
       "25%                                       0.000000   \n",
       "50%                                       2.000000   \n",
       "75%                                      19.000000   \n",
       "max                                     241.000000   \n",
       "\n",
       "       calculated_host_listings_count_private_rooms   \n",
       "count                                  15655.000000  \\\n",
       "mean                                       2.856404   \n",
       "std                                       11.617766   \n",
       "min                                        0.000000   \n",
       "25%                                        0.000000   \n",
       "50%                                        0.000000   \n",
       "75%                                        1.000000   \n",
       "max                                      120.000000   \n",
       "\n",
       "       calculated_host_listings_count_shared_rooms  reviews_per_month  \n",
       "count                                 15655.000000       12176.000000  \n",
       "mean                                      0.084063           1.299759  \n",
       "std                                       0.789422           1.747771  \n",
       "min                                       0.000000           0.010000  \n",
       "25%                                       0.000000           0.210000  \n",
       "50%                                       0.000000           0.770000  \n",
       "75%                                       0.000000           1.900000  \n",
       "max                                      12.000000          47.160000  \n",
       "\n",
       "[8 rows x 39 columns]"
      ]
     },
     "execution_count": 9,
     "metadata": {},
     "output_type": "execute_result"
    }
   ],
   "source": [
    "# get basic statistics\n",
    "bcn_new.describe()"
   ]
  },
  {
   "cell_type": "code",
   "execution_count": 10,
   "id": "708f6068-1194-4c82-97ee-6ece8214ddc8",
   "metadata": {
    "tags": []
   },
   "outputs": [
    {
     "data": {
      "text/plain": [
       "Index(['id', 'listing_url', 'scrape_id', 'last_scraped', 'source', 'name',\n",
       "       'description', 'neighborhood_overview', 'picture_url', 'host_id',\n",
       "       'host_url', 'host_name', 'host_since', 'host_location', 'host_about',\n",
       "       'host_response_time', 'host_response_rate', 'host_acceptance_rate',\n",
       "       'host_is_superhost', 'host_thumbnail_url', 'host_picture_url',\n",
       "       'host_neighbourhood', 'host_listings_count',\n",
       "       'host_total_listings_count', 'host_verifications',\n",
       "       'host_has_profile_pic', 'host_identity_verified', 'neighbourhood',\n",
       "       'neighbourhood_cleansed', 'neighbourhood_group_cleansed', 'latitude',\n",
       "       'longitude', 'property_type', 'room_type', 'accommodates', 'bathrooms',\n",
       "       'bathrooms_text', 'bedrooms', 'beds', 'amenities', 'price',\n",
       "       'minimum_nights', 'maximum_nights', 'minimum_minimum_nights',\n",
       "       'maximum_minimum_nights', 'minimum_maximum_nights',\n",
       "       'maximum_maximum_nights', 'minimum_nights_avg_ntm',\n",
       "       'maximum_nights_avg_ntm', 'calendar_updated', 'has_availability',\n",
       "       'availability_30', 'availability_60', 'availability_90',\n",
       "       'availability_365', 'calendar_last_scraped', 'number_of_reviews',\n",
       "       'number_of_reviews_ltm', 'number_of_reviews_l30d', 'first_review',\n",
       "       'last_review', 'review_scores_rating', 'review_scores_accuracy',\n",
       "       'review_scores_cleanliness', 'review_scores_checkin',\n",
       "       'review_scores_communication', 'review_scores_location',\n",
       "       'review_scores_value', 'license', 'instant_bookable',\n",
       "       'calculated_host_listings_count',\n",
       "       'calculated_host_listings_count_entire_homes',\n",
       "       'calculated_host_listings_count_private_rooms',\n",
       "       'calculated_host_listings_count_shared_rooms', 'reviews_per_month',\n",
       "       'host_type'],\n",
       "      dtype='object')"
      ]
     },
     "execution_count": 10,
     "metadata": {},
     "output_type": "execute_result"
    }
   ],
   "source": [
    "# see all column names\n",
    "bcn_new.columns"
   ]
  },
  {
   "cell_type": "code",
   "execution_count": 11,
   "id": "eef17f2d-b06f-4b97-9fc2-af362455f649",
   "metadata": {
    "tags": []
   },
   "outputs": [],
   "source": [
    "# drop some irrelevant or redundant colums\n",
    "bcn = bcn_new.drop(['scrape_id', 'last_scraped', 'source', 'description', 'neighborhood_overview', 'picture_url', 'host_listings_count', 'host_total_listings_count', 'host_about', 'host_thumbnail_url', 'host_picture_url', 'calendar_last_scraped', 'neighbourhood',\n",
    "       'neighbourhood_cleansed', ], axis=1)"
   ]
  },
  {
   "cell_type": "code",
   "execution_count": 12,
   "id": "7fac1367-fbf8-49f8-b144-b2159c5fcee1",
   "metadata": {
    "tags": []
   },
   "outputs": [],
   "source": [
    "# drop bathrooms column since it only contains NaN values\n",
    "bcn = bcn.drop(['bathrooms', 'calendar_updated'], axis=1)"
   ]
  },
  {
   "cell_type": "markdown",
   "id": "3a5bd6a8-53e4-4e5e-adde-8905c3fad09c",
   "metadata": {},
   "source": [
    "## PRICES"
   ]
  },
  {
   "cell_type": "markdown",
   "id": "774fde10-4c6d-4295-b300-4109e20bb6e4",
   "metadata": {
    "tags": []
   },
   "source": [
    "First we have to change the data type of the prices column. It was categorical, but we need numerical data in order to apply statistics."
   ]
  },
  {
   "cell_type": "code",
   "execution_count": 13,
   "id": "d4bb2e49-2f5b-422e-a1d8-492eb87abd32",
   "metadata": {
    "tags": []
   },
   "outputs": [],
   "source": [
    "bcn['price'] = bcn['price'].str[1:]\n",
    "bcn['price'] = bcn['price'].str.replace(',','')\n",
    "bcn['price'] = pd.to_numeric(bcn['price'])"
   ]
  },
  {
   "cell_type": "code",
   "execution_count": 14,
   "id": "14261191-29e1-4951-8f13-96a29d333730",
   "metadata": {
    "tags": []
   },
   "outputs": [
    {
     "data": {
      "text/plain": [
       "count    15655.000000\n",
       "mean       155.644011\n",
       "std        966.108173\n",
       "min          0.000000\n",
       "25%         50.000000\n",
       "50%         99.000000\n",
       "75%        164.000000\n",
       "max      90000.000000\n",
       "Name: price, dtype: float64"
      ]
     },
     "execution_count": 14,
     "metadata": {},
     "output_type": "execute_result"
    }
   ],
   "source": [
    "bcn['price'].describe()"
   ]
  },
  {
   "cell_type": "code",
   "execution_count": 15,
   "id": "d801670e-95d5-41cd-9aac-cb42d2ca21bd",
   "metadata": {
    "tags": []
   },
   "outputs": [
    {
     "data": {
      "text/plain": [
       "<Axes: >"
      ]
     },
     "execution_count": 15,
     "metadata": {},
     "output_type": "execute_result"
    },
    {
     "data": {
      "image/png": "[encoded data removed]",
      "text/plain": [
       "<Figure size 640x480 with 1 Axes>"
      ]
     },
     "metadata": {},
     "output_type": "display_data"
    }
   ],
   "source": [
    "# check for outliers\n",
    "bcn.boxplot(column='price')"
   ]
  },
  {
   "cell_type": "markdown",
   "id": "844f4eab-1fc4-4c07-bbb7-93e358f6f40d",
   "metadata": {},
   "source": [
    "We can see that there are exteme outliers. Why would an accommodation cost 20.000 or even 90.000 Euro per night? For the analysis we'll remove the outliers with the IQR method."
   ]
  },
  {
   "cell_type": "code",
   "execution_count": 16,
   "id": "64293529-7f76-49f8-a97c-711a8896d9d6",
   "metadata": {
    "tags": []
   },
   "outputs": [],
   "source": [
    "# replace price outliers with NaN (IQR method)\n",
    "\n",
    "for x in ['price']:\n",
    "    q75, q25 = np.percentile(bcn.loc[:,x],[75,25])\n",
    "    intr_qr = q75-q25\n",
    "    maxp = q75+(1.5*intr_qr)\n",
    "    minp = q25-(1.5*intr_qr)\n",
    "    \n",
    "    bcn.loc[bcn[x] < minp,x] = np.nan\n",
    "    bcn.loc[bcn[x] > maxp,x] = np.nan\n",
    "    \n",
    "bcn['price'].isnull().sum()\n",
    "bcn['price'] = bcn['price'].dropna(axis=0)"
   ]
  },
  {
   "cell_type": "code",
   "execution_count": 17,
   "id": "53318aba-6730-4eb3-b3a2-665b34d2604e",
   "metadata": {
    "tags": []
   },
   "outputs": [],
   "source": [
    "# remove rows with missing values in prices column after applying IQR method\n",
    "bcn = bcn[bcn.price.notnull()]"
   ]
  },
  {
   "cell_type": "code",
   "execution_count": 18,
   "id": "31d51d34-e7a0-46de-b9cf-c491986a2736",
   "metadata": {
    "tags": []
   },
   "outputs": [
    {
     "data": {
      "text/plain": [
       "count    14779.000000\n",
       "mean       107.192706\n",
       "std         71.434799\n",
       "min          0.000000\n",
       "25%         49.000000\n",
       "50%         91.000000\n",
       "75%        150.000000\n",
       "max        335.000000\n",
       "Name: price, dtype: float64"
      ]
     },
     "execution_count": 18,
     "metadata": {},
     "output_type": "execute_result"
    }
   ],
   "source": [
    "bcn['price'].describe()"
   ]
  },
  {
   "cell_type": "markdown",
   "id": "867f152e-cd67-4ea6-ad25-e1dbee97ca28",
   "metadata": {},
   "source": [
    "This looks more realistic!"
   ]
  },
  {
   "cell_type": "code",
   "execution_count": 19,
   "id": "ad0c2251-b514-4b48-ba50-36bd447e8e42",
   "metadata": {
    "tags": []
   },
   "outputs": [
    {
     "data": {
      "text/plain": [
       "<seaborn.axisgrid.FacetGrid at 0x17f617d30>"
      ]
     },
     "execution_count": 19,
     "metadata": {},
     "output_type": "execute_result"
    },
    {
     "data": {
      "image/png": "[encoded data removed]",
      "text/plain": [
       "<Figure size 696x500 with 1 Axes>"
      ]
     },
     "metadata": {},
     "output_type": "display_data"
    }
   ],
   "source": [
    "# plot price distribution\n",
    "sns.set(style=\"darkgrid\", font_scale=1.2)\n",
    "sns.displot(data=bcn, x=\"price\", hue='room_type', kind='hist')"
   ]
  },
  {
   "cell_type": "markdown",
   "id": "3bef337a-19c3-4a13-b51f-43c70186b32e",
   "metadata": {},
   "source": [
    "## ROOM TYPES"
   ]
  },
  {
   "cell_type": "code",
   "execution_count": 20,
   "id": "00518582-ca10-452e-bcff-b1843e133bb2",
   "metadata": {
    "tags": []
   },
   "outputs": [
    {
     "data": {
      "text/plain": [
       "<Axes: ylabel='room_type'>"
      ]
     },
     "execution_count": 20,
     "metadata": {},
     "output_type": "execute_result"
    },
    {
     "data": {
      "image/png": "[encoded data removed]",
      "text/plain": [
       "<Figure size 640x480 with 1 Axes>"
      ]
     },
     "metadata": {},
     "output_type": "display_data"
    }
   ],
   "source": [
    "# check distribution of room types\n",
    "bcn['room_type'].value_counts(normalize=True).sort_values(ascending=False).plot(kind='barh',color='#81B29A')"
   ]
  },
  {
   "cell_type": "markdown",
   "id": "cc25c5d0-c7f4-4db1-b7d9-d17c96542306",
   "metadata": {},
   "source": [
    "By far, entire homes are the most common roomtype!"
   ]
  },
  {
   "cell_type": "markdown",
   "id": "4f74ec26-f70b-43e1-aa83-8f490f6b65b3",
   "metadata": {},
   "source": [
    "## POPULAR NEIGHBORHOODS"
   ]
  },
  {
   "cell_type": "code",
   "execution_count": 21,
   "id": "e09904d0-7570-49ec-97ee-cd9674baddff",
   "metadata": {
    "tags": []
   },
   "outputs": [
    {
     "data": {
      "text/plain": [
       "<Axes: ylabel='neighbourhood_group_cleansed'>"
      ]
     },
     "execution_count": 21,
     "metadata": {},
     "output_type": "execute_result"
    },
    {
     "data": {
      "image/png": "[encoded data removed]",
      "text/plain": [
       "<Figure size 640x480 with 1 Axes>"
      ]
     },
     "metadata": {},
     "output_type": "display_data"
    }
   ],
   "source": [
    "bcn['neighbourhood_group_cleansed'].value_counts(normalize=True).sort_values(ascending=False).plot(kind='barh', color='#81B29A')"
   ]
  },
  {
   "cell_type": "markdown",
   "id": "4510f009-56bc-4dbf-9594-d36add51aa37",
   "metadata": {},
   "source": [
    "Eixample and old city center are most popular."
   ]
  },
  {
   "cell_type": "markdown",
   "id": "77195b30-b451-4431-80d3-3f497e8e677a",
   "metadata": {},
   "source": [
    "## LICENSES"
   ]
  },
  {
   "cell_type": "markdown",
   "id": "4f1e6284-4343-4612-9cea-9e986887dc89",
   "metadata": {},
   "source": [
    "We would like to get an overview of licenses. We are interested in whether licenses have the right format and whether they are used more than once. (Actually: one license per property)"
   ]
  },
  {
   "cell_type": "code",
   "execution_count": 22,
   "id": "921c67ad-2d59-4ad2-bb50-cb7f87369abb",
   "metadata": {},
   "outputs": [
    {
     "data": {
      "text/plain": [
       "4813"
      ]
     },
     "execution_count": 22,
     "metadata": {},
     "output_type": "execute_result"
    }
   ],
   "source": [
    "# check how many listings specify a license\n",
    "bcn_new['license'].isnull().sum()"
   ]
  },
  {
   "cell_type": "code",
   "execution_count": 23,
   "id": "7e1485f1-56b7-468d-beb9-4dffb1ae6c76",
   "metadata": {
    "tags": []
   },
   "outputs": [],
   "source": [
    "# create an array with all licenses used more than once in the dataset\n",
    "\n",
    "duplicate_license = bcn[bcn.duplicated('license', keep=False)].copy()\n",
    "duplicate_license = duplicate_license['license'].dropna()\n",
    "duplicate_license_array = duplicate_license.unique()\n",
    "arr = duplicate_license_array[duplicate_license_array != 'Exempt']"
   ]
  },
  {
   "cell_type": "code",
   "execution_count": 24,
   "id": "67467034-36df-4bca-8f53-8ca6c8a2e0a5",
   "metadata": {
    "tags": []
   },
   "outputs": [],
   "source": [
    "# function that can be applied to the array. It will check each license number if it has a plausible format and then add it to an empty list.\n",
    "def license_duplicates(array):\n",
    "    new_arr = []\n",
    "    for license in array:\n",
    "        if 'HUTB' in license:\n",
    "            new_arr.append(license)\n",
    "        elif 'HB' in license:\n",
    "            new_arr.append(license)\n",
    "        elif 'AJ' in license:\n",
    "            new_arr.append(license)\n",
    "    return new_arr"
   ]
  },
  {
   "cell_type": "code",
   "execution_count": 25,
   "id": "d40e7a78-9fda-45fe-acab-48d1239cc9aa",
   "metadata": {
    "tags": []
   },
   "outputs": [],
   "source": [
    "# apply function\n",
    "license_duplicates = license_duplicates(arr)"
   ]
  },
  {
   "cell_type": "code",
   "execution_count": 26,
   "id": "b2e3503d-b171-42c3-acdd-96908b55fbda",
   "metadata": {
    "tags": []
   },
   "outputs": [],
   "source": [
    "# fill all missing values in license column with \"no license\"\n",
    "bcn['license'] = bcn['license'].fillna('no license')"
   ]
  },
  {
   "cell_type": "code",
   "execution_count": 27,
   "id": "3136b1d9-4c35-479d-a573-49f2542c119c",
   "metadata": {
    "tags": []
   },
   "outputs": [],
   "source": [
    "# function that can be applied to the dataset, will add an new column with the license status\n",
    "def is_valid_license(license):\n",
    "    if license in license_duplicates:\n",
    "        return 'reuse'\n",
    "    if 'HUTB' in license:\n",
    "        return 'ok'\n",
    "    if 'HB' in license:\n",
    "        return 'ok'\n",
    "    if 'AJ' in license:\n",
    "        return 'ok'\n",
    "    elif 'exempt' in license.lower():\n",
    "        return 'claims exempt'\n",
    "    else:\n",
    "        return 'no license'"
   ]
  },
  {
   "cell_type": "code",
   "execution_count": 28,
   "id": "c8bb18ce-167f-4786-aa2b-8a854ee2145d",
   "metadata": {
    "tags": []
   },
   "outputs": [],
   "source": [
    "# apply function \n",
    "bcn['status_license'] = bcn.apply(lambda row: is_valid_license(row['license']), axis=1)"
   ]
  },
  {
   "cell_type": "code",
   "execution_count": 29,
   "id": "1e85eb58-6df7-4629-9466-c05459e35d25",
   "metadata": {},
   "outputs": [
    {
     "data": {
      "text/plain": [
       "<Axes: ylabel='status_license'>"
      ]
     },
     "execution_count": 29,
     "metadata": {},
     "output_type": "execute_result"
    },
    {
     "data": {
      "image/png": "[encoded data removed]",
      "text/plain": [
       "<Figure size 640x480 with 1 Axes>"
      ]
     },
     "metadata": {},
     "output_type": "display_data"
    }
   ],
   "source": [
    "# show distribution of license status\n",
    "bcn['status_license'].value_counts(normalize=True).sort_values(ascending=False).plot(kind='barh', color='#81B29A')"
   ]
  },
  {
   "cell_type": "code",
   "execution_count": 30,
   "id": "df8f48ff-e1cf-47a0-800c-df8ed39e1891",
   "metadata": {
    "tags": []
   },
   "outputs": [
    {
     "data": {
      "text/plain": [
       "status_license\n",
       "no license       0.331822\n",
       "ok               0.275932\n",
       "claims exempt    0.259016\n",
       "reuse            0.133230\n",
       "Name: proportion, dtype: float64"
      ]
     },
     "execution_count": 30,
     "metadata": {},
     "output_type": "execute_result"
    }
   ],
   "source": [
    "bcn['status_license'].value_counts(normalize=True)"
   ]
  },
  {
   "cell_type": "code",
   "execution_count": 31,
   "id": "b3551e6e-2639-4168-abe8-e8a49a1ad9f6",
   "metadata": {
    "tags": []
   },
   "outputs": [
    {
     "data": {
      "image/png": "[encoded data removed]",
      "text/plain": [
       "<Figure size 800x500 with 1 Axes>"
      ]
     },
     "metadata": {},
     "output_type": "display_data"
    }
   ],
   "source": [
    "names =['No license: 33%', 'Ok: 28%', 'Claims exempt: 26%', 'Reuse: 13%']\n",
    "sizes = [33, 28, 26, 13]\n",
    "fig = plt.figure()\n",
    "fig.set_size_inches(8,5)\n",
    "fig.patch.set_facecolor('#242424')\n",
    "plt.rcParams['text.color'] = 'white'\n",
    "plt.rcParams\n",
    "my_circle=plt.Circle( (0,0), 0.55, color='#242424')\n",
    "plt.pie(x=sizes, labels=names, colors=['#E07A5F', '#81B29A', '#F2CC8F', '#F4F1DE','#3D405B'], startangle=90, wedgeprops={\"edgecolor\":'#242424'})\n",
    "p=plt.gcf()\n",
    "p.gca().add_artist(my_circle)\n",
    "plt.title(\n",
    "    label=\"Licenses of all listings\", \n",
    "    fontdict={\"fontsize\":15})\n",
    "plt.show()"
   ]
  },
  {
   "cell_type": "markdown",
   "id": "9eb7d2ad-201e-4377-a097-941f636e835a",
   "metadata": {},
   "source": [
    "Most listings do not have a valid license. We also see many listings claiming exempt and quite some reusing the same license number for multiple listings."
   ]
  },
  {
   "cell_type": "markdown",
   "id": "14f05168-5d0b-4f54-bf43-7b359b75f6f6",
   "metadata": {},
   "source": [
    "## SHORT-TERM STAY OFFERS"
   ]
  },
  {
   "cell_type": "markdown",
   "id": "c81f7276-483b-460d-bb8d-87aba7ea63b8",
   "metadata": {},
   "source": [
    "How many listings offer short-term stays?"
   ]
  },
  {
   "cell_type": "code",
   "execution_count": 32,
   "id": "d5a12a03-25a5-47c1-8710-f92b83d061ca",
   "metadata": {
    "tags": []
   },
   "outputs": [],
   "source": [
    "# write function to add new column\n",
    "def short_term(row):\n",
    "    if row['minimum_nights'] > 31:\n",
    "        return 'Long term stays only'\n",
    "    else:\n",
    "        return 'Short term stays'"
   ]
  },
  {
   "cell_type": "code",
   "execution_count": 33,
   "id": "124fbafe-8296-4612-b96d-9bf2e0295870",
   "metadata": {
    "tags": []
   },
   "outputs": [],
   "source": [
    "# apply function\n",
    "bcn['short_term'] = bcn.apply(lambda row: short_term(row), axis=1)"
   ]
  },
  {
   "cell_type": "code",
   "execution_count": 34,
   "id": "2e32f0f1-3a59-48ec-be7b-115fb49aff90",
   "metadata": {
    "tags": []
   },
   "outputs": [
    {
     "data": {
      "text/plain": [
       "short_term\n",
       "Short term stays        0.807429\n",
       "Long term stays only    0.192571\n",
       "Name: proportion, dtype: float64"
      ]
     },
     "execution_count": 34,
     "metadata": {},
     "output_type": "execute_result"
    }
   ],
   "source": [
    "# show distribution\n",
    "bcn['short_term'].value_counts(normalize=True)"
   ]
  },
  {
   "cell_type": "code",
   "execution_count": 35,
   "id": "d2baf3fa-db4b-4ce3-b12f-9c05b15562d5",
   "metadata": {
    "tags": []
   },
   "outputs": [
    {
     "data": {
      "image/png": "[encoded data removed]",
      "text/plain": [
       "<Figure size 800x500 with 1 Axes>"
      ]
     },
     "metadata": {},
     "output_type": "display_data"
    }
   ],
   "source": [
    "#plot\n",
    "names =['Short term stays allowed: 81%', 'Long term stays only: 19%']\n",
    "sizes = [81,19]\n",
    "fig = plt.figure()\n",
    "fig.set_size_inches(8,5)\n",
    "fig.patch.set_facecolor('#242424')\n",
    "plt.rcParams['text.color'] = 'white'\n",
    "plt.rcParams\n",
    "my_circle=plt.Circle( (0,0), 0.55, color='#242424')\n",
    "plt.pie(x=sizes, labels=names, colors=['#E07A5F', '#81B29A'], startangle=90, wedgeprops={\"edgecolor\":'#242424'})\n",
    "p=plt.gcf()\n",
    "p.gca().add_artist(my_circle)\n",
    "plt.title(\n",
    "    label=\"Short vs long term stays\", \n",
    "    fontdict={\"fontsize\":15})\n",
    "plt.show()"
   ]
  },
  {
   "cell_type": "markdown",
   "id": "526bd8ad-a94b-46ac-8dcc-e939d970e5e3",
   "metadata": {},
   "source": [
    "81% of the listings allow short-term stays."
   ]
  },
  {
   "cell_type": "markdown",
   "id": "ce32e446-d7f7-4197-9431-993eba0ff30d",
   "metadata": {},
   "source": [
    "## LICENSES IN SHORT-TERM STAY OFFERS"
   ]
  },
  {
   "cell_type": "markdown",
   "id": "13403cae-b2e8-49b9-8679-84ae673259fe",
   "metadata": {},
   "source": [
    "Since a license is only mandatory for short-term stay offers, we now want to check only those listings which offer a minimum stay of less than or equal to 31 days."
   ]
  },
  {
   "cell_type": "code",
   "execution_count": 36,
   "id": "8116f60c-bf33-4c21-8791-c31be7cea417",
   "metadata": {
    "tags": []
   },
   "outputs": [],
   "source": [
    "# create dataframe with listings that offer short-term stays\n",
    "short_term_stays = bcn.loc[bcn['minimum_nights'] < 32]"
   ]
  },
  {
   "cell_type": "code",
   "execution_count": 37,
   "id": "1c5df3ee-a732-4de3-ab67-9e5a3de68fcc",
   "metadata": {
    "tags": []
   },
   "outputs": [
    {
     "data": {
      "text/plain": [
       "status_license\n",
       "ok               0.338725\n",
       "claims exempt    0.250147\n",
       "no license       0.248973\n",
       "reuse            0.162155\n",
       "Name: proportion, dtype: float64"
      ]
     },
     "execution_count": 37,
     "metadata": {},
     "output_type": "execute_result"
    }
   ],
   "source": [
    "# show distribtion of license status\n",
    "short_term_stays['status_license'].value_counts(normalize=True)"
   ]
  },
  {
   "cell_type": "code",
   "execution_count": 38,
   "id": "4e71e5c8-e72b-4eb8-b9dc-ad2c0441658b",
   "metadata": {
    "tags": []
   },
   "outputs": [
    {
     "data": {
      "image/png": "[encoded data removed]",
      "text/plain": [
       "<Figure size 800x500 with 1 Axes>"
      ]
     },
     "metadata": {},
     "output_type": "display_data"
    }
   ],
   "source": [
    "# plot\n",
    "names =['No license: 24%', 'Ok: 34%', 'Claims exempt: 25%', 'Reuse: 16%']\n",
    "sizes = [25, 34, 25, 16]\n",
    "fig = plt.figure()\n",
    "fig.set_size_inches(8,5)\n",
    "fig.patch.set_facecolor('#242424')\n",
    "plt.rcParams['text.color'] = 'white'\n",
    "plt.rcParams\n",
    "my_circle=plt.Circle( (0,0), 0.55, color='#242424')\n",
    "plt.pie(x=sizes, labels=names, colors=['#E07A5F', '#81B29A', '#F2CC8F', '#F4F1DE','#3D405B'], startangle=90, wedgeprops={\"edgecolor\":'#242424'})\n",
    "p=plt.gcf()\n",
    "p.gca().add_artist(my_circle)\n",
    "plt.show()"
   ]
  },
  {
   "cell_type": "markdown",
   "id": "5865e3f5-f708-4507-a62b-72e058f0f945",
   "metadata": {},
   "source": [
    "24% of short-term listings do not provide a valid license number at all, 25% claim they're having an exemption which is very doubtful. Short-term offers always need a license."
   ]
  },
  {
   "cell_type": "markdown",
   "id": "8e689817-4ffe-4556-8b08-10532672063b",
   "metadata": {},
   "source": [
    "## LISTINGS PER HOST"
   ]
  },
  {
   "cell_type": "code",
   "execution_count": 39,
   "id": "b6c6c1d1-40b1-4bbc-a867-b58611b8e47a",
   "metadata": {
    "tags": []
   },
   "outputs": [],
   "source": [
    "# add a new column with aggregated number: How many listings does the host have in total?\n",
    "bcn['total_listings'] = bcn.groupby('host_id')['id'].transform('size')"
   ]
  },
  {
   "cell_type": "code",
   "execution_count": 40,
   "id": "4c3fddc7-d4d6-4928-ad38-a7609ed4b687",
   "metadata": {
    "tags": []
   },
   "outputs": [],
   "source": [
    "# function to categorize each listing according to the host's total listings\n",
    "def multi_listings(listings):\n",
    "    if listings == 1:\n",
    "        return 'single listing'\n",
    "    if listings > 1 and listings < 4:\n",
    "        return '2-3 listings'\n",
    "    if listings > 3 and listings < 11:\n",
    "        return '4-10 listings'\n",
    "    if listings > 10:\n",
    "        return 'More than 10 listings'"
   ]
  },
  {
   "cell_type": "code",
   "execution_count": 41,
   "id": "34e4afee-9f80-4df6-9ccb-781b84884a2d",
   "metadata": {
    "tags": []
   },
   "outputs": [],
   "source": [
    "# apply function\n",
    "bcn['multi_listings'] = bcn.apply(lambda row: multi_listings(row['total_listings']), axis=1)"
   ]
  },
  {
   "cell_type": "code",
   "execution_count": 42,
   "id": "01ae62ff-bc69-405c-b6f9-470ab2eb3d00",
   "metadata": {
    "tags": []
   },
   "outputs": [
    {
     "data": {
      "text/plain": [
       "<Axes: ylabel='multi_listings'>"
      ]
     },
     "execution_count": 42,
     "metadata": {},
     "output_type": "execute_result"
    },
    {
     "data": {
      "image/png": "[encoded data removed]",
      "text/plain": [
       "<Figure size 640x480 with 1 Axes>"
      ]
     },
     "metadata": {},
     "output_type": "display_data"
    }
   ],
   "source": [
    "# show distribution of multi listings\n",
    "bcn['multi_listings'].value_counts(normalize=True).sort_values(ascending=False).plot(kind='barh', color='#81B29A')"
   ]
  },
  {
   "cell_type": "markdown",
   "id": "d6c5dafc-4893-4803-8dbe-a44ecb637e4a",
   "metadata": {},
   "source": [
    "Most listings are from hosts that have more than 10 accommodations on offer!"
   ]
  },
  {
   "cell_type": "markdown",
   "id": "a18afa4e-0bcb-459e-ae17-98595e1f5fcc",
   "metadata": {},
   "source": [
    "## PRIVATE VS. COMMERCIAL"
   ]
  },
  {
   "cell_type": "markdown",
   "id": "9328ea22-a478-4a52-abfe-bdc0a9fd5fd7",
   "metadata": {},
   "source": [
    "We now want to have a look at the (self-declared) host type: private or commercial. We doubt that offering more than 3 accomodations is private!"
   ]
  },
  {
   "cell_type": "code",
   "execution_count": 43,
   "id": "f2e564ab-b133-40f6-94e4-a81b5a23eccd",
   "metadata": {
    "tags": []
   },
   "outputs": [],
   "source": [
    "# create new dataframes for each host type\n",
    "commercial = bcn.loc[bcn['host_type'] == 'commercial']\n",
    "private = bcn.loc[bcn['host_type'] == 'private']"
   ]
  },
  {
   "cell_type": "code",
   "execution_count": 44,
   "id": "e4d930fb-9f21-4c43-a886-df89d8b52e62",
   "metadata": {
    "tags": []
   },
   "outputs": [
    {
     "data": {
      "text/html": [
       "<div>\n",
       "<style scoped>\n",
       "    .dataframe tbody tr th:only-of-type {\n",
       "        vertical-align: middle;\n",
       "    }\n",
       "\n",
       "    .dataframe tbody tr th {\n",
       "        vertical-align: top;\n",
       "    }\n",
       "\n",
       "    .dataframe thead th {\n",
       "        text-align: right;\n",
       "    }\n",
       "</style>\n",
       "<table border=\"1\" class=\"dataframe\">\n",
       "  <thead>\n",
       "    <tr style=\"text-align: right;\">\n",
       "      <th></th>\n",
       "      <th>listings</th>\n",
       "      <th>listings_avg</th>\n",
       "      <th>calculated_host_listings_count</th>\n",
       "      <th>calculated_host_listings_count_entire_homes</th>\n",
       "      <th>price</th>\n",
       "      <th>minimum_nights</th>\n",
       "      <th>number_of_reviews</th>\n",
       "      <th>rating</th>\n",
       "      <th>reviews_month</th>\n",
       "    </tr>\n",
       "    <tr>\n",
       "      <th>host_type</th>\n",
       "      <th></th>\n",
       "      <th></th>\n",
       "      <th></th>\n",
       "      <th></th>\n",
       "      <th></th>\n",
       "      <th></th>\n",
       "      <th></th>\n",
       "      <th></th>\n",
       "      <th></th>\n",
       "    </tr>\n",
       "  </thead>\n",
       "  <tbody>\n",
       "    <tr>\n",
       "      <th>commercial</th>\n",
       "      <td>5103</td>\n",
       "      <td>38.215951</td>\n",
       "      <td>40.521654</td>\n",
       "      <td>35.981188</td>\n",
       "      <td>139.243582</td>\n",
       "      <td>12.345483</td>\n",
       "      <td>42.029199</td>\n",
       "      <td>4.493831</td>\n",
       "      <td>1.368383</td>\n",
       "    </tr>\n",
       "    <tr>\n",
       "      <th>not_found</th>\n",
       "      <td>110</td>\n",
       "      <td>15.463636</td>\n",
       "      <td>16.745455</td>\n",
       "      <td>13.809091</td>\n",
       "      <td>88.618182</td>\n",
       "      <td>15.054545</td>\n",
       "      <td>37.527273</td>\n",
       "      <td>4.498060</td>\n",
       "      <td>2.036716</td>\n",
       "    </tr>\n",
       "    <tr>\n",
       "      <th>private</th>\n",
       "      <td>5611</td>\n",
       "      <td>6.062734</td>\n",
       "      <td>6.191944</td>\n",
       "      <td>4.106755</td>\n",
       "      <td>79.684726</td>\n",
       "      <td>17.503654</td>\n",
       "      <td>47.540902</td>\n",
       "      <td>4.568772</td>\n",
       "      <td>1.270780</td>\n",
       "    </tr>\n",
       "  </tbody>\n",
       "</table>\n",
       "</div>"
      ],
      "text/plain": [
       "            listings  listings_avg  calculated_host_listings_count   \n",
       "host_type                                                            \n",
       "commercial      5103     38.215951                       40.521654  \\\n",
       "not_found        110     15.463636                       16.745455   \n",
       "private         5611      6.062734                        6.191944   \n",
       "\n",
       "            calculated_host_listings_count_entire_homes       price   \n",
       "host_type                                                             \n",
       "commercial                                    35.981188  139.243582  \\\n",
       "not_found                                     13.809091   88.618182   \n",
       "private                                        4.106755   79.684726   \n",
       "\n",
       "            minimum_nights  number_of_reviews    rating  reviews_month  \n",
       "host_type                                                               \n",
       "commercial       12.345483          42.029199  4.493831       1.368383  \n",
       "not_found        15.054545          37.527273  4.498060       2.036716  \n",
       "private          17.503654          47.540902  4.568772       1.270780  "
      ]
     },
     "execution_count": 44,
     "metadata": {},
     "output_type": "execute_result"
    }
   ],
   "source": [
    "# dataframe with statistic information about host types\n",
    "host_types = bcn.groupby(['host_type']).agg(listings = ('id', 'count'), listings_avg = ('total_listings', 'mean'), calculated_host_listings_count = ('calculated_host_listings_count', 'mean'),calculated_host_listings_count_entire_homes = ('calculated_host_listings_count_entire_homes', 'mean'), price = ('price', 'mean'), minimum_nights = ('minimum_nights', 'mean'), number_of_reviews = ('number_of_reviews', 'mean'), rating = ('review_scores_rating', 'mean'), reviews_month =('reviews_per_month', 'mean'))\n",
    "host_types"
   ]
  },
  {
   "cell_type": "markdown",
   "id": "e6aadd6c-330f-42a6-8849-344f7b25d87a",
   "metadata": {
    "tags": []
   },
   "source": [
    "Commercial hosts do have significantly more listings than private, they tend to offer more entire homes."
   ]
  },
  {
   "cell_type": "code",
   "execution_count": 45,
   "id": "9eb64923-263a-4ea0-a504-e90b07fb119c",
   "metadata": {
    "tags": []
   },
   "outputs": [
    {
     "data": {
      "text/plain": [
       "status_license\n",
       "ok               0.394278\n",
       "no license       0.252792\n",
       "reuse            0.220263\n",
       "claims exempt    0.132667\n",
       "Name: proportion, dtype: float64"
      ]
     },
     "execution_count": 45,
     "metadata": {},
     "output_type": "execute_result"
    }
   ],
   "source": [
    "# show license status of commercial hosts\n",
    "commercial['status_license'].value_counts(normalize=True)"
   ]
  },
  {
   "cell_type": "code",
   "execution_count": 46,
   "id": "4c735b62-21a2-4b1a-aa79-b897e750edd5",
   "metadata": {
    "tags": []
   },
   "outputs": [
    {
     "data": {
      "text/plain": [
       "status_license\n",
       "no license       0.387097\n",
       "claims exempt    0.369809\n",
       "ok               0.184103\n",
       "reuse            0.058991\n",
       "Name: proportion, dtype: float64"
      ]
     },
     "execution_count": 46,
     "metadata": {},
     "output_type": "execute_result"
    }
   ],
   "source": [
    "# show license status of private hosts\n",
    "private['status_license'].value_counts(normalize=True)"
   ]
  },
  {
   "cell_type": "markdown",
   "id": "af2d3e4f-192c-4237-aa38-827f4eef969f",
   "metadata": {},
   "source": [
    "Commercial hosts significantly more often have licenses. But also reuse them more often."
   ]
  },
  {
   "cell_type": "code",
   "execution_count": 47,
   "id": "6540e842-07e9-4634-8263-a80e7ea7506f",
   "metadata": {
    "tags": []
   },
   "outputs": [
    {
     "data": {
      "text/plain": [
       "multi_listings\n",
       "More than 10 listings    0.610033\n",
       "4-10 listings            0.235940\n",
       "2-3 listings             0.089947\n",
       "single listing           0.064080\n",
       "Name: proportion, dtype: float64"
      ]
     },
     "execution_count": 47,
     "metadata": {},
     "output_type": "execute_result"
    }
   ],
   "source": [
    "# show how many accommodations commercial hosts offer\n",
    "commercial['multi_listings'].value_counts(normalize=True)"
   ]
  },
  {
   "cell_type": "code",
   "execution_count": 48,
   "id": "846c11fe-4158-44be-aae0-53b9a3c48bc4",
   "metadata": {
    "tags": []
   },
   "outputs": [
    {
     "data": {
      "text/plain": [
       "multi_listings\n",
       "single listing           0.484049\n",
       "2-3 listings             0.247728\n",
       "4-10 listings            0.139191\n",
       "More than 10 listings    0.129032\n",
       "Name: proportion, dtype: float64"
      ]
     },
     "execution_count": 48,
     "metadata": {},
     "output_type": "execute_result"
    }
   ],
   "source": [
    "# show how many accommodations private hosts offer\n",
    "private['multi_listings'].value_counts(normalize=True)"
   ]
  },
  {
   "cell_type": "code",
   "execution_count": 49,
   "id": "4017def6-12f6-4ebb-9216-a8b7f88b321c",
   "metadata": {
    "tags": []
   },
   "outputs": [
    {
     "data": {
      "image/png": "[encoded data removed]",
      "text/plain": [
       "<Figure size 800x500 with 1 Axes>"
      ]
     },
     "metadata": {},
     "output_type": "display_data"
    }
   ],
   "source": [
    "# plot distribution for private hosts\n",
    "names =['Single listing: 48%', '2-3 listings: 25%', '4-10 Listings: 14%', 'More than 10 listings: 13%']\n",
    "sizes = [48, 25, 14, 13]\n",
    "fig = plt.figure()\n",
    "fig.set_size_inches(8,5)\n",
    "fig.patch.set_facecolor('#242424')\n",
    "plt.rcParams['text.color'] = 'white'\n",
    "plt.rcParams\n",
    "my_circle=plt.Circle( (0,0), 0.55, color='#242424')\n",
    "plt.pie(x=sizes, labels=names, colors=['#81B29A', '#F4F1DE', '#F2CC8F','#E07A5F','#3D405B'], startangle=90, wedgeprops={\"edgecolor\":'#242424'})\n",
    "p=plt.gcf()\n",
    "p.gca().add_artist(my_circle)\n",
    "plt.show()"
   ]
  },
  {
   "cell_type": "markdown",
   "id": "51291a06-412b-4ca9-afda-a24bde6d0888",
   "metadata": {},
   "source": [
    "27% of the listings from \"private\" hosts are from hosts who have more than 3 accomodations."
   ]
  },
  {
   "cell_type": "markdown",
   "id": "b28577e9-a478-41f1-992c-4c153efa462e",
   "metadata": {},
   "source": [
    "## HOSTS WITH MOST LISTINGS IN BARCELONA"
   ]
  },
  {
   "cell_type": "code",
   "execution_count": 50,
   "id": "90eab17d-804f-4c31-bfbb-979d355edccf",
   "metadata": {
    "tags": []
   },
   "outputs": [
    {
     "data": {
      "text/html": [
       "<div>\n",
       "<style scoped>\n",
       "    .dataframe tbody tr th:only-of-type {\n",
       "        vertical-align: middle;\n",
       "    }\n",
       "\n",
       "    .dataframe tbody tr th {\n",
       "        vertical-align: top;\n",
       "    }\n",
       "\n",
       "    .dataframe thead th {\n",
       "        text-align: right;\n",
       "    }\n",
       "</style>\n",
       "<table border=\"1\" class=\"dataframe\">\n",
       "  <thead>\n",
       "    <tr style=\"text-align: right;\">\n",
       "      <th></th>\n",
       "      <th></th>\n",
       "      <th>listings</th>\n",
       "    </tr>\n",
       "    <tr>\n",
       "      <th>host_id</th>\n",
       "      <th>host_name</th>\n",
       "      <th></th>\n",
       "    </tr>\n",
       "  </thead>\n",
       "  <tbody>\n",
       "    <tr>\n",
       "      <th>346367515</th>\n",
       "      <th>Ukio</th>\n",
       "      <td>241</td>\n",
       "    </tr>\n",
       "    <tr>\n",
       "      <th>32037490</th>\n",
       "      <th>SweetInn</th>\n",
       "      <td>178</td>\n",
       "    </tr>\n",
       "    <tr>\n",
       "      <th>299462</th>\n",
       "      <th>Stay U-Nique</th>\n",
       "      <td>127</td>\n",
       "    </tr>\n",
       "    <tr>\n",
       "      <th>158023606</th>\n",
       "      <th>Habitat Apartments</th>\n",
       "      <td>122</td>\n",
       "    </tr>\n",
       "    <tr>\n",
       "      <th>1391607</th>\n",
       "      <th>Aline I Andrea</th>\n",
       "      <td>121</td>\n",
       "    </tr>\n",
       "    <tr>\n",
       "      <th>...</th>\n",
       "      <th>...</th>\n",
       "      <td>...</td>\n",
       "    </tr>\n",
       "    <tr>\n",
       "      <th>35365408</th>\n",
       "      <th>Emanuel</th>\n",
       "      <td>1</td>\n",
       "    </tr>\n",
       "    <tr>\n",
       "      <th>35358773</th>\n",
       "      <th>Joanna</th>\n",
       "      <td>1</td>\n",
       "    </tr>\n",
       "    <tr>\n",
       "      <th>35327702</th>\n",
       "      <th>Bahram</th>\n",
       "      <td>1</td>\n",
       "    </tr>\n",
       "    <tr>\n",
       "      <th>35279876</th>\n",
       "      <th>Stella</th>\n",
       "      <td>1</td>\n",
       "    </tr>\n",
       "    <tr>\n",
       "      <th>66030241</th>\n",
       "      <th>Marta</th>\n",
       "      <td>1</td>\n",
       "    </tr>\n",
       "  </tbody>\n",
       "</table>\n",
       "<p>6065 rows × 1 columns</p>\n",
       "</div>"
      ],
      "text/plain": [
       "                              listings\n",
       "host_id   host_name                   \n",
       "346367515 Ukio                     241\n",
       "32037490  SweetInn                 178\n",
       "299462    Stay U-Nique             127\n",
       "158023606 Habitat Apartments       122\n",
       "1391607   Aline I Andrea           121\n",
       "...                                ...\n",
       "35365408  Emanuel                    1\n",
       "35358773  Joanna                     1\n",
       "35327702  Bahram                     1\n",
       "35279876  Stella                     1\n",
       "66030241  Marta                      1\n",
       "\n",
       "[6065 rows x 1 columns]"
      ]
     },
     "execution_count": 50,
     "metadata": {},
     "output_type": "execute_result"
    }
   ],
   "source": [
    "# create and show dataframe\n",
    "hosts = bcn.groupby(['host_id', 'host_name']).agg(listings = ('id', 'count'))\n",
    "hosts.sort_values(by='listings', ascending=False)"
   ]
  },
  {
   "cell_type": "markdown",
   "id": "3e43dee9-8401-467d-808d-f2cb859aa845",
   "metadata": {},
   "source": [
    "# CLUSTERING"
   ]
  },
  {
   "cell_type": "markdown",
   "id": "e1e98cec-82e6-4e12-9921-9bc536040319",
   "metadata": {},
   "source": [
    "We already saw some patterns and detected irregularities. We want to use an unsupervised learning algorithm to see whether it confirms our assumptions.\n",
    "\n",
    "So far our assumptions how to divide the listings were:\n",
    "\n",
    "**Compliant:**\n",
    "- claim commercial, is commercial, everything ok\n",
    "- claim private, is private, everything ok\n",
    "- no license or claim exempt, but don't offer short-term-stay (<32 days), therefore ok\n",
    "\n",
    "**Suspicious:**\n",
    "- no license or claim exempt, but offers short-term-stay(<32 days), therefore not ok\n",
    "- claim private, but seemingly commercial\n",
    "- multiple conditions which are not ok\n",
    "- reuse of license\n",
    "\n",
    "Let's see what the clustering will contribute..."
   ]
  },
  {
   "cell_type": "code",
   "execution_count": 51,
   "id": "49273abc-2259-49da-9a20-89ceea616603",
   "metadata": {
    "tags": []
   },
   "outputs": [],
   "source": [
    "bcn_cluster = bcn.drop(['id', 'listing_url', 'name', 'host_id', 'host_url', 'host_name',\n",
    "       'host_since', 'host_location',\n",
    "       'host_response_rate',\n",
    "       'host_neighbourhood', 'host_verifications', 'host_has_profile_pic',\n",
    "       'host_identity_verified', 'neighbourhood_group_cleansed', 'latitude',\n",
    "       'longitude', 'property_type', 'accommodates',\n",
    "       'bathrooms_text', 'bedrooms', 'beds', 'amenities',\n",
    "       'minimum_minimum_nights', 'maximum_nights',\n",
    "       'maximum_minimum_nights', 'minimum_maximum_nights',\n",
    "       'maximum_maximum_nights', 'minimum_nights_avg_ntm',\n",
    "       'maximum_nights_avg_ntm', 'has_availability', 'availability_30',\n",
    "       'availability_60', 'availability_90', 'availability_365',\n",
    "       'number_of_reviews', 'number_of_reviews_ltm', 'number_of_reviews_l30d',\n",
    "       'first_review', 'last_review', 'review_scores_rating',\n",
    "       'review_scores_accuracy', 'review_scores_cleanliness',\n",
    "       'review_scores_checkin', 'review_scores_communication',\n",
    "       'review_scores_location', 'review_scores_value', 'license','reviews_per_month', 'total_listings', 'multi_listings'], axis=1)"
   ]
  },
  {
   "cell_type": "code",
   "execution_count": 52,
   "id": "0057ad03-4a53-44ec-aba1-bb452892d4ea",
   "metadata": {
    "tags": []
   },
   "outputs": [
    {
     "data": {
      "text/plain": [
       "Index(['host_response_time', 'host_acceptance_rate', 'host_is_superhost',\n",
       "       'room_type', 'price', 'minimum_nights', 'instant_bookable',\n",
       "       'calculated_host_listings_count',\n",
       "       'calculated_host_listings_count_entire_homes',\n",
       "       'calculated_host_listings_count_private_rooms',\n",
       "       'calculated_host_listings_count_shared_rooms', 'host_type',\n",
       "       'status_license', 'short_term'],\n",
       "      dtype='object')"
      ]
     },
     "execution_count": 52,
     "metadata": {},
     "output_type": "execute_result"
    }
   ],
   "source": [
    "bcn_cluster.columns"
   ]
  },
  {
   "cell_type": "code",
   "execution_count": 53,
   "id": "e2426083-123e-4810-b900-25858625d41e",
   "metadata": {
    "tags": []
   },
   "outputs": [
    {
     "name": "stdout",
     "output_type": "stream",
     "text": [
      "<class 'pandas.core.frame.DataFrame'>\n",
      "Index: 14779 entries, 0 to 15654\n",
      "Data columns (total 14 columns):\n",
      " #   Column                                        Non-Null Count  Dtype  \n",
      "---  ------                                        --------------  -----  \n",
      " 0   host_response_time                            11879 non-null  object \n",
      " 1   host_acceptance_rate                          12325 non-null  object \n",
      " 2   host_is_superhost                             14778 non-null  object \n",
      " 3   room_type                                     14779 non-null  object \n",
      " 4   price                                         14779 non-null  float64\n",
      " 5   minimum_nights                                14779 non-null  int64  \n",
      " 6   instant_bookable                              14779 non-null  object \n",
      " 7   calculated_host_listings_count                14779 non-null  int64  \n",
      " 8   calculated_host_listings_count_entire_homes   14779 non-null  int64  \n",
      " 9   calculated_host_listings_count_private_rooms  14779 non-null  int64  \n",
      " 10  calculated_host_listings_count_shared_rooms   14779 non-null  int64  \n",
      " 11  host_type                                     10824 non-null  object \n",
      " 12  status_license                                14779 non-null  object \n",
      " 13  short_term                                    14779 non-null  object \n",
      "dtypes: float64(1), int64(5), object(8)\n",
      "memory usage: 2.2+ MB\n"
     ]
    }
   ],
   "source": [
    "bcn_cluster.info()"
   ]
  },
  {
   "cell_type": "code",
   "execution_count": 54,
   "id": "5304dab9-7959-484f-b240-8fe5fff82759",
   "metadata": {
    "tags": []
   },
   "outputs": [],
   "source": [
    "bcn_cluster['host_acceptance_rate'] = bcn_cluster['host_acceptance_rate'].str.rstrip(\"%\").astype(float)/100"
   ]
  },
  {
   "cell_type": "code",
   "execution_count": 55,
   "id": "d8c010be-8ace-4696-83aa-64aa86d7e3e9",
   "metadata": {
    "tags": []
   },
   "outputs": [],
   "source": [
    "bcn_cluster['host_response_time'] = bcn_cluster['host_response_time'].fillna('within an hour')"
   ]
  },
  {
   "cell_type": "code",
   "execution_count": 56,
   "id": "a24acbf2-d918-4f64-8a14-19aa5d96ca71",
   "metadata": {
    "tags": []
   },
   "outputs": [
    {
     "data": {
      "text/plain": [
       "0    1\n",
       "Name: minimum_nights, dtype: int64"
      ]
     },
     "execution_count": 56,
     "metadata": {},
     "output_type": "execute_result"
    }
   ],
   "source": [
    "mean_ar = bcn_cluster['host_acceptance_rate'].mean()\n",
    "mode_mmn = bcn_cluster['minimum_nights'].mode()\n",
    "mode_mmn"
   ]
  },
  {
   "cell_type": "code",
   "execution_count": 57,
   "id": "b61c3ba1-3da2-4967-8fec-3ae5279166c1",
   "metadata": {
    "tags": []
   },
   "outputs": [],
   "source": [
    "bcn_cluster['host_acceptance_rate'] = bcn_cluster['host_acceptance_rate'].fillna((mean_ar))"
   ]
  },
  {
   "cell_type": "code",
   "execution_count": 58,
   "id": "a848ee0b-5cb1-452f-aa7d-7fc2d3634831",
   "metadata": {
    "tags": []
   },
   "outputs": [],
   "source": [
    "bcn_cluster['minimum_nights'] = bcn_cluster['minimum_nights'].fillna(1)"
   ]
  },
  {
   "cell_type": "code",
   "execution_count": 59,
   "id": "bf841d8b-f5e7-47fb-bc19-d538366b264c",
   "metadata": {
    "tags": []
   },
   "outputs": [],
   "source": [
    "bcn_cluster['host_is_superhost'] = bcn_cluster['host_is_superhost'].fillna('f')"
   ]
  },
  {
   "cell_type": "code",
   "execution_count": 60,
   "id": "8fafb6e0-c13a-4628-b921-8cab68b9a388",
   "metadata": {
    "tags": []
   },
   "outputs": [
    {
     "name": "stdout",
     "output_type": "stream",
     "text": [
      "<class 'pandas.core.series.Series'>\n",
      "Index: 14779 entries, 0 to 15654\n",
      "Series name: host_type\n",
      "Non-Null Count  Dtype \n",
      "--------------  ----- \n",
      "10824 non-null  object\n",
      "dtypes: object(1)\n",
      "memory usage: 747.0+ KB\n"
     ]
    }
   ],
   "source": [
    "bcn_cluster['host_type'].info()"
   ]
  },
  {
   "cell_type": "code",
   "execution_count": 61,
   "id": "88935160-946a-4299-a4ff-50583d1c30d3",
   "metadata": {
    "tags": []
   },
   "outputs": [],
   "source": [
    "bcn_cluster = bcn_cluster[bcn_cluster.host_type.notnull()]"
   ]
  },
  {
   "cell_type": "code",
   "execution_count": 62,
   "id": "f4379c70-8687-4f8e-b035-5ffed6a085b1",
   "metadata": {
    "tags": []
   },
   "outputs": [],
   "source": [
    "bcn_cluster = bcn_cluster[bcn_cluster['host_type']!='not_found']"
   ]
  },
  {
   "cell_type": "code",
   "execution_count": 63,
   "id": "d9b59abf-3a8e-43ae-9065-051243ea0467",
   "metadata": {
    "tags": []
   },
   "outputs": [
    {
     "data": {
      "text/plain": [
       "(10714, 14)"
      ]
     },
     "execution_count": 63,
     "metadata": {},
     "output_type": "execute_result"
    }
   ],
   "source": [
    "bcn_cluster.shape"
   ]
  },
  {
   "cell_type": "code",
   "execution_count": 64,
   "id": "d188f545-d70c-43fd-add7-f184f710f843",
   "metadata": {
    "tags": []
   },
   "outputs": [],
   "source": [
    "from sklearn.preprocessing import LabelEncoder\n",
    "le = LabelEncoder()\n",
    "bcn_cluster['host_is_superhost'] = le.fit_transform(bcn_cluster['host_is_superhost'])"
   ]
  },
  {
   "cell_type": "code",
   "execution_count": 65,
   "id": "f8dff3bd-a437-4a20-bdbf-616d0c157bbe",
   "metadata": {
    "tags": []
   },
   "outputs": [],
   "source": [
    "bcn_cluster['instant_bookable'] = le.fit_transform(bcn_cluster['instant_bookable'])"
   ]
  },
  {
   "cell_type": "code",
   "execution_count": 66,
   "id": "783459d0-1981-4045-ab1d-a1db56f0c311",
   "metadata": {
    "tags": []
   },
   "outputs": [],
   "source": [
    "bcn_cluster_scaled = bcn_cluster.copy()"
   ]
  },
  {
   "cell_type": "code",
   "execution_count": 67,
   "id": "414cc458-7f84-4d6c-8f33-c3cbc12e0a44",
   "metadata": {
    "tags": []
   },
   "outputs": [],
   "source": [
    "from sklearn import preprocessing\n",
    "scaler = preprocessing.StandardScaler()\n",
    "bcn_cluster_scaled[['price', 'minimum_nights', 'calculated_host_listings_count',\n",
    "       'calculated_host_listings_count_entire_homes',\n",
    "       'calculated_host_listings_count_private_rooms',\n",
    "       'calculated_host_listings_count_shared_rooms', 'host_acceptance_rate']] = scaler.fit_transform(bcn_cluster_scaled[['price', 'minimum_nights', 'calculated_host_listings_count',\n",
    "       'calculated_host_listings_count_entire_homes',\n",
    "       'calculated_host_listings_count_private_rooms',\n",
    "       'calculated_host_listings_count_shared_rooms', 'host_acceptance_rate']])"
   ]
  },
  {
   "cell_type": "code",
   "execution_count": 68,
   "id": "f0e92a51-b509-40d4-a5a2-3746a95bf20d",
   "metadata": {
    "tags": []
   },
   "outputs": [],
   "source": [
    "from kmodes.kprototypes import KPrototypes"
   ]
  },
  {
   "cell_type": "code",
   "execution_count": 69,
   "id": "f521244b-7429-477a-a939-a9cfa995c712",
   "metadata": {
    "tags": []
   },
   "outputs": [],
   "source": [
    "# cost = []\n",
    "# K = range(1,9)\n",
    "# for num_clusters in list(K):\n",
    "#     kproto = KPrototypes (n_clusters=num_clusters, init = \"Cao\", n_init = 5, verbose=1)\n",
    "#     kproto.fit_predict(bcn_cluster, categorical=[0,3,11])\n",
    "#     cost.append(kproto.cost_)"
   ]
  },
  {
   "cell_type": "code",
   "execution_count": 70,
   "id": "859aedaa-5bbb-4cd2-b08d-2875d39b6707",
   "metadata": {
    "tags": []
   },
   "outputs": [],
   "source": [
    "# cost 6 clusters\n",
    "K = range(1,9)\n",
    "cost = [117606.19126621971,\n",
    " 93747.7062223681,\n",
    " 81580.14544822637,\n",
    " 68150.72072175452,\n",
    " 58679.64240554935,\n",
    " 46962.24783412709,\n",
    " 44508.94029991599,\n",
    " 35295.44332495198]"
   ]
  },
  {
   "cell_type": "code",
   "execution_count": 71,
   "id": "9cee6fcf-7327-4b9e-b663-271dc503cb06",
   "metadata": {
    "tags": []
   },
   "outputs": [
    {
     "data": {
      "image/png": "[encoded data removed]",
      "text/plain": [
       "<Figure size 640x480 with 1 Axes>"
      ]
     },
     "metadata": {},
     "output_type": "display_data"
    }
   ],
   "source": [
    "plt.plot(K, cost, 'bx-')\n",
    "plt.xlabel('No. of clusters')\n",
    "plt.ylabel('Cost')\n",
    "plt.title('Elbow Method For Optimal k')\n",
    "plt.show()"
   ]
  },
  {
   "cell_type": "code",
   "execution_count": 72,
   "id": "e909f5a8-7251-49a8-b5e6-9aac20f1855a",
   "metadata": {
    "tags": []
   },
   "outputs": [
    {
     "ename": "ValueError",
     "evalue": "could not convert string to float: 'Short term stays'",
     "output_type": "error",
     "traceback": [
      "\u001b[0;31m---------------------------------------------------------------------------\u001b[0m",
      "\u001b[0;31mValueError\u001b[0m                                Traceback (most recent call last)",
      "Cell \u001b[0;32mIn[72], line 2\u001b[0m\n\u001b[1;32m      1\u001b[0m kproto \u001b[38;5;241m=\u001b[39m KPrototypes(n_clusters\u001b[38;5;241m=\u001b[39m\u001b[38;5;241m6\u001b[39m, init\u001b[38;5;241m=\u001b[39m\u001b[38;5;124m'\u001b[39m\u001b[38;5;124mCao\u001b[39m\u001b[38;5;124m'\u001b[39m)\n\u001b[0;32m----> 2\u001b[0m clusters \u001b[38;5;241m=\u001b[39m \u001b[43mkproto\u001b[49m\u001b[38;5;241;43m.\u001b[39;49m\u001b[43mfit_predict\u001b[49m\u001b[43m(\u001b[49m\u001b[43mbcn_cluster_scaled\u001b[49m\u001b[43m,\u001b[49m\u001b[43m \u001b[49m\u001b[43mcategorical\u001b[49m\u001b[38;5;241;43m=\u001b[39;49m\u001b[43m[\u001b[49m\u001b[38;5;241;43m0\u001b[39;49m\u001b[43m,\u001b[49m\u001b[38;5;241;43m3\u001b[39;49m\u001b[43m,\u001b[49m\u001b[38;5;241;43m11\u001b[39;49m\u001b[43m,\u001b[49m\u001b[38;5;241;43m12\u001b[39;49m\u001b[43m]\u001b[49m\u001b[43m)\u001b[49m\n",
      "File \u001b[0;32m~/neuefische/Modellbauer/.venv/lib/python3.9/site-packages/kmodes/kmodes.py:154\u001b[0m, in \u001b[0;36mKModes.fit_predict\u001b[0;34m(self, X, y, **kwargs)\u001b[0m\n\u001b[1;32m    148\u001b[0m \u001b[38;5;28;01mdef\u001b[39;00m \u001b[38;5;21mfit_predict\u001b[39m(\u001b[38;5;28mself\u001b[39m, X, y\u001b[38;5;241m=\u001b[39m\u001b[38;5;28;01mNone\u001b[39;00m, \u001b[38;5;241m*\u001b[39m\u001b[38;5;241m*\u001b[39mkwargs):\n\u001b[1;32m    149\u001b[0m \u001b[38;5;250m    \u001b[39m\u001b[38;5;124;03m\"\"\"Compute cluster centroids and predict cluster index for each sample.\u001b[39;00m\n\u001b[1;32m    150\u001b[0m \n\u001b[1;32m    151\u001b[0m \u001b[38;5;124;03m    Convenience method; equivalent to calling fit(X) followed by\u001b[39;00m\n\u001b[1;32m    152\u001b[0m \u001b[38;5;124;03m    predict(X).\u001b[39;00m\n\u001b[1;32m    153\u001b[0m \u001b[38;5;124;03m    \"\"\"\u001b[39;00m\n\u001b[0;32m--> 154\u001b[0m     \u001b[38;5;28;01mreturn\u001b[39;00m \u001b[38;5;28;43mself\u001b[39;49m\u001b[38;5;241;43m.\u001b[39;49m\u001b[43mfit\u001b[49m\u001b[43m(\u001b[49m\u001b[43mX\u001b[49m\u001b[43m,\u001b[49m\u001b[43m \u001b[49m\u001b[38;5;241;43m*\u001b[39;49m\u001b[38;5;241;43m*\u001b[39;49m\u001b[43mkwargs\u001b[49m\u001b[43m)\u001b[49m\u001b[38;5;241m.\u001b[39mpredict(X, \u001b[38;5;241m*\u001b[39m\u001b[38;5;241m*\u001b[39mkwargs)\n",
      "File \u001b[0;32m~/neuefische/Modellbauer/.venv/lib/python3.9/site-packages/kmodes/kprototypes.py:161\u001b[0m, in \u001b[0;36mKPrototypes.fit\u001b[0;34m(self, X, y, categorical, sample_weight)\u001b[0m\n\u001b[1;32m    155\u001b[0m kmodes\u001b[38;5;241m.\u001b[39m_validate_sample_weight(sample_weight, n_samples\u001b[38;5;241m=\u001b[39mX\u001b[38;5;241m.\u001b[39mshape[\u001b[38;5;241m0\u001b[39m],\n\u001b[1;32m    156\u001b[0m                                n_clusters\u001b[38;5;241m=\u001b[39m\u001b[38;5;28mself\u001b[39m\u001b[38;5;241m.\u001b[39mn_clusters)\n\u001b[1;32m    158\u001b[0m \u001b[38;5;66;03m# If self.gamma is None, gamma will be automatically determined from\u001b[39;00m\n\u001b[1;32m    159\u001b[0m \u001b[38;5;66;03m# the data. The function below returns its value.\u001b[39;00m\n\u001b[1;32m    160\u001b[0m \u001b[38;5;28mself\u001b[39m\u001b[38;5;241m.\u001b[39m_enc_cluster_centroids, \u001b[38;5;28mself\u001b[39m\u001b[38;5;241m.\u001b[39m_enc_map, \u001b[38;5;28mself\u001b[39m\u001b[38;5;241m.\u001b[39mlabels_, \u001b[38;5;28mself\u001b[39m\u001b[38;5;241m.\u001b[39mcost_, \\\n\u001b[0;32m--> 161\u001b[0m \u001b[38;5;28mself\u001b[39m\u001b[38;5;241m.\u001b[39mn_iter_, \u001b[38;5;28mself\u001b[39m\u001b[38;5;241m.\u001b[39mepoch_costs_, \u001b[38;5;28mself\u001b[39m\u001b[38;5;241m.\u001b[39mgamma \u001b[38;5;241m=\u001b[39m \u001b[43mk_prototypes\u001b[49m\u001b[43m(\u001b[49m\n\u001b[1;32m    162\u001b[0m \u001b[43m    \u001b[49m\u001b[43mX\u001b[49m\u001b[43m,\u001b[49m\n\u001b[1;32m    163\u001b[0m \u001b[43m    \u001b[49m\u001b[43mcategorical\u001b[49m\u001b[43m,\u001b[49m\n\u001b[1;32m    164\u001b[0m \u001b[43m    \u001b[49m\u001b[38;5;28;43mself\u001b[39;49m\u001b[38;5;241;43m.\u001b[39;49m\u001b[43mn_clusters\u001b[49m\u001b[43m,\u001b[49m\n\u001b[1;32m    165\u001b[0m \u001b[43m    \u001b[49m\u001b[38;5;28;43mself\u001b[39;49m\u001b[38;5;241;43m.\u001b[39;49m\u001b[43mmax_iter\u001b[49m\u001b[43m,\u001b[49m\n\u001b[1;32m    166\u001b[0m \u001b[43m    \u001b[49m\u001b[38;5;28;43mself\u001b[39;49m\u001b[38;5;241;43m.\u001b[39;49m\u001b[43mnum_dissim\u001b[49m\u001b[43m,\u001b[49m\n\u001b[1;32m    167\u001b[0m \u001b[43m    \u001b[49m\u001b[38;5;28;43mself\u001b[39;49m\u001b[38;5;241;43m.\u001b[39;49m\u001b[43mcat_dissim\u001b[49m\u001b[43m,\u001b[49m\n\u001b[1;32m    168\u001b[0m \u001b[43m    \u001b[49m\u001b[38;5;28;43mself\u001b[39;49m\u001b[38;5;241;43m.\u001b[39;49m\u001b[43mgamma\u001b[49m\u001b[43m,\u001b[49m\n\u001b[1;32m    169\u001b[0m \u001b[43m    \u001b[49m\u001b[38;5;28;43mself\u001b[39;49m\u001b[38;5;241;43m.\u001b[39;49m\u001b[43minit\u001b[49m\u001b[43m,\u001b[49m\n\u001b[1;32m    170\u001b[0m \u001b[43m    \u001b[49m\u001b[38;5;28;43mself\u001b[39;49m\u001b[38;5;241;43m.\u001b[39;49m\u001b[43mn_init\u001b[49m\u001b[43m,\u001b[49m\n\u001b[1;32m    171\u001b[0m \u001b[43m    \u001b[49m\u001b[38;5;28;43mself\u001b[39;49m\u001b[38;5;241;43m.\u001b[39;49m\u001b[43mverbose\u001b[49m\u001b[43m,\u001b[49m\n\u001b[1;32m    172\u001b[0m \u001b[43m    \u001b[49m\u001b[43mrandom_state\u001b[49m\u001b[43m,\u001b[49m\n\u001b[1;32m    173\u001b[0m \u001b[43m    \u001b[49m\u001b[38;5;28;43mself\u001b[39;49m\u001b[38;5;241;43m.\u001b[39;49m\u001b[43mn_jobs\u001b[49m\u001b[43m,\u001b[49m\n\u001b[1;32m    174\u001b[0m \u001b[43m    \u001b[49m\u001b[43msample_weight\u001b[49m\u001b[43m,\u001b[49m\n\u001b[1;32m    175\u001b[0m \u001b[43m\u001b[49m\u001b[43m)\u001b[49m\n\u001b[1;32m    177\u001b[0m \u001b[38;5;28;01mreturn\u001b[39;00m \u001b[38;5;28mself\u001b[39m\n",
      "File \u001b[0;32m~/neuefische/Modellbauer/.venv/lib/python3.9/site-packages/kmodes/kprototypes.py:272\u001b[0m, in \u001b[0;36mk_prototypes\u001b[0;34m(X, categorical, n_clusters, max_iter, num_dissim, cat_dissim, gamma, init, n_init, verbose, random_state, n_jobs, sample_weight)\u001b[0m\n\u001b[1;32m    268\u001b[0m n_points \u001b[38;5;241m=\u001b[39m X\u001b[38;5;241m.\u001b[39mshape[\u001b[38;5;241m0\u001b[39m]\n\u001b[1;32m    269\u001b[0m \u001b[38;5;28;01massert\u001b[39;00m n_clusters \u001b[38;5;241m<\u001b[39m\u001b[38;5;241m=\u001b[39m n_points, \u001b[38;5;124mf\u001b[39m\u001b[38;5;124m\"\u001b[39m\u001b[38;5;124mCannot have more clusters (\u001b[39m\u001b[38;5;132;01m{\u001b[39;00mn_clusters\u001b[38;5;132;01m}\u001b[39;00m\u001b[38;5;124m) \u001b[39m\u001b[38;5;124m\"\u001b[39m \\\n\u001b[1;32m    270\u001b[0m                                \u001b[38;5;124mf\u001b[39m\u001b[38;5;124m\"\u001b[39m\u001b[38;5;124mthan data points (\u001b[39m\u001b[38;5;132;01m{\u001b[39;00mn_points\u001b[38;5;132;01m}\u001b[39;00m\u001b[38;5;124m).\u001b[39m\u001b[38;5;124m\"\u001b[39m\n\u001b[0;32m--> 272\u001b[0m Xnum, Xcat \u001b[38;5;241m=\u001b[39m \u001b[43m_split_num_cat\u001b[49m\u001b[43m(\u001b[49m\u001b[43mX\u001b[49m\u001b[43m,\u001b[49m\u001b[43m \u001b[49m\u001b[43mcategorical\u001b[49m\u001b[43m)\u001b[49m\n\u001b[1;32m    273\u001b[0m Xnum, Xcat \u001b[38;5;241m=\u001b[39m check_array(Xnum), check_array(Xcat, dtype\u001b[38;5;241m=\u001b[39m\u001b[38;5;28;01mNone\u001b[39;00m)\n\u001b[1;32m    275\u001b[0m \u001b[38;5;66;03m# Convert the categorical values in Xcat to integers for speed.\u001b[39;00m\n\u001b[1;32m    276\u001b[0m \u001b[38;5;66;03m# Based on the unique values in Xcat, we can make a mapping to achieve this.\u001b[39;00m\n",
      "File \u001b[0;32m~/neuefische/Modellbauer/.venv/lib/python3.9/site-packages/kmodes/kprototypes.py:529\u001b[0m, in \u001b[0;36m_split_num_cat\u001b[0;34m(X, categorical)\u001b[0m\n\u001b[1;32m    522\u001b[0m \u001b[38;5;28;01mdef\u001b[39;00m \u001b[38;5;21m_split_num_cat\u001b[39m(X, categorical):\n\u001b[1;32m    523\u001b[0m \u001b[38;5;250m    \u001b[39m\u001b[38;5;124;03m\"\"\"Extract numerical and categorical columns.\u001b[39;00m\n\u001b[1;32m    524\u001b[0m \u001b[38;5;124;03m    Convert to numpy arrays, if needed.\u001b[39;00m\n\u001b[1;32m    525\u001b[0m \n\u001b[1;32m    526\u001b[0m \u001b[38;5;124;03m    :param X: Feature matrix\u001b[39;00m\n\u001b[1;32m    527\u001b[0m \u001b[38;5;124;03m    :param categorical: Indices of categorical columns\u001b[39;00m\n\u001b[1;32m    528\u001b[0m \u001b[38;5;124;03m    \"\"\"\u001b[39;00m\n\u001b[0;32m--> 529\u001b[0m     Xnum \u001b[38;5;241m=\u001b[39m \u001b[43mnp\u001b[49m\u001b[38;5;241;43m.\u001b[39;49m\u001b[43masanyarray\u001b[49m\u001b[43m(\u001b[49m\u001b[43mX\u001b[49m\u001b[43m[\u001b[49m\u001b[43m:\u001b[49m\u001b[43m,\u001b[49m\u001b[43m \u001b[49m\u001b[43m[\u001b[49m\u001b[43mii\u001b[49m\u001b[43m \u001b[49m\u001b[38;5;28;43;01mfor\u001b[39;49;00m\u001b[43m \u001b[49m\u001b[43mii\u001b[49m\u001b[43m \u001b[49m\u001b[38;5;129;43;01min\u001b[39;49;00m\u001b[43m \u001b[49m\u001b[38;5;28;43mrange\u001b[39;49m\u001b[43m(\u001b[49m\u001b[43mX\u001b[49m\u001b[38;5;241;43m.\u001b[39;49m\u001b[43mshape\u001b[49m\u001b[43m[\u001b[49m\u001b[38;5;241;43m1\u001b[39;49m\u001b[43m]\u001b[49m\u001b[43m)\u001b[49m\n\u001b[1;32m    530\u001b[0m \u001b[43m                               \u001b[49m\u001b[38;5;28;43;01mif\u001b[39;49;00m\u001b[43m \u001b[49m\u001b[43mii\u001b[49m\u001b[43m \u001b[49m\u001b[38;5;129;43;01mnot\u001b[39;49;00m\u001b[43m \u001b[49m\u001b[38;5;129;43;01min\u001b[39;49;00m\u001b[43m \u001b[49m\u001b[43mcategorical\u001b[49m\u001b[43m]\u001b[49m\u001b[43m]\u001b[49m\u001b[43m)\u001b[49m\u001b[38;5;241;43m.\u001b[39;49m\u001b[43mastype\u001b[49m\u001b[43m(\u001b[49m\u001b[43mnp\u001b[49m\u001b[38;5;241;43m.\u001b[39;49m\u001b[43mfloat64\u001b[49m\u001b[43m)\u001b[49m\n\u001b[1;32m    531\u001b[0m     Xcat \u001b[38;5;241m=\u001b[39m np\u001b[38;5;241m.\u001b[39masanyarray(X[:, categorical])\n\u001b[1;32m    532\u001b[0m     \u001b[38;5;28;01mreturn\u001b[39;00m Xnum, Xcat\n",
      "\u001b[0;31mValueError\u001b[0m: could not convert string to float: 'Short term stays'"
     ]
    }
   ],
   "source": [
    "kproto = KPrototypes(n_clusters=6, init='Cao')\n",
    "clusters = kproto.fit_predict(bcn_cluster_scaled, categorical=[0,3,11,12])"
   ]
  },
  {
   "cell_type": "code",
   "execution_count": null,
   "id": "5db78784-ce81-40f6-8f9a-df58818f5e3e",
   "metadata": {
    "tags": []
   },
   "outputs": [],
   "source": [
    "clusters.shape"
   ]
  },
  {
   "cell_type": "code",
   "execution_count": null,
   "id": "4a98b6d3-0f4f-47a1-afb2-306794ff7f47",
   "metadata": {
    "tags": []
   },
   "outputs": [],
   "source": [
    "bcn_cluster.reset_index(drop=True, inplace=True)"
   ]
  },
  {
   "cell_type": "code",
   "execution_count": null,
   "id": "9f8fa283-4278-4073-9067-a1a2155217f5",
   "metadata": {
    "tags": []
   },
   "outputs": [],
   "source": [
    "df_cluster = pd.Series(clusters, name='Cluster')\n",
    "bcn_clustered = pd.concat([bcn_cluster, df_cluster], axis=1)"
   ]
  },
  {
   "cell_type": "code",
   "execution_count": null,
   "id": "4b1ed916-fa94-4cac-9f9b-754c683a55a0",
   "metadata": {
    "tags": []
   },
   "outputs": [],
   "source": [
    "bcn_clustered.head()"
   ]
  },
  {
   "cell_type": "code",
   "execution_count": null,
   "id": "4753cc24-9c2d-47d2-a37b-02895cb93ce1",
   "metadata": {
    "tags": []
   },
   "outputs": [],
   "source": [
    "bcn_clustered['Segment'] = bcn_clustered['Cluster'].map({0:'First', 1:'Second', 2:'Third', 3: 'Fourth', 4: 'Fifth', 5:'Sixth'})\n",
    "bcn_clustered['Segment'] = bcn_clustered['Segment'].astype('category')\n",
    "\n",
    "bcn_clustered.groupby('Segment').agg(\n",
    "    {'Cluster':'count',\n",
    "    'host_response_time': lambda x: x.value_counts().index[0],\n",
    "    'host_acceptance_rate': 'mean',\n",
    "    'host_is_superhost': lambda x: x.value_counts().index[0],\n",
    "    'room_type': lambda x: x.value_counts().index[0],\n",
    "    'price': 'mean',\n",
    "    'minimum_nights': 'median',\n",
    "    'instant_bookable': lambda x: x.value_counts().index[0],\n",
    "    'calculated_host_listings_count': 'median',\n",
    "    'calculated_host_listings_count_entire_homes': 'median',\n",
    "    'calculated_host_listings_count_private_rooms': 'median',\n",
    "    'calculated_host_listings_count_shared_rooms': 'median',\n",
    "    'status_license': lambda x: x.value_counts().index[0],\n",
    "    'host_type': lambda x: x.value_counts().index[0]\n",
    "    }\n",
    ").reset_index()"
   ]
  },
  {
   "cell_type": "code",
   "execution_count": null,
   "id": "77eea332-5697-48dd-a565-1d3d756c9ecd",
   "metadata": {
    "tags": []
   },
   "outputs": [],
   "source": [
    "first = bcn_clustered.loc[bcn_clustered['Segment'] == 'First']"
   ]
  },
  {
   "cell_type": "code",
   "execution_count": null,
   "id": "911b1965-e8f8-4823-a5a8-b7345ba19002",
   "metadata": {
    "tags": []
   },
   "outputs": [],
   "source": [
    "first.head(20)"
   ]
  },
  {
   "cell_type": "markdown",
   "id": "c301101e-984c-4581-b2ab-9a97d9b0edeb",
   "metadata": {},
   "source": [
    "#### Categories according to clustering:\n",
    "\n",
    "**OK:**\n",
    "\n",
    "- Fifth, Second: commercial, many listings, licenses and short-term\n",
    "- Fourth: commercial, many listings, no licenses and long-stay (maybe for students)\n",
    "- Third: commercial, many listings, reuse of licence, rooms, long-term, cheap (hostel for the weekend)\n",
    "- First: private, no license but long term\n",
    "\n",
    "**NOT OK:**\n",
    "- Sixth: private, no license, short term\n",
    "\n",
    "Learnings from clustering: reuse of license is not necessarily suspicous, but seems to be used by hostels (one license for multiple shared rooms in one property)"
   ]
  },
  {
   "cell_type": "markdown",
   "id": "6046f614-199d-472c-86b1-3dd5309f9f5d",
   "metadata": {},
   "source": [
    "# Plots for presentation"
   ]
  },
  {
   "cell_type": "code",
   "execution_count": null,
   "id": "996e088f-ffb5-41da-9408-0c58c5cc544f",
   "metadata": {
    "tags": []
   },
   "outputs": [],
   "source": [
    "names =['No license: 24%', 'Ok: 34%', 'Claims exempt: 25%', 'Reuse: 16%']\n",
    "sizes = [25, 34, 25, 16]\n",
    "fig = plt.figure()\n",
    "fig.set_size_inches(8,5)\n",
    "fig.patch.set_facecolor('#242424')\n",
    "plt.rcParams['text.color'] = 'white'\n",
    "plt.rcParams\n",
    "my_circle=plt.Circle( (0,0), 0.55, color='#242424')\n",
    "plt.pie(x=sizes, labels=names, colors=['#E07A5F', '#81B29A', '#F2CC8F', '#F4F1DE','#3D405B'], startangle=90, wedgeprops={\"edgecolor\":'#242424'}, explode = (0.1,0,0,0))\n",
    "p=plt.gcf()\n",
    "p.gca().add_artist(my_circle)\n",
    "plt.show()"
   ]
  },
  {
   "cell_type": "code",
   "execution_count": null,
   "id": "437addb0-e699-4537-bc06-b0340c35e472",
   "metadata": {
    "tags": []
   },
   "outputs": [],
   "source": [
    "names =['No license: 24%', 'Ok: 34%', 'Claims exempt: 25%', 'Reuse: 16%']\n",
    "sizes = [25, 34, 25, 16]\n",
    "fig = plt.figure()\n",
    "fig.set_size_inches(8,5)\n",
    "fig.patch.set_facecolor('#242424')\n",
    "plt.rcParams['text.color'] = 'white'\n",
    "plt.rcParams\n",
    "my_circle=plt.Circle( (0,0), 0.55, color='#242424')\n",
    "plt.pie(x=sizes, labels=names, colors=['#E07A5F', '#81B29A', '#F2CC8F', '#F4F1DE','#3D405B'], startangle=90, wedgeprops={\"edgecolor\":'#242424'}, explode = (0,0,0.1,0))\n",
    "p=plt.gcf()\n",
    "p.gca().add_artist(my_circle)\n",
    "plt.show()"
   ]
  },
  {
   "cell_type": "code",
   "execution_count": null,
   "id": "d98d8115-bedd-4800-b735-7d8d801f43a0",
   "metadata": {
    "tags": []
   },
   "outputs": [],
   "source": [
    "names =['No license: 24%', 'Ok: 34%', 'Claims exempt: 25%', 'Reuse: 16%']\n",
    "sizes = [25, 34, 25, 16]\n",
    "fig = plt.figure()\n",
    "fig.set_size_inches(8,5)\n",
    "fig.patch.set_facecolor('#242424')\n",
    "plt.rcParams['text.color'] = 'white'\n",
    "plt.rcParams\n",
    "my_circle=plt.Circle( (0,0), 0.55, color='#242424')\n",
    "plt.pie(x=sizes, labels=names, colors=['#E07A5F', '#81B29A', '#F2CC8F', '#F4F1DE','#3D405B'], startangle=90, wedgeprops={\"edgecolor\":'#242424'}, explode = (0,0,0,0.1))\n",
    "p=plt.gcf()\n",
    "p.gca().add_artist(my_circle)\n",
    "plt.show()"
   ]
  },
  {
   "cell_type": "code",
   "execution_count": null,
   "id": "bbf6c1b5-dfac-4c0b-a341-80cd05647126",
   "metadata": {
    "tags": []
   },
   "outputs": [],
   "source": [
    "names =['Single listing: 48%', '2-3 listings: 25%', '4-10 Listings: 14%', 'More than 10 listings: 13%']\n",
    "sizes = [48, 25, 14, 13]\n",
    "fig = plt.figure()\n",
    "fig.set_size_inches(8,5)\n",
    "fig.patch.set_facecolor('#242424')\n",
    "plt.rcParams['text.color'] = 'white'\n",
    "plt.rcParams\n",
    "my_circle=plt.Circle( (0,0), 0.55, color='#242424')\n",
    "plt.pie(x=sizes, labels=names, colors=['#81B29A', '#F4F1DE', '#F2CC8F','#E07A5F','#3D405B'], startangle=90, wedgeprops={\"edgecolor\":'#242424'}, explode = (0,0,0.1,0.1))\n",
    "p=plt.gcf()\n",
    "p.gca().add_artist(my_circle)\n",
    "plt.show()"
   ]
  },
  {
   "cell_type": "code",
   "execution_count": null,
   "id": "3b9fdef8-6e1a-44cb-b830-c711fdd3309b",
   "metadata": {
    "tags": []
   },
   "outputs": [],
   "source": [
    "names =['1-3 listings: 73%', 'More than 3 listings: 27%']\n",
    "sizes = [73,27]\n",
    "fig = plt.figure()\n",
    "fig.set_size_inches(8,5)\n",
    "fig.patch.set_facecolor('#242424')\n",
    "plt.rcParams['text.color'] = 'white'\n",
    "plt.rcParams\n",
    "my_circle=plt.Circle( (0,0), 0.55, color='#242424')\n",
    "plt.pie(x=sizes, labels=names, colors=['#81B29A','#E07A5F','#3D405B'], startangle=90, wedgeprops={\"edgecolor\":'#242424'})\n",
    "p=plt.gcf()\n",
    "p.gca().add_artist(my_circle)\n",
    "plt.show()"
   ]
  },
  {
   "cell_type": "code",
   "execution_count": null,
   "id": "f6830d26-210f-4583-b084-cca4c9217eb7",
   "metadata": {
    "tags": []
   },
   "outputs": [],
   "source": [
    "names =['1-3 listings: 73%', 'More than 3 listings: 27%']\n",
    "sizes = [73,27]\n",
    "fig = plt.figure()\n",
    "fig.set_size_inches(8,5)\n",
    "fig.patch.set_facecolor('#242424')\n",
    "plt.rcParams['text.color'] = 'white'\n",
    "plt.rcParams\n",
    "my_circle=plt.Circle( (0,0), 0.55, color='#242424')\n",
    "plt.pie(x=sizes, labels=names, colors=['#81B29A','#E07A5F','#3D405B'], startangle=90, wedgeprops={\"edgecolor\":'#242424'}, explode = (0, 0.1))\n",
    "p=plt.gcf()\n",
    "p.gca().add_artist(my_circle)\n",
    "plt.show()"
   ]
  }
 ],
 "metadata": {
  "kernelspec": {
   "display_name": "Python 3 (ipykernel)",
   "language": "python",
   "name": "python3"
  },
  "language_info": {
   "codemirror_mode": {
    "name": "ipython",
    "version": 3
   },
   "file_extension": ".py",
   "mimetype": "text/x-python",
   "name": "python",
   "nbconvert_exporter": "python",
   "pygments_lexer": "ipython3",
   "version": "3.9.8"
  }
 },
 "nbformat": 4,
 "nbformat_minor": 5
}
