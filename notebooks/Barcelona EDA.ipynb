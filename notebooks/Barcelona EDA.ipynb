{
 "cells": [
  {
   "cell_type": "markdown",
   "id": "2afca338-cba4-4855-925e-bb9f3794ff62",
   "metadata": {},
   "source": [
    "## Infringement detection on Airbnb\n",
    "\n",
    "We analyze the Airbnb listings of three European metropolitan areas (Stockholm, Rome, Barcelona) and examine the extent to which applicable laws are complied with. Based on our findings, we create a model that classifies listings into different categories.\n",
    "\n",
    "Data used in this project is taken from [Inside Airbnb](http://insideairbnb.com/get-the-data/). \n",
    "\n",
    "Some additional data is collected by a webscraper."
   ]
  },
  {
   "cell_type": "markdown",
   "id": "5cebe59b-51c2-49ce-931a-e438afdb0341",
   "metadata": {},
   "source": [
    "### About Airbnb\n",
    "\n",
    "Airbnb is an American company operating an online marketplace for short-term homestays and experiences. \n",
    "\n",
    "It started as a more evolved version of couch surfing, in which youthful travellers used social media to find a free place to crash. Couch surfing was predicated on personal exchange: hosts got to know their guests, with the understanding that one day they might spend a free night at their guests’ home. Airbnb introduced the notion of hosts charging an affordable rate for that place to crash, so that a tourist on a budget could book a bed in the spare room of a local’s home.\n",
    "\n",
    "The conceit of friendly locals renting out spare rooms has been supplanted by a more mercenary model, in which centuries-old apartment buildings are hollowed out with ersatz hotel rooms. Many properties have been bought specifically as short-term-rental investments, managed by agencies that have dozens of such properties.\n",
    "\n",
    "The company acts as a broker and charges a commission from each booking. Both private and commercial landlords rent out accommodations under the mediation of the company, but without Airbnb assuming any legal obligations. \n",
    "\n",
    "From its founding in 2008 to March 2020, more than 900 million overnight stays were booked through Airbnb, according to the company."
   ]
  },
  {
   "cell_type": "markdown",
   "id": "d66c9d25-79a8-4f73-a979-1896f83b06b8",
   "metadata": {
    "tags": []
   },
   "source": [
    "### Criticism of Airbnb\n",
    "\n",
    "Airbnb has come under criticism for a number of reasons, including the fact that:\n",
    "- The mass subletting of housing at high prices for short stays is putting further pressure on the already tight housing market in some cities. Housing is becoming scarcer, rents are rising.\n",
    "- Fewer taxes are being collected through tourism.\n",
    "- Municipalities are losing control over the amount of tourism. \n",
    "- Residents are annoyed by the many strangers coming in and out of their homes. "
   ]
  },
  {
   "cell_type": "markdown",
   "id": "028f6173-e100-48a4-a5bf-a907ba6b5d06",
   "metadata": {},
   "source": [
    "### Hypotheses\n",
    "\n",
    "- commercial hosts tend to have several properties\n",
    "- commercial hosts tend to rent out for (almost) the entire year\n",
    "- "
   ]
  },
  {
   "cell_type": "code",
   "execution_count": 1,
   "id": "6e7173e2-1b4f-46f8-bfef-cada42529ed3",
   "metadata": {
    "tags": []
   },
   "outputs": [],
   "source": [
    "import pandas as pd\n",
    "import numpy as np\n",
    "import seaborn as sns\n",
    "import matplotlib.pyplot as plt"
   ]
  },
  {
   "cell_type": "code",
   "execution_count": 2,
   "id": "f0548934-5bfa-4d76-b31d-1d5433d2b284",
   "metadata": {
    "tags": []
   },
   "outputs": [],
   "source": [
    "bcn_orginal = pd.read_csv('../data/listings_bcn.csv')\n",
    "scraped = pd.read_csv('../data/airbnb2.csv')"
   ]
  },
  {
   "cell_type": "code",
   "execution_count": 3,
   "id": "4520fdc7-752a-405e-804d-6efc7f480c9e",
   "metadata": {
    "tags": []
   },
   "outputs": [],
   "source": [
    "scraped.rename(columns = {'url':'listing_url'}, inplace = True)"
   ]
  },
  {
   "cell_type": "code",
   "execution_count": 4,
   "id": "71c80dcb-942a-4f08-aeba-31af43487246",
   "metadata": {
    "tags": []
   },
   "outputs": [],
   "source": [
    "bcn_new=bcn_orginal.merge(scraped, on='listing_url', how='outer')"
   ]
  },
  {
   "cell_type": "code",
   "execution_count": 5,
   "id": "931996f1-c95e-45f1-83f5-578ea76d6991",
   "metadata": {
    "tags": []
   },
   "outputs": [],
   "source": [
    "bcn_new = bcn_new.drop(['Unnamed: 0'], axis=1)"
   ]
  },
  {
   "cell_type": "code",
   "execution_count": 6,
   "id": "f9c18458-52f9-44cf-8516-49a4c956f1a5",
   "metadata": {
    "tags": []
   },
   "outputs": [
    {
     "data": {
      "text/plain": [
       "6227"
      ]
     },
     "execution_count": 6,
     "metadata": {},
     "output_type": "execute_result"
    }
   ],
   "source": [
    "bcn_new['host_id'].nunique()"
   ]
  },
  {
   "cell_type": "code",
   "execution_count": 7,
   "id": "a5a9a6e0-b33b-439c-808c-a9bc21647ed3",
   "metadata": {
    "tags": []
   },
   "outputs": [
    {
     "data": {
      "text/plain": [
       "3076"
      ]
     },
     "execution_count": 7,
     "metadata": {},
     "output_type": "execute_result"
    }
   ],
   "source": [
    "bcn_new['host_name'].nunique()"
   ]
  },
  {
   "cell_type": "code",
   "execution_count": 8,
   "id": "e2c09bf2-615e-4989-bf69-44c6863f13c0",
   "metadata": {
    "tags": []
   },
   "outputs": [
    {
     "name": "stdout",
     "output_type": "stream",
     "text": [
      "<class 'pandas.core.frame.DataFrame'>\n",
      "RangeIndex: 15655 entries, 0 to 15654\n",
      "Data columns (total 76 columns):\n",
      " #   Column                                        Non-Null Count  Dtype  \n",
      "---  ------                                        --------------  -----  \n",
      " 0   id                                            15655 non-null  int64  \n",
      " 1   listing_url                                   15655 non-null  object \n",
      " 2   scrape_id                                     15655 non-null  int64  \n",
      " 3   last_scraped                                  15655 non-null  object \n",
      " 4   source                                        15655 non-null  object \n",
      " 5   name                                          15646 non-null  object \n",
      " 6   description                                   15569 non-null  object \n",
      " 7   neighborhood_overview                         9204 non-null   object \n",
      " 8   picture_url                                   15655 non-null  object \n",
      " 9   host_id                                       15655 non-null  int64  \n",
      " 10  host_url                                      15655 non-null  object \n",
      " 11  host_name                                     15653 non-null  object \n",
      " 12  host_since                                    15653 non-null  object \n",
      " 13  host_location                                 12172 non-null  object \n",
      " 14  host_about                                    10031 non-null  object \n",
      " 15  host_response_time                            12660 non-null  object \n",
      " 16  host_response_rate                            12660 non-null  object \n",
      " 17  host_acceptance_rate                          13127 non-null  object \n",
      " 18  host_is_superhost                             15653 non-null  object \n",
      " 19  host_thumbnail_url                            15653 non-null  object \n",
      " 20  host_picture_url                              15653 non-null  object \n",
      " 21  host_neighbourhood                            9143 non-null   object \n",
      " 22  host_listings_count                           15653 non-null  float64\n",
      " 23  host_total_listings_count                     15653 non-null  float64\n",
      " 24  host_verifications                            15653 non-null  object \n",
      " 25  host_has_profile_pic                          15653 non-null  object \n",
      " 26  host_identity_verified                        15653 non-null  object \n",
      " 27  neighbourhood                                 9204 non-null   object \n",
      " 28  neighbourhood_cleansed                        15655 non-null  object \n",
      " 29  neighbourhood_group_cleansed                  15655 non-null  object \n",
      " 30  latitude                                      15655 non-null  float64\n",
      " 31  longitude                                     15655 non-null  float64\n",
      " 32  property_type                                 15655 non-null  object \n",
      " 33  room_type                                     15655 non-null  object \n",
      " 34  accommodates                                  15655 non-null  int64  \n",
      " 35  bathrooms                                     0 non-null      float64\n",
      " 36  bathrooms_text                                15647 non-null  object \n",
      " 37  bedrooms                                      15098 non-null  float64\n",
      " 38  beds                                          15378 non-null  float64\n",
      " 39  amenities                                     15655 non-null  object \n",
      " 40  price                                         15655 non-null  object \n",
      " 41  minimum_nights                                15655 non-null  int64  \n",
      " 42  maximum_nights                                15655 non-null  int64  \n",
      " 43  minimum_minimum_nights                        15654 non-null  float64\n",
      " 44  maximum_minimum_nights                        15654 non-null  float64\n",
      " 45  minimum_maximum_nights                        15654 non-null  float64\n",
      " 46  maximum_maximum_nights                        15654 non-null  float64\n",
      " 47  minimum_nights_avg_ntm                        15654 non-null  float64\n",
      " 48  maximum_nights_avg_ntm                        15654 non-null  float64\n",
      " 49  calendar_updated                              0 non-null      float64\n",
      " 50  has_availability                              15655 non-null  object \n",
      " 51  availability_30                               15655 non-null  int64  \n",
      " 52  availability_60                               15655 non-null  int64  \n",
      " 53  availability_90                               15655 non-null  int64  \n",
      " 54  availability_365                              15655 non-null  int64  \n",
      " 55  calendar_last_scraped                         15655 non-null  object \n",
      " 56  number_of_reviews                             15655 non-null  int64  \n",
      " 57  number_of_reviews_ltm                         15655 non-null  int64  \n",
      " 58  number_of_reviews_l30d                        15655 non-null  int64  \n",
      " 59  first_review                                  12176 non-null  object \n",
      " 60  last_review                                   12176 non-null  object \n",
      " 61  review_scores_rating                          12176 non-null  float64\n",
      " 62  review_scores_accuracy                        12088 non-null  float64\n",
      " 63  review_scores_cleanliness                     12089 non-null  float64\n",
      " 64  review_scores_checkin                         12084 non-null  float64\n",
      " 65  review_scores_communication                   12090 non-null  float64\n",
      " 66  review_scores_location                        12084 non-null  float64\n",
      " 67  review_scores_value                           12085 non-null  float64\n",
      " 68  license                                       10842 non-null  object \n",
      " 69  instant_bookable                              15655 non-null  object \n",
      " 70  calculated_host_listings_count                15655 non-null  int64  \n",
      " 71  calculated_host_listings_count_entire_homes   15655 non-null  int64  \n",
      " 72  calculated_host_listings_count_private_rooms  15655 non-null  int64  \n",
      " 73  calculated_host_listings_count_shared_rooms   15655 non-null  int64  \n",
      " 74  reviews_per_month                             12176 non-null  float64\n",
      " 75  host_type                                     11454 non-null  object \n",
      "dtypes: float64(22), int64(17), object(37)\n",
      "memory usage: 9.1+ MB\n"
     ]
    }
   ],
   "source": [
    "bcn_new.info()"
   ]
  },
  {
   "cell_type": "code",
   "execution_count": 9,
   "id": "1f6e25f9-436b-4be9-be4b-39eedda2cb88",
   "metadata": {
    "tags": []
   },
   "outputs": [
    {
     "data": {
      "text/html": [
       "<div>\n",
       "<style scoped>\n",
       "    .dataframe tbody tr th:only-of-type {\n",
       "        vertical-align: middle;\n",
       "    }\n",
       "\n",
       "    .dataframe tbody tr th {\n",
       "        vertical-align: top;\n",
       "    }\n",
       "\n",
       "    .dataframe thead th {\n",
       "        text-align: right;\n",
       "    }\n",
       "</style>\n",
       "<table border=\"1\" class=\"dataframe\">\n",
       "  <thead>\n",
       "    <tr style=\"text-align: right;\">\n",
       "      <th></th>\n",
       "      <th>id</th>\n",
       "      <th>scrape_id</th>\n",
       "      <th>host_id</th>\n",
       "      <th>host_listings_count</th>\n",
       "      <th>host_total_listings_count</th>\n",
       "      <th>latitude</th>\n",
       "      <th>longitude</th>\n",
       "      <th>accommodates</th>\n",
       "      <th>bathrooms</th>\n",
       "      <th>bedrooms</th>\n",
       "      <th>...</th>\n",
       "      <th>review_scores_cleanliness</th>\n",
       "      <th>review_scores_checkin</th>\n",
       "      <th>review_scores_communication</th>\n",
       "      <th>review_scores_location</th>\n",
       "      <th>review_scores_value</th>\n",
       "      <th>calculated_host_listings_count</th>\n",
       "      <th>calculated_host_listings_count_entire_homes</th>\n",
       "      <th>calculated_host_listings_count_private_rooms</th>\n",
       "      <th>calculated_host_listings_count_shared_rooms</th>\n",
       "      <th>reviews_per_month</th>\n",
       "    </tr>\n",
       "  </thead>\n",
       "  <tbody>\n",
       "    <tr>\n",
       "      <th>count</th>\n",
       "      <td>1.565500e+04</td>\n",
       "      <td>1.565500e+04</td>\n",
       "      <td>1.565500e+04</td>\n",
       "      <td>15653.000000</td>\n",
       "      <td>15653.000000</td>\n",
       "      <td>15655.000000</td>\n",
       "      <td>15655.000000</td>\n",
       "      <td>15655.000000</td>\n",
       "      <td>0.0</td>\n",
       "      <td>15098.000000</td>\n",
       "      <td>...</td>\n",
       "      <td>12089.000000</td>\n",
       "      <td>12084.000000</td>\n",
       "      <td>12090.000000</td>\n",
       "      <td>12084.000000</td>\n",
       "      <td>12085.000000</td>\n",
       "      <td>15655.000000</td>\n",
       "      <td>15655.000000</td>\n",
       "      <td>15655.000000</td>\n",
       "      <td>15655.000000</td>\n",
       "      <td>12176.000000</td>\n",
       "    </tr>\n",
       "    <tr>\n",
       "      <th>mean</th>\n",
       "      <td>1.823385e+17</td>\n",
       "      <td>2.023031e+13</td>\n",
       "      <td>1.450517e+08</td>\n",
       "      <td>33.219575</td>\n",
       "      <td>47.700569</td>\n",
       "      <td>41.391943</td>\n",
       "      <td>2.167214</td>\n",
       "      <td>3.484510</td>\n",
       "      <td>NaN</td>\n",
       "      <td>1.758511</td>\n",
       "      <td>...</td>\n",
       "      <td>4.581542</td>\n",
       "      <td>4.709420</td>\n",
       "      <td>4.709391</td>\n",
       "      <td>4.747661</td>\n",
       "      <td>4.467860</td>\n",
       "      <td>24.163462</td>\n",
       "      <td>21.142510</td>\n",
       "      <td>2.856404</td>\n",
       "      <td>0.084063</td>\n",
       "      <td>1.299759</td>\n",
       "    </tr>\n",
       "    <tr>\n",
       "      <th>std</th>\n",
       "      <td>3.126641e+17</td>\n",
       "      <td>0.000000e+00</td>\n",
       "      <td>1.555632e+08</td>\n",
       "      <td>75.886992</td>\n",
       "      <td>122.550600</td>\n",
       "      <td>0.013936</td>\n",
       "      <td>0.017259</td>\n",
       "      <td>2.172102</td>\n",
       "      <td>NaN</td>\n",
       "      <td>1.051358</td>\n",
       "      <td>...</td>\n",
       "      <td>0.518338</td>\n",
       "      <td>0.456223</td>\n",
       "      <td>0.467022</td>\n",
       "      <td>0.371416</td>\n",
       "      <td>0.537626</td>\n",
       "      <td>46.168220</td>\n",
       "      <td>45.881018</td>\n",
       "      <td>11.617766</td>\n",
       "      <td>0.789422</td>\n",
       "      <td>1.747771</td>\n",
       "    </tr>\n",
       "    <tr>\n",
       "      <th>min</th>\n",
       "      <td>1.867400e+04</td>\n",
       "      <td>2.023031e+13</td>\n",
       "      <td>3.073000e+03</td>\n",
       "      <td>1.000000</td>\n",
       "      <td>1.000000</td>\n",
       "      <td>41.352608</td>\n",
       "      <td>2.091590</td>\n",
       "      <td>0.000000</td>\n",
       "      <td>NaN</td>\n",
       "      <td>1.000000</td>\n",
       "      <td>...</td>\n",
       "      <td>0.000000</td>\n",
       "      <td>0.000000</td>\n",
       "      <td>0.000000</td>\n",
       "      <td>0.000000</td>\n",
       "      <td>0.000000</td>\n",
       "      <td>1.000000</td>\n",
       "      <td>0.000000</td>\n",
       "      <td>0.000000</td>\n",
       "      <td>0.000000</td>\n",
       "      <td>0.010000</td>\n",
       "    </tr>\n",
       "    <tr>\n",
       "      <th>25%</th>\n",
       "      <td>1.891816e+07</td>\n",
       "      <td>2.023031e+13</td>\n",
       "      <td>9.171437e+06</td>\n",
       "      <td>1.000000</td>\n",
       "      <td>2.000000</td>\n",
       "      <td>41.381040</td>\n",
       "      <td>2.157340</td>\n",
       "      <td>2.000000</td>\n",
       "      <td>NaN</td>\n",
       "      <td>1.000000</td>\n",
       "      <td>...</td>\n",
       "      <td>4.440000</td>\n",
       "      <td>4.640000</td>\n",
       "      <td>4.630000</td>\n",
       "      <td>4.670000</td>\n",
       "      <td>4.310000</td>\n",
       "      <td>1.000000</td>\n",
       "      <td>0.000000</td>\n",
       "      <td>0.000000</td>\n",
       "      <td>0.000000</td>\n",
       "      <td>0.210000</td>\n",
       "    </tr>\n",
       "    <tr>\n",
       "      <th>50%</th>\n",
       "      <td>3.864140e+07</td>\n",
       "      <td>2.023031e+13</td>\n",
       "      <td>7.067177e+07</td>\n",
       "      <td>6.000000</td>\n",
       "      <td>8.000000</td>\n",
       "      <td>41.389740</td>\n",
       "      <td>2.168246</td>\n",
       "      <td>3.000000</td>\n",
       "      <td>NaN</td>\n",
       "      <td>1.000000</td>\n",
       "      <td>...</td>\n",
       "      <td>4.720000</td>\n",
       "      <td>4.850000</td>\n",
       "      <td>4.850000</td>\n",
       "      <td>4.850000</td>\n",
       "      <td>4.580000</td>\n",
       "      <td>5.000000</td>\n",
       "      <td>2.000000</td>\n",
       "      <td>0.000000</td>\n",
       "      <td>0.000000</td>\n",
       "      <td>0.770000</td>\n",
       "    </tr>\n",
       "    <tr>\n",
       "      <th>75%</th>\n",
       "      <td>5.563748e+17</td>\n",
       "      <td>2.023031e+13</td>\n",
       "      <td>2.651478e+08</td>\n",
       "      <td>28.000000</td>\n",
       "      <td>39.000000</td>\n",
       "      <td>41.401295</td>\n",
       "      <td>2.177460</td>\n",
       "      <td>4.000000</td>\n",
       "      <td>NaN</td>\n",
       "      <td>2.000000</td>\n",
       "      <td>...</td>\n",
       "      <td>4.920000</td>\n",
       "      <td>5.000000</td>\n",
       "      <td>5.000000</td>\n",
       "      <td>5.000000</td>\n",
       "      <td>4.790000</td>\n",
       "      <td>23.000000</td>\n",
       "      <td>19.000000</td>\n",
       "      <td>1.000000</td>\n",
       "      <td>0.000000</td>\n",
       "      <td>1.900000</td>\n",
       "    </tr>\n",
       "    <tr>\n",
       "      <th>max</th>\n",
       "      <td>8.462300e+17</td>\n",
       "      <td>2.023031e+13</td>\n",
       "      <td>5.049885e+08</td>\n",
       "      <td>1817.000000</td>\n",
       "      <td>3639.000000</td>\n",
       "      <td>41.459560</td>\n",
       "      <td>2.227710</td>\n",
       "      <td>16.000000</td>\n",
       "      <td>NaN</td>\n",
       "      <td>20.000000</td>\n",
       "      <td>...</td>\n",
       "      <td>5.000000</td>\n",
       "      <td>5.000000</td>\n",
       "      <td>5.000000</td>\n",
       "      <td>5.000000</td>\n",
       "      <td>5.000000</td>\n",
       "      <td>241.000000</td>\n",
       "      <td>241.000000</td>\n",
       "      <td>120.000000</td>\n",
       "      <td>12.000000</td>\n",
       "      <td>47.160000</td>\n",
       "    </tr>\n",
       "  </tbody>\n",
       "</table>\n",
       "<p>8 rows × 39 columns</p>\n",
       "</div>"
      ],
      "text/plain": [
       "                 id     scrape_id       host_id  host_listings_count   \n",
       "count  1.565500e+04  1.565500e+04  1.565500e+04         15653.000000  \\\n",
       "mean   1.823385e+17  2.023031e+13  1.450517e+08            33.219575   \n",
       "std    3.126641e+17  0.000000e+00  1.555632e+08            75.886992   \n",
       "min    1.867400e+04  2.023031e+13  3.073000e+03             1.000000   \n",
       "25%    1.891816e+07  2.023031e+13  9.171437e+06             1.000000   \n",
       "50%    3.864140e+07  2.023031e+13  7.067177e+07             6.000000   \n",
       "75%    5.563748e+17  2.023031e+13  2.651478e+08            28.000000   \n",
       "max    8.462300e+17  2.023031e+13  5.049885e+08          1817.000000   \n",
       "\n",
       "       host_total_listings_count      latitude     longitude  accommodates   \n",
       "count               15653.000000  15655.000000  15655.000000  15655.000000  \\\n",
       "mean                   47.700569     41.391943      2.167214      3.484510   \n",
       "std                   122.550600      0.013936      0.017259      2.172102   \n",
       "min                     1.000000     41.352608      2.091590      0.000000   \n",
       "25%                     2.000000     41.381040      2.157340      2.000000   \n",
       "50%                     8.000000     41.389740      2.168246      3.000000   \n",
       "75%                    39.000000     41.401295      2.177460      4.000000   \n",
       "max                  3639.000000     41.459560      2.227710     16.000000   \n",
       "\n",
       "       bathrooms      bedrooms  ...  review_scores_cleanliness   \n",
       "count        0.0  15098.000000  ...               12089.000000  \\\n",
       "mean         NaN      1.758511  ...                   4.581542   \n",
       "std          NaN      1.051358  ...                   0.518338   \n",
       "min          NaN      1.000000  ...                   0.000000   \n",
       "25%          NaN      1.000000  ...                   4.440000   \n",
       "50%          NaN      1.000000  ...                   4.720000   \n",
       "75%          NaN      2.000000  ...                   4.920000   \n",
       "max          NaN     20.000000  ...                   5.000000   \n",
       "\n",
       "       review_scores_checkin  review_scores_communication   \n",
       "count           12084.000000                 12090.000000  \\\n",
       "mean                4.709420                     4.709391   \n",
       "std                 0.456223                     0.467022   \n",
       "min                 0.000000                     0.000000   \n",
       "25%                 4.640000                     4.630000   \n",
       "50%                 4.850000                     4.850000   \n",
       "75%                 5.000000                     5.000000   \n",
       "max                 5.000000                     5.000000   \n",
       "\n",
       "       review_scores_location  review_scores_value   \n",
       "count            12084.000000         12085.000000  \\\n",
       "mean                 4.747661             4.467860   \n",
       "std                  0.371416             0.537626   \n",
       "min                  0.000000             0.000000   \n",
       "25%                  4.670000             4.310000   \n",
       "50%                  4.850000             4.580000   \n",
       "75%                  5.000000             4.790000   \n",
       "max                  5.000000             5.000000   \n",
       "\n",
       "       calculated_host_listings_count   \n",
       "count                    15655.000000  \\\n",
       "mean                        24.163462   \n",
       "std                         46.168220   \n",
       "min                          1.000000   \n",
       "25%                          1.000000   \n",
       "50%                          5.000000   \n",
       "75%                         23.000000   \n",
       "max                        241.000000   \n",
       "\n",
       "       calculated_host_listings_count_entire_homes   \n",
       "count                                 15655.000000  \\\n",
       "mean                                     21.142510   \n",
       "std                                      45.881018   \n",
       "min                                       0.000000   \n",
       "25%                                       0.000000   \n",
       "50%                                       2.000000   \n",
       "75%                                      19.000000   \n",
       "max                                     241.000000   \n",
       "\n",
       "       calculated_host_listings_count_private_rooms   \n",
       "count                                  15655.000000  \\\n",
       "mean                                       2.856404   \n",
       "std                                       11.617766   \n",
       "min                                        0.000000   \n",
       "25%                                        0.000000   \n",
       "50%                                        0.000000   \n",
       "75%                                        1.000000   \n",
       "max                                      120.000000   \n",
       "\n",
       "       calculated_host_listings_count_shared_rooms  reviews_per_month  \n",
       "count                                 15655.000000       12176.000000  \n",
       "mean                                      0.084063           1.299759  \n",
       "std                                       0.789422           1.747771  \n",
       "min                                       0.000000           0.010000  \n",
       "25%                                       0.000000           0.210000  \n",
       "50%                                       0.000000           0.770000  \n",
       "75%                                       0.000000           1.900000  \n",
       "max                                      12.000000          47.160000  \n",
       "\n",
       "[8 rows x 39 columns]"
      ]
     },
     "execution_count": 9,
     "metadata": {},
     "output_type": "execute_result"
    }
   ],
   "source": [
    "bcn_new.describe()"
   ]
  },
  {
   "cell_type": "code",
   "execution_count": 10,
   "id": "1811dfb3-e004-4e4d-a78d-0aaff715535c",
   "metadata": {
    "tags": []
   },
   "outputs": [
    {
     "data": {
      "text/plain": [
       "id                                                 0\n",
       "listing_url                                        0\n",
       "scrape_id                                          0\n",
       "last_scraped                                       0\n",
       "source                                             0\n",
       "                                                ... \n",
       "calculated_host_listings_count_entire_homes        0\n",
       "calculated_host_listings_count_private_rooms       0\n",
       "calculated_host_listings_count_shared_rooms        0\n",
       "reviews_per_month                               3479\n",
       "host_type                                       4201\n",
       "Length: 76, dtype: int64"
      ]
     },
     "execution_count": 10,
     "metadata": {},
     "output_type": "execute_result"
    }
   ],
   "source": [
    "bcn_new.isnull().sum()"
   ]
  },
  {
   "cell_type": "code",
   "execution_count": 11,
   "id": "ef425e98-ecbf-4afd-8625-bde3149a92fc",
   "metadata": {
    "tags": []
   },
   "outputs": [
    {
     "data": {
      "image/png": "[encoded data removed]",
      "text/plain": [
       "<Figure size 2500x1000 with 2 Axes>"
      ]
     },
     "metadata": {},
     "output_type": "display_data"
    }
   ],
   "source": [
    "import missingno as msno\n",
    "msno.matrix(bcn_new);"
   ]
  },
  {
   "cell_type": "code",
   "execution_count": 12,
   "id": "921c67ad-2d59-4ad2-bb50-cb7f87369abb",
   "metadata": {},
   "outputs": [
    {
     "data": {
      "text/plain": [
       "4813"
      ]
     },
     "execution_count": 12,
     "metadata": {},
     "output_type": "execute_result"
    }
   ],
   "source": [
    "bcn_new['license'].isnull().sum()"
   ]
  },
  {
   "cell_type": "code",
   "execution_count": 13,
   "id": "8e16c6c7-740d-470b-a130-083b8d02d708",
   "metadata": {
    "tags": []
   },
   "outputs": [
    {
     "data": {
      "text/plain": [
       "0        False\n",
       "1        False\n",
       "2        False\n",
       "3        False\n",
       "4         True\n",
       "         ...  \n",
       "15650    False\n",
       "15651     True\n",
       "15652    False\n",
       "15653    False\n",
       "15654     True\n",
       "Name: license, Length: 15655, dtype: bool"
      ]
     },
     "execution_count": 13,
     "metadata": {},
     "output_type": "execute_result"
    }
   ],
   "source": [
    "bcn_new['license'].duplicated()"
   ]
  },
  {
   "cell_type": "code",
   "execution_count": 14,
   "id": "bd62a207-c98d-4d23-8564-8a6c4cd8bbe7",
   "metadata": {
    "tags": []
   },
   "outputs": [
    {
     "data": {
      "text/plain": [
       "Index(['id', 'listing_url', 'scrape_id', 'last_scraped', 'source', 'name',\n",
       "       'description', 'neighborhood_overview', 'picture_url', 'host_id',\n",
       "       'host_url', 'host_name', 'host_since', 'host_location', 'host_about',\n",
       "       'host_response_time', 'host_response_rate', 'host_acceptance_rate',\n",
       "       'host_is_superhost', 'host_thumbnail_url', 'host_picture_url',\n",
       "       'host_neighbourhood', 'host_listings_count',\n",
       "       'host_total_listings_count', 'host_verifications',\n",
       "       'host_has_profile_pic', 'host_identity_verified', 'neighbourhood',\n",
       "       'neighbourhood_cleansed', 'neighbourhood_group_cleansed', 'latitude',\n",
       "       'longitude', 'property_type', 'room_type', 'accommodates', 'bathrooms',\n",
       "       'bathrooms_text', 'bedrooms', 'beds', 'amenities', 'price',\n",
       "       'minimum_nights', 'maximum_nights', 'minimum_minimum_nights',\n",
       "       'maximum_minimum_nights', 'minimum_maximum_nights',\n",
       "       'maximum_maximum_nights', 'minimum_nights_avg_ntm',\n",
       "       'maximum_nights_avg_ntm', 'calendar_updated', 'has_availability',\n",
       "       'availability_30', 'availability_60', 'availability_90',\n",
       "       'availability_365', 'calendar_last_scraped', 'number_of_reviews',\n",
       "       'number_of_reviews_ltm', 'number_of_reviews_l30d', 'first_review',\n",
       "       'last_review', 'review_scores_rating', 'review_scores_accuracy',\n",
       "       'review_scores_cleanliness', 'review_scores_checkin',\n",
       "       'review_scores_communication', 'review_scores_location',\n",
       "       'review_scores_value', 'license', 'instant_bookable',\n",
       "       'calculated_host_listings_count',\n",
       "       'calculated_host_listings_count_entire_homes',\n",
       "       'calculated_host_listings_count_private_rooms',\n",
       "       'calculated_host_listings_count_shared_rooms', 'reviews_per_month',\n",
       "       'host_type'],\n",
       "      dtype='object')"
      ]
     },
     "execution_count": 14,
     "metadata": {},
     "output_type": "execute_result"
    }
   ],
   "source": [
    "bcn_new.columns"
   ]
  },
  {
   "cell_type": "code",
   "execution_count": 15,
   "id": "eef17f2d-b06f-4b97-9fc2-af362455f649",
   "metadata": {
    "tags": []
   },
   "outputs": [],
   "source": [
    "# drop some irrelevant or redundant colums\n",
    "bcn = bcn_new.drop(['scrape_id', 'last_scraped', 'source', 'description', 'neighborhood_overview', 'picture_url', 'host_listings_count', 'host_total_listings_count', 'host_about', 'host_thumbnail_url', 'host_picture_url', 'calendar_last_scraped', 'neighbourhood',\n",
    "       'neighbourhood_cleansed', ], axis=1)"
   ]
  },
  {
   "cell_type": "code",
   "execution_count": 16,
   "id": "7fac1367-fbf8-49f8-b144-b2159c5fcee1",
   "metadata": {
    "tags": []
   },
   "outputs": [],
   "source": [
    "# drop bathrooms column since it only contains NaN values\n",
    "bcn = bcn.drop(['bathrooms', 'calendar_updated'], axis=1)"
   ]
  },
  {
   "cell_type": "code",
   "execution_count": 17,
   "id": "480505c0-0d68-4e19-8721-cc3d4f47e8c4",
   "metadata": {
    "tags": []
   },
   "outputs": [
    {
     "data": {
      "text/plain": [
       "Index(['id', 'listing_url', 'name', 'host_id', 'host_url', 'host_name',\n",
       "       'host_since', 'host_location', 'host_response_time',\n",
       "       'host_response_rate', 'host_acceptance_rate', 'host_is_superhost',\n",
       "       'host_neighbourhood', 'host_verifications', 'host_has_profile_pic',\n",
       "       'host_identity_verified', 'neighbourhood_group_cleansed', 'latitude',\n",
       "       'longitude', 'property_type', 'room_type', 'accommodates',\n",
       "       'bathrooms_text', 'bedrooms', 'beds', 'amenities', 'price',\n",
       "       'minimum_nights', 'maximum_nights', 'minimum_minimum_nights',\n",
       "       'maximum_minimum_nights', 'minimum_maximum_nights',\n",
       "       'maximum_maximum_nights', 'minimum_nights_avg_ntm',\n",
       "       'maximum_nights_avg_ntm', 'has_availability', 'availability_30',\n",
       "       'availability_60', 'availability_90', 'availability_365',\n",
       "       'number_of_reviews', 'number_of_reviews_ltm', 'number_of_reviews_l30d',\n",
       "       'first_review', 'last_review', 'review_scores_rating',\n",
       "       'review_scores_accuracy', 'review_scores_cleanliness',\n",
       "       'review_scores_checkin', 'review_scores_communication',\n",
       "       'review_scores_location', 'review_scores_value', 'license',\n",
       "       'instant_bookable', 'calculated_host_listings_count',\n",
       "       'calculated_host_listings_count_entire_homes',\n",
       "       'calculated_host_listings_count_private_rooms',\n",
       "       'calculated_host_listings_count_shared_rooms', 'reviews_per_month',\n",
       "       'host_type'],\n",
       "      dtype='object')"
      ]
     },
     "execution_count": 17,
     "metadata": {},
     "output_type": "execute_result"
    }
   ],
   "source": [
    "bcn.columns"
   ]
  },
  {
   "cell_type": "code",
   "execution_count": 18,
   "id": "1a54a7d7-80b7-4a49-8657-737f57967fa1",
   "metadata": {
    "tags": []
   },
   "outputs": [
    {
     "data": {
      "text/plain": [
       "bathrooms_text\n",
       "1 bath               6336\n",
       "2 baths              2914\n",
       "1 shared bath        2543\n",
       "1 private bath       1285\n",
       "1.5 baths             713\n",
       "1.5 shared baths      577\n",
       "2 shared baths        447\n",
       "3 baths               231\n",
       "2.5 baths             127\n",
       "4 baths                86\n",
       "2.5 shared baths       65\n",
       "0 shared baths         64\n",
       "3 shared baths         47\n",
       "3.5 baths              28\n",
       "5 baths                28\n",
       "0 baths                26\n",
       "Half-bath              16\n",
       "11 shared baths        14\n",
       "3.5 shared baths       14\n",
       "6 baths                12\n",
       "5 shared baths         12\n",
       "4.5 baths              11\n",
       "Shared half-bath       11\n",
       "4 shared baths         10\n",
       "5.5 baths               7\n",
       "Private half-bath       4\n",
       "8 baths                 3\n",
       "7 shared baths          3\n",
       "7.5 baths               2\n",
       "5.5 shared baths        2\n",
       "6 shared baths          2\n",
       "10 shared baths         2\n",
       "8 shared baths          1\n",
       "7.5 shared baths        1\n",
       "13 shared baths         1\n",
       "12 shared baths         1\n",
       "10 baths                1\n",
       "Name: count, dtype: int64"
      ]
     },
     "execution_count": 18,
     "metadata": {},
     "output_type": "execute_result"
    }
   ],
   "source": [
    "bcn['bathrooms_text'].value_counts()"
   ]
  },
  {
   "cell_type": "code",
   "execution_count": 19,
   "id": "647fd2e6-892e-4818-87eb-9dbaa4685be6",
   "metadata": {
    "tags": []
   },
   "outputs": [
    {
     "data": {
      "text/plain": [
       "8"
      ]
     },
     "execution_count": 19,
     "metadata": {},
     "output_type": "execute_result"
    }
   ],
   "source": [
    "bcn['bathrooms_text'].isnull().sum()"
   ]
  },
  {
   "cell_type": "code",
   "execution_count": 20,
   "id": "d4bb2e49-2f5b-422e-a1d8-492eb87abd32",
   "metadata": {
    "tags": []
   },
   "outputs": [],
   "source": [
    "bcn['price'] = bcn['price'].str[1:]"
   ]
  },
  {
   "cell_type": "code",
   "execution_count": 21,
   "id": "c0e7870f-a26f-41c9-bf6f-75f24ed2637a",
   "metadata": {
    "tags": []
   },
   "outputs": [],
   "source": [
    "bcn['price'] = bcn['price'].str.replace(',','')"
   ]
  },
  {
   "cell_type": "code",
   "execution_count": 22,
   "id": "ddd53441-3c17-4030-8b0d-30e06de4e809",
   "metadata": {
    "tags": []
   },
   "outputs": [],
   "source": [
    "bcn['price'] = pd.to_numeric(bcn['price'])"
   ]
  },
  {
   "cell_type": "code",
   "execution_count": 23,
   "id": "14261191-29e1-4951-8f13-96a29d333730",
   "metadata": {
    "tags": []
   },
   "outputs": [
    {
     "data": {
      "text/plain": [
       "count    15655.000000\n",
       "mean       155.644011\n",
       "std        966.108173\n",
       "min          0.000000\n",
       "25%         50.000000\n",
       "50%         99.000000\n",
       "75%        164.000000\n",
       "max      90000.000000\n",
       "Name: price, dtype: float64"
      ]
     },
     "execution_count": 23,
     "metadata": {},
     "output_type": "execute_result"
    }
   ],
   "source": [
    "bcn['price'].describe()"
   ]
  },
  {
   "cell_type": "code",
   "execution_count": 24,
   "id": "d801670e-95d5-41cd-9aac-cb42d2ca21bd",
   "metadata": {
    "tags": []
   },
   "outputs": [
    {
     "data": {
      "text/plain": [
       "<Axes: >"
      ]
     },
     "execution_count": 24,
     "metadata": {},
     "output_type": "execute_result"
    },
    {
     "data": {
      "image/png": "[encoded data removed]",
      "text/plain": [
       "<Figure size 640x480 with 1 Axes>"
      ]
     },
     "metadata": {},
     "output_type": "display_data"
    }
   ],
   "source": [
    "# check for outliers\n",
    "bcn.boxplot(column='price')"
   ]
  },
  {
   "cell_type": "code",
   "execution_count": 25,
   "id": "64293529-7f76-49f8-a97c-711a8896d9d6",
   "metadata": {
    "tags": []
   },
   "outputs": [],
   "source": [
    "# remove outliers with IQR method\n",
    "\n",
    "for x in ['price']:\n",
    "    q75, q25 = np.percentile(bcn.loc[:,x],[75,25])\n",
    "    intr_qr = q75-q25\n",
    "    maxp = q75+(1.5*intr_qr)\n",
    "    minp = q25-(1.5*intr_qr)\n",
    "    \n",
    "    bcn.loc[bcn[x] < minp,x] = np.nan\n",
    "    bcn.loc[bcn[x] > maxp,x] = np.nan\n",
    "    \n",
    "bcn['price'].isnull().sum()\n",
    "bcn['price'] = bcn['price'].dropna(axis=0)"
   ]
  },
  {
   "cell_type": "code",
   "execution_count": 26,
   "id": "ad0c2251-b514-4b48-ba50-36bd447e8e42",
   "metadata": {
    "tags": []
   },
   "outputs": [
    {
     "data": {
      "text/plain": [
       "<seaborn.axisgrid.FacetGrid at 0x179932dc0>"
      ]
     },
     "execution_count": 26,
     "metadata": {},
     "output_type": "execute_result"
    },
    {
     "data": {
      "image/png": "[encoded data removed]",
      "text/plain": [
       "<Figure size 696x500 with 1 Axes>"
      ]
     },
     "metadata": {},
     "output_type": "display_data"
    }
   ],
   "source": [
    "# plot distribution\n",
    "sns.set(style=\"darkgrid\", font_scale=1.2)\n",
    "sns.displot(data=bcn, x=\"price\", hue='room_type', kind='hist')"
   ]
  },
  {
   "cell_type": "code",
   "execution_count": 27,
   "id": "e09904d0-7570-49ec-97ee-cd9674baddff",
   "metadata": {
    "tags": []
   },
   "outputs": [
    {
     "data": {
      "text/plain": [
       "<Axes: ylabel='neighbourhood_group_cleansed'>"
      ]
     },
     "execution_count": 27,
     "metadata": {},
     "output_type": "execute_result"
    },
    {
     "data": {
      "image/png": "[encoded data removed]",
      "text/plain": [
       "<Figure size 640x480 with 1 Axes>"
      ]
     },
     "metadata": {},
     "output_type": "display_data"
    }
   ],
   "source": [
    "bcn['neighbourhood_group_cleansed'].value_counts(normalize=True).sort_values(ascending=False).plot(kind='barh')"
   ]
  },
  {
   "cell_type": "code",
   "execution_count": 28,
   "id": "00518582-ca10-452e-bcff-b1843e133bb2",
   "metadata": {
    "tags": []
   },
   "outputs": [
    {
     "data": {
      "text/plain": [
       "<Axes: ylabel='room_type'>"
      ]
     },
     "execution_count": 28,
     "metadata": {},
     "output_type": "execute_result"
    },
    {
     "data": {
      "image/png": "[encoded data removed]",
      "text/plain": [
       "<Figure size 640x480 with 1 Axes>"
      ]
     },
     "metadata": {},
     "output_type": "display_data"
    }
   ],
   "source": [
    "bcn['room_type'].value_counts(normalize=True).sort_values(ascending=False).plot(kind='barh')"
   ]
  },
  {
   "cell_type": "code",
   "execution_count": 29,
   "id": "7e1485f1-56b7-468d-beb9-4dffb1ae6c76",
   "metadata": {
    "tags": []
   },
   "outputs": [],
   "source": [
    "duplicate_license = bcn[bcn.duplicated('license', keep=False)].copy()\n",
    "duplicate_license = duplicate_license['license'].dropna()\n",
    "duplicate_license_array = duplicate_license.unique()\n",
    "arr = duplicate_license_array[duplicate_license_array != 'Exempt']"
   ]
  },
  {
   "cell_type": "code",
   "execution_count": 30,
   "id": "67467034-36df-4bca-8f53-8ca6c8a2e0a5",
   "metadata": {
    "tags": []
   },
   "outputs": [],
   "source": [
    "def license_duplicates(array):\n",
    "    new_arr = []\n",
    "    for license in array:\n",
    "        if 'HUTB' in license:\n",
    "            new_arr.append(license)\n",
    "        elif 'HB' in license:\n",
    "            new_arr.append(license)\n",
    "        elif 'AJ' in license:\n",
    "            new_arr.append(license)\n",
    "    return new_arr"
   ]
  },
  {
   "cell_type": "code",
   "execution_count": 31,
   "id": "d40e7a78-9fda-45fe-acab-48d1239cc9aa",
   "metadata": {
    "tags": []
   },
   "outputs": [],
   "source": [
    "license_duplicates = license_duplicates(arr)"
   ]
  },
  {
   "cell_type": "code",
   "execution_count": 32,
   "id": "b2e3503d-b171-42c3-acdd-96908b55fbda",
   "metadata": {
    "tags": []
   },
   "outputs": [],
   "source": [
    "bcn['license'] = bcn['license'].fillna('no license')"
   ]
  },
  {
   "cell_type": "code",
   "execution_count": 33,
   "id": "3136b1d9-4c35-479d-a573-49f2542c119c",
   "metadata": {
    "tags": []
   },
   "outputs": [],
   "source": [
    "def is_valid_license(license):\n",
    "    if license in license_duplicates:\n",
    "        return 'reuse'\n",
    "    if 'HUTB' in license:\n",
    "        return 'ok'\n",
    "    if 'HB' in license:\n",
    "        return 'ok'\n",
    "    if 'AJ' in license:\n",
    "        return 'ok'\n",
    "    elif 'exempt' in license.lower():\n",
    "        return 'claims exempt'\n",
    "    else:\n",
    "        return 'no license'"
   ]
  },
  {
   "cell_type": "code",
   "execution_count": 34,
   "id": "c8bb18ce-167f-4786-aa2b-8a854ee2145d",
   "metadata": {
    "tags": []
   },
   "outputs": [],
   "source": [
    "bcn['status_license'] = bcn.apply(lambda row: is_valid_license(row['license']), axis=1)"
   ]
  },
  {
   "cell_type": "code",
   "execution_count": 35,
   "id": "4c3fddc7-d4d6-4928-ad38-a7609ed4b687",
   "metadata": {
    "tags": []
   },
   "outputs": [],
   "source": [
    "def multi_listings(listings):\n",
    "    if listings == 1:\n",
    "        return 'single listing'\n",
    "    if listings > 1 and listings < 4:\n",
    "        return '2-3 listings'\n",
    "    if listings > 3 and listings < 6:\n",
    "        return '4-5 listings'\n",
    "    if listings > 5 and listings < 10:\n",
    "        return '6-9 listings'\n",
    "    if listings > 9 and listings < 20:\n",
    "        return '10-19 listings'\n",
    "    if listings > 19 and listings < 50:\n",
    "        return '20-49 listings'\n",
    "    if listings > 49:\n",
    "        return '50 or more listings'"
   ]
  },
  {
   "cell_type": "code",
   "execution_count": 36,
   "id": "b6c6c1d1-40b1-4bbc-a867-b58611b8e47a",
   "metadata": {
    "tags": []
   },
   "outputs": [],
   "source": [
    "bcn['total_listings'] = bcn.groupby('host_id')['id'].transform('size')"
   ]
  },
  {
   "cell_type": "code",
   "execution_count": 37,
   "id": "34e4afee-9f80-4df6-9ccb-781b84884a2d",
   "metadata": {
    "tags": []
   },
   "outputs": [],
   "source": [
    "bcn['multi_listings'] = bcn.apply(lambda row: multi_listings(row['total_listings']), axis=1)"
   ]
  },
  {
   "cell_type": "code",
   "execution_count": 38,
   "id": "58628fea-4e11-464d-b385-74cd3dbfc63c",
   "metadata": {
    "tags": []
   },
   "outputs": [
    {
     "data": {
      "text/html": [
       "<div>\n",
       "<style scoped>\n",
       "    .dataframe tbody tr th:only-of-type {\n",
       "        vertical-align: middle;\n",
       "    }\n",
       "\n",
       "    .dataframe tbody tr th {\n",
       "        vertical-align: top;\n",
       "    }\n",
       "\n",
       "    .dataframe thead th {\n",
       "        text-align: right;\n",
       "    }\n",
       "</style>\n",
       "<table border=\"1\" class=\"dataframe\">\n",
       "  <thead>\n",
       "    <tr style=\"text-align: right;\">\n",
       "      <th></th>\n",
       "      <th>id</th>\n",
       "      <th>listing_url</th>\n",
       "      <th>name</th>\n",
       "      <th>host_id</th>\n",
       "      <th>host_url</th>\n",
       "      <th>host_name</th>\n",
       "      <th>host_since</th>\n",
       "      <th>host_location</th>\n",
       "      <th>host_response_time</th>\n",
       "      <th>host_response_rate</th>\n",
       "      <th>...</th>\n",
       "      <th>instant_bookable</th>\n",
       "      <th>calculated_host_listings_count</th>\n",
       "      <th>calculated_host_listings_count_entire_homes</th>\n",
       "      <th>calculated_host_listings_count_private_rooms</th>\n",
       "      <th>calculated_host_listings_count_shared_rooms</th>\n",
       "      <th>reviews_per_month</th>\n",
       "      <th>host_type</th>\n",
       "      <th>status_license</th>\n",
       "      <th>total_listings</th>\n",
       "      <th>multi_listings</th>\n",
       "    </tr>\n",
       "  </thead>\n",
       "  <tbody>\n",
       "    <tr>\n",
       "      <th>1445</th>\n",
       "      <td>548971357880414886</td>\n",
       "      <td>https://www.airbnb.com/rooms/548971357880414886</td>\n",
       "      <td>BINGIN - Three bedroom apartment with balcony ...</td>\n",
       "      <td>346367515</td>\n",
       "      <td>https://www.airbnb.com/users/show/346367515</td>\n",
       "      <td>Ukio</td>\n",
       "      <td>2020-05-15</td>\n",
       "      <td>Barcelona, Spain</td>\n",
       "      <td>within an hour</td>\n",
       "      <td>100%</td>\n",
       "      <td>...</td>\n",
       "      <td>t</td>\n",
       "      <td>241</td>\n",
       "      <td>241</td>\n",
       "      <td>0</td>\n",
       "      <td>0</td>\n",
       "      <td>NaN</td>\n",
       "      <td>commercial</td>\n",
       "      <td>claims exempt</td>\n",
       "      <td>241</td>\n",
       "      <td>50 or more listings</td>\n",
       "    </tr>\n",
       "    <tr>\n",
       "      <th>3892</th>\n",
       "      <td>660000460229528902</td>\n",
       "      <td>https://www.airbnb.com/rooms/660000460229528902</td>\n",
       "      <td>ASOA - 1 bedroom apartment in Gràcia</td>\n",
       "      <td>346367515</td>\n",
       "      <td>https://www.airbnb.com/users/show/346367515</td>\n",
       "      <td>Ukio</td>\n",
       "      <td>2020-05-15</td>\n",
       "      <td>Barcelona, Spain</td>\n",
       "      <td>within an hour</td>\n",
       "      <td>100%</td>\n",
       "      <td>...</td>\n",
       "      <td>t</td>\n",
       "      <td>241</td>\n",
       "      <td>241</td>\n",
       "      <td>0</td>\n",
       "      <td>0</td>\n",
       "      <td>NaN</td>\n",
       "      <td>commercial</td>\n",
       "      <td>no license</td>\n",
       "      <td>241</td>\n",
       "      <td>50 or more listings</td>\n",
       "    </tr>\n",
       "    <tr>\n",
       "      <th>9719</th>\n",
       "      <td>664988673127173894</td>\n",
       "      <td>https://www.airbnb.com/rooms/664988673127173894</td>\n",
       "      <td>ULINDI- 2 Bedroom Apartment in Eixample Esquerra</td>\n",
       "      <td>346367515</td>\n",
       "      <td>https://www.airbnb.com/users/show/346367515</td>\n",
       "      <td>Ukio</td>\n",
       "      <td>2020-05-15</td>\n",
       "      <td>Barcelona, Spain</td>\n",
       "      <td>within an hour</td>\n",
       "      <td>100%</td>\n",
       "      <td>...</td>\n",
       "      <td>t</td>\n",
       "      <td>241</td>\n",
       "      <td>241</td>\n",
       "      <td>0</td>\n",
       "      <td>0</td>\n",
       "      <td>NaN</td>\n",
       "      <td>commercial</td>\n",
       "      <td>no license</td>\n",
       "      <td>241</td>\n",
       "      <td>50 or more listings</td>\n",
       "    </tr>\n",
       "    <tr>\n",
       "      <th>15185</th>\n",
       "      <td>817217544895773182</td>\n",
       "      <td>https://www.airbnb.com/rooms/817217544895773182</td>\n",
       "      <td>ANETO - 3 bedrooms apartment in Eixample Esquerra</td>\n",
       "      <td>346367515</td>\n",
       "      <td>https://www.airbnb.com/users/show/346367515</td>\n",
       "      <td>Ukio</td>\n",
       "      <td>2020-05-15</td>\n",
       "      <td>Barcelona, Spain</td>\n",
       "      <td>within an hour</td>\n",
       "      <td>100%</td>\n",
       "      <td>...</td>\n",
       "      <td>t</td>\n",
       "      <td>241</td>\n",
       "      <td>241</td>\n",
       "      <td>0</td>\n",
       "      <td>0</td>\n",
       "      <td>NaN</td>\n",
       "      <td>NaN</td>\n",
       "      <td>no license</td>\n",
       "      <td>241</td>\n",
       "      <td>50 or more listings</td>\n",
       "    </tr>\n",
       "    <tr>\n",
       "      <th>10302</th>\n",
       "      <td>53125521</td>\n",
       "      <td>https://www.airbnb.com/rooms/53125521</td>\n",
       "      <td>HIDA - 2 bedroom apartment with terrace in Gràcia</td>\n",
       "      <td>346367515</td>\n",
       "      <td>https://www.airbnb.com/users/show/346367515</td>\n",
       "      <td>Ukio</td>\n",
       "      <td>2020-05-15</td>\n",
       "      <td>Barcelona, Spain</td>\n",
       "      <td>within an hour</td>\n",
       "      <td>100%</td>\n",
       "      <td>...</td>\n",
       "      <td>t</td>\n",
       "      <td>241</td>\n",
       "      <td>241</td>\n",
       "      <td>0</td>\n",
       "      <td>0</td>\n",
       "      <td>0.07</td>\n",
       "      <td>commercial</td>\n",
       "      <td>no license</td>\n",
       "      <td>241</td>\n",
       "      <td>50 or more listings</td>\n",
       "    </tr>\n",
       "    <tr>\n",
       "      <th>...</th>\n",
       "      <td>...</td>\n",
       "      <td>...</td>\n",
       "      <td>...</td>\n",
       "      <td>...</td>\n",
       "      <td>...</td>\n",
       "      <td>...</td>\n",
       "      <td>...</td>\n",
       "      <td>...</td>\n",
       "      <td>...</td>\n",
       "      <td>...</td>\n",
       "      <td>...</td>\n",
       "      <td>...</td>\n",
       "      <td>...</td>\n",
       "      <td>...</td>\n",
       "      <td>...</td>\n",
       "      <td>...</td>\n",
       "      <td>...</td>\n",
       "      <td>...</td>\n",
       "      <td>...</td>\n",
       "      <td>...</td>\n",
       "      <td>...</td>\n",
       "    </tr>\n",
       "    <tr>\n",
       "      <th>8343</th>\n",
       "      <td>35333897</td>\n",
       "      <td>https://www.airbnb.com/rooms/35333897</td>\n",
       "      <td>Double Room for 2pax Arc de Triomf 5 minuts Beach</td>\n",
       "      <td>258814676</td>\n",
       "      <td>https://www.airbnb.com/users/show/258814676</td>\n",
       "      <td>Noemi</td>\n",
       "      <td>2019-04-29</td>\n",
       "      <td>NaN</td>\n",
       "      <td>within an hour</td>\n",
       "      <td>95%</td>\n",
       "      <td>...</td>\n",
       "      <td>f</td>\n",
       "      <td>1</td>\n",
       "      <td>0</td>\n",
       "      <td>1</td>\n",
       "      <td>0</td>\n",
       "      <td>1.64</td>\n",
       "      <td>private</td>\n",
       "      <td>claims exempt</td>\n",
       "      <td>1</td>\n",
       "      <td>single listing</td>\n",
       "    </tr>\n",
       "    <tr>\n",
       "      <th>8338</th>\n",
       "      <td>8820500</td>\n",
       "      <td>https://www.airbnb.com/rooms/8820500</td>\n",
       "      <td>Light double room near riverside &amp; shopping ce...</td>\n",
       "      <td>21500875</td>\n",
       "      <td>https://www.airbnb.com/users/show/21500875</td>\n",
       "      <td>Maria</td>\n",
       "      <td>2014-09-18</td>\n",
       "      <td>Barcelona, Spain</td>\n",
       "      <td>within a day</td>\n",
       "      <td>83%</td>\n",
       "      <td>...</td>\n",
       "      <td>f</td>\n",
       "      <td>1</td>\n",
       "      <td>0</td>\n",
       "      <td>1</td>\n",
       "      <td>0</td>\n",
       "      <td>0.36</td>\n",
       "      <td>private</td>\n",
       "      <td>no license</td>\n",
       "      <td>1</td>\n",
       "      <td>single listing</td>\n",
       "    </tr>\n",
       "    <tr>\n",
       "      <th>8326</th>\n",
       "      <td>9956262</td>\n",
       "      <td>https://www.airbnb.com/rooms/9956262</td>\n",
       "      <td>My home in Barcelona - 10% discount for families!</td>\n",
       "      <td>7542275</td>\n",
       "      <td>https://www.airbnb.com/users/show/7542275</td>\n",
       "      <td>Roger</td>\n",
       "      <td>2013-07-17</td>\n",
       "      <td>Torrebusqueta, Spain</td>\n",
       "      <td>within a few hours</td>\n",
       "      <td>100%</td>\n",
       "      <td>...</td>\n",
       "      <td>f</td>\n",
       "      <td>1</td>\n",
       "      <td>1</td>\n",
       "      <td>0</td>\n",
       "      <td>0</td>\n",
       "      <td>2.73</td>\n",
       "      <td>private</td>\n",
       "      <td>ok</td>\n",
       "      <td>1</td>\n",
       "      <td>single listing</td>\n",
       "    </tr>\n",
       "    <tr>\n",
       "      <th>8324</th>\n",
       "      <td>718685787948427333</td>\n",
       "      <td>https://www.airbnb.com/rooms/718685787948427333</td>\n",
       "      <td>Brand new premium apartment sunlight all day</td>\n",
       "      <td>8453669</td>\n",
       "      <td>https://www.airbnb.com/users/show/8453669</td>\n",
       "      <td>Mauro</td>\n",
       "      <td>2013-08-27</td>\n",
       "      <td>Buenos Aires, Argentina</td>\n",
       "      <td>within an hour</td>\n",
       "      <td>100%</td>\n",
       "      <td>...</td>\n",
       "      <td>f</td>\n",
       "      <td>1</td>\n",
       "      <td>1</td>\n",
       "      <td>0</td>\n",
       "      <td>0</td>\n",
       "      <td>NaN</td>\n",
       "      <td>private</td>\n",
       "      <td>no license</td>\n",
       "      <td>1</td>\n",
       "      <td>single listing</td>\n",
       "    </tr>\n",
       "    <tr>\n",
       "      <th>15654</th>\n",
       "      <td>52874282</td>\n",
       "      <td>https://www.airbnb.com/rooms/52874282</td>\n",
       "      <td>Luxury design and art in the gothic center</td>\n",
       "      <td>107095087</td>\n",
       "      <td>https://www.airbnb.com/users/show/107095087</td>\n",
       "      <td>Pamen</td>\n",
       "      <td>2016-12-13</td>\n",
       "      <td>Barcelona, Spain</td>\n",
       "      <td>within a day</td>\n",
       "      <td>100%</td>\n",
       "      <td>...</td>\n",
       "      <td>f</td>\n",
       "      <td>1</td>\n",
       "      <td>1</td>\n",
       "      <td>0</td>\n",
       "      <td>0</td>\n",
       "      <td>0.53</td>\n",
       "      <td>NaN</td>\n",
       "      <td>claims exempt</td>\n",
       "      <td>1</td>\n",
       "      <td>single listing</td>\n",
       "    </tr>\n",
       "  </tbody>\n",
       "</table>\n",
       "<p>15655 rows × 63 columns</p>\n",
       "</div>"
      ],
      "text/plain": [
       "                       id                                      listing_url   \n",
       "1445   548971357880414886  https://www.airbnb.com/rooms/548971357880414886  \\\n",
       "3892   660000460229528902  https://www.airbnb.com/rooms/660000460229528902   \n",
       "9719   664988673127173894  https://www.airbnb.com/rooms/664988673127173894   \n",
       "15185  817217544895773182  https://www.airbnb.com/rooms/817217544895773182   \n",
       "10302            53125521            https://www.airbnb.com/rooms/53125521   \n",
       "...                   ...                                              ...   \n",
       "8343             35333897            https://www.airbnb.com/rooms/35333897   \n",
       "8338              8820500             https://www.airbnb.com/rooms/8820500   \n",
       "8326              9956262             https://www.airbnb.com/rooms/9956262   \n",
       "8324   718685787948427333  https://www.airbnb.com/rooms/718685787948427333   \n",
       "15654            52874282            https://www.airbnb.com/rooms/52874282   \n",
       "\n",
       "                                                    name    host_id   \n",
       "1445   BINGIN - Three bedroom apartment with balcony ...  346367515  \\\n",
       "3892                ASOA - 1 bedroom apartment in Gràcia  346367515   \n",
       "9719    ULINDI- 2 Bedroom Apartment in Eixample Esquerra  346367515   \n",
       "15185  ANETO - 3 bedrooms apartment in Eixample Esquerra  346367515   \n",
       "10302  HIDA - 2 bedroom apartment with terrace in Gràcia  346367515   \n",
       "...                                                  ...        ...   \n",
       "8343   Double Room for 2pax Arc de Triomf 5 minuts Beach  258814676   \n",
       "8338   Light double room near riverside & shopping ce...   21500875   \n",
       "8326   My home in Barcelona - 10% discount for families!    7542275   \n",
       "8324        Brand new premium apartment sunlight all day    8453669   \n",
       "15654         Luxury design and art in the gothic center  107095087   \n",
       "\n",
       "                                          host_url host_name  host_since   \n",
       "1445   https://www.airbnb.com/users/show/346367515      Ukio  2020-05-15  \\\n",
       "3892   https://www.airbnb.com/users/show/346367515      Ukio  2020-05-15   \n",
       "9719   https://www.airbnb.com/users/show/346367515      Ukio  2020-05-15   \n",
       "15185  https://www.airbnb.com/users/show/346367515      Ukio  2020-05-15   \n",
       "10302  https://www.airbnb.com/users/show/346367515      Ukio  2020-05-15   \n",
       "...                                            ...       ...         ...   \n",
       "8343   https://www.airbnb.com/users/show/258814676     Noemi  2019-04-29   \n",
       "8338    https://www.airbnb.com/users/show/21500875     Maria  2014-09-18   \n",
       "8326     https://www.airbnb.com/users/show/7542275     Roger  2013-07-17   \n",
       "8324     https://www.airbnb.com/users/show/8453669     Mauro  2013-08-27   \n",
       "15654  https://www.airbnb.com/users/show/107095087     Pamen  2016-12-13   \n",
       "\n",
       "                 host_location  host_response_time host_response_rate  ...   \n",
       "1445          Barcelona, Spain      within an hour               100%  ...  \\\n",
       "3892          Barcelona, Spain      within an hour               100%  ...   \n",
       "9719          Barcelona, Spain      within an hour               100%  ...   \n",
       "15185         Barcelona, Spain      within an hour               100%  ...   \n",
       "10302         Barcelona, Spain      within an hour               100%  ...   \n",
       "...                        ...                 ...                ...  ...   \n",
       "8343                       NaN      within an hour                95%  ...   \n",
       "8338          Barcelona, Spain        within a day                83%  ...   \n",
       "8326      Torrebusqueta, Spain  within a few hours               100%  ...   \n",
       "8324   Buenos Aires, Argentina      within an hour               100%  ...   \n",
       "15654         Barcelona, Spain        within a day               100%  ...   \n",
       "\n",
       "      instant_bookable calculated_host_listings_count   \n",
       "1445                 t                            241  \\\n",
       "3892                 t                            241   \n",
       "9719                 t                            241   \n",
       "15185                t                            241   \n",
       "10302                t                            241   \n",
       "...                ...                            ...   \n",
       "8343                 f                              1   \n",
       "8338                 f                              1   \n",
       "8326                 f                              1   \n",
       "8324                 f                              1   \n",
       "15654                f                              1   \n",
       "\n",
       "      calculated_host_listings_count_entire_homes   \n",
       "1445                                          241  \\\n",
       "3892                                          241   \n",
       "9719                                          241   \n",
       "15185                                         241   \n",
       "10302                                         241   \n",
       "...                                           ...   \n",
       "8343                                            0   \n",
       "8338                                            0   \n",
       "8326                                            1   \n",
       "8324                                            1   \n",
       "15654                                           1   \n",
       "\n",
       "      calculated_host_listings_count_private_rooms   \n",
       "1445                                             0  \\\n",
       "3892                                             0   \n",
       "9719                                             0   \n",
       "15185                                            0   \n",
       "10302                                            0   \n",
       "...                                            ...   \n",
       "8343                                             1   \n",
       "8338                                             1   \n",
       "8326                                             0   \n",
       "8324                                             0   \n",
       "15654                                            0   \n",
       "\n",
       "      calculated_host_listings_count_shared_rooms reviews_per_month   \n",
       "1445                                            0               NaN  \\\n",
       "3892                                            0               NaN   \n",
       "9719                                            0               NaN   \n",
       "15185                                           0               NaN   \n",
       "10302                                           0              0.07   \n",
       "...                                           ...               ...   \n",
       "8343                                            0              1.64   \n",
       "8338                                            0              0.36   \n",
       "8326                                            0              2.73   \n",
       "8324                                            0               NaN   \n",
       "15654                                           0              0.53   \n",
       "\n",
       "        host_type  status_license  total_listings       multi_listings  \n",
       "1445   commercial   claims exempt             241  50 or more listings  \n",
       "3892   commercial      no license             241  50 or more listings  \n",
       "9719   commercial      no license             241  50 or more listings  \n",
       "15185         NaN      no license             241  50 or more listings  \n",
       "10302  commercial      no license             241  50 or more listings  \n",
       "...           ...             ...             ...                  ...  \n",
       "8343      private   claims exempt               1       single listing  \n",
       "8338      private      no license               1       single listing  \n",
       "8326      private              ok               1       single listing  \n",
       "8324      private      no license               1       single listing  \n",
       "15654         NaN   claims exempt               1       single listing  \n",
       "\n",
       "[15655 rows x 63 columns]"
      ]
     },
     "execution_count": 38,
     "metadata": {},
     "output_type": "execute_result"
    }
   ],
   "source": [
    "bcn.sort_values(by='total_listings', ascending=False)"
   ]
  },
  {
   "cell_type": "markdown",
   "id": "b28577e9-a478-41f1-992c-4c153efa462e",
   "metadata": {},
   "source": [
    "EDA ON HOSTS"
   ]
  },
  {
   "cell_type": "code",
   "execution_count": 39,
   "id": "cb374036-b964-44d5-b805-eb67aa9a0ba2",
   "metadata": {
    "tags": []
   },
   "outputs": [
    {
     "data": {
      "text/plain": [
       "Index(['id', 'listing_url', 'name', 'host_id', 'host_url', 'host_name',\n",
       "       'host_since', 'host_location', 'host_response_time',\n",
       "       'host_response_rate', 'host_acceptance_rate', 'host_is_superhost',\n",
       "       'host_neighbourhood', 'host_verifications', 'host_has_profile_pic',\n",
       "       'host_identity_verified', 'neighbourhood_group_cleansed', 'latitude',\n",
       "       'longitude', 'property_type', 'room_type', 'accommodates',\n",
       "       'bathrooms_text', 'bedrooms', 'beds', 'amenities', 'price',\n",
       "       'minimum_nights', 'maximum_nights', 'minimum_minimum_nights',\n",
       "       'maximum_minimum_nights', 'minimum_maximum_nights',\n",
       "       'maximum_maximum_nights', 'minimum_nights_avg_ntm',\n",
       "       'maximum_nights_avg_ntm', 'has_availability', 'availability_30',\n",
       "       'availability_60', 'availability_90', 'availability_365',\n",
       "       'number_of_reviews', 'number_of_reviews_ltm', 'number_of_reviews_l30d',\n",
       "       'first_review', 'last_review', 'review_scores_rating',\n",
       "       'review_scores_accuracy', 'review_scores_cleanliness',\n",
       "       'review_scores_checkin', 'review_scores_communication',\n",
       "       'review_scores_location', 'review_scores_value', 'license',\n",
       "       'instant_bookable', 'calculated_host_listings_count',\n",
       "       'calculated_host_listings_count_entire_homes',\n",
       "       'calculated_host_listings_count_private_rooms',\n",
       "       'calculated_host_listings_count_shared_rooms', 'reviews_per_month',\n",
       "       'host_type', 'status_license', 'total_listings', 'multi_listings'],\n",
       "      dtype='object')"
      ]
     },
     "execution_count": 39,
     "metadata": {},
     "output_type": "execute_result"
    }
   ],
   "source": [
    "bcn.columns"
   ]
  },
  {
   "cell_type": "code",
   "execution_count": 40,
   "id": "90eab17d-804f-4c31-bfbb-979d355edccf",
   "metadata": {
    "tags": []
   },
   "outputs": [],
   "source": [
    "hosts = bcn.groupby(['host_id', 'host_name']).agg(listings = ('id', 'count'))"
   ]
  },
  {
   "cell_type": "code",
   "execution_count": 41,
   "id": "4b5689fa-5be6-4702-813c-aca3c9f33875",
   "metadata": {
    "tags": []
   },
   "outputs": [
    {
     "data": {
      "text/html": [
       "<div>\n",
       "<style scoped>\n",
       "    .dataframe tbody tr th:only-of-type {\n",
       "        vertical-align: middle;\n",
       "    }\n",
       "\n",
       "    .dataframe tbody tr th {\n",
       "        vertical-align: top;\n",
       "    }\n",
       "\n",
       "    .dataframe thead th {\n",
       "        text-align: right;\n",
       "    }\n",
       "</style>\n",
       "<table border=\"1\" class=\"dataframe\">\n",
       "  <thead>\n",
       "    <tr style=\"text-align: right;\">\n",
       "      <th></th>\n",
       "      <th></th>\n",
       "      <th>listings</th>\n",
       "    </tr>\n",
       "    <tr>\n",
       "      <th>host_id</th>\n",
       "      <th>host_name</th>\n",
       "      <th></th>\n",
       "    </tr>\n",
       "  </thead>\n",
       "  <tbody>\n",
       "    <tr>\n",
       "      <th>346367515</th>\n",
       "      <th>Ukio</th>\n",
       "      <td>241</td>\n",
       "    </tr>\n",
       "    <tr>\n",
       "      <th>32037490</th>\n",
       "      <th>SweetInn</th>\n",
       "      <td>183</td>\n",
       "    </tr>\n",
       "    <tr>\n",
       "      <th>4459553</th>\n",
       "      <th>AB Apartment</th>\n",
       "      <td>174</td>\n",
       "    </tr>\n",
       "    <tr>\n",
       "      <th>158023606</th>\n",
       "      <th>Habitat Apartments</th>\n",
       "      <td>136</td>\n",
       "    </tr>\n",
       "    <tr>\n",
       "      <th>299462</th>\n",
       "      <th>Stay U-Nique</th>\n",
       "      <td>128</td>\n",
       "    </tr>\n",
       "    <tr>\n",
       "      <th>...</th>\n",
       "      <th>...</th>\n",
       "      <td>...</td>\n",
       "    </tr>\n",
       "    <tr>\n",
       "      <th>35666153</th>\n",
       "      <th>Silvia</th>\n",
       "      <td>1</td>\n",
       "    </tr>\n",
       "    <tr>\n",
       "      <th>35625334</th>\n",
       "      <th>Maria</th>\n",
       "      <td>1</td>\n",
       "    </tr>\n",
       "    <tr>\n",
       "      <th>35624152</th>\n",
       "      <th>Tatiana</th>\n",
       "      <td>1</td>\n",
       "    </tr>\n",
       "    <tr>\n",
       "      <th>35615783</th>\n",
       "      <th>Domi</th>\n",
       "      <td>1</td>\n",
       "    </tr>\n",
       "    <tr>\n",
       "      <th>504988522</th>\n",
       "      <th>Blanca</th>\n",
       "      <td>1</td>\n",
       "    </tr>\n",
       "  </tbody>\n",
       "</table>\n",
       "<p>6225 rows × 1 columns</p>\n",
       "</div>"
      ],
      "text/plain": [
       "                              listings\n",
       "host_id   host_name                   \n",
       "346367515 Ukio                     241\n",
       "32037490  SweetInn                 183\n",
       "4459553   AB Apartment             174\n",
       "158023606 Habitat Apartments       136\n",
       "299462    Stay U-Nique             128\n",
       "...                                ...\n",
       "35666153  Silvia                     1\n",
       "35625334  Maria                      1\n",
       "35624152  Tatiana                    1\n",
       "35615783  Domi                       1\n",
       "504988522 Blanca                     1\n",
       "\n",
       "[6225 rows x 1 columns]"
      ]
     },
     "execution_count": 41,
     "metadata": {},
     "output_type": "execute_result"
    }
   ],
   "source": [
    "hosts.sort_values(by='listings', ascending=False)"
   ]
  },
  {
   "cell_type": "code",
   "execution_count": 42,
   "id": "1e85eb58-6df7-4629-9466-c05459e35d25",
   "metadata": {},
   "outputs": [
    {
     "data": {
      "text/plain": [
       "<Axes: ylabel='status_license'>"
      ]
     },
     "execution_count": 42,
     "metadata": {},
     "output_type": "execute_result"
    },
    {
     "data": {
      "image/png": "[encoded data removed]",
      "text/plain": [
       "<Figure size 640x480 with 1 Axes>"
      ]
     },
     "metadata": {},
     "output_type": "display_data"
    }
   ],
   "source": [
    "bcn['status_license'].value_counts(normalize=True).sort_values(ascending=False).plot(kind='barh')"
   ]
  },
  {
   "cell_type": "code",
   "execution_count": 43,
   "id": "01ae62ff-bc69-405c-b6f9-470ab2eb3d00",
   "metadata": {
    "tags": []
   },
   "outputs": [
    {
     "data": {
      "text/plain": [
       "<Axes: ylabel='multi_listings'>"
      ]
     },
     "execution_count": 43,
     "metadata": {},
     "output_type": "execute_result"
    },
    {
     "data": {
      "image/png": "[encoded data removed]",
      "text/plain": [
       "<Figure size 640x480 with 1 Axes>"
      ]
     },
     "metadata": {},
     "output_type": "display_data"
    }
   ],
   "source": [
    "bcn['multi_listings'].value_counts(normalize=True).sort_values(ascending=False).plot(kind='barh')"
   ]
  },
  {
   "cell_type": "code",
   "execution_count": 44,
   "id": "f2e564ab-b133-40f6-94e4-a81b5a23eccd",
   "metadata": {
    "tags": []
   },
   "outputs": [],
   "source": [
    "commercial = bcn.loc[bcn['host_type'] == 'commercial']\n",
    "private = bcn.loc[bcn['host_type'] == 'private']"
   ]
  },
  {
   "cell_type": "code",
   "execution_count": 45,
   "id": "9eb64923-263a-4ea0-a504-e90b07fb119c",
   "metadata": {
    "tags": []
   },
   "outputs": [
    {
     "data": {
      "text/plain": [
       "<Axes: ylabel='status_license'>"
      ]
     },
     "execution_count": 45,
     "metadata": {},
     "output_type": "execute_result"
    },
    {
     "data": {
      "image/png": "[encoded data removed]",
      "text/plain": [
       "<Figure size 640x480 with 1 Axes>"
      ]
     },
     "metadata": {},
     "output_type": "display_data"
    }
   ],
   "source": [
    "commercial['status_license'].value_counts(normalize=True).sort_values(ascending=False).plot(kind='barh')"
   ]
  },
  {
   "cell_type": "code",
   "execution_count": 46,
   "id": "4c735b62-21a2-4b1a-aa79-b897e750edd5",
   "metadata": {
    "tags": []
   },
   "outputs": [
    {
     "data": {
      "text/plain": [
       "<Axes: ylabel='status_license'>"
      ]
     },
     "execution_count": 46,
     "metadata": {},
     "output_type": "execute_result"
    },
    {
     "data": {
      "image/png": "[encoded data removed]",
      "text/plain": [
       "<Figure size 640x480 with 1 Axes>"
      ]
     },
     "metadata": {},
     "output_type": "display_data"
    }
   ],
   "source": [
    "private['status_license'].value_counts(normalize=True).sort_values(ascending=False).plot(kind='barh')"
   ]
  },
  {
   "cell_type": "code",
   "execution_count": 47,
   "id": "74a504ff-f373-4484-b322-98b2916b5a01",
   "metadata": {
    "tags": []
   },
   "outputs": [
    {
     "data": {
      "text/html": [
       "<div>\n",
       "<style scoped>\n",
       "    .dataframe tbody tr th:only-of-type {\n",
       "        vertical-align: middle;\n",
       "    }\n",
       "\n",
       "    .dataframe tbody tr th {\n",
       "        vertical-align: top;\n",
       "    }\n",
       "\n",
       "    .dataframe thead th {\n",
       "        text-align: right;\n",
       "    }\n",
       "</style>\n",
       "<table border=\"1\" class=\"dataframe\">\n",
       "  <thead>\n",
       "    <tr style=\"text-align: right;\">\n",
       "      <th>host_type</th>\n",
       "      <th>commercial</th>\n",
       "      <th>not_found</th>\n",
       "      <th>private</th>\n",
       "    </tr>\n",
       "    <tr>\n",
       "      <th>room_type</th>\n",
       "      <th></th>\n",
       "      <th></th>\n",
       "      <th></th>\n",
       "    </tr>\n",
       "  </thead>\n",
       "  <tbody>\n",
       "    <tr>\n",
       "      <th>Entire home/apt</th>\n",
       "      <td>62.70</td>\n",
       "      <td>0.76</td>\n",
       "      <td>36.54</td>\n",
       "    </tr>\n",
       "    <tr>\n",
       "      <th>Hotel room</th>\n",
       "      <td>97.37</td>\n",
       "      <td>0.00</td>\n",
       "      <td>2.63</td>\n",
       "    </tr>\n",
       "    <tr>\n",
       "      <th>Private room</th>\n",
       "      <td>23.34</td>\n",
       "      <td>1.38</td>\n",
       "      <td>75.28</td>\n",
       "    </tr>\n",
       "    <tr>\n",
       "      <th>Shared room</th>\n",
       "      <td>69.57</td>\n",
       "      <td>2.61</td>\n",
       "      <td>27.83</td>\n",
       "    </tr>\n",
       "  </tbody>\n",
       "</table>\n",
       "</div>"
      ],
      "text/plain": [
       "host_type        commercial  not_found  private\n",
       "room_type                                      \n",
       "Entire home/apt       62.70       0.76    36.54\n",
       "Hotel room            97.37       0.00     2.63\n",
       "Private room          23.34       1.38    75.28\n",
       "Shared room           69.57       2.61    27.83"
      ]
     },
     "execution_count": 47,
     "metadata": {},
     "output_type": "execute_result"
    }
   ],
   "source": [
    "df_license = pd.crosstab(bcn['room_type'], bcn['host_type'], normalize='index').mul(100).round(2)\n",
    "df_license.head()"
   ]
  },
  {
   "cell_type": "code",
   "execution_count": 48,
   "id": "9d3313df-ef49-417d-b6a7-0c41010e0d47",
   "metadata": {
    "tags": []
   },
   "outputs": [
    {
     "data": {
      "text/html": [
       "<div>\n",
       "<style scoped>\n",
       "    .dataframe tbody tr th:only-of-type {\n",
       "        vertical-align: middle;\n",
       "    }\n",
       "\n",
       "    .dataframe tbody tr th {\n",
       "        vertical-align: top;\n",
       "    }\n",
       "\n",
       "    .dataframe thead th {\n",
       "        text-align: right;\n",
       "    }\n",
       "</style>\n",
       "<table border=\"1\" class=\"dataframe\">\n",
       "  <thead>\n",
       "    <tr style=\"text-align: right;\">\n",
       "      <th>room_type</th>\n",
       "      <th>Entire home/apt</th>\n",
       "      <th>Hotel room</th>\n",
       "      <th>Private room</th>\n",
       "      <th>Shared room</th>\n",
       "    </tr>\n",
       "    <tr>\n",
       "      <th>host_type</th>\n",
       "      <th></th>\n",
       "      <th></th>\n",
       "      <th></th>\n",
       "      <th></th>\n",
       "    </tr>\n",
       "  </thead>\n",
       "  <tbody>\n",
       "    <tr>\n",
       "      <th>commercial</th>\n",
       "      <td>78.93</td>\n",
       "      <td>1.99</td>\n",
       "      <td>17.64</td>\n",
       "      <td>1.44</td>\n",
       "    </tr>\n",
       "    <tr>\n",
       "      <th>not_found</th>\n",
       "      <td>46.49</td>\n",
       "      <td>0.00</td>\n",
       "      <td>50.88</td>\n",
       "      <td>2.63</td>\n",
       "    </tr>\n",
       "    <tr>\n",
       "      <th>private</th>\n",
       "      <td>44.43</td>\n",
       "      <td>0.05</td>\n",
       "      <td>54.96</td>\n",
       "      <td>0.55</td>\n",
       "    </tr>\n",
       "  </tbody>\n",
       "</table>\n",
       "</div>"
      ],
      "text/plain": [
       "room_type   Entire home/apt  Hotel room  Private room  Shared room\n",
       "host_type                                                         \n",
       "commercial            78.93        1.99         17.64         1.44\n",
       "not_found             46.49        0.00         50.88         2.63\n",
       "private               44.43        0.05         54.96         0.55"
      ]
     },
     "execution_count": 48,
     "metadata": {},
     "output_type": "execute_result"
    }
   ],
   "source": [
    "df_license = pd.crosstab(bcn['host_type'], bcn['room_type'], normalize='index').mul(100).round(2)\n",
    "df_license.head()"
   ]
  },
  {
   "cell_type": "code",
   "execution_count": 49,
   "id": "a9178e7a-be54-4a63-aa56-4c91ddc236ef",
   "metadata": {
    "tags": []
   },
   "outputs": [
    {
     "data": {
      "text/html": [
       "<div>\n",
       "<style scoped>\n",
       "    .dataframe tbody tr th:only-of-type {\n",
       "        vertical-align: middle;\n",
       "    }\n",
       "\n",
       "    .dataframe tbody tr th {\n",
       "        vertical-align: top;\n",
       "    }\n",
       "\n",
       "    .dataframe thead th {\n",
       "        text-align: right;\n",
       "    }\n",
       "</style>\n",
       "<table border=\"1\" class=\"dataframe\">\n",
       "  <thead>\n",
       "    <tr style=\"text-align: right;\">\n",
       "      <th>multi_listings</th>\n",
       "      <th>10-19 listings</th>\n",
       "      <th>2-3 listings</th>\n",
       "      <th>20-49 listings</th>\n",
       "      <th>4-5 listings</th>\n",
       "      <th>50 or more listings</th>\n",
       "      <th>6-9 listings</th>\n",
       "      <th>single listing</th>\n",
       "    </tr>\n",
       "    <tr>\n",
       "      <th>host_type</th>\n",
       "      <th></th>\n",
       "      <th></th>\n",
       "      <th></th>\n",
       "      <th></th>\n",
       "      <th></th>\n",
       "      <th></th>\n",
       "      <th></th>\n",
       "    </tr>\n",
       "  </thead>\n",
       "  <tbody>\n",
       "    <tr>\n",
       "      <th>commercial</th>\n",
       "      <td>16.78</td>\n",
       "      <td>7.84</td>\n",
       "      <td>26.22</td>\n",
       "      <td>8.33</td>\n",
       "      <td>21.14</td>\n",
       "      <td>13.30</td>\n",
       "      <td>6.39</td>\n",
       "    </tr>\n",
       "    <tr>\n",
       "      <th>not_found</th>\n",
       "      <td>7.89</td>\n",
       "      <td>23.68</td>\n",
       "      <td>16.67</td>\n",
       "      <td>5.26</td>\n",
       "      <td>10.53</td>\n",
       "      <td>7.89</td>\n",
       "      <td>28.07</td>\n",
       "    </tr>\n",
       "    <tr>\n",
       "      <th>private</th>\n",
       "      <td>4.58</td>\n",
       "      <td>24.27</td>\n",
       "      <td>7.87</td>\n",
       "      <td>7.66</td>\n",
       "      <td>1.51</td>\n",
       "      <td>6.07</td>\n",
       "      <td>48.04</td>\n",
       "    </tr>\n",
       "  </tbody>\n",
       "</table>\n",
       "</div>"
      ],
      "text/plain": [
       "multi_listings  10-19 listings  2-3 listings  20-49 listings  4-5 listings   \n",
       "host_type                                                                    \n",
       "commercial               16.78          7.84           26.22          8.33  \\\n",
       "not_found                 7.89         23.68           16.67          5.26   \n",
       "private                   4.58         24.27            7.87          7.66   \n",
       "\n",
       "multi_listings  50 or more listings  6-9 listings  single listing  \n",
       "host_type                                                          \n",
       "commercial                    21.14         13.30            6.39  \n",
       "not_found                     10.53          7.89           28.07  \n",
       "private                        1.51          6.07           48.04  "
      ]
     },
     "execution_count": 49,
     "metadata": {},
     "output_type": "execute_result"
    }
   ],
   "source": [
    "df_license = pd.crosstab(bcn['host_type'], bcn['multi_listings'], normalize='index').mul(100).round(2)\n",
    "df_license.head()"
   ]
  },
  {
   "cell_type": "code",
   "execution_count": 50,
   "id": "e595b16b-16e9-4bcd-b771-03e0b797bcf9",
   "metadata": {
    "tags": []
   },
   "outputs": [
    {
     "data": {
      "text/html": [
       "<div>\n",
       "<style scoped>\n",
       "    .dataframe tbody tr th:only-of-type {\n",
       "        vertical-align: middle;\n",
       "    }\n",
       "\n",
       "    .dataframe tbody tr th {\n",
       "        vertical-align: top;\n",
       "    }\n",
       "\n",
       "    .dataframe thead th {\n",
       "        text-align: right;\n",
       "    }\n",
       "</style>\n",
       "<table border=\"1\" class=\"dataframe\">\n",
       "  <thead>\n",
       "    <tr style=\"text-align: right;\">\n",
       "      <th>status_license</th>\n",
       "      <th>claims exempt</th>\n",
       "      <th>no license</th>\n",
       "      <th>ok</th>\n",
       "      <th>reuse</th>\n",
       "    </tr>\n",
       "    <tr>\n",
       "      <th>host_type</th>\n",
       "      <th></th>\n",
       "      <th></th>\n",
       "      <th></th>\n",
       "      <th></th>\n",
       "    </tr>\n",
       "  </thead>\n",
       "  <tbody>\n",
       "    <tr>\n",
       "      <th>commercial</th>\n",
       "      <td>12.42</td>\n",
       "      <td>23.91</td>\n",
       "      <td>40.79</td>\n",
       "      <td>22.88</td>\n",
       "    </tr>\n",
       "    <tr>\n",
       "      <th>not_found</th>\n",
       "      <td>45.61</td>\n",
       "      <td>31.58</td>\n",
       "      <td>15.79</td>\n",
       "      <td>7.02</td>\n",
       "    </tr>\n",
       "    <tr>\n",
       "      <th>private</th>\n",
       "      <td>36.53</td>\n",
       "      <td>38.30</td>\n",
       "      <td>18.78</td>\n",
       "      <td>6.40</td>\n",
       "    </tr>\n",
       "  </tbody>\n",
       "</table>\n",
       "</div>"
      ],
      "text/plain": [
       "status_license  claims exempt  no license     ok  reuse\n",
       "host_type                                              \n",
       "commercial              12.42       23.91  40.79  22.88\n",
       "not_found               45.61       31.58  15.79   7.02\n",
       "private                 36.53       38.30  18.78   6.40"
      ]
     },
     "execution_count": 50,
     "metadata": {},
     "output_type": "execute_result"
    }
   ],
   "source": [
    "df_license = pd.crosstab(bcn['host_type'], bcn['status_license'], normalize='index').mul(100).round(2)\n",
    "df_license.head()"
   ]
  },
  {
   "cell_type": "code",
   "execution_count": 54,
   "id": "e4d930fb-9f21-4c43-a886-df89d8b52e62",
   "metadata": {
    "tags": []
   },
   "outputs": [],
   "source": [
    "host_types = bcn.groupby(['host_type']).agg(listings = ('id', 'count'), listings_avg = ('total_listings', 'mean'), calculated_host_listings_count = ('calculated_host_listings_count', 'mean'),calculated_host_listings_count_entire_homes = ('calculated_host_listings_count_entire_homes', 'mean'), price = ('price', 'mean'), minimum_nights = ('minimum_nights', 'mean'), number_of_reviews = ('number_of_reviews', 'mean'), rating = ('review_scores_rating', 'mean'))"
   ]
  },
  {
   "cell_type": "code",
   "execution_count": 55,
   "id": "2e2074b6-d6d4-49bd-8f02-d6b00dacbf41",
   "metadata": {
    "tags": []
   },
   "outputs": [
    {
     "data": {
      "text/html": [
       "<div>\n",
       "<style scoped>\n",
       "    .dataframe tbody tr th:only-of-type {\n",
       "        vertical-align: middle;\n",
       "    }\n",
       "\n",
       "    .dataframe tbody tr th {\n",
       "        vertical-align: top;\n",
       "    }\n",
       "\n",
       "    .dataframe thead th {\n",
       "        text-align: right;\n",
       "    }\n",
       "</style>\n",
       "<table border=\"1\" class=\"dataframe\">\n",
       "  <thead>\n",
       "    <tr style=\"text-align: right;\">\n",
       "      <th></th>\n",
       "      <th>listings</th>\n",
       "      <th>listings_avg</th>\n",
       "      <th>calculated_host_listings_count</th>\n",
       "      <th>calculated_host_listings_count_entire_homes</th>\n",
       "      <th>price</th>\n",
       "      <th>minimum_nights</th>\n",
       "      <th>number_of_reviews</th>\n",
       "      <th>rating</th>\n",
       "    </tr>\n",
       "    <tr>\n",
       "      <th>host_type</th>\n",
       "      <th></th>\n",
       "      <th></th>\n",
       "      <th></th>\n",
       "      <th></th>\n",
       "      <th></th>\n",
       "      <th></th>\n",
       "      <th></th>\n",
       "      <th></th>\n",
       "    </tr>\n",
       "  </thead>\n",
       "  <tbody>\n",
       "    <tr>\n",
       "      <th>commercial</th>\n",
       "      <td>5572</td>\n",
       "      <td>41.774408</td>\n",
       "      <td>41.774408</td>\n",
       "      <td>37.563173</td>\n",
       "      <td>139.243582</td>\n",
       "      <td>11.738335</td>\n",
       "      <td>41.775844</td>\n",
       "      <td>4.493726</td>\n",
       "    </tr>\n",
       "    <tr>\n",
       "      <th>not_found</th>\n",
       "      <td>114</td>\n",
       "      <td>18.780702</td>\n",
       "      <td>18.780702</td>\n",
       "      <td>15.947368</td>\n",
       "      <td>88.618182</td>\n",
       "      <td>14.622807</td>\n",
       "      <td>36.570175</td>\n",
       "      <td>4.490435</td>\n",
       "    </tr>\n",
       "    <tr>\n",
       "      <th>private</th>\n",
       "      <td>5768</td>\n",
       "      <td>6.382975</td>\n",
       "      <td>6.382975</td>\n",
       "      <td>4.338939</td>\n",
       "      <td>79.684726</td>\n",
       "      <td>17.909847</td>\n",
       "      <td>47.565534</td>\n",
       "      <td>4.570772</td>\n",
       "    </tr>\n",
       "  </tbody>\n",
       "</table>\n",
       "</div>"
      ],
      "text/plain": [
       "            listings  listings_avg  calculated_host_listings_count   \n",
       "host_type                                                            \n",
       "commercial      5572     41.774408                       41.774408  \\\n",
       "not_found        114     18.780702                       18.780702   \n",
       "private         5768      6.382975                        6.382975   \n",
       "\n",
       "            calculated_host_listings_count_entire_homes       price   \n",
       "host_type                                                             \n",
       "commercial                                    37.563173  139.243582  \\\n",
       "not_found                                     15.947368   88.618182   \n",
       "private                                        4.338939   79.684726   \n",
       "\n",
       "            minimum_nights  number_of_reviews    rating  \n",
       "host_type                                                \n",
       "commercial       11.738335          41.775844  4.493726  \n",
       "not_found        14.622807          36.570175  4.490435  \n",
       "private          17.909847          47.565534  4.570772  "
      ]
     },
     "execution_count": 55,
     "metadata": {},
     "output_type": "execute_result"
    }
   ],
   "source": [
    "host_types"
   ]
  },
  {
   "cell_type": "code",
   "execution_count": null,
   "id": "6f7ae909-70bf-40b2-933f-dcb63f3fde9d",
   "metadata": {},
   "outputs": [],
   "source": []
  }
 ],
 "metadata": {
  "kernelspec": {
   "display_name": "Python 3 (ipykernel)",
   "language": "python",
   "name": "python3"
  },
  "language_info": {
   "codemirror_mode": {
    "name": "ipython",
    "version": 3
   },
   "file_extension": ".py",
   "mimetype": "text/x-python",
   "name": "python",
   "nbconvert_exporter": "python",
   "pygments_lexer": "ipython3",
   "version": "3.9.8"
  }
 },
 "nbformat": 4,
 "nbformat_minor": 5
}
