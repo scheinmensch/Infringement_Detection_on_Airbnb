{
 "cells": [
  {
   "cell_type": "markdown",
   "id": "da35052a-294e-4489-ad11-ba6601c118be",
   "metadata": {},
   "source": [
    "In this notebook we're going to add the target variable. The target variable is defined by ourselfes - based on:\n",
    "- research\n",
    "- data analysis\n",
    "- clustering\n",
    "\n",
    "We detected 2 main infringements:\n",
    "- hosts without license offering short term stays (under 32 days)\n",
    "- hosts who claim they're private but have more than 3 listings \n",
    "\n",
    "We are now going to add a column (suspicious_or_not):\n",
    "- 0: none of the mentioned infringements detected\n",
    "- 1: either one or even both of the mentioned infringements detected\n",
    "\n",
    "At the end of this notebook we're going to clean the dataset from all calculated fields (either calculated by ourselves of by insideairbnb!) except for our target variable. \n",
    "\n",
    "The idea is that our model should (hopefully) classify correctly based only on information that every normal user can easily get from the listing's airbnb website, without background knowledge or calculations!"
   ]
  },
  {
   "cell_type": "code",
   "execution_count": 1,
   "id": "f1fc05b0-a636-4996-96ac-337e73750322",
   "metadata": {
    "tags": []
   },
   "outputs": [],
   "source": [
    "# import libraries\n",
    "import pandas as pd\n",
    "import numpy as np\n",
    "import seaborn as sns\n",
    "import matplotlib.pyplot as plt"
   ]
  },
  {
   "cell_type": "code",
   "execution_count": 2,
   "id": "d192ec03-e40d-43b2-94a6-5a353ec5b3b2",
   "metadata": {
    "tags": []
   },
   "outputs": [],
   "source": [
    "# load the data\n",
    "bcn_original = pd.read_csv('../data/listings_bcn.csv')\n",
    "scraped_host_type = pd.read_csv('../data/airbnb2.csv')"
   ]
  },
  {
   "cell_type": "code",
   "execution_count": 3,
   "id": "fdccb77a-9703-407a-af96-69469b7f70cc",
   "metadata": {
    "tags": []
   },
   "outputs": [],
   "source": [
    "# join both datasets\n",
    "scraped_host_type.rename(columns = {'url':'listing_url'}, inplace = True)\n",
    "bcn=bcn_original.merge(scraped_host_type, on='listing_url', how='outer')\n",
    "bcn = bcn.drop(['Unnamed: 0'], axis=1)"
   ]
  },
  {
   "cell_type": "code",
   "execution_count": 4,
   "id": "4ab6e78b-8a72-4873-b47b-66923faaf5a1",
   "metadata": {
    "tags": []
   },
   "outputs": [],
   "source": [
    "# remove all rows with NaN values in host_type column\n",
    "bcn = bcn.dropna(subset=['host_type'])"
   ]
  },
  {
   "cell_type": "code",
   "execution_count": 5,
   "id": "9dfe292c-7ed5-443c-bdc4-f2ba5a34a24d",
   "metadata": {
    "tags": []
   },
   "outputs": [],
   "source": [
    "# remove all rows with not_found values in host_type column\n",
    "bcn = bcn[bcn['host_type']!='not_found']"
   ]
  },
  {
   "cell_type": "code",
   "execution_count": 6,
   "id": "e1424fce-7d9d-487f-accb-91cf308a344e",
   "metadata": {
    "tags": []
   },
   "outputs": [],
   "source": [
    "# impute missing license with \"no license\"\n",
    "bcn['license'] = bcn['license'].fillna('no license')"
   ]
  },
  {
   "cell_type": "code",
   "execution_count": 7,
   "id": "13313b04-b250-4a83-89ed-774e06bafe4e",
   "metadata": {
    "tags": []
   },
   "outputs": [],
   "source": [
    "def is_valid_license(license):\n",
    "    if 'HUTB' in license:\n",
    "        return 'ok'\n",
    "    if 'HB' in license:\n",
    "        return 'ok'\n",
    "    if 'AJ' in license:\n",
    "        return 'ok'\n",
    "    elif 'exempt' in license.lower():\n",
    "        return 'claims exempt'\n",
    "    else:\n",
    "        return 'no license'"
   ]
  },
  {
   "cell_type": "code",
   "execution_count": 8,
   "id": "c6b2fdbb-787e-435c-94bd-d1b3ca2c2e75",
   "metadata": {
    "tags": []
   },
   "outputs": [],
   "source": [
    "# add status_license column\n",
    "bcn['status_license'] = bcn.apply(lambda row: is_valid_license(row['license']), axis=1)"
   ]
  },
  {
   "cell_type": "code",
   "execution_count": 9,
   "id": "9c71c82b-77fb-43de-8aea-543b0e6ad5f8",
   "metadata": {
    "tags": []
   },
   "outputs": [],
   "source": [
    "# add own calculation of total listings\n",
    "bcn['total_listings'] = bcn.groupby('host_id')['id'].transform('size')"
   ]
  },
  {
   "cell_type": "code",
   "execution_count": 10,
   "id": "032c2d81-86a4-4e64-8e22-d48ce15ad61e",
   "metadata": {
    "tags": []
   },
   "outputs": [],
   "source": [
    "def license_infringement(row):\n",
    "    if row['status_license'] == 'ok':\n",
    "        return 0\n",
    "    if row['status_license'] == 'no license' and row['minimum_nights'] >31:\n",
    "        return 0\n",
    "    if row['status_license'] == 'claims exempt' and row['minimum_nights'] >31:\n",
    "        return 0\n",
    "    else:\n",
    "        return 1"
   ]
  },
  {
   "cell_type": "code",
   "execution_count": 11,
   "id": "03cd8ecb-c6ab-49b2-814e-5f169637258d",
   "metadata": {
    "tags": []
   },
   "outputs": [],
   "source": [
    "#add column license infringement detected or not\n",
    "bcn['license_infringement'] = bcn.apply(lambda row: license_infringement(row), axis=1)"
   ]
  },
  {
   "cell_type": "code",
   "execution_count": 12,
   "id": "4184e3cb-c101-4c54-bcee-b06bc02c66e5",
   "metadata": {
    "tags": []
   },
   "outputs": [],
   "source": [
    "def claim_private_infringement(row):\n",
    "    if row['host_type'] == 'private' and row['total_listings'] >3:\n",
    "        return 1\n",
    "    else:\n",
    "        return 0"
   ]
  },
  {
   "cell_type": "code",
   "execution_count": 13,
   "id": "68957e22-77b4-4fff-9a7b-9228676a01b6",
   "metadata": {
    "tags": []
   },
   "outputs": [],
   "source": [
    "#add column claim private infringement detected or not\n",
    "bcn['claim_private_infringement'] = bcn.apply(lambda row: claim_private_infringement(row), axis=1)"
   ]
  },
  {
   "cell_type": "code",
   "execution_count": 14,
   "id": "28621fa9-9d61-4d02-a736-0378a51e908a",
   "metadata": {
    "tags": []
   },
   "outputs": [],
   "source": [
    "def suspicious_or_not(row):\n",
    "    if row['license_infringement'] == 0 and row['claim_private_infringement'] == 0:\n",
    "        return 0\n",
    "    else:\n",
    "        return 1"
   ]
  },
  {
   "cell_type": "code",
   "execution_count": 15,
   "id": "c23a58dd-7a4f-4f15-bd93-7a573e38d899",
   "metadata": {
    "tags": []
   },
   "outputs": [],
   "source": [
    "# add target column\n",
    "bcn['suspicious_or_not'] = bcn.apply(lambda row: suspicious_or_not(row), axis=1)"
   ]
  },
  {
   "cell_type": "code",
   "execution_count": 16,
   "id": "11e3fd74-4cb5-47dc-9e02-af2cccf69911",
   "metadata": {
    "tags": []
   },
   "outputs": [
    {
     "data": {
      "text/html": [
       "<div>\n",
       "<style scoped>\n",
       "    .dataframe tbody tr th:only-of-type {\n",
       "        vertical-align: middle;\n",
       "    }\n",
       "\n",
       "    .dataframe tbody tr th {\n",
       "        vertical-align: top;\n",
       "    }\n",
       "\n",
       "    .dataframe thead th {\n",
       "        text-align: right;\n",
       "    }\n",
       "</style>\n",
       "<table border=\"1\" class=\"dataframe\">\n",
       "  <thead>\n",
       "    <tr style=\"text-align: right;\">\n",
       "      <th></th>\n",
       "      <th>host_type</th>\n",
       "      <th>total_listings</th>\n",
       "      <th>claim_private_infringement</th>\n",
       "      <th>status_license</th>\n",
       "      <th>minimum_nights</th>\n",
       "      <th>license_infringement</th>\n",
       "      <th>suspicious_or_not</th>\n",
       "    </tr>\n",
       "  </thead>\n",
       "  <tbody>\n",
       "    <tr>\n",
       "      <th>0</th>\n",
       "      <td>private</td>\n",
       "      <td>1</td>\n",
       "      <td>0</td>\n",
       "      <td>no license</td>\n",
       "      <td>1</td>\n",
       "      <td>1</td>\n",
       "      <td>1</td>\n",
       "    </tr>\n",
       "    <tr>\n",
       "      <th>1</th>\n",
       "      <td>private</td>\n",
       "      <td>1</td>\n",
       "      <td>0</td>\n",
       "      <td>claims exempt</td>\n",
       "      <td>2</td>\n",
       "      <td>1</td>\n",
       "      <td>1</td>\n",
       "    </tr>\n",
       "    <tr>\n",
       "      <th>2</th>\n",
       "      <td>private</td>\n",
       "      <td>4</td>\n",
       "      <td>1</td>\n",
       "      <td>ok</td>\n",
       "      <td>4</td>\n",
       "      <td>0</td>\n",
       "      <td>1</td>\n",
       "    </tr>\n",
       "    <tr>\n",
       "      <th>3</th>\n",
       "      <td>commercial</td>\n",
       "      <td>6</td>\n",
       "      <td>0</td>\n",
       "      <td>ok</td>\n",
       "      <td>1</td>\n",
       "      <td>0</td>\n",
       "      <td>0</td>\n",
       "    </tr>\n",
       "    <tr>\n",
       "      <th>4</th>\n",
       "      <td>private</td>\n",
       "      <td>1</td>\n",
       "      <td>0</td>\n",
       "      <td>claims exempt</td>\n",
       "      <td>2</td>\n",
       "      <td>1</td>\n",
       "      <td>1</td>\n",
       "    </tr>\n",
       "    <tr>\n",
       "      <th>5</th>\n",
       "      <td>private</td>\n",
       "      <td>8</td>\n",
       "      <td>1</td>\n",
       "      <td>ok</td>\n",
       "      <td>1</td>\n",
       "      <td>0</td>\n",
       "      <td>1</td>\n",
       "    </tr>\n",
       "    <tr>\n",
       "      <th>6</th>\n",
       "      <td>private</td>\n",
       "      <td>2</td>\n",
       "      <td>0</td>\n",
       "      <td>ok</td>\n",
       "      <td>3</td>\n",
       "      <td>0</td>\n",
       "      <td>0</td>\n",
       "    </tr>\n",
       "    <tr>\n",
       "      <th>7</th>\n",
       "      <td>commercial</td>\n",
       "      <td>27</td>\n",
       "      <td>0</td>\n",
       "      <td>no license</td>\n",
       "      <td>32</td>\n",
       "      <td>0</td>\n",
       "      <td>0</td>\n",
       "    </tr>\n",
       "    <tr>\n",
       "      <th>8</th>\n",
       "      <td>commercial</td>\n",
       "      <td>84</td>\n",
       "      <td>0</td>\n",
       "      <td>ok</td>\n",
       "      <td>3</td>\n",
       "      <td>0</td>\n",
       "      <td>0</td>\n",
       "    </tr>\n",
       "    <tr>\n",
       "      <th>9</th>\n",
       "      <td>private</td>\n",
       "      <td>1</td>\n",
       "      <td>0</td>\n",
       "      <td>no license</td>\n",
       "      <td>2</td>\n",
       "      <td>1</td>\n",
       "      <td>1</td>\n",
       "    </tr>\n",
       "    <tr>\n",
       "      <th>10</th>\n",
       "      <td>commercial</td>\n",
       "      <td>93</td>\n",
       "      <td>0</td>\n",
       "      <td>claims exempt</td>\n",
       "      <td>32</td>\n",
       "      <td>0</td>\n",
       "      <td>0</td>\n",
       "    </tr>\n",
       "    <tr>\n",
       "      <th>11</th>\n",
       "      <td>commercial</td>\n",
       "      <td>22</td>\n",
       "      <td>0</td>\n",
       "      <td>ok</td>\n",
       "      <td>2</td>\n",
       "      <td>0</td>\n",
       "      <td>0</td>\n",
       "    </tr>\n",
       "    <tr>\n",
       "      <th>12</th>\n",
       "      <td>private</td>\n",
       "      <td>1</td>\n",
       "      <td>0</td>\n",
       "      <td>claims exempt</td>\n",
       "      <td>31</td>\n",
       "      <td>1</td>\n",
       "      <td>1</td>\n",
       "    </tr>\n",
       "    <tr>\n",
       "      <th>13</th>\n",
       "      <td>private</td>\n",
       "      <td>1</td>\n",
       "      <td>0</td>\n",
       "      <td>no license</td>\n",
       "      <td>31</td>\n",
       "      <td>1</td>\n",
       "      <td>1</td>\n",
       "    </tr>\n",
       "    <tr>\n",
       "      <th>14</th>\n",
       "      <td>commercial</td>\n",
       "      <td>1</td>\n",
       "      <td>0</td>\n",
       "      <td>no license</td>\n",
       "      <td>31</td>\n",
       "      <td>1</td>\n",
       "      <td>1</td>\n",
       "    </tr>\n",
       "    <tr>\n",
       "      <th>15</th>\n",
       "      <td>commercial</td>\n",
       "      <td>84</td>\n",
       "      <td>0</td>\n",
       "      <td>ok</td>\n",
       "      <td>1</td>\n",
       "      <td>0</td>\n",
       "      <td>0</td>\n",
       "    </tr>\n",
       "    <tr>\n",
       "      <th>16</th>\n",
       "      <td>commercial</td>\n",
       "      <td>14</td>\n",
       "      <td>0</td>\n",
       "      <td>no license</td>\n",
       "      <td>32</td>\n",
       "      <td>0</td>\n",
       "      <td>0</td>\n",
       "    </tr>\n",
       "    <tr>\n",
       "      <th>17</th>\n",
       "      <td>private</td>\n",
       "      <td>4</td>\n",
       "      <td>1</td>\n",
       "      <td>ok</td>\n",
       "      <td>5</td>\n",
       "      <td>0</td>\n",
       "      <td>1</td>\n",
       "    </tr>\n",
       "    <tr>\n",
       "      <th>18</th>\n",
       "      <td>commercial</td>\n",
       "      <td>84</td>\n",
       "      <td>0</td>\n",
       "      <td>ok</td>\n",
       "      <td>3</td>\n",
       "      <td>0</td>\n",
       "      <td>0</td>\n",
       "    </tr>\n",
       "    <tr>\n",
       "      <th>19</th>\n",
       "      <td>commercial</td>\n",
       "      <td>23</td>\n",
       "      <td>0</td>\n",
       "      <td>ok</td>\n",
       "      <td>1</td>\n",
       "      <td>0</td>\n",
       "      <td>0</td>\n",
       "    </tr>\n",
       "    <tr>\n",
       "      <th>20</th>\n",
       "      <td>commercial</td>\n",
       "      <td>9</td>\n",
       "      <td>0</td>\n",
       "      <td>claims exempt</td>\n",
       "      <td>32</td>\n",
       "      <td>0</td>\n",
       "      <td>0</td>\n",
       "    </tr>\n",
       "    <tr>\n",
       "      <th>21</th>\n",
       "      <td>commercial</td>\n",
       "      <td>78</td>\n",
       "      <td>0</td>\n",
       "      <td>no license</td>\n",
       "      <td>32</td>\n",
       "      <td>0</td>\n",
       "      <td>0</td>\n",
       "    </tr>\n",
       "    <tr>\n",
       "      <th>22</th>\n",
       "      <td>private</td>\n",
       "      <td>31</td>\n",
       "      <td>1</td>\n",
       "      <td>ok</td>\n",
       "      <td>31</td>\n",
       "      <td>0</td>\n",
       "      <td>1</td>\n",
       "    </tr>\n",
       "    <tr>\n",
       "      <th>23</th>\n",
       "      <td>commercial</td>\n",
       "      <td>33</td>\n",
       "      <td>0</td>\n",
       "      <td>no license</td>\n",
       "      <td>32</td>\n",
       "      <td>0</td>\n",
       "      <td>0</td>\n",
       "    </tr>\n",
       "    <tr>\n",
       "      <th>24</th>\n",
       "      <td>private</td>\n",
       "      <td>5</td>\n",
       "      <td>1</td>\n",
       "      <td>no license</td>\n",
       "      <td>32</td>\n",
       "      <td>0</td>\n",
       "      <td>1</td>\n",
       "    </tr>\n",
       "    <tr>\n",
       "      <th>25</th>\n",
       "      <td>commercial</td>\n",
       "      <td>6</td>\n",
       "      <td>0</td>\n",
       "      <td>ok</td>\n",
       "      <td>1</td>\n",
       "      <td>0</td>\n",
       "      <td>0</td>\n",
       "    </tr>\n",
       "    <tr>\n",
       "      <th>26</th>\n",
       "      <td>private</td>\n",
       "      <td>2</td>\n",
       "      <td>0</td>\n",
       "      <td>claims exempt</td>\n",
       "      <td>2</td>\n",
       "      <td>1</td>\n",
       "      <td>1</td>\n",
       "    </tr>\n",
       "    <tr>\n",
       "      <th>27</th>\n",
       "      <td>commercial</td>\n",
       "      <td>45</td>\n",
       "      <td>0</td>\n",
       "      <td>no license</td>\n",
       "      <td>32</td>\n",
       "      <td>0</td>\n",
       "      <td>0</td>\n",
       "    </tr>\n",
       "    <tr>\n",
       "      <th>29</th>\n",
       "      <td>commercial</td>\n",
       "      <td>93</td>\n",
       "      <td>0</td>\n",
       "      <td>claims exempt</td>\n",
       "      <td>32</td>\n",
       "      <td>0</td>\n",
       "      <td>0</td>\n",
       "    </tr>\n",
       "    <tr>\n",
       "      <th>30</th>\n",
       "      <td>commercial</td>\n",
       "      <td>1</td>\n",
       "      <td>0</td>\n",
       "      <td>ok</td>\n",
       "      <td>1</td>\n",
       "      <td>0</td>\n",
       "      <td>0</td>\n",
       "    </tr>\n",
       "  </tbody>\n",
       "</table>\n",
       "</div>"
      ],
      "text/plain": [
       "     host_type  total_listings  claim_private_infringement status_license   \n",
       "0      private               1                           0     no license  \\\n",
       "1      private               1                           0  claims exempt   \n",
       "2      private               4                           1             ok   \n",
       "3   commercial               6                           0             ok   \n",
       "4      private               1                           0  claims exempt   \n",
       "5      private               8                           1             ok   \n",
       "6      private               2                           0             ok   \n",
       "7   commercial              27                           0     no license   \n",
       "8   commercial              84                           0             ok   \n",
       "9      private               1                           0     no license   \n",
       "10  commercial              93                           0  claims exempt   \n",
       "11  commercial              22                           0             ok   \n",
       "12     private               1                           0  claims exempt   \n",
       "13     private               1                           0     no license   \n",
       "14  commercial               1                           0     no license   \n",
       "15  commercial              84                           0             ok   \n",
       "16  commercial              14                           0     no license   \n",
       "17     private               4                           1             ok   \n",
       "18  commercial              84                           0             ok   \n",
       "19  commercial              23                           0             ok   \n",
       "20  commercial               9                           0  claims exempt   \n",
       "21  commercial              78                           0     no license   \n",
       "22     private              31                           1             ok   \n",
       "23  commercial              33                           0     no license   \n",
       "24     private               5                           1     no license   \n",
       "25  commercial               6                           0             ok   \n",
       "26     private               2                           0  claims exempt   \n",
       "27  commercial              45                           0     no license   \n",
       "29  commercial              93                           0  claims exempt   \n",
       "30  commercial               1                           0             ok   \n",
       "\n",
       "    minimum_nights  license_infringement  suspicious_or_not  \n",
       "0                1                     1                  1  \n",
       "1                2                     1                  1  \n",
       "2                4                     0                  1  \n",
       "3                1                     0                  0  \n",
       "4                2                     1                  1  \n",
       "5                1                     0                  1  \n",
       "6                3                     0                  0  \n",
       "7               32                     0                  0  \n",
       "8                3                     0                  0  \n",
       "9                2                     1                  1  \n",
       "10              32                     0                  0  \n",
       "11               2                     0                  0  \n",
       "12              31                     1                  1  \n",
       "13              31                     1                  1  \n",
       "14              31                     1                  1  \n",
       "15               1                     0                  0  \n",
       "16              32                     0                  0  \n",
       "17               5                     0                  1  \n",
       "18               3                     0                  0  \n",
       "19               1                     0                  0  \n",
       "20              32                     0                  0  \n",
       "21              32                     0                  0  \n",
       "22              31                     0                  1  \n",
       "23              32                     0                  0  \n",
       "24              32                     0                  1  \n",
       "25               1                     0                  0  \n",
       "26               2                     1                  1  \n",
       "27              32                     0                  0  \n",
       "29              32                     0                  0  \n",
       "30               1                     0                  0  "
      ]
     },
     "execution_count": 16,
     "metadata": {},
     "output_type": "execute_result"
    }
   ],
   "source": [
    "#double-check\n",
    "bcn[['host_type', 'total_listings', 'claim_private_infringement', 'status_license', 'minimum_nights', 'license_infringement', 'suspicious_or_not']].head(30)"
   ]
  },
  {
   "cell_type": "code",
   "execution_count": 19,
   "id": "b3a1d5fb-2b29-430a-99bb-e799882f3d9f",
   "metadata": {
    "tags": []
   },
   "outputs": [
    {
     "data": {
      "text/plain": [
       "suspicious_or_not\n",
       "0    0.543298\n",
       "1    0.456702\n",
       "Name: proportion, dtype: float64"
      ]
     },
     "execution_count": 19,
     "metadata": {},
     "output_type": "execute_result"
    }
   ],
   "source": [
    "# check for distribution of target variable\n",
    "bcn['suspicious_or_not'].value_counts(normalize=True)"
   ]
  },
  {
   "cell_type": "markdown",
   "id": "844fe024-2bfe-478b-bd24-4997ba8b8b52",
   "metadata": {
    "tags": []
   },
   "source": [
    "#### To do:\n",
    "- train test split\n",
    "- preprocessing\n",
    "- baseline model"
   ]
  },
  {
   "cell_type": "code",
   "execution_count": 20,
   "id": "d34ec274-8804-4d75-8e57-8df1a12e4461",
   "metadata": {
    "tags": []
   },
   "outputs": [
    {
     "data": {
      "text/plain": [
       "Index(['id', 'listing_url', 'scrape_id', 'last_scraped', 'source', 'name',\n",
       "       'description', 'neighborhood_overview', 'picture_url', 'host_id',\n",
       "       'host_url', 'host_name', 'host_since', 'host_location', 'host_about',\n",
       "       'host_response_time', 'host_response_rate', 'host_acceptance_rate',\n",
       "       'host_is_superhost', 'host_thumbnail_url', 'host_picture_url',\n",
       "       'host_neighbourhood', 'host_listings_count',\n",
       "       'host_total_listings_count', 'host_verifications',\n",
       "       'host_has_profile_pic', 'host_identity_verified', 'neighbourhood',\n",
       "       'neighbourhood_cleansed', 'neighbourhood_group_cleansed', 'latitude',\n",
       "       'longitude', 'property_type', 'room_type', 'accommodates', 'bathrooms',\n",
       "       'bathrooms_text', 'bedrooms', 'beds', 'amenities', 'price',\n",
       "       'minimum_nights', 'maximum_nights', 'minimum_minimum_nights',\n",
       "       'maximum_minimum_nights', 'minimum_maximum_nights',\n",
       "       'maximum_maximum_nights', 'minimum_nights_avg_ntm',\n",
       "       'maximum_nights_avg_ntm', 'calendar_updated', 'has_availability',\n",
       "       'availability_30', 'availability_60', 'availability_90',\n",
       "       'availability_365', 'calendar_last_scraped', 'number_of_reviews',\n",
       "       'number_of_reviews_ltm', 'number_of_reviews_l30d', 'first_review',\n",
       "       'last_review', 'review_scores_rating', 'review_scores_accuracy',\n",
       "       'review_scores_cleanliness', 'review_scores_checkin',\n",
       "       'review_scores_communication', 'review_scores_location',\n",
       "       'review_scores_value', 'license', 'instant_bookable',\n",
       "       'calculated_host_listings_count',\n",
       "       'calculated_host_listings_count_entire_homes',\n",
       "       'calculated_host_listings_count_private_rooms',\n",
       "       'calculated_host_listings_count_shared_rooms', 'reviews_per_month',\n",
       "       'host_type', 'status_license', 'total_listings', 'license_infringement',\n",
       "       'claim_private_infringement', 'suspicious_or_not'],\n",
       "      dtype='object')"
      ]
     },
     "execution_count": 20,
     "metadata": {},
     "output_type": "execute_result"
    }
   ],
   "source": [
    "bcn.columns"
   ]
  },
  {
   "cell_type": "code",
   "execution_count": 22,
   "id": "f2094e1b-fd9f-49b9-84ae-a216e672435a",
   "metadata": {
    "tags": []
   },
   "outputs": [],
   "source": [
    "# delete all calculated fields to proceed with a clean dataset\n",
    "\n",
    "bcn_ready_for_model = bcn.drop(['listing_url', 'scrape_id', 'last_scraped', 'source', 'host_url', 'minimum_minimum_nights',\n",
    "       'maximum_minimum_nights', 'minimum_maximum_nights',\n",
    "       'maximum_maximum_nights', 'minimum_nights_avg_ntm',\n",
    "       'maximum_nights_avg_ntm', 'availability_30', 'availability_60', 'availability_90',\n",
    "       'availability_365', 'calendar_last_scraped', 'number_of_reviews_ltm', 'number_of_reviews_l30d', 'first_review',\n",
    "       'last_review', 'calculated_host_listings_count',\n",
    "       'calculated_host_listings_count_entire_homes',\n",
    "       'calculated_host_listings_count_private_rooms',\n",
    "       'calculated_host_listings_count_shared_rooms', 'reviews_per_month', 'status_license', 'total_listings', 'license_infringement',\n",
    "       'claim_private_infringement'], axis=1)"
   ]
  },
  {
   "cell_type": "code",
   "execution_count": 25,
   "id": "88def23d-57ba-4ac6-a001-d84e912a6454",
   "metadata": {
    "tags": []
   },
   "outputs": [
    {
     "data": {
      "text/plain": [
       "Index(['id', 'name', 'description', 'neighborhood_overview', 'picture_url',\n",
       "       'host_id', 'host_name', 'host_since', 'host_location', 'host_about',\n",
       "       'host_response_time', 'host_response_rate', 'host_acceptance_rate',\n",
       "       'host_is_superhost', 'host_thumbnail_url', 'host_picture_url',\n",
       "       'host_neighbourhood', 'host_listings_count',\n",
       "       'host_total_listings_count', 'host_verifications',\n",
       "       'host_has_profile_pic', 'host_identity_verified', 'neighbourhood',\n",
       "       'neighbourhood_cleansed', 'neighbourhood_group_cleansed', 'latitude',\n",
       "       'longitude', 'property_type', 'room_type', 'accommodates', 'bathrooms',\n",
       "       'bathrooms_text', 'bedrooms', 'beds', 'amenities', 'price',\n",
       "       'minimum_nights', 'maximum_nights', 'calendar_updated',\n",
       "       'has_availability', 'number_of_reviews', 'review_scores_rating',\n",
       "       'review_scores_accuracy', 'review_scores_cleanliness',\n",
       "       'review_scores_checkin', 'review_scores_communication',\n",
       "       'review_scores_location', 'review_scores_value', 'license',\n",
       "       'instant_bookable', 'host_type', 'suspicious_or_not'],\n",
       "      dtype='object')"
      ]
     },
     "execution_count": 25,
     "metadata": {},
     "output_type": "execute_result"
    }
   ],
   "source": [
    "bcn_ready_for_model.columns"
   ]
  },
  {
   "cell_type": "code",
   "execution_count": 26,
   "id": "4fc133c3-9e5b-4283-ae3d-4e24a8d6ae3c",
   "metadata": {
    "tags": []
   },
   "outputs": [],
   "source": [
    "bcn_ready_for_model.to_csv('df_modelling.csv') "
   ]
  },
  {
   "cell_type": "code",
   "execution_count": null,
   "id": "b65f76c8-29ff-4b72-ad46-86c81cd28fe7",
   "metadata": {},
   "outputs": [],
   "source": []
  }
 ],
 "metadata": {
  "kernelspec": {
   "display_name": "Python 3 (ipykernel)",
   "language": "python",
   "name": "python3"
  },
  "language_info": {
   "codemirror_mode": {
    "name": "ipython",
    "version": 3
   },
   "file_extension": ".py",
   "mimetype": "text/x-python",
   "name": "python",
   "nbconvert_exporter": "python",
   "pygments_lexer": "ipython3",
   "version": "3.9.8"
  }
 },
 "nbformat": 4,
 "nbformat_minor": 5
}
