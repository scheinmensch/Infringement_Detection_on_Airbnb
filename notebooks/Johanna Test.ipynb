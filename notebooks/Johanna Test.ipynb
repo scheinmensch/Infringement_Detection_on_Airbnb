{
 "cells": [
  {
   "cell_type": "markdown",
   "id": "255cf914-e84d-46d6-b08b-454b1f33f680",
   "metadata": {},
   "source": [
    "Hi Modellbauerinnen!"
   ]
  },
  {
   "cell_type": "code",
   "execution_count": null,
   "id": "7ec2dfd9-f793-4941-85a4-03b294f17da1",
   "metadata": {},
   "outputs": [],
   "source": []
  }
 ],
 "metadata": {
  "kernelspec": {
   "display_name": "Python 3 (ipykernel)",
   "language": "python",
   "name": "python3"
  },
  "language_info": {
   "codemirror_mode": {
    "name": "ipython",
    "version": 3
   },
   "file_extension": ".py",
   "mimetype": "text/x-python",
   "name": "python",
   "nbconvert_exporter": "python",
   "pygments_lexer": "ipython3",
   "version": "3.9.8"
  }
 },
 "nbformat": 4,
 "nbformat_minor": 5
}
