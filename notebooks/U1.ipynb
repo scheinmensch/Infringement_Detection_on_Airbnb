{
 "cells": [
  {
   "cell_type": "code",
   "execution_count": 1,
   "id": "164bf4b8-e880-4532-82e0-6755560f8323",
   "metadata": {},
   "outputs": [],
   "source": [
    "#this notebook covers the EDA of inside Airbnb´s data on Stockholm"
   ]
  },
  {
   "cell_type": "code",
   "execution_count": 2,
   "id": "111cd2ae-528b-4a97-8ab5-e436e0019163",
   "metadata": {
    "tags": []
   },
   "outputs": [],
   "source": [
    "import pandas as pd\n",
    "import seaborn as sns\n",
    "import matplotlib.pyplot as plt\n",
    "import numpy as np"
   ]
  },
  {
   "cell_type": "code",
   "execution_count": 3,
   "id": "b03a68b4-43d5-4865-82f0-b63baed8b0b7",
   "metadata": {
    "tags": []
   },
   "outputs": [
    {
     "data": {
      "text/html": [
       "<div>\n",
       "<style scoped>\n",
       "    .dataframe tbody tr th:only-of-type {\n",
       "        vertical-align: middle;\n",
       "    }\n",
       "\n",
       "    .dataframe tbody tr th {\n",
       "        vertical-align: top;\n",
       "    }\n",
       "\n",
       "    .dataframe thead th {\n",
       "        text-align: right;\n",
       "    }\n",
       "</style>\n",
       "<table border=\"1\" class=\"dataframe\">\n",
       "  <thead>\n",
       "    <tr style=\"text-align: right;\">\n",
       "      <th></th>\n",
       "      <th>id</th>\n",
       "      <th>listing_url</th>\n",
       "      <th>scrape_id</th>\n",
       "      <th>last_scraped</th>\n",
       "      <th>source</th>\n",
       "      <th>name</th>\n",
       "      <th>description</th>\n",
       "      <th>neighborhood_overview</th>\n",
       "      <th>picture_url</th>\n",
       "      <th>host_id</th>\n",
       "      <th>...</th>\n",
       "      <th>review_scores_communication</th>\n",
       "      <th>review_scores_location</th>\n",
       "      <th>review_scores_value</th>\n",
       "      <th>license</th>\n",
       "      <th>instant_bookable</th>\n",
       "      <th>calculated_host_listings_count</th>\n",
       "      <th>calculated_host_listings_count_entire_homes</th>\n",
       "      <th>calculated_host_listings_count_private_rooms</th>\n",
       "      <th>calculated_host_listings_count_shared_rooms</th>\n",
       "      <th>reviews_per_month</th>\n",
       "    </tr>\n",
       "  </thead>\n",
       "  <tbody>\n",
       "    <tr>\n",
       "      <th>0</th>\n",
       "      <td>75590</td>\n",
       "      <td>https://www.airbnb.com/rooms/75590</td>\n",
       "      <td>20221229235426</td>\n",
       "      <td>2022-12-30</td>\n",
       "      <td>city scrape</td>\n",
       "      <td>Amazing nature location by a lake</td>\n",
       "      <td>Apartment on the top floor, overlooking a lake...</td>\n",
       "      <td>Expect a wonderful stay in beautiful scenery, ...</td>\n",
       "      <td>https://a0.muscache.com/pictures/7430cc80-7a4f...</td>\n",
       "      <td>397766</td>\n",
       "      <td>...</td>\n",
       "      <td>5.00</td>\n",
       "      <td>4.78</td>\n",
       "      <td>4.78</td>\n",
       "      <td>NaN</td>\n",
       "      <td>f</td>\n",
       "      <td>1</td>\n",
       "      <td>1</td>\n",
       "      <td>0</td>\n",
       "      <td>0</td>\n",
       "      <td>0.09</td>\n",
       "    </tr>\n",
       "    <tr>\n",
       "      <th>1</th>\n",
       "      <td>164448</td>\n",
       "      <td>https://www.airbnb.com/rooms/164448</td>\n",
       "      <td>20221229235426</td>\n",
       "      <td>2022-12-30</td>\n",
       "      <td>city scrape</td>\n",
       "      <td>Double room in central Stockholm with Wi-Fi</td>\n",
       "      <td>I am renting out a nice double room on the top...</td>\n",
       "      <td>NaN</td>\n",
       "      <td>https://a0.muscache.com/pictures/1101571/13429...</td>\n",
       "      <td>784312</td>\n",
       "      <td>...</td>\n",
       "      <td>4.97</td>\n",
       "      <td>4.83</td>\n",
       "      <td>4.76</td>\n",
       "      <td>NaN</td>\n",
       "      <td>t</td>\n",
       "      <td>2</td>\n",
       "      <td>0</td>\n",
       "      <td>2</td>\n",
       "      <td>0</td>\n",
       "      <td>2.55</td>\n",
       "    </tr>\n",
       "    <tr>\n",
       "      <th>2</th>\n",
       "      <td>170651</td>\n",
       "      <td>https://www.airbnb.com/rooms/170651</td>\n",
       "      <td>20221229235426</td>\n",
       "      <td>2022-12-30</td>\n",
       "      <td>city scrape</td>\n",
       "      <td>Petit Charm Rooftop next to heaven</td>\n",
       "      <td>My place is perfect for 1 person or mabey 2 if...</td>\n",
       "      <td>NaN</td>\n",
       "      <td>https://a0.muscache.com/pictures/74dc2c29-1f7a...</td>\n",
       "      <td>814021</td>\n",
       "      <td>...</td>\n",
       "      <td>4.92</td>\n",
       "      <td>4.84</td>\n",
       "      <td>4.74</td>\n",
       "      <td>NaN</td>\n",
       "      <td>f</td>\n",
       "      <td>1</td>\n",
       "      <td>1</td>\n",
       "      <td>0</td>\n",
       "      <td>0</td>\n",
       "      <td>0.30</td>\n",
       "    </tr>\n",
       "    <tr>\n",
       "      <th>3</th>\n",
       "      <td>206221</td>\n",
       "      <td>https://www.airbnb.com/rooms/206221</td>\n",
       "      <td>20221229235426</td>\n",
       "      <td>2022-12-30</td>\n",
       "      <td>city scrape</td>\n",
       "      <td>Doubleroom at Södermalm &amp;trendySofo</td>\n",
       "      <td>&lt;b&gt;The space&lt;/b&gt;&lt;br /&gt;The region is situated a...</td>\n",
       "      <td>NaN</td>\n",
       "      <td>https://a0.muscache.com/pictures/1792713/2c120...</td>\n",
       "      <td>1022374</td>\n",
       "      <td>...</td>\n",
       "      <td>4.90</td>\n",
       "      <td>4.94</td>\n",
       "      <td>4.83</td>\n",
       "      <td>NaN</td>\n",
       "      <td>f</td>\n",
       "      <td>1</td>\n",
       "      <td>0</td>\n",
       "      <td>0</td>\n",
       "      <td>1</td>\n",
       "      <td>0.59</td>\n",
       "    </tr>\n",
       "    <tr>\n",
       "      <th>4</th>\n",
       "      <td>208366</td>\n",
       "      <td>https://www.airbnb.com/rooms/208366</td>\n",
       "      <td>20221229235426</td>\n",
       "      <td>2022-12-30</td>\n",
       "      <td>city scrape</td>\n",
       "      <td>Central apt. in Sofo .Perfect 4 Families &amp; Kids</td>\n",
       "      <td>&lt;b&gt;The space&lt;/b&gt;&lt;br /&gt;LOCATION:&lt;br /&gt;Beautiful...</td>\n",
       "      <td>NaN</td>\n",
       "      <td>https://a0.muscache.com/pictures/5648534/0238f...</td>\n",
       "      <td>993889</td>\n",
       "      <td>...</td>\n",
       "      <td>4.92</td>\n",
       "      <td>4.70</td>\n",
       "      <td>4.49</td>\n",
       "      <td>NaN</td>\n",
       "      <td>f</td>\n",
       "      <td>1</td>\n",
       "      <td>1</td>\n",
       "      <td>0</td>\n",
       "      <td>0</td>\n",
       "      <td>0.32</td>\n",
       "    </tr>\n",
       "  </tbody>\n",
       "</table>\n",
       "<p>5 rows × 75 columns</p>\n",
       "</div>"
      ],
      "text/plain": [
       "       id                          listing_url       scrape_id last_scraped   \n",
       "0   75590   https://www.airbnb.com/rooms/75590  20221229235426   2022-12-30  \\\n",
       "1  164448  https://www.airbnb.com/rooms/164448  20221229235426   2022-12-30   \n",
       "2  170651  https://www.airbnb.com/rooms/170651  20221229235426   2022-12-30   \n",
       "3  206221  https://www.airbnb.com/rooms/206221  20221229235426   2022-12-30   \n",
       "4  208366  https://www.airbnb.com/rooms/208366  20221229235426   2022-12-30   \n",
       "\n",
       "        source                                             name   \n",
       "0  city scrape                Amazing nature location by a lake  \\\n",
       "1  city scrape      Double room in central Stockholm with Wi-Fi   \n",
       "2  city scrape               Petit Charm Rooftop next to heaven   \n",
       "3  city scrape              Doubleroom at Södermalm &trendySofo   \n",
       "4  city scrape  Central apt. in Sofo .Perfect 4 Families & Kids   \n",
       "\n",
       "                                         description   \n",
       "0  Apartment on the top floor, overlooking a lake...  \\\n",
       "1  I am renting out a nice double room on the top...   \n",
       "2  My place is perfect for 1 person or mabey 2 if...   \n",
       "3  <b>The space</b><br />The region is situated a...   \n",
       "4  <b>The space</b><br />LOCATION:<br />Beautiful...   \n",
       "\n",
       "                               neighborhood_overview   \n",
       "0  Expect a wonderful stay in beautiful scenery, ...  \\\n",
       "1                                                NaN   \n",
       "2                                                NaN   \n",
       "3                                                NaN   \n",
       "4                                                NaN   \n",
       "\n",
       "                                         picture_url  host_id  ...   \n",
       "0  https://a0.muscache.com/pictures/7430cc80-7a4f...   397766  ...  \\\n",
       "1  https://a0.muscache.com/pictures/1101571/13429...   784312  ...   \n",
       "2  https://a0.muscache.com/pictures/74dc2c29-1f7a...   814021  ...   \n",
       "3  https://a0.muscache.com/pictures/1792713/2c120...  1022374  ...   \n",
       "4  https://a0.muscache.com/pictures/5648534/0238f...   993889  ...   \n",
       "\n",
       "  review_scores_communication review_scores_location review_scores_value   \n",
       "0                        5.00                   4.78                4.78  \\\n",
       "1                        4.97                   4.83                4.76   \n",
       "2                        4.92                   4.84                4.74   \n",
       "3                        4.90                   4.94                4.83   \n",
       "4                        4.92                   4.70                4.49   \n",
       "\n",
       "  license instant_bookable calculated_host_listings_count   \n",
       "0     NaN                f                              1  \\\n",
       "1     NaN                t                              2   \n",
       "2     NaN                f                              1   \n",
       "3     NaN                f                              1   \n",
       "4     NaN                f                              1   \n",
       "\n",
       "  calculated_host_listings_count_entire_homes   \n",
       "0                                           1  \\\n",
       "1                                           0   \n",
       "2                                           1   \n",
       "3                                           0   \n",
       "4                                           1   \n",
       "\n",
       "  calculated_host_listings_count_private_rooms   \n",
       "0                                            0  \\\n",
       "1                                            2   \n",
       "2                                            0   \n",
       "3                                            0   \n",
       "4                                            0   \n",
       "\n",
       "  calculated_host_listings_count_shared_rooms reviews_per_month  \n",
       "0                                           0              0.09  \n",
       "1                                           0              2.55  \n",
       "2                                           0              0.30  \n",
       "3                                           1              0.59  \n",
       "4                                           0              0.32  \n",
       "\n",
       "[5 rows x 75 columns]"
      ]
     },
     "execution_count": 3,
     "metadata": {},
     "output_type": "execute_result"
    }
   ],
   "source": [
    "li = pd.read_csv(\"listings 2.csv\")\n",
    "li.head()"
   ]
  },
  {
   "cell_type": "code",
   "execution_count": 4,
   "id": "05c593dd-6830-4a60-af4a-9a47cc161c6a",
   "metadata": {
    "tags": []
   },
   "outputs": [
    {
     "data": {
      "text/html": [
       "<div>\n",
       "<style scoped>\n",
       "    .dataframe tbody tr th:only-of-type {\n",
       "        vertical-align: middle;\n",
       "    }\n",
       "\n",
       "    .dataframe tbody tr th {\n",
       "        vertical-align: top;\n",
       "    }\n",
       "\n",
       "    .dataframe thead th {\n",
       "        text-align: right;\n",
       "    }\n",
       "</style>\n",
       "<table border=\"1\" class=\"dataframe\">\n",
       "  <thead>\n",
       "    <tr style=\"text-align: right;\">\n",
       "      <th></th>\n",
       "      <th>neighbourhood_group</th>\n",
       "      <th>neighbourhood</th>\n",
       "    </tr>\n",
       "  </thead>\n",
       "  <tbody>\n",
       "    <tr>\n",
       "      <th>0</th>\n",
       "      <td>NaN</td>\n",
       "      <td>Älvsjö</td>\n",
       "    </tr>\n",
       "    <tr>\n",
       "      <th>1</th>\n",
       "      <td>NaN</td>\n",
       "      <td>Bromma</td>\n",
       "    </tr>\n",
       "    <tr>\n",
       "      <th>2</th>\n",
       "      <td>NaN</td>\n",
       "      <td>Enskede-Årsta-Vantörs</td>\n",
       "    </tr>\n",
       "    <tr>\n",
       "      <th>3</th>\n",
       "      <td>NaN</td>\n",
       "      <td>Farsta</td>\n",
       "    </tr>\n",
       "    <tr>\n",
       "      <th>4</th>\n",
       "      <td>NaN</td>\n",
       "      <td>Hägersten-Liljeholmens</td>\n",
       "    </tr>\n",
       "  </tbody>\n",
       "</table>\n",
       "</div>"
      ],
      "text/plain": [
       "   neighbourhood_group           neighbourhood\n",
       "0                  NaN                  Älvsjö\n",
       "1                  NaN                  Bromma\n",
       "2                  NaN   Enskede-Årsta-Vantörs\n",
       "3                  NaN                  Farsta\n",
       "4                  NaN  Hägersten-Liljeholmens"
      ]
     },
     "execution_count": 4,
     "metadata": {},
     "output_type": "execute_result"
    }
   ],
   "source": [
    "nb = pd.read_csv(\"neighbourhoods.csv\")\n",
    "nb.head()"
   ]
  },
  {
   "cell_type": "code",
   "execution_count": 5,
   "id": "56cdf72d-e75f-457d-824d-6a5ee3f5e027",
   "metadata": {
    "tags": []
   },
   "outputs": [
    {
     "data": {
      "text/html": [
       "<div>\n",
       "<style scoped>\n",
       "    .dataframe tbody tr th:only-of-type {\n",
       "        vertical-align: middle;\n",
       "    }\n",
       "\n",
       "    .dataframe tbody tr th {\n",
       "        vertical-align: top;\n",
       "    }\n",
       "\n",
       "    .dataframe thead th {\n",
       "        text-align: right;\n",
       "    }\n",
       "</style>\n",
       "<table border=\"1\" class=\"dataframe\">\n",
       "  <thead>\n",
       "    <tr style=\"text-align: right;\">\n",
       "      <th></th>\n",
       "      <th>listing_id</th>\n",
       "      <th>date</th>\n",
       "    </tr>\n",
       "  </thead>\n",
       "  <tbody>\n",
       "    <tr>\n",
       "      <th>0</th>\n",
       "      <td>75590</td>\n",
       "      <td>2013-08-02</td>\n",
       "    </tr>\n",
       "    <tr>\n",
       "      <th>1</th>\n",
       "      <td>75590</td>\n",
       "      <td>2013-08-09</td>\n",
       "    </tr>\n",
       "    <tr>\n",
       "      <th>2</th>\n",
       "      <td>75590</td>\n",
       "      <td>2013-08-16</td>\n",
       "    </tr>\n",
       "    <tr>\n",
       "      <th>3</th>\n",
       "      <td>75590</td>\n",
       "      <td>2013-08-19</td>\n",
       "    </tr>\n",
       "    <tr>\n",
       "      <th>4</th>\n",
       "      <td>75590</td>\n",
       "      <td>2013-08-28</td>\n",
       "    </tr>\n",
       "  </tbody>\n",
       "</table>\n",
       "</div>"
      ],
      "text/plain": [
       "   listing_id        date\n",
       "0       75590  2013-08-02\n",
       "1       75590  2013-08-09\n",
       "2       75590  2013-08-16\n",
       "3       75590  2013-08-19\n",
       "4       75590  2013-08-28"
      ]
     },
     "execution_count": 5,
     "metadata": {},
     "output_type": "execute_result"
    }
   ],
   "source": [
    "rev = pd.read_csv(\"reviews.csv\")\n",
    "rev.head()"
   ]
  },
  {
   "cell_type": "code",
   "execution_count": 6,
   "id": "1a6585f4-de8e-47a2-bc92-377b8e59f6d5",
   "metadata": {},
   "outputs": [
    {
     "name": "stdout",
     "output_type": "stream",
     "text": [
      "<class 'pandas.core.frame.DataFrame'>\n",
      "RangeIndex: 3339 entries, 0 to 3338\n",
      "Data columns (total 75 columns):\n",
      " #   Column                                        Non-Null Count  Dtype  \n",
      "---  ------                                        --------------  -----  \n",
      " 0   id                                            3339 non-null   int64  \n",
      " 1   listing_url                                   3339 non-null   object \n",
      " 2   scrape_id                                     3339 non-null   int64  \n",
      " 3   last_scraped                                  3339 non-null   object \n",
      " 4   source                                        3339 non-null   object \n",
      " 5   name                                          3337 non-null   object \n",
      " 6   description                                   3234 non-null   object \n",
      " 7   neighborhood_overview                         1561 non-null   object \n",
      " 8   picture_url                                   3339 non-null   object \n",
      " 9   host_id                                       3339 non-null   int64  \n",
      " 10  host_url                                      3339 non-null   object \n",
      " 11  host_name                                     3339 non-null   object \n",
      " 12  host_since                                    3339 non-null   object \n",
      " 13  host_location                                 2747 non-null   object \n",
      " 14  host_about                                    1722 non-null   object \n",
      " 15  host_response_time                            2254 non-null   object \n",
      " 16  host_response_rate                            2254 non-null   object \n",
      " 17  host_acceptance_rate                          2812 non-null   object \n",
      " 18  host_is_superhost                             3334 non-null   object \n",
      " 19  host_thumbnail_url                            3339 non-null   object \n",
      " 20  host_picture_url                              3339 non-null   object \n",
      " 21  host_neighbourhood                            1498 non-null   object \n",
      " 22  host_listings_count                           3339 non-null   int64  \n",
      " 23  host_total_listings_count                     3339 non-null   int64  \n",
      " 24  host_verifications                            3339 non-null   object \n",
      " 25  host_has_profile_pic                          3339 non-null   object \n",
      " 26  host_identity_verified                        3339 non-null   object \n",
      " 27  neighbourhood                                 1561 non-null   object \n",
      " 28  neighbourhood_cleansed                        3339 non-null   object \n",
      " 29  neighbourhood_group_cleansed                  0 non-null      float64\n",
      " 30  latitude                                      3339 non-null   float64\n",
      " 31  longitude                                     3339 non-null   float64\n",
      " 32  property_type                                 3339 non-null   object \n",
      " 33  room_type                                     3339 non-null   object \n",
      " 34  accommodates                                  3339 non-null   int64  \n",
      " 35  bathrooms                                     0 non-null      float64\n",
      " 36  bathrooms_text                                3325 non-null   object \n",
      " 37  bedrooms                                      3067 non-null   float64\n",
      " 38  beds                                          3286 non-null   float64\n",
      " 39  amenities                                     3339 non-null   object \n",
      " 40  price                                         3339 non-null   object \n",
      " 41  minimum_nights                                3339 non-null   int64  \n",
      " 42  maximum_nights                                3339 non-null   int64  \n",
      " 43  minimum_minimum_nights                        3335 non-null   float64\n",
      " 44  maximum_minimum_nights                        3335 non-null   float64\n",
      " 45  minimum_maximum_nights                        3335 non-null   float64\n",
      " 46  maximum_maximum_nights                        3335 non-null   float64\n",
      " 47  minimum_nights_avg_ntm                        3335 non-null   float64\n",
      " 48  maximum_nights_avg_ntm                        3335 non-null   float64\n",
      " 49  calendar_updated                              0 non-null      float64\n",
      " 50  has_availability                              3339 non-null   object \n",
      " 51  availability_30                               3339 non-null   int64  \n",
      " 52  availability_60                               3339 non-null   int64  \n",
      " 53  availability_90                               3339 non-null   int64  \n",
      " 54  availability_365                              3339 non-null   int64  \n",
      " 55  calendar_last_scraped                         3339 non-null   object \n",
      " 56  number_of_reviews                             3339 non-null   int64  \n",
      " 57  number_of_reviews_ltm                         3339 non-null   int64  \n",
      " 58  number_of_reviews_l30d                        3339 non-null   int64  \n",
      " 59  first_review                                  2751 non-null   object \n",
      " 60  last_review                                   2751 non-null   object \n",
      " 61  review_scores_rating                          2751 non-null   float64\n",
      " 62  review_scores_accuracy                        2733 non-null   float64\n",
      " 63  review_scores_cleanliness                     2733 non-null   float64\n",
      " 64  review_scores_checkin                         2733 non-null   float64\n",
      " 65  review_scores_communication                   2733 non-null   float64\n",
      " 66  review_scores_location                        2733 non-null   float64\n",
      " 67  review_scores_value                           2733 non-null   float64\n",
      " 68  license                                       0 non-null      float64\n",
      " 69  instant_bookable                              3339 non-null   object \n",
      " 70  calculated_host_listings_count                3339 non-null   int64  \n",
      " 71  calculated_host_listings_count_entire_homes   3339 non-null   int64  \n",
      " 72  calculated_host_listings_count_private_rooms  3339 non-null   int64  \n",
      " 73  calculated_host_listings_count_shared_rooms   3339 non-null   int64  \n",
      " 74  reviews_per_month                             2751 non-null   float64\n",
      "dtypes: float64(22), int64(19), object(34)\n",
      "memory usage: 1.9+ MB\n"
     ]
    }
   ],
   "source": [
    "li.info()"
   ]
  },
  {
   "cell_type": "code",
   "execution_count": 7,
   "id": "49938c7e-a45b-456d-85bb-0b1b1776d6de",
   "metadata": {
    "tags": []
   },
   "outputs": [
    {
     "data": {
      "text/plain": [
       "(3339, 75)"
      ]
     },
     "execution_count": 7,
     "metadata": {},
     "output_type": "execute_result"
    }
   ],
   "source": [
    "li.shape\n"
   ]
  },
  {
   "cell_type": "code",
   "execution_count": 8,
   "id": "6b0ac087-76cd-429a-a289-fc73407f06e6",
   "metadata": {},
   "outputs": [],
   "source": [
    "# H Y P O T H E S I S\n",
    "\n",
    "# Comparison with other selected cities\n",
    "# hosts by no of listings // and are antiproportional to lengths of stay\n",
    "# most popular room types are condo and single room with contact\n",
    "# occupancy\n",
    "\n",
    "# price differences between \n",
    "# 3 accomodation categories\n",
    "# neighborhoods\n",
    "# vs other selected cities\n",
    "# are no of recommendations, recommendaton rate, Antwortzeit and level of Ausstattung correlated to the pricing as third factor?\n",
    "\n",
    "# airbnb-offers in relation to population of neighborhood\n",
    "# relation to comparable hotel prices? \"normal\" rent?\n",
    "# little gap: no danger. the more the more dangerous"
   ]
  },
  {
   "cell_type": "code",
   "execution_count": 9,
   "id": "26101881-9a48-4ce2-96f0-1e45058eec80",
   "metadata": {},
   "outputs": [],
   "source": [
    "# explore Stockholm's airbnb data\n",
    "\n",
    "# distribution of skewness in hosts\n",
    "# centrality / spread of hosts, prices, room types\n",
    "# instant bookable / main hosts\n",
    "# most popular room type / neighborhoods?\n",
    "# avg price / room type, neighborhood?\n",
    "# price / recommendation rate\n",
    "# price / equipment\n",
    "# frequence of bookings\n",
    "# avg booking periods\n",
    "# add column: ratio offers/host\n",
    "# add column: occupancy rate (days/year/no of requence of bookings\n",
    "\n",
    "# unexpected values?\n",
    "# missing values?\n",
    "\n",
    "# ratio hosts/inhabitants of citiy (950.000)\n",
    "# ratio price m2 of airbnb / avg-m2-price of condo (114.000 skr) \n",
    "# avg monthly net income 32.650 skr pP\n"
   ]
  },
  {
   "cell_type": "code",
   "execution_count": 10,
   "id": "809caa38-973e-4279-b8af-a4d758357bf1",
   "metadata": {
    "tags": []
   },
   "outputs": [
    {
     "data": {
      "text/html": [
       "<div>\n",
       "<style scoped>\n",
       "    .dataframe tbody tr th:only-of-type {\n",
       "        vertical-align: middle;\n",
       "    }\n",
       "\n",
       "    .dataframe tbody tr th {\n",
       "        vertical-align: top;\n",
       "    }\n",
       "\n",
       "    .dataframe thead th {\n",
       "        text-align: right;\n",
       "    }\n",
       "</style>\n",
       "<table border=\"1\" class=\"dataframe\">\n",
       "  <thead>\n",
       "    <tr style=\"text-align: right;\">\n",
       "      <th></th>\n",
       "      <th>id</th>\n",
       "      <th>scrape_id</th>\n",
       "      <th>host_id</th>\n",
       "      <th>host_listings_count</th>\n",
       "      <th>host_total_listings_count</th>\n",
       "      <th>neighbourhood_group_cleansed</th>\n",
       "      <th>latitude</th>\n",
       "      <th>longitude</th>\n",
       "      <th>accommodates</th>\n",
       "      <th>bathrooms</th>\n",
       "      <th>...</th>\n",
       "      <th>review_scores_checkin</th>\n",
       "      <th>review_scores_communication</th>\n",
       "      <th>review_scores_location</th>\n",
       "      <th>review_scores_value</th>\n",
       "      <th>license</th>\n",
       "      <th>calculated_host_listings_count</th>\n",
       "      <th>calculated_host_listings_count_entire_homes</th>\n",
       "      <th>calculated_host_listings_count_private_rooms</th>\n",
       "      <th>calculated_host_listings_count_shared_rooms</th>\n",
       "      <th>reviews_per_month</th>\n",
       "    </tr>\n",
       "  </thead>\n",
       "  <tbody>\n",
       "    <tr>\n",
       "      <th>count</th>\n",
       "      <td>3.339000e+03</td>\n",
       "      <td>3.339000e+03</td>\n",
       "      <td>3.339000e+03</td>\n",
       "      <td>3339.000000</td>\n",
       "      <td>3339.000000</td>\n",
       "      <td>0.0</td>\n",
       "      <td>3339.000000</td>\n",
       "      <td>3339.000000</td>\n",
       "      <td>3339.000000</td>\n",
       "      <td>0.0</td>\n",
       "      <td>...</td>\n",
       "      <td>2733.000000</td>\n",
       "      <td>2733.000000</td>\n",
       "      <td>2733.000000</td>\n",
       "      <td>2733.000000</td>\n",
       "      <td>0.0</td>\n",
       "      <td>3339.000000</td>\n",
       "      <td>3339.000000</td>\n",
       "      <td>3339.000000</td>\n",
       "      <td>3339.000000</td>\n",
       "      <td>2751.000000</td>\n",
       "    </tr>\n",
       "    <tr>\n",
       "      <th>mean</th>\n",
       "      <td>2.042764e+17</td>\n",
       "      <td>2.022123e+13</td>\n",
       "      <td>1.310851e+08</td>\n",
       "      <td>12.949686</td>\n",
       "      <td>33.369572</td>\n",
       "      <td>NaN</td>\n",
       "      <td>59.319302</td>\n",
       "      <td>18.032603</td>\n",
       "      <td>3.279724</td>\n",
       "      <td>NaN</td>\n",
       "      <td>...</td>\n",
       "      <td>4.859104</td>\n",
       "      <td>4.857720</td>\n",
       "      <td>4.793882</td>\n",
       "      <td>4.711965</td>\n",
       "      <td>NaN</td>\n",
       "      <td>4.079365</td>\n",
       "      <td>3.471998</td>\n",
       "      <td>0.431267</td>\n",
       "      <td>0.037436</td>\n",
       "      <td>1.097866</td>\n",
       "    </tr>\n",
       "    <tr>\n",
       "      <th>std</th>\n",
       "      <td>3.130319e+17</td>\n",
       "      <td>0.000000e+00</td>\n",
       "      <td>1.445568e+08</td>\n",
       "      <td>107.899485</td>\n",
       "      <td>326.654131</td>\n",
       "      <td>NaN</td>\n",
       "      <td>0.029821</td>\n",
       "      <td>0.063394</td>\n",
       "      <td>1.968349</td>\n",
       "      <td>NaN</td>\n",
       "      <td>...</td>\n",
       "      <td>0.324864</td>\n",
       "      <td>0.323789</td>\n",
       "      <td>0.322909</td>\n",
       "      <td>0.360283</td>\n",
       "      <td>NaN</td>\n",
       "      <td>10.204294</td>\n",
       "      <td>10.122114</td>\n",
       "      <td>1.119437</td>\n",
       "      <td>0.360713</td>\n",
       "      <td>1.428936</td>\n",
       "    </tr>\n",
       "    <tr>\n",
       "      <th>min</th>\n",
       "      <td>7.559000e+04</td>\n",
       "      <td>2.022123e+13</td>\n",
       "      <td>4.457000e+03</td>\n",
       "      <td>1.000000</td>\n",
       "      <td>1.000000</td>\n",
       "      <td>NaN</td>\n",
       "      <td>59.231950</td>\n",
       "      <td>17.773110</td>\n",
       "      <td>0.000000</td>\n",
       "      <td>NaN</td>\n",
       "      <td>...</td>\n",
       "      <td>1.000000</td>\n",
       "      <td>1.000000</td>\n",
       "      <td>1.000000</td>\n",
       "      <td>1.000000</td>\n",
       "      <td>NaN</td>\n",
       "      <td>1.000000</td>\n",
       "      <td>0.000000</td>\n",
       "      <td>0.000000</td>\n",
       "      <td>0.000000</td>\n",
       "      <td>0.010000</td>\n",
       "    </tr>\n",
       "    <tr>\n",
       "      <th>25%</th>\n",
       "      <td>2.180487e+07</td>\n",
       "      <td>2.022123e+13</td>\n",
       "      <td>1.942711e+07</td>\n",
       "      <td>1.000000</td>\n",
       "      <td>1.000000</td>\n",
       "      <td>NaN</td>\n",
       "      <td>59.300990</td>\n",
       "      <td>18.004925</td>\n",
       "      <td>2.000000</td>\n",
       "      <td>NaN</td>\n",
       "      <td>...</td>\n",
       "      <td>4.830000</td>\n",
       "      <td>4.850000</td>\n",
       "      <td>4.710000</td>\n",
       "      <td>4.610000</td>\n",
       "      <td>NaN</td>\n",
       "      <td>1.000000</td>\n",
       "      <td>1.000000</td>\n",
       "      <td>0.000000</td>\n",
       "      <td>0.000000</td>\n",
       "      <td>0.200000</td>\n",
       "    </tr>\n",
       "    <tr>\n",
       "      <th>50%</th>\n",
       "      <td>4.205427e+07</td>\n",
       "      <td>2.022123e+13</td>\n",
       "      <td>6.288472e+07</td>\n",
       "      <td>1.000000</td>\n",
       "      <td>2.000000</td>\n",
       "      <td>NaN</td>\n",
       "      <td>59.318020</td>\n",
       "      <td>18.049960</td>\n",
       "      <td>3.000000</td>\n",
       "      <td>NaN</td>\n",
       "      <td>...</td>\n",
       "      <td>4.960000</td>\n",
       "      <td>4.980000</td>\n",
       "      <td>4.890000</td>\n",
       "      <td>4.790000</td>\n",
       "      <td>NaN</td>\n",
       "      <td>1.000000</td>\n",
       "      <td>1.000000</td>\n",
       "      <td>0.000000</td>\n",
       "      <td>0.000000</td>\n",
       "      <td>0.510000</td>\n",
       "    </tr>\n",
       "    <tr>\n",
       "      <th>75%</th>\n",
       "      <td>6.080883e+17</td>\n",
       "      <td>2.022123e+13</td>\n",
       "      <td>2.100933e+08</td>\n",
       "      <td>2.000000</td>\n",
       "      <td>4.000000</td>\n",
       "      <td>NaN</td>\n",
       "      <td>59.337804</td>\n",
       "      <td>18.076085</td>\n",
       "      <td>4.000000</td>\n",
       "      <td>NaN</td>\n",
       "      <td>...</td>\n",
       "      <td>5.000000</td>\n",
       "      <td>5.000000</td>\n",
       "      <td>5.000000</td>\n",
       "      <td>5.000000</td>\n",
       "      <td>NaN</td>\n",
       "      <td>2.000000</td>\n",
       "      <td>1.000000</td>\n",
       "      <td>0.000000</td>\n",
       "      <td>0.000000</td>\n",
       "      <td>1.350000</td>\n",
       "    </tr>\n",
       "    <tr>\n",
       "      <th>max</th>\n",
       "      <td>7.921731e+17</td>\n",
       "      <td>2.022123e+13</td>\n",
       "      <td>4.929636e+08</td>\n",
       "      <td>1597.000000</td>\n",
       "      <td>5139.000000</td>\n",
       "      <td>NaN</td>\n",
       "      <td>59.418580</td>\n",
       "      <td>18.166070</td>\n",
       "      <td>16.000000</td>\n",
       "      <td>NaN</td>\n",
       "      <td>...</td>\n",
       "      <td>5.000000</td>\n",
       "      <td>5.000000</td>\n",
       "      <td>5.000000</td>\n",
       "      <td>5.000000</td>\n",
       "      <td>NaN</td>\n",
       "      <td>65.000000</td>\n",
       "      <td>65.000000</td>\n",
       "      <td>8.000000</td>\n",
       "      <td>5.000000</td>\n",
       "      <td>17.090000</td>\n",
       "    </tr>\n",
       "  </tbody>\n",
       "</table>\n",
       "<p>8 rows × 41 columns</p>\n",
       "</div>"
      ],
      "text/plain": [
       "                 id     scrape_id       host_id  host_listings_count   \n",
       "count  3.339000e+03  3.339000e+03  3.339000e+03          3339.000000  \\\n",
       "mean   2.042764e+17  2.022123e+13  1.310851e+08            12.949686   \n",
       "std    3.130319e+17  0.000000e+00  1.445568e+08           107.899485   \n",
       "min    7.559000e+04  2.022123e+13  4.457000e+03             1.000000   \n",
       "25%    2.180487e+07  2.022123e+13  1.942711e+07             1.000000   \n",
       "50%    4.205427e+07  2.022123e+13  6.288472e+07             1.000000   \n",
       "75%    6.080883e+17  2.022123e+13  2.100933e+08             2.000000   \n",
       "max    7.921731e+17  2.022123e+13  4.929636e+08          1597.000000   \n",
       "\n",
       "       host_total_listings_count  neighbourhood_group_cleansed     latitude   \n",
       "count                3339.000000                           0.0  3339.000000  \\\n",
       "mean                   33.369572                           NaN    59.319302   \n",
       "std                   326.654131                           NaN     0.029821   \n",
       "min                     1.000000                           NaN    59.231950   \n",
       "25%                     1.000000                           NaN    59.300990   \n",
       "50%                     2.000000                           NaN    59.318020   \n",
       "75%                     4.000000                           NaN    59.337804   \n",
       "max                  5139.000000                           NaN    59.418580   \n",
       "\n",
       "         longitude  accommodates  bathrooms  ...  review_scores_checkin   \n",
       "count  3339.000000   3339.000000        0.0  ...            2733.000000  \\\n",
       "mean     18.032603      3.279724        NaN  ...               4.859104   \n",
       "std       0.063394      1.968349        NaN  ...               0.324864   \n",
       "min      17.773110      0.000000        NaN  ...               1.000000   \n",
       "25%      18.004925      2.000000        NaN  ...               4.830000   \n",
       "50%      18.049960      3.000000        NaN  ...               4.960000   \n",
       "75%      18.076085      4.000000        NaN  ...               5.000000   \n",
       "max      18.166070     16.000000        NaN  ...               5.000000   \n",
       "\n",
       "       review_scores_communication  review_scores_location   \n",
       "count                  2733.000000             2733.000000  \\\n",
       "mean                      4.857720                4.793882   \n",
       "std                       0.323789                0.322909   \n",
       "min                       1.000000                1.000000   \n",
       "25%                       4.850000                4.710000   \n",
       "50%                       4.980000                4.890000   \n",
       "75%                       5.000000                5.000000   \n",
       "max                       5.000000                5.000000   \n",
       "\n",
       "       review_scores_value  license  calculated_host_listings_count   \n",
       "count          2733.000000      0.0                     3339.000000  \\\n",
       "mean              4.711965      NaN                        4.079365   \n",
       "std               0.360283      NaN                       10.204294   \n",
       "min               1.000000      NaN                        1.000000   \n",
       "25%               4.610000      NaN                        1.000000   \n",
       "50%               4.790000      NaN                        1.000000   \n",
       "75%               5.000000      NaN                        2.000000   \n",
       "max               5.000000      NaN                       65.000000   \n",
       "\n",
       "       calculated_host_listings_count_entire_homes   \n",
       "count                                  3339.000000  \\\n",
       "mean                                      3.471998   \n",
       "std                                      10.122114   \n",
       "min                                       0.000000   \n",
       "25%                                       1.000000   \n",
       "50%                                       1.000000   \n",
       "75%                                       1.000000   \n",
       "max                                      65.000000   \n",
       "\n",
       "       calculated_host_listings_count_private_rooms   \n",
       "count                                   3339.000000  \\\n",
       "mean                                       0.431267   \n",
       "std                                        1.119437   \n",
       "min                                        0.000000   \n",
       "25%                                        0.000000   \n",
       "50%                                        0.000000   \n",
       "75%                                        0.000000   \n",
       "max                                        8.000000   \n",
       "\n",
       "       calculated_host_listings_count_shared_rooms  reviews_per_month  \n",
       "count                                  3339.000000        2751.000000  \n",
       "mean                                      0.037436           1.097866  \n",
       "std                                       0.360713           1.428936  \n",
       "min                                       0.000000           0.010000  \n",
       "25%                                       0.000000           0.200000  \n",
       "50%                                       0.000000           0.510000  \n",
       "75%                                       0.000000           1.350000  \n",
       "max                                       5.000000          17.090000  \n",
       "\n",
       "[8 rows x 41 columns]"
      ]
     },
     "execution_count": 10,
     "metadata": {},
     "output_type": "execute_result"
    }
   ],
   "source": [
    "li.describe()"
   ]
  },
  {
   "cell_type": "code",
   "execution_count": 11,
   "id": "85bac335-ec51-4da8-9e55-863da24398c7",
   "metadata": {
    "tags": []
   },
   "outputs": [
    {
     "data": {
      "text/plain": [
       "Index(['id', 'listing_url', 'scrape_id', 'last_scraped', 'source', 'name',\n",
       "       'description', 'neighborhood_overview', 'picture_url', 'host_id',\n",
       "       'host_url', 'host_name', 'host_since', 'host_location', 'host_about',\n",
       "       'host_response_time', 'host_response_rate', 'host_acceptance_rate',\n",
       "       'host_is_superhost', 'host_thumbnail_url', 'host_picture_url',\n",
       "       'host_neighbourhood', 'host_listings_count',\n",
       "       'host_total_listings_count', 'host_verifications',\n",
       "       'host_has_profile_pic', 'host_identity_verified', 'neighbourhood',\n",
       "       'neighbourhood_cleansed', 'neighbourhood_group_cleansed', 'latitude',\n",
       "       'longitude', 'property_type', 'room_type', 'accommodates', 'bathrooms',\n",
       "       'bathrooms_text', 'bedrooms', 'beds', 'amenities', 'price',\n",
       "       'minimum_nights', 'maximum_nights', 'minimum_minimum_nights',\n",
       "       'maximum_minimum_nights', 'minimum_maximum_nights',\n",
       "       'maximum_maximum_nights', 'minimum_nights_avg_ntm',\n",
       "       'maximum_nights_avg_ntm', 'calendar_updated', 'has_availability',\n",
       "       'availability_30', 'availability_60', 'availability_90',\n",
       "       'availability_365', 'calendar_last_scraped', 'number_of_reviews',\n",
       "       'number_of_reviews_ltm', 'number_of_reviews_l30d', 'first_review',\n",
       "       'last_review', 'review_scores_rating', 'review_scores_accuracy',\n",
       "       'review_scores_cleanliness', 'review_scores_checkin',\n",
       "       'review_scores_communication', 'review_scores_location',\n",
       "       'review_scores_value', 'license', 'instant_bookable',\n",
       "       'calculated_host_listings_count',\n",
       "       'calculated_host_listings_count_entire_homes',\n",
       "       'calculated_host_listings_count_private_rooms',\n",
       "       'calculated_host_listings_count_shared_rooms', 'reviews_per_month'],\n",
       "      dtype='object')"
      ]
     },
     "execution_count": 11,
     "metadata": {},
     "output_type": "execute_result"
    }
   ],
   "source": [
    "li.columns"
   ]
  },
  {
   "cell_type": "code",
   "execution_count": 12,
   "id": "7ff9efa9-6322-45a0-bdcb-05e4559d8f23",
   "metadata": {
    "tags": []
   },
   "outputs": [],
   "source": [
    "# many columns without interest: easy cleaning\n",
    "\n",
    "lip = li[['id', 'name',\n",
    "       'description', 'host_id',\n",
    "       'host_name', 'host_since', 'host_location', \n",
    "       'host_acceptance_rate',\n",
    "       'host_listings_count',\n",
    "       'host_total_listings_count', 'host_verifications', 'host_identity_verified', \n",
    "       'neighbourhood_cleansed', 'latitude',\n",
    "       'longitude', 'property_type', 'room_type', 'accommodates',\n",
    "       'bathrooms_text', 'bedrooms', 'beds', 'amenities', 'price',\n",
    "       'minimum_nights', 'maximum_nights', 'has_availability', 'number_of_reviews',\n",
    "       'number_of_reviews_ltm', 'number_of_reviews_l30d', 'review_scores_rating', 'review_scores_accuracy',\n",
    "       'review_scores_cleanliness',\n",
    "       'review_scores_communication', 'review_scores_location',\n",
    "       'review_scores_value', 'instant_bookable',\n",
    "       'calculated_host_listings_count',\n",
    "       'calculated_host_listings_count_entire_homes',\n",
    "       'calculated_host_listings_count_private_rooms',\n",
    "       'calculated_host_listings_count_shared_rooms', 'reviews_per_month']]"
   ]
  },
  {
   "cell_type": "code",
   "execution_count": 13,
   "id": "1742d493-1e13-46f7-a8dd-27efbe6accaa",
   "metadata": {
    "tags": []
   },
   "outputs": [
    {
     "name": "stdout",
     "output_type": "stream",
     "text": [
      "Requirement already satisfied: missingno in /Users/utaviegener/Desktop/neuefische/Modellbauer/.venv/lib/python3.9/site-packages (0.5.2)\n",
      "Requirement already satisfied: seaborn in /Users/utaviegener/Desktop/neuefische/Modellbauer/.venv/lib/python3.9/site-packages (from missingno) (0.12.2)\n",
      "Requirement already satisfied: scipy in /Users/utaviegener/Desktop/neuefische/Modellbauer/.venv/lib/python3.9/site-packages (from missingno) (1.10.1)\n",
      "Requirement already satisfied: matplotlib in /Users/utaviegener/Desktop/neuefische/Modellbauer/.venv/lib/python3.9/site-packages (from missingno) (3.7.1)\n",
      "Requirement already satisfied: numpy in /Users/utaviegener/Desktop/neuefische/Modellbauer/.venv/lib/python3.9/site-packages (from missingno) (1.24.2)\n",
      "Requirement already satisfied: packaging>=20.0 in /Users/utaviegener/Desktop/neuefische/Modellbauer/.venv/lib/python3.9/site-packages (from matplotlib->missingno) (23.0)\n",
      "Requirement already satisfied: importlib-resources>=3.2.0 in /Users/utaviegener/Desktop/neuefische/Modellbauer/.venv/lib/python3.9/site-packages (from matplotlib->missingno) (5.12.0)\n",
      "Requirement already satisfied: contourpy>=1.0.1 in /Users/utaviegener/Desktop/neuefische/Modellbauer/.venv/lib/python3.9/site-packages (from matplotlib->missingno) (1.0.7)\n",
      "Requirement already satisfied: kiwisolver>=1.0.1 in /Users/utaviegener/Desktop/neuefische/Modellbauer/.venv/lib/python3.9/site-packages (from matplotlib->missingno) (1.4.4)\n",
      "Requirement already satisfied: python-dateutil>=2.7 in /Users/utaviegener/Desktop/neuefische/Modellbauer/.venv/lib/python3.9/site-packages (from matplotlib->missingno) (2.8.2)\n",
      "Requirement already satisfied: pillow>=6.2.0 in /Users/utaviegener/Desktop/neuefische/Modellbauer/.venv/lib/python3.9/site-packages (from matplotlib->missingno) (9.5.0)\n",
      "Requirement already satisfied: pyparsing>=2.3.1 in /Users/utaviegener/Desktop/neuefische/Modellbauer/.venv/lib/python3.9/site-packages (from matplotlib->missingno) (3.0.9)\n",
      "Requirement already satisfied: fonttools>=4.22.0 in /Users/utaviegener/Desktop/neuefische/Modellbauer/.venv/lib/python3.9/site-packages (from matplotlib->missingno) (4.39.3)\n",
      "Requirement already satisfied: cycler>=0.10 in /Users/utaviegener/Desktop/neuefische/Modellbauer/.venv/lib/python3.9/site-packages (from matplotlib->missingno) (0.11.0)\n",
      "Requirement already satisfied: pandas>=0.25 in /Users/utaviegener/Desktop/neuefische/Modellbauer/.venv/lib/python3.9/site-packages (from seaborn->missingno) (2.0.0)\n",
      "Requirement already satisfied: zipp>=3.1.0 in /Users/utaviegener/Desktop/neuefische/Modellbauer/.venv/lib/python3.9/site-packages (from importlib-resources>=3.2.0->matplotlib->missingno) (3.15.0)\n",
      "Requirement already satisfied: pytz>=2020.1 in /Users/utaviegener/Desktop/neuefische/Modellbauer/.venv/lib/python3.9/site-packages (from pandas>=0.25->seaborn->missingno) (2023.3)\n",
      "Requirement already satisfied: tzdata>=2022.1 in /Users/utaviegener/Desktop/neuefische/Modellbauer/.venv/lib/python3.9/site-packages (from pandas>=0.25->seaborn->missingno) (2023.3)\n",
      "Requirement already satisfied: six>=1.5 in /Users/utaviegener/Desktop/neuefische/Modellbauer/.venv/lib/python3.9/site-packages (from python-dateutil>=2.7->matplotlib->missingno) (1.16.0)\n"
     ]
    },
    {
     "data": {
      "text/plain": [
       "<Axes: >"
      ]
     },
     "execution_count": 13,
     "metadata": {},
     "output_type": "execute_result"
    },
    {
     "data": {
      "image/png": "[encoded data removed]",
      "text/plain": [
       "<Figure size 2500x1000 with 2 Axes>"
      ]
     },
     "metadata": {},
     "output_type": "display_data"
    }
   ],
   "source": [
    "!pip install missingno\n",
    "import missingno as msno\n",
    "msno.matrix(lip)"
   ]
  },
  {
   "cell_type": "code",
   "execution_count": 14,
   "id": "29c709ef-24ca-4e01-82d5-0a6a372abbe3",
   "metadata": {
    "tags": []
   },
   "outputs": [
    {
     "data": {
      "text/html": [
       "<div>\n",
       "<style scoped>\n",
       "    .dataframe tbody tr th:only-of-type {\n",
       "        vertical-align: middle;\n",
       "    }\n",
       "\n",
       "    .dataframe tbody tr th {\n",
       "        vertical-align: top;\n",
       "    }\n",
       "\n",
       "    .dataframe thead th {\n",
       "        text-align: right;\n",
       "    }\n",
       "</style>\n",
       "<table border=\"1\" class=\"dataframe\">\n",
       "  <thead>\n",
       "    <tr style=\"text-align: right;\">\n",
       "      <th></th>\n",
       "      <th>id</th>\n",
       "      <th>name</th>\n",
       "      <th>description</th>\n",
       "      <th>host_id</th>\n",
       "      <th>host_name</th>\n",
       "      <th>host_since</th>\n",
       "      <th>host_location</th>\n",
       "      <th>host_acceptance_rate</th>\n",
       "      <th>host_listings_count</th>\n",
       "      <th>host_total_listings_count</th>\n",
       "      <th>...</th>\n",
       "      <th>review_scores_cleanliness</th>\n",
       "      <th>review_scores_communication</th>\n",
       "      <th>review_scores_location</th>\n",
       "      <th>review_scores_value</th>\n",
       "      <th>instant_bookable</th>\n",
       "      <th>calculated_host_listings_count</th>\n",
       "      <th>calculated_host_listings_count_entire_homes</th>\n",
       "      <th>calculated_host_listings_count_private_rooms</th>\n",
       "      <th>calculated_host_listings_count_shared_rooms</th>\n",
       "      <th>reviews_per_month</th>\n",
       "    </tr>\n",
       "  </thead>\n",
       "  <tbody>\n",
       "    <tr>\n",
       "      <th>0</th>\n",
       "      <td>75590</td>\n",
       "      <td>Amazing nature location by a lake</td>\n",
       "      <td>Apartment on the top floor, overlooking a lake...</td>\n",
       "      <td>397766</td>\n",
       "      <td>Peter</td>\n",
       "      <td>2011-02-18</td>\n",
       "      <td>Stockholm, Sweden</td>\n",
       "      <td>0%</td>\n",
       "      <td>1</td>\n",
       "      <td>2</td>\n",
       "      <td>...</td>\n",
       "      <td>4.89</td>\n",
       "      <td>5.00</td>\n",
       "      <td>4.78</td>\n",
       "      <td>4.78</td>\n",
       "      <td>f</td>\n",
       "      <td>1</td>\n",
       "      <td>1</td>\n",
       "      <td>0</td>\n",
       "      <td>0</td>\n",
       "      <td>0.09</td>\n",
       "    </tr>\n",
       "    <tr>\n",
       "      <th>1</th>\n",
       "      <td>164448</td>\n",
       "      <td>Double room in central Stockholm with Wi-Fi</td>\n",
       "      <td>I am renting out a nice double room on the top...</td>\n",
       "      <td>784312</td>\n",
       "      <td>Li</td>\n",
       "      <td>2011-07-06</td>\n",
       "      <td>Stockholm, Sweden</td>\n",
       "      <td>100%</td>\n",
       "      <td>2</td>\n",
       "      <td>2</td>\n",
       "      <td>...</td>\n",
       "      <td>4.81</td>\n",
       "      <td>4.97</td>\n",
       "      <td>4.83</td>\n",
       "      <td>4.76</td>\n",
       "      <td>t</td>\n",
       "      <td>2</td>\n",
       "      <td>0</td>\n",
       "      <td>2</td>\n",
       "      <td>0</td>\n",
       "      <td>2.55</td>\n",
       "    </tr>\n",
       "    <tr>\n",
       "      <th>2</th>\n",
       "      <td>170651</td>\n",
       "      <td>Petit Charm Rooftop next to heaven</td>\n",
       "      <td>My place is perfect for 1 person or mabey 2 if...</td>\n",
       "      <td>814021</td>\n",
       "      <td>Marie</td>\n",
       "      <td>2011-07-13</td>\n",
       "      <td>Stockholm, Sweden</td>\n",
       "      <td>29%</td>\n",
       "      <td>1</td>\n",
       "      <td>1</td>\n",
       "      <td>...</td>\n",
       "      <td>4.55</td>\n",
       "      <td>4.92</td>\n",
       "      <td>4.84</td>\n",
       "      <td>4.74</td>\n",
       "      <td>f</td>\n",
       "      <td>1</td>\n",
       "      <td>1</td>\n",
       "      <td>0</td>\n",
       "      <td>0</td>\n",
       "      <td>0.30</td>\n",
       "    </tr>\n",
       "    <tr>\n",
       "      <th>3</th>\n",
       "      <td>206221</td>\n",
       "      <td>Doubleroom at Södermalm &amp;trendySofo</td>\n",
       "      <td>&lt;b&gt;The space&lt;/b&gt;&lt;br /&gt;The region is situated a...</td>\n",
       "      <td>1022374</td>\n",
       "      <td>Elisabeth</td>\n",
       "      <td>2011-08-26</td>\n",
       "      <td>Sweden</td>\n",
       "      <td>0%</td>\n",
       "      <td>1</td>\n",
       "      <td>2</td>\n",
       "      <td>...</td>\n",
       "      <td>4.83</td>\n",
       "      <td>4.90</td>\n",
       "      <td>4.94</td>\n",
       "      <td>4.83</td>\n",
       "      <td>f</td>\n",
       "      <td>1</td>\n",
       "      <td>0</td>\n",
       "      <td>0</td>\n",
       "      <td>1</td>\n",
       "      <td>0.59</td>\n",
       "    </tr>\n",
       "    <tr>\n",
       "      <th>4</th>\n",
       "      <td>208366</td>\n",
       "      <td>Central apt. in Sofo .Perfect 4 Families &amp; Kids</td>\n",
       "      <td>&lt;b&gt;The space&lt;/b&gt;&lt;br /&gt;LOCATION:&lt;br /&gt;Beautiful...</td>\n",
       "      <td>993889</td>\n",
       "      <td>Bartholomew Lion</td>\n",
       "      <td>2011-08-19</td>\n",
       "      <td>Stockholm, Sweden</td>\n",
       "      <td>17%</td>\n",
       "      <td>1</td>\n",
       "      <td>1</td>\n",
       "      <td>...</td>\n",
       "      <td>4.43</td>\n",
       "      <td>4.92</td>\n",
       "      <td>4.70</td>\n",
       "      <td>4.49</td>\n",
       "      <td>f</td>\n",
       "      <td>1</td>\n",
       "      <td>1</td>\n",
       "      <td>0</td>\n",
       "      <td>0</td>\n",
       "      <td>0.32</td>\n",
       "    </tr>\n",
       "  </tbody>\n",
       "</table>\n",
       "<p>5 rows × 41 columns</p>\n",
       "</div>"
      ],
      "text/plain": [
       "       id                                             name   \n",
       "0   75590                Amazing nature location by a lake  \\\n",
       "1  164448      Double room in central Stockholm with Wi-Fi   \n",
       "2  170651               Petit Charm Rooftop next to heaven   \n",
       "3  206221              Doubleroom at Södermalm &trendySofo   \n",
       "4  208366  Central apt. in Sofo .Perfect 4 Families & Kids   \n",
       "\n",
       "                                         description  host_id   \n",
       "0  Apartment on the top floor, overlooking a lake...   397766  \\\n",
       "1  I am renting out a nice double room on the top...   784312   \n",
       "2  My place is perfect for 1 person or mabey 2 if...   814021   \n",
       "3  <b>The space</b><br />The region is situated a...  1022374   \n",
       "4  <b>The space</b><br />LOCATION:<br />Beautiful...   993889   \n",
       "\n",
       "          host_name  host_since      host_location host_acceptance_rate   \n",
       "0             Peter  2011-02-18  Stockholm, Sweden                   0%  \\\n",
       "1                Li  2011-07-06  Stockholm, Sweden                 100%   \n",
       "2             Marie  2011-07-13  Stockholm, Sweden                  29%   \n",
       "3         Elisabeth  2011-08-26             Sweden                   0%   \n",
       "4  Bartholomew Lion  2011-08-19  Stockholm, Sweden                  17%   \n",
       "\n",
       "   host_listings_count  host_total_listings_count  ...   \n",
       "0                    1                          2  ...  \\\n",
       "1                    2                          2  ...   \n",
       "2                    1                          1  ...   \n",
       "3                    1                          2  ...   \n",
       "4                    1                          1  ...   \n",
       "\n",
       "  review_scores_cleanliness review_scores_communication   \n",
       "0                      4.89                        5.00  \\\n",
       "1                      4.81                        4.97   \n",
       "2                      4.55                        4.92   \n",
       "3                      4.83                        4.90   \n",
       "4                      4.43                        4.92   \n",
       "\n",
       "  review_scores_location  review_scores_value  instant_bookable   \n",
       "0                   4.78                 4.78                 f  \\\n",
       "1                   4.83                 4.76                 t   \n",
       "2                   4.84                 4.74                 f   \n",
       "3                   4.94                 4.83                 f   \n",
       "4                   4.70                 4.49                 f   \n",
       "\n",
       "  calculated_host_listings_count calculated_host_listings_count_entire_homes   \n",
       "0                              1                                           1  \\\n",
       "1                              2                                           0   \n",
       "2                              1                                           1   \n",
       "3                              1                                           0   \n",
       "4                              1                                           1   \n",
       "\n",
       "   calculated_host_listings_count_private_rooms   \n",
       "0                                             0  \\\n",
       "1                                             2   \n",
       "2                                             0   \n",
       "3                                             0   \n",
       "4                                             0   \n",
       "\n",
       "  calculated_host_listings_count_shared_rooms  reviews_per_month  \n",
       "0                                           0               0.09  \n",
       "1                                           0               2.55  \n",
       "2                                           0               0.30  \n",
       "3                                           1               0.59  \n",
       "4                                           0               0.32  \n",
       "\n",
       "[5 rows x 41 columns]"
      ]
     },
     "execution_count": 14,
     "metadata": {},
     "output_type": "execute_result"
    }
   ],
   "source": [
    "lip.head()"
   ]
  },
  {
   "cell_type": "code",
   "execution_count": 15,
   "id": "a7c32804-11a0-48c9-9dba-c6e6204cad65",
   "metadata": {
    "tags": []
   },
   "outputs": [
    {
     "data": {
      "text/plain": [
       "id                                                0\n",
       "name                                              2\n",
       "description                                     105\n",
       "host_id                                           0\n",
       "host_name                                         0\n",
       "host_since                                        0\n",
       "host_location                                   592\n",
       "host_acceptance_rate                            527\n",
       "host_listings_count                               0\n",
       "host_total_listings_count                         0\n",
       "host_verifications                                0\n",
       "host_identity_verified                            0\n",
       "neighbourhood_cleansed                            0\n",
       "latitude                                          0\n",
       "longitude                                         0\n",
       "property_type                                     0\n",
       "room_type                                         0\n",
       "accommodates                                      0\n",
       "bathrooms_text                                   14\n",
       "bedrooms                                        272\n",
       "beds                                             53\n",
       "amenities                                         0\n",
       "price                                             0\n",
       "minimum_nights                                    0\n",
       "maximum_nights                                    0\n",
       "has_availability                                  0\n",
       "number_of_reviews                                 0\n",
       "number_of_reviews_ltm                             0\n",
       "number_of_reviews_l30d                            0\n",
       "review_scores_rating                            588\n",
       "review_scores_accuracy                          606\n",
       "review_scores_cleanliness                       606\n",
       "review_scores_communication                     606\n",
       "review_scores_location                          606\n",
       "review_scores_value                             606\n",
       "instant_bookable                                  0\n",
       "calculated_host_listings_count                    0\n",
       "calculated_host_listings_count_entire_homes       0\n",
       "calculated_host_listings_count_private_rooms      0\n",
       "calculated_host_listings_count_shared_rooms       0\n",
       "reviews_per_month                               588\n",
       "dtype: int64"
      ]
     },
     "execution_count": 15,
     "metadata": {},
     "output_type": "execute_result"
    }
   ],
   "source": [
    "lip.isna().sum()\n",
    "# in a second step, remove columns with no entries = neighbourhood_group_cleansed, bathrooms (!!), and license. \n",
    "# Are they all private?\n",
    "# in a third step, remove columns with more than around 50% missing values \n",
    "# like neighborhood_overview, host_about, neighbourhood\n",
    "# rows removal: later"
   ]
  },
  {
   "cell_type": "code",
   "execution_count": 16,
   "id": "bc810f2f-5671-4447-9196-b4c9cf9f08b3",
   "metadata": {
    "tags": []
   },
   "outputs": [
    {
     "name": "stdout",
     "output_type": "stream",
     "text": [
      "<class 'pandas.core.frame.DataFrame'>\n",
      "RangeIndex: 3339 entries, 0 to 3338\n",
      "Data columns (total 41 columns):\n",
      " #   Column                                        Non-Null Count  Dtype  \n",
      "---  ------                                        --------------  -----  \n",
      " 0   id                                            3339 non-null   int64  \n",
      " 1   name                                          3337 non-null   object \n",
      " 2   description                                   3234 non-null   object \n",
      " 3   host_id                                       3339 non-null   int64  \n",
      " 4   host_name                                     3339 non-null   object \n",
      " 5   host_since                                    3339 non-null   object \n",
      " 6   host_location                                 2747 non-null   object \n",
      " 7   host_acceptance_rate                          2812 non-null   object \n",
      " 8   host_listings_count                           3339 non-null   int64  \n",
      " 9   host_total_listings_count                     3339 non-null   int64  \n",
      " 10  host_verifications                            3339 non-null   object \n",
      " 11  host_identity_verified                        3339 non-null   object \n",
      " 12  neighbourhood_cleansed                        3339 non-null   object \n",
      " 13  latitude                                      3339 non-null   float64\n",
      " 14  longitude                                     3339 non-null   float64\n",
      " 15  property_type                                 3339 non-null   object \n",
      " 16  room_type                                     3339 non-null   object \n",
      " 17  accommodates                                  3339 non-null   int64  \n",
      " 18  bathrooms_text                                3325 non-null   object \n",
      " 19  bedrooms                                      3067 non-null   float64\n",
      " 20  beds                                          3286 non-null   float64\n",
      " 21  amenities                                     3339 non-null   object \n",
      " 22  price                                         3339 non-null   object \n",
      " 23  minimum_nights                                3339 non-null   int64  \n",
      " 24  maximum_nights                                3339 non-null   int64  \n",
      " 25  has_availability                              3339 non-null   object \n",
      " 26  number_of_reviews                             3339 non-null   int64  \n",
      " 27  number_of_reviews_ltm                         3339 non-null   int64  \n",
      " 28  number_of_reviews_l30d                        3339 non-null   int64  \n",
      " 29  review_scores_rating                          2751 non-null   float64\n",
      " 30  review_scores_accuracy                        2733 non-null   float64\n",
      " 31  review_scores_cleanliness                     2733 non-null   float64\n",
      " 32  review_scores_communication                   2733 non-null   float64\n",
      " 33  review_scores_location                        2733 non-null   float64\n",
      " 34  review_scores_value                           2733 non-null   float64\n",
      " 35  instant_bookable                              3339 non-null   object \n",
      " 36  calculated_host_listings_count                3339 non-null   int64  \n",
      " 37  calculated_host_listings_count_entire_homes   3339 non-null   int64  \n",
      " 38  calculated_host_listings_count_private_rooms  3339 non-null   int64  \n",
      " 39  calculated_host_listings_count_shared_rooms   3339 non-null   int64  \n",
      " 40  reviews_per_month                             2751 non-null   float64\n",
      "dtypes: float64(11), int64(14), object(16)\n",
      "memory usage: 1.0+ MB\n"
     ]
    }
   ],
   "source": [
    "lip.info()"
   ]
  },
  {
   "cell_type": "code",
   "execution_count": 17,
   "id": "83fe8d09-2cad-4ac2-bc75-7c20db23f95d",
   "metadata": {},
   "outputs": [],
   "source": [
    "# skewness, centrality and spread: calculated_host_listings_count, share room types\n",
    "# minimum_nights, maximum_nights, has_availability and instant bookable, reviews"
   ]
  },
  {
   "cell_type": "code",
   "execution_count": 18,
   "id": "927b6cd7-2912-4474-81e5-00ad3f8e809e",
   "metadata": {
    "tags": []
   },
   "outputs": [
    {
     "data": {
      "text/plain": [
       "0       1\n",
       "1       2\n",
       "2       1\n",
       "3       1\n",
       "4       1\n",
       "       ..\n",
       "3334    1\n",
       "3335    1\n",
       "3336    1\n",
       "3337    1\n",
       "3338    4\n",
       "Name: calculated_host_listings_count, Length: 3339, dtype: int64"
      ]
     },
     "execution_count": 18,
     "metadata": {},
     "output_type": "execute_result"
    }
   ],
   "source": [
    "#1: host listings\n",
    "\n",
    "li.calculated_host_listings_count"
   ]
  },
  {
   "cell_type": "code",
   "execution_count": 19,
   "id": "db92640a-b3b7-4880-8da8-8ac886d11263",
   "metadata": {
    "tags": []
   },
   "outputs": [
    {
     "data": {
      "text/html": [
       "<div>\n",
       "<style scoped>\n",
       "    .dataframe tbody tr th:only-of-type {\n",
       "        vertical-align: middle;\n",
       "    }\n",
       "\n",
       "    .dataframe tbody tr th {\n",
       "        vertical-align: top;\n",
       "    }\n",
       "\n",
       "    .dataframe thead th {\n",
       "        text-align: right;\n",
       "    }\n",
       "</style>\n",
       "<table border=\"1\" class=\"dataframe\">\n",
       "  <thead>\n",
       "    <tr style=\"text-align: right;\">\n",
       "      <th></th>\n",
       "      <th>id</th>\n",
       "      <th>host_id</th>\n",
       "      <th>name</th>\n",
       "    </tr>\n",
       "  </thead>\n",
       "  <tbody>\n",
       "    <tr>\n",
       "      <th>3333</th>\n",
       "      <td>791041859220768353</td>\n",
       "      <td>492963558</td>\n",
       "      <td>Cozy apartment in Stockholm</td>\n",
       "    </tr>\n",
       "  </tbody>\n",
       "</table>\n",
       "</div>"
      ],
      "text/plain": [
       "                      id    host_id                         name\n",
       "3333  791041859220768353  492963558  Cozy apartment in Stockholm"
      ]
     },
     "execution_count": 19,
     "metadata": {},
     "output_type": "execute_result"
    }
   ],
   "source": [
    "li[['id', 'host_id', 'name']].loc[li['host_id'] == 492963558]"
   ]
  },
  {
   "cell_type": "code",
   "execution_count": 20,
   "id": "bb0a85fe-02c5-4e55-9f6c-8326d8f2c14a",
   "metadata": {
    "tags": []
   },
   "outputs": [
    {
     "data": {
      "text/plain": [
       "host_id\n",
       "22876006     65\n",
       "60382478     38\n",
       "311778372    23\n",
       "1027549      21\n",
       "259629999    21\n",
       "             ..\n",
       "35847610      1\n",
       "1911015       1\n",
       "110468426     1\n",
       "82902785      1\n",
       "348391808     1\n",
       "Name: count, Length: 2669, dtype: int64"
      ]
     },
     "execution_count": 20,
     "metadata": {},
     "output_type": "execute_result"
    }
   ],
   "source": [
    "li.host_id.value_counts(sort=True)"
   ]
  },
  {
   "cell_type": "code",
   "execution_count": 21,
   "id": "dc54a029-3f32-4ceb-bb75-e4cb5c18b43e",
   "metadata": {
    "tags": []
   },
   "outputs": [
    {
     "data": {
      "text/plain": [
       "<Axes: >"
      ]
     },
     "execution_count": 21,
     "metadata": {},
     "output_type": "execute_result"
    },
    {
     "data": {
      "image/png": "[encoded data removed]",
      "text/plain": [
       "<Figure size 640x480 with 1 Axes>"
      ]
     },
     "metadata": {},
     "output_type": "display_data"
    }
   ],
   "source": [
    "lip[\"calculated_host_listings_count\"].hist(bins=65)"
   ]
  },
  {
   "cell_type": "code",
   "execution_count": 22,
   "id": "3bf7e38c-09f5-44c3-ba80-fd109f4ade96",
   "metadata": {
    "tags": []
   },
   "outputs": [],
   "source": [
    "#2: share room type"
   ]
  },
  {
   "cell_type": "code",
   "execution_count": 23,
   "id": "2560bbb3-6f2c-4781-b2ea-d5d9a9512344",
   "metadata": {
    "tags": []
   },
   "outputs": [
    {
     "data": {
      "text/plain": [
       "13621"
      ]
     },
     "execution_count": 23,
     "metadata": {},
     "output_type": "execute_result"
    }
   ],
   "source": [
    "lip.calculated_host_listings_count.sum()"
   ]
  },
  {
   "cell_type": "code",
   "execution_count": 24,
   "id": "a3d4d6cc-aa6b-419a-b148-380d1585310b",
   "metadata": {
    "tags": []
   },
   "outputs": [
    {
     "data": {
      "text/plain": [
       "13158"
      ]
     },
     "execution_count": 24,
     "metadata": {},
     "output_type": "execute_result"
    }
   ],
   "source": [
    "sum = lip.calculated_host_listings_count_entire_homes.sum() + lip.calculated_host_listings_count_private_rooms.sum() + lip.calculated_host_listings_count_shared_rooms.sum()\n",
    "sum"
   ]
  },
  {
   "cell_type": "code",
   "execution_count": 25,
   "id": "94bf6bfc-cec8-4607-8732-b683d5b73790",
   "metadata": {
    "tags": []
   },
   "outputs": [
    {
     "data": {
      "text/plain": [
       "11593"
      ]
     },
     "execution_count": 25,
     "metadata": {},
     "output_type": "execute_result"
    }
   ],
   "source": [
    "lip.calculated_host_listings_count_entire_homes.sum()"
   ]
  },
  {
   "cell_type": "code",
   "execution_count": 26,
   "id": "54339453-98ff-4f98-8ec2-7863063b4c40",
   "metadata": {
    "tags": []
   },
   "outputs": [
    {
     "data": {
      "text/plain": [
       "1440"
      ]
     },
     "execution_count": 26,
     "metadata": {},
     "output_type": "execute_result"
    }
   ],
   "source": [
    "lip.calculated_host_listings_count_private_rooms.sum()"
   ]
  },
  {
   "cell_type": "code",
   "execution_count": 27,
   "id": "940ada20-28c5-4b15-9d96-8607fd34b1a4",
   "metadata": {
    "tags": []
   },
   "outputs": [
    {
     "data": {
      "text/plain": [
       "125"
      ]
     },
     "execution_count": 27,
     "metadata": {},
     "output_type": "execute_result"
    }
   ],
   "source": [
    "lip.calculated_host_listings_count_shared_rooms.sum()"
   ]
  },
  {
   "cell_type": "code",
   "execution_count": 28,
   "id": "db055fd6-f2c8-43c9-8cd0-619dc8b2291c",
   "metadata": {
    "tags": []
   },
   "outputs": [
    {
     "data": {
      "text/plain": [
       "463"
      ]
     },
     "execution_count": 28,
     "metadata": {},
     "output_type": "execute_result"
    }
   ],
   "source": [
    "lip.calculated_host_listings_count.sum() - sum"
   ]
  },
  {
   "cell_type": "code",
   "execution_count": 57,
   "id": "0c2f96bc-9c85-43d9-8890-f288495bf653",
   "metadata": {
    "tags": []
   },
   "outputs": [],
   "source": [
    "rest = lip.calculated_host_listings_count.sum() - sum"
   ]
  },
  {
   "cell_type": "code",
   "execution_count": 29,
   "id": "67fbce32-7f44-4163-8e2c-775980ce9ef3",
   "metadata": {},
   "outputs": [],
   "source": [
    "# ??? check later"
   ]
  },
  {
   "cell_type": "code",
   "execution_count": 30,
   "id": "221c9286-1997-4a0f-9a63-6b80a53568e5",
   "metadata": {
    "tags": []
   },
   "outputs": [
    {
     "data": {
      "text/plain": [
       "array(['Entire rental unit', 'Private room in rental unit',\n",
       "       'Entire condo', 'Shared room in rental unit',\n",
       "       'Private room in home', 'Private room in loft', 'Entire townhouse',\n",
       "       'Private room in townhouse', 'Entire home', 'Entire villa',\n",
       "       'Entire loft', 'Private room in condo', 'Entire guesthouse',\n",
       "       'Private room in villa', 'Private room in bed and breakfast',\n",
       "       'Private room in guesthouse', 'Entire cabin',\n",
       "       'Entire serviced apartment', 'Entire guest suite',\n",
       "       'Shared room in hostel', 'Private room in guest suite',\n",
       "       'Room in hotel', 'Shared room in home', 'Farm stay',\n",
       "       'Room in boutique hotel', 'Entire cottage',\n",
       "       'Room in serviced apartment', 'Tiny home',\n",
       "       'Private room in hostel', 'Shared room in cabin', 'Boat',\n",
       "       'Private room in boat', 'Entire in-law', 'Entire vacation home',\n",
       "       'Room in hostel', 'Shared room in condo', 'Room in aparthotel',\n",
       "       'Shared room in bed and breakfast', 'Casa particular',\n",
       "       'Private room in houseboat', 'Shared room in guesthouse',\n",
       "       'Private room in serviced apartment', 'Entire place',\n",
       "       'Private room in vacation home', 'Private room', 'Dome'],\n",
       "      dtype=object)"
      ]
     },
     "execution_count": 30,
     "metadata": {},
     "output_type": "execute_result"
    }
   ],
   "source": [
    "lip.property_type.unique()"
   ]
  },
  {
   "cell_type": "code",
   "execution_count": 31,
   "id": "da15cac8-f684-4df5-bc87-df961aa547a0",
   "metadata": {
    "tags": []
   },
   "outputs": [
    {
     "data": {
      "text/plain": [
       "array([ 2.,  1.,  3.,  4., nan,  6.,  5., 12.])"
      ]
     },
     "execution_count": 31,
     "metadata": {},
     "output_type": "execute_result"
    }
   ],
   "source": [
    "lip.bedrooms.unique()"
   ]
  },
  {
   "cell_type": "code",
   "execution_count": 32,
   "id": "f89a7bba-3486-4bc7-93f2-5112e156929d",
   "metadata": {
    "tags": []
   },
   "outputs": [
    {
     "data": {
      "text/plain": [
       "array([ 1.,  2.,  4.,  3.,  6.,  5., nan, 10.,  8.,  7.,  9., 11., 20.,\n",
       "       14., 12., 22., 15.])"
      ]
     },
     "execution_count": 32,
     "metadata": {},
     "output_type": "execute_result"
    }
   ],
   "source": [
    "lip.beds.unique()"
   ]
  },
  {
   "cell_type": "code",
   "execution_count": 33,
   "id": "425239eb-3587-43ab-96f4-d7784e47edd3",
   "metadata": {
    "tags": []
   },
   "outputs": [
    {
     "name": "stdout",
     "output_type": "stream",
     "text": [
      "[1, 2, 3, 4, 5, 6, 7, 8, 9, 10, 11, 12, 13, 14, 15, 18, 20, 21, 22, 25, 27, 28, 29, 30, 31, 34, 40, 48, 50, 56, 60, 70, 72, 89, 90, 92, 100, 110, 120, 129, 150, 180, 200, 205, 240, 270, 300, 301, 365, 500]\n"
     ]
    }
   ],
   "source": [
    "minu = lip.minimum_nights.unique()\n",
    "print(sorted(minu))"
   ]
  },
  {
   "cell_type": "code",
   "execution_count": 34,
   "id": "f584da90-b45a-439c-89f4-29ec13945d3f",
   "metadata": {
    "tags": []
   },
   "outputs": [
    {
     "name": "stdout",
     "output_type": "stream",
     "text": [
      "[1, 2, 3, 4, 5, 6, 7, 8, 9, 10, 11, 12, 13, 14, 15, 16, 17, 18, 19, 20, 21, 22, 24, 25, 26, 27, 28, 29, 30, 31, 32, 33, 34, 35, 36, 38, 40, 41, 45, 50, 54, 56, 58, 59, 60, 61, 62, 64, 65, 70, 75, 77, 80, 84, 87, 90, 91, 93, 95, 98, 100, 104, 111, 120, 123, 125, 130, 135, 138, 140, 144, 150, 155, 160, 161, 170, 173, 175, 180, 182, 183, 184, 187, 188, 190, 196, 198, 199, 200, 205, 208, 211, 213, 214, 216, 220, 222, 223, 224, 225, 227, 228, 230, 235, 239, 240, 241, 253, 256, 259, 261, 271, 275, 276, 279, 290, 297, 298, 300, 302, 309, 317, 322, 325, 335, 340, 346, 352, 356, 360, 362, 363, 364, 365, 366, 370, 380, 400, 500, 700, 730, 999, 1000, 1095, 1124, 1125]\n"
     ]
    }
   ],
   "source": [
    "manu = lip.maximum_nights.unique()\n",
    "print(sorted(manu))"
   ]
  },
  {
   "cell_type": "code",
   "execution_count": 35,
   "id": "fcae09e3-4a10-4789-ab4f-eb011175c84d",
   "metadata": {
    "tags": []
   },
   "outputs": [
    {
     "name": "stdout",
     "output_type": "stream",
     "text": [
      "['Bromma', 'Enskede-Årsta-Vantörs', 'Farsta', 'Hägersten-Liljeholmens', 'Hässelby-Vällingby', 'Kungsholmens', 'Norrmalms', 'Rinkeby-Tensta', 'Skarpnäcks', 'Skärholmens', 'Spånga-Tensta', 'Södermalms', 'Älvsjö', 'Östermalms']\n"
     ]
    }
   ],
   "source": [
    "nc = lip.neighbourhood_cleansed.unique()\n",
    "print(sorted(nc))"
   ]
  },
  {
   "cell_type": "code",
   "execution_count": 36,
   "id": "89f66468-50be-43ed-aff9-3288a6feb11f",
   "metadata": {
    "tags": []
   },
   "outputs": [
    {
     "data": {
      "text/plain": [
       "neighbourhood_cleansed\n",
       "Södermalms                960\n",
       "Norrmalms                 359\n",
       "Kungsholmens              343\n",
       "Hägersten-Liljeholmens    311\n",
       "Enskede-Årsta-Vantörs     281\n",
       "Östermalms                231\n",
       "Bromma                    188\n",
       "Skarpnäcks                174\n",
       "Hässelby-Vällingby        120\n",
       "Älvsjö                    107\n",
       "Farsta                    103\n",
       "Rinkeby-Tensta             71\n",
       "Spånga-Tensta              50\n",
       "Skärholmens                41\n",
       "Name: count, dtype: int64"
      ]
     },
     "execution_count": 36,
     "metadata": {},
     "output_type": "execute_result"
    }
   ],
   "source": [
    "lip[\"neighbourhood_cleansed\"].value_counts()"
   ]
  },
  {
   "cell_type": "code",
   "execution_count": 37,
   "id": "2137cc7e-4a80-444a-b95a-5c8491daa987",
   "metadata": {
    "tags": []
   },
   "outputs": [
    {
     "data": {
      "text/plain": [
       "has_availability\n",
       "t    0.980833\n",
       "f    0.019167\n",
       "Name: proportion, dtype: float64"
      ]
     },
     "execution_count": 37,
     "metadata": {},
     "output_type": "execute_result"
    }
   ],
   "source": [
    "lip[\"has_availability\"].value_counts(normalize = True)"
   ]
  },
  {
   "cell_type": "code",
   "execution_count": 38,
   "id": "e663d451-3720-4a89-9c68-f1792b2ac5d8",
   "metadata": {
    "tags": []
   },
   "outputs": [
    {
     "data": {
      "text/plain": [
       "instant_bookable\n",
       "f    0.803235\n",
       "t    0.196765\n",
       "Name: proportion, dtype: float64"
      ]
     },
     "execution_count": 38,
     "metadata": {},
     "output_type": "execute_result"
    }
   ],
   "source": [
    "lip[\"instant_bookable\"].value_counts(normalize = True)"
   ]
  },
  {
   "cell_type": "code",
   "execution_count": 39,
   "id": "120ebed2-843f-4926-bc1b-108a6afef660",
   "metadata": {
    "tags": []
   },
   "outputs": [
    {
     "ename": "SyntaxError",
     "evalue": "invalid syntax (2176252606.py, line 2)",
     "output_type": "error",
     "traceback": [
      "\u001b[0;36m  Cell \u001b[0;32mIn[39], line 2\u001b[0;36m\u001b[0m\n\u001b[0;31m    number_of_reviews                             3339 non-null   int64\u001b[0m\n\u001b[0m                                                  ^\u001b[0m\n\u001b[0;31mSyntaxError\u001b[0m\u001b[0;31m:\u001b[0m invalid syntax\n"
     ]
    }
   ],
   "source": [
    "# reviews\n",
    "number_of_reviews                             3339 non-null   int64  \n",
    "number_of_reviews_ltm                         3339 non-null   int64  \n",
    "number_of_reviews_l30d                        3339 non-null   int64  \n",
    "review_scores_rating                          2751 non-null   float64\n",
    "review_scores_accuracy                        2733 non-null   float64\n",
    "review_scores_cleanliness                     2733 non-null   float64\n",
    "review_scores_communication                   2733 non-null   float64\n",
    "review_scores_location                        2733 non-null   float64\n",
    "review_scores_value      "
   ]
  },
  {
   "cell_type": "code",
   "execution_count": null,
   "id": "cfb45b98-5b8f-4405-85ac-44fba8a061f3",
   "metadata": {
    "tags": []
   },
   "outputs": [],
   "source": [
    "norn = lip.number_of_reviews.nunique()\n",
    "norn "
   ]
  },
  {
   "cell_type": "code",
   "execution_count": null,
   "id": "66de34be-1427-4274-a97f-cf39a50b2e45",
   "metadata": {
    "tags": []
   },
   "outputs": [],
   "source": [
    "noru = lip.number_of_reviews.unique()\n",
    "print(sorted(noru))"
   ]
  },
  {
   "cell_type": "code",
   "execution_count": null,
   "id": "a407995e-d94c-4082-a05e-094c46e3e9e4",
   "metadata": {
    "tags": []
   },
   "outputs": [],
   "source": [
    "lip.number_of_reviews.sum()"
   ]
  },
  {
   "cell_type": "code",
   "execution_count": null,
   "id": "4d0d506c-5c1c-48ac-8c15-7d0b8f35ded0",
   "metadata": {
    "tags": []
   },
   "outputs": [],
   "source": [
    "lip.number_of_reviews_ltm.sum()"
   ]
  },
  {
   "cell_type": "code",
   "execution_count": null,
   "id": "ca2761a5-33de-4416-b118-14d9704ad007",
   "metadata": {
    "tags": []
   },
   "outputs": [],
   "source": [
    "lip.number_of_reviews_l30d.sum()"
   ]
  },
  {
   "cell_type": "code",
   "execution_count": null,
   "id": "5c5889d4-7ec4-459c-be3e-070a0b3fd3b5",
   "metadata": {
    "tags": []
   },
   "outputs": [],
   "source": [
    "x = 91446 / 29491\n",
    "y = 29491 / 1730\n",
    "print(x, y)\n",
    "# Stockholm probably not very hip but getting better quite fast?\n",
    "# alternatively scraping before season starts"
   ]
  },
  {
   "cell_type": "code",
   "execution_count": null,
   "id": "819c58df-289a-4211-840b-ad1172b4b3b7",
   "metadata": {},
   "outputs": [],
   "source": [
    "# reviews 2\n",
    "review_scores_rating                          2751 non-null   float64\n",
    "review_scores_accuracy                        2733 non-null   float64\n",
    "review_scores_cleanliness                     2733 non-null   float64\n",
    "review_scores_communication                   2733 non-null   float64\n",
    "review_scores_location                        2733 non-null   float64\n",
    "review_scores_value      "
   ]
  },
  {
   "cell_type": "code",
   "execution_count": null,
   "id": "162c2afe-9a9f-4adf-a7e3-f9f1f88d3566",
   "metadata": {
    "tags": []
   },
   "outputs": [],
   "source": [
    "lip.review_scores_rating.describe()\n",
    "\n",
    "# outliers to the right > rated better (a little bit)\n",
    "# like all review types have that"
   ]
  },
  {
   "cell_type": "code",
   "execution_count": 40,
   "id": "b56e14fc-3b7d-4862-9d2b-964d18719426",
   "metadata": {
    "tags": []
   },
   "outputs": [
    {
     "data": {
      "text/plain": [
       "<seaborn.axisgrid.FacetGrid at 0x1636ad520>"
      ]
     },
     "execution_count": 40,
     "metadata": {},
     "output_type": "execute_result"
    },
    {
     "data": {
      "image/png": "[encoded data removed]",
      "text/plain": [
       "<Figure size 500x500 with 1 Axes>"
      ]
     },
     "metadata": {},
     "output_type": "display_data"
    }
   ],
   "source": [
    "sns.displot(lip, x=\"review_scores_rating\", bins=20)"
   ]
  },
  {
   "cell_type": "code",
   "execution_count": 41,
   "id": "270242b5-a804-48ef-8dbb-026419979991",
   "metadata": {
    "tags": []
   },
   "outputs": [
    {
     "data": {
      "text/plain": [
       "count    2733.000000\n",
       "mean        4.805960\n",
       "std         0.341047\n",
       "min         1.000000\n",
       "25%         4.750000\n",
       "50%         4.910000\n",
       "75%         5.000000\n",
       "max         5.000000\n",
       "Name: review_scores_accuracy, dtype: float64"
      ]
     },
     "execution_count": 41,
     "metadata": {},
     "output_type": "execute_result"
    }
   ],
   "source": [
    "lip.review_scores_accuracy.describe()"
   ]
  },
  {
   "cell_type": "code",
   "execution_count": 42,
   "id": "11f581fe-45f4-4746-ac54-cd6a202a601f",
   "metadata": {
    "tags": []
   },
   "outputs": [
    {
     "data": {
      "text/plain": [
       "<seaborn.axisgrid.FacetGrid at 0x1636af6d0>"
      ]
     },
     "execution_count": 42,
     "metadata": {},
     "output_type": "execute_result"
    },
    {
     "data": {
      "image/png": "[encoded data removed]",
      "text/plain": [
       "<Figure size 500x500 with 1 Axes>"
      ]
     },
     "metadata": {},
     "output_type": "display_data"
    }
   ],
   "source": [
    "sns.displot(lip, x=\"review_scores_accuracy\", bins=20)"
   ]
  },
  {
   "cell_type": "code",
   "execution_count": 43,
   "id": "d71bbc40-d755-452a-8cd6-7965c979464d",
   "metadata": {
    "tags": []
   },
   "outputs": [
    {
     "data": {
      "text/plain": [
       "count    2733.00000\n",
       "mean        4.73311\n",
       "std         0.40777\n",
       "min         1.00000\n",
       "25%         4.67000\n",
       "50%         4.86000\n",
       "75%         5.00000\n",
       "max         5.00000\n",
       "Name: review_scores_cleanliness, dtype: float64"
      ]
     },
     "execution_count": 43,
     "metadata": {},
     "output_type": "execute_result"
    }
   ],
   "source": [
    "lip.review_scores_cleanliness.describe()"
   ]
  },
  {
   "cell_type": "code",
   "execution_count": 44,
   "id": "ce32f6ee-7dfb-4867-93bc-cea29fa0df19",
   "metadata": {
    "tags": []
   },
   "outputs": [
    {
     "data": {
      "text/plain": [
       "count    2733.000000\n",
       "mean        4.857720\n",
       "std         0.323789\n",
       "min         1.000000\n",
       "25%         4.850000\n",
       "50%         4.980000\n",
       "75%         5.000000\n",
       "max         5.000000\n",
       "Name: review_scores_communication, dtype: float64"
      ]
     },
     "execution_count": 44,
     "metadata": {},
     "output_type": "execute_result"
    }
   ],
   "source": [
    "lip.review_scores_communication.describe()"
   ]
  },
  {
   "cell_type": "code",
   "execution_count": 45,
   "id": "be982adc-4703-463a-8ac3-bb84bb3cee6a",
   "metadata": {
    "tags": []
   },
   "outputs": [
    {
     "data": {
      "text/plain": [
       "count    2733.000000\n",
       "mean        4.793882\n",
       "std         0.322909\n",
       "min         1.000000\n",
       "25%         4.710000\n",
       "50%         4.890000\n",
       "75%         5.000000\n",
       "max         5.000000\n",
       "Name: review_scores_location, dtype: float64"
      ]
     },
     "execution_count": 45,
     "metadata": {},
     "output_type": "execute_result"
    }
   ],
   "source": [
    "lip.review_scores_location.describe()"
   ]
  },
  {
   "cell_type": "code",
   "execution_count": 46,
   "id": "5103fed3-c81c-4df8-802a-c9950de70fe3",
   "metadata": {
    "tags": []
   },
   "outputs": [
    {
     "data": {
      "text/plain": [
       "count    2733.000000\n",
       "mean        4.711965\n",
       "std         0.360283\n",
       "min         1.000000\n",
       "25%         4.610000\n",
       "50%         4.790000\n",
       "75%         5.000000\n",
       "max         5.000000\n",
       "Name: review_scores_value, dtype: float64"
      ]
     },
     "execution_count": 46,
     "metadata": {},
     "output_type": "execute_result"
    }
   ],
   "source": [
    "lip.review_scores_value.describe()"
   ]
  },
  {
   "cell_type": "code",
   "execution_count": null,
   "id": "038a6049-bf57-453f-a2bb-5c6e8217a08a",
   "metadata": {
    "tags": []
   },
   "outputs": [],
   "source": [
    "# price column"
   ]
  },
  {
   "cell_type": "code",
   "execution_count": 47,
   "id": "40fc2877-82d0-4249-89d8-4f7b448eea30",
   "metadata": {
    "tags": []
   },
   "outputs": [
    {
     "data": {
      "text/plain": [
       "0      $949.00\n",
       "1      $864.00\n",
       "2    $1,055.00\n",
       "3      $669.00\n",
       "4      $829.00\n",
       "Name: price, dtype: object"
      ]
     },
     "execution_count": 47,
     "metadata": {},
     "output_type": "execute_result"
    }
   ],
   "source": [
    "lip.price.head()"
   ]
  },
  {
   "cell_type": "code",
   "execution_count": 48,
   "id": "997909c9-04ce-4dd6-a447-b9d576255477",
   "metadata": {
    "tags": []
   },
   "outputs": [
    {
     "name": "stderr",
     "output_type": "stream",
     "text": [
      "/var/folders/vd/9315q_t551sdxxzmd737zk9c0000gn/T/ipykernel_55917/4017340457.py:1: SettingWithCopyWarning: \n",
      "A value is trying to be set on a copy of a slice from a DataFrame.\n",
      "Try using .loc[row_indexer,col_indexer] = value instead\n",
      "\n",
      "See the caveats in the documentation: https://pandas.pydata.org/pandas-docs/stable/user_guide/indexing.html#returning-a-view-versus-a-copy\n",
      "  lip.price = lip.price.str.replace('$', '')\n",
      "/var/folders/vd/9315q_t551sdxxzmd737zk9c0000gn/T/ipykernel_55917/4017340457.py:2: SettingWithCopyWarning: \n",
      "A value is trying to be set on a copy of a slice from a DataFrame.\n",
      "Try using .loc[row_indexer,col_indexer] = value instead\n",
      "\n",
      "See the caveats in the documentation: https://pandas.pydata.org/pandas-docs/stable/user_guide/indexing.html#returning-a-view-versus-a-copy\n",
      "  lip.price = lip.price.str.replace(',', '')\n"
     ]
    },
    {
     "data": {
      "text/plain": [
       "0     949.00\n",
       "1     864.00\n",
       "2    1055.00\n",
       "3     669.00\n",
       "4     829.00\n",
       "Name: price, dtype: object"
      ]
     },
     "execution_count": 48,
     "metadata": {},
     "output_type": "execute_result"
    }
   ],
   "source": [
    "lip.price = lip.price.str.replace('$', '')\n",
    "lip.price = lip.price.str.replace(',', '')\n",
    "lip.price.head()"
   ]
  },
  {
   "cell_type": "code",
   "execution_count": 49,
   "id": "a83aba61-e07f-4056-b4f1-223cfba46afa",
   "metadata": {
    "tags": []
   },
   "outputs": [
    {
     "name": "stderr",
     "output_type": "stream",
     "text": [
      "/var/folders/vd/9315q_t551sdxxzmd737zk9c0000gn/T/ipykernel_55917/3401650621.py:1: SettingWithCopyWarning: \n",
      "A value is trying to be set on a copy of a slice from a DataFrame.\n",
      "Try using .loc[row_indexer,col_indexer] = value instead\n",
      "\n",
      "See the caveats in the documentation: https://pandas.pydata.org/pandas-docs/stable/user_guide/indexing.html#returning-a-view-versus-a-copy\n",
      "  lip[\"price\"] = pd.to_numeric(lip.price, errors='coerce')\n"
     ]
    },
    {
     "data": {
      "text/plain": [
       "0     949.0\n",
       "1     864.0\n",
       "2    1055.0\n",
       "3     669.0\n",
       "4     829.0\n",
       "Name: price, dtype: float64"
      ]
     },
     "execution_count": 49,
     "metadata": {},
     "output_type": "execute_result"
    }
   ],
   "source": [
    "lip[\"price\"] = pd.to_numeric(lip.price, errors='coerce')\n",
    "lip.price.head()"
   ]
  },
  {
   "cell_type": "code",
   "execution_count": 50,
   "id": "d35ce5b7-d0b4-4a31-a1e8-b2734c70870c",
   "metadata": {
    "tags": []
   },
   "outputs": [
    {
     "data": {
      "text/plain": [
       "count      3339.000000\n",
       "mean       1917.096436\n",
       "std       16322.590282\n",
       "min           0.000000\n",
       "25%         700.000000\n",
       "50%        1072.000000\n",
       "75%        1650.000000\n",
       "max      672896.000000\n",
       "Name: price, dtype: float64"
      ]
     },
     "execution_count": 50,
     "metadata": {},
     "output_type": "execute_result"
    }
   ],
   "source": [
    "lip.price.describe()"
   ]
  },
  {
   "cell_type": "code",
   "execution_count": 51,
   "id": "dda7782f-529e-480e-80c7-7c6f8aeebbd0",
   "metadata": {
    "tags": []
   },
   "outputs": [
    {
     "data": {
      "text/plain": [
       "6309.999999999945"
      ]
     },
     "execution_count": 51,
     "metadata": {},
     "output_type": "execute_result"
    }
   ],
   "source": [
    "def pct99(column):\n",
    "    return column.quantile(0.99)\n",
    "lip.price.agg(pct99)"
   ]
  },
  {
   "cell_type": "code",
   "execution_count": 52,
   "id": "2ce1a47d-9023-4d2f-8615-97cf6add92f1",
   "metadata": {
    "tags": []
   },
   "outputs": [
    {
     "name": "stdout",
     "output_type": "stream",
     "text": [
      "2746      6000.0\n",
      "436       6500.0\n",
      "1730      6500.0\n",
      "445       6731.0\n",
      "527       6950.0\n",
      "1778      7000.0\n",
      "839       7400.0\n",
      "2224      7500.0\n",
      "2872      7893.0\n",
      "2652      7900.0\n",
      "1330      7950.0\n",
      "1215      8000.0\n",
      "96        8000.0\n",
      "258       8447.0\n",
      "989       8500.0\n",
      "3095     10000.0\n",
      "3134     10000.0\n",
      "263      10000.0\n",
      "2968     10000.0\n",
      "522      10000.0\n",
      "955      10000.0\n",
      "3005     12000.0\n",
      "3067     12000.0\n",
      "3011     15000.0\n",
      "3237     17304.0\n",
      "2316     17500.0\n",
      "2483     22995.0\n",
      "2484     22995.0\n",
      "2859     22995.0\n",
      "2783     30000.0\n",
      "2709     73033.0\n",
      "3274     99999.0\n",
      "754     411926.0\n",
      "2527    500550.0\n",
      "372     672896.0\n",
      "Name: price, dtype: float64\n"
     ]
    }
   ],
   "source": [
    "expensive = lip.sort_values('price').tail(35)\n",
    "print(expensive.price)"
   ]
  },
  {
   "cell_type": "code",
   "execution_count": null,
   "id": "ed73b767-4ced-4b5a-9240-91154189b2cf",
   "metadata": {},
   "outputs": [],
   "source": [
    "# data cleaning:\n",
    "# - 2 rows without \"name\"\n",
    "# - slicing the outliers in price"
   ]
  },
  {
   "cell_type": "code",
   "execution_count": 53,
   "id": "c7f71a56-a668-4535-967b-2fe746dcf186",
   "metadata": {
    "tags": []
   },
   "outputs": [],
   "source": [
    "lip = lip[lip['name'].notna()]"
   ]
  },
  {
   "cell_type": "code",
   "execution_count": 54,
   "id": "8f444f19-88ef-4af2-89b4-66949bb39390",
   "metadata": {
    "tags": []
   },
   "outputs": [
    {
     "data": {
      "text/plain": [
       "id                                                0\n",
       "name                                              0\n",
       "description                                     105\n",
       "host_id                                           0\n",
       "host_name                                         0\n",
       "host_since                                        0\n",
       "host_location                                   591\n",
       "host_acceptance_rate                            526\n",
       "host_listings_count                               0\n",
       "host_total_listings_count                         0\n",
       "host_verifications                                0\n",
       "host_identity_verified                            0\n",
       "neighbourhood_cleansed                            0\n",
       "latitude                                          0\n",
       "longitude                                         0\n",
       "property_type                                     0\n",
       "room_type                                         0\n",
       "accommodates                                      0\n",
       "bathrooms_text                                   14\n",
       "bedrooms                                        272\n",
       "beds                                             53\n",
       "amenities                                         0\n",
       "price                                             0\n",
       "minimum_nights                                    0\n",
       "maximum_nights                                    0\n",
       "has_availability                                  0\n",
       "number_of_reviews                                 0\n",
       "number_of_reviews_ltm                             0\n",
       "number_of_reviews_l30d                            0\n",
       "review_scores_rating                            587\n",
       "review_scores_accuracy                          605\n",
       "review_scores_cleanliness                       605\n",
       "review_scores_communication                     605\n",
       "review_scores_location                          605\n",
       "review_scores_value                             605\n",
       "instant_bookable                                  0\n",
       "calculated_host_listings_count                    0\n",
       "calculated_host_listings_count_entire_homes       0\n",
       "calculated_host_listings_count_private_rooms      0\n",
       "calculated_host_listings_count_shared_rooms       0\n",
       "reviews_per_month                               587\n",
       "dtype: int64"
      ]
     },
     "execution_count": 54,
     "metadata": {},
     "output_type": "execute_result"
    }
   ],
   "source": [
    "lip.isna().sum()"
   ]
  },
  {
   "cell_type": "code",
   "execution_count": 55,
   "id": "c5f9ffd2-5176-4e75-b8d2-d788f455d246",
   "metadata": {},
   "outputs": [],
   "source": [
    "expensive = lip.sort_values('price').tail(35)"
   ]
  },
  {
   "cell_type": "code",
   "execution_count": 56,
   "id": "23251383-8e53-41d3-ac28-55c4945a3683",
   "metadata": {
    "tags": []
   },
   "outputs": [
    {
     "data": {
      "text/plain": [
       "(3305, 41)"
      ]
     },
     "execution_count": 56,
     "metadata": {},
     "output_type": "execute_result"
    }
   ],
   "source": [
    "lipoe = lip.loc[(lip['price'] <= 6500)]\n",
    "lipoe.shape"
   ]
  },
  {
   "cell_type": "code",
   "execution_count": null,
   "id": "4269803d-4120-48c0-ac62-f6b50f0fd94e",
   "metadata": {},
   "outputs": [],
   "source": [
    "# CHECK for RELATIONSHIPS\n",
    "\n",
    "# most popular room type is the entire_home type with 85.11%.\n",
    "# relation to comparable hotel prices? \"normal\" rent? (little gap: no danger. the more the more dangerous)\n",
    "# most popular room type / neighborhoods?\n",
    "# avg price / room type, neighborhood?\n",
    "\n",
    "# price / review points...\n",
    "# price / equipment\n",
    "\n",
    "# avg booking periods\n",
    "# frequence of bookings\n",
    "# the more listings a host has the shorter are the stays\n",
    "# occupancy\n",
    "# add column: occupancy rate (days/year/no of requence of bookings?\n",
    "\n",
    "# ratio hosts/inhabitants of citiy (65/950.000)\n",
    "# ratio price m2 of airbnb / avg-m2-price of condo (114.000 skr) \n",
    "# avg monthly net income 32.650 skr pP"
   ]
  },
  {
   "cell_type": "code",
   "execution_count": 88,
   "id": "2e26689e-8026-4a3d-8767-ccfa1c4c0efa",
   "metadata": {
    "tags": []
   },
   "outputs": [],
   "source": [
    "# price differences between 3 accomodation categories"
   ]
  },
  {
   "cell_type": "code",
   "execution_count": 85,
   "id": "ccc3042b-a977-4b14-9e6b-55e31b1126e9",
   "metadata": {
    "tags": []
   },
   "outputs": [
    {
     "data": {
      "text/plain": [
       "1485.2061568119989"
      ]
     },
     "execution_count": 85,
     "metadata": {},
     "output_type": "execute_result"
    }
   ],
   "source": [
    "lip.groupby(\"calculated_host_listings_count_entire_homes\")[\"price\"].mean().mean()"
   ]
  },
  {
   "cell_type": "code",
   "execution_count": 86,
   "id": "3c0db040-5c0b-4f20-a033-2e85afc1a71e",
   "metadata": {
    "tags": []
   },
   "outputs": [
    {
     "data": {
      "text/plain": [
       "1439.584163074778"
      ]
     },
     "execution_count": 86,
     "metadata": {},
     "output_type": "execute_result"
    }
   ],
   "source": [
    "lip.groupby(\"calculated_host_listings_count_private_rooms\")[\"price\"].mean().mean()"
   ]
  },
  {
   "cell_type": "code",
   "execution_count": 87,
   "id": "9f378641-942b-4192-94fe-e784c0b5bdea",
   "metadata": {
    "tags": []
   },
   "outputs": [
    {
     "data": {
      "text/plain": [
       "928.6763504912135"
      ]
     },
     "execution_count": 87,
     "metadata": {},
     "output_type": "execute_result"
    }
   ],
   "source": [
    "lip.groupby(\"calculated_host_listings_count_shared_rooms\")[\"price\"].mean().mean()"
   ]
  },
  {
   "cell_type": "code",
   "execution_count": 96,
   "id": "4733d938-1517-4c35-a7dc-5408ac6ae6b2",
   "metadata": {
    "tags": []
   },
   "outputs": [
    {
     "ename": "SyntaxError",
     "evalue": "invalid syntax (2359603812.py, line 2)",
     "output_type": "error",
     "traceback": [
      "\u001b[0;36m  Cell \u001b[0;32mIn[96], line 2\u001b[0;36m\u001b[0m\n\u001b[0;31m    Södermalms                960 / 126.736 =\u001b[0m\n\u001b[0m                              ^\u001b[0m\n\u001b[0;31mSyntaxError\u001b[0m\u001b[0;31m:\u001b[0m invalid syntax\n"
     ]
    }
   ],
   "source": [
    "# Listings & Einwohner je Vorort (2014)\n",
    "#Södermalms                960 / 126.736\n",
    "#Norrmalms                 359 / 69.592\n",
    "#Kungsholmens              343 / 68.016\n",
    "#Hägersten-Liljeholmens    311 / 83.283\n",
    "#Enskede-Årsta-Vantörs     281 / 96.916\n",
    "#Östermalms                231 / 61.000\n",
    "#Bromma                    188 / 72.000\n",
    "#Skarpnäcks                174 / 45.340\n",
    "#Hässelby-Vällingby        120 / 71.042\n",
    "#Älvsjö                    107 / 27.500\n",
    "#Farsta                    103 / 55.300\n",
    "#Rinkeby-Tensta             71 / 46.000\n",
    "#Spånga-Tensta              50 / 38.082\n",
    "#Skärholmens                41 / 31.000"
   ]
  },
  {
   "cell_type": "code",
   "execution_count": 95,
   "id": "a0f2e13a-edf5-4eee-b028-258a2a397f2a",
   "metadata": {
    "tags": []
   },
   "outputs": [
    {
     "name": "stdout",
     "output_type": "stream",
     "text": [
      "0.13201666666666667 0.19384958217270196 0.19829737609329448 0.2677909967845659 0.3448967971530249 0.26406926406926406 0.3829787234042553 0.2605747126436782 0.5920166666666666 0.2570093457943925 0.5368932038834952 0.647887323943662 0.76164 0.7560975609756098\n"
     ]
    }
   ],
   "source": [
    "a = 126.736/960\n",
    "b = 69.592/359\n",
    "c = 68.016/343\n",
    "d = 83.283/311\n",
    "e = 96.916/281\n",
    "f = 61.000/231\n",
    "g = 72.000/188 \n",
    "i = 45.340/174\n",
    "j = 71.042/120\n",
    "k = 27.500/107\n",
    "l = 55.300/103\n",
    "m = 46.000/71\n",
    "n = 38.082/50\n",
    "o = 31.000/41\n",
    "print(a, b, c, d, e, f, g, i, j, k, l, m, n, o) "
   ]
  },
  {
   "cell_type": "code",
   "execution_count": null,
   "id": "3f6fc828-21ce-40ea-98cb-834ed4f068de",
   "metadata": {},
   "outputs": [],
   "source": []
  },
  {
   "cell_type": "code",
   "execution_count": null,
   "id": "37d4d02c-b562-4551-a782-ef067f395bc2",
   "metadata": {},
   "outputs": [],
   "source": []
  },
  {
   "cell_type": "code",
   "execution_count": null,
   "id": "36167465-3974-4c4a-a42d-1d590742d2e7",
   "metadata": {},
   "outputs": [],
   "source": []
  },
  {
   "cell_type": "code",
   "execution_count": null,
   "id": "caa96262-e9b6-44b5-b537-3dc78483bcc7",
   "metadata": {},
   "outputs": [],
   "source": []
  },
  {
   "cell_type": "code",
   "execution_count": null,
   "id": "e06d7868-e597-44b6-ac31-c597df98b88c",
   "metadata": {
    "tags": []
   },
   "outputs": [],
   "source": []
  },
  {
   "cell_type": "code",
   "execution_count": null,
   "id": "873169ce-9be8-4412-932d-d90a9ab3442c",
   "metadata": {
    "tags": []
   },
   "outputs": [],
   "source": [
    "pip install circlify"
   ]
  },
  {
   "cell_type": "code",
   "execution_count": null,
   "id": "9d7bce7e-ab8b-411a-96b9-9e8b8a3ffa12",
   "metadata": {
    "tags": []
   },
   "outputs": [],
   "source": [
    "import circlify\n",
    "# compute circle positions:\n",
    "circles = circlify.circlify(lip.host_total_listings_count.tolist(), \n",
    "                            show_enclosure=False, \n",
    "                            target_enclosure=circlify.Circle(x=0, y=0)\n",
    "                           )\n",
    "circles.reverse()\n"
   ]
  },
  {
   "cell_type": "code",
   "execution_count": 42,
   "id": "32948e03-defb-4f36-b894-ddc259073838",
   "metadata": {
    "tags": []
   },
   "outputs": [
    {
     "ename": "SyntaxError",
     "evalue": "invalid syntax (2091494087.py, line 3)",
     "output_type": "error",
     "traceback": [
      "\u001b[0;36m  Cell \u001b[0;32mIn[42], line 3\u001b[0;36m\u001b[0m\n\u001b[0;31m    lh = lip.host_id\u001b[0m\n\u001b[0m    ^\u001b[0m\n\u001b[0;31mSyntaxError\u001b[0m\u001b[0;31m:\u001b[0m invalid syntax\n"
     ]
    }
   ],
   "source": [
    "pal_ = list(sns.color_palette(palette='plasma_r',\n",
    "                              n_colors=len(lip.host_total_listings_count.as_hex())\n",
    "list_host = lip.host_id\n",
    "\n",
    "#create a laebls list for each bubble \n",
    "label = [i+'<br>'+str(j)+'<br>'+str(k)+'%' for i,j,k in zip(list_host,\n",
    "                                                            lip.host_id.value_counts(),\n",
    "                                                            lip.host_id.value_counts(normalize=True))]\n",
    "                             \n",
    "fig, ax = plt.subplots(figsize=(10,10), facecolor='white')\n",
    "ax.axis('off')\n",
    "lim = max(max(abs(circle.x)+circle.r, abs(circle.y)+circle.r,) for circle in circles)\n",
    "plt.xlim(-lim, lim)\n",
    "plt.ylim(-lim, lim)\n",
    "\n",
    "# print circles\n",
    "for circle, note, color in zip(circles, label, pal_):\n",
    "    x, y, r = circle\n",
    "    ax.add_patch(plt.Circle((x, y), r, alpha=1, color = color))\n",
    "    plt.annotate(note.replace('<br>','\\n'), (x,y), size=16, va='center', ha='center')\n",
    "plt.xticks([])\n",
    "plt.yticks([])\n",
    "plt.show()"
   ]
  },
  {
   "cell_type": "code",
   "execution_count": null,
   "id": "9dc6cef4-68ad-4541-ada1-4c3802b37138",
   "metadata": {},
   "outputs": [],
   "source": []
  }
 ],
 "metadata": {
  "kernelspec": {
   "display_name": "Python 3 (ipykernel)",
   "language": "python",
   "name": "python3"
  },
  "language_info": {
   "codemirror_mode": {
    "name": "ipython",
    "version": 3
   },
   "file_extension": ".py",
   "mimetype": "text/x-python",
   "name": "python",
   "nbconvert_exporter": "python",
   "pygments_lexer": "ipython3",
   "version": "3.9.8"
  }
 },
 "nbformat": 4,
 "nbformat_minor": 5
}
