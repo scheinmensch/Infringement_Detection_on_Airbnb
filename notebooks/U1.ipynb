{
 "cells": [
  {
   "cell_type": "code",
   "execution_count": 1,
   "id": "164bf4b8-e880-4532-82e0-6755560f8323",
   "metadata": {},
   "outputs": [],
   "source": [
    "# I N T R O D U C T I O N\n",
    "\n",
    "# This notebook covers the EDA of inside Airbnb´s data on Stockholm.\n",
    "# The two teammates also analyze two other European metropoles: Rome and Barcelona.\n",
    "\n",
    "# Airbnb is a plattform developed out of the couchsurfing movement and is open for commercial use.\n",
    "# Unfortunately, cities with a very tense housing market experienced a kind of misuse of airbnb:\n",
    "# Many properties have been bought specifically as short-term-rental investments, managed by agencies that have dozens of such properties.\n",
    "# The agencies act as broker and charge a commission from each booking. \n",
    "# This is critical because\n",
    "# - The mass subletting of housing at high prices for short stays is putting further pressure on the already tight housing market. \n",
    "# - Housing is becoming scarcer, rents are rising.\n",
    "# - Fewer taxes are being collected through tourism.\n",
    "# - Municipalities are losing control over the amount of tourism.\n",
    "# - Residents are annoyed by the many strangers coming in and out of their homes.\n",
    "\n",
    "# Airbnb does not assume any legal obligations so that some cities issued regulations.\n",
    "\n",
    "# Nevertheless, some infringements are visible and they are some kind of predictable if there are applicable laws as it is the case in Barcelona.\n",
    "\n",
    "# Stockholm did not release any regulations yet so that there are no infringements.\n",
    "# Therefore, this notebook provides\n",
    "\n",
    "# 1. an EDA, if there are some KPIs that may suggest a danger of missuse in an unregulated environment with no extremely tense housing market\n",
    "# 2. a short EDA in regards of pricing in Stockholm\n",
    "# 3. perhaps a model for price prediction based on Stockholm data\n",
    "\n",
    "# Data used in this project is taken from Inside Airbnb."
   ]
  },
  {
   "cell_type": "code",
   "execution_count": 2,
   "id": "166980c3-3a5a-48a1-bdf2-5eea648c09fa",
   "metadata": {},
   "outputs": [],
   "source": [
    "# EDA 1\n",
    "# Hypotheses: when are commercial hosts unhealthy for a public community?\n",
    "\n",
    "# Hosts with more than (?) properties.\n",
    "# Hosts with an occupancy rate significantly higher than 30%.\n",
    "# Hosts on more than two community which means that they manage more than their condo and one vacational place.\n",
    "# Hosts with less or equal to 3 nights minimum stay.\n",
    "# Hosts with an amount of reviews far over mean.\n",
    "# Hosts with an acceptance rate = 100%\n",
    "\n",
    "# let´s try if it is possible to filter the data after the EDA if the hypotheses remain ok.\n",
    "\n",
    "# In general, a certain desity of airbnb per area or inhabitants/area may indicate missuse."
   ]
  },
  {
   "cell_type": "code",
   "execution_count": 32,
   "id": "111cd2ae-528b-4a97-8ab5-e436e0019163",
   "metadata": {
    "tags": []
   },
   "outputs": [],
   "source": [
    "import pandas as pd\n",
    "import seaborn as sns\n",
    "import matplotlib.pyplot as plt\n",
    "import numpy as np\n",
    "c = ['#8e9aaf', '#cbc0d3', '#efd3d7', '#dee2ff', '#feeafa']\n",
    "plt.style.use('default')"
   ]
  },
  {
   "cell_type": "code",
   "execution_count": 4,
   "id": "ba47014e-5eb4-468f-890f-d504411eb7c4",
   "metadata": {},
   "outputs": [],
   "source": [
    "# getting a feeling for Stockholm's data"
   ]
  },
  {
   "cell_type": "code",
   "execution_count": 33,
   "id": "b03a68b4-43d5-4865-82f0-b63baed8b0b7",
   "metadata": {
    "tags": []
   },
   "outputs": [
    {
     "data": {
      "text/html": [
       "<div>\n",
       "<style scoped>\n",
       "    .dataframe tbody tr th:only-of-type {\n",
       "        vertical-align: middle;\n",
       "    }\n",
       "\n",
       "    .dataframe tbody tr th {\n",
       "        vertical-align: top;\n",
       "    }\n",
       "\n",
       "    .dataframe thead th {\n",
       "        text-align: right;\n",
       "    }\n",
       "</style>\n",
       "<table border=\"1\" class=\"dataframe\">\n",
       "  <thead>\n",
       "    <tr style=\"text-align: right;\">\n",
       "      <th></th>\n",
       "      <th>id</th>\n",
       "      <th>listing_url</th>\n",
       "      <th>scrape_id</th>\n",
       "      <th>last_scraped</th>\n",
       "      <th>source</th>\n",
       "      <th>name</th>\n",
       "      <th>description</th>\n",
       "      <th>neighborhood_overview</th>\n",
       "      <th>picture_url</th>\n",
       "      <th>host_id</th>\n",
       "      <th>...</th>\n",
       "      <th>review_scores_communication</th>\n",
       "      <th>review_scores_location</th>\n",
       "      <th>review_scores_value</th>\n",
       "      <th>license</th>\n",
       "      <th>instant_bookable</th>\n",
       "      <th>calculated_host_listings_count</th>\n",
       "      <th>calculated_host_listings_count_entire_homes</th>\n",
       "      <th>calculated_host_listings_count_private_rooms</th>\n",
       "      <th>calculated_host_listings_count_shared_rooms</th>\n",
       "      <th>reviews_per_month</th>\n",
       "    </tr>\n",
       "  </thead>\n",
       "  <tbody>\n",
       "    <tr>\n",
       "      <th>0</th>\n",
       "      <td>75590</td>\n",
       "      <td>https://www.airbnb.com/rooms/75590</td>\n",
       "      <td>20221229235426</td>\n",
       "      <td>2022-12-30</td>\n",
       "      <td>city scrape</td>\n",
       "      <td>Amazing nature location by a lake</td>\n",
       "      <td>Apartment on the top floor, overlooking a lake...</td>\n",
       "      <td>Expect a wonderful stay in beautiful scenery, ...</td>\n",
       "      <td>https://a0.muscache.com/pictures/7430cc80-7a4f...</td>\n",
       "      <td>397766</td>\n",
       "      <td>...</td>\n",
       "      <td>5.00</td>\n",
       "      <td>4.78</td>\n",
       "      <td>4.78</td>\n",
       "      <td>NaN</td>\n",
       "      <td>f</td>\n",
       "      <td>1</td>\n",
       "      <td>1</td>\n",
       "      <td>0</td>\n",
       "      <td>0</td>\n",
       "      <td>0.09</td>\n",
       "    </tr>\n",
       "    <tr>\n",
       "      <th>1</th>\n",
       "      <td>164448</td>\n",
       "      <td>https://www.airbnb.com/rooms/164448</td>\n",
       "      <td>20221229235426</td>\n",
       "      <td>2022-12-30</td>\n",
       "      <td>city scrape</td>\n",
       "      <td>Double room in central Stockholm with Wi-Fi</td>\n",
       "      <td>I am renting out a nice double room on the top...</td>\n",
       "      <td>NaN</td>\n",
       "      <td>https://a0.muscache.com/pictures/1101571/13429...</td>\n",
       "      <td>784312</td>\n",
       "      <td>...</td>\n",
       "      <td>4.97</td>\n",
       "      <td>4.83</td>\n",
       "      <td>4.76</td>\n",
       "      <td>NaN</td>\n",
       "      <td>t</td>\n",
       "      <td>2</td>\n",
       "      <td>0</td>\n",
       "      <td>2</td>\n",
       "      <td>0</td>\n",
       "      <td>2.55</td>\n",
       "    </tr>\n",
       "    <tr>\n",
       "      <th>2</th>\n",
       "      <td>170651</td>\n",
       "      <td>https://www.airbnb.com/rooms/170651</td>\n",
       "      <td>20221229235426</td>\n",
       "      <td>2022-12-30</td>\n",
       "      <td>city scrape</td>\n",
       "      <td>Petit Charm Rooftop next to heaven</td>\n",
       "      <td>My place is perfect for 1 person or mabey 2 if...</td>\n",
       "      <td>NaN</td>\n",
       "      <td>https://a0.muscache.com/pictures/74dc2c29-1f7a...</td>\n",
       "      <td>814021</td>\n",
       "      <td>...</td>\n",
       "      <td>4.92</td>\n",
       "      <td>4.84</td>\n",
       "      <td>4.74</td>\n",
       "      <td>NaN</td>\n",
       "      <td>f</td>\n",
       "      <td>1</td>\n",
       "      <td>1</td>\n",
       "      <td>0</td>\n",
       "      <td>0</td>\n",
       "      <td>0.30</td>\n",
       "    </tr>\n",
       "    <tr>\n",
       "      <th>3</th>\n",
       "      <td>206221</td>\n",
       "      <td>https://www.airbnb.com/rooms/206221</td>\n",
       "      <td>20221229235426</td>\n",
       "      <td>2022-12-30</td>\n",
       "      <td>city scrape</td>\n",
       "      <td>Doubleroom at Södermalm &amp;trendySofo</td>\n",
       "      <td>&lt;b&gt;The space&lt;/b&gt;&lt;br /&gt;The region is situated a...</td>\n",
       "      <td>NaN</td>\n",
       "      <td>https://a0.muscache.com/pictures/1792713/2c120...</td>\n",
       "      <td>1022374</td>\n",
       "      <td>...</td>\n",
       "      <td>4.90</td>\n",
       "      <td>4.94</td>\n",
       "      <td>4.83</td>\n",
       "      <td>NaN</td>\n",
       "      <td>f</td>\n",
       "      <td>1</td>\n",
       "      <td>0</td>\n",
       "      <td>0</td>\n",
       "      <td>1</td>\n",
       "      <td>0.59</td>\n",
       "    </tr>\n",
       "    <tr>\n",
       "      <th>4</th>\n",
       "      <td>208366</td>\n",
       "      <td>https://www.airbnb.com/rooms/208366</td>\n",
       "      <td>20221229235426</td>\n",
       "      <td>2022-12-30</td>\n",
       "      <td>city scrape</td>\n",
       "      <td>Central apt. in Sofo .Perfect 4 Families &amp; Kids</td>\n",
       "      <td>&lt;b&gt;The space&lt;/b&gt;&lt;br /&gt;LOCATION:&lt;br /&gt;Beautiful...</td>\n",
       "      <td>NaN</td>\n",
       "      <td>https://a0.muscache.com/pictures/5648534/0238f...</td>\n",
       "      <td>993889</td>\n",
       "      <td>...</td>\n",
       "      <td>4.92</td>\n",
       "      <td>4.70</td>\n",
       "      <td>4.49</td>\n",
       "      <td>NaN</td>\n",
       "      <td>f</td>\n",
       "      <td>1</td>\n",
       "      <td>1</td>\n",
       "      <td>0</td>\n",
       "      <td>0</td>\n",
       "      <td>0.32</td>\n",
       "    </tr>\n",
       "  </tbody>\n",
       "</table>\n",
       "<p>5 rows × 75 columns</p>\n",
       "</div>"
      ],
      "text/plain": [
       "       id                          listing_url       scrape_id last_scraped   \n",
       "0   75590   https://www.airbnb.com/rooms/75590  20221229235426   2022-12-30  \\\n",
       "1  164448  https://www.airbnb.com/rooms/164448  20221229235426   2022-12-30   \n",
       "2  170651  https://www.airbnb.com/rooms/170651  20221229235426   2022-12-30   \n",
       "3  206221  https://www.airbnb.com/rooms/206221  20221229235426   2022-12-30   \n",
       "4  208366  https://www.airbnb.com/rooms/208366  20221229235426   2022-12-30   \n",
       "\n",
       "        source                                             name   \n",
       "0  city scrape                Amazing nature location by a lake  \\\n",
       "1  city scrape      Double room in central Stockholm with Wi-Fi   \n",
       "2  city scrape               Petit Charm Rooftop next to heaven   \n",
       "3  city scrape              Doubleroom at Södermalm &trendySofo   \n",
       "4  city scrape  Central apt. in Sofo .Perfect 4 Families & Kids   \n",
       "\n",
       "                                         description   \n",
       "0  Apartment on the top floor, overlooking a lake...  \\\n",
       "1  I am renting out a nice double room on the top...   \n",
       "2  My place is perfect for 1 person or mabey 2 if...   \n",
       "3  <b>The space</b><br />The region is situated a...   \n",
       "4  <b>The space</b><br />LOCATION:<br />Beautiful...   \n",
       "\n",
       "                               neighborhood_overview   \n",
       "0  Expect a wonderful stay in beautiful scenery, ...  \\\n",
       "1                                                NaN   \n",
       "2                                                NaN   \n",
       "3                                                NaN   \n",
       "4                                                NaN   \n",
       "\n",
       "                                         picture_url  host_id  ...   \n",
       "0  https://a0.muscache.com/pictures/7430cc80-7a4f...   397766  ...  \\\n",
       "1  https://a0.muscache.com/pictures/1101571/13429...   784312  ...   \n",
       "2  https://a0.muscache.com/pictures/74dc2c29-1f7a...   814021  ...   \n",
       "3  https://a0.muscache.com/pictures/1792713/2c120...  1022374  ...   \n",
       "4  https://a0.muscache.com/pictures/5648534/0238f...   993889  ...   \n",
       "\n",
       "  review_scores_communication review_scores_location review_scores_value   \n",
       "0                        5.00                   4.78                4.78  \\\n",
       "1                        4.97                   4.83                4.76   \n",
       "2                        4.92                   4.84                4.74   \n",
       "3                        4.90                   4.94                4.83   \n",
       "4                        4.92                   4.70                4.49   \n",
       "\n",
       "  license instant_bookable calculated_host_listings_count   \n",
       "0     NaN                f                              1  \\\n",
       "1     NaN                t                              2   \n",
       "2     NaN                f                              1   \n",
       "3     NaN                f                              1   \n",
       "4     NaN                f                              1   \n",
       "\n",
       "  calculated_host_listings_count_entire_homes   \n",
       "0                                           1  \\\n",
       "1                                           0   \n",
       "2                                           1   \n",
       "3                                           0   \n",
       "4                                           1   \n",
       "\n",
       "  calculated_host_listings_count_private_rooms   \n",
       "0                                            0  \\\n",
       "1                                            2   \n",
       "2                                            0   \n",
       "3                                            0   \n",
       "4                                            0   \n",
       "\n",
       "  calculated_host_listings_count_shared_rooms reviews_per_month  \n",
       "0                                           0              0.09  \n",
       "1                                           0              2.55  \n",
       "2                                           0              0.30  \n",
       "3                                           1              0.59  \n",
       "4                                           0              0.32  \n",
       "\n",
       "[5 rows x 75 columns]"
      ]
     },
     "execution_count": 33,
     "metadata": {},
     "output_type": "execute_result"
    }
   ],
   "source": [
    "sh = pd.read_csv(\"../data/listings 2.csv\")\n",
    "sh.head()"
   ]
  },
  {
   "cell_type": "code",
   "execution_count": 6,
   "id": "05c593dd-6830-4a60-af4a-9a47cc161c6a",
   "metadata": {
    "tags": []
   },
   "outputs": [
    {
     "data": {
      "text/html": [
       "<div>\n",
       "<style scoped>\n",
       "    .dataframe tbody tr th:only-of-type {\n",
       "        vertical-align: middle;\n",
       "    }\n",
       "\n",
       "    .dataframe tbody tr th {\n",
       "        vertical-align: top;\n",
       "    }\n",
       "\n",
       "    .dataframe thead th {\n",
       "        text-align: right;\n",
       "    }\n",
       "</style>\n",
       "<table border=\"1\" class=\"dataframe\">\n",
       "  <thead>\n",
       "    <tr style=\"text-align: right;\">\n",
       "      <th></th>\n",
       "      <th>neighbourhood_group</th>\n",
       "      <th>neighbourhood</th>\n",
       "    </tr>\n",
       "  </thead>\n",
       "  <tbody>\n",
       "    <tr>\n",
       "      <th>0</th>\n",
       "      <td>NaN</td>\n",
       "      <td>Älvsjö</td>\n",
       "    </tr>\n",
       "    <tr>\n",
       "      <th>1</th>\n",
       "      <td>NaN</td>\n",
       "      <td>Bromma</td>\n",
       "    </tr>\n",
       "    <tr>\n",
       "      <th>2</th>\n",
       "      <td>NaN</td>\n",
       "      <td>Enskede-Årsta-Vantörs</td>\n",
       "    </tr>\n",
       "    <tr>\n",
       "      <th>3</th>\n",
       "      <td>NaN</td>\n",
       "      <td>Farsta</td>\n",
       "    </tr>\n",
       "    <tr>\n",
       "      <th>4</th>\n",
       "      <td>NaN</td>\n",
       "      <td>Hägersten-Liljeholmens</td>\n",
       "    </tr>\n",
       "  </tbody>\n",
       "</table>\n",
       "</div>"
      ],
      "text/plain": [
       "   neighbourhood_group           neighbourhood\n",
       "0                  NaN                  Älvsjö\n",
       "1                  NaN                  Bromma\n",
       "2                  NaN   Enskede-Årsta-Vantörs\n",
       "3                  NaN                  Farsta\n",
       "4                  NaN  Hägersten-Liljeholmens"
      ]
     },
     "execution_count": 6,
     "metadata": {},
     "output_type": "execute_result"
    }
   ],
   "source": [
    "sh_nb = pd.read_csv(\"../data/neighbourhoods.csv\")\n",
    "sh_nb.head()"
   ]
  },
  {
   "cell_type": "code",
   "execution_count": 7,
   "id": "56cdf72d-e75f-457d-824d-6a5ee3f5e027",
   "metadata": {
    "tags": []
   },
   "outputs": [
    {
     "data": {
      "text/html": [
       "<div>\n",
       "<style scoped>\n",
       "    .dataframe tbody tr th:only-of-type {\n",
       "        vertical-align: middle;\n",
       "    }\n",
       "\n",
       "    .dataframe tbody tr th {\n",
       "        vertical-align: top;\n",
       "    }\n",
       "\n",
       "    .dataframe thead th {\n",
       "        text-align: right;\n",
       "    }\n",
       "</style>\n",
       "<table border=\"1\" class=\"dataframe\">\n",
       "  <thead>\n",
       "    <tr style=\"text-align: right;\">\n",
       "      <th></th>\n",
       "      <th>listing_id</th>\n",
       "      <th>date</th>\n",
       "    </tr>\n",
       "  </thead>\n",
       "  <tbody>\n",
       "    <tr>\n",
       "      <th>0</th>\n",
       "      <td>75590</td>\n",
       "      <td>2013-08-02</td>\n",
       "    </tr>\n",
       "    <tr>\n",
       "      <th>1</th>\n",
       "      <td>75590</td>\n",
       "      <td>2013-08-09</td>\n",
       "    </tr>\n",
       "    <tr>\n",
       "      <th>2</th>\n",
       "      <td>75590</td>\n",
       "      <td>2013-08-16</td>\n",
       "    </tr>\n",
       "    <tr>\n",
       "      <th>3</th>\n",
       "      <td>75590</td>\n",
       "      <td>2013-08-19</td>\n",
       "    </tr>\n",
       "    <tr>\n",
       "      <th>4</th>\n",
       "      <td>75590</td>\n",
       "      <td>2013-08-28</td>\n",
       "    </tr>\n",
       "  </tbody>\n",
       "</table>\n",
       "</div>"
      ],
      "text/plain": [
       "   listing_id        date\n",
       "0       75590  2013-08-02\n",
       "1       75590  2013-08-09\n",
       "2       75590  2013-08-16\n",
       "3       75590  2013-08-19\n",
       "4       75590  2013-08-28"
      ]
     },
     "execution_count": 7,
     "metadata": {},
     "output_type": "execute_result"
    }
   ],
   "source": [
    "sh_rev = pd.read_csv(\"../data/reviews.csv\")\n",
    "sh_rev.head()"
   ]
  },
  {
   "cell_type": "code",
   "execution_count": 8,
   "id": "1a6585f4-de8e-47a2-bc92-377b8e59f6d5",
   "metadata": {},
   "outputs": [
    {
     "name": "stdout",
     "output_type": "stream",
     "text": [
      "<class 'pandas.core.frame.DataFrame'>\n",
      "RangeIndex: 3339 entries, 0 to 3338\n",
      "Data columns (total 75 columns):\n",
      " #   Column                                        Non-Null Count  Dtype  \n",
      "---  ------                                        --------------  -----  \n",
      " 0   id                                            3339 non-null   int64  \n",
      " 1   listing_url                                   3339 non-null   object \n",
      " 2   scrape_id                                     3339 non-null   int64  \n",
      " 3   last_scraped                                  3339 non-null   object \n",
      " 4   source                                        3339 non-null   object \n",
      " 5   name                                          3337 non-null   object \n",
      " 6   description                                   3234 non-null   object \n",
      " 7   neighborhood_overview                         1561 non-null   object \n",
      " 8   picture_url                                   3339 non-null   object \n",
      " 9   host_id                                       3339 non-null   int64  \n",
      " 10  host_url                                      3339 non-null   object \n",
      " 11  host_name                                     3339 non-null   object \n",
      " 12  host_since                                    3339 non-null   object \n",
      " 13  host_location                                 2747 non-null   object \n",
      " 14  host_about                                    1722 non-null   object \n",
      " 15  host_response_time                            2254 non-null   object \n",
      " 16  host_response_rate                            2254 non-null   object \n",
      " 17  host_acceptance_rate                          2812 non-null   object \n",
      " 18  host_is_superhost                             3334 non-null   object \n",
      " 19  host_thumbnail_url                            3339 non-null   object \n",
      " 20  host_picture_url                              3339 non-null   object \n",
      " 21  host_neighbourhood                            1498 non-null   object \n",
      " 22  host_listings_count                           3339 non-null   int64  \n",
      " 23  host_total_listings_count                     3339 non-null   int64  \n",
      " 24  host_verifications                            3339 non-null   object \n",
      " 25  host_has_profile_pic                          3339 non-null   object \n",
      " 26  host_identity_verified                        3339 non-null   object \n",
      " 27  neighbourhood                                 1561 non-null   object \n",
      " 28  neighbourhood_cleansed                        3339 non-null   object \n",
      " 29  neighbourhood_group_cleansed                  0 non-null      float64\n",
      " 30  latitude                                      3339 non-null   float64\n",
      " 31  longitude                                     3339 non-null   float64\n",
      " 32  property_type                                 3339 non-null   object \n",
      " 33  room_type                                     3339 non-null   object \n",
      " 34  accommodates                                  3339 non-null   int64  \n",
      " 35  bathrooms                                     0 non-null      float64\n",
      " 36  bathrooms_text                                3325 non-null   object \n",
      " 37  bedrooms                                      3067 non-null   float64\n",
      " 38  beds                                          3286 non-null   float64\n",
      " 39  amenities                                     3339 non-null   object \n",
      " 40  price                                         3339 non-null   object \n",
      " 41  minimum_nights                                3339 non-null   int64  \n",
      " 42  maximum_nights                                3339 non-null   int64  \n",
      " 43  minimum_minimum_nights                        3335 non-null   float64\n",
      " 44  maximum_minimum_nights                        3335 non-null   float64\n",
      " 45  minimum_maximum_nights                        3335 non-null   float64\n",
      " 46  maximum_maximum_nights                        3335 non-null   float64\n",
      " 47  minimum_nights_avg_ntm                        3335 non-null   float64\n",
      " 48  maximum_nights_avg_ntm                        3335 non-null   float64\n",
      " 49  calendar_updated                              0 non-null      float64\n",
      " 50  has_availability                              3339 non-null   object \n",
      " 51  availability_30                               3339 non-null   int64  \n",
      " 52  availability_60                               3339 non-null   int64  \n",
      " 53  availability_90                               3339 non-null   int64  \n",
      " 54  availability_365                              3339 non-null   int64  \n",
      " 55  calendar_last_scraped                         3339 non-null   object \n",
      " 56  number_of_reviews                             3339 non-null   int64  \n",
      " 57  number_of_reviews_ltm                         3339 non-null   int64  \n",
      " 58  number_of_reviews_l30d                        3339 non-null   int64  \n",
      " 59  first_review                                  2751 non-null   object \n",
      " 60  last_review                                   2751 non-null   object \n",
      " 61  review_scores_rating                          2751 non-null   float64\n",
      " 62  review_scores_accuracy                        2733 non-null   float64\n",
      " 63  review_scores_cleanliness                     2733 non-null   float64\n",
      " 64  review_scores_checkin                         2733 non-null   float64\n",
      " 65  review_scores_communication                   2733 non-null   float64\n",
      " 66  review_scores_location                        2733 non-null   float64\n",
      " 67  review_scores_value                           2733 non-null   float64\n",
      " 68  license                                       0 non-null      float64\n",
      " 69  instant_bookable                              3339 non-null   object \n",
      " 70  calculated_host_listings_count                3339 non-null   int64  \n",
      " 71  calculated_host_listings_count_entire_homes   3339 non-null   int64  \n",
      " 72  calculated_host_listings_count_private_rooms  3339 non-null   int64  \n",
      " 73  calculated_host_listings_count_shared_rooms   3339 non-null   int64  \n",
      " 74  reviews_per_month                             2751 non-null   float64\n",
      "dtypes: float64(22), int64(19), object(34)\n",
      "memory usage: 1.9+ MB\n"
     ]
    }
   ],
   "source": [
    "sh.info()"
   ]
  },
  {
   "cell_type": "code",
   "execution_count": 9,
   "id": "6fb0522c-4cc4-482a-a1b3-be32e36a9d04",
   "metadata": {
    "tags": []
   },
   "outputs": [],
   "source": [
    "sh1 = sh"
   ]
  },
  {
   "cell_type": "code",
   "execution_count": 10,
   "id": "49938c7e-a45b-456d-85bb-0b1b1776d6de",
   "metadata": {
    "tags": []
   },
   "outputs": [
    {
     "data": {
      "text/plain": [
       "(3339, 75)"
      ]
     },
     "execution_count": 10,
     "metadata": {},
     "output_type": "execute_result"
    }
   ],
   "source": [
    "sh.shape"
   ]
  },
  {
   "cell_type": "code",
   "execution_count": 11,
   "id": "809caa38-973e-4279-b8af-a4d758357bf1",
   "metadata": {
    "tags": []
   },
   "outputs": [
    {
     "data": {
      "text/html": [
       "<div>\n",
       "<style scoped>\n",
       "    .dataframe tbody tr th:only-of-type {\n",
       "        vertical-align: middle;\n",
       "    }\n",
       "\n",
       "    .dataframe tbody tr th {\n",
       "        vertical-align: top;\n",
       "    }\n",
       "\n",
       "    .dataframe thead th {\n",
       "        text-align: right;\n",
       "    }\n",
       "</style>\n",
       "<table border=\"1\" class=\"dataframe\">\n",
       "  <thead>\n",
       "    <tr style=\"text-align: right;\">\n",
       "      <th></th>\n",
       "      <th>id</th>\n",
       "      <th>scrape_id</th>\n",
       "      <th>host_id</th>\n",
       "      <th>host_listings_count</th>\n",
       "      <th>host_total_listings_count</th>\n",
       "      <th>neighbourhood_group_cleansed</th>\n",
       "      <th>latitude</th>\n",
       "      <th>longitude</th>\n",
       "      <th>accommodates</th>\n",
       "      <th>bathrooms</th>\n",
       "      <th>...</th>\n",
       "      <th>review_scores_checkin</th>\n",
       "      <th>review_scores_communication</th>\n",
       "      <th>review_scores_location</th>\n",
       "      <th>review_scores_value</th>\n",
       "      <th>license</th>\n",
       "      <th>calculated_host_listings_count</th>\n",
       "      <th>calculated_host_listings_count_entire_homes</th>\n",
       "      <th>calculated_host_listings_count_private_rooms</th>\n",
       "      <th>calculated_host_listings_count_shared_rooms</th>\n",
       "      <th>reviews_per_month</th>\n",
       "    </tr>\n",
       "  </thead>\n",
       "  <tbody>\n",
       "    <tr>\n",
       "      <th>count</th>\n",
       "      <td>3.339000e+03</td>\n",
       "      <td>3.339000e+03</td>\n",
       "      <td>3.339000e+03</td>\n",
       "      <td>3339.000000</td>\n",
       "      <td>3339.000000</td>\n",
       "      <td>0.0</td>\n",
       "      <td>3339.000000</td>\n",
       "      <td>3339.000000</td>\n",
       "      <td>3339.000000</td>\n",
       "      <td>0.0</td>\n",
       "      <td>...</td>\n",
       "      <td>2733.000000</td>\n",
       "      <td>2733.000000</td>\n",
       "      <td>2733.000000</td>\n",
       "      <td>2733.000000</td>\n",
       "      <td>0.0</td>\n",
       "      <td>3339.000000</td>\n",
       "      <td>3339.000000</td>\n",
       "      <td>3339.000000</td>\n",
       "      <td>3339.000000</td>\n",
       "      <td>2751.000000</td>\n",
       "    </tr>\n",
       "    <tr>\n",
       "      <th>mean</th>\n",
       "      <td>2.042764e+17</td>\n",
       "      <td>2.022123e+13</td>\n",
       "      <td>1.310851e+08</td>\n",
       "      <td>12.949686</td>\n",
       "      <td>33.369572</td>\n",
       "      <td>NaN</td>\n",
       "      <td>59.319302</td>\n",
       "      <td>18.032603</td>\n",
       "      <td>3.279724</td>\n",
       "      <td>NaN</td>\n",
       "      <td>...</td>\n",
       "      <td>4.859104</td>\n",
       "      <td>4.857720</td>\n",
       "      <td>4.793882</td>\n",
       "      <td>4.711965</td>\n",
       "      <td>NaN</td>\n",
       "      <td>4.079365</td>\n",
       "      <td>3.471998</td>\n",
       "      <td>0.431267</td>\n",
       "      <td>0.037436</td>\n",
       "      <td>1.097866</td>\n",
       "    </tr>\n",
       "    <tr>\n",
       "      <th>std</th>\n",
       "      <td>3.130319e+17</td>\n",
       "      <td>0.000000e+00</td>\n",
       "      <td>1.445568e+08</td>\n",
       "      <td>107.899485</td>\n",
       "      <td>326.654131</td>\n",
       "      <td>NaN</td>\n",
       "      <td>0.029821</td>\n",
       "      <td>0.063394</td>\n",
       "      <td>1.968349</td>\n",
       "      <td>NaN</td>\n",
       "      <td>...</td>\n",
       "      <td>0.324864</td>\n",
       "      <td>0.323789</td>\n",
       "      <td>0.322909</td>\n",
       "      <td>0.360283</td>\n",
       "      <td>NaN</td>\n",
       "      <td>10.204294</td>\n",
       "      <td>10.122114</td>\n",
       "      <td>1.119437</td>\n",
       "      <td>0.360713</td>\n",
       "      <td>1.428936</td>\n",
       "    </tr>\n",
       "    <tr>\n",
       "      <th>min</th>\n",
       "      <td>7.559000e+04</td>\n",
       "      <td>2.022123e+13</td>\n",
       "      <td>4.457000e+03</td>\n",
       "      <td>1.000000</td>\n",
       "      <td>1.000000</td>\n",
       "      <td>NaN</td>\n",
       "      <td>59.231950</td>\n",
       "      <td>17.773110</td>\n",
       "      <td>0.000000</td>\n",
       "      <td>NaN</td>\n",
       "      <td>...</td>\n",
       "      <td>1.000000</td>\n",
       "      <td>1.000000</td>\n",
       "      <td>1.000000</td>\n",
       "      <td>1.000000</td>\n",
       "      <td>NaN</td>\n",
       "      <td>1.000000</td>\n",
       "      <td>0.000000</td>\n",
       "      <td>0.000000</td>\n",
       "      <td>0.000000</td>\n",
       "      <td>0.010000</td>\n",
       "    </tr>\n",
       "    <tr>\n",
       "      <th>25%</th>\n",
       "      <td>2.180487e+07</td>\n",
       "      <td>2.022123e+13</td>\n",
       "      <td>1.942711e+07</td>\n",
       "      <td>1.000000</td>\n",
       "      <td>1.000000</td>\n",
       "      <td>NaN</td>\n",
       "      <td>59.300990</td>\n",
       "      <td>18.004925</td>\n",
       "      <td>2.000000</td>\n",
       "      <td>NaN</td>\n",
       "      <td>...</td>\n",
       "      <td>4.830000</td>\n",
       "      <td>4.850000</td>\n",
       "      <td>4.710000</td>\n",
       "      <td>4.610000</td>\n",
       "      <td>NaN</td>\n",
       "      <td>1.000000</td>\n",
       "      <td>1.000000</td>\n",
       "      <td>0.000000</td>\n",
       "      <td>0.000000</td>\n",
       "      <td>0.200000</td>\n",
       "    </tr>\n",
       "    <tr>\n",
       "      <th>50%</th>\n",
       "      <td>4.205427e+07</td>\n",
       "      <td>2.022123e+13</td>\n",
       "      <td>6.288472e+07</td>\n",
       "      <td>1.000000</td>\n",
       "      <td>2.000000</td>\n",
       "      <td>NaN</td>\n",
       "      <td>59.318020</td>\n",
       "      <td>18.049960</td>\n",
       "      <td>3.000000</td>\n",
       "      <td>NaN</td>\n",
       "      <td>...</td>\n",
       "      <td>4.960000</td>\n",
       "      <td>4.980000</td>\n",
       "      <td>4.890000</td>\n",
       "      <td>4.790000</td>\n",
       "      <td>NaN</td>\n",
       "      <td>1.000000</td>\n",
       "      <td>1.000000</td>\n",
       "      <td>0.000000</td>\n",
       "      <td>0.000000</td>\n",
       "      <td>0.510000</td>\n",
       "    </tr>\n",
       "    <tr>\n",
       "      <th>75%</th>\n",
       "      <td>6.080883e+17</td>\n",
       "      <td>2.022123e+13</td>\n",
       "      <td>2.100933e+08</td>\n",
       "      <td>2.000000</td>\n",
       "      <td>4.000000</td>\n",
       "      <td>NaN</td>\n",
       "      <td>59.337804</td>\n",
       "      <td>18.076085</td>\n",
       "      <td>4.000000</td>\n",
       "      <td>NaN</td>\n",
       "      <td>...</td>\n",
       "      <td>5.000000</td>\n",
       "      <td>5.000000</td>\n",
       "      <td>5.000000</td>\n",
       "      <td>5.000000</td>\n",
       "      <td>NaN</td>\n",
       "      <td>2.000000</td>\n",
       "      <td>1.000000</td>\n",
       "      <td>0.000000</td>\n",
       "      <td>0.000000</td>\n",
       "      <td>1.350000</td>\n",
       "    </tr>\n",
       "    <tr>\n",
       "      <th>max</th>\n",
       "      <td>7.921731e+17</td>\n",
       "      <td>2.022123e+13</td>\n",
       "      <td>4.929636e+08</td>\n",
       "      <td>1597.000000</td>\n",
       "      <td>5139.000000</td>\n",
       "      <td>NaN</td>\n",
       "      <td>59.418580</td>\n",
       "      <td>18.166070</td>\n",
       "      <td>16.000000</td>\n",
       "      <td>NaN</td>\n",
       "      <td>...</td>\n",
       "      <td>5.000000</td>\n",
       "      <td>5.000000</td>\n",
       "      <td>5.000000</td>\n",
       "      <td>5.000000</td>\n",
       "      <td>NaN</td>\n",
       "      <td>65.000000</td>\n",
       "      <td>65.000000</td>\n",
       "      <td>8.000000</td>\n",
       "      <td>5.000000</td>\n",
       "      <td>17.090000</td>\n",
       "    </tr>\n",
       "  </tbody>\n",
       "</table>\n",
       "<p>8 rows × 41 columns</p>\n",
       "</div>"
      ],
      "text/plain": [
       "                 id     scrape_id       host_id  host_listings_count   \n",
       "count  3.339000e+03  3.339000e+03  3.339000e+03          3339.000000  \\\n",
       "mean   2.042764e+17  2.022123e+13  1.310851e+08            12.949686   \n",
       "std    3.130319e+17  0.000000e+00  1.445568e+08           107.899485   \n",
       "min    7.559000e+04  2.022123e+13  4.457000e+03             1.000000   \n",
       "25%    2.180487e+07  2.022123e+13  1.942711e+07             1.000000   \n",
       "50%    4.205427e+07  2.022123e+13  6.288472e+07             1.000000   \n",
       "75%    6.080883e+17  2.022123e+13  2.100933e+08             2.000000   \n",
       "max    7.921731e+17  2.022123e+13  4.929636e+08          1597.000000   \n",
       "\n",
       "       host_total_listings_count  neighbourhood_group_cleansed     latitude   \n",
       "count                3339.000000                           0.0  3339.000000  \\\n",
       "mean                   33.369572                           NaN    59.319302   \n",
       "std                   326.654131                           NaN     0.029821   \n",
       "min                     1.000000                           NaN    59.231950   \n",
       "25%                     1.000000                           NaN    59.300990   \n",
       "50%                     2.000000                           NaN    59.318020   \n",
       "75%                     4.000000                           NaN    59.337804   \n",
       "max                  5139.000000                           NaN    59.418580   \n",
       "\n",
       "         longitude  accommodates  bathrooms  ...  review_scores_checkin   \n",
       "count  3339.000000   3339.000000        0.0  ...            2733.000000  \\\n",
       "mean     18.032603      3.279724        NaN  ...               4.859104   \n",
       "std       0.063394      1.968349        NaN  ...               0.324864   \n",
       "min      17.773110      0.000000        NaN  ...               1.000000   \n",
       "25%      18.004925      2.000000        NaN  ...               4.830000   \n",
       "50%      18.049960      3.000000        NaN  ...               4.960000   \n",
       "75%      18.076085      4.000000        NaN  ...               5.000000   \n",
       "max      18.166070     16.000000        NaN  ...               5.000000   \n",
       "\n",
       "       review_scores_communication  review_scores_location   \n",
       "count                  2733.000000             2733.000000  \\\n",
       "mean                      4.857720                4.793882   \n",
       "std                       0.323789                0.322909   \n",
       "min                       1.000000                1.000000   \n",
       "25%                       4.850000                4.710000   \n",
       "50%                       4.980000                4.890000   \n",
       "75%                       5.000000                5.000000   \n",
       "max                       5.000000                5.000000   \n",
       "\n",
       "       review_scores_value  license  calculated_host_listings_count   \n",
       "count          2733.000000      0.0                     3339.000000  \\\n",
       "mean              4.711965      NaN                        4.079365   \n",
       "std               0.360283      NaN                       10.204294   \n",
       "min               1.000000      NaN                        1.000000   \n",
       "25%               4.610000      NaN                        1.000000   \n",
       "50%               4.790000      NaN                        1.000000   \n",
       "75%               5.000000      NaN                        2.000000   \n",
       "max               5.000000      NaN                       65.000000   \n",
       "\n",
       "       calculated_host_listings_count_entire_homes   \n",
       "count                                  3339.000000  \\\n",
       "mean                                      3.471998   \n",
       "std                                      10.122114   \n",
       "min                                       0.000000   \n",
       "25%                                       1.000000   \n",
       "50%                                       1.000000   \n",
       "75%                                       1.000000   \n",
       "max                                      65.000000   \n",
       "\n",
       "       calculated_host_listings_count_private_rooms   \n",
       "count                                   3339.000000  \\\n",
       "mean                                       0.431267   \n",
       "std                                        1.119437   \n",
       "min                                        0.000000   \n",
       "25%                                        0.000000   \n",
       "50%                                        0.000000   \n",
       "75%                                        0.000000   \n",
       "max                                        8.000000   \n",
       "\n",
       "       calculated_host_listings_count_shared_rooms  reviews_per_month  \n",
       "count                                  3339.000000        2751.000000  \n",
       "mean                                      0.037436           1.097866  \n",
       "std                                       0.360713           1.428936  \n",
       "min                                       0.000000           0.010000  \n",
       "25%                                       0.000000           0.200000  \n",
       "50%                                       0.000000           0.510000  \n",
       "75%                                       0.000000           1.350000  \n",
       "max                                       5.000000          17.090000  \n",
       "\n",
       "[8 rows x 41 columns]"
      ]
     },
     "execution_count": 11,
     "metadata": {},
     "output_type": "execute_result"
    }
   ],
   "source": [
    "sh.describe()"
   ]
  },
  {
   "cell_type": "code",
   "execution_count": 12,
   "id": "85bac335-ec51-4da8-9e55-863da24398c7",
   "metadata": {
    "tags": []
   },
   "outputs": [
    {
     "data": {
      "text/plain": [
       "Index(['id', 'listing_url', 'scrape_id', 'last_scraped', 'source', 'name',\n",
       "       'description', 'neighborhood_overview', 'picture_url', 'host_id',\n",
       "       'host_url', 'host_name', 'host_since', 'host_location', 'host_about',\n",
       "       'host_response_time', 'host_response_rate', 'host_acceptance_rate',\n",
       "       'host_is_superhost', 'host_thumbnail_url', 'host_picture_url',\n",
       "       'host_neighbourhood', 'host_listings_count',\n",
       "       'host_total_listings_count', 'host_verifications',\n",
       "       'host_has_profile_pic', 'host_identity_verified', 'neighbourhood',\n",
       "       'neighbourhood_cleansed', 'neighbourhood_group_cleansed', 'latitude',\n",
       "       'longitude', 'property_type', 'room_type', 'accommodates', 'bathrooms',\n",
       "       'bathrooms_text', 'bedrooms', 'beds', 'amenities', 'price',\n",
       "       'minimum_nights', 'maximum_nights', 'minimum_minimum_nights',\n",
       "       'maximum_minimum_nights', 'minimum_maximum_nights',\n",
       "       'maximum_maximum_nights', 'minimum_nights_avg_ntm',\n",
       "       'maximum_nights_avg_ntm', 'calendar_updated', 'has_availability',\n",
       "       'availability_30', 'availability_60', 'availability_90',\n",
       "       'availability_365', 'calendar_last_scraped', 'number_of_reviews',\n",
       "       'number_of_reviews_ltm', 'number_of_reviews_l30d', 'first_review',\n",
       "       'last_review', 'review_scores_rating', 'review_scores_accuracy',\n",
       "       'review_scores_cleanliness', 'review_scores_checkin',\n",
       "       'review_scores_communication', 'review_scores_location',\n",
       "       'review_scores_value', 'license', 'instant_bookable',\n",
       "       'calculated_host_listings_count',\n",
       "       'calculated_host_listings_count_entire_homes',\n",
       "       'calculated_host_listings_count_private_rooms',\n",
       "       'calculated_host_listings_count_shared_rooms', 'reviews_per_month'],\n",
       "      dtype='object')"
      ]
     },
     "execution_count": 12,
     "metadata": {},
     "output_type": "execute_result"
    }
   ],
   "source": [
    "sh.columns"
   ]
  },
  {
   "cell_type": "code",
   "execution_count": 13,
   "id": "7ff9efa9-6322-45a0-bdcb-05e4559d8f23",
   "metadata": {
    "tags": []
   },
   "outputs": [],
   "source": [
    "# many columns without interest: easy cleaning\n",
    "\n",
    "sh = sh[['id', 'name',\n",
    "       'description', 'host_id',\n",
    "       'host_name', 'host_since', 'host_location', 'host_response_time', 'host_response_rate',\n",
    "       'host_acceptance_rate',\n",
    "       'host_listings_count',\n",
    "       'host_total_listings_count', 'host_verifications', 'host_identity_verified', \n",
    "       'neighbourhood_cleansed', 'latitude',\n",
    "       'longitude', 'property_type', 'room_type', 'accommodates',\n",
    "       'bathrooms_text', 'bedrooms', 'beds', 'amenities', 'price',\n",
    "       'minimum_nights', 'maximum_nights', 'has_availability', 'number_of_reviews',\n",
    "       'number_of_reviews_ltm', 'number_of_reviews_l30d', 'review_scores_rating', 'review_scores_accuracy',\n",
    "       'review_scores_cleanliness',\n",
    "       'review_scores_communication', 'review_scores_location',\n",
    "       'review_scores_value', 'instant_bookable',\n",
    "       'calculated_host_listings_count',\n",
    "       'calculated_host_listings_count_entire_homes',\n",
    "       'calculated_host_listings_count_private_rooms',\n",
    "       'calculated_host_listings_count_shared_rooms', 'reviews_per_month']]"
   ]
  },
  {
   "cell_type": "code",
   "execution_count": 14,
   "id": "1742d493-1e13-46f7-a8dd-27efbe6accaa",
   "metadata": {
    "tags": []
   },
   "outputs": [
    {
     "name": "stdout",
     "output_type": "stream",
     "text": [
      "Requirement already satisfied: missingno in /Users/utaviegener/Desktop/neuefische/Modellbauer/.venv/lib/python3.9/site-packages (0.5.2)\n",
      "Requirement already satisfied: numpy in /Users/utaviegener/Desktop/neuefische/Modellbauer/.venv/lib/python3.9/site-packages (from missingno) (1.24.2)\n",
      "Requirement already satisfied: matplotlib in /Users/utaviegener/Desktop/neuefische/Modellbauer/.venv/lib/python3.9/site-packages (from missingno) (3.7.1)\n",
      "Requirement already satisfied: scipy in /Users/utaviegener/Desktop/neuefische/Modellbauer/.venv/lib/python3.9/site-packages (from missingno) (1.10.1)\n",
      "Requirement already satisfied: seaborn in /Users/utaviegener/Desktop/neuefische/Modellbauer/.venv/lib/python3.9/site-packages (from missingno) (0.12.2)\n",
      "Requirement already satisfied: contourpy>=1.0.1 in /Users/utaviegener/Desktop/neuefische/Modellbauer/.venv/lib/python3.9/site-packages (from matplotlib->missingno) (1.0.7)\n",
      "Requirement already satisfied: cycler>=0.10 in /Users/utaviegener/Desktop/neuefische/Modellbauer/.venv/lib/python3.9/site-packages (from matplotlib->missingno) (0.11.0)\n",
      "Requirement already satisfied: fonttools>=4.22.0 in /Users/utaviegener/Desktop/neuefische/Modellbauer/.venv/lib/python3.9/site-packages (from matplotlib->missingno) (4.39.3)\n",
      "Requirement already satisfied: kiwisolver>=1.0.1 in /Users/utaviegener/Desktop/neuefische/Modellbauer/.venv/lib/python3.9/site-packages (from matplotlib->missingno) (1.4.4)\n",
      "Requirement already satisfied: packaging>=20.0 in /Users/utaviegener/Desktop/neuefische/Modellbauer/.venv/lib/python3.9/site-packages (from matplotlib->missingno) (23.0)\n",
      "Requirement already satisfied: pillow>=6.2.0 in /Users/utaviegener/Desktop/neuefische/Modellbauer/.venv/lib/python3.9/site-packages (from matplotlib->missingno) (9.5.0)\n",
      "Requirement already satisfied: pyparsing>=2.3.1 in /Users/utaviegener/Desktop/neuefische/Modellbauer/.venv/lib/python3.9/site-packages (from matplotlib->missingno) (3.0.9)\n",
      "Requirement already satisfied: python-dateutil>=2.7 in /Users/utaviegener/Desktop/neuefische/Modellbauer/.venv/lib/python3.9/site-packages (from matplotlib->missingno) (2.8.2)\n",
      "Requirement already satisfied: importlib-resources>=3.2.0 in /Users/utaviegener/Desktop/neuefische/Modellbauer/.venv/lib/python3.9/site-packages (from matplotlib->missingno) (5.12.0)\n",
      "Requirement already satisfied: pandas>=0.25 in /Users/utaviegener/Desktop/neuefische/Modellbauer/.venv/lib/python3.9/site-packages (from seaborn->missingno) (2.0.0)\n",
      "Requirement already satisfied: zipp>=3.1.0 in /Users/utaviegener/Desktop/neuefische/Modellbauer/.venv/lib/python3.9/site-packages (from importlib-resources>=3.2.0->matplotlib->missingno) (3.15.0)\n",
      "Requirement already satisfied: pytz>=2020.1 in /Users/utaviegener/Desktop/neuefische/Modellbauer/.venv/lib/python3.9/site-packages (from pandas>=0.25->seaborn->missingno) (2023.3)\n",
      "Requirement already satisfied: tzdata>=2022.1 in /Users/utaviegener/Desktop/neuefische/Modellbauer/.venv/lib/python3.9/site-packages (from pandas>=0.25->seaborn->missingno) (2023.3)\n",
      "Requirement already satisfied: six>=1.5 in /Users/utaviegener/Desktop/neuefische/Modellbauer/.venv/lib/python3.9/site-packages (from python-dateutil>=2.7->matplotlib->missingno) (1.16.0)\n",
      "\n",
      "\u001b[1m[\u001b[0m\u001b[34;49mnotice\u001b[0m\u001b[1;39;49m]\u001b[0m\u001b[39;49m A new release of pip is available: \u001b[0m\u001b[31;49m23.1\u001b[0m\u001b[39;49m -> \u001b[0m\u001b[32;49m23.1.2\u001b[0m\n",
      "\u001b[1m[\u001b[0m\u001b[34;49mnotice\u001b[0m\u001b[1;39;49m]\u001b[0m\u001b[39;49m To update, run: \u001b[0m\u001b[32;49mpip install --upgrade pip\u001b[0m\n"
     ]
    },
    {
     "data": {
      "text/plain": [
       "<Axes: >"
      ]
     },
     "execution_count": 14,
     "metadata": {},
     "output_type": "execute_result"
    },
    {
     "data": {
      "image/png": "[encoded data removed]",
      "text/plain": [
       "<Figure size 2500x1000 with 2 Axes>"
      ]
     },
     "metadata": {},
     "output_type": "display_data"
    }
   ],
   "source": [
    "!pip install missingno\n",
    "import missingno as msno\n",
    "msno.matrix(sh)"
   ]
  },
  {
   "cell_type": "code",
   "execution_count": 15,
   "id": "29c709ef-24ca-4e01-82d5-0a6a372abbe3",
   "metadata": {
    "tags": []
   },
   "outputs": [
    {
     "data": {
      "text/html": [
       "<div>\n",
       "<style scoped>\n",
       "    .dataframe tbody tr th:only-of-type {\n",
       "        vertical-align: middle;\n",
       "    }\n",
       "\n",
       "    .dataframe tbody tr th {\n",
       "        vertical-align: top;\n",
       "    }\n",
       "\n",
       "    .dataframe thead th {\n",
       "        text-align: right;\n",
       "    }\n",
       "</style>\n",
       "<table border=\"1\" class=\"dataframe\">\n",
       "  <thead>\n",
       "    <tr style=\"text-align: right;\">\n",
       "      <th></th>\n",
       "      <th>id</th>\n",
       "      <th>name</th>\n",
       "      <th>description</th>\n",
       "      <th>host_id</th>\n",
       "      <th>host_name</th>\n",
       "      <th>host_since</th>\n",
       "      <th>host_location</th>\n",
       "      <th>host_response_time</th>\n",
       "      <th>host_response_rate</th>\n",
       "      <th>host_acceptance_rate</th>\n",
       "      <th>...</th>\n",
       "      <th>review_scores_cleanliness</th>\n",
       "      <th>review_scores_communication</th>\n",
       "      <th>review_scores_location</th>\n",
       "      <th>review_scores_value</th>\n",
       "      <th>instant_bookable</th>\n",
       "      <th>calculated_host_listings_count</th>\n",
       "      <th>calculated_host_listings_count_entire_homes</th>\n",
       "      <th>calculated_host_listings_count_private_rooms</th>\n",
       "      <th>calculated_host_listings_count_shared_rooms</th>\n",
       "      <th>reviews_per_month</th>\n",
       "    </tr>\n",
       "  </thead>\n",
       "  <tbody>\n",
       "    <tr>\n",
       "      <th>0</th>\n",
       "      <td>75590</td>\n",
       "      <td>Amazing nature location by a lake</td>\n",
       "      <td>Apartment on the top floor, overlooking a lake...</td>\n",
       "      <td>397766</td>\n",
       "      <td>Peter</td>\n",
       "      <td>2011-02-18</td>\n",
       "      <td>Stockholm, Sweden</td>\n",
       "      <td>NaN</td>\n",
       "      <td>NaN</td>\n",
       "      <td>0%</td>\n",
       "      <td>...</td>\n",
       "      <td>4.89</td>\n",
       "      <td>5.00</td>\n",
       "      <td>4.78</td>\n",
       "      <td>4.78</td>\n",
       "      <td>f</td>\n",
       "      <td>1</td>\n",
       "      <td>1</td>\n",
       "      <td>0</td>\n",
       "      <td>0</td>\n",
       "      <td>0.09</td>\n",
       "    </tr>\n",
       "    <tr>\n",
       "      <th>1</th>\n",
       "      <td>164448</td>\n",
       "      <td>Double room in central Stockholm with Wi-Fi</td>\n",
       "      <td>I am renting out a nice double room on the top...</td>\n",
       "      <td>784312</td>\n",
       "      <td>Li</td>\n",
       "      <td>2011-07-06</td>\n",
       "      <td>Stockholm, Sweden</td>\n",
       "      <td>within an hour</td>\n",
       "      <td>100%</td>\n",
       "      <td>100%</td>\n",
       "      <td>...</td>\n",
       "      <td>4.81</td>\n",
       "      <td>4.97</td>\n",
       "      <td>4.83</td>\n",
       "      <td>4.76</td>\n",
       "      <td>t</td>\n",
       "      <td>2</td>\n",
       "      <td>0</td>\n",
       "      <td>2</td>\n",
       "      <td>0</td>\n",
       "      <td>2.55</td>\n",
       "    </tr>\n",
       "    <tr>\n",
       "      <th>2</th>\n",
       "      <td>170651</td>\n",
       "      <td>Petit Charm Rooftop next to heaven</td>\n",
       "      <td>My place is perfect for 1 person or mabey 2 if...</td>\n",
       "      <td>814021</td>\n",
       "      <td>Marie</td>\n",
       "      <td>2011-07-13</td>\n",
       "      <td>Stockholm, Sweden</td>\n",
       "      <td>within a few hours</td>\n",
       "      <td>100%</td>\n",
       "      <td>29%</td>\n",
       "      <td>...</td>\n",
       "      <td>4.55</td>\n",
       "      <td>4.92</td>\n",
       "      <td>4.84</td>\n",
       "      <td>4.74</td>\n",
       "      <td>f</td>\n",
       "      <td>1</td>\n",
       "      <td>1</td>\n",
       "      <td>0</td>\n",
       "      <td>0</td>\n",
       "      <td>0.30</td>\n",
       "    </tr>\n",
       "    <tr>\n",
       "      <th>3</th>\n",
       "      <td>206221</td>\n",
       "      <td>Doubleroom at Södermalm &amp;trendySofo</td>\n",
       "      <td>&lt;b&gt;The space&lt;/b&gt;&lt;br /&gt;The region is situated a...</td>\n",
       "      <td>1022374</td>\n",
       "      <td>Elisabeth</td>\n",
       "      <td>2011-08-26</td>\n",
       "      <td>Sweden</td>\n",
       "      <td>a few days or more</td>\n",
       "      <td>0%</td>\n",
       "      <td>0%</td>\n",
       "      <td>...</td>\n",
       "      <td>4.83</td>\n",
       "      <td>4.90</td>\n",
       "      <td>4.94</td>\n",
       "      <td>4.83</td>\n",
       "      <td>f</td>\n",
       "      <td>1</td>\n",
       "      <td>0</td>\n",
       "      <td>0</td>\n",
       "      <td>1</td>\n",
       "      <td>0.59</td>\n",
       "    </tr>\n",
       "    <tr>\n",
       "      <th>4</th>\n",
       "      <td>208366</td>\n",
       "      <td>Central apt. in Sofo .Perfect 4 Families &amp; Kids</td>\n",
       "      <td>&lt;b&gt;The space&lt;/b&gt;&lt;br /&gt;LOCATION:&lt;br /&gt;Beautiful...</td>\n",
       "      <td>993889</td>\n",
       "      <td>Bartholomew Lion</td>\n",
       "      <td>2011-08-19</td>\n",
       "      <td>Stockholm, Sweden</td>\n",
       "      <td>within an hour</td>\n",
       "      <td>100%</td>\n",
       "      <td>17%</td>\n",
       "      <td>...</td>\n",
       "      <td>4.43</td>\n",
       "      <td>4.92</td>\n",
       "      <td>4.70</td>\n",
       "      <td>4.49</td>\n",
       "      <td>f</td>\n",
       "      <td>1</td>\n",
       "      <td>1</td>\n",
       "      <td>0</td>\n",
       "      <td>0</td>\n",
       "      <td>0.32</td>\n",
       "    </tr>\n",
       "  </tbody>\n",
       "</table>\n",
       "<p>5 rows × 43 columns</p>\n",
       "</div>"
      ],
      "text/plain": [
       "       id                                             name   \n",
       "0   75590                Amazing nature location by a lake  \\\n",
       "1  164448      Double room in central Stockholm with Wi-Fi   \n",
       "2  170651               Petit Charm Rooftop next to heaven   \n",
       "3  206221              Doubleroom at Södermalm &trendySofo   \n",
       "4  208366  Central apt. in Sofo .Perfect 4 Families & Kids   \n",
       "\n",
       "                                         description  host_id   \n",
       "0  Apartment on the top floor, overlooking a lake...   397766  \\\n",
       "1  I am renting out a nice double room on the top...   784312   \n",
       "2  My place is perfect for 1 person or mabey 2 if...   814021   \n",
       "3  <b>The space</b><br />The region is situated a...  1022374   \n",
       "4  <b>The space</b><br />LOCATION:<br />Beautiful...   993889   \n",
       "\n",
       "          host_name  host_since      host_location  host_response_time   \n",
       "0             Peter  2011-02-18  Stockholm, Sweden                 NaN  \\\n",
       "1                Li  2011-07-06  Stockholm, Sweden      within an hour   \n",
       "2             Marie  2011-07-13  Stockholm, Sweden  within a few hours   \n",
       "3         Elisabeth  2011-08-26             Sweden  a few days or more   \n",
       "4  Bartholomew Lion  2011-08-19  Stockholm, Sweden      within an hour   \n",
       "\n",
       "  host_response_rate host_acceptance_rate  ...  review_scores_cleanliness   \n",
       "0                NaN                   0%  ...                       4.89  \\\n",
       "1               100%                 100%  ...                       4.81   \n",
       "2               100%                  29%  ...                       4.55   \n",
       "3                 0%                   0%  ...                       4.83   \n",
       "4               100%                  17%  ...                       4.43   \n",
       "\n",
       "   review_scores_communication review_scores_location review_scores_value   \n",
       "0                         5.00                   4.78                4.78  \\\n",
       "1                         4.97                   4.83                4.76   \n",
       "2                         4.92                   4.84                4.74   \n",
       "3                         4.90                   4.94                4.83   \n",
       "4                         4.92                   4.70                4.49   \n",
       "\n",
       "  instant_bookable  calculated_host_listings_count   \n",
       "0                f                               1  \\\n",
       "1                t                               2   \n",
       "2                f                               1   \n",
       "3                f                               1   \n",
       "4                f                               1   \n",
       "\n",
       "   calculated_host_listings_count_entire_homes   \n",
       "0                                            1  \\\n",
       "1                                            0   \n",
       "2                                            1   \n",
       "3                                            0   \n",
       "4                                            1   \n",
       "\n",
       "  calculated_host_listings_count_private_rooms   \n",
       "0                                            0  \\\n",
       "1                                            2   \n",
       "2                                            0   \n",
       "3                                            0   \n",
       "4                                            0   \n",
       "\n",
       "  calculated_host_listings_count_shared_rooms  reviews_per_month  \n",
       "0                                           0               0.09  \n",
       "1                                           0               2.55  \n",
       "2                                           0               0.30  \n",
       "3                                           1               0.59  \n",
       "4                                           0               0.32  \n",
       "\n",
       "[5 rows x 43 columns]"
      ]
     },
     "execution_count": 15,
     "metadata": {},
     "output_type": "execute_result"
    }
   ],
   "source": [
    "sh.head()"
   ]
  },
  {
   "cell_type": "code",
   "execution_count": 16,
   "id": "a7c32804-11a0-48c9-9dba-c6e6204cad65",
   "metadata": {
    "tags": []
   },
   "outputs": [
    {
     "data": {
      "text/plain": [
       "id                                                 0\n",
       "name                                               2\n",
       "description                                      105\n",
       "host_id                                            0\n",
       "host_name                                          0\n",
       "host_since                                         0\n",
       "host_location                                    592\n",
       "host_response_time                              1085\n",
       "host_response_rate                              1085\n",
       "host_acceptance_rate                             527\n",
       "host_listings_count                                0\n",
       "host_total_listings_count                          0\n",
       "host_verifications                                 0\n",
       "host_identity_verified                             0\n",
       "neighbourhood_cleansed                             0\n",
       "latitude                                           0\n",
       "longitude                                          0\n",
       "property_type                                      0\n",
       "room_type                                          0\n",
       "accommodates                                       0\n",
       "bathrooms_text                                    14\n",
       "bedrooms                                         272\n",
       "beds                                              53\n",
       "amenities                                          0\n",
       "price                                              0\n",
       "minimum_nights                                     0\n",
       "maximum_nights                                     0\n",
       "has_availability                                   0\n",
       "number_of_reviews                                  0\n",
       "number_of_reviews_ltm                              0\n",
       "number_of_reviews_l30d                             0\n",
       "review_scores_rating                             588\n",
       "review_scores_accuracy                           606\n",
       "review_scores_cleanliness                        606\n",
       "review_scores_communication                      606\n",
       "review_scores_location                           606\n",
       "review_scores_value                              606\n",
       "instant_bookable                                   0\n",
       "calculated_host_listings_count                     0\n",
       "calculated_host_listings_count_entire_homes        0\n",
       "calculated_host_listings_count_private_rooms       0\n",
       "calculated_host_listings_count_shared_rooms        0\n",
       "reviews_per_month                                588\n",
       "dtype: int64"
      ]
     },
     "execution_count": 16,
     "metadata": {},
     "output_type": "execute_result"
    }
   ],
   "source": [
    "sh.isna().sum()\n",
    "# in a second step, remove columns with no entries = neighbourhood_group_cleansed, bathrooms (!!), and license. \n",
    "# Are they all private?\n",
    "# in a third step, remove columns with more than around 50% missing values \n",
    "# like neighborhood_overview, host_about, neighbourhood\n",
    "# rows removal: later"
   ]
  },
  {
   "cell_type": "code",
   "execution_count": 17,
   "id": "26101881-9a48-4ce2-96f0-1e45058eec80",
   "metadata": {},
   "outputs": [],
   "source": [
    "# explore Stockholm's airbnb data in general\n",
    "\n",
    "# distribution of skewness in hosts\n",
    "# centrality / spread of hosts, prices, room types\n",
    "# instant bookable / main hosts\n",
    "# most popular room type\n",
    "# avg price / room type, neighborhood?\n",
    "# add column: ratio offers/host\n",
    "# add column: occupancy rate (days/year/no of frequence of bookings)\n",
    "\n",
    "# unexpected values?\n",
    "# missing values?\n",
    "\n",
    "# ratio hosts/inhabitants of citiy (950.000)"
   ]
  },
  {
   "cell_type": "code",
   "execution_count": 18,
   "id": "8ffcd0fa-48b3-4639-bdeb-d7755f6bcf4c",
   "metadata": {
    "tags": []
   },
   "outputs": [
    {
     "data": {
      "text/plain": [
       "array([nan])"
      ]
     },
     "execution_count": 18,
     "metadata": {},
     "output_type": "execute_result"
    }
   ],
   "source": [
    "sh1[\"license\"].unique()"
   ]
  },
  {
   "cell_type": "code",
   "execution_count": 19,
   "id": "db92640a-b3b7-4880-8da8-8ac886d11263",
   "metadata": {
    "tags": []
   },
   "outputs": [
    {
     "data": {
      "text/html": [
       "<div>\n",
       "<style scoped>\n",
       "    .dataframe tbody tr th:only-of-type {\n",
       "        vertical-align: middle;\n",
       "    }\n",
       "\n",
       "    .dataframe tbody tr th {\n",
       "        vertical-align: top;\n",
       "    }\n",
       "\n",
       "    .dataframe thead th {\n",
       "        text-align: right;\n",
       "    }\n",
       "</style>\n",
       "<table border=\"1\" class=\"dataframe\">\n",
       "  <thead>\n",
       "    <tr style=\"text-align: right;\">\n",
       "      <th></th>\n",
       "      <th>id</th>\n",
       "      <th>host_id</th>\n",
       "      <th>name</th>\n",
       "    </tr>\n",
       "  </thead>\n",
       "  <tbody>\n",
       "    <tr>\n",
       "      <th>3333</th>\n",
       "      <td>791041859220768353</td>\n",
       "      <td>492963558</td>\n",
       "      <td>Cozy apartment in Stockholm</td>\n",
       "    </tr>\n",
       "  </tbody>\n",
       "</table>\n",
       "</div>"
      ],
      "text/plain": [
       "                      id    host_id                         name\n",
       "3333  791041859220768353  492963558  Cozy apartment in Stockholm"
      ]
     },
     "execution_count": 19,
     "metadata": {},
     "output_type": "execute_result"
    }
   ],
   "source": [
    "# lookup\n",
    "sh[['id', 'host_id', 'name']].loc[sh['host_id'] == 492963558]"
   ]
  },
  {
   "cell_type": "code",
   "execution_count": 20,
   "id": "927b6cd7-2912-4474-81e5-00ad3f8e809e",
   "metadata": {
    "tags": []
   },
   "outputs": [
    {
     "data": {
      "text/plain": [
       "0       1\n",
       "1       2\n",
       "2       1\n",
       "3       1\n",
       "4       1\n",
       "       ..\n",
       "3334    2\n",
       "3335    1\n",
       "3336    1\n",
       "3337    1\n",
       "3338    5\n",
       "Name: host_listings_count, Length: 3339, dtype: int64"
      ]
     },
     "execution_count": 20,
     "metadata": {},
     "output_type": "execute_result"
    }
   ],
   "source": [
    "#1: host listings\n",
    "sh.host_listings_count"
   ]
  },
  {
   "cell_type": "code",
   "execution_count": 21,
   "id": "9c70f248-33f8-4dfe-ba01-25b1c857da4c",
   "metadata": {
    "tags": []
   },
   "outputs": [
    {
     "data": {
      "text/plain": [
       "0       2\n",
       "1       2\n",
       "2       1\n",
       "3       2\n",
       "4       1\n",
       "       ..\n",
       "3334    2\n",
       "3335    1\n",
       "3336    1\n",
       "3337    1\n",
       "3338    5\n",
       "Name: host_total_listings_count, Length: 3339, dtype: int64"
      ]
     },
     "execution_count": 21,
     "metadata": {},
     "output_type": "execute_result"
    }
   ],
   "source": [
    "sh.host_total_listings_count"
   ]
  },
  {
   "cell_type": "code",
   "execution_count": 22,
   "id": "c8d0eb14-2b7d-4a04-ac90-f9bc39fb89d1",
   "metadata": {
    "tags": []
   },
   "outputs": [
    {
     "name": "stderr",
     "output_type": "stream",
     "text": [
      "/var/folders/vd/9315q_t551sdxxzmd737zk9c0000gn/T/ipykernel_27296/1893706949.py:1: SettingWithCopyWarning: \n",
      "A value is trying to be set on a copy of a slice from a DataFrame.\n",
      "Try using .loc[row_indexer,col_indexer] = value instead\n",
      "\n",
      "See the caveats in the documentation: https://pandas.pydata.org/pandas-docs/stable/user_guide/indexing.html#returning-a-view-versus-a-copy\n",
      "  sh['listings_diff'] = sh.apply(lambda row: row.host_total_listings_count - row.host_listings_count, axis=1)\n"
     ]
    },
    {
     "data": {
      "text/plain": [
       "listings_diff\n",
       "(-3.5429999999999997, 1180.667]    3326\n",
       "(2361.333, 3542.0]                   13\n",
       "(1180.667, 2361.333]                  0\n",
       "Name: count, dtype: int64"
      ]
     },
     "execution_count": 22,
     "metadata": {},
     "output_type": "execute_result"
    }
   ],
   "source": [
    "sh['listings_diff'] = sh.apply(lambda row: row.host_total_listings_count - row.host_listings_count, axis=1)\n",
    "sh.listings_diff.value_counts(bins = 3)"
   ]
  },
  {
   "cell_type": "code",
   "execution_count": 23,
   "id": "4b7ca149-17d1-461c-8c9f-0ba5eddbca87",
   "metadata": {
    "tags": []
   },
   "outputs": [
    {
     "data": {
      "text/plain": [
       "array([   1,    0,    2,    4,    3,   21,    7,    5,    6,   28,   10,\n",
       "        103,  115,   89,   15,   97,   71,   11,   19,  112,   13,   25,\n",
       "       3542,   16,  807,    8,   14])"
      ]
     },
     "execution_count": 23,
     "metadata": {},
     "output_type": "execute_result"
    }
   ],
   "source": [
    "sh.listings_diff.unique()"
   ]
  },
  {
   "cell_type": "code",
   "execution_count": 24,
   "id": "b046c62a-11a1-4426-86a1-91d0cc5cf0a0",
   "metadata": {
    "tags": []
   },
   "outputs": [
    {
     "name": "stdout",
     "output_type": "stream",
     "text": [
      "<class 'pandas.core.series.Series'>\n",
      "RangeIndex: 3339 entries, 0 to 3338\n",
      "Series name: listings_diff\n",
      "Non-Null Count  Dtype\n",
      "--------------  -----\n",
      "3339 non-null   int64\n",
      "dtypes: int64(1)\n",
      "memory usage: 26.2 KB\n"
     ]
    }
   ],
   "source": [
    "sh.listings_diff.info()"
   ]
  },
  {
   "cell_type": "code",
   "execution_count": 25,
   "id": "4b1355e4-9a13-4342-869a-51278d50e333",
   "metadata": {
    "tags": []
   },
   "outputs": [
    {
     "data": {
      "text/plain": [
       "(733, 44)"
      ]
     },
     "execution_count": 25,
     "metadata": {},
     "output_type": "execute_result"
    }
   ],
   "source": [
    "sh[sh.listings_diff >= 2].shape"
   ]
  },
  {
   "cell_type": "code",
   "execution_count": 26,
   "id": "bb0a85fe-02c5-4e55-9f6c-8326d8f2c14a",
   "metadata": {
    "tags": []
   },
   "outputs": [
    {
     "data": {
      "text/plain": [
       "host_listings_count\n",
       "(-0.597, 160.6]     3318\n",
       "(1437.4, 1597.0]      13\n",
       "(320.2, 479.8]         5\n",
       "(1277.8, 1437.4]       3\n",
       "(160.6, 320.2]         0\n",
       "(479.8, 639.4]         0\n",
       "(639.4, 799.0]         0\n",
       "(799.0, 958.6]         0\n",
       "(958.6, 1118.2]        0\n",
       "(1118.2, 1277.8]       0\n",
       "Name: count, dtype: int64"
      ]
     },
     "execution_count": 26,
     "metadata": {},
     "output_type": "execute_result"
    }
   ],
   "source": [
    "sh.host_listings_count.value_counts(sort=True, bins = 10)"
   ]
  },
  {
   "cell_type": "code",
   "execution_count": 27,
   "id": "f1db75c4-2d34-4de6-ab4a-7362c2c63e6b",
   "metadata": {
    "tags": []
   },
   "outputs": [
    {
     "data": {
      "text/plain": [
       "(721, 44)"
      ]
     },
     "execution_count": 27,
     "metadata": {},
     "output_type": "execute_result"
    }
   ],
   "source": [
    "sh[sh.host_listings_count >= 3].shape"
   ]
  },
  {
   "cell_type": "code",
   "execution_count": 28,
   "id": "3bf7e38c-09f5-44c3-ba80-fd109f4ade96",
   "metadata": {
    "tags": []
   },
   "outputs": [],
   "source": [
    "#2: share room type"
   ]
  },
  {
   "cell_type": "code",
   "execution_count": 29,
   "id": "328aab9b-0a05-4d9f-a1d2-cfd8f8c289dc",
   "metadata": {
    "tags": []
   },
   "outputs": [
    {
     "data": {
      "text/plain": [
       "<Axes: xlabel='room_type', ylabel='count'>"
      ]
     },
     "execution_count": 29,
     "metadata": {},
     "output_type": "execute_result"
    },
    {
     "data": {
      "image/png": "[encoded data removed]",
      "text/plain": [
       "<Figure size 640x480 with 1 Axes>"
      ]
     },
     "metadata": {},
     "output_type": "display_data"
    }
   ],
   "source": [
    "sns.countplot(x=\"room_type\", data = sh)"
   ]
  },
  {
   "cell_type": "code",
   "execution_count": 30,
   "id": "0c2f96bc-9c85-43d9-8890-f288495bf653",
   "metadata": {
    "tags": []
   },
   "outputs": [
    {
     "data": {
      "text/plain": [
       "room_type\n",
       "Entire home/apt    2618\n",
       "Private room        646\n",
       "Shared room          40\n",
       "Hotel room           35\n",
       "Name: count, dtype: int64"
      ]
     },
     "execution_count": 30,
     "metadata": {},
     "output_type": "execute_result"
    }
   ],
   "source": [
    "sh.room_type.value_counts()"
   ]
  },
  {
   "cell_type": "code",
   "execution_count": 34,
   "id": "b500c6a0-e88f-46db-b60c-8fe22970d5fd",
   "metadata": {
    "tags": []
   },
   "outputs": [
    {
     "ename": "ValueError",
     "evalue": "could not convert string to float: '$949.00'",
     "output_type": "error",
     "traceback": [
      "\u001b[0;31m---------------------------------------------------------------------------\u001b[0m",
      "\u001b[0;31mValueError\u001b[0m                                Traceback (most recent call last)",
      "Cell \u001b[0;32mIn[34], line 1\u001b[0m\n\u001b[0;32m----> 1\u001b[0m \u001b[43msh\u001b[49m\u001b[43m[\u001b[49m\u001b[38;5;124;43m'\u001b[39;49m\u001b[38;5;124;43mprice\u001b[39;49m\u001b[38;5;124;43m'\u001b[39;49m\u001b[43m]\u001b[49m\u001b[38;5;241;43m.\u001b[39;49m\u001b[43mastype\u001b[49m\u001b[43m(\u001b[49m\u001b[38;5;28;43mfloat\u001b[39;49m\u001b[43m)\u001b[49m\n\u001b[1;32m      2\u001b[0m sh\u001b[38;5;241m.\u001b[39mprice\u001b[38;5;241m.\u001b[39minfo()\n",
      "File \u001b[0;32m~/Desktop/neuefische/Modellbauer/.venv/lib/python3.9/site-packages/pandas/core/generic.py:6324\u001b[0m, in \u001b[0;36mNDFrame.astype\u001b[0;34m(self, dtype, copy, errors)\u001b[0m\n\u001b[1;32m   6317\u001b[0m     results \u001b[38;5;241m=\u001b[39m [\n\u001b[1;32m   6318\u001b[0m         \u001b[38;5;28mself\u001b[39m\u001b[38;5;241m.\u001b[39miloc[:, i]\u001b[38;5;241m.\u001b[39mastype(dtype, copy\u001b[38;5;241m=\u001b[39mcopy)\n\u001b[1;32m   6319\u001b[0m         \u001b[38;5;28;01mfor\u001b[39;00m i \u001b[38;5;129;01min\u001b[39;00m \u001b[38;5;28mrange\u001b[39m(\u001b[38;5;28mlen\u001b[39m(\u001b[38;5;28mself\u001b[39m\u001b[38;5;241m.\u001b[39mcolumns))\n\u001b[1;32m   6320\u001b[0m     ]\n\u001b[1;32m   6322\u001b[0m \u001b[38;5;28;01melse\u001b[39;00m:\n\u001b[1;32m   6323\u001b[0m     \u001b[38;5;66;03m# else, only a single dtype is given\u001b[39;00m\n\u001b[0;32m-> 6324\u001b[0m     new_data \u001b[38;5;241m=\u001b[39m \u001b[38;5;28;43mself\u001b[39;49m\u001b[38;5;241;43m.\u001b[39;49m\u001b[43m_mgr\u001b[49m\u001b[38;5;241;43m.\u001b[39;49m\u001b[43mastype\u001b[49m\u001b[43m(\u001b[49m\u001b[43mdtype\u001b[49m\u001b[38;5;241;43m=\u001b[39;49m\u001b[43mdtype\u001b[49m\u001b[43m,\u001b[49m\u001b[43m \u001b[49m\u001b[43mcopy\u001b[49m\u001b[38;5;241;43m=\u001b[39;49m\u001b[43mcopy\u001b[49m\u001b[43m,\u001b[49m\u001b[43m \u001b[49m\u001b[43merrors\u001b[49m\u001b[38;5;241;43m=\u001b[39;49m\u001b[43merrors\u001b[49m\u001b[43m)\u001b[49m\n\u001b[1;32m   6325\u001b[0m     \u001b[38;5;28;01mreturn\u001b[39;00m \u001b[38;5;28mself\u001b[39m\u001b[38;5;241m.\u001b[39m_constructor(new_data)\u001b[38;5;241m.\u001b[39m__finalize__(\u001b[38;5;28mself\u001b[39m, method\u001b[38;5;241m=\u001b[39m\u001b[38;5;124m\"\u001b[39m\u001b[38;5;124mastype\u001b[39m\u001b[38;5;124m\"\u001b[39m)\n\u001b[1;32m   6327\u001b[0m \u001b[38;5;66;03m# GH 33113: handle empty frame or series\u001b[39;00m\n",
      "File \u001b[0;32m~/Desktop/neuefische/Modellbauer/.venv/lib/python3.9/site-packages/pandas/core/internals/managers.py:451\u001b[0m, in \u001b[0;36mBaseBlockManager.astype\u001b[0;34m(self, dtype, copy, errors)\u001b[0m\n\u001b[1;32m    448\u001b[0m \u001b[38;5;28;01melif\u001b[39;00m using_copy_on_write():\n\u001b[1;32m    449\u001b[0m     copy \u001b[38;5;241m=\u001b[39m \u001b[38;5;28;01mFalse\u001b[39;00m\n\u001b[0;32m--> 451\u001b[0m \u001b[38;5;28;01mreturn\u001b[39;00m \u001b[38;5;28;43mself\u001b[39;49m\u001b[38;5;241;43m.\u001b[39;49m\u001b[43mapply\u001b[49m\u001b[43m(\u001b[49m\n\u001b[1;32m    452\u001b[0m \u001b[43m    \u001b[49m\u001b[38;5;124;43m\"\u001b[39;49m\u001b[38;5;124;43mastype\u001b[39;49m\u001b[38;5;124;43m\"\u001b[39;49m\u001b[43m,\u001b[49m\n\u001b[1;32m    453\u001b[0m \u001b[43m    \u001b[49m\u001b[43mdtype\u001b[49m\u001b[38;5;241;43m=\u001b[39;49m\u001b[43mdtype\u001b[49m\u001b[43m,\u001b[49m\n\u001b[1;32m    454\u001b[0m \u001b[43m    \u001b[49m\u001b[43mcopy\u001b[49m\u001b[38;5;241;43m=\u001b[39;49m\u001b[43mcopy\u001b[49m\u001b[43m,\u001b[49m\n\u001b[1;32m    455\u001b[0m \u001b[43m    \u001b[49m\u001b[43merrors\u001b[49m\u001b[38;5;241;43m=\u001b[39;49m\u001b[43merrors\u001b[49m\u001b[43m,\u001b[49m\n\u001b[1;32m    456\u001b[0m \u001b[43m    \u001b[49m\u001b[43musing_cow\u001b[49m\u001b[38;5;241;43m=\u001b[39;49m\u001b[43musing_copy_on_write\u001b[49m\u001b[43m(\u001b[49m\u001b[43m)\u001b[49m\u001b[43m,\u001b[49m\n\u001b[1;32m    457\u001b[0m \u001b[43m\u001b[49m\u001b[43m)\u001b[49m\n",
      "File \u001b[0;32m~/Desktop/neuefische/Modellbauer/.venv/lib/python3.9/site-packages/pandas/core/internals/managers.py:352\u001b[0m, in \u001b[0;36mBaseBlockManager.apply\u001b[0;34m(self, f, align_keys, **kwargs)\u001b[0m\n\u001b[1;32m    350\u001b[0m         applied \u001b[38;5;241m=\u001b[39m b\u001b[38;5;241m.\u001b[39mapply(f, \u001b[38;5;241m*\u001b[39m\u001b[38;5;241m*\u001b[39mkwargs)\n\u001b[1;32m    351\u001b[0m     \u001b[38;5;28;01melse\u001b[39;00m:\n\u001b[0;32m--> 352\u001b[0m         applied \u001b[38;5;241m=\u001b[39m \u001b[38;5;28;43mgetattr\u001b[39;49m\u001b[43m(\u001b[49m\u001b[43mb\u001b[49m\u001b[43m,\u001b[49m\u001b[43m \u001b[49m\u001b[43mf\u001b[49m\u001b[43m)\u001b[49m\u001b[43m(\u001b[49m\u001b[38;5;241;43m*\u001b[39;49m\u001b[38;5;241;43m*\u001b[39;49m\u001b[43mkwargs\u001b[49m\u001b[43m)\u001b[49m\n\u001b[1;32m    353\u001b[0m     result_blocks \u001b[38;5;241m=\u001b[39m extend_blocks(applied, result_blocks)\n\u001b[1;32m    355\u001b[0m out \u001b[38;5;241m=\u001b[39m \u001b[38;5;28mtype\u001b[39m(\u001b[38;5;28mself\u001b[39m)\u001b[38;5;241m.\u001b[39mfrom_blocks(result_blocks, \u001b[38;5;28mself\u001b[39m\u001b[38;5;241m.\u001b[39maxes)\n",
      "File \u001b[0;32m~/Desktop/neuefische/Modellbauer/.venv/lib/python3.9/site-packages/pandas/core/internals/blocks.py:511\u001b[0m, in \u001b[0;36mBlock.astype\u001b[0;34m(self, dtype, copy, errors, using_cow)\u001b[0m\n\u001b[1;32m    491\u001b[0m \u001b[38;5;250m\u001b[39m\u001b[38;5;124;03m\"\"\"\u001b[39;00m\n\u001b[1;32m    492\u001b[0m \u001b[38;5;124;03mCoerce to the new dtype.\u001b[39;00m\n\u001b[1;32m    493\u001b[0m \n\u001b[0;32m   (...)\u001b[0m\n\u001b[1;32m    507\u001b[0m \u001b[38;5;124;03mBlock\u001b[39;00m\n\u001b[1;32m    508\u001b[0m \u001b[38;5;124;03m\"\"\"\u001b[39;00m\n\u001b[1;32m    509\u001b[0m values \u001b[38;5;241m=\u001b[39m \u001b[38;5;28mself\u001b[39m\u001b[38;5;241m.\u001b[39mvalues\n\u001b[0;32m--> 511\u001b[0m new_values \u001b[38;5;241m=\u001b[39m \u001b[43mastype_array_safe\u001b[49m\u001b[43m(\u001b[49m\u001b[43mvalues\u001b[49m\u001b[43m,\u001b[49m\u001b[43m \u001b[49m\u001b[43mdtype\u001b[49m\u001b[43m,\u001b[49m\u001b[43m \u001b[49m\u001b[43mcopy\u001b[49m\u001b[38;5;241;43m=\u001b[39;49m\u001b[43mcopy\u001b[49m\u001b[43m,\u001b[49m\u001b[43m \u001b[49m\u001b[43merrors\u001b[49m\u001b[38;5;241;43m=\u001b[39;49m\u001b[43merrors\u001b[49m\u001b[43m)\u001b[49m\n\u001b[1;32m    513\u001b[0m new_values \u001b[38;5;241m=\u001b[39m maybe_coerce_values(new_values)\n\u001b[1;32m    515\u001b[0m refs \u001b[38;5;241m=\u001b[39m \u001b[38;5;28;01mNone\u001b[39;00m\n",
      "File \u001b[0;32m~/Desktop/neuefische/Modellbauer/.venv/lib/python3.9/site-packages/pandas/core/dtypes/astype.py:242\u001b[0m, in \u001b[0;36mastype_array_safe\u001b[0;34m(values, dtype, copy, errors)\u001b[0m\n\u001b[1;32m    239\u001b[0m     dtype \u001b[38;5;241m=\u001b[39m dtype\u001b[38;5;241m.\u001b[39mnumpy_dtype\n\u001b[1;32m    241\u001b[0m \u001b[38;5;28;01mtry\u001b[39;00m:\n\u001b[0;32m--> 242\u001b[0m     new_values \u001b[38;5;241m=\u001b[39m \u001b[43mastype_array\u001b[49m\u001b[43m(\u001b[49m\u001b[43mvalues\u001b[49m\u001b[43m,\u001b[49m\u001b[43m \u001b[49m\u001b[43mdtype\u001b[49m\u001b[43m,\u001b[49m\u001b[43m \u001b[49m\u001b[43mcopy\u001b[49m\u001b[38;5;241;43m=\u001b[39;49m\u001b[43mcopy\u001b[49m\u001b[43m)\u001b[49m\n\u001b[1;32m    243\u001b[0m \u001b[38;5;28;01mexcept\u001b[39;00m (\u001b[38;5;167;01mValueError\u001b[39;00m, \u001b[38;5;167;01mTypeError\u001b[39;00m):\n\u001b[1;32m    244\u001b[0m     \u001b[38;5;66;03m# e.g. _astype_nansafe can fail on object-dtype of strings\u001b[39;00m\n\u001b[1;32m    245\u001b[0m     \u001b[38;5;66;03m#  trying to convert to float\u001b[39;00m\n\u001b[1;32m    246\u001b[0m     \u001b[38;5;28;01mif\u001b[39;00m errors \u001b[38;5;241m==\u001b[39m \u001b[38;5;124m\"\u001b[39m\u001b[38;5;124mignore\u001b[39m\u001b[38;5;124m\"\u001b[39m:\n",
      "File \u001b[0;32m~/Desktop/neuefische/Modellbauer/.venv/lib/python3.9/site-packages/pandas/core/dtypes/astype.py:187\u001b[0m, in \u001b[0;36mastype_array\u001b[0;34m(values, dtype, copy)\u001b[0m\n\u001b[1;32m    184\u001b[0m     values \u001b[38;5;241m=\u001b[39m values\u001b[38;5;241m.\u001b[39mastype(dtype, copy\u001b[38;5;241m=\u001b[39mcopy)\n\u001b[1;32m    186\u001b[0m \u001b[38;5;28;01melse\u001b[39;00m:\n\u001b[0;32m--> 187\u001b[0m     values \u001b[38;5;241m=\u001b[39m \u001b[43m_astype_nansafe\u001b[49m\u001b[43m(\u001b[49m\u001b[43mvalues\u001b[49m\u001b[43m,\u001b[49m\u001b[43m \u001b[49m\u001b[43mdtype\u001b[49m\u001b[43m,\u001b[49m\u001b[43m \u001b[49m\u001b[43mcopy\u001b[49m\u001b[38;5;241;43m=\u001b[39;49m\u001b[43mcopy\u001b[49m\u001b[43m)\u001b[49m\n\u001b[1;32m    189\u001b[0m \u001b[38;5;66;03m# in pandas we don't store numpy str dtypes, so convert to object\u001b[39;00m\n\u001b[1;32m    190\u001b[0m \u001b[38;5;28;01mif\u001b[39;00m \u001b[38;5;28misinstance\u001b[39m(dtype, np\u001b[38;5;241m.\u001b[39mdtype) \u001b[38;5;129;01mand\u001b[39;00m \u001b[38;5;28missubclass\u001b[39m(values\u001b[38;5;241m.\u001b[39mdtype\u001b[38;5;241m.\u001b[39mtype, \u001b[38;5;28mstr\u001b[39m):\n",
      "File \u001b[0;32m~/Desktop/neuefische/Modellbauer/.venv/lib/python3.9/site-packages/pandas/core/dtypes/astype.py:138\u001b[0m, in \u001b[0;36m_astype_nansafe\u001b[0;34m(arr, dtype, copy, skipna)\u001b[0m\n\u001b[1;32m    134\u001b[0m     \u001b[38;5;28;01mraise\u001b[39;00m \u001b[38;5;167;01mValueError\u001b[39;00m(msg)\n\u001b[1;32m    136\u001b[0m \u001b[38;5;28;01mif\u001b[39;00m copy \u001b[38;5;129;01mor\u001b[39;00m is_object_dtype(arr\u001b[38;5;241m.\u001b[39mdtype) \u001b[38;5;129;01mor\u001b[39;00m is_object_dtype(dtype):\n\u001b[1;32m    137\u001b[0m     \u001b[38;5;66;03m# Explicit copy, or required since NumPy can't view from / to object.\u001b[39;00m\n\u001b[0;32m--> 138\u001b[0m     \u001b[38;5;28;01mreturn\u001b[39;00m \u001b[43marr\u001b[49m\u001b[38;5;241;43m.\u001b[39;49m\u001b[43mastype\u001b[49m\u001b[43m(\u001b[49m\u001b[43mdtype\u001b[49m\u001b[43m,\u001b[49m\u001b[43m \u001b[49m\u001b[43mcopy\u001b[49m\u001b[38;5;241;43m=\u001b[39;49m\u001b[38;5;28;43;01mTrue\u001b[39;49;00m\u001b[43m)\u001b[49m\n\u001b[1;32m    140\u001b[0m \u001b[38;5;28;01mreturn\u001b[39;00m arr\u001b[38;5;241m.\u001b[39mastype(dtype, copy\u001b[38;5;241m=\u001b[39mcopy)\n",
      "\u001b[0;31mValueError\u001b[0m: could not convert string to float: '$949.00'"
     ]
    }
   ],
   "source": [
    "sh['price'].astype(float)\n",
    "sh.price.info()"
   ]
  },
  {
   "cell_type": "code",
   "execution_count": null,
   "id": "dbe68921-1a7a-4fe3-909b-cd283cda9b12",
   "metadata": {},
   "outputs": [],
   "source": [
    "sh.price.head(10)"
   ]
  },
  {
   "cell_type": "code",
   "execution_count": null,
   "id": "513a8d13-62d7-45d6-923f-621a5af1ac70",
   "metadata": {},
   "outputs": [],
   "source": [
    "sh.price.value_counts()"
   ]
  },
  {
   "cell_type": "code",
   "execution_count": null,
   "id": "5897230f-bede-42b6-b520-dcf6840b234f",
   "metadata": {},
   "outputs": [],
   "source": [
    "sh.price.describe()"
   ]
  },
  {
   "cell_type": "code",
   "execution_count": null,
   "id": "31a23e31-97d3-4c80-b563-ef4a68643bec",
   "metadata": {},
   "outputs": [],
   "source": []
  },
  {
   "cell_type": "code",
   "execution_count": null,
   "id": "b44338ba-e642-4635-8550-0a3db15432a6",
   "metadata": {},
   "outputs": [],
   "source": [
    "def pct99(column):\n",
    "    return column.quantile(0.99)\n",
    "sh.price.agg(pct99)"
   ]
  },
  {
   "cell_type": "code",
   "execution_count": null,
   "id": "b95167b1-be19-4676-be77-751da2765b44",
   "metadata": {},
   "outputs": [],
   "source": [
    "expensive = sh.sort_values('price').tail(35)\n",
    "print(expensive.price)"
   ]
  },
  {
   "cell_type": "code",
   "execution_count": null,
   "id": "221c9286-1997-4a0f-9a63-6b80a53568e5",
   "metadata": {
    "tags": []
   },
   "outputs": [],
   "source": [
    "sh.property_type.unique()"
   ]
  },
  {
   "cell_type": "code",
   "execution_count": null,
   "id": "befdba66-a4f3-4e79-963d-77ae62eb5aca",
   "metadata": {
    "tags": []
   },
   "outputs": [],
   "source": [
    "wanted = ['Private room in bed and breakfast', 'Entire serviced apartment', 'Shared room in hostel', 'Room in hotel', 'Room in boutique hotel', 'Room in serviced apartment', 'Private room in hostel', 'Room in hostel', 'Room in aparthotel', 'Shared room in bed and breakfast', 'Shared room in bed and breakfast']\n",
    "sh_wanted = sh[sh[\"property_type\"].isin(wanted)]\n",
    "sh_wanted.shape"
   ]
  },
  {
   "cell_type": "code",
   "execution_count": null,
   "id": "724dd3f9-8759-4e7a-bd22-6b8c9bbbd76f",
   "metadata": {
    "tags": []
   },
   "outputs": [],
   "source": [
    "sh_wanted[sh_wanted.listings_diff >= 2].shape"
   ]
  },
  {
   "cell_type": "code",
   "execution_count": null,
   "id": "da15cac8-f684-4df5-bc87-df961aa547a0",
   "metadata": {
    "tags": []
   },
   "outputs": [],
   "source": [
    "sh.bedrooms.unique()"
   ]
  },
  {
   "cell_type": "code",
   "execution_count": null,
   "id": "f89a7bba-3486-4bc7-93f2-5112e156929d",
   "metadata": {
    "tags": []
   },
   "outputs": [],
   "source": [
    "sh.beds.unique()"
   ]
  },
  {
   "cell_type": "code",
   "execution_count": null,
   "id": "425239eb-3587-43ab-96f4-d7784e47edd3",
   "metadata": {
    "tags": []
   },
   "outputs": [],
   "source": [
    "minu = sh.minimum_nights.unique()\n",
    "print(sorted(minu))"
   ]
  },
  {
   "cell_type": "code",
   "execution_count": null,
   "id": "e6c115c9-760a-42ea-9235-5cd197969ed3",
   "metadata": {
    "tags": []
   },
   "outputs": [],
   "source": [
    "sh[sh.minimum_nights >= 4].shape"
   ]
  },
  {
   "cell_type": "code",
   "execution_count": null,
   "id": "fcae09e3-4a10-4789-ab4f-eb011175c84d",
   "metadata": {
    "tags": []
   },
   "outputs": [],
   "source": [
    "sh_nc = sh.neighbourhood_cleansed.unique()\n",
    "print(sorted(sh_nc))"
   ]
  },
  {
   "cell_type": "code",
   "execution_count": null,
   "id": "e07beb8e-f5f6-466e-b15e-c6d08d0e1021",
   "metadata": {
    "tags": []
   },
   "outputs": [],
   "source": [
    "sns.countplot(x='neighbourhood_cleansed', data = sh)\n",
    "plt.xticks(rotation = 90)"
   ]
  },
  {
   "cell_type": "code",
   "execution_count": null,
   "id": "2137cc7e-4a80-444a-b95a-5c8491daa987",
   "metadata": {
    "tags": []
   },
   "outputs": [],
   "source": [
    "sh[\"has_availability\"].value_counts()"
   ]
  },
  {
   "cell_type": "code",
   "execution_count": null,
   "id": "ea04b01c-748d-4281-9f10-e4f6b218f52c",
   "metadata": {
    "tags": []
   },
   "outputs": [],
   "source": [
    "sh1[\"availability_30\"].describe()"
   ]
  },
  {
   "cell_type": "code",
   "execution_count": null,
   "id": "33fb8d24-835c-420a-8abe-cfe93c9bd1c2",
   "metadata": {
    "tags": []
   },
   "outputs": [],
   "source": [
    "sh1.availability_30.value_counts(ascending = True, bins = 6)"
   ]
  },
  {
   "cell_type": "code",
   "execution_count": null,
   "id": "89b22e32-28ea-49a9-8094-97fd18ae66a7",
   "metadata": {
    "tags": []
   },
   "outputs": [],
   "source": [
    "sh1[\"availability_60\"].describe()"
   ]
  },
  {
   "cell_type": "code",
   "execution_count": null,
   "id": "4bc0f486-1fed-42ce-972c-0701a46493a0",
   "metadata": {
    "tags": []
   },
   "outputs": [],
   "source": [
    "sh1.availability_60.value_counts(ascending = True, bins = 6)"
   ]
  },
  {
   "cell_type": "code",
   "execution_count": null,
   "id": "f30b28f7-ccd9-4416-9c72-ba87fa3bc703",
   "metadata": {
    "tags": []
   },
   "outputs": [],
   "source": [
    "sh1[\"availability_90\"].describe()"
   ]
  },
  {
   "cell_type": "code",
   "execution_count": null,
   "id": "b00e45d9-dba8-4b8e-8c0d-fceb2b0cd7e6",
   "metadata": {
    "tags": []
   },
   "outputs": [],
   "source": [
    "sh1.availability_90.value_counts(ascending = True, bins = 6)"
   ]
  },
  {
   "cell_type": "code",
   "execution_count": null,
   "id": "5ae15841-cf95-4d92-aedc-5a1b69f3d983",
   "metadata": {
    "tags": []
   },
   "outputs": [],
   "source": [
    "sh1[\"availability_365\"].describe()"
   ]
  },
  {
   "cell_type": "code",
   "execution_count": null,
   "id": "e4c7a6d0-5fa8-4be5-89ee-a634cdf89c20",
   "metadata": {
    "tags": []
   },
   "outputs": [],
   "source": [
    "sh1.availability_365.value_counts(ascending = True, bins = 6)"
   ]
  },
  {
   "cell_type": "code",
   "execution_count": null,
   "id": "311d35b9-011d-4142-b8f8-fdee1ca8febb",
   "metadata": {
    "tags": []
   },
   "outputs": [],
   "source": [
    "a30 = [1785, 294, 200, 186, 266, 608]\n",
    "a60 = [1684, 223, 289, 200, 200, 743]\n",
    "a90 = [1609, 227, 199, 278, 224, 802]\n",
    "a365 = [1511, 382, 309, 197, 221, 719]\n",
    "\n",
    "df = pd.DataFrame(data=[a30, a60, a90, a365])\n",
    "df.columns = [\"bin1\", \"bin2\", \"bin3\", \"bin4\", \"bin5\", \"bin6\"]\n",
    "print(df)"
   ]
  },
  {
   "cell_type": "code",
   "execution_count": null,
   "id": "d29cbab5-63c6-418f-98bc-905419ba8ca2",
   "metadata": {
    "tags": []
   },
   "outputs": [],
   "source": [
    "pd.DataFrame(df.values.T).plot()"
   ]
  },
  {
   "cell_type": "code",
   "execution_count": null,
   "id": "e663d451-3720-4a89-9c68-f1792b2ac5d8",
   "metadata": {
    "tags": []
   },
   "outputs": [],
   "source": [
    "sh[\"instant_bookable\"].value_counts()"
   ]
  },
  {
   "cell_type": "code",
   "execution_count": null,
   "id": "97222f48-c16c-41d5-a9c5-05b0b5502aef",
   "metadata": {
    "tags": []
   },
   "outputs": [],
   "source": [
    "sh[sh.instant_bookable == 1].isin([\"wanted\"])\n"
   ]
  },
  {
   "cell_type": "code",
   "execution_count": null,
   "id": "2986b323-1418-4ec2-9a92-b414b3677ba7",
   "metadata": {
    "tags": []
   },
   "outputs": [],
   "source": [
    "sh[sh.host_listings_count >= 4].isin([\"wanted\"])"
   ]
  },
  {
   "cell_type": "code",
   "execution_count": null,
   "id": "a407995e-d94c-4082-a05e-094c46e3e9e4",
   "metadata": {
    "tags": []
   },
   "outputs": [],
   "source": [
    "sh.number_of_reviews.sum()"
   ]
  },
  {
   "cell_type": "code",
   "execution_count": null,
   "id": "4d0d506c-5c1c-48ac-8c15-7d0b8f35ded0",
   "metadata": {
    "tags": []
   },
   "outputs": [],
   "source": [
    "sh.number_of_reviews_ltm.sum()"
   ]
  },
  {
   "cell_type": "code",
   "execution_count": null,
   "id": "ca2761a5-33de-4416-b118-14d9704ad007",
   "metadata": {
    "tags": []
   },
   "outputs": [],
   "source": [
    "sh.number_of_reviews_l30d.sum()"
   ]
  },
  {
   "cell_type": "code",
   "execution_count": null,
   "id": "162c2afe-9a9f-4adf-a7e3-f9f1f88d3566",
   "metadata": {
    "tags": []
   },
   "outputs": [],
   "source": [
    "sh.review_scores_rating.describe()"
   ]
  },
  {
   "cell_type": "code",
   "execution_count": null,
   "id": "270242b5-a804-48ef-8dbb-026419979991",
   "metadata": {
    "tags": []
   },
   "outputs": [],
   "source": [
    "sh.review_scores_accuracy.describe()"
   ]
  },
  {
   "cell_type": "code",
   "execution_count": null,
   "id": "d71bbc40-d755-452a-8cd6-7965c979464d",
   "metadata": {
    "tags": []
   },
   "outputs": [],
   "source": [
    "sh.review_scores_cleanliness.describe()"
   ]
  },
  {
   "cell_type": "code",
   "execution_count": null,
   "id": "ce32f6ee-7dfb-4867-93bc-cea29fa0df19",
   "metadata": {
    "tags": []
   },
   "outputs": [],
   "source": [
    "sh.review_scores_communication.describe()"
   ]
  },
  {
   "cell_type": "code",
   "execution_count": null,
   "id": "be982adc-4703-463a-8ac3-bb84bb3cee6a",
   "metadata": {
    "tags": []
   },
   "outputs": [],
   "source": [
    "sh.review_scores_location.describe()"
   ]
  },
  {
   "cell_type": "code",
   "execution_count": null,
   "id": "5103fed3-c81c-4df8-802a-c9950de70fe3",
   "metadata": {
    "tags": []
   },
   "outputs": [],
   "source": [
    "sh.review_scores_value.describe()"
   ]
  },
  {
   "cell_type": "code",
   "execution_count": null,
   "id": "ed73b767-4ced-4b5a-9240-91154189b2cf",
   "metadata": {},
   "outputs": [],
   "source": [
    "# data cleaning:\n",
    "# - 2 rows without \"name\"\n",
    "# - slicing the outliers in price"
   ]
  },
  {
   "cell_type": "code",
   "execution_count": null,
   "id": "c7f71a56-a668-4535-967b-2fe746dcf186",
   "metadata": {
    "tags": []
   },
   "outputs": [],
   "source": [
    "sh = sh[sh['name'].notna()]"
   ]
  },
  {
   "cell_type": "code",
   "execution_count": null,
   "id": "8f444f19-88ef-4af2-89b4-66949bb39390",
   "metadata": {
    "tags": []
   },
   "outputs": [],
   "source": [
    "sh.isna().sum()"
   ]
  },
  {
   "cell_type": "code",
   "execution_count": null,
   "id": "c5f9ffd2-5176-4e75-b8d2-d788f455d246",
   "metadata": {},
   "outputs": [],
   "source": [
    "expensive = sh.sort_values('price').tail(35)"
   ]
  },
  {
   "cell_type": "code",
   "execution_count": null,
   "id": "23251383-8e53-41d3-ac28-55c4945a3683",
   "metadata": {
    "tags": []
   },
   "outputs": [],
   "source": [
    "sh_price = sh.loc[(sh['price'] <= 6500)]\n",
    "sh_price.shape"
   ]
  },
  {
   "cell_type": "code",
   "execution_count": null,
   "id": "2e26689e-8026-4a3d-8767-ccfa1c4c0efa",
   "metadata": {
    "tags": []
   },
   "outputs": [],
   "source": [
    "# price differences between 3 accomodation categories"
   ]
  },
  {
   "cell_type": "code",
   "execution_count": null,
   "id": "ccc3042b-a977-4b14-9e6b-55e31b1126e9",
   "metadata": {
    "tags": []
   },
   "outputs": [],
   "source": [
    "sh.groupby(\"calculated_host_listings_count_entire_homes\")[\"price\"].mean().mean()"
   ]
  },
  {
   "cell_type": "code",
   "execution_count": null,
   "id": "3c0db040-5c0b-4f20-a033-2e85afc1a71e",
   "metadata": {
    "tags": []
   },
   "outputs": [],
   "source": [
    "sh.groupby(\"calculated_host_listings_count_private_rooms\")[\"price\"].mean().mean()"
   ]
  },
  {
   "cell_type": "code",
   "execution_count": null,
   "id": "9f378641-942b-4192-94fe-e784c0b5bdea",
   "metadata": {
    "tags": []
   },
   "outputs": [],
   "source": [
    "sh.groupby(\"calculated_host_listings_count_shared_rooms\")[\"price\"].mean().mean()"
   ]
  },
  {
   "cell_type": "code",
   "execution_count": null,
   "id": "4269803d-4120-48c0-ac62-f6b50f0fd94e",
   "metadata": {},
   "outputs": [],
   "source": [
    "# CHECK for RELATIONSHIPS\n",
    "\n",
    "# hosts with extraordinary multiple listings\n",
    "# frequence of bookings\n",
    "# occupancy\n",
    "# add column: occupancy rate (days/year/no of frequence of bookings?"
   ]
  },
  {
   "cell_type": "code",
   "execution_count": null,
   "id": "9cffd2d5-8645-4fd1-8674-1b7915fea0ad",
   "metadata": {
    "tags": []
   },
   "outputs": [],
   "source": [
    "sh.host_response_time = sh.host_response_time.fillna(\"no_info\")\n",
    "cat_order = [\"within an hour\", \"within a few hours\", \"within a day\", \"a few days or more\", \"no_info\"]\n",
    "sns.countplot(x=\"host_response_time\", data = sh, order = cat_order)\n",
    "plt.xticks(rotation = 90)"
   ]
  },
  {
   "cell_type": "code",
   "execution_count": null,
   "id": "4733d938-1517-4c35-a7dc-5408ac6ae6b2",
   "metadata": {
    "tags": []
   },
   "outputs": [],
   "source": [
    "# Listings & Einwohner je Vorort (2014)\n",
    "#Södermalms                960 / 126.736\n",
    "#Norrmalms                 359 / 69.592\n",
    "#Kungsholmens              343 / 68.016\n",
    "#Hägersten-Liljeholmens    311 / 83.283\n",
    "#Enskede-Årsta-Vantörs     281 / 96.916\n",
    "#Östermalms                231 / 61.000\n",
    "#Bromma                    188 / 72.000\n",
    "#Skarpnäcks                174 / 45.340\n",
    "#Hässelby-Vällingby        120 / 71.042\n",
    "#Älvsjö                    107 / 27.500\n",
    "#Farsta                    103 / 55.300\n",
    "#Rinkeby-Tensta             71 / 46.000\n",
    "#Spånga-Tensta              50 / 38.082\n",
    "#Skärholmens                41 / 31.000"
   ]
  },
  {
   "cell_type": "code",
   "execution_count": null,
   "id": "a0f2e13a-edf5-4eee-b028-258a2a397f2a",
   "metadata": {
    "tags": []
   },
   "outputs": [],
   "source": [
    "a = 126.736/960\n",
    "b = 69.592/359\n",
    "c = 68.016/343\n",
    "d = 83.283/311\n",
    "e = 96.916/281\n",
    "f = 61.000/231\n",
    "g = 72.000/188 \n",
    "i = 45.340/174\n",
    "j = 71.042/120\n",
    "k = 27.500/107\n",
    "l = 55.300/103\n",
    "m = 46.000/71\n",
    "n = 38.082/50\n",
    "o = 31.000/41\n",
    "print(a, b, c, d, e, f, g, i, j, k, l, m, n, o) "
   ]
  },
  {
   "cell_type": "code",
   "execution_count": null,
   "id": "8484ef8a-b8c2-471e-a190-f7657687ac9f",
   "metadata": {
    "tags": []
   },
   "outputs": [],
   "source": [
    "sh1.availability_365.value_counts()"
   ]
  },
  {
   "cell_type": "code",
   "execution_count": null,
   "id": "e06d7868-e597-44b6-ac31-c597df98b88c",
   "metadata": {
    "tags": []
   },
   "outputs": [],
   "source": [
    "sh_check = sh1[[\"host_response_rate\",\"host_acceptance_rate\", \"availability_90\", \"number_of_reviews_ltm\", \"instant_bookable\", \"host_response_time\"]]\n",
    "sh_check"
   ]
  },
  {
   "cell_type": "code",
   "execution_count": null,
   "id": "2fd136ad-4331-41aa-88ac-195c88461600",
   "metadata": {
    "tags": []
   },
   "outputs": [],
   "source": [
    "sh_check.info()"
   ]
  },
  {
   "cell_type": "code",
   "execution_count": null,
   "id": "29e4a6db-c8ba-404e-985e-8da1a1b5db6b",
   "metadata": {
    "tags": []
   },
   "outputs": [],
   "source": [
    "sh.host_response_rate = sh.host_response_rate.str.replace('%', '')\n",
    "sh.host_response_rate = sh.host_response_rate.astype(float)\n",
    "sh.host_response_rate.value_counts().sort_values()"
   ]
  },
  {
   "cell_type": "code",
   "execution_count": null,
   "id": "5cba0b3a-8d63-4110-adbc-29c354308ce2",
   "metadata": {},
   "outputs": [],
   "source": [
    "sh.host_response_rate.isna().sum()"
   ]
  },
  {
   "cell_type": "code",
   "execution_count": null,
   "id": "3019b138-aeeb-4e08-8eb6-b8de418aafd3",
   "metadata": {
    "tags": []
   },
   "outputs": [],
   "source": [
    "sh.host_response_rate.info()"
   ]
  },
  {
   "cell_type": "code",
   "execution_count": null,
   "id": "a21ea293-6604-4009-b3cb-e611e251fd5f",
   "metadata": {
    "tags": []
   },
   "outputs": [],
   "source": [
    "sh.host_response_time.value_counts()"
   ]
  },
  {
   "cell_type": "code",
   "execution_count": null,
   "id": "8a804e87-61ab-4f99-b4d8-f15365c0264a",
   "metadata": {
    "tags": []
   },
   "outputs": [],
   "source": [
    "sh.host_response_time.isna().sum()"
   ]
  },
  {
   "cell_type": "code",
   "execution_count": null,
   "id": "ae3743ce-1048-49fc-a4c1-d109c59c211b",
   "metadata": {
    "tags": []
   },
   "outputs": [],
   "source": [
    "sh.host_acceptance_rate = sh.host_acceptance_rate.str.replace('%', '')\n",
    "sh.host_acceptance_rate.value_counts().sort_index()"
   ]
  },
  {
   "cell_type": "code",
   "execution_count": null,
   "id": "c28e9c3d-6a8f-4c44-947d-3b980f7ad2e1",
   "metadata": {
    "tags": []
   },
   "outputs": [],
   "source": [
    "sh.host_acceptance_rate.isna().sum()"
   ]
  },
  {
   "cell_type": "code",
   "execution_count": null,
   "id": "502fd808-bcf4-44a9-88c3-ad017047c61b",
   "metadata": {
    "tags": []
   },
   "outputs": [],
   "source": [
    "sh.host_acceptance_rate.astype(float).describe()"
   ]
  },
  {
   "cell_type": "code",
   "execution_count": null,
   "id": "d481e5f2-84ef-46f1-b8e2-e8e99359a5bf",
   "metadata": {
    "tags": []
   },
   "outputs": [],
   "source": [
    "sh1.availability_90.value_counts().sort_index()"
   ]
  },
  {
   "cell_type": "code",
   "execution_count": null,
   "id": "d3ce84fd-4d3c-4f5e-855f-398f53940437",
   "metadata": {
    "tags": []
   },
   "outputs": [],
   "source": [
    "sh = sh1.assign(availability_90_ratio=lambda x: x[\"availability_90\"] / 90)\n",
    "sh.availability_90_ratio.describe()\n"
   ]
  },
  {
   "cell_type": "code",
   "execution_count": null,
   "id": "ba9024a7-b0fb-41de-b2ae-7c15b5ce44a3",
   "metadata": {
    "tags": []
   },
   "outputs": [],
   "source": [
    "sh[sh[\"availability_90_ratio\"] < 0.7]"
   ]
  },
  {
   "cell_type": "code",
   "execution_count": null,
   "id": "5dcc3a35-8995-424b-8e3e-59f1548e442b",
   "metadata": {},
   "outputs": [],
   "source": [
    "sh.number_of_reviews_ltm.describe()"
   ]
  },
  {
   "cell_type": "code",
   "execution_count": null,
   "id": "37d8d403-d21a-42d1-bbdf-2a6c14727e14",
   "metadata": {},
   "outputs": [],
   "source": [
    "sh.number_of_reviews_ltm.value_counts(normalize = True)"
   ]
  },
  {
   "cell_type": "code",
   "execution_count": null,
   "id": "fcd9e018-a73b-45db-8ff5-448ed22b83dc",
   "metadata": {},
   "outputs": [],
   "source": [
    "sh[sh[\"number_of_reviews_ltm\"] > 15]"
   ]
  },
  {
   "cell_type": "code",
   "execution_count": null,
   "id": "43c37e75-6800-4a5d-ad09-b9c9a52055e1",
   "metadata": {},
   "outputs": [],
   "source": [
    "sh.host_listings_count.describe()"
   ]
  },
  {
   "cell_type": "code",
   "execution_count": null,
   "id": "1f191dc7-656b-432d-bbae-f18108632f80",
   "metadata": {},
   "outputs": [],
   "source": [
    "sh.host_total_listings_count.describe()"
   ]
  },
  {
   "cell_type": "code",
   "execution_count": null,
   "id": "89db17ce-c6df-4082-af13-7d0321179183",
   "metadata": {},
   "outputs": [],
   "source": [
    "sh.property_type.value_counts()"
   ]
  },
  {
   "cell_type": "code",
   "execution_count": null,
   "id": "d219d94e-ec06-48f6-bd43-745dff0fa082",
   "metadata": {},
   "outputs": [],
   "source": [
    "sh['instant_bookable'] = np.where(sh['instant_bookable'] == \"t\", 1, sh['instant_bookable'])\n",
    "sh['instant_bookable'] = np.where(sh['instant_bookable'] == \"f\", 0, sh['instant_bookable'])\n",
    "sh['instant_bookable'] = sh.instant_bookable.astype(float)"
   ]
  },
  {
   "cell_type": "code",
   "execution_count": null,
   "id": "dca2df4e-d253-4fa5-9910-57d7f7bbd224",
   "metadata": {
    "tags": []
   },
   "outputs": [],
   "source": [
    "sh.instant_bookable.info()"
   ]
  },
  {
   "cell_type": "code",
   "execution_count": null,
   "id": "cf7b8544-145d-44e4-9644-6af86d9b25b3",
   "metadata": {},
   "outputs": [],
   "source": [
    "sh.minimum_nights.value_counts()"
   ]
  },
  {
   "cell_type": "code",
   "execution_count": null,
   "id": "f4e127ba-c266-40fb-8cad-bdb5d8232d2d",
   "metadata": {
    "tags": []
   },
   "outputs": [],
   "source": [
    "sh_check = sh[['host_response_rate', 'host_response_time', 'host_acceptance_rate', 'availability_90', 'host_listings_count', 'host_total_listings_count', 'number_of_reviews_ltm', 'instant_bookable', 'minimum_nights']]\n",
    "sh_check"
   ]
  },
  {
   "cell_type": "code",
   "execution_count": null,
   "id": "343e03b4-1a80-4494-b973-6df803b5c7a6",
   "metadata": {
    "tags": []
   },
   "outputs": [],
   "source": [
    "sh_check.info()"
   ]
  },
  {
   "cell_type": "code",
   "execution_count": null,
   "id": "70c1d8a8-5f74-4a63-bf23-539d32c1816e",
   "metadata": {},
   "outputs": [],
   "source": [
    "# price differences between 3 accomodation categories, neighborhoods\n",
    "# are no of recommendations, recommendaton rate, Antwortzeit and level of Ausstattung correlated to the pricing as third factor?\n",
    "# most popular room type is the entire_home type with 85.11%.\n",
    "\n",
    "# price \n",
    "\n",
    "# other ideas\n",
    "# avg booking periods"
   ]
  },
  {
   "cell_type": "code",
   "execution_count": null,
   "id": "f7ac6e22-86f6-4787-adfe-ecffdc19c712",
   "metadata": {
    "tags": []
   },
   "outputs": [],
   "source": [
    "sh[\"bathrooms_text\"].value_counts()"
   ]
  },
  {
   "cell_type": "code",
   "execution_count": null,
   "id": "f7eedaed-2295-4d5b-b63c-1cea28b65144",
   "metadata": {},
   "outputs": [],
   "source": [
    "sh[\"bathrooms_text\"].isnull().sum()"
   ]
  },
  {
   "cell_type": "code",
   "execution_count": null,
   "id": "bbf81d16-2388-4dcb-9b8b-c233645af9c7",
   "metadata": {},
   "outputs": [],
   "source": []
  },
  {
   "cell_type": "code",
   "execution_count": null,
   "id": "34acbd88-e83d-4514-9100-1568f3592f67",
   "metadata": {},
   "outputs": [],
   "source": []
  },
  {
   "cell_type": "code",
   "execution_count": null,
   "id": "94d3c2ad-f9e7-4284-b698-7d04419c9993",
   "metadata": {},
   "outputs": [],
   "source": []
  },
  {
   "cell_type": "code",
   "execution_count": null,
   "id": "9959e8b1-1756-4bd6-86f6-7618433ccfd2",
   "metadata": {},
   "outputs": [],
   "source": []
  }
 ],
 "metadata": {
  "kernelspec": {
   "display_name": "Python 3 (ipykernel)",
   "language": "python",
   "name": "python3"
  },
  "language_info": {
   "codemirror_mode": {
    "name": "ipython",
    "version": 3
   },
   "file_extension": ".py",
   "mimetype": "text/x-python",
   "name": "python",
   "nbconvert_exporter": "python",
   "pygments_lexer": "ipython3",
   "version": "3.9.8"
  }
 },
 "nbformat": 4,
 "nbformat_minor": 5
}
