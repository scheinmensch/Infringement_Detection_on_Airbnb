{
 "cells": [
  {
   "cell_type": "markdown",
   "id": "815a4486-b2da-4bd9-8893-bc038b9a598f",
   "metadata": {},
   "source": [
    "## Abstract"
   ]
  },
  {
   "cell_type": "markdown",
   "id": "c3d45b95-c90e-48dc-91b7-3bf956635422",
   "metadata": {},
   "source": [
    "Airbnb has a growing share of the accomodation industry all over the globe. Airbnb offers different types of accomodation ranging from shared room till villas. In many cities the short-term rental of flats is a rental price rising force and it reduces the number of available flats for inhabitants on the city. In some cities it is particularly critical. With data from the Italian webpage insiteaibnb (http://insideairbnb.com/), I analysed the AirBnb market in Rome, Italy. "
   ]
  },
  {
   "cell_type": "code",
   "execution_count": null,
   "id": "77bfa5dc-e1e9-472a-ba80-0d871826fa41",
   "metadata": {
    "tags": []
   },
   "outputs": [],
   "source": [
    "# Import and installing packages\n",
    "\n",
    "import numpy as np\n",
    "import pandas as pd\n",
    "import matplotlib.pyplot as plt\n",
    "import seaborn as sns\n",
    "\n",
    "import warnings\n",
    "warnings.filterwarnings('ignore')\n",
    "warnings.simplefilter('ignore')"
   ]
  },
  {
   "cell_type": "code",
   "execution_count": null,
   "id": "e9e52d12-eb3f-4a9d-b731-32bcad804e2c",
   "metadata": {
    "tags": []
   },
   "outputs": [],
   "source": [
    "# Import and installing packages\n",
    "\n",
    "!pip install missingno"
   ]
  },
  {
   "cell_type": "code",
   "execution_count": null,
   "id": "c7ac6511-8ee8-4406-a264-f8da493b2107",
   "metadata": {
    "tags": []
   },
   "outputs": [],
   "source": [
    "# Defining color schema\n",
    "\n",
    "c = ['#8e9aaf', '#cbc0d3', '#efd3d7', '#feeafa', '#dee2ff']"
   ]
  },
  {
   "cell_type": "code",
   "execution_count": null,
   "id": "3cf016b0-55d6-4238-92a8-fe65bad4a872",
   "metadata": {
    "tags": []
   },
   "outputs": [],
   "source": [
    "# Load dataset into a pandas dataframe\n",
    "\n",
    "df = pd.read_csv('data/listings_Rome.csv')"
   ]
  },
  {
   "cell_type": "code",
   "execution_count": null,
   "id": "2145731c-4108-48dd-802e-88899bac6c52",
   "metadata": {
    "tags": []
   },
   "outputs": [],
   "source": [
    "# check the first lines of the dataframe\n",
    "\n",
    "df.head()"
   ]
  },
  {
   "cell_type": "code",
   "execution_count": null,
   "id": "0fd443ff-584c-4a51-8e4f-8adcec205f36",
   "metadata": {
    "tags": []
   },
   "outputs": [],
   "source": [
    "# check the variables of the dataframe\n",
    "\n",
    "df.columns"
   ]
  },
  {
   "cell_type": "code",
   "execution_count": null,
   "id": "afe8048a-3ad7-40e5-93df-f5fc49b4c57c",
   "metadata": {
    "tags": []
   },
   "outputs": [],
   "source": [
    "# check the regions/neighbourhoods of Rome\n",
    "\n",
    "df['neighbourhood_cleansed'].unique()"
   ]
  },
  {
   "cell_type": "markdown",
   "id": "98302d28-92ba-49ec-ace3-7382cc971f5d",
   "metadata": {},
   "source": [
    "### Cleaning Data"
   ]
  },
  {
   "cell_type": "code",
   "execution_count": null,
   "id": "0a8bd001-b094-41f7-a47a-af8e760dd053",
   "metadata": {
    "tags": []
   },
   "outputs": [],
   "source": [
    "# search for patterns in the missing data\n",
    "\n",
    "import missingno as msno\n",
    "msno.matrix(df)"
   ]
  },
  {
   "cell_type": "markdown",
   "id": "280acdc4-5fcd-4036-918b-708dca6a7dd8",
   "metadata": {},
   "source": [
    "Some variables are mainly empty, it worths to take a closer look, which ones."
   ]
  },
  {
   "cell_type": "code",
   "execution_count": null,
   "id": "d4b88fa5-c082-4721-83f9-1f9a950badbb",
   "metadata": {
    "tags": []
   },
   "outputs": [],
   "source": [
    "df.info()"
   ]
  },
  {
   "cell_type": "markdown",
   "id": "a4490e97-6fc0-472e-9660-22cdd3aefda0",
   "metadata": {},
   "source": [
    "The following variables are empty: neighbourhood_cleansed, bathrooms, calendar_updated  "
   ]
  },
  {
   "cell_type": "code",
   "execution_count": null,
   "id": "6d16b645-847b-425b-a0a7-a0e7d9a867f0",
   "metadata": {},
   "outputs": [],
   "source": [
    "# drop the empty columns\n",
    "\n",
    "df.drop(['neighbourhood_cleansed', 'bathrooms', 'calendar_updated'], axis=1)"
   ]
  },
  {
   "cell_type": "markdown",
   "id": "91108ecb-3d77-43c5-a5aa-b8df80f9a927",
   "metadata": {},
   "source": [
    "### Listings and hsts in Rome"
   ]
  },
  {
   "cell_type": "code",
   "execution_count": null,
   "id": "52d11bcf-0e52-47df-acca-e925c537596c",
   "metadata": {
    "tags": []
   },
   "outputs": [],
   "source": [
    "# Number of listings in Rome, separate offers\n",
    "\n",
    "len(df.index)"
   ]
  },
  {
   "cell_type": "code",
   "execution_count": null,
   "id": "684dcbfb-6b85-4d0b-915c-b4eb09fce4c8",
   "metadata": {
    "tags": []
   },
   "outputs": [],
   "source": [
    "# Number of hosts\n",
    "\n",
    "df['host_id'].nunique()"
   ]
  },
  {
   "cell_type": "markdown",
   "id": "07e0ae2a-3240-4379-a6be-ed411ac7f9ec",
   "metadata": {},
   "source": [
    "From the discrepancy between the number of accomodation offered and the number of hosts, it is visiable that some hosts are offereing more than one accomodation."
   ]
  },
  {
   "cell_type": "code",
   "execution_count": null,
   "id": "14952347-925a-4b1f-bdd2-ad2da5f04848",
   "metadata": {
    "tags": []
   },
   "outputs": [],
   "source": [
    "# group the listings by the hosts to see how many listings they own\n",
    "\n",
    "df_host = df.groupby('host_id').id.count().sort_values(ascending = False)"
   ]
  },
  {
   "cell_type": "code",
   "execution_count": null,
   "id": "be2ff672-f29e-41f0-b1d1-a0e2313eefcf",
   "metadata": {
    "tags": []
   },
   "outputs": [],
   "source": [
    "# check the first 25 hosts\n",
    "\n",
    "df_host.head(25)"
   ]
  },
  {
   "cell_type": "code",
   "execution_count": null,
   "id": "eaecba64-bf92-47bc-b36c-4dde333202ad",
   "metadata": {
    "tags": []
   },
   "outputs": [],
   "source": [
    "# The largest host in Rome offers 239 accomodations\n",
    "\n",
    "df.loc[df['host_id'] == 23532561].id.count()"
   ]
  },
  {
   "cell_type": "code",
   "execution_count": null,
   "id": "f6aaabca-3fbc-4b34-acee-0de7942f19df",
   "metadata": {
    "tags": []
   },
   "outputs": [],
   "source": [
    "# check the largest host in Rome\n",
    "\n",
    "df[['id', 'host_id', 'name', 'host_name']].loc[df['host_id'] == 23532561]"
   ]
  },
  {
   "cell_type": "code",
   "execution_count": null,
   "id": "9210f8df-c593-4b33-a0de-d619ed849602",
   "metadata": {
    "tags": []
   },
   "outputs": [],
   "source": [
    "# visualize the proportion of hosts with one or more offers\n",
    "\n",
    "y = np.array([9007, 3928])\n",
    "mylabels = [\"More properties\", \"One property\"]\n",
    "\n",
    "mycolors =c\n",
    "myexplode = [0.2, 0]\n",
    "\n",
    "plt.pie(y, labels = mylabels, colors= mycolors, autopct = '%1.1f%%', explode = myexplode, startangle = 90)\n",
    "plt.title(\"Number of offers per host\")\n",
    "plt.show() "
   ]
  },
  {
   "cell_type": "markdown",
   "id": "ef55dd07-0c96-4e7d-a91e-df393cc83f82",
   "metadata": {},
   "source": [
    "### Location of the accomodations in Rome"
   ]
  },
  {
   "cell_type": "code",
   "execution_count": null,
   "id": "fcce818f-7f9e-45b6-b1a7-e78bda696e38",
   "metadata": {
    "tags": []
   },
   "outputs": [],
   "source": [
    "# Name of the regions within Rome\n",
    "\n",
    "df['neighbourhood_cleansed'].unique()"
   ]
  },
  {
   "cell_type": "code",
   "execution_count": null,
   "id": "5787796b-c250-4c6e-883e-2b2f85ca8224",
   "metadata": {
    "tags": []
   },
   "outputs": [],
   "source": [
    "# Number of accommodation per neighbourhood\n",
    "\n",
    "df.groupby('neighbourhood_cleansed').id.count()"
   ]
  },
  {
   "cell_type": "markdown",
   "id": "5802aa7b-f9c1-4885-b2c6-58c933f675ad",
   "metadata": {},
   "source": [
    "### License"
   ]
  },
  {
   "cell_type": "markdown",
   "id": "4dec2c10-c71b-4a87-8bf4-d30fb1457679",
   "metadata": {},
   "source": [
    "According to the actual regulations in Rome (https://airbtics.com/airbnb-regulation-in-rome/) **CIR code** is needed for hosting for a short time."
   ]
  },
  {
   "cell_type": "code",
   "execution_count": null,
   "id": "87159f69-f0e0-4098-b286-e02dc4054b68",
   "metadata": {
    "tags": []
   },
   "outputs": [],
   "source": [
    "df[['id', 'host_id', 'license']].head(10)"
   ]
  },
  {
   "cell_type": "code",
   "execution_count": null,
   "id": "58d40707-3af2-482b-9122-2c97e0ceacd9",
   "metadata": {
    "tags": []
   },
   "outputs": [],
   "source": [
    "# Among all listings in Rome only 3649 showed a registration number/code\n",
    "\n",
    "df['license'].nunique()"
   ]
  },
  {
   "cell_type": "code",
   "execution_count": null,
   "id": "1c46a1ac-b9e5-45cc-956c-3ce9952b73cc",
   "metadata": {
    "tags": []
   },
   "outputs": [],
   "source": [
    "# 20469 offers do not indicate a licence number...\n",
    "\n",
    "df['license'].isnull().sum()"
   ]
  },
  {
   "cell_type": "code",
   "execution_count": null,
   "id": "0d41d2dc-1f86-4fb3-9481-c6ac72d57c96",
   "metadata": {
    "tags": []
   },
   "outputs": [],
   "source": [
    "df['license'].unique()"
   ]
  },
  {
   "cell_type": "code",
   "execution_count": null,
   "id": "7a191fae-5d7a-4917-a319-af606554f08c",
   "metadata": {
    "tags": []
   },
   "outputs": [],
   "source": [
    "# Checking for CIR codes in the dataframe\n",
    "\n",
    "df['license'] = df['license'].fillna('')\n",
    "df_license = df[df['license'].str.contains('CIR')]\n"
   ]
  },
  {
   "cell_type": "code",
   "execution_count": null,
   "id": "981638fb-7fdd-454f-b784-58b909e311c6",
   "metadata": {
    "tags": []
   },
   "outputs": [],
   "source": [
    "df_license[['id', 'host_id', 'license']]"
   ]
  },
  {
   "cell_type": "markdown",
   "id": "94a082c5-eb03-49ec-b8ba-365fcbc0143f",
   "metadata": {},
   "source": [
    "Out of 24924 listings in Rome, 108 has a formally correctly indicated CIR number."
   ]
  },
  {
   "cell_type": "markdown",
   "id": "3cdad3d2-7729-496b-866f-29af06bf5ff4",
   "metadata": {},
   "source": [
    "### The biggest host in Rome (host_id = 23532561)"
   ]
  },
  {
   "cell_type": "code",
   "execution_count": null,
   "id": "28b1c10c-d977-454f-b0de-abb581b3e401",
   "metadata": {},
   "outputs": [],
   "source": [
    "# create a dataframe containing only the listings from the largest host\n",
    "\n",
    "df_tophost = df.query('host_id == 23532561')"
   ]
  },
  {
   "cell_type": "code",
   "execution_count": null,
   "id": "797899be-71d3-4dcd-9f2a-e57da246b222",
   "metadata": {
    "tags": []
   },
   "outputs": [],
   "source": [
    "# hecking the first some lines of the new dataframe\n",
    "\n",
    "df_tophost.head()"
   ]
  },
  {
   "cell_type": "code",
   "execution_count": null,
   "id": "4b47d967-ebe9-4338-b66b-cb0a2a2fd3d0",
   "metadata": {
    "tags": []
   },
   "outputs": [],
   "source": [
    "# The biggest host in Rome (iFlat) has 3 separate licences for 238 accommodations.\n",
    "\n",
    "df_tophost['license'].nunique()"
   ]
  },
  {
   "cell_type": "code",
   "execution_count": null,
   "id": "74f26fd8-da7f-4a65-9873-246a485f95c7",
   "metadata": {
    "tags": []
   },
   "outputs": [],
   "source": [
    "# the following licences: \n",
    "\n",
    "df_tophost['license'].unique()"
   ]
  },
  {
   "cell_type": "code",
   "execution_count": null,
   "id": "1c61d95b-8050-49e5-b5f5-e7d4c676a4fd",
   "metadata": {
    "tags": []
   },
   "outputs": [],
   "source": [
    "df_tophost['calculated_host_listings_count_private_rooms'].unique()"
   ]
  },
  {
   "cell_type": "code",
   "execution_count": null,
   "id": "a134da46-3985-4ca7-ab9e-54dd6657c65d",
   "metadata": {
    "tags": []
   },
   "outputs": [],
   "source": [
    "df_tophost['calculated_host_listings_count_entire_homes'].unique()"
   ]
  },
  {
   "cell_type": "markdown",
   "id": "e87c023a-c2f5-42ae-8bcf-8ca1b2385a16",
   "metadata": {},
   "source": [
    "Out of 239 listings, iFlat offers 238 entire flats and 1 private rooms."
   ]
  },
  {
   "cell_type": "markdown",
   "id": "38a3e55b-dbc6-47a8-919a-0304a08325f8",
   "metadata": {},
   "source": [
    "### Information about the hosts"
   ]
  },
  {
   "cell_type": "code",
   "execution_count": null,
   "id": "3f606e4d-a43b-42f8-93f4-918f198218c6",
   "metadata": {
    "tags": []
   },
   "outputs": [],
   "source": [
    "# check on the hosts in more details\n",
    "\n",
    "df.groupby(['host_id','host_name','host_since','host_response_time','host_is_superhost','host_listings_count', 'host_total_listings_count']).agg(listings=('id', 'count'))"
   ]
  },
  {
   "cell_type": "code",
   "execution_count": null,
   "id": "e1c24be8-cf2c-4c16-8323-8686c71d428d",
   "metadata": {
    "tags": []
   },
   "outputs": [],
   "source": [
    "df.groupby(['host_id','host_name','host_since','host_is_superhost','calculated_host_listings_count']).agg(listings=('id', 'count')).sort_values(by = 'listings', ascending = False)"
   ]
  },
  {
   "cell_type": "markdown",
   "id": "9578085b-b41b-4d3b-9601-b80b0a7da768",
   "metadata": {},
   "source": [
    "#### Recode string values with numeric in host_response_time"
   ]
  },
  {
   "cell_type": "code",
   "execution_count": null,
   "id": "c9d46148-1fb9-40a0-801d-42fb9e957775",
   "metadata": {
    "tags": []
   },
   "outputs": [],
   "source": [
    "df['host_response_time'].nunique()"
   ]
  },
  {
   "cell_type": "code",
   "execution_count": null,
   "id": "be403f0f-9635-42df-aaef-2c22c6de574e",
   "metadata": {
    "tags": []
   },
   "outputs": [],
   "source": [
    "df['host_response_time'].unique()"
   ]
  },
  {
   "cell_type": "code",
   "execution_count": null,
   "id": "2ca2c097-b166-4389-ab44-1d81431c0609",
   "metadata": {
    "tags": []
   },
   "outputs": [],
   "source": [
    "df.loc[df['host_response_time'] == 'within an hour', 'host_response_time'] = 1\n"
   ]
  },
  {
   "cell_type": "code",
   "execution_count": null,
   "id": "afaf4e1d-c990-4731-a197-5b5762bb2b25",
   "metadata": {
    "tags": []
   },
   "outputs": [],
   "source": [
    "df.loc[df['host_response_time'] == 'within a few hours', 'host_response_time'] = 2"
   ]
  },
  {
   "cell_type": "code",
   "execution_count": null,
   "id": "7e422b10-544f-4d95-9e46-8d851353fab2",
   "metadata": {
    "tags": []
   },
   "outputs": [],
   "source": [
    "df.loc[df['host_response_time'] == 'within a day', 'host_response_time'] = 3"
   ]
  },
  {
   "cell_type": "code",
   "execution_count": null,
   "id": "f18a8819-ab65-4dcd-a4a3-074e9546402b",
   "metadata": {
    "tags": []
   },
   "outputs": [],
   "source": [
    "df.loc[df['host_response_time'] == 'a few days or more', 'host_response_time'] = 4"
   ]
  },
  {
   "cell_type": "code",
   "execution_count": null,
   "id": "b114110f-a386-4f3d-ac0c-72253f7542f3",
   "metadata": {
    "tags": []
   },
   "outputs": [],
   "source": [
    "df['host_response_time'].unique()"
   ]
  },
  {
   "cell_type": "code",
   "execution_count": null,
   "id": "f0faa7c3-dd10-47d8-a9cd-97a0b84de61b",
   "metadata": {
    "tags": []
   },
   "outputs": [],
   "source": [
    "df.groupby(['host_id','host_name','host_since','host_is_superhost','calculated_host_listings_count', 'host_response_time']).agg(listings=('id', 'count'),response_time=('host_response_time', 'mean')).sort_values(by = 'listings', ascending = False)"
   ]
  },
  {
   "cell_type": "markdown",
   "id": "989e18af-e6e3-4c7b-8b92-e6de713d66f6",
   "metadata": {},
   "source": [
    "### Categorizing the hosts based on the number of offers"
   ]
  },
  {
   "cell_type": "markdown",
   "id": "f85c5bbc-079a-4e1e-9c8a-88c02c1b270e",
   "metadata": {},
   "source": [
    "#### Adding variable host_type\n",
    "- **1: 1 listing**\n",
    "- **2: 2 listings**\n",
    "- **3: 3 listings**\n",
    "- **4: less/or equal than 10 listings**\n",
    "- **5: more than 10 listings**\n"
   ]
  },
  {
   "cell_type": "code",
   "execution_count": null,
   "id": "306621ec-bcc8-4bf2-8e43-27ae9c7e4110",
   "metadata": {
    "tags": []
   },
   "outputs": [],
   "source": [
    "df['calculated_host_listings_count'].unique()"
   ]
  },
  {
   "cell_type": "code",
   "execution_count": null,
   "id": "a45fff5a-432d-46ee-a47a-c6f8dd07b3b2",
   "metadata": {
    "tags": []
   },
   "outputs": [],
   "source": [
    "df.loc[df['calculated_host_listings_count'] == 1, 'host_type'] = 1\n"
   ]
  },
  {
   "cell_type": "code",
   "execution_count": null,
   "id": "ecef1095-195c-4d02-9ab3-6c70f9a39f17",
   "metadata": {
    "tags": []
   },
   "outputs": [],
   "source": [
    "df.loc[df['calculated_host_listings_count'] == 2, 'host_type'] = 2"
   ]
  },
  {
   "cell_type": "code",
   "execution_count": null,
   "id": "bf790f2e-a0d2-45c2-a6f9-d39e5b9356dd",
   "metadata": {
    "tags": []
   },
   "outputs": [],
   "source": [
    "df.loc[df['calculated_host_listings_count'] == 3, 'host_type'] = 3"
   ]
  },
  {
   "cell_type": "code",
   "execution_count": null,
   "id": "331927ec-8871-4667-af7a-896fdf626aa5",
   "metadata": {
    "tags": []
   },
   "outputs": [],
   "source": [
    "df.loc[(df['calculated_host_listings_count'] > 3) & (df['calculated_host_listings_count'] < 11), 'host_type'] = 4"
   ]
  },
  {
   "cell_type": "code",
   "execution_count": null,
   "id": "1c5b894e-1c5d-4436-a33e-4e504252ca90",
   "metadata": {
    "tags": []
   },
   "outputs": [],
   "source": [
    "df.loc[(df['calculated_host_listings_count'] > 10) & (df['calculated_host_listings_count'] < 250), 'host_type'] = 5"
   ]
  },
  {
   "cell_type": "code",
   "execution_count": null,
   "id": "09f99ab1-1bc5-4219-bb28-22e09a525d0d",
   "metadata": {
    "tags": []
   },
   "outputs": [],
   "source": [
    "# the the recoded values\n",
    "\n",
    "df['host_type'].unique()"
   ]
  },
  {
   "cell_type": "markdown",
   "id": "c11fd434-3384-48e8-ba81-adfb986b6117",
   "metadata": {},
   "source": [
    "#### Hosts response time"
   ]
  },
  {
   "cell_type": "code",
   "execution_count": null,
   "id": "1d8dd31d-fb91-4d2e-9f2a-40dec6f7053b",
   "metadata": {
    "tags": []
   },
   "outputs": [],
   "source": [
    "# recode in response time in percentage\n",
    "\n",
    "new_df = df.groupby('host_type')['host_response_time'].value_counts(normalize=True)\n",
    "new_df = new_df.mul(100).rename('Percent').reset_index()"
   ]
  },
  {
   "cell_type": "code",
   "execution_count": null,
   "id": "bd44d74e-039b-48a4-a464-df0a367d472b",
   "metadata": {
    "tags": []
   },
   "outputs": [],
   "source": [
    "# visualize the response time of the large hosts \n",
    "\n",
    "# set the background color to #242424 \n",
    "sns.set(rc={'axes.facecolor':'#242424', 'figure.facecolor':'#242424'})\n",
    "\n",
    "# plot the data with a categorical plot\n",
    "\n",
    "g = sns.catplot(data=new_df, kind='bar', x='host_type', y= 'Percent', hue='host_response_time', legend = False, palette = c)\n",
    "\n",
    "titel = plt.title('Number of accomodation in the different cities')\n",
    "legend = plt.legend(['within an hour', 'within some hours', 'within a day', 'within some days'], loc=0, frameon=False)   \n",
    "for text in legend.get_texts():\n",
    "    text.set_color(\"white\")\n",
    "\n",
    "# change axes labels and ticks to white    \n",
    "xlabel = plt.xlabel('Host type')\n",
    "ylabel = plt.ylabel('Percentage')\n",
    "\n",
    "xlabel.set_color(\"white\")\n",
    "ylabel.set_color(\"white\")\n",
    "\n",
    "xtick = plt.xticks(rotation=45, color='white')\n",
    "g.set_xticklabels(['1 listing','2 listings','3 listings', '4-10 listings', 'above 10'])\n",
    "ytick = plt.yticks(color=\"white\")\n",
    "\n",
    "titel.set_color(\"white\")\n",
    "        \n",
    "# Turns off grid on the left Axis.\n",
    "g.ax.grid(False)\n",
    "sns.despine()"
   ]
  },
  {
   "cell_type": "markdown",
   "id": "c3785bd8-1936-4b54-b80a-977109da6d6f",
   "metadata": {},
   "source": [
    "86 % of the corporate hosts replied within an hour. However, all the other hosts has a similar response time, therefore, no pattern among hosts types can be identified."
   ]
  },
  {
   "cell_type": "markdown",
   "id": "f834ae53-77e6-4209-9c99-ea7cdb3d1b53",
   "metadata": {},
   "source": [
    "#### Host acceptance rate"
   ]
  },
  {
   "cell_type": "code",
   "execution_count": null,
   "id": "c79a948b-3722-4677-9d1b-454c44a22cdc",
   "metadata": {
    "tags": []
   },
   "outputs": [],
   "source": [
    "df_bighosts = df.query('host_type == 5')"
   ]
  },
  {
   "cell_type": "code",
   "execution_count": null,
   "id": "0e4e72b2-26ea-4af2-81bd-a9003da19fe2",
   "metadata": {
    "tags": []
   },
   "outputs": [],
   "source": [
    "df_bighosts['host_acceptance_rate'] = df_bighosts['host_acceptance_rate'].str.rstrip(\"%\").astype(float)/100"
   ]
  },
  {
   "cell_type": "code",
   "execution_count": null,
   "id": "96f1ed15-b8f2-4ec9-830b-899acbc631d0",
   "metadata": {
    "tags": []
   },
   "outputs": [],
   "source": [
    "# acceptance rate for large hosts\n",
    "\n",
    "df_bighosts['host_acceptance_rate'].mean()"
   ]
  },
  {
   "cell_type": "code",
   "execution_count": null,
   "id": "3e8a1800-7d11-46b3-843f-93051ea43757",
   "metadata": {
    "tags": []
   },
   "outputs": [],
   "source": [
    "df_singlehost = df.query('host_type == 1')"
   ]
  },
  {
   "cell_type": "code",
   "execution_count": null,
   "id": "b9e01a31-2dc6-4b86-9706-502b97ddc003",
   "metadata": {
    "tags": []
   },
   "outputs": [],
   "source": [
    "df_singlehost['host_acceptance_rate'] = df_singlehost['host_acceptance_rate'].str.rstrip(\"%\").astype(float)/100"
   ]
  },
  {
   "cell_type": "code",
   "execution_count": null,
   "id": "30571aba-7329-4c54-ae97-2ae61143a7bd",
   "metadata": {
    "tags": []
   },
   "outputs": [],
   "source": [
    "# acceptance rate for hosts with one listing\n",
    "\n",
    "df_singlehost['host_acceptance_rate'].mean()"
   ]
  },
  {
   "cell_type": "code",
   "execution_count": null,
   "id": "073359bc-9a48-4ce5-bcdc-c6271fef4734",
   "metadata": {
    "tags": []
   },
   "outputs": [],
   "source": [
    "df_doublehosts = df.query('host_type == 2')"
   ]
  },
  {
   "cell_type": "code",
   "execution_count": null,
   "id": "a6aa331a-145d-456b-9dbf-5b56b160e335",
   "metadata": {},
   "outputs": [],
   "source": [
    "df_doublehosts['host_acceptance_rate'] = df_doublehosts['host_acceptance_rate'].str.rstrip(\"%\").astype(float)/100"
   ]
  },
  {
   "cell_type": "code",
   "execution_count": null,
   "id": "df1231d2-86dc-4631-b511-5bcda941402f",
   "metadata": {
    "tags": []
   },
   "outputs": [],
   "source": [
    "# acceptance rate for hosts with 2 listings\n",
    "\n",
    "df_doublehosts['host_acceptance_rate'].mean()"
   ]
  },
  {
   "cell_type": "code",
   "execution_count": null,
   "id": "43abf098-dfc2-4346-a7f8-074fbacd817a",
   "metadata": {
    "tags": []
   },
   "outputs": [],
   "source": [
    "df_triplehosts = df.query('host_type == 3')"
   ]
  },
  {
   "cell_type": "code",
   "execution_count": null,
   "id": "22a8aa33-642d-4f0d-9ddc-d57affb66762",
   "metadata": {
    "tags": []
   },
   "outputs": [],
   "source": [
    "df_triplehosts['host_acceptance_rate'] = df_triplehosts['host_acceptance_rate'].str.rstrip(\"%\").astype(float)/100"
   ]
  },
  {
   "cell_type": "code",
   "execution_count": null,
   "id": "a67c8a94-c8cc-4452-8b0d-f10c915a2f1e",
   "metadata": {
    "tags": []
   },
   "outputs": [],
   "source": [
    "## acceptance rate for hosts with 3 listings\n",
    "\n",
    "df_triplehosts['host_acceptance_rate'].mean()"
   ]
  },
  {
   "cell_type": "code",
   "execution_count": null,
   "id": "2c87c15e-85a2-4e3a-88f2-5d9ec089d29d",
   "metadata": {
    "tags": []
   },
   "outputs": [],
   "source": [
    "df_middlehosts = df.query('host_type == 4')"
   ]
  },
  {
   "cell_type": "code",
   "execution_count": null,
   "id": "9dd0a7b1-6cc7-4bef-b7f3-7b1b27fdda24",
   "metadata": {
    "tags": []
   },
   "outputs": [],
   "source": [
    "df_middlehosts['host_acceptance_rate'] = df_middlehosts['host_acceptance_rate'].str.rstrip(\"%\").astype(float)/100"
   ]
  },
  {
   "cell_type": "code",
   "execution_count": null,
   "id": "c49993a5-f3e5-4731-b1be-2f81362f881d",
   "metadata": {
    "tags": []
   },
   "outputs": [],
   "source": [
    "# acceptance rate hosts with 4-10 ratings\n",
    "\n",
    "df_middlehosts['host_acceptance_rate'].mean()"
   ]
  },
  {
   "cell_type": "markdown",
   "id": "4219a471-2094-4d85-b2bb-7c56c6a22af4",
   "metadata": {},
   "source": [
    "Possible commertial hosts (more than 3 flats) having a higher acceptance rate."
   ]
  },
  {
   "cell_type": "code",
   "execution_count": null,
   "id": "608cf422-dc82-43df-aa33-28b761f5f57e",
   "metadata": {
    "tags": []
   },
   "outputs": [],
   "source": [
    "fig, ax = plt.subplots(figsize=(6, 3), subplot_kw=dict(aspect=\"equal\"))\n",
    "\n",
    "label = ['single host', 'double host', 'triple host', '4-10 appartments', 'big hosts']\n",
    "\n",
    "data = [0.8579, 0.8932, 0.8823, 0.9004, 0.9382]\n",
    "\n",
    "wedges, texts = ax.pie(data, wedgeprops=dict(width=0.5), startangle=-40)\n",
    "\n",
    "bbox_props = dict(boxstyle=\"square,pad=0.3\", fc=\"w\", ec=\"k\", lw=0.72)\n",
    "kw = dict(arrowprops=dict(arrowstyle=\"-\"),\n",
    "          bbox=bbox_props, zorder=0, va=\"center\")\n",
    "\n",
    "for i, p in enumerate(wedges):\n",
    "    ang = (p.theta2 - p.theta1)/2. + p.theta1\n",
    "    y = np.sin(np.deg2rad(ang))\n",
    "    x = np.cos(np.deg2rad(ang))\n",
    "    horizontalalignment = {-1: \"right\", 1: \"left\"}[int(np.sign(x))]\n",
    "    connectionstyle = f\"angle,angleA=0,angleB={ang}\"\n",
    "    kw[\"arrowprops\"].update({\"connectionstyle\": connectionstyle})\n",
    "    ax.annotate(label[i], xy=(x, y), xytext=(1.35*np.sign(x), 1.4*y),\n",
    "                horizontalalignment=horizontalalignment, **kw)\n",
    "\n",
    "\n",
    "plt.show()"
   ]
  },
  {
   "cell_type": "code",
   "execution_count": null,
   "id": "7796c2af-3e59-430d-aa86-58bdec8d349f",
   "metadata": {},
   "outputs": [],
   "source": []
  }
 ],
 "metadata": {
  "kernelspec": {
   "display_name": "Python 3 (ipykernel)",
   "language": "python",
   "name": "python3"
  },
  "language_info": {
   "codemirror_mode": {
    "name": "ipython",
    "version": 3
   },
   "file_extension": ".py",
   "mimetype": "text/x-python",
   "name": "python",
   "nbconvert_exporter": "python",
   "pygments_lexer": "ipython3",
   "version": "3.10.9"
  },
  "toc-autonumbering": false,
  "toc-showcode": false,
  "toc-showmarkdowntxt": true
 },
 "nbformat": 4,
 "nbformat_minor": 5
}
