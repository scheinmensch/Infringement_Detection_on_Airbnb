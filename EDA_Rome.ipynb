{
 "cells": [
  {
   "cell_type": "markdown",
   "id": "815a4486-b2da-4bd9-8893-bc038b9a598f",
   "metadata": {},
   "source": [
    "## Abstract"
   ]
  },
  {
   "cell_type": "markdown",
   "id": "c3d45b95-c90e-48dc-91b7-3bf956635422",
   "metadata": {},
   "source": [
    "Dataset of airbnb datas from Rome from the webpahe inside airbnb."
   ]
  },
  {
   "cell_type": "markdown",
   "id": "2757d64e-d7af-454e-afcf-295ceec5d1a2",
   "metadata": {},
   "source": [
    "## Import packages"
   ]
  },
  {
   "cell_type": "code",
   "execution_count": 84,
   "id": "77bfa5dc-e1e9-472a-ba80-0d871826fa41",
   "metadata": {
    "tags": []
   },
   "outputs": [],
   "source": [
    "import numpy as np\n",
    "import pandas as pd\n",
    "import matplotlib.pyplot as plt"
   ]
  },
  {
   "cell_type": "code",
   "execution_count": 3,
   "id": "e9e52d12-eb3f-4a9d-b731-32bcad804e2c",
   "metadata": {
    "tags": []
   },
   "outputs": [
    {
     "name": "stdout",
     "output_type": "stream",
     "text": [
      "Collecting missingno\n",
      "  Using cached missingno-0.5.2-py3-none-any.whl (8.7 kB)\n",
      "Requirement already satisfied: seaborn in ./.venv/lib/python3.9/site-packages (from missingno) (0.12.2)\n",
      "Requirement already satisfied: scipy in ./.venv/lib/python3.9/site-packages (from missingno) (1.10.1)\n",
      "Requirement already satisfied: matplotlib in ./.venv/lib/python3.9/site-packages (from missingno) (3.7.1)\n",
      "Requirement already satisfied: numpy in ./.venv/lib/python3.9/site-packages (from missingno) (1.24.2)\n",
      "Requirement already satisfied: kiwisolver>=1.0.1 in ./.venv/lib/python3.9/site-packages (from matplotlib->missingno) (1.4.4)\n",
      "Requirement already satisfied: pyparsing>=2.3.1 in ./.venv/lib/python3.9/site-packages (from matplotlib->missingno) (3.0.9)\n",
      "Requirement already satisfied: cycler>=0.10 in ./.venv/lib/python3.9/site-packages (from matplotlib->missingno) (0.11.0)\n",
      "Requirement already satisfied: pillow>=6.2.0 in ./.venv/lib/python3.9/site-packages (from matplotlib->missingno) (9.5.0)\n",
      "Requirement already satisfied: importlib-resources>=3.2.0 in ./.venv/lib/python3.9/site-packages (from matplotlib->missingno) (5.12.0)\n",
      "Requirement already satisfied: contourpy>=1.0.1 in ./.venv/lib/python3.9/site-packages (from matplotlib->missingno) (1.0.7)\n",
      "Requirement already satisfied: python-dateutil>=2.7 in ./.venv/lib/python3.9/site-packages (from matplotlib->missingno) (2.8.2)\n",
      "Requirement already satisfied: fonttools>=4.22.0 in ./.venv/lib/python3.9/site-packages (from matplotlib->missingno) (4.39.3)\n",
      "Requirement already satisfied: packaging>=20.0 in ./.venv/lib/python3.9/site-packages (from matplotlib->missingno) (23.0)\n",
      "Requirement already satisfied: pandas>=0.25 in ./.venv/lib/python3.9/site-packages (from seaborn->missingno) (2.0.0)\n",
      "Requirement already satisfied: zipp>=3.1.0 in ./.venv/lib/python3.9/site-packages (from importlib-resources>=3.2.0->matplotlib->missingno) (3.15.0)\n",
      "Requirement already satisfied: tzdata>=2022.1 in ./.venv/lib/python3.9/site-packages (from pandas>=0.25->seaborn->missingno) (2023.3)\n",
      "Requirement already satisfied: pytz>=2020.1 in ./.venv/lib/python3.9/site-packages (from pandas>=0.25->seaborn->missingno) (2023.3)\n",
      "Requirement already satisfied: six>=1.5 in ./.venv/lib/python3.9/site-packages (from python-dateutil>=2.7->matplotlib->missingno) (1.16.0)\n",
      "Installing collected packages: missingno\n",
      "Successfully installed missingno-0.5.2\n",
      "Note: you may need to restart the kernel to use updated packages.\n"
     ]
    }
   ],
   "source": [
    "pip install missingno"
   ]
  },
  {
   "cell_type": "markdown",
   "id": "d9b537be-9500-41a3-bc70-4686e92f4f85",
   "metadata": {},
   "source": [
    "## Load dataset"
   ]
  },
  {
   "cell_type": "code",
   "execution_count": 8,
   "id": "3cf016b0-55d6-4238-92a8-fe65bad4a872",
   "metadata": {
    "tags": []
   },
   "outputs": [],
   "source": [
    "df = pd.read_csv('data/listings_Rome.csv')"
   ]
  },
  {
   "cell_type": "code",
   "execution_count": 10,
   "id": "2145731c-4108-48dd-802e-88899bac6c52",
   "metadata": {
    "tags": []
   },
   "outputs": [
    {
     "data": {
      "text/html": [
       "<div>\n",
       "<style scoped>\n",
       "    .dataframe tbody tr th:only-of-type {\n",
       "        vertical-align: middle;\n",
       "    }\n",
       "\n",
       "    .dataframe tbody tr th {\n",
       "        vertical-align: top;\n",
       "    }\n",
       "\n",
       "    .dataframe thead th {\n",
       "        text-align: right;\n",
       "    }\n",
       "</style>\n",
       "<table border=\"1\" class=\"dataframe\">\n",
       "  <thead>\n",
       "    <tr style=\"text-align: right;\">\n",
       "      <th></th>\n",
       "      <th>id</th>\n",
       "      <th>listing_url</th>\n",
       "      <th>scrape_id</th>\n",
       "      <th>last_scraped</th>\n",
       "      <th>source</th>\n",
       "      <th>name</th>\n",
       "      <th>description</th>\n",
       "      <th>neighborhood_overview</th>\n",
       "      <th>picture_url</th>\n",
       "      <th>host_id</th>\n",
       "      <th>...</th>\n",
       "      <th>review_scores_communication</th>\n",
       "      <th>review_scores_location</th>\n",
       "      <th>review_scores_value</th>\n",
       "      <th>license</th>\n",
       "      <th>instant_bookable</th>\n",
       "      <th>calculated_host_listings_count</th>\n",
       "      <th>calculated_host_listings_count_entire_homes</th>\n",
       "      <th>calculated_host_listings_count_private_rooms</th>\n",
       "      <th>calculated_host_listings_count_shared_rooms</th>\n",
       "      <th>reviews_per_month</th>\n",
       "    </tr>\n",
       "  </thead>\n",
       "  <tbody>\n",
       "    <tr>\n",
       "      <th>0</th>\n",
       "      <td>256695</td>\n",
       "      <td>https://www.airbnb.com/rooms/256695</td>\n",
       "      <td>20230315024350</td>\n",
       "      <td>2023-03-15</td>\n",
       "      <td>city scrape</td>\n",
       "      <td>Trastevere color-suite</td>\n",
       "      <td>&lt;b&gt;The space&lt;/b&gt;&lt;br /&gt;Apartment totally new in...</td>\n",
       "      <td>NaN</td>\n",
       "      <td>https://a0.muscache.com/pictures/4543522/a51fe...</td>\n",
       "      <td>1350540</td>\n",
       "      <td>...</td>\n",
       "      <td>4.99</td>\n",
       "      <td>4.95</td>\n",
       "      <td>4.91</td>\n",
       "      <td>NaN</td>\n",
       "      <td>t</td>\n",
       "      <td>1</td>\n",
       "      <td>1</td>\n",
       "      <td>0</td>\n",
       "      <td>0</td>\n",
       "      <td>1.54</td>\n",
       "    </tr>\n",
       "    <tr>\n",
       "      <th>1</th>\n",
       "      <td>258330</td>\n",
       "      <td>https://www.airbnb.com/rooms/258330</td>\n",
       "      <td>20230315024350</td>\n",
       "      <td>2023-03-15</td>\n",
       "      <td>city scrape</td>\n",
       "      <td>Sunny with view, WiFi, A/C. Metro, Airport train.</td>\n",
       "      <td>Naturally lit apartment with Wi-Fi, flat-scree...</td>\n",
       "      <td>The apartment is located in the Tuscolano-San ...</td>\n",
       "      <td>https://a0.muscache.com/pictures/b6804ab8-3bc6...</td>\n",
       "      <td>1358462</td>\n",
       "      <td>...</td>\n",
       "      <td>4.99</td>\n",
       "      <td>4.60</td>\n",
       "      <td>4.75</td>\n",
       "      <td>NaN</td>\n",
       "      <td>t</td>\n",
       "      <td>1</td>\n",
       "      <td>1</td>\n",
       "      <td>0</td>\n",
       "      <td>0</td>\n",
       "      <td>0.55</td>\n",
       "    </tr>\n",
       "    <tr>\n",
       "      <th>2</th>\n",
       "      <td>137044</td>\n",
       "      <td>https://www.airbnb.com/rooms/137044</td>\n",
       "      <td>20230315024350</td>\n",
       "      <td>2023-03-15</td>\n",
       "      <td>city scrape</td>\n",
       "      <td>In Campo de 'Fiori! For families and friends i...</td>\n",
       "      <td>Your home in Rome! Located in the center of Ro...</td>\n",
       "      <td>This area is a key component  of the historic ...</td>\n",
       "      <td>https://a0.muscache.com/pictures/prohost-api/H...</td>\n",
       "      <td>670337</td>\n",
       "      <td>...</td>\n",
       "      <td>4.74</td>\n",
       "      <td>4.90</td>\n",
       "      <td>4.35</td>\n",
       "      <td>NaN</td>\n",
       "      <td>t</td>\n",
       "      <td>1</td>\n",
       "      <td>1</td>\n",
       "      <td>0</td>\n",
       "      <td>0</td>\n",
       "      <td>1.02</td>\n",
       "    </tr>\n",
       "    <tr>\n",
       "      <th>3</th>\n",
       "      <td>137157</td>\n",
       "      <td>https://www.airbnb.com/rooms/137157</td>\n",
       "      <td>20230315024350</td>\n",
       "      <td>2023-03-15</td>\n",
       "      <td>city scrape</td>\n",
       "      <td>Super balcony in center on Romans roofs</td>\n",
       "      <td>&lt;b&gt;The space&lt;/b&gt;&lt;br /&gt;Fantastic apartment with...</td>\n",
       "      <td>NaN</td>\n",
       "      <td>https://a0.muscache.com/pictures/867987/95ef7c...</td>\n",
       "      <td>486866</td>\n",
       "      <td>...</td>\n",
       "      <td>4.75</td>\n",
       "      <td>4.75</td>\n",
       "      <td>4.50</td>\n",
       "      <td>NaN</td>\n",
       "      <td>f</td>\n",
       "      <td>5</td>\n",
       "      <td>5</td>\n",
       "      <td>0</td>\n",
       "      <td>0</td>\n",
       "      <td>0.04</td>\n",
       "    </tr>\n",
       "    <tr>\n",
       "      <th>4</th>\n",
       "      <td>259075</td>\n",
       "      <td>https://www.airbnb.com/rooms/259075</td>\n",
       "      <td>20230315024350</td>\n",
       "      <td>2023-03-15</td>\n",
       "      <td>city scrape</td>\n",
       "      <td>City Center: Large, Chic, Modern apartment</td>\n",
       "      <td>Renovated in January 2020,  new, wide, ideal f...</td>\n",
       "      <td>City Center-Walking distance from the major po...</td>\n",
       "      <td>https://a0.muscache.com/pictures/810f6a92-b702...</td>\n",
       "      <td>1311777</td>\n",
       "      <td>...</td>\n",
       "      <td>4.89</td>\n",
       "      <td>4.71</td>\n",
       "      <td>4.68</td>\n",
       "      <td>ATR 003602\\nCodice identificativo id869</td>\n",
       "      <td>t</td>\n",
       "      <td>2</td>\n",
       "      <td>2</td>\n",
       "      <td>0</td>\n",
       "      <td>0</td>\n",
       "      <td>1.29</td>\n",
       "    </tr>\n",
       "  </tbody>\n",
       "</table>\n",
       "<p>5 rows × 75 columns</p>\n",
       "</div>"
      ],
      "text/plain": [
       "       id                          listing_url       scrape_id last_scraped   \n",
       "0  256695  https://www.airbnb.com/rooms/256695  20230315024350   2023-03-15  \\\n",
       "1  258330  https://www.airbnb.com/rooms/258330  20230315024350   2023-03-15   \n",
       "2  137044  https://www.airbnb.com/rooms/137044  20230315024350   2023-03-15   \n",
       "3  137157  https://www.airbnb.com/rooms/137157  20230315024350   2023-03-15   \n",
       "4  259075  https://www.airbnb.com/rooms/259075  20230315024350   2023-03-15   \n",
       "\n",
       "        source                                               name   \n",
       "0  city scrape                             Trastevere color-suite  \\\n",
       "1  city scrape  Sunny with view, WiFi, A/C. Metro, Airport train.   \n",
       "2  city scrape  In Campo de 'Fiori! For families and friends i...   \n",
       "3  city scrape            Super balcony in center on Romans roofs   \n",
       "4  city scrape         City Center: Large, Chic, Modern apartment   \n",
       "\n",
       "                                         description   \n",
       "0  <b>The space</b><br />Apartment totally new in...  \\\n",
       "1  Naturally lit apartment with Wi-Fi, flat-scree...   \n",
       "2  Your home in Rome! Located in the center of Ro...   \n",
       "3  <b>The space</b><br />Fantastic apartment with...   \n",
       "4  Renovated in January 2020,  new, wide, ideal f...   \n",
       "\n",
       "                               neighborhood_overview   \n",
       "0                                                NaN  \\\n",
       "1  The apartment is located in the Tuscolano-San ...   \n",
       "2  This area is a key component  of the historic ...   \n",
       "3                                                NaN   \n",
       "4  City Center-Walking distance from the major po...   \n",
       "\n",
       "                                         picture_url  host_id  ...   \n",
       "0  https://a0.muscache.com/pictures/4543522/a51fe...  1350540  ...  \\\n",
       "1  https://a0.muscache.com/pictures/b6804ab8-3bc6...  1358462  ...   \n",
       "2  https://a0.muscache.com/pictures/prohost-api/H...   670337  ...   \n",
       "3  https://a0.muscache.com/pictures/867987/95ef7c...   486866  ...   \n",
       "4  https://a0.muscache.com/pictures/810f6a92-b702...  1311777  ...   \n",
       "\n",
       "  review_scores_communication review_scores_location review_scores_value   \n",
       "0                        4.99                   4.95                4.91  \\\n",
       "1                        4.99                   4.60                4.75   \n",
       "2                        4.74                   4.90                4.35   \n",
       "3                        4.75                   4.75                4.50   \n",
       "4                        4.89                   4.71                4.68   \n",
       "\n",
       "                                   license instant_bookable   \n",
       "0                                      NaN                t  \\\n",
       "1                                      NaN                t   \n",
       "2                                      NaN                t   \n",
       "3                                      NaN                f   \n",
       "4  ATR 003602\\nCodice identificativo id869                t   \n",
       "\n",
       "  calculated_host_listings_count calculated_host_listings_count_entire_homes   \n",
       "0                              1                                           1  \\\n",
       "1                              1                                           1   \n",
       "2                              1                                           1   \n",
       "3                              5                                           5   \n",
       "4                              2                                           2   \n",
       "\n",
       "  calculated_host_listings_count_private_rooms   \n",
       "0                                            0  \\\n",
       "1                                            0   \n",
       "2                                            0   \n",
       "3                                            0   \n",
       "4                                            0   \n",
       "\n",
       "  calculated_host_listings_count_shared_rooms reviews_per_month  \n",
       "0                                           0              1.54  \n",
       "1                                           0              0.55  \n",
       "2                                           0              1.02  \n",
       "3                                           0              0.04  \n",
       "4                                           0              1.29  \n",
       "\n",
       "[5 rows x 75 columns]"
      ]
     },
     "execution_count": 10,
     "metadata": {},
     "output_type": "execute_result"
    }
   ],
   "source": [
    "df.head()"
   ]
  },
  {
   "cell_type": "code",
   "execution_count": 11,
   "id": "0a8bd001-b094-41f7-a47a-af8e760dd053",
   "metadata": {
    "tags": []
   },
   "outputs": [
    {
     "data": {
      "text/plain": [
       "<Axes: >"
      ]
     },
     "execution_count": 11,
     "metadata": {},
     "output_type": "execute_result"
    },
    {
     "data": {
      "image/png": "[encoded data removed]",
      "text/plain": [
       "<Figure size 2500x1000 with 2 Axes>"
      ]
     },
     "metadata": {},
     "output_type": "display_data"
    }
   ],
   "source": [
    "import missingno as msno\n",
    "msno.matrix(df)"
   ]
  },
  {
   "cell_type": "code",
   "execution_count": 11,
   "id": "d4b88fa5-c082-4721-83f9-1f9a950badbb",
   "metadata": {
    "tags": []
   },
   "outputs": [
    {
     "name": "stdout",
     "output_type": "stream",
     "text": [
      "<class 'pandas.core.frame.DataFrame'>\n",
      "RangeIndex: 24924 entries, 0 to 24923\n",
      "Data columns (total 75 columns):\n",
      " #   Column                                        Non-Null Count  Dtype  \n",
      "---  ------                                        --------------  -----  \n",
      " 0   id                                            24924 non-null  int64  \n",
      " 1   listing_url                                   24924 non-null  object \n",
      " 2   scrape_id                                     24924 non-null  int64  \n",
      " 3   last_scraped                                  24924 non-null  object \n",
      " 4   source                                        24924 non-null  object \n",
      " 5   name                                          24920 non-null  object \n",
      " 6   description                                   24465 non-null  object \n",
      " 7   neighborhood_overview                         15266 non-null  object \n",
      " 8   picture_url                                   24924 non-null  object \n",
      " 9   host_id                                       24924 non-null  int64  \n",
      " 10  host_url                                      24924 non-null  object \n",
      " 11  host_name                                     24916 non-null  object \n",
      " 12  host_since                                    24916 non-null  object \n",
      " 13  host_location                                 19419 non-null  object \n",
      " 14  host_about                                    13536 non-null  object \n",
      " 15  host_response_time                            21101 non-null  object \n",
      " 16  host_response_rate                            21101 non-null  object \n",
      " 17  host_acceptance_rate                          22464 non-null  object \n",
      " 18  host_is_superhost                             24901 non-null  object \n",
      " 19  host_thumbnail_url                            24916 non-null  object \n",
      " 20  host_picture_url                              24916 non-null  object \n",
      " 21  host_neighbourhood                            14104 non-null  object \n",
      " 22  host_listings_count                           24916 non-null  float64\n",
      " 23  host_total_listings_count                     24916 non-null  float64\n",
      " 24  host_verifications                            24916 non-null  object \n",
      " 25  host_has_profile_pic                          24916 non-null  object \n",
      " 26  host_identity_verified                        24916 non-null  object \n",
      " 27  neighbourhood                                 15266 non-null  object \n",
      " 28  neighbourhood_cleansed                        24924 non-null  object \n",
      " 29  neighbourhood_group_cleansed                  0 non-null      float64\n",
      " 30  latitude                                      24924 non-null  float64\n",
      " 31  longitude                                     24924 non-null  float64\n",
      " 32  property_type                                 24924 non-null  object \n",
      " 33  room_type                                     24924 non-null  object \n",
      " 34  accommodates                                  24924 non-null  int64  \n",
      " 35  bathrooms                                     0 non-null      float64\n",
      " 36  bathrooms_text                                24878 non-null  object \n",
      " 37  bedrooms                                      24274 non-null  float64\n",
      " 38  beds                                          24599 non-null  float64\n",
      " 39  amenities                                     24924 non-null  object \n",
      " 40  price                                         24924 non-null  object \n",
      " 41  minimum_nights                                24924 non-null  int64  \n",
      " 42  maximum_nights                                24924 non-null  int64  \n",
      " 43  minimum_minimum_nights                        24923 non-null  float64\n",
      " 44  maximum_minimum_nights                        24923 non-null  float64\n",
      " 45  minimum_maximum_nights                        24923 non-null  float64\n",
      " 46  maximum_maximum_nights                        24923 non-null  float64\n",
      " 47  minimum_nights_avg_ntm                        24923 non-null  float64\n",
      " 48  maximum_nights_avg_ntm                        24923 non-null  float64\n",
      " 49  calendar_updated                              0 non-null      float64\n",
      " 50  has_availability                              24924 non-null  object \n",
      " 51  availability_30                               24924 non-null  int64  \n",
      " 52  availability_60                               24924 non-null  int64  \n",
      " 53  availability_90                               24924 non-null  int64  \n",
      " 54  availability_365                              24924 non-null  int64  \n",
      " 55  calendar_last_scraped                         24924 non-null  object \n",
      " 56  number_of_reviews                             24924 non-null  int64  \n",
      " 57  number_of_reviews_ltm                         24924 non-null  int64  \n",
      " 58  number_of_reviews_l30d                        24924 non-null  int64  \n",
      " 59  first_review                                  21152 non-null  object \n",
      " 60  last_review                                   21152 non-null  object \n",
      " 61  review_scores_rating                          21152 non-null  float64\n",
      " 62  review_scores_accuracy                        21054 non-null  float64\n",
      " 63  review_scores_cleanliness                     21056 non-null  float64\n",
      " 64  review_scores_checkin                         21053 non-null  float64\n",
      " 65  review_scores_communication                   21055 non-null  float64\n",
      " 66  review_scores_location                        21051 non-null  float64\n",
      " 67  review_scores_value                           21050 non-null  float64\n",
      " 68  license                                       4455 non-null   object \n",
      " 69  instant_bookable                              24924 non-null  object \n",
      " 70  calculated_host_listings_count                24924 non-null  int64  \n",
      " 71  calculated_host_listings_count_entire_homes   24924 non-null  int64  \n",
      " 72  calculated_host_listings_count_private_rooms  24924 non-null  int64  \n",
      " 73  calculated_host_listings_count_shared_rooms   24924 non-null  int64  \n",
      " 74  reviews_per_month                             21152 non-null  float64\n",
      "dtypes: float64(23), int64(17), object(35)\n",
      "memory usage: 14.3+ MB\n"
     ]
    }
   ],
   "source": [
    "df.info()"
   ]
  },
  {
   "cell_type": "code",
   "execution_count": 31,
   "id": "52d11bcf-0e52-47df-acca-e925c537596c",
   "metadata": {
    "tags": []
   },
   "outputs": [
    {
     "data": {
      "text/plain": [
       "24924"
      ]
     },
     "execution_count": 31,
     "metadata": {},
     "output_type": "execute_result"
    }
   ],
   "source": [
    "# Number of separate accomodotain units\n",
    "\n",
    "len(df.index)"
   ]
  },
  {
   "cell_type": "code",
   "execution_count": 14,
   "id": "684dcbfb-6b85-4d0b-915c-b4eb09fce4c8",
   "metadata": {
    "tags": []
   },
   "outputs": [
    {
     "data": {
      "text/plain": [
       "12935"
      ]
     },
     "execution_count": 14,
     "metadata": {},
     "output_type": "execute_result"
    }
   ],
   "source": [
    "# Number of hosts\n",
    "\n",
    "df['host_id'].nunique()"
   ]
  },
  {
   "cell_type": "code",
   "execution_count": 13,
   "id": "14952347-925a-4b1f-bdd2-ad2da5f04848",
   "metadata": {
    "tags": []
   },
   "outputs": [],
   "source": [
    "df_host = df.groupby('host_id').id.count().sort_values(ascending = False).head(100)"
   ]
  },
  {
   "cell_type": "code",
   "execution_count": 20,
   "id": "be2ff672-f29e-41f0-b1d1-a0e2313eefcf",
   "metadata": {
    "tags": []
   },
   "outputs": [
    {
     "data": {
      "text/plain": [
       "host_id\n",
       "23532561     239\n",
       "96122546     152\n",
       "201739458     83\n",
       "63191555      70\n",
       "8973851       57\n",
       "2405376       52\n",
       "51503378      49\n",
       "1107433       48\n",
       "316068        47\n",
       "45788344      47\n",
       "230950667     45\n",
       "224869116     43\n",
       "1369759       43\n",
       "4453257       42\n",
       "206380158     39\n",
       "20428282      39\n",
       "13766340      36\n",
       "1764914       34\n",
       "4417813       33\n",
       "24459917      33\n",
       "115777793     31\n",
       "94907986      29\n",
       "16611461      28\n",
       "6519534       28\n",
       "20607918      27\n",
       "55155461      27\n",
       "256680931     26\n",
       "13331165      25\n",
       "57568166      25\n",
       "10210991      23\n",
       "494485        23\n",
       "9549387       22\n",
       "7024674       22\n",
       "73484657      22\n",
       "19178087      21\n",
       "20968125      21\n",
       "4495963       21\n",
       "51977220      21\n",
       "97409859      21\n",
       "94052914      21\n",
       "761827        21\n",
       "212194733     20\n",
       "5232802       20\n",
       "128751678     20\n",
       "6797602       20\n",
       "41170239      20\n",
       "234260176     19\n",
       "47959968      19\n",
       "23152582      19\n",
       "8110338       18\n",
       "1355106       18\n",
       "62082327      18\n",
       "2315268       18\n",
       "167149840     18\n",
       "5265232       18\n",
       "Name: id, dtype: int64"
      ]
     },
     "execution_count": 20,
     "metadata": {},
     "output_type": "execute_result"
    }
   ],
   "source": [
    "df_host.head(55)"
   ]
  },
  {
   "cell_type": "code",
   "execution_count": 53,
   "id": "eaecba64-bf92-47bc-b36c-4dde333202ad",
   "metadata": {
    "tags": []
   },
   "outputs": [
    {
     "data": {
      "text/plain": [
       "239"
      ]
     },
     "execution_count": 53,
     "metadata": {},
     "output_type": "execute_result"
    }
   ],
   "source": [
    "\n",
    "df.loc[df['host_id'] == 23532561].id.count()"
   ]
  },
  {
   "cell_type": "code",
   "execution_count": 60,
   "id": "f6aaabca-3fbc-4b34-acee-0de7942f19df",
   "metadata": {
    "tags": []
   },
   "outputs": [
    {
     "data": {
      "text/html": [
       "<div>\n",
       "<style scoped>\n",
       "    .dataframe tbody tr th:only-of-type {\n",
       "        vertical-align: middle;\n",
       "    }\n",
       "\n",
       "    .dataframe tbody tr th {\n",
       "        vertical-align: top;\n",
       "    }\n",
       "\n",
       "    .dataframe thead th {\n",
       "        text-align: right;\n",
       "    }\n",
       "</style>\n",
       "<table border=\"1\" class=\"dataframe\">\n",
       "  <thead>\n",
       "    <tr style=\"text-align: right;\">\n",
       "      <th></th>\n",
       "      <th>id</th>\n",
       "      <th>host_id</th>\n",
       "      <th>name</th>\n",
       "    </tr>\n",
       "  </thead>\n",
       "  <tbody>\n",
       "    <tr>\n",
       "      <th>2244</th>\n",
       "      <td>4539118</td>\n",
       "      <td>23532561</td>\n",
       "      <td>iFlat | Monti secret Garden</td>\n",
       "    </tr>\n",
       "    <tr>\n",
       "      <th>2429</th>\n",
       "      <td>4870901</td>\n",
       "      <td>23532561</td>\n",
       "      <td>iFlat | Spanish Steps Studio Apartment</td>\n",
       "    </tr>\n",
       "    <tr>\n",
       "      <th>2816</th>\n",
       "      <td>5657500</td>\n",
       "      <td>23532561</td>\n",
       "      <td>Pantheon Cozy Apartment n. 3</td>\n",
       "    </tr>\n",
       "    <tr>\n",
       "      <th>2817</th>\n",
       "      <td>5657827</td>\n",
       "      <td>23532561</td>\n",
       "      <td>Pantheon Cozy Apartment n. 2</td>\n",
       "    </tr>\n",
       "    <tr>\n",
       "      <th>2819</th>\n",
       "      <td>5658485</td>\n",
       "      <td>23532561</td>\n",
       "      <td>Pantheon Cozy Apartment n. 7</td>\n",
       "    </tr>\n",
       "    <tr>\n",
       "      <th>...</th>\n",
       "      <td>...</td>\n",
       "      <td>...</td>\n",
       "      <td>...</td>\n",
       "    </tr>\n",
       "    <tr>\n",
       "      <th>24367</th>\n",
       "      <td>824617240772357369</td>\n",
       "      <td>23532561</td>\n",
       "      <td>iFlat | Trastevere Unique Loft</td>\n",
       "    </tr>\n",
       "    <tr>\n",
       "      <th>24534</th>\n",
       "      <td>831724047233388666</td>\n",
       "      <td>23532561</td>\n",
       "      <td>iFlat | Vatican Elegant Apartment</td>\n",
       "    </tr>\n",
       "    <tr>\n",
       "      <th>24611</th>\n",
       "      <td>839654436113394668</td>\n",
       "      <td>23532561</td>\n",
       "      <td>iFlat | The Carpet Apartment</td>\n",
       "    </tr>\n",
       "    <tr>\n",
       "      <th>24612</th>\n",
       "      <td>839689394836536650</td>\n",
       "      <td>23532561</td>\n",
       "      <td>iFlat | The gem of the center</td>\n",
       "    </tr>\n",
       "    <tr>\n",
       "      <th>24613</th>\n",
       "      <td>839723842470233205</td>\n",
       "      <td>23532561</td>\n",
       "      <td>iFlat | Apê Ponte Sisto</td>\n",
       "    </tr>\n",
       "  </tbody>\n",
       "</table>\n",
       "<p>239 rows × 3 columns</p>\n",
       "</div>"
      ],
      "text/plain": [
       "                       id   host_id                                    name\n",
       "2244              4539118  23532561             iFlat | Monti secret Garden\n",
       "2429              4870901  23532561  iFlat | Spanish Steps Studio Apartment\n",
       "2816              5657500  23532561            Pantheon Cozy Apartment n. 3\n",
       "2817              5657827  23532561            Pantheon Cozy Apartment n. 2\n",
       "2819              5658485  23532561            Pantheon Cozy Apartment n. 7\n",
       "...                   ...       ...                                     ...\n",
       "24367  824617240772357369  23532561          iFlat | Trastevere Unique Loft\n",
       "24534  831724047233388666  23532561       iFlat | Vatican Elegant Apartment\n",
       "24611  839654436113394668  23532561            iFlat | The Carpet Apartment\n",
       "24612  839689394836536650  23532561           iFlat | The gem of the center\n",
       "24613  839723842470233205  23532561                 iFlat | Apê Ponte Sisto\n",
       "\n",
       "[239 rows x 3 columns]"
      ]
     },
     "execution_count": 60,
     "metadata": {},
     "output_type": "execute_result"
    }
   ],
   "source": [
    "df[['id', 'host_id', 'name']].loc[df['host_id'] == 23532561]"
   ]
  },
  {
   "cell_type": "code",
   "execution_count": 50,
   "id": "ea3469f9-cc5e-450c-8b54-31df9a1a1c07",
   "metadata": {
    "tags": []
   },
   "outputs": [],
   "source": [
    "df_host = df[['id', 'host_id', 'name']].sort_values(by = 'host_id')"
   ]
  },
  {
   "cell_type": "code",
   "execution_count": 51,
   "id": "33832395-d1cf-43df-8b5f-e934cf59513e",
   "metadata": {
    "tags": []
   },
   "outputs": [
    {
     "data": {
      "text/html": [
       "<div>\n",
       "<style scoped>\n",
       "    .dataframe tbody tr th:only-of-type {\n",
       "        vertical-align: middle;\n",
       "    }\n",
       "\n",
       "    .dataframe tbody tr th {\n",
       "        vertical-align: top;\n",
       "    }\n",
       "\n",
       "    .dataframe thead th {\n",
       "        text-align: right;\n",
       "    }\n",
       "</style>\n",
       "<table border=\"1\" class=\"dataframe\">\n",
       "  <thead>\n",
       "    <tr style=\"text-align: right;\">\n",
       "      <th></th>\n",
       "      <th>id</th>\n",
       "      <th>host_id</th>\n",
       "      <th>name</th>\n",
       "    </tr>\n",
       "  </thead>\n",
       "  <tbody>\n",
       "    <tr>\n",
       "      <th>5066</th>\n",
       "      <td>11509515</td>\n",
       "      <td>1944</td>\n",
       "      <td>WFP-FAO-ICCROM-BIOVERSITY  cute private room</td>\n",
       "    </tr>\n",
       "    <tr>\n",
       "      <th>5502</th>\n",
       "      <td>12871422</td>\n",
       "      <td>1944</td>\n",
       "      <td>FAO/WFP/ICCROM/IFAD/UNIV.ROMA 3  single room</td>\n",
       "    </tr>\n",
       "    <tr>\n",
       "      <th>5045</th>\n",
       "      <td>11495251</td>\n",
       "      <td>1944</td>\n",
       "      <td>Circo Massimo/Colosseo/St Stephen's school  for 4</td>\n",
       "    </tr>\n",
       "    <tr>\n",
       "      <th>5261</th>\n",
       "      <td>12269354</td>\n",
       "      <td>1944</td>\n",
       "      <td>Trastevere station cute miniflat</td>\n",
       "    </tr>\n",
       "    <tr>\n",
       "      <th>5057</th>\n",
       "      <td>11590562</td>\n",
       "      <td>1944</td>\n",
       "      <td>Colosseo/FAO/St Stephen's school apt sleeps 4</td>\n",
       "    </tr>\n",
       "    <tr>\n",
       "      <th>...</th>\n",
       "      <td>...</td>\n",
       "      <td>...</td>\n",
       "      <td>...</td>\n",
       "    </tr>\n",
       "    <tr>\n",
       "      <th>24847</th>\n",
       "      <td>843209465774334522</td>\n",
       "      <td>504566419</td>\n",
       "      <td>Casa di Claudia</td>\n",
       "    </tr>\n",
       "    <tr>\n",
       "      <th>24844</th>\n",
       "      <td>844035131162045447</td>\n",
       "      <td>504725606</td>\n",
       "      <td>Camera con Vista sulla Cupola di San Pietro</td>\n",
       "    </tr>\n",
       "    <tr>\n",
       "      <th>24877</th>\n",
       "      <td>844563379393111428</td>\n",
       "      <td>504749365</td>\n",
       "      <td>Camera da letto Matrimoniale</td>\n",
       "    </tr>\n",
       "    <tr>\n",
       "      <th>24810</th>\n",
       "      <td>842643043537458909</td>\n",
       "      <td>505156851</td>\n",
       "      <td>GraccHome Vaticano</td>\n",
       "    </tr>\n",
       "    <tr>\n",
       "      <th>24922</th>\n",
       "      <td>846332320728407891</td>\n",
       "      <td>505209685</td>\n",
       "      <td>[Roma Centro 2KM] - 5 Stelle</td>\n",
       "    </tr>\n",
       "  </tbody>\n",
       "</table>\n",
       "<p>24924 rows × 3 columns</p>\n",
       "</div>"
      ],
      "text/plain": [
       "                       id    host_id   \n",
       "5066             11509515       1944  \\\n",
       "5502             12871422       1944   \n",
       "5045             11495251       1944   \n",
       "5261             12269354       1944   \n",
       "5057             11590562       1944   \n",
       "...                   ...        ...   \n",
       "24847  843209465774334522  504566419   \n",
       "24844  844035131162045447  504725606   \n",
       "24877  844563379393111428  504749365   \n",
       "24810  842643043537458909  505156851   \n",
       "24922  846332320728407891  505209685   \n",
       "\n",
       "                                                    name  \n",
       "5066        WFP-FAO-ICCROM-BIOVERSITY  cute private room  \n",
       "5502        FAO/WFP/ICCROM/IFAD/UNIV.ROMA 3  single room  \n",
       "5045   Circo Massimo/Colosseo/St Stephen's school  for 4  \n",
       "5261                    Trastevere station cute miniflat  \n",
       "5057       Colosseo/FAO/St Stephen's school apt sleeps 4  \n",
       "...                                                  ...  \n",
       "24847                                    Casa di Claudia  \n",
       "24844        Camera con Vista sulla Cupola di San Pietro  \n",
       "24877                       Camera da letto Matrimoniale  \n",
       "24810                                 GraccHome Vaticano  \n",
       "24922                       [Roma Centro 2KM] - 5 Stelle  \n",
       "\n",
       "[24924 rows x 3 columns]"
      ]
     },
     "execution_count": 51,
     "metadata": {},
     "output_type": "execute_result"
    }
   ],
   "source": [
    "df_host"
   ]
  },
  {
   "cell_type": "code",
   "execution_count": null,
   "id": "2c0857c9-4845-4ed5-8fde-122c04e29cb3",
   "metadata": {},
   "outputs": [],
   "source": [
    "df_host2 = df_host.groupby(['host_id'])['host_id'].count()"
   ]
  },
  {
   "cell_type": "code",
   "execution_count": 80,
   "id": "fd37ac55-3d16-4014-9447-ef0fae816608",
   "metadata": {
    "tags": []
   },
   "outputs": [
    {
     "data": {
      "text/plain": [
       "host_id\n",
       "1944         7\n",
       "2353         1\n",
       "3047         6\n",
       "3504         5\n",
       "11756        1\n",
       "            ..\n",
       "504566419    1\n",
       "504725606    1\n",
       "504749365    1\n",
       "505156851    1\n",
       "505209685    1\n",
       "Name: host_id, Length: 12935, dtype: int64"
      ]
     },
     "execution_count": 80,
     "metadata": {},
     "output_type": "execute_result"
    }
   ],
   "source": [
    "df_host2"
   ]
  },
  {
   "cell_type": "code",
   "execution_count": 91,
   "id": "e208a8c0-7e98-4641-a9a5-5509ea569d1d",
   "metadata": {
    "tags": []
   },
   "outputs": [
    {
     "data": {
      "text/plain": [
       "9007"
      ]
     },
     "execution_count": 91,
     "metadata": {},
     "output_type": "execute_result"
    }
   ],
   "source": [
    "df_host2.loc[df_host2== 1].count()"
   ]
  },
  {
   "cell_type": "code",
   "execution_count": 89,
   "id": "5a945f90-fd48-4650-8917-d127ff2f2606",
   "metadata": {
    "tags": []
   },
   "outputs": [
    {
     "data": {
      "text/plain": [
       "3928"
      ]
     },
     "execution_count": 89,
     "metadata": {},
     "output_type": "execute_result"
    }
   ],
   "source": [
    "df_host2.loc[df_host2 > 1].count()"
   ]
  },
  {
   "cell_type": "code",
   "execution_count": 92,
   "id": "9210f8df-c593-4b33-a0de-d619ed849602",
   "metadata": {
    "tags": []
   },
   "outputs": [
    {
     "data": {
      "image/png": "[encoded data removed]",
      "text/plain": [
       "<Figure size 640x480 with 1 Axes>"
      ]
     },
     "metadata": {},
     "output_type": "display_data"
    }
   ],
   "source": [
    "y = np.array([9007, 3928])\n",
    "mylabels = [\"More properties\", \"One property\"]\n",
    "\n",
    "\n",
    "mycolors = [\"slategrey\", \"gainsboro\"]\n",
    "myexplode = [0.2, 0]\n",
    "\n",
    "plt.pie(y, labels = mylabels, colors= mycolors, autopct = '%1.1f%%', explode = myexplode, startangle = 90)\n",
    "plt.title(\"Number of offers/ host\")\n",
    "plt.show() "
   ]
  },
  {
   "cell_type": "code",
   "execution_count": null,
   "id": "15e415d2-48c7-405d-b1cf-d2ac3d15be81",
   "metadata": {},
   "outputs": [],
   "source": []
  }
 ],
 "metadata": {
  "kernelspec": {
   "display_name": "Python 3 (ipykernel)",
   "language": "python",
   "name": "python3"
  },
  "language_info": {
   "codemirror_mode": {
    "name": "ipython",
    "version": 3
   },
   "file_extension": ".py",
   "mimetype": "text/x-python",
   "name": "python",
   "nbconvert_exporter": "python",
   "pygments_lexer": "ipython3",
   "version": "3.9.8"
  },
  "toc-autonumbering": false,
  "toc-showcode": false,
  "toc-showmarkdowntxt": true
 },
 "nbformat": 4,
 "nbformat_minor": 5
}
