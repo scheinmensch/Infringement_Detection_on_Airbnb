{
 "cells": [
  {
   "cell_type": "markdown",
   "id": "815a4486-b2da-4bd9-8893-bc038b9a598f",
   "metadata": {},
   "source": [
    "## Abstract"
   ]
  },
  {
   "cell_type": "markdown",
   "id": "c3d45b95-c90e-48dc-91b7-3bf956635422",
   "metadata": {},
   "source": [
    "Dataset of airbnb datas from Rome from the webpahe inside airbnb."
   ]
  },
  {
   "cell_type": "markdown",
   "id": "2757d64e-d7af-454e-afcf-295ceec5d1a2",
   "metadata": {},
   "source": [
    "## Import packages"
   ]
  },
  {
   "cell_type": "code",
   "execution_count": 1,
   "id": "77bfa5dc-e1e9-472a-ba80-0d871826fa41",
   "metadata": {
    "tags": []
   },
   "outputs": [],
   "source": [
    "import numpy as np\n",
    "import pandas as pd\n",
    "import matplotlib.pyplot as plt"
   ]
  },
  {
   "cell_type": "code",
   "execution_count": 2,
   "id": "e9e52d12-eb3f-4a9d-b731-32bcad804e2c",
   "metadata": {
    "tags": []
   },
   "outputs": [
    {
     "name": "stdout",
     "output_type": "stream",
     "text": [
      "Requirement already satisfied: missingno in ./.venv/lib/python3.9/site-packages (0.5.2)\n",
      "Requirement already satisfied: matplotlib in ./.venv/lib/python3.9/site-packages (from missingno) (3.7.1)\n",
      "Requirement already satisfied: scipy in ./.venv/lib/python3.9/site-packages (from missingno) (1.10.1)\n",
      "Requirement already satisfied: seaborn in ./.venv/lib/python3.9/site-packages (from missingno) (0.12.2)\n",
      "Requirement already satisfied: numpy in ./.venv/lib/python3.9/site-packages (from missingno) (1.24.2)\n",
      "Requirement already satisfied: packaging>=20.0 in ./.venv/lib/python3.9/site-packages (from matplotlib->missingno) (23.0)\n",
      "Requirement already satisfied: cycler>=0.10 in ./.venv/lib/python3.9/site-packages (from matplotlib->missingno) (0.11.0)\n",
      "Requirement already satisfied: python-dateutil>=2.7 in ./.venv/lib/python3.9/site-packages (from matplotlib->missingno) (2.8.2)\n",
      "Requirement already satisfied: kiwisolver>=1.0.1 in ./.venv/lib/python3.9/site-packages (from matplotlib->missingno) (1.4.4)\n",
      "Requirement already satisfied: fonttools>=4.22.0 in ./.venv/lib/python3.9/site-packages (from matplotlib->missingno) (4.39.3)\n",
      "Requirement already satisfied: contourpy>=1.0.1 in ./.venv/lib/python3.9/site-packages (from matplotlib->missingno) (1.0.7)\n",
      "Requirement already satisfied: pyparsing>=2.3.1 in ./.venv/lib/python3.9/site-packages (from matplotlib->missingno) (3.0.9)\n",
      "Requirement already satisfied: importlib-resources>=3.2.0 in ./.venv/lib/python3.9/site-packages (from matplotlib->missingno) (5.12.0)\n",
      "Requirement already satisfied: pillow>=6.2.0 in ./.venv/lib/python3.9/site-packages (from matplotlib->missingno) (9.5.0)\n",
      "Requirement already satisfied: pandas>=0.25 in ./.venv/lib/python3.9/site-packages (from seaborn->missingno) (2.0.0)\n",
      "Requirement already satisfied: zipp>=3.1.0 in ./.venv/lib/python3.9/site-packages (from importlib-resources>=3.2.0->matplotlib->missingno) (3.15.0)\n",
      "Requirement already satisfied: pytz>=2020.1 in ./.venv/lib/python3.9/site-packages (from pandas>=0.25->seaborn->missingno) (2023.3)\n",
      "Requirement already satisfied: tzdata>=2022.1 in ./.venv/lib/python3.9/site-packages (from pandas>=0.25->seaborn->missingno) (2023.3)\n",
      "Requirement already satisfied: six>=1.5 in ./.venv/lib/python3.9/site-packages (from python-dateutil>=2.7->matplotlib->missingno) (1.16.0)\n",
      "Note: you may need to restart the kernel to use updated packages.\n"
     ]
    }
   ],
   "source": [
    "pip install missingno"
   ]
  },
  {
   "cell_type": "markdown",
   "id": "d9b537be-9500-41a3-bc70-4686e92f4f85",
   "metadata": {},
   "source": [
    "## Load dataset"
   ]
  },
  {
   "cell_type": "code",
   "execution_count": 3,
   "id": "3cf016b0-55d6-4238-92a8-fe65bad4a872",
   "metadata": {
    "tags": []
   },
   "outputs": [],
   "source": [
    "df = pd.read_csv('data/listings_Rome.csv')"
   ]
  },
  {
   "cell_type": "code",
   "execution_count": 4,
   "id": "2145731c-4108-48dd-802e-88899bac6c52",
   "metadata": {
    "tags": []
   },
   "outputs": [
    {
     "data": {
      "text/html": [
       "<div>\n",
       "<style scoped>\n",
       "    .dataframe tbody tr th:only-of-type {\n",
       "        vertical-align: middle;\n",
       "    }\n",
       "\n",
       "    .dataframe tbody tr th {\n",
       "        vertical-align: top;\n",
       "    }\n",
       "\n",
       "    .dataframe thead th {\n",
       "        text-align: right;\n",
       "    }\n",
       "</style>\n",
       "<table border=\"1\" class=\"dataframe\">\n",
       "  <thead>\n",
       "    <tr style=\"text-align: right;\">\n",
       "      <th></th>\n",
       "      <th>id</th>\n",
       "      <th>listing_url</th>\n",
       "      <th>scrape_id</th>\n",
       "      <th>last_scraped</th>\n",
       "      <th>source</th>\n",
       "      <th>name</th>\n",
       "      <th>description</th>\n",
       "      <th>neighborhood_overview</th>\n",
       "      <th>picture_url</th>\n",
       "      <th>host_id</th>\n",
       "      <th>...</th>\n",
       "      <th>review_scores_communication</th>\n",
       "      <th>review_scores_location</th>\n",
       "      <th>review_scores_value</th>\n",
       "      <th>license</th>\n",
       "      <th>instant_bookable</th>\n",
       "      <th>calculated_host_listings_count</th>\n",
       "      <th>calculated_host_listings_count_entire_homes</th>\n",
       "      <th>calculated_host_listings_count_private_rooms</th>\n",
       "      <th>calculated_host_listings_count_shared_rooms</th>\n",
       "      <th>reviews_per_month</th>\n",
       "    </tr>\n",
       "  </thead>\n",
       "  <tbody>\n",
       "    <tr>\n",
       "      <th>0</th>\n",
       "      <td>256695</td>\n",
       "      <td>https://www.airbnb.com/rooms/256695</td>\n",
       "      <td>20230315024350</td>\n",
       "      <td>2023-03-15</td>\n",
       "      <td>city scrape</td>\n",
       "      <td>Trastevere color-suite</td>\n",
       "      <td>&lt;b&gt;The space&lt;/b&gt;&lt;br /&gt;Apartment totally new in...</td>\n",
       "      <td>NaN</td>\n",
       "      <td>https://a0.muscache.com/pictures/4543522/a51fe...</td>\n",
       "      <td>1350540</td>\n",
       "      <td>...</td>\n",
       "      <td>4.99</td>\n",
       "      <td>4.95</td>\n",
       "      <td>4.91</td>\n",
       "      <td>NaN</td>\n",
       "      <td>t</td>\n",
       "      <td>1</td>\n",
       "      <td>1</td>\n",
       "      <td>0</td>\n",
       "      <td>0</td>\n",
       "      <td>1.54</td>\n",
       "    </tr>\n",
       "    <tr>\n",
       "      <th>1</th>\n",
       "      <td>258330</td>\n",
       "      <td>https://www.airbnb.com/rooms/258330</td>\n",
       "      <td>20230315024350</td>\n",
       "      <td>2023-03-15</td>\n",
       "      <td>city scrape</td>\n",
       "      <td>Sunny with view, WiFi, A/C. Metro, Airport train.</td>\n",
       "      <td>Naturally lit apartment with Wi-Fi, flat-scree...</td>\n",
       "      <td>The apartment is located in the Tuscolano-San ...</td>\n",
       "      <td>https://a0.muscache.com/pictures/b6804ab8-3bc6...</td>\n",
       "      <td>1358462</td>\n",
       "      <td>...</td>\n",
       "      <td>4.99</td>\n",
       "      <td>4.60</td>\n",
       "      <td>4.75</td>\n",
       "      <td>NaN</td>\n",
       "      <td>t</td>\n",
       "      <td>1</td>\n",
       "      <td>1</td>\n",
       "      <td>0</td>\n",
       "      <td>0</td>\n",
       "      <td>0.55</td>\n",
       "    </tr>\n",
       "    <tr>\n",
       "      <th>2</th>\n",
       "      <td>137044</td>\n",
       "      <td>https://www.airbnb.com/rooms/137044</td>\n",
       "      <td>20230315024350</td>\n",
       "      <td>2023-03-15</td>\n",
       "      <td>city scrape</td>\n",
       "      <td>In Campo de 'Fiori! For families and friends i...</td>\n",
       "      <td>Your home in Rome! Located in the center of Ro...</td>\n",
       "      <td>This area is a key component  of the historic ...</td>\n",
       "      <td>https://a0.muscache.com/pictures/prohost-api/H...</td>\n",
       "      <td>670337</td>\n",
       "      <td>...</td>\n",
       "      <td>4.74</td>\n",
       "      <td>4.90</td>\n",
       "      <td>4.35</td>\n",
       "      <td>NaN</td>\n",
       "      <td>t</td>\n",
       "      <td>1</td>\n",
       "      <td>1</td>\n",
       "      <td>0</td>\n",
       "      <td>0</td>\n",
       "      <td>1.02</td>\n",
       "    </tr>\n",
       "    <tr>\n",
       "      <th>3</th>\n",
       "      <td>137157</td>\n",
       "      <td>https://www.airbnb.com/rooms/137157</td>\n",
       "      <td>20230315024350</td>\n",
       "      <td>2023-03-15</td>\n",
       "      <td>city scrape</td>\n",
       "      <td>Super balcony in center on Romans roofs</td>\n",
       "      <td>&lt;b&gt;The space&lt;/b&gt;&lt;br /&gt;Fantastic apartment with...</td>\n",
       "      <td>NaN</td>\n",
       "      <td>https://a0.muscache.com/pictures/867987/95ef7c...</td>\n",
       "      <td>486866</td>\n",
       "      <td>...</td>\n",
       "      <td>4.75</td>\n",
       "      <td>4.75</td>\n",
       "      <td>4.50</td>\n",
       "      <td>NaN</td>\n",
       "      <td>f</td>\n",
       "      <td>5</td>\n",
       "      <td>5</td>\n",
       "      <td>0</td>\n",
       "      <td>0</td>\n",
       "      <td>0.04</td>\n",
       "    </tr>\n",
       "    <tr>\n",
       "      <th>4</th>\n",
       "      <td>259075</td>\n",
       "      <td>https://www.airbnb.com/rooms/259075</td>\n",
       "      <td>20230315024350</td>\n",
       "      <td>2023-03-15</td>\n",
       "      <td>city scrape</td>\n",
       "      <td>City Center: Large, Chic, Modern apartment</td>\n",
       "      <td>Renovated in January 2020,  new, wide, ideal f...</td>\n",
       "      <td>City Center-Walking distance from the major po...</td>\n",
       "      <td>https://a0.muscache.com/pictures/810f6a92-b702...</td>\n",
       "      <td>1311777</td>\n",
       "      <td>...</td>\n",
       "      <td>4.89</td>\n",
       "      <td>4.71</td>\n",
       "      <td>4.68</td>\n",
       "      <td>ATR 003602\\nCodice identificativo id869</td>\n",
       "      <td>t</td>\n",
       "      <td>2</td>\n",
       "      <td>2</td>\n",
       "      <td>0</td>\n",
       "      <td>0</td>\n",
       "      <td>1.29</td>\n",
       "    </tr>\n",
       "  </tbody>\n",
       "</table>\n",
       "<p>5 rows × 75 columns</p>\n",
       "</div>"
      ],
      "text/plain": [
       "       id                          listing_url       scrape_id last_scraped   \n",
       "0  256695  https://www.airbnb.com/rooms/256695  20230315024350   2023-03-15  \\\n",
       "1  258330  https://www.airbnb.com/rooms/258330  20230315024350   2023-03-15   \n",
       "2  137044  https://www.airbnb.com/rooms/137044  20230315024350   2023-03-15   \n",
       "3  137157  https://www.airbnb.com/rooms/137157  20230315024350   2023-03-15   \n",
       "4  259075  https://www.airbnb.com/rooms/259075  20230315024350   2023-03-15   \n",
       "\n",
       "        source                                               name   \n",
       "0  city scrape                             Trastevere color-suite  \\\n",
       "1  city scrape  Sunny with view, WiFi, A/C. Metro, Airport train.   \n",
       "2  city scrape  In Campo de 'Fiori! For families and friends i...   \n",
       "3  city scrape            Super balcony in center on Romans roofs   \n",
       "4  city scrape         City Center: Large, Chic, Modern apartment   \n",
       "\n",
       "                                         description   \n",
       "0  <b>The space</b><br />Apartment totally new in...  \\\n",
       "1  Naturally lit apartment with Wi-Fi, flat-scree...   \n",
       "2  Your home in Rome! Located in the center of Ro...   \n",
       "3  <b>The space</b><br />Fantastic apartment with...   \n",
       "4  Renovated in January 2020,  new, wide, ideal f...   \n",
       "\n",
       "                               neighborhood_overview   \n",
       "0                                                NaN  \\\n",
       "1  The apartment is located in the Tuscolano-San ...   \n",
       "2  This area is a key component  of the historic ...   \n",
       "3                                                NaN   \n",
       "4  City Center-Walking distance from the major po...   \n",
       "\n",
       "                                         picture_url  host_id  ...   \n",
       "0  https://a0.muscache.com/pictures/4543522/a51fe...  1350540  ...  \\\n",
       "1  https://a0.muscache.com/pictures/b6804ab8-3bc6...  1358462  ...   \n",
       "2  https://a0.muscache.com/pictures/prohost-api/H...   670337  ...   \n",
       "3  https://a0.muscache.com/pictures/867987/95ef7c...   486866  ...   \n",
       "4  https://a0.muscache.com/pictures/810f6a92-b702...  1311777  ...   \n",
       "\n",
       "  review_scores_communication review_scores_location review_scores_value   \n",
       "0                        4.99                   4.95                4.91  \\\n",
       "1                        4.99                   4.60                4.75   \n",
       "2                        4.74                   4.90                4.35   \n",
       "3                        4.75                   4.75                4.50   \n",
       "4                        4.89                   4.71                4.68   \n",
       "\n",
       "                                   license instant_bookable   \n",
       "0                                      NaN                t  \\\n",
       "1                                      NaN                t   \n",
       "2                                      NaN                t   \n",
       "3                                      NaN                f   \n",
       "4  ATR 003602\\nCodice identificativo id869                t   \n",
       "\n",
       "  calculated_host_listings_count calculated_host_listings_count_entire_homes   \n",
       "0                              1                                           1  \\\n",
       "1                              1                                           1   \n",
       "2                              1                                           1   \n",
       "3                              5                                           5   \n",
       "4                              2                                           2   \n",
       "\n",
       "  calculated_host_listings_count_private_rooms   \n",
       "0                                            0  \\\n",
       "1                                            0   \n",
       "2                                            0   \n",
       "3                                            0   \n",
       "4                                            0   \n",
       "\n",
       "  calculated_host_listings_count_shared_rooms reviews_per_month  \n",
       "0                                           0              1.54  \n",
       "1                                           0              0.55  \n",
       "2                                           0              1.02  \n",
       "3                                           0              0.04  \n",
       "4                                           0              1.29  \n",
       "\n",
       "[5 rows x 75 columns]"
      ]
     },
     "execution_count": 4,
     "metadata": {},
     "output_type": "execute_result"
    }
   ],
   "source": [
    "df.head()"
   ]
  },
  {
   "cell_type": "code",
   "execution_count": 5,
   "id": "0fd443ff-584c-4a51-8e4f-8adcec205f36",
   "metadata": {
    "tags": []
   },
   "outputs": [
    {
     "data": {
      "text/plain": [
       "Index(['id', 'listing_url', 'scrape_id', 'last_scraped', 'source', 'name',\n",
       "       'description', 'neighborhood_overview', 'picture_url', 'host_id',\n",
       "       'host_url', 'host_name', 'host_since', 'host_location', 'host_about',\n",
       "       'host_response_time', 'host_response_rate', 'host_acceptance_rate',\n",
       "       'host_is_superhost', 'host_thumbnail_url', 'host_picture_url',\n",
       "       'host_neighbourhood', 'host_listings_count',\n",
       "       'host_total_listings_count', 'host_verifications',\n",
       "       'host_has_profile_pic', 'host_identity_verified', 'neighbourhood',\n",
       "       'neighbourhood_cleansed', 'neighbourhood_group_cleansed', 'latitude',\n",
       "       'longitude', 'property_type', 'room_type', 'accommodates', 'bathrooms',\n",
       "       'bathrooms_text', 'bedrooms', 'beds', 'amenities', 'price',\n",
       "       'minimum_nights', 'maximum_nights', 'minimum_minimum_nights',\n",
       "       'maximum_minimum_nights', 'minimum_maximum_nights',\n",
       "       'maximum_maximum_nights', 'minimum_nights_avg_ntm',\n",
       "       'maximum_nights_avg_ntm', 'calendar_updated', 'has_availability',\n",
       "       'availability_30', 'availability_60', 'availability_90',\n",
       "       'availability_365', 'calendar_last_scraped', 'number_of_reviews',\n",
       "       'number_of_reviews_ltm', 'number_of_reviews_l30d', 'first_review',\n",
       "       'last_review', 'review_scores_rating', 'review_scores_accuracy',\n",
       "       'review_scores_cleanliness', 'review_scores_checkin',\n",
       "       'review_scores_communication', 'review_scores_location',\n",
       "       'review_scores_value', 'license', 'instant_bookable',\n",
       "       'calculated_host_listings_count',\n",
       "       'calculated_host_listings_count_entire_homes',\n",
       "       'calculated_host_listings_count_private_rooms',\n",
       "       'calculated_host_listings_count_shared_rooms', 'reviews_per_month'],\n",
       "      dtype='object')"
      ]
     },
     "execution_count": 5,
     "metadata": {},
     "output_type": "execute_result"
    }
   ],
   "source": [
    "df.columns"
   ]
  },
  {
   "cell_type": "code",
   "execution_count": 6,
   "id": "0a8bd001-b094-41f7-a47a-af8e760dd053",
   "metadata": {
    "tags": []
   },
   "outputs": [
    {
     "data": {
      "text/plain": [
       "<Axes: >"
      ]
     },
     "execution_count": 6,
     "metadata": {},
     "output_type": "execute_result"
    },
    {
     "data": {
      "image/png": "[encoded data removed]",
      "text/plain": [
       "<Figure size 2500x1000 with 2 Axes>"
      ]
     },
     "metadata": {},
     "output_type": "display_data"
    }
   ],
   "source": [
    "import missingno as msno\n",
    "msno.matrix(df)"
   ]
  },
  {
   "cell_type": "code",
   "execution_count": 7,
   "id": "d4b88fa5-c082-4721-83f9-1f9a950badbb",
   "metadata": {
    "tags": []
   },
   "outputs": [
    {
     "name": "stdout",
     "output_type": "stream",
     "text": [
      "<class 'pandas.core.frame.DataFrame'>\n",
      "RangeIndex: 24924 entries, 0 to 24923\n",
      "Data columns (total 75 columns):\n",
      " #   Column                                        Non-Null Count  Dtype  \n",
      "---  ------                                        --------------  -----  \n",
      " 0   id                                            24924 non-null  int64  \n",
      " 1   listing_url                                   24924 non-null  object \n",
      " 2   scrape_id                                     24924 non-null  int64  \n",
      " 3   last_scraped                                  24924 non-null  object \n",
      " 4   source                                        24924 non-null  object \n",
      " 5   name                                          24920 non-null  object \n",
      " 6   description                                   24465 non-null  object \n",
      " 7   neighborhood_overview                         15266 non-null  object \n",
      " 8   picture_url                                   24924 non-null  object \n",
      " 9   host_id                                       24924 non-null  int64  \n",
      " 10  host_url                                      24924 non-null  object \n",
      " 11  host_name                                     24916 non-null  object \n",
      " 12  host_since                                    24916 non-null  object \n",
      " 13  host_location                                 19419 non-null  object \n",
      " 14  host_about                                    13536 non-null  object \n",
      " 15  host_response_time                            21101 non-null  object \n",
      " 16  host_response_rate                            21101 non-null  object \n",
      " 17  host_acceptance_rate                          22464 non-null  object \n",
      " 18  host_is_superhost                             24901 non-null  object \n",
      " 19  host_thumbnail_url                            24916 non-null  object \n",
      " 20  host_picture_url                              24916 non-null  object \n",
      " 21  host_neighbourhood                            14104 non-null  object \n",
      " 22  host_listings_count                           24916 non-null  float64\n",
      " 23  host_total_listings_count                     24916 non-null  float64\n",
      " 24  host_verifications                            24916 non-null  object \n",
      " 25  host_has_profile_pic                          24916 non-null  object \n",
      " 26  host_identity_verified                        24916 non-null  object \n",
      " 27  neighbourhood                                 15266 non-null  object \n",
      " 28  neighbourhood_cleansed                        24924 non-null  object \n",
      " 29  neighbourhood_group_cleansed                  0 non-null      float64\n",
      " 30  latitude                                      24924 non-null  float64\n",
      " 31  longitude                                     24924 non-null  float64\n",
      " 32  property_type                                 24924 non-null  object \n",
      " 33  room_type                                     24924 non-null  object \n",
      " 34  accommodates                                  24924 non-null  int64  \n",
      " 35  bathrooms                                     0 non-null      float64\n",
      " 36  bathrooms_text                                24878 non-null  object \n",
      " 37  bedrooms                                      24274 non-null  float64\n",
      " 38  beds                                          24599 non-null  float64\n",
      " 39  amenities                                     24924 non-null  object \n",
      " 40  price                                         24924 non-null  object \n",
      " 41  minimum_nights                                24924 non-null  int64  \n",
      " 42  maximum_nights                                24924 non-null  int64  \n",
      " 43  minimum_minimum_nights                        24923 non-null  float64\n",
      " 44  maximum_minimum_nights                        24923 non-null  float64\n",
      " 45  minimum_maximum_nights                        24923 non-null  float64\n",
      " 46  maximum_maximum_nights                        24923 non-null  float64\n",
      " 47  minimum_nights_avg_ntm                        24923 non-null  float64\n",
      " 48  maximum_nights_avg_ntm                        24923 non-null  float64\n",
      " 49  calendar_updated                              0 non-null      float64\n",
      " 50  has_availability                              24924 non-null  object \n",
      " 51  availability_30                               24924 non-null  int64  \n",
      " 52  availability_60                               24924 non-null  int64  \n",
      " 53  availability_90                               24924 non-null  int64  \n",
      " 54  availability_365                              24924 non-null  int64  \n",
      " 55  calendar_last_scraped                         24924 non-null  object \n",
      " 56  number_of_reviews                             24924 non-null  int64  \n",
      " 57  number_of_reviews_ltm                         24924 non-null  int64  \n",
      " 58  number_of_reviews_l30d                        24924 non-null  int64  \n",
      " 59  first_review                                  21152 non-null  object \n",
      " 60  last_review                                   21152 non-null  object \n",
      " 61  review_scores_rating                          21152 non-null  float64\n",
      " 62  review_scores_accuracy                        21054 non-null  float64\n",
      " 63  review_scores_cleanliness                     21056 non-null  float64\n",
      " 64  review_scores_checkin                         21053 non-null  float64\n",
      " 65  review_scores_communication                   21055 non-null  float64\n",
      " 66  review_scores_location                        21051 non-null  float64\n",
      " 67  review_scores_value                           21050 non-null  float64\n",
      " 68  license                                       4455 non-null   object \n",
      " 69  instant_bookable                              24924 non-null  object \n",
      " 70  calculated_host_listings_count                24924 non-null  int64  \n",
      " 71  calculated_host_listings_count_entire_homes   24924 non-null  int64  \n",
      " 72  calculated_host_listings_count_private_rooms  24924 non-null  int64  \n",
      " 73  calculated_host_listings_count_shared_rooms   24924 non-null  int64  \n",
      " 74  reviews_per_month                             21152 non-null  float64\n",
      "dtypes: float64(23), int64(17), object(35)\n",
      "memory usage: 14.3+ MB\n"
     ]
    }
   ],
   "source": [
    "df.info()"
   ]
  },
  {
   "cell_type": "code",
   "execution_count": 8,
   "id": "f23768c9-49a7-4a49-99ff-efddff9d816f",
   "metadata": {
    "tags": []
   },
   "outputs": [
    {
     "data": {
      "text/html": [
       "<div>\n",
       "<style scoped>\n",
       "    .dataframe tbody tr th:only-of-type {\n",
       "        vertical-align: middle;\n",
       "    }\n",
       "\n",
       "    .dataframe tbody tr th {\n",
       "        vertical-align: top;\n",
       "    }\n",
       "\n",
       "    .dataframe thead th {\n",
       "        text-align: right;\n",
       "    }\n",
       "</style>\n",
       "<table border=\"1\" class=\"dataframe\">\n",
       "  <thead>\n",
       "    <tr style=\"text-align: right;\">\n",
       "      <th></th>\n",
       "      <th>id</th>\n",
       "      <th>listing_url</th>\n",
       "      <th>scrape_id</th>\n",
       "      <th>last_scraped</th>\n",
       "      <th>source</th>\n",
       "      <th>name</th>\n",
       "      <th>description</th>\n",
       "      <th>neighborhood_overview</th>\n",
       "      <th>picture_url</th>\n",
       "      <th>host_id</th>\n",
       "      <th>...</th>\n",
       "      <th>review_scores_communication</th>\n",
       "      <th>review_scores_location</th>\n",
       "      <th>review_scores_value</th>\n",
       "      <th>license</th>\n",
       "      <th>instant_bookable</th>\n",
       "      <th>calculated_host_listings_count</th>\n",
       "      <th>calculated_host_listings_count_entire_homes</th>\n",
       "      <th>calculated_host_listings_count_private_rooms</th>\n",
       "      <th>calculated_host_listings_count_shared_rooms</th>\n",
       "      <th>reviews_per_month</th>\n",
       "    </tr>\n",
       "  </thead>\n",
       "  <tbody>\n",
       "    <tr>\n",
       "      <th>0</th>\n",
       "      <td>256695</td>\n",
       "      <td>https://www.airbnb.com/rooms/256695</td>\n",
       "      <td>20230315024350</td>\n",
       "      <td>2023-03-15</td>\n",
       "      <td>city scrape</td>\n",
       "      <td>Trastevere color-suite</td>\n",
       "      <td>&lt;b&gt;The space&lt;/b&gt;&lt;br /&gt;Apartment totally new in...</td>\n",
       "      <td>NaN</td>\n",
       "      <td>https://a0.muscache.com/pictures/4543522/a51fe...</td>\n",
       "      <td>1350540</td>\n",
       "      <td>...</td>\n",
       "      <td>4.99</td>\n",
       "      <td>4.95</td>\n",
       "      <td>4.91</td>\n",
       "      <td>NaN</td>\n",
       "      <td>t</td>\n",
       "      <td>1</td>\n",
       "      <td>1</td>\n",
       "      <td>0</td>\n",
       "      <td>0</td>\n",
       "      <td>1.54</td>\n",
       "    </tr>\n",
       "    <tr>\n",
       "      <th>1</th>\n",
       "      <td>258330</td>\n",
       "      <td>https://www.airbnb.com/rooms/258330</td>\n",
       "      <td>20230315024350</td>\n",
       "      <td>2023-03-15</td>\n",
       "      <td>city scrape</td>\n",
       "      <td>Sunny with view, WiFi, A/C. Metro, Airport train.</td>\n",
       "      <td>Naturally lit apartment with Wi-Fi, flat-scree...</td>\n",
       "      <td>The apartment is located in the Tuscolano-San ...</td>\n",
       "      <td>https://a0.muscache.com/pictures/b6804ab8-3bc6...</td>\n",
       "      <td>1358462</td>\n",
       "      <td>...</td>\n",
       "      <td>4.99</td>\n",
       "      <td>4.60</td>\n",
       "      <td>4.75</td>\n",
       "      <td>NaN</td>\n",
       "      <td>t</td>\n",
       "      <td>1</td>\n",
       "      <td>1</td>\n",
       "      <td>0</td>\n",
       "      <td>0</td>\n",
       "      <td>0.55</td>\n",
       "    </tr>\n",
       "    <tr>\n",
       "      <th>2</th>\n",
       "      <td>137044</td>\n",
       "      <td>https://www.airbnb.com/rooms/137044</td>\n",
       "      <td>20230315024350</td>\n",
       "      <td>2023-03-15</td>\n",
       "      <td>city scrape</td>\n",
       "      <td>In Campo de 'Fiori! For families and friends i...</td>\n",
       "      <td>Your home in Rome! Located in the center of Ro...</td>\n",
       "      <td>This area is a key component  of the historic ...</td>\n",
       "      <td>https://a0.muscache.com/pictures/prohost-api/H...</td>\n",
       "      <td>670337</td>\n",
       "      <td>...</td>\n",
       "      <td>4.74</td>\n",
       "      <td>4.90</td>\n",
       "      <td>4.35</td>\n",
       "      <td>NaN</td>\n",
       "      <td>t</td>\n",
       "      <td>1</td>\n",
       "      <td>1</td>\n",
       "      <td>0</td>\n",
       "      <td>0</td>\n",
       "      <td>1.02</td>\n",
       "    </tr>\n",
       "    <tr>\n",
       "      <th>3</th>\n",
       "      <td>137157</td>\n",
       "      <td>https://www.airbnb.com/rooms/137157</td>\n",
       "      <td>20230315024350</td>\n",
       "      <td>2023-03-15</td>\n",
       "      <td>city scrape</td>\n",
       "      <td>Super balcony in center on Romans roofs</td>\n",
       "      <td>&lt;b&gt;The space&lt;/b&gt;&lt;br /&gt;Fantastic apartment with...</td>\n",
       "      <td>NaN</td>\n",
       "      <td>https://a0.muscache.com/pictures/867987/95ef7c...</td>\n",
       "      <td>486866</td>\n",
       "      <td>...</td>\n",
       "      <td>4.75</td>\n",
       "      <td>4.75</td>\n",
       "      <td>4.50</td>\n",
       "      <td>NaN</td>\n",
       "      <td>f</td>\n",
       "      <td>5</td>\n",
       "      <td>5</td>\n",
       "      <td>0</td>\n",
       "      <td>0</td>\n",
       "      <td>0.04</td>\n",
       "    </tr>\n",
       "    <tr>\n",
       "      <th>4</th>\n",
       "      <td>259075</td>\n",
       "      <td>https://www.airbnb.com/rooms/259075</td>\n",
       "      <td>20230315024350</td>\n",
       "      <td>2023-03-15</td>\n",
       "      <td>city scrape</td>\n",
       "      <td>City Center: Large, Chic, Modern apartment</td>\n",
       "      <td>Renovated in January 2020,  new, wide, ideal f...</td>\n",
       "      <td>City Center-Walking distance from the major po...</td>\n",
       "      <td>https://a0.muscache.com/pictures/810f6a92-b702...</td>\n",
       "      <td>1311777</td>\n",
       "      <td>...</td>\n",
       "      <td>4.89</td>\n",
       "      <td>4.71</td>\n",
       "      <td>4.68</td>\n",
       "      <td>ATR 003602\\nCodice identificativo id869</td>\n",
       "      <td>t</td>\n",
       "      <td>2</td>\n",
       "      <td>2</td>\n",
       "      <td>0</td>\n",
       "      <td>0</td>\n",
       "      <td>1.29</td>\n",
       "    </tr>\n",
       "    <tr>\n",
       "      <th>5</th>\n",
       "      <td>137713</td>\n",
       "      <td>https://www.airbnb.com/rooms/137713</td>\n",
       "      <td>20230315024350</td>\n",
       "      <td>2023-03-15</td>\n",
       "      <td>city scrape</td>\n",
       "      <td>60sqm apt Campo de' Fiori with Wifi</td>\n",
       "      <td>&lt;b&gt;The space&lt;/b&gt;&lt;br /&gt;Charming and cosy one-be...</td>\n",
       "      <td>NaN</td>\n",
       "      <td>https://a0.muscache.com/pictures/4862275/d73f8...</td>\n",
       "      <td>246365</td>\n",
       "      <td>...</td>\n",
       "      <td>4.71</td>\n",
       "      <td>4.93</td>\n",
       "      <td>4.64</td>\n",
       "      <td>NaN</td>\n",
       "      <td>t</td>\n",
       "      <td>2</td>\n",
       "      <td>2</td>\n",
       "      <td>0</td>\n",
       "      <td>0</td>\n",
       "      <td>0.91</td>\n",
       "    </tr>\n",
       "    <tr>\n",
       "      <th>6</th>\n",
       "      <td>137724</td>\n",
       "      <td>https://www.airbnb.com/rooms/137724</td>\n",
       "      <td>20230315024350</td>\n",
       "      <td>2023-03-15</td>\n",
       "      <td>city scrape</td>\n",
       "      <td>Studio in Campo de' Fiori with Wifi</td>\n",
       "      <td>&lt;b&gt;The space&lt;/b&gt;&lt;br /&gt;35 sq/m studio in Campo ...</td>\n",
       "      <td>NaN</td>\n",
       "      <td>https://a0.muscache.com/pictures/65e84f06-c27a...</td>\n",
       "      <td>246365</td>\n",
       "      <td>...</td>\n",
       "      <td>4.70</td>\n",
       "      <td>4.93</td>\n",
       "      <td>4.63</td>\n",
       "      <td>NaN</td>\n",
       "      <td>t</td>\n",
       "      <td>2</td>\n",
       "      <td>2</td>\n",
       "      <td>0</td>\n",
       "      <td>0</td>\n",
       "      <td>1.37</td>\n",
       "    </tr>\n",
       "    <tr>\n",
       "      <th>7</th>\n",
       "      <td>138192</td>\n",
       "      <td>https://www.airbnb.com/rooms/138192</td>\n",
       "      <td>20230315024350</td>\n",
       "      <td>2023-03-15</td>\n",
       "      <td>city scrape</td>\n",
       "      <td>Rome Termini station double room</td>\n",
       "      <td>Spacious double room few steps away from Manzo...</td>\n",
       "      <td>The district is: &lt;br /&gt;full of shops, multi-et...</td>\n",
       "      <td>https://a0.muscache.com/pictures/miso/Hosting-...</td>\n",
       "      <td>674843</td>\n",
       "      <td>...</td>\n",
       "      <td>4.88</td>\n",
       "      <td>4.52</td>\n",
       "      <td>4.51</td>\n",
       "      <td>NaN</td>\n",
       "      <td>t</td>\n",
       "      <td>6</td>\n",
       "      <td>1</td>\n",
       "      <td>5</td>\n",
       "      <td>0</td>\n",
       "      <td>0.69</td>\n",
       "    </tr>\n",
       "    <tr>\n",
       "      <th>8</th>\n",
       "      <td>2737</td>\n",
       "      <td>https://www.airbnb.com/rooms/2737</td>\n",
       "      <td>20230315024350</td>\n",
       "      <td>2023-03-15</td>\n",
       "      <td>city scrape</td>\n",
       "      <td>Elif's room in cozy, clean flat.</td>\n",
       "      <td>10 min by bus you can get to Piazza Venezia or...</td>\n",
       "      <td>It used to be an industrial area until late 80...</td>\n",
       "      <td>https://a0.muscache.com/pictures/41225252/e955...</td>\n",
       "      <td>3047</td>\n",
       "      <td>...</td>\n",
       "      <td>5.00</td>\n",
       "      <td>4.40</td>\n",
       "      <td>4.40</td>\n",
       "      <td>NaN</td>\n",
       "      <td>f</td>\n",
       "      <td>6</td>\n",
       "      <td>0</td>\n",
       "      <td>6</td>\n",
       "      <td>0</td>\n",
       "      <td>0.07</td>\n",
       "    </tr>\n",
       "    <tr>\n",
       "      <th>9</th>\n",
       "      <td>262254</td>\n",
       "      <td>https://www.airbnb.com/rooms/262254</td>\n",
       "      <td>20230315024350</td>\n",
       "      <td>2023-03-15</td>\n",
       "      <td>city scrape</td>\n",
       "      <td>Two independent and joined apartments</td>\n",
       "      <td>This announcement relates to the rental of two...</td>\n",
       "      <td>NEAR THE BEST ACTRACTIVE OF THE CITY&lt;br /&gt;TRAS...</td>\n",
       "      <td>https://a0.muscache.com/pictures/3072244/c2b5a...</td>\n",
       "      <td>1374312</td>\n",
       "      <td>...</td>\n",
       "      <td>4.80</td>\n",
       "      <td>4.95</td>\n",
       "      <td>4.56</td>\n",
       "      <td>NaN</td>\n",
       "      <td>f</td>\n",
       "      <td>1</td>\n",
       "      <td>1</td>\n",
       "      <td>0</td>\n",
       "      <td>0</td>\n",
       "      <td>2.45</td>\n",
       "    </tr>\n",
       "    <tr>\n",
       "      <th>10</th>\n",
       "      <td>3079</td>\n",
       "      <td>https://www.airbnb.com/rooms/3079</td>\n",
       "      <td>20230315024350</td>\n",
       "      <td>2023-03-15</td>\n",
       "      <td>city scrape</td>\n",
       "      <td>Cozy apartment  (2-4)with Colisseum  view</td>\n",
       "      <td>With the view of the Colisseum from the front ...</td>\n",
       "      <td>Monti neighborhood is one of the best areas in...</td>\n",
       "      <td>https://a0.muscache.com/pictures/e85b119c-3667...</td>\n",
       "      <td>3504</td>\n",
       "      <td>...</td>\n",
       "      <td>4.86</td>\n",
       "      <td>4.81</td>\n",
       "      <td>4.43</td>\n",
       "      <td>NaN</td>\n",
       "      <td>f</td>\n",
       "      <td>5</td>\n",
       "      <td>5</td>\n",
       "      <td>0</td>\n",
       "      <td>0</td>\n",
       "      <td>0.14</td>\n",
       "    </tr>\n",
       "    <tr>\n",
       "      <th>11</th>\n",
       "      <td>11834</td>\n",
       "      <td>https://www.airbnb.com/rooms/11834</td>\n",
       "      <td>20230315024350</td>\n",
       "      <td>2023-03-15</td>\n",
       "      <td>city scrape</td>\n",
       "      <td>Rome \"Charming Boschetto Studio\"</td>\n",
       "      <td>The apartment is located on the ground floor o...</td>\n",
       "      <td>NaN</td>\n",
       "      <td>https://a0.muscache.com/pictures/miso/Hosting-...</td>\n",
       "      <td>44552</td>\n",
       "      <td>...</td>\n",
       "      <td>4.93</td>\n",
       "      <td>4.98</td>\n",
       "      <td>4.72</td>\n",
       "      <td>NaN</td>\n",
       "      <td>f</td>\n",
       "      <td>1</td>\n",
       "      <td>1</td>\n",
       "      <td>0</td>\n",
       "      <td>0</td>\n",
       "      <td>1.21</td>\n",
       "    </tr>\n",
       "    <tr>\n",
       "      <th>12</th>\n",
       "      <td>139330</td>\n",
       "      <td>https://www.airbnb.com/rooms/139330</td>\n",
       "      <td>20230315024350</td>\n",
       "      <td>2023-03-15</td>\n",
       "      <td>city scrape</td>\n",
       "      <td>abbraccia Morfeo (2b)</td>\n",
       "      <td>“Abbraccia Morfeo” , located on the first floo...</td>\n",
       "      <td>NaN</td>\n",
       "      <td>https://a0.muscache.com/pictures/bbb5c913-9483...</td>\n",
       "      <td>679555</td>\n",
       "      <td>...</td>\n",
       "      <td>4.95</td>\n",
       "      <td>4.36</td>\n",
       "      <td>4.91</td>\n",
       "      <td>Aut. Comune di Roma QA 2016/160 del 04/01/2016...</td>\n",
       "      <td>t</td>\n",
       "      <td>2</td>\n",
       "      <td>0</td>\n",
       "      <td>2</td>\n",
       "      <td>0</td>\n",
       "      <td>0.28</td>\n",
       "    </tr>\n",
       "    <tr>\n",
       "      <th>13</th>\n",
       "      <td>140801</td>\n",
       "      <td>https://www.airbnb.com/rooms/140801</td>\n",
       "      <td>20230315024350</td>\n",
       "      <td>2023-03-15</td>\n",
       "      <td>city scrape</td>\n",
       "      <td>Rome Studio Rental, Colosseum</td>\n",
       "      <td>Recently renovated, the studio has an entry fr...</td>\n",
       "      <td>....</td>\n",
       "      <td>https://a0.muscache.com/pictures/892e7c20-8449...</td>\n",
       "      <td>685600</td>\n",
       "      <td>...</td>\n",
       "      <td>4.89</td>\n",
       "      <td>4.87</td>\n",
       "      <td>4.74</td>\n",
       "      <td>NaN</td>\n",
       "      <td>f</td>\n",
       "      <td>1</td>\n",
       "      <td>1</td>\n",
       "      <td>0</td>\n",
       "      <td>0</td>\n",
       "      <td>1.26</td>\n",
       "    </tr>\n",
       "    <tr>\n",
       "      <th>14</th>\n",
       "      <td>262313</td>\n",
       "      <td>https://www.airbnb.com/rooms/262313</td>\n",
       "      <td>20230315024350</td>\n",
       "      <td>2023-03-15</td>\n",
       "      <td>city scrape</td>\n",
       "      <td>The Other Moon at Termini station</td>\n",
       "      <td>and finally AIR CONDITIONING just what we need...</td>\n",
       "      <td>NaN</td>\n",
       "      <td>https://a0.muscache.com/pictures/2788063/6db11...</td>\n",
       "      <td>1376239</td>\n",
       "      <td>...</td>\n",
       "      <td>4.92</td>\n",
       "      <td>4.49</td>\n",
       "      <td>4.64</td>\n",
       "      <td>NaN</td>\n",
       "      <td>t</td>\n",
       "      <td>1</td>\n",
       "      <td>0</td>\n",
       "      <td>1</td>\n",
       "      <td>0</td>\n",
       "      <td>1.41</td>\n",
       "    </tr>\n",
       "    <tr>\n",
       "      <th>15</th>\n",
       "      <td>141614</td>\n",
       "      <td>https://www.airbnb.com/rooms/141614</td>\n",
       "      <td>20230315024350</td>\n",
       "      <td>2023-03-15</td>\n",
       "      <td>city scrape</td>\n",
       "      <td>Room with private bathroom - Colosseum 10min away</td>\n",
       "      <td>A comfortable accomodation, spacious and in th...</td>\n",
       "      <td>We are only a ten minutes walk away from the h...</td>\n",
       "      <td>https://a0.muscache.com/pictures/060739a0-dc6d...</td>\n",
       "      <td>674843</td>\n",
       "      <td>...</td>\n",
       "      <td>4.41</td>\n",
       "      <td>4.55</td>\n",
       "      <td>4.27</td>\n",
       "      <td>NaN</td>\n",
       "      <td>t</td>\n",
       "      <td>6</td>\n",
       "      <td>1</td>\n",
       "      <td>5</td>\n",
       "      <td>0</td>\n",
       "      <td>0.20</td>\n",
       "    </tr>\n",
       "    <tr>\n",
       "      <th>16</th>\n",
       "      <td>141634</td>\n",
       "      <td>https://www.airbnb.com/rooms/141634</td>\n",
       "      <td>20230315024350</td>\n",
       "      <td>2023-03-15</td>\n",
       "      <td>city scrape</td>\n",
       "      <td>Bright room (up to 4 people) - Rome Colosseum</td>\n",
       "      <td>Spacious room few steps away from Manzoni Metr...</td>\n",
       "      <td>We are only a ten minutes walk away from the h...</td>\n",
       "      <td>https://a0.muscache.com/pictures/miso/Hosting-...</td>\n",
       "      <td>674843</td>\n",
       "      <td>...</td>\n",
       "      <td>4.88</td>\n",
       "      <td>4.52</td>\n",
       "      <td>4.63</td>\n",
       "      <td>NaN</td>\n",
       "      <td>t</td>\n",
       "      <td>6</td>\n",
       "      <td>1</td>\n",
       "      <td>5</td>\n",
       "      <td>0</td>\n",
       "      <td>0.51</td>\n",
       "    </tr>\n",
       "    <tr>\n",
       "      <th>17</th>\n",
       "      <td>12398</td>\n",
       "      <td>https://www.airbnb.com/rooms/12398</td>\n",
       "      <td>20230315024350</td>\n",
       "      <td>2023-03-15</td>\n",
       "      <td>city scrape</td>\n",
       "      <td>Casa Donatello - Home far from Home</td>\n",
       "      <td>Casa Donatello is a newly renovated two-bedroo...</td>\n",
       "      <td>You are at 15 minutes walking distance from hi...</td>\n",
       "      <td>https://a0.muscache.com/pictures/miso/Hosting-...</td>\n",
       "      <td>11756</td>\n",
       "      <td>...</td>\n",
       "      <td>5.00</td>\n",
       "      <td>4.86</td>\n",
       "      <td>4.85</td>\n",
       "      <td>NaN</td>\n",
       "      <td>f</td>\n",
       "      <td>1</td>\n",
       "      <td>1</td>\n",
       "      <td>0</td>\n",
       "      <td>0</td>\n",
       "      <td>0.30</td>\n",
       "    </tr>\n",
       "    <tr>\n",
       "      <th>18</th>\n",
       "      <td>19965</td>\n",
       "      <td>https://www.airbnb.com/rooms/19965</td>\n",
       "      <td>20230315024350</td>\n",
       "      <td>2023-03-15</td>\n",
       "      <td>city scrape</td>\n",
       "      <td>DI FRONTE AI MUSEI VATICANI 2 CAMERE DA LETTO</td>\n",
       "      <td>Bright and quiet two bedrooms apartment 3rd fl...</td>\n",
       "      <td>Prati is a famous neighbourhood (rione of Rome...</td>\n",
       "      <td>https://a0.muscache.com/pictures/e20065da-e15a...</td>\n",
       "      <td>75450</td>\n",
       "      <td>...</td>\n",
       "      <td>4.85</td>\n",
       "      <td>4.85</td>\n",
       "      <td>4.46</td>\n",
       "      <td>NaN</td>\n",
       "      <td>t</td>\n",
       "      <td>9</td>\n",
       "      <td>9</td>\n",
       "      <td>0</td>\n",
       "      <td>0</td>\n",
       "      <td>0.73</td>\n",
       "    </tr>\n",
       "    <tr>\n",
       "      <th>19</th>\n",
       "      <td>262876</td>\n",
       "      <td>https://www.airbnb.com/rooms/262876</td>\n",
       "      <td>20230315024350</td>\n",
       "      <td>2023-03-15</td>\n",
       "      <td>city scrape</td>\n",
       "      <td>Ancient Trastevere rooms: THE SUITE</td>\n",
       "      <td>Located in Trastevere, the heart of historic R...</td>\n",
       "      <td>Trastevere the dense area across the river, is...</td>\n",
       "      <td>https://a0.muscache.com/pictures/2825813/489b0...</td>\n",
       "      <td>1379558</td>\n",
       "      <td>...</td>\n",
       "      <td>4.75</td>\n",
       "      <td>4.89</td>\n",
       "      <td>4.58</td>\n",
       "      <td>NaN</td>\n",
       "      <td>t</td>\n",
       "      <td>2</td>\n",
       "      <td>0</td>\n",
       "      <td>2</td>\n",
       "      <td>0</td>\n",
       "      <td>2.12</td>\n",
       "    </tr>\n",
       "    <tr>\n",
       "      <th>20</th>\n",
       "      <td>19967</td>\n",
       "      <td>https://www.airbnb.com/rooms/19967</td>\n",
       "      <td>20230315024350</td>\n",
       "      <td>2023-03-15</td>\n",
       "      <td>city scrape</td>\n",
       "      <td>A 5 MIN A PIEDI P.ZZA S. PIETRO 2 CAMERE SPAZIOSO</td>\n",
       "      <td>Bright and quiet two bedrooms apartment 3 floo...</td>\n",
       "      <td>Prati is a famous neighbourhood (rione of Rome...</td>\n",
       "      <td>https://a0.muscache.com/pictures/19762957/56a0...</td>\n",
       "      <td>75450</td>\n",
       "      <td>...</td>\n",
       "      <td>4.78</td>\n",
       "      <td>4.83</td>\n",
       "      <td>4.22</td>\n",
       "      <td>NaN</td>\n",
       "      <td>t</td>\n",
       "      <td>9</td>\n",
       "      <td>9</td>\n",
       "      <td>0</td>\n",
       "      <td>0</td>\n",
       "      <td>0.36</td>\n",
       "    </tr>\n",
       "    <tr>\n",
       "      <th>21</th>\n",
       "      <td>142483</td>\n",
       "      <td>https://www.airbnb.com/rooms/142483</td>\n",
       "      <td>20230315024350</td>\n",
       "      <td>2023-03-15</td>\n",
       "      <td>city scrape</td>\n",
       "      <td>Termini station single room</td>\n",
       "      <td>A practical and comfortable accomodation near ...</td>\n",
       "      <td>The district is:&lt;br /&gt;full of shops, multi-eth...</td>\n",
       "      <td>https://a0.muscache.com/pictures/66da1d67-11c6...</td>\n",
       "      <td>674843</td>\n",
       "      <td>...</td>\n",
       "      <td>4.75</td>\n",
       "      <td>4.64</td>\n",
       "      <td>4.42</td>\n",
       "      <td>NaN</td>\n",
       "      <td>t</td>\n",
       "      <td>6</td>\n",
       "      <td>1</td>\n",
       "      <td>5</td>\n",
       "      <td>0</td>\n",
       "      <td>0.91</td>\n",
       "    </tr>\n",
       "    <tr>\n",
       "      <th>22</th>\n",
       "      <td>263210</td>\n",
       "      <td>https://www.airbnb.com/rooms/263210</td>\n",
       "      <td>20230315024350</td>\n",
       "      <td>2023-03-15</td>\n",
       "      <td>city scrape</td>\n",
       "      <td>Charming Flat near St. Peter Square</td>\n",
       "      <td>Just two hundred meters from the Basilica of S...</td>\n",
       "      <td>NaN</td>\n",
       "      <td>https://a0.muscache.com/pictures/12b0049d-75c9...</td>\n",
       "      <td>1381045</td>\n",
       "      <td>...</td>\n",
       "      <td>4.99</td>\n",
       "      <td>4.89</td>\n",
       "      <td>4.94</td>\n",
       "      <td>NaN</td>\n",
       "      <td>t</td>\n",
       "      <td>2</td>\n",
       "      <td>2</td>\n",
       "      <td>0</td>\n",
       "      <td>0</td>\n",
       "      <td>2.92</td>\n",
       "    </tr>\n",
       "    <tr>\n",
       "      <th>23</th>\n",
       "      <td>147381</td>\n",
       "      <td>https://www.airbnb.com/rooms/147381</td>\n",
       "      <td>20230315024350</td>\n",
       "      <td>2023-03-15</td>\n",
       "      <td>city scrape</td>\n",
       "      <td>Charming Studio in Trevi Fountain</td>\n",
       "      <td>Bright and charming studio located on the seco...</td>\n",
       "      <td>NaN</td>\n",
       "      <td>https://a0.muscache.com/pictures/1017859/f5fe5...</td>\n",
       "      <td>712288</td>\n",
       "      <td>...</td>\n",
       "      <td>4.77</td>\n",
       "      <td>4.91</td>\n",
       "      <td>4.48</td>\n",
       "      <td>NaN</td>\n",
       "      <td>t</td>\n",
       "      <td>13</td>\n",
       "      <td>13</td>\n",
       "      <td>0</td>\n",
       "      <td>0</td>\n",
       "      <td>1.60</td>\n",
       "    </tr>\n",
       "    <tr>\n",
       "      <th>24</th>\n",
       "      <td>147670</td>\n",
       "      <td>https://www.airbnb.com/rooms/147670</td>\n",
       "      <td>20230315024350</td>\n",
       "      <td>2023-03-15</td>\n",
       "      <td>city scrape</td>\n",
       "      <td>Feliz in Roma B&amp;B - Junior Suite</td>\n",
       "      <td>&lt;b&gt;The space&lt;/b&gt;&lt;br /&gt;Feliz in Roma Bed &amp; Brea...</td>\n",
       "      <td>NaN</td>\n",
       "      <td>https://a0.muscache.com/pictures/934135/492abb...</td>\n",
       "      <td>628404</td>\n",
       "      <td>...</td>\n",
       "      <td>4.83</td>\n",
       "      <td>4.67</td>\n",
       "      <td>4.67</td>\n",
       "      <td>NaN</td>\n",
       "      <td>t</td>\n",
       "      <td>3</td>\n",
       "      <td>0</td>\n",
       "      <td>3</td>\n",
       "      <td>0</td>\n",
       "      <td>0.07</td>\n",
       "    </tr>\n",
       "  </tbody>\n",
       "</table>\n",
       "<p>25 rows × 75 columns</p>\n",
       "</div>"
      ],
      "text/plain": [
       "        id                          listing_url       scrape_id last_scraped   \n",
       "0   256695  https://www.airbnb.com/rooms/256695  20230315024350   2023-03-15  \\\n",
       "1   258330  https://www.airbnb.com/rooms/258330  20230315024350   2023-03-15   \n",
       "2   137044  https://www.airbnb.com/rooms/137044  20230315024350   2023-03-15   \n",
       "3   137157  https://www.airbnb.com/rooms/137157  20230315024350   2023-03-15   \n",
       "4   259075  https://www.airbnb.com/rooms/259075  20230315024350   2023-03-15   \n",
       "5   137713  https://www.airbnb.com/rooms/137713  20230315024350   2023-03-15   \n",
       "6   137724  https://www.airbnb.com/rooms/137724  20230315024350   2023-03-15   \n",
       "7   138192  https://www.airbnb.com/rooms/138192  20230315024350   2023-03-15   \n",
       "8     2737    https://www.airbnb.com/rooms/2737  20230315024350   2023-03-15   \n",
       "9   262254  https://www.airbnb.com/rooms/262254  20230315024350   2023-03-15   \n",
       "10    3079    https://www.airbnb.com/rooms/3079  20230315024350   2023-03-15   \n",
       "11   11834   https://www.airbnb.com/rooms/11834  20230315024350   2023-03-15   \n",
       "12  139330  https://www.airbnb.com/rooms/139330  20230315024350   2023-03-15   \n",
       "13  140801  https://www.airbnb.com/rooms/140801  20230315024350   2023-03-15   \n",
       "14  262313  https://www.airbnb.com/rooms/262313  20230315024350   2023-03-15   \n",
       "15  141614  https://www.airbnb.com/rooms/141614  20230315024350   2023-03-15   \n",
       "16  141634  https://www.airbnb.com/rooms/141634  20230315024350   2023-03-15   \n",
       "17   12398   https://www.airbnb.com/rooms/12398  20230315024350   2023-03-15   \n",
       "18   19965   https://www.airbnb.com/rooms/19965  20230315024350   2023-03-15   \n",
       "19  262876  https://www.airbnb.com/rooms/262876  20230315024350   2023-03-15   \n",
       "20   19967   https://www.airbnb.com/rooms/19967  20230315024350   2023-03-15   \n",
       "21  142483  https://www.airbnb.com/rooms/142483  20230315024350   2023-03-15   \n",
       "22  263210  https://www.airbnb.com/rooms/263210  20230315024350   2023-03-15   \n",
       "23  147381  https://www.airbnb.com/rooms/147381  20230315024350   2023-03-15   \n",
       "24  147670  https://www.airbnb.com/rooms/147670  20230315024350   2023-03-15   \n",
       "\n",
       "         source                                               name   \n",
       "0   city scrape                             Trastevere color-suite  \\\n",
       "1   city scrape  Sunny with view, WiFi, A/C. Metro, Airport train.   \n",
       "2   city scrape  In Campo de 'Fiori! For families and friends i...   \n",
       "3   city scrape            Super balcony in center on Romans roofs   \n",
       "4   city scrape         City Center: Large, Chic, Modern apartment   \n",
       "5   city scrape                60sqm apt Campo de' Fiori with Wifi   \n",
       "6   city scrape                Studio in Campo de' Fiori with Wifi   \n",
       "7   city scrape                   Rome Termini station double room   \n",
       "8   city scrape                   Elif's room in cozy, clean flat.   \n",
       "9   city scrape              Two independent and joined apartments   \n",
       "10  city scrape          Cozy apartment  (2-4)with Colisseum  view   \n",
       "11  city scrape                   Rome \"Charming Boschetto Studio\"   \n",
       "12  city scrape                              abbraccia Morfeo (2b)   \n",
       "13  city scrape                      Rome Studio Rental, Colosseum   \n",
       "14  city scrape                  The Other Moon at Termini station   \n",
       "15  city scrape  Room with private bathroom - Colosseum 10min away   \n",
       "16  city scrape      Bright room (up to 4 people) - Rome Colosseum   \n",
       "17  city scrape                Casa Donatello - Home far from Home   \n",
       "18  city scrape      DI FRONTE AI MUSEI VATICANI 2 CAMERE DA LETTO   \n",
       "19  city scrape                Ancient Trastevere rooms: THE SUITE   \n",
       "20  city scrape  A 5 MIN A PIEDI P.ZZA S. PIETRO 2 CAMERE SPAZIOSO   \n",
       "21  city scrape                        Termini station single room   \n",
       "22  city scrape                Charming Flat near St. Peter Square   \n",
       "23  city scrape                  Charming Studio in Trevi Fountain   \n",
       "24  city scrape                   Feliz in Roma B&B - Junior Suite   \n",
       "\n",
       "                                          description   \n",
       "0   <b>The space</b><br />Apartment totally new in...  \\\n",
       "1   Naturally lit apartment with Wi-Fi, flat-scree...   \n",
       "2   Your home in Rome! Located in the center of Ro...   \n",
       "3   <b>The space</b><br />Fantastic apartment with...   \n",
       "4   Renovated in January 2020,  new, wide, ideal f...   \n",
       "5   <b>The space</b><br />Charming and cosy one-be...   \n",
       "6   <b>The space</b><br />35 sq/m studio in Campo ...   \n",
       "7   Spacious double room few steps away from Manzo...   \n",
       "8   10 min by bus you can get to Piazza Venezia or...   \n",
       "9   This announcement relates to the rental of two...   \n",
       "10  With the view of the Colisseum from the front ...   \n",
       "11  The apartment is located on the ground floor o...   \n",
       "12  “Abbraccia Morfeo” , located on the first floo...   \n",
       "13  Recently renovated, the studio has an entry fr...   \n",
       "14  and finally AIR CONDITIONING just what we need...   \n",
       "15  A comfortable accomodation, spacious and in th...   \n",
       "16  Spacious room few steps away from Manzoni Metr...   \n",
       "17  Casa Donatello is a newly renovated two-bedroo...   \n",
       "18  Bright and quiet two bedrooms apartment 3rd fl...   \n",
       "19  Located in Trastevere, the heart of historic R...   \n",
       "20  Bright and quiet two bedrooms apartment 3 floo...   \n",
       "21  A practical and comfortable accomodation near ...   \n",
       "22  Just two hundred meters from the Basilica of S...   \n",
       "23  Bright and charming studio located on the seco...   \n",
       "24  <b>The space</b><br />Feliz in Roma Bed & Brea...   \n",
       "\n",
       "                                neighborhood_overview   \n",
       "0                                                 NaN  \\\n",
       "1   The apartment is located in the Tuscolano-San ...   \n",
       "2   This area is a key component  of the historic ...   \n",
       "3                                                 NaN   \n",
       "4   City Center-Walking distance from the major po...   \n",
       "5                                                 NaN   \n",
       "6                                                 NaN   \n",
       "7   The district is: <br />full of shops, multi-et...   \n",
       "8   It used to be an industrial area until late 80...   \n",
       "9   NEAR THE BEST ACTRACTIVE OF THE CITY<br />TRAS...   \n",
       "10  Monti neighborhood is one of the best areas in...   \n",
       "11                                                NaN   \n",
       "12                                                NaN   \n",
       "13                                               ....   \n",
       "14                                                NaN   \n",
       "15  We are only a ten minutes walk away from the h...   \n",
       "16  We are only a ten minutes walk away from the h...   \n",
       "17  You are at 15 minutes walking distance from hi...   \n",
       "18  Prati is a famous neighbourhood (rione of Rome...   \n",
       "19  Trastevere the dense area across the river, is...   \n",
       "20  Prati is a famous neighbourhood (rione of Rome...   \n",
       "21  The district is:<br />full of shops, multi-eth...   \n",
       "22                                                NaN   \n",
       "23                                                NaN   \n",
       "24                                                NaN   \n",
       "\n",
       "                                          picture_url  host_id  ...   \n",
       "0   https://a0.muscache.com/pictures/4543522/a51fe...  1350540  ...  \\\n",
       "1   https://a0.muscache.com/pictures/b6804ab8-3bc6...  1358462  ...   \n",
       "2   https://a0.muscache.com/pictures/prohost-api/H...   670337  ...   \n",
       "3   https://a0.muscache.com/pictures/867987/95ef7c...   486866  ...   \n",
       "4   https://a0.muscache.com/pictures/810f6a92-b702...  1311777  ...   \n",
       "5   https://a0.muscache.com/pictures/4862275/d73f8...   246365  ...   \n",
       "6   https://a0.muscache.com/pictures/65e84f06-c27a...   246365  ...   \n",
       "7   https://a0.muscache.com/pictures/miso/Hosting-...   674843  ...   \n",
       "8   https://a0.muscache.com/pictures/41225252/e955...     3047  ...   \n",
       "9   https://a0.muscache.com/pictures/3072244/c2b5a...  1374312  ...   \n",
       "10  https://a0.muscache.com/pictures/e85b119c-3667...     3504  ...   \n",
       "11  https://a0.muscache.com/pictures/miso/Hosting-...    44552  ...   \n",
       "12  https://a0.muscache.com/pictures/bbb5c913-9483...   679555  ...   \n",
       "13  https://a0.muscache.com/pictures/892e7c20-8449...   685600  ...   \n",
       "14  https://a0.muscache.com/pictures/2788063/6db11...  1376239  ...   \n",
       "15  https://a0.muscache.com/pictures/060739a0-dc6d...   674843  ...   \n",
       "16  https://a0.muscache.com/pictures/miso/Hosting-...   674843  ...   \n",
       "17  https://a0.muscache.com/pictures/miso/Hosting-...    11756  ...   \n",
       "18  https://a0.muscache.com/pictures/e20065da-e15a...    75450  ...   \n",
       "19  https://a0.muscache.com/pictures/2825813/489b0...  1379558  ...   \n",
       "20  https://a0.muscache.com/pictures/19762957/56a0...    75450  ...   \n",
       "21  https://a0.muscache.com/pictures/66da1d67-11c6...   674843  ...   \n",
       "22  https://a0.muscache.com/pictures/12b0049d-75c9...  1381045  ...   \n",
       "23  https://a0.muscache.com/pictures/1017859/f5fe5...   712288  ...   \n",
       "24  https://a0.muscache.com/pictures/934135/492abb...   628404  ...   \n",
       "\n",
       "   review_scores_communication review_scores_location review_scores_value   \n",
       "0                         4.99                   4.95                4.91  \\\n",
       "1                         4.99                   4.60                4.75   \n",
       "2                         4.74                   4.90                4.35   \n",
       "3                         4.75                   4.75                4.50   \n",
       "4                         4.89                   4.71                4.68   \n",
       "5                         4.71                   4.93                4.64   \n",
       "6                         4.70                   4.93                4.63   \n",
       "7                         4.88                   4.52                4.51   \n",
       "8                         5.00                   4.40                4.40   \n",
       "9                         4.80                   4.95                4.56   \n",
       "10                        4.86                   4.81                4.43   \n",
       "11                        4.93                   4.98                4.72   \n",
       "12                        4.95                   4.36                4.91   \n",
       "13                        4.89                   4.87                4.74   \n",
       "14                        4.92                   4.49                4.64   \n",
       "15                        4.41                   4.55                4.27   \n",
       "16                        4.88                   4.52                4.63   \n",
       "17                        5.00                   4.86                4.85   \n",
       "18                        4.85                   4.85                4.46   \n",
       "19                        4.75                   4.89                4.58   \n",
       "20                        4.78                   4.83                4.22   \n",
       "21                        4.75                   4.64                4.42   \n",
       "22                        4.99                   4.89                4.94   \n",
       "23                        4.77                   4.91                4.48   \n",
       "24                        4.83                   4.67                4.67   \n",
       "\n",
       "                                              license instant_bookable   \n",
       "0                                                 NaN                t  \\\n",
       "1                                                 NaN                t   \n",
       "2                                                 NaN                t   \n",
       "3                                                 NaN                f   \n",
       "4             ATR 003602\\nCodice identificativo id869                t   \n",
       "5                                                 NaN                t   \n",
       "6                                                 NaN                t   \n",
       "7                                                 NaN                t   \n",
       "8                                                 NaN                f   \n",
       "9                                                 NaN                f   \n",
       "10                                                NaN                f   \n",
       "11                                                NaN                f   \n",
       "12  Aut. Comune di Roma QA 2016/160 del 04/01/2016...                t   \n",
       "13                                                NaN                f   \n",
       "14                                                NaN                t   \n",
       "15                                                NaN                t   \n",
       "16                                                NaN                t   \n",
       "17                                                NaN                f   \n",
       "18                                                NaN                t   \n",
       "19                                                NaN                t   \n",
       "20                                                NaN                t   \n",
       "21                                                NaN                t   \n",
       "22                                                NaN                t   \n",
       "23                                                NaN                t   \n",
       "24                                                NaN                t   \n",
       "\n",
       "   calculated_host_listings_count calculated_host_listings_count_entire_homes   \n",
       "0                               1                                           1  \\\n",
       "1                               1                                           1   \n",
       "2                               1                                           1   \n",
       "3                               5                                           5   \n",
       "4                               2                                           2   \n",
       "5                               2                                           2   \n",
       "6                               2                                           2   \n",
       "7                               6                                           1   \n",
       "8                               6                                           0   \n",
       "9                               1                                           1   \n",
       "10                              5                                           5   \n",
       "11                              1                                           1   \n",
       "12                              2                                           0   \n",
       "13                              1                                           1   \n",
       "14                              1                                           0   \n",
       "15                              6                                           1   \n",
       "16                              6                                           1   \n",
       "17                              1                                           1   \n",
       "18                              9                                           9   \n",
       "19                              2                                           0   \n",
       "20                              9                                           9   \n",
       "21                              6                                           1   \n",
       "22                              2                                           2   \n",
       "23                             13                                          13   \n",
       "24                              3                                           0   \n",
       "\n",
       "   calculated_host_listings_count_private_rooms   \n",
       "0                                             0  \\\n",
       "1                                             0   \n",
       "2                                             0   \n",
       "3                                             0   \n",
       "4                                             0   \n",
       "5                                             0   \n",
       "6                                             0   \n",
       "7                                             5   \n",
       "8                                             6   \n",
       "9                                             0   \n",
       "10                                            0   \n",
       "11                                            0   \n",
       "12                                            2   \n",
       "13                                            0   \n",
       "14                                            1   \n",
       "15                                            5   \n",
       "16                                            5   \n",
       "17                                            0   \n",
       "18                                            0   \n",
       "19                                            2   \n",
       "20                                            0   \n",
       "21                                            5   \n",
       "22                                            0   \n",
       "23                                            0   \n",
       "24                                            3   \n",
       "\n",
       "   calculated_host_listings_count_shared_rooms reviews_per_month  \n",
       "0                                            0              1.54  \n",
       "1                                            0              0.55  \n",
       "2                                            0              1.02  \n",
       "3                                            0              0.04  \n",
       "4                                            0              1.29  \n",
       "5                                            0              0.91  \n",
       "6                                            0              1.37  \n",
       "7                                            0              0.69  \n",
       "8                                            0              0.07  \n",
       "9                                            0              2.45  \n",
       "10                                           0              0.14  \n",
       "11                                           0              1.21  \n",
       "12                                           0              0.28  \n",
       "13                                           0              1.26  \n",
       "14                                           0              1.41  \n",
       "15                                           0              0.20  \n",
       "16                                           0              0.51  \n",
       "17                                           0              0.30  \n",
       "18                                           0              0.73  \n",
       "19                                           0              2.12  \n",
       "20                                           0              0.36  \n",
       "21                                           0              0.91  \n",
       "22                                           0              2.92  \n",
       "23                                           0              1.60  \n",
       "24                                           0              0.07  \n",
       "\n",
       "[25 rows x 75 columns]"
      ]
     },
     "execution_count": 8,
     "metadata": {},
     "output_type": "execute_result"
    }
   ],
   "source": [
    "df.head(25)"
   ]
  },
  {
   "cell_type": "code",
   "execution_count": 9,
   "id": "52d11bcf-0e52-47df-acca-e925c537596c",
   "metadata": {
    "tags": []
   },
   "outputs": [
    {
     "data": {
      "text/plain": [
       "24924"
      ]
     },
     "execution_count": 9,
     "metadata": {},
     "output_type": "execute_result"
    }
   ],
   "source": [
    "# Number of separate accomodotain units\n",
    "\n",
    "len(df.index)"
   ]
  },
  {
   "cell_type": "code",
   "execution_count": 10,
   "id": "684dcbfb-6b85-4d0b-915c-b4eb09fce4c8",
   "metadata": {
    "tags": []
   },
   "outputs": [
    {
     "data": {
      "text/plain": [
       "12935"
      ]
     },
     "execution_count": 10,
     "metadata": {},
     "output_type": "execute_result"
    }
   ],
   "source": [
    "# Number of hosts\n",
    "\n",
    "df['host_id'].nunique()"
   ]
  },
  {
   "cell_type": "code",
   "execution_count": 11,
   "id": "14952347-925a-4b1f-bdd2-ad2da5f04848",
   "metadata": {
    "tags": []
   },
   "outputs": [],
   "source": [
    "df_host = df.groupby('host_id').id.count().sort_values(ascending = False).head(100)"
   ]
  },
  {
   "cell_type": "code",
   "execution_count": 12,
   "id": "be2ff672-f29e-41f0-b1d1-a0e2313eefcf",
   "metadata": {
    "tags": []
   },
   "outputs": [
    {
     "data": {
      "text/plain": [
       "host_id\n",
       "23532561     239\n",
       "96122546     152\n",
       "201739458     83\n",
       "63191555      70\n",
       "8973851       57\n",
       "2405376       52\n",
       "51503378      49\n",
       "1107433       48\n",
       "316068        47\n",
       "45788344      47\n",
       "230950667     45\n",
       "224869116     43\n",
       "1369759       43\n",
       "4453257       42\n",
       "206380158     39\n",
       "20428282      39\n",
       "13766340      36\n",
       "1764914       34\n",
       "4417813       33\n",
       "24459917      33\n",
       "115777793     31\n",
       "94907986      29\n",
       "16611461      28\n",
       "6519534       28\n",
       "20607918      27\n",
       "55155461      27\n",
       "256680931     26\n",
       "13331165      25\n",
       "57568166      25\n",
       "10210991      23\n",
       "494485        23\n",
       "9549387       22\n",
       "7024674       22\n",
       "73484657      22\n",
       "19178087      21\n",
       "20968125      21\n",
       "4495963       21\n",
       "51977220      21\n",
       "97409859      21\n",
       "94052914      21\n",
       "761827        21\n",
       "212194733     20\n",
       "5232802       20\n",
       "128751678     20\n",
       "6797602       20\n",
       "41170239      20\n",
       "234260176     19\n",
       "47959968      19\n",
       "23152582      19\n",
       "8110338       18\n",
       "1355106       18\n",
       "62082327      18\n",
       "2315268       18\n",
       "167149840     18\n",
       "5265232       18\n",
       "Name: id, dtype: int64"
      ]
     },
     "execution_count": 12,
     "metadata": {},
     "output_type": "execute_result"
    }
   ],
   "source": [
    "df_host.head(55)"
   ]
  },
  {
   "cell_type": "code",
   "execution_count": 13,
   "id": "eaecba64-bf92-47bc-b36c-4dde333202ad",
   "metadata": {
    "tags": []
   },
   "outputs": [
    {
     "data": {
      "text/plain": [
       "239"
      ]
     },
     "execution_count": 13,
     "metadata": {},
     "output_type": "execute_result"
    }
   ],
   "source": [
    "\n",
    "df.loc[df['host_id'] == 23532561].id.count()"
   ]
  },
  {
   "cell_type": "code",
   "execution_count": 14,
   "id": "f6aaabca-3fbc-4b34-acee-0de7942f19df",
   "metadata": {
    "tags": []
   },
   "outputs": [
    {
     "data": {
      "text/html": [
       "<div>\n",
       "<style scoped>\n",
       "    .dataframe tbody tr th:only-of-type {\n",
       "        vertical-align: middle;\n",
       "    }\n",
       "\n",
       "    .dataframe tbody tr th {\n",
       "        vertical-align: top;\n",
       "    }\n",
       "\n",
       "    .dataframe thead th {\n",
       "        text-align: right;\n",
       "    }\n",
       "</style>\n",
       "<table border=\"1\" class=\"dataframe\">\n",
       "  <thead>\n",
       "    <tr style=\"text-align: right;\">\n",
       "      <th></th>\n",
       "      <th>id</th>\n",
       "      <th>host_id</th>\n",
       "      <th>name</th>\n",
       "    </tr>\n",
       "  </thead>\n",
       "  <tbody>\n",
       "    <tr>\n",
       "      <th>2244</th>\n",
       "      <td>4539118</td>\n",
       "      <td>23532561</td>\n",
       "      <td>iFlat | Monti secret Garden</td>\n",
       "    </tr>\n",
       "    <tr>\n",
       "      <th>2429</th>\n",
       "      <td>4870901</td>\n",
       "      <td>23532561</td>\n",
       "      <td>iFlat | Spanish Steps Studio Apartment</td>\n",
       "    </tr>\n",
       "    <tr>\n",
       "      <th>2816</th>\n",
       "      <td>5657500</td>\n",
       "      <td>23532561</td>\n",
       "      <td>Pantheon Cozy Apartment n. 3</td>\n",
       "    </tr>\n",
       "    <tr>\n",
       "      <th>2817</th>\n",
       "      <td>5657827</td>\n",
       "      <td>23532561</td>\n",
       "      <td>Pantheon Cozy Apartment n. 2</td>\n",
       "    </tr>\n",
       "    <tr>\n",
       "      <th>2819</th>\n",
       "      <td>5658485</td>\n",
       "      <td>23532561</td>\n",
       "      <td>Pantheon Cozy Apartment n. 7</td>\n",
       "    </tr>\n",
       "    <tr>\n",
       "      <th>...</th>\n",
       "      <td>...</td>\n",
       "      <td>...</td>\n",
       "      <td>...</td>\n",
       "    </tr>\n",
       "    <tr>\n",
       "      <th>24367</th>\n",
       "      <td>824617240772357369</td>\n",
       "      <td>23532561</td>\n",
       "      <td>iFlat | Trastevere Unique Loft</td>\n",
       "    </tr>\n",
       "    <tr>\n",
       "      <th>24534</th>\n",
       "      <td>831724047233388666</td>\n",
       "      <td>23532561</td>\n",
       "      <td>iFlat | Vatican Elegant Apartment</td>\n",
       "    </tr>\n",
       "    <tr>\n",
       "      <th>24611</th>\n",
       "      <td>839654436113394668</td>\n",
       "      <td>23532561</td>\n",
       "      <td>iFlat | The Carpet Apartment</td>\n",
       "    </tr>\n",
       "    <tr>\n",
       "      <th>24612</th>\n",
       "      <td>839689394836536650</td>\n",
       "      <td>23532561</td>\n",
       "      <td>iFlat | The gem of the center</td>\n",
       "    </tr>\n",
       "    <tr>\n",
       "      <th>24613</th>\n",
       "      <td>839723842470233205</td>\n",
       "      <td>23532561</td>\n",
       "      <td>iFlat | Apê Ponte Sisto</td>\n",
       "    </tr>\n",
       "  </tbody>\n",
       "</table>\n",
       "<p>239 rows × 3 columns</p>\n",
       "</div>"
      ],
      "text/plain": [
       "                       id   host_id                                    name\n",
       "2244              4539118  23532561             iFlat | Monti secret Garden\n",
       "2429              4870901  23532561  iFlat | Spanish Steps Studio Apartment\n",
       "2816              5657500  23532561            Pantheon Cozy Apartment n. 3\n",
       "2817              5657827  23532561            Pantheon Cozy Apartment n. 2\n",
       "2819              5658485  23532561            Pantheon Cozy Apartment n. 7\n",
       "...                   ...       ...                                     ...\n",
       "24367  824617240772357369  23532561          iFlat | Trastevere Unique Loft\n",
       "24534  831724047233388666  23532561       iFlat | Vatican Elegant Apartment\n",
       "24611  839654436113394668  23532561            iFlat | The Carpet Apartment\n",
       "24612  839689394836536650  23532561           iFlat | The gem of the center\n",
       "24613  839723842470233205  23532561                 iFlat | Apê Ponte Sisto\n",
       "\n",
       "[239 rows x 3 columns]"
      ]
     },
     "execution_count": 14,
     "metadata": {},
     "output_type": "execute_result"
    }
   ],
   "source": [
    "df[['id', 'host_id', 'name']].loc[df['host_id'] == 23532561]"
   ]
  },
  {
   "cell_type": "code",
   "execution_count": 15,
   "id": "ea3469f9-cc5e-450c-8b54-31df9a1a1c07",
   "metadata": {
    "tags": []
   },
   "outputs": [],
   "source": [
    "df_host = df[['id', 'host_id', 'name']].sort_values(by = 'host_id')"
   ]
  },
  {
   "cell_type": "code",
   "execution_count": 16,
   "id": "33832395-d1cf-43df-8b5f-e934cf59513e",
   "metadata": {
    "tags": []
   },
   "outputs": [
    {
     "data": {
      "text/html": [
       "<div>\n",
       "<style scoped>\n",
       "    .dataframe tbody tr th:only-of-type {\n",
       "        vertical-align: middle;\n",
       "    }\n",
       "\n",
       "    .dataframe tbody tr th {\n",
       "        vertical-align: top;\n",
       "    }\n",
       "\n",
       "    .dataframe thead th {\n",
       "        text-align: right;\n",
       "    }\n",
       "</style>\n",
       "<table border=\"1\" class=\"dataframe\">\n",
       "  <thead>\n",
       "    <tr style=\"text-align: right;\">\n",
       "      <th></th>\n",
       "      <th>id</th>\n",
       "      <th>host_id</th>\n",
       "      <th>name</th>\n",
       "    </tr>\n",
       "  </thead>\n",
       "  <tbody>\n",
       "    <tr>\n",
       "      <th>5066</th>\n",
       "      <td>11509515</td>\n",
       "      <td>1944</td>\n",
       "      <td>WFP-FAO-ICCROM-BIOVERSITY  cute private room</td>\n",
       "    </tr>\n",
       "    <tr>\n",
       "      <th>5502</th>\n",
       "      <td>12871422</td>\n",
       "      <td>1944</td>\n",
       "      <td>FAO/WFP/ICCROM/IFAD/UNIV.ROMA 3  single room</td>\n",
       "    </tr>\n",
       "    <tr>\n",
       "      <th>5045</th>\n",
       "      <td>11495251</td>\n",
       "      <td>1944</td>\n",
       "      <td>Circo Massimo/Colosseo/St Stephen's school  for 4</td>\n",
       "    </tr>\n",
       "    <tr>\n",
       "      <th>5261</th>\n",
       "      <td>12269354</td>\n",
       "      <td>1944</td>\n",
       "      <td>Trastevere station cute miniflat</td>\n",
       "    </tr>\n",
       "    <tr>\n",
       "      <th>5057</th>\n",
       "      <td>11590562</td>\n",
       "      <td>1944</td>\n",
       "      <td>Colosseo/FAO/St Stephen's school apt sleeps 4</td>\n",
       "    </tr>\n",
       "    <tr>\n",
       "      <th>...</th>\n",
       "      <td>...</td>\n",
       "      <td>...</td>\n",
       "      <td>...</td>\n",
       "    </tr>\n",
       "    <tr>\n",
       "      <th>24847</th>\n",
       "      <td>843209465774334522</td>\n",
       "      <td>504566419</td>\n",
       "      <td>Casa di Claudia</td>\n",
       "    </tr>\n",
       "    <tr>\n",
       "      <th>24844</th>\n",
       "      <td>844035131162045447</td>\n",
       "      <td>504725606</td>\n",
       "      <td>Camera con Vista sulla Cupola di San Pietro</td>\n",
       "    </tr>\n",
       "    <tr>\n",
       "      <th>24877</th>\n",
       "      <td>844563379393111428</td>\n",
       "      <td>504749365</td>\n",
       "      <td>Camera da letto Matrimoniale</td>\n",
       "    </tr>\n",
       "    <tr>\n",
       "      <th>24810</th>\n",
       "      <td>842643043537458909</td>\n",
       "      <td>505156851</td>\n",
       "      <td>GraccHome Vaticano</td>\n",
       "    </tr>\n",
       "    <tr>\n",
       "      <th>24922</th>\n",
       "      <td>846332320728407891</td>\n",
       "      <td>505209685</td>\n",
       "      <td>[Roma Centro 2KM] - 5 Stelle</td>\n",
       "    </tr>\n",
       "  </tbody>\n",
       "</table>\n",
       "<p>24924 rows × 3 columns</p>\n",
       "</div>"
      ],
      "text/plain": [
       "                       id    host_id   \n",
       "5066             11509515       1944  \\\n",
       "5502             12871422       1944   \n",
       "5045             11495251       1944   \n",
       "5261             12269354       1944   \n",
       "5057             11590562       1944   \n",
       "...                   ...        ...   \n",
       "24847  843209465774334522  504566419   \n",
       "24844  844035131162045447  504725606   \n",
       "24877  844563379393111428  504749365   \n",
       "24810  842643043537458909  505156851   \n",
       "24922  846332320728407891  505209685   \n",
       "\n",
       "                                                    name  \n",
       "5066        WFP-FAO-ICCROM-BIOVERSITY  cute private room  \n",
       "5502        FAO/WFP/ICCROM/IFAD/UNIV.ROMA 3  single room  \n",
       "5045   Circo Massimo/Colosseo/St Stephen's school  for 4  \n",
       "5261                    Trastevere station cute miniflat  \n",
       "5057       Colosseo/FAO/St Stephen's school apt sleeps 4  \n",
       "...                                                  ...  \n",
       "24847                                    Casa di Claudia  \n",
       "24844        Camera con Vista sulla Cupola di San Pietro  \n",
       "24877                       Camera da letto Matrimoniale  \n",
       "24810                                 GraccHome Vaticano  \n",
       "24922                       [Roma Centro 2KM] - 5 Stelle  \n",
       "\n",
       "[24924 rows x 3 columns]"
      ]
     },
     "execution_count": 16,
     "metadata": {},
     "output_type": "execute_result"
    }
   ],
   "source": [
    "df_host"
   ]
  },
  {
   "cell_type": "code",
   "execution_count": 17,
   "id": "2c0857c9-4845-4ed5-8fde-122c04e29cb3",
   "metadata": {},
   "outputs": [],
   "source": [
    "df_host2 = df_host.groupby(['host_id'])['host_id'].count()"
   ]
  },
  {
   "cell_type": "code",
   "execution_count": 18,
   "id": "fd37ac55-3d16-4014-9447-ef0fae816608",
   "metadata": {
    "tags": []
   },
   "outputs": [
    {
     "data": {
      "text/plain": [
       "host_id\n",
       "1944         7\n",
       "2353         1\n",
       "3047         6\n",
       "3504         5\n",
       "11756        1\n",
       "            ..\n",
       "504566419    1\n",
       "504725606    1\n",
       "504749365    1\n",
       "505156851    1\n",
       "505209685    1\n",
       "Name: host_id, Length: 12935, dtype: int64"
      ]
     },
     "execution_count": 18,
     "metadata": {},
     "output_type": "execute_result"
    }
   ],
   "source": [
    "df_host2"
   ]
  },
  {
   "cell_type": "code",
   "execution_count": 19,
   "id": "e208a8c0-7e98-4641-a9a5-5509ea569d1d",
   "metadata": {
    "tags": []
   },
   "outputs": [
    {
     "data": {
      "text/plain": [
       "9007"
      ]
     },
     "execution_count": 19,
     "metadata": {},
     "output_type": "execute_result"
    }
   ],
   "source": [
    "df_host2.loc[df_host2== 1].count()"
   ]
  },
  {
   "cell_type": "code",
   "execution_count": 20,
   "id": "5a945f90-fd48-4650-8917-d127ff2f2606",
   "metadata": {
    "tags": []
   },
   "outputs": [
    {
     "data": {
      "text/plain": [
       "3928"
      ]
     },
     "execution_count": 20,
     "metadata": {},
     "output_type": "execute_result"
    }
   ],
   "source": [
    "df_host2.loc[df_host2 > 1].count()"
   ]
  },
  {
   "cell_type": "code",
   "execution_count": 21,
   "id": "9210f8df-c593-4b33-a0de-d619ed849602",
   "metadata": {
    "tags": []
   },
   "outputs": [
    {
     "data": {
      "image/png": "[encoded data removed]",
      "text/plain": [
       "<Figure size 640x480 with 1 Axes>"
      ]
     },
     "metadata": {},
     "output_type": "display_data"
    }
   ],
   "source": [
    "y = np.array([9007, 3928])\n",
    "mylabels = [\"More properties\", \"One property\"]\n",
    "\n",
    "\n",
    "mycolors = [\"slategrey\", \"gainsboro\"]\n",
    "myexplode = [0.2, 0]\n",
    "\n",
    "plt.pie(y, labels = mylabels, colors= mycolors, autopct = '%1.1f%%', explode = myexplode, startangle = 90)\n",
    "plt.title(\"Number of offers/ host\")\n",
    "plt.show() "
   ]
  },
  {
   "cell_type": "code",
   "execution_count": 22,
   "id": "bb301c1b-7476-4cbc-9657-d4497e930b4d",
   "metadata": {
    "tags": []
   },
   "outputs": [
    {
     "data": {
      "text/plain": [
       "Index(['id', 'listing_url', 'scrape_id', 'last_scraped', 'source', 'name',\n",
       "       'description', 'neighborhood_overview', 'picture_url', 'host_id',\n",
       "       'host_url', 'host_name', 'host_since', 'host_location', 'host_about',\n",
       "       'host_response_time', 'host_response_rate', 'host_acceptance_rate',\n",
       "       'host_is_superhost', 'host_thumbnail_url', 'host_picture_url',\n",
       "       'host_neighbourhood', 'host_listings_count',\n",
       "       'host_total_listings_count', 'host_verifications',\n",
       "       'host_has_profile_pic', 'host_identity_verified', 'neighbourhood',\n",
       "       'neighbourhood_cleansed', 'neighbourhood_group_cleansed', 'latitude',\n",
       "       'longitude', 'property_type', 'room_type', 'accommodates', 'bathrooms',\n",
       "       'bathrooms_text', 'bedrooms', 'beds', 'amenities', 'price',\n",
       "       'minimum_nights', 'maximum_nights', 'minimum_minimum_nights',\n",
       "       'maximum_minimum_nights', 'minimum_maximum_nights',\n",
       "       'maximum_maximum_nights', 'minimum_nights_avg_ntm',\n",
       "       'maximum_nights_avg_ntm', 'calendar_updated', 'has_availability',\n",
       "       'availability_30', 'availability_60', 'availability_90',\n",
       "       'availability_365', 'calendar_last_scraped', 'number_of_reviews',\n",
       "       'number_of_reviews_ltm', 'number_of_reviews_l30d', 'first_review',\n",
       "       'last_review', 'review_scores_rating', 'review_scores_accuracy',\n",
       "       'review_scores_cleanliness', 'review_scores_checkin',\n",
       "       'review_scores_communication', 'review_scores_location',\n",
       "       'review_scores_value', 'license', 'instant_bookable',\n",
       "       'calculated_host_listings_count',\n",
       "       'calculated_host_listings_count_entire_homes',\n",
       "       'calculated_host_listings_count_private_rooms',\n",
       "       'calculated_host_listings_count_shared_rooms', 'reviews_per_month'],\n",
       "      dtype='object')"
      ]
     },
     "execution_count": 22,
     "metadata": {},
     "output_type": "execute_result"
    }
   ],
   "source": [
    "df.columns"
   ]
  },
  {
   "cell_type": "markdown",
   "id": "ef55dd07-0c96-4e7d-a91e-df393cc83f82",
   "metadata": {},
   "source": [
    "### Location of the accomodations in Rome"
   ]
  },
  {
   "cell_type": "code",
   "execution_count": 23,
   "id": "15e415d2-48c7-405d-b1cf-d2ac3d15be81",
   "metadata": {},
   "outputs": [
    {
     "data": {
      "text/plain": [
       "15"
      ]
     },
     "execution_count": 23,
     "metadata": {},
     "output_type": "execute_result"
    }
   ],
   "source": [
    "# Number of different regions in Rome\n",
    "\n",
    "df['neighbourhood_cleansed'].nunique()"
   ]
  },
  {
   "cell_type": "code",
   "execution_count": 24,
   "id": "fcce818f-7f9e-45b6-b1a7-e78bda696e38",
   "metadata": {
    "tags": []
   },
   "outputs": [
    {
     "data": {
      "text/plain": [
       "array(['I Centro Storico', 'VII San Giovanni/Cinecittà', 'XIII Aurelia',\n",
       "       'VIII Appia Antica', 'V Prenestino/Centocelle',\n",
       "       'II Parioli/Nomentano', 'XII Monte Verde', 'XIV Monte Mario',\n",
       "       'XV Cassia/Flaminia', 'IX Eur', 'IV Tiburtina',\n",
       "       'VI Roma delle Torri', 'X Ostia/Acilia', 'III Monte Sacro',\n",
       "       'XI Arvalia/Portuense'], dtype=object)"
      ]
     },
     "execution_count": 24,
     "metadata": {},
     "output_type": "execute_result"
    }
   ],
   "source": [
    "# Name of the regions within Rome\n",
    "\n",
    "df['neighbourhood_cleansed'].unique()"
   ]
  },
  {
   "cell_type": "code",
   "execution_count": 25,
   "id": "5787796b-c250-4c6e-883e-2b2f85ca8224",
   "metadata": {
    "tags": []
   },
   "outputs": [
    {
     "data": {
      "text/plain": [
       "neighbourhood_cleansed\n",
       "I Centro Storico              13894\n",
       "II Parioli/Nomentano           1725\n",
       "III Monte Sacro                 369\n",
       "IV Tiburtina                    402\n",
       "IX Eur                          312\n",
       "V Prenestino/Centocelle         914\n",
       "VI Roma delle Torri             196\n",
       "VII San Giovanni/Cinecittà     1740\n",
       "VIII Appia Antica               679\n",
       "X Ostia/Acilia                  664\n",
       "XI Arvalia/Portuense            416\n",
       "XII Monte Verde                1202\n",
       "XIII Aurelia                   1485\n",
       "XIV Monte Mario                 502\n",
       "XV Cassia/Flaminia              424\n",
       "Name: id, dtype: int64"
      ]
     },
     "execution_count": 25,
     "metadata": {},
     "output_type": "execute_result"
    }
   ],
   "source": [
    "df.groupby('neighbourhood_cleansed').id.count()"
   ]
  },
  {
   "cell_type": "markdown",
   "id": "5802aa7b-f9c1-4885-b2c6-58c933f675ad",
   "metadata": {},
   "source": [
    "### License"
   ]
  },
  {
   "cell_type": "markdown",
   "id": "4dec2c10-c71b-4a87-8bf4-d30fb1457679",
   "metadata": {},
   "source": [
    "According to the actual regulations in Rome (https://airbtics.com/airbnb-regulation-in-rome/) **CIR code** is needed for hosting for a short time."
   ]
  },
  {
   "cell_type": "code",
   "execution_count": 26,
   "id": "87159f69-f0e0-4098-b286-e02dc4054b68",
   "metadata": {
    "tags": []
   },
   "outputs": [
    {
     "data": {
      "text/html": [
       "<div>\n",
       "<style scoped>\n",
       "    .dataframe tbody tr th:only-of-type {\n",
       "        vertical-align: middle;\n",
       "    }\n",
       "\n",
       "    .dataframe tbody tr th {\n",
       "        vertical-align: top;\n",
       "    }\n",
       "\n",
       "    .dataframe thead th {\n",
       "        text-align: right;\n",
       "    }\n",
       "</style>\n",
       "<table border=\"1\" class=\"dataframe\">\n",
       "  <thead>\n",
       "    <tr style=\"text-align: right;\">\n",
       "      <th></th>\n",
       "      <th>id</th>\n",
       "      <th>host_id</th>\n",
       "      <th>license</th>\n",
       "    </tr>\n",
       "  </thead>\n",
       "  <tbody>\n",
       "    <tr>\n",
       "      <th>0</th>\n",
       "      <td>256695</td>\n",
       "      <td>1350540</td>\n",
       "      <td>NaN</td>\n",
       "    </tr>\n",
       "    <tr>\n",
       "      <th>1</th>\n",
       "      <td>258330</td>\n",
       "      <td>1358462</td>\n",
       "      <td>NaN</td>\n",
       "    </tr>\n",
       "    <tr>\n",
       "      <th>2</th>\n",
       "      <td>137044</td>\n",
       "      <td>670337</td>\n",
       "      <td>NaN</td>\n",
       "    </tr>\n",
       "    <tr>\n",
       "      <th>3</th>\n",
       "      <td>137157</td>\n",
       "      <td>486866</td>\n",
       "      <td>NaN</td>\n",
       "    </tr>\n",
       "    <tr>\n",
       "      <th>4</th>\n",
       "      <td>259075</td>\n",
       "      <td>1311777</td>\n",
       "      <td>ATR 003602\\nCodice identificativo id869</td>\n",
       "    </tr>\n",
       "    <tr>\n",
       "      <th>5</th>\n",
       "      <td>137713</td>\n",
       "      <td>246365</td>\n",
       "      <td>NaN</td>\n",
       "    </tr>\n",
       "    <tr>\n",
       "      <th>6</th>\n",
       "      <td>137724</td>\n",
       "      <td>246365</td>\n",
       "      <td>NaN</td>\n",
       "    </tr>\n",
       "    <tr>\n",
       "      <th>7</th>\n",
       "      <td>138192</td>\n",
       "      <td>674843</td>\n",
       "      <td>NaN</td>\n",
       "    </tr>\n",
       "    <tr>\n",
       "      <th>8</th>\n",
       "      <td>2737</td>\n",
       "      <td>3047</td>\n",
       "      <td>NaN</td>\n",
       "    </tr>\n",
       "    <tr>\n",
       "      <th>9</th>\n",
       "      <td>262254</td>\n",
       "      <td>1374312</td>\n",
       "      <td>NaN</td>\n",
       "    </tr>\n",
       "    <tr>\n",
       "      <th>10</th>\n",
       "      <td>3079</td>\n",
       "      <td>3504</td>\n",
       "      <td>NaN</td>\n",
       "    </tr>\n",
       "    <tr>\n",
       "      <th>11</th>\n",
       "      <td>11834</td>\n",
       "      <td>44552</td>\n",
       "      <td>NaN</td>\n",
       "    </tr>\n",
       "    <tr>\n",
       "      <th>12</th>\n",
       "      <td>139330</td>\n",
       "      <td>679555</td>\n",
       "      <td>Aut. Comune di Roma QA 2016/160 del 04/01/2016...</td>\n",
       "    </tr>\n",
       "    <tr>\n",
       "      <th>13</th>\n",
       "      <td>140801</td>\n",
       "      <td>685600</td>\n",
       "      <td>NaN</td>\n",
       "    </tr>\n",
       "    <tr>\n",
       "      <th>14</th>\n",
       "      <td>262313</td>\n",
       "      <td>1376239</td>\n",
       "      <td>NaN</td>\n",
       "    </tr>\n",
       "    <tr>\n",
       "      <th>15</th>\n",
       "      <td>141614</td>\n",
       "      <td>674843</td>\n",
       "      <td>NaN</td>\n",
       "    </tr>\n",
       "    <tr>\n",
       "      <th>16</th>\n",
       "      <td>141634</td>\n",
       "      <td>674843</td>\n",
       "      <td>NaN</td>\n",
       "    </tr>\n",
       "    <tr>\n",
       "      <th>17</th>\n",
       "      <td>12398</td>\n",
       "      <td>11756</td>\n",
       "      <td>NaN</td>\n",
       "    </tr>\n",
       "    <tr>\n",
       "      <th>18</th>\n",
       "      <td>19965</td>\n",
       "      <td>75450</td>\n",
       "      <td>NaN</td>\n",
       "    </tr>\n",
       "    <tr>\n",
       "      <th>19</th>\n",
       "      <td>262876</td>\n",
       "      <td>1379558</td>\n",
       "      <td>NaN</td>\n",
       "    </tr>\n",
       "    <tr>\n",
       "      <th>20</th>\n",
       "      <td>19967</td>\n",
       "      <td>75450</td>\n",
       "      <td>NaN</td>\n",
       "    </tr>\n",
       "    <tr>\n",
       "      <th>21</th>\n",
       "      <td>142483</td>\n",
       "      <td>674843</td>\n",
       "      <td>NaN</td>\n",
       "    </tr>\n",
       "    <tr>\n",
       "      <th>22</th>\n",
       "      <td>263210</td>\n",
       "      <td>1381045</td>\n",
       "      <td>NaN</td>\n",
       "    </tr>\n",
       "    <tr>\n",
       "      <th>23</th>\n",
       "      <td>147381</td>\n",
       "      <td>712288</td>\n",
       "      <td>NaN</td>\n",
       "    </tr>\n",
       "    <tr>\n",
       "      <th>24</th>\n",
       "      <td>147670</td>\n",
       "      <td>628404</td>\n",
       "      <td>NaN</td>\n",
       "    </tr>\n",
       "    <tr>\n",
       "      <th>25</th>\n",
       "      <td>147933</td>\n",
       "      <td>628404</td>\n",
       "      <td>NaN</td>\n",
       "    </tr>\n",
       "    <tr>\n",
       "      <th>26</th>\n",
       "      <td>20534</td>\n",
       "      <td>77540</td>\n",
       "      <td>NaN</td>\n",
       "    </tr>\n",
       "    <tr>\n",
       "      <th>27</th>\n",
       "      <td>20587</td>\n",
       "      <td>77540</td>\n",
       "      <td>NaN</td>\n",
       "    </tr>\n",
       "    <tr>\n",
       "      <th>28</th>\n",
       "      <td>20606</td>\n",
       "      <td>77932</td>\n",
       "      <td>NaN</td>\n",
       "    </tr>\n",
       "    <tr>\n",
       "      <th>29</th>\n",
       "      <td>20699</td>\n",
       "      <td>78287</td>\n",
       "      <td>NaN</td>\n",
       "    </tr>\n",
       "    <tr>\n",
       "      <th>30</th>\n",
       "      <td>263658</td>\n",
       "      <td>1379558</td>\n",
       "      <td>NaN</td>\n",
       "    </tr>\n",
       "    <tr>\n",
       "      <th>31</th>\n",
       "      <td>263867</td>\n",
       "      <td>1384510</td>\n",
       "      <td>AFF-001546-5</td>\n",
       "    </tr>\n",
       "    <tr>\n",
       "      <th>32</th>\n",
       "      <td>21193</td>\n",
       "      <td>80755</td>\n",
       "      <td>NaN</td>\n",
       "    </tr>\n",
       "    <tr>\n",
       "      <th>33</th>\n",
       "      <td>21249</td>\n",
       "      <td>81015</td>\n",
       "      <td>NaN</td>\n",
       "    </tr>\n",
       "    <tr>\n",
       "      <th>34</th>\n",
       "      <td>21811</td>\n",
       "      <td>86452706</td>\n",
       "      <td>NaN</td>\n",
       "    </tr>\n",
       "    <tr>\n",
       "      <th>35</th>\n",
       "      <td>148158</td>\n",
       "      <td>1249650</td>\n",
       "      <td>NaN</td>\n",
       "    </tr>\n",
       "    <tr>\n",
       "      <th>36</th>\n",
       "      <td>264679</td>\n",
       "      <td>1388641</td>\n",
       "      <td>NaN</td>\n",
       "    </tr>\n",
       "    <tr>\n",
       "      <th>37</th>\n",
       "      <td>153506</td>\n",
       "      <td>1035589</td>\n",
       "      <td>NaN</td>\n",
       "    </tr>\n",
       "    <tr>\n",
       "      <th>38</th>\n",
       "      <td>153542</td>\n",
       "      <td>677400</td>\n",
       "      <td>cvn-000637-4</td>\n",
       "    </tr>\n",
       "    <tr>\n",
       "      <th>39</th>\n",
       "      <td>22335</td>\n",
       "      <td>50092040</td>\n",
       "      <td>NaN</td>\n",
       "    </tr>\n",
       "    <tr>\n",
       "      <th>40</th>\n",
       "      <td>265074</td>\n",
       "      <td>1390634</td>\n",
       "      <td>IT 393670</td>\n",
       "    </tr>\n",
       "    <tr>\n",
       "      <th>41</th>\n",
       "      <td>22573</td>\n",
       "      <td>86882</td>\n",
       "      <td>NaN</td>\n",
       "    </tr>\n",
       "    <tr>\n",
       "      <th>42</th>\n",
       "      <td>22930</td>\n",
       "      <td>77540</td>\n",
       "      <td>NaN</td>\n",
       "    </tr>\n",
       "    <tr>\n",
       "      <th>43</th>\n",
       "      <td>155179</td>\n",
       "      <td>746256</td>\n",
       "      <td>NaN</td>\n",
       "    </tr>\n",
       "    <tr>\n",
       "      <th>44</th>\n",
       "      <td>156217</td>\n",
       "      <td>750850</td>\n",
       "      <td>NaN</td>\n",
       "    </tr>\n",
       "    <tr>\n",
       "      <th>45</th>\n",
       "      <td>156445</td>\n",
       "      <td>746256</td>\n",
       "      <td>NaN</td>\n",
       "    </tr>\n",
       "    <tr>\n",
       "      <th>46</th>\n",
       "      <td>266296</td>\n",
       "      <td>1396222</td>\n",
       "      <td>NaN</td>\n",
       "    </tr>\n",
       "    <tr>\n",
       "      <th>47</th>\n",
       "      <td>156873</td>\n",
       "      <td>753741</td>\n",
       "      <td>NaN</td>\n",
       "    </tr>\n",
       "    <tr>\n",
       "      <th>48</th>\n",
       "      <td>156888</td>\n",
       "      <td>753805</td>\n",
       "      <td>NaN</td>\n",
       "    </tr>\n",
       "    <tr>\n",
       "      <th>49</th>\n",
       "      <td>158722</td>\n",
       "      <td>761827</td>\n",
       "      <td>NaN</td>\n",
       "    </tr>\n",
       "  </tbody>\n",
       "</table>\n",
       "</div>"
      ],
      "text/plain": [
       "        id   host_id                                            license\n",
       "0   256695   1350540                                                NaN\n",
       "1   258330   1358462                                                NaN\n",
       "2   137044    670337                                                NaN\n",
       "3   137157    486866                                                NaN\n",
       "4   259075   1311777            ATR 003602\\nCodice identificativo id869\n",
       "5   137713    246365                                                NaN\n",
       "6   137724    246365                                                NaN\n",
       "7   138192    674843                                                NaN\n",
       "8     2737      3047                                                NaN\n",
       "9   262254   1374312                                                NaN\n",
       "10    3079      3504                                                NaN\n",
       "11   11834     44552                                                NaN\n",
       "12  139330    679555  Aut. Comune di Roma QA 2016/160 del 04/01/2016...\n",
       "13  140801    685600                                                NaN\n",
       "14  262313   1376239                                                NaN\n",
       "15  141614    674843                                                NaN\n",
       "16  141634    674843                                                NaN\n",
       "17   12398     11756                                                NaN\n",
       "18   19965     75450                                                NaN\n",
       "19  262876   1379558                                                NaN\n",
       "20   19967     75450                                                NaN\n",
       "21  142483    674843                                                NaN\n",
       "22  263210   1381045                                                NaN\n",
       "23  147381    712288                                                NaN\n",
       "24  147670    628404                                                NaN\n",
       "25  147933    628404                                                NaN\n",
       "26   20534     77540                                                NaN\n",
       "27   20587     77540                                                NaN\n",
       "28   20606     77932                                                NaN\n",
       "29   20699     78287                                                NaN\n",
       "30  263658   1379558                                                NaN\n",
       "31  263867   1384510                                       AFF-001546-5\n",
       "32   21193     80755                                                NaN\n",
       "33   21249     81015                                                NaN\n",
       "34   21811  86452706                                                NaN\n",
       "35  148158   1249650                                                NaN\n",
       "36  264679   1388641                                                NaN\n",
       "37  153506   1035589                                                NaN\n",
       "38  153542    677400                                       cvn-000637-4\n",
       "39   22335  50092040                                                NaN\n",
       "40  265074   1390634                                          IT 393670\n",
       "41   22573     86882                                                NaN\n",
       "42   22930     77540                                                NaN\n",
       "43  155179    746256                                                NaN\n",
       "44  156217    750850                                                NaN\n",
       "45  156445    746256                                                NaN\n",
       "46  266296   1396222                                                NaN\n",
       "47  156873    753741                                                NaN\n",
       "48  156888    753805                                                NaN\n",
       "49  158722    761827                                                NaN"
      ]
     },
     "execution_count": 26,
     "metadata": {},
     "output_type": "execute_result"
    }
   ],
   "source": [
    "df[['id', 'host_id', 'license']].head(50)"
   ]
  },
  {
   "cell_type": "code",
   "execution_count": 27,
   "id": "58d40707-3af2-482b-9122-2c97e0ceacd9",
   "metadata": {
    "tags": []
   },
   "outputs": [
    {
     "data": {
      "text/plain": [
       "3649"
      ]
     },
     "execution_count": 27,
     "metadata": {},
     "output_type": "execute_result"
    }
   ],
   "source": [
    "df['license'].nunique()"
   ]
  },
  {
   "cell_type": "code",
   "execution_count": 28,
   "id": "7a191fae-5d7a-4917-a319-af606554f08c",
   "metadata": {
    "tags": []
   },
   "outputs": [],
   "source": [
    "# Checking for CIR codes in the dataframe\n",
    "\n",
    "df['license'] = df['license'].fillna('')\n",
    "df_license = df[df['license'].str.contains('CIR')]\n"
   ]
  },
  {
   "cell_type": "code",
   "execution_count": 29,
   "id": "981638fb-7fdd-454f-b784-58b909e311c6",
   "metadata": {
    "tags": []
   },
   "outputs": [
    {
     "data": {
      "text/html": [
       "<div>\n",
       "<style scoped>\n",
       "    .dataframe tbody tr th:only-of-type {\n",
       "        vertical-align: middle;\n",
       "    }\n",
       "\n",
       "    .dataframe tbody tr th {\n",
       "        vertical-align: top;\n",
       "    }\n",
       "\n",
       "    .dataframe thead th {\n",
       "        text-align: right;\n",
       "    }\n",
       "</style>\n",
       "<table border=\"1\" class=\"dataframe\">\n",
       "  <thead>\n",
       "    <tr style=\"text-align: right;\">\n",
       "      <th></th>\n",
       "      <th>id</th>\n",
       "      <th>host_id</th>\n",
       "      <th>license</th>\n",
       "    </tr>\n",
       "  </thead>\n",
       "  <tbody>\n",
       "    <tr>\n",
       "      <th>202</th>\n",
       "      <td>240706</td>\n",
       "      <td>1262633</td>\n",
       "      <td>CIR-2189</td>\n",
       "    </tr>\n",
       "    <tr>\n",
       "      <th>216</th>\n",
       "      <td>90666</td>\n",
       "      <td>491169</td>\n",
       "      <td>SCIA Comune di Roma Prot. QA/2015/29912 del 8/...</td>\n",
       "    </tr>\n",
       "    <tr>\n",
       "      <th>334</th>\n",
       "      <td>501912</td>\n",
       "      <td>2476686</td>\n",
       "      <td>CIR: 7549 - CIU: ATR-007981-4</td>\n",
       "    </tr>\n",
       "    <tr>\n",
       "      <th>517</th>\n",
       "      <td>674274</td>\n",
       "      <td>2476686</td>\n",
       "      <td>CIR: 7549 - CIU: ATR-007981-4</td>\n",
       "    </tr>\n",
       "    <tr>\n",
       "      <th>578</th>\n",
       "      <td>774608</td>\n",
       "      <td>2462872</td>\n",
       "      <td>CIR ID 6430 Regione Lazio / CIU ATR-004559-2</td>\n",
       "    </tr>\n",
       "    <tr>\n",
       "      <th>...</th>\n",
       "      <td>...</td>\n",
       "      <td>...</td>\n",
       "      <td>...</td>\n",
       "    </tr>\n",
       "    <tr>\n",
       "      <th>24011</th>\n",
       "      <td>802719213588782292</td>\n",
       "      <td>495672577</td>\n",
       "      <td>CIR 17675</td>\n",
       "    </tr>\n",
       "    <tr>\n",
       "      <th>24105</th>\n",
       "      <td>816383835180972028</td>\n",
       "      <td>496365761</td>\n",
       "      <td>CIR 19402</td>\n",
       "    </tr>\n",
       "    <tr>\n",
       "      <th>24527</th>\n",
       "      <td>822433921879834502</td>\n",
       "      <td>500176352</td>\n",
       "      <td>CIR: 19273 / Comunicazione N. QA/2022/38497</td>\n",
       "    </tr>\n",
       "    <tr>\n",
       "      <th>24723</th>\n",
       "      <td>837551838485848361</td>\n",
       "      <td>457870141</td>\n",
       "      <td>CIR: 19671</td>\n",
       "    </tr>\n",
       "    <tr>\n",
       "      <th>24922</th>\n",
       "      <td>846332320728407891</td>\n",
       "      <td>505209685</td>\n",
       "      <td>CIR 20155 - QA/2023/10205</td>\n",
       "    </tr>\n",
       "  </tbody>\n",
       "</table>\n",
       "<p>108 rows × 3 columns</p>\n",
       "</div>"
      ],
      "text/plain": [
       "                       id    host_id   \n",
       "202                240706    1262633  \\\n",
       "216                 90666     491169   \n",
       "334                501912    2476686   \n",
       "517                674274    2476686   \n",
       "578                774608    2462872   \n",
       "...                   ...        ...   \n",
       "24011  802719213588782292  495672577   \n",
       "24105  816383835180972028  496365761   \n",
       "24527  822433921879834502  500176352   \n",
       "24723  837551838485848361  457870141   \n",
       "24922  846332320728407891  505209685   \n",
       "\n",
       "                                                 license  \n",
       "202                                             CIR-2189  \n",
       "216    SCIA Comune di Roma Prot. QA/2015/29912 del 8/...  \n",
       "334                        CIR: 7549 - CIU: ATR-007981-4  \n",
       "517                        CIR: 7549 - CIU: ATR-007981-4  \n",
       "578         CIR ID 6430 Regione Lazio / CIU ATR-004559-2  \n",
       "...                                                  ...  \n",
       "24011                                          CIR 17675  \n",
       "24105                                          CIR 19402  \n",
       "24527        CIR: 19273 / Comunicazione N. QA/2022/38497  \n",
       "24723                                         CIR: 19671  \n",
       "24922                          CIR 20155 - QA/2023/10205  \n",
       "\n",
       "[108 rows x 3 columns]"
      ]
     },
     "execution_count": 29,
     "metadata": {},
     "output_type": "execute_result"
    }
   ],
   "source": [
    "df_license[['id', 'host_id', 'license']]"
   ]
  },
  {
   "cell_type": "markdown",
   "id": "94a082c5-eb03-49ec-b8ba-365fcbc0143f",
   "metadata": {},
   "source": [
    "Out of 24924 listings in Rome, 108 has the needed CIR number."
   ]
  },
  {
   "cell_type": "code",
   "execution_count": 30,
   "id": "48eb46c0-58ef-40cd-a50e-7910d23b2ba9",
   "metadata": {
    "tags": []
   },
   "outputs": [
    {
     "data": {
      "text/plain": [
       "22954    239\n",
       "6218     239\n",
       "19443    239\n",
       "4739     239\n",
       "21525    239\n",
       "Name: calculated_host_listings_count, dtype: int64"
      ]
     },
     "execution_count": 30,
     "metadata": {},
     "output_type": "execute_result"
    }
   ],
   "source": [
    "df['calculated_host_listings_count'].sort_values(ascending = False).head(5)"
   ]
  },
  {
   "cell_type": "code",
   "execution_count": 31,
   "id": "9931e951-5611-477c-8ded-6dcb62a86797",
   "metadata": {
    "tags": []
   },
   "outputs": [
    {
     "data": {
      "text/html": [
       "<div>\n",
       "<style scoped>\n",
       "    .dataframe tbody tr th:only-of-type {\n",
       "        vertical-align: middle;\n",
       "    }\n",
       "\n",
       "    .dataframe tbody tr th {\n",
       "        vertical-align: top;\n",
       "    }\n",
       "\n",
       "    .dataframe thead th {\n",
       "        text-align: right;\n",
       "    }\n",
       "</style>\n",
       "<table border=\"1\" class=\"dataframe\">\n",
       "  <thead>\n",
       "    <tr style=\"text-align: right;\">\n",
       "      <th></th>\n",
       "      <th>id</th>\n",
       "      <th>host_id</th>\n",
       "      <th>calculated_host_listings_count</th>\n",
       "      <th>calculated_host_listings_count_entire_homes</th>\n",
       "    </tr>\n",
       "  </thead>\n",
       "  <tbody>\n",
       "    <tr>\n",
       "      <th>0</th>\n",
       "      <td>256695</td>\n",
       "      <td>1350540</td>\n",
       "      <td>1</td>\n",
       "      <td>1</td>\n",
       "    </tr>\n",
       "    <tr>\n",
       "      <th>1</th>\n",
       "      <td>258330</td>\n",
       "      <td>1358462</td>\n",
       "      <td>1</td>\n",
       "      <td>1</td>\n",
       "    </tr>\n",
       "    <tr>\n",
       "      <th>2</th>\n",
       "      <td>137044</td>\n",
       "      <td>670337</td>\n",
       "      <td>1</td>\n",
       "      <td>1</td>\n",
       "    </tr>\n",
       "    <tr>\n",
       "      <th>3</th>\n",
       "      <td>137157</td>\n",
       "      <td>486866</td>\n",
       "      <td>5</td>\n",
       "      <td>5</td>\n",
       "    </tr>\n",
       "    <tr>\n",
       "      <th>4</th>\n",
       "      <td>259075</td>\n",
       "      <td>1311777</td>\n",
       "      <td>2</td>\n",
       "      <td>2</td>\n",
       "    </tr>\n",
       "    <tr>\n",
       "      <th>5</th>\n",
       "      <td>137713</td>\n",
       "      <td>246365</td>\n",
       "      <td>2</td>\n",
       "      <td>2</td>\n",
       "    </tr>\n",
       "    <tr>\n",
       "      <th>6</th>\n",
       "      <td>137724</td>\n",
       "      <td>246365</td>\n",
       "      <td>2</td>\n",
       "      <td>2</td>\n",
       "    </tr>\n",
       "    <tr>\n",
       "      <th>7</th>\n",
       "      <td>138192</td>\n",
       "      <td>674843</td>\n",
       "      <td>6</td>\n",
       "      <td>1</td>\n",
       "    </tr>\n",
       "    <tr>\n",
       "      <th>8</th>\n",
       "      <td>2737</td>\n",
       "      <td>3047</td>\n",
       "      <td>6</td>\n",
       "      <td>0</td>\n",
       "    </tr>\n",
       "    <tr>\n",
       "      <th>9</th>\n",
       "      <td>262254</td>\n",
       "      <td>1374312</td>\n",
       "      <td>1</td>\n",
       "      <td>1</td>\n",
       "    </tr>\n",
       "    <tr>\n",
       "      <th>10</th>\n",
       "      <td>3079</td>\n",
       "      <td>3504</td>\n",
       "      <td>5</td>\n",
       "      <td>5</td>\n",
       "    </tr>\n",
       "    <tr>\n",
       "      <th>11</th>\n",
       "      <td>11834</td>\n",
       "      <td>44552</td>\n",
       "      <td>1</td>\n",
       "      <td>1</td>\n",
       "    </tr>\n",
       "    <tr>\n",
       "      <th>12</th>\n",
       "      <td>139330</td>\n",
       "      <td>679555</td>\n",
       "      <td>2</td>\n",
       "      <td>0</td>\n",
       "    </tr>\n",
       "    <tr>\n",
       "      <th>13</th>\n",
       "      <td>140801</td>\n",
       "      <td>685600</td>\n",
       "      <td>1</td>\n",
       "      <td>1</td>\n",
       "    </tr>\n",
       "    <tr>\n",
       "      <th>14</th>\n",
       "      <td>262313</td>\n",
       "      <td>1376239</td>\n",
       "      <td>1</td>\n",
       "      <td>0</td>\n",
       "    </tr>\n",
       "    <tr>\n",
       "      <th>15</th>\n",
       "      <td>141614</td>\n",
       "      <td>674843</td>\n",
       "      <td>6</td>\n",
       "      <td>1</td>\n",
       "    </tr>\n",
       "    <tr>\n",
       "      <th>16</th>\n",
       "      <td>141634</td>\n",
       "      <td>674843</td>\n",
       "      <td>6</td>\n",
       "      <td>1</td>\n",
       "    </tr>\n",
       "    <tr>\n",
       "      <th>17</th>\n",
       "      <td>12398</td>\n",
       "      <td>11756</td>\n",
       "      <td>1</td>\n",
       "      <td>1</td>\n",
       "    </tr>\n",
       "    <tr>\n",
       "      <th>18</th>\n",
       "      <td>19965</td>\n",
       "      <td>75450</td>\n",
       "      <td>9</td>\n",
       "      <td>9</td>\n",
       "    </tr>\n",
       "    <tr>\n",
       "      <th>19</th>\n",
       "      <td>262876</td>\n",
       "      <td>1379558</td>\n",
       "      <td>2</td>\n",
       "      <td>0</td>\n",
       "    </tr>\n",
       "  </tbody>\n",
       "</table>\n",
       "</div>"
      ],
      "text/plain": [
       "        id  host_id  calculated_host_listings_count   \n",
       "0   256695  1350540                               1  \\\n",
       "1   258330  1358462                               1   \n",
       "2   137044   670337                               1   \n",
       "3   137157   486866                               5   \n",
       "4   259075  1311777                               2   \n",
       "5   137713   246365                               2   \n",
       "6   137724   246365                               2   \n",
       "7   138192   674843                               6   \n",
       "8     2737     3047                               6   \n",
       "9   262254  1374312                               1   \n",
       "10    3079     3504                               5   \n",
       "11   11834    44552                               1   \n",
       "12  139330   679555                               2   \n",
       "13  140801   685600                               1   \n",
       "14  262313  1376239                               1   \n",
       "15  141614   674843                               6   \n",
       "16  141634   674843                               6   \n",
       "17   12398    11756                               1   \n",
       "18   19965    75450                               9   \n",
       "19  262876  1379558                               2   \n",
       "\n",
       "    calculated_host_listings_count_entire_homes  \n",
       "0                                             1  \n",
       "1                                             1  \n",
       "2                                             1  \n",
       "3                                             5  \n",
       "4                                             2  \n",
       "5                                             2  \n",
       "6                                             2  \n",
       "7                                             1  \n",
       "8                                             0  \n",
       "9                                             1  \n",
       "10                                            5  \n",
       "11                                            1  \n",
       "12                                            0  \n",
       "13                                            1  \n",
       "14                                            0  \n",
       "15                                            1  \n",
       "16                                            1  \n",
       "17                                            1  \n",
       "18                                            9  \n",
       "19                                            0  "
      ]
     },
     "execution_count": 31,
     "metadata": {},
     "output_type": "execute_result"
    }
   ],
   "source": [
    "df[['id','host_id','calculated_host_listings_count', 'calculated_host_listings_count_entire_homes']].head(20)"
   ]
  },
  {
   "cell_type": "markdown",
   "id": "3cdad3d2-7729-496b-866f-29af06bf5ff4",
   "metadata": {},
   "source": [
    "### The biggest host in Rome (host_id = 23532561)"
   ]
  },
  {
   "cell_type": "code",
   "execution_count": 32,
   "id": "28b1c10c-d977-454f-b0de-abb581b3e401",
   "metadata": {},
   "outputs": [],
   "source": [
    "df_tophost = df.query('host_id == 23532561')"
   ]
  },
  {
   "cell_type": "code",
   "execution_count": 33,
   "id": "797899be-71d3-4dcd-9f2a-e57da246b222",
   "metadata": {
    "tags": []
   },
   "outputs": [
    {
     "data": {
      "text/html": [
       "<div>\n",
       "<style scoped>\n",
       "    .dataframe tbody tr th:only-of-type {\n",
       "        vertical-align: middle;\n",
       "    }\n",
       "\n",
       "    .dataframe tbody tr th {\n",
       "        vertical-align: top;\n",
       "    }\n",
       "\n",
       "    .dataframe thead th {\n",
       "        text-align: right;\n",
       "    }\n",
       "</style>\n",
       "<table border=\"1\" class=\"dataframe\">\n",
       "  <thead>\n",
       "    <tr style=\"text-align: right;\">\n",
       "      <th></th>\n",
       "      <th>id</th>\n",
       "      <th>listing_url</th>\n",
       "      <th>scrape_id</th>\n",
       "      <th>last_scraped</th>\n",
       "      <th>source</th>\n",
       "      <th>name</th>\n",
       "      <th>description</th>\n",
       "      <th>neighborhood_overview</th>\n",
       "      <th>picture_url</th>\n",
       "      <th>host_id</th>\n",
       "      <th>...</th>\n",
       "      <th>review_scores_communication</th>\n",
       "      <th>review_scores_location</th>\n",
       "      <th>review_scores_value</th>\n",
       "      <th>license</th>\n",
       "      <th>instant_bookable</th>\n",
       "      <th>calculated_host_listings_count</th>\n",
       "      <th>calculated_host_listings_count_entire_homes</th>\n",
       "      <th>calculated_host_listings_count_private_rooms</th>\n",
       "      <th>calculated_host_listings_count_shared_rooms</th>\n",
       "      <th>reviews_per_month</th>\n",
       "    </tr>\n",
       "  </thead>\n",
       "  <tbody>\n",
       "    <tr>\n",
       "      <th>2244</th>\n",
       "      <td>4539118</td>\n",
       "      <td>https://www.airbnb.com/rooms/4539118</td>\n",
       "      <td>20230315024350</td>\n",
       "      <td>2023-03-15</td>\n",
       "      <td>city scrape</td>\n",
       "      <td>iFlat | Monti secret Garden</td>\n",
       "      <td>4pax charming apartment with a private charact...</td>\n",
       "      <td>You will be in the very heart of Rome - Rione ...</td>\n",
       "      <td>https://a0.muscache.com/pictures/57303770/7cfe...</td>\n",
       "      <td>23532561</td>\n",
       "      <td>...</td>\n",
       "      <td>4.80</td>\n",
       "      <td>4.95</td>\n",
       "      <td>4.50</td>\n",
       "      <td></td>\n",
       "      <td>t</td>\n",
       "      <td>239</td>\n",
       "      <td>238</td>\n",
       "      <td>1</td>\n",
       "      <td>0</td>\n",
       "      <td>1.30</td>\n",
       "    </tr>\n",
       "    <tr>\n",
       "      <th>2429</th>\n",
       "      <td>4870901</td>\n",
       "      <td>https://www.airbnb.com/rooms/4870901</td>\n",
       "      <td>20230315024350</td>\n",
       "      <td>2023-03-15</td>\n",
       "      <td>city scrape</td>\n",
       "      <td>iFlat | Spanish Steps Studio Apartment</td>\n",
       "      <td>Studio apartment very close to Spanish Steps a...</td>\n",
       "      <td>NaN</td>\n",
       "      <td>https://a0.muscache.com/pictures/c32dc77c-823a...</td>\n",
       "      <td>23532561</td>\n",
       "      <td>...</td>\n",
       "      <td>4.77</td>\n",
       "      <td>4.82</td>\n",
       "      <td>4.46</td>\n",
       "      <td></td>\n",
       "      <td>t</td>\n",
       "      <td>239</td>\n",
       "      <td>238</td>\n",
       "      <td>1</td>\n",
       "      <td>0</td>\n",
       "      <td>1.47</td>\n",
       "    </tr>\n",
       "    <tr>\n",
       "      <th>2816</th>\n",
       "      <td>5657500</td>\n",
       "      <td>https://www.airbnb.com/rooms/5657500</td>\n",
       "      <td>20230315024350</td>\n",
       "      <td>2023-03-15</td>\n",
       "      <td>previous scrape</td>\n",
       "      <td>Pantheon Cozy Apartment n. 3</td>\n",
       "      <td>Cozy 4 pax apartment located in Piazza delle C...</td>\n",
       "      <td>NaN</td>\n",
       "      <td>https://a0.muscache.com/pictures/84174087/4750...</td>\n",
       "      <td>23532561</td>\n",
       "      <td>...</td>\n",
       "      <td>4.82</td>\n",
       "      <td>4.95</td>\n",
       "      <td>4.72</td>\n",
       "      <td></td>\n",
       "      <td>t</td>\n",
       "      <td>239</td>\n",
       "      <td>238</td>\n",
       "      <td>1</td>\n",
       "      <td>0</td>\n",
       "      <td>0.80</td>\n",
       "    </tr>\n",
       "    <tr>\n",
       "      <th>2817</th>\n",
       "      <td>5657827</td>\n",
       "      <td>https://www.airbnb.com/rooms/5657827</td>\n",
       "      <td>20230315024350</td>\n",
       "      <td>2023-03-15</td>\n",
       "      <td>previous scrape</td>\n",
       "      <td>Pantheon Cozy Apartment n. 2</td>\n",
       "      <td>Cozy 6 pax apartment located in Piazza delle C...</td>\n",
       "      <td>NaN</td>\n",
       "      <td>https://a0.muscache.com/pictures/84145536/fab1...</td>\n",
       "      <td>23532561</td>\n",
       "      <td>...</td>\n",
       "      <td>4.69</td>\n",
       "      <td>4.88</td>\n",
       "      <td>4.52</td>\n",
       "      <td></td>\n",
       "      <td>t</td>\n",
       "      <td>239</td>\n",
       "      <td>238</td>\n",
       "      <td>1</td>\n",
       "      <td>0</td>\n",
       "      <td>0.54</td>\n",
       "    </tr>\n",
       "    <tr>\n",
       "      <th>2819</th>\n",
       "      <td>5658485</td>\n",
       "      <td>https://www.airbnb.com/rooms/5658485</td>\n",
       "      <td>20230315024350</td>\n",
       "      <td>2023-03-15</td>\n",
       "      <td>previous scrape</td>\n",
       "      <td>Pantheon Cozy Apartment n. 7</td>\n",
       "      <td>Cozy 2+1 pax apartment with a beautiful terrac...</td>\n",
       "      <td>The apartment is located in Piazza delle Coppe...</td>\n",
       "      <td>https://a0.muscache.com/pictures/94395593/aefb...</td>\n",
       "      <td>23532561</td>\n",
       "      <td>...</td>\n",
       "      <td>4.88</td>\n",
       "      <td>4.95</td>\n",
       "      <td>4.60</td>\n",
       "      <td></td>\n",
       "      <td>t</td>\n",
       "      <td>239</td>\n",
       "      <td>238</td>\n",
       "      <td>1</td>\n",
       "      <td>0</td>\n",
       "      <td>1.39</td>\n",
       "    </tr>\n",
       "    <tr>\n",
       "      <th>...</th>\n",
       "      <td>...</td>\n",
       "      <td>...</td>\n",
       "      <td>...</td>\n",
       "      <td>...</td>\n",
       "      <td>...</td>\n",
       "      <td>...</td>\n",
       "      <td>...</td>\n",
       "      <td>...</td>\n",
       "      <td>...</td>\n",
       "      <td>...</td>\n",
       "      <td>...</td>\n",
       "      <td>...</td>\n",
       "      <td>...</td>\n",
       "      <td>...</td>\n",
       "      <td>...</td>\n",
       "      <td>...</td>\n",
       "      <td>...</td>\n",
       "      <td>...</td>\n",
       "      <td>...</td>\n",
       "      <td>...</td>\n",
       "      <td>...</td>\n",
       "    </tr>\n",
       "    <tr>\n",
       "      <th>24367</th>\n",
       "      <td>824617240772357369</td>\n",
       "      <td>https://www.airbnb.com/rooms/824617240772357369</td>\n",
       "      <td>20230315024350</td>\n",
       "      <td>2023-03-15</td>\n",
       "      <td>city scrape</td>\n",
       "      <td>iFlat | Trastevere Unique Loft</td>\n",
       "      <td>Industrial-style loft with high quality fittin...</td>\n",
       "      <td>Trastevere is an old area of the downtown of R...</td>\n",
       "      <td>https://a0.muscache.com/pictures/miso/Hosting-...</td>\n",
       "      <td>23532561</td>\n",
       "      <td>...</td>\n",
       "      <td>NaN</td>\n",
       "      <td>NaN</td>\n",
       "      <td>NaN</td>\n",
       "      <td></td>\n",
       "      <td>t</td>\n",
       "      <td>239</td>\n",
       "      <td>238</td>\n",
       "      <td>1</td>\n",
       "      <td>0</td>\n",
       "      <td>NaN</td>\n",
       "    </tr>\n",
       "    <tr>\n",
       "      <th>24534</th>\n",
       "      <td>831724047233388666</td>\n",
       "      <td>https://www.airbnb.com/rooms/831724047233388666</td>\n",
       "      <td>20230315024350</td>\n",
       "      <td>2023-03-15</td>\n",
       "      <td>city scrape</td>\n",
       "      <td>iFlat | Vatican Elegant Apartment</td>\n",
       "      <td>Elegant and spacious apartment located in the ...</td>\n",
       "      <td>The area where the apartment is located is one...</td>\n",
       "      <td>https://a0.muscache.com/pictures/miso/Hosting-...</td>\n",
       "      <td>23532561</td>\n",
       "      <td>...</td>\n",
       "      <td>5.00</td>\n",
       "      <td>5.00</td>\n",
       "      <td>5.00</td>\n",
       "      <td></td>\n",
       "      <td>t</td>\n",
       "      <td>239</td>\n",
       "      <td>238</td>\n",
       "      <td>1</td>\n",
       "      <td>0</td>\n",
       "      <td>2.00</td>\n",
       "    </tr>\n",
       "    <tr>\n",
       "      <th>24611</th>\n",
       "      <td>839654436113394668</td>\n",
       "      <td>https://www.airbnb.com/rooms/839654436113394668</td>\n",
       "      <td>20230315024350</td>\n",
       "      <td>2023-03-15</td>\n",
       "      <td>city scrape</td>\n",
       "      <td>iFlat | The Carpet Apartment</td>\n",
       "      <td>Just a few steps from the Spanish Steps, this ...</td>\n",
       "      <td>This beautiful apartment is located in the pic...</td>\n",
       "      <td>https://a0.muscache.com/pictures/miso/Hosting-...</td>\n",
       "      <td>23532561</td>\n",
       "      <td>...</td>\n",
       "      <td>NaN</td>\n",
       "      <td>NaN</td>\n",
       "      <td>NaN</td>\n",
       "      <td></td>\n",
       "      <td>t</td>\n",
       "      <td>239</td>\n",
       "      <td>238</td>\n",
       "      <td>1</td>\n",
       "      <td>0</td>\n",
       "      <td>NaN</td>\n",
       "    </tr>\n",
       "    <tr>\n",
       "      <th>24612</th>\n",
       "      <td>839689394836536650</td>\n",
       "      <td>https://www.airbnb.com/rooms/839689394836536650</td>\n",
       "      <td>20230315024350</td>\n",
       "      <td>2023-03-15</td>\n",
       "      <td>city scrape</td>\n",
       "      <td>iFlat | The gem of the center</td>\n",
       "      <td>The apartment is located just a 7-minute walk ...</td>\n",
       "      <td>It is the historic center of the Eternal City,...</td>\n",
       "      <td>https://a0.muscache.com/pictures/miso/Hosting-...</td>\n",
       "      <td>23532561</td>\n",
       "      <td>...</td>\n",
       "      <td>NaN</td>\n",
       "      <td>NaN</td>\n",
       "      <td>NaN</td>\n",
       "      <td></td>\n",
       "      <td>t</td>\n",
       "      <td>239</td>\n",
       "      <td>238</td>\n",
       "      <td>1</td>\n",
       "      <td>0</td>\n",
       "      <td>NaN</td>\n",
       "    </tr>\n",
       "    <tr>\n",
       "      <th>24613</th>\n",
       "      <td>839723842470233205</td>\n",
       "      <td>https://www.airbnb.com/rooms/839723842470233205</td>\n",
       "      <td>20230315024350</td>\n",
       "      <td>2023-03-15</td>\n",
       "      <td>city scrape</td>\n",
       "      <td>iFlat | Apê Ponte Sisto</td>\n",
       "      <td>This cozy apartment is located in Campo de' Fi...</td>\n",
       "      <td>The apartment is located in the district Regol...</td>\n",
       "      <td>https://a0.muscache.com/pictures/miso/Hosting-...</td>\n",
       "      <td>23532561</td>\n",
       "      <td>...</td>\n",
       "      <td>NaN</td>\n",
       "      <td>NaN</td>\n",
       "      <td>NaN</td>\n",
       "      <td></td>\n",
       "      <td>t</td>\n",
       "      <td>239</td>\n",
       "      <td>238</td>\n",
       "      <td>1</td>\n",
       "      <td>0</td>\n",
       "      <td>NaN</td>\n",
       "    </tr>\n",
       "  </tbody>\n",
       "</table>\n",
       "<p>239 rows × 75 columns</p>\n",
       "</div>"
      ],
      "text/plain": [
       "                       id                                      listing_url   \n",
       "2244              4539118             https://www.airbnb.com/rooms/4539118  \\\n",
       "2429              4870901             https://www.airbnb.com/rooms/4870901   \n",
       "2816              5657500             https://www.airbnb.com/rooms/5657500   \n",
       "2817              5657827             https://www.airbnb.com/rooms/5657827   \n",
       "2819              5658485             https://www.airbnb.com/rooms/5658485   \n",
       "...                   ...                                              ...   \n",
       "24367  824617240772357369  https://www.airbnb.com/rooms/824617240772357369   \n",
       "24534  831724047233388666  https://www.airbnb.com/rooms/831724047233388666   \n",
       "24611  839654436113394668  https://www.airbnb.com/rooms/839654436113394668   \n",
       "24612  839689394836536650  https://www.airbnb.com/rooms/839689394836536650   \n",
       "24613  839723842470233205  https://www.airbnb.com/rooms/839723842470233205   \n",
       "\n",
       "            scrape_id last_scraped           source   \n",
       "2244   20230315024350   2023-03-15      city scrape  \\\n",
       "2429   20230315024350   2023-03-15      city scrape   \n",
       "2816   20230315024350   2023-03-15  previous scrape   \n",
       "2817   20230315024350   2023-03-15  previous scrape   \n",
       "2819   20230315024350   2023-03-15  previous scrape   \n",
       "...               ...          ...              ...   \n",
       "24367  20230315024350   2023-03-15      city scrape   \n",
       "24534  20230315024350   2023-03-15      city scrape   \n",
       "24611  20230315024350   2023-03-15      city scrape   \n",
       "24612  20230315024350   2023-03-15      city scrape   \n",
       "24613  20230315024350   2023-03-15      city scrape   \n",
       "\n",
       "                                         name   \n",
       "2244              iFlat | Monti secret Garden  \\\n",
       "2429   iFlat | Spanish Steps Studio Apartment   \n",
       "2816             Pantheon Cozy Apartment n. 3   \n",
       "2817             Pantheon Cozy Apartment n. 2   \n",
       "2819             Pantheon Cozy Apartment n. 7   \n",
       "...                                       ...   \n",
       "24367          iFlat | Trastevere Unique Loft   \n",
       "24534       iFlat | Vatican Elegant Apartment   \n",
       "24611            iFlat | The Carpet Apartment   \n",
       "24612           iFlat | The gem of the center   \n",
       "24613                 iFlat | Apê Ponte Sisto   \n",
       "\n",
       "                                             description   \n",
       "2244   4pax charming apartment with a private charact...  \\\n",
       "2429   Studio apartment very close to Spanish Steps a...   \n",
       "2816   Cozy 4 pax apartment located in Piazza delle C...   \n",
       "2817   Cozy 6 pax apartment located in Piazza delle C...   \n",
       "2819   Cozy 2+1 pax apartment with a beautiful terrac...   \n",
       "...                                                  ...   \n",
       "24367  Industrial-style loft with high quality fittin...   \n",
       "24534  Elegant and spacious apartment located in the ...   \n",
       "24611  Just a few steps from the Spanish Steps, this ...   \n",
       "24612  The apartment is located just a 7-minute walk ...   \n",
       "24613  This cozy apartment is located in Campo de' Fi...   \n",
       "\n",
       "                                   neighborhood_overview   \n",
       "2244   You will be in the very heart of Rome - Rione ...  \\\n",
       "2429                                                 NaN   \n",
       "2816                                                 NaN   \n",
       "2817                                                 NaN   \n",
       "2819   The apartment is located in Piazza delle Coppe...   \n",
       "...                                                  ...   \n",
       "24367  Trastevere is an old area of the downtown of R...   \n",
       "24534  The area where the apartment is located is one...   \n",
       "24611  This beautiful apartment is located in the pic...   \n",
       "24612  It is the historic center of the Eternal City,...   \n",
       "24613  The apartment is located in the district Regol...   \n",
       "\n",
       "                                             picture_url   host_id  ...   \n",
       "2244   https://a0.muscache.com/pictures/57303770/7cfe...  23532561  ...  \\\n",
       "2429   https://a0.muscache.com/pictures/c32dc77c-823a...  23532561  ...   \n",
       "2816   https://a0.muscache.com/pictures/84174087/4750...  23532561  ...   \n",
       "2817   https://a0.muscache.com/pictures/84145536/fab1...  23532561  ...   \n",
       "2819   https://a0.muscache.com/pictures/94395593/aefb...  23532561  ...   \n",
       "...                                                  ...       ...  ...   \n",
       "24367  https://a0.muscache.com/pictures/miso/Hosting-...  23532561  ...   \n",
       "24534  https://a0.muscache.com/pictures/miso/Hosting-...  23532561  ...   \n",
       "24611  https://a0.muscache.com/pictures/miso/Hosting-...  23532561  ...   \n",
       "24612  https://a0.muscache.com/pictures/miso/Hosting-...  23532561  ...   \n",
       "24613  https://a0.muscache.com/pictures/miso/Hosting-...  23532561  ...   \n",
       "\n",
       "      review_scores_communication review_scores_location review_scores_value   \n",
       "2244                         4.80                   4.95                4.50  \\\n",
       "2429                         4.77                   4.82                4.46   \n",
       "2816                         4.82                   4.95                4.72   \n",
       "2817                         4.69                   4.88                4.52   \n",
       "2819                         4.88                   4.95                4.60   \n",
       "...                           ...                    ...                 ...   \n",
       "24367                         NaN                    NaN                 NaN   \n",
       "24534                        5.00                   5.00                5.00   \n",
       "24611                         NaN                    NaN                 NaN   \n",
       "24612                         NaN                    NaN                 NaN   \n",
       "24613                         NaN                    NaN                 NaN   \n",
       "\n",
       "      license instant_bookable calculated_host_listings_count   \n",
       "2244                         t                            239  \\\n",
       "2429                         t                            239   \n",
       "2816                         t                            239   \n",
       "2817                         t                            239   \n",
       "2819                         t                            239   \n",
       "...       ...              ...                            ...   \n",
       "24367                        t                            239   \n",
       "24534                        t                            239   \n",
       "24611                        t                            239   \n",
       "24612                        t                            239   \n",
       "24613                        t                            239   \n",
       "\n",
       "      calculated_host_listings_count_entire_homes   \n",
       "2244                                          238  \\\n",
       "2429                                          238   \n",
       "2816                                          238   \n",
       "2817                                          238   \n",
       "2819                                          238   \n",
       "...                                           ...   \n",
       "24367                                         238   \n",
       "24534                                         238   \n",
       "24611                                         238   \n",
       "24612                                         238   \n",
       "24613                                         238   \n",
       "\n",
       "      calculated_host_listings_count_private_rooms   \n",
       "2244                                             1  \\\n",
       "2429                                             1   \n",
       "2816                                             1   \n",
       "2817                                             1   \n",
       "2819                                             1   \n",
       "...                                            ...   \n",
       "24367                                            1   \n",
       "24534                                            1   \n",
       "24611                                            1   \n",
       "24612                                            1   \n",
       "24613                                            1   \n",
       "\n",
       "      calculated_host_listings_count_shared_rooms reviews_per_month  \n",
       "2244                                            0              1.30  \n",
       "2429                                            0              1.47  \n",
       "2816                                            0              0.80  \n",
       "2817                                            0              0.54  \n",
       "2819                                            0              1.39  \n",
       "...                                           ...               ...  \n",
       "24367                                           0               NaN  \n",
       "24534                                           0              2.00  \n",
       "24611                                           0               NaN  \n",
       "24612                                           0               NaN  \n",
       "24613                                           0               NaN  \n",
       "\n",
       "[239 rows x 75 columns]"
      ]
     },
     "execution_count": 33,
     "metadata": {},
     "output_type": "execute_result"
    }
   ],
   "source": [
    "df_tophost"
   ]
  },
  {
   "cell_type": "code",
   "execution_count": 34,
   "id": "4b47d967-ebe9-4338-b66b-cb0a2a2fd3d0",
   "metadata": {
    "tags": []
   },
   "outputs": [
    {
     "data": {
      "text/plain": [
       "3"
      ]
     },
     "execution_count": 34,
     "metadata": {},
     "output_type": "execute_result"
    }
   ],
   "source": [
    "df_tophost['license'].nunique()"
   ]
  },
  {
   "cell_type": "code",
   "execution_count": 35,
   "id": "74f26fd8-da7f-4a65-9873-246a485f95c7",
   "metadata": {
    "tags": []
   },
   "outputs": [
    {
     "data": {
      "text/plain": [
       "array(['', '15913', 'QA/2019/59359'], dtype=object)"
      ]
     },
     "execution_count": 35,
     "metadata": {},
     "output_type": "execute_result"
    }
   ],
   "source": [
    "df_tophost['license'].unique()"
   ]
  },
  {
   "cell_type": "code",
   "execution_count": 36,
   "id": "c0c19510-6152-4c48-b22a-023118c6ecdd",
   "metadata": {
    "tags": []
   },
   "outputs": [
    {
     "data": {
      "text/plain": [
       "2244    238\n",
       "Name: calculated_host_listings_count_entire_homes, dtype: int64"
      ]
     },
     "execution_count": 36,
     "metadata": {},
     "output_type": "execute_result"
    }
   ],
   "source": [
    "df_tophost['calculated_host_listings_count_entire_homes'].head(1)"
   ]
  },
  {
   "cell_type": "code",
   "execution_count": 37,
   "id": "1c61d95b-8050-49e5-b5f5-e7d4c676a4fd",
   "metadata": {
    "tags": []
   },
   "outputs": [
    {
     "data": {
      "text/html": [
       "<div>\n",
       "<style scoped>\n",
       "    .dataframe tbody tr th:only-of-type {\n",
       "        vertical-align: middle;\n",
       "    }\n",
       "\n",
       "    .dataframe tbody tr th {\n",
       "        vertical-align: top;\n",
       "    }\n",
       "\n",
       "    .dataframe thead th {\n",
       "        text-align: right;\n",
       "    }\n",
       "</style>\n",
       "<table border=\"1\" class=\"dataframe\">\n",
       "  <thead>\n",
       "    <tr style=\"text-align: right;\">\n",
       "      <th></th>\n",
       "      <th>calculated_host_listings_count_private_rooms</th>\n",
       "      <th>calculated_host_listings_count_entire_homes</th>\n",
       "    </tr>\n",
       "  </thead>\n",
       "  <tbody>\n",
       "    <tr>\n",
       "      <th>2244</th>\n",
       "      <td>1</td>\n",
       "      <td>238</td>\n",
       "    </tr>\n",
       "    <tr>\n",
       "      <th>2429</th>\n",
       "      <td>1</td>\n",
       "      <td>238</td>\n",
       "    </tr>\n",
       "    <tr>\n",
       "      <th>2816</th>\n",
       "      <td>1</td>\n",
       "      <td>238</td>\n",
       "    </tr>\n",
       "    <tr>\n",
       "      <th>2817</th>\n",
       "      <td>1</td>\n",
       "      <td>238</td>\n",
       "    </tr>\n",
       "    <tr>\n",
       "      <th>2819</th>\n",
       "      <td>1</td>\n",
       "      <td>238</td>\n",
       "    </tr>\n",
       "    <tr>\n",
       "      <th>...</th>\n",
       "      <td>...</td>\n",
       "      <td>...</td>\n",
       "    </tr>\n",
       "    <tr>\n",
       "      <th>24367</th>\n",
       "      <td>1</td>\n",
       "      <td>238</td>\n",
       "    </tr>\n",
       "    <tr>\n",
       "      <th>24534</th>\n",
       "      <td>1</td>\n",
       "      <td>238</td>\n",
       "    </tr>\n",
       "    <tr>\n",
       "      <th>24611</th>\n",
       "      <td>1</td>\n",
       "      <td>238</td>\n",
       "    </tr>\n",
       "    <tr>\n",
       "      <th>24612</th>\n",
       "      <td>1</td>\n",
       "      <td>238</td>\n",
       "    </tr>\n",
       "    <tr>\n",
       "      <th>24613</th>\n",
       "      <td>1</td>\n",
       "      <td>238</td>\n",
       "    </tr>\n",
       "  </tbody>\n",
       "</table>\n",
       "<p>239 rows × 2 columns</p>\n",
       "</div>"
      ],
      "text/plain": [
       "       calculated_host_listings_count_private_rooms   \n",
       "2244                                              1  \\\n",
       "2429                                              1   \n",
       "2816                                              1   \n",
       "2817                                              1   \n",
       "2819                                              1   \n",
       "...                                             ...   \n",
       "24367                                             1   \n",
       "24534                                             1   \n",
       "24611                                             1   \n",
       "24612                                             1   \n",
       "24613                                             1   \n",
       "\n",
       "       calculated_host_listings_count_entire_homes  \n",
       "2244                                           238  \n",
       "2429                                           238  \n",
       "2816                                           238  \n",
       "2817                                           238  \n",
       "2819                                           238  \n",
       "...                                            ...  \n",
       "24367                                          238  \n",
       "24534                                          238  \n",
       "24611                                          238  \n",
       "24612                                          238  \n",
       "24613                                          238  \n",
       "\n",
       "[239 rows x 2 columns]"
      ]
     },
     "execution_count": 37,
     "metadata": {},
     "output_type": "execute_result"
    }
   ],
   "source": [
    "df_tophost[['calculated_host_listings_count_private_rooms', 'calculated_host_listings_count_entire_homes']]"
   ]
  },
  {
   "cell_type": "code",
   "execution_count": 38,
   "id": "ac591cf9-27f9-41ee-88d8-f1b3873be880",
   "metadata": {
    "tags": []
   },
   "outputs": [
    {
     "data": {
      "text/plain": [
       "2244    0\n",
       "Name: calculated_host_listings_count_shared_rooms, dtype: int64"
      ]
     },
     "execution_count": 38,
     "metadata": {},
     "output_type": "execute_result"
    }
   ],
   "source": [
    "df_tophost['calculated_host_listings_count_shared_rooms'].head(1)"
   ]
  },
  {
   "cell_type": "markdown",
   "id": "dfb7979b-645c-434a-8533-07820209a6ee",
   "metadata": {},
   "source": [
    "### Host with one listings"
   ]
  },
  {
   "cell_type": "code",
   "execution_count": 39,
   "id": "2ecd486b-81f7-4ed4-b7ba-3279fb07878c",
   "metadata": {
    "tags": []
   },
   "outputs": [],
   "source": [
    "df_single = df.query('host_id == 505209685')"
   ]
  },
  {
   "cell_type": "code",
   "execution_count": 40,
   "id": "228ec78d-8577-4475-8cf2-77f5e1e10c1b",
   "metadata": {
    "tags": []
   },
   "outputs": [
    {
     "data": {
      "text/html": [
       "<div>\n",
       "<style scoped>\n",
       "    .dataframe tbody tr th:only-of-type {\n",
       "        vertical-align: middle;\n",
       "    }\n",
       "\n",
       "    .dataframe tbody tr th {\n",
       "        vertical-align: top;\n",
       "    }\n",
       "\n",
       "    .dataframe thead th {\n",
       "        text-align: right;\n",
       "    }\n",
       "</style>\n",
       "<table border=\"1\" class=\"dataframe\">\n",
       "  <thead>\n",
       "    <tr style=\"text-align: right;\">\n",
       "      <th></th>\n",
       "      <th>id</th>\n",
       "      <th>listing_url</th>\n",
       "      <th>scrape_id</th>\n",
       "      <th>last_scraped</th>\n",
       "      <th>source</th>\n",
       "      <th>name</th>\n",
       "      <th>description</th>\n",
       "      <th>neighborhood_overview</th>\n",
       "      <th>picture_url</th>\n",
       "      <th>host_id</th>\n",
       "      <th>...</th>\n",
       "      <th>review_scores_communication</th>\n",
       "      <th>review_scores_location</th>\n",
       "      <th>review_scores_value</th>\n",
       "      <th>license</th>\n",
       "      <th>instant_bookable</th>\n",
       "      <th>calculated_host_listings_count</th>\n",
       "      <th>calculated_host_listings_count_entire_homes</th>\n",
       "      <th>calculated_host_listings_count_private_rooms</th>\n",
       "      <th>calculated_host_listings_count_shared_rooms</th>\n",
       "      <th>reviews_per_month</th>\n",
       "    </tr>\n",
       "  </thead>\n",
       "  <tbody>\n",
       "    <tr>\n",
       "      <th>24922</th>\n",
       "      <td>846332320728407891</td>\n",
       "      <td>https://www.airbnb.com/rooms/846332320728407891</td>\n",
       "      <td>20230315024350</td>\n",
       "      <td>2023-03-15</td>\n",
       "      <td>city scrape</td>\n",
       "      <td>[Roma Centro 2KM] - 5 Stelle</td>\n",
       "      <td>Elegante e spazioso appartamento a soli 2KM da...</td>\n",
       "      <td>A soli 500 metri troverete la fermata del Tram...</td>\n",
       "      <td>https://a0.muscache.com/pictures/miso/Hosting-...</td>\n",
       "      <td>505209685</td>\n",
       "      <td>...</td>\n",
       "      <td>NaN</td>\n",
       "      <td>NaN</td>\n",
       "      <td>NaN</td>\n",
       "      <td>CIR 20155 - QA/2023/10205</td>\n",
       "      <td>t</td>\n",
       "      <td>1</td>\n",
       "      <td>1</td>\n",
       "      <td>0</td>\n",
       "      <td>0</td>\n",
       "      <td>NaN</td>\n",
       "    </tr>\n",
       "  </tbody>\n",
       "</table>\n",
       "<p>1 rows × 75 columns</p>\n",
       "</div>"
      ],
      "text/plain": [
       "                       id                                      listing_url   \n",
       "24922  846332320728407891  https://www.airbnb.com/rooms/846332320728407891  \\\n",
       "\n",
       "            scrape_id last_scraped       source                          name   \n",
       "24922  20230315024350   2023-03-15  city scrape  [Roma Centro 2KM] - 5 Stelle  \\\n",
       "\n",
       "                                             description   \n",
       "24922  Elegante e spazioso appartamento a soli 2KM da...  \\\n",
       "\n",
       "                                   neighborhood_overview   \n",
       "24922  A soli 500 metri troverete la fermata del Tram...  \\\n",
       "\n",
       "                                             picture_url    host_id  ...   \n",
       "24922  https://a0.muscache.com/pictures/miso/Hosting-...  505209685  ...  \\\n",
       "\n",
       "      review_scores_communication review_scores_location review_scores_value   \n",
       "24922                         NaN                    NaN                 NaN  \\\n",
       "\n",
       "                         license instant_bookable   \n",
       "24922  CIR 20155 - QA/2023/10205                t  \\\n",
       "\n",
       "      calculated_host_listings_count   \n",
       "24922                              1  \\\n",
       "\n",
       "      calculated_host_listings_count_entire_homes   \n",
       "24922                                           1  \\\n",
       "\n",
       "      calculated_host_listings_count_private_rooms   \n",
       "24922                                            0  \\\n",
       "\n",
       "      calculated_host_listings_count_shared_rooms reviews_per_month  \n",
       "24922                                           0               NaN  \n",
       "\n",
       "[1 rows x 75 columns]"
      ]
     },
     "execution_count": 40,
     "metadata": {},
     "output_type": "execute_result"
    }
   ],
   "source": [
    "df_single"
   ]
  },
  {
   "cell_type": "code",
   "execution_count": 41,
   "id": "307c7071-d6d9-4f02-bea9-fa42a8bcd5b4",
   "metadata": {
    "tags": []
   },
   "outputs": [
    {
     "data": {
      "text/plain": [
       "Index(['id', 'listing_url', 'scrape_id', 'last_scraped', 'source', 'name',\n",
       "       'description', 'neighborhood_overview', 'picture_url', 'host_id',\n",
       "       'host_url', 'host_name', 'host_since', 'host_location', 'host_about',\n",
       "       'host_response_time', 'host_response_rate', 'host_acceptance_rate',\n",
       "       'host_is_superhost', 'host_thumbnail_url', 'host_picture_url',\n",
       "       'host_neighbourhood', 'host_listings_count',\n",
       "       'host_total_listings_count', 'host_verifications',\n",
       "       'host_has_profile_pic', 'host_identity_verified', 'neighbourhood',\n",
       "       'neighbourhood_cleansed', 'neighbourhood_group_cleansed', 'latitude',\n",
       "       'longitude', 'property_type', 'room_type', 'accommodates', 'bathrooms',\n",
       "       'bathrooms_text', 'bedrooms', 'beds', 'amenities', 'price',\n",
       "       'minimum_nights', 'maximum_nights', 'minimum_minimum_nights',\n",
       "       'maximum_minimum_nights', 'minimum_maximum_nights',\n",
       "       'maximum_maximum_nights', 'minimum_nights_avg_ntm',\n",
       "       'maximum_nights_avg_ntm', 'calendar_updated', 'has_availability',\n",
       "       'availability_30', 'availability_60', 'availability_90',\n",
       "       'availability_365', 'calendar_last_scraped', 'number_of_reviews',\n",
       "       'number_of_reviews_ltm', 'number_of_reviews_l30d', 'first_review',\n",
       "       'last_review', 'review_scores_rating', 'review_scores_accuracy',\n",
       "       'review_scores_cleanliness', 'review_scores_checkin',\n",
       "       'review_scores_communication', 'review_scores_location',\n",
       "       'review_scores_value', 'license', 'instant_bookable',\n",
       "       'calculated_host_listings_count',\n",
       "       'calculated_host_listings_count_entire_homes',\n",
       "       'calculated_host_listings_count_private_rooms',\n",
       "       'calculated_host_listings_count_shared_rooms', 'reviews_per_month'],\n",
       "      dtype='object')"
      ]
     },
     "execution_count": 41,
     "metadata": {},
     "output_type": "execute_result"
    }
   ],
   "source": [
    "df.columns"
   ]
  },
  {
   "cell_type": "code",
   "execution_count": 42,
   "id": "00b08805-0c72-4353-a644-3fbce474dff8",
   "metadata": {
    "tags": []
   },
   "outputs": [
    {
     "data": {
      "text/plain": [
       "24922    339\n",
       "Name: availability_365, dtype: int64"
      ]
     },
     "execution_count": 42,
     "metadata": {},
     "output_type": "execute_result"
    }
   ],
   "source": [
    "df_single['availability_365']"
   ]
  },
  {
   "cell_type": "markdown",
   "id": "38a3e55b-dbc6-47a8-919a-0304a08325f8",
   "metadata": {},
   "source": [
    "### Dataframe focusing on the hosts"
   ]
  },
  {
   "cell_type": "code",
   "execution_count": 43,
   "id": "3f606e4d-a43b-42f8-93f4-918f198218c6",
   "metadata": {
    "tags": []
   },
   "outputs": [
    {
     "data": {
      "text/html": [
       "<div>\n",
       "<style scoped>\n",
       "    .dataframe tbody tr th:only-of-type {\n",
       "        vertical-align: middle;\n",
       "    }\n",
       "\n",
       "    .dataframe tbody tr th {\n",
       "        vertical-align: top;\n",
       "    }\n",
       "\n",
       "    .dataframe thead th {\n",
       "        text-align: right;\n",
       "    }\n",
       "</style>\n",
       "<table border=\"1\" class=\"dataframe\">\n",
       "  <thead>\n",
       "    <tr style=\"text-align: right;\">\n",
       "      <th></th>\n",
       "      <th></th>\n",
       "      <th></th>\n",
       "      <th></th>\n",
       "      <th></th>\n",
       "      <th></th>\n",
       "      <th></th>\n",
       "      <th>listings</th>\n",
       "    </tr>\n",
       "    <tr>\n",
       "      <th>host_id</th>\n",
       "      <th>host_name</th>\n",
       "      <th>host_since</th>\n",
       "      <th>host_response_time</th>\n",
       "      <th>host_is_superhost</th>\n",
       "      <th>host_listings_count</th>\n",
       "      <th>host_total_listings_count</th>\n",
       "      <th></th>\n",
       "    </tr>\n",
       "  </thead>\n",
       "  <tbody>\n",
       "    <tr>\n",
       "      <th>1944</th>\n",
       "      <th>Antonella</th>\n",
       "      <th>2008-08-13</th>\n",
       "      <th>within an hour</th>\n",
       "      <th>f</th>\n",
       "      <th>8.0</th>\n",
       "      <th>13.0</th>\n",
       "      <td>7</td>\n",
       "    </tr>\n",
       "    <tr>\n",
       "      <th>3047</th>\n",
       "      <th>Elif</th>\n",
       "      <th>2008-09-18</th>\n",
       "      <th>within a few hours</th>\n",
       "      <th>f</th>\n",
       "      <th>7.0</th>\n",
       "      <th>7.0</th>\n",
       "      <td>6</td>\n",
       "    </tr>\n",
       "    <tr>\n",
       "      <th>3504</th>\n",
       "      <th>Laura</th>\n",
       "      <th>2008-10-08</th>\n",
       "      <th>within a few hours</th>\n",
       "      <th>t</th>\n",
       "      <th>5.0</th>\n",
       "      <th>11.0</th>\n",
       "      <td>5</td>\n",
       "    </tr>\n",
       "    <tr>\n",
       "      <th>11756</th>\n",
       "      <th>Gea</th>\n",
       "      <th>2009-03-30</th>\n",
       "      <th>within a few hours</th>\n",
       "      <th>f</th>\n",
       "      <th>1.0</th>\n",
       "      <th>2.0</th>\n",
       "      <td>1</td>\n",
       "    </tr>\n",
       "    <tr>\n",
       "      <th>12456</th>\n",
       "      <th>Valeria</th>\n",
       "      <th>2009-04-06</th>\n",
       "      <th>within an hour</th>\n",
       "      <th>t</th>\n",
       "      <th>1.0</th>\n",
       "      <th>3.0</th>\n",
       "      <td>1</td>\n",
       "    </tr>\n",
       "    <tr>\n",
       "      <th>...</th>\n",
       "      <th>...</th>\n",
       "      <th>...</th>\n",
       "      <th>...</th>\n",
       "      <th>...</th>\n",
       "      <th>...</th>\n",
       "      <th>...</th>\n",
       "      <td>...</td>\n",
       "    </tr>\n",
       "    <tr>\n",
       "      <th>503411200</th>\n",
       "      <th>Francesco</th>\n",
       "      <th>2023-03-01</th>\n",
       "      <th>within a few hours</th>\n",
       "      <th>f</th>\n",
       "      <th>1.0</th>\n",
       "      <th>1.0</th>\n",
       "      <td>1</td>\n",
       "    </tr>\n",
       "    <tr>\n",
       "      <th>503414894</th>\n",
       "      <th>Isabella</th>\n",
       "      <th>2023-03-01</th>\n",
       "      <th>within a few hours</th>\n",
       "      <th>f</th>\n",
       "      <th>1.0</th>\n",
       "      <th>1.0</th>\n",
       "      <td>1</td>\n",
       "    </tr>\n",
       "    <tr>\n",
       "      <th>503495188</th>\n",
       "      <th>Nicoleta</th>\n",
       "      <th>2023-03-02</th>\n",
       "      <th>within a day</th>\n",
       "      <th>f</th>\n",
       "      <th>1.0</th>\n",
       "      <th>1.0</th>\n",
       "      <td>1</td>\n",
       "    </tr>\n",
       "    <tr>\n",
       "      <th>503664485</th>\n",
       "      <th>Simone</th>\n",
       "      <th>2023-03-03</th>\n",
       "      <th>within an hour</th>\n",
       "      <th>f</th>\n",
       "      <th>1.0</th>\n",
       "      <th>1.0</th>\n",
       "      <td>1</td>\n",
       "    </tr>\n",
       "    <tr>\n",
       "      <th>503822210</th>\n",
       "      <th>Valerio</th>\n",
       "      <th>2023-03-04</th>\n",
       "      <th>within an hour</th>\n",
       "      <th>f</th>\n",
       "      <th>1.0</th>\n",
       "      <th>1.0</th>\n",
       "      <td>1</td>\n",
       "    </tr>\n",
       "  </tbody>\n",
       "</table>\n",
       "<p>10135 rows × 1 columns</p>\n",
       "</div>"
      ],
      "text/plain": [
       "                                                                                                                   listings\n",
       "host_id   host_name host_since host_response_time host_is_superhost host_listings_count host_total_listings_count          \n",
       "1944      Antonella 2008-08-13 within an hour     f                 8.0                 13.0                              7\n",
       "3047      Elif      2008-09-18 within a few hours f                 7.0                 7.0                               6\n",
       "3504      Laura     2008-10-08 within a few hours t                 5.0                 11.0                              5\n",
       "11756     Gea       2009-03-30 within a few hours f                 1.0                 2.0                               1\n",
       "12456     Valeria   2009-04-06 within an hour     t                 1.0                 3.0                               1\n",
       "...                                                                                                                     ...\n",
       "503411200 Francesco 2023-03-01 within a few hours f                 1.0                 1.0                               1\n",
       "503414894 Isabella  2023-03-01 within a few hours f                 1.0                 1.0                               1\n",
       "503495188 Nicoleta  2023-03-02 within a day       f                 1.0                 1.0                               1\n",
       "503664485 Simone    2023-03-03 within an hour     f                 1.0                 1.0                               1\n",
       "503822210 Valerio   2023-03-04 within an hour     f                 1.0                 1.0                               1\n",
       "\n",
       "[10135 rows x 1 columns]"
      ]
     },
     "execution_count": 43,
     "metadata": {},
     "output_type": "execute_result"
    }
   ],
   "source": [
    "df.groupby(['host_id','host_name','host_since','host_response_time','host_is_superhost','host_listings_count', 'host_total_listings_count']).agg(listings=('id', 'count'))"
   ]
  },
  {
   "cell_type": "code",
   "execution_count": 44,
   "id": "e1c24be8-cf2c-4c16-8323-8686c71d428d",
   "metadata": {
    "tags": []
   },
   "outputs": [
    {
     "data": {
      "text/html": [
       "<div>\n",
       "<style scoped>\n",
       "    .dataframe tbody tr th:only-of-type {\n",
       "        vertical-align: middle;\n",
       "    }\n",
       "\n",
       "    .dataframe tbody tr th {\n",
       "        vertical-align: top;\n",
       "    }\n",
       "\n",
       "    .dataframe thead th {\n",
       "        text-align: right;\n",
       "    }\n",
       "</style>\n",
       "<table border=\"1\" class=\"dataframe\">\n",
       "  <thead>\n",
       "    <tr style=\"text-align: right;\">\n",
       "      <th></th>\n",
       "      <th></th>\n",
       "      <th></th>\n",
       "      <th></th>\n",
       "      <th></th>\n",
       "      <th>listings</th>\n",
       "    </tr>\n",
       "    <tr>\n",
       "      <th>host_id</th>\n",
       "      <th>host_name</th>\n",
       "      <th>host_since</th>\n",
       "      <th>host_is_superhost</th>\n",
       "      <th>calculated_host_listings_count</th>\n",
       "      <th></th>\n",
       "    </tr>\n",
       "  </thead>\n",
       "  <tbody>\n",
       "    <tr>\n",
       "      <th>23532561</th>\n",
       "      <th>IFlat</th>\n",
       "      <th>2014-11-09</th>\n",
       "      <th>f</th>\n",
       "      <th>239</th>\n",
       "      <td>239</td>\n",
       "    </tr>\n",
       "    <tr>\n",
       "      <th>96122546</th>\n",
       "      <th>Welcome To Our Holiday Homes</th>\n",
       "      <th>2016-09-21</th>\n",
       "      <th>f</th>\n",
       "      <th>152</th>\n",
       "      <td>152</td>\n",
       "    </tr>\n",
       "    <tr>\n",
       "      <th>201739458</th>\n",
       "      <th>Your.Rentals</th>\n",
       "      <th>2018-07-12</th>\n",
       "      <th>f</th>\n",
       "      <th>83</th>\n",
       "      <td>83</td>\n",
       "    </tr>\n",
       "    <tr>\n",
       "      <th>63191555</th>\n",
       "      <th>Halldis</th>\n",
       "      <th>2016-03-16</th>\n",
       "      <th>f</th>\n",
       "      <th>70</th>\n",
       "      <td>70</td>\n",
       "    </tr>\n",
       "    <tr>\n",
       "      <th>8973851</th>\n",
       "      <th>Stefano</th>\n",
       "      <th>2013-09-21</th>\n",
       "      <th>f</th>\n",
       "      <th>57</th>\n",
       "      <td>57</td>\n",
       "    </tr>\n",
       "    <tr>\n",
       "      <th>...</th>\n",
       "      <th>...</th>\n",
       "      <th>...</th>\n",
       "      <th>...</th>\n",
       "      <th>...</th>\n",
       "      <td>...</td>\n",
       "    </tr>\n",
       "    <tr>\n",
       "      <th>45031736</th>\n",
       "      <th>Patrizia</th>\n",
       "      <th>2015-09-24</th>\n",
       "      <th>f</th>\n",
       "      <th>1</th>\n",
       "      <td>1</td>\n",
       "    </tr>\n",
       "    <tr>\n",
       "      <th>45046157</th>\n",
       "      <th>Stefania</th>\n",
       "      <th>2015-09-25</th>\n",
       "      <th>f</th>\n",
       "      <th>1</th>\n",
       "      <td>1</td>\n",
       "    </tr>\n",
       "    <tr>\n",
       "      <th>45050619</th>\n",
       "      <th>Lucia</th>\n",
       "      <th>2015-09-25</th>\n",
       "      <th>f</th>\n",
       "      <th>1</th>\n",
       "      <td>1</td>\n",
       "    </tr>\n",
       "    <tr>\n",
       "      <th>45066655</th>\n",
       "      <th>Daniela</th>\n",
       "      <th>2015-09-25</th>\n",
       "      <th>f</th>\n",
       "      <th>1</th>\n",
       "      <td>1</td>\n",
       "    </tr>\n",
       "    <tr>\n",
       "      <th>505209685</th>\n",
       "      <th>Federico</th>\n",
       "      <th>2023-03-13</th>\n",
       "      <th>f</th>\n",
       "      <th>1</th>\n",
       "      <td>1</td>\n",
       "    </tr>\n",
       "  </tbody>\n",
       "</table>\n",
       "<p>12920 rows × 1 columns</p>\n",
       "</div>"
      ],
      "text/plain": [
       "                                                                                                    listings\n",
       "host_id   host_name                    host_since host_is_superhost calculated_host_listings_count          \n",
       "23532561  IFlat                        2014-11-09 f                 239                                  239\n",
       "96122546  Welcome To Our Holiday Homes 2016-09-21 f                 152                                  152\n",
       "201739458 Your.Rentals                 2018-07-12 f                 83                                    83\n",
       "63191555  Halldis                      2016-03-16 f                 70                                    70\n",
       "8973851   Stefano                      2013-09-21 f                 57                                    57\n",
       "...                                                                                                      ...\n",
       "45031736  Patrizia                     2015-09-24 f                 1                                      1\n",
       "45046157  Stefania                     2015-09-25 f                 1                                      1\n",
       "45050619  Lucia                        2015-09-25 f                 1                                      1\n",
       "45066655  Daniela                      2015-09-25 f                 1                                      1\n",
       "505209685 Federico                     2023-03-13 f                 1                                      1\n",
       "\n",
       "[12920 rows x 1 columns]"
      ]
     },
     "execution_count": 44,
     "metadata": {},
     "output_type": "execute_result"
    }
   ],
   "source": [
    "df.groupby(['host_id','host_name','host_since','host_is_superhost','calculated_host_listings_count']).agg(listings=('id', 'count')).sort_values(by = 'listings', ascending = False)"
   ]
  },
  {
   "cell_type": "markdown",
   "id": "9578085b-b41b-4d3b-9601-b80b0a7da768",
   "metadata": {},
   "source": [
    "#### Replace string values with numeric in host_response_time"
   ]
  },
  {
   "cell_type": "code",
   "execution_count": 45,
   "id": "c9d46148-1fb9-40a0-801d-42fb9e957775",
   "metadata": {
    "tags": []
   },
   "outputs": [
    {
     "data": {
      "text/plain": [
       "4"
      ]
     },
     "execution_count": 45,
     "metadata": {},
     "output_type": "execute_result"
    }
   ],
   "source": [
    "df['host_response_time'].nunique()"
   ]
  },
  {
   "cell_type": "code",
   "execution_count": 46,
   "id": "be403f0f-9635-42df-aaef-2c22c6de574e",
   "metadata": {
    "tags": []
   },
   "outputs": [
    {
     "data": {
      "text/plain": [
       "array(['within an hour', 'within a few hours', 'within a day', nan,\n",
       "       'a few days or more'], dtype=object)"
      ]
     },
     "execution_count": 46,
     "metadata": {},
     "output_type": "execute_result"
    }
   ],
   "source": [
    "df['host_response_time'].unique()"
   ]
  },
  {
   "cell_type": "code",
   "execution_count": 47,
   "id": "2ca2c097-b166-4389-ab44-1d81431c0609",
   "metadata": {
    "tags": []
   },
   "outputs": [],
   "source": [
    "df.loc[df['host_response_time'] == 'within an hour', 'host_response_time'] = 1\n"
   ]
  },
  {
   "cell_type": "code",
   "execution_count": 48,
   "id": "afaf4e1d-c990-4731-a197-5b5762bb2b25",
   "metadata": {
    "tags": []
   },
   "outputs": [],
   "source": [
    "df.loc[df['host_response_time'] == 'within a few hours', 'host_response_time'] = 2"
   ]
  },
  {
   "cell_type": "code",
   "execution_count": 49,
   "id": "7e422b10-544f-4d95-9e46-8d851353fab2",
   "metadata": {
    "tags": []
   },
   "outputs": [],
   "source": [
    "df.loc[df['host_response_time'] == 'within a day', 'host_response_time'] = 3"
   ]
  },
  {
   "cell_type": "code",
   "execution_count": 50,
   "id": "f18a8819-ab65-4dcd-a4a3-074e9546402b",
   "metadata": {
    "tags": []
   },
   "outputs": [],
   "source": [
    "df.loc[df['host_response_time'] == 'a few days or more', 'host_response_time'] = 4"
   ]
  },
  {
   "cell_type": "code",
   "execution_count": 51,
   "id": "b114110f-a386-4f3d-ac0c-72253f7542f3",
   "metadata": {
    "tags": []
   },
   "outputs": [
    {
     "data": {
      "text/plain": [
       "array([1, 2, 3, nan, 4], dtype=object)"
      ]
     },
     "execution_count": 51,
     "metadata": {},
     "output_type": "execute_result"
    }
   ],
   "source": [
    "df['host_response_time'].unique()"
   ]
  },
  {
   "cell_type": "code",
   "execution_count": 52,
   "id": "f0faa7c3-dd10-47d8-a9cd-97a0b84de61b",
   "metadata": {
    "tags": []
   },
   "outputs": [
    {
     "data": {
      "text/html": [
       "<div>\n",
       "<style scoped>\n",
       "    .dataframe tbody tr th:only-of-type {\n",
       "        vertical-align: middle;\n",
       "    }\n",
       "\n",
       "    .dataframe tbody tr th {\n",
       "        vertical-align: top;\n",
       "    }\n",
       "\n",
       "    .dataframe thead th {\n",
       "        text-align: right;\n",
       "    }\n",
       "</style>\n",
       "<table border=\"1\" class=\"dataframe\">\n",
       "  <thead>\n",
       "    <tr style=\"text-align: right;\">\n",
       "      <th></th>\n",
       "      <th></th>\n",
       "      <th></th>\n",
       "      <th></th>\n",
       "      <th></th>\n",
       "      <th></th>\n",
       "      <th>listings</th>\n",
       "      <th>response_time</th>\n",
       "    </tr>\n",
       "    <tr>\n",
       "      <th>host_id</th>\n",
       "      <th>host_name</th>\n",
       "      <th>host_since</th>\n",
       "      <th>host_is_superhost</th>\n",
       "      <th>calculated_host_listings_count</th>\n",
       "      <th>host_response_time</th>\n",
       "      <th></th>\n",
       "      <th></th>\n",
       "    </tr>\n",
       "  </thead>\n",
       "  <tbody>\n",
       "    <tr>\n",
       "      <th>23532561</th>\n",
       "      <th>IFlat</th>\n",
       "      <th>2014-11-09</th>\n",
       "      <th>f</th>\n",
       "      <th>239</th>\n",
       "      <th>1</th>\n",
       "      <td>239</td>\n",
       "      <td>1.0</td>\n",
       "    </tr>\n",
       "    <tr>\n",
       "      <th>96122546</th>\n",
       "      <th>Welcome To Our Holiday Homes</th>\n",
       "      <th>2016-09-21</th>\n",
       "      <th>f</th>\n",
       "      <th>152</th>\n",
       "      <th>1</th>\n",
       "      <td>152</td>\n",
       "      <td>1.0</td>\n",
       "    </tr>\n",
       "    <tr>\n",
       "      <th>201739458</th>\n",
       "      <th>Your.Rentals</th>\n",
       "      <th>2018-07-12</th>\n",
       "      <th>f</th>\n",
       "      <th>83</th>\n",
       "      <th>2</th>\n",
       "      <td>83</td>\n",
       "      <td>2.0</td>\n",
       "    </tr>\n",
       "    <tr>\n",
       "      <th>63191555</th>\n",
       "      <th>Halldis</th>\n",
       "      <th>2016-03-16</th>\n",
       "      <th>f</th>\n",
       "      <th>70</th>\n",
       "      <th>1</th>\n",
       "      <td>70</td>\n",
       "      <td>1.0</td>\n",
       "    </tr>\n",
       "    <tr>\n",
       "      <th>8973851</th>\n",
       "      <th>Stefano</th>\n",
       "      <th>2013-09-21</th>\n",
       "      <th>f</th>\n",
       "      <th>57</th>\n",
       "      <th>1</th>\n",
       "      <td>57</td>\n",
       "      <td>1.0</td>\n",
       "    </tr>\n",
       "    <tr>\n",
       "      <th>...</th>\n",
       "      <th>...</th>\n",
       "      <th>...</th>\n",
       "      <th>...</th>\n",
       "      <th>...</th>\n",
       "      <th>...</th>\n",
       "      <td>...</td>\n",
       "      <td>...</td>\n",
       "    </tr>\n",
       "    <tr>\n",
       "      <th>46070999</th>\n",
       "      <th>Giacomo</th>\n",
       "      <th>2015-10-08</th>\n",
       "      <th>t</th>\n",
       "      <th>1</th>\n",
       "      <th>2</th>\n",
       "      <td>1</td>\n",
       "      <td>2.0</td>\n",
       "    </tr>\n",
       "    <tr>\n",
       "      <th>46004256</th>\n",
       "      <th>Gianluca</th>\n",
       "      <th>2015-10-07</th>\n",
       "      <th>t</th>\n",
       "      <th>1</th>\n",
       "      <th>1</th>\n",
       "      <td>1</td>\n",
       "      <td>1.0</td>\n",
       "    </tr>\n",
       "    <tr>\n",
       "      <th>46003024</th>\n",
       "      <th>Antonello</th>\n",
       "      <th>2015-10-07</th>\n",
       "      <th>f</th>\n",
       "      <th>1</th>\n",
       "      <th>1</th>\n",
       "      <td>1</td>\n",
       "      <td>1.0</td>\n",
       "    </tr>\n",
       "    <tr>\n",
       "      <th>45999984</th>\n",
       "      <th>Lorenzo</th>\n",
       "      <th>2015-10-07</th>\n",
       "      <th>t</th>\n",
       "      <th>1</th>\n",
       "      <th>2</th>\n",
       "      <td>1</td>\n",
       "      <td>2.0</td>\n",
       "    </tr>\n",
       "    <tr>\n",
       "      <th>503822210</th>\n",
       "      <th>Valerio</th>\n",
       "      <th>2023-03-04</th>\n",
       "      <th>f</th>\n",
       "      <th>1</th>\n",
       "      <th>1</th>\n",
       "      <td>1</td>\n",
       "      <td>1.0</td>\n",
       "    </tr>\n",
       "  </tbody>\n",
       "</table>\n",
       "<p>10135 rows × 2 columns</p>\n",
       "</div>"
      ],
      "text/plain": [
       "                                                                                                                       listings   \n",
       "host_id   host_name                    host_since host_is_superhost calculated_host_listings_count host_response_time             \n",
       "23532561  IFlat                        2014-11-09 f                 239                            1                        239  \\\n",
       "96122546  Welcome To Our Holiday Homes 2016-09-21 f                 152                            1                        152   \n",
       "201739458 Your.Rentals                 2018-07-12 f                 83                             2                         83   \n",
       "63191555  Halldis                      2016-03-16 f                 70                             1                         70   \n",
       "8973851   Stefano                      2013-09-21 f                 57                             1                         57   \n",
       "...                                                                                                                         ...   \n",
       "46070999  Giacomo                      2015-10-08 t                 1                              2                          1   \n",
       "46004256  Gianluca                     2015-10-07 t                 1                              1                          1   \n",
       "46003024  Antonello                    2015-10-07 f                 1                              1                          1   \n",
       "45999984  Lorenzo                      2015-10-07 t                 1                              2                          1   \n",
       "503822210 Valerio                      2023-03-04 f                 1                              1                          1   \n",
       "\n",
       "                                                                                                                      response_time  \n",
       "host_id   host_name                    host_since host_is_superhost calculated_host_listings_count host_response_time                \n",
       "23532561  IFlat                        2014-11-09 f                 239                            1                            1.0  \n",
       "96122546  Welcome To Our Holiday Homes 2016-09-21 f                 152                            1                            1.0  \n",
       "201739458 Your.Rentals                 2018-07-12 f                 83                             2                            2.0  \n",
       "63191555  Halldis                      2016-03-16 f                 70                             1                            1.0  \n",
       "8973851   Stefano                      2013-09-21 f                 57                             1                            1.0  \n",
       "...                                                                                                                             ...  \n",
       "46070999  Giacomo                      2015-10-08 t                 1                              2                            2.0  \n",
       "46004256  Gianluca                     2015-10-07 t                 1                              1                            1.0  \n",
       "46003024  Antonello                    2015-10-07 f                 1                              1                            1.0  \n",
       "45999984  Lorenzo                      2015-10-07 t                 1                              2                            2.0  \n",
       "503822210 Valerio                      2023-03-04 f                 1                              1                            1.0  \n",
       "\n",
       "[10135 rows x 2 columns]"
      ]
     },
     "execution_count": 52,
     "metadata": {},
     "output_type": "execute_result"
    }
   ],
   "source": [
    "df.groupby(['host_id','host_name','host_since','host_is_superhost','calculated_host_listings_count', 'host_response_time']).agg(listings=('id', 'count'),response_time=('host_response_time', 'mean')).sort_values(by = 'listings', ascending = False)"
   ]
  },
  {
   "cell_type": "markdown",
   "id": "f85c5bbc-079a-4e1e-9c8a-88c02c1b270e",
   "metadata": {},
   "source": [
    "#### Adding variable host_type\n",
    "**1: 1 listing**\n",
    "**2: 2 listings**\n",
    "**3: 3 listings**\n",
    "**4: less/or equal than 10 listings**\n",
    "**-5: more than 10 listings**\n"
   ]
  },
  {
   "cell_type": "code",
   "execution_count": 53,
   "id": "306621ec-bcc8-4bf2-8e43-27ae9c7e4110",
   "metadata": {
    "tags": []
   },
   "outputs": [
    {
     "data": {
      "text/plain": [
       "array([  1,   5,   2,   6,   9,  13,   3,   8,   4,  10,  21,  12,  14,\n",
       "        23,   7,  47,  48,  18,  17,  52,  11,  15,  20,  28,  34,  25,\n",
       "       239,  57,  16,  36,  22,  43,  49,  19,  33,  39,  31, 152,  42,\n",
       "        27,  29,  45,  83,  26,  70])"
      ]
     },
     "execution_count": 53,
     "metadata": {},
     "output_type": "execute_result"
    }
   ],
   "source": [
    "df['calculated_host_listings_count'].unique()"
   ]
  },
  {
   "cell_type": "code",
   "execution_count": 54,
   "id": "a45fff5a-432d-46ee-a47a-c6f8dd07b3b2",
   "metadata": {
    "tags": []
   },
   "outputs": [],
   "source": [
    "df.loc[df['calculated_host_listings_count'] == 1, 'host_type'] = 1\n"
   ]
  },
  {
   "cell_type": "code",
   "execution_count": 55,
   "id": "ecef1095-195c-4d02-9ab3-6c70f9a39f17",
   "metadata": {
    "tags": []
   },
   "outputs": [],
   "source": [
    "df.loc[df['calculated_host_listings_count'] == 2, 'host_type'] = 2"
   ]
  },
  {
   "cell_type": "code",
   "execution_count": 56,
   "id": "bf790f2e-a0d2-45c2-a6f9-d39e5b9356dd",
   "metadata": {
    "tags": []
   },
   "outputs": [],
   "source": [
    "df.loc[df['calculated_host_listings_count'] == 3, 'host_type'] = 3"
   ]
  },
  {
   "cell_type": "code",
   "execution_count": 57,
   "id": "331927ec-8871-4667-af7a-896fdf626aa5",
   "metadata": {
    "tags": []
   },
   "outputs": [],
   "source": [
    "df.loc[(df['calculated_host_listings_count'] > 3) & (df['calculated_host_listings_count'] < 11), 'host_type'] = 4"
   ]
  },
  {
   "cell_type": "code",
   "execution_count": 58,
   "id": "1c5b894e-1c5d-4436-a33e-4e504252ca90",
   "metadata": {
    "tags": []
   },
   "outputs": [],
   "source": [
    "df.loc[(df['calculated_host_listings_count'] > 10) & (df['calculated_host_listings_count'] < 250), 'host_type'] = 5"
   ]
  },
  {
   "cell_type": "code",
   "execution_count": 59,
   "id": "09f99ab1-1bc5-4219-bb28-22e09a525d0d",
   "metadata": {
    "tags": []
   },
   "outputs": [
    {
     "data": {
      "text/plain": [
       "array([1., 4., 2., 5., 3.])"
      ]
     },
     "execution_count": 59,
     "metadata": {},
     "output_type": "execute_result"
    }
   ],
   "source": [
    "df['host_type'].unique()"
   ]
  },
  {
   "cell_type": "code",
   "execution_count": 60,
   "id": "1dc390d0-5ec5-4ddd-908e-ae612f70c4db",
   "metadata": {
    "tags": []
   },
   "outputs": [
    {
     "data": {
      "text/html": [
       "<div>\n",
       "<style scoped>\n",
       "    .dataframe tbody tr th:only-of-type {\n",
       "        vertical-align: middle;\n",
       "    }\n",
       "\n",
       "    .dataframe tbody tr th {\n",
       "        vertical-align: top;\n",
       "    }\n",
       "\n",
       "    .dataframe thead th {\n",
       "        text-align: right;\n",
       "    }\n",
       "</style>\n",
       "<table border=\"1\" class=\"dataframe\">\n",
       "  <thead>\n",
       "    <tr style=\"text-align: right;\">\n",
       "      <th></th>\n",
       "      <th></th>\n",
       "      <th></th>\n",
       "      <th></th>\n",
       "      <th></th>\n",
       "      <th></th>\n",
       "      <th>listings</th>\n",
       "      <th>response_time</th>\n",
       "    </tr>\n",
       "    <tr>\n",
       "      <th>host_id</th>\n",
       "      <th>host_name</th>\n",
       "      <th>host_is_superhost</th>\n",
       "      <th>calculated_host_listings_count</th>\n",
       "      <th>host_type</th>\n",
       "      <th>host_response_time</th>\n",
       "      <th></th>\n",
       "      <th></th>\n",
       "    </tr>\n",
       "  </thead>\n",
       "  <tbody>\n",
       "    <tr>\n",
       "      <th>23532561</th>\n",
       "      <th>IFlat</th>\n",
       "      <th>f</th>\n",
       "      <th>239</th>\n",
       "      <th>5.0</th>\n",
       "      <th>1</th>\n",
       "      <td>239</td>\n",
       "      <td>1.0</td>\n",
       "    </tr>\n",
       "    <tr>\n",
       "      <th>96122546</th>\n",
       "      <th>Welcome To Our Holiday Homes</th>\n",
       "      <th>f</th>\n",
       "      <th>152</th>\n",
       "      <th>5.0</th>\n",
       "      <th>1</th>\n",
       "      <td>152</td>\n",
       "      <td>1.0</td>\n",
       "    </tr>\n",
       "    <tr>\n",
       "      <th>201739458</th>\n",
       "      <th>Your.Rentals</th>\n",
       "      <th>f</th>\n",
       "      <th>83</th>\n",
       "      <th>5.0</th>\n",
       "      <th>2</th>\n",
       "      <td>83</td>\n",
       "      <td>2.0</td>\n",
       "    </tr>\n",
       "    <tr>\n",
       "      <th>63191555</th>\n",
       "      <th>Halldis</th>\n",
       "      <th>f</th>\n",
       "      <th>70</th>\n",
       "      <th>5.0</th>\n",
       "      <th>1</th>\n",
       "      <td>70</td>\n",
       "      <td>1.0</td>\n",
       "    </tr>\n",
       "    <tr>\n",
       "      <th>8973851</th>\n",
       "      <th>Stefano</th>\n",
       "      <th>f</th>\n",
       "      <th>57</th>\n",
       "      <th>5.0</th>\n",
       "      <th>1</th>\n",
       "      <td>57</td>\n",
       "      <td>1.0</td>\n",
       "    </tr>\n",
       "    <tr>\n",
       "      <th>...</th>\n",
       "      <th>...</th>\n",
       "      <th>...</th>\n",
       "      <th>...</th>\n",
       "      <th>...</th>\n",
       "      <th>...</th>\n",
       "      <td>...</td>\n",
       "      <td>...</td>\n",
       "    </tr>\n",
       "    <tr>\n",
       "      <th>46070999</th>\n",
       "      <th>Giacomo</th>\n",
       "      <th>t</th>\n",
       "      <th>1</th>\n",
       "      <th>1.0</th>\n",
       "      <th>2</th>\n",
       "      <td>1</td>\n",
       "      <td>2.0</td>\n",
       "    </tr>\n",
       "    <tr>\n",
       "      <th>46004256</th>\n",
       "      <th>Gianluca</th>\n",
       "      <th>t</th>\n",
       "      <th>1</th>\n",
       "      <th>1.0</th>\n",
       "      <th>1</th>\n",
       "      <td>1</td>\n",
       "      <td>1.0</td>\n",
       "    </tr>\n",
       "    <tr>\n",
       "      <th>46003024</th>\n",
       "      <th>Antonello</th>\n",
       "      <th>f</th>\n",
       "      <th>1</th>\n",
       "      <th>1.0</th>\n",
       "      <th>1</th>\n",
       "      <td>1</td>\n",
       "      <td>1.0</td>\n",
       "    </tr>\n",
       "    <tr>\n",
       "      <th>45999984</th>\n",
       "      <th>Lorenzo</th>\n",
       "      <th>t</th>\n",
       "      <th>1</th>\n",
       "      <th>1.0</th>\n",
       "      <th>2</th>\n",
       "      <td>1</td>\n",
       "      <td>2.0</td>\n",
       "    </tr>\n",
       "    <tr>\n",
       "      <th>503822210</th>\n",
       "      <th>Valerio</th>\n",
       "      <th>f</th>\n",
       "      <th>1</th>\n",
       "      <th>1.0</th>\n",
       "      <th>1</th>\n",
       "      <td>1</td>\n",
       "      <td>1.0</td>\n",
       "    </tr>\n",
       "  </tbody>\n",
       "</table>\n",
       "<p>10135 rows × 2 columns</p>\n",
       "</div>"
      ],
      "text/plain": [
       "                                                                                                                      listings   \n",
       "host_id   host_name                    host_is_superhost calculated_host_listings_count host_type host_response_time             \n",
       "23532561  IFlat                        f                 239                            5.0       1                        239  \\\n",
       "96122546  Welcome To Our Holiday Homes f                 152                            5.0       1                        152   \n",
       "201739458 Your.Rentals                 f                 83                             5.0       2                         83   \n",
       "63191555  Halldis                      f                 70                             5.0       1                         70   \n",
       "8973851   Stefano                      f                 57                             5.0       1                         57   \n",
       "...                                                                                                                        ...   \n",
       "46070999  Giacomo                      t                 1                              1.0       2                          1   \n",
       "46004256  Gianluca                     t                 1                              1.0       1                          1   \n",
       "46003024  Antonello                    f                 1                              1.0       1                          1   \n",
       "45999984  Lorenzo                      t                 1                              1.0       2                          1   \n",
       "503822210 Valerio                      f                 1                              1.0       1                          1   \n",
       "\n",
       "                                                                                                                     response_time  \n",
       "host_id   host_name                    host_is_superhost calculated_host_listings_count host_type host_response_time                \n",
       "23532561  IFlat                        f                 239                            5.0       1                            1.0  \n",
       "96122546  Welcome To Our Holiday Homes f                 152                            5.0       1                            1.0  \n",
       "201739458 Your.Rentals                 f                 83                             5.0       2                            2.0  \n",
       "63191555  Halldis                      f                 70                             5.0       1                            1.0  \n",
       "8973851   Stefano                      f                 57                             5.0       1                            1.0  \n",
       "...                                                                                                                            ...  \n",
       "46070999  Giacomo                      t                 1                              1.0       2                            2.0  \n",
       "46004256  Gianluca                     t                 1                              1.0       1                            1.0  \n",
       "46003024  Antonello                    f                 1                              1.0       1                            1.0  \n",
       "45999984  Lorenzo                      t                 1                              1.0       2                            2.0  \n",
       "503822210 Valerio                      f                 1                              1.0       1                            1.0  \n",
       "\n",
       "[10135 rows x 2 columns]"
      ]
     },
     "execution_count": 60,
     "metadata": {},
     "output_type": "execute_result"
    }
   ],
   "source": [
    "df.groupby(['host_id','host_name','host_is_superhost','calculated_host_listings_count', 'host_type', 'host_response_time']).agg(listings=('host_type', 'count'),response_time=('host_response_time', 'mean')).sort_values(by = 'listings', ascending = False)\n"
   ]
  },
  {
   "cell_type": "markdown",
   "id": "c11fd434-3384-48e8-ba81-adfb986b6117",
   "metadata": {},
   "source": [
    "#### Large hosts (having more than 10 listings) response time"
   ]
  },
  {
   "cell_type": "code",
   "execution_count": 61,
   "id": "54220dd6-8217-4254-aa3d-cd2d29f111dd",
   "metadata": {
    "tags": []
   },
   "outputs": [],
   "source": [
    "df_bighosts = df.query('host_type == 5')"
   ]
  },
  {
   "cell_type": "code",
   "execution_count": 62,
   "id": "3fefc830-ec1c-410c-9dd1-2dd622b0ed6e",
   "metadata": {
    "tags": []
   },
   "outputs": [
    {
     "data": {
      "text/plain": [
       "3419"
      ]
     },
     "execution_count": 62,
     "metadata": {},
     "output_type": "execute_result"
    }
   ],
   "source": [
    "df_bighosts.host_name.count()"
   ]
  },
  {
   "cell_type": "code",
   "execution_count": 63,
   "id": "0d74927e-2b53-4862-bca7-c2eedcfacd6f",
   "metadata": {
    "tags": []
   },
   "outputs": [
    {
     "data": {
      "text/plain": [
       "<Axes: >"
      ]
     },
     "execution_count": 63,
     "metadata": {},
     "output_type": "execute_result"
    },
    {
     "data": {
      "image/png": "[encoded data removed]",
      "text/plain": [
       "<Figure size 640x480 with 1 Axes>"
      ]
     },
     "metadata": {},
     "output_type": "display_data"
    }
   ],
   "source": [
    "df_bighosts.host_response_time.hist()"
   ]
  },
  {
   "cell_type": "code",
   "execution_count": 64,
   "id": "f2108f37-563c-4aec-8347-357c471a4be9",
   "metadata": {
    "tags": []
   },
   "outputs": [
    {
     "data": {
      "text/plain": [
       "2940"
      ]
     },
     "execution_count": 64,
     "metadata": {},
     "output_type": "execute_result"
    }
   ],
   "source": [
    "df_bighosts.loc[df_bighosts['host_response_time'] == 1].host_name.count()"
   ]
  },
  {
   "cell_type": "code",
   "execution_count": 65,
   "id": "42bc17d2-da44-4aca-9462-a3fa94c0fd06",
   "metadata": {
    "tags": []
   },
   "outputs": [
    {
     "data": {
      "text/plain": [
       "289"
      ]
     },
     "execution_count": 65,
     "metadata": {},
     "output_type": "execute_result"
    }
   ],
   "source": [
    "df_bighosts.loc[df_bighosts['host_response_time'] == 2].host_name.count()"
   ]
  },
  {
   "cell_type": "code",
   "execution_count": 66,
   "id": "e2c6a489-a2bf-46ff-b4c0-51bc0df92d15",
   "metadata": {
    "tags": []
   },
   "outputs": [
    {
     "data": {
      "text/plain": [
       "74"
      ]
     },
     "execution_count": 66,
     "metadata": {},
     "output_type": "execute_result"
    }
   ],
   "source": [
    "df_bighosts.loc[df_bighosts['host_response_time'] == 3].host_name.count()"
   ]
  },
  {
   "cell_type": "code",
   "execution_count": 67,
   "id": "577d20a1-b9a2-49f2-a100-f29cb1f3b65e",
   "metadata": {
    "tags": []
   },
   "outputs": [
    {
     "data": {
      "text/plain": [
       "60"
      ]
     },
     "execution_count": 67,
     "metadata": {},
     "output_type": "execute_result"
    }
   ],
   "source": [
    "df_bighosts.loc[df_bighosts['host_response_time'] == 4].host_name.count()"
   ]
  },
  {
   "cell_type": "code",
   "execution_count": 68,
   "id": "ad1850e8-2c03-4e7e-8a9f-7a82b6553e7c",
   "metadata": {
    "tags": []
   },
   "outputs": [
    {
     "data": {
      "text/plain": [
       "56"
      ]
     },
     "execution_count": 68,
     "metadata": {},
     "output_type": "execute_result"
    }
   ],
   "source": [
    "\n",
    "df_bighosts['host_response_time'].isnull().sum()"
   ]
  },
  {
   "cell_type": "code",
   "execution_count": 69,
   "id": "222b9032-90cf-43ca-82fb-17fe1d35e18b",
   "metadata": {
    "tags": []
   },
   "outputs": [
    {
     "data": {
      "text/plain": [
       "array([1, 2, 3, nan, 4], dtype=object)"
      ]
     },
     "execution_count": 69,
     "metadata": {},
     "output_type": "execute_result"
    }
   ],
   "source": [
    "df_bighosts['host_response_time'].unique()"
   ]
  },
  {
   "cell_type": "code",
   "execution_count": 70,
   "id": "505f1840-94d8-4ac7-9d60-9b4f31cba5d7",
   "metadata": {
    "tags": []
   },
   "outputs": [
    {
     "data": {
      "image/png": "[encoded data removed]",
      "text/plain": [
       "<Figure size 640x480 with 1 Axes>"
      ]
     },
     "metadata": {},
     "output_type": "display_data"
    }
   ],
   "source": [
    "y = np.array([2940, 289, 74, 60, 56])\n",
    "mylabels = ['within an hour', 'within few hours', 'within a day', 'a few days or more', 'nan']\n",
    "\n",
    "\n",
    "mycolors = [\"slategrey\", \"gainsboro\", \"red\", \"blue\", 'green']\n",
    "myexplode = [0.2, 0, 0, 0, 0]\n",
    "\n",
    "plt.pie(y, labels = mylabels, colors= mycolors, autopct = '%1.1f%%', explode = myexplode, startangle = 90)\n",
    "plt.title(\"Reply time of the hosts\")\n",
    "plt.show() "
   ]
  },
  {
   "cell_type": "markdown",
   "id": "c3785bd8-1936-4b54-b80a-977109da6d6f",
   "metadata": {},
   "source": [
    "86 % of the corporate hosts replied within an hour."
   ]
  },
  {
   "cell_type": "markdown",
   "id": "85baac2d-b1fc-4a75-b922-f8b744ff9e5d",
   "metadata": {},
   "source": [
    "#### Small hosts (single listing) response time"
   ]
  },
  {
   "cell_type": "code",
   "execution_count": 71,
   "id": "58b2caf3-281b-4746-84d2-34ca7800afae",
   "metadata": {
    "tags": []
   },
   "outputs": [],
   "source": [
    "df_singlehosts = df.query('host_type == 1')"
   ]
  },
  {
   "cell_type": "code",
   "execution_count": 72,
   "id": "86a21069-e674-43dd-821b-41bfa21d2265",
   "metadata": {
    "tags": []
   },
   "outputs": [
    {
     "data": {
      "text/plain": [
       "9005"
      ]
     },
     "execution_count": 72,
     "metadata": {},
     "output_type": "execute_result"
    }
   ],
   "source": [
    "df_singlehosts.host_name.count()"
   ]
  },
  {
   "cell_type": "code",
   "execution_count": 73,
   "id": "b6a39310-9112-4116-a298-2c03ad6f9d34",
   "metadata": {
    "tags": []
   },
   "outputs": [
    {
     "data": {
      "text/plain": [
       "<Axes: >"
      ]
     },
     "execution_count": 73,
     "metadata": {},
     "output_type": "execute_result"
    },
    {
     "data": {
      "image/png": "[encoded data removed]",
      "text/plain": [
       "<Figure size 640x480 with 1 Axes>"
      ]
     },
     "metadata": {},
     "output_type": "display_data"
    }
   ],
   "source": [
    "df_singlehosts.host_response_time.hist()"
   ]
  },
  {
   "cell_type": "code",
   "execution_count": 74,
   "id": "de917fcb-4814-48a7-b5d6-b1ca3b997484",
   "metadata": {
    "tags": []
   },
   "outputs": [
    {
     "data": {
      "text/plain": [
       "4776"
      ]
     },
     "execution_count": 74,
     "metadata": {},
     "output_type": "execute_result"
    }
   ],
   "source": [
    "df_singlehosts.loc[df_singlehosts['host_response_time'] == 1].host_name.count()"
   ]
  },
  {
   "cell_type": "code",
   "execution_count": 75,
   "id": "61b8beb7-e6dd-4c2a-81c8-166a2f20b975",
   "metadata": {
    "tags": []
   },
   "outputs": [
    {
     "data": {
      "text/plain": [
       "1011"
      ]
     },
     "execution_count": 75,
     "metadata": {},
     "output_type": "execute_result"
    }
   ],
   "source": [
    "df_singlehosts.loc[df_singlehosts['host_response_time'] == 2].host_name.count()"
   ]
  },
  {
   "cell_type": "code",
   "execution_count": 76,
   "id": "4f12fdce-3dfb-4725-842b-7ccf74fe31ea",
   "metadata": {
    "tags": []
   },
   "outputs": [
    {
     "data": {
      "text/plain": [
       "690"
      ]
     },
     "execution_count": 76,
     "metadata": {},
     "output_type": "execute_result"
    }
   ],
   "source": [
    "df_singlehosts.loc[df_singlehosts['host_response_time'] == 3].host_name.count()"
   ]
  },
  {
   "cell_type": "code",
   "execution_count": 77,
   "id": "1dbb085c-d76e-41bf-b17c-300301c63aeb",
   "metadata": {
    "tags": []
   },
   "outputs": [
    {
     "data": {
      "text/plain": [
       "206"
      ]
     },
     "execution_count": 77,
     "metadata": {},
     "output_type": "execute_result"
    }
   ],
   "source": [
    "df_singlehosts.loc[df_singlehosts['host_response_time'] == 4].host_name.count()"
   ]
  },
  {
   "cell_type": "code",
   "execution_count": 78,
   "id": "0532e5a5-1cc4-47df-80df-108c0e208dba",
   "metadata": {
    "tags": []
   },
   "outputs": [
    {
     "data": {
      "text/plain": [
       "2324"
      ]
     },
     "execution_count": 78,
     "metadata": {},
     "output_type": "execute_result"
    }
   ],
   "source": [
    "df_singlehosts['host_response_time'].isnull().sum()"
   ]
  },
  {
   "cell_type": "code",
   "execution_count": 79,
   "id": "068e99fd-f96b-4d6a-a193-668ed2cf5c47",
   "metadata": {
    "tags": []
   },
   "outputs": [
    {
     "data": {
      "image/png": "[encoded data removed]",
      "text/plain": [
       "<Figure size 640x480 with 1 Axes>"
      ]
     },
     "metadata": {},
     "output_type": "display_data"
    }
   ],
   "source": [
    "y = np.array([4776, 1011, 690, 206, 2324])\n",
    "mylabels = ['within an hour', 'within few hours', 'within a day', 'a few days or more', 'nan']\n",
    "\n",
    "\n",
    "mycolors = [\"slategrey\", \"gainsboro\", \"red\", \"blue\", 'green']\n",
    "myexplode = [0.2, 0, 0, 0, 0]\n",
    "\n",
    "plt.pie(y, labels = mylabels, colors= mycolors, autopct = '%1.1f%%', explode = myexplode, startangle = 90)\n",
    "plt.title(\"Reply time of the hosts\")\n",
    "plt.show() "
   ]
  },
  {
   "cell_type": "markdown",
   "id": "4f4c4773-8924-409b-90c8-3751018ce9bc",
   "metadata": {},
   "source": [
    "More than half of the hosts with one apartment replying within an hour"
   ]
  },
  {
   "cell_type": "markdown",
   "id": "906e4b75-976c-47b8-803b-a5d21f9558f8",
   "metadata": {},
   "source": [
    "#### Small hosts (2 listing) response time"
   ]
  },
  {
   "cell_type": "code",
   "execution_count": 80,
   "id": "96a226bb-88d6-408e-9e5c-1d44b4b1c5a3",
   "metadata": {
    "tags": []
   },
   "outputs": [],
   "source": [
    "df_doublehosts = df.query('host_type == 2')"
   ]
  },
  {
   "cell_type": "code",
   "execution_count": 81,
   "id": "981c3559-a166-428c-98cb-71d857e92274",
   "metadata": {
    "tags": []
   },
   "outputs": [
    {
     "data": {
      "text/plain": [
       "3390"
      ]
     },
     "execution_count": 81,
     "metadata": {},
     "output_type": "execute_result"
    }
   ],
   "source": [
    "df_doublehosts.host_name.count()"
   ]
  },
  {
   "cell_type": "code",
   "execution_count": 82,
   "id": "27a00fcb-5a05-40d9-92ac-8d6190dd6bab",
   "metadata": {
    "tags": []
   },
   "outputs": [
    {
     "data": {
      "text/plain": [
       "<Axes: >"
      ]
     },
     "execution_count": 82,
     "metadata": {},
     "output_type": "execute_result"
    },
    {
     "data": {
      "image/png": "[encoded data removed]",
      "text/plain": [
       "<Figure size 640x480 with 1 Axes>"
      ]
     },
     "metadata": {},
     "output_type": "display_data"
    }
   ],
   "source": [
    "df_doublehosts.host_response_time.hist()"
   ]
  },
  {
   "cell_type": "markdown",
   "id": "c5faf21f-8e4a-4cdb-b18b-778a8bb8e7e7",
   "metadata": {},
   "source": [
    "#### Middle hosts (3 listings) response time"
   ]
  },
  {
   "cell_type": "code",
   "execution_count": 83,
   "id": "94e62c41-1749-425b-a240-2324128fb65e",
   "metadata": {
    "tags": []
   },
   "outputs": [],
   "source": [
    "df_triplehosts = df.query('host_type == 3')"
   ]
  },
  {
   "cell_type": "code",
   "execution_count": 84,
   "id": "b757af15-b13c-4a85-b5a2-55af1bbc2658",
   "metadata": {
    "tags": []
   },
   "outputs": [
    {
     "data": {
      "text/plain": [
       "2631"
      ]
     },
     "execution_count": 84,
     "metadata": {},
     "output_type": "execute_result"
    }
   ],
   "source": [
    "df_triplehosts.host_name.count()"
   ]
  },
  {
   "cell_type": "code",
   "execution_count": 85,
   "id": "3c4221a1-00f9-4b65-b4be-8dcba03ea00e",
   "metadata": {
    "tags": []
   },
   "outputs": [
    {
     "data": {
      "text/plain": [
       "<Axes: >"
      ]
     },
     "execution_count": 85,
     "metadata": {},
     "output_type": "execute_result"
    },
    {
     "data": {
      "image/png": "[encoded data removed]",
      "text/plain": [
       "<Figure size 640x480 with 1 Axes>"
      ]
     },
     "metadata": {},
     "output_type": "display_data"
    }
   ],
   "source": [
    "df_triplehosts.host_response_time.hist()"
   ]
  },
  {
   "cell_type": "markdown",
   "id": "b46b23a5-a7d0-4fd6-aea9-2eab5482cc38",
   "metadata": {},
   "source": [
    "#### Middle hosts (4-10 listings) response time"
   ]
  },
  {
   "cell_type": "code",
   "execution_count": 86,
   "id": "c8863138-265a-4340-b3ac-5bf37931289f",
   "metadata": {
    "tags": []
   },
   "outputs": [],
   "source": [
    "df_middlehosts = df.query('host_type == 4')"
   ]
  },
  {
   "cell_type": "code",
   "execution_count": 87,
   "id": "f963a912-dbb5-4eaa-8e4e-5671537c16c4",
   "metadata": {
    "tags": []
   },
   "outputs": [
    {
     "data": {
      "text/plain": [
       "6471"
      ]
     },
     "execution_count": 87,
     "metadata": {},
     "output_type": "execute_result"
    }
   ],
   "source": [
    "df_middlehosts.host_name.count()"
   ]
  },
  {
   "cell_type": "code",
   "execution_count": 88,
   "id": "c3973006-1839-4f4b-8029-e1bb0805936a",
   "metadata": {
    "tags": []
   },
   "outputs": [
    {
     "data": {
      "text/plain": [
       "<Axes: >"
      ]
     },
     "execution_count": 88,
     "metadata": {},
     "output_type": "execute_result"
    },
    {
     "data": {
      "image/png": "[encoded data removed]",
      "text/plain": [
       "<Figure size 640x480 with 1 Axes>"
      ]
     },
     "metadata": {},
     "output_type": "display_data"
    }
   ],
   "source": [
    "df_middlehosts.host_response_time.hist()"
   ]
  },
  {
   "cell_type": "markdown",
   "id": "8ec1e7ae-a59d-4768-9764-5ecc90fa9fec",
   "metadata": {},
   "source": [
    "No pattern in the response time"
   ]
  },
  {
   "cell_type": "code",
   "execution_count": 89,
   "id": "f278c2fb-ad91-43cf-9f12-e00343a71a53",
   "metadata": {
    "tags": []
   },
   "outputs": [
    {
     "data": {
      "text/plain": [
       "23       100%\n",
       "49        98%\n",
       "50        98%\n",
       "138      100%\n",
       "140      100%\n",
       "         ... \n",
       "24863    100%\n",
       "24869     96%\n",
       "24874    100%\n",
       "24883     96%\n",
       "24893     99%\n",
       "Name: host_acceptance_rate, Length: 3419, dtype: object"
      ]
     },
     "execution_count": 89,
     "metadata": {},
     "output_type": "execute_result"
    }
   ],
   "source": [
    "df_bighosts['host_acceptance_rate']"
   ]
  },
  {
   "cell_type": "code",
   "execution_count": 90,
   "id": "0e4e72b2-26ea-4af2-81bd-a9003da19fe2",
   "metadata": {
    "tags": []
   },
   "outputs": [
    {
     "name": "stderr",
     "output_type": "stream",
     "text": [
      "/var/folders/jn/l7824d4d4699mhj74sttnc780000gn/T/ipykernel_6645/97989732.py:1: SettingWithCopyWarning: \n",
      "A value is trying to be set on a copy of a slice from a DataFrame.\n",
      "Try using .loc[row_indexer,col_indexer] = value instead\n",
      "\n",
      "See the caveats in the documentation: https://pandas.pydata.org/pandas-docs/stable/user_guide/indexing.html#returning-a-view-versus-a-copy\n",
      "  df_bighosts['host_acceptance_rate'] = df_bighosts['host_acceptance_rate'].str.rstrip(\"%\").astype(float)/100\n"
     ]
    }
   ],
   "source": [
    "df_bighosts['host_acceptance_rate'] = df_bighosts['host_acceptance_rate'].str.rstrip(\"%\").astype(float)/100"
   ]
  },
  {
   "cell_type": "code",
   "execution_count": 92,
   "id": "96f1ed15-b8f2-4ec9-830b-899acbc631d0",
   "metadata": {
    "tags": []
   },
   "outputs": [
    {
     "data": {
      "text/plain": [
       "0.9381778169014086"
      ]
     },
     "execution_count": 92,
     "metadata": {},
     "output_type": "execute_result"
    }
   ],
   "source": [
    "df_bighosts['host_acceptance_rate'].mean()"
   ]
  },
  {
   "cell_type": "code",
   "execution_count": 93,
   "id": "b9e01a31-2dc6-4b86-9706-502b97ddc003",
   "metadata": {
    "tags": []
   },
   "outputs": [
    {
     "name": "stderr",
     "output_type": "stream",
     "text": [
      "/var/folders/jn/l7824d4d4699mhj74sttnc780000gn/T/ipykernel_6645/4247012810.py:1: SettingWithCopyWarning: \n",
      "A value is trying to be set on a copy of a slice from a DataFrame.\n",
      "Try using .loc[row_indexer,col_indexer] = value instead\n",
      "\n",
      "See the caveats in the documentation: https://pandas.pydata.org/pandas-docs/stable/user_guide/indexing.html#returning-a-view-versus-a-copy\n",
      "  df_singlehosts['host_acceptance_rate'] = df_singlehosts['host_acceptance_rate'].str.rstrip(\"%\").astype(float)/100\n"
     ]
    }
   ],
   "source": [
    "df_singlehosts['host_acceptance_rate'] = df_singlehosts['host_acceptance_rate'].str.rstrip(\"%\").astype(float)/100"
   ]
  },
  {
   "cell_type": "code",
   "execution_count": 94,
   "id": "30571aba-7329-4c54-ae97-2ae61143a7bd",
   "metadata": {
    "tags": []
   },
   "outputs": [
    {
     "data": {
      "text/plain": [
       "0.8578545006165229"
      ]
     },
     "execution_count": 94,
     "metadata": {},
     "output_type": "execute_result"
    }
   ],
   "source": [
    "df_singlehosts['host_acceptance_rate'].mean()"
   ]
  },
  {
   "cell_type": "code",
   "execution_count": null,
   "id": "a6aa331a-145d-456b-9dbf-5b56b160e335",
   "metadata": {},
   "outputs": [],
   "source": []
  }
 ],
 "metadata": {
  "kernelspec": {
   "display_name": "Python 3 (ipykernel)",
   "language": "python",
   "name": "python3"
  },
  "language_info": {
   "codemirror_mode": {
    "name": "ipython",
    "version": 3
   },
   "file_extension": ".py",
   "mimetype": "text/x-python",
   "name": "python",
   "nbconvert_exporter": "python",
   "pygments_lexer": "ipython3",
   "version": "3.9.8"
  },
  "toc-autonumbering": false,
  "toc-showcode": false,
  "toc-showmarkdowntxt": true
 },
 "nbformat": 4,
 "nbformat_minor": 5
}
