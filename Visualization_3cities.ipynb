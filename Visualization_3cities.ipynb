{
 "cells": [
  {
   "cell_type": "code",
   "execution_count": 1,
   "id": "5f2af7da-2f7b-49dc-89bc-f9cd7e3874a8",
   "metadata": {
    "tags": []
   },
   "outputs": [],
   "source": [
    "import pandas as pd\n",
    "import seaborn as sns\n",
    "import numpy as np\n",
    "import matplotlib.pyplot as plt\n",
    "import matplotlib\n",
    "\n",
    "import warnings\n",
    "warnings.filterwarnings('ignore')\n",
    "warnings.simplefilter('ignore')"
   ]
  },
  {
   "cell_type": "code",
   "execution_count": 91,
   "id": "c26e759b-b8b7-491b-a7e8-84bac6eefea9",
   "metadata": {
    "tags": []
   },
   "outputs": [],
   "source": [
    "c = ['#cbc0d3', '#efd3d7', '#feeafa', '#dee2ff', '#8e9aaf']"
   ]
  },
  {
   "cell_type": "code",
   "execution_count": 3,
   "id": "8104603c-413f-4b43-8f87-8272c0d70f27",
   "metadata": {
    "tags": []
   },
   "outputs": [],
   "source": [
    "df_bcn = pd.read_csv('data/listings_Barcelona.csv')"
   ]
  },
  {
   "cell_type": "code",
   "execution_count": 4,
   "id": "37147c8b-6c13-4611-927d-0228bd95fc86",
   "metadata": {
    "tags": []
   },
   "outputs": [
    {
     "data": {
      "text/html": [
       "<div>\n",
       "<style scoped>\n",
       "    .dataframe tbody tr th:only-of-type {\n",
       "        vertical-align: middle;\n",
       "    }\n",
       "\n",
       "    .dataframe tbody tr th {\n",
       "        vertical-align: top;\n",
       "    }\n",
       "\n",
       "    .dataframe thead th {\n",
       "        text-align: right;\n",
       "    }\n",
       "</style>\n",
       "<table border=\"1\" class=\"dataframe\">\n",
       "  <thead>\n",
       "    <tr style=\"text-align: right;\">\n",
       "      <th></th>\n",
       "      <th>id</th>\n",
       "      <th>listing_url</th>\n",
       "      <th>scrape_id</th>\n",
       "      <th>last_scraped</th>\n",
       "      <th>source</th>\n",
       "      <th>name</th>\n",
       "      <th>description</th>\n",
       "      <th>neighborhood_overview</th>\n",
       "      <th>picture_url</th>\n",
       "      <th>host_id</th>\n",
       "      <th>...</th>\n",
       "      <th>review_scores_communication</th>\n",
       "      <th>review_scores_location</th>\n",
       "      <th>review_scores_value</th>\n",
       "      <th>license</th>\n",
       "      <th>instant_bookable</th>\n",
       "      <th>calculated_host_listings_count</th>\n",
       "      <th>calculated_host_listings_count_entire_homes</th>\n",
       "      <th>calculated_host_listings_count_private_rooms</th>\n",
       "      <th>calculated_host_listings_count_shared_rooms</th>\n",
       "      <th>reviews_per_month</th>\n",
       "    </tr>\n",
       "  </thead>\n",
       "  <tbody>\n",
       "    <tr>\n",
       "      <th>0</th>\n",
       "      <td>13977576</td>\n",
       "      <td>https://www.airbnb.com/rooms/13977576</td>\n",
       "      <td>20230314070701</td>\n",
       "      <td>2023-03-14</td>\n",
       "      <td>previous scrape</td>\n",
       "      <td>Habitación individual es Barcelona</td>\n",
       "      <td>Mi alojamiento es bueno para aventureros y via...</td>\n",
       "      <td>NaN</td>\n",
       "      <td>https://a0.muscache.com/pictures/7a6e9767-bd4e...</td>\n",
       "      <td>64903899</td>\n",
       "      <td>...</td>\n",
       "      <td>NaN</td>\n",
       "      <td>NaN</td>\n",
       "      <td>NaN</td>\n",
       "      <td>NaN</td>\n",
       "      <td>f</td>\n",
       "      <td>1</td>\n",
       "      <td>0</td>\n",
       "      <td>1</td>\n",
       "      <td>0</td>\n",
       "      <td>0.01</td>\n",
       "    </tr>\n",
       "    <tr>\n",
       "      <th>1</th>\n",
       "      <td>42105584</td>\n",
       "      <td>https://www.airbnb.com/rooms/42105584</td>\n",
       "      <td>20230314070701</td>\n",
       "      <td>2023-03-14</td>\n",
       "      <td>previous scrape</td>\n",
       "      <td>Habitación M&amp;D</td>\n",
       "      <td>&lt;b&gt;License number&lt;/b&gt;&lt;br /&gt;Exempt</td>\n",
       "      <td>NaN</td>\n",
       "      <td>https://a0.muscache.com/pictures/7342e586-6ea5...</td>\n",
       "      <td>333969184</td>\n",
       "      <td>...</td>\n",
       "      <td>NaN</td>\n",
       "      <td>NaN</td>\n",
       "      <td>NaN</td>\n",
       "      <td>Exempt</td>\n",
       "      <td>f</td>\n",
       "      <td>1</td>\n",
       "      <td>0</td>\n",
       "      <td>1</td>\n",
       "      <td>0</td>\n",
       "      <td>NaN</td>\n",
       "    </tr>\n",
       "  </tbody>\n",
       "</table>\n",
       "<p>2 rows × 75 columns</p>\n",
       "</div>"
      ],
      "text/plain": [
       "         id                            listing_url       scrape_id   \n",
       "0  13977576  https://www.airbnb.com/rooms/13977576  20230314070701  \\\n",
       "1  42105584  https://www.airbnb.com/rooms/42105584  20230314070701   \n",
       "\n",
       "  last_scraped           source                                name   \n",
       "0   2023-03-14  previous scrape  Habitación individual es Barcelona  \\\n",
       "1   2023-03-14  previous scrape                      Habitación M&D   \n",
       "\n",
       "                                         description neighborhood_overview   \n",
       "0  Mi alojamiento es bueno para aventureros y via...                   NaN  \\\n",
       "1                  <b>License number</b><br />Exempt                   NaN   \n",
       "\n",
       "                                         picture_url    host_id  ...   \n",
       "0  https://a0.muscache.com/pictures/7a6e9767-bd4e...   64903899  ...  \\\n",
       "1  https://a0.muscache.com/pictures/7342e586-6ea5...  333969184  ...   \n",
       "\n",
       "  review_scores_communication review_scores_location review_scores_value   \n",
       "0                         NaN                    NaN                 NaN  \\\n",
       "1                         NaN                    NaN                 NaN   \n",
       "\n",
       "  license instant_bookable calculated_host_listings_count   \n",
       "0     NaN                f                              1  \\\n",
       "1  Exempt                f                              1   \n",
       "\n",
       "  calculated_host_listings_count_entire_homes   \n",
       "0                                           0  \\\n",
       "1                                           0   \n",
       "\n",
       "  calculated_host_listings_count_private_rooms   \n",
       "0                                            1  \\\n",
       "1                                            1   \n",
       "\n",
       "  calculated_host_listings_count_shared_rooms reviews_per_month  \n",
       "0                                           0              0.01  \n",
       "1                                           0               NaN  \n",
       "\n",
       "[2 rows x 75 columns]"
      ]
     },
     "execution_count": 4,
     "metadata": {},
     "output_type": "execute_result"
    }
   ],
   "source": [
    "df_bcn.head(2)"
   ]
  },
  {
   "cell_type": "code",
   "execution_count": 5,
   "id": "7776072f-f505-4e46-81e1-066238d9ed31",
   "metadata": {
    "tags": []
   },
   "outputs": [
    {
     "data": {
      "text/plain": [
       "Index(['id', 'listing_url', 'scrape_id', 'last_scraped', 'source', 'name',\n",
       "       'description', 'neighborhood_overview', 'picture_url', 'host_id',\n",
       "       'host_url', 'host_name', 'host_since', 'host_location', 'host_about',\n",
       "       'host_response_time', 'host_response_rate', 'host_acceptance_rate',\n",
       "       'host_is_superhost', 'host_thumbnail_url', 'host_picture_url',\n",
       "       'host_neighbourhood', 'host_listings_count',\n",
       "       'host_total_listings_count', 'host_verifications',\n",
       "       'host_has_profile_pic', 'host_identity_verified', 'neighbourhood',\n",
       "       'neighbourhood_cleansed', 'neighbourhood_group_cleansed', 'latitude',\n",
       "       'longitude', 'property_type', 'room_type', 'accommodates', 'bathrooms',\n",
       "       'bathrooms_text', 'bedrooms', 'beds', 'amenities', 'price',\n",
       "       'minimum_nights', 'maximum_nights', 'minimum_minimum_nights',\n",
       "       'maximum_minimum_nights', 'minimum_maximum_nights',\n",
       "       'maximum_maximum_nights', 'minimum_nights_avg_ntm',\n",
       "       'maximum_nights_avg_ntm', 'calendar_updated', 'has_availability',\n",
       "       'availability_30', 'availability_60', 'availability_90',\n",
       "       'availability_365', 'calendar_last_scraped', 'number_of_reviews',\n",
       "       'number_of_reviews_ltm', 'number_of_reviews_l30d', 'first_review',\n",
       "       'last_review', 'review_scores_rating', 'review_scores_accuracy',\n",
       "       'review_scores_cleanliness', 'review_scores_checkin',\n",
       "       'review_scores_communication', 'review_scores_location',\n",
       "       'review_scores_value', 'license', 'instant_bookable',\n",
       "       'calculated_host_listings_count',\n",
       "       'calculated_host_listings_count_entire_homes',\n",
       "       'calculated_host_listings_count_private_rooms',\n",
       "       'calculated_host_listings_count_shared_rooms', 'reviews_per_month'],\n",
       "      dtype='object')"
      ]
     },
     "execution_count": 5,
     "metadata": {},
     "output_type": "execute_result"
    }
   ],
   "source": [
    "df_bcn.columns"
   ]
  },
  {
   "cell_type": "markdown",
   "id": "479db2a9-3284-4a46-b6bb-cd629088f37f",
   "metadata": {},
   "source": [
    "#### Categorizing the hosts"
   ]
  },
  {
   "cell_type": "markdown",
   "id": "a0cd3768-388a-40a5-a063-9e61dd0d9aee",
   "metadata": {
    "tags": []
   },
   "source": [
    "Hosts will be categorized based on the number of accomodation their offer:\n",
    "- 1 liting\n",
    "- 2-4 listings\n",
    "- 4-10 listings\n",
    "- more than 10 listings"
   ]
  },
  {
   "cell_type": "code",
   "execution_count": 6,
   "id": "3f47f68f-f847-4c0f-b174-a308131bd56e",
   "metadata": {
    "tags": []
   },
   "outputs": [],
   "source": [
    "conditions = [\n",
    "    (df_bcn['calculated_host_listings_count'] == 1),\n",
    "    (df_bcn['calculated_host_listings_count'] > 1) & (df_bcn['calculated_host_listings_count'] < 4),\n",
    "    (df_bcn['calculated_host_listings_count'] > 3) & (df_bcn['calculated_host_listings_count'] < 11),\n",
    "    (df_bcn['calculated_host_listings_count'] > 10)\n",
    "    ]"
   ]
  },
  {
   "cell_type": "code",
   "execution_count": 7,
   "id": "33b5c23a-52a6-4c86-97df-f4e9750969f9",
   "metadata": {
    "tags": []
   },
   "outputs": [],
   "source": [
    "values = ['single_listing', '2-3_listings', '4-10_listings', 'above_10']"
   ]
  },
  {
   "cell_type": "code",
   "execution_count": 8,
   "id": "55a1c96d-8155-4725-84c3-665213582299",
   "metadata": {
    "tags": []
   },
   "outputs": [],
   "source": [
    "df_bcn['host_type'] = np.select(conditions, values)"
   ]
  },
  {
   "cell_type": "code",
   "execution_count": 9,
   "id": "f95f591f-8412-47dd-bf5e-da6de2d0da6d",
   "metadata": {
    "tags": []
   },
   "outputs": [],
   "source": [
    "df_bcn['city'] = 'BCN'"
   ]
  },
  {
   "cell_type": "code",
   "execution_count": 10,
   "id": "4c0e3af3-a88d-43b7-b78f-a5ce57b5ed89",
   "metadata": {
    "tags": []
   },
   "outputs": [],
   "source": [
    "df_bcn_part = df_bcn[['id', 'host_id', 'room_type', 'price', 'minimum_nights', 'host_type', 'city']]"
   ]
  },
  {
   "cell_type": "code",
   "execution_count": 11,
   "id": "4aee111e-01ce-419c-87ac-6b7c34e45a9b",
   "metadata": {
    "tags": []
   },
   "outputs": [
    {
     "data": {
      "text/html": [
       "<div>\n",
       "<style scoped>\n",
       "    .dataframe tbody tr th:only-of-type {\n",
       "        vertical-align: middle;\n",
       "    }\n",
       "\n",
       "    .dataframe tbody tr th {\n",
       "        vertical-align: top;\n",
       "    }\n",
       "\n",
       "    .dataframe thead th {\n",
       "        text-align: right;\n",
       "    }\n",
       "</style>\n",
       "<table border=\"1\" class=\"dataframe\">\n",
       "  <thead>\n",
       "    <tr style=\"text-align: right;\">\n",
       "      <th></th>\n",
       "      <th>id</th>\n",
       "      <th>host_id</th>\n",
       "      <th>room_type</th>\n",
       "      <th>price</th>\n",
       "      <th>minimum_nights</th>\n",
       "      <th>host_type</th>\n",
       "      <th>city</th>\n",
       "    </tr>\n",
       "  </thead>\n",
       "  <tbody>\n",
       "    <tr>\n",
       "      <th>0</th>\n",
       "      <td>13977576</td>\n",
       "      <td>64903899</td>\n",
       "      <td>Private room</td>\n",
       "      <td>$12.00</td>\n",
       "      <td>1</td>\n",
       "      <td>single_listing</td>\n",
       "      <td>BCN</td>\n",
       "    </tr>\n",
       "    <tr>\n",
       "      <th>1</th>\n",
       "      <td>42105584</td>\n",
       "      <td>333969184</td>\n",
       "      <td>Private room</td>\n",
       "      <td>$25.00</td>\n",
       "      <td>2</td>\n",
       "      <td>single_listing</td>\n",
       "      <td>BCN</td>\n",
       "    </tr>\n",
       "    <tr>\n",
       "      <th>2</th>\n",
       "      <td>33727898</td>\n",
       "      <td>251710733</td>\n",
       "      <td>Entire home/apt</td>\n",
       "      <td>$300.00</td>\n",
       "      <td>4</td>\n",
       "      <td>4-10_listings</td>\n",
       "      <td>BCN</td>\n",
       "    </tr>\n",
       "    <tr>\n",
       "      <th>3</th>\n",
       "      <td>44995311</td>\n",
       "      <td>363074093</td>\n",
       "      <td>Private room</td>\n",
       "      <td>$83.00</td>\n",
       "      <td>1</td>\n",
       "      <td>4-10_listings</td>\n",
       "      <td>BCN</td>\n",
       "    </tr>\n",
       "    <tr>\n",
       "      <th>4</th>\n",
       "      <td>15763812</td>\n",
       "      <td>101927904</td>\n",
       "      <td>Private room</td>\n",
       "      <td>$38.00</td>\n",
       "      <td>2</td>\n",
       "      <td>single_listing</td>\n",
       "      <td>BCN</td>\n",
       "    </tr>\n",
       "  </tbody>\n",
       "</table>\n",
       "</div>"
      ],
      "text/plain": [
       "         id    host_id        room_type    price  minimum_nights   \n",
       "0  13977576   64903899     Private room   $12.00               1  \\\n",
       "1  42105584  333969184     Private room   $25.00               2   \n",
       "2  33727898  251710733  Entire home/apt  $300.00               4   \n",
       "3  44995311  363074093     Private room   $83.00               1   \n",
       "4  15763812  101927904     Private room   $38.00               2   \n",
       "\n",
       "        host_type city  \n",
       "0  single_listing  BCN  \n",
       "1  single_listing  BCN  \n",
       "2   4-10_listings  BCN  \n",
       "3   4-10_listings  BCN  \n",
       "4  single_listing  BCN  "
      ]
     },
     "execution_count": 11,
     "metadata": {},
     "output_type": "execute_result"
    }
   ],
   "source": [
    "df_bcn_part.head()"
   ]
  },
  {
   "cell_type": "code",
   "execution_count": 12,
   "id": "db8a86f7-c636-4ffc-a7f9-d59e30e37bcb",
   "metadata": {
    "tags": []
   },
   "outputs": [],
   "source": [
    "df_bcn_part['price'] = df_bcn_part['price'].str[1:]"
   ]
  },
  {
   "cell_type": "code",
   "execution_count": 13,
   "id": "f06b834a-05da-4d67-9ae4-7b3920c6515e",
   "metadata": {
    "tags": []
   },
   "outputs": [],
   "source": [
    "df_bcn_part['price'] = df_bcn_part['price'].str.replace(',', '')"
   ]
  },
  {
   "cell_type": "code",
   "execution_count": 14,
   "id": "8b3e86e5-93bc-49b1-81fe-f3dc252d1259",
   "metadata": {
    "tags": []
   },
   "outputs": [],
   "source": [
    "df_bcn_part['price'] = pd.to_numeric(df_bcn_part['price'])"
   ]
  },
  {
   "cell_type": "code",
   "execution_count": 15,
   "id": "9012edd3-b3b1-466b-8824-ad1d10332c61",
   "metadata": {
    "tags": []
   },
   "outputs": [],
   "source": [
    "df_sthlm = pd.read_csv('data/listings_Stockholm.csv')"
   ]
  },
  {
   "cell_type": "code",
   "execution_count": 16,
   "id": "fbebb418-0e7c-4c48-883b-16f991e2c885",
   "metadata": {
    "tags": []
   },
   "outputs": [
    {
     "data": {
      "text/html": [
       "<div>\n",
       "<style scoped>\n",
       "    .dataframe tbody tr th:only-of-type {\n",
       "        vertical-align: middle;\n",
       "    }\n",
       "\n",
       "    .dataframe tbody tr th {\n",
       "        vertical-align: top;\n",
       "    }\n",
       "\n",
       "    .dataframe thead th {\n",
       "        text-align: right;\n",
       "    }\n",
       "</style>\n",
       "<table border=\"1\" class=\"dataframe\">\n",
       "  <thead>\n",
       "    <tr style=\"text-align: right;\">\n",
       "      <th></th>\n",
       "      <th>id</th>\n",
       "      <th>listing_url</th>\n",
       "      <th>scrape_id</th>\n",
       "      <th>last_scraped</th>\n",
       "      <th>source</th>\n",
       "      <th>name</th>\n",
       "      <th>description</th>\n",
       "      <th>neighborhood_overview</th>\n",
       "      <th>picture_url</th>\n",
       "      <th>host_id</th>\n",
       "      <th>...</th>\n",
       "      <th>review_scores_communication</th>\n",
       "      <th>review_scores_location</th>\n",
       "      <th>review_scores_value</th>\n",
       "      <th>license</th>\n",
       "      <th>instant_bookable</th>\n",
       "      <th>calculated_host_listings_count</th>\n",
       "      <th>calculated_host_listings_count_entire_homes</th>\n",
       "      <th>calculated_host_listings_count_private_rooms</th>\n",
       "      <th>calculated_host_listings_count_shared_rooms</th>\n",
       "      <th>reviews_per_month</th>\n",
       "    </tr>\n",
       "  </thead>\n",
       "  <tbody>\n",
       "    <tr>\n",
       "      <th>0</th>\n",
       "      <td>75590</td>\n",
       "      <td>https://www.airbnb.com/rooms/75590</td>\n",
       "      <td>20221229235426</td>\n",
       "      <td>2022-12-30</td>\n",
       "      <td>city scrape</td>\n",
       "      <td>Amazing nature location by a lake</td>\n",
       "      <td>Apartment on the top floor, overlooking a lake...</td>\n",
       "      <td>Expect a wonderful stay in beautiful scenery, ...</td>\n",
       "      <td>https://a0.muscache.com/pictures/7430cc80-7a4f...</td>\n",
       "      <td>397766</td>\n",
       "      <td>...</td>\n",
       "      <td>5.00</td>\n",
       "      <td>4.78</td>\n",
       "      <td>4.78</td>\n",
       "      <td>NaN</td>\n",
       "      <td>f</td>\n",
       "      <td>1</td>\n",
       "      <td>1</td>\n",
       "      <td>0</td>\n",
       "      <td>0</td>\n",
       "      <td>0.09</td>\n",
       "    </tr>\n",
       "    <tr>\n",
       "      <th>1</th>\n",
       "      <td>164448</td>\n",
       "      <td>https://www.airbnb.com/rooms/164448</td>\n",
       "      <td>20221229235426</td>\n",
       "      <td>2022-12-30</td>\n",
       "      <td>city scrape</td>\n",
       "      <td>Double room in central Stockholm with Wi-Fi</td>\n",
       "      <td>I am renting out a nice double room on the top...</td>\n",
       "      <td>NaN</td>\n",
       "      <td>https://a0.muscache.com/pictures/1101571/13429...</td>\n",
       "      <td>784312</td>\n",
       "      <td>...</td>\n",
       "      <td>4.97</td>\n",
       "      <td>4.83</td>\n",
       "      <td>4.76</td>\n",
       "      <td>NaN</td>\n",
       "      <td>t</td>\n",
       "      <td>2</td>\n",
       "      <td>0</td>\n",
       "      <td>2</td>\n",
       "      <td>0</td>\n",
       "      <td>2.55</td>\n",
       "    </tr>\n",
       "  </tbody>\n",
       "</table>\n",
       "<p>2 rows × 75 columns</p>\n",
       "</div>"
      ],
      "text/plain": [
       "       id                          listing_url       scrape_id last_scraped   \n",
       "0   75590   https://www.airbnb.com/rooms/75590  20221229235426   2022-12-30  \\\n",
       "1  164448  https://www.airbnb.com/rooms/164448  20221229235426   2022-12-30   \n",
       "\n",
       "        source                                         name   \n",
       "0  city scrape            Amazing nature location by a lake  \\\n",
       "1  city scrape  Double room in central Stockholm with Wi-Fi   \n",
       "\n",
       "                                         description   \n",
       "0  Apartment on the top floor, overlooking a lake...  \\\n",
       "1  I am renting out a nice double room on the top...   \n",
       "\n",
       "                               neighborhood_overview   \n",
       "0  Expect a wonderful stay in beautiful scenery, ...  \\\n",
       "1                                                NaN   \n",
       "\n",
       "                                         picture_url  host_id  ...   \n",
       "0  https://a0.muscache.com/pictures/7430cc80-7a4f...   397766  ...  \\\n",
       "1  https://a0.muscache.com/pictures/1101571/13429...   784312  ...   \n",
       "\n",
       "  review_scores_communication review_scores_location review_scores_value   \n",
       "0                        5.00                   4.78                4.78  \\\n",
       "1                        4.97                   4.83                4.76   \n",
       "\n",
       "  license instant_bookable calculated_host_listings_count   \n",
       "0     NaN                f                              1  \\\n",
       "1     NaN                t                              2   \n",
       "\n",
       "  calculated_host_listings_count_entire_homes   \n",
       "0                                           1  \\\n",
       "1                                           0   \n",
       "\n",
       "  calculated_host_listings_count_private_rooms   \n",
       "0                                            0  \\\n",
       "1                                            2   \n",
       "\n",
       "  calculated_host_listings_count_shared_rooms reviews_per_month  \n",
       "0                                           0              0.09  \n",
       "1                                           0              2.55  \n",
       "\n",
       "[2 rows x 75 columns]"
      ]
     },
     "execution_count": 16,
     "metadata": {},
     "output_type": "execute_result"
    }
   ],
   "source": [
    "df_sthlm.head(2)"
   ]
  },
  {
   "cell_type": "code",
   "execution_count": 17,
   "id": "d1ee72ce-e40a-44a5-91db-bac88e1c3c42",
   "metadata": {
    "tags": []
   },
   "outputs": [],
   "source": [
    "conditions = [\n",
    "    (df_sthlm['calculated_host_listings_count'] == 1),\n",
    "    (df_sthlm['calculated_host_listings_count'] > 1) & (df_sthlm['calculated_host_listings_count'] < 4),\n",
    "    (df_sthlm['calculated_host_listings_count'] > 3) & (df_sthlm['calculated_host_listings_count'] < 11),\n",
    "    (df_sthlm['calculated_host_listings_count'] > 10)\n",
    "    ]"
   ]
  },
  {
   "cell_type": "code",
   "execution_count": 18,
   "id": "5c59e2e6-4f80-430a-8506-b59d3e31d3c9",
   "metadata": {
    "tags": []
   },
   "outputs": [],
   "source": [
    "df_sthlm['host_type'] = np.select(conditions, values)"
   ]
  },
  {
   "cell_type": "code",
   "execution_count": 19,
   "id": "50973a1a-094c-4145-846a-3d85978c6dce",
   "metadata": {
    "tags": []
   },
   "outputs": [],
   "source": [
    "df_sthlm['city'] = 'STHLM'"
   ]
  },
  {
   "cell_type": "code",
   "execution_count": 20,
   "id": "53fd68d5-59ae-44a7-9ff6-410ea8b7fb39",
   "metadata": {
    "tags": []
   },
   "outputs": [],
   "source": [
    "df_sthlm_part = df_sthlm[['id', 'host_id', 'room_type', 'price', 'minimum_nights', 'host_type', 'city']]"
   ]
  },
  {
   "cell_type": "code",
   "execution_count": 21,
   "id": "c625caef-741f-4f1a-b03c-6b0278ee470e",
   "metadata": {
    "tags": []
   },
   "outputs": [
    {
     "data": {
      "text/html": [
       "<div>\n",
       "<style scoped>\n",
       "    .dataframe tbody tr th:only-of-type {\n",
       "        vertical-align: middle;\n",
       "    }\n",
       "\n",
       "    .dataframe tbody tr th {\n",
       "        vertical-align: top;\n",
       "    }\n",
       "\n",
       "    .dataframe thead th {\n",
       "        text-align: right;\n",
       "    }\n",
       "</style>\n",
       "<table border=\"1\" class=\"dataframe\">\n",
       "  <thead>\n",
       "    <tr style=\"text-align: right;\">\n",
       "      <th></th>\n",
       "      <th>id</th>\n",
       "      <th>host_id</th>\n",
       "      <th>room_type</th>\n",
       "      <th>price</th>\n",
       "      <th>minimum_nights</th>\n",
       "      <th>host_type</th>\n",
       "      <th>city</th>\n",
       "    </tr>\n",
       "  </thead>\n",
       "  <tbody>\n",
       "    <tr>\n",
       "      <th>0</th>\n",
       "      <td>75590</td>\n",
       "      <td>397766</td>\n",
       "      <td>Entire home/apt</td>\n",
       "      <td>$949.00</td>\n",
       "      <td>30</td>\n",
       "      <td>single_listing</td>\n",
       "      <td>STHLM</td>\n",
       "    </tr>\n",
       "    <tr>\n",
       "      <th>1</th>\n",
       "      <td>164448</td>\n",
       "      <td>784312</td>\n",
       "      <td>Private room</td>\n",
       "      <td>$864.00</td>\n",
       "      <td>3</td>\n",
       "      <td>2-3_listings</td>\n",
       "      <td>STHLM</td>\n",
       "    </tr>\n",
       "    <tr>\n",
       "      <th>2</th>\n",
       "      <td>170651</td>\n",
       "      <td>814021</td>\n",
       "      <td>Entire home/apt</td>\n",
       "      <td>$1,055.00</td>\n",
       "      <td>4</td>\n",
       "      <td>single_listing</td>\n",
       "      <td>STHLM</td>\n",
       "    </tr>\n",
       "    <tr>\n",
       "      <th>3</th>\n",
       "      <td>206221</td>\n",
       "      <td>1022374</td>\n",
       "      <td>Shared room</td>\n",
       "      <td>$669.00</td>\n",
       "      <td>3</td>\n",
       "      <td>single_listing</td>\n",
       "      <td>STHLM</td>\n",
       "    </tr>\n",
       "    <tr>\n",
       "      <th>4</th>\n",
       "      <td>208366</td>\n",
       "      <td>993889</td>\n",
       "      <td>Entire home/apt</td>\n",
       "      <td>$829.00</td>\n",
       "      <td>3</td>\n",
       "      <td>single_listing</td>\n",
       "      <td>STHLM</td>\n",
       "    </tr>\n",
       "  </tbody>\n",
       "</table>\n",
       "</div>"
      ],
      "text/plain": [
       "       id  host_id        room_type      price  minimum_nights   \n",
       "0   75590   397766  Entire home/apt    $949.00              30  \\\n",
       "1  164448   784312     Private room    $864.00               3   \n",
       "2  170651   814021  Entire home/apt  $1,055.00               4   \n",
       "3  206221  1022374      Shared room    $669.00               3   \n",
       "4  208366   993889  Entire home/apt    $829.00               3   \n",
       "\n",
       "        host_type   city  \n",
       "0  single_listing  STHLM  \n",
       "1    2-3_listings  STHLM  \n",
       "2  single_listing  STHLM  \n",
       "3  single_listing  STHLM  \n",
       "4  single_listing  STHLM  "
      ]
     },
     "execution_count": 21,
     "metadata": {},
     "output_type": "execute_result"
    }
   ],
   "source": [
    "df_sthlm_part.head()"
   ]
  },
  {
   "cell_type": "code",
   "execution_count": 22,
   "id": "92203096-70b7-4447-8a26-f5f1f5340ed7",
   "metadata": {
    "tags": []
   },
   "outputs": [],
   "source": [
    "df_sthlm_part['price'] = df_sthlm_part['price'].str[1:]\n"
   ]
  },
  {
   "cell_type": "code",
   "execution_count": 23,
   "id": "3e666f1d-0aa3-4105-985d-d5d7dbe091d0",
   "metadata": {
    "tags": []
   },
   "outputs": [],
   "source": [
    "df_sthlm_part['price'] = df_sthlm_part['price'].str.replace(',', '')"
   ]
  },
  {
   "cell_type": "code",
   "execution_count": 24,
   "id": "235618d2-ce37-4ab0-b40f-e25e5cfd5eb6",
   "metadata": {
    "tags": []
   },
   "outputs": [],
   "source": [
    "df_sthlm_part['price'] = pd.to_numeric(df_sthlm_part['price'])"
   ]
  },
  {
   "cell_type": "code",
   "execution_count": 25,
   "id": "d25924db-f8a5-4bcd-a628-ef9a3892b539",
   "metadata": {
    "tags": []
   },
   "outputs": [],
   "source": [
    "df_sthlm_part['price'] = df_sthlm_part['price']* 0.0883"
   ]
  },
  {
   "cell_type": "code",
   "execution_count": 26,
   "id": "9904af5e-6225-41e5-bb9f-1ac3f82befe6",
   "metadata": {
    "tags": []
   },
   "outputs": [
    {
     "data": {
      "text/html": [
       "<div>\n",
       "<style scoped>\n",
       "    .dataframe tbody tr th:only-of-type {\n",
       "        vertical-align: middle;\n",
       "    }\n",
       "\n",
       "    .dataframe tbody tr th {\n",
       "        vertical-align: top;\n",
       "    }\n",
       "\n",
       "    .dataframe thead th {\n",
       "        text-align: right;\n",
       "    }\n",
       "</style>\n",
       "<table border=\"1\" class=\"dataframe\">\n",
       "  <thead>\n",
       "    <tr style=\"text-align: right;\">\n",
       "      <th></th>\n",
       "      <th>id</th>\n",
       "      <th>host_id</th>\n",
       "      <th>room_type</th>\n",
       "      <th>price</th>\n",
       "      <th>minimum_nights</th>\n",
       "      <th>host_type</th>\n",
       "      <th>city</th>\n",
       "    </tr>\n",
       "  </thead>\n",
       "  <tbody>\n",
       "    <tr>\n",
       "      <th>0</th>\n",
       "      <td>75590</td>\n",
       "      <td>397766</td>\n",
       "      <td>Entire home/apt</td>\n",
       "      <td>83.7967</td>\n",
       "      <td>30</td>\n",
       "      <td>single_listing</td>\n",
       "      <td>STHLM</td>\n",
       "    </tr>\n",
       "    <tr>\n",
       "      <th>1</th>\n",
       "      <td>164448</td>\n",
       "      <td>784312</td>\n",
       "      <td>Private room</td>\n",
       "      <td>76.2912</td>\n",
       "      <td>3</td>\n",
       "      <td>2-3_listings</td>\n",
       "      <td>STHLM</td>\n",
       "    </tr>\n",
       "    <tr>\n",
       "      <th>2</th>\n",
       "      <td>170651</td>\n",
       "      <td>814021</td>\n",
       "      <td>Entire home/apt</td>\n",
       "      <td>93.1565</td>\n",
       "      <td>4</td>\n",
       "      <td>single_listing</td>\n",
       "      <td>STHLM</td>\n",
       "    </tr>\n",
       "    <tr>\n",
       "      <th>3</th>\n",
       "      <td>206221</td>\n",
       "      <td>1022374</td>\n",
       "      <td>Shared room</td>\n",
       "      <td>59.0727</td>\n",
       "      <td>3</td>\n",
       "      <td>single_listing</td>\n",
       "      <td>STHLM</td>\n",
       "    </tr>\n",
       "    <tr>\n",
       "      <th>4</th>\n",
       "      <td>208366</td>\n",
       "      <td>993889</td>\n",
       "      <td>Entire home/apt</td>\n",
       "      <td>73.2007</td>\n",
       "      <td>3</td>\n",
       "      <td>single_listing</td>\n",
       "      <td>STHLM</td>\n",
       "    </tr>\n",
       "  </tbody>\n",
       "</table>\n",
       "</div>"
      ],
      "text/plain": [
       "       id  host_id        room_type    price  minimum_nights       host_type   \n",
       "0   75590   397766  Entire home/apt  83.7967              30  single_listing  \\\n",
       "1  164448   784312     Private room  76.2912               3    2-3_listings   \n",
       "2  170651   814021  Entire home/apt  93.1565               4  single_listing   \n",
       "3  206221  1022374      Shared room  59.0727               3  single_listing   \n",
       "4  208366   993889  Entire home/apt  73.2007               3  single_listing   \n",
       "\n",
       "    city  \n",
       "0  STHLM  \n",
       "1  STHLM  \n",
       "2  STHLM  \n",
       "3  STHLM  \n",
       "4  STHLM  "
      ]
     },
     "execution_count": 26,
     "metadata": {},
     "output_type": "execute_result"
    }
   ],
   "source": [
    "df_sthlm_part.head()"
   ]
  },
  {
   "cell_type": "code",
   "execution_count": 27,
   "id": "8b3fa681-cfd8-49e8-9e66-cc034f349af7",
   "metadata": {
    "tags": []
   },
   "outputs": [],
   "source": [
    "df_rome = pd.read_csv('data/listings_Rome.csv')"
   ]
  },
  {
   "cell_type": "code",
   "execution_count": 28,
   "id": "a7a35566-e073-4be9-8ff3-c8348a4d7970",
   "metadata": {
    "tags": []
   },
   "outputs": [
    {
     "data": {
      "text/html": [
       "<div>\n",
       "<style scoped>\n",
       "    .dataframe tbody tr th:only-of-type {\n",
       "        vertical-align: middle;\n",
       "    }\n",
       "\n",
       "    .dataframe tbody tr th {\n",
       "        vertical-align: top;\n",
       "    }\n",
       "\n",
       "    .dataframe thead th {\n",
       "        text-align: right;\n",
       "    }\n",
       "</style>\n",
       "<table border=\"1\" class=\"dataframe\">\n",
       "  <thead>\n",
       "    <tr style=\"text-align: right;\">\n",
       "      <th></th>\n",
       "      <th>id</th>\n",
       "      <th>listing_url</th>\n",
       "      <th>scrape_id</th>\n",
       "      <th>last_scraped</th>\n",
       "      <th>source</th>\n",
       "      <th>name</th>\n",
       "      <th>description</th>\n",
       "      <th>neighborhood_overview</th>\n",
       "      <th>picture_url</th>\n",
       "      <th>host_id</th>\n",
       "      <th>...</th>\n",
       "      <th>review_scores_communication</th>\n",
       "      <th>review_scores_location</th>\n",
       "      <th>review_scores_value</th>\n",
       "      <th>license</th>\n",
       "      <th>instant_bookable</th>\n",
       "      <th>calculated_host_listings_count</th>\n",
       "      <th>calculated_host_listings_count_entire_homes</th>\n",
       "      <th>calculated_host_listings_count_private_rooms</th>\n",
       "      <th>calculated_host_listings_count_shared_rooms</th>\n",
       "      <th>reviews_per_month</th>\n",
       "    </tr>\n",
       "  </thead>\n",
       "  <tbody>\n",
       "    <tr>\n",
       "      <th>0</th>\n",
       "      <td>256695</td>\n",
       "      <td>https://www.airbnb.com/rooms/256695</td>\n",
       "      <td>20230315024350</td>\n",
       "      <td>2023-03-15</td>\n",
       "      <td>city scrape</td>\n",
       "      <td>Trastevere color-suite</td>\n",
       "      <td>&lt;b&gt;The space&lt;/b&gt;&lt;br /&gt;Apartment totally new in...</td>\n",
       "      <td>NaN</td>\n",
       "      <td>https://a0.muscache.com/pictures/4543522/a51fe...</td>\n",
       "      <td>1350540</td>\n",
       "      <td>...</td>\n",
       "      <td>4.99</td>\n",
       "      <td>4.95</td>\n",
       "      <td>4.91</td>\n",
       "      <td>NaN</td>\n",
       "      <td>t</td>\n",
       "      <td>1</td>\n",
       "      <td>1</td>\n",
       "      <td>0</td>\n",
       "      <td>0</td>\n",
       "      <td>1.54</td>\n",
       "    </tr>\n",
       "    <tr>\n",
       "      <th>1</th>\n",
       "      <td>258330</td>\n",
       "      <td>https://www.airbnb.com/rooms/258330</td>\n",
       "      <td>20230315024350</td>\n",
       "      <td>2023-03-15</td>\n",
       "      <td>city scrape</td>\n",
       "      <td>Sunny with view, WiFi, A/C. Metro, Airport train.</td>\n",
       "      <td>Naturally lit apartment with Wi-Fi, flat-scree...</td>\n",
       "      <td>The apartment is located in the Tuscolano-San ...</td>\n",
       "      <td>https://a0.muscache.com/pictures/b6804ab8-3bc6...</td>\n",
       "      <td>1358462</td>\n",
       "      <td>...</td>\n",
       "      <td>4.99</td>\n",
       "      <td>4.60</td>\n",
       "      <td>4.75</td>\n",
       "      <td>NaN</td>\n",
       "      <td>t</td>\n",
       "      <td>1</td>\n",
       "      <td>1</td>\n",
       "      <td>0</td>\n",
       "      <td>0</td>\n",
       "      <td>0.55</td>\n",
       "    </tr>\n",
       "  </tbody>\n",
       "</table>\n",
       "<p>2 rows × 75 columns</p>\n",
       "</div>"
      ],
      "text/plain": [
       "       id                          listing_url       scrape_id last_scraped   \n",
       "0  256695  https://www.airbnb.com/rooms/256695  20230315024350   2023-03-15  \\\n",
       "1  258330  https://www.airbnb.com/rooms/258330  20230315024350   2023-03-15   \n",
       "\n",
       "        source                                               name   \n",
       "0  city scrape                             Trastevere color-suite  \\\n",
       "1  city scrape  Sunny with view, WiFi, A/C. Metro, Airport train.   \n",
       "\n",
       "                                         description   \n",
       "0  <b>The space</b><br />Apartment totally new in...  \\\n",
       "1  Naturally lit apartment with Wi-Fi, flat-scree...   \n",
       "\n",
       "                               neighborhood_overview   \n",
       "0                                                NaN  \\\n",
       "1  The apartment is located in the Tuscolano-San ...   \n",
       "\n",
       "                                         picture_url  host_id  ...   \n",
       "0  https://a0.muscache.com/pictures/4543522/a51fe...  1350540  ...  \\\n",
       "1  https://a0.muscache.com/pictures/b6804ab8-3bc6...  1358462  ...   \n",
       "\n",
       "  review_scores_communication review_scores_location review_scores_value   \n",
       "0                        4.99                   4.95                4.91  \\\n",
       "1                        4.99                   4.60                4.75   \n",
       "\n",
       "  license instant_bookable calculated_host_listings_count   \n",
       "0     NaN                t                              1  \\\n",
       "1     NaN                t                              1   \n",
       "\n",
       "  calculated_host_listings_count_entire_homes   \n",
       "0                                           1  \\\n",
       "1                                           1   \n",
       "\n",
       "  calculated_host_listings_count_private_rooms   \n",
       "0                                            0  \\\n",
       "1                                            0   \n",
       "\n",
       "  calculated_host_listings_count_shared_rooms reviews_per_month  \n",
       "0                                           0              1.54  \n",
       "1                                           0              0.55  \n",
       "\n",
       "[2 rows x 75 columns]"
      ]
     },
     "execution_count": 28,
     "metadata": {},
     "output_type": "execute_result"
    }
   ],
   "source": [
    "df_rome.head(2)"
   ]
  },
  {
   "cell_type": "code",
   "execution_count": 29,
   "id": "986517c2-9288-41f1-9594-6f0e4502010e",
   "metadata": {
    "tags": []
   },
   "outputs": [],
   "source": [
    "conditions = [\n",
    "    (df_rome['calculated_host_listings_count'] == 1),\n",
    "    (df_rome['calculated_host_listings_count'] > 1) & (df_rome['calculated_host_listings_count'] < 4),\n",
    "    (df_rome['calculated_host_listings_count'] > 3) & (df_rome['calculated_host_listings_count'] < 11),\n",
    "    (df_rome['calculated_host_listings_count'] > 10)\n",
    "    ]"
   ]
  },
  {
   "cell_type": "code",
   "execution_count": 30,
   "id": "a146fb30-9908-4680-9116-41e522dcbf27",
   "metadata": {
    "tags": []
   },
   "outputs": [],
   "source": [
    "df_rome['host_type'] = np.select(conditions, values)"
   ]
  },
  {
   "cell_type": "code",
   "execution_count": 31,
   "id": "64416200-1149-48d8-b680-6ec48dc5b11d",
   "metadata": {
    "tags": []
   },
   "outputs": [],
   "source": [
    "df_rome['city'] = 'ROM'"
   ]
  },
  {
   "cell_type": "code",
   "execution_count": 32,
   "id": "180f508c-4038-4926-9078-09057668d246",
   "metadata": {
    "tags": []
   },
   "outputs": [],
   "source": [
    "df_rome_part = df_rome[['id', 'host_id', 'room_type', 'price', 'minimum_nights', 'host_type', 'city']]"
   ]
  },
  {
   "cell_type": "code",
   "execution_count": 33,
   "id": "d17bc1a5-0428-493e-980f-3e384651615d",
   "metadata": {
    "tags": []
   },
   "outputs": [
    {
     "data": {
      "text/html": [
       "<div>\n",
       "<style scoped>\n",
       "    .dataframe tbody tr th:only-of-type {\n",
       "        vertical-align: middle;\n",
       "    }\n",
       "\n",
       "    .dataframe tbody tr th {\n",
       "        vertical-align: top;\n",
       "    }\n",
       "\n",
       "    .dataframe thead th {\n",
       "        text-align: right;\n",
       "    }\n",
       "</style>\n",
       "<table border=\"1\" class=\"dataframe\">\n",
       "  <thead>\n",
       "    <tr style=\"text-align: right;\">\n",
       "      <th></th>\n",
       "      <th>id</th>\n",
       "      <th>host_id</th>\n",
       "      <th>room_type</th>\n",
       "      <th>price</th>\n",
       "      <th>minimum_nights</th>\n",
       "      <th>host_type</th>\n",
       "      <th>city</th>\n",
       "    </tr>\n",
       "  </thead>\n",
       "  <tbody>\n",
       "    <tr>\n",
       "      <th>0</th>\n",
       "      <td>256695</td>\n",
       "      <td>1350540</td>\n",
       "      <td>Entire home/apt</td>\n",
       "      <td>$124.00</td>\n",
       "      <td>3</td>\n",
       "      <td>single_listing</td>\n",
       "      <td>ROM</td>\n",
       "    </tr>\n",
       "    <tr>\n",
       "      <th>1</th>\n",
       "      <td>258330</td>\n",
       "      <td>1358462</td>\n",
       "      <td>Entire home/apt</td>\n",
       "      <td>$80.00</td>\n",
       "      <td>3</td>\n",
       "      <td>single_listing</td>\n",
       "      <td>ROM</td>\n",
       "    </tr>\n",
       "    <tr>\n",
       "      <th>2</th>\n",
       "      <td>137044</td>\n",
       "      <td>670337</td>\n",
       "      <td>Entire home/apt</td>\n",
       "      <td>$216.00</td>\n",
       "      <td>3</td>\n",
       "      <td>single_listing</td>\n",
       "      <td>ROM</td>\n",
       "    </tr>\n",
       "    <tr>\n",
       "      <th>3</th>\n",
       "      <td>137157</td>\n",
       "      <td>486866</td>\n",
       "      <td>Entire home/apt</td>\n",
       "      <td>$175.00</td>\n",
       "      <td>3</td>\n",
       "      <td>4-10_listings</td>\n",
       "      <td>ROM</td>\n",
       "    </tr>\n",
       "    <tr>\n",
       "      <th>4</th>\n",
       "      <td>259075</td>\n",
       "      <td>1311777</td>\n",
       "      <td>Entire home/apt</td>\n",
       "      <td>$202.00</td>\n",
       "      <td>3</td>\n",
       "      <td>2-3_listings</td>\n",
       "      <td>ROM</td>\n",
       "    </tr>\n",
       "  </tbody>\n",
       "</table>\n",
       "</div>"
      ],
      "text/plain": [
       "       id  host_id        room_type    price  minimum_nights       host_type   \n",
       "0  256695  1350540  Entire home/apt  $124.00               3  single_listing  \\\n",
       "1  258330  1358462  Entire home/apt   $80.00               3  single_listing   \n",
       "2  137044   670337  Entire home/apt  $216.00               3  single_listing   \n",
       "3  137157   486866  Entire home/apt  $175.00               3   4-10_listings   \n",
       "4  259075  1311777  Entire home/apt  $202.00               3    2-3_listings   \n",
       "\n",
       "  city  \n",
       "0  ROM  \n",
       "1  ROM  \n",
       "2  ROM  \n",
       "3  ROM  \n",
       "4  ROM  "
      ]
     },
     "execution_count": 33,
     "metadata": {},
     "output_type": "execute_result"
    }
   ],
   "source": [
    "df_rome_part.head()"
   ]
  },
  {
   "cell_type": "code",
   "execution_count": 34,
   "id": "a1a4251e-4896-47cb-81cd-1d7cc368d778",
   "metadata": {
    "tags": []
   },
   "outputs": [],
   "source": [
    "df_rome_part['price'] = df_rome_part['price'].str[1:]"
   ]
  },
  {
   "cell_type": "code",
   "execution_count": 35,
   "id": "505f73a2-c729-45f2-9093-d220ab9827e1",
   "metadata": {
    "tags": []
   },
   "outputs": [],
   "source": [
    "df_rome_part['price'] = df_rome_part['price'].str.replace(',', '')"
   ]
  },
  {
   "cell_type": "code",
   "execution_count": 36,
   "id": "4ebe6284-6038-4c64-8a95-2a46f59c75e2",
   "metadata": {
    "tags": []
   },
   "outputs": [],
   "source": [
    "df_rome_part['price'] = pd.to_numeric(df_rome_part['price'])"
   ]
  },
  {
   "cell_type": "code",
   "execution_count": 37,
   "id": "7b7251e3-e725-4c04-adb7-22b9b05b5a2c",
   "metadata": {
    "tags": []
   },
   "outputs": [],
   "source": [
    "df_3 = pd.concat([df_bcn_part, df_sthlm_part, df_rome_part], axis=0)"
   ]
  },
  {
   "cell_type": "code",
   "execution_count": 38,
   "id": "4735a34b-05d8-4a3a-b111-0a0c1da38380",
   "metadata": {
    "tags": []
   },
   "outputs": [
    {
     "data": {
      "text/plain": [
       "array(['BCN', 'STHLM', 'ROM'], dtype=object)"
      ]
     },
     "execution_count": 38,
     "metadata": {},
     "output_type": "execute_result"
    }
   ],
   "source": [
    "df_3.city.unique()"
   ]
  },
  {
   "cell_type": "code",
   "execution_count": 39,
   "id": "06f19dd3-b749-4d40-89b2-a00acecc1fb1",
   "metadata": {
    "tags": []
   },
   "outputs": [
    {
     "data": {
      "text/plain": [
       "array(['Private room', 'Entire home/apt', 'Hotel room', 'Shared room'],\n",
       "      dtype=object)"
      ]
     },
     "execution_count": 39,
     "metadata": {},
     "output_type": "execute_result"
    }
   ],
   "source": [
    "df_3.room_type.unique()"
   ]
  },
  {
   "cell_type": "code",
   "execution_count": 40,
   "id": "d79256af-9229-435d-bf72-144460adc65c",
   "metadata": {
    "tags": []
   },
   "outputs": [
    {
     "data": {
      "text/plain": [
       "city   room_type      \n",
       "BCN    Entire home/apt     9463\n",
       "       Hotel room           149\n",
       "       Private room        5887\n",
       "       Shared room          156\n",
       "ROM    Entire home/apt    17092\n",
       "       Hotel room           686\n",
       "       Private room        6979\n",
       "       Shared room          167\n",
       "STHLM  Entire home/apt     2618\n",
       "       Hotel room            35\n",
       "       Private room         646\n",
       "       Shared room           40\n",
       "Name: room_type, dtype: int64"
      ]
     },
     "execution_count": 40,
     "metadata": {},
     "output_type": "execute_result"
    }
   ],
   "source": [
    "df_3.groupby(['city', 'room_type']).room_type.count() "
   ]
  },
  {
   "cell_type": "markdown",
   "id": "ef0e3594-0627-4ff6-982d-f41f9ff30b1e",
   "metadata": {},
   "source": [
    "### Figure 1: Number of different types of accomodation offered in the three cities"
   ]
  },
  {
   "cell_type": "code",
   "execution_count": 41,
   "id": "63baaaf0-61a7-4211-9a4a-35d05dd98878",
   "metadata": {},
   "outputs": [
    {
     "data": {
      "image/png": "[encoded data removed]",
      "text/plain": [
       "<Figure size 800x500 with 1 Axes>"
      ]
     },
     "metadata": {},
     "output_type": "display_data"
    }
   ],
   "source": [
    "\n",
    "# set the background color to #242424 \n",
    "sns.set(rc={'axes.facecolor':'#242424', 'figure.facecolor':'#242424'})\n",
    "\n",
    "# plot the data with a categorical plot\n",
    "g = sns.catplot(data=df_3, kind='count', x= 'city', hue = 'room_type',  legend = '', palette = c, edgecolor = \"none\", hue_order=['Entire home/apt', 'Private room', 'Hotel room', 'Shared room'])\n",
    "titel = plt.title('Number of accomodation in the different cities')\n",
    "legend = plt.legend(['Entire home/apt', 'Private room', 'Hotel room', 'Shared room'], loc=2, frameon=False)   \n",
    "for text in legend.get_texts():\n",
    "    text.set_color(\"white\")\n",
    "\n",
    "# change axes labels and ticks to white    \n",
    "xlabel = plt.xlabel('Type of accomodation')\n",
    "ylabel = plt.ylabel('Number of offers')\n",
    "\n",
    "xlabel.set_color(\"white\")\n",
    "ylabel.set_color(\"white\")\n",
    "\n",
    "xtick = plt.xticks(rotation=0, color='white')\n",
    "g.set_xticklabels(['Barcelona','Stockholm','Rome'])\n",
    "ytick = plt.yticks(color=\"white\")\n",
    "\n",
    "titel.set_color(\"white\")\n",
    "\n",
    "# iterate through axes\n",
    "#for ax in g.axes.ravel():\n",
    "    #labels = [1,2,3,4,5,6,7,8,9,10,11,12]\n",
    "    # add annotations to all bars on the graph\n",
    "#    for label in ax.containers:\n",
    " #       ax.bar_label(label, label_type='edge', color = \"white\")\n",
    "  #      ax.margins(y=0.2)  \n",
    "\n",
    "#for container in ax.containers:\n",
    "#    ax.bar_label(container, fmt='%.1f')    \n",
    "    \n",
    "for ax in g.axes.ravel():    \n",
    "    # add annotations\n",
    "    for ca in ax.containers:\n",
    "\n",
    "        #custom label calculates percent and add an empty string so 0 value bars don't have a number\n",
    "        labels = [f'{h/df_3.room_type.count()*100:0.1f}%' if (h := v.get_height()) > 0 else '' for v in ca]\n",
    "\n",
    "        ax.bar_label(ca, labels=labels, label_type='edge', color =\"white\")\n",
    "        \n",
    "        \n",
    "# Turns off grid on the left Axis.\n",
    "ax.grid(False)\n",
    "\n",
    "# set figure size in inches   \n",
    "g.fig.set_size_inches(8,5);"
   ]
  },
  {
   "cell_type": "markdown",
   "id": "ac3dcb85-dab5-44fd-bfaf-112c1f41bd8c",
   "metadata": {},
   "source": [
    "### Figure 1b: Number of different types of accomodation (stacked plot)"
   ]
  },
  {
   "cell_type": "code",
   "execution_count": 42,
   "id": "191261b4-3c83-4a92-82da-4e2ff863df76",
   "metadata": {
    "tags": []
   },
   "outputs": [],
   "source": [
    "# aggregate data for the stacked plot\n",
    "\n",
    "plot = df_3.groupby(['city'])['room_type'].value_counts(normalize=True).mul(100).reset_index(name='percentage')"
   ]
  },
  {
   "cell_type": "code",
   "execution_count": 43,
   "id": "59243af1-ae2d-4834-848e-f52d764789dc",
   "metadata": {
    "tags": []
   },
   "outputs": [
    {
     "data": {
      "image/png": "[encoded data removed]",
      "text/plain": [
       "<Figure size 640x480 with 1 Axes>"
      ]
     },
     "metadata": {},
     "output_type": "display_data"
    }
   ],
   "source": [
    "# set the background color to #242424 \n",
    "sns.set(rc={'axes.facecolor':'#242424', 'figure.facecolor':'#242424'})\n",
    "\n",
    "# plot the data with a categorical plot\n",
    "g = sns.histplot(x = 'city' , hue = 'room_type', stat='count', weights= 'percentage', multiple = 'stack', data = plot, legend = '', palette = c, shrink = 0.5, edgecolor = \"none\")\n",
    "titel = plt.title('Percentage of accomodation in the different cities')\n",
    "legend = plt.legend(['Shared room', 'Hotel room', 'Private room', 'Entire home/apt'], loc=0, frameon=False)   \n",
    "for text in legend.get_texts():\n",
    "    text.set_color(\"white\")\n",
    "\n",
    "for bars in ax.containers:\n",
    "    heights = [b.get_height() for b in bars]\n",
    "    labels = [f'{h * 100:.1f}%' if h > 0.001 else '' for h in heights]\n",
    "    ax.bar_label(bars, labels=labels, label_type='center')\n",
    "    \n",
    "# change axes labels and ticks to white    \n",
    "xlabel = plt.xlabel('Type of accomodation')\n",
    "ylabel = plt.ylabel('Percentage of offers')\n",
    "\n",
    "xlabel.set_color(\"white\")\n",
    "ylabel.set_color(\"white\")\n",
    "\n",
    "xtick = plt.xticks(rotation=0, color='white')\n",
    "g.set_xticklabels(['Barcelona','Stockholm','Rome'])\n",
    "ytick = plt.yticks(color=\"white\")\n",
    "\n",
    "titel.set_color(\"white\")\n",
    "\n",
    "# Turns off grid on the left Axis.\n",
    "g.grid(False)\n",
    "\n",
    "# set figure size in inches   \n",
    "#g.ax.fig.set_size_inches(8,5);\n",
    "sns.despine();\n"
   ]
  },
  {
   "cell_type": "markdown",
   "id": "cb42bfd1-a89b-4be5-8d28-9e0222328fe1",
   "metadata": {},
   "source": [
    "### Figure 1c - with % on axis y"
   ]
  },
  {
   "cell_type": "code",
   "execution_count": 44,
   "id": "85ef3ac6-e594-4556-b13f-9a5ef6045419",
   "metadata": {
    "tags": []
   },
   "outputs": [],
   "source": [
    "new_df = df_3.groupby('city')['room_type'].value_counts(normalize=True)\n",
    "new_df = new_df.mul(100).rename('Percent').reset_index()"
   ]
  },
  {
   "cell_type": "code",
   "execution_count": 45,
   "id": "97b4ff3c-d75d-416f-aca2-6406351753ff",
   "metadata": {
    "tags": []
   },
   "outputs": [
    {
     "data": {
      "text/html": [
       "<div>\n",
       "<style scoped>\n",
       "    .dataframe tbody tr th:only-of-type {\n",
       "        vertical-align: middle;\n",
       "    }\n",
       "\n",
       "    .dataframe tbody tr th {\n",
       "        vertical-align: top;\n",
       "    }\n",
       "\n",
       "    .dataframe thead th {\n",
       "        text-align: right;\n",
       "    }\n",
       "</style>\n",
       "<table border=\"1\" class=\"dataframe\">\n",
       "  <thead>\n",
       "    <tr style=\"text-align: right;\">\n",
       "      <th></th>\n",
       "      <th>city</th>\n",
       "      <th>room_type</th>\n",
       "      <th>Percent</th>\n",
       "    </tr>\n",
       "  </thead>\n",
       "  <tbody>\n",
       "    <tr>\n",
       "      <th>0</th>\n",
       "      <td>BCN</td>\n",
       "      <td>Entire home/apt</td>\n",
       "      <td>60.447141</td>\n",
       "    </tr>\n",
       "    <tr>\n",
       "      <th>1</th>\n",
       "      <td>BCN</td>\n",
       "      <td>Private room</td>\n",
       "      <td>37.604599</td>\n",
       "    </tr>\n",
       "    <tr>\n",
       "      <th>2</th>\n",
       "      <td>BCN</td>\n",
       "      <td>Shared room</td>\n",
       "      <td>0.996487</td>\n",
       "    </tr>\n",
       "    <tr>\n",
       "      <th>3</th>\n",
       "      <td>BCN</td>\n",
       "      <td>Hotel room</td>\n",
       "      <td>0.951773</td>\n",
       "    </tr>\n",
       "    <tr>\n",
       "      <th>4</th>\n",
       "      <td>ROM</td>\n",
       "      <td>Entire home/apt</td>\n",
       "      <td>68.576472</td>\n",
       "    </tr>\n",
       "    <tr>\n",
       "      <th>5</th>\n",
       "      <td>ROM</td>\n",
       "      <td>Private room</td>\n",
       "      <td>28.001123</td>\n",
       "    </tr>\n",
       "    <tr>\n",
       "      <th>6</th>\n",
       "      <td>ROM</td>\n",
       "      <td>Hotel room</td>\n",
       "      <td>2.752367</td>\n",
       "    </tr>\n",
       "    <tr>\n",
       "      <th>7</th>\n",
       "      <td>ROM</td>\n",
       "      <td>Shared room</td>\n",
       "      <td>0.670037</td>\n",
       "    </tr>\n",
       "    <tr>\n",
       "      <th>8</th>\n",
       "      <td>STHLM</td>\n",
       "      <td>Entire home/apt</td>\n",
       "      <td>78.406709</td>\n",
       "    </tr>\n",
       "    <tr>\n",
       "      <th>9</th>\n",
       "      <td>STHLM</td>\n",
       "      <td>Private room</td>\n",
       "      <td>19.347110</td>\n",
       "    </tr>\n",
       "    <tr>\n",
       "      <th>10</th>\n",
       "      <td>STHLM</td>\n",
       "      <td>Shared room</td>\n",
       "      <td>1.197963</td>\n",
       "    </tr>\n",
       "    <tr>\n",
       "      <th>11</th>\n",
       "      <td>STHLM</td>\n",
       "      <td>Hotel room</td>\n",
       "      <td>1.048218</td>\n",
       "    </tr>\n",
       "  </tbody>\n",
       "</table>\n",
       "</div>"
      ],
      "text/plain": [
       "     city        room_type    Percent\n",
       "0     BCN  Entire home/apt  60.447141\n",
       "1     BCN     Private room  37.604599\n",
       "2     BCN      Shared room   0.996487\n",
       "3     BCN       Hotel room   0.951773\n",
       "4     ROM  Entire home/apt  68.576472\n",
       "5     ROM     Private room  28.001123\n",
       "6     ROM       Hotel room   2.752367\n",
       "7     ROM      Shared room   0.670037\n",
       "8   STHLM  Entire home/apt  78.406709\n",
       "9   STHLM     Private room  19.347110\n",
       "10  STHLM      Shared room   1.197963\n",
       "11  STHLM       Hotel room   1.048218"
      ]
     },
     "execution_count": 45,
     "metadata": {},
     "output_type": "execute_result"
    }
   ],
   "source": [
    "new_df"
   ]
  },
  {
   "cell_type": "code",
   "execution_count": 95,
   "id": "9f89ade6-397d-46b4-b544-14ec0b435916",
   "metadata": {
    "tags": []
   },
   "outputs": [
    {
     "data": {
      "image/png": "[encoded data removed]",
      "text/plain": [
       "<Figure size 800x500 with 1 Axes>"
      ]
     },
     "metadata": {},
     "output_type": "display_data"
    }
   ],
   "source": [
    "\n",
    "# set the background color to #242424 \n",
    "sns.set(rc={'axes.facecolor':'#242424', 'figure.facecolor':'#242424'})\n",
    "\n",
    "# plot the data with a categorical plot\n",
    "g = sns.catplot(data=new_df, kind='bar', x='city', y= 'Percent', hue='room_type', legend = False, palette = c, edgecolor = \"none\", hue_order=['Entire home/apt', 'Private room', 'Hotel room', 'Shared room'])\n",
    "\n",
    "g.ax.set_ylim(0,100)\n",
    "\n",
    "titel = plt.title('Percentage of accomodation type in the different cities')\n",
    "plt.legend(labelcolor='white', edgecolor = 'none', loc='upper left')  \n",
    "\n",
    "\n",
    "# change axes labels and ticks to white    \n",
    "xlabel = plt.xlabel('Type of accomodation')\n",
    "ylabel = plt.ylabel('Percentage of offers')\n",
    "\n",
    "xlabel.set_color(\"white\")\n",
    "ylabel.set_color(\"white\")\n",
    "\n",
    "xtick = plt.xticks(rotation=0, color='white')\n",
    "g.set_xticklabels(['Barcelona','Stockholm','Rome'])\n",
    "ytick = plt.yticks(color=\"white\")\n",
    "g.set_yticklabels(['0','20%','40%','60%','80%','100%'])\n",
    "\n",
    "titel.set_color(\"white\")\n",
    "\n",
    "      \n",
    "# Turns off grid on the left Axis.\n",
    "ax.grid(False)\n",
    "g.ax.yaxis.grid(False)\n",
    "sns.despine()\n",
    "\n",
    "# set figure size in inches   \n",
    "g.fig.set_size_inches(8,5);"
   ]
  },
  {
   "cell_type": "markdown",
   "id": "ab8cc659-9e18-473a-948a-12377d66cb1e",
   "metadata": {},
   "source": [
    "#### Version with hue function"
   ]
  },
  {
   "cell_type": "code",
   "execution_count": 47,
   "id": "4ab42cbd-b511-4266-839f-1d1fb71185f4",
   "metadata": {
    "tags": []
   },
   "outputs": [],
   "source": [
    "def with_hue(ax, feature, Number_of_categories, hue_categories):\n",
    "    a = [p.get_height() for p in ax.patches]\n",
    "    patch = [p for p in ax.patches]\n",
    "    for i in range(Number_of_categories):\n",
    "        total = feature.value_counts().values[i]\n",
    "        for j in range(hue_categories):\n",
    "            percentage = '{:.1f}%'.format(100 * a[(j*Number_of_categories + i)]/total)\n",
    "            x = patch[(j*Number_of_categories + i)].get_x() + patch[(j*Number_of_categories + i)].get_width() / 2 - 0.15\n",
    "            y = patch[(j*Number_of_categories + i)].get_y() + patch[(j*Number_of_categories + i)].get_height() \n",
    "            ax.annotate(percentage, (x, y), size = 12, color = 'white')"
   ]
  },
  {
   "cell_type": "code",
   "execution_count": 48,
   "id": "3927a3c3-e287-4a62-9508-2dd344d00beb",
   "metadata": {
    "tags": []
   },
   "outputs": [
    {
     "data": {
      "image/png": "[encoded data removed]",
      "text/plain": [
       "<Figure size 500x500 with 1 Axes>"
      ]
     },
     "metadata": {},
     "output_type": "display_data"
    }
   ],
   "source": [
    "# set the background color to #242424 \n",
    "sns.set(rc={'axes.facecolor':'#242424', 'figure.facecolor':'#242424'})\n",
    "\n",
    "# plot the data with a categorical plot\n",
    "g = sns.catplot(data=df_3, kind='count', x= 'room_type', hue = 'city',  legend = '', palette = c, edgecolor = \"none\")\n",
    "\n",
    "#ax = sns.countplot(x = 'city', hue = 'room_type', data = df_3)\n",
    "titel = plt.title('Number of accomodation in the different cities')\n",
    "legend = plt.legend(['Barcelona','Stockolm','Rome'], loc=0, frameon=False)   \n",
    "for text in legend.get_texts():\n",
    "    text.set_color(\"white\")\n",
    "\n",
    "# change axes labels and ticks to white    \n",
    "xlabel = plt.xlabel('Type of accomodation')\n",
    "ylabel = plt.ylabel('Number of offers')\n",
    "\n",
    "xlabel.set_color(\"white\")\n",
    "ylabel.set_color(\"white\")\n",
    "\n",
    "xtick = plt.xticks(rotation=0, color='white')\n",
    "#g.ax.set_xticklabels(['Barcelona','Stockholm','Rome'])\n",
    "ytick = plt.yticks(color=\"white\")\n",
    "\n",
    "titel.set_color(\"white\")\n",
    "\n",
    "# Turns off grid on the left Axis.\n",
    "g.ax.grid(False)\n",
    "\n",
    "with_hue(g.ax, df_3.room_type, 3, 4)"
   ]
  },
  {
   "cell_type": "markdown",
   "id": "9dc75bfc-0a12-4710-8713-ecca4207676d",
   "metadata": {},
   "source": [
    "### Figure 2: Host types in the three cities"
   ]
  },
  {
   "cell_type": "code",
   "execution_count": 49,
   "id": "479020ed-c564-4774-bab3-906c42233794",
   "metadata": {
    "tags": []
   },
   "outputs": [
    {
     "data": {
      "image/png": "[encoded data removed]",
      "text/plain": [
       "<Figure size 800x500 with 1 Axes>"
      ]
     },
     "metadata": {},
     "output_type": "display_data"
    }
   ],
   "source": [
    "# set the background color to #242424 \n",
    "sns.set(rc={'axes.facecolor':'#242424', 'figure.facecolor':'#242424'})\n",
    "\n",
    "# plot the data with a categorical plot\n",
    "g = sns.catplot(data=df_3, kind='count', x= 'city', hue = 'host_type',  legend = '', palette = c, edgecolor = 'none')\n",
    "titel = plt.title('Number of hosts in the different cities')\n",
    "legend = plt.legend(['single_listing', '2-4 listings', '4-10 listings', 'above 10 listings'], loc=2, frameon=False)   \n",
    "for text in legend.get_texts():\n",
    "    text.set_color(\"white\")\n",
    "\n",
    "# change axes labels and ticks to white    \n",
    "xlabel = plt.xlabel('Type of host')\n",
    "ylabel = plt.ylabel('Number of offers')\n",
    "\n",
    "xlabel.set_color(\"white\")\n",
    "ylabel.set_color(\"white\")\n",
    "\n",
    "xtick = plt.xticks(rotation=0, color='white')\n",
    "g.set_xticklabels(['Barcelona','Stockholm','Rome'])\n",
    "ytick = plt.yticks(color=\"white\")\n",
    "\n",
    "titel.set_color(\"white\")\n",
    "\n",
    "# iterate through axes\n",
    "for ax in g.axes.ravel():\n",
    "    \n",
    "    # add annotations to all bars on the graph\n",
    "    for label in ax.containers:\n",
    "        # add custom labels with the labels=labels parameter if needed\n",
    "        #labels = [f'{h}' if (h := v.get_height()) > 0 else '' for v in c]\n",
    "        ax.bar_label(label, label_type='edge', color = \"white\")\n",
    "    ax.margins(y=0.2)  \n",
    "\n",
    "# Turns off grid on the left Axis.\n",
    "ax.grid(False)\n",
    "\n",
    "# set figure size in inches   \n",
    "g.fig.set_size_inches(8,5);\n"
   ]
  },
  {
   "cell_type": "markdown",
   "id": "66f5f099-ecca-4d9b-9a99-c410271485b2",
   "metadata": {},
   "source": [
    "### Figure 2b - with % on axis y"
   ]
  },
  {
   "cell_type": "code",
   "execution_count": 73,
   "id": "d80c0cbb-69c7-49eb-99b6-d686def0f1dd",
   "metadata": {
    "tags": []
   },
   "outputs": [],
   "source": [
    "new_df2 = df_3.groupby('city')['host_type'].value_counts(normalize=True)\n",
    "new_df2 = new_df2.mul(100).rename('Percent').reset_index()"
   ]
  },
  {
   "cell_type": "code",
   "execution_count": 74,
   "id": "0ece7ac6-e1b9-4a7c-9690-d4546e5eacc8",
   "metadata": {
    "tags": []
   },
   "outputs": [
    {
     "data": {
      "text/html": [
       "<div>\n",
       "<style scoped>\n",
       "    .dataframe tbody tr th:only-of-type {\n",
       "        vertical-align: middle;\n",
       "    }\n",
       "\n",
       "    .dataframe tbody tr th {\n",
       "        vertical-align: top;\n",
       "    }\n",
       "\n",
       "    .dataframe thead th {\n",
       "        text-align: right;\n",
       "    }\n",
       "</style>\n",
       "<table border=\"1\" class=\"dataframe\">\n",
       "  <thead>\n",
       "    <tr style=\"text-align: right;\">\n",
       "      <th></th>\n",
       "      <th>city</th>\n",
       "      <th>host_type</th>\n",
       "      <th>Percent</th>\n",
       "    </tr>\n",
       "  </thead>\n",
       "  <tbody>\n",
       "    <tr>\n",
       "      <th>0</th>\n",
       "      <td>BCN</td>\n",
       "      <td>above_10</td>\n",
       "      <td>37.246886</td>\n",
       "    </tr>\n",
       "    <tr>\n",
       "      <th>1</th>\n",
       "      <td>BCN</td>\n",
       "      <td>single_listing</td>\n",
       "      <td>28.284893</td>\n",
       "    </tr>\n",
       "    <tr>\n",
       "      <th>2</th>\n",
       "      <td>BCN</td>\n",
       "      <td>4-10_listings</td>\n",
       "      <td>18.332801</td>\n",
       "    </tr>\n",
       "    <tr>\n",
       "      <th>3</th>\n",
       "      <td>BCN</td>\n",
       "      <td>2-3_listings</td>\n",
       "      <td>16.135420</td>\n",
       "    </tr>\n",
       "    <tr>\n",
       "      <th>4</th>\n",
       "      <td>ROM</td>\n",
       "      <td>single_listing</td>\n",
       "      <td>36.137859</td>\n",
       "    </tr>\n",
       "    <tr>\n",
       "      <th>5</th>\n",
       "      <td>ROM</td>\n",
       "      <td>4-10_listings</td>\n",
       "      <td>25.987000</td>\n",
       "    </tr>\n",
       "    <tr>\n",
       "      <th>6</th>\n",
       "      <td>ROM</td>\n",
       "      <td>2-3_listings</td>\n",
       "      <td>24.157439</td>\n",
       "    </tr>\n",
       "    <tr>\n",
       "      <th>7</th>\n",
       "      <td>ROM</td>\n",
       "      <td>above_10</td>\n",
       "      <td>13.717702</td>\n",
       "    </tr>\n",
       "    <tr>\n",
       "      <th>8</th>\n",
       "      <td>STHLM</td>\n",
       "      <td>single_listing</td>\n",
       "      <td>73.135669</td>\n",
       "    </tr>\n",
       "    <tr>\n",
       "      <th>9</th>\n",
       "      <td>STHLM</td>\n",
       "      <td>2-3_listings</td>\n",
       "      <td>11.111111</td>\n",
       "    </tr>\n",
       "    <tr>\n",
       "      <th>10</th>\n",
       "      <td>STHLM</td>\n",
       "      <td>above_10</td>\n",
       "      <td>8.535490</td>\n",
       "    </tr>\n",
       "    <tr>\n",
       "      <th>11</th>\n",
       "      <td>STHLM</td>\n",
       "      <td>4-10_listings</td>\n",
       "      <td>7.217730</td>\n",
       "    </tr>\n",
       "  </tbody>\n",
       "</table>\n",
       "</div>"
      ],
      "text/plain": [
       "     city       host_type    Percent\n",
       "0     BCN        above_10  37.246886\n",
       "1     BCN  single_listing  28.284893\n",
       "2     BCN   4-10_listings  18.332801\n",
       "3     BCN    2-3_listings  16.135420\n",
       "4     ROM  single_listing  36.137859\n",
       "5     ROM   4-10_listings  25.987000\n",
       "6     ROM    2-3_listings  24.157439\n",
       "7     ROM        above_10  13.717702\n",
       "8   STHLM  single_listing  73.135669\n",
       "9   STHLM    2-3_listings  11.111111\n",
       "10  STHLM        above_10   8.535490\n",
       "11  STHLM   4-10_listings   7.217730"
      ]
     },
     "execution_count": 74,
     "metadata": {},
     "output_type": "execute_result"
    }
   ],
   "source": [
    "new_df2"
   ]
  },
  {
   "cell_type": "code",
   "execution_count": 94,
   "id": "c8b2a464-ea8f-4860-99e1-c4de680887ad",
   "metadata": {
    "tags": []
   },
   "outputs": [
    {
     "data": {
      "image/png": "[encoded data removed]",
      "text/plain": [
       "<Figure size 800x500 with 1 Axes>"
      ]
     },
     "metadata": {},
     "output_type": "display_data"
    }
   ],
   "source": [
    "# set the background color to #242424 \n",
    "sns.set(rc={'axes.facecolor':'#242424', 'figure.facecolor':'#242424'})\n",
    "\n",
    "# plot the data with a categorical plot\n",
    "g = sns.catplot(data=new_df2, kind='bar', x='city', y= 'Percent', hue='host_type', legend = False, palette = c, edgecolor = \"none\", hue_order=['single_listing', '2-3_listings', '4-10_listings', 'above_10'])\n",
    "\n",
    "g.ax.set_ylim(0,100)\n",
    "\n",
    "titel = plt.title('Percentage of host types in the different cities')\n",
    "plt.legend(labelcolor='white', edgecolor = 'none', loc='upper left')  \n",
    "\n",
    "#legend = plt.legend(['Entire home/apt', 'Private room', 'Hotel room', 'Shared room'], loc=2, frameon=False)   \n",
    "#for text in legend.get_texts():\n",
    "#    text.set_color(\"white\")\n",
    "\n",
    "# change axes labels and ticks to white    \n",
    "xlabel = plt.xlabel('Type of accomodation')\n",
    "ylabel = plt.ylabel('Percentage of offers')\n",
    "\n",
    "xlabel.set_color(\"white\")\n",
    "ylabel.set_color(\"white\")\n",
    "\n",
    "xtick = plt.xticks(rotation=0, color='white')\n",
    "g.set_xticklabels(['Barcelona','Stockholm','Rome'])\n",
    "ytick = plt.yticks(color=\"white\")\n",
    "g.set_yticklabels(['0','20%','40%','60%','80%','100%'])\n",
    "\n",
    "titel.set_color(\"white\")\n",
    "\n",
    "      \n",
    "# Turns off grid on the left Axis.\n",
    "ax.grid(False)\n",
    "g.ax.yaxis.grid(False)\n",
    "sns.despine()\n",
    "\n",
    "# set figure size in inches   \n",
    "g.fig.set_size_inches(8,5);"
   ]
  },
  {
   "cell_type": "code",
   "execution_count": null,
   "id": "802a8151-cef1-4ffc-8208-6bd5429eeb3c",
   "metadata": {},
   "outputs": [],
   "source": []
  },
  {
   "cell_type": "markdown",
   "id": "a4dcb65d-c1c8-4305-9cc3-a70b46b14bc0",
   "metadata": {},
   "source": [
    "### Figure 3: Lenght of stay"
   ]
  },
  {
   "cell_type": "markdown",
   "id": "b55f6531-6f3e-4c8b-9509-00808d292c7a",
   "metadata": {},
   "source": [
    "In Barcelona for offering short terms accomodation (shorter than 31 day) a license is needed. However, long term offers do not need a license. "
   ]
  },
  {
   "cell_type": "code",
   "execution_count": 50,
   "id": "08c397eb-76d4-4cda-8599-04d844cc172e",
   "metadata": {
    "tags": []
   },
   "outputs": [
    {
     "data": {
      "text/plain": [
       "Index(['id', 'host_id', 'room_type', 'price', 'minimum_nights', 'host_type',\n",
       "       'city'],\n",
       "      dtype='object')"
      ]
     },
     "execution_count": 50,
     "metadata": {},
     "output_type": "execute_result"
    }
   ],
   "source": [
    "df_3.columns"
   ]
  },
  {
   "cell_type": "code",
   "execution_count": 51,
   "id": "6952fb3d-af19-480d-8b89-d715ae2bdaad",
   "metadata": {
    "tags": []
   },
   "outputs": [],
   "source": [
    "conditions = [\n",
    "    (df_3['minimum_nights'] <= 31),\n",
    "    (df_3['minimum_nights'] > 31),\n",
    "    ]"
   ]
  },
  {
   "cell_type": "code",
   "execution_count": 52,
   "id": "e848f14d-aa76-4062-8653-2d076817a79d",
   "metadata": {
    "tags": []
   },
   "outputs": [],
   "source": [
    "values = ['short_stay', 'long_stay']"
   ]
  },
  {
   "cell_type": "code",
   "execution_count": 53,
   "id": "fe9b8d62-cedc-4cad-b990-9a497b13df66",
   "metadata": {
    "tags": []
   },
   "outputs": [],
   "source": [
    "df_3['stay'] = np.select(conditions, values)"
   ]
  },
  {
   "cell_type": "code",
   "execution_count": 54,
   "id": "3419d7a2-e9fd-462d-9595-d5c8d2d16388",
   "metadata": {
    "tags": []
   },
   "outputs": [
    {
     "data": {
      "text/html": [
       "<div>\n",
       "<style scoped>\n",
       "    .dataframe tbody tr th:only-of-type {\n",
       "        vertical-align: middle;\n",
       "    }\n",
       "\n",
       "    .dataframe tbody tr th {\n",
       "        vertical-align: top;\n",
       "    }\n",
       "\n",
       "    .dataframe thead th {\n",
       "        text-align: right;\n",
       "    }\n",
       "</style>\n",
       "<table border=\"1\" class=\"dataframe\">\n",
       "  <thead>\n",
       "    <tr style=\"text-align: right;\">\n",
       "      <th></th>\n",
       "      <th>id</th>\n",
       "      <th>host_id</th>\n",
       "      <th>room_type</th>\n",
       "      <th>price</th>\n",
       "      <th>minimum_nights</th>\n",
       "      <th>host_type</th>\n",
       "      <th>city</th>\n",
       "      <th>stay</th>\n",
       "    </tr>\n",
       "  </thead>\n",
       "  <tbody>\n",
       "    <tr>\n",
       "      <th>0</th>\n",
       "      <td>13977576</td>\n",
       "      <td>64903899</td>\n",
       "      <td>Private room</td>\n",
       "      <td>12.0</td>\n",
       "      <td>1</td>\n",
       "      <td>single_listing</td>\n",
       "      <td>BCN</td>\n",
       "      <td>short_stay</td>\n",
       "    </tr>\n",
       "    <tr>\n",
       "      <th>1</th>\n",
       "      <td>42105584</td>\n",
       "      <td>333969184</td>\n",
       "      <td>Private room</td>\n",
       "      <td>25.0</td>\n",
       "      <td>2</td>\n",
       "      <td>single_listing</td>\n",
       "      <td>BCN</td>\n",
       "      <td>short_stay</td>\n",
       "    </tr>\n",
       "    <tr>\n",
       "      <th>2</th>\n",
       "      <td>33727898</td>\n",
       "      <td>251710733</td>\n",
       "      <td>Entire home/apt</td>\n",
       "      <td>300.0</td>\n",
       "      <td>4</td>\n",
       "      <td>4-10_listings</td>\n",
       "      <td>BCN</td>\n",
       "      <td>short_stay</td>\n",
       "    </tr>\n",
       "    <tr>\n",
       "      <th>3</th>\n",
       "      <td>44995311</td>\n",
       "      <td>363074093</td>\n",
       "      <td>Private room</td>\n",
       "      <td>83.0</td>\n",
       "      <td>1</td>\n",
       "      <td>4-10_listings</td>\n",
       "      <td>BCN</td>\n",
       "      <td>short_stay</td>\n",
       "    </tr>\n",
       "    <tr>\n",
       "      <th>4</th>\n",
       "      <td>15763812</td>\n",
       "      <td>101927904</td>\n",
       "      <td>Private room</td>\n",
       "      <td>38.0</td>\n",
       "      <td>2</td>\n",
       "      <td>single_listing</td>\n",
       "      <td>BCN</td>\n",
       "      <td>short_stay</td>\n",
       "    </tr>\n",
       "  </tbody>\n",
       "</table>\n",
       "</div>"
      ],
      "text/plain": [
       "         id    host_id        room_type  price  minimum_nights   \n",
       "0  13977576   64903899     Private room   12.0               1  \\\n",
       "1  42105584  333969184     Private room   25.0               2   \n",
       "2  33727898  251710733  Entire home/apt  300.0               4   \n",
       "3  44995311  363074093     Private room   83.0               1   \n",
       "4  15763812  101927904     Private room   38.0               2   \n",
       "\n",
       "        host_type city        stay  \n",
       "0  single_listing  BCN  short_stay  \n",
       "1  single_listing  BCN  short_stay  \n",
       "2   4-10_listings  BCN  short_stay  \n",
       "3   4-10_listings  BCN  short_stay  \n",
       "4  single_listing  BCN  short_stay  "
      ]
     },
     "execution_count": 54,
     "metadata": {},
     "output_type": "execute_result"
    }
   ],
   "source": [
    "df_3.head()"
   ]
  },
  {
   "cell_type": "code",
   "execution_count": 55,
   "id": "2be9d8da-3ef5-4718-91e6-f81d156b225b",
   "metadata": {
    "tags": []
   },
   "outputs": [
    {
     "data": {
      "image/png": "[encoded data removed]",
      "text/plain": [
       "<Figure size 800x500 with 1 Axes>"
      ]
     },
     "metadata": {},
     "output_type": "display_data"
    }
   ],
   "source": [
    "# set the background color to #242424 \n",
    "sns.set(rc={'axes.facecolor':'#242424', 'figure.facecolor':'#242424'})\n",
    "\n",
    "# plot the data with a categorical plot\n",
    "g = sns.catplot(data=df_3, kind='count', x= 'stay', hue = 'city',  legend = '', palette = c, edgecolor = 'none')\n",
    "\n",
    "titel = plt.title('Length of stay offered in the different cities')\n",
    "legend = plt.legend(['Barcelona', 'Stockholm', 'Rome'], loc=1, frameon=False)   \n",
    "for text in legend.get_texts():\n",
    "    text.set_color(\"white\")\n",
    "\n",
    "# change axes labels and ticks to white    \n",
    "xlabel = plt.xlabel('Length of stay')\n",
    "ylabel = plt.ylabel('Number of offers')\n",
    "\n",
    "xlabel.set_color(\"white\")\n",
    "ylabel.set_color(\"white\")\n",
    "\n",
    "xtick = plt.xticks(rotation=45, color='white')\n",
    "ytick = plt.yticks(color=\"white\")\n",
    "\n",
    "titel.set_color(\"white\")\n",
    "\n",
    "\n",
    "# iterate through axes\n",
    "for ax in g.axes.ravel():\n",
    "    \n",
    "    # add annotations to all bars on the graph\n",
    "    for label in ax.containers:\n",
    "        # add custom labels with the labels=labels parameter if needed\n",
    "        # labels = [f'{h}' if (h := v.get_height()) > 0 else '' for v in c]\n",
    "        ax.bar_label(label, label_type='edge', color = \"white\")\n",
    "    ax.margins(y=0.2)  \n",
    "\n",
    "# Turns off grid on the left Axis.\n",
    "ax.grid(False)\n",
    "\n",
    "# set figure size in inches   \n",
    "g.fig.set_size_inches(8,5);"
   ]
  },
  {
   "cell_type": "markdown",
   "id": "5a64d0e1-444c-4a4f-90c4-c4895b58fbbb",
   "metadata": {},
   "source": [
    "### Figure 3b - with % on the y axis"
   ]
  },
  {
   "cell_type": "code",
   "execution_count": 85,
   "id": "ec3841e6-cb24-4e89-8fac-91344fe55735",
   "metadata": {
    "tags": []
   },
   "outputs": [],
   "source": [
    "new_df3 = df_3.groupby('city')['stay'].value_counts(normalize=True)\n",
    "new_df3 = new_df3.mul(100).rename('Percent').reset_index()"
   ]
  },
  {
   "cell_type": "code",
   "execution_count": 86,
   "id": "42f8ee54-779b-4edb-8cd3-4b8a812a4b8d",
   "metadata": {
    "tags": []
   },
   "outputs": [
    {
     "data": {
      "text/html": [
       "<div>\n",
       "<style scoped>\n",
       "    .dataframe tbody tr th:only-of-type {\n",
       "        vertical-align: middle;\n",
       "    }\n",
       "\n",
       "    .dataframe tbody tr th {\n",
       "        vertical-align: top;\n",
       "    }\n",
       "\n",
       "    .dataframe thead th {\n",
       "        text-align: right;\n",
       "    }\n",
       "</style>\n",
       "<table border=\"1\" class=\"dataframe\">\n",
       "  <thead>\n",
       "    <tr style=\"text-align: right;\">\n",
       "      <th></th>\n",
       "      <th>city</th>\n",
       "      <th>stay</th>\n",
       "      <th>Percent</th>\n",
       "    </tr>\n",
       "  </thead>\n",
       "  <tbody>\n",
       "    <tr>\n",
       "      <th>0</th>\n",
       "      <td>BCN</td>\n",
       "      <td>short_stay</td>\n",
       "      <td>81.373363</td>\n",
       "    </tr>\n",
       "    <tr>\n",
       "      <th>1</th>\n",
       "      <td>BCN</td>\n",
       "      <td>long_stay</td>\n",
       "      <td>18.626637</td>\n",
       "    </tr>\n",
       "    <tr>\n",
       "      <th>2</th>\n",
       "      <td>ROM</td>\n",
       "      <td>short_stay</td>\n",
       "      <td>99.374097</td>\n",
       "    </tr>\n",
       "    <tr>\n",
       "      <th>3</th>\n",
       "      <td>ROM</td>\n",
       "      <td>long_stay</td>\n",
       "      <td>0.625903</td>\n",
       "    </tr>\n",
       "    <tr>\n",
       "      <th>4</th>\n",
       "      <td>STHLM</td>\n",
       "      <td>short_stay</td>\n",
       "      <td>97.005091</td>\n",
       "    </tr>\n",
       "    <tr>\n",
       "      <th>5</th>\n",
       "      <td>STHLM</td>\n",
       "      <td>long_stay</td>\n",
       "      <td>2.994909</td>\n",
       "    </tr>\n",
       "  </tbody>\n",
       "</table>\n",
       "</div>"
      ],
      "text/plain": [
       "    city        stay    Percent\n",
       "0    BCN  short_stay  81.373363\n",
       "1    BCN   long_stay  18.626637\n",
       "2    ROM  short_stay  99.374097\n",
       "3    ROM   long_stay   0.625903\n",
       "4  STHLM  short_stay  97.005091\n",
       "5  STHLM   long_stay   2.994909"
      ]
     },
     "execution_count": 86,
     "metadata": {},
     "output_type": "execute_result"
    }
   ],
   "source": [
    "new_df3"
   ]
  },
  {
   "cell_type": "code",
   "execution_count": 93,
   "id": "d7f768c1-91d0-4aed-adaf-5adf44720017",
   "metadata": {
    "tags": []
   },
   "outputs": [
    {
     "data": {
      "image/png": "[encoded data removed]",
      "text/plain": [
       "<Figure size 800x500 with 1 Axes>"
      ]
     },
     "metadata": {},
     "output_type": "display_data"
    }
   ],
   "source": [
    "# set the background color to #242424 \n",
    "sns.set(rc={'axes.facecolor':'#242424', 'figure.facecolor':'#242424'})\n",
    "\n",
    "# plot the data with a categorical plot\n",
    "g = sns.catplot(data=new_df3, kind='bar', x='city', y= 'Percent', hue='stay', legend = False, palette = c, edgecolor = \"none\", hue_order=['short_stay', 'long_stay'])\n",
    "\n",
    "g.ax.set_ylim(0,100)\n",
    "\n",
    "titel = plt.title('Percentage of accomodation offered for short and long stays in the different cities')\n",
    "plt.legend(labelcolor='white', edgecolor = 'none', loc='upper left')  \n",
    "\n",
    "#legend = plt.legend(['Entire home/apt', 'Private room', 'Hotel room', 'Shared room'], loc=2, frameon=False)   \n",
    "#for text in legend.get_texts():\n",
    "#    text.set_color(\"white\")\n",
    "\n",
    "# change axes labels and ticks to white    \n",
    "xlabel = plt.xlabel('Duration of stay')\n",
    "ylabel = plt.ylabel('Percentage of offers')\n",
    "\n",
    "xlabel.set_color(\"white\")\n",
    "ylabel.set_color(\"white\")\n",
    "\n",
    "xtick = plt.xticks(rotation=0, color='white')\n",
    "g.set_xticklabels(['Barcelona','Stockholm','Rome'])\n",
    "ytick = plt.yticks(color=\"white\")\n",
    "g.set_yticklabels(['0','20%','40%','60%','80%','100%'])\n",
    "\n",
    "titel.set_color(\"white\")\n",
    "\n",
    "      \n",
    "# Turns off grid on the left Axis.\n",
    "ax.grid(False)\n",
    "g.ax.yaxis.grid(False)\n",
    "sns.despine()\n",
    "\n",
    "# set figure size in inches   \n",
    "g.fig.set_size_inches(8,5);"
   ]
  },
  {
   "cell_type": "code",
   "execution_count": null,
   "id": "d6ccb7c0-50ab-4011-9982-1317bb48004d",
   "metadata": {},
   "outputs": [],
   "source": []
  },
  {
   "cell_type": "code",
   "execution_count": null,
   "id": "6279e8f7-12b7-411c-9385-87b94b304fea",
   "metadata": {},
   "outputs": [],
   "source": []
  },
  {
   "cell_type": "markdown",
   "id": "70355837-92b9-419f-a4cf-945b08f9a3ce",
   "metadata": {},
   "source": [
    "### Figure 4: Average price/accomodation type in the 3 cities"
   ]
  },
  {
   "cell_type": "code",
   "execution_count": 57,
   "id": "f4fc68f9-60b7-4a5f-8250-c399fd383da0",
   "metadata": {
    "tags": []
   },
   "outputs": [
    {
     "name": "stdout",
     "output_type": "stream",
     "text": [
      "<class 'pandas.core.frame.DataFrame'>\n",
      "Index: 43918 entries, 0 to 24923\n",
      "Data columns (total 8 columns):\n",
      " #   Column          Non-Null Count  Dtype  \n",
      "---  ------          --------------  -----  \n",
      " 0   id              43918 non-null  int64  \n",
      " 1   host_id         43918 non-null  int64  \n",
      " 2   room_type       43918 non-null  object \n",
      " 3   price           43918 non-null  float64\n",
      " 4   minimum_nights  43918 non-null  int64  \n",
      " 5   host_type       43918 non-null  object \n",
      " 6   city            43918 non-null  object \n",
      " 7   stay            43918 non-null  object \n",
      "dtypes: float64(1), int64(3), object(4)\n",
      "memory usage: 3.0+ MB\n"
     ]
    }
   ],
   "source": [
    "df_3.info()"
   ]
  },
  {
   "cell_type": "code",
   "execution_count": 58,
   "id": "ac761634-041b-4174-82d3-b5f1f50c1367",
   "metadata": {
    "tags": []
   },
   "outputs": [
    {
     "data": {
      "text/html": [
       "<div>\n",
       "<style scoped>\n",
       "    .dataframe tbody tr th:only-of-type {\n",
       "        vertical-align: middle;\n",
       "    }\n",
       "\n",
       "    .dataframe tbody tr th {\n",
       "        vertical-align: top;\n",
       "    }\n",
       "\n",
       "    .dataframe thead th {\n",
       "        text-align: right;\n",
       "    }\n",
       "</style>\n",
       "<table border=\"1\" class=\"dataframe\">\n",
       "  <thead>\n",
       "    <tr style=\"text-align: right;\">\n",
       "      <th></th>\n",
       "      <th>count</th>\n",
       "      <th>mean</th>\n",
       "      <th>std</th>\n",
       "      <th>min</th>\n",
       "      <th>25%</th>\n",
       "      <th>50%</th>\n",
       "      <th>75%</th>\n",
       "      <th>max</th>\n",
       "    </tr>\n",
       "    <tr>\n",
       "      <th>room_type</th>\n",
       "      <th></th>\n",
       "      <th></th>\n",
       "      <th></th>\n",
       "      <th></th>\n",
       "      <th></th>\n",
       "      <th></th>\n",
       "      <th></th>\n",
       "      <th></th>\n",
       "    </tr>\n",
       "  </thead>\n",
       "  <tbody>\n",
       "    <tr>\n",
       "      <th>Entire home/apt</th>\n",
       "      <td>29173.0</td>\n",
       "      <td>214.231924</td>\n",
       "      <td>1650.313379</td>\n",
       "      <td>10.0</td>\n",
       "      <td>84.0</td>\n",
       "      <td>122.0</td>\n",
       "      <td>183.0</td>\n",
       "      <td>100180.0</td>\n",
       "    </tr>\n",
       "    <tr>\n",
       "      <th>Hotel room</th>\n",
       "      <td>870.0</td>\n",
       "      <td>213.953757</td>\n",
       "      <td>389.588034</td>\n",
       "      <td>0.0</td>\n",
       "      <td>85.0</td>\n",
       "      <td>124.0</td>\n",
       "      <td>188.0</td>\n",
       "      <td>4600.0</td>\n",
       "    </tr>\n",
       "    <tr>\n",
       "      <th>Private room</th>\n",
       "      <td>13512.0</td>\n",
       "      <td>140.409512</td>\n",
       "      <td>1398.808698</td>\n",
       "      <td>8.0</td>\n",
       "      <td>40.0</td>\n",
       "      <td>61.0</td>\n",
       "      <td>100.0</td>\n",
       "      <td>90000.0</td>\n",
       "    </tr>\n",
       "    <tr>\n",
       "      <th>Shared room</th>\n",
       "      <td>363.0</td>\n",
       "      <td>56.795079</td>\n",
       "      <td>79.977676</td>\n",
       "      <td>9.0</td>\n",
       "      <td>25.0</td>\n",
       "      <td>36.0</td>\n",
       "      <td>57.0</td>\n",
       "      <td>760.0</td>\n",
       "    </tr>\n",
       "  </tbody>\n",
       "</table>\n",
       "</div>"
      ],
      "text/plain": [
       "                   count        mean          std   min   25%    50%    75%   \n",
       "room_type                                                                     \n",
       "Entire home/apt  29173.0  214.231924  1650.313379  10.0  84.0  122.0  183.0  \\\n",
       "Hotel room         870.0  213.953757   389.588034   0.0  85.0  124.0  188.0   \n",
       "Private room     13512.0  140.409512  1398.808698   8.0  40.0   61.0  100.0   \n",
       "Shared room        363.0   56.795079    79.977676   9.0  25.0   36.0   57.0   \n",
       "\n",
       "                      max  \n",
       "room_type                  \n",
       "Entire home/apt  100180.0  \n",
       "Hotel room         4600.0  \n",
       "Private room      90000.0  \n",
       "Shared room         760.0  "
      ]
     },
     "execution_count": 58,
     "metadata": {},
     "output_type": "execute_result"
    }
   ],
   "source": [
    "df_3.groupby('room_type').price.describe()"
   ]
  },
  {
   "cell_type": "code",
   "execution_count": 59,
   "id": "4cc54b69-a897-4100-96f5-35ca55dcf22b",
   "metadata": {
    "tags": []
   },
   "outputs": [
    {
     "data": {
      "text/plain": [
       "city   room_type      \n",
       "BCN    Entire home/apt    180.903836\n",
       "       Hotel room         206.040268\n",
       "       Private room       116.620520\n",
       "       Shared room         47.878205\n",
       "ROM    Entire home/apt    239.018137\n",
       "       Hotel room         223.069971\n",
       "       Private room       158.053876\n",
       "       Shared room         63.137725\n",
       "STHLM  Entire home/apt    172.878887\n",
       "       Hotel room          68.964823\n",
       "       Private room       166.579454\n",
       "       Shared room         65.090345\n",
       "Name: price, dtype: float64"
      ]
     },
     "execution_count": 59,
     "metadata": {},
     "output_type": "execute_result"
    }
   ],
   "source": [
    "df_3.groupby(['city','room_type']).price.mean()\n"
   ]
  },
  {
   "cell_type": "code",
   "execution_count": 60,
   "id": "2f257e39-684a-4a15-81b8-0132dd0f50c1",
   "metadata": {
    "tags": []
   },
   "outputs": [],
   "source": [
    "# creating a new dataset without the price outliers, with the assumption the an accomodation/ night costs less than 2000 Euro\n",
    "\n",
    "df_price = df_3.loc[df_3['price'] < 2000]\n",
    "\n"
   ]
  },
  {
   "cell_type": "code",
   "execution_count": 61,
   "id": "d8539201-2618-4bcd-a02d-24dcb17f42c1",
   "metadata": {
    "tags": []
   },
   "outputs": [
    {
     "data": {
      "text/plain": [
       "array(['BCN', 'STHLM', 'ROM'], dtype=object)"
      ]
     },
     "execution_count": 61,
     "metadata": {},
     "output_type": "execute_result"
    }
   ],
   "source": [
    "df_price.city.unique()"
   ]
  },
  {
   "cell_type": "code",
   "execution_count": 62,
   "id": "b68adab9-c441-4583-97e3-269cfe0a3736",
   "metadata": {
    "tags": []
   },
   "outputs": [
    {
     "data": {
      "text/html": [
       "<div>\n",
       "<style scoped>\n",
       "    .dataframe tbody tr th:only-of-type {\n",
       "        vertical-align: middle;\n",
       "    }\n",
       "\n",
       "    .dataframe tbody tr th {\n",
       "        vertical-align: top;\n",
       "    }\n",
       "\n",
       "    .dataframe thead th {\n",
       "        text-align: right;\n",
       "    }\n",
       "</style>\n",
       "<table border=\"1\" class=\"dataframe\">\n",
       "  <thead>\n",
       "    <tr style=\"text-align: right;\">\n",
       "      <th></th>\n",
       "      <th>count</th>\n",
       "      <th>mean</th>\n",
       "      <th>std</th>\n",
       "      <th>min</th>\n",
       "      <th>25%</th>\n",
       "      <th>50%</th>\n",
       "      <th>75%</th>\n",
       "      <th>max</th>\n",
       "    </tr>\n",
       "    <tr>\n",
       "      <th>room_type</th>\n",
       "      <th></th>\n",
       "      <th></th>\n",
       "      <th></th>\n",
       "      <th></th>\n",
       "      <th></th>\n",
       "      <th></th>\n",
       "      <th></th>\n",
       "      <th></th>\n",
       "    </tr>\n",
       "  </thead>\n",
       "  <tbody>\n",
       "    <tr>\n",
       "      <th>Entire home/apt</th>\n",
       "      <td>29059.0</td>\n",
       "      <td>161.291545</td>\n",
       "      <td>150.179983</td>\n",
       "      <td>10.0</td>\n",
       "      <td>84.0</td>\n",
       "      <td>121.0000</td>\n",
       "      <td>182.0</td>\n",
       "      <td>1999.0</td>\n",
       "    </tr>\n",
       "    <tr>\n",
       "      <th>Hotel room</th>\n",
       "      <td>855.0</td>\n",
       "      <td>169.418443</td>\n",
       "      <td>184.463308</td>\n",
       "      <td>0.0</td>\n",
       "      <td>84.0</td>\n",
       "      <td>122.2955</td>\n",
       "      <td>182.0</td>\n",
       "      <td>1449.0</td>\n",
       "    </tr>\n",
       "    <tr>\n",
       "      <th>Private room</th>\n",
       "      <td>13449.0</td>\n",
       "      <td>89.427600</td>\n",
       "      <td>107.138103</td>\n",
       "      <td>8.0</td>\n",
       "      <td>40.0</td>\n",
       "      <td>61.0000</td>\n",
       "      <td>100.0</td>\n",
       "      <td>1971.0</td>\n",
       "    </tr>\n",
       "    <tr>\n",
       "      <th>Shared room</th>\n",
       "      <td>363.0</td>\n",
       "      <td>56.795079</td>\n",
       "      <td>79.977676</td>\n",
       "      <td>9.0</td>\n",
       "      <td>25.0</td>\n",
       "      <td>36.0000</td>\n",
       "      <td>57.0</td>\n",
       "      <td>760.0</td>\n",
       "    </tr>\n",
       "  </tbody>\n",
       "</table>\n",
       "</div>"
      ],
      "text/plain": [
       "                   count        mean         std   min   25%       50%    75%   \n",
       "room_type                                                                       \n",
       "Entire home/apt  29059.0  161.291545  150.179983  10.0  84.0  121.0000  182.0  \\\n",
       "Hotel room         855.0  169.418443  184.463308   0.0  84.0  122.2955  182.0   \n",
       "Private room     13449.0   89.427600  107.138103   8.0  40.0   61.0000  100.0   \n",
       "Shared room        363.0   56.795079   79.977676   9.0  25.0   36.0000   57.0   \n",
       "\n",
       "                    max  \n",
       "room_type                \n",
       "Entire home/apt  1999.0  \n",
       "Hotel room       1449.0  \n",
       "Private room     1971.0  \n",
       "Shared room       760.0  "
      ]
     },
     "execution_count": 62,
     "metadata": {},
     "output_type": "execute_result"
    }
   ],
   "source": [
    "df_price.groupby('room_type').price.describe()"
   ]
  },
  {
   "cell_type": "code",
   "execution_count": 63,
   "id": "6d825c32-dc1b-4931-8f6d-58762bfd44d5",
   "metadata": {
    "tags": []
   },
   "outputs": [
    {
     "data": {
      "image/png": "[encoded data removed]",
      "text/plain": [
       "<Figure size 800x500 with 1 Axes>"
      ]
     },
     "metadata": {},
     "output_type": "display_data"
    }
   ],
   "source": [
    "# set the background color to #242424 \n",
    "sns.set(rc={'axes.facecolor':'#242424', 'figure.facecolor':'#242424'})\n",
    "\n",
    "\n",
    "# plot the data with a categorical plot\n",
    "g = sns.barplot(data=df_price, x= 'room_type', y= 'price', hue = 'city', errorbar = None, estimator=np.mean, palette = c, edgecolor = 'none')\n",
    "\n",
    "\n",
    "legend = plt.legend(['Barcelona', 'Stockholm', 'Rome'], loc=1, frameon=False)   \n",
    "titel = plt.title('Average price / accomodation type in the different cities')\n",
    "for text in legend.get_texts():\n",
    "    text.set_color(\"white\")\n",
    "\n",
    "\n",
    "# change axes labels and ticks to white    \n",
    "xlabel = plt.xlabel('Type of accomodation')\n",
    "ylabel = plt.ylabel('Average price/ night (€)')\n",
    "\n",
    "xlabel.set_color(\"white\")\n",
    "ylabel.set_color(\"white\")\n",
    "\n",
    "xtick = plt.xticks(rotation=45, color='white')\n",
    "ytick = plt.yticks(color=\"white\")\n",
    "\n",
    "titel.set_color(\"white\")\n",
    "\n",
    "# Turns off grids\n",
    "g.yaxis.grid(False)\n",
    "sns.despine()\n",
    "\n",
    "# set figure size in inches   \n",
    "plt.gcf().set_size_inches(8,5);\n"
   ]
  },
  {
   "cell_type": "code",
   "execution_count": 64,
   "id": "acd4e9d6-726b-4af7-b639-5f97095f84e6",
   "metadata": {
    "tags": []
   },
   "outputs": [
    {
     "name": "stdout",
     "output_type": "stream",
     "text": [
      "<class 'pandas.core.frame.DataFrame'>\n",
      "Index: 43918 entries, 0 to 24923\n",
      "Data columns (total 8 columns):\n",
      " #   Column          Non-Null Count  Dtype  \n",
      "---  ------          --------------  -----  \n",
      " 0   id              43918 non-null  int64  \n",
      " 1   host_id         43918 non-null  int64  \n",
      " 2   room_type       43918 non-null  object \n",
      " 3   price           43918 non-null  float64\n",
      " 4   minimum_nights  43918 non-null  int64  \n",
      " 5   host_type       43918 non-null  object \n",
      " 6   city            43918 non-null  object \n",
      " 7   stay            43918 non-null  object \n",
      "dtypes: float64(1), int64(3), object(4)\n",
      "memory usage: 3.0+ MB\n"
     ]
    }
   ],
   "source": [
    "df_3.info()"
   ]
  },
  {
   "cell_type": "code",
   "execution_count": null,
   "id": "0253595b-4e69-403a-904d-1ca2301beb93",
   "metadata": {},
   "outputs": [],
   "source": []
  }
 ],
 "metadata": {
  "kernelspec": {
   "display_name": "Python 3 (ipykernel)",
   "language": "python",
   "name": "python3"
  },
  "language_info": {
   "codemirror_mode": {
    "name": "ipython",
    "version": 3
   },
   "file_extension": ".py",
   "mimetype": "text/x-python",
   "name": "python",
   "nbconvert_exporter": "python",
   "pygments_lexer": "ipython3",
   "version": "3.9.8"
  }
 },
 "nbformat": 4,
 "nbformat_minor": 5
}
